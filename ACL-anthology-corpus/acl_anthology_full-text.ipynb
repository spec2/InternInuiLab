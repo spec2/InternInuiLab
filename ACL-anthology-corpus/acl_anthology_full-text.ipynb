{
 "cells": [
  {
   "cell_type": "code",
   "execution_count": 2,
   "metadata": {},
   "outputs": [
    {
     "name": "stderr",
     "output_type": "stream",
     "text": [
      "[nltk_data] Downloading package punkt to /home/a2211506/nltk_data...\n",
      "[nltk_data]   Package punkt is already up-to-date!\n"
     ]
    }
   ],
   "source": [
    "import pandas as pd\n",
    "import numpy as np\n",
    "from gensim.test.utils import common_texts\n",
    "from gensim.models.doc2vec import Doc2Vec, TaggedDocument\n",
    "import nltk\n",
    "nltk.download('punkt')\n",
    "from sklearn.decomposition import PCA\n",
    "import matplotlib.pyplot as plt\n",
    "import pickle\n",
    "from sklearn.manifold import TSNE\n",
    "import mplcursors\n",
    "%matplotlib widget"
   ]
  },
  {
   "cell_type": "code",
   "execution_count": 4,
   "metadata": {},
   "outputs": [],
   "source": [
    "acl_full_text = pd.read_parquet('acl_corpus_full-text.parquet')"
   ]
  },
  {
   "cell_type": "code",
   "execution_count": 5,
   "metadata": {},
   "outputs": [
    {
     "data": {
      "text/html": [
       "<div>\n",
       "<style scoped>\n",
       "    .dataframe tbody tr th:only-of-type {\n",
       "        vertical-align: middle;\n",
       "    }\n",
       "\n",
       "    .dataframe tbody tr th {\n",
       "        vertical-align: top;\n",
       "    }\n",
       "\n",
       "    .dataframe thead th {\n",
       "        text-align: right;\n",
       "    }\n",
       "</style>\n",
       "<table border=\"1\" class=\"dataframe\">\n",
       "  <thead>\n",
       "    <tr style=\"text-align: right;\">\n",
       "      <th></th>\n",
       "      <th>acl_id</th>\n",
       "      <th>title</th>\n",
       "      <th>abstract</th>\n",
       "      <th>full_text</th>\n",
       "    </tr>\n",
       "  </thead>\n",
       "  <tbody>\n",
       "    <tr>\n",
       "      <th>0</th>\n",
       "      <td>O02-2002</td>\n",
       "      <td>A Study on Word Similarity using Context Vecto...</td>\n",
       "      <td>There is a need to measure word similarity whe...</td>\n",
       "      <td>There is a need to measure word similarity whe...</td>\n",
       "    </tr>\n",
       "    <tr>\n",
       "      <th>1</th>\n",
       "      <td>L02-1310</td>\n",
       "      <td></td>\n",
       "      <td></td>\n",
       "      <td></td>\n",
       "    </tr>\n",
       "    <tr>\n",
       "      <th>2</th>\n",
       "      <td>R13-1042</td>\n",
       "      <td>Headerless, Quoteless, but not Hopeless? Using...</td>\n",
       "      <td>Thread disentanglement is the task of separati...</td>\n",
       "      <td>Thread disentanglement is the task of separati...</td>\n",
       "    </tr>\n",
       "    <tr>\n",
       "      <th>3</th>\n",
       "      <td>W05-0819</td>\n",
       "      <td>Aligning words in English-Hindi parallel corpora</td>\n",
       "      <td>In this paper, we describe a word alignment al...</td>\n",
       "      <td>In this paper, we describe a word alignment al...</td>\n",
       "    </tr>\n",
       "    <tr>\n",
       "      <th>4</th>\n",
       "      <td>L02-1309</td>\n",
       "      <td></td>\n",
       "      <td></td>\n",
       "      <td></td>\n",
       "    </tr>\n",
       "    <tr>\n",
       "      <th>...</th>\n",
       "      <td>...</td>\n",
       "      <td>...</td>\n",
       "      <td>...</td>\n",
       "      <td>...</td>\n",
       "    </tr>\n",
       "    <tr>\n",
       "      <th>80008</th>\n",
       "      <td>P99-1056</td>\n",
       "      <td>The grapho-phonological system of written Fren...</td>\n",
       "      <td>The processes through which readers evoke ment...</td>\n",
       "      <td>The processes through which readers evoke ment...</td>\n",
       "    </tr>\n",
       "    <tr>\n",
       "      <th>80009</th>\n",
       "      <td>P99-1051</td>\n",
       "      <td>Acquiring Lexical Generalizations from Corpora...</td>\n",
       "      <td>This paper examines the extent to which verb d...</td>\n",
       "      <td>This paper examines the extent to which verb d...</td>\n",
       "    </tr>\n",
       "    <tr>\n",
       "      <th>80010</th>\n",
       "      <td>P99-1000</td>\n",
       "      <td>Using Aggregation for Selecting Content when G...</td>\n",
       "      <td>As co-chairs, we had two particular objectives...</td>\n",
       "      <td>As co-chairs, we had two particular objectives...</td>\n",
       "    </tr>\n",
       "    <tr>\n",
       "      <th>80011</th>\n",
       "      <td>P99-1</td>\n",
       "      <td></td>\n",
       "      <td></td>\n",
       "      <td></td>\n",
       "    </tr>\n",
       "    <tr>\n",
       "      <th>80012</th>\n",
       "      <td>P00-1013</td>\n",
       "      <td>Spoken Dialogue Management Using Probabilistic...</td>\n",
       "      <td>Spoken dialogue managers have benefited from u...</td>\n",
       "      <td>Spoken dialogue managers have benefited from u...</td>\n",
       "    </tr>\n",
       "  </tbody>\n",
       "</table>\n",
       "<p>80013 rows × 4 columns</p>\n",
       "</div>"
      ],
      "text/plain": [
       "         acl_id                                              title  \\\n",
       "0      O02-2002  A Study on Word Similarity using Context Vecto...   \n",
       "1      L02-1310                                                      \n",
       "2      R13-1042  Headerless, Quoteless, but not Hopeless? Using...   \n",
       "3      W05-0819   Aligning words in English-Hindi parallel corpora   \n",
       "4      L02-1309                                                      \n",
       "...         ...                                                ...   \n",
       "80008  P99-1056  The grapho-phonological system of written Fren...   \n",
       "80009  P99-1051  Acquiring Lexical Generalizations from Corpora...   \n",
       "80010  P99-1000  Using Aggregation for Selecting Content when G...   \n",
       "80011     P99-1                                                      \n",
       "80012  P00-1013  Spoken Dialogue Management Using Probabilistic...   \n",
       "\n",
       "                                                abstract  \\\n",
       "0      There is a need to measure word similarity whe...   \n",
       "1                                                          \n",
       "2      Thread disentanglement is the task of separati...   \n",
       "3      In this paper, we describe a word alignment al...   \n",
       "4                                                          \n",
       "...                                                  ...   \n",
       "80008  The processes through which readers evoke ment...   \n",
       "80009  This paper examines the extent to which verb d...   \n",
       "80010  As co-chairs, we had two particular objectives...   \n",
       "80011                                                      \n",
       "80012  Spoken dialogue managers have benefited from u...   \n",
       "\n",
       "                                               full_text  \n",
       "0      There is a need to measure word similarity whe...  \n",
       "1                                                         \n",
       "2      Thread disentanglement is the task of separati...  \n",
       "3      In this paper, we describe a word alignment al...  \n",
       "4                                                         \n",
       "...                                                  ...  \n",
       "80008  The processes through which readers evoke ment...  \n",
       "80009  This paper examines the extent to which verb d...  \n",
       "80010  As co-chairs, we had two particular objectives...  \n",
       "80011                                                     \n",
       "80012  Spoken dialogue managers have benefited from u...  \n",
       "\n",
       "[80013 rows x 4 columns]"
      ]
     },
     "execution_count": 5,
     "metadata": {},
     "output_type": "execute_result"
    }
   ],
   "source": [
    "acl_full_text\n",
    "# p: acl pxx, xx: year"
   ]
  },
  {
   "cell_type": "code",
   "execution_count": 5,
   "metadata": {},
   "outputs": [
    {
     "data": {
      "text/html": [
       "<div>\n",
       "<style scoped>\n",
       "    .dataframe tbody tr th:only-of-type {\n",
       "        vertical-align: middle;\n",
       "    }\n",
       "\n",
       "    .dataframe tbody tr th {\n",
       "        vertical-align: top;\n",
       "    }\n",
       "\n",
       "    .dataframe thead th {\n",
       "        text-align: right;\n",
       "    }\n",
       "</style>\n",
       "<table border=\"1\" class=\"dataframe\">\n",
       "  <thead>\n",
       "    <tr style=\"text-align: right;\">\n",
       "      <th></th>\n",
       "      <th>acl_id</th>\n",
       "      <th>title</th>\n",
       "      <th>abstract</th>\n",
       "      <th>full_text</th>\n",
       "    </tr>\n",
       "  </thead>\n",
       "  <tbody>\n",
       "    <tr>\n",
       "      <th>0</th>\n",
       "      <td>O02-2002</td>\n",
       "      <td>A Study on Word Similarity using Context Vecto...</td>\n",
       "      <td>There is a need to measure word similarity whe...</td>\n",
       "      <td>There is a need to measure word similarity whe...</td>\n",
       "    </tr>\n",
       "    <tr>\n",
       "      <th>1</th>\n",
       "      <td>L02-1310</td>\n",
       "      <td></td>\n",
       "      <td></td>\n",
       "      <td></td>\n",
       "    </tr>\n",
       "    <tr>\n",
       "      <th>2</th>\n",
       "      <td>R13-1042</td>\n",
       "      <td>Headerless, Quoteless, but not Hopeless? Using...</td>\n",
       "      <td>Thread disentanglement is the task of separati...</td>\n",
       "      <td>Thread disentanglement is the task of separati...</td>\n",
       "    </tr>\n",
       "    <tr>\n",
       "      <th>3</th>\n",
       "      <td>W05-0819</td>\n",
       "      <td>Aligning words in English-Hindi parallel corpora</td>\n",
       "      <td>In this paper, we describe a word alignment al...</td>\n",
       "      <td>In this paper, we describe a word alignment al...</td>\n",
       "    </tr>\n",
       "    <tr>\n",
       "      <th>4</th>\n",
       "      <td>L02-1309</td>\n",
       "      <td></td>\n",
       "      <td></td>\n",
       "      <td></td>\n",
       "    </tr>\n",
       "    <tr>\n",
       "      <th>...</th>\n",
       "      <td>...</td>\n",
       "      <td>...</td>\n",
       "      <td>...</td>\n",
       "      <td>...</td>\n",
       "    </tr>\n",
       "    <tr>\n",
       "      <th>80008</th>\n",
       "      <td>P99-1056</td>\n",
       "      <td>The grapho-phonological system of written Fren...</td>\n",
       "      <td>The processes through which readers evoke ment...</td>\n",
       "      <td>The processes through which readers evoke ment...</td>\n",
       "    </tr>\n",
       "    <tr>\n",
       "      <th>80009</th>\n",
       "      <td>P99-1051</td>\n",
       "      <td>Acquiring Lexical Generalizations from Corpora...</td>\n",
       "      <td>This paper examines the extent to which verb d...</td>\n",
       "      <td>This paper examines the extent to which verb d...</td>\n",
       "    </tr>\n",
       "    <tr>\n",
       "      <th>80010</th>\n",
       "      <td>P99-1000</td>\n",
       "      <td>Using Aggregation for Selecting Content when G...</td>\n",
       "      <td>As co-chairs, we had two particular objectives...</td>\n",
       "      <td>As co-chairs, we had two particular objectives...</td>\n",
       "    </tr>\n",
       "    <tr>\n",
       "      <th>80011</th>\n",
       "      <td>P99-1</td>\n",
       "      <td></td>\n",
       "      <td></td>\n",
       "      <td></td>\n",
       "    </tr>\n",
       "    <tr>\n",
       "      <th>80012</th>\n",
       "      <td>P00-1013</td>\n",
       "      <td>Spoken Dialogue Management Using Probabilistic...</td>\n",
       "      <td>Spoken dialogue managers have benefited from u...</td>\n",
       "      <td>Spoken dialogue managers have benefited from u...</td>\n",
       "    </tr>\n",
       "  </tbody>\n",
       "</table>\n",
       "<p>80013 rows × 4 columns</p>\n",
       "</div>"
      ],
      "text/plain": [
       "         acl_id                                              title  \\\n",
       "0      O02-2002  A Study on Word Similarity using Context Vecto...   \n",
       "1      L02-1310                                                      \n",
       "2      R13-1042  Headerless, Quoteless, but not Hopeless? Using...   \n",
       "3      W05-0819   Aligning words in English-Hindi parallel corpora   \n",
       "4      L02-1309                                                      \n",
       "...         ...                                                ...   \n",
       "80008  P99-1056  The grapho-phonological system of written Fren...   \n",
       "80009  P99-1051  Acquiring Lexical Generalizations from Corpora...   \n",
       "80010  P99-1000  Using Aggregation for Selecting Content when G...   \n",
       "80011     P99-1                                                      \n",
       "80012  P00-1013  Spoken Dialogue Management Using Probabilistic...   \n",
       "\n",
       "                                                abstract  \\\n",
       "0      There is a need to measure word similarity whe...   \n",
       "1                                                          \n",
       "2      Thread disentanglement is the task of separati...   \n",
       "3      In this paper, we describe a word alignment al...   \n",
       "4                                                          \n",
       "...                                                  ...   \n",
       "80008  The processes through which readers evoke ment...   \n",
       "80009  This paper examines the extent to which verb d...   \n",
       "80010  As co-chairs, we had two particular objectives...   \n",
       "80011                                                      \n",
       "80012  Spoken dialogue managers have benefited from u...   \n",
       "\n",
       "                                               full_text  \n",
       "0      There is a need to measure word similarity whe...  \n",
       "1                                                         \n",
       "2      Thread disentanglement is the task of separati...  \n",
       "3      In this paper, we describe a word alignment al...  \n",
       "4                                                         \n",
       "...                                                  ...  \n",
       "80008  The processes through which readers evoke ment...  \n",
       "80009  This paper examines the extent to which verb d...  \n",
       "80010  As co-chairs, we had two particular objectives...  \n",
       "80011                                                     \n",
       "80012  Spoken dialogue managers have benefited from u...  \n",
       "\n",
       "[80013 rows x 4 columns]"
      ]
     },
     "execution_count": 5,
     "metadata": {},
     "output_type": "execute_result"
    }
   ],
   "source": [
    "acl_full_text"
   ]
  },
  {
   "cell_type": "code",
   "execution_count": 6,
   "metadata": {},
   "outputs": [],
   "source": [
    "acl_full_text\n",
    "acl_full_text.insert(1, 'year', 0)\n",
    "acl_full_text.insert(2, 'era_id', 0)"
   ]
  },
  {
   "cell_type": "code",
   "execution_count": 7,
   "metadata": {},
   "outputs": [
    {
     "data": {
      "text/html": [
       "<div>\n",
       "<style scoped>\n",
       "    .dataframe tbody tr th:only-of-type {\n",
       "        vertical-align: middle;\n",
       "    }\n",
       "\n",
       "    .dataframe tbody tr th {\n",
       "        vertical-align: top;\n",
       "    }\n",
       "\n",
       "    .dataframe thead th {\n",
       "        text-align: right;\n",
       "    }\n",
       "</style>\n",
       "<table border=\"1\" class=\"dataframe\">\n",
       "  <thead>\n",
       "    <tr style=\"text-align: right;\">\n",
       "      <th></th>\n",
       "      <th>acl_id</th>\n",
       "      <th>year</th>\n",
       "      <th>era_id</th>\n",
       "      <th>title</th>\n",
       "      <th>abstract</th>\n",
       "      <th>full_text</th>\n",
       "    </tr>\n",
       "  </thead>\n",
       "  <tbody>\n",
       "    <tr>\n",
       "      <th>0</th>\n",
       "      <td>O02-2002</td>\n",
       "      <td>0</td>\n",
       "      <td>0</td>\n",
       "      <td>A Study on Word Similarity using Context Vecto...</td>\n",
       "      <td>There is a need to measure word similarity whe...</td>\n",
       "      <td>There is a need to measure word similarity whe...</td>\n",
       "    </tr>\n",
       "    <tr>\n",
       "      <th>1</th>\n",
       "      <td>L02-1310</td>\n",
       "      <td>0</td>\n",
       "      <td>0</td>\n",
       "      <td></td>\n",
       "      <td></td>\n",
       "      <td></td>\n",
       "    </tr>\n",
       "    <tr>\n",
       "      <th>2</th>\n",
       "      <td>R13-1042</td>\n",
       "      <td>0</td>\n",
       "      <td>0</td>\n",
       "      <td>Headerless, Quoteless, but not Hopeless? Using...</td>\n",
       "      <td>Thread disentanglement is the task of separati...</td>\n",
       "      <td>Thread disentanglement is the task of separati...</td>\n",
       "    </tr>\n",
       "    <tr>\n",
       "      <th>3</th>\n",
       "      <td>W05-0819</td>\n",
       "      <td>0</td>\n",
       "      <td>0</td>\n",
       "      <td>Aligning words in English-Hindi parallel corpora</td>\n",
       "      <td>In this paper, we describe a word alignment al...</td>\n",
       "      <td>In this paper, we describe a word alignment al...</td>\n",
       "    </tr>\n",
       "    <tr>\n",
       "      <th>4</th>\n",
       "      <td>L02-1309</td>\n",
       "      <td>0</td>\n",
       "      <td>0</td>\n",
       "      <td></td>\n",
       "      <td></td>\n",
       "      <td></td>\n",
       "    </tr>\n",
       "    <tr>\n",
       "      <th>...</th>\n",
       "      <td>...</td>\n",
       "      <td>...</td>\n",
       "      <td>...</td>\n",
       "      <td>...</td>\n",
       "      <td>...</td>\n",
       "      <td>...</td>\n",
       "    </tr>\n",
       "    <tr>\n",
       "      <th>80008</th>\n",
       "      <td>P99-1056</td>\n",
       "      <td>0</td>\n",
       "      <td>0</td>\n",
       "      <td>The grapho-phonological system of written Fren...</td>\n",
       "      <td>The processes through which readers evoke ment...</td>\n",
       "      <td>The processes through which readers evoke ment...</td>\n",
       "    </tr>\n",
       "    <tr>\n",
       "      <th>80009</th>\n",
       "      <td>P99-1051</td>\n",
       "      <td>0</td>\n",
       "      <td>0</td>\n",
       "      <td>Acquiring Lexical Generalizations from Corpora...</td>\n",
       "      <td>This paper examines the extent to which verb d...</td>\n",
       "      <td>This paper examines the extent to which verb d...</td>\n",
       "    </tr>\n",
       "    <tr>\n",
       "      <th>80010</th>\n",
       "      <td>P99-1000</td>\n",
       "      <td>0</td>\n",
       "      <td>0</td>\n",
       "      <td>Using Aggregation for Selecting Content when G...</td>\n",
       "      <td>As co-chairs, we had two particular objectives...</td>\n",
       "      <td>As co-chairs, we had two particular objectives...</td>\n",
       "    </tr>\n",
       "    <tr>\n",
       "      <th>80011</th>\n",
       "      <td>P99-1</td>\n",
       "      <td>0</td>\n",
       "      <td>0</td>\n",
       "      <td></td>\n",
       "      <td></td>\n",
       "      <td></td>\n",
       "    </tr>\n",
       "    <tr>\n",
       "      <th>80012</th>\n",
       "      <td>P00-1013</td>\n",
       "      <td>0</td>\n",
       "      <td>0</td>\n",
       "      <td>Spoken Dialogue Management Using Probabilistic...</td>\n",
       "      <td>Spoken dialogue managers have benefited from u...</td>\n",
       "      <td>Spoken dialogue managers have benefited from u...</td>\n",
       "    </tr>\n",
       "  </tbody>\n",
       "</table>\n",
       "<p>80013 rows × 6 columns</p>\n",
       "</div>"
      ],
      "text/plain": [
       "         acl_id  year  era_id  \\\n",
       "0      O02-2002     0       0   \n",
       "1      L02-1310     0       0   \n",
       "2      R13-1042     0       0   \n",
       "3      W05-0819     0       0   \n",
       "4      L02-1309     0       0   \n",
       "...         ...   ...     ...   \n",
       "80008  P99-1056     0       0   \n",
       "80009  P99-1051     0       0   \n",
       "80010  P99-1000     0       0   \n",
       "80011     P99-1     0       0   \n",
       "80012  P00-1013     0       0   \n",
       "\n",
       "                                                   title  \\\n",
       "0      A Study on Word Similarity using Context Vecto...   \n",
       "1                                                          \n",
       "2      Headerless, Quoteless, but not Hopeless? Using...   \n",
       "3       Aligning words in English-Hindi parallel corpora   \n",
       "4                                                          \n",
       "...                                                  ...   \n",
       "80008  The grapho-phonological system of written Fren...   \n",
       "80009  Acquiring Lexical Generalizations from Corpora...   \n",
       "80010  Using Aggregation for Selecting Content when G...   \n",
       "80011                                                      \n",
       "80012  Spoken Dialogue Management Using Probabilistic...   \n",
       "\n",
       "                                                abstract  \\\n",
       "0      There is a need to measure word similarity whe...   \n",
       "1                                                          \n",
       "2      Thread disentanglement is the task of separati...   \n",
       "3      In this paper, we describe a word alignment al...   \n",
       "4                                                          \n",
       "...                                                  ...   \n",
       "80008  The processes through which readers evoke ment...   \n",
       "80009  This paper examines the extent to which verb d...   \n",
       "80010  As co-chairs, we had two particular objectives...   \n",
       "80011                                                      \n",
       "80012  Spoken dialogue managers have benefited from u...   \n",
       "\n",
       "                                               full_text  \n",
       "0      There is a need to measure word similarity whe...  \n",
       "1                                                         \n",
       "2      Thread disentanglement is the task of separati...  \n",
       "3      In this paper, we describe a word alignment al...  \n",
       "4                                                         \n",
       "...                                                  ...  \n",
       "80008  The processes through which readers evoke ment...  \n",
       "80009  This paper examines the extent to which verb d...  \n",
       "80010  As co-chairs, we had two particular objectives...  \n",
       "80011                                                     \n",
       "80012  Spoken dialogue managers have benefited from u...  \n",
       "\n",
       "[80013 rows x 6 columns]"
      ]
     },
     "execution_count": 7,
     "metadata": {},
     "output_type": "execute_result"
    }
   ],
   "source": [
    "acl_full_text"
   ]
  },
  {
   "cell_type": "code",
   "execution_count": 8,
   "metadata": {},
   "outputs": [],
   "source": [
    "for index, row in acl_full_text.iterrows():\n",
    "    if(int(row[0][1]) == 0 or int(row[0][1]) == 1 or int(row[0][1]) == 2):\n",
    "        year = int(f'20{row[0][1:3]}')\n",
    "        era_id = 20\n",
    "    else:\n",
    "        year = int(f'19{row[0][1:3]}')\n",
    "        era_id = 19\n",
    "    acl_full_text.iat[index, 1] = year\n",
    "    acl_full_text.iat[index, 2] = era_id"
   ]
  },
  {
   "cell_type": "code",
   "execution_count": 9,
   "metadata": {},
   "outputs": [
    {
     "data": {
      "text/html": [
       "<div>\n",
       "<style scoped>\n",
       "    .dataframe tbody tr th:only-of-type {\n",
       "        vertical-align: middle;\n",
       "    }\n",
       "\n",
       "    .dataframe tbody tr th {\n",
       "        vertical-align: top;\n",
       "    }\n",
       "\n",
       "    .dataframe thead th {\n",
       "        text-align: right;\n",
       "    }\n",
       "</style>\n",
       "<table border=\"1\" class=\"dataframe\">\n",
       "  <thead>\n",
       "    <tr style=\"text-align: right;\">\n",
       "      <th></th>\n",
       "      <th>acl_id</th>\n",
       "      <th>year</th>\n",
       "      <th>era_id</th>\n",
       "      <th>title</th>\n",
       "      <th>abstract</th>\n",
       "      <th>full_text</th>\n",
       "    </tr>\n",
       "  </thead>\n",
       "  <tbody>\n",
       "    <tr>\n",
       "      <th>55</th>\n",
       "      <td>P07-1084</td>\n",
       "      <td>2007</td>\n",
       "      <td>20</td>\n",
       "      <td>Bilingual Terminology Mining -Using Brain, not...</td>\n",
       "      <td>Current research in text mining favours the qu...</td>\n",
       "      <td>Current research in text mining favours the qu...</td>\n",
       "    </tr>\n",
       "    <tr>\n",
       "      <th>75</th>\n",
       "      <td>P12-3005</td>\n",
       "      <td>2012</td>\n",
       "      <td>20</td>\n",
       "      <td>langid.py: An Off-the-shelf Language Identific...</td>\n",
       "      <td>We present langid.py, an off-the-shelf languag...</td>\n",
       "      <td>We present langid.py, an off-the-shelf languag...</td>\n",
       "    </tr>\n",
       "    <tr>\n",
       "      <th>76</th>\n",
       "      <td>P12-3016</td>\n",
       "      <td>2012</td>\n",
       "      <td>20</td>\n",
       "      <td>ACCURAT Toolkit for Multi-Level Alignment and ...</td>\n",
       "      <td>The lack of parallel corpora and linguistic re...</td>\n",
       "      <td>The lack of parallel corpora and linguistic re...</td>\n",
       "    </tr>\n",
       "    <tr>\n",
       "      <th>78</th>\n",
       "      <td>P13-1068</td>\n",
       "      <td>2013</td>\n",
       "      <td>20</td>\n",
       "      <td>Large tagset labeling using Feed Forward Neura...</td>\n",
       "      <td>Standard methods for part-of-speech tagging su...</td>\n",
       "      <td>Standard methods for part-of-speech tagging su...</td>\n",
       "    </tr>\n",
       "    <tr>\n",
       "      <th>80</th>\n",
       "      <td>P19-1161</td>\n",
       "      <td>2019</td>\n",
       "      <td>20</td>\n",
       "      <td>Counterfactual Data Augmentation for Mitigatin...</td>\n",
       "      <td>Gender stereotypes are manifest in most of the...</td>\n",
       "      <td>Gender stereotypes are manifest in most of the...</td>\n",
       "    </tr>\n",
       "    <tr>\n",
       "      <th>...</th>\n",
       "      <td>...</td>\n",
       "      <td>...</td>\n",
       "      <td>...</td>\n",
       "      <td>...</td>\n",
       "      <td>...</td>\n",
       "      <td>...</td>\n",
       "    </tr>\n",
       "    <tr>\n",
       "      <th>80008</th>\n",
       "      <td>P99-1056</td>\n",
       "      <td>1999</td>\n",
       "      <td>19</td>\n",
       "      <td>The grapho-phonological system of written Fren...</td>\n",
       "      <td>The processes through which readers evoke ment...</td>\n",
       "      <td>The processes through which readers evoke ment...</td>\n",
       "    </tr>\n",
       "    <tr>\n",
       "      <th>80009</th>\n",
       "      <td>P99-1051</td>\n",
       "      <td>1999</td>\n",
       "      <td>19</td>\n",
       "      <td>Acquiring Lexical Generalizations from Corpora...</td>\n",
       "      <td>This paper examines the extent to which verb d...</td>\n",
       "      <td>This paper examines the extent to which verb d...</td>\n",
       "    </tr>\n",
       "    <tr>\n",
       "      <th>80010</th>\n",
       "      <td>P99-1000</td>\n",
       "      <td>1999</td>\n",
       "      <td>19</td>\n",
       "      <td>Using Aggregation for Selecting Content when G...</td>\n",
       "      <td>As co-chairs, we had two particular objectives...</td>\n",
       "      <td>As co-chairs, we had two particular objectives...</td>\n",
       "    </tr>\n",
       "    <tr>\n",
       "      <th>80011</th>\n",
       "      <td>P99-1</td>\n",
       "      <td>1999</td>\n",
       "      <td>19</td>\n",
       "      <td></td>\n",
       "      <td></td>\n",
       "      <td></td>\n",
       "    </tr>\n",
       "    <tr>\n",
       "      <th>80012</th>\n",
       "      <td>P00-1013</td>\n",
       "      <td>2000</td>\n",
       "      <td>20</td>\n",
       "      <td>Spoken Dialogue Management Using Probabilistic...</td>\n",
       "      <td>Spoken dialogue managers have benefited from u...</td>\n",
       "      <td>Spoken dialogue managers have benefited from u...</td>\n",
       "    </tr>\n",
       "  </tbody>\n",
       "</table>\n",
       "<p>6848 rows × 6 columns</p>\n",
       "</div>"
      ],
      "text/plain": [
       "         acl_id  year  era_id  \\\n",
       "55     P07-1084  2007      20   \n",
       "75     P12-3005  2012      20   \n",
       "76     P12-3016  2012      20   \n",
       "78     P13-1068  2013      20   \n",
       "80     P19-1161  2019      20   \n",
       "...         ...   ...     ...   \n",
       "80008  P99-1056  1999      19   \n",
       "80009  P99-1051  1999      19   \n",
       "80010  P99-1000  1999      19   \n",
       "80011     P99-1  1999      19   \n",
       "80012  P00-1013  2000      20   \n",
       "\n",
       "                                                   title  \\\n",
       "55     Bilingual Terminology Mining -Using Brain, not...   \n",
       "75     langid.py: An Off-the-shelf Language Identific...   \n",
       "76     ACCURAT Toolkit for Multi-Level Alignment and ...   \n",
       "78     Large tagset labeling using Feed Forward Neura...   \n",
       "80     Counterfactual Data Augmentation for Mitigatin...   \n",
       "...                                                  ...   \n",
       "80008  The grapho-phonological system of written Fren...   \n",
       "80009  Acquiring Lexical Generalizations from Corpora...   \n",
       "80010  Using Aggregation for Selecting Content when G...   \n",
       "80011                                                      \n",
       "80012  Spoken Dialogue Management Using Probabilistic...   \n",
       "\n",
       "                                                abstract  \\\n",
       "55     Current research in text mining favours the qu...   \n",
       "75     We present langid.py, an off-the-shelf languag...   \n",
       "76     The lack of parallel corpora and linguistic re...   \n",
       "78     Standard methods for part-of-speech tagging su...   \n",
       "80     Gender stereotypes are manifest in most of the...   \n",
       "...                                                  ...   \n",
       "80008  The processes through which readers evoke ment...   \n",
       "80009  This paper examines the extent to which verb d...   \n",
       "80010  As co-chairs, we had two particular objectives...   \n",
       "80011                                                      \n",
       "80012  Spoken dialogue managers have benefited from u...   \n",
       "\n",
       "                                               full_text  \n",
       "55     Current research in text mining favours the qu...  \n",
       "75     We present langid.py, an off-the-shelf languag...  \n",
       "76     The lack of parallel corpora and linguistic re...  \n",
       "78     Standard methods for part-of-speech tagging su...  \n",
       "80     Gender stereotypes are manifest in most of the...  \n",
       "...                                                  ...  \n",
       "80008  The processes through which readers evoke ment...  \n",
       "80009  This paper examines the extent to which verb d...  \n",
       "80010  As co-chairs, we had two particular objectives...  \n",
       "80011                                                     \n",
       "80012  Spoken dialogue managers have benefited from u...  \n",
       "\n",
       "[6848 rows x 6 columns]"
      ]
     },
     "execution_count": 9,
     "metadata": {},
     "output_type": "execute_result"
    }
   ],
   "source": [
    "origin_data = acl_full_text[acl_full_text['acl_id'].str.startswith('P')]\n",
    "origin_data"
   ]
  },
  {
   "cell_type": "code",
   "execution_count": 10,
   "metadata": {},
   "outputs": [],
   "source": [
    "docs = origin_data.iloc[:][\"abstract\"]\n",
    "docs_tokenized = [(nltk.word_tokenize(str(doc))) for doc in (docs)]\n",
    "documents = [TaggedDocument(doc, [i]) for i, doc in enumerate(docs_tokenized)]\n",
    "model = Doc2Vec(documents, vector_size=128, window=2, min_count=1, workers=-1)"
   ]
  },
  {
   "cell_type": "code",
   "execution_count": 11,
   "metadata": {},
   "outputs": [
    {
     "data": {
      "text/html": [
       "<div>\n",
       "<style scoped>\n",
       "    .dataframe tbody tr th:only-of-type {\n",
       "        vertical-align: middle;\n",
       "    }\n",
       "\n",
       "    .dataframe tbody tr th {\n",
       "        vertical-align: top;\n",
       "    }\n",
       "\n",
       "    .dataframe thead th {\n",
       "        text-align: right;\n",
       "    }\n",
       "</style>\n",
       "<table border=\"1\" class=\"dataframe\">\n",
       "  <thead>\n",
       "    <tr style=\"text-align: right;\">\n",
       "      <th></th>\n",
       "      <th>type</th>\n",
       "      <th>year</th>\n",
       "      <th>title</th>\n",
       "      <th>era_id</th>\n",
       "      <th>x_0</th>\n",
       "      <th>x_1</th>\n",
       "      <th>x_2</th>\n",
       "      <th>x_3</th>\n",
       "      <th>x_4</th>\n",
       "      <th>x_5</th>\n",
       "      <th>...</th>\n",
       "      <th>x_118</th>\n",
       "      <th>x_119</th>\n",
       "      <th>x_120</th>\n",
       "      <th>x_121</th>\n",
       "      <th>x_122</th>\n",
       "      <th>x_123</th>\n",
       "      <th>x_124</th>\n",
       "      <th>x_125</th>\n",
       "      <th>x_126</th>\n",
       "      <th>x_127</th>\n",
       "    </tr>\n",
       "  </thead>\n",
       "  <tbody>\n",
       "    <tr>\n",
       "      <th>0</th>\n",
       "      <td>0</td>\n",
       "      <td>2007</td>\n",
       "      <td>Bilingual Terminology Mining -Using Brain, not...</td>\n",
       "      <td>20</td>\n",
       "      <td>-0.004087</td>\n",
       "      <td>-0.004671</td>\n",
       "      <td>-0.007719</td>\n",
       "      <td>0.006682</td>\n",
       "      <td>0.002786</td>\n",
       "      <td>0.000205</td>\n",
       "      <td>...</td>\n",
       "      <td>0.002859</td>\n",
       "      <td>0.006326</td>\n",
       "      <td>0.006951</td>\n",
       "      <td>0.004880</td>\n",
       "      <td>-0.004874</td>\n",
       "      <td>0.006770</td>\n",
       "      <td>-0.007366</td>\n",
       "      <td>0.000554</td>\n",
       "      <td>-0.005174</td>\n",
       "      <td>-0.000625</td>\n",
       "    </tr>\n",
       "    <tr>\n",
       "      <th>1</th>\n",
       "      <td>1</td>\n",
       "      <td>2012</td>\n",
       "      <td>langid.py: An Off-the-shelf Language Identific...</td>\n",
       "      <td>20</td>\n",
       "      <td>0.002063</td>\n",
       "      <td>-0.006011</td>\n",
       "      <td>0.003093</td>\n",
       "      <td>0.001115</td>\n",
       "      <td>-0.000420</td>\n",
       "      <td>0.004858</td>\n",
       "      <td>...</td>\n",
       "      <td>-0.001561</td>\n",
       "      <td>0.004814</td>\n",
       "      <td>-0.005440</td>\n",
       "      <td>-0.006790</td>\n",
       "      <td>-0.007565</td>\n",
       "      <td>-0.006261</td>\n",
       "      <td>-0.005024</td>\n",
       "      <td>-0.001805</td>\n",
       "      <td>-0.001834</td>\n",
       "      <td>0.004910</td>\n",
       "    </tr>\n",
       "    <tr>\n",
       "      <th>2</th>\n",
       "      <td>2</td>\n",
       "      <td>2012</td>\n",
       "      <td>ACCURAT Toolkit for Multi-Level Alignment and ...</td>\n",
       "      <td>20</td>\n",
       "      <td>0.003528</td>\n",
       "      <td>0.004057</td>\n",
       "      <td>0.002054</td>\n",
       "      <td>0.001589</td>\n",
       "      <td>0.003578</td>\n",
       "      <td>0.006848</td>\n",
       "      <td>...</td>\n",
       "      <td>0.006334</td>\n",
       "      <td>-0.001039</td>\n",
       "      <td>0.007193</td>\n",
       "      <td>-0.006093</td>\n",
       "      <td>0.001928</td>\n",
       "      <td>0.006982</td>\n",
       "      <td>-0.007615</td>\n",
       "      <td>-0.000961</td>\n",
       "      <td>-0.006725</td>\n",
       "      <td>0.005595</td>\n",
       "    </tr>\n",
       "    <tr>\n",
       "      <th>3</th>\n",
       "      <td>3</td>\n",
       "      <td>2013</td>\n",
       "      <td>Large tagset labeling using Feed Forward Neura...</td>\n",
       "      <td>20</td>\n",
       "      <td>-0.001633</td>\n",
       "      <td>0.004768</td>\n",
       "      <td>-0.003725</td>\n",
       "      <td>0.002522</td>\n",
       "      <td>-0.003051</td>\n",
       "      <td>-0.007043</td>\n",
       "      <td>...</td>\n",
       "      <td>-0.000792</td>\n",
       "      <td>0.005549</td>\n",
       "      <td>0.004894</td>\n",
       "      <td>0.003550</td>\n",
       "      <td>-0.000893</td>\n",
       "      <td>0.000306</td>\n",
       "      <td>-0.006690</td>\n",
       "      <td>0.000036</td>\n",
       "      <td>-0.005288</td>\n",
       "      <td>0.006117</td>\n",
       "    </tr>\n",
       "    <tr>\n",
       "      <th>4</th>\n",
       "      <td>4</td>\n",
       "      <td>2019</td>\n",
       "      <td>Counterfactual Data Augmentation for Mitigatin...</td>\n",
       "      <td>20</td>\n",
       "      <td>0.005179</td>\n",
       "      <td>-0.004625</td>\n",
       "      <td>-0.001097</td>\n",
       "      <td>0.002516</td>\n",
       "      <td>-0.003448</td>\n",
       "      <td>0.006718</td>\n",
       "      <td>...</td>\n",
       "      <td>0.002558</td>\n",
       "      <td>-0.000880</td>\n",
       "      <td>-0.002310</td>\n",
       "      <td>0.004100</td>\n",
       "      <td>0.003550</td>\n",
       "      <td>-0.005085</td>\n",
       "      <td>0.001933</td>\n",
       "      <td>0.006109</td>\n",
       "      <td>0.006555</td>\n",
       "      <td>0.002714</td>\n",
       "    </tr>\n",
       "    <tr>\n",
       "      <th>...</th>\n",
       "      <td>...</td>\n",
       "      <td>...</td>\n",
       "      <td>...</td>\n",
       "      <td>...</td>\n",
       "      <td>...</td>\n",
       "      <td>...</td>\n",
       "      <td>...</td>\n",
       "      <td>...</td>\n",
       "      <td>...</td>\n",
       "      <td>...</td>\n",
       "      <td>...</td>\n",
       "      <td>...</td>\n",
       "      <td>...</td>\n",
       "      <td>...</td>\n",
       "      <td>...</td>\n",
       "      <td>...</td>\n",
       "      <td>...</td>\n",
       "      <td>...</td>\n",
       "      <td>...</td>\n",
       "      <td>...</td>\n",
       "      <td>...</td>\n",
       "    </tr>\n",
       "    <tr>\n",
       "      <th>6843</th>\n",
       "      <td>6843</td>\n",
       "      <td>1999</td>\n",
       "      <td>The grapho-phonological system of written Fren...</td>\n",
       "      <td>19</td>\n",
       "      <td>-0.006358</td>\n",
       "      <td>0.006620</td>\n",
       "      <td>-0.005681</td>\n",
       "      <td>0.004673</td>\n",
       "      <td>0.004386</td>\n",
       "      <td>0.002012</td>\n",
       "      <td>...</td>\n",
       "      <td>-0.006523</td>\n",
       "      <td>-0.005974</td>\n",
       "      <td>-0.000312</td>\n",
       "      <td>0.002233</td>\n",
       "      <td>0.003625</td>\n",
       "      <td>-0.001689</td>\n",
       "      <td>-0.001490</td>\n",
       "      <td>-0.006791</td>\n",
       "      <td>-0.007214</td>\n",
       "      <td>-0.006988</td>\n",
       "    </tr>\n",
       "    <tr>\n",
       "      <th>6844</th>\n",
       "      <td>6844</td>\n",
       "      <td>1999</td>\n",
       "      <td>Acquiring Lexical Generalizations from Corpora...</td>\n",
       "      <td>19</td>\n",
       "      <td>0.003245</td>\n",
       "      <td>0.005446</td>\n",
       "      <td>-0.003987</td>\n",
       "      <td>0.000145</td>\n",
       "      <td>0.002295</td>\n",
       "      <td>-0.000423</td>\n",
       "      <td>...</td>\n",
       "      <td>0.002411</td>\n",
       "      <td>0.004205</td>\n",
       "      <td>-0.003146</td>\n",
       "      <td>0.002104</td>\n",
       "      <td>-0.003400</td>\n",
       "      <td>-0.004488</td>\n",
       "      <td>-0.004171</td>\n",
       "      <td>0.003378</td>\n",
       "      <td>-0.003002</td>\n",
       "      <td>0.002199</td>\n",
       "    </tr>\n",
       "    <tr>\n",
       "      <th>6845</th>\n",
       "      <td>6845</td>\n",
       "      <td>1999</td>\n",
       "      <td>Using Aggregation for Selecting Content when G...</td>\n",
       "      <td>19</td>\n",
       "      <td>0.007536</td>\n",
       "      <td>-0.006572</td>\n",
       "      <td>0.003095</td>\n",
       "      <td>-0.002101</td>\n",
       "      <td>-0.002749</td>\n",
       "      <td>0.005504</td>\n",
       "      <td>...</td>\n",
       "      <td>0.000723</td>\n",
       "      <td>-0.000247</td>\n",
       "      <td>-0.004740</td>\n",
       "      <td>-0.002209</td>\n",
       "      <td>0.001511</td>\n",
       "      <td>-0.000831</td>\n",
       "      <td>-0.006807</td>\n",
       "      <td>0.000538</td>\n",
       "      <td>0.004458</td>\n",
       "      <td>0.006221</td>\n",
       "    </tr>\n",
       "    <tr>\n",
       "      <th>6846</th>\n",
       "      <td>6846</td>\n",
       "      <td>1999</td>\n",
       "      <td></td>\n",
       "      <td>19</td>\n",
       "      <td>-0.005845</td>\n",
       "      <td>-0.003261</td>\n",
       "      <td>-0.001956</td>\n",
       "      <td>-0.002463</td>\n",
       "      <td>-0.000580</td>\n",
       "      <td>-0.003284</td>\n",
       "      <td>...</td>\n",
       "      <td>0.001664</td>\n",
       "      <td>0.003539</td>\n",
       "      <td>-0.002121</td>\n",
       "      <td>-0.007298</td>\n",
       "      <td>-0.006915</td>\n",
       "      <td>0.002571</td>\n",
       "      <td>-0.006778</td>\n",
       "      <td>0.000655</td>\n",
       "      <td>0.001976</td>\n",
       "      <td>-0.002337</td>\n",
       "    </tr>\n",
       "    <tr>\n",
       "      <th>6847</th>\n",
       "      <td>6847</td>\n",
       "      <td>2000</td>\n",
       "      <td>Spoken Dialogue Management Using Probabilistic...</td>\n",
       "      <td>20</td>\n",
       "      <td>0.000448</td>\n",
       "      <td>-0.000342</td>\n",
       "      <td>0.001850</td>\n",
       "      <td>0.000138</td>\n",
       "      <td>0.006560</td>\n",
       "      <td>-0.007759</td>\n",
       "      <td>...</td>\n",
       "      <td>-0.005902</td>\n",
       "      <td>0.002398</td>\n",
       "      <td>-0.007140</td>\n",
       "      <td>0.005696</td>\n",
       "      <td>-0.000399</td>\n",
       "      <td>-0.007376</td>\n",
       "      <td>-0.001764</td>\n",
       "      <td>0.004457</td>\n",
       "      <td>0.005957</td>\n",
       "      <td>0.001013</td>\n",
       "    </tr>\n",
       "  </tbody>\n",
       "</table>\n",
       "<p>6848 rows × 132 columns</p>\n",
       "</div>"
      ],
      "text/plain": [
       "      type  year                                              title  era_id  \\\n",
       "0        0  2007  Bilingual Terminology Mining -Using Brain, not...      20   \n",
       "1        1  2012  langid.py: An Off-the-shelf Language Identific...      20   \n",
       "2        2  2012  ACCURAT Toolkit for Multi-Level Alignment and ...      20   \n",
       "3        3  2013  Large tagset labeling using Feed Forward Neura...      20   \n",
       "4        4  2019  Counterfactual Data Augmentation for Mitigatin...      20   \n",
       "...    ...   ...                                                ...     ...   \n",
       "6843  6843  1999  The grapho-phonological system of written Fren...      19   \n",
       "6844  6844  1999  Acquiring Lexical Generalizations from Corpora...      19   \n",
       "6845  6845  1999  Using Aggregation for Selecting Content when G...      19   \n",
       "6846  6846  1999                                                         19   \n",
       "6847  6847  2000  Spoken Dialogue Management Using Probabilistic...      20   \n",
       "\n",
       "           x_0       x_1       x_2       x_3       x_4       x_5  ...  \\\n",
       "0    -0.004087 -0.004671 -0.007719  0.006682  0.002786  0.000205  ...   \n",
       "1     0.002063 -0.006011  0.003093  0.001115 -0.000420  0.004858  ...   \n",
       "2     0.003528  0.004057  0.002054  0.001589  0.003578  0.006848  ...   \n",
       "3    -0.001633  0.004768 -0.003725  0.002522 -0.003051 -0.007043  ...   \n",
       "4     0.005179 -0.004625 -0.001097  0.002516 -0.003448  0.006718  ...   \n",
       "...        ...       ...       ...       ...       ...       ...  ...   \n",
       "6843 -0.006358  0.006620 -0.005681  0.004673  0.004386  0.002012  ...   \n",
       "6844  0.003245  0.005446 -0.003987  0.000145  0.002295 -0.000423  ...   \n",
       "6845  0.007536 -0.006572  0.003095 -0.002101 -0.002749  0.005504  ...   \n",
       "6846 -0.005845 -0.003261 -0.001956 -0.002463 -0.000580 -0.003284  ...   \n",
       "6847  0.000448 -0.000342  0.001850  0.000138  0.006560 -0.007759  ...   \n",
       "\n",
       "         x_118     x_119     x_120     x_121     x_122     x_123     x_124  \\\n",
       "0     0.002859  0.006326  0.006951  0.004880 -0.004874  0.006770 -0.007366   \n",
       "1    -0.001561  0.004814 -0.005440 -0.006790 -0.007565 -0.006261 -0.005024   \n",
       "2     0.006334 -0.001039  0.007193 -0.006093  0.001928  0.006982 -0.007615   \n",
       "3    -0.000792  0.005549  0.004894  0.003550 -0.000893  0.000306 -0.006690   \n",
       "4     0.002558 -0.000880 -0.002310  0.004100  0.003550 -0.005085  0.001933   \n",
       "...        ...       ...       ...       ...       ...       ...       ...   \n",
       "6843 -0.006523 -0.005974 -0.000312  0.002233  0.003625 -0.001689 -0.001490   \n",
       "6844  0.002411  0.004205 -0.003146  0.002104 -0.003400 -0.004488 -0.004171   \n",
       "6845  0.000723 -0.000247 -0.004740 -0.002209  0.001511 -0.000831 -0.006807   \n",
       "6846  0.001664  0.003539 -0.002121 -0.007298 -0.006915  0.002571 -0.006778   \n",
       "6847 -0.005902  0.002398 -0.007140  0.005696 -0.000399 -0.007376 -0.001764   \n",
       "\n",
       "         x_125     x_126     x_127  \n",
       "0     0.000554 -0.005174 -0.000625  \n",
       "1    -0.001805 -0.001834  0.004910  \n",
       "2    -0.000961 -0.006725  0.005595  \n",
       "3     0.000036 -0.005288  0.006117  \n",
       "4     0.006109  0.006555  0.002714  \n",
       "...        ...       ...       ...  \n",
       "6843 -0.006791 -0.007214 -0.006988  \n",
       "6844  0.003378 -0.003002  0.002199  \n",
       "6845  0.000538  0.004458  0.006221  \n",
       "6846  0.000655  0.001976 -0.002337  \n",
       "6847  0.004457  0.005957  0.001013  \n",
       "\n",
       "[6848 rows x 132 columns]"
      ]
     },
     "execution_count": 11,
     "metadata": {},
     "output_type": "execute_result"
    }
   ],
   "source": [
    "data = [[(i)] + list(model.dv[i]) for i in range(len(documents))]\n",
    "column_names = [\"type\"]+[\"x_\"+str(dim) for dim in range(model.vector_size)]\n",
    "out = pd.DataFrame(data, columns=column_names)\n",
    "# out = out.sort_values([\"type\"])\n",
    "out.to_csv(\"anthology2022.csv\", index=None)\n",
    "out.insert(1, 'year', origin_data['year'].values)\n",
    "out.insert(2, 'title', origin_data['title'].values)\n",
    "out.insert(3, 'era_id', origin_data['era_id'].values)\n",
    "out"
   ]
  },
  {
   "cell_type": "markdown",
   "metadata": {},
   "source": [
    "# 2000と２019の比較"
   ]
  },
  {
   "cell_type": "code",
   "execution_count": 32,
   "metadata": {},
   "outputs": [
    {
     "data": {
      "text/plain": [
       "(240, 2)"
      ]
     },
     "execution_count": 32,
     "metadata": {},
     "output_type": "execute_result"
    }
   ],
   "source": [
    "df1 = out[(out['year'] == 2000)].sample(n=80)\n",
    "# df2 = out[(out['year'] == 2005)].sample(n=80)\n",
    "df3 = out[(out['year'] == 2010)].sample(n=80)\n",
    "# df4 = out[(out['year'] == 2010)].sample(n=80)\n",
    "df5 = out[(out['year'] == 2019)].sample(n=80)\n",
    "out = pd.concat([df1, df3, df5], axis=0) # df2, df3, df4,\n",
    "\n",
    "# SAMPLING_RATE = 1.0\n",
    "# sampled_out = out.sample(n=(int(len(out)*SAMPLING_RATE)), random_state=1)\n",
    "sampled_out = out\n",
    "title_list = out['title'].values\n",
    "X = sampled_out.iloc[:, 4:]\n",
    "pca = PCA(n_components=2)\n",
    "pca.fit(X)\n",
    "x_pcx = pca.transform(X)\n",
    "x_pcx.shape"
   ]
  },
  {
   "cell_type": "code",
   "execution_count": 33,
   "metadata": {},
   "outputs": [],
   "source": [
    "pcx_2000_2010_2019 =  pd.DataFrame(data=x_pcx, columns=['x1', 'x2'])"
   ]
  },
  {
   "cell_type": "code",
   "execution_count": 34,
   "metadata": {},
   "outputs": [],
   "source": [
    "pcx_2000_2010_2019.insert(0, 'title', out['title'].values)\n",
    "pcx_2000_2010_2019.insert(1, 'lab_or_not', 'notlab')\n",
    "pcx_2000_2010_2019.insert(2, 'award', 'normal')\n",
    "pcx_2000_2010_2019.insert(3, 'year', out['year'].values)"
   ]
  },
  {
   "cell_type": "code",
   "execution_count": 35,
   "metadata": {},
   "outputs": [
    {
     "data": {
      "text/html": [
       "<div>\n",
       "<style scoped>\n",
       "    .dataframe tbody tr th:only-of-type {\n",
       "        vertical-align: middle;\n",
       "    }\n",
       "\n",
       "    .dataframe tbody tr th {\n",
       "        vertical-align: top;\n",
       "    }\n",
       "\n",
       "    .dataframe thead th {\n",
       "        text-align: right;\n",
       "    }\n",
       "</style>\n",
       "<table border=\"1\" class=\"dataframe\">\n",
       "  <thead>\n",
       "    <tr style=\"text-align: right;\">\n",
       "      <th></th>\n",
       "      <th>title</th>\n",
       "      <th>lab_or_not</th>\n",
       "      <th>award</th>\n",
       "      <th>year</th>\n",
       "      <th>x1</th>\n",
       "      <th>x2</th>\n",
       "    </tr>\n",
       "  </thead>\n",
       "  <tbody>\n",
       "    <tr>\n",
       "      <th>0</th>\n",
       "      <td>¢¡ ¤£ ¦¥ ¨ § ©¥ £ ¦¥ ¨ ¥ § ©¡ ¤£ ! \" $# %# %&amp; ...</td>\n",
       "      <td>notlab</td>\n",
       "      <td>normal</td>\n",
       "      <td>2000</td>\n",
       "      <td>0.003967</td>\n",
       "      <td>-0.003159</td>\n",
       "    </tr>\n",
       "    <tr>\n",
       "      <th>1</th>\n",
       "      <td>¢¡ ¤£ ¥¡ §¦ © ¦ ¦ © ! \"£ \" $# % \"£ ¥&amp; ' ¦ £ ¥ ...</td>\n",
       "      <td>notlab</td>\n",
       "      <td>normal</td>\n",
       "      <td>2000</td>\n",
       "      <td>-0.016327</td>\n",
       "      <td>0.007251</td>\n",
       "    </tr>\n",
       "    <tr>\n",
       "      <th>2</th>\n",
       "      <td></td>\n",
       "      <td>notlab</td>\n",
       "      <td>normal</td>\n",
       "      <td>2000</td>\n",
       "      <td>-0.005622</td>\n",
       "      <td>0.003389</td>\n",
       "    </tr>\n",
       "    <tr>\n",
       "      <th>3</th>\n",
       "      <td>¢¡ ¤£ ¦¥ ¨ § ¦¡ ¤¥ ¨© £ ¦ © © £ © £ ¨ \"! $# %£...</td>\n",
       "      <td>notlab</td>\n",
       "      <td>normal</td>\n",
       "      <td>2000</td>\n",
       "      <td>0.005653</td>\n",
       "      <td>-0.005082</td>\n",
       "    </tr>\n",
       "    <tr>\n",
       "      <th>4</th>\n",
       "      <td>¢¡ ¤£ ¥£ §¦ ©£ ! #\" $ &amp;% (' )\" 10 2¡ 43 5' )6 ...</td>\n",
       "      <td>notlab</td>\n",
       "      <td>normal</td>\n",
       "      <td>2000</td>\n",
       "      <td>-0.006288</td>\n",
       "      <td>-0.003818</td>\n",
       "    </tr>\n",
       "    <tr>\n",
       "      <th>...</th>\n",
       "      <td>...</td>\n",
       "      <td>...</td>\n",
       "      <td>...</td>\n",
       "      <td>...</td>\n",
       "      <td>...</td>\n",
       "      <td>...</td>\n",
       "    </tr>\n",
       "    <tr>\n",
       "      <th>235</th>\n",
       "      <td>We need to talk about standard splits</td>\n",
       "      <td>notlab</td>\n",
       "      <td>normal</td>\n",
       "      <td>2019</td>\n",
       "      <td>-0.010089</td>\n",
       "      <td>-0.000866</td>\n",
       "    </tr>\n",
       "    <tr>\n",
       "      <th>236</th>\n",
       "      <td>Energy and Policy Considerations for Deep Lear...</td>\n",
       "      <td>notlab</td>\n",
       "      <td>normal</td>\n",
       "      <td>2019</td>\n",
       "      <td>-0.003878</td>\n",
       "      <td>-0.009298</td>\n",
       "    </tr>\n",
       "    <tr>\n",
       "      <th>237</th>\n",
       "      <td>Eliciting Knowledge from Experts: Automatic Tr...</td>\n",
       "      <td>notlab</td>\n",
       "      <td>normal</td>\n",
       "      <td>2019</td>\n",
       "      <td>0.019364</td>\n",
       "      <td>0.001022</td>\n",
       "    </tr>\n",
       "    <tr>\n",
       "      <th>238</th>\n",
       "      <td>Explain Yourself! Leveraging Language Models f...</td>\n",
       "      <td>notlab</td>\n",
       "      <td>normal</td>\n",
       "      <td>2019</td>\n",
       "      <td>-0.014800</td>\n",
       "      <td>-0.005790</td>\n",
       "    </tr>\n",
       "    <tr>\n",
       "      <th>239</th>\n",
       "      <td>Unsupervised Bilingual Word Embedding Agreemen...</td>\n",
       "      <td>notlab</td>\n",
       "      <td>normal</td>\n",
       "      <td>2019</td>\n",
       "      <td>0.004992</td>\n",
       "      <td>-0.003275</td>\n",
       "    </tr>\n",
       "  </tbody>\n",
       "</table>\n",
       "<p>240 rows × 6 columns</p>\n",
       "</div>"
      ],
      "text/plain": [
       "                                                 title lab_or_not   award  \\\n",
       "0    ¢¡ ¤£ ¦¥ ¨ § ©¥ £ ¦¥ ¨ ¥ § ©¡ ¤£ ! \" $# %# %& ...     notlab  normal   \n",
       "1    ¢¡ ¤£ ¥¡ §¦ © ¦ ¦ © ! \"£ \" $# % \"£ ¥& ' ¦ £ ¥ ...     notlab  normal   \n",
       "2                                                          notlab  normal   \n",
       "3    ¢¡ ¤£ ¦¥ ¨ § ¦¡ ¤¥ ¨© £ ¦ © © £ © £ ¨ \"! $# %£...     notlab  normal   \n",
       "4    ¢¡ ¤£ ¥£ §¦ ©£ ! #\" $ &% (' )\" 10 2¡ 43 5' )6 ...     notlab  normal   \n",
       "..                                                 ...        ...     ...   \n",
       "235              We need to talk about standard splits     notlab  normal   \n",
       "236  Energy and Policy Considerations for Deep Lear...     notlab  normal   \n",
       "237  Eliciting Knowledge from Experts: Automatic Tr...     notlab  normal   \n",
       "238  Explain Yourself! Leveraging Language Models f...     notlab  normal   \n",
       "239  Unsupervised Bilingual Word Embedding Agreemen...     notlab  normal   \n",
       "\n",
       "     year        x1        x2  \n",
       "0    2000  0.003967 -0.003159  \n",
       "1    2000 -0.016327  0.007251  \n",
       "2    2000 -0.005622  0.003389  \n",
       "3    2000  0.005653 -0.005082  \n",
       "4    2000 -0.006288 -0.003818  \n",
       "..    ...       ...       ...  \n",
       "235  2019 -0.010089 -0.000866  \n",
       "236  2019 -0.003878 -0.009298  \n",
       "237  2019  0.019364  0.001022  \n",
       "238  2019 -0.014800 -0.005790  \n",
       "239  2019  0.004992 -0.003275  \n",
       "\n",
       "[240 rows x 6 columns]"
      ]
     },
     "execution_count": 35,
     "metadata": {},
     "output_type": "execute_result"
    }
   ],
   "source": [
    "pcx_2000_2010_2019"
   ]
  },
  {
   "cell_type": "code",
   "execution_count": 36,
   "metadata": {},
   "outputs": [
    {
     "data": {
      "application/vnd.plotly.v1+json": {
       "config": {
        "plotlyServerURL": "https://plot.ly"
       },
       "data": [
        {
         "customdata": [
          [
           "¢¡ ¤£ ¦¥ ¨ § ©¥ £ ¦¥ ¨ ¥ § ©¡ ¤£ ! \" $# %# %& (' ) 0 21 3' 4¡ 5 6 7 98 ¨@ BA ¢C 3D FE 2G IH @ QP SR S@ BT U V XW ¦Y a(b dc eV Xf gb ih qp Ir sh tc eW 3u vb wV XxY qf 3y f vp h t(c Y ab w h tf F X V Xf 3 V f 3 tV X( w b h qp I ¨V Xf 3f v ( ed aY qf 3 Y gf 3 d Y qy 3V Xd W 3f 3 Y vh v Bi kj Sl vj Sm qn o Bp rq Bs at go Qs vu vw 3x ey zp 2{ }| z3 qu zu { ) t g| D R SP vC ¦ qR ¤ z ¢ e r 3 z )"
          ],
          [
           "¢¡ ¤£ ¥¡ §¦ © ¦ ¦ © ! \"£ \" $# % \"£ ¥& ' ¦ £ ¥ ¦ ©¡ )( 021 43 65 87 ¥ 4¦ © 9& @¦ ¡ A& 'B C ED GF HF ID $P RQ TS VU W XD YD Gba cD $d fe F Hg ih e p Hq Rr C Ee q sP sP Rp HF ID YF t vu sw yx \"u R u R Rw 9u s G yw ¤u w yx u d w yu s x e ©f gu ih ' e x w j yx w ¤k l Gm u sn ¢o p ¢q Yu sr R u sw ¤ y o t u v w Rx $y r z h '{ }| w j u"
          ],
          [
           ""
          ],
          [
           "¢¡ ¤£ ¦¥ ¨ § ¦¡ ¤¥ ¨© £ ¦ © © £ © £ ¨ \"! $# %£ ¦# '& (¡ ¤) %) 10 32 4 § 5 6© 7 98 4# %@ 9© A £ ¦ § B C 9# ED ¤£ FD ¨G ¢© IH P# %B I¡ ¤) RQ S7 TD VU \"¡ VU # E) %# W 9# %© @ X Y acb Y ad fe d hg i qp sr qt Tu 3v xw Ty t qb Y t p s 9 I \" v d Ee gf w qe 5h di ¤j kh f Tl e 5m 9n o w Tn j w qe 5i ah d Pp qv xw Tr l v dr v dw Ty sm t n vu xw ¨ 'h 9n zy 'y o {w r | h u w y 5} h T~o w y 5 w To y o e 1 v d e go {f h d s 9 y o { o l v d h y '~ x \"n y z u l I y l Ë Ã PÏ g 7 @« 7 i¼ g ¨ éµ 6Ò VÒ @É Ë © ß eª 7© ~ S© ' ( © I« ½¼ Í© | g # 1 y å« 7 © s°% °% s« ' ' x l x eĪ ¶ Sū g ¨À }T Á ¨´ I½ \"¿ ¥ VI UT F s! $# &% ' 4 6 U6 ¥h G « @ ' µ & V 87 µ AÓ ½W ¤ p § # e i »Ð ¢ ¶ |Ð u I 7 7 ¨ µ 6Ò V p iI b¿ ³ À }T 8 VQ ¥Á ³ ½ ¨T I¿ ³ ¨T ! ªT 8 1À b¿ tI b¿ 8 AT @À DR Â² ³ ½ ¨T I¿ vj ¤&³ À b½ uÁ² ` 3Ð u g x &® ¨° 7 ¨"
          ],
          [
           "¢¡ ¤£ ¥£ §¦ ©£ ! #\" $ &% (' )\" 10 2¡ 43 5' )6 7 86 9¦ ©£ @ 8' )A )¦ ©6 B¦ © &C ¢\" $' )' )6 D FE HG I QP G I E SR UT WV XG I T `Y I ba ¢c ed `f 9g ih qp rI bs R rt vu xw 9t yE q d f 9g D FE w $ T S 1 I I a c F f 9 d ye gf h i kj d g ml Q on pf 9q f sr ut v Bw px kw pv zy { }| U9w B{ 9w k B By ` 4| U y B Q p y b | t Qv k F © C f 9 pd e hf h i kj d d e gf hd o o d Wr k pw p y b }| U 9 9"
          ],
          [
           "A Constraint-based Approach to English Prosodic Constituents"
          ],
          [
           "COMPUTATIONAL LINGUISTICS IN INDIA: AN OVERVIEW"
          ],
          [
           "A New Statistical Approach to Chinese Pinyin Input"
          ],
          [
           "Distribution-Based Pruning of Backoff Language Models"
          ],
          [
           ""
          ],
          [
           ""
          ],
          [
           ""
          ],
          [
           "A Morphologically Sensitive Clustering Algorithm for Identifying Arabic Roots"
          ],
          [
           ""
          ],
          [
           "Memory-Efficient and Thread-Safe Quasi-Destructive Graph Unification"
          ],
          [
           "Lexical transfer using a vector-space model"
          ],
          [
           "Inducing Probabilistic Syllable Classes Using Multivariate Clustering"
          ],
          [
           ""
          ],
          [
           "Development of Computational Linguistics Research: a Challenge for Indonesia"
          ],
          [
           "â Wã Â BÃ gÄ åä ae vç I× YÖ I× WÒ Þ wÝ WÒ y× )È $Ö Â BÃ zÄ è éae Dê 4¿ À 4Á Â BÃ gÄ ë ae Dì Á íÈ B¿ DÉ YÈ wÊ tË &Â BÃ gÄ è §ae î 4Á Ò yÔ DÕ tÖ h¿ &× YË 9Ô × IÂ BÃ gÄ è §ae Dï Á Ò yÔ DÖ yÜ &Ë PÝ )Þ $Ò Iß wÂ @Ã gÄ ð ¶ v» gW± &• ¹ • &W¬ « §Ã ©ª h)½ d± ® » V® z¼ « {µ ½ V¾ â Wã Â @Ã gÄ kä mñ Ià kò Ù® )¬ « ¬ AEª hW¬ óÁ íÈ B¿ DÉ YÈ wÊ tË v¹ ½ Û S« V¹ Å )ª P¬ « V• Ó± &« VÅ PW¬ ¹ G¼ « ¥°eÐ 9¾ b½ AE¹ G± &» V« Ì» V® z¼ « µ ÌÛ w¹ e¬ gª ¶ B« {Û d« {µ Ì¬ ¹ °« V½ Ñ Iµ ® z¼ y¹ • I« V½ Ì½ ¡¬ gµ ® )± &Å t« {µ Ì« {¼ y¹ GÚ • I« {± &» V« § ¶ B® )µ £¬ AEª &« §» gW± &• I¹ • &W¬ « )à © dª &« ÙÛ d« V¹ Å )ª P¬ ½ w¹ G± h¬ AEª &« Ù» ² µ gµ « {± P¬ ©¹ G³ ôÑ &°« {³ Ï« {± ¬ ¥W¬ ¹ ® )± Û d« {µ « 8» gª ® t½ g« {± ¸½ g® t)½ ©¬ ® hÅ t¹ G¼ t« ÌÌ°« {Í y¹ » V® tÅ )µ {WÑ ª &¹ » 8® )µ AEÚ • I« {µ ¹ G± &Å ® )± õ¬ gª &« ¶ B« gW¬ g² µ « V½ V¾ QÑ Iµ « { ¶ B« µ AEµ ¹ G± &Å éö Iµ ½ ¬ x» gW± IÚ • I¹ • W¬ « V½ QÛ w¹ G¬ AEª Ó8ª &¹ Å )ª « µ fÅ )µ {W± • dÚ ¬ ® )¬ {)°Dµ ¥W¬ ¹ ® I¾ h¬ gª &« {±"
          ],
          [
           "Spoken Dialogue Management Using Probabilistic Reasoning"
          ],
          [
           ""
          ],
          [
           "Statistical parsing with an automatically-extracted tree adjoining grammar"
          ],
          [
           ""
          ],
          [
           ""
          ],
          [
           "Spoken Language Technology: Where Do We Go From Here?"
          ],
          [
           "A Computational Approach to Zero-pronouns in Spanish"
          ],
          [
           "An Improved Parser for Data-Oriented Lexical-Functional Analysis"
          ],
          [
           ""
          ],
          [
           "Term Recognition Using Technical Dictionary Hierarchy"
          ],
          [
           "Multi-Component TAG and Notions of Formal Power"
          ],
          [
           "An Improved Error Model for Noisy Channel Spelling Correction"
          ],
          [
           ""
          ],
          [
           "An Empirical Study of the Influence of Argument Conciseness on Argument Effectiveness"
          ],
          [
           "C¦ ¦ D4 '% & E% &( )4 D¦ F4 G6 IH P §Q R !¡ ¤#7 S4 Q R£ UT © V GW RX Y Iba 8dc $e gf h i qp sr ut wv !i qx y )i p )r E w v ! I v ! p Uh !y y ¥ ©x y d e f w v ! I v ! )i v ! hg t wv &i x y i si p )r e kj $y i ml )i qv ! j $y i ml )i qv ! In o po po q r s p Ap A t Iu i wv s i qp sr fg xd yy z hg {d m !| } e I ¤ ! R ¤ w ¤ i s A k s p © y )y s xe Rh !i v e Rj $y i yl )i v ! i t h y v fp Ay r I R !i s hg &v D z e j $y i yl )i v ! un o po o pq o s v ! fg v & hv ©t Ii s A ) p d s t e I ! p ¡ E¢ ¤£ ¥ ¦ § p© h£ f § p£ fª A« ¬ ® f¦ 3 § °®± ¦ ² U¡ d ± )³ )µ ¦ ´¦ § p² ¢ ´w£ ¶¢ ¤£ ´¨± ² U¬ § ¢ q¦ ´© µ ± ¦ )¦ • ©£ § pū¦ ¸£ f § ¹¦ • ¡ Gḡ£ ª ± )w¢ £ ¥ º °3« p£ ´¦ ª ´¢ qª » § p© f£ f § p£ fª A« ¢ £ ³ ¼ $¡ dÏ § ¢ q)ª A½ f)¯µ ¡ ¿¾ µ ¢ ¤£ ÀÁÀ£ ¬ ´£ fª A¦ ± ¦ £ f¦ • « 3 § Â¦ £ f § S¦ £ £ ´¦ ´ § ½ fÃ¢ ¤£ ¥ ¦ £ Ä Å ÇAE IÈ !¬ ® f¦ 3 § )ª µ ² ÉÊ Ë 3)3½ ¯± Ä q¦ ´ § ´ ´ ¸ ¤¨± ¦ £ fª A °¨± )± ± ¦ 1Ì ¦ ± ¢ ½ fÍ ¨Ì Ä qÎ °¦ £ f¦ ¤« w¢ qÏ¦ ¸£ f § ª A ² É© f¦ ´¢ p¢ ¢ ´« B¡ E¢ śµ )µ ¨± 3« p£ ´¦ ª ´¢ qª °®± ¦ ² U¡ d ± )³ §¦ ± Ç¦ § § ± )3 § !Ê Ð f Ñ ¸ W xÒ ¤Ó ¤ p wW R Ô Ṏ¦ £ £ ´¦ ´¨)µ Ṏ3« p£ ´¦ ª ´¢ qª 8 § p© f£ f § p£ fª A« Î f¬ ´¡ §£ B ÄÖ p¢ bª ¦ ×½ £ p¢ ´Ø¢ £ »¦ 5 ¢ £ ¥ ½ p¢ q¯´¢ qª ÎÄÖ © ± 3¬ w¢ £ ¦ ª ª A ± § ¢ £ ¥ ´ ¦ £ É¦ © © ± ¦ ª µ É´ ©Ù $© f£ f § p£ fª A« Å ± ¦ ² É² ¦ ± §Ú 3Û 3£ p¢ Ü ¨± ¼ fÝ Þ ß Þ pà )µ ¦ ´ª ¦ ¸£ É f¨)± ¦ ª A § f¦ ª ³ I´ Ú Å Ç¦ ¢ °² ¦ £ R¼ Ý Þ á ß â ã $¦ « ¼ xÝ Þ á ä fâ å E p¢ £ ¬ 3 £ R¼ ÑÝ Þ pae ç pà AÊ ¤Ô ¨± è ½ p¢ ± é3« p£ ´¦ ª ´¢ qª © § p© h£ f § p£ fª A« ´ g f¥© ± ê 3ª ´¢ Ì ¼ x¦ £ f § Pª ¦ © ´½ ± É£ £ ¬ ®© ± ê 3ª ´¢ Ì 3« p£ ´¦ ª ´¢ qª g© µ £ ² É£ f¦ P¢ £ S q¦ £ ¥ ½ f¦ ¥ Ï¡ §¢ )µ ª A £ ¬ ¯)± ¦ •¢ £ ´ § § pÄë f£ § g¡ §¢ )µ ± ¨°¨± £ fª A¨´ )µ ¢ q¯ © ± ê Ãª A¬ ´¢ Ì ¯³ Ä ¨´ £ Ú È R¦ •¢ ¦ £ f § ¥ã ½ f¦ £ ¥ h¼ &Ý •Þ Þ ì Râ pÈ R¦ •¢ ¦ £ f § ã '½ f¦ £ ¥ f¼ Ý Þ Þ ì ¦ â È R¦ •¢ f¦ £ f § ©ã '½ f¦ £ ¥ f¼ Ý Þ Þ Þ ¦ â È R¦ •¢ f¦ £ f § ã '½ f¦ £ ¥ f¼ ¥Ý Þ Þ Þ !à AÊ Û Eµ ¢ bū¢ bĪ § ¢ í R¨± £ °®± ² #¦ © ¬ © ± ¦ ª µ ¯)µ ¦ ´¦ î ¡ Õ² ½ p ´¢ © p ¨µ ¦ § ¦ £ f § ¥ª ± )3¬ ¢ £ ¥ Ç § p© h£ f § p£ fª A« ¢ £ ³ ¯Ú ã '½ f § 3 £ R¼ Ý •Þ ì ä fâ AE gÄ ï ð ª A½ ³ ¼ Ý Þ ì ì â ¥Ä ´¦ ± p¯´¦ ¼ Ý Þ ì ì â éã $¦ ê w¢ Ãð ª A Ì ¦ ¼ ÉÝ Þ Þ Ý ¸à ñÊ 1¡ d¦ • q3 ± è ½ p¢ ± ¨)µ ¨± Ä q¦ ´¢ £ f¯µ ¢ © Ø f¨´¡ §£ ò¦ g¥ Ì ¬ ¨± £ ± ¦ £ f § S¦ • ¢ ´ § p© f£ f § p£ ´¯´ hg¢ ¤² U² É § ¢ ¬ ¦ ´Ê Û §µ ¨± ©¦ ± $£ ©¢ £ ´¨± ² É § ¢ q¦ ´© µ ± ¦ )¦ • R£ § p¦ ó¢ £ ôÀ ² É¤ )µ ¨± © ± ê 3ª ´¢ Ì ¬ § p© f£ f § p£ fª A« p¬ ® f¦ 3 § © f¦ ± Ã¢ ¤£ ¥ S¦ © © ± ¦ ª µ ¯Ú ã Ä ¡ §¢ ¥ f¼ ÉÝ •Þ ì á â U¾ ¤ Ì ¢ £ ¥ ¬ ´ £ R¼ !Ý Þ Þ ç â ¾ ½ ± )´¢ £ ¦ £ f § gÅ G£ )µ ¢ q¦ • ¼ !Ý Þ Þ ì â põ ½ ± ¬ § p £ g¨´¦ • Ê ¼ RÝ Þ Þ ì â ö G¦ ¸¥ ¦ f¼ RÝ •Þ Þ ÷ pà ñÊ ø Ïw¢ ² ¢ q¦ ± ¦ © ¬ © ± ¦ ª µ µ ¦ Ñ f£ É¦ § p © ´ § $¢ £ éÀ ² É¨± ª A£ ´¡ § ± )³ ¯ £ 5¾ µ ¢ £ 3¨Ú ã ½ f¦ ¸£ ¥ Õ¨´¦ • Ê ¼ ÉÝ •Þ Þ ù â ú x½ f¦ ¸£ û¦ £ f § ã '½ f¦ £ ¥ f¼ !Ý Þ Þ ù â hü µ ½ ¦ £ f § gã ½ f¦ ¸£ ¥ f¼ !Ý Þ Þ ä à AÊ ø R¦ ¯´¦ ± )´¼ ý¡ dẍ² ¥¦ £ ½ f¦ î « ¥ ¢ Ì © f¦ ± 3¤¯)± ½ fª ´½ ± ¦¸£ £ ´¦ ´¢ £ ´ þ¦ ¥3² ¦ • §¾ µ ¢ £ 3ẅ ¥ ¦ • ´ÄÖ ´ª A ± ¬ © ½ fýÊ Û §µ ¨´ÄÖ ´¢ qdÿ ý3¥ ² É£ ´ § ¡ ¦ £ f § ´¦ ¥ ¥ § !¼ ¦ £ f §"
          ],
          [
           ""
          ],
          [
           "¢¡ £ s¤ x¡ ¥ P¡ D¦ § ¨¤ x© pª s« p¥ t § £ s£ s¤ x© o¬ ® © o¤ °2± ³¦ sf± µ¦ p ¶ •μ¤ ¡ Dş¹ º¡ » o± ²¥ t § P± µ¦ p ¶ ¼2¡ » o± ¾½ ¬ Dμ¿ ¥ t¡ DÀ Á¦ f § t± ²¬ Â p± ²¡ D¤ t¤ x¬ p± ²¡ ¥ DÃ ¢¡ Ä« p¥ P¡ Å ¬ © o¦ p¥ t § ¤ t± µ¦ f § B¥ § t± ²¥ ® ¬ § t± ²© o¦ AE2 ¶ © p¤ x± ² § sÀ Ç ¤ x¡ 3» È § t± ²© o¦ É3ª s¡ 2± ³¦ p ¶ oÊ Ë § P© •¥ t¡ 2¡ ¬ § Ì fÀ ¤© o¦ p ¶ )8¥ P¡ § \"© ® ¬ D¦ pş± ²ḩ § t¡ ¥ xÌ ¤ § p¡ 2¦ p© pş¡ ± ³¦ ËÍ § ¤ x ¶ ¡ § Î § » o© o¦ p© pÀ )¹ Ï § s § Ðª s¡ ¥ t § t¥ À y § t¬ p¡ ¥ 8¡ D¬ ¨ ¢¦ p© oş¡ ± ³¦ Â¥ t© p« s¤ x¬ ¡ Á § » f½ © p¦ p© oÀ ¹ Ã }Ñ {¦ Ò£ s¤ x § t± ²¬ D« p3¤ Ó HÔ H¡ Õ« p¥ t¡ s± Ö § y § t© À y£ × § p¡ g¦ p© oÀ ¤± ³¦ s8£ s¤ x § Á© ® B© o¤ xḩØ ¡ § Ù Ã ÛÚ s© o¦ § P© u ¢© o¤ xḩØ ¡ § Ù Ã ÛÜ sÓ fÔ £± ² § ×gÝ ¡ D¤ x¹ p± ² ¶ o Þ£ s¤ x¡ ¬ ± ²¥ t± ²© o¦ °¦ p'ÅÝ ¡ D¤ x¹ ÐȪ© Ô º¤ x¡ (½ À y± ³¦ p± µ¦ p ¶ `À ¤ª p± ² ¶ o« p± ² § x¹ Ã ß à Dá e g W XV X p r g á â £ p¡ D¤ x¡ ± ²¥ ã¦ w± ³¦ p¬ D¤ x¡ D¥ t± ³¦ p ¶ )¦ p¡ ¡ )© ® sÝ o± ³¦ p ¶ 8DÝ ± ²3ª p2¡ ¶ ¡ D¦ p¡ D¤ tǟÓ H¬ ¬ D« s¤ t § t¡ åf¦ p}ª s¤ x© o×¬ © Ý ¡ D¤ t ¶ ¡ åÀ ¤« p2 § t± ¾½ 2± ³¦ p ¶ o« s)2¡ » p± ²¬ D3¿ ¥ t¡ DÀ Á¦ f § t± ²¬ }¤ x¡ ¥ t© p« s¤ x¬ ¡ ¥ ® © p¤ ş¡ Ý ¡ 3½ © o£ p± ³¦ p ¶ }ae ç ×£ s£ p2± ²¬ D § t± ²© o¦ p¥ Ã 'â £ p« p¥ DÓ wBÝ ¡ D¤ ¹ }¬ § t± ²Ý ¡ è ¡ 2ģ± µ¦ p¥ P± Öş¡ Áae ç yḩ« s¤ x± ³¦ p ¶ ` § p¡ 83¥ t § w¹ ¡ D¤ ¥ 2 s¥ 2ª é¡ ¡ D¦ § p¡ ® ¥ t § ş¡ Ý ¡ 2© o£ sÀ ¤¡ D¦ f § )© ® ¶ ¡ D¦ p¡ D¤ ± Ö¬ 3¦ p ¶ o« s ¶ f¡ ê¤ x¡ (½ ¥ t© o« s¤ ¬ ¡ ¥ DÃ ë ¡ Ý ¡ D¤ t § P § t¡ DÀ Á£ p § t¥ ` sÝ ¡ uª é¡ ¡ D¦ ì£ é¡ D¤ ® © o¤ tÀ ¤¡ Î § t© ¬ © o¦ s¦ p¡ ¬ § í3¤ x¡ Dş¹ •¡ » p± Ö¥ P § t± ³¦ p ¶ •© o¦ f § t© 2© ¶ ± ²¡ ¥ DÃ Ñ {¦ Ç î ¶ ¡ D¦ p© )¡ § £ūÃ ³Ó Ù Dï ï ð Ê Ó o¨ë £ s¦ p± ²¥ s¿ ñ X¦ p ¶ fȪ± ²¥ sª p± ²Ȫ± ³¦ f½ ¶ o« spş± ²¬ § t± ²© o¦ s¤ x¹ ± ²¥ X« p¥ t¡ ) § t© Ç ¥ t¡ DÀ ò± µÊ P« p § t© oÀ Á § t± ²¬ D2Ȫ¹ 2± ³¦ s´ë £ s¦ p± ²¥ ¼¦ póñ X¦ p ¶ fȪ± ²¥ 1 § » p© o¦ p© oÀ ò± Ö¡ ¥ &¡ » f½ § ¤ t¬ § t¡ ¸® ¤ x© oÀ °ô õ 5ö ç ÷ Ç î 2Ý ¤ øÓ Ù Dï ù ú Ê X¦ pÕç ô 7û Fü $÷ Ç uý ¤ x© o¬ § P¡ D¤ Ó Ù Dï fù ú Ê Ã ë ± ³À ¤± ²3¤ x2¹ Ó Î°¥ t± ³À Á£ p2¡ « f½ § t© oÀ y § t± ²¬ þ£ s£ s¤ x© p¬ ¨ ® © o¤ ×2± ³¦ sf± µ¦ p ¶ ë £ s¦ p± ²¥ § (» ½ © o¦ p© oÀ ò± Ö¡ ¥ g¡ » p § ¤ t¬ § P¡ ¸® ¤ © oÀ •ô õ 5ö ç ÷ i § P© } B© o¤ ḩØ £¡ § Ç ÿ ± ²2Ȫ¡ D¤ Ä¡ § uūÃ ³Ó Ù ï ï sÙ Ê ¥ t¹ s¦ p¥ t¡ § t¥ s± ²¥ Ä£ s¤ © o£ s© ¥ P¡ þ± ³¦ Ç ¡ ± ² ¶ of« ×¡ § êūÃ ³Ó Ù ï ï Ú Ê Ã Òâ £ p¡ `Ô H© o¤ t´¤ x¡ D£ s© o¤ § t¡ }± ³¦ Ç ¡¢ ¦ p± ² ¶ o f § Á¦ p¤£ « s3Ó Ù Dï ï ð Ê ® © o¬ D« p¥ t¡ ¥ ¤© o¦ ¢ § p¡ ¬ © o¦ f½ ¥ t § ¤ P« p¬ § t± ²© o¦ ×© ® ¦ë ¡ D¦ p¥ (« p¥ DÓ 2¢3¤ x ¶ ¡ gó¦ p© Ô £2¡ ş ¶ ¡ gª s¥ t¡"
          ],
          [
           "A Polynomial-Time Fragment of Dominance Constraints"
          ],
          [
           "Diagnostic Processing of Japanese for Computer-Assisted Second Language Learning"
          ],
          [
           "The Role of Centering Theory's Rough-Shift in the Teaching and Evaluation of Writing Skills"
          ],
          [
           "Í× Ò Ü ×Ø Ò ×Ý×Ø Ñ× ØÓ ×ÙÔÔÐ Ñ ÒØ ×Ñ ÐÐ ÑÓÙÒØ× Ó ÒÒÓØ Ø Ö ÑÑ Ø Ð Ö Ð Ø ÓÒ× ØÖ Ò Ò Ø *"
          ],
          [
           ""
          ],
          [
           "PENS: A Machine-aided English Writing System for Chinese Users"
          ],
          [
           "Extracting Causal Knowledge from a Medical Database Using Graphical Patterns"
          ],
          [
           ""
          ],
          [
           "Lexicalized Stochastic Modeling of Constraint-Based Grammars using Log-Linear Measures and EM Training"
          ],
          [
           "D E GF ¨H I QP SR UT WV ¢X `Y ba dc fe hg i qp QV ¢E dr qF ¨H @H fs QV ut v (w Wx &y x & &y g y e d d be ¦ gf Uh ji & w Wy lk nm o dw og &m Ww qp ¦w Wi ¨e dy jw Wg u r (s ut Cv xw ye hm gx &w Wg {z 7| }g & w oy 2 h @t @w om gx &g & h p }z 4 h h w ¦e dm gx &w Wg f 8w Wy e hg u % & ¨ n & d ¨ h U ¡ u¢ ¢ u ¨£ ¢ % G ¨ d ¡ ¤"
          ],
          [
           "An Unsupervised Approach to Prepositional Phrase Attachment using Contextually Similar Words"
          ],
          [
           "¢¡ ¤£ ¥£ ¥¦ ¨ § © © !£ ¥¦ ¨\" $# &% ' ( )¦ ¨£ 10 2 ¦ 3 4 § 15 6 87 9# & A@ B# 9C ED F¦ 3¦ 3G IH 1P Q R R S¡ T § UR V A § U( W¡ ¤£ ¥¦ 3 X¡ Y § UR ` ¢¡ TR AH ba cR R A\" Yd E7 W¡ Y § U e7 W¡ f g¡ $7 ih p rq £ E# 9C ED U G 3¡ Y § UR Ep r 4 § U£ ts u¦ wv g¡ ¤G x 4\" V ¦ \" ¤ e7 W¡ ¤ E¡ $7 ih y 3 W w 9 W w ¨ x ed gf &h ¨d Si kj l )m nd od p Uq r s Yt Bu q vt !w x y f 8x zw s Bu Q &t e{ |w i ~} ) { q 8 q W{ | q s B Y{ |t f w &x e ¨w i v iw w i W iw Q f W S W 8 9 w & f 9 ¨w i v iw i f i i i ) W i r q nq t B B Y{ |{ o & U{ ) t ew i v w W ¡ & r ¢ W i ¤£ ¥h 3 3 §¦ d gp Uq nr &s Yt eu q vt ©w x ª Sw iu r 8t q s ©} ) n{ q W q « w is q W{ | q s Y B{ |t f k¬ ¤ r ¥® E u ¯ p w i W 8 } q w i W i°W 8 v ¤ ± } q w i ² T ) i « w is q s Y{ u ³ ¥ r w is q 8 & 9s ¶µ ej ¤• f • ¹ $º ¼» ¤½ 9¾ À¿ ÂÁ ÄÃ lÁ WÅ AE ÂÇ eÅ ÈÁ 9AE ¤Å É¿ fÅ Éº &» Ê½ Ä¾ ÀË 9Ë vÅ Éº Ì ³Ã lAE ¤Í Î Ï 6Ð ¥Î iË vÅ ÉÑ À¿ EÒ Î AE UÓ !Î AE ¤Å ÉÃ º ÔÁ ÄÃ lAE ¤» $Õ zÎ Ò |Õ ¿ ¤Á 8Å Å ÉÖ Y½ ×» ¤Ã lØ Ø ¾ Ùº vØ vÚ xÇ ½ 9¾ ÀÖ Y½ Ö eÎ º Ä¿ ¤¾ ÀË vÅ AE gÓ ÛÎ lÕ AE TÅ ÉÃ º Ö T½ ÄÃ lAE TÃ Ö e» fÅ AE T¾ À¿ f» ¤¾ ÙÖ ¿ c¿ ¤Ü 9Ö Y½ Ã ¿ Ý½ 9¾ ÞØ ½ Ã lØ Ø Ñ ÙÜ v» ¤¾ Àº 9Ã l» ¤¾ ÞÏ i¾ Þ» oß Ú Ç eÎ AE TË iÕ g¿ fÁ )Ã Ö ¾ Àº vØ vÚ ÔÃ º 9Ë ½ Ä¾ ÞØ ½ àÑ ÞÅ eá i¾ ÙÖ Ã Ñ SÖ eÎ AE TAE ¤Å ÉÑ ÀÃ l» ¤¾ ÞÏ i¾ Þ» gß â Ý¹ º àÎ AE YË vÅ AE Î » ÛÖ eÎ º 9¿ T¾ ÀË vÅ AE ãAE T¾ ÀÖ Y½ ³¾ Ùº vÒ |Î AE YÐ ±Ã l» ¤¾ ÞÎ º ³¾ Àº ¶Ö eÎ º iÕ » fÅ eá i» ¤¿ Ú )» ¤½ vÅ EÐ ¥Î iË vÅ ÉÑ À¿ Ã Ë vÎ Á 9» Ã kÑ ÞÅ É¿ ¤¿ 4¿ f» fAE Y¾ ÀÖ e» Ì ³Ã lAE ¤Í Î Ï uÃ ¿ ¤¿ ¤Ü 9Ð ±Á 9» ¤¾ ÞÎ º â ¹ $º ä» ¤½ vÅ gÐ ¥Î Ë 9Å ÉÑ À¿ Ú ¿ ¤Á ÄÃ lAE T¿ fÅ eÕ gË 9Ã l» ¤Ã ³Á 9AE TÎ å ÄÑ ÞÅ ÉÐ ae¾ À¿ ©Ï Å AE Tß ¿ fÅ AE T¾ ÀÎ Ü 9¿ Ã º ÄË ©» ¤½ vÅ É¾ ÀAE çÁ ÄÃ lAE YÃ Ð ¥Å » fÅ AE T¿ ç» fÅ Éº 9Ë g» fÎ Aå WÅ ¨Å É¿ ¤» ¤¾ èÕ Ð rÃ l» fÅ ÉË uÜ 9º vAE TÅ ÉÑ À¾ ÀÃ lå ÄÑ Þß rå 8Å ÉÖ Ã Ü Ä¿ fÅ !» ¤½ vÅ ß ¯½ 9Ã ¤Ï Å Ã 6Ñ ÀÃ lAE ¤Ø Å ³º &Ü ÄÐ ©å WÅ AE FÎ Ò ÛÁ ÄÃ lAE TÃ Ð ¥Å » fÅ AE T¿ Éâ Êé çÎ Î Ï Å AE TÖ eÎ Ð ¥Å ~¿ fÁ )Ã lAE T¿ fÅ eÕ gË 9Ã l» ¤Ã Á 9AE ¤Î å ÄÑ ÀÅ ÉÐ ¯Ú Î Ü vAE Ð ±Î Ë vÅ ÉÑ UÜ 9¿ ¤Å É¿ ~Ã §¿ ¤¾ ÀÐ ¥Á )Ñ À¾ èê ÄÅ ÉË Ï Å AE T¿ ¤¾ ÞÎ º ëÎ Ò » ¤½ 9Å ~Ç Å ÉÑ ÙÑ èÕ zÍ º 9Î ¤Ç º àå ÄÃ Ö TÍ Õ zÎ lì c¿ TÐ ¥Î &Î » ¤½ Ä¾ Àº vØ Ð ±Å » ¤½ vÎ Ë Xâ é çÎ ©Ð ±¾ Þ» ¤¾ ÀØ Ã l» fÅ 4Ü 9º vAE ¤Å ÉÑ À¾ ÙÃ lå ÄÑ ÞÅ ¨Å É¿ ¤» ¤¾ èÕ Ð rÃ l» ¤¾ ÞÎ º rÁ ÄAE ¤Î å ÄÑ ÞÅ ÉÐ ¯Ú &Î Ü vAE Ð ±Î Ë vÅ ÉÑ Ù¿ ¨Ã ¿ ¤¿ ¤Ü ÄÐ ¥Å í fÎ ¾ Àº &» Q¾ Àº ÄË vÅ Á WÅ Éº 9Ë vÅ Éº 9Ö eÅ ~¾ Àº Ä¿ f» fÅ ÉÃ Ë Î Ò kÖ eÎ º iÕ Ë Ä¾ Þ» ¤¾ ÞÎ º 9Ã Ñ ¾ Àº 9Ë vÅ Á WÅ Éº 9Ë 9Å Éº 9Ö eÅ Eå WÅ ÉÖ Ã Ü 9¿ ¤Å Sí $Î ¾ Àº &» Á ÄAE ¤Î å ÄÃ lå Ä¾ ÀÑ Ù¾ Þ» ¤¾ ÞÅ É¿ W½ 9Ã ÉÏ Å e» ¤½ vÅ e¿ ¤Ã Ð ¥Å Ë 9Å Ø AE ¤Å Å ¨Î Ò Å É¿ ¤» ¤¾ ÀÐ ±Ã l» ¤¾ ÞÎ º ³AE ¤Å ÉÑ À¾ ÙÃ lå Ä¾ ÀÑ À¾ Þ» oß â î xá iÁ WÅ AE T¾ ÀÐ ¥Å Éº &» ¤Ã Ñ AE TÅ É¿ ¤Ü 9Ñ Þ» ¤¿ ±¿ T½ vÎ ¤Ç » ¤½ 9Ã l» rÐ ¥Î iË vÅ ÉÑ À¿ ¥Ç A¾ Þ» ¤½ ïAE T¾ ÀÖ Y½ Ö eÎ º &» fÅ eá i» ¤¿ QÁ WÅ AE ¤Ò Î AE TÐ 1Å Ï Å Éº Êå WÅ » f» fÅ AE ³» ¤½ 9Ã º ¿ ¤» ¤Ã º 9Ë 9Ã lAE TË ñð SÌ ³Ì Q¿ FÃ º 9Ë ñ» ¤½ ÄÃ l» Ûí fÎ ¾ Àº » k¾ Àº iÕ Ë 9Å Á 8Å Éº ÄË vÅ Éº » Ã ¿ ¤¿ ¤Ü 9Ð ¥Á Ä» ¤¾ ÞÎ º k¾ Ù¿ 3Å eì WÅ ÉÖ e» ¤¾ ÞÏ Å !¾ Àº ¿ ¤Î Ð ¥Å ©Ð ¥Î iË vÅ ÉÑ À¿ â ò ó ç• xô ¨ ¨f • d g I Ó ÛÎ AE ¤Å ÉÃ º ë¾ À¿ QÃ º ë½ 9¾ ÞØ ½ 9Ñ Þß àÃ lØ Ø Ñ ÀÜ v» ¤¾ Ùº 9Ã l» ¤¾ ÞÏ Å ÔÑ ÀÃ º vØ Ü 9Ã lØ Å Ç ½ 9¾ ÙÖ T½ õ½ 9Ã ¿ öÇ eÎ AE TË iÕ g¿ ¤Á ÄÃ Ö ¾ Àº vØ ÷Î AE ¤» ¤½ vÎ Ø AE YÃ lÁ Ä½ ß â ¹ o» Ð ±Ã lÍ Å É¿ ±Ó !Î AE ¤Å ÉÃ º 6Á ÄÃ lAE ¤» $Õ zÎ Ò |Õ g¿ fÁ WÅ Å ÉÖ T½ ø úù û !ü 9ý !» ¤Ã lØ Ø ¾ Àº vØ Ë 9¾ èì WÅ AE ¤Å Éº &» ©Ò AE ¤Î Ð þî ¨º vØ Ñ Ù¾ À¿ ¤½ ~ù û !ü » ¤Ã lØ Ø ¾ Ùº vØ vâ ×ÿ SÅ Éº vÅ AE fÕ Ã Ñ ÀÑ Þß ¯î º vØ Ñ À¾ À¿ ¤½ ¯ù û !ü ¥» ¤Ã lØ Ø ¾ Ùº vØ kÖ Ã º Qå WÅ !AE ¤Å Ø Ã lAE TË vÅ ÉË ³Ã ¿ Ã Á 9AE TÎ Ö eÅ É¿ ¤¿ r¾ Àº ïÇ ½ 9¾ ÙÖ T½ ïÃ Á 9AE TÎ Á 8Å AE ±ù û !ü 6» ¤Ã lØ 6¾ À¿ ±Ã ¿ $Õ ¿ ¤¾ ÞØ º 9Å ÉË U» fÎ !Å ÉÃ Ö T½ rÇ Î AE TË ¥¾ Ùº U» fÅ eá » ¤¿ â 3ð AÎ ¤Ç eÅ Ï Å AE ÉÚ i¾ Àº ¥Ó ÛÎ lÕ"
          ],
          [
           "Processes that Shape Conversation and their Implications for Computational Linguistics"
          ],
          [
           "Using Confidence Bands for Parallel Texts Alignment"
          ],
          [
           "The order of prenominal adjectives in natural language generation"
          ],
          [
           "Specifying the Parameters of Centering Theory: a Corpus-Based Evaluation using Text from Application-Oriented Domains"
          ],
          [
           "Importance of Pronominal Anaphora resolution in Question Answering systems"
          ],
          [
           "¢¡ ¤£ ¦¥ ¨ § © ¥ © £ ! #\" ¤¥ ¨ § © $ &% (' )£ ¦© ¥ 0 1 2' 43 5 ¤6 )7 98 9 § ¡ &@ ¥ ¨A B¡ C8 D ¤© FE G£ ¦¥ 0 ¤ § 7 9¥ 28 H' I P § 8 D ¤6 QE ¢R S' 4T U© WV I© X7 YE `£ ¦¥ 0 ¤ § 27 H¥ ¦8 H' ) & ¥ © £ ba !© c7 H© A ¦8 H' ) d e gf ih cp q cr s 2t vu xw y w ¦r c e Hh d y t q Xr I U 2d e gf xh ji k l mf n 2k xf o ¤l qp rl qs tl q n u v Cw jx 9i y z vz 9{ l q G| Cn } m ~{ l qs De ~ k ~{ h xu { s tk 2 #l | ¤k xs ~{ l qs De x~ k #~{ h w 2y h Bq cr s 2t s v j cy ¢u v Cw jx 9i ry s Dk f | { h De tf xh t ~{ l ms 9e ~ k #~{ h w ¦ D ¡ £¢ ¤ H ¦¥ 5 § G D© «ª ¬ 9 ® ¤ 9° Hª ²± ª °¤ ³± ´± µ G 9© i ¶ ẗ© ª ¬ S 9 ® ¤ H° Hª ²± ¶ 9© ± ¥ «¤ • )© «ª °D© ¹ 9µ m± D ¶ ¤ ¤ º ® H g Hª °® « 2º #¤ Hª °¤ ¢ ® ¥ »¤ t¼ g 9¼ H ´ 9 ® «¤ µ m ½ 9© Y¤ H ® ¶ ` Hª ¬ ¶ ¼ ¤ 9ª ¬ ¾ ¿ «ª °°ª ¬ ¾ ¼ À« Á¡ t ¤ Â X¢ ¨ § ` iª °¤ )¼ ¤ H ¦¥ U ± gÃ « ® ¥ U 9© 2 ¾ 9© Ä± µ « t ¤ Y¼ «Ä ± S¤ ® «g g¡ 2 ¾ 9© iª ¬ Å± 9¥ Y ± ½ H ¦¥ r¼ g 5 ® ¶ j¿ «ª ²¾ ¼ #¡ ª ² Hª ² ¦¤ Gª ¬ ½ 9 ® ¤ H° Hª ²± ¦AE À¿ ¼ Çª ² U¿ H± ¼ ¾ © ± ¼ 9© 9± ®¿ «2 ¶ È± µ 2 9 «ª °¥ «2º ¤ª ¬ g H ¦ ¤ H ¦¥ ŗ D ¤ Â É Ê « H± ®± ®¤ X À ¶ C± ¥ ¦• )© ª °ẗ© ¤ D© ± H ¤ Y 9© 52 ¾ 9© Ë± µ « t ¤ ± © 9 ¤ g¡ £2 ¾ 9© ½ ® ¥ ½ H ¦¥ ¼ g ¦¤ Ç ® ¶ j¿ «ª ²¾ ¼ #¡ ª ² Hª ² ¦¤ Sª ¬ » 9 ® ¤ H° Hª ²± Ì¿ º F¼ ¤ Hª ¬ ¾ ¹ £• ± ¡ 2 Í ¦Î 9 ® «¤ H° Hª ²± Ï« D Ð¤ ¦2 ¦g Hª ²± ¶ 9© ± ¥ ¦Â Ñ Ò 9© Ó r 9¤ B2 Í ¦AE 9© H± ® D ® ¤ H° Hª ²± ŗ D ¤ ! 9 ¤ ¦2 ¦g ¦¥ Î¿ º ¼ «¤ Hª ¬ ¾ U `© º #¿ « 9ª °¥ ¶ C 9© ± #¥ ± µ gÃ g gÃ #¡ ® ¶ «2 ` ¶ Hẗ© ª ¬ ¾ Î ® ¥ ³¤ ¶ ® ® Hª °Gg± #¡ ¤ H 9 ª ¬ ® Î¿ º È 9© ¦¤ 9 ®¼ D¼ ¤ Â bÑ Ô 9© Õ¤ H ¦ẗ¡ ± «¥ Y2 Í ¦AE B 9© ¶ C± ®¤ Ò 9¼ 9 9 ® «¤ H° x¡ Hª ²± ¢« D Õµ Ö± × 9© GÍ 9¿ ½ŗ© 9 ¤ Gª °¤ ¤ H ¦2 ¦g ¦¥ Ë ® ¶ ± ¾ Õ 9© Î¤ ¦2 ¦g ¦¥ Ë 9 ® «¤ Á¡ ° Hª ²± »« D ¾ ± 9ª ² ¦¤ Õ¿ º ¼ «¤ Hª ¬ ¾ ¤ H H Hª °¤ Hª °¨ª ¬ µ Ö± D ¶ Hª ²± ¹± µ ` 9© ½ H 9¾ ° ® ¾ ¼ ¾ Â 4¢ º Å¼ ¤ Hª ¬ ¾ ¢ 9© ª °¤ Y H± ®± ®¤ ¦¥ ¶ ± #¥ « ¦AE • c ×g± ¼ °¥ ¤ 9© ± H 9© 2 ¾ 9© ± µ « D «¤ Ò• ª ² 9© ± ¼ ! 9 ª °¤ Hª ¬ ¾ Ç 9© × ® ¶ ¤¡ ¿ rª ²¾ ¼ ª ² Hª ² ¦¤ ª ¬ Ø D ® ¤ H° Hª ²± 2Â Ù Ú r W Xq X e £ Br Û 9 ® ¤ Hµ m ¡ £¢ ¤ ¦¥ § G D© ª ¬ B 9 ® «¤ H° Hª ²± ¶ C 9© ± #¥ ×¾ 9 °2º Ø© ¤ µ m± ¼ ¤ ¦ŗ¤ Ü Ý ª ¬ ¶ ÇAE 2Þ ¦ß ß xà á Hâ ¶ C± Dŗ© ± ®2± ¾ ®ª ° Ȳ ® 2º #¤ 9ª °¤ ¢± µ ¤ H± ¼ 9g i° ® ¾ ¼ ¾ AE ¤ º ® H g Hª °G ® 2º ¤ Hª °¤ ± µ À¤ ± ¼ 9g U° ® ¾ ¼ ¾ AE ¨¤ D¼ ẗ¡ 9¼ H Ë 9 ® ¤ Hµ m S ± ( 9© Ë H H¾ Ä° ® ¾ ¼ ¾ AE 5 ® ¥ ¤ g Î¾ 9 Hª ²± Ë± µ C 9© H H¾ Ê° ® ¾ ¼ ¾ Â Ñ ½¤ D¼ g 9¼ 9 ` 9 ® ¤ Hµ m Ç¤ ¦¦AE ) 9 ® ¤ µ Ö Ø« D ¤ ¼ ¤ H ¦¥ ± ¿ 0¾ 9 ¦ H2º 2 gÃ ª ° °ª ²ã ¦¥ Çª ¬ ± 9¥ c ± ! 9 ª °¤ 9© ¦¼ 9 gº S± µ ¤ 9 ® ¤ H° Hª ²± 2Â ä t #¡ £¢ ¤ ¦¥ § G D© ª ¬ j 9 ® ¤ H° Hª ²± ÎÜ X¢ ¨ § G Àá Hµ Ö± D ¶ ¤ ¨¿ ± 9© ¤ º H g Hª °å ® 2º #¤ 9ª °¤ ae ® ¥ ¤ D¼ g 9¼ 9 ç 9 ® «¤ µ m ¤ Hª ¬ ¶ ¤¼ 2 H ® ± ¼ ¤ H2º ¼ «¤ Hª ¬ ¾ j 9© ª °¤ 2 gÃ ª ° °ª ²ã ¦¥ G« D ¤ Ü è ¦¥ « AE ´Þ ¦ß ß é á HÂ X¢ ¨ § ` ® ê¤ 9© ± H Ì 9© 9 ® «¤ H° Hª ²± ¹ Hª ¬ ¶ C Õ ® ¥ ë 9 ª °¤ ¢ 9© ¢ ¦¼ D gº ì± µ ¤ º H g Hª °Ô ® 2º #¤ 9ª °¤ ½¿ º ä¼ ¤ 9ª ¬ ¾ ¹ 9© Ë2 gÃ ª ° °ª ²ã ¦¥ « t ¤ Â Û íÓ « D¤ AE i¤ Hª ¬ «g Ì °S« D «¤ ¹• H î¤ 9© ± 9 ŗ© 9 ¤ g¡ £2 ¾ 9© S« t ¤ AE I ¶ ® ®º ¢¤ º H g Hª ° ® ¶ C¡ ¿ «ª ²¾ ¼ «ª ² Hª ² ¦¤ Ø± #¦¼ 9 H ¦¥ Sª ¬ ¢ŗ D S ¶ HD© «ª ¬ ¾ Â Û ¤ H ¦¤ 9¼ 2 AE « D ¤ )¿ ¦ ® ¶ !2± ¾ I ± ×¤ g g¡ 2 ¾ 9© Ê ± Ç H ¦¥ r¼ g C ® ¶ j¿ «ª ²¾ ¼ ª ² Hª ² ¦¤ Â ¤¢ ¨¼ AE B¤ g g¡ 2 ¾ 9© « D ¤ Q ®¼ ¤ ïŗ D ¤ Hŗ 9¤ ¦¤ H¤ 9± ®¿ «2 ¶ ÇAE ð¿ ¦ ®¼ ¤ ñ 9© ¤ H ® ¶ ¼ « ¶ j¿ ð± µ ¤ g g¡ £2 ¾ 9© Å« D ¤ Ø ® Sg± Í `2 ¦¤ H¤ Ç¤ #¡ g ¦¤ 9© ® ! 9© ¤ H ® ¶ C ¼ « ¶ j¿ ± µ «ŗ© 9 ¤ g¡ £2 ¾ 9© « t ¤ Â ± ± Í Dg± ¶ C 9© «ª °¤ H± ®¿ «2 ¶ UAE É H ® ¿ j ® ¥ U è ¦¥ « `Ü ÁÞ ¦ß ß ò «á ¥ ± ® ¦¥ gÃ ® ¶ «2 g¡ £¿ r ¤ ¦¥ G ŗ H± ® D© ¦Â 0ó ± • c Í ¦AE 2 gÃ ® ¶ «2 g¡ ¿ « ¤ H ¦¥ Î ŗ H± ® D© © « ¤ C¤ ± ¶ C Ø H± ®¿ «2 ¶ ¤ Â ô Ò ± µ 9© Î H± ®¿ «2 ¶ ¤ Uª °¤ G 9© ` g• c± S¥ «ª öõ 2 H ® YÍ 9¿ «¤ `± µ H H¾ ¨° ® ¾ ¼ « ¾ I H è Ò g• c± C¤ ¶ ® ® Hª ° °2º ¤ Hª ¬ ¶ ª °° ± ¼ r ¤ X ¤ ± ®¿ ÷ Á ¦g H¤ H ¦¤ H ¦g Hª ²Í ¦2º 2 9© ± ¼ ¾ © × Í 9¿ ± µ ¤ ± ¼ 9g Ä° ® ¾ ¼ ¾ Ä H è ¦¤ ³ 9© Å ± ¼ « ¤ 5 ¤ ³ª ² H¤ ± ®¿ ÷ Á ¦g H¤ Â Uø ± ¤ gÃ ® ¶ «2 AE `Ý ± H ¦ ® ÊÍ 9¿ Õù qú üû ý Áþ ®û ÿ • ª ² 9© ¹± ®¿ ÷ Á ¦g H¤ Sù ¡ £¢ ¥¤ Ü ¿ r¼ ¤ gá Hÿ ¤ ® ¥ äù §¦ Cû ©°Ü v© ± 9¤ á Hÿ ª °¤ 9 ® «¤ H° ¦¥ Çª ¬ ® ± ¾ ®°ª °¤ 9© ×Í 9¿ «¤ )ù H è ÿ « ® ¥ Gù 9ª °¥ ÿ H ¦¤ 9 ¦g Hª ²Í ¦2º Â § G ® º Y 9 ¦¤ ¦ 9D© ¦¤ • H ¥ ± C ± U¤ H± ®2Í 9© ¶ UÂ © º ¼ ¤ ¦¥ Î¤ º H g Hª °Øg± ®°2± # Hª ²± iÜ Ý ª ¬ ¶ ú Òû © ¬AE Þ ¦ß ß é #â B ¦ú jû © qAE !Þ ¦ß ß ß á HAE I¤ H ¶ ® Hª °¨g± ¤ D ª ¬ ® ¿ º Õ 9© ¦¤ 9 ®¼ D¼ ¤ Ü v § U± #± ú û ! qAE jÞ ¦ß ß ò á HAE Ò¤ ¶ ® ® Hª °μÖ ¦ 9¼ H ¦¤ ØÜ ¬ ¶ C \" ¦ú Iû ! qAE Þ ¦ß ß ß á Ò ® ¥ ¤ H H Hª °¤ Hª ° ¯ ª ¬ µ Ö± D ¶ Hª ²± ½Ü ¢ H± • I # ¦ú Àû ! qAE 0Þ ¦ß ß Þ â %$ À ¾ ® ® 5 ® ¥ Ñ H ª AE Þ ¦ß ß xà á HÂ ¢ ¨¼ • )© ¤ º H g Hª °g± ®°2± # Hª ²± Gª °¤ ¼ ¤ ¦¥ AE W ¦ D© Î gÃ ® ¶ «2 µ m± C GÍ 9¿ © ¤ j 9© Ç¤ H ® ¶ C gõ 2 ¦g j ± ¤ ¦2 ¦g ¤ 9© Ø H± ® !• ± 9¥ Î¤ ¤ ×± µ 0 9© Í 9¿ ¦Â '& ± «¤ £( #¼ ® H2º AE ª ² ª °¤ ×¥ rª !) ¦¼ 2 ± Î± ®¿ H ª ¬ 9© Ç H ¦« H ¦¤ H Hª ²Í ` gÃ ® ¶ «2 ¦¤ ® «¥ ± ¥ ¦¤ Hg Dª °¿ ¤ ¤ H ¦¤ • )© ª °ẗ© ³© Í Y¥ ± ¶ ª ¬ ¤ ¤± µ ¥ «ª öõ 2 H ¤ Hª ²ã Â Ñ ´ ¥ «¥ «ª ² Hª ²± 2AE !• )© S± 2º ´¤ ¶ ® ® Hª °g± ¤ 9 ª ¬ ¿ º Y 9© ¦¤ H ®¼ D¼ ¤ ª °¤ j¼ «¤ ¦¥ ¦AE ª ² jª °¤ ¥ rª !) ¦¼ 2 ± Y± ®¿ H ª ¬ ¾ ± #± #¥ G 9 ® ¤ H° ¦¥ • ± 9¥ «¤ I¿ ¦ ®¼ ¤ ± µ 9© ¤ª ¬ ¤ 9¼ 0) C¡ ª ² 9© ¦¤ H ®¼ D¼ ¤ H± ®¿ r2 ¶ ÇÂ Û ¤ 9 ¦¤ 9¼ 2 AE • ¼ ¤ H © º #¿ Dª °¥ × ¶ C 9© ± #¥ ± µ B¿ ± 9© gÃ g gÃ ® ¶ «2 I ¶ HD© #¡ ª ¬ ¾ Y ¦D© « «ª ( #¼ • ª ² 9© ¤ º ® H g Hª °Øg± ®°2± Hª ²± ³ ® ¥ ¤ ¶ ® ® Hª °g± «¤ 9 ª ¬ ¿ º Ø 9© ¦¤ 9 ®¼ D¼ ¤ Â É Ê )¼ «¤ ¨ŗ© 9 ¤ g¡ £2 ¾ 9© C« D ¤ ± ¤ ± ®2Í « Á¡ D !¤ H« 9¤ ¦¤ H¤ B 9± ®¿ «2 ¶ Ä ® ¥ H± ®± ®¤ g• c± I2 Í ¦¤ ¦2 ¦g Hª ²± U ¶ 9© ± ¥ ± µ B D ® ¤ H° Hª ²± Ø« D × ± ¤ H g¡ ¥ r¼ g Ò 9© ! ® ¶ j¿ «ª ²¾ ¼ ª ² Hª ² ¦¤ 0± µ « D G ¶ Hẗ© ª ¬ ¾ Â 1 2 43 #5 £y 76 By 85 2 w ¦r 5 üw e ü r @9 ¤w y r y 85 £y r e ü Br BA (y W É Ê ½¼ «¤ ³± 2º ì ¶ C± ± ¡ £°ª ¬ ¾ ¼ 9 ¦¤ ± ¼ 9g ¦¤ ± Å H g¡ ¥ r¼ g ) 9 ® ¤ H° Hª ²± Ø ® ¶ j¿ «ª ²¾ ¼ «ª ² Hª ² ¦¤ Â WÑ g ª °¤ ¬ ¶ C± ®¤ ª ¬ ¶ ¤¡ ± ®¤ H¤ Hª °¿ «2 ± ´ª ¬ g± 9± 9 5¤ ¶ ® Hª °è ± • 2 ¦¥ ¾ ± µ ¤ £• ± ¢° ® ¾ ¼ « ¾ ¦¤ Â ä © ¶ j¼ 9¼ Òª ¬ µ Ö± D ¶ Hª ²± ¿ £• S £• ± ³¥ «ª öõ 2 H U° ® ¾ ¼ ¾ ¦¤ ` ® S¿ Ê¥ g¡ ¤ Hg 9ª °¿ ¦¥ Ô ± Ê¿ º Å± g¡ ü ± ¡ ü± ½ ¶ ««ª ¬ ¾ ¢¿ r¼ ¿ º g± ® 9¤ g¡ g ¶ ««ª ¬ ¾ Ü ¬ ¶ C ú û © ¬AE Þ ¦ß ß ß á HÂ Xø ± X gÃ #¡ ® ¶ ŗ2 AE ÒÝ Ò± H ¦ ® ¤Í D¿ ŗ© 9 ¤ H ŗ D ù ED I GF H!¢ I¤ P¤ Q¢ ý þ ®û ÿ ® Ì¿ Ä 9 ® ¤ 9° ¦¥ Ìª ¬ ± Ìù • c ¦ RD I 0ÿ °AE ù • 0 9ª ² SD I 0ÿ °AE ù g± ¶ ± ®¤ TD ) ÿ °AE ù ¼ ¤ SD I 0ÿ °AE ± ¨ù ¤ H ¥ D I 0ÿ °Â Ñ gµ UD ) ë© « ¤ C ¶ ¦ ® ª ¬ ¾ V © ¦ ¥ ¡ ü¾ ¦ XW üAE c 9© 9© IÝ Ò± H ¦ ® ×Í 9¿ ŗ© 9 ¤ )« D ® ¿ ) 9 ® ¤ Á¡ ° ¦¥ ½ª ¬ ® ± Õù • c ¦ \"D ) ÿ ± Uù ¼ ± YD I 0ÿ °Â XÑ gµ À 9© © ¦ ¥ • ± 9¥ i± µ `D I êª °¤ ù mþ ¥a b rÜ v ¶ C± º rá Hÿ °AE ¤ 9© i 9© Í 9¿ U© 9 ¤ Ò« D «¤ 0 H !ẗ© ® ¾ ¦¥ `ª ¬ ± Çù ¤ H ¥ ¶ C± º ÿ °Â WÑ × 9© ª °¤ • º AE ¦ù ED ) cF H!¢ dë¤ f¤ g¢ ý Áþ ®û ÿ «© ¤ Ó «Í 9 ® ¤ 9° Hª ²± ¢ŗ D ³ ¾ ± 9ª ² ¦¤ ¦Â iÑ H è ¦¤ £• ± ¤ ¦«¤ ± Ò¤ ¦2 ¦g 9© ¨ ¶ C± ®¤ 9¼ 9 Ī c ¾ ®°ª °¤ 9© 9 ® ¤ Á¡ ° Hª ²± 5« D ¤ ¤ `g± H 9 ¦¤ H± ¥ «ª ¬ ¾ `ŗ D ± µ Ý Ò± 9 ¦ ® Ç« D eh Þ xá 2 ± I¤ H ¦2 ¦g ± ®¤ H¤ 9ª °¿ «2 c D ® ¤ H° Hª ²± j« D j Á¡ ¾ ± 9ª ² ¦¤ AE i á ± ¤ ¦2 ¦g 9© ! ¶ C± ®¤ 0 9¼ 9 ē c ¾ ®°ª °¤ 9© D ® ¤ H° x¡ Hª ²± ŗ D Ê ® ¶ C± ¾ U± ®¤ 9¤ Hª °¿ «2 ¤ 9 ® ¤ H° Hª ²± « Á¡ D Ç ¾ ± Dª ² ¦¤ Â © Ó r 9¤ ì¤ ¦¸ª °¤ ë 9µ m± D ¶ ¦¥ Qª ¬ « D ¶ Hẗ© ª ¬ ¾ AE ` ® «¥ í 9© Ä¤ ¦g± ¥ (¤ ¦Fª ¬ í« D 9 ® ¤ Hµ m ¦Â"
          ],
          [
           ""
          ],
          [
           "A Unified Statistical Model for the Identification of English BaseNP"
          ],
          [
           "Headline Generation Based on Statistical Translation"
          ],
          [
           ""
          ],
          [
           ""
          ],
          [
           "An Information-Theory-Based Feature Type Analysis for the Modelling of Statistical Parsing"
          ],
          [
           ""
          ],
          [
           ""
          ],
          [
           "S UT V XW QV `Y a Eb $c da EW Qe ¦a Ef `g ¦T ih qp sr t vu xw dh yW a E g yw p s R d e fp g eh ji k ml on $p p sg rq ts ur v w yx {z g ri Ep s| p p sg eq ¦} ¦ n s s ¦ f Q ) y ¦ s o E i ) s m Db mT ia E¡ s ¢ £ ¤ ¤ i¥ 7¦ ¨ § © «ª )£ ¬ t ¬ ®¥ ¯ª °±¬ ² o¬ ®³ ¨¬ ª ¯¤ µ7¬ ® ¶ m°¦ ±• j¬ ¶ d³ ¨¬ ® ¶ m § y¦ ¨ § © d¦ ¨ § § ¶ fª )7 ¶ m°&° ¶ m § © iy ¶ f© m¬ ¨© m¬ ® § o¹ ¬ jŕ ¶ fª )¦ ±¤ i § º¦ ¨¥ F ¶ »£ ¶ f7¼ ª ) ¶ m¥ ¯½ ¾ À¿ Á¬ Â¦ ¨ § Ã m¬ ®¥ Ä¹ ª )¦ ¨© i ¶ fª ¯¬ Å¼ ¦ ÇAE ¬ j)¬ ® § ª ª ¯)¬ j¬ ¹ ` ¶ m¥ ¯¬ ®¼ È¥ ¯ª ¯¤ oÉ 7£ ¶ m¥ ¯¹ ª )¦ ÊÉ Â³ ¤ s¼ ¬ ®°Ê¥ FË {¤ m3°±¬ ² ¦ ¨É j ¶ m°É 7£ ¤ i¦ ¨É ¬ m¾ ÍÌ D¬ ¹ É j ¶ my¥ ¯¬ ¤ mË tª )£ ¬ Á¼ ¦ ±Î ÏÉ j°±ª ÑÐ ¤ mË t¤ m ª ) ¶ m¦ Ê § ¦ ¨ § © ¶ ¥ ¯¬ ® § ¥ )¬ ¹ `ª ) ¶ f© m© m¬ ®¼ xÉ ¤ m)Ò y¥ jÓ Ô y¬ R© m¬ ® § ¬ j7 ¶ m°Ê¦ ±• j¬ ª )£ ¬ Õ § ¤ mª )¦ ±¤ i § »¤ mË Ö¥ ¯Ð s § ¤ i § Ð o³ Ð m¾ ×¿ Á¬ Ø¥ )£ ¤ dÔ ª )£ y ¶ fª 2 ¶ ¨ª ¯)¬ j¬ ¹ ` y ¶ m¥ ¯¬ ®¼ F³ ¨¤ s¼ ¬ ®°EÉ j ¶ m § $ ¶ mÉ 7£ ¦ ¨¬ jÃ m¬ ¶ FÔ y¤ mŕ¼ o¹ ` y ¶ f© $ y ¶ m¥ )¬ ®¼ Ù ¶ mÉ jÉ j7 ¶ mÉ Ð Ù¤ mË Ú fÛ Ü dÓ 7¬ jÒ )¬ ®¥ ¯¬ ® § ª )¦ ¨ § © È ¶ m § Ý¦ ¨³ ¨Ò )¤ dÃ m¬ ®³ ¨¬ ® § ª »¤ Ã m¬ já )£ ¬ Ö y ¶ m¥ ¯¬ ®°¦ ¨ § ¬ m¾ Þ ß W mT ig 0à Qá Q¡ s iV Xg W 2â ã ¤h ä !V X¡ oa Ef Öå dae !g V Ñ¡ oh ç s¬ ® § ª ¯¬ ® § É ¬ ÖÒ y° ¶ m § y § ¦ ¨ § © ¦ ¨ § d § ¶ fª )7 ¶ m°E° ¶ m § © i ¶ f© m¬ © m¬ ® § ¬ j´¹ ¶ fª )¦ ±¤ i § Âè êé 6ë &ì í 2É j ¶ m § Õ ¬ É 7£ y ¶ f7 ¶ mÉ ª ¯¬ j7¦ ±• j¬ ®¼ Ø ¶ m¥ ¤ª )£ ¬ tÉ ¤ i°Ç¹ °±¬ ®É ª )¦ ±¤ i § î¤ mË 2ª ) ¶ m¥ ¯½ o¥ )¬ ®° ¶ fª ¯¬ ®¼ îª ¯¤ ª )£ ¬ ÏÉ r£ ¤ i¦ ¨É ¬ d¤ mË tè ê ¶ f ¹ ¥ ¯ª ¯7 ¶ mÉ ª rí Q°¦ ¨ § © i¦ ¨¥ ¯ª )¦ ¨É y)¬ ®¥ ¯¤ i7É ¬ ®¥ y¦ Ê § ¨¤ m7¼ ¬ jýª ¯¤ ¶ mÉ r£ ¦ ±¬ jÃ m¬ ¬ ®°±¬ ®³ ¨¬ ® § ª ) ¶ f)Ð É ¤ i³ ³ ty § ¦ ¨É j ¶ fª )¦ ±Ã m¬ D© m¤ i ¶ m°¥ j¾ 0ï 2£ ¬ ®¥ )¬ yª ) ¶ m¥ ¯½ o¥ ¦ ¨ § É j°Ê¼ ¬ °±¬ ² ¦ ¨É j ¶ m°D ¶ m § ¼ Ù¥ ¯Ð o § ª ) ¶ mÉ ª )¦ ¨É dÉ 7£ ¤ i¦ ¨É ¬ m¾ ë ¦¬ ² ¦ ¨É j ¶ m°É 7£ ¤ i¦ ¨É ¬ Õ¦ ¨¥ ª )£ ¬ ÕÉ r£ ¤ i¦ ¨É ¬ F¤ mË ³ ¬ ® ¶ m § ¦ ¨ § © f¹ ` ¬ ® ¶ f7¦ ¨ § © °¬ ² ¹ ¬ ®³ ¨¬ ®¥ j¾ è êð § yÉ ª )¦ ±¤ i § ÂÔ y¤ m7¼ y¥ t¬ ² oÒ )¬ ®¥ 7¥ © m7 ¶ m³ «³ ¶ fª )¦ ¨É j ¶ m°³ ¨¬ ® ¶ m § ¦ Ê § © ¥ )É r£ « ¶ m¥ Qª ¯¬ ® § ¥ ¯¬ 6 ¶ m § y¼ « ¶ m¥ ¯Ò ¬ ®É ª !Ë {¬ ® ¶ fª ))¬ ®¥ jÓ s¤ m ¶ f)¬ 3¬ ® § ª )¦ ±)¬ ®°Ð ñ© m7 ¶ m³ «³ ¶ fª )¦ ¨É j ¶ m°°±Ð 5¼ ¬ jª ¯¬ j7³ «¦ ¨ § ¬ ®¼ EÓ Ö ¶ m § ¼ ª )£ ¬ j)¬ jË {¤ m)¬ x ¶ f)¬ x¥ )y ¶ m°°±Ð ÁÉ 7£ ¤ i¥ )¬ ® § § ¤ mª ¨¼ 7¦ ¨ § © F¥ ¯¬ ® § o¹ ª ¯¬ ® § É ¬ Ò ° ¶ m § § ¦ ¨ § © Ó yª ¼ y7¦ ¨ § © µ°¦ ¨ § © iy¦ ¨¥ ¯ª )¦ ¨É )¬ ® ¶ m°¦ ±• ® ¶ u¹ ª )¦ ±¤ i § E¾ òí ç sÐ o § ª ) ¶ mÉ ª )¦ ÊÉ $É 7£ ¤ i¦ ÊÉ ¬ $¦ ¨¥ ª )£ ¬ $É 7£ ¤ i¦ ¨É ¬ x¤ mË R£ ¤ Ô ³ ¨¬ ® ¶ m § ¦ Ê § © f¹ ` ¬ ® ¶ f7¦ ¨ § © °±¬ ² o¬ ®³ ¨¬ ®¥ R ¶ f)¬ É ¤ i³ y¦ Ê § ¬ ®¼ E¾ ó ôª 6¦ ¨¥ É j°±¬ ® ¶ fṍª )£ ¶ fª õ°±¬ ² ¦ ¨É j ¶ m° ¶ m § y¼ Ï¥ ¯Ð o § ª ) ¶ mÉ ª )¦ ¨É É 7£ ¤ i¦ ¨É ¬ Ö ¶ f)¬ § ¤ mª ¦ ¨ § ¼ ¬ jÒ ¬ ® § y¼ ¬ ® § ª j¾ Øð ¤ m´¬ ² ¶ m³ ¨Ò y°±¬ mÓ !¦ ±Ë Ô D¬ xÉ 7£ ¤ s¤ i¥ ¯¬ dª )£ ¬ Ã m¬ j) ö m÷ {ø fù jÓ Ô D¬ µÉ j ¶ m § ÂÉ 7£ ¤ s¤ i¥ ¯¬ Ï ¬ jª ÑÔ y¬ j¬ ® § ú ¶ Õ § ¤ i³ ¦ ¨ § ¶ m°¤ mÒ y)¬ jÒ ¤ i¥ )¦ ±ª )¦ ±¤ i § ¶ m°U)¬ ® ¶ m°Ê¦ ±• ® ¶ fª )¦ ±¤ i § Á¤ mË õª )£ ¬ © m¤ i ¶ m°y ¶ f)© io¹ ³ ¨¬ ® § ª úè ôû ü uý þ ÿö ¡ fø mù £¢ {ý où ü ¥¤ ö ¡ fþ y÷ §¦ ¨ ©¢ ê÷ êü mþ ©¤ F¤ mû ü uý þ $ö ¡ fø mù ¥¤ ¢ `ü ¢ {ý ù ü ¥¤ êö fþ ÷ ¦ ©¢ ê÷ ü fþ sí rÓ Ô ¤£ y¦ ¨°±¬ ¦ ±Ë Ô D¬ ¤É 7£ ¤ s¤ i¥ ¯¬ ! iü fþ \" ©¢ Xù jÓ o¤ i § °±Ð ª )£ ¬ 2Ò )¬ jÒ ¤ i¥ )¦ ¨ª )¦ ±¤ i § ¶ m°s)¬ ® ¶ m°Ç¹ ¦ ±• ® ¶ fª )¦ ±¤ i § F¦ ¨¥ õÒ ¤ i¥ )¥ )¦ ± y°¬ m¾ ó Ä § ³ ¶ m § Ð B¥ ¯Ð o¥ ¯ª ¯¬ ®³ ¥ jÓ Ø°±¬ ² o¦ ÊÉ j ¶ m°xÉ 7£ ¤ i¦ ¨É ¬ ÿ¦ ¨¥ Å£ ¶ m § ¹ ¼ °¬ ®¼ º¦ ¨ § ¶ ñ¼ ¦ ¨É ª )¦ ±¤ i § y ¶ f)Ð ×³ ¶ fÒ Ò y¦ ¨ § © Ë )¤ i³ ¼ ¤ i³ ¶ m¦ ¨ § É ¤ i § É ¬ jÒ yª )¥ Âè {¤ m®Ó t¦ ¨ § ×³ ¶ mÉ 7£ y¦ ¨ § ¬ 3ª ¯7 ¶ m § y¥ )° ¶ fª )¦ ±¤ i § è $# Øï 6í rÓ ¥ ¯¤ i7É ¬ È° ¶ m § © i ¶ f© m¬ Ô D¤ m7¼ ¥ 5ª ¯¤ Bª ) ¶ f7© m¬ jª º° ¶ m § © i ¶ f© m¬ Ô D¤ m7¼ ¥ rí r¾ &ï 2£ ¬ ®¥ )¬ Q¼ ¦ ¨É ª )¦ ±¤ i § y ¶ f7¦ ±¬ ®¥ E ¶ f)¬ yª XÐ sÒ y¦ ¨É j ¶ m°°±Ð £ ¶ m § ¼ ¹ É 7 ¶ fË {ª ¯¬ ®¼ E¾ &% ¿ 5£ ¦ ¨°±¬ ñ¥ )É 7£ P ¶ m § P ¶ fÒ yÒ )¤ i ¶ mÉ 7£ ¦ ¨¥ ÙÒ ¬ j)¹ Ë {¬ ®É ª )°±Ð ¢)¬ ® ¶ m¥ ¯¤ i § ¶ f y°¬ ØË {¤ mF³ ¶ m § Ð ñ ¶ fÒ yÒ y°¦ ¨É j ¶ fª )¦ ±¤ i § y¥ jÓ ¤¬ ®¥ Ä¹ Ò ¬ ®É j¦ ¨ ¶ m°°Ð Ïª )£ ¤ i¥ )¬ t¦ ¨ § xÔ 6£ ¦ ¨É 7£ F°¦ ¨ § © i¦ Ê¥ ¯ª )¦ ¨É RÃ u ¶ fŕ¦ ¨ ¶ fª )¦ ±¤ i § F¦ Ê § ª )£ ¬ tª ) ¶ f)© m¬ jª Rª ¯¬ ² sª )¥ R¦ ¨¥ 27¬ ®¥ ¯ª ¯7¦ ¨É ª ¯¬ ®¼ EÓ yª )£ ¬ j)¬ t ¶ f7¬ t ¶ fÒ Ò y°Ê¦ Ç¹ É j ¶ fª )¦ ±¤ i § y¥ è ê¦ Ê § É j°¼ ¦ Ê § © ¨³ ¶ m § Ð '# Øï ¶ fÒ Ò y°¦ ÊÉ j ¶ fª )¦ ±¤ i § ¥ rí õ¦ Ê § Ô ¤£ y¦ ¨É 7£ Õª )£ ¬ 7 ¶ m § © m¬ ¤ mË y°Ê¦ ¨ § © i¦ ¨¥ )ª )¦ ¨É ÖÃ f ¶ f7¦ ¨ ¶ fª )¦ ±¤ i § Õ¤ mË Qª )£ ¬ ª ¯¬ ² oª )¥ ª ¯¤ Ï ¬ t© m¬ ® § ¬ j7 ¶ fª ¯¬ ®¼ Á¦ ¨¥ 6Ë { ¶ fŔª ¯¤ s¤ µÃ f ¶ m¥ ¯ª Rª ¯¤ x ¶ m°°±¤ Ô Ë {¤ mD£ y ¶ m § ¼ o¹ XÉ ¤ o¼ ¦ ¨ § © Ö¤ mË E¼ ¦ ¨É ª )¦ ¨¤ i § ¶ f7¦ ±¬ ®¥ j¾ &ð 7ª )£ ¬ j7³ ¨¤ m)¬ mÓ ¬ jÃ m¬ ® § ØË {¤ m6¼ ¤ i³ ¶ m¦ Ê § ¥ 2Ô ¤¦ ¨ª )£ F ¶ «°Ê¦ ¨³ ¦ ±ª ¯¬ ®¼ xŕ ¶ m § © m¬ ¤ mË !°¦ Ê § o¹ © i¦ Ê¥ ¯ª )¦ ¨É RÃ u ¶ fŕ¦ ¨ ¶ fª )¦ ±¤ i § EÓ oª )£ ¬ Öª ) ¶ m¥ ¯½ d¤ mË &£ ¶ m § ¼ o¹ XÉ ¤ o¼ ¦ ¨ § © tª )£ ¬ § ¬ ®É ¬ ®¥ 7¥ ) ¶ f)Ð )¬ ®¥ ¯¤ iŕÉ ¬ ®¥ QÉ j ¶ m § ¬ Ë {¤ m7³ ¦ ¨¼ y ¶ f y°±¬ õÔ ¤£ ¬ ® § ¶ © m¬ ® § ¬ jŕ ¶ fª )¦ ±¤ i § Å¥ ¯Ð o¥ ¯ª ¯¬ ®³ ³ ¥ ¯ª ¬ µÒ ¤ m)ª ¯¬ ®¼ Âª ¯¤ 3 ¶ Á § ¬ jÔ ¼ ¤ i³ « ¶ m¦ ¨ § EÓ ¶ § ¬ jÔ ¢© m¬ ® § )¬ mÓ s¤ mṍ¬ ®¥ ¯Ò ¬ ®É j¦ ¨ ¶ m°°±Ð ¶ t § ¬ jÔ ¢° ¶ m § ¹ © i ¶ f© m¬ m¾ ó Ä § ¥ ¯¬ ®³ «¦ ¨ § ¶ m°Ô D¤ m)½ Ó ë ¶ m § © m½ s¦ Ê°¼ ¬ Ö ¶ m § ¼ '( § y¦ ±© i£ ª è 0) ®Ú mÚ ©1 oí £ ¶ Ã m¬ ¥ ¯¬ ®¼ ¶ ° ¶ m § © i ¶ f© m¬ q³ ¨¤ s¼ ¬ ®°Å ¶ m¥ P ¶ IÔ D ¶ Ð ¤ mË ×É 7£ ¤ s¤ i¥ )¦ ¨ § © ¶ m³ ¨¤ i § © ¼ ¦ ±AE ¬ j)¬ ® § ª y°¬ ² o¦ ¨É j ¶ m° ¶ m § ¼ «¥ )Ð s § ª ) ¶ mÉ ª )¦ ¨É R¤ mÒ ª )¦ ±¤ i § ¥ ®¾ ó Ä § è êÌ õ ¶ m § © i ¶ m°¤ m)¬ Í ¶ m § y¼ 2 6 ¶ m³ ¤ Ô Ó 43 fÛ mÛ mÛ í rÓ Ô y¬ Ò 7¬ ®¥ ¯¬ ® § ª 3 ¶ ×³ ¤ s¼ ¬ ®°¤ mË d¥ ¯Ð o § ª ) ¶ mÉ ª )¦ ¨É »É 7£ ¤ i¦ ¨É ¬ Ô 6£ ¦ ¨É 7£ ¦Ó °¦ ¨½ m¬ dë ¶ m § © m½ o¦ ¨°¼ ¬ Ö ¶ m § ¼ '( § ¦ ±© i£ ª Öè 0) ®Ú mÚ ©1 sí t)¬ ®°¦ ±¬ ®¥ ¤ i § Å ¶ °¦ Ê § ¬ ® ¶ fx° ¶ m § © i ¶ f© m¬ Á³ ¨¤ o¼ ¬ ®°Ó 6 yª d § °¦ ±½ m¬ Øª )£ ¬ ®¦ ±x ¶ fÒ ¹ Ò 7¤ i ¶ mÉ 7£ EÓ ¶ m°Ê¥ ¯¤ x¥ ¯¬ ®¥ Ö ¶ µª ¯)¬ j¬ ¹ ` y ¶ m¥ ¯¬ ®¼ 3)¬ jÒ )¬ ®¥ ¯¬ ® § ª ) ¶ fª )¦ ±¤ i § ¤ mË R¥ ¯Ð s § ª ) ¶ mÉ ª )¦ ¨É x¥ ¯ª ¯ŕÉ ª ))¬ mÓ ! ¶ Øª ¯)¬ j¬ x³ ¨¤ o¼ ¬ ®°Ó ! ¶ m § ¼ ú ¶ m § ¦ ¨ § y¼ ¬ jÒ ¬ ® § ¼ ¬ ® § ª )°±Ð £ ¶ m § ¼ o¹ XÉ 7 ¶ fË {ª ¯¬ ®¼ © m7 ¶ m³ ³ « ¶ f®¾ ¿ Á¬ ¥ )£ ¤ Ô ª )£ ¶ fª ºª )£ ¬ ¶ m¼ ¼ ¦ ±ª )¦ ¨¤ i § À¤ mË ª )£ ¬ ª ¯7¬ j¬ ¹ ` y ¶ m¥ ¯¬ ®¼ ³ ¨¤ o¼ ¬ ®°P¦ ¨³ ¨Ò )¤ dÃ m¬ ®¥ Iª )£ ¬ Ò ¬ j)Ë ¤ mŕ³ ¶ m § É ¬ ¤ mË Bª )£ ¬ ¥ ¯Ð o § ª ) ¶ mÉ ª )¦ ¨É «É r£ ¤ i¦ ¨É ¬ Ï³ ¤ s¼ y°±¬ m¾ ï 2£ ¬ ¥ ¯Ð o¥ ¯ª ¯¬ ®³ xÓ &É j ¶ m°°±¬ ®¼"
          ],
          [
           ""
          ],
          [
           "Robust Temporal Processing of News"
          ],
          [
           "Generic NLP Technologies: Language, Knowledge and Information Extraction"
          ],
          [
           "d fe Dg h Si qp sr tr vu xw ¨w y S X t Ag ci A ` Q 0 qd y e Vf g hf Gi j sk l ¦j mi e g ny f o pi q sr Qt qo ¦t u So pv e w Vo pf lx yi j {z Ai q| hx qi } i q Sqi n l S ` S ¦| ¨x i l| ¨ z Ai q| hx qi q l q q q Q S qy d y f w Vo po 0o w q w q Q f i q| hx i S y t d"
          ],
          [
           "The State of the Art in Thai Language Processing"
          ],
          [
           "¢¡ ¤£ ¦¥ ¦£ ¨ § ©£ ¡ \"! #¥ ¨$ % £ $ & (' 0) 21 3) 4 05 6 87 #9 7 @¥ ¨ BA C ($ D£ ¨) FE 5 HG I¡ P! ¤) B7 Q¡ ¤£ SR T (! QU V W ©1 7 X! #£ ¨A Y¡ ¤£ ¨ ` &1 ba c! ¤ \"U d I (U e£ gf hd i¡ P! Qp D7 Q¡ p ! ¤ q$ 0R T rG I¡ P1 s Ct vu vw ru yx © 4 ©w y \" t vu yw @ Q u yx © ed gf h i j lk m on ¦p ¦j rq ts vu w (x Xj zy n ¦ n ¨s { | {} t ~w u n ¦ |q ¦j zu H h oj zm o om ¨ p ¦ h P ip ¦ y P ~ t | h Q | Y # Y v g v y h # ¡ ¢ g v£ s v¤ ©u t v¥ ¦ P § t g© ª ¨« ¬ r 2® ȳ® °²± ´³ µ q°i® g± • ¶ v® ¶ ¦ t°ID&°²ª ¨« ¶ ¹ ª t ¶ º°¼» ª t± ¨v½ ²ª ¾¹ °c •½ ¼± ¨¬ ¿® gª •¬ À ¶ ¦© g Á ¶ vÂ Ãª t°c½ ¼« g© ¬ ¿Ä ½ ²¦Å (ª •°²± ¨ IÂ AE± t ¶ ÇŞÈ °É Ê® ȳË ¦° Y¬ À© H ¶ v± ¨¹ °± ª t ¶ 6Ì ª •¬ ÀÅ r¬ ¿Í ²°ª •« °vÈ Î ¶ ¦± •Å r¹ ÏÈ Ð¬ À¹ °TÈ {°É Ñ¦ ¦© H°c© ½ ²Ò ½ ´Å ¿ ¶ ¦® ~°¹ g¬ ÀÓ HÈ Î°ÔÌ g t°CÅ À¬ r© Ë ÇÌ g¬ À tª •¬ r½ ® ȳª •ª t°²± ¨© g 2¦© ¹ Õ BÖ Ø× ÚÙ {ª t°²» ª 4 tª •± •Ì g½ ¼ª ¨Ì ± •°c ª t ¶ Û°¼» ª t± ¨¦½ ¼ª vª •°¼» ª vÂ z± ¨vË ¦&°c© |ª • T½ ² ¶ ¦© |ª ¨v¬ r© Ä ¬ À© Ë vª •°²± ¨Ü¹ ° ¨½ ¼± ¨¬ ¿® gª •¬ ¿ ¶ Ç© g ²Ó TÈ {°D¦Å À t ¶ Ì t°v Å rv© Ë ¦Ì gȳË ¦°Ô& ¶ ¹ °Å ©ª • ¶ T¹ g¬ À •½ ´ȳ± ¨¹ Ê°²» ª •± •ȳÄ © °² ¶ ÇÌ \"¹ °c •½ ¼± ¨¬ ¿® gª ¨¬ ¿ ¶ ¦© g ²³ P¦© ¹ ÚD½ ´Å ÀÌ g tª t°± •¬ r© Ë &°²ª ¨« ¶ ¹ {ª t ¶ Ú •Ì g&v± ¨¬ ¿Í ²°D± •°c •Ì Å ¿ª ¨v© ª F¹ °²Ä •½ ²± •¬ À® ª ¨¬ ¿ ¶ ¦© g ²Ó ÝÈ °{ •« ¶ yµ Þª •« °°²ß ~°c½ ¼ª ¨¬ ¿à Ç°²Ä © ° • © ¶ vÂ P ¶ ¦Ì ± (&°²ª ¨« ¶ ¹ 8É Ò Yµ ácÒ Y ¶ vÂ P°²» ® ~°± tÄ ¬ À&°c© ª ¨ ²Ó â oã #t y¥ ¦ä ¢å rw © § t v ä ¤ã ae Ø°²ç g°c½ ¼ª ¨¬ À© Ë Ðª •« °ÊË v± • ¶ yµ Øª ¨« è¬ À© ÁÌ ª •¬ ÀÅ r¬ ¿Í ´vª •¬ À ¶ ¦© Á ¶ vÂ DȳÄ ½ ¦« ¬ r© °Î± •°¦¹ gȳÉ Å ¿°Êª •°¼» ª • ²³ é°¼» ª t± ¨¦½ ¼ª ¨¬ ¿ ¶ Ç© Áv© g¹ Á¦½ ²ê Ì ¬ ¿Ä •¬ ¿ª ¨¬ ¿ ¶ ¦© ë ¶ ¦Â ¾Å r¬ À© Ë ÇÌ g¬ À tª •¬ r½ Þì © ¶ oµ ØÅ À°¹ Ë v°Â z± • ¶ Ç¸Å Àȳ± •Ë ¦°½ ¼ ¶ ¦± •® h ¶ v± ¨« gv ÁÉ ~°²°c© ¶ Ç© °í ¶ ¦Â Ãª •« °¢î t ¶ v± ¾ª t ¶ ¦® Ä ¬ À½ ´ Îµ 2¬ ¿ª ¨« ¬ r© ïª •« °Ð© gȳª ¨Ì ± ¨vÅ ÔÅ Àv© Ë ¦Ì gvË v°ð® g± • ¶ ½ ¼°c • •¬ À© Ë ñ óò Ù ¤ô qõ Ú½ ¼ ¶ ÇȩÌ g© g¬ ¿ª gÒ vÓ %ö ÷ •v&® Å ¿°Ã ¶ vÂ hÅ À¬ À© Ë ¦Ì g¬ À tª ¨¬ À½ ì © ¶ oµ 2Å ¿°c¹ Ë ¦°éª •v± •Ë v°ª t°c¹ v¬ À© v® g¦ tª \"± •° t°cȳ± ¨½ ¼« v¬ À© ½ ´Å ÀÌ g¹ °c Ë v± ¨¦&v± ¨ ñ óø Ì ® g¬ À°½ 0v© g¹ × Úȳ» µ q°Å ÀÅ e³ úù ´û ¦û vü |õ ¨³ µ ( ¶ ¦± •¹ &½ ²Å rv • t°c ñ Õ Bvª tÍ ´¬ Àà vv • •¬ ÀÅ À ¶ vË ÇÅ ¿ ¶ ÇÌ év© g¹ × Ú½ ø °² ¶ yµ Ø© P³ ù ´û ¦û vý |õ I¦© g¹ É ¬ ÀÅ r¬ À© Ë ÇÌ gvÅ 2Å ¿°¼» ¬ À½ ² ¶ ¦© g ñ ÿþ ¦¹ î •T°ª 8¦Å óÓ r³ ù ´û ¦û ¡ |õ ¨Ó QÈ Ð« g¬ ÀÅ ¿°r« Ì gv© \"°¼» ® h°²± •ª • £¢ © g¹ i¬ ¿ª ¹ g¬ ¥¤ D½ ´Ì Å ¿ª ¤ª t ¶ ® ± • ¶ ¹ gÌ ½ ²°Ô°²» « gvÌ g tª ¨¬ ¿à Ç°Ô¦© g¹ ½ ² ¶ ¦© g •¬ À tª •°© |ª Å À¬ À© Ë ¦Ì g¬ À tª ¨¬ À½ ì © ¶ oµ 2Å ¿°c¹ Ë ¦°v³ ¦Ì ª t ¶ Ç&vª •¬ r½ i&°ª •« ¶ ¹ 4½ ²¦© Ô« °Å À® C¦Å ÀÅ ¿°²Ä à ¬ rȳª •°Ô® g± t ¶ ¦É Å ¿° ¦ • t ¶ ½ ´¬ Àȳª •°¹ µ 2¬ ¿ª •« Ãv© Ì ¦Å á½ ² ¶ ¦© Ä tª t± ¨Ì g½ ¼ª •¬ À ¶ ¦© PÓ Ö Q°± ¨¹ ° •½ ²± •¬ À® ª ¨¬ ¿ ¶ Ç© ²³ µ 2« g¬ À½ ¼« vȳ± •°&Ì g •Ì ¦Å ÀÅ ¿Ò ½ ²v± t°²Ä Â AEÌ gÅ ÀÅ ¿Ò ï ¶ v± •Ë Çv© g¬ ¿Í ²°c¹ ¢¬ r© ¢°c© ½ ²Ò ½ ´Å ¿ ¶ ¦® h°¹ g¬ À¦ ²³ Cv± t°Ûà vvÅ ÀÌ Ä ȳÉ Å ¿°HÅ r¬ À© Ë ¦Ì g¬ À tª •¬ r½ Êì © ¶ oµ 2Å ¿°c¹ Ë v°¦³ FÉ Ì ª « à Ç°Ê t°Å À¹ ¶ ¦Ȩ h°²°c© ¾ª ¨ȳ± •Ë ¦°²ª •°¹ b¬ À© 3® g¦ tª ò Ù ¤ô Å r¬ ¿ª t°± ¨ȳª ¨Ì ± •°vÓ 0ö 4 µ 2¬ ¿ª ¨« ¶ vª ¨« °± qª tÒ |® °c á ¶ vÂ QÅ r¬ À© Ë ÇÌ g¬ À tª •¬ r½ Bì © ¶ vµ ØÅ À°¹ Ë v°B± •°cÅ ¿Ò ÇÄ ¬ À© Ë h ¶ Ç© v« Ì gv© v¬ À© ª •± • ¶ ¦ t® °½ ²ª •¬ À ¶ ¦© v© g¹ v •Ì ® h°²± •à ¬ À •¬ ¿ ¶ Ç© P³ ½ ¼ ¶ Ç© g tª t± ¨Ì ½ ²ª •¬ r© Ë B°c© ½ ²Ò ½ ²Å ¿ ¶ ¦® ~°c¹ ¬ À¦ ¢¬ À Xê |Ì g¬ ¿ª •°q°¼» ® h°© g •¬ ¿à |°vÓ ö B¹ ¹ g¬ ¿ª ¨¬ ¿ ¶ Ç© ¦Å ÀÅ ¿Ò Ç³ •¬ À© g½ ¼°\"°²» ¬ r tª •¬ À© Ë Y°c© ½ ²Ò ½ ²Å ¿ ¶ ¦® ~°c¹ ¬ À¦ áȳ± •°Ì g •Ì ¦Å ÀÅ ¿Ò I± t°à ¬ À t°¹ Y°²à |°²± •Ò iÂ z°µ ÃÒ ¦°v± ¨ ²³ ¦¬ À© &&¦© |Ò é½ ²¦ t° Ì g t°²± ¨ ¦¢ h© g¹ Y¬ ¿ª ¢¹ g¬ ¥¤ D½ ´Ì Å Àª ¢ª t ¶ B ¶ ¦É gª •¦¬ À© Y¹ ° •½ ²± ¨¬ ¿® ª ¨¬ ¿ ¶ Ç© #Â z ¶ ¦± © °²µ 2Å ¿Ò h½ ¼± •°vª t°c¹ hª •°²± ¨ ²Ó Ö # ¶ &½ ¼ ¶ ¦® ~°iµ Ø¬ Àª •« hª •« °ivÉ ~ ¶ oà ¦°Å r¬ À¬ ¿ª ¨ȳª ¨¬ ¿ ¶ ¦© Ô ¶ ¦Â Q°¼» ¬ À tª tÄ ¬ À© Ë 2°© g½ ¼Ò ½ ²Å À ¶ v® h°c¹ ¬ rv ²³ v¬ Àª ¤¬ À ¤® ~ ¶ ¦ • •¬ ÀÉ gÅ À°@ª • ¶ 4Ì t°©2 t°v± •½ ²« °© Ë Ç¬ À© °8 ¶ Ç© {ª •« °DÈ { ¶ v± ¨Å À¹ {È Ð¬ r¹ °DÈ {°²É Î¦ IÚ •Ì É g tª ¨¬ Ä ª •Ì ª t°¦³ q°²» ® h°c½ ¼ª •¬ r© Ë {ª ¨« vª ½ ¼°± tª ¨v¬ r© È {°É ® ȳË ¦° Dµ 2¬ ÀÅ ÀÅ ¹ ° •½ ²± •¬ ÀÉ h°Îª •« °{ •Ì É g¬ Àª tª •°¹ ì ¦°Ò |µ q ¶ v± ¨¹ PÓ Õ 4 ¶ oµ q°²à v°± ²³ •¬ À© g½ ¼°ì Ç°Ò |µ ( ¶ v± ¨¹ Ä É g¦ t°¹ t°cȳ± ¨½ ¦« Ú°c© Ë Ç¬ À© ° F ¶ vÂ zª •°© T± •°¼Ä ª t± ¨¬ ¿°à ¦°ðÁ •Ì ± t® g± ¨¬ À •¬ À© Ë ÇÅ ¿Ò Å Àv± •Ë v°ð© Ì gFÉ h°± Ê ¶ ¦Â hÈ Î°É ® ȳË ¦° ²³ P¬ Àª \"¬ À Bª •¬ À&°²Ä ½ ² ¶ ¦© g •Ì ¬ r© Ë hª • ¶ h¬ À¹ °© ª •¬ ÀÂ zÒ Ô® gvË ¦° ª •« gvª Ø •vª •¬ À tÂ AEÒ Dª ¨« °IÌ g t°²± ¨ ¨ § g¬ À© Â z ¶ ¦± ¨ȳª ¨¬ ¿ ¶ ¦© C© °²°c¹ ²Ó ¨ © Ýà ¬ À°²µ ¶ vÂ ª •« g¬ À ð® g± t ¶ ¦É gÅ À°Ô³ Tµ q°è® ± • ¶ ¦® ~ ¶ ¦ t°¾& °²ª ¨« ¶ ¹ Wª • ¶ b¦Ì ª • ¶ ¦vª •¬ À½ ´vÅ rÅ ¿Ò ¢°¼» ª t± ¨¦½ ¼ª 6ª t°± •¸¹ °¼Ä •½ ²± •¬ À® ª ¨¬ ¿ ¶ ¦© g {Â AE± • ¶ ¦¸È {°É b® vË v°c Ê¦© ¹ ï •Ì gȳ± ¨¬ ¿Í ´°ª •« °cḩÓ D¨ © Tª ¨« ¬ r i® gv® h°± ²³ #µ q°&Ë ¦°© °²± ¨vÅ rÅ ¿Ò TÌ t°© tÈ Î°²É ® ȳË ¦° ïª • ¶ í± •°²Â z°± Ðª • ¶ íª •« ¶ Ç t°Á® gvË v°c Ð½ ¼ ¶ Ç© ª •¦¬ À© g¬ À© Ë ª t°²» ª ¨Ì gvÅ \"½ ² ¶ ¦© ª t°© |ª • ²³ B°¼» ½ ²Å rÌ ¹ g¬ À© Ë Hª ¨« ¶ Ç t°Tµ 2¬ ¿ª ¨« Ð ¶ Ç© gÅ ¿Ò ¬ ÀvË v° o¦Ì ¹ g¬ ¿ ¶ ð¬ r© Â AE ¶ v± ¨ȳª ¨¬ ¿ ¶ Ç© Ó (°c •¬ À¹ ° Úª •« g¬ À ²³ Iµ (° t® h°c½ ²¬ ¥¢ h½ ²¦Å ÀÅ ÀÒ Ûª •v± tË ¦°²ª ¹ °c •½ ¼± ¨¬ ¿® gª •¬ À ¶ ¦© g Â AE ¶ v± vª t°c½ ¼« © g¬ À½ ´vÅ ª t°± ¨ ²³ é¦© g¹ èª •« Ì © ª •°²± ¨ ðË ¦°© °²± ¨¦Å ÀÅ ¿Ò è± t°Â z°± Úª t ¶ ª t°c½ ¦« g© ¬ r½ ²¦Å ~ª t°± • ²Ó ¨ © É ± ¨¬ ¿°Â ÿ³ ¶ ÇÌ ± `&°²ª ¨« ¶ ¹ Ú°¼» ª t± ¨v½ ²ª • \"Â z± ¨vË ¦&°c© |ª • 4 ¶ vÂ È {°²É C® gvË ¦° ²³ hÉ g¦ t°¹ C ¶ Ç© C® gvª tª •°²± ¨© ñ ¶ ¦± 2ª t°cY® Å Àvª t°c ¦õ ª gÒ ® g¬ r½ ²¦Å ÀÅ ¿Ò ÚÌ t°c¹ vª • ¶ C¹ ° •½ ²± ¨¬ ¿É h°&ª •°²± ¨ ²Ó YÈ {°²É T® gvË v°c v± t°D¬ À© {¯ t°c© t°D t°¬ ¿Ä tª t± ¨Ì g½ ¼ª ¨Ì ± •°¹ Î¹ gvª •³ ¤É ~°c½ ²¦Ì g t°Õ BÖ Ø× ÚÙ ñ Õ 2Ò ® ~°± \"Ö Q°²» ª B× Úv± •ì Ì ® vÙ ¤¦© Ë ÇÌ vË v°yõ áª •vË Ç ® g± t ¶ oà ¬ À¹ °Yª ¨« °&ª t°¼» ª •Ì g¦Å ¢¬ À© Â z ¶ v± ¨vª •¬ ¿ ¶ Ç© ½ ¼ ¶ Ç© |ª •¦¬ À© °¹ T¬ À© ® gvË v°µ 2¬ ¿ª ¨« Ï{½ ¼°± tª ¨v¬ r© Ï tª t± ¨Ì ½ ²ª •Ì ± •°vÓ ÑÖ Ø« Ì g ²³ ( ¶ ¦Ì ± &°²ª ¨« ¶ ¹ Û± •°Å r¬ ¿° ¶ ¦© ÑÉ ~ ¶ ¦ª •« ÛÅ À¬ À© Ë ¦Ì g¬ À tª ¨¬ À½ {v© g¹ tª t± ¨Ì ½ ¼Ä ª •Ì ± ¨vÅ ¹ °c •½ ¼± ¨¬ ¿® gª •¬ À ¶ ¦© Ô® gvª tª •°²± ¨© g ²Ó È {°ÔÌ g t°¹ Ã t°²à Ç°²± ¨vÅ ò Ù ¤ô bª t°½ ²« © g¬ Àê Ì °c Yª t ¶ T t°c¬ Ä ¦Ì ª • ¶ ¦vª •¬ À½ ´vÅ rÅ ¿Ò ë® g± t ¶ ¹ gÌ g½ ¼°SÅ À¬ r© Ë ÇÌ g¬ À tª •¬ r½ ® gvª tª •°²± ¨© ²Ó È {°é½ ²¦Å ÀÅ Qª •« g¬ À Bȳ® g® ± • ¶ Çv½ ¼« © ò Ù ¤ô XÄ É g¦ t°¹ &°ª •« ¶ ¹ Ó"
          ],
          [
           "Computational Linguistics Research on Philippine Languages"
          ],
          [
           ""
          ],
          [
           ""
          ],
          [
           "a cb ed gf ih qp sr gt gd u )v 6w yx x 6x ¦ 6 w y ¤ v ¤ d fe \"g ¤ h ji F k h hl e k x ¤v 6m ¤n eo v ¤ i F k yw h x p 1x e x h 6x hx hm j x q `r kv sl e k hm w yx h t F qu wv \"n ix zy { | 6u 4{ 1} qe x \"x hx m F yx kn f h v j \" w i 6 1 i k ¨ s c j w j \" F j 9 \" h 4 wf i A s s g k )¡ ¢ £ S¤ j ¤ F¥ s¦ § )¢© «ª ¬ k¡ ® w© « )® § ) j°¢± h² F § ( ª s¤ j ¤ ´³ µ© « ¶ § ) s ¸• j (© ¦ ± (± )®ª j ¹© k³ »º ¼ ± )£ ª ½ § ² ¿¾ «± ( ¤ ¹© «ª ¿³ À Á k § )¥ j ( ¶ 4 kÂÃ k (± ÁÄ Å ¼¥ s § (© ¬³ µ k® § ) F³ À¥ j¡ ®ª s ± (± ÇAE ¢© «¡ k § )¢© «ª s± ÁÈ É®ª FÊ Ë ª j® § ( ¡ ®£ ÌÃ kª ½£ %¦ Á kª s¤ F¢¤ s k § ( ± Í¥ s± ( § Î¾ ¤ ¦ © «Â• k ( ¤ iÄ ¨Ï Î® § ) z § ) s 3Ð ( Á «± (© «ª k¾ j¡ ¢ Ñ e «± Ê ± )¥ jÂ• j § )¢© «ª s± ÒÐ dÑ É § ) k § Óº ¼ Ô¦ © «ª s± ) § ) k®ª 1 § (± k ( ´¤ j ± (¦ )®• j § )¢© «ª s± ¿¤ j ª s© « § )®ª j Y¾ ¤© «¥ jª s¤ j ¤ ± ) § ) )¥ s¦ § )¥ j ( ± I kª s¤ ÕÐ ®dÑ e § ) k § AE w )£ )¥ j¡ ¢ ( hÊ ¦ ¥ j (± )¢© «ª Ó®ª Ö § ) s Ã¾ «± ( f 4 kÂÃ k `®ª s¦ ¥ j (± ± (© «f A¦ © «ª s± ) § ) k®ª 1 § AE 1¢© «¡ k § )¢© «ª È ¼¦ ( k ) § g k¡ ×Ê w© « )® § ) j¬¦ Á kª Ø¾ ¤ Ù¤ j AE ¢± ( ¤ iÄ ¨Ú Ûª 1 § ( )¡ ¢ Á AE ®ª j • k (± )®ª j s kª s¤ ¢ w ª s k § )¢© «ª ¹• ¤ )Â® § (± f § ) s k• j• j¡ ®¢¦ Á k § )¢© «ª Í© k³ ` w ª s k § )¢© «ª FÊ ¾ «± ( ¤ Í© «• FÊ § )®Â®Ü k § )¢© «ª s AE w ª T®ª ¸ § ) s Â• k (± )®ª j ¶ § «± (Ý 6È Ä Þ 4Ä ®È F³ µ© « V Ø± ) § ) )®ª j f®ª j• j¥ j § ÁÄ ß à d c 4 wb á gr g wâ Ûb ed Ú ª ãº 3• j § )®Ã k¡ ®® § Û£ Í A s © « )£ YÐ º ¼ VÑ hÈ R¾ 6© « § ) § ) s ÒÐ AE 1¢© kÊ ¡ k¾ j¡ ¢ Ñ Õ¦ © «ª s± ( § ) k®ª ½ § (± kª s¤ Í § ) s T± ( § © k³ Â¦ © «Â• ¤ § )®ª j ¦ Á kª s¤ F¢¤ s k § ( '± ) § ) )¥ s¦ § )¥ j ( ± Ù k ( A¥ jª j®AE w (± k¡ ®¡ ®£ ®ª 1AE « k ) kª 1 § Áä å ¥ s± ) § Ù § ) s 3 ( ¡ k § )®AE w 9 kª jÝ ®ª j Ø© k³ ¨¦ © «ª s± ) § ) k®ª ½ § (± A¢± A± )¥ j¾ FÊ å ¦ § ¦ § (© ¶¦ (© 4± (± Ê ¡ ®®ª j 4¥ j¢± ) § )¢¦ fAE « k ) k § )¢© «ª Ä » A j¢± zÃ kÝ w ± º ¼ Ç kª » k § ) § ) «¦ § )®AE w Rf© ¤ j ¡ j³ µ© « § ) s R h² • j¡ kª k § )¢© «ª »© k³ § Û£ • ¤© «¡ ¢© « 4¢¦ Á k¡ cAE 4 k ) k § )¢© «ª É kª s¤ É «¦ ae ½¥ j¢± )® § )¢© «ª Ä AÚ ª q¦ © «ª FÊ § ) «± ) § f § (© sº ¼ ç• j s© «ª s© «¡ ¢© « 4£ ¿ § ) s ( Õ «± Â¾ ¤ ª Ç¡ ®® § ) § )¡ ¢ ¦ © «Â• j¥ j § k § )¢© «ª k¡ ¼è Ù© « )Ý ¿© «ª Îº ¼ é± )£ ª ½ § ² iÄ ¹ê ¼ ( 4È AÚ • j (© «• ¤© 4± ( 3 z• k (± )®ª j 1ë w ª s k § )¢© «ª ¶± ) § ) k § ( 4£ Â³ µ© « Aº ¼ ± )£ ª ½ § ² ¾ «± ( ¤ ã© «ª S g k )¡ ¢ £ Í¤ j ¤ F¥ s¦ § )¢© «ª È ¦ © «¾ j®ª FÊ ®ª j e ± k Áì Þ± ÇÐ í Áî 4î 4ï wÑ ¦ k ) § Ê ¾ «± ( ¤ Y¦ © «Â• j¥ j § k § )¢© «ª © k³ Øº ¼ ð¦ © «Â• 6 § )® § )¢© «ª è R® § ) ´®ª s± )® 4 1 § (± »³ (© «X• k (± Ê ®ª j 1ë w ª s k § )¢© «ª éè R® § ) ç¦ © «ª s± ) § ) k®ª 1 § Ê ¾ «± ( ¤ ç 4 kØÊ Ã k (± qÐ ®ª ¿• k ) § )¢¦ ¥ j¡ k Ãñ ¼ ¥ jÃ kª jª ì Þ± Ð í Áî 4î 4ò wÑ Ø®ª ½ § ( Ê ¡ ¢ Á AE ®ª j 1Ñ hÄ zó ô• j (© « § (© « § Û£ • 6 ` «± 9¾ ¤ ª ®Â• j¡ ¢ f ª 1 § ( ¤ ®ª ¶õ (© «¡ ¢© « sÄ ö ¦ 4Ä Ã÷ ø• j ( ± ( ª 1 § (± ¿¾ «¦ (Ý 4 (© «¥ jª s¤ 8© «ª Ìº ¼ ù± (£ 1ª FÊ § ² ú kª s¤ é ã³ µ© « )Ã k¡ ®®Ü k § )¢© «ª é¾ «± ( ¤ ú© «ª éû h² F¢¦ Á k¡ ×Ê"
          ],
          [
           "A Hierarchical Account of Referential Accessibility"
          ],
          [
           "¢¡ ¤£ ¦¥ ¨ § © !© #\" # ¤ $ &% ' ¦ ! )( 10 2 43 5 76 8¥ @9 BA @ C¥ D E ¢ F¥ @3 G E¡ © HA I¥ ¨P Q3 G% R !¥ S 4© FT U% R3 &¥ ¨V W !¡ ¤ YX 2© H% R3 G¥ a0 bc¡ ¤ d e f hg pi Hq sr ut wv xi y i @y i g p G d fe g h ji k l nm h l co p $q Eo sm i r l h k es Gt ju h t h v o sw & x ey zo i { u | x e} z u ~h k x nu l l u |m o sk h & g G p G G } s m u p 7 s ! C & s ¡ ¢ 5 H£ ¤ ¥ 7¡ §¦ C8© 7ª «¦ ¦¬ s sª ® h' ±°g pi Hq °² ´³ pµ • ¶ u¸ ¹ ±8º » ¼p» º n ¶ º ½ d¾ ¿ ¶ ¼¹ ÁÀ CÂ jÃ E¸ » º ³ pº ¦½ ¶ µ Ä ±º º Ã E¸ µ Å» ¿µ À ¹ ÇAE EÀ CÂ ±Ã «¸ ¹ ±» µ • ¶ Â ±½ uÈ 8º ¦¾ ÊÉ º º ¦½ u¾ ÊÉ fÂ w¹ ÇpË p» ¿Â j¹ jÀ ³ pº ¶ wÌ ÍÂ ±» ÏÎ pº ¦Ä ±º AE ÅÂ jpµ ½ pÐ Ñ¹ ÑÈ ¹ j ¶ º 2½ pÂ jÒ p½ p³ » ¿¹ j ¶ º 'À ³ dÒ ½ pÓ ±º » Ô &³ ÕÒ pÃ Ö¹ Ç½ e» ¿Ò pAE º DÉ I» ¿µ Å¾ µ ½ pÐ !¹ ±½ Î ¹ jÀ ¾ µ Ä ±º ×AE Åº n¹ Ç» ¿½ pµ ½ pÐ ØÒ ¶ µ ½ pÐ µ ½ d¾ º » ¿¹ jÀ ¾ µ Ä ±º Ù» º n¹ ÇAE ÅË ¾ ¿µ ÅÃ «º ³ ÕÒ pÃ Ö¹ ±½ Ú¹ Ç½ p½ pÂ ±¾ ¿¹ Ç¾ µ Â ±½ 7Û ÏÜ Õº Ä ±º ¦» ¹ ÇAE Ý½ pÂ ÞÄ ±º AE Ä Þ¹ Ç» ¿µ •¹ Þ¾ µ Â ±½ 8 ¶ ÖÂ ±½ w¹ jÀ ¾ ¿µ ÅÄ jº ¤AE Åº n¹ Ç» ¿½ pµ Å½ Ð ß¹ Ç» ¿º ¤µ Å½ ÕÄ jº ¶ Ë ¾ ¿µ ÅÐ d¹ Þ¾ º nÎ à ¹ Ç½ Î Ò p½ Î pº ¦» ¿AE Åá Õµ ½ pÐ âÀ CÂ d ¶ Ê¾ RÃ «Â Î º ¦AE • ¶ RÌ ÍÂ j» À ¦» Â d ¶ ¶ Ë Ã «Â Î p¹ ±AE ÝÃ Ö¹ ±À ³ pµ ½ pº AE Åº n¹ Ç» ¿½ pµ ½ pÐ ãÀ ¦Â ±Ã «¸ ¹ ±» µ ÅË ¶ Â ±½ ¤¹ Ç» ¿º Rp» ¿º ¶ º ¦½ d¾ º nÎ ¹ Ç½ Î äº Cå pAE Â ±» ¿º Î 7Û ae Iº n ¶ Ò pAE Å¾ ¿ ¶ ¶ ³ pÂ ÞÉ 2¾ ³ ¹ Ç¾ !µ Å¾ !µ • ¶ 4Ã «Â j» º cº ¦ç cÀ Cµ º ¦½ d¾ E¹ ±½ Î )Ã «Â ±» ¿º ¶ Ò À ¦À ¦º ¶ ¿ ¶ ÊÌ ÍÒ AE È Õá c ¶ º ¦Ä jº ¦» ¹ ÇAE Ã «º n¹ ± ¶ Ò p» º n ¶ ¾ ¿Â 4¾ ¿» ¿¹ ±µ Å½ ä¹ ¶ á ¶ Ê¾ ¿º ¦Ã FÒ ¶ µ Å½ Ð ¹ jÀ ¾ ¿µ ÅÄ jº !AE º ¹ ±» ½ pµ ½ pÐ ä¹ Ç½ p½ pÂ ±¾ ¿¹ Ç¾ µ Â ±½ » ¹ Þ¾ ¿³ pº ¦» ´¾ ¿³ ¹ Ç½ ³ ¹ ±½ Î ÕË èÀ C» ¹ ÞÌ é¾ º nÎ ä» Ò pAE º RÉ I» ¿µ ¾ ¿µ Å½ pÐ Ö¹ Ç¾ ¹ À CÂ ±Ã «¸ ¹ ±» ¿¹ ±È pAE º âAE Åº Ä ±º AE DÂ ±Ì $³ dÒ Ã «¹ ±½ wAE •¹ ÇÈ Â ±» zµ Å½ Ë Ä jº ¶ ¾ Ã «º ¦½ d¾ Û ê ë jì °g p I Ýí Ýq °py ì î ½ pº Â ÇÌ Ú¾ ¿³ pº ¸ » µ Ã Ö¹ Ç» ¿á ïp» ¿Â ±È AE Åº Ã « ¶ Ù¾ ³ 8¹ Þ¾ 1ð Ýñ 5ò ó» º ¦Ë ¶ º ¹ Ç» À ³ pº » ¿ ¶ IÉ I³ Â zÉ fÂ ±» ¿Ó zµ ½ ½ º ¦É ÏAE •¹ Ç½ pÐ jÒ ¹ ÇÐ jº ¶ IÂ j» D½ º ¦É ÙÎ Â ±Ë Ã Ö¹ Çµ ½ ¶ $º ½ À CÂ jÒ p½ d¾ º » $µ ¶ !¹ ¤AE •¹ ±À Ó Â ÇÌ @¹ Ä Þ¹ Çµ AE ¹ ±È pAE Åº c¹ ±½ p½ pÂ ±¾ ¿¹ Þ¾ ¿º Î Î p¹ Ç¾ ¿¹ pÛ ô Â ±AE AE º À ¾ ¿µ ÅÂ j½ «Â ÇÌ 7Î p¹ Þ¾ ¹ §µ ¶ ½ pº ¦µ Å¾ ³ pº » º ¹ j ¶ á !½ pÂ ±» À ³ pº ¹ ±7Û ² ´³ pº õÀ ¦Â ±½ ¶ ¾ » ¿Ò À ¾ ¿µ ÅÂ j½ öÂ ±Ì !¾ ¿³ pº õò º ¦½ ½ ² G» º º ¦È ¹ ±½ pÓ w ¶ µ ÅÐ j½ pµ Å÷ pË À ¦¹ ±½ d¾ AE á cµ ÅÃ «p» ¿Â ÞÄ ±º nÎ cº ¦» Ì ÍÂ ±» ¿Ã Ö¹ Ç½ À ¦º DÌ ÍÂ j» @ø ½ pÐ jAE Åµ • ¶ ³ ä ¶ á ¶ Ê¾ ¿º ¦Ã Ö ¶ Î º n¹ ÇAE µ Å½ pÐ Ùµ Å½ Ø¾ ³ pº ù Ê¾ » ¹ ±Î pµ ¾ ¿µ ÅÂ j½ ¹ ÇAE •ú ¼ð Ýñ Gò ûÎ Â jÃ «¹ ±µ Å½ 8 ¶ wü Íº Ð ¸ ¹ ±» ¿ ¶ µ Å½ Ð à Ý8¹ Ç» ¾ Ë ýÂ ÇÌ éË è ¶ º ¦º nÀ ³ ¾ ¿¹ ±Ð ±Ð ±µ ½ pÐ 8à Ýº C¾ À þ CÛ Ñÿ ÝÂ ÞÉ º Ä ±º ¦» nà Ì ÍÂ ±» ¹ ½ pº ¦É FAE •¹ Ç½ pÐ jÒ ¹ ÇÐ jº ±à Ý¹ ¶ µ Ã «µ ÅAE •¹ Ç» äµ ½ dÄ jº ¶ ¾ Ã «º ¦½ d¾ äÂ ÇÌ 4º ¦Ì éË Ì ÍÂ ±» ¾ Iµ Å½ ä¾ ¿µ ÅÃ «º $¹ Ç½ 8Î eÃ «Â ±½ º ¦á cµ • ¶ ´Ã «Â j ¶ ¾ ´AE µ Ó ±º ¦AE á cp» ¿Â ±³ µ ÅÈ pµ Å¾ µ Ä ±º jà µ ÅÌ &½ pÂ ±¾ @µ ÅÃ «Â j ¶ ¿ ¶ µ È pAE º ±Û ¹ ±À ¦º Î )É Iµ Å¾ ³ ¾ ³ º äÀ ¦Â j ¶ ¾ ¿ ¶ 4¹ j ¶ ¶ Â À Cµ •¹ Þ¾ ¿º Î )É Iµ Å¾ ³ ãÎ p¹ Þ¾ ¹ ¹ ±À CË ¡ Ò pµ • ¶ µ Å¾ µ Â ±½ 7à » ¿¹ Ç¾ µ Â ±½ ¹ ±AE Åµ • ¶ Ê¾ ¶ fÃ «¹ á z¹ Ç» ¿Ð ±Ò pº '¾ ³ 8¹ Þ¾ @µ Å¾ @É Â jÒ pAE Î äÈ º Ã «Â ±» ¿º 4À CÂ d ¶ Ê¾ Dº £¢ sº À ¾ ¿µ ÅÄ jº $¾ ¿Â eÀ CÂ j½ ¶ Ê¾ ¿» Ò 8À ¾ ' ¶ á ¶ Ê¾ ¿º ¦Ã Ö ¶ @Â ±Ì ³ ¹ Ç½ 8Î ÕË À CÂ Î º nÎ «» Ò AE Åº @AE µ • ¶ Ê¾ ¶ H¾ ³ 8¹ Þ¾ fÀ ¹ Ç¾ ¿Ò p» ¿º ´¾ ³ pº DAE Åµ ½ pÐ ±Ò µ ¶ ¾ µ •À @À ³ ¹ ±» ¿¹ jÀ Ë ¾ º » µ • ¶ ¾ µ •À ¦ ¶ HÂ ±Ì ¾ ¿³ pº I¾ ¹ ± ¶ Ó !¹ Þ¾ ³ 8¹ Ç½ Î à d» ¹ Þ¾ ³ º ¦» ¾ ³ 8¹ Ç½ c ¶ 8º ½ Î µ ½ pÐ À CÂ jÃ «¸ ¹ Ç» ¹ ÇÈ pAE º $º ¤¢ Â j» ¾ D¹ ±½ p½ pÂ ±¾ ¿¹ Þ¾ ¿µ Å½ Ð zÎ p¹ Ç¾ ¿¹ c¹ ±½ Î ¤º Cå º À C¾ µ ½ pÐ ¾ ³ º « ¶ ¿¹ ÇÃ «º «Ó Õ½ pÂ ÞÉ IAE º Î Ð jº $¾ Â È º c¹ ±À ¡ Ò µ Å» ¿º Î µ Å½ Î pµ Å» ¿º À C¾ AE á âÈ Õá ¹ zÃ «¹ jÀ ³ pµ ½ pº !AE º ¹ ±» ½ µ Å½ pÐ ¶ á Õ ¶ ¾ º Ã Û !² ´³ pº ¡ Ò pº ¶ ¾ µ Â ±½ É º «¹ Ç» ¿º ¾ » ¿á Õµ Å½ Ð D¾ ¿Â $¹ ±Î pÎ p» º n ¶ ¶ &¾ ¿³ pº ¦½ Öµ • ¶ ¦Ô 5Ì ÍÂ ±» x¹ 'Ð jµ ÅÄ jº ¦½ «À CÂ j ¶ ¾ x¹ ± ¶ ¿ ¶ Ò pÃ «Ë ¾ µ Â ±½ 5à dÉ I³ µ À ³ e¹ ±pp» ¿Â j¹ jÀ ³ ÖÉ Â jÒ pAE Î cÈ 8º Ý¾ ³ pº 'Ã «Â j ¶ ¾ º £¢ sº À C¾ µ Ä ±º jÛ ¥ AE Å¾ ³ pÂ jÒ pÐ ±³ ¤AE º ¹ ±» ½ pµ ½ pÐ ÖÀ CÒ » Ä jº ¶ @ ¶ ³ pÂ ÞÉ Iµ ½ pÐ «8º » Ì ÍÂ j» Ã Ö¹ Ç½ 8À Cº » ¿º ¦AE •¹ Þ¾ µ Ä ±º c¾ Â ¹ ±Ã «Â ±Ò p½ d¾ 4Â ±Ì I¾ » ¹ Çµ ½ pµ Å½ Ð Î p¹ Þ¾ ¹ ¹ ±» º eÀ ¦Â ±Ã «Ã «Â ±½ © «ª D¬ 2® ° k± ± ²¬ k³ °± kμ « ¶ &• x¹ ¹ Uº «» D¼ 6½ ¾ ¿» kÀ Á &Â À 6¾ Ã» k¼ °½ ¾ ¿» kÀ °Á Â À Ä AEÅ © ÈÇ @® °± 2É Ê® °± k 2É Ë± Ì &Í ²Î ¬ °Ï Ð &Ñ SÇ ® °± k 2É AE® °± 2É $Ð §Ç G± Ì 2Í ÊÎ k¬ °Ï Ð µ Ò » kÀ Ó Ô kÕ °Ö &À ª ¾ ²Å ²µ Ã ¶ ½ ½ ¿Ô Ö &× Ø ° ¶ 2Ù AEÚ ²Å µ Ò À °Á DÔ ¶ D» D¼ 6½ DÄ AEÅ «µ ¿Ô °Ö &× Ø ° ¶ &Ù ÊÚ AEÅ © ² &® °Û 2³ Í ËÜ kÝ ÈÇ G 2Þ AEÛ &³ Þ 6ß D6Ð ÃkÑ ÈÇ G 2® °Û &³ Í AEÜ kÝ Ê &Þ ËÛ 2³ Þ 6ß 26Ð µ Ç Á Þ °± Dà âá EÛ 2Þ °± Dà âá » ® °Û 2³ Í á @ 2® °Û 2³ Í Ð ¶ f¹ ¹ `º § ¶ Ç Gã Ü xá I© 6Ð ¹ ¹ Uº ã ¶ Dä D¼ x¹ ¹ `Ä åÒ » kÀ Ó Ô DÕ 6Ö &À ª Ä ²Ú ²Å µ « ¶ &• • x¹ ¹ U¾ ² ¶ Ç ae ¼ Ô á ½ ½ Ð ¹ k¹ Uº AE ¶ Ç ¼ Ô á Cae • ae °ã Ü 5á ae Á ç Ð » k¼ 6½ k¾ ã ¶ &• x¹ ¹ Uº éè Ø • °º êÒ » kÀ Ó Ô DÕ 6Ö &À ª Ä ²Ú ÊÅ © ÈÇ ® °Û Dà £Ð Ñ ÈÇ Í DÉ ° DÍ ²® °Û Dà ËÐ Ò Ç Ô É ° DÍ âá Í kÉ ° DÍ Ð ¶ ¶ 2¼ Ô £µ Ã» kÀ Ó Ô kÕ 6Ö &À ª Ä AEÅ ¿Ú © ÈÇ ë 2® °Û 2³ Í «ì îí &ï ð ËÐ µ Ç UÛ 2Þ °± Dà âá E 2® °Û 2³ Í 6Ð ¶ f¹ ¹ Uº Ç Gã Ü 5á E© 6Ð ¶ f¹ k¹ Uº AE ¶ kä D¼ x¹ ¹ Ä ÊÅ µ Ò » kÀ Ó Ô kÕ °Ö &À ª Ä ñÒ `º ¿» kÀ Ó Ô kÕ °Ö &À ª ¾ ÃÚ º ¿Ú Ê ¶ 2ò • ¸óã Ò » kÀ Ó Ô DÕ 6Ö &À ª Ä ²Ú ó ¶ ¯• • k¸¯Ò » kÀ kÓ Ô kÕ 6Ö &À ª Ä ²Ú AEÅ © ¿ae ¬ Û 2Þ °Û 2³ kÞ 6Ì Ê D¬ ¿³ °Ì &³ ° ± ± 2à ²® ° Ì D´À ae 6Ì µ « ¶ &¼ Ô 5¹ ¹ Uº Ê ¶ ae • ae Å © Èô kô G 2Þ õ ö kö ÷³ 6Ì &³ ° ± k± Dà øÏ Ì &Þ 5ö Í ËÏ &Þ Ë ¿® Ì D´À ae µ Ò ¶ ã ç kÄ ¹ k¹ `Ä ²Ú Ç G &Þ õ âá Iù Ð ¶ êÒ ÷ ¶ ã ç kÄ f¹ ¹ `Ä ²Ú ÊÅ © ú Û D¬ ËÌ Ï &Þ û ± kḱÍ Û &Þ Ê® ° Ì D´À ae 6Ì µ « ¶ Ç ¼ Ô á Ø ü á Ù ae cá Ù ¼ Ô Ð Å ¿è Ø • k© ÊÌ DÛ zú «Þ ³ 2ú ® ḱ¬ °Ì « 2¬ ǼÌ Ï &Þ û ± kḱÍ Û &Þ Ë® Ì D´À ae °Ì µ Ò » kÀ Ó Ô kÕ °Ö &À ª Ú êÒ ¶ kä D¼ ÊÚ ²Å © ÈÇ ýú °³ 6ß &É °ï"
          ],
          [
           ""
          ],
          [
           ""
          ],
          [
           "Automatic Labeling of Semantic Roles"
          ],
          [
           "Good Spelling of Vietnamese Texts, one aspect of computational linguistics in Vietnam"
          ]
         ],
         "hovertemplate": "year=2000<br>x1=%{x}<br>x2=%{y}<br>hover_data_0=%{customdata[0]}<extra></extra>",
         "legendgroup": "2000",
         "marker": {
          "color": "#636efa",
          "symbol": "circle"
         },
         "mode": "markers",
         "name": "2000",
         "orientation": "v",
         "showlegend": true,
         "type": "scatter",
         "x": [
          0.003966827876865864,
          -0.016327425837516785,
          -0.005622243508696556,
          0.0056527224369347095,
          -0.0062880446203053,
          -0.0008107168832793832,
          0.006945241242647171,
          -0.006401863414794207,
          -0.005482631269842386,
          0.01222898904234171,
          -0.00048337981570512056,
          -0.0009878118289634585,
          0.002861443907022476,
          0.0010125167900696397,
          -0.0031911777332425117,
          -0.00017419643700122833,
          0.012376529164612293,
          -0.0023624186869710684,
          0.003934440668672323,
          -0.005121211055666208,
          -0.0058471038937568665,
          0.0020860822405666113,
          0.01620311103761196,
          0.007698511239141226,
          0.0017973972717300057,
          0.0020670020021498203,
          -0.005950485356152058,
          -0.007824049331247807,
          0.0009878254495561123,
          -0.002745256060734391,
          -0.00013769353972747922,
          0.0070967222563922405,
          0.002362673170864582,
          -0.008130356669425964,
          0.0076268441043794155,
          0.0043361010029911995,
          0.008796066045761108,
          -0.0004469615814741701,
          -0.001958058914169669,
          0.008289771154522896,
          0.011112270876765251,
          0.0025678053498268127,
          -0.008942866697907448,
          0.0009881688747555017,
          -0.0037320288829505444,
          0.0036751916632056236,
          0.008676703087985516,
          0.010284369811415672,
          0.008583328686654568,
          -0.003227963810786605,
          0.004845901858061552,
          0.010488027706742287,
          -0.007973821833729744,
          -0.0019257713574916124,
          0.00708397151902318,
          -0.0005641176830977201,
          -0.014729027636349201,
          -0.002984239486977458,
          -0.0032926718704402447,
          0.0016081110807135701,
          0.011872747913002968,
          0.003129189135506749,
          -0.0017530897166579962,
          0.010664070956408978,
          0.011130059137940407,
          0.008456569164991379,
          0.0048281424678862095,
          -0.006068199872970581,
          0.005642568692564964,
          -0.007454080507159233,
          0.002298124134540558,
          -0.0017010780284181237,
          0.005441082175821066,
          0.0018226616084575653,
          0.00741482013836503,
          0.007450893521308899,
          0.006058154162019491,
          0.004619722254574299,
          -0.0008440173696726561,
          0.0016543054953217506
         ],
         "xaxis": "x",
         "y": [
          -0.0031591556034982204,
          0.0072510624304413795,
          0.0033892279025167227,
          -0.0050819129683077335,
          -0.003818011377006769,
          0.0008733886643312871,
          0.008719182573258877,
          0.0062359534204006195,
          0.0010381261818110943,
          0.0016268071485683322,
          0.010419982485473156,
          -0.0036143821198493242,
          0.003748350078240037,
          -0.004334350116550922,
          0.017948517575860023,
          -0.01823093369603157,
          -0.0031521201599389315,
          0.004300233442336321,
          -0.007047334220260382,
          0.0007046437240205705,
          -0.004712479189038277,
          0.00527957221493125,
          0.0040984987281262875,
          -0.0027701074723154306,
          -0.0071381498128175735,
          -0.0067261806689202785,
          0.00955505296587944,
          -0.005831894464790821,
          -0.011034958995878696,
          -0.004162535537034273,
          -0.010768466629087925,
          -0.0011510805925354362,
          0.007354616187512875,
          0.008722706697881222,
          0.0009191347635351121,
          -0.00014374381862580776,
          0.011633400805294514,
          -0.005785495974123478,
          -0.008700598031282425,
          -0.0018627020763233304,
          0.007963927462697029,
          0.0001708415657049045,
          0.0005123654846101999,
          0.015994278714060783,
          0.0069563668221235275,
          0.008213202469050884,
          -0.004976280964910984,
          0.0067578451707959175,
          0.007066350895911455,
          -0.018742365762591362,
          -0.002409460721537471,
          -0.011770686134696007,
          -0.00223961821757257,
          0.002450080355629325,
          0.009178776293992996,
          0.005004283040761948,
          0.0014203020837157965,
          0.0027432048227638006,
          0.002743280027061701,
          0.005409543868154287,
          -0.002816616091877222,
          0.015277329832315445,
          -0.01463938970118761,
          -0.010630084201693535,
          -0.003121189307421446,
          0.0005313593428581953,
          -0.0011996766552329063,
          -0.005171284079551697,
          0.0064702024683356285,
          -0.01090245507657528,
          0.007073270156979561,
          0.0027549199294298887,
          -0.002937170909717679,
          -0.011967554688453674,
          -0.003951747436076403,
          0.01170183252543211,
          0.0018006789032369852,
          0.005978265777230263,
          0.005607665982097387,
          -0.00868198461830616
         ],
         "yaxis": "y"
        },
        {
         "customdata": [
          [
           "Syntactic and Semantic Factors in Processing Difficulty: An Integrated Measure"
          ],
          [
           "Decision detection using hierarchical graphical models"
          ],
          [
           "Open Information Extraction using Wikipedia"
          ],
          [
           "\"Was it good? It was provocative.\" Learning the meaning of scalar adjectives"
          ],
          [
           "Online Generation of Locality Sensitive Hash Signatures"
          ],
          [
           "Coreference Resolution with Reconcile"
          ],
          [
           "Improved Unsupervised POS Induction through Prototype Discovery"
          ],
          [
           "Edit Tree Distance alignments for Semantic Role Labelling"
          ],
          [
           "Constituency to Dependency Translation with Forests"
          ],
          [
           "GernEdiT: A Graphical Tool for GermaNet Development"
          ],
          [
           "Generating image descriptions using dependency relational patterns"
          ],
          [
           "Importance of linguistic constraints in statistical dependency parsing"
          ],
          [
           "Cross-Language Text Classification using Structural Correspondence Learning"
          ],
          [
           "A Structured Model for Joint Learning of Argument Roles and Predicate Senses"
          ],
          [
           "\"Ask not what Textual Entailment can do for You...\""
          ],
          [
           "Identifying Non-explicit Citing Sentences for Citation-based Summarization"
          ],
          [
           "Semantics-Driven Shallow Parsing for Chinese Semantic Role Labeling"
          ],
          [
           "Event-based Hyperspace Analogue to Language for Query Expansion"
          ],
          [
           ""
          ],
          [
           "Importance-Driven Turn-Bidding for Spoken Dialogue Systems"
          ],
          [
           "Learning Script Knowledge with Web Experiments"
          ],
          [
           "Learning Phrase-Based Spelling Error Models from Clickthrough Data"
          ],
          [
           "Supervised Noun Phrase Coreference Research: The First Fifteen Years"
          ],
          [
           "Topic Models for Word Sense Disambiguation and Token-based Idiom Detection"
          ],
          [
           "Tree-Based Deterministic Dependency Parsing -An Application to Nivre's Method"
          ],
          [
           "SystemT: An Algebraic Approach to Declarative Information Extraction"
          ],
          [
           "Now, where was I? Resumption strategies for an in-vehicle dialogue system"
          ],
          [
           ""
          ],
          [
           "Modeling Norms of Turn-Taking in Multi-Party Conversation"
          ],
          [
           "Top-Down K-Best A * Parsing"
          ],
          [
           "Joint Syntactic and Semantic Parsing of Chinese"
          ],
          [
           "Efficient Inference Through Cascades of Weighted Tree Transducers"
          ],
          [
           "Unsupervised Event Coreference Resolution with Rich Linguistic Features"
          ],
          [
           "It Makes Sense: A Wide-Coverage Word Sense Disambiguation System for Free Text"
          ],
          [
           "Preferences versus Adaptation during Referring Expression Generation"
          ],
          [
           "Beyond NomBank: A Study of Implicit Arguments for Nominal Predicates"
          ],
          [
           "A Statistical Model for Lost Language Decipherment"
          ],
          [
           "Exemplar-Based Models for Word Meaning In Context"
          ],
          [
           "The Same-head Heuristic for Coreference"
          ],
          [
           "Sentiment Translation through Lexicon Induction"
          ],
          [
           ""
          ],
          [
           "Fixed Length Word Suffix for Factored Statistical Machine Translation"
          ],
          [
           "Hard Constraints for Grammatical Function Labelling"
          ],
          [
           "Estimating Strictly Piecewise Distributions"
          ],
          [
           "Mood Patterns and Affective Lexicon Access in Weblogs"
          ],
          [
           "Models of Metaphor in NLP"
          ],
          [
           "SVD and Clustering for Unsupervised POS Tagging"
          ],
          [
           "Plot Induction and Evolutionary Search for Story Generation"
          ],
          [
           "Complexity assumptions in ontology verbalisation"
          ],
          [
           "Wikipedia as Sense Inventory to Improve Diversity in Web Search Results"
          ],
          [
           "Don't 'have a clue'? Unsupervised co-learning of downward-entailing operators"
          ],
          [
           "Boosting-based System Combination for Machine Translation"
          ],
          [
           "WSD as a Distributed Constraint Optimization Problem"
          ],
          [
           "On Jointly Recognizing and Aligning Bilingual Named Entities"
          ],
          [
           "Learning to Adapt to Unknown Users: Referring Expression Generation in Spoken Dialogue Systems"
          ],
          [
           "Tree-based and Forest-based Translation"
          ],
          [
           "Using Speech to Reply to SMS Messages While Driving: An In-Car Simulator User Study"
          ],
          [
           "Wrapping up a Summary: from Representation to Generation"
          ],
          [
           "Generating Fine-Grained Reviews of Songs From Album Reviews"
          ],
          [
           "Unsupervised Discourse Segmentation of Documents with Inherently Parallel Structure"
          ],
          [
           "Detecting Errors in Automatically-Parsed Dependency Relations"
          ],
          [
           "BabelNet: Building a Very Large Multilingual Semantic Network"
          ],
          [
           "Non-Cooperation in Dialogue"
          ],
          [
           "A Semi-Supervised Key Phrase Extraction Approach: Learning from Title Phrases through a Document Semantic Network"
          ],
          [
           "Sentiment Learning on Product Reviews via Sentiment Ontology Tree"
          ],
          [
           "Paraphrase Lattice for Statistical Machine Translation"
          ],
          [
           "Towards Relational POMDPs for Adaptive Dialogue Management"
          ],
          [
           "Growing Related Words from Seed via User Behaviors: A Re-ranking Based Approach"
          ],
          [
           "Evaluating Multilanguage-Comparability of Subjectivity Analysis Systems"
          ],
          [
           "Diversify and Combine: Improving Word Alignment for Machine Translation on Low-Resource Languages"
          ],
          [
           "Faster Parsing by Supertagger Adaptation"
          ],
          [
           "Open-Domain Semantic Role Labeling by Modeling Word Spans"
          ],
          [
           "A Unified Graph Model for Sentence-based Opinion Retrieval"
          ],
          [
           "Fine-grained Tree-to-String Translation Rule Extraction"
          ],
          [
           ""
          ],
          [
           "Learning Word-Class Lattices for Definition and Hypernym Extraction"
          ],
          [
           "TrustRank: Inducing Trust in Automatic Translations via Ranking"
          ],
          [
           "Automatically generating annotator rationales to improve sentiment classification"
          ],
          [
           "Towards robust multi-tool tagging. An OWL/DL-based approach"
          ],
          [
           "Incorporating Extra-linguistic Information into Reference Resolution in Collaborative Task Dialogue"
          ]
         ],
         "hovertemplate": "year=2010<br>x1=%{x}<br>x2=%{y}<br>hover_data_0=%{customdata[0]}<extra></extra>",
         "legendgroup": "2010",
         "marker": {
          "color": "#EF553B",
          "symbol": "circle"
         },
         "mode": "markers",
         "name": "2010",
         "orientation": "v",
         "showlegend": true,
         "type": "scatter",
         "x": [
          0.01863553747534752,
          0.007407665718346834,
          0.005784962791949511,
          0.011885242536664009,
          0.0013128516729921103,
          0.006015411578118801,
          -0.009962637908756733,
          0.0020620333962142467,
          0.007480380591005087,
          -0.005770090967416763,
          0.0047162557020783424,
          -0.012431384064257145,
          -0.007164031732827425,
          0.008422928862273693,
          -0.004795662127435207,
          -0.004576520528644323,
          0.012276125140488148,
          -0.014240117743611336,
          -0.006481626071035862,
          -0.0004234666412230581,
          -0.01250959001481533,
          -0.0020708804950118065,
          -0.003298771334812045,
          0.013213273137807846,
          -0.013637460768222809,
          0.0011768193216994405,
          -0.01065351814031601,
          0.002166623715311289,
          -0.011649801395833492,
          0.006150893867015839,
          0.007928279228508472,
          -0.003759701270610094,
          -0.0003816899552475661,
          -0.0024335463531315327,
          -0.008414381183683872,
          -0.0027940256986767054,
          -0.003165466245263815,
          0.0034602140076458454,
          0.0016067586839199066,
          0.017610197886824608,
          -0.0088184904307127,
          -0.01596936024725437,
          0.00013766999472863972,
          -0.002694289665669203,
          0.0034036929719150066,
          0.011738602072000504,
          0.010687852278351784,
          -0.009664727374911308,
          -0.007170515134930611,
          0.002193870721384883,
          -0.006150084547698498,
          -0.007528525311499834,
          0.002965457271784544,
          0.009637297131121159,
          -0.009377187117934227,
          0.01756584830582142,
          0.003820080077275634,
          -0.011372755281627178,
          -0.007161324843764305,
          -0.004525737836956978,
          0.004160450771450996,
          -0.0023856484331190586,
          -0.0021538794972002506,
          0.010297326371073723,
          -0.0013082762015983462,
          -0.018872423097491264,
          0.012272778898477554,
          0.01988132670521736,
          0.0051792035810649395,
          0.0025162911042571068,
          -0.006732250563800335,
          0.003936152905225754,
          0.008680418133735657,
          -0.005325200967490673,
          0.004661630839109421,
          -0.005659888964146376,
          0.006769121624529362,
          0.013266176916658878,
          -0.003833166556432843,
          0.00470272870734334
         ],
         "xaxis": "x",
         "y": [
          -0.002597180427983403,
          -0.00427135918289423,
          0.001921480637975037,
          -0.005478065926581621,
          0.0002997001865878701,
          -0.005120750982314348,
          0.005875302013009787,
          -0.014192279428243637,
          0.019095532596111298,
          0.002469657687470317,
          -0.015017946250736713,
          -0.004892389755696058,
          -0.014440780505537987,
          -0.004016082733869553,
          -0.009852880612015724,
          -0.005940983071923256,
          -0.012818245217204094,
          0.0026436136104166508,
          -0.0010755900293588638,
          0.011292638257145882,
          -0.001334438449703157,
          0.0013562020612880588,
          0.010583481751382351,
          -0.0020580028649419546,
          -0.01575149968266487,
          0.008428103290498257,
          -0.012145785614848137,
          0.011564508080482483,
          0.005524749401956797,
          0.00001727025846776087,
          -0.006417344324290752,
          -0.007763986941426992,
          0.003734108991920948,
          -0.01145742554217577,
          -0.01625566929578781,
          -0.010224217548966408,
          0.004580720793455839,
          -0.01779550313949585,
          -0.005630081053823233,
          0.0013489677803590894,
          -0.004804769065231085,
          0.006783103570342064,
          -0.006921903695911169,
          0.00003380175257916562,
          0.007967445068061352,
          -0.0012305384734645486,
          0.010940040461719036,
          -0.003817020682618022,
          0.005581717938184738,
          0.0019893122371286154,
          0.0031273190397769213,
          0.0011477555381134152,
          -0.007805759087204933,
          -0.010649983771145344,
          0.004866834729909897,
          0.002388677094131708,
          -0.00763615733012557,
          -0.0013841831823810935,
          -0.000280551117612049,
          0.000733599066734314,
          -0.009840697981417179,
          0.009314791299402714,
          -0.010469693690538406,
          -0.006124080624431372,
          0.0004998996737413108,
          -0.003508497728034854,
          -0.004356500692665577,
          0.0017085489816963673,
          0.004522679373621941,
          0.0000828003030619584,
          0.004045369569212198,
          -0.002732838038355112,
          0.004936551209539175,
          0.007802982814610004,
          -0.0019823084585368633,
          0.01530950702726841,
          -0.005029329564422369,
          0.00015621141938026994,
          0.01183388289064169,
          -0.00016173919721040875
         ],
         "yaxis": "y"
        },
        {
         "customdata": [
          [
           "Like a Baby: Visually Situated Neural Language Acquisition"
          ],
          [
           "Inter-sentence Relation Extraction with Document-level Graph Convolutional Neural Network"
          ],
          [
           "Finding Your Voice: The Linguistic Development of Mental Health Counselors"
          ],
          [
           "Generating Fluent Adversarial Examples for Natural Languages"
          ],
          [
           "Exploiting Invertible Decoders for Unsupervised Sentence Representation Learning"
          ],
          [
           "Unsupervised Information Extraction: Regularizing Discriminative Approaches with Relation Distribution Losses"
          ],
          [
           "Determining Relative Argument Specificity and Stance for Complex Argumentative Structures"
          ],
          [
           "Robust Neural Machine Translation with Doubly Adversarial Inputs"
          ],
          [
           "Coreference Resolution with Entity Equalization"
          ],
          [
           "Multiple Character Embeddings for Chinese Word Segmentation"
          ],
          [
           "Microsoft ICECAPS: An Open-Source Toolkit for Conversation Modeling"
          ],
          [
           "Cost-sensitive Regularization for Label Confusion-aware Event Detection"
          ],
          [
           "Neural Aspect and Opinion Term Extraction with Mined Rules as Weak Supervision"
          ],
          [
           "Domain Adaptive Inference for Neural Machine Translation"
          ],
          [
           "Cross-Domain NER using Cross-Domain Language Modeling"
          ],
          [
           "Shared-Private Bilingual Word Embeddings for Neural Machine Translation"
          ],
          [
           "Emotion-Cause Pair Extraction: A New Task to Emotion Analysis in Texts"
          ],
          [
           "Multi-Relational Script Learning for Discourse Relations"
          ],
          [
           "Multimodal and Multi-view Models for Emotion Recognition"
          ],
          [
           "Open-Domain Why-Question Answering with Adversarial Learning to Encode Answer Texts"
          ],
          [
           "Global Textual Relation Embedding for Relational Understanding"
          ],
          [
           "Multi-Style Generative Reading Comprehension"
          ],
          [
           "Syntactically Supervised Transformers for Faster Neural Machine Translation"
          ],
          [
           "Multilingual Factor Analysis"
          ],
          [
           "Multimodal Abstractive Summarization for How2 Videos"
          ],
          [
           "Exploring Phoneme-Level Speech Representations for End-to-End Speech Translation"
          ],
          [
           "Heuristic Authorship Obfuscation"
          ],
          [
           "A Neural Multi-digraph Model for Chinese NER with Gazetteers"
          ],
          [
           "Joint Effects of Context and User History for Predicting Online Conversation Re-entries"
          ],
          [
           "Dialogue-Act Prediction of Future Responses based on Conversation History"
          ],
          [
           "Predicting the Outcome of Deliberative Democracy: A Research Proposal"
          ],
          [
           "SARAL: A Low-Resource Cross-Lingual Domain-Focused Information Retrieval System for Effective Rapid Document Triage"
          ],
          [
           "Distilling Discrimination and Generalization Knowledge for Event Detection via ∆-Representation Learning"
          ],
          [
           "Self-Attentional Models for Lattice Inputs"
          ],
          [
           "Ensuring Readability and Data-fidelity using Head-modifier Templates in Deep Type Description Generation"
          ],
          [
           "Towards Integration of Statistical Hypothesis Tests into Deep Neural Networks"
          ],
          [
           "Latent Variable Sentiment Grammar *"
          ],
          [
           "Deep Neural Model Inspection and Comparison via Functional Neuron Pathways"
          ],
          [
           "Reversing Gradients in Adversarial Domain Adaptation for Question Deduplication and Textual Entailment Tasks"
          ],
          [
           "Towards incremental learning of word embeddings using context informativeness"
          ],
          [
           "Searching for Effective Neural Extractive Summarization: What Works and What's Next"
          ],
          [
           "Leveraging Local and Global Patterns for Self-Attention Networks"
          ],
          [
           "Topic Sensitive Attention on Generic Corpora Corrects Sense Bias in Pretrained Embeddings"
          ],
          [
           "Interpretable Neural Predictions with Differentiable Binary Variables"
          ],
          [
           "Fine-Grained Temporal Relation Extraction"
          ],
          [
           "Pre-Learning Environment Representations for Data-Efficient Neural Instruction Following"
          ],
          [
           "Cross-Sentence Grammatical Error Correction"
          ],
          [
           "Learning Representations from Imperfect Time Series Data via Tensor Rank Regularization"
          ],
          [
           "Syntax-Infused Variational Autoencoder for Text Generation"
          ],
          [
           "Lattice Transformer for Speech Translation"
          ],
          [
           "Uncovering Probabilistic Implications in Typological Knowledge Bases"
          ],
          [
           "Numeracy-600K: Learning Numeracy for Detecting Exaggerated Information in Market Comments"
          ],
          [
           "TARGER: Neural Argument Mining at Your Fingertips"
          ],
          [
           "Complex Word Identification as a Sequence Labelling Task"
          ],
          [
           "Multilingual and Cross-Lingual Graded Lexical Entailment"
          ],
          [
           "A Just and Comprehensive Strategy for Using NLP to Address Online Abuse"
          ],
          [
           "Bridging the Gap between Training and Inference for Neural Machine Translation"
          ],
          [
           "How to (Properly) Evaluate Cross-Lingual Word Embeddings: On Strong Baselines, Comparative Analyses, and Some Misconceptions"
          ],
          [
           "What Kind of Language Is Hard to Language-Model?"
          ],
          [
           "Towards Fine-grained Text Sentiment Transfer"
          ],
          [
           "DocRED: A Large-Scale Document-Level Relation Extraction Dataset"
          ],
          [
           "Enhancing Air Quality Prediction with Social Media and Natural Language Processing"
          ],
          [
           "Robust Zero-Shot Cross-Domain Slot Filling with Example Values"
          ],
          [
           "Automatically Identifying Complaints in Social Media"
          ],
          [
           "Are You Looking? Grounding to Multiple Modalities in Vision-and-Language Navigation"
          ],
          [
           "Putting words in context: LSTM language models and lexical ambiguity"
          ],
          [
           "Sentiment Analysis on Naija-Tweets"
          ],
          [
           "Multi-Grained Named Entity Recognition"
          ],
          [
           "Cross-Modal Commentator: Automatic Machine Commenting Based on Cross-Modal Information"
          ],
          [
           "Better Character Language Modeling Through Morphology"
          ],
          [
           "Generating Question Relevant Captions to Aid Visual Question Answering"
          ],
          [
           "MOROCO: The Moldavian and Romanian Dialectal Corpus"
          ],
          [
           "NeuralClassifier: An Open-source Neural Hierarchical Multi-label Text Classification Toolkit"
          ],
          [
           "A Lightweight Recurrent Network for Sequence Modeling"
          ],
          [
           "Soft Representation Learning for Sparse Transfer"
          ],
          [
           "We need to talk about standard splits"
          ],
          [
           "Energy and Policy Considerations for Deep Learning in NLP"
          ],
          [
           "Eliciting Knowledge from Experts: Automatic Transcript Parsing for Cognitive Task Analysis"
          ],
          [
           "Explain Yourself! Leveraging Language Models for Commonsense Reasoning"
          ],
          [
           "Unsupervised Bilingual Word Embedding Agreement for Unsupervised Neural Machine Translation"
          ]
         ],
         "hovertemplate": "year=2019<br>x1=%{x}<br>x2=%{y}<br>hover_data_0=%{customdata[0]}<extra></extra>",
         "legendgroup": "2019",
         "marker": {
          "color": "#00cc96",
          "symbol": "circle"
         },
         "mode": "markers",
         "name": "2019",
         "orientation": "v",
         "showlegend": true,
         "type": "scatter",
         "x": [
          -0.005712923128157854,
          0.002634612377732992,
          0.009156380780041218,
          0.00723380409181118,
          -0.00046601647045463324,
          0.003363711526617408,
          0.008145686239004135,
          -0.0035890957806259394,
          -0.004170656204223633,
          -0.0010195185896009207,
          -0.0066269440576434135,
          0.013354170136153698,
          0.014777382835745811,
          0.001224167994223535,
          0.0008721160120330751,
          -0.005143826361745596,
          -0.0032277589198201895,
          0.006859208457171917,
          -0.013938510790467262,
          -0.0004816743894480169,
          -0.0010871975682675838,
          -0.0009852563962340355,
          0.0033587764482945204,
          -0.010479900054633617,
          -0.0024707792326807976,
          0.0011184749891981483,
          -0.00646407762542367,
          0.007061114069074392,
          0.007509808521717787,
          -0.0007692264625802636,
          0.003969175275415182,
          0.0012226536637172103,
          -0.014638581313192844,
          -0.010637137107551098,
          0.005715871695429087,
          -0.004474191460758448,
          -0.004830125253647566,
          0.007332941517233849,
          -0.01432923786342144,
          -0.008582482114434242,
          0.004456492606550455,
          -0.008440195582807064,
          0.003617106005549431,
          -0.009974172338843346,
          0.008353621698915958,
          -0.006565401330590248,
          -0.0016729405615478754,
          -0.0002134628448402509,
          0.0069940537214279175,
          -0.010001913644373417,
          -0.008879459463059902,
          -0.003484143642708659,
          -0.010293916799128056,
          -0.012383347377181053,
          -0.0076280697248876095,
          -0.011602281592786312,
          -0.0015445402823388577,
          0.0002240952744614333,
          0.004477214068174362,
          -0.013352053239941597,
          -0.01792018488049507,
          -0.003959340043365955,
          -0.011174319311976433,
          -0.0026842565275728703,
          -0.004017706494778395,
          -0.0046684653498232365,
          -0.004693987313657999,
          -0.000559553736820817,
          -0.008696742355823517,
          0.011223328299820423,
          -0.003298338269814849,
          -0.002367938868701458,
          -0.00804290920495987,
          0.008950809948146343,
          0.003743220353499055,
          -0.010089385323226452,
          -0.0038777890149503946,
          0.019364189356565475,
          -0.014800328761339188,
          0.004992024973034859
         ],
         "xaxis": "x",
         "y": [
          0.022484049201011658,
          -0.008393079042434692,
          0.00616058986634016,
          -0.0017897405195981264,
          0.004893352743238211,
          0.0014635751722380519,
          0.005439847707748413,
          -0.0003036124398931861,
          -0.00868258811533451,
          0.010047081857919693,
          -0.007220317143946886,
          0.003272531321272254,
          -0.006812083534896374,
          0.005987831391394138,
          -0.012557262554764748,
          -0.0018702034140005708,
          0.012666433118283749,
          0.012106945738196373,
          -0.0036821551620960236,
          0.009902720339596272,
          -0.00020280179160181433,
          -0.0028946285601705313,
          0.00416561309248209,
          0.0015842742286622524,
          -0.010695014148950577,
          -0.0029731637332588434,
          0.014666755683720112,
          -0.0012150320690125227,
          0.0063271126709878445,
          0.0036236175801604986,
          -0.0002783594245556742,
          0.002027234761044383,
          0.0014157333644106984,
          -0.0014666089555248618,
          0.00371559988707304,
          0.009838691912591457,
          0.008360189385712147,
          -0.004318820312619209,
          0.0068163685500621796,
          0.005977496970444918,
          0.010240476578474045,
          -0.010339942760765553,
          0.0009689716971479356,
          0.005627797916531563,
          -0.00303781870752573,
          0.0026560251135379076,
          0.011247292160987854,
          -0.00032536298385821283,
          -0.004315483849495649,
          0.004358522593975067,
          -0.005357213784009218,
          0.004589404910802841,
          -0.0090391356498003,
          0.008998021483421326,
          0.0035532342735677958,
          -0.004571558907628059,
          -0.00173657713457942,
          -0.0015765278367325664,
          -0.006365553010255098,
          0.0030401560943573713,
          -0.00881084892898798,
          0.0055915722623467445,
          -0.0014639480505138636,
          0.006941115949302912,
          -0.006115488242357969,
          0.004041834734380245,
          0.010200523771345615,
          0.008953395299613476,
          -0.01052451878786087,
          -0.001865873346105218,
          0.0017787598771974444,
          0.007602292113006115,
          -0.010736720636487007,
          0.0054985773749649525,
          -0.008524422533810139,
          -0.0008659022278152406,
          -0.009298429824411869,
          0.001022009295411408,
          -0.005789709277451038,
          -0.0032754363492131233
         ],
         "yaxis": "y"
        }
       ],
       "layout": {
        "legend": {
         "title": {
          "text": "year"
         },
         "tracegroupgap": 0
        },
        "margin": {
         "t": 60
        },
        "template": {
         "data": {
          "bar": [
           {
            "error_x": {
             "color": "#2a3f5f"
            },
            "error_y": {
             "color": "#2a3f5f"
            },
            "marker": {
             "line": {
              "color": "#E5ECF6",
              "width": 0.5
             },
             "pattern": {
              "fillmode": "overlay",
              "size": 10,
              "solidity": 0.2
             }
            },
            "type": "bar"
           }
          ],
          "barpolar": [
           {
            "marker": {
             "line": {
              "color": "#E5ECF6",
              "width": 0.5
             },
             "pattern": {
              "fillmode": "overlay",
              "size": 10,
              "solidity": 0.2
             }
            },
            "type": "barpolar"
           }
          ],
          "carpet": [
           {
            "aaxis": {
             "endlinecolor": "#2a3f5f",
             "gridcolor": "white",
             "linecolor": "white",
             "minorgridcolor": "white",
             "startlinecolor": "#2a3f5f"
            },
            "baxis": {
             "endlinecolor": "#2a3f5f",
             "gridcolor": "white",
             "linecolor": "white",
             "minorgridcolor": "white",
             "startlinecolor": "#2a3f5f"
            },
            "type": "carpet"
           }
          ],
          "choropleth": [
           {
            "colorbar": {
             "outlinewidth": 0,
             "ticks": ""
            },
            "type": "choropleth"
           }
          ],
          "contour": [
           {
            "colorbar": {
             "outlinewidth": 0,
             "ticks": ""
            },
            "colorscale": [
             [
              0,
              "#0d0887"
             ],
             [
              0.1111111111111111,
              "#46039f"
             ],
             [
              0.2222222222222222,
              "#7201a8"
             ],
             [
              0.3333333333333333,
              "#9c179e"
             ],
             [
              0.4444444444444444,
              "#bd3786"
             ],
             [
              0.5555555555555556,
              "#d8576b"
             ],
             [
              0.6666666666666666,
              "#ed7953"
             ],
             [
              0.7777777777777778,
              "#fb9f3a"
             ],
             [
              0.8888888888888888,
              "#fdca26"
             ],
             [
              1,
              "#f0f921"
             ]
            ],
            "type": "contour"
           }
          ],
          "contourcarpet": [
           {
            "colorbar": {
             "outlinewidth": 0,
             "ticks": ""
            },
            "type": "contourcarpet"
           }
          ],
          "heatmap": [
           {
            "colorbar": {
             "outlinewidth": 0,
             "ticks": ""
            },
            "colorscale": [
             [
              0,
              "#0d0887"
             ],
             [
              0.1111111111111111,
              "#46039f"
             ],
             [
              0.2222222222222222,
              "#7201a8"
             ],
             [
              0.3333333333333333,
              "#9c179e"
             ],
             [
              0.4444444444444444,
              "#bd3786"
             ],
             [
              0.5555555555555556,
              "#d8576b"
             ],
             [
              0.6666666666666666,
              "#ed7953"
             ],
             [
              0.7777777777777778,
              "#fb9f3a"
             ],
             [
              0.8888888888888888,
              "#fdca26"
             ],
             [
              1,
              "#f0f921"
             ]
            ],
            "type": "heatmap"
           }
          ],
          "heatmapgl": [
           {
            "colorbar": {
             "outlinewidth": 0,
             "ticks": ""
            },
            "colorscale": [
             [
              0,
              "#0d0887"
             ],
             [
              0.1111111111111111,
              "#46039f"
             ],
             [
              0.2222222222222222,
              "#7201a8"
             ],
             [
              0.3333333333333333,
              "#9c179e"
             ],
             [
              0.4444444444444444,
              "#bd3786"
             ],
             [
              0.5555555555555556,
              "#d8576b"
             ],
             [
              0.6666666666666666,
              "#ed7953"
             ],
             [
              0.7777777777777778,
              "#fb9f3a"
             ],
             [
              0.8888888888888888,
              "#fdca26"
             ],
             [
              1,
              "#f0f921"
             ]
            ],
            "type": "heatmapgl"
           }
          ],
          "histogram": [
           {
            "marker": {
             "pattern": {
              "fillmode": "overlay",
              "size": 10,
              "solidity": 0.2
             }
            },
            "type": "histogram"
           }
          ],
          "histogram2d": [
           {
            "colorbar": {
             "outlinewidth": 0,
             "ticks": ""
            },
            "colorscale": [
             [
              0,
              "#0d0887"
             ],
             [
              0.1111111111111111,
              "#46039f"
             ],
             [
              0.2222222222222222,
              "#7201a8"
             ],
             [
              0.3333333333333333,
              "#9c179e"
             ],
             [
              0.4444444444444444,
              "#bd3786"
             ],
             [
              0.5555555555555556,
              "#d8576b"
             ],
             [
              0.6666666666666666,
              "#ed7953"
             ],
             [
              0.7777777777777778,
              "#fb9f3a"
             ],
             [
              0.8888888888888888,
              "#fdca26"
             ],
             [
              1,
              "#f0f921"
             ]
            ],
            "type": "histogram2d"
           }
          ],
          "histogram2dcontour": [
           {
            "colorbar": {
             "outlinewidth": 0,
             "ticks": ""
            },
            "colorscale": [
             [
              0,
              "#0d0887"
             ],
             [
              0.1111111111111111,
              "#46039f"
             ],
             [
              0.2222222222222222,
              "#7201a8"
             ],
             [
              0.3333333333333333,
              "#9c179e"
             ],
             [
              0.4444444444444444,
              "#bd3786"
             ],
             [
              0.5555555555555556,
              "#d8576b"
             ],
             [
              0.6666666666666666,
              "#ed7953"
             ],
             [
              0.7777777777777778,
              "#fb9f3a"
             ],
             [
              0.8888888888888888,
              "#fdca26"
             ],
             [
              1,
              "#f0f921"
             ]
            ],
            "type": "histogram2dcontour"
           }
          ],
          "mesh3d": [
           {
            "colorbar": {
             "outlinewidth": 0,
             "ticks": ""
            },
            "type": "mesh3d"
           }
          ],
          "parcoords": [
           {
            "line": {
             "colorbar": {
              "outlinewidth": 0,
              "ticks": ""
             }
            },
            "type": "parcoords"
           }
          ],
          "pie": [
           {
            "automargin": true,
            "type": "pie"
           }
          ],
          "scatter": [
           {
            "fillpattern": {
             "fillmode": "overlay",
             "size": 10,
             "solidity": 0.2
            },
            "type": "scatter"
           }
          ],
          "scatter3d": [
           {
            "line": {
             "colorbar": {
              "outlinewidth": 0,
              "ticks": ""
             }
            },
            "marker": {
             "colorbar": {
              "outlinewidth": 0,
              "ticks": ""
             }
            },
            "type": "scatter3d"
           }
          ],
          "scattercarpet": [
           {
            "marker": {
             "colorbar": {
              "outlinewidth": 0,
              "ticks": ""
             }
            },
            "type": "scattercarpet"
           }
          ],
          "scattergeo": [
           {
            "marker": {
             "colorbar": {
              "outlinewidth": 0,
              "ticks": ""
             }
            },
            "type": "scattergeo"
           }
          ],
          "scattergl": [
           {
            "marker": {
             "colorbar": {
              "outlinewidth": 0,
              "ticks": ""
             }
            },
            "type": "scattergl"
           }
          ],
          "scattermapbox": [
           {
            "marker": {
             "colorbar": {
              "outlinewidth": 0,
              "ticks": ""
             }
            },
            "type": "scattermapbox"
           }
          ],
          "scatterpolar": [
           {
            "marker": {
             "colorbar": {
              "outlinewidth": 0,
              "ticks": ""
             }
            },
            "type": "scatterpolar"
           }
          ],
          "scatterpolargl": [
           {
            "marker": {
             "colorbar": {
              "outlinewidth": 0,
              "ticks": ""
             }
            },
            "type": "scatterpolargl"
           }
          ],
          "scatterternary": [
           {
            "marker": {
             "colorbar": {
              "outlinewidth": 0,
              "ticks": ""
             }
            },
            "type": "scatterternary"
           }
          ],
          "surface": [
           {
            "colorbar": {
             "outlinewidth": 0,
             "ticks": ""
            },
            "colorscale": [
             [
              0,
              "#0d0887"
             ],
             [
              0.1111111111111111,
              "#46039f"
             ],
             [
              0.2222222222222222,
              "#7201a8"
             ],
             [
              0.3333333333333333,
              "#9c179e"
             ],
             [
              0.4444444444444444,
              "#bd3786"
             ],
             [
              0.5555555555555556,
              "#d8576b"
             ],
             [
              0.6666666666666666,
              "#ed7953"
             ],
             [
              0.7777777777777778,
              "#fb9f3a"
             ],
             [
              0.8888888888888888,
              "#fdca26"
             ],
             [
              1,
              "#f0f921"
             ]
            ],
            "type": "surface"
           }
          ],
          "table": [
           {
            "cells": {
             "fill": {
              "color": "#EBF0F8"
             },
             "line": {
              "color": "white"
             }
            },
            "header": {
             "fill": {
              "color": "#C8D4E3"
             },
             "line": {
              "color": "white"
             }
            },
            "type": "table"
           }
          ]
         },
         "layout": {
          "annotationdefaults": {
           "arrowcolor": "#2a3f5f",
           "arrowhead": 0,
           "arrowwidth": 1
          },
          "autotypenumbers": "strict",
          "coloraxis": {
           "colorbar": {
            "outlinewidth": 0,
            "ticks": ""
           }
          },
          "colorscale": {
           "diverging": [
            [
             0,
             "#8e0152"
            ],
            [
             0.1,
             "#c51b7d"
            ],
            [
             0.2,
             "#de77ae"
            ],
            [
             0.3,
             "#f1b6da"
            ],
            [
             0.4,
             "#fde0ef"
            ],
            [
             0.5,
             "#f7f7f7"
            ],
            [
             0.6,
             "#e6f5d0"
            ],
            [
             0.7,
             "#b8e186"
            ],
            [
             0.8,
             "#7fbc41"
            ],
            [
             0.9,
             "#4d9221"
            ],
            [
             1,
             "#276419"
            ]
           ],
           "sequential": [
            [
             0,
             "#0d0887"
            ],
            [
             0.1111111111111111,
             "#46039f"
            ],
            [
             0.2222222222222222,
             "#7201a8"
            ],
            [
             0.3333333333333333,
             "#9c179e"
            ],
            [
             0.4444444444444444,
             "#bd3786"
            ],
            [
             0.5555555555555556,
             "#d8576b"
            ],
            [
             0.6666666666666666,
             "#ed7953"
            ],
            [
             0.7777777777777778,
             "#fb9f3a"
            ],
            [
             0.8888888888888888,
             "#fdca26"
            ],
            [
             1,
             "#f0f921"
            ]
           ],
           "sequentialminus": [
            [
             0,
             "#0d0887"
            ],
            [
             0.1111111111111111,
             "#46039f"
            ],
            [
             0.2222222222222222,
             "#7201a8"
            ],
            [
             0.3333333333333333,
             "#9c179e"
            ],
            [
             0.4444444444444444,
             "#bd3786"
            ],
            [
             0.5555555555555556,
             "#d8576b"
            ],
            [
             0.6666666666666666,
             "#ed7953"
            ],
            [
             0.7777777777777778,
             "#fb9f3a"
            ],
            [
             0.8888888888888888,
             "#fdca26"
            ],
            [
             1,
             "#f0f921"
            ]
           ]
          },
          "colorway": [
           "#636efa",
           "#EF553B",
           "#00cc96",
           "#ab63fa",
           "#FFA15A",
           "#19d3f3",
           "#FF6692",
           "#B6E880",
           "#FF97FF",
           "#FECB52"
          ],
          "font": {
           "color": "#2a3f5f"
          },
          "geo": {
           "bgcolor": "white",
           "lakecolor": "white",
           "landcolor": "#E5ECF6",
           "showlakes": true,
           "showland": true,
           "subunitcolor": "white"
          },
          "hoverlabel": {
           "align": "left"
          },
          "hovermode": "closest",
          "mapbox": {
           "style": "light"
          },
          "paper_bgcolor": "white",
          "plot_bgcolor": "#E5ECF6",
          "polar": {
           "angularaxis": {
            "gridcolor": "white",
            "linecolor": "white",
            "ticks": ""
           },
           "bgcolor": "#E5ECF6",
           "radialaxis": {
            "gridcolor": "white",
            "linecolor": "white",
            "ticks": ""
           }
          },
          "scene": {
           "xaxis": {
            "backgroundcolor": "#E5ECF6",
            "gridcolor": "white",
            "gridwidth": 2,
            "linecolor": "white",
            "showbackground": true,
            "ticks": "",
            "zerolinecolor": "white"
           },
           "yaxis": {
            "backgroundcolor": "#E5ECF6",
            "gridcolor": "white",
            "gridwidth": 2,
            "linecolor": "white",
            "showbackground": true,
            "ticks": "",
            "zerolinecolor": "white"
           },
           "zaxis": {
            "backgroundcolor": "#E5ECF6",
            "gridcolor": "white",
            "gridwidth": 2,
            "linecolor": "white",
            "showbackground": true,
            "ticks": "",
            "zerolinecolor": "white"
           }
          },
          "shapedefaults": {
           "line": {
            "color": "#2a3f5f"
           }
          },
          "ternary": {
           "aaxis": {
            "gridcolor": "white",
            "linecolor": "white",
            "ticks": ""
           },
           "baxis": {
            "gridcolor": "white",
            "linecolor": "white",
            "ticks": ""
           },
           "bgcolor": "#E5ECF6",
           "caxis": {
            "gridcolor": "white",
            "linecolor": "white",
            "ticks": ""
           }
          },
          "title": {
           "x": 0.05
          },
          "xaxis": {
           "automargin": true,
           "gridcolor": "white",
           "linecolor": "white",
           "ticks": "",
           "title": {
            "standoff": 15
           },
           "zerolinecolor": "white",
           "zerolinewidth": 2
          },
          "yaxis": {
           "automargin": true,
           "gridcolor": "white",
           "linecolor": "white",
           "ticks": "",
           "title": {
            "standoff": 15
           },
           "zerolinecolor": "white",
           "zerolinewidth": 2
          }
         }
        },
        "xaxis": {
         "anchor": "y",
         "domain": [
          0,
          1
         ],
         "title": {
          "text": "x1"
         }
        },
        "yaxis": {
         "anchor": "x",
         "domain": [
          0,
          1
         ],
         "title": {
          "text": "x2"
         }
        }
       }
      },
      "text/html": [
       "<div>                            <div id=\"6fc1e2a1-d37a-4ac6-b403-ef7382237242\" class=\"plotly-graph-div\" style=\"height:525px; width:100%;\"></div>            <script type=\"text/javascript\">                require([\"plotly\"], function(Plotly) {                    window.PLOTLYENV=window.PLOTLYENV || {};                                    if (document.getElementById(\"6fc1e2a1-d37a-4ac6-b403-ef7382237242\")) {                    Plotly.newPlot(                        \"6fc1e2a1-d37a-4ac6-b403-ef7382237242\",                        [{\"customdata\":[[\"\\u00a2\\u00a1 \\u00a4\\u00a3 \\u00a6\\u00a5 \\u00a8 \\u00a7 \\u00a9\\u00a5 \\u00a3 \\u00a6\\u00a5 \\u00a8 \\u00a5 \\u00a7 \\u00a9\\u00a1 \\u00a4\\u00a3 ! \\\" $# %# %& (' ) 0 21 3' 4\\u00a1 5 6 7 98 \\u00a8@ BA \\u00a2C 3D FE 2G IH @ QP SR S@ BT U V XW \\u00a6Y a(b dc eV Xf gb ih qp Ir sh tc eW 3u vb wV XxY qf 3y f vp h t(c Y ab w h tf F X V Xf 3 V f 3 tV X( w b h qp I \\u00a8V Xf 3f v ( ed aY qf 3 Y gf 3 d Y qy 3V Xd W 3f 3 Y vh v Bi kj Sl vj Sm qn o Bp rq Bs at go Qs vu vw 3x ey zp 2{ }| z3 qu zu { ) t g| D R SP vC \\u00a6 qR \\u00a4 z \\u00a2 e r 3 z )\"],[\"\\u00a2\\u00a1 \\u00a4\\u00a3 \\u00a5\\u00a1 \\u00a7\\u00a6 \\u00a9 \\u00a6 \\u00a6 \\u00a9 ! \\\"\\u00a3 \\\" $# % \\\"\\u00a3 \\u00a5& ' \\u00a6 \\u00a3 \\u00a5 \\u00a6 \\u00a9\\u00a1 )( 021 43 65 87 \\u00a5 4\\u00a6 \\u00a9 9& @\\u00a6 \\u00a1 A& 'B C ED GF HF ID $P RQ TS VU W XD YD Gba cD $d fe F Hg ih e p Hq Rr C Ee q sP sP Rp HF ID YF t vu sw yx \\\"u R u R Rw 9u s G yw \\u00a4u w yx u d w yu s x e \\u00a9f gu ih ' e x w j yx w \\u00a4k l Gm u sn \\u00a2o p \\u00a2q Yu sr R u sw \\u00a4 y o t u v w Rx $y r z h '{ }| w j u\"],[\"\"],[\"\\u00a2\\u00a1 \\u00a4\\u00a3 \\u00a6\\u00a5 \\u00a8 \\u00a7 \\u00a6\\u00a1 \\u00a4\\u00a5 \\u00a8\\u00a9 \\u00a3 \\u00a6 \\u00a9 \\u00a9 \\u00a3 \\u00a9 \\u00a3 \\u00a8 \\\"! $# %\\u00a3 \\u00a6# '& (\\u00a1 \\u00a4) %) 10 32 4 \\u00a7 5 6\\u00a9 7 98 4# %@ 9\\u00a9 A \\u00a3 \\u00a6 \\u00a7 B C 9# ED \\u00a4\\u00a3 FD \\u00a8G \\u00a2\\u00a9 IH P# %B I\\u00a1 \\u00a4) RQ S7 TD VU \\\"\\u00a1 VU # E) %# W 9# %\\u00a9 @ X Y acb Y ad fe d hg i qp sr qt Tu 3v xw Ty t qb Y t p s 9 I \\\" v d Ee gf w qe 5h di \\u00a4j kh f Tl e 5m 9n o w Tn j w qe 5i ah d Pp qv xw Tr l v dr v dw Ty sm t n vu xw \\u00a8 'h 9n zy 'y o {w r | h u w y 5} h T~o w y 5 w To y o e 1 v d e go {f h d s 9 y o { o l v d h y '~ x \\\"n y z u l I y l \\u00cb \\u00c3 P\\u00cf g 7 @\\u00ab 7 i\\u00bc g \\u00a8 \\u00e9\\u00b5 6\\u00d2 V\\u00d2 @\\u00c9 \\u00cb \\u00a9 \\u00df e\\u00aa 7\\u00a9 ~ S\\u00a9 ' ( \\u00a9 I\\u00ab \\u00bd\\u00bc \\u00cd\\u00a9 | g # 1 y \\u00e5\\u00ab 7 \\u00a9 s\\u00b0% \\u00b0% s\\u00ab ' ' x l x e\\u012a \\u00b6 S\\u016b g \\u00a8\\u00c0 }T \\u00c1 \\u00a8\\u00b4 I\\u00bd \\\"\\u00bf \\u00a5 VI UT F s! $# &% ' 4 6 U6 \\u00a5h G \\u00ab @ ' \\u00b5 & V 87 \\u00b5 A\\u00d3 \\u00bdW \\u00a4 p \\u00a7 # e i \\u00bb\\u00d0 \\u00a2 \\u00b6 |\\u00d0 u I 7 7 \\u00a8 \\u00b5 6\\u00d2 V p iI b\\u00bf \\u00b3 \\u00c0 }T 8 VQ \\u00a5\\u00c1 \\u00b3 \\u00bd \\u00a8T I\\u00bf \\u00b3 \\u00a8T ! \\u00aaT 8 1\\u00c0 b\\u00bf tI b\\u00bf 8 AT @\\u00c0 DR \\u00c2\\u00b2 \\u00b3 \\u00bd \\u00a8T I\\u00bf vj \\u00a4&\\u00b3 \\u00c0 b\\u00bd u\\u00c1\\u00b2 ` 3\\u00d0 u g x &\\u00ae \\u00a8\\u00b0 7 \\u00a8\"],[\"\\u00a2\\u00a1 \\u00a4\\u00a3 \\u00a5\\u00a3 \\u00a7\\u00a6 \\u00a9\\u00a3 ! #\\\" $ &% (' )\\\" 10 2\\u00a1 43 5' )6 7 86 9\\u00a6 \\u00a9\\u00a3 @ 8' )A )\\u00a6 \\u00a96 B\\u00a6 \\u00a9 &C \\u00a2\\\" $' )' )6 D FE HG I QP G I E SR UT WV XG I T `Y I ba \\u00a2c ed `f 9g ih qp rI bs R rt vu xw 9t yE q d f 9g D FE w $ T S 1 I I a c F f 9 d ye gf h i kj d g ml Q on pf 9q f sr ut v Bw px kw pv zy { }| U9w B{ 9w k B By ` 4| U y B Q p y b | t Qv k F \\u00a9 C f 9 pd e hf h i kj d d e gf hd o o d Wr k pw p y b }| U 9 9\"],[\"A Constraint-based Approach to English Prosodic Constituents\"],[\"COMPUTATIONAL LINGUISTICS IN INDIA: AN OVERVIEW\"],[\"A New Statistical Approach to Chinese Pinyin Input\"],[\"Distribution-Based Pruning of Backoff Language Models\"],[\"\"],[\"\"],[\"\"],[\"A Morphologically Sensitive Clustering Algorithm for Identifying Arabic Roots\"],[\"\"],[\"Memory-Efficient and Thread-Safe Quasi-Destructive Graph Unification\"],[\"Lexical transfer using a vector-space model\"],[\"Inducing Probabilistic Syllable Classes Using Multivariate Clustering\"],[\"\"],[\"Development of Computational Linguistics Research: a Challenge for Indonesia\"],[\"\\u00e2 W\\u00e3 \\u00c2 B\\u00c3 g\\u00c4 \\u00e5\\u00e4 ae v\\u00e7 I\\u00d7 Y\\u00d6 I\\u00d7 W\\u00d2 \\u00de w\\u00dd W\\u00d2 y\\u00d7 )\\u00c8 $\\u00d6 \\u00c2 B\\u00c3 z\\u00c4 \\u00e8 \\u00e9ae D\\u00ea 4\\u00bf \\u00c0 4\\u00c1 \\u00c2 B\\u00c3 g\\u00c4 \\u00eb ae D\\u00ec \\u00c1 \\u00ed\\u00c8 B\\u00bf D\\u00c9 Y\\u00c8 w\\u00ca t\\u00cb &\\u00c2 B\\u00c3 g\\u00c4 \\u00e8 \\u00a7ae \\u00ee 4\\u00c1 \\u00d2 y\\u00d4 D\\u00d5 t\\u00d6 h\\u00bf &\\u00d7 Y\\u00cb 9\\u00d4 \\u00d7 I\\u00c2 B\\u00c3 g\\u00c4 \\u00e8 \\u00a7ae D\\u00ef \\u00c1 \\u00d2 y\\u00d4 D\\u00d6 y\\u00dc &\\u00cb P\\u00dd )\\u00de $\\u00d2 I\\u00df w\\u00c2 @\\u00c3 g\\u00c4 \\u00f0 \\u00b6 v\\u00bb gW\\u00b1 &\\u2022 \\u00b9 \\u2022 &W\\u00ac \\u00ab \\u00a7\\u00c3 \\u00a9\\u00aa h)\\u00bd d\\u00b1 \\u00ae \\u00bb V\\u00ae z\\u00bc \\u00ab {\\u00b5 \\u00bd V\\u00be \\u00e2 W\\u00e3 \\u00c2 @\\u00c3 g\\u00c4 k\\u00e4 m\\u00f1 I\\u00e0 k\\u00f2 \\u00d9\\u00ae )\\u00ac \\u00ab \\u00ac AE\\u00aa hW\\u00ac \\u00f3\\u00c1 \\u00ed\\u00c8 B\\u00bf D\\u00c9 Y\\u00c8 w\\u00ca t\\u00cb v\\u00b9 \\u00bd \\u00db S\\u00ab V\\u00b9 \\u00c5 )\\u00aa P\\u00ac \\u00ab V\\u2022 \\u00d3\\u00b1 &\\u00ab V\\u00c5 PW\\u00ac \\u00b9 G\\u00bc \\u00ab \\u00a5\\u00b0e\\u00d0 9\\u00be b\\u00bd AE\\u00b9 G\\u00b1 &\\u00bb V\\u00ab \\u00cc\\u00bb V\\u00ae z\\u00bc \\u00ab \\u00b5 \\u00cc\\u00db w\\u00b9 e\\u00ac g\\u00aa \\u00b6 B\\u00ab {\\u00db d\\u00ab {\\u00b5 \\u00cc\\u00ac \\u00b9 \\u00b0\\u00ab V\\u00bd \\u00d1 I\\u00b5 \\u00ae z\\u00bc y\\u00b9 \\u2022 I\\u00ab V\\u00bd \\u00cc\\u00bd \\u00a1\\u00ac g\\u00b5 \\u00ae )\\u00b1 &\\u00c5 t\\u00ab {\\u00b5 \\u00cc\\u00ab {\\u00bc y\\u00b9 G\\u00da \\u2022 I\\u00ab {\\u00b1 &\\u00bb V\\u00ab \\u00a7 \\u00b6 B\\u00ae )\\u00b5 \\u00a3\\u00ac AE\\u00aa &\\u00ab \\u00a7\\u00bb gW\\u00b1 &\\u2022 I\\u00b9 \\u2022 &W\\u00ac \\u00ab )\\u00e0 \\u00a9 d\\u00aa &\\u00ab \\u00d9\\u00db d\\u00ab V\\u00b9 \\u00c5 )\\u00aa P\\u00ac \\u00bd w\\u00b9 G\\u00b1 h\\u00ac AE\\u00aa &\\u00ab \\u00d9\\u00bb \\u00b2 \\u00b5 g\\u00b5 \\u00ab {\\u00b1 P\\u00ac \\u00a9\\u00b9 G\\u00b3 \\u00f4\\u00d1 &\\u00b0\\u00ab {\\u00b3 \\u00cf\\u00ab {\\u00b1 \\u00ac \\u00a5W\\u00ac \\u00b9 \\u00ae )\\u00b1 \\u00db d\\u00ab {\\u00b5 \\u00ab 8\\u00bb g\\u00aa \\u00ae t\\u00bd g\\u00ab {\\u00b1 \\u00b8\\u00bd g\\u00ae t)\\u00bd \\u00a9\\u00ac \\u00ae h\\u00c5 t\\u00b9 G\\u00bc t\\u00ab \\u00cc\\u00cc\\u00b0\\u00ab {\\u00cd y\\u00b9 \\u00bb V\\u00ae t\\u00c5 )\\u00b5 {W\\u00d1 \\u00aa &\\u00b9 \\u00bb 8\\u00ae )\\u00b5 AE\\u00da \\u2022 I\\u00ab {\\u00b5 \\u00b9 G\\u00b1 &\\u00c5 \\u00ae )\\u00b1 \\u00f5\\u00ac g\\u00aa &\\u00ab \\u00b6 B\\u00ab gW\\u00ac g\\u00b2 \\u00b5 \\u00ab V\\u00bd V\\u00be Q\\u00d1 I\\u00b5 \\u00ab { \\u00b6 B\\u00ab \\u00b5 AE\\u00b5 \\u00b9 G\\u00b1 &\\u00c5 \\u00e9\\u00f6 I\\u00b5 \\u00bd \\u00ac x\\u00bb gW\\u00b1 I\\u00da \\u2022 I\\u00b9 \\u2022 W\\u00ac \\u00ab V\\u00bd Q\\u00db w\\u00b9 G\\u00ac AE\\u00aa \\u00d38\\u00aa &\\u00b9 \\u00c5 )\\u00aa \\u00ab \\u00b5 f\\u00c5 )\\u00b5 {W\\u00b1 \\u2022 d\\u00da \\u00ac \\u00ae )\\u00ac {)\\u00b0D\\u00b5 \\u00a5W\\u00ac \\u00b9 \\u00ae I\\u00be h\\u00ac g\\u00aa &\\u00ab {\\u00b1\"],[\"Spoken Dialogue Management Using Probabilistic Reasoning\"],[\"\"],[\"Statistical parsing with an automatically-extracted tree adjoining grammar\"],[\"\"],[\"\"],[\"Spoken Language Technology: Where Do We Go From Here?\"],[\"A Computational Approach to Zero-pronouns in Spanish\"],[\"An Improved Parser for Data-Oriented Lexical-Functional Analysis\"],[\"\"],[\"Term Recognition Using Technical Dictionary Hierarchy\"],[\"Multi-Component TAG and Notions of Formal Power\"],[\"An Improved Error Model for Noisy Channel Spelling Correction\"],[\"\"],[\"An Empirical Study of the Influence of Argument Conciseness on Argument Effectiveness\"],[\"C\\u00a6 \\u00a6 D4 '% & E% &( )4 D\\u00a6 F4 G6 IH P \\u00a7Q R !\\u00a1 \\u00a4#7 S4 Q R\\u00a3 UT \\u00a9 V GW RX Y Iba 8dc $e gf h i qp sr ut wv !i qx y )i p )r E w v ! I v ! p Uh !y y \\u00a5 \\u00a9x y d e f w v ! I v ! )i v ! hg t wv &i x y i si p )r e kj $y i ml )i qv ! j $y i ml )i qv ! In o po po q r s p Ap A t Iu i wv s i qp sr fg xd yy z hg {d m !| } e I \\u00a4 ! R \\u00a4 w \\u00a4 i s A k s p \\u00a9 y )y s xe Rh !i v e Rj $y i yl )i v ! i t h y v fp Ay r I R !i s hg &v D z e j $y i yl )i v ! un o po o pq o s v ! fg v & hv \\u00a9t Ii s A ) p d s t e I ! p \\u00a1 E\\u00a2 \\u00a4\\u00a3 \\u00a5 \\u00a6 \\u00a7 p\\u00a9 h\\u00a3 f \\u00a7 p\\u00a3 f\\u00aa A\\u00ab \\u00ac \\u00ae f\\u00a6 3 \\u00a7 \\u00b0\\u00ae\\u00b1 \\u00a6 \\u00b2 U\\u00a1 d \\u00b1 )\\u00b3 )\\u00b5 \\u00a6 \\u00b4\\u00a6 \\u00a7 p\\u00b2 \\u00a2 \\u00b4w\\u00a3 \\u00b6\\u00a2 \\u00a4\\u00a3 \\u00b4\\u00a8\\u00b1 \\u00b2 U\\u00ac \\u00a7 \\u00a2 q\\u00a6 \\u00b4\\u00a9 \\u00b5 \\u00b1 \\u00a6 )\\u00a6 \\u2022 \\u00a9\\u00a3 \\u00a7 p\\u016b\\u00a6 \\u00b8\\u00a3 f \\u00a7 \\u00b9\\u00a6 \\u2022 \\u00a1 G\\u1e21\\u00a3 \\u00aa \\u00b1 )w\\u00a2 \\u00a3 \\u00a5 \\u00ba \\u00b03\\u00ab p\\u00a3 \\u00b4\\u00a6 \\u00aa \\u00b4\\u00a2 q\\u00aa \\u00bb \\u00a7 p\\u00a9 f\\u00a3 f \\u00a7 p\\u00a3 f\\u00aa A\\u00ab \\u00a2 \\u00a3 \\u00b3 \\u00bc $\\u00a1 d\\u00cf \\u00a7 \\u00a2 q)\\u00aa A\\u00bd f)\\u00af\\u00b5 \\u00a1 \\u00bf\\u00be \\u00b5 \\u00a2 \\u00a4\\u00a3 \\u00c0\\u00c1\\u00c0\\u00a3 \\u00ac \\u00b4\\u00a3 f\\u00aa A\\u00a6 \\u00b1 \\u00a6 \\u00a3 f\\u00a6 \\u2022 \\u00ab 3 \\u00a7 \\u00c2\\u00a6 \\u00a3 f \\u00a7 S\\u00a6 \\u00a3 \\u00a3 \\u00b4\\u00a6 \\u00b4 \\u00a7 \\u00bd f\\u00c3\\u00a2 \\u00a4\\u00a3 \\u00a5 \\u00a6 \\u00a3 \\u00c4 \\u00c5 \\u00c7AE I\\u00c8 !\\u00ac \\u00ae f\\u00a6 3 \\u00a7 )\\u00aa \\u00b5 \\u00b2 \\u00c9\\u00ca \\u00cb 3)3\\u00bd \\u00af\\u00b1 \\u00c4 q\\u00a6 \\u00b4 \\u00a7 \\u00b4 \\u00b4 \\u00b8 \\u00a4\\u00a8\\u00b1 \\u00a6 \\u00a3 f\\u00aa A \\u00b0\\u00a8\\u00b1 )\\u00b1 \\u00b1 \\u00a6 1\\u00cc \\u00a6 \\u00b1 \\u00a2 \\u00bd f\\u00cd \\u00a8\\u00cc \\u00c4 q\\u00ce \\u00b0\\u00a6 \\u00a3 f\\u00a6 \\u00a4\\u00ab w\\u00a2 q\\u00cf\\u00a6 \\u00b8\\u00a3 f \\u00a7 \\u00aa A \\u00b2 \\u00c9\\u00a9 f\\u00a6 \\u00b4\\u00a2 p\\u00a2 \\u00a2 \\u00b4\\u00ab B\\u00a1 E\\u00a2 \\u015b\\u00b5 )\\u00b5 \\u00a8\\u00b1 3\\u00ab p\\u00a3 \\u00b4\\u00a6 \\u00aa \\u00b4\\u00a2 q\\u00aa \\u00b0\\u00ae\\u00b1 \\u00a6 \\u00b2 U\\u00a1 d \\u00b1 )\\u00b3 \\u00a7\\u00a6 \\u00b1 \\u00c7\\u00a6 \\u00a7 \\u00a7 \\u00b1 )3 \\u00a7 !\\u00ca \\u00d0 f \\u00d1 \\u00b8 W x\\u00d2 \\u00a4\\u00d3 \\u00a4 p wW R \\u00d4 \\u1e4e\\u00a6 \\u00a3 \\u00a3 \\u00b4\\u00a6 \\u00b4\\u00a8)\\u00b5 \\u1e4e3\\u00ab p\\u00a3 \\u00b4\\u00a6 \\u00aa \\u00b4\\u00a2 q\\u00aa 8 \\u00a7 p\\u00a9 f\\u00a3 f \\u00a7 p\\u00a3 f\\u00aa A\\u00ab \\u00ce f\\u00ac \\u00b4\\u00a1 \\u00a7\\u00a3 B \\u00c4\\u00d6 p\\u00a2 b\\u00aa \\u00a6 \\u00d7\\u00bd \\u00a3 p\\u00a2 \\u00b4\\u00d8\\u00a2 \\u00a3 \\u00bb\\u00a6 5 \\u00a2 \\u00a3 \\u00a5 \\u00bd p\\u00a2 q\\u00af\\u00b4\\u00a2 q\\u00aa \\u00ce\\u00c4\\u00d6 \\u00a9 \\u00b1 3\\u00ac w\\u00a2 \\u00a3 \\u00a6 \\u00aa \\u00aa A \\u00b1 \\u00a7 \\u00a2 \\u00a3 \\u00a5 \\u00b4 \\u00a6 \\u00a3 \\u00c9\\u00a6 \\u00a9 \\u00a9 \\u00b1 \\u00a6 \\u00aa \\u00b5 \\u00c9\\u00b4 \\u00a9\\u00d9 $\\u00a9 f\\u00a3 f \\u00a7 p\\u00a3 f\\u00aa A\\u00ab \\u00c5 \\u00b1 \\u00a6 \\u00b2 \\u00c9\\u00b2 \\u00a6 \\u00b1 \\u00a7\\u00da 3\\u00db 3\\u00a3 p\\u00a2 \\u00dc \\u00a8\\u00b1 \\u00bc f\\u00dd \\u00de \\u00df \\u00de p\\u00e0 )\\u00b5 \\u00a6 \\u00b4\\u00aa \\u00a6 \\u00b8\\u00a3 \\u00c9 f\\u00a8)\\u00b1 \\u00a6 \\u00aa A \\u00a7 f\\u00a6 \\u00aa \\u00b3 I\\u00b4 \\u00da \\u00c5 \\u00c7\\u00a6 \\u00a2 \\u00b0\\u00b2 \\u00a6 \\u00a3 R\\u00bc \\u00dd \\u00de \\u00e1 \\u00df \\u00e2 \\u00e3 $\\u00a6 \\u00ab \\u00bc x\\u00dd \\u00de \\u00e1 \\u00e4 f\\u00e2 \\u00e5 E p\\u00a2 \\u00a3 \\u00ac 3 \\u00a3 R\\u00bc \\u00d1\\u00dd \\u00de pae \\u00e7 p\\u00e0 A\\u00ca \\u00a4\\u00d4 \\u00a8\\u00b1 \\u00e8 \\u00bd p\\u00a2 \\u00b1 \\u00e93\\u00ab p\\u00a3 \\u00b4\\u00a6 \\u00aa \\u00b4\\u00a2 q\\u00aa \\u00a9 \\u00a7 p\\u00a9 h\\u00a3 f \\u00a7 p\\u00a3 f\\u00aa A\\u00ab \\u00b4 g f\\u00a5\\u00a9 \\u00b1 \\u00ea 3\\u00aa \\u00b4\\u00a2 \\u00cc \\u00bc x\\u00a6 \\u00a3 f \\u00a7 P\\u00aa \\u00a6 \\u00a9 \\u00b4\\u00bd \\u00b1 \\u00c9\\u00a3 \\u00a3 \\u00ac \\u00ae\\u00a9 \\u00b1 \\u00ea 3\\u00aa \\u00b4\\u00a2 \\u00cc 3\\u00ab p\\u00a3 \\u00b4\\u00a6 \\u00aa \\u00b4\\u00a2 q\\u00aa g\\u00a9 \\u00b5 \\u00a3 \\u00b2 \\u00c9\\u00a3 f\\u00a6 P\\u00a2 \\u00a3 S q\\u00a6 \\u00a3 \\u00a5 \\u00bd f\\u00a6 \\u00a5 \\u00cf\\u00a1 \\u00a7\\u00a2 )\\u00b5 \\u00aa A \\u00a3 \\u00ac \\u00af)\\u00b1 \\u00a6 \\u2022\\u00a2 \\u00a3 \\u00b4 \\u00a7 \\u00a7 p\\u00c4\\u00eb f\\u00a3 \\u00a7 g\\u00a1 \\u00a7\\u00a2 )\\u00b5 \\u00b1 \\u00a8\\u00b0\\u00a8\\u00b1 \\u00a3 f\\u00aa A\\u00a8\\u00b4 )\\u00b5 \\u00a2 q\\u00af \\u00a9 \\u00b1 \\u00ea \\u00c3\\u00aa A\\u00ac \\u00b4\\u00a2 \\u00cc \\u00af\\u00b3 \\u00c4 \\u00a8\\u00b4 \\u00a3 \\u00da \\u00c8 R\\u00a6 \\u2022\\u00a2 \\u00a6 \\u00a3 f \\u00a7 \\u00a5\\u00e3 \\u00bd f\\u00a6 \\u00a3 \\u00a5 h\\u00bc &\\u00dd \\u2022\\u00de \\u00de \\u00ec R\\u00e2 p\\u00c8 R\\u00a6 \\u2022\\u00a2 \\u00a6 \\u00a3 f \\u00a7 \\u00e3 '\\u00bd f\\u00a6 \\u00a3 \\u00a5 f\\u00bc \\u00dd \\u00de \\u00de \\u00ec \\u00a6 \\u00e2 \\u00c8 R\\u00a6 \\u2022\\u00a2 f\\u00a6 \\u00a3 f \\u00a7 \\u00a9\\u00e3 '\\u00bd f\\u00a6 \\u00a3 \\u00a5 f\\u00bc \\u00dd \\u00de \\u00de \\u00de \\u00a6 \\u00e2 \\u00c8 R\\u00a6 \\u2022\\u00a2 f\\u00a6 \\u00a3 f \\u00a7 \\u00e3 '\\u00bd f\\u00a6 \\u00a3 \\u00a5 f\\u00bc \\u00a5\\u00dd \\u00de \\u00de \\u00de !\\u00e0 A\\u00ca \\u00db E\\u00b5 \\u00a2 b\\u016b\\u00a2 b\\u012a \\u00a7 \\u00a2 \\u00ed R\\u00a8\\u00b1 \\u00a3 \\u00b0\\u00ae\\u00b1 \\u00b2 #\\u00a6 \\u00a9 \\u00ac \\u00a9 \\u00b1 \\u00a6 \\u00aa \\u00b5 \\u00af)\\u00b5 \\u00a6 \\u00b4\\u00a6 \\u00ee \\u00a1 \\u00d5\\u00b2 \\u00bd p \\u00b4\\u00a2 \\u00a9 p \\u00a8\\u00b5 \\u00a6 \\u00a7 \\u00a6 \\u00a3 f \\u00a7 \\u00a5\\u00aa \\u00b1 )3\\u00ac \\u00a2 \\u00a3 \\u00a5 \\u00c7 \\u00a7 p\\u00a9 h\\u00a3 f \\u00a7 p\\u00a3 f\\u00aa A\\u00ab \\u00a2 \\u00a3 \\u00b3 \\u00af\\u00da \\u00e3 '\\u00bd f \\u00a7 3 \\u00a3 R\\u00bc \\u00dd \\u2022\\u00de \\u00ec \\u00e4 f\\u00e2 AE g\\u00c4 \\u00ef \\u00f0 \\u00aa A\\u00bd \\u00b3 \\u00bc \\u00dd \\u00de \\u00ec \\u00ec \\u00e2 \\u00a5\\u00c4 \\u00b4\\u00a6 \\u00b1 p\\u00af\\u00b4\\u00a6 \\u00bc \\u00dd \\u00de \\u00ec \\u00ec \\u00e2 \\u00e9\\u00e3 $\\u00a6 \\u00ea w\\u00a2 \\u00c3\\u00f0 \\u00aa A \\u00cc \\u00a6 \\u00bc \\u00c9\\u00dd \\u00de \\u00de \\u00dd \\u00b8\\u00e0 \\u00f1\\u00ca 1\\u00a1 d\\u00a6 \\u2022 q3 \\u00b1 \\u00e8 \\u00bd p\\u00a2 \\u00b1 \\u00a8)\\u00b5 \\u00a8\\u00b1 \\u00c4 q\\u00a6 \\u00b4\\u00a2 \\u00a3 f\\u00af\\u00b5 \\u00a2 \\u00a9 \\u00d8 f\\u00a8\\u00b4\\u00a1 \\u00a7\\u00a3 \\u00f2\\u00a6 g\\u00a5 \\u00cc \\u00ac \\u00a8\\u00b1 \\u00a3 \\u00b1 \\u00a6 \\u00a3 f \\u00a7 S\\u00a6 \\u2022 \\u00a2 \\u00b4 \\u00a7 p\\u00a9 f\\u00a3 f \\u00a7 p\\u00a3 \\u00b4\\u00af\\u00b4 hg\\u00a2 \\u00a4\\u00b2 U\\u00b2 \\u00c9 \\u00a7 \\u00a2 \\u00ac \\u00a6 \\u00b4\\u00ca \\u00db \\u00a7\\u00b5 \\u00a8\\u00b1 \\u00a9\\u00a6 \\u00b1 $\\u00a3 \\u00a9\\u00a2 \\u00a3 \\u00b4\\u00a8\\u00b1 \\u00b2 \\u00c9 \\u00a7 \\u00a2 q\\u00a6 \\u00b4\\u00a9 \\u00b5 \\u00b1 \\u00a6 )\\u00a6 \\u2022 R\\u00a3 \\u00a7 p\\u00a6 \\u00f3\\u00a2 \\u00a3 \\u00f4\\u00c0 \\u00b2 \\u00c9\\u00a4 )\\u00b5 \\u00a8\\u00b1 \\u00a9 \\u00b1 \\u00ea 3\\u00aa \\u00b4\\u00a2 \\u00cc \\u00ac \\u00a7 p\\u00a9 f\\u00a3 f \\u00a7 p\\u00a3 f\\u00aa A\\u00ab p\\u00ac \\u00ae f\\u00a6 3 \\u00a7 \\u00a9 f\\u00a6 \\u00b1 \\u00c3\\u00a2 \\u00a4\\u00a3 \\u00a5 S\\u00a6 \\u00a9 \\u00a9 \\u00b1 \\u00a6 \\u00aa \\u00b5 \\u00af\\u00da \\u00e3 \\u00c4 \\u00a1 \\u00a7\\u00a2 \\u00a5 f\\u00bc \\u00c9\\u00dd \\u2022\\u00de \\u00ec \\u00e1 \\u00e2 U\\u00be \\u00a4 \\u00cc \\u00a2 \\u00a3 \\u00a5 \\u00ac \\u00b4 \\u00a3 R\\u00bc !\\u00dd \\u00de \\u00de \\u00e7 \\u00e2 \\u00be \\u00bd \\u00b1 )\\u00b4\\u00a2 \\u00a3 \\u00a6 \\u00a3 f \\u00a7 g\\u00c5 G\\u00a3 )\\u00b5 \\u00a2 q\\u00a6 \\u2022 \\u00bc !\\u00dd \\u00de \\u00de \\u00ec \\u00e2 p\\u00f5 \\u00bd \\u00b1 \\u00ac \\u00a7 p \\u00a3 g\\u00a8\\u00b4\\u00a6 \\u2022 \\u00ca \\u00bc R\\u00dd \\u00de \\u00de \\u00ec \\u00e2 \\u00f6 G\\u00a6 \\u00b8\\u00a5 \\u00a6 f\\u00bc R\\u00dd \\u2022\\u00de \\u00de \\u00f7 p\\u00e0 \\u00f1\\u00ca \\u00f8 \\u00cfw\\u00a2 \\u00b2 \\u00a2 q\\u00a6 \\u00b1 \\u00a6 \\u00a9 \\u00ac \\u00a9 \\u00b1 \\u00a6 \\u00aa \\u00b5 \\u00b5 \\u00a6 \\u00d1 f\\u00a3 \\u00c9\\u00a6 \\u00a7 p \\u00a9 \\u00b4 \\u00a7 $\\u00a2 \\u00a3 \\u00e9\\u00c0 \\u00b2 \\u00c9\\u00a8\\u00b1 \\u00aa A\\u00a3 \\u00b4\\u00a1 \\u00a7 \\u00b1 )\\u00b3 \\u00af \\u00a3 5\\u00be \\u00b5 \\u00a2 \\u00a3 3\\u00a8\\u00da \\u00e3 \\u00bd f\\u00a6 \\u00b8\\u00a3 \\u00a5 \\u00d5\\u00a8\\u00b4\\u00a6 \\u2022 \\u00ca \\u00bc \\u00c9\\u00dd \\u2022\\u00de \\u00de \\u00f9 \\u00e2 \\u00fa x\\u00bd f\\u00a6 \\u00b8\\u00a3 \\u00fb\\u00a6 \\u00a3 f \\u00a7 \\u00e3 '\\u00bd f\\u00a6 \\u00a3 \\u00a5 f\\u00bc !\\u00dd \\u00de \\u00de \\u00f9 \\u00e2 h\\u00fc \\u00b5 \\u00bd \\u00a6 \\u00a3 f \\u00a7 g\\u00e3 \\u00bd f\\u00a6 \\u00b8\\u00a3 \\u00a5 f\\u00bc !\\u00dd \\u00de \\u00de \\u00e4 \\u00e0 A\\u00ca \\u00f8 R\\u00a6 \\u00af\\u00b4\\u00a6 \\u00b1 )\\u00b4\\u00bc \\u00fd\\u00a1 d\\u1e8d\\u00b2 \\u00a5\\u00a6 \\u00a3 \\u00bd f\\u00a6 \\u00ee \\u00ab \\u00a5 \\u00a2 \\u00cc \\u00a9 f\\u00a6 \\u00b1 3\\u00a4\\u00af)\\u00b1 \\u00bd f\\u00aa \\u00b4\\u00bd \\u00b1 \\u00a6\\u00b8\\u00a3 \\u00a3 \\u00b4\\u00a6 \\u00b4\\u00a2 \\u00a3 \\u00b4 \\u00fe\\u00a6 \\u00a53\\u00b2 \\u00a6 \\u2022 \\u00a7\\u00be \\u00b5 \\u00a2 \\u00a3 3\\u1e85 \\u00a5 \\u00a6 \\u2022 \\u00b4\\u00c4\\u00d6 \\u00b4\\u00aa A \\u00b1 \\u00ac \\u00a9 \\u00bd f\\u00fd\\u00ca \\u00db \\u00a7\\u00b5 \\u00a8\\u00b4\\u00c4\\u00d6 \\u00b4\\u00a2 qd\\u00ff \\u00fd3\\u00a5 \\u00b2 \\u00c9\\u00a3 \\u00b4 \\u00a7 \\u00a1 \\u00a6 \\u00a3 f \\u00a7 \\u00b4\\u00a6 \\u00a5 \\u00a5 \\u00a7 !\\u00bc \\u00a6 \\u00a3 f \\u00a7\"],[\"\"],[\"\\u00a2\\u00a1 \\u00a3 s\\u00a4 x\\u00a1 \\u00a5 P\\u00a1 D\\u00a6 \\u00a7 \\u00a8\\u00a4 x\\u00a9 p\\u00aa s\\u00ab p\\u00a5 t \\u00a7 \\u00a3 s\\u00a3 s\\u00a4 x\\u00a9 o\\u00ac \\u00ae \\u00a9 o\\u00a4 \\u00b02\\u00b1 \\u00b3\\u00a6 sf\\u00b1 \\u00b5\\u00a6 p \\u00b6 \\u2022\\u03bc\\u00a4 \\u00a1 D\\u015f\\u00b9 \\u00ba\\u00a1 \\u00bb o\\u00b1 \\u00b2\\u00a5 t \\u00a7 P\\u00b1 \\u00b5\\u00a6 p \\u00b6 \\u00bc2\\u00a1 \\u00bb o\\u00b1 \\u00be\\u00bd \\u00ac D\\u03bc\\u00bf \\u00a5 t\\u00a1 D\\u00c0 \\u00c1\\u00a6 f \\u00a7 t\\u00b1 \\u00b2\\u00ac \\u00c2 p\\u00b1 \\u00b2\\u00a1 D\\u00a4 t\\u00a4 x\\u00ac p\\u00b1 \\u00b2\\u00a1 \\u00a5 D\\u00c3 \\u00a2\\u00a1 \\u00c4\\u00ab p\\u00a5 P\\u00a1 \\u00c5 \\u00ac \\u00a9 o\\u00a6 p\\u00a5 t \\u00a7 \\u00a4 t\\u00b1 \\u00b5\\u00a6 f \\u00a7 B\\u00a5 \\u00a7 t\\u00b1 \\u00b2\\u00a5 \\u00ae \\u00ac \\u00a7 t\\u00b1 \\u00b2\\u00a9 o\\u00a6 AE2 \\u00b6 \\u00a9 p\\u00a4 x\\u00b1 \\u00b2 \\u00a7 s\\u00c0 \\u00c7 \\u00a4 x\\u00a1 3\\u00bb \\u00c8 \\u00a7 t\\u00b1 \\u00b2\\u00a9 o\\u00a6 \\u00c93\\u00aa s\\u00a1 2\\u00b1 \\u00b3\\u00a6 p \\u00b6 o\\u00ca \\u00cb \\u00a7 P\\u00a9 \\u2022\\u00a5 t\\u00a1 2\\u00a1 \\u00ac \\u00a7 \\u00cc f\\u00c0 \\u00a4\\u00a9 o\\u00a6 p \\u00b6 )8\\u00a5 P\\u00a1 \\u00a7 \\\"\\u00a9 \\u00ae \\u00ac D\\u00a6 p\\u015f\\u00b1 \\u00b2\\u1e29 \\u00a7 t\\u00a1 \\u00a5 x\\u00cc \\u00a4 \\u00a7 p\\u00a1 2\\u00a6 p\\u00a9 p\\u015f\\u00a1 \\u00b1 \\u00b3\\u00a6 \\u00cb\\u00cd \\u00a7 \\u00a4 x \\u00b6 \\u00a1 \\u00a7 \\u00ce \\u00a7 \\u00bb o\\u00a9 o\\u00a6 p\\u00a9 p\\u00c0 )\\u00b9 \\u00cf \\u00a7 s \\u00a7 \\u00d0\\u00aa s\\u00a1 \\u00a5 t \\u00a7 t\\u00a5 \\u00c0 y \\u00a7 t\\u00ac p\\u00a1 \\u00a5 8\\u00a1 D\\u00ac \\u00a8 \\u00a2\\u00a6 p\\u00a9 o\\u015f\\u00a1 \\u00b1 \\u00b3\\u00a6 \\u00c2\\u00a5 t\\u00a9 p\\u00ab s\\u00a4 x\\u00ac \\u00a1 \\u00c1 \\u00a7 \\u00bb f\\u00bd \\u00a9 p\\u00a6 p\\u00a9 o\\u00c0 \\u00b9 \\u00c3 }\\u00d1 {\\u00a6 \\u00d2\\u00a3 s\\u00a4 x \\u00a7 t\\u00b1 \\u00b2\\u00ac D\\u00ab p3\\u00a4 \\u00d3 H\\u00d4 H\\u00a1 \\u00d5\\u00ab p\\u00a5 t\\u00a1 s\\u00b1 \\u00d6 \\u00a7 y \\u00a7 t\\u00a9 \\u00c0 y\\u00a3 \\u00d7 \\u00a7 p\\u00a1 g\\u00a6 p\\u00a9 o\\u00c0 \\u00a4\\u00b1 \\u00b3\\u00a6 s8\\u00a3 s\\u00a4 x \\u00a7 \\u00c1\\u00a9 \\u00ae B\\u00a9 o\\u00a4 x\\u1e29\\u00d8 \\u00a1 \\u00a7 \\u00d9 \\u00c3 \\u00db\\u00da s\\u00a9 o\\u00a6 \\u00a7 P\\u00a9 u \\u00a2\\u00a9 o\\u00a4 x\\u1e29\\u00d8 \\u00a1 \\u00a7 \\u00d9 \\u00c3 \\u00db\\u00dc s\\u00d3 f\\u00d4 \\u00a3\\u00b1 \\u00b2 \\u00a7 \\u00d7g\\u00dd \\u00a1 D\\u00a4 x\\u00b9 p\\u00b1 \\u00b2 \\u00b6 o \\u00de\\u00a3 s\\u00a4 x\\u00a1 \\u00ac \\u00b1 \\u00b2\\u00a5 t\\u00b1 \\u00b2\\u00a9 o\\u00a6 \\u00b0\\u00a6 p'\\u00c5\\u00dd \\u00a1 D\\u00a4 x\\u00b9 \\u00d0\\u022a\\u00a9 \\u00d4 \\u00ba\\u00a4 x\\u00a1 (\\u00bd \\u00c0 y\\u00b1 \\u00b3\\u00a6 p\\u00b1 \\u00b5\\u00a6 p \\u00b6 `\\u00c0 \\u00a4\\u00aa p\\u00b1 \\u00b2 \\u00b6 o\\u00ab p\\u00b1 \\u00b2 \\u00a7 x\\u00b9 \\u00c3 \\u00df \\u00e0 D\\u00e1 e g W XV X p r g \\u00e1 \\u00e2 \\u00a3 p\\u00a1 D\\u00a4 x\\u00a1 \\u00b1 \\u00b2\\u00a5 \\u00e3\\u00a6 w\\u00b1 \\u00b3\\u00a6 p\\u00ac D\\u00a4 x\\u00a1 D\\u00a5 t\\u00b1 \\u00b3\\u00a6 p \\u00b6 )\\u00a6 p\\u00a1 \\u00a1 )\\u00a9 \\u00ae s\\u00dd o\\u00b1 \\u00b3\\u00a6 p \\u00b6 8D\\u00dd \\u00b1 \\u00b23\\u00aa p2\\u00a1 \\u00b6 \\u00a1 D\\u00a6 p\\u00a1 D\\u00a4 t\\u01df\\u00d3 H\\u00ac \\u00ac D\\u00ab s\\u00a4 t \\u00a7 t\\u00a1 \\u00e5f\\u00a6 p}\\u00aa s\\u00a4 x\\u00a9 o\\u00d7\\u00ac \\u00a9 \\u00dd \\u00a1 D\\u00a4 t \\u00b6 \\u00a1 \\u00e5\\u00c0 \\u00a4\\u00ab p2 \\u00a7 t\\u00b1 \\u00be\\u00bd 2\\u00b1 \\u00b3\\u00a6 p \\u00b6 o\\u00ab s)2\\u00a1 \\u00bb p\\u00b1 \\u00b2\\u00ac D3\\u00bf \\u00a5 t\\u00a1 D\\u00c0 \\u00c1\\u00a6 f \\u00a7 t\\u00b1 \\u00b2\\u00ac }\\u00a4 x\\u00a1 \\u00a5 t\\u00a9 p\\u00ab s\\u00a4 x\\u00ac \\u00a1 \\u00a5 \\u00ae \\u00a9 p\\u00a4 \\u015f\\u00a1 \\u00dd \\u00a1 3\\u00bd \\u00a9 o\\u00a3 p\\u00b1 \\u00b3\\u00a6 p \\u00b6 }ae \\u00e7 \\u00d7\\u00a3 s\\u00a3 p2\\u00b1 \\u00b2\\u00ac D \\u00a7 t\\u00b1 \\u00b2\\u00a9 o\\u00a6 p\\u00a5 \\u00c3 '\\u00e2 \\u00a3 p\\u00ab p\\u00a5 D\\u00d3 wB\\u00dd \\u00a1 D\\u00a4 \\u00b9 }\\u00ac \\u00a7 t\\u00b1 \\u00b2\\u00dd \\u00a1 \\u00e8 \\u00a1 2\\u0123\\u00b1 \\u00b5\\u00a6 p\\u00a5 P\\u00b1 \\u00d6\\u015f\\u00a1 \\u00c1ae \\u00e7 y\\u1e29\\u00ab s\\u00a4 x\\u00b1 \\u00b3\\u00a6 p \\u00b6 ` \\u00a7 p\\u00a1 83\\u00a5 t \\u00a7 w\\u00b9 \\u00a1 D\\u00a4 \\u00a5 2 s\\u00a5 2\\u00aa \\u00e9\\u00a1 \\u00a1 D\\u00a6 \\u00a7 p\\u00a1 \\u00ae \\u00a5 t \\u00a7 \\u015f\\u00a1 \\u00dd \\u00a1 2\\u00a9 o\\u00a3 s\\u00c0 \\u00a4\\u00a1 D\\u00a6 f \\u00a7 )\\u00a9 \\u00ae \\u00b6 \\u00a1 D\\u00a6 p\\u00a1 D\\u00a4 \\u00b1 \\u00d6\\u00ac 3\\u00a6 p \\u00b6 o\\u00ab s \\u00b6 f\\u00a1 \\u00ea\\u00a4 x\\u00a1 (\\u00bd \\u00a5 t\\u00a9 o\\u00ab s\\u00a4 \\u00ac \\u00a1 \\u00a5 D\\u00c3 \\u00eb \\u00a1 \\u00dd \\u00a1 D\\u00a4 t \\u00a7 P \\u00a7 t\\u00a1 D\\u00c0 \\u00c1\\u00a3 p \\u00a7 t\\u00a5 ` s\\u00dd \\u00a1 u\\u00aa \\u00e9\\u00a1 \\u00a1 D\\u00a6 \\u00ec\\u00a3 \\u00e9\\u00a1 D\\u00a4 \\u00ae \\u00a9 o\\u00a4 t\\u00c0 \\u00a4\\u00a1 \\u00ce \\u00a7 t\\u00a9 \\u00ac \\u00a9 o\\u00a6 s\\u00a6 p\\u00a1 \\u00ac \\u00a7 \\u00ed3\\u00a4 x\\u00a1 D\\u015f\\u00b9 \\u2022\\u00a1 \\u00bb p\\u00b1 \\u00d6\\u00a5 P \\u00a7 t\\u00b1 \\u00b3\\u00a6 p \\u00b6 \\u2022\\u00a9 o\\u00a6 f \\u00a7 t\\u00a9 2\\u00a9 \\u00b6 \\u00b1 \\u00b2\\u00a1 \\u00a5 D\\u00c3 \\u00d1 {\\u00a6 \\u00c7 \\u00ee \\u00b6 \\u00a1 D\\u00a6 p\\u00a9 )\\u00a1 \\u00a7 \\u00a3\\u016b\\u00c3 \\u00b3\\u00d3 \\u00d9 D\\u00ef \\u00ef \\u00f0 \\u00ca \\u00d3 o\\u00a8\\u00eb \\u00a3 s\\u00a6 p\\u00b1 \\u00b2\\u00a5 s\\u00bf \\u00f1 X\\u00a6 p \\u00b6 f\\u022a\\u00b1 \\u00b2\\u00a5 s\\u00aa p\\u00b1 \\u00b2\\u022a\\u00b1 \\u00b3\\u00a6 f\\u00bd \\u00b6 o\\u00ab sp\\u015f\\u00b1 \\u00b2\\u00ac \\u00a7 t\\u00b1 \\u00b2\\u00a9 o\\u00a6 s\\u00a4 x\\u00b9 \\u00b1 \\u00b2\\u00a5 X\\u00ab p\\u00a5 t\\u00a1 ) \\u00a7 t\\u00a9 \\u00c7 \\u00a5 t\\u00a1 D\\u00c0 \\u00f2\\u00b1 \\u00b5\\u00ca P\\u00ab p \\u00a7 t\\u00a9 o\\u00c0 \\u00c1 \\u00a7 t\\u00b1 \\u00b2\\u00ac D2\\u022a\\u00b9 2\\u00b1 \\u00b3\\u00a6 s\\u00b4\\u00eb \\u00a3 s\\u00a6 p\\u00b1 \\u00b2\\u00a5 \\u00bc\\u00a6 p\\u00f3\\u00f1 X\\u00a6 p \\u00b6 f\\u022a\\u00b1 \\u00b2\\u00a5 1 \\u00a7 \\u00bb p\\u00a9 o\\u00a6 p\\u00a9 o\\u00c0 \\u00f2\\u00b1 \\u00d6\\u00a1 \\u00a5 &\\u00a1 \\u00bb f\\u00bd \\u00a7 \\u00a4 t\\u00ac \\u00a7 t\\u00a1 \\u00b8\\u00ae \\u00a4 x\\u00a9 o\\u00c0 \\u00b0\\u00f4 \\u00f5 5\\u00f6 \\u00e7 \\u00f7 \\u00c7 \\u00ee 2\\u00dd \\u00a4 \\u00f8\\u00d3 \\u00d9 D\\u00ef \\u00f9 \\u00fa \\u00ca X\\u00a6 p\\u00d5\\u00e7 \\u00f4 7\\u00fb F\\u00fc $\\u00f7 \\u00c7 u\\u00fd \\u00a4 x\\u00a9 o\\u00ac \\u00a7 P\\u00a1 D\\u00a4 \\u00d3 \\u00d9 D\\u00ef f\\u00f9 \\u00fa \\u00ca \\u00c3 \\u00eb \\u00b1 \\u00b3\\u00c0 \\u00a4\\u00b1 \\u00b23\\u00a4 x2\\u00b9 \\u00d3 \\u00ce\\u00b0\\u00a5 t\\u00b1 \\u00b3\\u00c0 \\u00c1\\u00a3 p2\\u00a1 \\u00ab f\\u00bd \\u00a7 t\\u00a9 o\\u00c0 y \\u00a7 t\\u00b1 \\u00b2\\u00ac \\u00fe\\u00a3 s\\u00a3 s\\u00a4 x\\u00a9 p\\u00ac \\u00a8 \\u00ae \\u00a9 o\\u00a4 \\u00d72\\u00b1 \\u00b3\\u00a6 sf\\u00b1 \\u00b5\\u00a6 p \\u00b6 \\u00eb \\u00a3 s\\u00a6 p\\u00b1 \\u00b2\\u00a5 \\u00a7 (\\u00bb \\u00bd \\u00a9 o\\u00a6 p\\u00a9 o\\u00c0 \\u00f2\\u00b1 \\u00d6\\u00a1 \\u00a5 g\\u00a1 \\u00bb p \\u00a7 \\u00a4 t\\u00ac \\u00a7 P\\u00a1 \\u00b8\\u00ae \\u00a4 \\u00a9 o\\u00c0 \\u2022\\u00f4 \\u00f5 5\\u00f6 \\u00e7 \\u00f7 i \\u00a7 P\\u00a9 } B\\u00a9 o\\u00a4 \\u1e29\\u00d8 \\u00a3\\u00a1 \\u00a7 \\u00c7 \\u00ff \\u00b1 \\u00b22\\u022a\\u00a1 D\\u00a4 \\u00c4\\u00a1 \\u00a7 u\\u016b\\u00c3 \\u00b3\\u00d3 \\u00d9 \\u00ef \\u00ef s\\u00d9 \\u00ca \\u00a5 t\\u00b9 s\\u00a6 p\\u00a5 t\\u00a1 \\u00a7 t\\u00a5 s\\u00b1 \\u00b2\\u00a5 \\u00c4\\u00a3 s\\u00a4 \\u00a9 o\\u00a3 s\\u00a9 \\u00a5 P\\u00a1 \\u00fe\\u00b1 \\u00b3\\u00a6 \\u00c7 \\u00a1 \\u00b1 \\u00b2 \\u00b6 of\\u00ab \\u00d7\\u00a1 \\u00a7 \\u00ea\\u016b\\u00c3 \\u00b3\\u00d3 \\u00d9 \\u00ef \\u00ef \\u00da \\u00ca \\u00c3 \\u00d2\\u00e2 \\u00a3 p\\u00a1 `\\u00d4 H\\u00a9 o\\u00a4 t\\u00b4\\u00a4 x\\u00a1 D\\u00a3 s\\u00a9 o\\u00a4 \\u00a7 t\\u00a1 }\\u00b1 \\u00b3\\u00a6 \\u00c7 \\u00a1\\u00a2 \\u00a6 p\\u00b1 \\u00b2 \\u00b6 o f \\u00a7 \\u00c1\\u00a6 p\\u00a4\\u00a3 \\u00ab s3\\u00d3 \\u00d9 D\\u00ef \\u00ef \\u00f0 \\u00ca \\u00ae \\u00a9 o\\u00ac D\\u00ab p\\u00a5 t\\u00a1 \\u00a5 \\u00a4\\u00a9 o\\u00a6 \\u00a2 \\u00a7 p\\u00a1 \\u00ac \\u00a9 o\\u00a6 f\\u00bd \\u00a5 t \\u00a7 \\u00a4 P\\u00ab p\\u00ac \\u00a7 t\\u00b1 \\u00b2\\u00a9 o\\u00a6 \\u00d7\\u00a9 \\u00ae \\u00a6\\u00eb \\u00a1 D\\u00a6 p\\u00a5 (\\u00ab p\\u00a5 D\\u00d3 2\\u00a23\\u00a4 x \\u00b6 \\u00a1 g\\u00f3\\u00a6 p\\u00a9 \\u00d4 \\u00a32\\u00a1 \\u015f \\u00b6 \\u00a1 g\\u00aa s\\u00a5 t\\u00a1\"],[\"A Polynomial-Time Fragment of Dominance Constraints\"],[\"Diagnostic Processing of Japanese for Computer-Assisted Second Language Learning\"],[\"The Role of Centering Theory's Rough-Shift in the Teaching and Evaluation of Writing Skills\"],[\"\\u00cd\\u00d7 \\u00d2 \\u00dc \\u00d7\\u00d8 \\u00d2 \\u00d7\\u00dd\\u00d7\\u00d8 \\u00d1\\u00d7 \\u00d8\\u00d3 \\u00d7\\u00d9\\u00d4\\u00d4\\u00d0 \\u00d1 \\u00d2\\u00d8 \\u00d7\\u00d1 \\u00d0\\u00d0 \\u00d1\\u00d3\\u00d9\\u00d2\\u00d8\\u00d7 \\u00d3 \\u00d2\\u00d2\\u00d3\\u00d8 \\u00d8 \\u00d6 \\u00d1\\u00d1 \\u00d8 \\u00d0 \\u00d6 \\u00d0 \\u00d8 \\u00d3\\u00d2\\u00d7 \\u00d8\\u00d6 \\u00d2 \\u00d2 \\u00d8 *\"],[\"\"],[\"PENS: A Machine-aided English Writing System for Chinese Users\"],[\"Extracting Causal Knowledge from a Medical Database Using Graphical Patterns\"],[\"\"],[\"Lexicalized Stochastic Modeling of Constraint-Based Grammars using Log-Linear Measures and EM Training\"],[\"D E GF \\u00a8H I QP SR UT WV \\u00a2X `Y ba dc fe hg i qp QV \\u00a2E dr qF \\u00a8H @H fs QV ut v (w Wx &y x & &y g y e d d be \\u00a6 gf Uh ji & w Wy lk nm o dw og &m Ww qp \\u00a6w Wi \\u00a8e dy jw Wg u r (s ut Cv xw ye hm gx &w Wg {z 7| }g & w oy 2 h @t @w om gx &g & h p }z 4 h h w \\u00a6e dm gx &w Wg f 8w Wy e hg u % & \\u00a8 n & d \\u00a8 h U \\u00a1 u\\u00a2 \\u00a2 u \\u00a8\\u00a3 \\u00a2 % G \\u00a8 d \\u00a1 \\u00a4\"],[\"An Unsupervised Approach to Prepositional Phrase Attachment using Contextually Similar Words\"],[\"\\u00a2\\u00a1 \\u00a4\\u00a3 \\u00a5\\u00a3 \\u00a5\\u00a6 \\u00a8 \\u00a7 \\u00a9 \\u00a9 !\\u00a3 \\u00a5\\u00a6 \\u00a8\\\" $# &% ' ( )\\u00a6 \\u00a8\\u00a3 10 2 \\u00a6 3 4 \\u00a7 15 6 87 9# & A@ B# 9C ED F\\u00a6 3\\u00a6 3G IH 1P Q R R S\\u00a1 T \\u00a7 UR V A \\u00a7 U( W\\u00a1 \\u00a4\\u00a3 \\u00a5\\u00a6 3 X\\u00a1 Y \\u00a7 UR ` \\u00a2\\u00a1 TR AH ba cR R A\\\" Yd E7 W\\u00a1 Y \\u00a7 U e7 W\\u00a1 f g\\u00a1 $7 ih p rq \\u00a3 E# 9C ED U G 3\\u00a1 Y \\u00a7 UR Ep r 4 \\u00a7 U\\u00a3 ts u\\u00a6 wv g\\u00a1 \\u00a4G x 4\\\" V \\u00a6 \\\" \\u00a4 e7 W\\u00a1 \\u00a4 E\\u00a1 $7 ih y 3 W w 9 W w \\u00a8 x ed gf &h \\u00a8d Si kj l )m nd od p Uq r s Yt Bu q vt !w x y f 8x zw s Bu Q &t e{ |w i ~} ) { q 8 q W{ | q s B Y{ |t f w &x e \\u00a8w i v iw w i W iw Q f W S W 8 9 w & f 9 \\u00a8w i v iw i f i i i ) W i r q nq t B B Y{ |{ o & U{ ) t ew i v w W \\u00a1 & r \\u00a2 W i \\u00a4\\u00a3 \\u00a5h 3 3 \\u00a7\\u00a6 d gp Uq nr &s Yt eu q vt \\u00a9w x \\u00aa Sw iu r 8t q s \\u00a9} ) n{ q W q \\u00ab w is q W{ | q s Y B{ |t f k\\u00ac \\u00a4 r \\u00a5\\u00ae E u \\u00af p w i W 8 } q w i W i\\u00b0W 8 v \\u00a4 \\u00b1 } q w i \\u00b2 T ) i \\u00ab w is q s Y{ u \\u00b3 \\u00a5 r w is q 8 & 9s \\u00b6\\u00b5 ej \\u00a4\\u2022 f \\u2022 \\u00b9 $\\u00ba \\u00bc\\u00bb \\u00a4\\u00bd 9\\u00be \\u00c0\\u00bf \\u00c2\\u00c1 \\u00c4\\u00c3 l\\u00c1 W\\u00c5 AE \\u00c2\\u00c7 e\\u00c5 \\u00c8\\u00c1 9AE \\u00a4\\u00c5 \\u00c9\\u00bf f\\u00c5 \\u00c9\\u00ba &\\u00bb \\u00ca\\u00bd \\u00c4\\u00be \\u00c0\\u00cb 9\\u00cb v\\u00c5 \\u00c9\\u00ba \\u00cc \\u00b3\\u00c3 lAE \\u00a4\\u00cd \\u00ce \\u00cf 6\\u00d0 \\u00a5\\u00ce i\\u00cb v\\u00c5 \\u00c9\\u00d1 \\u00c0\\u00bf E\\u00d2 \\u00ce AE U\\u00d3 !\\u00ce AE \\u00a4\\u00c5 \\u00c9\\u00c3 \\u00ba \\u00d4\\u00c1 \\u00c4\\u00c3 lAE \\u00a4\\u00bb $\\u00d5 z\\u00ce \\u00d2 |\\u00d5 \\u00bf \\u00a4\\u00c1 8\\u00c5 \\u00c5 \\u00c9\\u00d6 Y\\u00bd \\u00d7\\u00bb \\u00a4\\u00c3 l\\u00d8 \\u00d8 \\u00be \\u00d9\\u00ba v\\u00d8 v\\u00da x\\u00c7 \\u00bd 9\\u00be \\u00c0\\u00d6 Y\\u00bd \\u00d6 e\\u00ce \\u00ba \\u00c4\\u00bf \\u00a4\\u00be \\u00c0\\u00cb v\\u00c5 AE g\\u00d3 \\u00db\\u00ce l\\u00d5 AE T\\u00c5 \\u00c9\\u00c3 \\u00ba \\u00d6 T\\u00bd \\u00c4\\u00c3 lAE T\\u00c3 \\u00d6 e\\u00bb f\\u00c5 AE T\\u00be \\u00c0\\u00bf f\\u00bb \\u00a4\\u00be \\u00d9\\u00d6 \\u00bf c\\u00bf \\u00a4\\u00dc 9\\u00d6 Y\\u00bd \\u00c3 \\u00bf \\u00dd\\u00bd 9\\u00be \\u00de\\u00d8 \\u00bd \\u00c3 l\\u00d8 \\u00d8 \\u00d1 \\u00d9\\u00dc v\\u00bb \\u00a4\\u00be \\u00c0\\u00ba 9\\u00c3 l\\u00bb \\u00a4\\u00be \\u00de\\u00cf i\\u00be \\u00de\\u00bb o\\u00df \\u00da \\u00c7 e\\u00ce AE T\\u00cb i\\u00d5 g\\u00bf f\\u00c1 )\\u00c3 \\u00d6 \\u00be \\u00c0\\u00ba v\\u00d8 v\\u00da \\u00d4\\u00c3 \\u00ba 9\\u00cb \\u00bd \\u00c4\\u00be \\u00de\\u00d8 \\u00bd \\u00e0\\u00d1 \\u00de\\u00c5 e\\u00e1 i\\u00be \\u00d9\\u00d6 \\u00c3 \\u00d1 S\\u00d6 e\\u00ce AE TAE \\u00a4\\u00c5 \\u00c9\\u00d1 \\u00c0\\u00c3 l\\u00bb \\u00a4\\u00be \\u00de\\u00cf i\\u00be \\u00de\\u00bb g\\u00df \\u00e2 \\u00dd\\u00b9 \\u00ba \\u00e0\\u00ce AE Y\\u00cb v\\u00c5 AE \\u00ce \\u00bb \\u00db\\u00d6 e\\u00ce \\u00ba 9\\u00bf T\\u00be \\u00c0\\u00cb v\\u00c5 AE \\u00e3AE T\\u00be \\u00c0\\u00d6 Y\\u00bd \\u00b3\\u00be \\u00d9\\u00ba v\\u00d2 |\\u00ce AE Y\\u00d0 \\u00b1\\u00c3 l\\u00bb \\u00a4\\u00be \\u00de\\u00ce \\u00ba \\u00b3\\u00be \\u00c0\\u00ba \\u00b6\\u00d6 e\\u00ce \\u00ba i\\u00d5 \\u00bb f\\u00c5 e\\u00e1 i\\u00bb \\u00a4\\u00bf \\u00da )\\u00bb \\u00a4\\u00bd v\\u00c5 E\\u00d0 \\u00a5\\u00ce i\\u00cb v\\u00c5 \\u00c9\\u00d1 \\u00c0\\u00bf \\u00c3 \\u00cb v\\u00ce \\u00c1 9\\u00bb \\u00c3 k\\u00d1 \\u00de\\u00c5 \\u00c9\\u00bf \\u00a4\\u00bf 4\\u00bf f\\u00bb fAE Y\\u00be \\u00c0\\u00d6 e\\u00bb \\u00cc \\u00b3\\u00c3 lAE \\u00a4\\u00cd \\u00ce \\u00cf u\\u00c3 \\u00bf \\u00a4\\u00bf \\u00a4\\u00dc 9\\u00d0 \\u00b1\\u00c1 9\\u00bb \\u00a4\\u00be \\u00de\\u00ce \\u00ba \\u00e2 \\u00b9 $\\u00ba \\u00e4\\u00bb \\u00a4\\u00bd v\\u00c5 g\\u00d0 \\u00a5\\u00ce \\u00cb 9\\u00c5 \\u00c9\\u00d1 \\u00c0\\u00bf \\u00da \\u00bf \\u00a4\\u00c1 \\u00c4\\u00c3 lAE T\\u00bf f\\u00c5 e\\u00d5 g\\u00cb 9\\u00c3 l\\u00bb \\u00a4\\u00c3 \\u00b3\\u00c1 9AE T\\u00ce \\u00e5 \\u00c4\\u00d1 \\u00de\\u00c5 \\u00c9\\u00d0 ae\\u00be \\u00c0\\u00bf \\u00a9\\u00cf \\u00c5 AE T\\u00df \\u00bf f\\u00c5 AE T\\u00be \\u00c0\\u00ce \\u00dc 9\\u00bf \\u00c3 \\u00ba \\u00c4\\u00cb \\u00a9\\u00bb \\u00a4\\u00bd v\\u00c5 \\u00c9\\u00be \\u00c0AE \\u00e7\\u00c1 \\u00c4\\u00c3 lAE Y\\u00c3 \\u00d0 \\u00a5\\u00c5 \\u00bb f\\u00c5 AE T\\u00bf \\u00e7\\u00bb f\\u00c5 \\u00c9\\u00ba 9\\u00cb g\\u00bb f\\u00ce A\\u00e5 W\\u00c5 \\u00a8\\u00c5 \\u00c9\\u00bf \\u00a4\\u00bb \\u00a4\\u00be \\u00e8\\u00d5 \\u00d0 r\\u00c3 l\\u00bb f\\u00c5 \\u00c9\\u00cb u\\u00dc 9\\u00ba vAE T\\u00c5 \\u00c9\\u00d1 \\u00c0\\u00be \\u00c0\\u00c3 l\\u00e5 \\u00c4\\u00d1 \\u00de\\u00df r\\u00e5 8\\u00c5 \\u00c9\\u00d6 \\u00c3 \\u00dc \\u00c4\\u00bf f\\u00c5 !\\u00bb \\u00a4\\u00bd v\\u00c5 \\u00df \\u00af\\u00bd 9\\u00c3 \\u00a4\\u00cf \\u00c5 \\u00c3 6\\u00d1 \\u00c0\\u00c3 lAE \\u00a4\\u00d8 \\u00c5 \\u00b3\\u00ba &\\u00dc \\u00c4\\u00d0 \\u00a9\\u00e5 W\\u00c5 AE F\\u00ce \\u00d2 \\u00db\\u00c1 \\u00c4\\u00c3 lAE T\\u00c3 \\u00d0 \\u00a5\\u00c5 \\u00bb f\\u00c5 AE T\\u00bf \\u00c9\\u00e2 \\u00ca\\u00e9 \\u00e7\\u00ce \\u00ce \\u00cf \\u00c5 AE T\\u00d6 e\\u00ce \\u00d0 \\u00a5\\u00c5 ~\\u00bf f\\u00c1 )\\u00c3 lAE T\\u00bf f\\u00c5 e\\u00d5 g\\u00cb 9\\u00c3 l\\u00bb \\u00a4\\u00c3 \\u00c1 9AE \\u00a4\\u00ce \\u00e5 \\u00c4\\u00d1 \\u00c0\\u00c5 \\u00c9\\u00d0 \\u00af\\u00da \\u00ce \\u00dc vAE \\u00d0 \\u00b1\\u00ce \\u00cb v\\u00c5 \\u00c9\\u00d1 U\\u00dc 9\\u00bf \\u00a4\\u00c5 \\u00c9\\u00bf ~\\u00c3 \\u00a7\\u00bf \\u00a4\\u00be \\u00c0\\u00d0 \\u00a5\\u00c1 )\\u00d1 \\u00c0\\u00be \\u00e8\\u00ea \\u00c4\\u00c5 \\u00c9\\u00cb \\u00cf \\u00c5 AE T\\u00bf \\u00a4\\u00be \\u00de\\u00ce \\u00ba \\u00eb\\u00ce \\u00d2 \\u00bb \\u00a4\\u00bd 9\\u00c5 ~\\u00c7 \\u00c5 \\u00c9\\u00d1 \\u00d9\\u00d1 \\u00e8\\u00d5 z\\u00cd \\u00ba 9\\u00ce \\u00a4\\u00c7 \\u00ba \\u00e0\\u00e5 \\u00c4\\u00c3 \\u00d6 T\\u00cd \\u00d5 z\\u00ce l\\u00ec c\\u00bf T\\u00d0 \\u00a5\\u00ce &\\u00ce \\u00bb \\u00a4\\u00bd \\u00c4\\u00be \\u00c0\\u00ba v\\u00d8 \\u00d0 \\u00b1\\u00c5 \\u00bb \\u00a4\\u00bd v\\u00ce \\u00cb X\\u00e2 \\u00e9 \\u00e7\\u00ce \\u00a9\\u00d0 \\u00b1\\u00be \\u00de\\u00bb \\u00a4\\u00be \\u00c0\\u00d8 \\u00c3 l\\u00bb f\\u00c5 4\\u00dc 9\\u00ba vAE \\u00a4\\u00c5 \\u00c9\\u00d1 \\u00c0\\u00be \\u00d9\\u00c3 l\\u00e5 \\u00c4\\u00d1 \\u00de\\u00c5 \\u00a8\\u00c5 \\u00c9\\u00bf \\u00a4\\u00bb \\u00a4\\u00be \\u00e8\\u00d5 \\u00d0 r\\u00c3 l\\u00bb \\u00a4\\u00be \\u00de\\u00ce \\u00ba r\\u00c1 \\u00c4AE \\u00a4\\u00ce \\u00e5 \\u00c4\\u00d1 \\u00de\\u00c5 \\u00c9\\u00d0 \\u00af\\u00da &\\u00ce \\u00dc vAE \\u00d0 \\u00b1\\u00ce \\u00cb v\\u00c5 \\u00c9\\u00d1 \\u00d9\\u00bf \\u00a8\\u00c3 \\u00bf \\u00a4\\u00bf \\u00a4\\u00dc \\u00c4\\u00d0 \\u00a5\\u00c5 \\u00ed f\\u00ce \\u00be \\u00c0\\u00ba &\\u00bb Q\\u00be \\u00c0\\u00ba \\u00c4\\u00cb v\\u00c5 \\u00c1 W\\u00c5 \\u00c9\\u00ba 9\\u00cb v\\u00c5 \\u00c9\\u00ba 9\\u00d6 e\\u00c5 ~\\u00be \\u00c0\\u00ba \\u00c4\\u00bf f\\u00bb f\\u00c5 \\u00c9\\u00c3 \\u00cb \\u00ce \\u00d2 k\\u00d6 e\\u00ce \\u00ba i\\u00d5 \\u00cb \\u00c4\\u00be \\u00de\\u00bb \\u00a4\\u00be \\u00de\\u00ce \\u00ba 9\\u00c3 \\u00d1 \\u00be \\u00c0\\u00ba 9\\u00cb v\\u00c5 \\u00c1 W\\u00c5 \\u00c9\\u00ba 9\\u00cb 9\\u00c5 \\u00c9\\u00ba 9\\u00d6 e\\u00c5 E\\u00e5 W\\u00c5 \\u00c9\\u00d6 \\u00c3 \\u00dc 9\\u00bf \\u00a4\\u00c5 S\\u00ed $\\u00ce \\u00be \\u00c0\\u00ba &\\u00bb \\u00c1 \\u00c4AE \\u00a4\\u00ce \\u00e5 \\u00c4\\u00c3 l\\u00e5 \\u00c4\\u00be \\u00c0\\u00d1 \\u00d9\\u00be \\u00de\\u00bb \\u00a4\\u00be \\u00de\\u00c5 \\u00c9\\u00bf W\\u00bd 9\\u00c3 \\u00c9\\u00cf \\u00c5 e\\u00bb \\u00a4\\u00bd v\\u00c5 e\\u00bf \\u00a4\\u00c3 \\u00d0 \\u00a5\\u00c5 \\u00cb 9\\u00c5 \\u00d8 AE \\u00a4\\u00c5 \\u00c5 \\u00a8\\u00ce \\u00d2 \\u00c5 \\u00c9\\u00bf \\u00a4\\u00bb \\u00a4\\u00be \\u00c0\\u00d0 \\u00b1\\u00c3 l\\u00bb \\u00a4\\u00be \\u00de\\u00ce \\u00ba \\u00b3AE \\u00a4\\u00c5 \\u00c9\\u00d1 \\u00c0\\u00be \\u00d9\\u00c3 l\\u00e5 \\u00c4\\u00be \\u00c0\\u00d1 \\u00c0\\u00be \\u00de\\u00bb o\\u00df \\u00e2 \\u00ee x\\u00e1 i\\u00c1 W\\u00c5 AE T\\u00be \\u00c0\\u00d0 \\u00a5\\u00c5 \\u00c9\\u00ba &\\u00bb \\u00a4\\u00c3 \\u00d1 AE T\\u00c5 \\u00c9\\u00bf \\u00a4\\u00dc 9\\u00d1 \\u00de\\u00bb \\u00a4\\u00bf \\u00b1\\u00bf T\\u00bd v\\u00ce \\u00a4\\u00c7 \\u00bb \\u00a4\\u00bd 9\\u00c3 l\\u00bb r\\u00d0 \\u00a5\\u00ce i\\u00cb v\\u00c5 \\u00c9\\u00d1 \\u00c0\\u00bf \\u00a5\\u00c7 A\\u00be \\u00de\\u00bb \\u00a4\\u00bd \\u00efAE T\\u00be \\u00c0\\u00d6 Y\\u00bd \\u00d6 e\\u00ce \\u00ba &\\u00bb f\\u00c5 e\\u00e1 i\\u00bb \\u00a4\\u00bf Q\\u00c1 W\\u00c5 AE \\u00a4\\u00d2 \\u00ce AE T\\u00d0 1\\u00c5 \\u00cf \\u00c5 \\u00c9\\u00ba \\u00ca\\u00e5 W\\u00c5 \\u00bb f\\u00bb f\\u00c5 AE \\u00b3\\u00bb \\u00a4\\u00bd 9\\u00c3 \\u00ba \\u00bf \\u00a4\\u00bb \\u00a4\\u00c3 \\u00ba 9\\u00cb 9\\u00c3 lAE T\\u00cb \\u00f1\\u00f0 S\\u00cc \\u00b3\\u00cc Q\\u00bf F\\u00c3 \\u00ba 9\\u00cb \\u00f1\\u00bb \\u00a4\\u00bd \\u00c4\\u00c3 l\\u00bb \\u00db\\u00ed f\\u00ce \\u00be \\u00c0\\u00ba \\u00bb k\\u00be \\u00c0\\u00ba i\\u00d5 \\u00cb 9\\u00c5 \\u00c1 8\\u00c5 \\u00c9\\u00ba \\u00c4\\u00cb v\\u00c5 \\u00c9\\u00ba \\u00bb \\u00c3 \\u00bf \\u00a4\\u00bf \\u00a4\\u00dc 9\\u00d0 \\u00a5\\u00c1 \\u00c4\\u00bb \\u00a4\\u00be \\u00de\\u00ce \\u00ba k\\u00be \\u00d9\\u00bf 3\\u00c5 e\\u00ec W\\u00c5 \\u00c9\\u00d6 e\\u00bb \\u00a4\\u00be \\u00de\\u00cf \\u00c5 !\\u00be \\u00c0\\u00ba \\u00bf \\u00a4\\u00ce \\u00d0 \\u00a5\\u00c5 \\u00a9\\u00d0 \\u00a5\\u00ce i\\u00cb v\\u00c5 \\u00c9\\u00d1 \\u00c0\\u00bf \\u00e2 \\u00f2 \\u00f3 \\u00e7\\u2022 x\\u00f4 \\u00a8 \\u00a8f \\u2022 d g I \\u00d3 \\u00db\\u00ce AE \\u00a4\\u00c5 \\u00c9\\u00c3 \\u00ba \\u00eb\\u00be \\u00c0\\u00bf Q\\u00c3 \\u00ba \\u00eb\\u00bd 9\\u00be \\u00de\\u00d8 \\u00bd 9\\u00d1 \\u00de\\u00df \\u00e0\\u00c3 l\\u00d8 \\u00d8 \\u00d1 \\u00c0\\u00dc v\\u00bb \\u00a4\\u00be \\u00d9\\u00ba 9\\u00c3 l\\u00bb \\u00a4\\u00be \\u00de\\u00cf \\u00c5 \\u00d4\\u00d1 \\u00c0\\u00c3 \\u00ba v\\u00d8 \\u00dc 9\\u00c3 l\\u00d8 \\u00c5 \\u00c7 \\u00bd 9\\u00be \\u00d9\\u00d6 T\\u00bd \\u00f5\\u00bd 9\\u00c3 \\u00bf \\u00f6\\u00c7 e\\u00ce AE T\\u00cb i\\u00d5 g\\u00bf \\u00a4\\u00c1 \\u00c4\\u00c3 \\u00d6 \\u00be \\u00c0\\u00ba v\\u00d8 \\u00f7\\u00ce AE \\u00a4\\u00bb \\u00a4\\u00bd v\\u00ce \\u00d8 AE Y\\u00c3 l\\u00c1 \\u00c4\\u00bd \\u00df \\u00e2 \\u00b9 o\\u00bb \\u00d0 \\u00b1\\u00c3 l\\u00cd \\u00c5 \\u00c9\\u00bf \\u00b1\\u00d3 !\\u00ce AE \\u00a4\\u00c5 \\u00c9\\u00c3 \\u00ba 6\\u00c1 \\u00c4\\u00c3 lAE \\u00a4\\u00bb $\\u00d5 z\\u00ce \\u00d2 |\\u00d5 g\\u00bf f\\u00c1 W\\u00c5 \\u00c5 \\u00c9\\u00d6 T\\u00bd \\u00f8 \\u00fa\\u00f9 \\u00fb !\\u00fc 9\\u00fd !\\u00bb \\u00a4\\u00c3 l\\u00d8 \\u00d8 \\u00be \\u00c0\\u00ba v\\u00d8 \\u00cb 9\\u00be \\u00e8\\u00ec W\\u00c5 AE \\u00a4\\u00c5 \\u00c9\\u00ba &\\u00bb \\u00a9\\u00d2 AE \\u00a4\\u00ce \\u00d0 \\u00fe\\u00ee \\u00a8\\u00ba v\\u00d8 \\u00d1 \\u00d9\\u00be \\u00c0\\u00bf \\u00a4\\u00bd ~\\u00f9 \\u00fb !\\u00fc \\u00bb \\u00a4\\u00c3 l\\u00d8 \\u00d8 \\u00be \\u00d9\\u00ba v\\u00d8 v\\u00e2 \\u00d7\\u00ff S\\u00c5 \\u00c9\\u00ba v\\u00c5 AE f\\u00d5 \\u00c3 \\u00d1 \\u00c0\\u00d1 \\u00de\\u00df \\u00af\\u00ee \\u00ba v\\u00d8 \\u00d1 \\u00c0\\u00be \\u00c0\\u00bf \\u00a4\\u00bd \\u00af\\u00f9 \\u00fb !\\u00fc \\u00a5\\u00bb \\u00a4\\u00c3 l\\u00d8 \\u00d8 \\u00be \\u00d9\\u00ba v\\u00d8 k\\u00d6 \\u00c3 \\u00ba Q\\u00e5 W\\u00c5 !AE \\u00a4\\u00c5 \\u00d8 \\u00c3 lAE T\\u00cb v\\u00c5 \\u00c9\\u00cb \\u00b3\\u00c3 \\u00bf \\u00c3 \\u00c1 9AE T\\u00ce \\u00d6 e\\u00c5 \\u00c9\\u00bf \\u00a4\\u00bf r\\u00be \\u00c0\\u00ba \\u00ef\\u00c7 \\u00bd 9\\u00be \\u00d9\\u00d6 T\\u00bd \\u00ef\\u00c3 \\u00c1 9AE T\\u00ce \\u00c1 8\\u00c5 AE \\u00b1\\u00f9 \\u00fb !\\u00fc 6\\u00bb \\u00a4\\u00c3 l\\u00d8 6\\u00be \\u00c0\\u00bf \\u00b1\\u00c3 \\u00bf $\\u00d5 \\u00bf \\u00a4\\u00be \\u00de\\u00d8 \\u00ba 9\\u00c5 \\u00c9\\u00cb U\\u00bb f\\u00ce !\\u00c5 \\u00c9\\u00c3 \\u00d6 T\\u00bd r\\u00c7 \\u00ce AE T\\u00cb \\u00a5\\u00be \\u00d9\\u00ba U\\u00bb f\\u00c5 e\\u00e1 \\u00bb \\u00a4\\u00bf \\u00e2 3\\u00f0 A\\u00ce \\u00a4\\u00c7 e\\u00c5 \\u00cf \\u00c5 AE \\u00c9\\u00da i\\u00be \\u00c0\\u00ba \\u00a5\\u00d3 \\u00db\\u00ce l\\u00d5\"],[\"Processes that Shape Conversation and their Implications for Computational Linguistics\"],[\"Using Confidence Bands for Parallel Texts Alignment\"],[\"The order of prenominal adjectives in natural language generation\"],[\"Specifying the Parameters of Centering Theory: a Corpus-Based Evaluation using Text from Application-Oriented Domains\"],[\"Importance of Pronominal Anaphora resolution in Question Answering systems\"],[\"\\u00a2\\u00a1 \\u00a4\\u00a3 \\u00a6\\u00a5 \\u00a8 \\u00a7 \\u00a9 \\u00a5 \\u00a9 \\u00a3 ! #\\\" \\u00a4\\u00a5 \\u00a8 \\u00a7 \\u00a9 $ &% (' )\\u00a3 \\u00a6\\u00a9 \\u00a5 0 1 2' 43 5 \\u00a46 )7 98 9 \\u00a7 \\u00a1 &@ \\u00a5 \\u00a8A B\\u00a1 C8 D \\u00a4\\u00a9 FE G\\u00a3 \\u00a6\\u00a5 0 \\u00a4 \\u00a7 7 9\\u00a5 28 H' I P \\u00a7 8 D \\u00a46 QE \\u00a2R S' 4T U\\u00a9 WV I\\u00a9 X7 YE `\\u00a3 \\u00a6\\u00a5 0 \\u00a4 \\u00a7 27 H\\u00a5 \\u00a68 H' ) & \\u00a5 \\u00a9 \\u00a3 ba !\\u00a9 c7 H\\u00a9 A \\u00a68 H' ) d e gf ih cp q cr s 2t vu xw y w \\u00a6r c e Hh d y t q Xr I U 2d e gf xh ji k l mf n 2k xf o \\u00a4l qp rl qs tl q n u v Cw jx 9i y z vz 9{ l q G| Cn } m ~{ l qs De ~ k ~{ h xu { s tk 2 #l | \\u00a4k xs ~{ l qs De x~ k #~{ h w 2y h Bq cr s 2t s v j cy \\u00a2u v Cw jx 9i ry s Dk f | { h De tf xh t ~{ l ms 9e ~ k #~{ h w \\u00a6 D \\u00a1 \\u00a3\\u00a2 \\u00a4 H \\u00a6\\u00a5 5 \\u00a7 G D\\u00a9 \\u00ab\\u00aa \\u00ac 9 \\u00ae \\u00a4 9\\u00b0 H\\u00aa \\u00b2\\u00b1 \\u00aa \\u00b0\\u00a4 \\u00b3\\u00b1 \\u00b4\\u00b1 \\u00b5 G 9\\u00a9 i \\u00b6 \\u1e97\\u00a9 \\u00aa \\u00ac S 9 \\u00ae \\u00a4 H\\u00b0 H\\u00aa \\u00b2\\u00b1 \\u00b6 9\\u00a9 \\u00b1 \\u00a5 \\u00ab\\u00a4 \\u2022 )\\u00a9 \\u00ab\\u00aa \\u00b0D\\u00a9 \\u00b9 9\\u00b5 m\\u00b1 D \\u00b6 \\u00a4 \\u00a4 \\u00ba \\u00ae H g H\\u00aa \\u00b0\\u00ae \\u00ab 2\\u00ba #\\u00a4 H\\u00aa \\u00b0\\u00a4 \\u00a2 \\u00ae \\u00a5 \\u00bb\\u00a4 t\\u00bc g 9\\u00bc H \\u00b4 9 \\u00ae \\u00ab\\u00a4 \\u00b5 m \\u00bd 9\\u00a9 Y\\u00a4 H \\u00ae \\u00b6 ` H\\u00aa \\u00ac \\u00b6 \\u00bc \\u00a4 9\\u00aa \\u00ac \\u00be \\u00bf \\u00ab\\u00aa \\u00b0\\u00b0\\u00aa \\u00ac \\u00be \\u00bc \\u00c0\\u00ab \\u00c1\\u00a1 t \\u00a4 \\u00c2 X\\u00a2 \\u00a8 \\u00a7 ` i\\u00aa \\u00b0\\u00a4 )\\u00bc \\u00a4 H \\u00a6\\u00a5 U \\u00b1 g\\u00c3 \\u00ab \\u00ae \\u00a5 U 9\\u00a9 2 \\u00be 9\\u00a9 \\u00c4\\u00b1 \\u00b5 \\u00ab t \\u00a4 Y\\u00bc \\u00ab\\u00c4 \\u00b1 S\\u00a4 \\u00ae \\u00abg g\\u00a1 2 \\u00be 9\\u00a9 i\\u00aa \\u00ac \\u00c5\\u00b1 9\\u00a5 Y \\u00b1 \\u00bd H \\u00a6\\u00a5 r\\u00bc g 5 \\u00ae \\u00b6 j\\u00bf \\u00ab\\u00aa \\u00b2\\u00be \\u00bc #\\u00a1 \\u00aa \\u00b2 H\\u00aa \\u00b2 \\u00a6\\u00a4 G\\u00aa \\u00ac \\u00bd 9 \\u00ae \\u00a4 H\\u00b0 H\\u00aa \\u00b2\\u00b1 \\u00a6AE \\u00c0\\u00bf \\u00bc \\u00c7\\u00aa \\u00b2 U\\u00bf H\\u00b1 \\u00bc \\u00be \\u00a9 \\u00b1 \\u00bc 9\\u00a9 9\\u00b1 \\u00ae\\u00bf \\u00ab2 \\u00b6 \\u00c8\\u00b1 \\u00b5 2 9 \\u00ab\\u00aa \\u00b0\\u00a5 \\u00ab2\\u00ba \\u00a4\\u00aa \\u00ac g H \\u00a6 \\u00a4 H \\u00a6\\u00a5 \\u0157 D \\u00a4 \\u00c2 \\u00c9 \\u00ca \\u00ab H\\u00b1 \\u00ae\\u00b1 \\u00ae\\u00a4 X \\u00c0 \\u00b6 C\\u00b1 \\u00a5 \\u00a6\\u2022 )\\u00a9 \\u00aa \\u00b0\\u1e97\\u00a9 \\u00a4 D\\u00a9 \\u00b1 H \\u00a4 Y 9\\u00a9 52 \\u00be 9\\u00a9 \\u00cb\\u00b1 \\u00b5 \\u00ab t \\u00a4 \\u00b1 \\u00a9 9 \\u00a4 g\\u00a1 \\u00a32 \\u00be 9\\u00a9 \\u00bd \\u00ae \\u00a5 \\u00bd H \\u00a6\\u00a5 \\u00bc g \\u00a6\\u00a4 \\u00c7 \\u00ae \\u00b6 j\\u00bf \\u00ab\\u00aa \\u00b2\\u00be \\u00bc #\\u00a1 \\u00aa \\u00b2 H\\u00aa \\u00b2 \\u00a6\\u00a4 S\\u00aa \\u00ac \\u00bb 9 \\u00ae \\u00a4 H\\u00b0 H\\u00aa \\u00b2\\u00b1 \\u00cc\\u00bf \\u00ba F\\u00bc \\u00a4 H\\u00aa \\u00ac \\u00be \\u00b9 \\u00a3\\u2022 \\u00b1 \\u00a1 2 \\u00cd \\u00a6\\u00ce 9 \\u00ae \\u00ab\\u00a4 H\\u00b0 H\\u00aa \\u00b2\\u00b1 \\u00cf\\u00ab D \\u00d0\\u00a4 \\u00a62 \\u00a6g H\\u00aa \\u00b2\\u00b1 \\u00b6 9\\u00a9 \\u00b1 \\u00a5 \\u00a6\\u00c2 \\u00d1 \\u00d2 9\\u00a9 \\u00d3 r 9\\u00a4 B2 \\u00cd \\u00a6AE 9\\u00a9 H\\u00b1 \\u00ae D \\u00ae \\u00a4 H\\u00b0 H\\u00aa \\u00b2\\u00b1 \\u0157 D \\u00a4 ! 9 \\u00a4 \\u00a62 \\u00a6g \\u00a6\\u00a5 \\u00ce\\u00bf \\u00ba \\u00bc \\u00ab\\u00a4 H\\u00aa \\u00ac \\u00be U `\\u00a9 \\u00ba #\\u00bf \\u00ab 9\\u00aa \\u00b0\\u00a5 \\u00b6 C 9\\u00a9 \\u00b1 #\\u00a5 \\u00b1 \\u00b5 g\\u00c3 g g\\u00c3 #\\u00a1 \\u00ae \\u00b6 \\u00ab2 ` \\u00b6 H\\u1e97\\u00a9 \\u00aa \\u00ac \\u00be \\u00ce \\u00ae \\u00a5 \\u00b3\\u00a4 \\u00b6 \\u00ae \\u00ae H\\u00aa \\u00b0Gg\\u00b1 #\\u00a1 \\u00a4 H 9 \\u00aa \\u00ac \\u00ae \\u00ce\\u00bf \\u00ba \\u00c8 9\\u00a9 \\u00a6\\u00a4 9 \\u00ae\\u00bc D\\u00bc \\u00a4 \\u00c2 b\\u00d1 \\u00d4 9\\u00a9 \\u00d5\\u00a4 H \\u00a6\\u1e97\\u00a1 \\u00b1 \\u00ab\\u00a5 Y2 \\u00cd \\u00a6AE B 9\\u00a9 \\u00b6 C\\u00b1 \\u00ae\\u00a4 \\u00d2 9\\u00bc 9 9 \\u00ae \\u00ab\\u00a4 H\\u00b0 x\\u00a1 H\\u00aa \\u00b2\\u00b1 \\u00a2\\u00ab D \\u00d5\\u00b5 \\u00d6\\u00b1 \\u00d7 9\\u00a9 G\\u00cd 9\\u00bf \\u00bd\\u0157\\u00a9 9 \\u00a4 G\\u00aa \\u00b0\\u00a4 \\u00a4 H \\u00a62 \\u00a6g \\u00a6\\u00a5 \\u00cb \\u00ae \\u00b6 \\u00b1 \\u00be \\u00d5 9\\u00a9 \\u00ce\\u00a4 \\u00a62 \\u00a6g \\u00a6\\u00a5 \\u00cb 9 \\u00ae \\u00ab\\u00a4 \\u00c1\\u00a1 \\u00b0 H\\u00aa \\u00b2\\u00b1 \\u00bb\\u00ab D \\u00be \\u00b1 9\\u00aa \\u00b2 \\u00a6\\u00a4 \\u00d5\\u00bf \\u00ba \\u00bc \\u00ab\\u00a4 H\\u00aa \\u00ac \\u00be \\u00a4 H H H\\u00aa \\u00b0\\u00a4 H\\u00aa \\u00b0\\u00a8\\u00aa \\u00ac \\u00b5 \\u00d6\\u00b1 D \\u00b6 H\\u00aa \\u00b2\\u00b1 \\u00b9\\u00b1 \\u00b5 ` 9\\u00a9 \\u00bd H 9\\u00be \\u00b0 \\u00ae \\u00be \\u00bc \\u00be \\u00c2 4\\u00a2 \\u00ba \\u00c5\\u00bc \\u00a4 H\\u00aa \\u00ac \\u00be \\u00a2 9\\u00a9 \\u00aa \\u00b0\\u00a4 Y H\\u00b1 \\u00ae\\u00b1 \\u00ae\\u00a4 \\u00a6\\u00a5 \\u00b6 \\u00b1 #\\u00a5 \\u00ab \\u00a6AE \\u2022 c \\u00d7g\\u00b1 \\u00bc \\u00b0\\u00a5 \\u00a4 9\\u00a9 \\u00b1 H 9\\u00a9 2 \\u00be 9\\u00a9 \\u00b1 \\u00b5 \\u00ab D \\u00ab\\u00a4 \\u00d2\\u2022 \\u00aa \\u00b2 9\\u00a9 \\u00b1 \\u00bc ! 9 \\u00aa \\u00b0\\u00a4 H\\u00aa \\u00ac \\u00be \\u00c7 9\\u00a9 \\u00d7 \\u00ae \\u00b6 \\u00a4\\u00a1 \\u00bf r\\u00aa \\u00b2\\u00be \\u00bc \\u00aa \\u00b2 H\\u00aa \\u00b2 \\u00a6\\u00a4 \\u00aa \\u00ac \\u00d8 D \\u00ae \\u00a4 H\\u00b0 H\\u00aa \\u00b2\\u00b1 2\\u00c2 \\u00d9 \\u00da r W Xq X e \\u00a3 Br \\u00db 9 \\u00ae \\u00a4 H\\u00b5 m \\u00a1 \\u00a3\\u00a2 \\u00a4 \\u00a6\\u00a5 \\u00a7 G D\\u00a9 \\u00aa \\u00ac B 9 \\u00ae \\u00ab\\u00a4 H\\u00b0 H\\u00aa \\u00b2\\u00b1 \\u00b6 C 9\\u00a9 \\u00b1 #\\u00a5 \\u00d7\\u00be 9 \\u00b02\\u00ba \\u00d8\\u00a9 \\u00a4 \\u00b5 m\\u00b1 \\u00bc \\u00a4 \\u00a6\\u0157\\u00a4 \\u00dc \\u00dd \\u00aa \\u00ac \\u00b6 \\u00c7AE 2\\u00de \\u00a6\\u00df \\u00df x\\u00e0 \\u00e1 H\\u00e2 \\u00b6 C\\u00b1 D\\u0157\\u00a9 \\u00b1 \\u00ae2\\u00b1 \\u00be \\u00ae\\u00aa \\u00b0 \\u0232 \\u00ae 2\\u00ba #\\u00a4 9\\u00aa \\u00b0\\u00a4 \\u00a2\\u00b1 \\u00b5 \\u00a4 H\\u00b1 \\u00bc 9g i\\u00b0 \\u00ae \\u00be \\u00bc \\u00be AE \\u00a4 \\u00ba \\u00ae H g H\\u00aa \\u00b0G \\u00ae 2\\u00ba \\u00a4 H\\u00aa \\u00b0\\u00a4 \\u00b1 \\u00b5 \\u00c0\\u00a4 \\u00b1 \\u00bc 9g U\\u00b0 \\u00ae \\u00be \\u00bc \\u00be AE \\u00a8\\u00a4 D\\u00bc \\u1e97\\u00a1 9\\u00bc H \\u00cb 9 \\u00ae \\u00a4 H\\u00b5 m S \\u00b1 ( 9\\u00a9 \\u00cb H H\\u00be \\u00c4\\u00b0 \\u00ae \\u00be \\u00bc \\u00be AE 5 \\u00ae \\u00a5 \\u00a4 g \\u00ce\\u00be 9 H\\u00aa \\u00b2\\u00b1 \\u00cb\\u00b1 \\u00b5 C 9\\u00a9 H H\\u00be \\u00ca\\u00b0 \\u00ae \\u00be \\u00bc \\u00be \\u00c2 \\u00d1 \\u00bd\\u00a4 D\\u00bc g 9\\u00bc 9 ` 9 \\u00ae \\u00a4 H\\u00b5 m \\u00c7\\u00a4 \\u00a6\\u00a6AE ) 9 \\u00ae \\u00a4 \\u00b5 \\u00d6 \\u00d8\\u00ab D \\u00a4 \\u00bc \\u00a4 H \\u00a6\\u00a5 \\u00b1 \\u00bf 0\\u00be 9 \\u00a6 H2\\u00ba 2 g\\u00c3 \\u00aa \\u00b0 \\u00b0\\u00aa \\u00b2\\u00e3 \\u00a6\\u00a5 \\u00c7\\u00aa \\u00ac \\u00b1 9\\u00a5 c \\u00b1 ! 9 \\u00aa \\u00b0\\u00a4 9\\u00a9 \\u00a6\\u00bc 9 g\\u00ba S\\u00b1 \\u00b5 \\u00a4 9 \\u00ae \\u00a4 H\\u00b0 H\\u00aa \\u00b2\\u00b1 2\\u00c2 \\u00e4 t #\\u00a1 \\u00a3\\u00a2 \\u00a4 \\u00a6\\u00a5 \\u00a7 G D\\u00a9 \\u00aa \\u00ac j 9 \\u00ae \\u00a4 H\\u00b0 H\\u00aa \\u00b2\\u00b1 \\u00ce\\u00dc X\\u00a2 \\u00a8 \\u00a7 G \\u00c0\\u00e1 H\\u00b5 \\u00d6\\u00b1 D \\u00b6 \\u00a4 \\u00a8\\u00bf \\u00b1 9\\u00a9 \\u00a4 \\u00ba H g H\\u00aa \\u00b0\\u00e5 \\u00ae 2\\u00ba #\\u00a4 9\\u00aa \\u00b0\\u00a4 ae \\u00ae \\u00a5 \\u00a4 D\\u00bc g 9\\u00bc 9 \\u00e7 9 \\u00ae \\u00ab\\u00a4 \\u00b5 m \\u00a4 H\\u00aa \\u00ac \\u00b6 \\u00a4\\u00bc 2 H \\u00ae \\u00b1 \\u00bc \\u00a4 H2\\u00ba \\u00bc \\u00ab\\u00a4 H\\u00aa \\u00ac \\u00be j 9\\u00a9 \\u00aa \\u00b0\\u00a4 2 g\\u00c3 \\u00aa \\u00b0 \\u00b0\\u00aa \\u00b2\\u00e3 \\u00a6\\u00a5 G\\u00ab D \\u00a4 \\u00dc \\u00e8 \\u00a6\\u00a5 \\u00ab AE \\u00b4\\u00de \\u00a6\\u00df \\u00df \\u00e9 \\u00e1 H\\u00c2 X\\u00a2 \\u00a8 \\u00a7 ` \\u00ae \\u00ea\\u00a4 9\\u00a9 \\u00b1 H \\u00cc 9\\u00a9 9 \\u00ae \\u00ab\\u00a4 H\\u00b0 H\\u00aa \\u00b2\\u00b1 \\u00b9 H\\u00aa \\u00ac \\u00b6 C \\u00d5 \\u00ae \\u00a5 \\u00eb 9 \\u00aa \\u00b0\\u00a4 \\u00a2 9\\u00a9 \\u00a2 \\u00a6\\u00bc D g\\u00ba \\u00ec\\u00b1 \\u00b5 \\u00a4 \\u00ba H g H\\u00aa \\u00b0\\u00d4 \\u00ae 2\\u00ba #\\u00a4 9\\u00aa \\u00b0\\u00a4 \\u00bd\\u00bf \\u00ba \\u00e4\\u00bc \\u00a4 9\\u00aa \\u00ac \\u00be \\u00b9 9\\u00a9 \\u00cb2 g\\u00c3 \\u00aa \\u00b0 \\u00b0\\u00aa \\u00b2\\u00e3 \\u00a6\\u00a5 \\u00ab t \\u00a4 \\u00c2 \\u00db \\u00ed\\u00d3 \\u00ab D\\u00a4 AE i\\u00a4 H\\u00aa \\u00ac \\u00abg \\u00cc \\u00b0S\\u00ab D \\u00ab\\u00a4 \\u00b9\\u2022 H \\u00ee\\u00a4 9\\u00a9 \\u00b1 9 \\u0157\\u00a9 9 \\u00a4 g\\u00a1 \\u00a32 \\u00be 9\\u00a9 S\\u00ab t \\u00a4 AE I \\u00b6 \\u00ae \\u00ae\\u00ba \\u00a2\\u00a4 \\u00ba H g H\\u00aa \\u00b0 \\u00ae \\u00b6 C\\u00a1 \\u00bf \\u00ab\\u00aa \\u00b2\\u00be \\u00bc \\u00ab\\u00aa \\u00b2 H\\u00aa \\u00b2 \\u00a6\\u00a4 \\u00d8\\u00b1 #\\u00a6\\u00bc 9 H \\u00a6\\u00a5 S\\u00aa \\u00ac \\u00a2\\u0157 D S \\u00b6 HD\\u00a9 \\u00ab\\u00aa \\u00ac \\u00be \\u00c2 \\u00db \\u00a4 H \\u00a6\\u00a4 9\\u00bc 2 AE \\u00ab D \\u00a4 )\\u00bf \\u00a6 \\u00ae \\u00b6 !2\\u00b1 \\u00be I \\u00b1 \\u00d7\\u00a4 g g\\u00a1 2 \\u00be 9\\u00a9 \\u00ca \\u00b1 \\u00c7 H \\u00a6\\u00a5 r\\u00bc g C \\u00ae \\u00b6 j\\u00bf \\u00ab\\u00aa \\u00b2\\u00be \\u00bc \\u00aa \\u00b2 H\\u00aa \\u00b2 \\u00a6\\u00a4 \\u00c2 \\u00a4\\u00a2 \\u00a8\\u00bc AE B\\u00a4 g g\\u00a1 2 \\u00be 9\\u00a9 \\u00ab D \\u00a4 Q \\u00ae\\u00bc \\u00a4 \\u00ef\\u0157 D \\u00a4 H\\u0157 9\\u00a4 \\u00a6\\u00a4 H\\u00a4 9\\u00b1 \\u00ae\\u00bf \\u00ab2 \\u00b6 \\u00c7AE \\u00f0\\u00bf \\u00a6 \\u00ae\\u00bc \\u00a4 \\u00f1 9\\u00a9 \\u00a4 H \\u00ae \\u00b6 \\u00bc \\u00ab \\u00b6 j\\u00bf \\u00f0\\u00b1 \\u00b5 \\u00a4 g g\\u00a1 \\u00a32 \\u00be 9\\u00a9 \\u00c5\\u00ab D \\u00a4 \\u00d8 \\u00ae Sg\\u00b1 \\u00cd `2 \\u00a6\\u00a4 H\\u00a4 \\u00c7\\u00a4 #\\u00a1 g \\u00a6\\u00a4 9\\u00a9 \\u00ae ! 9\\u00a9 \\u00a4 H \\u00ae \\u00b6 C \\u00bc \\u00ab \\u00b6 j\\u00bf \\u00b1 \\u00b5 \\u00ab\\u0157\\u00a9 9 \\u00a4 g\\u00a1 \\u00a32 \\u00be 9\\u00a9 \\u00ab t \\u00a4 \\u00c2 \\u00b1 \\u00b1 \\u00cd Dg\\u00b1 \\u00b6 C 9\\u00a9 \\u00ab\\u00aa \\u00b0\\u00a4 H\\u00b1 \\u00ae\\u00bf \\u00ab2 \\u00b6 UAE \\u00c9 H \\u00ae \\u00bf j \\u00ae \\u00a5 U \\u00e8 \\u00a6\\u00a5 \\u00ab `\\u00dc \\u00c1\\u00de \\u00a6\\u00df \\u00df \\u00f2 \\u00ab\\u00e1 \\u00a5 \\u00b1 \\u00ae \\u00a6\\u00a5 g\\u00c3 \\u00ae \\u00b6 \\u00ab2 g\\u00a1 \\u00a3\\u00bf r \\u00a4 \\u00a6\\u00a5 G \\u0157 H\\u00b1 \\u00ae D\\u00a9 \\u00a6\\u00c2 0\\u00f3 \\u00b1 \\u2022 c \\u00cd \\u00a6AE 2 g\\u00c3 \\u00ae \\u00b6 \\u00ab2 g\\u00a1 \\u00bf \\u00ab \\u00a4 H \\u00a6\\u00a5 \\u00ce \\u0157 H\\u00b1 \\u00ae D\\u00a9 \\u00a9 \\u00ab \\u00a4 C\\u00a4 \\u00b1 \\u00b6 C \\u00d8 H\\u00b1 \\u00ae\\u00bf \\u00ab2 \\u00b6 \\u00a4 \\u00c2 \\u00f4 \\u00d2 \\u00b1 \\u00b5 9\\u00a9 \\u00ce H\\u00b1 \\u00ae\\u00bf \\u00ab2 \\u00b6 \\u00a4 U\\u00aa \\u00b0\\u00a4 G 9\\u00a9 ` g\\u2022 c\\u00b1 S\\u00a5 \\u00ab\\u00aa \\u00f6\\u00f5 2 H \\u00ae Y\\u00cd 9\\u00bf \\u00ab\\u00a4 `\\u00b1 \\u00b5 H H\\u00be \\u00a8\\u00b0 \\u00ae \\u00be \\u00bc \\u00ab \\u00be I H \\u00e8 \\u00d2 g\\u2022 c\\u00b1 C\\u00a4 \\u00b6 \\u00ae \\u00ae H\\u00aa \\u00b0 \\u00b02\\u00ba \\u00a4 H\\u00aa \\u00ac \\u00b6 \\u00aa \\u00b0\\u00b0 \\u00b1 \\u00bc r \\u00a4 X \\u00a4 \\u00b1 \\u00ae\\u00bf \\u00f7 \\u00c1 \\u00a6g H\\u00a4 H \\u00a6\\u00a4 H \\u00a6g H\\u00aa \\u00b2\\u00cd \\u00a62\\u00ba 2 9\\u00a9 \\u00b1 \\u00bc \\u00be \\u00a9 \\u00d7 \\u00cd 9\\u00bf \\u00b1 \\u00b5 \\u00a4 \\u00b1 \\u00bc 9g \\u00c4\\u00b0 \\u00ae \\u00be \\u00bc \\u00be \\u00c4 H \\u00e8 \\u00a6\\u00a4 \\u00b3 9\\u00a9 \\u00c5 \\u00b1 \\u00bc \\u00ab \\u00a4 5 \\u00a4 \\u00b3\\u00aa \\u00b2 H\\u00a4 \\u00b1 \\u00ae\\u00bf \\u00f7 \\u00c1 \\u00a6g H\\u00a4 \\u00c2 U\\u00f8 \\u00b1 \\u00a4 g\\u00c3 \\u00ae \\u00b6 \\u00ab2 AE `\\u00dd \\u00b1 H \\u00a6 \\u00ae \\u00ca\\u00cd 9\\u00bf \\u00d5\\u00f9 q\\u00fa \\u00fc\\u00fb \\u00fd \\u00c1\\u00fe \\u00ae\\u00fb \\u00ff \\u2022 \\u00aa \\u00b2 9\\u00a9 \\u00b9\\u00b1 \\u00ae\\u00bf \\u00f7 \\u00c1 \\u00a6g H\\u00a4 S\\u00f9 \\u00a1 \\u00a3\\u00a2 \\u00a5\\u00a4 \\u00dc \\u00bf r\\u00bc \\u00a4 g\\u00e1 H\\u00ff \\u00a4 \\u00ae \\u00a5 \\u00e4\\u00f9 \\u00a7\\u00a6 C\\u00fb \\u00a9\\u00b0\\u00dc v\\u00a9 \\u00b1 9\\u00a4 \\u00e1 H\\u00ff \\u00aa \\u00b0\\u00a4 9 \\u00ae \\u00ab\\u00a4 H\\u00b0 \\u00a6\\u00a5 \\u00c7\\u00aa \\u00ac \\u00ae \\u00b1 \\u00be \\u00ae\\u00b0\\u00aa \\u00b0\\u00a4 9\\u00a9 \\u00d7\\u00cd 9\\u00bf \\u00ab\\u00a4 )\\u00f9 H \\u00e8 \\u00ff \\u00ab \\u00ae \\u00a5 G\\u00f9 9\\u00aa \\u00b0\\u00a5 \\u00ff H \\u00a6\\u00a4 9 \\u00a6g H\\u00aa \\u00b2\\u00cd \\u00a62\\u00ba \\u00c2 \\u00a7 G \\u00ae \\u00ba Y 9 \\u00a6\\u00a4 \\u00a6 9D\\u00a9 \\u00a6\\u00a4 \\u2022 H \\u00a5 \\u00b1 C \\u00b1 U\\u00a4 H\\u00b1 \\u00ae2\\u00cd 9\\u00a9 \\u00b6 U\\u00c2 \\u00a9 \\u00ba \\u00bc \\u00a4 \\u00a6\\u00a5 \\u00ce\\u00a4 \\u00ba H g H\\u00aa \\u00b0\\u00d8g\\u00b1 \\u00ae\\u00b02\\u00b1 # H\\u00aa \\u00b2\\u00b1 i\\u00dc \\u00dd \\u00aa \\u00ac \\u00b6 \\u00fa \\u00d2\\u00fb \\u00a9 \\u00acAE \\u00de \\u00a6\\u00df \\u00df \\u00e9 #\\u00e2 B \\u00a6\\u00fa j\\u00fb \\u00a9 qAE !\\u00de \\u00a6\\u00df \\u00df \\u00df \\u00e1 HAE I\\u00a4 H \\u00b6 \\u00ae H\\u00aa \\u00b0\\u00a8g\\u00b1 \\u00a4 D \\u00aa \\u00ac \\u00ae \\u00bf \\u00ba \\u00d5 9\\u00a9 \\u00a6\\u00a4 9 \\u00ae\\u00bc D\\u00bc \\u00a4 \\u00dc v \\u00a7 U\\u00b1 #\\u00b1 \\u00fa \\u00fb ! qAE j\\u00de \\u00a6\\u00df \\u00df \\u00f2 \\u00e1 HAE \\u00d2\\u00a4 \\u00b6 \\u00ae \\u00ae H\\u00aa \\u00b0\\u03bc\\u00d6 \\u00a6 9\\u00bc H \\u00a6\\u00a4 \\u00d8\\u00dc \\u00ac \\u00b6 C \\\" \\u00a6\\u00fa I\\u00fb ! qAE \\u00de \\u00a6\\u00df \\u00df \\u00df \\u00e1 \\u00d2 \\u00ae \\u00a5 \\u00a4 H H H\\u00aa \\u00b0\\u00a4 H\\u00aa \\u00b0 \\u00af \\u00aa \\u00ac \\u00b5 \\u00d6\\u00b1 D \\u00b6 H\\u00aa \\u00b2\\u00b1 \\u00bd\\u00dc \\u00a2 H\\u00b1 \\u2022 I # \\u00a6\\u00fa \\u00c0\\u00fb ! qAE 0\\u00de \\u00a6\\u00df \\u00df \\u00de \\u00e2 %$ \\u00c0 \\u00be \\u00ae \\u00ae 5 \\u00ae \\u00a5 \\u00d1 H \\u00aa AE \\u00de \\u00a6\\u00df \\u00df x\\u00e0 \\u00e1 H\\u00c2 \\u00a2 \\u00a8\\u00bc \\u2022 )\\u00a9 \\u00a4 \\u00ba H g H\\u00aa \\u00b0g\\u00b1 \\u00ae\\u00b02\\u00b1 # H\\u00aa \\u00b2\\u00b1 G\\u00aa \\u00b0\\u00a4 \\u00bc \\u00a4 \\u00a6\\u00a5 AE W \\u00a6 D\\u00a9 \\u00ce g\\u00c3 \\u00ae \\u00b6 \\u00ab2 \\u00b5 m\\u00b1 C G\\u00cd 9\\u00bf \\u00a9 \\u00a4 j 9\\u00a9 \\u00c7\\u00a4 H \\u00ae \\u00b6 C g\\u00f5 2 \\u00a6g j \\u00b1 \\u00a4 \\u00a62 \\u00a6g \\u00a4 9\\u00a9 \\u00d8 H\\u00b1 \\u00ae !\\u2022 \\u00b1 9\\u00a5 \\u00ce\\u00a4 \\u00a4 \\u00d7\\u00b1 \\u00b5 0 9\\u00a9 \\u00cd 9\\u00bf \\u00a6\\u00c2 '& \\u00b1 \\u00ab\\u00a4 \\u00a3( #\\u00bc \\u00ae H2\\u00ba AE \\u00aa \\u00b2 \\u00aa \\u00b0\\u00a4 \\u00d7\\u00a5 r\\u00aa !) \\u00a6\\u00bc 2 \\u00b1 \\u00ce\\u00b1 \\u00ae\\u00bf H \\u00aa \\u00ac 9\\u00a9 \\u00c7 H \\u00a6\\u00ab H \\u00a6\\u00a4 H H\\u00aa \\u00b2\\u00cd ` g\\u00c3 \\u00ae \\u00b6 \\u00ab2 \\u00a6\\u00a4 \\u00ae \\u00ab\\u00a5 \\u00b1 \\u00a5 \\u00a6\\u00a4 Hg D\\u00aa \\u00b0\\u00bf \\u00a4 \\u00a4 H \\u00a6\\u00a4 \\u2022 )\\u00a9 \\u00aa \\u00b0\\u1e97\\u00a9 \\u00b3\\u00a9 \\u00cd Y\\u00a5 \\u00b1 \\u00b6 \\u00aa \\u00ac \\u00a4 \\u00a4\\u00b1 \\u00b5 \\u00a5 \\u00ab\\u00aa \\u00f6\\u00f5 2 H \\u00a4 H\\u00aa \\u00b2\\u00e3 \\u00c2 \\u00d1 \\u00b4 \\u00a5 \\u00ab\\u00a5 \\u00ab\\u00aa \\u00b2 H\\u00aa \\u00b2\\u00b1 2AE !\\u2022 )\\u00a9 S\\u00b1 2\\u00ba \\u00b4\\u00a4 \\u00b6 \\u00ae \\u00ae H\\u00aa \\u00b0g\\u00b1 \\u00a4 9 \\u00aa \\u00ac \\u00bf \\u00ba Y 9\\u00a9 \\u00a6\\u00a4 H \\u00ae\\u00bc D\\u00bc \\u00a4 \\u00aa \\u00b0\\u00a4 j\\u00bc \\u00ab\\u00a4 \\u00a6\\u00a5 \\u00a6AE \\u00aa \\u00b2 j\\u00aa \\u00b0\\u00a4 \\u00a5 r\\u00aa !) \\u00a6\\u00bc 2 \\u00b1 Y\\u00b1 \\u00ae\\u00bf H \\u00aa \\u00ac \\u00be \\u00b1 #\\u00b1 #\\u00a5 G 9 \\u00ae \\u00a4 H\\u00b0 \\u00a6\\u00a5 \\u2022 \\u00b1 9\\u00a5 \\u00ab\\u00a4 I\\u00bf \\u00a6 \\u00ae\\u00bc \\u00a4 \\u00b1 \\u00b5 9\\u00a9 \\u00a4\\u00aa \\u00ac \\u00a4 9\\u00bc 0) C\\u00a1 \\u00aa \\u00b2 9\\u00a9 \\u00a6\\u00a4 H \\u00ae\\u00bc D\\u00bc \\u00a4 H\\u00b1 \\u00ae\\u00bf r2 \\u00b6 \\u00c7\\u00c2 \\u00db \\u00a4 9 \\u00a6\\u00a4 9\\u00bc 2 AE \\u2022 \\u00bc \\u00a4 H \\u00a9 \\u00ba #\\u00bf D\\u00aa \\u00b0\\u00a5 \\u00d7 \\u00b6 C 9\\u00a9 \\u00b1 #\\u00a5 \\u00b1 \\u00b5 B\\u00bf \\u00b1 9\\u00a9 g\\u00c3 g g\\u00c3 \\u00ae \\u00b6 \\u00ab2 I \\u00b6 HD\\u00a9 #\\u00a1 \\u00aa \\u00ac \\u00be Y \\u00a6D\\u00a9 \\u00ab \\u00ab\\u00aa ( #\\u00bc \\u2022 \\u00aa \\u00b2 9\\u00a9 \\u00a4 \\u00ba \\u00ae H g H\\u00aa \\u00b0\\u00d8g\\u00b1 \\u00ae\\u00b02\\u00b1 H\\u00aa \\u00b2\\u00b1 \\u00b3 \\u00ae \\u00a5 \\u00a4 \\u00b6 \\u00ae \\u00ae H\\u00aa \\u00b0g\\u00b1 \\u00ab\\u00a4 9 \\u00aa \\u00ac \\u00bf \\u00ba \\u00d8 9\\u00a9 \\u00a6\\u00a4 9 \\u00ae\\u00bc D\\u00bc \\u00a4 \\u00c2 \\u00c9 \\u00ca )\\u00bc \\u00ab\\u00a4 \\u00a8\\u0157\\u00a9 9 \\u00a4 g\\u00a1 \\u00a32 \\u00be 9\\u00a9 C\\u00ab D \\u00a4 \\u00b1 \\u00a4 \\u00b1 \\u00ae2\\u00cd \\u00ab \\u00c1\\u00a1 D !\\u00a4 H\\u00ab 9\\u00a4 \\u00a6\\u00a4 H\\u00a4 B 9\\u00b1 \\u00ae\\u00bf \\u00ab2 \\u00b6 \\u00c4 \\u00ae \\u00a5 H\\u00b1 \\u00ae\\u00b1 \\u00ae\\u00a4 g\\u2022 c\\u00b1 I2 \\u00cd \\u00a6\\u00a4 \\u00a62 \\u00a6g H\\u00aa \\u00b2\\u00b1 U \\u00b6 9\\u00a9 \\u00b1 \\u00a5 \\u00b1 \\u00b5 B D \\u00ae \\u00a4 H\\u00b0 H\\u00aa \\u00b2\\u00b1 \\u00d8\\u00ab D \\u00d7 \\u00b1 \\u00a4 H g\\u00a1 \\u00a5 r\\u00bc g \\u00d2 9\\u00a9 ! \\u00ae \\u00b6 j\\u00bf \\u00ab\\u00aa \\u00b2\\u00be \\u00bc \\u00aa \\u00b2 H\\u00aa \\u00b2 \\u00a6\\u00a4 0\\u00b1 \\u00b5 \\u00ab D G \\u00b6 H\\u1e97\\u00a9 \\u00aa \\u00ac \\u00be \\u00c2 1 2 43 #5 \\u00a3y 76 By 85 2 w \\u00a6r 5 \\u00fcw e \\u00fc r @9 \\u00a4w y r y 85 \\u00a3y r e \\u00fc Br BA (y W \\u00c9 \\u00ca \\u00bd\\u00bc \\u00ab\\u00a4 \\u00b3\\u00b1 2\\u00ba \\u00ec \\u00b6 C\\u00b1 \\u00b1 \\u00a1 \\u00a3\\u00b0\\u00aa \\u00ac \\u00be \\u00bc 9 \\u00a6\\u00a4 \\u00b1 \\u00bc 9g \\u00a6\\u00a4 \\u00b1 \\u00c5 H g\\u00a1 \\u00a5 r\\u00bc g ) 9 \\u00ae \\u00a4 H\\u00b0 H\\u00aa \\u00b2\\u00b1 \\u00d8 \\u00ae \\u00b6 j\\u00bf \\u00ab\\u00aa \\u00b2\\u00be \\u00bc \\u00ab\\u00aa \\u00b2 H\\u00aa \\u00b2 \\u00a6\\u00a4 \\u00c2 W\\u00d1 g \\u00aa \\u00b0\\u00a4 \\u00ac \\u00b6 C\\u00b1 \\u00ae\\u00a4 \\u00aa \\u00ac \\u00b6 \\u00a4\\u00a1 \\u00b1 \\u00ae\\u00a4 H\\u00a4 H\\u00aa \\u00b0\\u00bf \\u00ab2 \\u00b1 \\u00b4\\u00aa \\u00ac g\\u00b1 9\\u00b1 9 5\\u00a4 \\u00b6 \\u00ae H\\u00aa \\u00b0\\u00e8 \\u00b1 \\u2022 2 \\u00a6\\u00a5 \\u00be \\u00b1 \\u00b5 \\u00a4 \\u00a3\\u2022 \\u00b1 \\u00a2\\u00b0 \\u00ae \\u00be \\u00bc \\u00ab \\u00be \\u00a6\\u00a4 \\u00c2 \\u00e4 \\u00a9 \\u00b6 j\\u00bc 9\\u00bc \\u00d2\\u00aa \\u00ac \\u00b5 \\u00d6\\u00b1 D \\u00b6 H\\u00aa \\u00b2\\u00b1 \\u00bf \\u00a3\\u2022 S \\u00a3\\u2022 \\u00b1 \\u00b3\\u00a5 \\u00ab\\u00aa \\u00f6\\u00f5 2 H U\\u00b0 \\u00ae \\u00be \\u00bc \\u00be \\u00a6\\u00a4 ` \\u00ae S\\u00bf \\u00ca\\u00a5 g\\u00a1 \\u00a4 Hg 9\\u00aa \\u00b0\\u00bf \\u00a6\\u00a5 \\u00d4 \\u00b1 \\u00ca\\u00bf \\u00ba \\u00c5\\u00b1 g\\u00a1 \\u00fc \\u00b1 \\u00a1 \\u00fc\\u00b1 \\u00bd \\u00b6 \\u00ab\\u00ab\\u00aa \\u00ac \\u00be \\u00a2\\u00bf r\\u00bc \\u00bf \\u00ba g\\u00b1 \\u00ae 9\\u00a4 g\\u00a1 g \\u00b6 \\u00ab\\u00ab\\u00aa \\u00ac \\u00be \\u00dc \\u00ac \\u00b6 C \\u00fa \\u00fb \\u00a9 \\u00acAE \\u00de \\u00a6\\u00df \\u00df \\u00df \\u00e1 H\\u00c2 X\\u00f8 \\u00b1 X g\\u00c3 #\\u00a1 \\u00ae \\u00b6 \\u01572 AE \\u00d2\\u00dd \\u00d2\\u00b1 H \\u00a6 \\u00ae \\u00a4\\u00cd D\\u00bf \\u0157\\u00a9 9 \\u00a4 H \\u0157 D \\u00f9 ED I GF H!\\u00a2 I\\u00a4 P\\u00a4 Q\\u00a2 \\u00fd \\u00fe \\u00ae\\u00fb \\u00ff \\u00ae \\u00cc\\u00bf \\u00c4 9 \\u00ae \\u00a4 9\\u00b0 \\u00a6\\u00a5 \\u00cc\\u00aa \\u00ac \\u00b1 \\u00cc\\u00f9 \\u2022 c \\u00a6 RD I 0\\u00ff \\u00b0AE \\u00f9 \\u2022 0 9\\u00aa \\u00b2 SD I 0\\u00ff \\u00b0AE \\u00f9 g\\u00b1 \\u00b6 \\u00b1 \\u00ae\\u00a4 TD ) \\u00ff \\u00b0AE \\u00f9 \\u00bc \\u00a4 SD I 0\\u00ff \\u00b0AE \\u00b1 \\u00a8\\u00f9 \\u00a4 H \\u00a5 D I 0\\u00ff \\u00b0\\u00c2 \\u00d1 g\\u00b5 UD ) \\u00eb\\u00a9 \\u00ab \\u00a4 C \\u00b6 \\u00a6 \\u00ae \\u00aa \\u00ac \\u00be V \\u00a9 \\u00a6 \\u00a5 \\u00a1 \\u00fc\\u00be \\u00a6 XW \\u00fcAE c 9\\u00a9 9\\u00a9 I\\u00dd \\u00d2\\u00b1 H \\u00a6 \\u00ae \\u00d7\\u00cd 9\\u00bf \\u0157\\u00a9 9 \\u00a4 )\\u00ab D \\u00ae \\u00bf ) 9 \\u00ae \\u00a4 \\u00c1\\u00a1 \\u00b0 \\u00a6\\u00a5 \\u00bd\\u00aa \\u00ac \\u00ae \\u00b1 \\u00d5\\u00f9 \\u2022 c \\u00a6 \\\"D ) \\u00ff \\u00b1 U\\u00f9 \\u00bc \\u00b1 YD I 0\\u00ff \\u00b0\\u00c2 X\\u00d1 g\\u00b5 \\u00c0 9\\u00a9 \\u00a9 \\u00a6 \\u00a5 \\u2022 \\u00b1 9\\u00a5 i\\u00b1 \\u00b5 `D I \\u00ea\\u00aa \\u00b0\\u00a4 \\u00f9 m\\u00fe \\u00a5a b r\\u00dc v \\u00b6 C\\u00b1 \\u00ba r\\u00e1 H\\u00ff \\u00b0AE \\u00a4 9\\u00a9 i 9\\u00a9 \\u00cd 9\\u00bf U\\u00a9 9 \\u00a4 \\u00d2\\u00ab D \\u00ab\\u00a4 0 H !\\u1e97\\u00a9 \\u00ae \\u00be \\u00a6\\u00a5 `\\u00aa \\u00ac \\u00b1 \\u00c7\\u00f9 \\u00a4 H \\u00a5 \\u00b6 C\\u00b1 \\u00ba \\u00ff \\u00b0\\u00c2 W\\u00d1 \\u00d7 9\\u00a9 \\u00aa \\u00b0\\u00a4 \\u2022 \\u00ba AE \\u00a6\\u00f9 ED ) cF H!\\u00a2 d\\u00eb\\u00a4 f\\u00a4 g\\u00a2 \\u00fd \\u00c1\\u00fe \\u00ae\\u00fb \\u00ff \\u00ab\\u00a9 \\u00a4 \\u00d3 \\u00ab\\u00cd 9 \\u00ae \\u00a4 9\\u00b0 H\\u00aa \\u00b2\\u00b1 \\u00a2\\u0157 D \\u00b3 \\u00be \\u00b1 9\\u00aa \\u00b2 \\u00a6\\u00a4 \\u00a6\\u00c2 i\\u00d1 H \\u00e8 \\u00a6\\u00a4 \\u00a3\\u2022 \\u00b1 \\u00a4 \\u00a6\\u00ab\\u00a4 \\u00b1 \\u00d2\\u00a4 \\u00a62 \\u00a6g 9\\u00a9 \\u00a8 \\u00b6 C\\u00b1 \\u00ae\\u00a4 9\\u00bc 9 \\u012a c \\u00be \\u00ae\\u00b0\\u00aa \\u00b0\\u00a4 9\\u00a9 9 \\u00ae \\u00a4 \\u00c1\\u00a1 \\u00b0 H\\u00aa \\u00b2\\u00b1 5\\u00ab D \\u00a4 \\u00a4 `g\\u00b1 H 9 \\u00a6\\u00a4 H\\u00b1 \\u00a5 \\u00ab\\u00aa \\u00ac \\u00be `\\u0157 D \\u00b1 \\u00b5 \\u00dd \\u00d2\\u00b1 9 \\u00a6 \\u00ae \\u00c7\\u00ab D eh \\u00de x\\u00e1 2 \\u00b1 I\\u00a4 H \\u00a62 \\u00a6g \\u00b1 \\u00ae\\u00a4 H\\u00a4 9\\u00aa \\u00b0\\u00bf \\u00ab2 c D \\u00ae \\u00a4 H\\u00b0 H\\u00aa \\u00b2\\u00b1 j\\u00ab D j \\u00c1\\u00a1 \\u00be \\u00b1 9\\u00aa \\u00b2 \\u00a6\\u00a4 AE i \\u00e1 \\u00b1 \\u00a4 \\u00a62 \\u00a6g 9\\u00a9 ! \\u00b6 C\\u00b1 \\u00ae\\u00a4 0 9\\u00bc 9 \\u0113 c \\u00be \\u00ae\\u00b0\\u00aa \\u00b0\\u00a4 9\\u00a9 D \\u00ae \\u00a4 H\\u00b0 x\\u00a1 H\\u00aa \\u00b2\\u00b1 \\u0157 D \\u00ca \\u00ae \\u00b6 C\\u00b1 \\u00be U\\u00b1 \\u00ae\\u00a4 9\\u00a4 H\\u00aa \\u00b0\\u00bf \\u00ab2 \\u00a4 9 \\u00ae \\u00a4 H\\u00b0 H\\u00aa \\u00b2\\u00b1 \\u00ab \\u00c1\\u00a1 D \\u00c7 \\u00be \\u00b1 D\\u00aa \\u00b2 \\u00a6\\u00a4 \\u00c2 \\u00a9 \\u00d3 r 9\\u00a4 \\u00ec\\u00a4 \\u00a6\\u00b8\\u00aa \\u00b0\\u00a4 \\u00eb 9\\u00b5 m\\u00b1 D \\u00b6 \\u00a6\\u00a5 Q\\u00aa \\u00ac \\u00ab D \\u00b6 H\\u1e97\\u00a9 \\u00aa \\u00ac \\u00be AE ` \\u00ae \\u00ab\\u00a5 \\u00ed 9\\u00a9 \\u00c4\\u00a4 \\u00a6g\\u00b1 \\u00a5 (\\u00a4 \\u00a6F\\u00aa \\u00ac \\u00ed\\u00ab D 9 \\u00ae \\u00a4 H\\u00b5 m \\u00a6\\u00c2\"],[\"\"],[\"A Unified Statistical Model for the Identification of English BaseNP\"],[\"Headline Generation Based on Statistical Translation\"],[\"\"],[\"\"],[\"An Information-Theory-Based Feature Type Analysis for the Modelling of Statistical Parsing\"],[\"\"],[\"\"],[\"S UT V XW QV `Y a Eb $c da EW Qe \\u00a6a Ef `g \\u00a6T ih qp sr t vu xw dh yW a E g yw p s R d e fp g eh ji k ml on $p p sg rq ts ur v w yx {z g ri Ep s| p p sg eq \\u00a6} \\u00a6 n s s \\u00a6 f Q ) y \\u00a6 s o E i ) s m Db mT ia E\\u00a1 s \\u00a2 \\u00a3 \\u00a4 \\u00a4 i\\u00a5 7\\u00a6 \\u00a8 \\u00a7 \\u00a9 \\u00ab\\u00aa )\\u00a3 \\u00ac t \\u00ac \\u00ae\\u00a5 \\u00af\\u00aa \\u00b0\\u00b1\\u00ac \\u00b2 o\\u00ac \\u00ae\\u00b3 \\u00a8\\u00ac \\u00aa \\u00af\\u00a4 \\u00b57\\u00ac \\u00ae \\u00b6 m\\u00b0\\u00a6 \\u00b1\\u2022 j\\u00ac \\u00b6 d\\u00b3 \\u00a8\\u00ac \\u00ae \\u00b6 m \\u00a7 y\\u00a6 \\u00a8 \\u00a7 \\u00a9 d\\u00a6 \\u00a8 \\u00a7 \\u00a7 \\u00b6 f\\u00aa )7 \\u00b6 m\\u00b0&\\u00b0 \\u00b6 m \\u00a7 \\u00a9 iy \\u00b6 f\\u00a9 m\\u00ac \\u00a8\\u00a9 m\\u00ac \\u00ae \\u00a7 o\\u00b9 \\u00ac j\\u0155 \\u00b6 f\\u00aa )\\u00a6 \\u00b1\\u00a4 i \\u00a7 \\u00ba\\u00a6 \\u00a8\\u00a5 F \\u00b6 \\u00bb\\u00a3 \\u00b6 f7\\u00bc \\u00aa ) \\u00b6 m\\u00a5 \\u00af\\u00bd \\u00be \\u00c0\\u00bf \\u00c1\\u00ac \\u00c2\\u00a6 \\u00a8 \\u00a7 \\u00c3 m\\u00ac \\u00ae\\u00a5 \\u00c4\\u00b9 \\u00aa )\\u00a6 \\u00a8\\u00a9 i \\u00b6 f\\u00aa \\u00af\\u00ac \\u00c5\\u00bc \\u00a6 \\u00c7AE \\u00ac j)\\u00ac \\u00ae \\u00a7 \\u00aa \\u00aa \\u00af)\\u00ac j\\u00ac \\u00b9 ` \\u00b6 m\\u00a5 \\u00af\\u00ac \\u00ae\\u00bc \\u00c8\\u00a5 \\u00af\\u00aa \\u00af\\u00a4 o\\u00c9 7\\u00a3 \\u00b6 m\\u00a5 \\u00af\\u00b9 \\u00aa )\\u00a6 \\u00ca\\u00c9 \\u00c2\\u00b3 \\u00a4 s\\u00bc \\u00ac \\u00ae\\u00b0\\u00ca\\u00a5 F\\u00cb {\\u00a4 m3\\u00b0\\u00b1\\u00ac \\u00b2 \\u00a6 \\u00a8\\u00c9 j \\u00b6 m\\u00b0\\u00c9 7\\u00a3 \\u00a4 i\\u00a6 \\u00a8\\u00c9 \\u00ac m\\u00be \\u00cd\\u00cc D\\u00ac \\u00b9 \\u00c9 j \\u00b6 my\\u00a5 \\u00af\\u00ac \\u00a4 m\\u00cb t\\u00aa )\\u00a3 \\u00ac \\u00c1\\u00bc \\u00a6 \\u00b1\\u00ce \\u00cf\\u00c9 j\\u00b0\\u00b1\\u00aa \\u00d1\\u00d0 \\u00a4 m\\u00cb t\\u00a4 m \\u00aa ) \\u00b6 m\\u00a6 \\u00ca \\u00a7 \\u00a6 \\u00a8 \\u00a7 \\u00a9 \\u00b6 \\u00a5 \\u00af\\u00ac \\u00ae \\u00a7 \\u00a5 )\\u00ac \\u00b9 `\\u00aa ) \\u00b6 f\\u00a9 m\\u00a9 m\\u00ac \\u00ae\\u00bc x\\u00c9 \\u00a4 m)\\u00d2 y\\u00a5 j\\u00d3 \\u00d4 y\\u00ac R\\u00a9 m\\u00ac \\u00ae \\u00a7 \\u00ac j7 \\u00b6 m\\u00b0\\u00ca\\u00a6 \\u00b1\\u2022 j\\u00ac \\u00aa )\\u00a3 \\u00ac \\u00d5 \\u00a7 \\u00a4 m\\u00aa )\\u00a6 \\u00b1\\u00a4 i \\u00a7 \\u00bb\\u00a4 m\\u00cb \\u00d6\\u00a5 \\u00af\\u00d0 s \\u00a7 \\u00a4 i \\u00a7 \\u00d0 o\\u00b3 \\u00d0 m\\u00be \\u00d7\\u00bf \\u00c1\\u00ac \\u00d8\\u00a5 )\\u00a3 \\u00a4 d\\u00d4 \\u00aa )\\u00a3 y \\u00b6 f\\u00aa 2 \\u00b6 \\u00a8\\u00aa \\u00af)\\u00ac j\\u00ac \\u00b9 ` y \\u00b6 m\\u00a5 \\u00af\\u00ac \\u00ae\\u00bc F\\u00b3 \\u00a8\\u00a4 s\\u00bc \\u00ac \\u00ae\\u00b0E\\u00c9 j \\u00b6 m \\u00a7 $ \\u00b6 m\\u00c9 7\\u00a3 \\u00a6 \\u00a8\\u00ac j\\u00c3 m\\u00ac \\u00b6 F\\u00d4 y\\u00a4 m\\u0155\\u00bc o\\u00b9 ` y \\u00b6 f\\u00a9 $ y \\u00b6 m\\u00a5 )\\u00ac \\u00ae\\u00bc \\u00d9 \\u00b6 m\\u00c9 j\\u00c9 j7 \\u00b6 m\\u00c9 \\u00d0 \\u00d9\\u00a4 m\\u00cb \\u00da f\\u00db \\u00dc d\\u00d3 7\\u00ac j\\u00d2 )\\u00ac \\u00ae\\u00a5 \\u00af\\u00ac \\u00ae \\u00a7 \\u00aa )\\u00a6 \\u00a8 \\u00a7 \\u00a9 \\u00c8 \\u00b6 m \\u00a7 \\u00dd\\u00a6 \\u00a8\\u00b3 \\u00a8\\u00d2 )\\u00a4 d\\u00c3 m\\u00ac \\u00ae\\u00b3 \\u00a8\\u00ac \\u00ae \\u00a7 \\u00aa \\u00bb\\u00a4 \\u00c3 m\\u00ac j\\u00e1 )\\u00a3 \\u00ac \\u00d6 y \\u00b6 m\\u00a5 \\u00af\\u00ac \\u00ae\\u00b0\\u00a6 \\u00a8 \\u00a7 \\u00ac m\\u00be \\u00de \\u00df W mT ig 0\\u00e0 Q\\u00e1 Q\\u00a1 s iV Xg W 2\\u00e2 \\u00e3 \\u00a4h \\u00e4 !V X\\u00a1 oa Ef \\u00d6\\u00e5 dae !g V \\u00d1\\u00a1 oh \\u00e7 s\\u00ac \\u00ae \\u00a7 \\u00aa \\u00af\\u00ac \\u00ae \\u00a7 \\u00c9 \\u00ac \\u00d6\\u00d2 y\\u00b0 \\u00b6 m \\u00a7 y \\u00a7 \\u00a6 \\u00a8 \\u00a7 \\u00a9 \\u00a6 \\u00a8 \\u00a7 d \\u00a7 \\u00b6 f\\u00aa )7 \\u00b6 m\\u00b0E\\u00b0 \\u00b6 m \\u00a7 \\u00a9 i \\u00b6 f\\u00a9 m\\u00ac \\u00a9 m\\u00ac \\u00ae \\u00a7 \\u00ac j\\u00b4\\u00b9 \\u00b6 f\\u00aa )\\u00a6 \\u00b1\\u00a4 i \\u00a7 \\u00c2\\u00e8 \\u00ea\\u00e9 6\\u00eb &\\u00ec \\u00ed 2\\u00c9 j \\u00b6 m \\u00a7 \\u00d5 \\u00ac \\u00c9 7\\u00a3 y \\u00b6 f7 \\u00b6 m\\u00c9 \\u00aa \\u00af\\u00ac j7\\u00a6 \\u00b1\\u2022 j\\u00ac \\u00ae\\u00bc \\u00d8 \\u00b6 m\\u00a5 \\u00a4\\u00aa )\\u00a3 \\u00ac t\\u00c9 \\u00a4 i\\u00b0\\u00c7\\u00b9 \\u00b0\\u00b1\\u00ac \\u00ae\\u00c9 \\u00aa )\\u00a6 \\u00b1\\u00a4 i \\u00a7 \\u00ee\\u00a4 m\\u00cb 2\\u00aa ) \\u00b6 m\\u00a5 \\u00af\\u00bd o\\u00a5 )\\u00ac \\u00ae\\u00b0 \\u00b6 f\\u00aa \\u00af\\u00ac \\u00ae\\u00bc \\u00ee\\u00aa \\u00af\\u00a4 \\u00aa )\\u00a3 \\u00ac \\u00cf\\u00c9 r\\u00a3 \\u00a4 i\\u00a6 \\u00a8\\u00c9 \\u00ac d\\u00a4 m\\u00cb t\\u00e8 \\u00ea \\u00b6 f \\u00b9 \\u00a5 \\u00af\\u00aa \\u00af7 \\u00b6 m\\u00c9 \\u00aa r\\u00ed Q\\u00b0\\u00a6 \\u00a8 \\u00a7 \\u00a9 i\\u00a6 \\u00a8\\u00a5 \\u00af\\u00aa )\\u00a6 \\u00a8\\u00c9 y)\\u00ac \\u00ae\\u00a5 \\u00af\\u00a4 i7\\u00c9 \\u00ac \\u00ae\\u00a5 y\\u00a6 \\u00ca \\u00a7 \\u00a8\\u00a4 m7\\u00bc \\u00ac j\\u00fd\\u00aa \\u00af\\u00a4 \\u00b6 m\\u00c9 r\\u00a3 \\u00a6 \\u00b1\\u00ac j\\u00c3 m\\u00ac \\u00ac \\u00ae\\u00b0\\u00b1\\u00ac \\u00ae\\u00b3 \\u00a8\\u00ac \\u00ae \\u00a7 \\u00aa ) \\u00b6 f)\\u00d0 \\u00c9 \\u00a4 i\\u00b3 \\u00b3 ty \\u00a7 \\u00a6 \\u00a8\\u00c9 j \\u00b6 f\\u00aa )\\u00a6 \\u00b1\\u00c3 m\\u00ac D\\u00a9 m\\u00a4 i \\u00b6 m\\u00b0\\u00a5 j\\u00be 0\\u00ef 2\\u00a3 \\u00ac \\u00ae\\u00a5 )\\u00ac y\\u00aa ) \\u00b6 m\\u00a5 \\u00af\\u00bd o\\u00a5 \\u00a6 \\u00a8 \\u00a7 \\u00c9 j\\u00b0\\u00ca\\u00bc \\u00ac \\u00b0\\u00b1\\u00ac \\u00b2 \\u00a6 \\u00a8\\u00c9 j \\u00b6 m\\u00b0D \\u00b6 m \\u00a7 \\u00bc \\u00d9\\u00a5 \\u00af\\u00d0 o \\u00a7 \\u00aa ) \\u00b6 m\\u00c9 \\u00aa )\\u00a6 \\u00a8\\u00c9 d\\u00c9 7\\u00a3 \\u00a4 i\\u00a6 \\u00a8\\u00c9 \\u00ac m\\u00be \\u00eb \\u00a6\\u00ac \\u00b2 \\u00a6 \\u00a8\\u00c9 j \\u00b6 m\\u00b0\\u00c9 7\\u00a3 \\u00a4 i\\u00a6 \\u00a8\\u00c9 \\u00ac \\u00d5\\u00a6 \\u00a8\\u00a5 \\u00aa )\\u00a3 \\u00ac \\u00d5\\u00c9 r\\u00a3 \\u00a4 i\\u00a6 \\u00a8\\u00c9 \\u00ac F\\u00a4 m\\u00cb \\u00b3 \\u00ac \\u00ae \\u00b6 m \\u00a7 \\u00a6 \\u00a8 \\u00a7 \\u00a9 f\\u00b9 ` \\u00ac \\u00ae \\u00b6 f7\\u00a6 \\u00a8 \\u00a7 \\u00a9 \\u00b0\\u00ac \\u00b2 \\u00b9 \\u00ac \\u00ae\\u00b3 \\u00a8\\u00ac \\u00ae\\u00a5 j\\u00be \\u00e8 \\u00ea\\u00f0 \\u00a7 y\\u00c9 \\u00aa )\\u00a6 \\u00b1\\u00a4 i \\u00a7 \\u00c2\\u00d4 y\\u00a4 m7\\u00bc y\\u00a5 t\\u00ac \\u00b2 o\\u00d2 )\\u00ac \\u00ae\\u00a5 7\\u00a5 \\u00a9 m7 \\u00b6 m\\u00b3 \\u00ab\\u00b3 \\u00b6 f\\u00aa )\\u00a6 \\u00a8\\u00c9 j \\u00b6 m\\u00b0\\u00b3 \\u00a8\\u00ac \\u00ae \\u00b6 m \\u00a7 \\u00a6 \\u00ca \\u00a7 \\u00a9 \\u00a5 )\\u00c9 r\\u00a3 \\u00ab \\u00b6 m\\u00a5 Q\\u00aa \\u00af\\u00ac \\u00ae \\u00a7 \\u00a5 \\u00af\\u00ac 6 \\u00b6 m \\u00a7 y\\u00bc \\u00ab \\u00b6 m\\u00a5 \\u00af\\u00d2 \\u00ac \\u00ae\\u00c9 \\u00aa !\\u00cb {\\u00ac \\u00ae \\u00b6 f\\u00aa ))\\u00ac \\u00ae\\u00a5 j\\u00d3 s\\u00a4 m \\u00b6 f)\\u00ac 3\\u00ac \\u00ae \\u00a7 \\u00aa )\\u00a6 \\u00b1)\\u00ac \\u00ae\\u00b0\\u00d0 \\u00f1\\u00a9 m7 \\u00b6 m\\u00b3 \\u00ab\\u00b3 \\u00b6 f\\u00aa )\\u00a6 \\u00a8\\u00c9 j \\u00b6 m\\u00b0\\u00b0\\u00b1\\u00d0 5\\u00bc \\u00ac j\\u00aa \\u00af\\u00ac j7\\u00b3 \\u00ab\\u00a6 \\u00a8 \\u00a7 \\u00ac \\u00ae\\u00bc E\\u00d3 \\u00d6 \\u00b6 m \\u00a7 \\u00bc \\u00aa )\\u00a3 \\u00ac j)\\u00ac j\\u00cb {\\u00a4 m)\\u00ac x \\u00b6 f)\\u00ac x\\u00a5 )y \\u00b6 m\\u00b0\\u00b0\\u00b1\\u00d0 \\u00c1\\u00c9 7\\u00a3 \\u00a4 i\\u00a5 )\\u00ac \\u00ae \\u00a7 \\u00a7 \\u00a4 m\\u00aa \\u00a8\\u00bc 7\\u00a6 \\u00a8 \\u00a7 \\u00a9 F\\u00a5 \\u00af\\u00ac \\u00ae \\u00a7 o\\u00b9 \\u00aa \\u00af\\u00ac \\u00ae \\u00a7 \\u00c9 \\u00ac \\u00d2 \\u00b0 \\u00b6 m \\u00a7 \\u00a7 \\u00a6 \\u00a8 \\u00a7 \\u00a9 \\u00d3 y\\u00aa \\u00bc y7\\u00a6 \\u00a8 \\u00a7 \\u00a9 \\u00b5\\u00b0\\u00a6 \\u00a8 \\u00a7 \\u00a9 iy\\u00a6 \\u00a8\\u00a5 \\u00af\\u00aa )\\u00a6 \\u00a8\\u00c9 )\\u00ac \\u00ae \\u00b6 m\\u00b0\\u00a6 \\u00b1\\u2022 \\u00ae \\u00b6 u\\u00b9 \\u00aa )\\u00a6 \\u00b1\\u00a4 i \\u00a7 E\\u00be \\u00f2\\u00ed \\u00e7 s\\u00d0 o \\u00a7 \\u00aa ) \\u00b6 m\\u00c9 \\u00aa )\\u00a6 \\u00ca\\u00c9 $\\u00c9 7\\u00a3 \\u00a4 i\\u00a6 \\u00ca\\u00c9 \\u00ac $\\u00a6 \\u00a8\\u00a5 \\u00aa )\\u00a3 \\u00ac $\\u00c9 7\\u00a3 \\u00a4 i\\u00a6 \\u00a8\\u00c9 \\u00ac x\\u00a4 m\\u00cb R\\u00a3 \\u00a4 \\u00d4 \\u00b3 \\u00a8\\u00ac \\u00ae \\u00b6 m \\u00a7 \\u00a6 \\u00ca \\u00a7 \\u00a9 f\\u00b9 ` \\u00ac \\u00ae \\u00b6 f7\\u00a6 \\u00a8 \\u00a7 \\u00a9 \\u00b0\\u00b1\\u00ac \\u00b2 o\\u00ac \\u00ae\\u00b3 \\u00a8\\u00ac \\u00ae\\u00a5 R \\u00b6 f)\\u00ac \\u00c9 \\u00a4 i\\u00b3 y\\u00a6 \\u00ca \\u00a7 \\u00ac \\u00ae\\u00bc E\\u00be \\u00f3 \\u00f4\\u00aa 6\\u00a6 \\u00a8\\u00a5 \\u00c9 j\\u00b0\\u00b1\\u00ac \\u00ae \\u00b6 f\\u1e4d\\u00aa )\\u00a3 \\u00b6 f\\u00aa \\u00f5\\u00b0\\u00b1\\u00ac \\u00b2 \\u00a6 \\u00a8\\u00c9 j \\u00b6 m\\u00b0 \\u00b6 m \\u00a7 y\\u00bc \\u00cf\\u00a5 \\u00af\\u00d0 o \\u00a7 \\u00aa ) \\u00b6 m\\u00c9 \\u00aa )\\u00a6 \\u00a8\\u00c9 \\u00c9 7\\u00a3 \\u00a4 i\\u00a6 \\u00a8\\u00c9 \\u00ac \\u00d6 \\u00b6 f)\\u00ac \\u00a7 \\u00a4 m\\u00aa \\u00a6 \\u00a8 \\u00a7 \\u00bc \\u00ac j\\u00d2 \\u00ac \\u00ae \\u00a7 y\\u00bc \\u00ac \\u00ae \\u00a7 \\u00aa j\\u00be \\u00d8\\u00f0 \\u00a4 m\\u00b4\\u00ac \\u00b2 \\u00b6 m\\u00b3 \\u00a8\\u00d2 y\\u00b0\\u00b1\\u00ac m\\u00d3 !\\u00a6 \\u00b1\\u00cb \\u00d4 D\\u00ac x\\u00c9 7\\u00a3 \\u00a4 s\\u00a4 i\\u00a5 \\u00af\\u00ac d\\u00aa )\\u00a3 \\u00ac \\u00c3 m\\u00ac j) \\u00f6 m\\u00f7 {\\u00f8 f\\u00f9 j\\u00d3 \\u00d4 D\\u00ac \\u00b5\\u00c9 j \\u00b6 m \\u00a7 \\u00c2\\u00c9 7\\u00a3 \\u00a4 s\\u00a4 i\\u00a5 \\u00af\\u00ac \\u00cf \\u00ac j\\u00aa \\u00d1\\u00d4 y\\u00ac j\\u00ac \\u00ae \\u00a7 \\u00fa \\u00b6 \\u00d5 \\u00a7 \\u00a4 i\\u00b3 \\u00a6 \\u00a8 \\u00a7 \\u00b6 m\\u00b0\\u00a4 m\\u00d2 y)\\u00ac j\\u00d2 \\u00a4 i\\u00a5 )\\u00a6 \\u00b1\\u00aa )\\u00a6 \\u00b1\\u00a4 i \\u00a7 \\u00b6 m\\u00b0U)\\u00ac \\u00ae \\u00b6 m\\u00b0\\u00ca\\u00a6 \\u00b1\\u2022 \\u00ae \\u00b6 f\\u00aa )\\u00a6 \\u00b1\\u00a4 i \\u00a7 \\u00c1\\u00a4 m\\u00cb \\u00f5\\u00aa )\\u00a3 \\u00ac \\u00a9 m\\u00a4 i \\u00b6 m\\u00b0y \\u00b6 f)\\u00a9 io\\u00b9 \\u00b3 \\u00a8\\u00ac \\u00ae \\u00a7 \\u00aa \\u00fa\\u00e8 \\u00f4\\u00fb \\u00fc u\\u00fd \\u00fe \\u00ff\\u00f6 \\u00a1 f\\u00f8 m\\u00f9 \\u00a3\\u00a2 {\\u00fd o\\u00f9 \\u00fc \\u00a5\\u00a4 \\u00f6 \\u00a1 f\\u00fe y\\u00f7 \\u00a7\\u00a6 \\u00a8 \\u00a9\\u00a2 \\u00ea\\u00f7 \\u00ea\\u00fc m\\u00fe \\u00a9\\u00a4 F\\u00a4 m\\u00fb \\u00fc u\\u00fd \\u00fe $\\u00f6 \\u00a1 f\\u00f8 m\\u00f9 \\u00a5\\u00a4 \\u00a2 `\\u00fc \\u00a2 {\\u00fd \\u00f9 \\u00fc \\u00a5\\u00a4 \\u00ea\\u00f6 f\\u00fe \\u00f7 \\u00a6 \\u00a9\\u00a2 \\u00ea\\u00f7 \\u00fc f\\u00fe s\\u00ed r\\u00d3 \\u00d4 \\u00a4\\u00a3 y\\u00a6 \\u00a8\\u00b0\\u00b1\\u00ac \\u00a6 \\u00b1\\u00cb \\u00d4 D\\u00ac \\u00a4\\u00c9 7\\u00a3 \\u00a4 s\\u00a4 i\\u00a5 \\u00af\\u00ac ! i\\u00fc f\\u00fe \\\" \\u00a9\\u00a2 X\\u00f9 j\\u00d3 o\\u00a4 i \\u00a7 \\u00b0\\u00b1\\u00d0 \\u00aa )\\u00a3 \\u00ac 2\\u00d2 )\\u00ac j\\u00d2 \\u00a4 i\\u00a5 )\\u00a6 \\u00a8\\u00aa )\\u00a6 \\u00b1\\u00a4 i \\u00a7 \\u00b6 m\\u00b0s)\\u00ac \\u00ae \\u00b6 m\\u00b0\\u00c7\\u00b9 \\u00a6 \\u00b1\\u2022 \\u00ae \\u00b6 f\\u00aa )\\u00a6 \\u00b1\\u00a4 i \\u00a7 F\\u00a6 \\u00a8\\u00a5 \\u00f5\\u00d2 \\u00a4 i\\u00a5 )\\u00a5 )\\u00a6 \\u00b1 y\\u00b0\\u00ac m\\u00be \\u00f3 \\u00c4 \\u00a7 \\u00b3 \\u00b6 m \\u00a7 \\u00d0 B\\u00a5 \\u00af\\u00d0 o\\u00a5 \\u00af\\u00aa \\u00af\\u00ac \\u00ae\\u00b3 \\u00a5 j\\u00d3 \\u00d8\\u00b0\\u00b1\\u00ac \\u00b2 o\\u00a6 \\u00ca\\u00c9 j \\u00b6 m\\u00b0x\\u00c9 7\\u00a3 \\u00a4 i\\u00a6 \\u00a8\\u00c9 \\u00ac \\u00ff\\u00a6 \\u00a8\\u00a5 \\u00c5\\u00a3 \\u00b6 m \\u00a7 \\u00b9 \\u00bc \\u00b0\\u00ac \\u00ae\\u00bc \\u00ba\\u00a6 \\u00a8 \\u00a7 \\u00b6 \\u00f1\\u00bc \\u00a6 \\u00a8\\u00c9 \\u00aa )\\u00a6 \\u00b1\\u00a4 i \\u00a7 y \\u00b6 f)\\u00d0 \\u00d7\\u00b3 \\u00b6 f\\u00d2 \\u00d2 y\\u00a6 \\u00a8 \\u00a7 \\u00a9 \\u00cb )\\u00a4 i\\u00b3 \\u00bc \\u00a4 i\\u00b3 \\u00b6 m\\u00a6 \\u00a8 \\u00a7 \\u00c9 \\u00a4 i \\u00a7 \\u00c9 \\u00ac j\\u00d2 y\\u00aa )\\u00a5 \\u00c2\\u00e8 {\\u00a4 m\\u00ae\\u00d3 t\\u00a6 \\u00a8 \\u00a7 \\u00d7\\u00b3 \\u00b6 m\\u00c9 7\\u00a3 y\\u00a6 \\u00a8 \\u00a7 \\u00ac 3\\u00aa \\u00af7 \\u00b6 m \\u00a7 y\\u00a5 )\\u00b0 \\u00b6 f\\u00aa )\\u00a6 \\u00b1\\u00a4 i \\u00a7 \\u00e8 $# \\u00d8\\u00ef 6\\u00ed r\\u00d3 \\u00a5 \\u00af\\u00a4 i7\\u00c9 \\u00ac \\u00c8\\u00b0 \\u00b6 m \\u00a7 \\u00a9 i \\u00b6 f\\u00a9 m\\u00ac \\u00d4 D\\u00a4 m7\\u00bc \\u00a5 5\\u00aa \\u00af\\u00a4 B\\u00aa ) \\u00b6 f7\\u00a9 m\\u00ac j\\u00aa \\u00ba\\u00b0 \\u00b6 m \\u00a7 \\u00a9 i \\u00b6 f\\u00a9 m\\u00ac \\u00d4 D\\u00a4 m7\\u00bc \\u00a5 r\\u00ed r\\u00be &\\u00ef 2\\u00a3 \\u00ac \\u00ae\\u00a5 )\\u00ac Q\\u00bc \\u00a6 \\u00a8\\u00c9 \\u00aa )\\u00a6 \\u00b1\\u00a4 i \\u00a7 y \\u00b6 f7\\u00a6 \\u00b1\\u00ac \\u00ae\\u00a5 E \\u00b6 f)\\u00ac y\\u00aa X\\u00d0 s\\u00d2 y\\u00a6 \\u00a8\\u00c9 j \\u00b6 m\\u00b0\\u00b0\\u00b1\\u00d0 \\u00a3 \\u00b6 m \\u00a7 \\u00bc \\u00b9 \\u00c9 7 \\u00b6 f\\u00cb {\\u00aa \\u00af\\u00ac \\u00ae\\u00bc E\\u00be &% \\u00bf 5\\u00a3 \\u00a6 \\u00a8\\u00b0\\u00b1\\u00ac \\u00f1\\u00a5 )\\u00c9 7\\u00a3 P \\u00b6 m \\u00a7 P \\u00b6 f\\u00d2 y\\u00d2 )\\u00a4 i \\u00b6 m\\u00c9 7\\u00a3 \\u00a6 \\u00a8\\u00a5 \\u00d9\\u00d2 \\u00ac j)\\u00b9 \\u00cb {\\u00ac \\u00ae\\u00c9 \\u00aa )\\u00b0\\u00b1\\u00d0 \\u00a2)\\u00ac \\u00ae \\u00b6 m\\u00a5 \\u00af\\u00a4 i \\u00a7 \\u00b6 f y\\u00b0\\u00ac \\u00d8\\u00cb {\\u00a4 mF\\u00b3 \\u00b6 m \\u00a7 \\u00d0 \\u00f1 \\u00b6 f\\u00d2 y\\u00d2 y\\u00b0\\u00a6 \\u00a8\\u00c9 j \\u00b6 f\\u00aa )\\u00a6 \\u00b1\\u00a4 i \\u00a7 y\\u00a5 j\\u00d3 \\u00a4\\u00ac \\u00ae\\u00a5 \\u00c4\\u00b9 \\u00d2 \\u00ac \\u00ae\\u00c9 j\\u00a6 \\u00a8 \\u00b6 m\\u00b0\\u00b0\\u00d0 \\u00cf\\u00aa )\\u00a3 \\u00a4 i\\u00a5 )\\u00ac t\\u00a6 \\u00a8 \\u00a7 x\\u00d4 6\\u00a3 \\u00a6 \\u00a8\\u00c9 7\\u00a3 F\\u00b0\\u00a6 \\u00a8 \\u00a7 \\u00a9 i\\u00a6 \\u00ca\\u00a5 \\u00af\\u00aa )\\u00a6 \\u00a8\\u00c9 R\\u00c3 u \\u00b6 f\\u0155\\u00a6 \\u00a8 \\u00b6 f\\u00aa )\\u00a6 \\u00b1\\u00a4 i \\u00a7 F\\u00a6 \\u00ca \\u00a7 \\u00aa )\\u00a3 \\u00ac t\\u00aa ) \\u00b6 f)\\u00a9 m\\u00ac j\\u00aa R\\u00aa \\u00af\\u00ac \\u00b2 s\\u00aa )\\u00a5 R\\u00a6 \\u00a8\\u00a5 27\\u00ac \\u00ae\\u00a5 \\u00af\\u00aa \\u00af7\\u00a6 \\u00a8\\u00c9 \\u00aa \\u00af\\u00ac \\u00ae\\u00bc E\\u00d3 y\\u00aa )\\u00a3 \\u00ac j)\\u00ac t \\u00b6 f7\\u00ac t \\u00b6 f\\u00d2 \\u00d2 y\\u00b0\\u00ca\\u00a6 \\u00c7\\u00b9 \\u00c9 j \\u00b6 f\\u00aa )\\u00a6 \\u00b1\\u00a4 i \\u00a7 y\\u00a5 \\u00e8 \\u00ea\\u00a6 \\u00ca \\u00a7 \\u00c9 j\\u00b0\\u00bc \\u00a6 \\u00ca \\u00a7 \\u00a9 \\u00a8\\u00b3 \\u00b6 m \\u00a7 \\u00d0 '# \\u00d8\\u00ef \\u00b6 f\\u00d2 \\u00d2 y\\u00b0\\u00a6 \\u00ca\\u00c9 j \\u00b6 f\\u00aa )\\u00a6 \\u00b1\\u00a4 i \\u00a7 \\u00a5 r\\u00ed \\u00f5\\u00a6 \\u00ca \\u00a7 \\u00d4 \\u00a4\\u00a3 y\\u00a6 \\u00a8\\u00c9 7\\u00a3 \\u00d5\\u00aa )\\u00a3 \\u00ac 7 \\u00b6 m \\u00a7 \\u00a9 m\\u00ac \\u00a4 m\\u00cb y\\u00b0\\u00ca\\u00a6 \\u00a8 \\u00a7 \\u00a9 i\\u00a6 \\u00a8\\u00a5 )\\u00aa )\\u00a6 \\u00a8\\u00c9 \\u00d6\\u00c3 f \\u00b6 f7\\u00a6 \\u00a8 \\u00b6 f\\u00aa )\\u00a6 \\u00b1\\u00a4 i \\u00a7 \\u00d5\\u00a4 m\\u00cb Q\\u00aa )\\u00a3 \\u00ac \\u00aa \\u00af\\u00ac \\u00b2 o\\u00aa )\\u00a5 \\u00aa \\u00af\\u00a4 \\u00cf \\u00ac t\\u00a9 m\\u00ac \\u00ae \\u00a7 \\u00ac j7 \\u00b6 f\\u00aa \\u00af\\u00ac \\u00ae\\u00bc \\u00c1\\u00a6 \\u00a8\\u00a5 6\\u00cb { \\u00b6 f\\u0154\\u00aa \\u00af\\u00a4 s\\u00a4 \\u00b5\\u00c3 f \\u00b6 m\\u00a5 \\u00af\\u00aa R\\u00aa \\u00af\\u00a4 x \\u00b6 m\\u00b0\\u00b0\\u00b1\\u00a4 \\u00d4 \\u00cb {\\u00a4 mD\\u00a3 y \\u00b6 m \\u00a7 \\u00bc o\\u00b9 X\\u00c9 \\u00a4 o\\u00bc \\u00a6 \\u00a8 \\u00a7 \\u00a9 \\u00d6\\u00a4 m\\u00cb E\\u00bc \\u00a6 \\u00a8\\u00c9 \\u00aa )\\u00a6 \\u00a8\\u00a4 i \\u00a7 \\u00b6 f7\\u00a6 \\u00b1\\u00ac \\u00ae\\u00a5 j\\u00be &\\u00f0 7\\u00aa )\\u00a3 \\u00ac j7\\u00b3 \\u00a8\\u00a4 m)\\u00ac m\\u00d3 \\u00ac j\\u00c3 m\\u00ac \\u00ae \\u00a7 \\u00d8\\u00cb {\\u00a4 m6\\u00bc \\u00a4 i\\u00b3 \\u00b6 m\\u00a6 \\u00ca \\u00a7 \\u00a5 2\\u00d4 \\u00a4\\u00a6 \\u00a8\\u00aa )\\u00a3 F \\u00b6 \\u00ab\\u00b0\\u00ca\\u00a6 \\u00a8\\u00b3 \\u00a6 \\u00b1\\u00aa \\u00af\\u00ac \\u00ae\\u00bc x\\u0155 \\u00b6 m \\u00a7 \\u00a9 m\\u00ac \\u00a4 m\\u00cb !\\u00b0\\u00a6 \\u00ca \\u00a7 o\\u00b9 \\u00a9 i\\u00a6 \\u00ca\\u00a5 \\u00af\\u00aa )\\u00a6 \\u00a8\\u00c9 R\\u00c3 u \\u00b6 f\\u0155\\u00a6 \\u00a8 \\u00b6 f\\u00aa )\\u00a6 \\u00b1\\u00a4 i \\u00a7 E\\u00d3 o\\u00aa )\\u00a3 \\u00ac \\u00d6\\u00aa ) \\u00b6 m\\u00a5 \\u00af\\u00bd d\\u00a4 m\\u00cb &\\u00a3 \\u00b6 m \\u00a7 \\u00bc o\\u00b9 X\\u00c9 \\u00a4 o\\u00bc \\u00a6 \\u00a8 \\u00a7 \\u00a9 t\\u00aa )\\u00a3 \\u00ac \\u00a7 \\u00ac \\u00ae\\u00c9 \\u00ac \\u00ae\\u00a5 7\\u00a5 ) \\u00b6 f)\\u00d0 )\\u00ac \\u00ae\\u00a5 \\u00af\\u00a4 i\\u0155\\u00c9 \\u00ac \\u00ae\\u00a5 Q\\u00c9 j \\u00b6 m \\u00a7 \\u00ac \\u00cb {\\u00a4 m7\\u00b3 \\u00a6 \\u00a8\\u00bc y \\u00b6 f y\\u00b0\\u00b1\\u00ac \\u00f5\\u00d4 \\u00a4\\u00a3 \\u00ac \\u00ae \\u00a7 \\u00b6 \\u00a9 m\\u00ac \\u00ae \\u00a7 \\u00ac j\\u0155 \\u00b6 f\\u00aa )\\u00a6 \\u00b1\\u00a4 i \\u00a7 \\u00c5\\u00a5 \\u00af\\u00d0 o\\u00a5 \\u00af\\u00aa \\u00af\\u00ac \\u00ae\\u00b3 \\u00b3 \\u00a5 \\u00af\\u00aa \\u00ac \\u00b5\\u00d2 \\u00a4 m)\\u00aa \\u00af\\u00ac \\u00ae\\u00bc \\u00c2\\u00aa \\u00af\\u00a4 3 \\u00b6 \\u00c1 \\u00a7 \\u00ac j\\u00d4 \\u00bc \\u00a4 i\\u00b3 \\u00ab \\u00b6 m\\u00a6 \\u00a8 \\u00a7 E\\u00d3 \\u00b6 \\u00a7 \\u00ac j\\u00d4 \\u00a2\\u00a9 m\\u00ac \\u00ae \\u00a7 )\\u00ac m\\u00d3 s\\u00a4 m\\u1e4d\\u00ac \\u00ae\\u00a5 \\u00af\\u00d2 \\u00ac \\u00ae\\u00c9 j\\u00a6 \\u00a8 \\u00b6 m\\u00b0\\u00b0\\u00b1\\u00d0 \\u00b6 t \\u00a7 \\u00ac j\\u00d4 \\u00a2\\u00b0 \\u00b6 m \\u00a7 \\u00b9 \\u00a9 i \\u00b6 f\\u00a9 m\\u00ac m\\u00be \\u00f3 \\u00c4 \\u00a7 \\u00a5 \\u00af\\u00ac \\u00ae\\u00b3 \\u00ab\\u00a6 \\u00a8 \\u00a7 \\u00b6 m\\u00b0\\u00d4 D\\u00a4 m)\\u00bd \\u00d3 \\u00eb \\u00b6 m \\u00a7 \\u00a9 m\\u00bd s\\u00a6 \\u00ca\\u00b0\\u00bc \\u00ac \\u00d6 \\u00b6 m \\u00a7 \\u00bc '( \\u00a7 y\\u00a6 \\u00b1\\u00a9 i\\u00a3 \\u00aa \\u00e8 0) \\u00ae\\u00da m\\u00da \\u00a91 o\\u00ed \\u00a3 \\u00b6 \\u00c3 m\\u00ac \\u00a5 \\u00af\\u00ac \\u00ae\\u00bc \\u00b6 \\u00b0 \\u00b6 m \\u00a7 \\u00a9 i \\u00b6 f\\u00a9 m\\u00ac q\\u00b3 \\u00a8\\u00a4 s\\u00bc \\u00ac \\u00ae\\u00b0\\u00c5 \\u00b6 m\\u00a5 P \\u00b6 I\\u00d4 D \\u00b6 \\u00d0 \\u00a4 m\\u00cb \\u00d7\\u00c9 7\\u00a3 \\u00a4 s\\u00a4 i\\u00a5 )\\u00a6 \\u00a8 \\u00a7 \\u00a9 \\u00b6 m\\u00b3 \\u00a8\\u00a4 i \\u00a7 \\u00a9 \\u00bc \\u00a6 \\u00b1AE \\u00ac j)\\u00ac \\u00ae \\u00a7 \\u00aa y\\u00b0\\u00ac \\u00b2 o\\u00a6 \\u00a8\\u00c9 j \\u00b6 m\\u00b0 \\u00b6 m \\u00a7 \\u00bc \\u00ab\\u00a5 )\\u00d0 s \\u00a7 \\u00aa ) \\u00b6 m\\u00c9 \\u00aa )\\u00a6 \\u00a8\\u00c9 R\\u00a4 m\\u00d2 \\u00aa )\\u00a6 \\u00b1\\u00a4 i \\u00a7 \\u00a5 \\u00ae\\u00be \\u00f3 \\u00c4 \\u00a7 \\u00e8 \\u00ea\\u00cc \\u00f5 \\u00b6 m \\u00a7 \\u00a9 i \\u00b6 m\\u00b0\\u00a4 m)\\u00ac \\u00cd \\u00b6 m \\u00a7 y\\u00bc 2 6 \\u00b6 m\\u00b3 \\u00a4 \\u00d4 \\u00d3 43 f\\u00db m\\u00db m\\u00db \\u00ed r\\u00d3 \\u00d4 y\\u00ac \\u00d2 7\\u00ac \\u00ae\\u00a5 \\u00af\\u00ac \\u00ae \\u00a7 \\u00aa 3 \\u00b6 \\u00d7\\u00b3 \\u00a4 s\\u00bc \\u00ac \\u00ae\\u00b0\\u00a4 m\\u00cb d\\u00a5 \\u00af\\u00d0 o \\u00a7 \\u00aa ) \\u00b6 m\\u00c9 \\u00aa )\\u00a6 \\u00a8\\u00c9 \\u00bb\\u00c9 7\\u00a3 \\u00a4 i\\u00a6 \\u00a8\\u00c9 \\u00ac \\u00d4 6\\u00a3 \\u00a6 \\u00a8\\u00c9 7\\u00a3 \\u00a6\\u00d3 \\u00b0\\u00a6 \\u00a8\\u00bd m\\u00ac d\\u00eb \\u00b6 m \\u00a7 \\u00a9 m\\u00bd o\\u00a6 \\u00a8\\u00b0\\u00bc \\u00ac \\u00d6 \\u00b6 m \\u00a7 \\u00bc '( \\u00a7 \\u00a6 \\u00b1\\u00a9 i\\u00a3 \\u00aa \\u00d6\\u00e8 0) \\u00ae\\u00da m\\u00da \\u00a91 s\\u00ed t)\\u00ac \\u00ae\\u00b0\\u00a6 \\u00b1\\u00ac \\u00ae\\u00a5 \\u00a4 i \\u00a7 \\u00c5 \\u00b6 \\u00b0\\u00a6 \\u00ca \\u00a7 \\u00ac \\u00ae \\u00b6 fx\\u00b0 \\u00b6 m \\u00a7 \\u00a9 i \\u00b6 f\\u00a9 m\\u00ac \\u00c1\\u00b3 \\u00a8\\u00a4 o\\u00bc \\u00ac \\u00ae\\u00b0\\u00d3 6 y\\u00aa d \\u00a7 \\u00b0\\u00a6 \\u00b1\\u00bd m\\u00ac \\u00d8\\u00aa )\\u00a3 \\u00ac \\u00ae\\u00a6 \\u00b1x \\u00b6 f\\u00d2 \\u00b9 \\u00d2 7\\u00a4 i \\u00b6 m\\u00c9 7\\u00a3 E\\u00d3 \\u00b6 m\\u00b0\\u00ca\\u00a5 \\u00af\\u00a4 x\\u00a5 \\u00af\\u00ac \\u00ae\\u00a5 \\u00d6 \\u00b6 \\u00b5\\u00aa \\u00af)\\u00ac j\\u00ac \\u00b9 ` y \\u00b6 m\\u00a5 \\u00af\\u00ac \\u00ae\\u00bc 3)\\u00ac j\\u00d2 )\\u00ac \\u00ae\\u00a5 \\u00af\\u00ac \\u00ae \\u00a7 \\u00aa ) \\u00b6 f\\u00aa )\\u00a6 \\u00b1\\u00a4 i \\u00a7 \\u00a4 m\\u00cb R\\u00a5 \\u00af\\u00d0 s \\u00a7 \\u00aa ) \\u00b6 m\\u00c9 \\u00aa )\\u00a6 \\u00a8\\u00c9 x\\u00a5 \\u00af\\u00aa \\u00af\\u0155\\u00c9 \\u00aa ))\\u00ac m\\u00d3 ! \\u00b6 \\u00d8\\u00aa \\u00af)\\u00ac j\\u00ac x\\u00b3 \\u00a8\\u00a4 o\\u00bc \\u00ac \\u00ae\\u00b0\\u00d3 ! \\u00b6 m \\u00a7 \\u00bc \\u00fa \\u00b6 m \\u00a7 \\u00a6 \\u00a8 \\u00a7 y\\u00bc \\u00ac j\\u00d2 \\u00ac \\u00ae \\u00a7 \\u00bc \\u00ac \\u00ae \\u00a7 \\u00aa )\\u00b0\\u00b1\\u00d0 \\u00a3 \\u00b6 m \\u00a7 \\u00bc o\\u00b9 X\\u00c9 7 \\u00b6 f\\u00cb {\\u00aa \\u00af\\u00ac \\u00ae\\u00bc \\u00a9 m7 \\u00b6 m\\u00b3 \\u00b3 \\u00ab \\u00b6 f\\u00ae\\u00be \\u00bf \\u00c1\\u00ac \\u00a5 )\\u00a3 \\u00a4 \\u00d4 \\u00aa )\\u00a3 \\u00b6 f\\u00aa \\u00ba\\u00aa )\\u00a3 \\u00ac \\u00b6 m\\u00bc \\u00bc \\u00a6 \\u00b1\\u00aa )\\u00a6 \\u00a8\\u00a4 i \\u00a7 \\u00c0\\u00a4 m\\u00cb \\u00aa )\\u00a3 \\u00ac \\u00aa \\u00af7\\u00ac j\\u00ac \\u00b9 ` y \\u00b6 m\\u00a5 \\u00af\\u00ac \\u00ae\\u00bc \\u00b3 \\u00a8\\u00a4 o\\u00bc \\u00ac \\u00ae\\u00b0P\\u00a6 \\u00a8\\u00b3 \\u00a8\\u00d2 )\\u00a4 d\\u00c3 m\\u00ac \\u00ae\\u00a5 I\\u00aa )\\u00a3 \\u00ac \\u00d2 \\u00ac j)\\u00cb \\u00a4 m\\u0155\\u00b3 \\u00b6 m \\u00a7 \\u00c9 \\u00ac \\u00a4 m\\u00cb B\\u00aa )\\u00a3 \\u00ac \\u00a5 \\u00af\\u00d0 o \\u00a7 \\u00aa ) \\u00b6 m\\u00c9 \\u00aa )\\u00a6 \\u00a8\\u00c9 \\u00ab\\u00c9 r\\u00a3 \\u00a4 i\\u00a6 \\u00a8\\u00c9 \\u00ac \\u00cf\\u00b3 \\u00a4 s\\u00bc y\\u00b0\\u00b1\\u00ac m\\u00be \\u00ef 2\\u00a3 \\u00ac \\u00a5 \\u00af\\u00d0 o\\u00a5 \\u00af\\u00aa \\u00af\\u00ac \\u00ae\\u00b3 x\\u00d3 &\\u00c9 j \\u00b6 m\\u00b0\\u00b0\\u00b1\\u00ac \\u00ae\\u00bc\"],[\"\"],[\"Robust Temporal Processing of News\"],[\"Generic NLP Technologies: Language, Knowledge and Information Extraction\"],[\"d fe Dg h Si qp sr tr vu xw \\u00a8w y S X t Ag ci A ` Q 0 qd y e Vf g hf Gi j sk l \\u00a6j mi e g ny f o pi q sr Qt qo \\u00a6t u So pv e w Vo pf lx yi j {z Ai q| hx qi } i q Sqi n l S ` S \\u00a6| \\u00a8x i l| \\u00a8 z Ai q| hx qi q l q q q Q S qy d y f w Vo po 0o w q w q Q f i q| hx i S y t d\"],[\"The State of the Art in Thai Language Processing\"],[\"\\u00a2\\u00a1 \\u00a4\\u00a3 \\u00a6\\u00a5 \\u00a6\\u00a3 \\u00a8 \\u00a7 \\u00a9\\u00a3 \\u00a1 \\\"! #\\u00a5 \\u00a8$ % \\u00a3 $ & (' 0) 21 3) 4 05 6 87 #9 7 @\\u00a5 \\u00a8 BA C ($ D\\u00a3 \\u00a8) FE 5 HG I\\u00a1 P! \\u00a4) B7 Q\\u00a1 \\u00a4\\u00a3 SR T (! QU V W \\u00a91 7 X! #\\u00a3 \\u00a8A Y\\u00a1 \\u00a4\\u00a3 \\u00a8 ` &1 ba c! \\u00a4 \\\"U d I (U e\\u00a3 gf hd i\\u00a1 P! Qp D7 Q\\u00a1 p ! \\u00a4 q$ 0R T rG I\\u00a1 P1 s Ct vu vw ru yx \\u00a9 4 \\u00a9w y \\\" t vu yw @ Q u yx \\u00a9 ed gf h i j lk m on \\u00a6p \\u00a6j rq ts vu w (x Xj zy n \\u00a6 n \\u00a8s { | {} t ~w u n \\u00a6 |q \\u00a6j zu H h oj zm o om \\u00a8 p \\u00a6 h P ip \\u00a6 y P ~ t | h Q | Y # Y v g v y h # \\u00a1 \\u00a2 g v\\u00a3 s v\\u00a4 \\u00a9u t v\\u00a5 \\u00a6 P \\u00a7 t g\\u00a9 \\u00aa \\u00a8\\u00ab \\u00ac r 2\\u00ae \\u0233\\u00ae \\u00b0\\u00b2\\u00b1 \\u00b4\\u00b3 \\u00b5 q\\u00b0i\\u00ae g\\u00b1 \\u2022 \\u00b6 v\\u00ae \\u00b6 \\u00a6 t\\u00b0ID&\\u00b0\\u00b2\\u00aa \\u00a8\\u00ab \\u00b6 \\u00b9 \\u00aa t \\u00b6 \\u00ba\\u00b0\\u00bc\\u00bb \\u00aa t\\u00b1 \\u00a8v\\u00bd \\u00b2\\u00aa \\u00be\\u00b9 \\u00b0c \\u2022\\u00bd \\u00bc\\u00b1 \\u00a8\\u00ac \\u00bf\\u00ae g\\u00aa \\u2022\\u00ac \\u00c0 \\u00b6 \\u00a6\\u00a9 g \\u00c1 \\u00b6 v\\u00c2 \\u00c3\\u00aa t\\u00b0c\\u00bd \\u00bc\\u00ab g\\u00a9 \\u00ac \\u00bf\\u00c4 \\u00bd \\u00b2\\u00a6\\u00c5 (\\u00aa \\u2022\\u00b0\\u00b2\\u00b1 \\u00a8 I\\u00c2 AE\\u00b1 t \\u00b6 \\u00c7\\u015e\\u00c8 \\u00b0\\u00c9 \\u00ca\\u00ae \\u0233\\u00cb \\u00a6\\u00b0 Y\\u00ac \\u00c0\\u00a9 H \\u00b6 v\\u00b1 \\u00a8\\u00b9 \\u00b0\\u00b1 \\u00aa t \\u00b6 6\\u00cc \\u00aa \\u2022\\u00ac \\u00c0\\u00c5 r\\u00ac \\u00bf\\u00cd \\u00b2\\u00b0\\u00aa \\u2022\\u00ab \\u00b0v\\u00c8 \\u00ce \\u00b6 \\u00a6\\u00b1 \\u2022\\u00c5 r\\u00b9 \\u00cf\\u00c8 \\u00d0\\u00ac \\u00c0\\u00b9 \\u00b0T\\u00c8 {\\u00b0\\u00c9 \\u00d1\\u00a6 \\u00a6\\u00a9 H\\u00b0c\\u00a9 \\u00bd \\u00b2\\u00d2 \\u00bd \\u00b4\\u00c5 \\u00bf \\u00b6 \\u00a6\\u00ae ~\\u00b0\\u00b9 g\\u00ac \\u00c0\\u00d3 H\\u00c8 \\u00ce\\u00b0\\u00d4\\u00cc g t\\u00b0C\\u00c5 \\u00c0\\u00ac r\\u00a9 \\u00cb \\u00c7\\u00cc g\\u00ac \\u00c0 t\\u00aa \\u2022\\u00ac r\\u00bd \\u00ae \\u0233\\u00aa \\u2022\\u00aa t\\u00b0\\u00b2\\u00b1 \\u00a8\\u00a9 g 2\\u00a6\\u00a9 \\u00b9 \\u00d5 B\\u00d6 \\u00d8\\u00d7 \\u00da\\u00d9 {\\u00aa t\\u00b0\\u00b2\\u00bb \\u00aa 4 t\\u00aa \\u2022\\u00b1 \\u2022\\u00cc g\\u00bd \\u00bc\\u00aa \\u00a8\\u00cc \\u00b1 \\u2022\\u00b0c \\u00aa t \\u00b6 \\u00db\\u00b0\\u00bc\\u00bb \\u00aa t\\u00b1 \\u00a8\\u00a6\\u00bd \\u00bc\\u00aa v\\u00aa \\u2022\\u00b0\\u00bc\\u00bb \\u00aa v\\u00c2 z\\u00b1 \\u00a8v\\u00cb \\u00a6&\\u00b0c\\u00a9 |\\u00aa \\u2022 T\\u00bd \\u00b2 \\u00b6 \\u00a6\\u00a9 |\\u00aa \\u00a8v\\u00ac r\\u00a9 \\u00c4 \\u00ac \\u00c0\\u00a9 \\u00cb v\\u00aa \\u2022\\u00b0\\u00b2\\u00b1 \\u00a8\\u00dc\\u00b9 \\u00b0 \\u00a8\\u00bd \\u00bc\\u00b1 \\u00a8\\u00ac \\u00bf\\u00ae g\\u00aa \\u2022\\u00ac \\u00bf \\u00b6 \\u00c7\\u00a9 g \\u00b2\\u00d3 T\\u00c8 {\\u00b0D\\u00a6\\u00c5 \\u00c0 t \\u00b6 \\u00cc t\\u00b0v \\u00c5 rv\\u00a9 \\u00cb \\u00a6\\u00cc g\\u0233\\u00cb \\u00a6\\u00b0\\u00d4& \\u00b6 \\u00b9 \\u00b0\\u00c5 \\u00a9\\u00aa \\u2022 \\u00b6 T\\u00b9 g\\u00ac \\u00c0 \\u2022\\u00bd \\u00b4\\u0233\\u00b1 \\u00a8\\u00b9 \\u00ca\\u00b0\\u00b2\\u00bb \\u00aa \\u2022\\u00b1 \\u2022\\u0233\\u00c4 \\u00a9 \\u00b0\\u00b2 \\u00b6 \\u00c7\\u00cc \\\"\\u00b9 \\u00b0c \\u2022\\u00bd \\u00bc\\u00b1 \\u00a8\\u00ac \\u00bf\\u00ae g\\u00aa \\u00a8\\u00ac \\u00bf \\u00b6 \\u00a6\\u00a9 g \\u00b2\\u00b3 P\\u00a6\\u00a9 \\u00b9 \\u00daD\\u00bd \\u00b4\\u00c5 \\u00c0\\u00cc g t\\u00aa t\\u00b0\\u00b1 \\u2022\\u00ac r\\u00a9 \\u00cb &\\u00b0\\u00b2\\u00aa \\u00a8\\u00ab \\u00b6 \\u00b9 {\\u00aa t \\u00b6 \\u00da \\u2022\\u00cc g&v\\u00b1 \\u00a8\\u00ac \\u00bf\\u00cd \\u00b2\\u00b0D\\u00b1 \\u2022\\u00b0c \\u2022\\u00cc \\u00c5 \\u00bf\\u00aa \\u00a8v\\u00a9 \\u00aa F\\u00b9 \\u00b0\\u00b2\\u00c4 \\u2022\\u00bd \\u00b2\\u00b1 \\u2022\\u00ac \\u00c0\\u00ae \\u00aa \\u00a8\\u00ac \\u00bf \\u00b6 \\u00a6\\u00a9 g \\u00b2\\u00d3 \\u00dd\\u00c8 \\u00b0{ \\u2022\\u00ab \\u00b6 y\\u00b5 \\u00de\\u00aa \\u2022\\u00ab \\u00b0\\u00b0\\u00b2\\u00df ~\\u00b0c\\u00bd \\u00bc\\u00aa \\u00a8\\u00ac \\u00bf\\u00e0 \\u00c7\\u00b0\\u00b2\\u00c4 \\u00a9 \\u00b0 \\u2022 \\u00a9 \\u00b6 v\\u00c2 P \\u00b6 \\u00a6\\u00cc \\u00b1 (&\\u00b0\\u00b2\\u00aa \\u00a8\\u00ab \\u00b6 \\u00b9 8\\u00c9 \\u00d2 Y\\u00b5 \\u00e1c\\u00d2 Y \\u00b6 v\\u00c2 P\\u00b0\\u00b2\\u00bb \\u00ae ~\\u00b0\\u00b1 t\\u00c4 \\u00ac \\u00c0&\\u00b0c\\u00a9 \\u00aa \\u00a8 \\u00b2\\u00d3 \\u00e2 o\\u00e3 #t y\\u00a5 \\u00a6\\u00e4 \\u00a2\\u00e5 rw \\u00a9 \\u00a7 t v \\u00e4 \\u00a4\\u00e3 ae \\u00d8\\u00b0\\u00b2\\u00e7 g\\u00b0c\\u00bd \\u00bc\\u00aa \\u00a8\\u00ac \\u00c0\\u00a9 \\u00cb \\u00d0\\u00aa \\u2022\\u00ab \\u00b0\\u00ca\\u00cb v\\u00b1 \\u2022 \\u00b6 y\\u00b5 \\u00d8\\u00aa \\u00a8\\u00ab \\u00e8\\u00ac \\u00c0\\u00a9 \\u00c1\\u00cc \\u00aa \\u2022\\u00ac \\u00c0\\u00c5 r\\u00ac \\u00bf\\u00cd \\u00b4v\\u00aa \\u2022\\u00ac \\u00c0 \\u00b6 \\u00a6\\u00a9 \\u00c1 \\u00b6 v\\u00c2 D\\u0233\\u00c4 \\u00bd \\u00a6\\u00ab \\u00ac r\\u00a9 \\u00b0\\u00ce\\u00b1 \\u2022\\u00b0\\u00a6\\u00b9 g\\u0233\\u00c9 \\u00c5 \\u00bf\\u00b0\\u00ca\\u00aa \\u2022\\u00b0\\u00bc\\u00bb \\u00aa \\u2022 \\u00b2\\u00b3 \\u00e9\\u00b0\\u00bc\\u00bb \\u00aa t\\u00b1 \\u00a8\\u00a6\\u00bd \\u00bc\\u00aa \\u00a8\\u00ac \\u00bf \\u00b6 \\u00c7\\u00a9 \\u00c1v\\u00a9 g\\u00b9 \\u00c1\\u00a6\\u00bd \\u00b2\\u00ea \\u00cc \\u00ac \\u00bf\\u00c4 \\u2022\\u00ac \\u00bf\\u00aa \\u00a8\\u00ac \\u00bf \\u00b6 \\u00a6\\u00a9 \\u00eb \\u00b6 \\u00a6\\u00c2 \\u00be\\u00c5 r\\u00ac \\u00c0\\u00a9 \\u00cb \\u00c7\\u00cc g\\u00ac \\u00c0 t\\u00aa \\u2022\\u00ac r\\u00bd \\u00de\\u00ec \\u00a9 \\u00b6 o\\u00b5 \\u00d8\\u00c5 \\u00c0\\u00b0\\u00b9 \\u00cb v\\u00b0\\u00c2 z\\u00b1 \\u2022 \\u00b6 \\u00c7\\u00b8\\u00c5 \\u00c0\\u0233\\u00b1 \\u2022\\u00cb \\u00a6\\u00b0\\u00bd \\u00bc \\u00b6 \\u00a6\\u00b1 \\u2022\\u00ae h \\u00b6 v\\u00b1 \\u00a8\\u00ab gv \\u00c1\\u00c9 ~\\u00b0\\u00b2\\u00b0c\\u00a9 \\u00b6 \\u00c7\\u00a9 \\u00b0\\u00ed \\u00b6 \\u00a6\\u00c2 \\u00c3\\u00aa \\u2022\\u00ab \\u00b0\\u00a2\\u00ee t \\u00b6 v\\u00b1 \\u00be\\u00aa t \\u00b6 \\u00a6\\u00ae \\u00c4 \\u00ac \\u00c0\\u00bd \\u00b4 \\u00ce\\u00b5 2\\u00ac \\u00bf\\u00aa \\u00a8\\u00ab \\u00ac r\\u00a9 \\u00ef\\u00aa \\u2022\\u00ab \\u00b0\\u00d0\\u00a9 g\\u0233\\u00aa \\u00a8\\u00cc \\u00b1 \\u00a8v\\u00c5 \\u00d4\\u00c5 \\u00c0v\\u00a9 \\u00cb \\u00a6\\u00cc gv\\u00cb v\\u00b0\\u00f0\\u00ae g\\u00b1 \\u2022 \\u00b6 \\u00bd \\u00bc\\u00b0c \\u2022 \\u2022\\u00ac \\u00c0\\u00a9 \\u00cb \\u00f1 \\u00f3\\u00f2 \\u00d9 \\u00a4\\u00f4 q\\u00f5 \\u00da\\u00bd \\u00bc \\u00b6 \\u00c7\\u0229\\u00cc g\\u00a9 g\\u00ac \\u00bf\\u00aa g\\u00d2 v\\u00d3 %\\u00f6 \\u00f7 \\u2022v&\\u00ae \\u00c5 \\u00bf\\u00b0\\u00c3 \\u00b6 v\\u00c2 h\\u00c5 \\u00c0\\u00ac \\u00c0\\u00a9 \\u00cb \\u00a6\\u00cc g\\u00ac \\u00c0 t\\u00aa \\u00a8\\u00ac \\u00c0\\u00bd \\u00ec \\u00a9 \\u00b6 o\\u00b5 2\\u00c5 \\u00bf\\u00b0c\\u00b9 \\u00cb \\u00a6\\u00b0\\u00e9\\u00aa \\u2022v\\u00b1 \\u2022\\u00cb v\\u00b0\\u00aa t\\u00b0c\\u00b9 v\\u00ac \\u00c0\\u00a9 v\\u00ae g\\u00a6 t\\u00aa \\\"\\u00b1 \\u2022\\u00b0 t\\u00b0c\\u0233\\u00b1 \\u00a8\\u00bd \\u00bc\\u00ab v\\u00ac \\u00c0\\u00a9 \\u00bd \\u00b4\\u00c5 \\u00c0\\u00cc g\\u00b9 \\u00b0c \\u00cb v\\u00b1 \\u00a8\\u00a6&v\\u00b1 \\u00a8 \\u00f1 \\u00f3\\u00f8 \\u00cc \\u00ae g\\u00ac \\u00c0\\u00b0\\u00bd 0v\\u00a9 g\\u00b9 \\u00d7 \\u00da\\u0233\\u00bb \\u00b5 q\\u00b0\\u00c5 \\u00c0\\u00c5 e\\u00b3 \\u00fa\\u00f9 \\u00b4\\u00fb \\u00a6\\u00fb v\\u00fc |\\u00f5 \\u00a8\\u00b3 \\u00b5 ( \\u00b6 \\u00a6\\u00b1 \\u2022\\u00b9 &\\u00bd \\u00b2\\u00c5 rv \\u2022 t\\u00b0c \\u00f1 \\u00d5 Bv\\u00aa t\\u00cd \\u00b4\\u00ac \\u00c0\\u00e0 vv \\u2022 \\u2022\\u00ac \\u00c0\\u00c5 \\u00c0 \\u00b6 v\\u00cb \\u00c7\\u00c5 \\u00bf \\u00b6 \\u00c7\\u00cc \\u00e9v\\u00a9 g\\u00b9 \\u00d7 \\u00da\\u00bd \\u00f8 \\u00b0\\u00b2 \\u00b6 y\\u00b5 \\u00d8\\u00a9 P\\u00b3 \\u00f9 \\u00b4\\u00fb \\u00a6\\u00fb v\\u00fd |\\u00f5 I\\u00a6\\u00a9 g\\u00b9 \\u00c9 \\u00ac \\u00c0\\u00c5 r\\u00ac \\u00c0\\u00a9 \\u00cb \\u00c7\\u00cc gv\\u00c5 2\\u00c5 \\u00bf\\u00b0\\u00bc\\u00bb \\u00ac \\u00c0\\u00bd \\u00b2 \\u00b6 \\u00a6\\u00a9 g \\u00f1 \\u00ff\\u00fe \\u00a6\\u00b9 \\u00ee \\u2022T\\u00b0\\u00aa 8\\u00a6\\u00c5 \\u00f3\\u00d3 r\\u00b3 \\u00f9 \\u00b4\\u00fb \\u00a6\\u00fb \\u00a1 |\\u00f5 \\u00a8\\u00d3 Q\\u00c8 \\u00d0\\u00ab g\\u00ac \\u00c0\\u00c5 \\u00bf\\u00b0r\\u00ab \\u00cc gv\\u00a9 \\\"\\u00b0\\u00bc\\u00bb \\u00ae h\\u00b0\\u00b2\\u00b1 \\u2022\\u00aa \\u2022 \\u00a3\\u00a2 \\u00a9 g\\u00b9 i\\u00ac \\u00bf\\u00aa \\u00b9 g\\u00ac \\u00a5\\u00a4 D\\u00bd \\u00b4\\u00cc \\u00c5 \\u00bf\\u00aa \\u00a4\\u00aa t \\u00b6 \\u00ae \\u00b1 \\u2022 \\u00b6 \\u00b9 g\\u00cc \\u00bd \\u00b2\\u00b0\\u00d4\\u00b0\\u00b2\\u00bb \\u00ab gv\\u00cc g t\\u00aa \\u00a8\\u00ac \\u00bf\\u00e0 \\u00c7\\u00b0\\u00d4\\u00a6\\u00a9 g\\u00b9 \\u00bd \\u00b2 \\u00b6 \\u00a6\\u00a9 g \\u2022\\u00ac \\u00c0 t\\u00aa \\u2022\\u00b0\\u00a9 |\\u00aa \\u00c5 \\u00c0\\u00ac \\u00c0\\u00a9 \\u00cb \\u00a6\\u00cc g\\u00ac \\u00c0 t\\u00aa \\u00a8\\u00ac \\u00c0\\u00bd \\u00ec \\u00a9 \\u00b6 o\\u00b5 2\\u00c5 \\u00bf\\u00b0c\\u00b9 \\u00cb \\u00a6\\u00b0v\\u00b3 \\u00a6\\u00cc \\u00aa t \\u00b6 \\u00c7&v\\u00aa \\u2022\\u00ac r\\u00bd i&\\u00b0\\u00aa \\u2022\\u00ab \\u00b6 \\u00b9 4\\u00bd \\u00b2\\u00a6\\u00a9 \\u00d4\\u00ab \\u00b0\\u00c5 \\u00c0\\u00ae C\\u00a6\\u00c5 \\u00c0\\u00c5 \\u00bf\\u00b0\\u00b2\\u00c4 \\u00e0 \\u00ac r\\u0233\\u00aa \\u2022\\u00b0\\u00d4\\u00ae g\\u00b1 t \\u00b6 \\u00a6\\u00c9 \\u00c5 \\u00bf\\u00b0 \\u00a6 \\u2022 t \\u00b6 \\u00bd \\u00b4\\u00ac \\u00c0\\u0233\\u00aa \\u2022\\u00b0\\u00b9 \\u00b5 2\\u00ac \\u00bf\\u00aa \\u2022\\u00ab \\u00c3v\\u00a9 \\u00cc \\u00a6\\u00c5 \\u00e1\\u00bd \\u00b2 \\u00b6 \\u00a6\\u00a9 \\u00c4 t\\u00aa t\\u00b1 \\u00a8\\u00cc g\\u00bd \\u00bc\\u00aa \\u2022\\u00ac \\u00c0 \\u00b6 \\u00a6\\u00a9 P\\u00d3 \\u00d6 Q\\u00b0\\u00b1 \\u00a8\\u00b9 \\u00b0 \\u2022\\u00bd \\u00b2\\u00b1 \\u2022\\u00ac \\u00c0\\u00ae \\u00aa \\u00a8\\u00ac \\u00bf \\u00b6 \\u00c7\\u00a9 \\u00b2\\u00b3 \\u00b5 2\\u00ab g\\u00ac \\u00c0\\u00bd \\u00bc\\u00ab v\\u0233\\u00b1 \\u2022\\u00b0&\\u00cc g \\u2022\\u00cc \\u00a6\\u00c5 \\u00c0\\u00c5 \\u00bf\\u00d2 \\u00bd \\u00b2v\\u00b1 t\\u00b0\\u00b2\\u00c4 \\u00c2 AE\\u00cc g\\u00c5 \\u00c0\\u00c5 \\u00bf\\u00d2 \\u00ef \\u00b6 v\\u00b1 \\u2022\\u00cb \\u00c7v\\u00a9 g\\u00ac \\u00bf\\u00cd \\u00b2\\u00b0c\\u00b9 \\u00a2\\u00ac r\\u00a9 \\u00a2\\u00b0c\\u00a9 \\u00bd \\u00b2\\u00d2 \\u00bd \\u00b4\\u00c5 \\u00bf \\u00b6 \\u00a6\\u00ae h\\u00b0\\u00b9 g\\u00ac \\u00c0\\u00a6 \\u00b2\\u00b3 Cv\\u00b1 t\\u00b0\\u00db\\u00e0 vv\\u00c5 \\u00c0\\u00cc \\u00c4 \\u0233\\u00c9 \\u00c5 \\u00bf\\u00b0H\\u00c5 r\\u00ac \\u00c0\\u00a9 \\u00cb \\u00a6\\u00cc g\\u00ac \\u00c0 t\\u00aa \\u2022\\u00ac r\\u00bd \\u00ca\\u00ec \\u00a9 \\u00b6 o\\u00b5 2\\u00c5 \\u00bf\\u00b0c\\u00b9 \\u00cb v\\u00b0\\u00a6\\u00b3 F\\u00c9 \\u00cc \\u00aa \\u00ab \\u00e0 \\u00c7\\u00b0\\u00ca t\\u00b0\\u00c5 \\u00c0\\u00b9 \\u00b6 \\u00a6\\u0228 h\\u00b0\\u00b2\\u00b0c\\u00a9 \\u00be\\u00aa \\u00a8\\u0233\\u00b1 \\u2022\\u00cb \\u00a6\\u00b0\\u00b2\\u00aa \\u2022\\u00b0\\u00b9 b\\u00ac \\u00c0\\u00a9 3\\u00ae g\\u00a6 t\\u00aa \\u00f2 \\u00d9 \\u00a4\\u00f4 \\u00c5 r\\u00ac \\u00bf\\u00aa t\\u00b0\\u00b1 \\u00a8\\u0233\\u00aa \\u00a8\\u00cc \\u00b1 \\u2022\\u00b0v\\u00d3 0\\u00f6 4 \\u00b5 2\\u00ac \\u00bf\\u00aa \\u00a8\\u00ab \\u00b6 v\\u00aa \\u00a8\\u00ab \\u00b0\\u00b1 q\\u00aa t\\u00d2 |\\u00ae \\u00b0c \\u00e1 \\u00b6 v\\u00c2 Q\\u00c5 r\\u00ac \\u00c0\\u00a9 \\u00cb \\u00c7\\u00cc g\\u00ac \\u00c0 t\\u00aa \\u2022\\u00ac r\\u00bd B\\u00ec \\u00a9 \\u00b6 v\\u00b5 \\u00d8\\u00c5 \\u00c0\\u00b0\\u00b9 \\u00cb v\\u00b0B\\u00b1 \\u2022\\u00b0c\\u00c5 \\u00bf\\u00d2 \\u00c7\\u00c4 \\u00ac \\u00c0\\u00a9 \\u00cb h \\u00b6 \\u00c7\\u00a9 v\\u00ab \\u00cc gv\\u00a9 v\\u00ac \\u00c0\\u00a9 \\u00aa \\u2022\\u00b1 \\u2022 \\u00b6 \\u00a6 t\\u00ae \\u00b0\\u00bd \\u00b2\\u00aa \\u2022\\u00ac \\u00c0 \\u00b6 \\u00a6\\u00a9 v\\u00a9 g\\u00b9 v \\u2022\\u00cc \\u00ae h\\u00b0\\u00b2\\u00b1 \\u2022\\u00e0 \\u00ac \\u00c0 \\u2022\\u00ac \\u00bf \\u00b6 \\u00c7\\u00a9 P\\u00b3 \\u00bd \\u00bc \\u00b6 \\u00c7\\u00a9 g t\\u00aa t\\u00b1 \\u00a8\\u00cc \\u00bd \\u00b2\\u00aa \\u2022\\u00ac r\\u00a9 \\u00cb B\\u00b0c\\u00a9 \\u00bd \\u00b2\\u00d2 \\u00bd \\u00b2\\u00c5 \\u00bf \\u00b6 \\u00a6\\u00ae ~\\u00b0c\\u00b9 \\u00ac \\u00c0\\u00a6 \\u00a2\\u00ac \\u00c0 X\\u00ea |\\u00cc g\\u00ac \\u00bf\\u00aa \\u2022\\u00b0q\\u00b0\\u00bc\\u00bb \\u00ae h\\u00b0\\u00a9 g \\u2022\\u00ac \\u00bf\\u00e0 |\\u00b0v\\u00d3 \\u00f6 B\\u00b9 \\u00b9 g\\u00ac \\u00bf\\u00aa \\u00a8\\u00ac \\u00bf \\u00b6 \\u00c7\\u00a9 \\u00a6\\u00c5 \\u00c0\\u00c5 \\u00bf\\u00d2 \\u00c7\\u00b3 \\u2022\\u00ac \\u00c0\\u00a9 g\\u00bd \\u00bc\\u00b0\\\"\\u00b0\\u00b2\\u00bb \\u00ac r t\\u00aa \\u2022\\u00ac \\u00c0\\u00a9 \\u00cb Y\\u00b0c\\u00a9 \\u00bd \\u00b2\\u00d2 \\u00bd \\u00b2\\u00c5 \\u00bf \\u00b6 \\u00a6\\u00ae ~\\u00b0c\\u00b9 \\u00ac \\u00c0\\u00a6 \\u00e1\\u0233\\u00b1 \\u2022\\u00b0\\u00cc g \\u2022\\u00cc \\u00a6\\u00c5 \\u00c0\\u00c5 \\u00bf\\u00d2 I\\u00b1 t\\u00b0\\u00e0 \\u00ac \\u00c0 t\\u00b0\\u00b9 Y\\u00b0\\u00b2\\u00e0 |\\u00b0\\u00b2\\u00b1 \\u2022\\u00d2 i\\u00c2 z\\u00b0\\u00b5 \\u00c3\\u00d2 \\u00a6\\u00b0v\\u00b1 \\u00a8 \\u00b2\\u00b3 \\u00a6\\u00ac \\u00c0\\u00a9 &&\\u00a6\\u00a9 |\\u00d2 \\u00e9\\u00bd \\u00b2\\u00a6 t\\u00b0 \\u00cc g t\\u00b0\\u00b2\\u00b1 \\u00a8 \\u00a6\\u00a2 h\\u00a9 g\\u00b9 Y\\u00ac \\u00bf\\u00aa \\u00a2\\u00b9 g\\u00ac \\u00a5\\u00a4 D\\u00bd \\u00b4\\u00cc \\u00c5 \\u00c0\\u00aa \\u00a2\\u00aa t \\u00b6 B \\u00b6 \\u00a6\\u00c9 g\\u00aa \\u2022\\u00a6\\u00ac \\u00c0\\u00a9 Y\\u00b9 \\u00b0 \\u2022\\u00bd \\u00b2\\u00b1 \\u00a8\\u00ac \\u00bf\\u00ae \\u00aa \\u00a8\\u00ac \\u00bf \\u00b6 \\u00c7\\u00a9 #\\u00c2 z \\u00b6 \\u00a6\\u00b1 \\u00a9 \\u00b0\\u00b2\\u00b5 2\\u00c5 \\u00bf\\u00d2 h\\u00bd \\u00bc\\u00b1 \\u2022\\u00b0v\\u00aa t\\u00b0c\\u00b9 h\\u00aa \\u2022\\u00b0\\u00b2\\u00b1 \\u00a8 \\u00b2\\u00d3 \\u00d6 # \\u00b6 &\\u00bd \\u00bc \\u00b6 \\u00a6\\u00ae ~\\u00b0i\\u00b5 \\u00d8\\u00ac \\u00c0\\u00aa \\u2022\\u00ab h\\u00aa \\u2022\\u00ab \\u00b0iv\\u00c9 ~ \\u00b6 o\\u00e0 \\u00a6\\u00b0\\u00c5 r\\u00ac \\u00c0\\u00ac \\u00bf\\u00aa \\u00a8\\u0233\\u00aa \\u00a8\\u00ac \\u00bf \\u00b6 \\u00a6\\u00a9 \\u00d4 \\u00b6 \\u00a6\\u00c2 Q\\u00b0\\u00bc\\u00bb \\u00ac \\u00c0 t\\u00aa t\\u00c4 \\u00ac \\u00c0\\u00a9 \\u00cb 2\\u00b0\\u00a9 g\\u00bd \\u00bc\\u00d2 \\u00bd \\u00b2\\u00c5 \\u00c0 \\u00b6 v\\u00ae h\\u00b0c\\u00b9 \\u00ac rv \\u00b2\\u00b3 v\\u00ac \\u00c0\\u00aa \\u00a4\\u00ac \\u00c0 \\u00a4\\u00ae ~ \\u00b6 \\u00a6 \\u2022 \\u2022\\u00ac \\u00c0\\u00c9 g\\u00c5 \\u00c0\\u00b0@\\u00aa \\u2022 \\u00b6 4\\u00cc t\\u00b0\\u00a92 t\\u00b0v\\u00b1 \\u2022\\u00bd \\u00b2\\u00ab \\u00b0\\u00a9 \\u00cb \\u00c7\\u00ac \\u00c0\\u00a9 \\u00b08 \\u00b6 \\u00c7\\u00a9 {\\u00aa \\u2022\\u00ab \\u00b0D\\u00c8 { \\u00b6 v\\u00b1 \\u00a8\\u00c5 \\u00c0\\u00b9 {\\u00c8 \\u00d0\\u00ac r\\u00b9 \\u00b0D\\u00c8 {\\u00b0\\u00b2\\u00c9 \\u00ce\\u00a6 I\\u00da \\u2022\\u00cc \\u00c9 g t\\u00aa \\u00a8\\u00ac \\u00c4 \\u00aa \\u2022\\u00cc \\u00aa t\\u00b0\\u00a6\\u00b3 q\\u00b0\\u00b2\\u00bb \\u00ae h\\u00b0c\\u00bd \\u00bc\\u00aa \\u2022\\u00ac r\\u00a9 \\u00cb {\\u00aa \\u00a8\\u00ab v\\u00aa \\u00bd \\u00bc\\u00b0\\u00b1 t\\u00aa \\u00a8v\\u00ac r\\u00a9 \\u00c8 {\\u00b0\\u00c9 \\u00ae \\u0233\\u00cb \\u00a6\\u00b0 D\\u00b5 2\\u00ac \\u00c0\\u00c5 \\u00c0\\u00c5 \\u00b9 \\u00b0 \\u2022\\u00bd \\u00b2\\u00b1 \\u2022\\u00ac \\u00c0\\u00c9 h\\u00b0\\u00ce\\u00aa \\u2022\\u00ab \\u00b0{ \\u2022\\u00cc \\u00c9 g\\u00ac \\u00c0\\u00aa t\\u00aa \\u2022\\u00b0\\u00b9 \\u00ec \\u00a6\\u00b0\\u00d2 |\\u00b5 q \\u00b6 v\\u00b1 \\u00a8\\u00b9 P\\u00d3 \\u00d5 4 \\u00b6 o\\u00b5 q\\u00b0\\u00b2\\u00e0 v\\u00b0\\u00b1 \\u00b2\\u00b3 \\u2022\\u00ac \\u00c0\\u00a9 g\\u00bd \\u00bc\\u00b0\\u00ec \\u00c7\\u00b0\\u00d2 |\\u00b5 ( \\u00b6 v\\u00b1 \\u00a8\\u00b9 \\u00c4 \\u00c9 g\\u00a6 t\\u00b0\\u00b9 t\\u00b0c\\u0233\\u00b1 \\u00a8\\u00bd \\u00a6\\u00ab \\u00da\\u00b0c\\u00a9 \\u00cb \\u00c7\\u00ac \\u00c0\\u00a9 \\u00b0 F \\u00b6 v\\u00c2 z\\u00aa \\u2022\\u00b0\\u00a9 T\\u00b1 \\u2022\\u00b0\\u00bc\\u00c4 \\u00aa t\\u00b1 \\u00a8\\u00ac \\u00bf\\u00b0\\u00e0 \\u00a6\\u00b0\\u00f0\\u00c1 \\u2022\\u00cc \\u00b1 t\\u00ae g\\u00b1 \\u00a8\\u00ac \\u00c0 \\u2022\\u00ac \\u00c0\\u00a9 \\u00cb \\u00c7\\u00c5 \\u00bf\\u00d2 \\u00c5 \\u00c0v\\u00b1 \\u2022\\u00cb v\\u00b0\\u00f0\\u00a9 \\u00cc gF\\u00c9 h\\u00b0\\u00b1 \\u00ca \\u00b6 \\u00a6\\u00c2 h\\u00c8 \\u00ce\\u00b0\\u00c9 \\u00ae \\u0233\\u00cb \\u00a6\\u00b0 \\u00b2\\u00b3 P\\u00ac \\u00c0\\u00aa \\\"\\u00ac \\u00c0 B\\u00aa \\u2022\\u00ac \\u00c0&\\u00b0\\u00b2\\u00c4 \\u00bd \\u00b2 \\u00b6 \\u00a6\\u00a9 g \\u2022\\u00cc \\u00ac r\\u00a9 \\u00cb h\\u00aa \\u2022 \\u00b6 h\\u00ac \\u00c0\\u00b9 \\u00b0\\u00a9 \\u00aa \\u2022\\u00ac \\u00c0\\u00c2 z\\u00d2 \\u00d4\\u00ae gv\\u00cb \\u00a6\\u00b0 \\u00aa \\u2022\\u00ab gv\\u00aa \\u00d8 \\u2022v\\u00aa \\u2022\\u00ac \\u00c0 t\\u00c2 AE\\u00d2 D\\u00aa \\u00a8\\u00ab \\u00b0I\\u00cc g t\\u00b0\\u00b2\\u00b1 \\u00a8 \\u00a8 \\u00a7 g\\u00ac \\u00c0\\u00a9 \\u00c2 z \\u00b6 \\u00a6\\u00b1 \\u00a8\\u0233\\u00aa \\u00a8\\u00ac \\u00bf \\u00b6 \\u00a6\\u00a9 C\\u00a9 \\u00b0\\u00b2\\u00b0c\\u00b9 \\u00b2\\u00d3 \\u00a8 \\u00a9 \\u00dd\\u00e0 \\u00ac \\u00c0\\u00b0\\u00b2\\u00b5 \\u00b6 v\\u00c2 \\u00aa \\u2022\\u00ab g\\u00ac \\u00c0 \\u00f0\\u00ae g\\u00b1 t \\u00b6 \\u00a6\\u00c9 g\\u00c5 \\u00c0\\u00b0\\u00d4\\u00b3 T\\u00b5 q\\u00b0\\u00e8\\u00ae \\u00b1 \\u2022 \\u00b6 \\u00a6\\u00ae ~ \\u00b6 \\u00a6 t\\u00b0\\u00be& \\u00b0\\u00b2\\u00aa \\u00a8\\u00ab \\u00b6 \\u00b9 W\\u00aa \\u2022 \\u00b6 b\\u00a6\\u00cc \\u00aa \\u2022 \\u00b6 \\u00a6v\\u00aa \\u2022\\u00ac \\u00c0\\u00bd \\u00b4v\\u00c5 r\\u00c5 \\u00bf\\u00d2 \\u00a2\\u00b0\\u00bc\\u00bb \\u00aa t\\u00b1 \\u00a8\\u00a6\\u00bd \\u00bc\\u00aa 6\\u00aa t\\u00b0\\u00b1 \\u2022\\u00b8\\u00b9 \\u00b0\\u00bc\\u00c4 \\u2022\\u00bd \\u00b2\\u00b1 \\u2022\\u00ac \\u00c0\\u00ae \\u00aa \\u00a8\\u00ac \\u00bf \\u00b6 \\u00a6\\u00a9 g {\\u00c2 AE\\u00b1 \\u2022 \\u00b6 \\u00a6\\u00b8\\u00c8 {\\u00b0\\u00c9 b\\u00ae v\\u00cb v\\u00b0c \\u00ca\\u00a6\\u00a9 \\u00b9 \\u00ef \\u2022\\u00cc g\\u0233\\u00b1 \\u00a8\\u00ac \\u00bf\\u00cd \\u00b4\\u00b0\\u00aa \\u2022\\u00ab \\u00b0c\\u1e29\\u00d3 D\\u00a8 \\u00a9 T\\u00aa \\u00a8\\u00ab \\u00ac r i\\u00ae gv\\u00ae h\\u00b0\\u00b1 \\u00b2\\u00b3 #\\u00b5 q\\u00b0&\\u00cb \\u00a6\\u00b0\\u00a9 \\u00b0\\u00b2\\u00b1 \\u00a8v\\u00c5 r\\u00c5 \\u00bf\\u00d2 T\\u00cc t\\u00b0\\u00a9 t\\u00c8 \\u00ce\\u00b0\\u00b2\\u00c9 \\u00ae \\u0233\\u00cb \\u00a6\\u00b0 \\u00ef\\u00aa \\u2022 \\u00b6 \\u00ed\\u00b1 \\u2022\\u00b0\\u00b2\\u00c2 z\\u00b0\\u00b1 \\u00d0\\u00aa \\u2022 \\u00b6 \\u00ed\\u00aa \\u2022\\u00ab \\u00b6 \\u00c7 t\\u00b0\\u00c1\\u00ae gv\\u00cb v\\u00b0c \\u00d0\\u00bd \\u00bc \\u00b6 \\u00c7\\u00a9 \\u00aa \\u2022\\u00a6\\u00ac \\u00c0\\u00a9 g\\u00ac \\u00c0\\u00a9 \\u00cb \\u00aa t\\u00b0\\u00b2\\u00bb \\u00aa \\u00a8\\u00cc gv\\u00c5 \\\"\\u00bd \\u00b2 \\u00b6 \\u00a6\\u00a9 \\u00aa t\\u00b0\\u00a9 |\\u00aa \\u2022 \\u00b2\\u00b3 B\\u00b0\\u00bc\\u00bb \\u00bd \\u00b2\\u00c5 r\\u00cc \\u00b9 g\\u00ac \\u00c0\\u00a9 \\u00cb H\\u00aa \\u00a8\\u00ab \\u00b6 \\u00c7 t\\u00b0T\\u00b5 2\\u00ac \\u00bf\\u00aa \\u00a8\\u00ab \\u00d0 \\u00b6 \\u00c7\\u00a9 g\\u00c5 \\u00bf\\u00d2 \\u00ac \\u00c0v\\u00cb v\\u00b0 o\\u00a6\\u00cc \\u00b9 g\\u00ac \\u00bf \\u00b6 \\u00f0\\u00ac r\\u00a9 \\u00c2 AE \\u00b6 v\\u00b1 \\u00a8\\u0233\\u00aa \\u00a8\\u00ac \\u00bf \\u00b6 \\u00c7\\u00a9 \\u00d3 (\\u00b0c \\u2022\\u00ac \\u00c0\\u00b9 \\u00b0 \\u00da\\u00aa \\u2022\\u00ab g\\u00ac \\u00c0 \\u00b2\\u00b3 I\\u00b5 (\\u00b0 t\\u00ae h\\u00b0c\\u00bd \\u00b2\\u00ac \\u00a5\\u00a2 h\\u00bd \\u00b2\\u00a6\\u00c5 \\u00c0\\u00c5 \\u00c0\\u00d2 \\u00db\\u00aa \\u2022v\\u00b1 t\\u00cb \\u00a6\\u00b0\\u00b2\\u00aa \\u00b9 \\u00b0c \\u2022\\u00bd \\u00bc\\u00b1 \\u00a8\\u00ac \\u00bf\\u00ae g\\u00aa \\u2022\\u00ac \\u00c0 \\u00b6 \\u00a6\\u00a9 g \\u00c2 AE \\u00b6 v\\u00b1 v\\u00aa t\\u00b0c\\u00bd \\u00bc\\u00ab \\u00a9 g\\u00ac \\u00c0\\u00bd \\u00b4v\\u00c5 \\u00aa t\\u00b0\\u00b1 \\u00a8 \\u00b2\\u00b3 \\u00e9\\u00a6\\u00a9 g\\u00b9 \\u00e8\\u00aa \\u2022\\u00ab \\u00cc \\u00a9 \\u00aa \\u2022\\u00b0\\u00b2\\u00b1 \\u00a8 \\u00f0\\u00cb \\u00a6\\u00b0\\u00a9 \\u00b0\\u00b2\\u00b1 \\u00a8\\u00a6\\u00c5 \\u00c0\\u00c5 \\u00bf\\u00d2 \\u00e8\\u00b1 t\\u00b0\\u00c2 z\\u00b0\\u00b1 \\u00da\\u00aa t \\u00b6 \\u00aa t\\u00b0c\\u00bd \\u00a6\\u00ab g\\u00a9 \\u00ac r\\u00bd \\u00b2\\u00a6\\u00c5 ~\\u00aa t\\u00b0\\u00b1 \\u2022 \\u00b2\\u00d3 \\u00a8 \\u00a9 \\u00c9 \\u00b1 \\u00a8\\u00ac \\u00bf\\u00b0\\u00c2 \\u00ff\\u00b3 \\u00b6 \\u00c7\\u00cc \\u00b1 `&\\u00b0\\u00b2\\u00aa \\u00a8\\u00ab \\u00b6 \\u00b9 \\u00da\\u00b0\\u00bc\\u00bb \\u00aa t\\u00b1 \\u00a8v\\u00bd \\u00b2\\u00aa \\u2022 \\\"\\u00c2 z\\u00b1 \\u00a8v\\u00cb \\u00a6&\\u00b0c\\u00a9 |\\u00aa \\u2022 4 \\u00b6 v\\u00c2 \\u00c8 {\\u00b0\\u00b2\\u00c9 C\\u00ae gv\\u00cb \\u00a6\\u00b0 \\u00b2\\u00b3 h\\u00c9 g\\u00a6 t\\u00b0\\u00b9 C \\u00b6 \\u00c7\\u00a9 C\\u00ae gv\\u00aa t\\u00aa \\u2022\\u00b0\\u00b2\\u00b1 \\u00a8\\u00a9 \\u00f1 \\u00b6 \\u00a6\\u00b1 2\\u00aa t\\u00b0cY\\u00ae \\u00c5 \\u00c0v\\u00aa t\\u00b0c \\u00a6\\u00f5 \\u00aa g\\u00d2 \\u00ae g\\u00ac r\\u00bd \\u00b2\\u00a6\\u00c5 \\u00c0\\u00c5 \\u00bf\\u00d2 \\u00da\\u00cc t\\u00b0c\\u00b9 v\\u00aa \\u2022 \\u00b6 C\\u00b9 \\u00b0 \\u2022\\u00bd \\u00b2\\u00b1 \\u00a8\\u00ac \\u00bf\\u00c9 h\\u00b0&\\u00aa \\u2022\\u00b0\\u00b2\\u00b1 \\u00a8 \\u00b2\\u00d3 Y\\u00c8 {\\u00b0\\u00b2\\u00c9 T\\u00ae gv\\u00cb v\\u00b0c v\\u00b1 t\\u00b0D\\u00ac \\u00c0\\u00a9 {\\u00af t\\u00b0c\\u00a9 t\\u00b0D t\\u00b0\\u00ac \\u00bf\\u00c4 t\\u00aa t\\u00b1 \\u00a8\\u00cc g\\u00bd \\u00bc\\u00aa \\u00a8\\u00cc \\u00b1 \\u2022\\u00b0\\u00b9 \\u00ce\\u00b9 gv\\u00aa \\u2022\\u00b3 \\u00a4\\u00c9 ~\\u00b0c\\u00bd \\u00b2\\u00a6\\u00cc g t\\u00b0\\u00d5 B\\u00d6 \\u00d8\\u00d7 \\u00da\\u00d9 \\u00f1 \\u00d5 2\\u00d2 \\u00ae ~\\u00b0\\u00b1 \\\"\\u00d6 Q\\u00b0\\u00b2\\u00bb \\u00aa B\\u00d7 \\u00dav\\u00b1 \\u2022\\u00ec \\u00cc \\u00ae v\\u00d9 \\u00a4\\u00a6\\u00a9 \\u00cb \\u00c7\\u00cc v\\u00cb v\\u00b0y\\u00f5 \\u00e1\\u00aa \\u2022v\\u00cb \\u00c7 \\u00ae g\\u00b1 t \\u00b6 o\\u00e0 \\u00ac \\u00c0\\u00b9 \\u00b0Y\\u00aa \\u00a8\\u00ab \\u00b0&\\u00aa t\\u00b0\\u00bc\\u00bb \\u00aa \\u2022\\u00cc g\\u00a6\\u00c5 \\u00a2\\u00ac \\u00c0\\u00a9 \\u00c2 z \\u00b6 v\\u00b1 \\u00a8v\\u00aa \\u2022\\u00ac \\u00bf \\u00b6 \\u00c7\\u00a9 \\u00bd \\u00bc \\u00b6 \\u00c7\\u00a9 |\\u00aa \\u2022\\u00a6\\u00ac \\u00c0\\u00a9 \\u00b0\\u00b9 T\\u00ac \\u00c0\\u00a9 \\u00ae gv\\u00cb v\\u00b0\\u00b5 2\\u00ac \\u00bf\\u00aa \\u00a8\\u00ab \\u00cf{\\u00bd \\u00bc\\u00b0\\u00b1 t\\u00aa \\u00a8v\\u00ac r\\u00a9 \\u00cf t\\u00aa t\\u00b1 \\u00a8\\u00cc \\u00bd \\u00b2\\u00aa \\u2022\\u00cc \\u00b1 \\u2022\\u00b0v\\u00d3 \\u00d1\\u00d6 \\u00d8\\u00ab \\u00cc g \\u00b2\\u00b3 ( \\u00b6 \\u00a6\\u00cc \\u00b1 &\\u00b0\\u00b2\\u00aa \\u00a8\\u00ab \\u00b6 \\u00b9 \\u00db\\u00b1 \\u2022\\u00b0\\u00c5 r\\u00ac \\u00bf\\u00b0 \\u00b6 \\u00a6\\u00a9 \\u00d1\\u00c9 ~ \\u00b6 \\u00a6\\u00aa \\u2022\\u00ab \\u00db\\u00c5 \\u00c0\\u00ac \\u00c0\\u00a9 \\u00cb \\u00a6\\u00cc g\\u00ac \\u00c0 t\\u00aa \\u00a8\\u00ac \\u00c0\\u00bd {v\\u00a9 g\\u00b9 t\\u00aa t\\u00b1 \\u00a8\\u00cc \\u00bd \\u00bc\\u00c4 \\u00aa \\u2022\\u00cc \\u00b1 \\u00a8v\\u00c5 \\u00b9 \\u00b0c \\u2022\\u00bd \\u00bc\\u00b1 \\u00a8\\u00ac \\u00bf\\u00ae g\\u00aa \\u2022\\u00ac \\u00c0 \\u00b6 \\u00a6\\u00a9 \\u00d4\\u00ae gv\\u00aa t\\u00aa \\u2022\\u00b0\\u00b2\\u00b1 \\u00a8\\u00a9 g \\u00b2\\u00d3 \\u00c8 {\\u00b0\\u00d4\\u00cc g t\\u00b0\\u00b9 \\u00c3 t\\u00b0\\u00b2\\u00e0 \\u00c7\\u00b0\\u00b2\\u00b1 \\u00a8v\\u00c5 \\u00f2 \\u00d9 \\u00a4\\u00f4 b\\u00aa t\\u00b0\\u00bd \\u00b2\\u00ab \\u00a9 g\\u00ac \\u00c0\\u00ea \\u00cc \\u00b0c Y\\u00aa t \\u00b6 T t\\u00b0c\\u00ac \\u00c4 \\u00a6\\u00cc \\u00aa \\u2022 \\u00b6 \\u00a6v\\u00aa \\u2022\\u00ac \\u00c0\\u00bd \\u00b4v\\u00c5 r\\u00c5 \\u00bf\\u00d2 \\u00eb\\u00ae g\\u00b1 t \\u00b6 \\u00b9 g\\u00cc g\\u00bd \\u00bc\\u00b0S\\u00c5 \\u00c0\\u00ac r\\u00a9 \\u00cb \\u00c7\\u00cc g\\u00ac \\u00c0 t\\u00aa \\u2022\\u00ac r\\u00bd \\u00ae gv\\u00aa t\\u00aa \\u2022\\u00b0\\u00b2\\u00b1 \\u00a8\\u00a9 \\u00b2\\u00d3 \\u00c8 {\\u00b0\\u00e9\\u00bd \\u00b2\\u00a6\\u00c5 \\u00c0\\u00c5 Q\\u00aa \\u2022\\u00ab g\\u00ac \\u00c0 B\\u0233\\u00ae g\\u00ae \\u00b1 \\u2022 \\u00b6 \\u00c7v\\u00bd \\u00bc\\u00ab \\u00a9 \\u00f2 \\u00d9 \\u00a4\\u00f4 X\\u00c4 \\u00c9 g\\u00a6 t\\u00b0\\u00b9 &\\u00b0\\u00aa \\u2022\\u00ab \\u00b6 \\u00b9 \\u00d3\"],[\"Computational Linguistics Research on Philippine Languages\"],[\"\"],[\"\"],[\"a cb ed gf ih qp sr gt gd u )v 6w yx x 6x \\u00a6 6 w y \\u00a4 v \\u00a4 d fe \\\"g \\u00a4 h ji F k h hl e k x \\u00a4v 6m \\u00a4n eo v \\u00a4 i F k yw h x p 1x e x h 6x hx hm j x q `r kv sl e k hm w yx h t F qu wv \\\"n ix zy { | 6u 4{ 1} qe x \\\"x hx m F yx kn f h v j \\\" w i 6 1 i k \\u00a8 s c j w j \\\" F j 9 \\\" h 4 wf i A s s g k )\\u00a1 \\u00a2 \\u00a3 S\\u00a4 j \\u00a4 F\\u00a5 s\\u00a6 \\u00a7 )\\u00a2\\u00a9 \\u00ab\\u00aa \\u00ac k\\u00a1 \\u00ae w\\u00a9 \\u00ab )\\u00ae \\u00a7 ) j\\u00b0\\u00a2\\u00b1 h\\u00b2 F \\u00a7 ( \\u00aa s\\u00a4 j \\u00a4 \\u00b4\\u00b3 \\u00b5\\u00a9 \\u00ab \\u00b6 \\u00a7 ) s \\u00b8\\u2022 j (\\u00a9 \\u00a6 \\u00b1 (\\u00b1 )\\u00ae\\u00aa j \\u00b9\\u00a9 k\\u00b3 \\u00bb\\u00ba \\u00bc \\u00b1 )\\u00a3 \\u00aa \\u00bd \\u00a7 \\u00b2 \\u00bf\\u00be \\u00ab\\u00b1 ( \\u00a4 \\u00b9\\u00a9 \\u00ab\\u00aa \\u00bf\\u00b3 \\u00c0 \\u00c1 k \\u00a7 )\\u00a5 j ( \\u00b6 4 k\\u00c2\\u00c3 k (\\u00b1 \\u00c1\\u00c4 \\u00c5 \\u00bc\\u00a5 s \\u00a7 (\\u00a9 \\u00ac\\u00b3 \\u00b5 k\\u00ae \\u00a7 ) F\\u00b3 \\u00c0\\u00a5 j\\u00a1 \\u00ae\\u00aa s \\u00b1 (\\u00b1 \\u00c7AE \\u00a2\\u00a9 \\u00ab\\u00a1 k \\u00a7 )\\u00a2\\u00a9 \\u00ab\\u00aa s\\u00b1 \\u00c1\\u00c8 \\u00c9\\u00ae\\u00aa F\\u00ca \\u00cb \\u00aa j\\u00ae \\u00a7 ( \\u00a1 \\u00ae\\u00a3 \\u00cc\\u00c3 k\\u00aa \\u00bd\\u00a3 %\\u00a6 \\u00c1 k\\u00aa s\\u00a4 F\\u00a2\\u00a4 s k \\u00a7 ( \\u00b1 \\u00cd\\u00a5 s\\u00b1 ( \\u00a7 \\u00ce\\u00be \\u00a4 \\u00a6 \\u00a9 \\u00ab\\u00c2\\u2022 k ( \\u00a4 i\\u00c4 \\u00a8\\u00cf \\u00ce\\u00ae \\u00a7 ) z \\u00a7 ) s 3\\u00d0 ( \\u00c1 \\u00ab\\u00b1 (\\u00a9 \\u00ab\\u00aa k\\u00be j\\u00a1 \\u00a2 \\u00d1 e \\u00ab\\u00b1 \\u00ca \\u00b1 )\\u00a5 j\\u00c2\\u2022 j \\u00a7 )\\u00a2\\u00a9 \\u00ab\\u00aa s\\u00b1 \\u00d2\\u00d0 d\\u00d1 \\u00c9 \\u00a7 ) k \\u00a7 \\u00d3\\u00ba \\u00bc \\u00d4\\u00a6 \\u00a9 \\u00ab\\u00aa s\\u00b1 ) \\u00a7 ) k\\u00ae\\u00aa 1 \\u00a7 (\\u00b1 k ( \\u00b4\\u00a4 j \\u00b1 (\\u00a6 )\\u00ae\\u2022 j \\u00a7 )\\u00a2\\u00a9 \\u00ab\\u00aa s\\u00b1 \\u00bf\\u00a4 j \\u00aa s\\u00a9 \\u00ab \\u00a7 )\\u00ae\\u00aa j Y\\u00be \\u00a4\\u00a9 \\u00ab\\u00a5 j\\u00aa s\\u00a4 j \\u00a4 \\u00b1 ) \\u00a7 ) )\\u00a5 s\\u00a6 \\u00a7 )\\u00a5 j ( \\u00b1 I k\\u00aa s\\u00a4 \\u00d5\\u00d0 \\u00aed\\u00d1 e \\u00a7 ) k \\u00a7 AE w )\\u00a3 )\\u00a5 j\\u00a1 \\u00a2 ( h\\u00ca \\u00a6 \\u00a5 j (\\u00b1 )\\u00a2\\u00a9 \\u00ab\\u00aa \\u00d3\\u00ae\\u00aa \\u00d6 \\u00a7 ) s \\u00c3\\u00be \\u00ab\\u00b1 ( f 4 k\\u00c2\\u00c3 k `\\u00ae\\u00aa s\\u00a6 \\u00a5 j (\\u00b1 \\u00b1 (\\u00a9 \\u00abf A\\u00a6 \\u00a9 \\u00ab\\u00aa s\\u00b1 ) \\u00a7 ) k\\u00ae\\u00aa 1 \\u00a7 AE 1\\u00a2\\u00a9 \\u00ab\\u00a1 k \\u00a7 )\\u00a2\\u00a9 \\u00ab\\u00aa \\u00c8 \\u00bc\\u00a6 ( k ) \\u00a7 g k\\u00a1 \\u00d7\\u00ca w\\u00a9 \\u00ab )\\u00ae \\u00a7 ) j\\u00ac\\u00a6 \\u00c1 k\\u00aa \\u00d8\\u00be \\u00a4 \\u00d9\\u00a4 j AE \\u00a2\\u00b1 ( \\u00a4 i\\u00c4 \\u00a8\\u00da \\u00db\\u00aa 1 \\u00a7 ( )\\u00a1 \\u00a2 \\u00c1 AE \\u00ae\\u00aa j \\u2022 k (\\u00b1 )\\u00ae\\u00aa j s k\\u00aa s\\u00a4 \\u00a2 w \\u00aa s k \\u00a7 )\\u00a2\\u00a9 \\u00ab\\u00aa \\u00b9\\u2022 \\u00a4 )\\u00c2\\u00ae \\u00a7 (\\u00b1 f \\u00a7 ) s k\\u2022 j\\u2022 j\\u00a1 \\u00ae\\u00a2\\u00a6 \\u00c1 k \\u00a7 )\\u00a2\\u00a9 \\u00ab\\u00aa \\u00cd\\u00a9 k\\u00b3 ` w \\u00aa s k \\u00a7 )\\u00a2\\u00a9 \\u00ab\\u00aa F\\u00ca \\u00be \\u00ab\\u00b1 ( \\u00a4 \\u00cd\\u00a9 \\u00ab\\u2022 F\\u00ca \\u00a7 )\\u00ae\\u00c2\\u00ae\\u00dc k \\u00a7 )\\u00a2\\u00a9 \\u00ab\\u00aa s AE w \\u00aa T\\u00ae\\u00aa \\u00b8 \\u00a7 ) s \\u00c2\\u2022 k (\\u00b1 )\\u00ae\\u00aa j \\u00b6 \\u00a7 \\u00ab\\u00b1 (\\u00dd 6\\u00c8 \\u00c4 \\u00de 4\\u00c4 \\u00ae\\u00c8 F\\u00b3 \\u00b5\\u00a9 \\u00ab V \\u00d8\\u00b1 ) \\u00a7 ) )\\u00ae\\u00aa j f\\u00ae\\u00aa j\\u2022 j\\u00a5 j \\u00a7 \\u00c1\\u00c4 \\u00df \\u00e0 d c 4 wb \\u00e1 gr g w\\u00e2 \\u00dbb ed \\u00da \\u00aa \\u00e3\\u00ba 3\\u2022 j \\u00a7 )\\u00ae\\u00c3 k\\u00a1 \\u00ae\\u00ae \\u00a7 \\u00db\\u00a3 \\u00cd A s \\u00a9 \\u00ab )\\u00a3 Y\\u00d0 \\u00ba \\u00bc V\\u00d1 h\\u00c8 R\\u00be 6\\u00a9 \\u00ab \\u00a7 ) \\u00a7 ) s \\u00d2\\u00d0 AE 1\\u00a2\\u00a9 k\\u00ca \\u00a1 k\\u00be j\\u00a1 \\u00a2 \\u00d1 \\u00d5\\u00a6 \\u00a9 \\u00ab\\u00aa s\\u00b1 ( \\u00a7 ) k\\u00ae\\u00aa \\u00bd \\u00a7 (\\u00b1 k\\u00aa s\\u00a4 \\u00cd \\u00a7 ) s T\\u00b1 ( \\u00a7 \\u00a9 k\\u00b3 \\u00c2\\u00a6 \\u00a9 \\u00ab\\u00c2\\u2022 \\u00a4 \\u00a7 )\\u00ae\\u00aa j \\u00a6 \\u00c1 k\\u00aa s\\u00a4 F\\u00a2\\u00a4 s k \\u00a7 ( '\\u00b1 ) \\u00a7 ) )\\u00a5 s\\u00a6 \\u00a7 )\\u00a5 j ( \\u00b1 \\u00d9 k ( A\\u00a5 j\\u00aa j\\u00aeAE w (\\u00b1 k\\u00a1 \\u00ae\\u00a1 \\u00ae\\u00a3 \\u00ae\\u00aa 1AE \\u00ab k ) k\\u00aa 1 \\u00a7 \\u00c1\\u00e4 \\u00e5 \\u00a5 s\\u00b1 ) \\u00a7 \\u00d9 \\u00a7 ) s 3 ( \\u00a1 k \\u00a7 )\\u00aeAE w 9 k\\u00aa j\\u00dd \\u00ae\\u00aa j \\u00d8\\u00a9 k\\u00b3 \\u00a8\\u00a6 \\u00a9 \\u00ab\\u00aa s\\u00b1 ) \\u00a7 ) k\\u00ae\\u00aa \\u00bd \\u00a7 (\\u00b1 A\\u00a2\\u00b1 A\\u00b1 )\\u00a5 j\\u00be F\\u00ca \\u00e5 \\u00a6 \\u00a7 \\u00a6 \\u00a7 (\\u00a9 \\u00b6\\u00a6 (\\u00a9 4\\u00b1 (\\u00b1 \\u00ca \\u00a1 \\u00ae\\u00ae\\u00aa j 4\\u00a5 j\\u00a2\\u00b1 ) \\u00a7 )\\u00a2\\u00a6 fAE \\u00ab k ) k \\u00a7 )\\u00a2\\u00a9 \\u00ab\\u00aa \\u00c4 \\u00bb A j\\u00a2\\u00b1 z\\u00c3 k\\u00dd w \\u00b1 \\u00ba \\u00bc \\u00c7 k\\u00aa \\u00bb k \\u00a7 ) \\u00a7 ) \\u00ab\\u00a6 \\u00a7 )\\u00aeAE w Rf\\u00a9 \\u00a4 j \\u00a1 j\\u00b3 \\u00b5\\u00a9 \\u00ab \\u00a7 ) s R h\\u00b2 \\u2022 j\\u00a1 k\\u00aa k \\u00a7 )\\u00a2\\u00a9 \\u00ab\\u00aa \\u00bb\\u00a9 k\\u00b3 \\u00a7 \\u00db\\u00a3 \\u2022 \\u00a4\\u00a9 \\u00ab\\u00a1 \\u00a2\\u00a9 \\u00ab 4\\u00a2\\u00a6 \\u00c1 k\\u00a1 cAE 4 k ) k \\u00a7 )\\u00a2\\u00a9 \\u00ab\\u00aa \\u00c9 k\\u00aa s\\u00a4 \\u00c9 \\u00ab\\u00a6 ae \\u00bd\\u00a5 j\\u00a2\\u00b1 )\\u00ae \\u00a7 )\\u00a2\\u00a9 \\u00ab\\u00aa \\u00c4 A\\u00da \\u00aa q\\u00a6 \\u00a9 \\u00ab\\u00aa F\\u00ca \\u00a7 ) \\u00ab\\u00b1 ) \\u00a7 f \\u00a7 (\\u00a9 s\\u00ba \\u00bc \\u00e7\\u2022 j s\\u00a9 \\u00ab\\u00aa s\\u00a9 \\u00ab\\u00a1 \\u00a2\\u00a9 \\u00ab 4\\u00a3 \\u00bf \\u00a7 ) s ( \\u00d5 \\u00ab\\u00b1 \\u00c2\\u00be \\u00a4 \\u00aa \\u00c7\\u00a1 \\u00ae\\u00ae \\u00a7 ) \\u00a7 )\\u00a1 \\u00a2 \\u00a6 \\u00a9 \\u00ab\\u00c2\\u2022 j\\u00a5 j \\u00a7 k \\u00a7 )\\u00a2\\u00a9 \\u00ab\\u00aa k\\u00a1 \\u00bc\\u00e8 \\u00d9\\u00a9 \\u00ab )\\u00dd \\u00bf\\u00a9 \\u00ab\\u00aa \\u00ce\\u00ba \\u00bc \\u00e9\\u00b1 )\\u00a3 \\u00aa \\u00bd \\u00a7 \\u00b2 i\\u00c4 \\u00b9\\u00ea \\u00bc ( 4\\u00c8 A\\u00da \\u2022 j (\\u00a9 \\u00ab\\u2022 \\u00a4\\u00a9 4\\u00b1 ( 3 z\\u2022 k (\\u00b1 )\\u00ae\\u00aa j 1\\u00eb w \\u00aa s k \\u00a7 )\\u00a2\\u00a9 \\u00ab\\u00aa \\u00b6\\u00b1 ) \\u00a7 ) k \\u00a7 ( 4\\u00a3 \\u00c2\\u00b3 \\u00b5\\u00a9 \\u00ab A\\u00ba \\u00bc \\u00b1 )\\u00a3 \\u00aa \\u00bd \\u00a7 \\u00b2 \\u00be \\u00ab\\u00b1 ( \\u00a4 \\u00e3\\u00a9 \\u00ab\\u00aa S g k )\\u00a1 \\u00a2 \\u00a3 \\u00cd\\u00a4 j \\u00a4 F\\u00a5 s\\u00a6 \\u00a7 )\\u00a2\\u00a9 \\u00ab\\u00aa \\u00c8 \\u00a6 \\u00a9 \\u00ab\\u00be j\\u00ae\\u00aa F\\u00ca \\u00ae\\u00aa j e \\u00b1 k \\u00c1\\u00ec \\u00de\\u00b1 \\u00c7\\u00d0 \\u00ed \\u00c1\\u00ee 4\\u00ee 4\\u00ef w\\u00d1 \\u00a6 k ) \\u00a7 \\u00ca \\u00be \\u00ab\\u00b1 ( \\u00a4 Y\\u00a6 \\u00a9 \\u00ab\\u00c2\\u2022 j\\u00a5 j \\u00a7 k \\u00a7 )\\u00a2\\u00a9 \\u00ab\\u00aa \\u00a9 k\\u00b3 \\u00d8\\u00ba \\u00bc \\u00f0\\u00a6 \\u00a9 \\u00ab\\u00c2\\u2022 6 \\u00a7 )\\u00ae \\u00a7 )\\u00a2\\u00a9 \\u00ab\\u00aa \\u00e8 R\\u00ae \\u00a7 ) \\u00b4\\u00ae\\u00aa s\\u00b1 )\\u00ae 4 1 \\u00a7 (\\u00b1 \\u00bb\\u00b3 (\\u00a9 \\u00abX\\u2022 k (\\u00b1 \\u00ca \\u00ae\\u00aa j 1\\u00eb w \\u00aa s k \\u00a7 )\\u00a2\\u00a9 \\u00ab\\u00aa \\u00e9\\u00e8 R\\u00ae \\u00a7 ) \\u00e7\\u00a6 \\u00a9 \\u00ab\\u00aa s\\u00b1 ) \\u00a7 ) k\\u00ae\\u00aa 1 \\u00a7 \\u00ca \\u00be \\u00ab\\u00b1 ( \\u00a4 \\u00e7 4 k\\u00d8\\u00ca \\u00c3 k (\\u00b1 q\\u00d0 \\u00ae\\u00aa \\u00bf\\u2022 k ) \\u00a7 )\\u00a2\\u00a6 \\u00a5 j\\u00a1 k \\u00c3\\u00f1 \\u00bc \\u00a5 j\\u00c3 k\\u00aa j\\u00aa \\u00ec \\u00de\\u00b1 \\u00d0 \\u00ed \\u00c1\\u00ee 4\\u00ee 4\\u00f2 w\\u00d1 \\u00d8\\u00ae\\u00aa \\u00bd \\u00a7 ( \\u00ca \\u00a1 \\u00a2 \\u00c1 AE \\u00ae\\u00aa j 1\\u00d1 h\\u00c4 z\\u00f3 \\u00f4\\u2022 j (\\u00a9 \\u00ab \\u00a7 (\\u00a9 \\u00ab \\u00a7 \\u00db\\u00a3 \\u2022 6 ` \\u00ab\\u00b1 9\\u00be \\u00a4 \\u00aa \\u00ae\\u00c2\\u2022 j\\u00a1 \\u00a2 f \\u00aa 1 \\u00a7 ( \\u00a4 \\u00ae\\u00aa \\u00b6\\u00f5 (\\u00a9 \\u00ab\\u00a1 \\u00a2\\u00a9 \\u00ab s\\u00c4 \\u00f6 \\u00a6 4\\u00c4 \\u00c3\\u00f7 \\u00f8\\u2022 j ( \\u00b1 ( \\u00aa 1 \\u00a7 (\\u00b1 \\u00bf\\u00be \\u00ab\\u00a6 (\\u00dd 4 (\\u00a9 \\u00ab\\u00a5 j\\u00aa s\\u00a4 8\\u00a9 \\u00ab\\u00aa \\u00cc\\u00ba \\u00bc \\u00f9\\u00b1 (\\u00a3 1\\u00aa F\\u00ca \\u00a7 \\u00b2 \\u00fa k\\u00aa s\\u00a4 \\u00e9 \\u00e3\\u00b3 \\u00b5\\u00a9 \\u00ab )\\u00c3 k\\u00a1 \\u00ae\\u00ae\\u00dc k \\u00a7 )\\u00a2\\u00a9 \\u00ab\\u00aa \\u00e9\\u00be \\u00ab\\u00b1 ( \\u00a4 \\u00fa\\u00a9 \\u00ab\\u00aa \\u00e9\\u00fb h\\u00b2 F\\u00a2\\u00a6 \\u00c1 k\\u00a1 \\u00d7\\u00ca\"],[\"A Hierarchical Account of Referential Accessibility\"],[\"\\u00a2\\u00a1 \\u00a4\\u00a3 \\u00a6\\u00a5 \\u00a8 \\u00a7 \\u00a9 !\\u00a9 #\\\" # \\u00a4 $ &% ' \\u00a6 ! )( 10 2 43 5 76 8\\u00a5 @9 BA @ C\\u00a5 D E \\u00a2 F\\u00a5 @3 G E\\u00a1 \\u00a9 HA I\\u00a5 \\u00a8P Q3 G% R !\\u00a5 S 4\\u00a9 FT U% R3 &\\u00a5 \\u00a8V W !\\u00a1 \\u00a4 YX 2\\u00a9 H% R3 G\\u00a5 a0 bc\\u00a1 \\u00a4 d e f hg pi Hq sr ut wv xi y i @y i g p G d fe g h ji k l nm h l co p $q Eo sm i r l h k es Gt ju h t h v o sw & x ey zo i { u | x e} z u ~h k x nu l l u |m o sk h & g G p G G } s m u p 7 s ! C & s \\u00a1 \\u00a2 5 H\\u00a3 \\u00a4 \\u00a5 7\\u00a1 \\u00a7\\u00a6 C8\\u00a9 7\\u00aa \\u00ab\\u00a6 \\u00a6\\u00ac s s\\u00aa \\u00ae h' \\u00b1\\u00b0g pi Hq \\u00b0\\u00b2 \\u00b4\\u00b3 p\\u00b5 \\u2022 \\u00b6 u\\u00b8 \\u00b9 \\u00b18\\u00ba \\u00bb \\u00bcp\\u00bb \\u00ba n \\u00b6 \\u00ba \\u00bd d\\u00be \\u00bf \\u00b6 \\u00bc\\u00b9 \\u00c1\\u00c0 C\\u00c2 j\\u00c3 E\\u00b8 \\u00bb \\u00ba \\u00b3 p\\u00ba \\u00a6\\u00bd \\u00b6 \\u00b5 \\u00c4 \\u00b1\\u00ba \\u00ba \\u00c3 E\\u00b8 \\u00b5 \\u00c5\\u00bb \\u00bf\\u00b5 \\u00c0 \\u00b9 \\u00c7AE E\\u00c0 C\\u00c2 \\u00b1\\u00c3 \\u00ab\\u00b8 \\u00b9 \\u00b1\\u00bb \\u00b5 \\u2022 \\u00b6 \\u00c2 \\u00b1\\u00bd u\\u00c8 8\\u00ba \\u00a6\\u00be \\u00ca\\u00c9 \\u00ba \\u00ba \\u00a6\\u00bd u\\u00be \\u00ca\\u00c9 f\\u00c2 w\\u00b9 \\u00c7p\\u00cb p\\u00bb \\u00bf\\u00c2 j\\u00b9 j\\u00c0 \\u00b3 p\\u00ba \\u00b6 w\\u00cc \\u00cd\\u00c2 \\u00b1\\u00bb \\u00cf\\u00ce p\\u00ba \\u00a6\\u00c4 \\u00b1\\u00ba AE \\u00c5\\u00c2 jp\\u00b5 \\u00bd p\\u00d0 \\u00d1\\u00b9 \\u00d1\\u00c8 \\u00b9 j \\u00b6 \\u00ba 2\\u00bd p\\u00c2 j\\u00d2 p\\u00bd p\\u00b3 \\u00bb \\u00bf\\u00b9 j \\u00b6 \\u00ba '\\u00c0 \\u00b3 d\\u00d2 \\u00bd p\\u00d3 \\u00b1\\u00ba \\u00bb \\u00d4 &\\u00b3 \\u00d5\\u00d2 p\\u00c3 \\u00d6\\u00b9 \\u00c7\\u00bd e\\u00bb \\u00bf\\u00d2 pAE \\u00ba D\\u00c9 I\\u00bb \\u00bf\\u00b5 \\u00c5\\u00be \\u00b5 \\u00bd p\\u00d0 !\\u00b9 \\u00b1\\u00bd \\u00ce \\u00b9 j\\u00c0 \\u00be \\u00b5 \\u00c4 \\u00b1\\u00ba \\u00d7AE \\u00c5\\u00ba n\\u00b9 \\u00c7\\u00bb \\u00bf\\u00bd p\\u00b5 \\u00bd p\\u00d0 \\u00d8\\u00d2 \\u00b6 \\u00b5 \\u00bd p\\u00d0 \\u00b5 \\u00bd d\\u00be \\u00ba \\u00bb \\u00bf\\u00b9 j\\u00c0 \\u00be \\u00b5 \\u00c4 \\u00b1\\u00ba \\u00d9\\u00bb \\u00ba n\\u00b9 \\u00c7AE \\u00c5\\u00cb \\u00be \\u00bf\\u00b5 \\u00c5\\u00c3 \\u00ab\\u00ba \\u00b3 \\u00d5\\u00d2 p\\u00c3 \\u00d6\\u00b9 \\u00b1\\u00bd \\u00da\\u00b9 \\u00c7\\u00bd p\\u00bd p\\u00c2 \\u00b1\\u00be \\u00bf\\u00b9 \\u00c7\\u00be \\u00b5 \\u00c2 \\u00b1\\u00bd 7\\u00db \\u00cf\\u00dc \\u00d5\\u00ba \\u00c4 \\u00b1\\u00ba \\u00a6\\u00bb \\u00b9 \\u00c7AE \\u00dd\\u00bd p\\u00c2 \\u00de\\u00c4 \\u00b1\\u00ba AE \\u00c4 \\u00de\\u00b9 \\u00c7\\u00bb \\u00bf\\u00b5 \\u2022\\u00b9 \\u00de\\u00be \\u00b5 \\u00c2 \\u00b1\\u00bd 8 \\u00b6 \\u00d6\\u00c2 \\u00b1\\u00bd w\\u00b9 j\\u00c0 \\u00be \\u00bf\\u00b5 \\u00c5\\u00c4 j\\u00ba \\u00a4AE \\u00c5\\u00ba n\\u00b9 \\u00c7\\u00bb \\u00bf\\u00bd p\\u00b5 \\u00c5\\u00bd \\u00d0 \\u00df\\u00b9 \\u00c7\\u00bb \\u00bf\\u00ba \\u00a4\\u00b5 \\u00c5\\u00bd \\u00d5\\u00c4 j\\u00ba \\u00b6 \\u00cb \\u00be \\u00bf\\u00b5 \\u00c5\\u00d0 d\\u00b9 \\u00de\\u00be \\u00ba n\\u00ce \\u00e0 \\u00b9 \\u00c7\\u00bd \\u00ce \\u00d2 p\\u00bd \\u00ce p\\u00ba \\u00a6\\u00bb \\u00bfAE \\u00c5\\u00e1 \\u00d5\\u00b5 \\u00bd p\\u00d0 \\u00e2\\u00c0 C\\u00c2 d \\u00b6 \\u00ca\\u00be R\\u00c3 \\u00ab\\u00c2 \\u00ce \\u00ba \\u00a6AE \\u2022 \\u00b6 R\\u00cc \\u00cd\\u00c2 j\\u00bb \\u00c0 \\u00a6\\u00bb \\u00c2 d \\u00b6 \\u00b6 \\u00cb \\u00c3 \\u00ab\\u00c2 \\u00ce p\\u00b9 \\u00b1AE \\u00dd\\u00c3 \\u00d6\\u00b9 \\u00b1\\u00c0 \\u00b3 p\\u00b5 \\u00bd p\\u00ba AE \\u00c5\\u00ba n\\u00b9 \\u00c7\\u00bb \\u00bf\\u00bd p\\u00b5 \\u00bd p\\u00d0 \\u00e3\\u00c0 \\u00a6\\u00c2 \\u00b1\\u00c3 \\u00ab\\u00b8 \\u00b9 \\u00b1\\u00bb \\u00b5 \\u00c5\\u00cb \\u00b6 \\u00c2 \\u00b1\\u00bd \\u00a4\\u00b9 \\u00c7\\u00bb \\u00bf\\u00ba Rp\\u00bb \\u00bf\\u00ba \\u00b6 \\u00ba \\u00a6\\u00bd d\\u00be \\u00ba n\\u00ce \\u00b9 \\u00c7\\u00bd \\u00ce \\u00e4\\u00ba C\\u00e5 pAE \\u00c2 \\u00b1\\u00bb \\u00bf\\u00ba \\u00ce 7\\u00db ae I\\u00ba n \\u00b6 \\u00d2 pAE \\u00c5\\u00be \\u00bf \\u00b6 \\u00b6 \\u00b3 p\\u00c2 \\u00de\\u00c9 2\\u00be \\u00b3 \\u00b9 \\u00c7\\u00be !\\u00b5 \\u00c5\\u00be !\\u00b5 \\u2022 \\u00b6 4\\u00c3 \\u00ab\\u00c2 j\\u00bb \\u00ba c\\u00ba \\u00a6\\u00e7 c\\u00c0 C\\u00b5 \\u00ba \\u00a6\\u00bd d\\u00be E\\u00b9 \\u00b1\\u00bd \\u00ce )\\u00c3 \\u00ab\\u00c2 \\u00b1\\u00bb \\u00bf\\u00ba \\u00b6 \\u00d2 \\u00c0 \\u00a6\\u00c0 \\u00a6\\u00ba \\u00b6 \\u00bf \\u00b6 \\u00ca\\u00cc \\u00cd\\u00d2 AE \\u00c8 \\u00d5\\u00e1 c \\u00b6 \\u00ba \\u00a6\\u00c4 j\\u00ba \\u00a6\\u00bb \\u00b9 \\u00c7AE \\u00c3 \\u00ab\\u00ba n\\u00b9 \\u00b1 \\u00b6 \\u00d2 p\\u00bb \\u00ba n \\u00b6 \\u00be \\u00bf\\u00c2 4\\u00be \\u00bf\\u00bb \\u00bf\\u00b9 \\u00b1\\u00b5 \\u00c5\\u00bd \\u00e4\\u00b9 \\u00b6 \\u00e1 \\u00b6 \\u00ca\\u00be \\u00bf\\u00ba \\u00a6\\u00c3 F\\u00d2 \\u00b6 \\u00b5 \\u00c5\\u00bd \\u00d0 \\u00b9 j\\u00c0 \\u00be \\u00bf\\u00b5 \\u00c5\\u00c4 j\\u00ba !AE \\u00ba \\u00b9 \\u00b1\\u00bb \\u00bd p\\u00b5 \\u00bd p\\u00d0 \\u00e4\\u00b9 \\u00c7\\u00bd p\\u00bd p\\u00c2 \\u00b1\\u00be \\u00bf\\u00b9 \\u00c7\\u00be \\u00b5 \\u00c2 \\u00b1\\u00bd \\u00bb \\u00b9 \\u00de\\u00be \\u00bf\\u00b3 p\\u00ba \\u00a6\\u00bb \\u00b4\\u00be \\u00bf\\u00b3 \\u00b9 \\u00c7\\u00bd \\u00b3 \\u00b9 \\u00b1\\u00bd \\u00ce \\u00d5\\u00cb \\u00e8\\u00c0 C\\u00bb \\u00b9 \\u00de\\u00cc \\u00e9\\u00be \\u00ba n\\u00ce \\u00e4\\u00bb \\u00d2 pAE \\u00ba R\\u00c9 I\\u00bb \\u00bf\\u00b5 \\u00be \\u00bf\\u00b5 \\u00c5\\u00bd p\\u00d0 \\u00d6\\u00b9 \\u00c7\\u00be \\u00b9 \\u00c0 C\\u00c2 \\u00b1\\u00c3 \\u00ab\\u00b8 \\u00b9 \\u00b1\\u00bb \\u00bf\\u00b9 \\u00b1\\u00c8 pAE \\u00ba \\u00e2AE \\u00c5\\u00ba \\u00c4 \\u00b1\\u00ba AE D\\u00c2 \\u00b1\\u00cc $\\u00b3 d\\u00d2 \\u00c3 \\u00ab\\u00b9 \\u00b1\\u00bd wAE \\u2022\\u00b9 \\u00c7\\u00c8 \\u00c2 \\u00b1\\u00bb z\\u00b5 \\u00c5\\u00bd \\u00cb \\u00c4 j\\u00ba \\u00b6 \\u00be \\u00c3 \\u00ab\\u00ba \\u00a6\\u00bd d\\u00be \\u00db \\u00ea \\u00eb j\\u00ec \\u00b0g p I \\u00dd\\u00ed \\u00ddq \\u00b0py \\u00ec \\u00ee \\u00bd p\\u00ba \\u00c2 \\u00c7\\u00cc \\u00da\\u00be \\u00bf\\u00b3 p\\u00ba \\u00b8 \\u00bb \\u00b5 \\u00c3 \\u00d6\\u00b9 \\u00c7\\u00bb \\u00bf\\u00e1 \\u00efp\\u00bb \\u00bf\\u00c2 \\u00b1\\u00c8 AE \\u00c5\\u00ba \\u00c3 \\u00ab \\u00b6 \\u00d9\\u00be \\u00b3 8\\u00b9 \\u00de\\u00be 1\\u00f0 \\u00dd\\u00f1 5\\u00f2 \\u00f3\\u00bb \\u00ba \\u00a6\\u00cb \\u00b6 \\u00ba \\u00b9 \\u00c7\\u00bb \\u00c0 \\u00b3 p\\u00ba \\u00bb \\u00bf \\u00b6 I\\u00c9 I\\u00b3 \\u00c2 z\\u00c9 f\\u00c2 \\u00b1\\u00bb \\u00bf\\u00d3 z\\u00b5 \\u00bd \\u00bd \\u00ba \\u00a6\\u00c9 \\u00cfAE \\u2022\\u00b9 \\u00c7\\u00bd p\\u00d0 j\\u00d2 \\u00b9 \\u00c7\\u00d0 j\\u00ba \\u00b6 I\\u00c2 j\\u00bb D\\u00bd \\u00ba \\u00a6\\u00c9 \\u00d9\\u00ce \\u00c2 \\u00b1\\u00cb \\u00c3 \\u00d6\\u00b9 \\u00c7\\u00b5 \\u00bd \\u00b6 $\\u00ba \\u00bd \\u00c0 C\\u00c2 j\\u00d2 p\\u00bd d\\u00be \\u00ba \\u00bb $\\u00b5 \\u00b6 !\\u00b9 \\u00a4AE \\u2022\\u00b9 \\u00b1\\u00c0 \\u00d3 \\u00c2 \\u00c7\\u00cc @\\u00b9 \\u00c4 \\u00de\\u00b9 \\u00c7\\u00b5 AE \\u00b9 \\u00b1\\u00c8 pAE \\u00c5\\u00ba c\\u00b9 \\u00b1\\u00bd p\\u00bd p\\u00c2 \\u00b1\\u00be \\u00bf\\u00b9 \\u00de\\u00be \\u00bf\\u00ba \\u00ce \\u00ce p\\u00b9 \\u00c7\\u00be \\u00bf\\u00b9 p\\u00db \\u00f4 \\u00c2 \\u00b1AE AE \\u00ba \\u00c0 \\u00be \\u00bf\\u00b5 \\u00c5\\u00c2 j\\u00bd \\u00ab\\u00c2 \\u00c7\\u00cc 7\\u00ce p\\u00b9 \\u00de\\u00be \\u00b9 \\u00a7\\u00b5 \\u00b6 \\u00bd p\\u00ba \\u00a6\\u00b5 \\u00c5\\u00be \\u00b3 p\\u00ba \\u00bb \\u00ba \\u00b9 j \\u00b6 \\u00e1 !\\u00bd p\\u00c2 \\u00b1\\u00bb \\u00c0 \\u00b3 p\\u00ba \\u00b9 \\u00b17\\u00db \\u00b2 \\u00b4\\u00b3 p\\u00ba \\u00f5\\u00c0 \\u00a6\\u00c2 \\u00b1\\u00bd \\u00b6 \\u00be \\u00bb \\u00bf\\u00d2 \\u00c0 \\u00be \\u00bf\\u00b5 \\u00c5\\u00c2 j\\u00bd \\u00f6\\u00c2 \\u00b1\\u00cc !\\u00be \\u00bf\\u00b3 p\\u00ba \\u00f5\\u00f2 \\u00ba \\u00a6\\u00bd \\u00bd \\u00b2 G\\u00bb \\u00ba \\u00ba \\u00a6\\u00c8 \\u00b9 \\u00b1\\u00bd p\\u00d3 w \\u00b6 \\u00b5 \\u00c5\\u00d0 j\\u00bd p\\u00b5 \\u00c5\\u00f7 p\\u00cb \\u00c0 \\u00a6\\u00b9 \\u00b1\\u00bd d\\u00be AE \\u00e1 c\\u00b5 \\u00c5\\u00c3 \\u00abp\\u00bb \\u00bf\\u00c2 \\u00de\\u00c4 \\u00b1\\u00ba n\\u00ce c\\u00ba \\u00a6\\u00bb \\u00cc \\u00cd\\u00c2 \\u00b1\\u00bb \\u00bf\\u00c3 \\u00d6\\u00b9 \\u00c7\\u00bd \\u00c0 \\u00a6\\u00ba D\\u00cc \\u00cd\\u00c2 j\\u00bb @\\u00f8 \\u00bd p\\u00d0 jAE \\u00c5\\u00b5 \\u2022 \\u00b6 \\u00b3 \\u00e4 \\u00b6 \\u00e1 \\u00b6 \\u00ca\\u00be \\u00bf\\u00ba \\u00a6\\u00c3 \\u00d6 \\u00b6 \\u00ce \\u00ba n\\u00b9 \\u00c7AE \\u00b5 \\u00c5\\u00bd p\\u00d0 \\u00d9\\u00b5 \\u00c5\\u00bd \\u00d8\\u00be \\u00b3 p\\u00ba \\u00f9 \\u00ca\\u00be \\u00bb \\u00b9 \\u00b1\\u00ce p\\u00b5 \\u00be \\u00bf\\u00b5 \\u00c5\\u00c2 j\\u00bd \\u00b9 \\u00c7AE \\u2022\\u00fa \\u00bc\\u00f0 \\u00dd\\u00f1 G\\u00f2 \\u00fb\\u00ce \\u00c2 j\\u00c3 \\u00ab\\u00b9 \\u00b1\\u00b5 \\u00c5\\u00bd 8 \\u00b6 w\\u00fc \\u00cd\\u00ba \\u00d0 \\u00b8 \\u00b9 \\u00b1\\u00bb \\u00bf \\u00b6 \\u00b5 \\u00c5\\u00bd \\u00d0 \\u00e0 \\u00dd8\\u00b9 \\u00c7\\u00bb \\u00be \\u00cb \\u00fd\\u00c2 \\u00c7\\u00cc \\u00e9\\u00cb \\u00e8 \\u00b6 \\u00ba \\u00a6\\u00ba n\\u00c0 \\u00b3 \\u00be \\u00bf\\u00b9 \\u00b1\\u00d0 \\u00b1\\u00d0 \\u00b1\\u00b5 \\u00bd p\\u00d0 8\\u00e0 \\u00dd\\u00ba C\\u00be \\u00c0 \\u00fe C\\u00db \\u00d1\\u00ff \\u00dd\\u00c2 \\u00de\\u00c9 \\u00ba \\u00c4 \\u00b1\\u00ba \\u00a6\\u00bb n\\u00e0 \\u00cc \\u00cd\\u00c2 \\u00b1\\u00bb \\u00b9 \\u00bd p\\u00ba \\u00a6\\u00c9 FAE \\u2022\\u00b9 \\u00c7\\u00bd p\\u00d0 j\\u00d2 \\u00b9 \\u00c7\\u00d0 j\\u00ba \\u00b1\\u00e0 \\u00dd\\u00b9 \\u00b6 \\u00b5 \\u00c3 \\u00ab\\u00b5 \\u00c5AE \\u2022\\u00b9 \\u00c7\\u00bb \\u00e4\\u00b5 \\u00bd d\\u00c4 j\\u00ba \\u00b6 \\u00be \\u00c3 \\u00ab\\u00ba \\u00a6\\u00bd d\\u00be \\u00e4\\u00c2 \\u00c7\\u00cc 4\\u00ba \\u00a6\\u00cc \\u00e9\\u00cb \\u00cc \\u00cd\\u00c2 \\u00b1\\u00bb \\u00be I\\u00b5 \\u00c5\\u00bd \\u00e4\\u00be \\u00bf\\u00b5 \\u00c5\\u00c3 \\u00ab\\u00ba $\\u00b9 \\u00c7\\u00bd 8\\u00ce e\\u00c3 \\u00ab\\u00c2 \\u00b1\\u00bd \\u00ba \\u00a6\\u00e1 c\\u00b5 \\u2022 \\u00b6 \\u00b4\\u00c3 \\u00ab\\u00c2 j \\u00b6 \\u00be \\u00b4AE \\u00b5 \\u00d3 \\u00b1\\u00ba \\u00a6AE \\u00e1 cp\\u00bb \\u00bf\\u00c2 \\u00b1\\u00b3 \\u00b5 \\u00c5\\u00c8 p\\u00b5 \\u00c5\\u00be \\u00b5 \\u00c4 \\u00b1\\u00ba j\\u00e0 \\u00b5 \\u00c5\\u00cc &\\u00bd p\\u00c2 \\u00b1\\u00be @\\u00b5 \\u00c5\\u00c3 \\u00ab\\u00c2 j \\u00b6 \\u00bf \\u00b6 \\u00b5 \\u00c8 pAE \\u00ba \\u00b1\\u00db \\u00b9 \\u00b1\\u00c0 \\u00a6\\u00ba \\u00ce )\\u00c9 I\\u00b5 \\u00c5\\u00be \\u00b3 \\u00be \\u00b3 \\u00ba \\u00e4\\u00c0 \\u00a6\\u00c2 j \\u00b6 \\u00be \\u00bf \\u00b6 4\\u00b9 j \\u00b6 \\u00b6 \\u00c2 \\u00c0 C\\u00b5 \\u2022\\u00b9 \\u00de\\u00be \\u00bf\\u00ba \\u00ce )\\u00c9 I\\u00b5 \\u00c5\\u00be \\u00b3 \\u00e3\\u00ce p\\u00b9 \\u00de\\u00be \\u00b9 \\u00b9 \\u00b1\\u00c0 C\\u00cb \\u00a1 \\u00d2 p\\u00b5 \\u2022 \\u00b6 \\u00b5 \\u00c5\\u00be \\u00b5 \\u00c2 \\u00b1\\u00bd 7\\u00e0 \\u00bb \\u00bf\\u00b9 \\u00c7\\u00be \\u00b5 \\u00c2 \\u00b1\\u00bd \\u00b9 \\u00b1AE \\u00c5\\u00b5 \\u2022 \\u00b6 \\u00ca\\u00be \\u00b6 f\\u00c3 \\u00ab\\u00b9 \\u00e1 z\\u00b9 \\u00c7\\u00bb \\u00bf\\u00d0 \\u00b1\\u00d2 p\\u00ba '\\u00be \\u00b3 8\\u00b9 \\u00de\\u00be @\\u00b5 \\u00c5\\u00be @\\u00c9 \\u00c2 j\\u00d2 pAE \\u00ce \\u00e4\\u00c8 \\u00ba \\u00c3 \\u00ab\\u00c2 \\u00b1\\u00bb \\u00bf\\u00ba 4\\u00c0 C\\u00c2 d \\u00b6 \\u00ca\\u00be D\\u00ba \\u00a3\\u00a2 s\\u00ba \\u00c0 \\u00be \\u00bf\\u00b5 \\u00c5\\u00c4 j\\u00ba $\\u00be \\u00bf\\u00c2 e\\u00c0 C\\u00c2 j\\u00bd \\u00b6 \\u00ca\\u00be \\u00bf\\u00bb \\u00d2 8\\u00c0 \\u00be ' \\u00b6 \\u00e1 \\u00b6 \\u00ca\\u00be \\u00bf\\u00ba \\u00a6\\u00c3 \\u00d6 \\u00b6 @\\u00c2 \\u00b1\\u00cc \\u00b3 \\u00b9 \\u00c7\\u00bd 8\\u00ce \\u00d5\\u00cb \\u00c0 C\\u00c2 \\u00ce \\u00ba n\\u00ce \\u00ab\\u00bb \\u00d2 AE \\u00c5\\u00ba @AE \\u00b5 \\u2022 \\u00b6 \\u00ca\\u00be \\u00b6 H\\u00be \\u00b3 8\\u00b9 \\u00de\\u00be f\\u00c0 \\u00b9 \\u00c7\\u00be \\u00bf\\u00d2 p\\u00bb \\u00bf\\u00ba \\u00b4\\u00be \\u00b3 p\\u00ba DAE \\u00c5\\u00b5 \\u00bd p\\u00d0 \\u00b1\\u00d2 \\u00b5 \\u00b6 \\u00be \\u00b5 \\u2022\\u00c0 @\\u00c0 \\u00b3 \\u00b9 \\u00b1\\u00bb \\u00bf\\u00b9 j\\u00c0 \\u00cb \\u00be \\u00ba \\u00bb \\u00b5 \\u2022 \\u00b6 \\u00be \\u00b5 \\u2022\\u00c0 \\u00a6 \\u00b6 H\\u00c2 \\u00b1\\u00cc \\u00be \\u00bf\\u00b3 p\\u00ba I\\u00be \\u00b9 \\u00b1 \\u00b6 \\u00d3 !\\u00b9 \\u00de\\u00be \\u00b3 8\\u00b9 \\u00c7\\u00bd \\u00ce \\u00e0 d\\u00bb \\u00b9 \\u00de\\u00be \\u00b3 \\u00ba \\u00a6\\u00bb \\u00be \\u00b3 8\\u00b9 \\u00c7\\u00bd c \\u00b6 8\\u00ba \\u00bd \\u00ce \\u00b5 \\u00bd p\\u00d0 \\u00c0 C\\u00c2 j\\u00c3 \\u00ab\\u00b8 \\u00b9 \\u00c7\\u00bb \\u00b9 \\u00c7\\u00c8 pAE \\u00ba $\\u00ba \\u00a4\\u00a2 \\u00c2 j\\u00bb \\u00be D\\u00b9 \\u00b1\\u00bd p\\u00bd p\\u00c2 \\u00b1\\u00be \\u00bf\\u00b9 \\u00de\\u00be \\u00bf\\u00b5 \\u00c5\\u00bd \\u00d0 z\\u00ce p\\u00b9 \\u00c7\\u00be \\u00bf\\u00b9 c\\u00b9 \\u00b1\\u00bd \\u00ce \\u00a4\\u00ba C\\u00e5 \\u00ba \\u00c0 C\\u00be \\u00b5 \\u00bd p\\u00d0 \\u00be \\u00b3 \\u00ba \\u00ab \\u00b6 \\u00bf\\u00b9 \\u00c7\\u00c3 \\u00ab\\u00ba \\u00ab\\u00d3 \\u00d5\\u00bd p\\u00c2 \\u00de\\u00c9 IAE \\u00ba \\u00ce \\u00d0 j\\u00ba $\\u00be \\u00c2 \\u00c8 \\u00ba c\\u00b9 \\u00b1\\u00c0 \\u00a1 \\u00d2 \\u00b5 \\u00c5\\u00bb \\u00bf\\u00ba \\u00ce \\u00b5 \\u00c5\\u00bd \\u00ce p\\u00b5 \\u00c5\\u00bb \\u00bf\\u00ba \\u00c0 C\\u00be AE \\u00e1 \\u00e2\\u00c8 \\u00d5\\u00e1 \\u00b9 z\\u00c3 \\u00ab\\u00b9 j\\u00c0 \\u00b3 p\\u00b5 \\u00bd p\\u00ba !AE \\u00ba \\u00b9 \\u00b1\\u00bb \\u00bd \\u00b5 \\u00c5\\u00bd p\\u00d0 \\u00b6 \\u00e1 \\u00d5 \\u00b6 \\u00be \\u00ba \\u00c3 \\u00db !\\u00b2 \\u00b4\\u00b3 p\\u00ba \\u00a1 \\u00d2 p\\u00ba \\u00b6 \\u00be \\u00b5 \\u00c2 \\u00b1\\u00bd \\u00c9 \\u00ba \\u00ab\\u00b9 \\u00c7\\u00bb \\u00bf\\u00ba \\u00be \\u00bb \\u00bf\\u00e1 \\u00d5\\u00b5 \\u00c5\\u00bd \\u00d0 D\\u00be \\u00bf\\u00c2 $\\u00b9 \\u00b1\\u00ce p\\u00ce p\\u00bb \\u00ba n \\u00b6 \\u00b6 &\\u00be \\u00bf\\u00b3 p\\u00ba \\u00a6\\u00bd \\u00d6\\u00b5 \\u2022 \\u00b6 \\u00a6\\u00d4 5\\u00cc \\u00cd\\u00c2 \\u00b1\\u00bb x\\u00b9 '\\u00d0 j\\u00b5 \\u00c5\\u00c4 j\\u00ba \\u00a6\\u00bd \\u00ab\\u00c0 C\\u00c2 j \\u00b6 \\u00be x\\u00b9 \\u00b1 \\u00b6 \\u00bf \\u00b6 \\u00d2 p\\u00c3 \\u00ab\\u00cb \\u00be \\u00b5 \\u00c2 \\u00b1\\u00bd 5\\u00e0 d\\u00c9 I\\u00b3 \\u00b5 \\u00c0 \\u00b3 e\\u00b9 \\u00b1pp\\u00bb \\u00bf\\u00c2 j\\u00b9 j\\u00c0 \\u00b3 \\u00d6\\u00c9 \\u00c2 j\\u00d2 pAE \\u00ce c\\u00c8 8\\u00ba \\u00dd\\u00be \\u00b3 p\\u00ba '\\u00c3 \\u00ab\\u00c2 j \\u00b6 \\u00be \\u00ba \\u00a3\\u00a2 s\\u00ba \\u00c0 C\\u00be \\u00b5 \\u00c4 \\u00b1\\u00ba j\\u00db \\u00a5 AE \\u00c5\\u00be \\u00b3 p\\u00c2 j\\u00d2 p\\u00d0 \\u00b1\\u00b3 \\u00a4AE \\u00ba \\u00b9 \\u00b1\\u00bb \\u00bd p\\u00b5 \\u00bd p\\u00d0 \\u00d6\\u00c0 C\\u00d2 \\u00bb \\u00c4 j\\u00ba \\u00b6 @ \\u00b6 \\u00b3 p\\u00c2 \\u00de\\u00c9 I\\u00b5 \\u00bd p\\u00d0 \\u00ab8\\u00ba \\u00bb \\u00cc \\u00cd\\u00c2 j\\u00bb \\u00c3 \\u00d6\\u00b9 \\u00c7\\u00bd 8\\u00c0 C\\u00ba \\u00bb \\u00bf\\u00ba \\u00a6AE \\u2022\\u00b9 \\u00de\\u00be \\u00b5 \\u00c4 \\u00b1\\u00ba c\\u00be \\u00c2 \\u00b9 \\u00b1\\u00c3 \\u00ab\\u00c2 \\u00b1\\u00d2 p\\u00bd d\\u00be 4\\u00c2 \\u00b1\\u00cc I\\u00be \\u00bb \\u00b9 \\u00c7\\u00b5 \\u00bd p\\u00b5 \\u00c5\\u00bd \\u00d0 \\u00ce p\\u00b9 \\u00de\\u00be \\u00b9 \\u00b9 \\u00b1\\u00bb \\u00ba e\\u00c0 \\u00a6\\u00c2 \\u00b1\\u00c3 \\u00ab\\u00c3 \\u00ab\\u00c2 \\u00b1\\u00bd \\u00a9 \\u00ab\\u00aa D\\u00ac 2\\u00ae \\u00b0 k\\u00b1 \\u00b1 \\u00b2\\u00ac k\\u00b3 \\u00b0\\u00b1 k\\u03bc \\u00ab \\u00b6 &\\u2022 x\\u00b9 \\u00b9 U\\u00ba \\u00ab\\u00bb D\\u00bc 6\\u00bd \\u00be \\u00bf\\u00bb k\\u00c0 \\u00c1 &\\u00c2 \\u00c0 6\\u00be \\u00c3\\u00bb k\\u00bc \\u00b0\\u00bd \\u00be \\u00bf\\u00bb k\\u00c0 \\u00b0\\u00c1 \\u00c2 \\u00c0 \\u00c4 AE\\u00c5 \\u00a9 \\u00c8\\u00c7 @\\u00ae \\u00b0\\u00b1 2\\u00c9 \\u00ca\\u00ae \\u00b0\\u00b1 k 2\\u00c9 \\u00cb\\u00b1 \\u00cc &\\u00cd \\u00b2\\u00ce \\u00ac \\u00b0\\u00cf \\u00d0 &\\u00d1 S\\u00c7 \\u00ae \\u00b0\\u00b1 k 2\\u00c9 AE\\u00ae \\u00b0\\u00b1 2\\u00c9 $\\u00d0 \\u00a7\\u00c7 G\\u00b1 \\u00cc 2\\u00cd \\u00ca\\u00ce k\\u00ac \\u00b0\\u00cf \\u00d0 \\u00b5 \\u00d2 \\u00bb k\\u00c0 \\u00d3 \\u00d4 k\\u00d5 \\u00b0\\u00d6 &\\u00c0 \\u00aa \\u00be \\u00b2\\u00c5 \\u00b2\\u00b5 \\u00c3 \\u00b6 \\u00bd \\u00bd \\u00bf\\u00d4 \\u00d6 &\\u00d7 \\u00d8 \\u00b0 \\u00b6 2\\u00d9 AE\\u00da \\u00b2\\u00c5 \\u00b5 \\u00d2 \\u00c0 \\u00b0\\u00c1 D\\u00d4 \\u00b6 D\\u00bb D\\u00bc 6\\u00bd D\\u00c4 AE\\u00c5 \\u00ab\\u00b5 \\u00bf\\u00d4 \\u00b0\\u00d6 &\\u00d7 \\u00d8 \\u00b0 \\u00b6 &\\u00d9 \\u00ca\\u00da AE\\u00c5 \\u00a9 \\u00b2 &\\u00ae \\u00b0\\u00db 2\\u00b3 \\u00cd \\u00cb\\u00dc k\\u00dd \\u00c8\\u00c7 G 2\\u00de AE\\u00db &\\u00b3 \\u00de 6\\u00df D6\\u00d0 \\u00c3k\\u00d1 \\u00c8\\u00c7 G 2\\u00ae \\u00b0\\u00db &\\u00b3 \\u00cd AE\\u00dc k\\u00dd \\u00ca &\\u00de \\u00cb\\u00db 2\\u00b3 \\u00de 6\\u00df 26\\u00d0 \\u00b5 \\u00c7 \\u00c1 \\u00de \\u00b0\\u00b1 D\\u00e0 \\u00e2\\u00e1 E\\u00db 2\\u00de \\u00b0\\u00b1 D\\u00e0 \\u00e2\\u00e1 \\u00bb \\u00ae \\u00b0\\u00db 2\\u00b3 \\u00cd \\u00e1 @ 2\\u00ae \\u00b0\\u00db 2\\u00b3 \\u00cd \\u00d0 \\u00b6 f\\u00b9 \\u00b9 `\\u00ba \\u00a7 \\u00b6 \\u00c7 G\\u00e3 \\u00dc x\\u00e1 I\\u00a9 6\\u00d0 \\u00b9 \\u00b9 U\\u00ba \\u00e3 \\u00b6 D\\u00e4 D\\u00bc x\\u00b9 \\u00b9 `\\u00c4 \\u00e5\\u00d2 \\u00bb k\\u00c0 \\u00d3 \\u00d4 D\\u00d5 6\\u00d6 &\\u00c0 \\u00aa \\u00c4 \\u00b2\\u00da \\u00b2\\u00c5 \\u00b5 \\u00ab \\u00b6 &\\u2022 \\u2022 x\\u00b9 \\u00b9 U\\u00be \\u00b2 \\u00b6 \\u00c7 ae \\u00bc \\u00d4 \\u00e1 \\u00bd \\u00bd \\u00d0 \\u00b9 k\\u00b9 U\\u00ba AE \\u00b6 \\u00c7 \\u00bc \\u00d4 \\u00e1 Cae \\u2022 ae \\u00b0\\u00e3 \\u00dc 5\\u00e1 ae \\u00c1 \\u00e7 \\u00d0 \\u00bb k\\u00bc 6\\u00bd k\\u00be \\u00e3 \\u00b6 &\\u2022 x\\u00b9 \\u00b9 U\\u00ba \\u00e9\\u00e8 \\u00d8 \\u2022 \\u00b0\\u00ba \\u00ea\\u00d2 \\u00bb k\\u00c0 \\u00d3 \\u00d4 D\\u00d5 6\\u00d6 &\\u00c0 \\u00aa \\u00c4 \\u00b2\\u00da \\u00ca\\u00c5 \\u00a9 \\u00c8\\u00c7 \\u00ae \\u00b0\\u00db D\\u00e0 \\u00a3\\u00d0 \\u00d1 \\u00c8\\u00c7 \\u00cd D\\u00c9 \\u00b0 D\\u00cd \\u00b2\\u00ae \\u00b0\\u00db D\\u00e0 \\u00cb\\u00d0 \\u00d2 \\u00c7 \\u00d4 \\u00c9 \\u00b0 D\\u00cd \\u00e2\\u00e1 \\u00cd k\\u00c9 \\u00b0 D\\u00cd \\u00d0 \\u00b6 \\u00b6 2\\u00bc \\u00d4 \\u00a3\\u00b5 \\u00c3\\u00bb k\\u00c0 \\u00d3 \\u00d4 k\\u00d5 6\\u00d6 &\\u00c0 \\u00aa \\u00c4 AE\\u00c5 \\u00bf\\u00da \\u00a9 \\u00c8\\u00c7 \\u00eb 2\\u00ae \\u00b0\\u00db 2\\u00b3 \\u00cd \\u00ab\\u00ec \\u00ee\\u00ed &\\u00ef \\u00f0 \\u00cb\\u00d0 \\u00b5 \\u00c7 U\\u00db 2\\u00de \\u00b0\\u00b1 D\\u00e0 \\u00e2\\u00e1 E 2\\u00ae \\u00b0\\u00db 2\\u00b3 \\u00cd 6\\u00d0 \\u00b6 f\\u00b9 \\u00b9 U\\u00ba \\u00c7 G\\u00e3 \\u00dc 5\\u00e1 E\\u00a9 6\\u00d0 \\u00b6 f\\u00b9 k\\u00b9 U\\u00ba AE \\u00b6 k\\u00e4 D\\u00bc x\\u00b9 \\u00b9 \\u00c4 \\u00ca\\u00c5 \\u00b5 \\u00d2 \\u00bb k\\u00c0 \\u00d3 \\u00d4 k\\u00d5 \\u00b0\\u00d6 &\\u00c0 \\u00aa \\u00c4 \\u00f1\\u00d2 `\\u00ba \\u00bf\\u00bb k\\u00c0 \\u00d3 \\u00d4 k\\u00d5 \\u00b0\\u00d6 &\\u00c0 \\u00aa \\u00be \\u00c3\\u00da \\u00ba \\u00bf\\u00da \\u00ca \\u00b6 2\\u00f2 \\u2022 \\u00b8\\u00f3\\u00e3 \\u00d2 \\u00bb k\\u00c0 \\u00d3 \\u00d4 D\\u00d5 6\\u00d6 &\\u00c0 \\u00aa \\u00c4 \\u00b2\\u00da \\u00f3 \\u00b6 \\u00af\\u2022 \\u2022 k\\u00b8\\u00af\\u00d2 \\u00bb k\\u00c0 k\\u00d3 \\u00d4 k\\u00d5 6\\u00d6 &\\u00c0 \\u00aa \\u00c4 \\u00b2\\u00da AE\\u00c5 \\u00a9 \\u00bfae \\u00ac \\u00db 2\\u00de \\u00b0\\u00db 2\\u00b3 k\\u00de 6\\u00cc \\u00ca D\\u00ac \\u00bf\\u00b3 \\u00b0\\u00cc &\\u00b3 \\u00b0 \\u00b1 \\u00b1 2\\u00e0 \\u00b2\\u00ae \\u00b0 \\u00cc D\\u00b4\\u00c0 ae 6\\u00cc \\u00b5 \\u00ab \\u00b6 &\\u00bc \\u00d4 5\\u00b9 \\u00b9 U\\u00ba \\u00ca \\u00b6 ae \\u2022 ae \\u00c5 \\u00a9 \\u00c8\\u00f4 k\\u00f4 G 2\\u00de \\u00f5 \\u00f6 k\\u00f6 \\u00f7\\u00b3 6\\u00cc &\\u00b3 \\u00b0 \\u00b1 k\\u00b1 D\\u00e0 \\u00f8\\u00cf \\u00cc &\\u00de 5\\u00f6 \\u00cd \\u00cb\\u00cf &\\u00de \\u00cb \\u00bf\\u00ae \\u00cc D\\u00b4\\u00c0 ae \\u00b5 \\u00d2 \\u00b6 \\u00e3 \\u00e7 k\\u00c4 \\u00b9 k\\u00b9 `\\u00c4 \\u00b2\\u00da \\u00c7 G &\\u00de \\u00f5 \\u00e2\\u00e1 I\\u00f9 \\u00d0 \\u00b6 \\u00ea\\u00d2 \\u00f7 \\u00b6 \\u00e3 \\u00e7 k\\u00c4 f\\u00b9 \\u00b9 `\\u00c4 \\u00b2\\u00da \\u00ca\\u00c5 \\u00a9 \\u00fa \\u00db D\\u00ac \\u00cb\\u00cc \\u00cf &\\u00de \\u00fb \\u00b1 k\\u1e31\\u00cd \\u00db &\\u00de \\u00ca\\u00ae \\u00b0 \\u00cc D\\u00b4\\u00c0 ae 6\\u00cc \\u00b5 \\u00ab \\u00b6 \\u00c7 \\u00bc \\u00d4 \\u00e1 \\u00d8 \\u00fc \\u00e1 \\u00d9 ae c\\u00e1 \\u00d9 \\u00bc \\u00d4 \\u00d0 \\u00c5 \\u00bf\\u00e8 \\u00d8 \\u2022 k\\u00a9 \\u00ca\\u00cc D\\u00db z\\u00fa \\u00ab\\u00de \\u00b3 2\\u00fa \\u00ae \\u1e31\\u00ac \\u00b0\\u00cc \\u00ab 2\\u00ac \\u01fc\\u00cc \\u00cf &\\u00de \\u00fb \\u00b1 k\\u1e31\\u00cd \\u00db &\\u00de \\u00cb\\u00ae \\u00cc D\\u00b4\\u00c0 ae \\u00b0\\u00cc \\u00b5 \\u00d2 \\u00bb k\\u00c0 \\u00d3 \\u00d4 k\\u00d5 \\u00b0\\u00d6 &\\u00c0 \\u00aa \\u00da \\u00ea\\u00d2 \\u00b6 k\\u00e4 D\\u00bc \\u00ca\\u00da \\u00b2\\u00c5 \\u00a9 \\u00c8\\u00c7 \\u00fd\\u00fa \\u00b0\\u00b3 6\\u00df &\\u00c9 \\u00b0\\u00ef\"],[\"\"],[\"\"],[\"Automatic Labeling of Semantic Roles\"],[\"Good Spelling of Vietnamese Texts, one aspect of computational linguistics in Vietnam\"]],\"hovertemplate\":\"year=2000<br>x1=%{x}<br>x2=%{y}<br>hover_data_0=%{customdata[0]}<extra></extra>\",\"legendgroup\":\"2000\",\"marker\":{\"color\":\"#636efa\",\"symbol\":\"circle\"},\"mode\":\"markers\",\"name\":\"2000\",\"orientation\":\"v\",\"showlegend\":true,\"x\":[0.003966827876865864,-0.016327425837516785,-0.005622243508696556,0.0056527224369347095,-0.0062880446203053,-0.0008107168832793832,0.006945241242647171,-0.006401863414794207,-0.005482631269842386,0.01222898904234171,-0.00048337981570512056,-0.0009878118289634585,0.002861443907022476,0.0010125167900696397,-0.0031911777332425117,-0.00017419643700122833,0.012376529164612293,-0.0023624186869710684,0.003934440668672323,-0.005121211055666208,-0.0058471038937568665,0.0020860822405666113,0.01620311103761196,0.007698511239141226,0.0017973972717300057,0.0020670020021498203,-0.005950485356152058,-0.007824049331247807,0.0009878254495561123,-0.002745256060734391,-0.00013769353972747922,0.0070967222563922405,0.002362673170864582,-0.008130356669425964,0.0076268441043794155,0.0043361010029911995,0.008796066045761108,-0.0004469615814741701,-0.001958058914169669,0.008289771154522896,0.011112270876765251,0.0025678053498268127,-0.008942866697907448,0.0009881688747555017,-0.0037320288829505444,0.0036751916632056236,0.008676703087985516,0.010284369811415672,0.008583328686654568,-0.003227963810786605,0.004845901858061552,0.010488027706742287,-0.007973821833729744,-0.0019257713574916124,0.00708397151902318,-0.0005641176830977201,-0.014729027636349201,-0.002984239486977458,-0.0032926718704402447,0.0016081110807135701,0.011872747913002968,0.003129189135506749,-0.0017530897166579962,0.010664070956408978,0.011130059137940407,0.008456569164991379,0.0048281424678862095,-0.006068199872970581,0.005642568692564964,-0.007454080507159233,0.002298124134540558,-0.0017010780284181237,0.005441082175821066,0.0018226616084575653,0.00741482013836503,0.007450893521308899,0.006058154162019491,0.004619722254574299,-0.0008440173696726561,0.0016543054953217506],\"xaxis\":\"x\",\"y\":[-0.0031591556034982204,0.0072510624304413795,0.0033892279025167227,-0.0050819129683077335,-0.003818011377006769,0.0008733886643312871,0.008719182573258877,0.0062359534204006195,0.0010381261818110943,0.0016268071485683322,0.010419982485473156,-0.0036143821198493242,0.003748350078240037,-0.004334350116550922,0.017948517575860023,-0.01823093369603157,-0.0031521201599389315,0.004300233442336321,-0.007047334220260382,0.0007046437240205705,-0.004712479189038277,0.00527957221493125,0.0040984987281262875,-0.0027701074723154306,-0.0071381498128175735,-0.0067261806689202785,0.00955505296587944,-0.005831894464790821,-0.011034958995878696,-0.004162535537034273,-0.010768466629087925,-0.0011510805925354362,0.007354616187512875,0.008722706697881222,0.0009191347635351121,-0.00014374381862580776,0.011633400805294514,-0.005785495974123478,-0.008700598031282425,-0.0018627020763233304,0.007963927462697029,0.0001708415657049045,0.0005123654846101999,0.015994278714060783,0.0069563668221235275,0.008213202469050884,-0.004976280964910984,0.0067578451707959175,0.007066350895911455,-0.018742365762591362,-0.002409460721537471,-0.011770686134696007,-0.00223961821757257,0.002450080355629325,0.009178776293992996,0.005004283040761948,0.0014203020837157965,0.0027432048227638006,0.002743280027061701,0.005409543868154287,-0.002816616091877222,0.015277329832315445,-0.01463938970118761,-0.010630084201693535,-0.003121189307421446,0.0005313593428581953,-0.0011996766552329063,-0.005171284079551697,0.0064702024683356285,-0.01090245507657528,0.007073270156979561,0.0027549199294298887,-0.002937170909717679,-0.011967554688453674,-0.003951747436076403,0.01170183252543211,0.0018006789032369852,0.005978265777230263,0.005607665982097387,-0.00868198461830616],\"yaxis\":\"y\",\"type\":\"scatter\"},{\"customdata\":[[\"Syntactic and Semantic Factors in Processing Difficulty: An Integrated Measure\"],[\"Decision detection using hierarchical graphical models\"],[\"Open Information Extraction using Wikipedia\"],[\"\\\"Was it good? It was provocative.\\\" Learning the meaning of scalar adjectives\"],[\"Online Generation of Locality Sensitive Hash Signatures\"],[\"Coreference Resolution with Reconcile\"],[\"Improved Unsupervised POS Induction through Prototype Discovery\"],[\"Edit Tree Distance alignments for Semantic Role Labelling\"],[\"Constituency to Dependency Translation with Forests\"],[\"GernEdiT: A Graphical Tool for GermaNet Development\"],[\"Generating image descriptions using dependency relational patterns\"],[\"Importance of linguistic constraints in statistical dependency parsing\"],[\"Cross-Language Text Classification using Structural Correspondence Learning\"],[\"A Structured Model for Joint Learning of Argument Roles and Predicate Senses\"],[\"\\\"Ask not what Textual Entailment can do for You...\\\"\"],[\"Identifying Non-explicit Citing Sentences for Citation-based Summarization\"],[\"Semantics-Driven Shallow Parsing for Chinese Semantic Role Labeling\"],[\"Event-based Hyperspace Analogue to Language for Query Expansion\"],[\"\"],[\"Importance-Driven Turn-Bidding for Spoken Dialogue Systems\"],[\"Learning Script Knowledge with Web Experiments\"],[\"Learning Phrase-Based Spelling Error Models from Clickthrough Data\"],[\"Supervised Noun Phrase Coreference Research: The First Fifteen Years\"],[\"Topic Models for Word Sense Disambiguation and Token-based Idiom Detection\"],[\"Tree-Based Deterministic Dependency Parsing -An Application to Nivre's Method\"],[\"SystemT: An Algebraic Approach to Declarative Information Extraction\"],[\"Now, where was I? Resumption strategies for an in-vehicle dialogue system\"],[\"\"],[\"Modeling Norms of Turn-Taking in Multi-Party Conversation\"],[\"Top-Down K-Best A * Parsing\"],[\"Joint Syntactic and Semantic Parsing of Chinese\"],[\"Efficient Inference Through Cascades of Weighted Tree Transducers\"],[\"Unsupervised Event Coreference Resolution with Rich Linguistic Features\"],[\"It Makes Sense: A Wide-Coverage Word Sense Disambiguation System for Free Text\"],[\"Preferences versus Adaptation during Referring Expression Generation\"],[\"Beyond NomBank: A Study of Implicit Arguments for Nominal Predicates\"],[\"A Statistical Model for Lost Language Decipherment\"],[\"Exemplar-Based Models for Word Meaning In Context\"],[\"The Same-head Heuristic for Coreference\"],[\"Sentiment Translation through Lexicon Induction\"],[\"\"],[\"Fixed Length Word Suffix for Factored Statistical Machine Translation\"],[\"Hard Constraints for Grammatical Function Labelling\"],[\"Estimating Strictly Piecewise Distributions\"],[\"Mood Patterns and Affective Lexicon Access in Weblogs\"],[\"Models of Metaphor in NLP\"],[\"SVD and Clustering for Unsupervised POS Tagging\"],[\"Plot Induction and Evolutionary Search for Story Generation\"],[\"Complexity assumptions in ontology verbalisation\"],[\"Wikipedia as Sense Inventory to Improve Diversity in Web Search Results\"],[\"Don't 'have a clue'? Unsupervised co-learning of downward-entailing operators\"],[\"Boosting-based System Combination for Machine Translation\"],[\"WSD as a Distributed Constraint Optimization Problem\"],[\"On Jointly Recognizing and Aligning Bilingual Named Entities\"],[\"Learning to Adapt to Unknown Users: Referring Expression Generation in Spoken Dialogue Systems\"],[\"Tree-based and Forest-based Translation\"],[\"Using Speech to Reply to SMS Messages While Driving: An In-Car Simulator User Study\"],[\"Wrapping up a Summary: from Representation to Generation\"],[\"Generating Fine-Grained Reviews of Songs From Album Reviews\"],[\"Unsupervised Discourse Segmentation of Documents with Inherently Parallel Structure\"],[\"Detecting Errors in Automatically-Parsed Dependency Relations\"],[\"BabelNet: Building a Very Large Multilingual Semantic Network\"],[\"Non-Cooperation in Dialogue\"],[\"A Semi-Supervised Key Phrase Extraction Approach: Learning from Title Phrases through a Document Semantic Network\"],[\"Sentiment Learning on Product Reviews via Sentiment Ontology Tree\"],[\"Paraphrase Lattice for Statistical Machine Translation\"],[\"Towards Relational POMDPs for Adaptive Dialogue Management\"],[\"Growing Related Words from Seed via User Behaviors: A Re-ranking Based Approach\"],[\"Evaluating Multilanguage-Comparability of Subjectivity Analysis Systems\"],[\"Diversify and Combine: Improving Word Alignment for Machine Translation on Low-Resource Languages\"],[\"Faster Parsing by Supertagger Adaptation\"],[\"Open-Domain Semantic Role Labeling by Modeling Word Spans\"],[\"A Unified Graph Model for Sentence-based Opinion Retrieval\"],[\"Fine-grained Tree-to-String Translation Rule Extraction\"],[\"\"],[\"Learning Word-Class Lattices for Definition and Hypernym Extraction\"],[\"TrustRank: Inducing Trust in Automatic Translations via Ranking\"],[\"Automatically generating annotator rationales to improve sentiment classification\"],[\"Towards robust multi-tool tagging. An OWL/DL-based approach\"],[\"Incorporating Extra-linguistic Information into Reference Resolution in Collaborative Task Dialogue\"]],\"hovertemplate\":\"year=2010<br>x1=%{x}<br>x2=%{y}<br>hover_data_0=%{customdata[0]}<extra></extra>\",\"legendgroup\":\"2010\",\"marker\":{\"color\":\"#EF553B\",\"symbol\":\"circle\"},\"mode\":\"markers\",\"name\":\"2010\",\"orientation\":\"v\",\"showlegend\":true,\"x\":[0.01863553747534752,0.007407665718346834,0.005784962791949511,0.011885242536664009,0.0013128516729921103,0.006015411578118801,-0.009962637908756733,0.0020620333962142467,0.007480380591005087,-0.005770090967416763,0.0047162557020783424,-0.012431384064257145,-0.007164031732827425,0.008422928862273693,-0.004795662127435207,-0.004576520528644323,0.012276125140488148,-0.014240117743611336,-0.006481626071035862,-0.0004234666412230581,-0.01250959001481533,-0.0020708804950118065,-0.003298771334812045,0.013213273137807846,-0.013637460768222809,0.0011768193216994405,-0.01065351814031601,0.002166623715311289,-0.011649801395833492,0.006150893867015839,0.007928279228508472,-0.003759701270610094,-0.0003816899552475661,-0.0024335463531315327,-0.008414381183683872,-0.0027940256986767054,-0.003165466245263815,0.0034602140076458454,0.0016067586839199066,0.017610197886824608,-0.0088184904307127,-0.01596936024725437,0.00013766999472863972,-0.002694289665669203,0.0034036929719150066,0.011738602072000504,0.010687852278351784,-0.009664727374911308,-0.007170515134930611,0.002193870721384883,-0.006150084547698498,-0.007528525311499834,0.002965457271784544,0.009637297131121159,-0.009377187117934227,0.01756584830582142,0.003820080077275634,-0.011372755281627178,-0.007161324843764305,-0.004525737836956978,0.004160450771450996,-0.0023856484331190586,-0.0021538794972002506,0.010297326371073723,-0.0013082762015983462,-0.018872423097491264,0.012272778898477554,0.01988132670521736,0.0051792035810649395,0.0025162911042571068,-0.006732250563800335,0.003936152905225754,0.008680418133735657,-0.005325200967490673,0.004661630839109421,-0.005659888964146376,0.006769121624529362,0.013266176916658878,-0.003833166556432843,0.00470272870734334],\"xaxis\":\"x\",\"y\":[-0.002597180427983403,-0.00427135918289423,0.001921480637975037,-0.005478065926581621,0.0002997001865878701,-0.005120750982314348,0.005875302013009787,-0.014192279428243637,0.019095532596111298,0.002469657687470317,-0.015017946250736713,-0.004892389755696058,-0.014440780505537987,-0.004016082733869553,-0.009852880612015724,-0.005940983071923256,-0.012818245217204094,0.0026436136104166508,-0.0010755900293588638,0.011292638257145882,-0.001334438449703157,0.0013562020612880588,0.010583481751382351,-0.0020580028649419546,-0.01575149968266487,0.008428103290498257,-0.012145785614848137,0.011564508080482483,0.005524749401956797,1.727025846776087e-05,-0.006417344324290752,-0.007763986941426992,0.003734108991920948,-0.01145742554217577,-0.01625566929578781,-0.010224217548966408,0.004580720793455839,-0.01779550313949585,-0.005630081053823233,0.0013489677803590894,-0.004804769065231085,0.006783103570342064,-0.006921903695911169,3.380175257916562e-05,0.007967445068061352,-0.0012305384734645486,0.010940040461719036,-0.003817020682618022,0.005581717938184738,0.0019893122371286154,0.0031273190397769213,0.0011477555381134152,-0.007805759087204933,-0.010649983771145344,0.004866834729909897,0.002388677094131708,-0.00763615733012557,-0.0013841831823810935,-0.000280551117612049,0.000733599066734314,-0.009840697981417179,0.009314791299402714,-0.010469693690538406,-0.006124080624431372,0.0004998996737413108,-0.003508497728034854,-0.004356500692665577,0.0017085489816963673,0.004522679373621941,8.28003030619584e-05,0.004045369569212198,-0.002732838038355112,0.004936551209539175,0.007802982814610004,-0.0019823084585368633,0.01530950702726841,-0.005029329564422369,0.00015621141938026994,0.01183388289064169,-0.00016173919721040875],\"yaxis\":\"y\",\"type\":\"scatter\"},{\"customdata\":[[\"Like a Baby: Visually Situated Neural Language Acquisition\"],[\"Inter-sentence Relation Extraction with Document-level Graph Convolutional Neural Network\"],[\"Finding Your Voice: The Linguistic Development of Mental Health Counselors\"],[\"Generating Fluent Adversarial Examples for Natural Languages\"],[\"Exploiting Invertible Decoders for Unsupervised Sentence Representation Learning\"],[\"Unsupervised Information Extraction: Regularizing Discriminative Approaches with Relation Distribution Losses\"],[\"Determining Relative Argument Specificity and Stance for Complex Argumentative Structures\"],[\"Robust Neural Machine Translation with Doubly Adversarial Inputs\"],[\"Coreference Resolution with Entity Equalization\"],[\"Multiple Character Embeddings for Chinese Word Segmentation\"],[\"Microsoft ICECAPS: An Open-Source Toolkit for Conversation Modeling\"],[\"Cost-sensitive Regularization for Label Confusion-aware Event Detection\"],[\"Neural Aspect and Opinion Term Extraction with Mined Rules as Weak Supervision\"],[\"Domain Adaptive Inference for Neural Machine Translation\"],[\"Cross-Domain NER using Cross-Domain Language Modeling\"],[\"Shared-Private Bilingual Word Embeddings for Neural Machine Translation\"],[\"Emotion-Cause Pair Extraction: A New Task to Emotion Analysis in Texts\"],[\"Multi-Relational Script Learning for Discourse Relations\"],[\"Multimodal and Multi-view Models for Emotion Recognition\"],[\"Open-Domain Why-Question Answering with Adversarial Learning to Encode Answer Texts\"],[\"Global Textual Relation Embedding for Relational Understanding\"],[\"Multi-Style Generative Reading Comprehension\"],[\"Syntactically Supervised Transformers for Faster Neural Machine Translation\"],[\"Multilingual Factor Analysis\"],[\"Multimodal Abstractive Summarization for How2 Videos\"],[\"Exploring Phoneme-Level Speech Representations for End-to-End Speech Translation\"],[\"Heuristic Authorship Obfuscation\"],[\"A Neural Multi-digraph Model for Chinese NER with Gazetteers\"],[\"Joint Effects of Context and User History for Predicting Online Conversation Re-entries\"],[\"Dialogue-Act Prediction of Future Responses based on Conversation History\"],[\"Predicting the Outcome of Deliberative Democracy: A Research Proposal\"],[\"SARAL: A Low-Resource Cross-Lingual Domain-Focused Information Retrieval System for Effective Rapid Document Triage\"],[\"Distilling Discrimination and Generalization Knowledge for Event Detection via \\u2206-Representation Learning\"],[\"Self-Attentional Models for Lattice Inputs\"],[\"Ensuring Readability and Data-fidelity using Head-modifier Templates in Deep Type Description Generation\"],[\"Towards Integration of Statistical Hypothesis Tests into Deep Neural Networks\"],[\"Latent Variable Sentiment Grammar *\"],[\"Deep Neural Model Inspection and Comparison via Functional Neuron Pathways\"],[\"Reversing Gradients in Adversarial Domain Adaptation for Question Deduplication and Textual Entailment Tasks\"],[\"Towards incremental learning of word embeddings using context informativeness\"],[\"Searching for Effective Neural Extractive Summarization: What Works and What's Next\"],[\"Leveraging Local and Global Patterns for Self-Attention Networks\"],[\"Topic Sensitive Attention on Generic Corpora Corrects Sense Bias in Pretrained Embeddings\"],[\"Interpretable Neural Predictions with Differentiable Binary Variables\"],[\"Fine-Grained Temporal Relation Extraction\"],[\"Pre-Learning Environment Representations for Data-Efficient Neural Instruction Following\"],[\"Cross-Sentence Grammatical Error Correction\"],[\"Learning Representations from Imperfect Time Series Data via Tensor Rank Regularization\"],[\"Syntax-Infused Variational Autoencoder for Text Generation\"],[\"Lattice Transformer for Speech Translation\"],[\"Uncovering Probabilistic Implications in Typological Knowledge Bases\"],[\"Numeracy-600K: Learning Numeracy for Detecting Exaggerated Information in Market Comments\"],[\"TARGER: Neural Argument Mining at Your Fingertips\"],[\"Complex Word Identification as a Sequence Labelling Task\"],[\"Multilingual and Cross-Lingual Graded Lexical Entailment\"],[\"A Just and Comprehensive Strategy for Using NLP to Address Online Abuse\"],[\"Bridging the Gap between Training and Inference for Neural Machine Translation\"],[\"How to (Properly) Evaluate Cross-Lingual Word Embeddings: On Strong Baselines, Comparative Analyses, and Some Misconceptions\"],[\"What Kind of Language Is Hard to Language-Model?\"],[\"Towards Fine-grained Text Sentiment Transfer\"],[\"DocRED: A Large-Scale Document-Level Relation Extraction Dataset\"],[\"Enhancing Air Quality Prediction with Social Media and Natural Language Processing\"],[\"Robust Zero-Shot Cross-Domain Slot Filling with Example Values\"],[\"Automatically Identifying Complaints in Social Media\"],[\"Are You Looking? Grounding to Multiple Modalities in Vision-and-Language Navigation\"],[\"Putting words in context: LSTM language models and lexical ambiguity\"],[\"Sentiment Analysis on Naija-Tweets\"],[\"Multi-Grained Named Entity Recognition\"],[\"Cross-Modal Commentator: Automatic Machine Commenting Based on Cross-Modal Information\"],[\"Better Character Language Modeling Through Morphology\"],[\"Generating Question Relevant Captions to Aid Visual Question Answering\"],[\"MOROCO: The Moldavian and Romanian Dialectal Corpus\"],[\"NeuralClassifier: An Open-source Neural Hierarchical Multi-label Text Classification Toolkit\"],[\"A Lightweight Recurrent Network for Sequence Modeling\"],[\"Soft Representation Learning for Sparse Transfer\"],[\"We need to talk about standard splits\"],[\"Energy and Policy Considerations for Deep Learning in NLP\"],[\"Eliciting Knowledge from Experts: Automatic Transcript Parsing for Cognitive Task Analysis\"],[\"Explain Yourself! Leveraging Language Models for Commonsense Reasoning\"],[\"Unsupervised Bilingual Word Embedding Agreement for Unsupervised Neural Machine Translation\"]],\"hovertemplate\":\"year=2019<br>x1=%{x}<br>x2=%{y}<br>hover_data_0=%{customdata[0]}<extra></extra>\",\"legendgroup\":\"2019\",\"marker\":{\"color\":\"#00cc96\",\"symbol\":\"circle\"},\"mode\":\"markers\",\"name\":\"2019\",\"orientation\":\"v\",\"showlegend\":true,\"x\":[-0.005712923128157854,0.002634612377732992,0.009156380780041218,0.00723380409181118,-0.00046601647045463324,0.003363711526617408,0.008145686239004135,-0.0035890957806259394,-0.004170656204223633,-0.0010195185896009207,-0.0066269440576434135,0.013354170136153698,0.014777382835745811,0.001224167994223535,0.0008721160120330751,-0.005143826361745596,-0.0032277589198201895,0.006859208457171917,-0.013938510790467262,-0.0004816743894480169,-0.0010871975682675838,-0.0009852563962340355,0.0033587764482945204,-0.010479900054633617,-0.0024707792326807976,0.0011184749891981483,-0.00646407762542367,0.007061114069074392,0.007509808521717787,-0.0007692264625802636,0.003969175275415182,0.0012226536637172103,-0.014638581313192844,-0.010637137107551098,0.005715871695429087,-0.004474191460758448,-0.004830125253647566,0.007332941517233849,-0.01432923786342144,-0.008582482114434242,0.004456492606550455,-0.008440195582807064,0.003617106005549431,-0.009974172338843346,0.008353621698915958,-0.006565401330590248,-0.0016729405615478754,-0.0002134628448402509,0.0069940537214279175,-0.010001913644373417,-0.008879459463059902,-0.003484143642708659,-0.010293916799128056,-0.012383347377181053,-0.0076280697248876095,-0.011602281592786312,-0.0015445402823388577,0.0002240952744614333,0.004477214068174362,-0.013352053239941597,-0.01792018488049507,-0.003959340043365955,-0.011174319311976433,-0.0026842565275728703,-0.004017706494778395,-0.0046684653498232365,-0.004693987313657999,-0.000559553736820817,-0.008696742355823517,0.011223328299820423,-0.003298338269814849,-0.002367938868701458,-0.00804290920495987,0.008950809948146343,0.003743220353499055,-0.010089385323226452,-0.0038777890149503946,0.019364189356565475,-0.014800328761339188,0.004992024973034859],\"xaxis\":\"x\",\"y\":[0.022484049201011658,-0.008393079042434692,0.00616058986634016,-0.0017897405195981264,0.004893352743238211,0.0014635751722380519,0.005439847707748413,-0.0003036124398931861,-0.00868258811533451,0.010047081857919693,-0.007220317143946886,0.003272531321272254,-0.006812083534896374,0.005987831391394138,-0.012557262554764748,-0.0018702034140005708,0.012666433118283749,0.012106945738196373,-0.0036821551620960236,0.009902720339596272,-0.00020280179160181433,-0.0028946285601705313,0.00416561309248209,0.0015842742286622524,-0.010695014148950577,-0.0029731637332588434,0.014666755683720112,-0.0012150320690125227,0.0063271126709878445,0.0036236175801604986,-0.0002783594245556742,0.002027234761044383,0.0014157333644106984,-0.0014666089555248618,0.00371559988707304,0.009838691912591457,0.008360189385712147,-0.004318820312619209,0.0068163685500621796,0.005977496970444918,0.010240476578474045,-0.010339942760765553,0.0009689716971479356,0.005627797916531563,-0.00303781870752573,0.0026560251135379076,0.011247292160987854,-0.00032536298385821283,-0.004315483849495649,0.004358522593975067,-0.005357213784009218,0.004589404910802841,-0.0090391356498003,0.008998021483421326,0.0035532342735677958,-0.004571558907628059,-0.00173657713457942,-0.0015765278367325664,-0.006365553010255098,0.0030401560943573713,-0.00881084892898798,0.0055915722623467445,-0.0014639480505138636,0.006941115949302912,-0.006115488242357969,0.004041834734380245,0.010200523771345615,0.008953395299613476,-0.01052451878786087,-0.001865873346105218,0.0017787598771974444,0.007602292113006115,-0.010736720636487007,0.0054985773749649525,-0.008524422533810139,-0.0008659022278152406,-0.009298429824411869,0.001022009295411408,-0.005789709277451038,-0.0032754363492131233],\"yaxis\":\"y\",\"type\":\"scatter\"}],                        {\"template\":{\"data\":{\"histogram2dcontour\":[{\"type\":\"histogram2dcontour\",\"colorbar\":{\"outlinewidth\":0,\"ticks\":\"\"},\"colorscale\":[[0.0,\"#0d0887\"],[0.1111111111111111,\"#46039f\"],[0.2222222222222222,\"#7201a8\"],[0.3333333333333333,\"#9c179e\"],[0.4444444444444444,\"#bd3786\"],[0.5555555555555556,\"#d8576b\"],[0.6666666666666666,\"#ed7953\"],[0.7777777777777778,\"#fb9f3a\"],[0.8888888888888888,\"#fdca26\"],[1.0,\"#f0f921\"]]}],\"choropleth\":[{\"type\":\"choropleth\",\"colorbar\":{\"outlinewidth\":0,\"ticks\":\"\"}}],\"histogram2d\":[{\"type\":\"histogram2d\",\"colorbar\":{\"outlinewidth\":0,\"ticks\":\"\"},\"colorscale\":[[0.0,\"#0d0887\"],[0.1111111111111111,\"#46039f\"],[0.2222222222222222,\"#7201a8\"],[0.3333333333333333,\"#9c179e\"],[0.4444444444444444,\"#bd3786\"],[0.5555555555555556,\"#d8576b\"],[0.6666666666666666,\"#ed7953\"],[0.7777777777777778,\"#fb9f3a\"],[0.8888888888888888,\"#fdca26\"],[1.0,\"#f0f921\"]]}],\"heatmap\":[{\"type\":\"heatmap\",\"colorbar\":{\"outlinewidth\":0,\"ticks\":\"\"},\"colorscale\":[[0.0,\"#0d0887\"],[0.1111111111111111,\"#46039f\"],[0.2222222222222222,\"#7201a8\"],[0.3333333333333333,\"#9c179e\"],[0.4444444444444444,\"#bd3786\"],[0.5555555555555556,\"#d8576b\"],[0.6666666666666666,\"#ed7953\"],[0.7777777777777778,\"#fb9f3a\"],[0.8888888888888888,\"#fdca26\"],[1.0,\"#f0f921\"]]}],\"heatmapgl\":[{\"type\":\"heatmapgl\",\"colorbar\":{\"outlinewidth\":0,\"ticks\":\"\"},\"colorscale\":[[0.0,\"#0d0887\"],[0.1111111111111111,\"#46039f\"],[0.2222222222222222,\"#7201a8\"],[0.3333333333333333,\"#9c179e\"],[0.4444444444444444,\"#bd3786\"],[0.5555555555555556,\"#d8576b\"],[0.6666666666666666,\"#ed7953\"],[0.7777777777777778,\"#fb9f3a\"],[0.8888888888888888,\"#fdca26\"],[1.0,\"#f0f921\"]]}],\"contourcarpet\":[{\"type\":\"contourcarpet\",\"colorbar\":{\"outlinewidth\":0,\"ticks\":\"\"}}],\"contour\":[{\"type\":\"contour\",\"colorbar\":{\"outlinewidth\":0,\"ticks\":\"\"},\"colorscale\":[[0.0,\"#0d0887\"],[0.1111111111111111,\"#46039f\"],[0.2222222222222222,\"#7201a8\"],[0.3333333333333333,\"#9c179e\"],[0.4444444444444444,\"#bd3786\"],[0.5555555555555556,\"#d8576b\"],[0.6666666666666666,\"#ed7953\"],[0.7777777777777778,\"#fb9f3a\"],[0.8888888888888888,\"#fdca26\"],[1.0,\"#f0f921\"]]}],\"surface\":[{\"type\":\"surface\",\"colorbar\":{\"outlinewidth\":0,\"ticks\":\"\"},\"colorscale\":[[0.0,\"#0d0887\"],[0.1111111111111111,\"#46039f\"],[0.2222222222222222,\"#7201a8\"],[0.3333333333333333,\"#9c179e\"],[0.4444444444444444,\"#bd3786\"],[0.5555555555555556,\"#d8576b\"],[0.6666666666666666,\"#ed7953\"],[0.7777777777777778,\"#fb9f3a\"],[0.8888888888888888,\"#fdca26\"],[1.0,\"#f0f921\"]]}],\"mesh3d\":[{\"type\":\"mesh3d\",\"colorbar\":{\"outlinewidth\":0,\"ticks\":\"\"}}],\"scatter\":[{\"fillpattern\":{\"fillmode\":\"overlay\",\"size\":10,\"solidity\":0.2},\"type\":\"scatter\"}],\"parcoords\":[{\"type\":\"parcoords\",\"line\":{\"colorbar\":{\"outlinewidth\":0,\"ticks\":\"\"}}}],\"scatterpolargl\":[{\"type\":\"scatterpolargl\",\"marker\":{\"colorbar\":{\"outlinewidth\":0,\"ticks\":\"\"}}}],\"bar\":[{\"error_x\":{\"color\":\"#2a3f5f\"},\"error_y\":{\"color\":\"#2a3f5f\"},\"marker\":{\"line\":{\"color\":\"#E5ECF6\",\"width\":0.5},\"pattern\":{\"fillmode\":\"overlay\",\"size\":10,\"solidity\":0.2}},\"type\":\"bar\"}],\"scattergeo\":[{\"type\":\"scattergeo\",\"marker\":{\"colorbar\":{\"outlinewidth\":0,\"ticks\":\"\"}}}],\"scatterpolar\":[{\"type\":\"scatterpolar\",\"marker\":{\"colorbar\":{\"outlinewidth\":0,\"ticks\":\"\"}}}],\"histogram\":[{\"marker\":{\"pattern\":{\"fillmode\":\"overlay\",\"size\":10,\"solidity\":0.2}},\"type\":\"histogram\"}],\"scattergl\":[{\"type\":\"scattergl\",\"marker\":{\"colorbar\":{\"outlinewidth\":0,\"ticks\":\"\"}}}],\"scatter3d\":[{\"type\":\"scatter3d\",\"line\":{\"colorbar\":{\"outlinewidth\":0,\"ticks\":\"\"}},\"marker\":{\"colorbar\":{\"outlinewidth\":0,\"ticks\":\"\"}}}],\"scattermapbox\":[{\"type\":\"scattermapbox\",\"marker\":{\"colorbar\":{\"outlinewidth\":0,\"ticks\":\"\"}}}],\"scatterternary\":[{\"type\":\"scatterternary\",\"marker\":{\"colorbar\":{\"outlinewidth\":0,\"ticks\":\"\"}}}],\"scattercarpet\":[{\"type\":\"scattercarpet\",\"marker\":{\"colorbar\":{\"outlinewidth\":0,\"ticks\":\"\"}}}],\"carpet\":[{\"aaxis\":{\"endlinecolor\":\"#2a3f5f\",\"gridcolor\":\"white\",\"linecolor\":\"white\",\"minorgridcolor\":\"white\",\"startlinecolor\":\"#2a3f5f\"},\"baxis\":{\"endlinecolor\":\"#2a3f5f\",\"gridcolor\":\"white\",\"linecolor\":\"white\",\"minorgridcolor\":\"white\",\"startlinecolor\":\"#2a3f5f\"},\"type\":\"carpet\"}],\"table\":[{\"cells\":{\"fill\":{\"color\":\"#EBF0F8\"},\"line\":{\"color\":\"white\"}},\"header\":{\"fill\":{\"color\":\"#C8D4E3\"},\"line\":{\"color\":\"white\"}},\"type\":\"table\"}],\"barpolar\":[{\"marker\":{\"line\":{\"color\":\"#E5ECF6\",\"width\":0.5},\"pattern\":{\"fillmode\":\"overlay\",\"size\":10,\"solidity\":0.2}},\"type\":\"barpolar\"}],\"pie\":[{\"automargin\":true,\"type\":\"pie\"}]},\"layout\":{\"autotypenumbers\":\"strict\",\"colorway\":[\"#636efa\",\"#EF553B\",\"#00cc96\",\"#ab63fa\",\"#FFA15A\",\"#19d3f3\",\"#FF6692\",\"#B6E880\",\"#FF97FF\",\"#FECB52\"],\"font\":{\"color\":\"#2a3f5f\"},\"hovermode\":\"closest\",\"hoverlabel\":{\"align\":\"left\"},\"paper_bgcolor\":\"white\",\"plot_bgcolor\":\"#E5ECF6\",\"polar\":{\"bgcolor\":\"#E5ECF6\",\"angularaxis\":{\"gridcolor\":\"white\",\"linecolor\":\"white\",\"ticks\":\"\"},\"radialaxis\":{\"gridcolor\":\"white\",\"linecolor\":\"white\",\"ticks\":\"\"}},\"ternary\":{\"bgcolor\":\"#E5ECF6\",\"aaxis\":{\"gridcolor\":\"white\",\"linecolor\":\"white\",\"ticks\":\"\"},\"baxis\":{\"gridcolor\":\"white\",\"linecolor\":\"white\",\"ticks\":\"\"},\"caxis\":{\"gridcolor\":\"white\",\"linecolor\":\"white\",\"ticks\":\"\"}},\"coloraxis\":{\"colorbar\":{\"outlinewidth\":0,\"ticks\":\"\"}},\"colorscale\":{\"sequential\":[[0.0,\"#0d0887\"],[0.1111111111111111,\"#46039f\"],[0.2222222222222222,\"#7201a8\"],[0.3333333333333333,\"#9c179e\"],[0.4444444444444444,\"#bd3786\"],[0.5555555555555556,\"#d8576b\"],[0.6666666666666666,\"#ed7953\"],[0.7777777777777778,\"#fb9f3a\"],[0.8888888888888888,\"#fdca26\"],[1.0,\"#f0f921\"]],\"sequentialminus\":[[0.0,\"#0d0887\"],[0.1111111111111111,\"#46039f\"],[0.2222222222222222,\"#7201a8\"],[0.3333333333333333,\"#9c179e\"],[0.4444444444444444,\"#bd3786\"],[0.5555555555555556,\"#d8576b\"],[0.6666666666666666,\"#ed7953\"],[0.7777777777777778,\"#fb9f3a\"],[0.8888888888888888,\"#fdca26\"],[1.0,\"#f0f921\"]],\"diverging\":[[0,\"#8e0152\"],[0.1,\"#c51b7d\"],[0.2,\"#de77ae\"],[0.3,\"#f1b6da\"],[0.4,\"#fde0ef\"],[0.5,\"#f7f7f7\"],[0.6,\"#e6f5d0\"],[0.7,\"#b8e186\"],[0.8,\"#7fbc41\"],[0.9,\"#4d9221\"],[1,\"#276419\"]]},\"xaxis\":{\"gridcolor\":\"white\",\"linecolor\":\"white\",\"ticks\":\"\",\"title\":{\"standoff\":15},\"zerolinecolor\":\"white\",\"automargin\":true,\"zerolinewidth\":2},\"yaxis\":{\"gridcolor\":\"white\",\"linecolor\":\"white\",\"ticks\":\"\",\"title\":{\"standoff\":15},\"zerolinecolor\":\"white\",\"automargin\":true,\"zerolinewidth\":2},\"scene\":{\"xaxis\":{\"backgroundcolor\":\"#E5ECF6\",\"gridcolor\":\"white\",\"linecolor\":\"white\",\"showbackground\":true,\"ticks\":\"\",\"zerolinecolor\":\"white\",\"gridwidth\":2},\"yaxis\":{\"backgroundcolor\":\"#E5ECF6\",\"gridcolor\":\"white\",\"linecolor\":\"white\",\"showbackground\":true,\"ticks\":\"\",\"zerolinecolor\":\"white\",\"gridwidth\":2},\"zaxis\":{\"backgroundcolor\":\"#E5ECF6\",\"gridcolor\":\"white\",\"linecolor\":\"white\",\"showbackground\":true,\"ticks\":\"\",\"zerolinecolor\":\"white\",\"gridwidth\":2}},\"shapedefaults\":{\"line\":{\"color\":\"#2a3f5f\"}},\"annotationdefaults\":{\"arrowcolor\":\"#2a3f5f\",\"arrowhead\":0,\"arrowwidth\":1},\"geo\":{\"bgcolor\":\"white\",\"landcolor\":\"#E5ECF6\",\"subunitcolor\":\"white\",\"showland\":true,\"showlakes\":true,\"lakecolor\":\"white\"},\"title\":{\"x\":0.05},\"mapbox\":{\"style\":\"light\"}}},\"xaxis\":{\"anchor\":\"y\",\"domain\":[0.0,1.0],\"title\":{\"text\":\"x1\"}},\"yaxis\":{\"anchor\":\"x\",\"domain\":[0.0,1.0],\"title\":{\"text\":\"x2\"}},\"legend\":{\"title\":{\"text\":\"year\"},\"tracegroupgap\":0},\"margin\":{\"t\":60}},                        {\"responsive\": true}                    ).then(function(){\n",
       "                            \n",
       "var gd = document.getElementById('6fc1e2a1-d37a-4ac6-b403-ef7382237242');\n",
       "var x = new MutationObserver(function (mutations, observer) {{\n",
       "        var display = window.getComputedStyle(gd).display;\n",
       "        if (!display || display === 'none') {{\n",
       "            console.log([gd, 'removed!']);\n",
       "            Plotly.purge(gd);\n",
       "            observer.disconnect();\n",
       "        }}\n",
       "}});\n",
       "\n",
       "// Listen for the removal of the full notebook cells\n",
       "var notebookContainer = gd.closest('#notebook-container');\n",
       "if (notebookContainer) {{\n",
       "    x.observe(notebookContainer, {childList: true});\n",
       "}}\n",
       "\n",
       "// Listen for the clearing of the current output cell\n",
       "var outputEl = gd.closest('.output');\n",
       "if (outputEl) {{\n",
       "    x.observe(outputEl, {childList: true});\n",
       "}}\n",
       "\n",
       "                        })                };                });            </script>        </div>"
      ]
     },
     "metadata": {},
     "output_type": "display_data"
    }
   ],
   "source": [
    "import plotly.express as px\n",
    "\n",
    "pcx_2000_2010_2019[\"year\"] = pcx_2000_2010_2019[\"year\"].astype(str) # change a legend color to Discrete form Continuous Color\n",
    "fig = px.scatter(pcx_2000_2010_2019, x=\"x1\", y=\"x2\", color=\"year\", hover_data=[pcx_2000_2010_2019['title'].values])\n",
    "fig.show()\n",
    "fig.update_layout(title=f\"Comparison of 2000, 2015 and 2019 ACL papers(Dov2vec)\")\n",
    "fig.write_html(f\"Comparison_2000_2010_2015_2000(Doc2vec).html\")"
   ]
  }
 ],
 "metadata": {
  "kernelspec": {
   "display_name": "Python 3.9.12 ('InuiLab')",
   "language": "python",
   "name": "python3"
  },
  "language_info": {
   "codemirror_mode": {
    "name": "ipython",
    "version": 3
   },
   "file_extension": ".py",
   "mimetype": "text/x-python",
   "name": "python",
   "nbconvert_exporter": "python",
   "pygments_lexer": "ipython3",
   "version": "3.9.12"
  },
  "orig_nbformat": 4,
  "vscode": {
   "interpreter": {
    "hash": "4bc6fcdb7abebb2d364ad2a72e66d335c728f2a747a1086957e97ff77566f28c"
   }
  }
 },
 "nbformat": 4,
 "nbformat_minor": 2
}
