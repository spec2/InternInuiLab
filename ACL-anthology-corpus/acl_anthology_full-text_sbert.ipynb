{
 "cells": [
  {
   "cell_type": "code",
   "execution_count": 4,
   "metadata": {},
   "outputs": [
    {
     "name": "stderr",
     "output_type": "stream",
     "text": [
      "[nltk_data] Downloading package punkt to /home/a2211506/nltk_data...\n",
      "[nltk_data]   Package punkt is already up-to-date!\n"
     ]
    }
   ],
   "source": [
    "import pandas as pd\n",
    "import numpy as np\n",
    "from gensim.test.utils import common_texts\n",
    "from gensim.models.doc2vec import Doc2Vec, TaggedDocument\n",
    "import nltk\n",
    "nltk.download('punkt')\n",
    "from sklearn.decomposition import PCA\n",
    "import matplotlib.pyplot as plt\n",
    "import pickle\n",
    "from sklearn.manifold import TSNE\n",
    "import mplcursors\n",
    "%matplotlib widget\n",
    "from sentence_transformers import SentenceTransformer\n",
    "import plotly.graph_objects as go\n",
    "import plotly.express as px\n",
    "from sklearn.preprocessing import StandardScaler"
   ]
  },
  {
   "cell_type": "code",
   "execution_count": 5,
   "metadata": {},
   "outputs": [],
   "source": [
    "import pandas as pd"
   ]
  },
  {
   "cell_type": "code",
   "execution_count": 6,
   "metadata": {},
   "outputs": [],
   "source": [
    "acl_full_text = pd.read_parquet('acl_corpus_full-text.parquet')"
   ]
  },
  {
   "cell_type": "code",
   "execution_count": 7,
   "metadata": {},
   "outputs": [
    {
     "data": {
      "text/html": [
       "<div>\n",
       "<style scoped>\n",
       "    .dataframe tbody tr th:only-of-type {\n",
       "        vertical-align: middle;\n",
       "    }\n",
       "\n",
       "    .dataframe tbody tr th {\n",
       "        vertical-align: top;\n",
       "    }\n",
       "\n",
       "    .dataframe thead th {\n",
       "        text-align: right;\n",
       "    }\n",
       "</style>\n",
       "<table border=\"1\" class=\"dataframe\">\n",
       "  <thead>\n",
       "    <tr style=\"text-align: right;\">\n",
       "      <th></th>\n",
       "      <th>acl_id</th>\n",
       "      <th>title</th>\n",
       "      <th>abstract</th>\n",
       "      <th>full_text</th>\n",
       "    </tr>\n",
       "  </thead>\n",
       "  <tbody>\n",
       "    <tr>\n",
       "      <th>0</th>\n",
       "      <td>O02-2002</td>\n",
       "      <td>A Study on Word Similarity using Context Vecto...</td>\n",
       "      <td>There is a need to measure word similarity whe...</td>\n",
       "      <td>There is a need to measure word similarity whe...</td>\n",
       "    </tr>\n",
       "    <tr>\n",
       "      <th>1</th>\n",
       "      <td>L02-1310</td>\n",
       "      <td></td>\n",
       "      <td></td>\n",
       "      <td></td>\n",
       "    </tr>\n",
       "    <tr>\n",
       "      <th>2</th>\n",
       "      <td>R13-1042</td>\n",
       "      <td>Headerless, Quoteless, but not Hopeless? Using...</td>\n",
       "      <td>Thread disentanglement is the task of separati...</td>\n",
       "      <td>Thread disentanglement is the task of separati...</td>\n",
       "    </tr>\n",
       "    <tr>\n",
       "      <th>3</th>\n",
       "      <td>W05-0819</td>\n",
       "      <td>Aligning words in English-Hindi parallel corpora</td>\n",
       "      <td>In this paper, we describe a word alignment al...</td>\n",
       "      <td>In this paper, we describe a word alignment al...</td>\n",
       "    </tr>\n",
       "    <tr>\n",
       "      <th>4</th>\n",
       "      <td>L02-1309</td>\n",
       "      <td></td>\n",
       "      <td></td>\n",
       "      <td></td>\n",
       "    </tr>\n",
       "    <tr>\n",
       "      <th>...</th>\n",
       "      <td>...</td>\n",
       "      <td>...</td>\n",
       "      <td>...</td>\n",
       "      <td>...</td>\n",
       "    </tr>\n",
       "    <tr>\n",
       "      <th>80008</th>\n",
       "      <td>P99-1056</td>\n",
       "      <td>The grapho-phonological system of written Fren...</td>\n",
       "      <td>The processes through which readers evoke ment...</td>\n",
       "      <td>The processes through which readers evoke ment...</td>\n",
       "    </tr>\n",
       "    <tr>\n",
       "      <th>80009</th>\n",
       "      <td>P99-1051</td>\n",
       "      <td>Acquiring Lexical Generalizations from Corpora...</td>\n",
       "      <td>This paper examines the extent to which verb d...</td>\n",
       "      <td>This paper examines the extent to which verb d...</td>\n",
       "    </tr>\n",
       "    <tr>\n",
       "      <th>80010</th>\n",
       "      <td>P99-1000</td>\n",
       "      <td>Using Aggregation for Selecting Content when G...</td>\n",
       "      <td>As co-chairs, we had two particular objectives...</td>\n",
       "      <td>As co-chairs, we had two particular objectives...</td>\n",
       "    </tr>\n",
       "    <tr>\n",
       "      <th>80011</th>\n",
       "      <td>P99-1</td>\n",
       "      <td></td>\n",
       "      <td></td>\n",
       "      <td></td>\n",
       "    </tr>\n",
       "    <tr>\n",
       "      <th>80012</th>\n",
       "      <td>P00-1013</td>\n",
       "      <td>Spoken Dialogue Management Using Probabilistic...</td>\n",
       "      <td>Spoken dialogue managers have benefited from u...</td>\n",
       "      <td>Spoken dialogue managers have benefited from u...</td>\n",
       "    </tr>\n",
       "  </tbody>\n",
       "</table>\n",
       "<p>80013 rows × 4 columns</p>\n",
       "</div>"
      ],
      "text/plain": [
       "         acl_id                                              title  \\\n",
       "0      O02-2002  A Study on Word Similarity using Context Vecto...   \n",
       "1      L02-1310                                                      \n",
       "2      R13-1042  Headerless, Quoteless, but not Hopeless? Using...   \n",
       "3      W05-0819   Aligning words in English-Hindi parallel corpora   \n",
       "4      L02-1309                                                      \n",
       "...         ...                                                ...   \n",
       "80008  P99-1056  The grapho-phonological system of written Fren...   \n",
       "80009  P99-1051  Acquiring Lexical Generalizations from Corpora...   \n",
       "80010  P99-1000  Using Aggregation for Selecting Content when G...   \n",
       "80011     P99-1                                                      \n",
       "80012  P00-1013  Spoken Dialogue Management Using Probabilistic...   \n",
       "\n",
       "                                                abstract  \\\n",
       "0      There is a need to measure word similarity whe...   \n",
       "1                                                          \n",
       "2      Thread disentanglement is the task of separati...   \n",
       "3      In this paper, we describe a word alignment al...   \n",
       "4                                                          \n",
       "...                                                  ...   \n",
       "80008  The processes through which readers evoke ment...   \n",
       "80009  This paper examines the extent to which verb d...   \n",
       "80010  As co-chairs, we had two particular objectives...   \n",
       "80011                                                      \n",
       "80012  Spoken dialogue managers have benefited from u...   \n",
       "\n",
       "                                               full_text  \n",
       "0      There is a need to measure word similarity whe...  \n",
       "1                                                         \n",
       "2      Thread disentanglement is the task of separati...  \n",
       "3      In this paper, we describe a word alignment al...  \n",
       "4                                                         \n",
       "...                                                  ...  \n",
       "80008  The processes through which readers evoke ment...  \n",
       "80009  This paper examines the extent to which verb d...  \n",
       "80010  As co-chairs, we had two particular objectives...  \n",
       "80011                                                     \n",
       "80012  Spoken dialogue managers have benefited from u...  \n",
       "\n",
       "[80013 rows x 4 columns]"
      ]
     },
     "execution_count": 7,
     "metadata": {},
     "output_type": "execute_result"
    }
   ],
   "source": [
    "acl_full_text"
   ]
  },
  {
   "cell_type": "code",
   "execution_count": 8,
   "metadata": {},
   "outputs": [
    {
     "data": {
      "text/html": [
       "<div>\n",
       "<style scoped>\n",
       "    .dataframe tbody tr th:only-of-type {\n",
       "        vertical-align: middle;\n",
       "    }\n",
       "\n",
       "    .dataframe tbody tr th {\n",
       "        vertical-align: top;\n",
       "    }\n",
       "\n",
       "    .dataframe thead th {\n",
       "        text-align: right;\n",
       "    }\n",
       "</style>\n",
       "<table border=\"1\" class=\"dataframe\">\n",
       "  <thead>\n",
       "    <tr style=\"text-align: right;\">\n",
       "      <th></th>\n",
       "      <th>acl_id</th>\n",
       "      <th>title</th>\n",
       "      <th>abstract</th>\n",
       "      <th>full_text</th>\n",
       "    </tr>\n",
       "  </thead>\n",
       "  <tbody>\n",
       "    <tr>\n",
       "      <th>0</th>\n",
       "      <td>O02-2002</td>\n",
       "      <td>A Study on Word Similarity using Context Vecto...</td>\n",
       "      <td>There is a need to measure word similarity whe...</td>\n",
       "      <td>There is a need to measure word similarity whe...</td>\n",
       "    </tr>\n",
       "    <tr>\n",
       "      <th>1</th>\n",
       "      <td>L02-1310</td>\n",
       "      <td></td>\n",
       "      <td></td>\n",
       "      <td></td>\n",
       "    </tr>\n",
       "    <tr>\n",
       "      <th>2</th>\n",
       "      <td>R13-1042</td>\n",
       "      <td>Headerless, Quoteless, but not Hopeless? Using...</td>\n",
       "      <td>Thread disentanglement is the task of separati...</td>\n",
       "      <td>Thread disentanglement is the task of separati...</td>\n",
       "    </tr>\n",
       "    <tr>\n",
       "      <th>3</th>\n",
       "      <td>W05-0819</td>\n",
       "      <td>Aligning words in English-Hindi parallel corpora</td>\n",
       "      <td>In this paper, we describe a word alignment al...</td>\n",
       "      <td>In this paper, we describe a word alignment al...</td>\n",
       "    </tr>\n",
       "    <tr>\n",
       "      <th>4</th>\n",
       "      <td>L02-1309</td>\n",
       "      <td></td>\n",
       "      <td></td>\n",
       "      <td></td>\n",
       "    </tr>\n",
       "    <tr>\n",
       "      <th>...</th>\n",
       "      <td>...</td>\n",
       "      <td>...</td>\n",
       "      <td>...</td>\n",
       "      <td>...</td>\n",
       "    </tr>\n",
       "    <tr>\n",
       "      <th>80008</th>\n",
       "      <td>P99-1056</td>\n",
       "      <td>The grapho-phonological system of written Fren...</td>\n",
       "      <td>The processes through which readers evoke ment...</td>\n",
       "      <td>The processes through which readers evoke ment...</td>\n",
       "    </tr>\n",
       "    <tr>\n",
       "      <th>80009</th>\n",
       "      <td>P99-1051</td>\n",
       "      <td>Acquiring Lexical Generalizations from Corpora...</td>\n",
       "      <td>This paper examines the extent to which verb d...</td>\n",
       "      <td>This paper examines the extent to which verb d...</td>\n",
       "    </tr>\n",
       "    <tr>\n",
       "      <th>80010</th>\n",
       "      <td>P99-1000</td>\n",
       "      <td>Using Aggregation for Selecting Content when G...</td>\n",
       "      <td>As co-chairs, we had two particular objectives...</td>\n",
       "      <td>As co-chairs, we had two particular objectives...</td>\n",
       "    </tr>\n",
       "    <tr>\n",
       "      <th>80011</th>\n",
       "      <td>P99-1</td>\n",
       "      <td></td>\n",
       "      <td></td>\n",
       "      <td></td>\n",
       "    </tr>\n",
       "    <tr>\n",
       "      <th>80012</th>\n",
       "      <td>P00-1013</td>\n",
       "      <td>Spoken Dialogue Management Using Probabilistic...</td>\n",
       "      <td>Spoken dialogue managers have benefited from u...</td>\n",
       "      <td>Spoken dialogue managers have benefited from u...</td>\n",
       "    </tr>\n",
       "  </tbody>\n",
       "</table>\n",
       "<p>80013 rows × 4 columns</p>\n",
       "</div>"
      ],
      "text/plain": [
       "         acl_id                                              title  \\\n",
       "0      O02-2002  A Study on Word Similarity using Context Vecto...   \n",
       "1      L02-1310                                                      \n",
       "2      R13-1042  Headerless, Quoteless, but not Hopeless? Using...   \n",
       "3      W05-0819   Aligning words in English-Hindi parallel corpora   \n",
       "4      L02-1309                                                      \n",
       "...         ...                                                ...   \n",
       "80008  P99-1056  The grapho-phonological system of written Fren...   \n",
       "80009  P99-1051  Acquiring Lexical Generalizations from Corpora...   \n",
       "80010  P99-1000  Using Aggregation for Selecting Content when G...   \n",
       "80011     P99-1                                                      \n",
       "80012  P00-1013  Spoken Dialogue Management Using Probabilistic...   \n",
       "\n",
       "                                                abstract  \\\n",
       "0      There is a need to measure word similarity whe...   \n",
       "1                                                          \n",
       "2      Thread disentanglement is the task of separati...   \n",
       "3      In this paper, we describe a word alignment al...   \n",
       "4                                                          \n",
       "...                                                  ...   \n",
       "80008  The processes through which readers evoke ment...   \n",
       "80009  This paper examines the extent to which verb d...   \n",
       "80010  As co-chairs, we had two particular objectives...   \n",
       "80011                                                      \n",
       "80012  Spoken dialogue managers have benefited from u...   \n",
       "\n",
       "                                               full_text  \n",
       "0      There is a need to measure word similarity whe...  \n",
       "1                                                         \n",
       "2      Thread disentanglement is the task of separati...  \n",
       "3      In this paper, we describe a word alignment al...  \n",
       "4                                                         \n",
       "...                                                  ...  \n",
       "80008  The processes through which readers evoke ment...  \n",
       "80009  This paper examines the extent to which verb d...  \n",
       "80010  As co-chairs, we had two particular objectives...  \n",
       "80011                                                     \n",
       "80012  Spoken dialogue managers have benefited from u...  \n",
       "\n",
       "[80013 rows x 4 columns]"
      ]
     },
     "execution_count": 8,
     "metadata": {},
     "output_type": "execute_result"
    }
   ],
   "source": [
    "acl_full_text"
   ]
  },
  {
   "cell_type": "code",
   "execution_count": 9,
   "metadata": {},
   "outputs": [],
   "source": [
    "acl_full_text\n",
    "acl_full_text.insert(1, 'year', 0)\n",
    "acl_full_text.insert(2, 'era_id', 0)"
   ]
  },
  {
   "cell_type": "code",
   "execution_count": 10,
   "metadata": {},
   "outputs": [],
   "source": [
    "for index, row in acl_full_text.iterrows():\n",
    "    if(int(row[0][1]) == 0 or int(row[0][1]) == 1 or int(row[0][1]) == 2):\n",
    "        year = int(f'20{row[0][1:3]}')\n",
    "        era_id = 20\n",
    "    else:\n",
    "        year = int(f'19{row[0][1:3]}')\n",
    "        era_id = 19\n",
    "    acl_full_text.iat[index, 1] = year\n",
    "    acl_full_text.iat[index, 2] = era_id"
   ]
  },
  {
   "cell_type": "code",
   "execution_count": 11,
   "metadata": {},
   "outputs": [
    {
     "data": {
      "text/html": [
       "<div>\n",
       "<style scoped>\n",
       "    .dataframe tbody tr th:only-of-type {\n",
       "        vertical-align: middle;\n",
       "    }\n",
       "\n",
       "    .dataframe tbody tr th {\n",
       "        vertical-align: top;\n",
       "    }\n",
       "\n",
       "    .dataframe thead th {\n",
       "        text-align: right;\n",
       "    }\n",
       "</style>\n",
       "<table border=\"1\" class=\"dataframe\">\n",
       "  <thead>\n",
       "    <tr style=\"text-align: right;\">\n",
       "      <th></th>\n",
       "      <th>acl_id</th>\n",
       "      <th>year</th>\n",
       "      <th>era_id</th>\n",
       "      <th>title</th>\n",
       "      <th>abstract</th>\n",
       "      <th>full_text</th>\n",
       "    </tr>\n",
       "  </thead>\n",
       "  <tbody>\n",
       "    <tr>\n",
       "      <th>55</th>\n",
       "      <td>P07-1084</td>\n",
       "      <td>2007</td>\n",
       "      <td>20</td>\n",
       "      <td>Bilingual Terminology Mining -Using Brain, not...</td>\n",
       "      <td>Current research in text mining favours the qu...</td>\n",
       "      <td>Current research in text mining favours the qu...</td>\n",
       "    </tr>\n",
       "    <tr>\n",
       "      <th>75</th>\n",
       "      <td>P12-3005</td>\n",
       "      <td>2012</td>\n",
       "      <td>20</td>\n",
       "      <td>langid.py: An Off-the-shelf Language Identific...</td>\n",
       "      <td>We present langid.py, an off-the-shelf languag...</td>\n",
       "      <td>We present langid.py, an off-the-shelf languag...</td>\n",
       "    </tr>\n",
       "    <tr>\n",
       "      <th>76</th>\n",
       "      <td>P12-3016</td>\n",
       "      <td>2012</td>\n",
       "      <td>20</td>\n",
       "      <td>ACCURAT Toolkit for Multi-Level Alignment and ...</td>\n",
       "      <td>The lack of parallel corpora and linguistic re...</td>\n",
       "      <td>The lack of parallel corpora and linguistic re...</td>\n",
       "    </tr>\n",
       "    <tr>\n",
       "      <th>78</th>\n",
       "      <td>P13-1068</td>\n",
       "      <td>2013</td>\n",
       "      <td>20</td>\n",
       "      <td>Large tagset labeling using Feed Forward Neura...</td>\n",
       "      <td>Standard methods for part-of-speech tagging su...</td>\n",
       "      <td>Standard methods for part-of-speech tagging su...</td>\n",
       "    </tr>\n",
       "    <tr>\n",
       "      <th>80</th>\n",
       "      <td>P19-1161</td>\n",
       "      <td>2019</td>\n",
       "      <td>20</td>\n",
       "      <td>Counterfactual Data Augmentation for Mitigatin...</td>\n",
       "      <td>Gender stereotypes are manifest in most of the...</td>\n",
       "      <td>Gender stereotypes are manifest in most of the...</td>\n",
       "    </tr>\n",
       "    <tr>\n",
       "      <th>...</th>\n",
       "      <td>...</td>\n",
       "      <td>...</td>\n",
       "      <td>...</td>\n",
       "      <td>...</td>\n",
       "      <td>...</td>\n",
       "      <td>...</td>\n",
       "    </tr>\n",
       "    <tr>\n",
       "      <th>80008</th>\n",
       "      <td>P99-1056</td>\n",
       "      <td>1999</td>\n",
       "      <td>19</td>\n",
       "      <td>The grapho-phonological system of written Fren...</td>\n",
       "      <td>The processes through which readers evoke ment...</td>\n",
       "      <td>The processes through which readers evoke ment...</td>\n",
       "    </tr>\n",
       "    <tr>\n",
       "      <th>80009</th>\n",
       "      <td>P99-1051</td>\n",
       "      <td>1999</td>\n",
       "      <td>19</td>\n",
       "      <td>Acquiring Lexical Generalizations from Corpora...</td>\n",
       "      <td>This paper examines the extent to which verb d...</td>\n",
       "      <td>This paper examines the extent to which verb d...</td>\n",
       "    </tr>\n",
       "    <tr>\n",
       "      <th>80010</th>\n",
       "      <td>P99-1000</td>\n",
       "      <td>1999</td>\n",
       "      <td>19</td>\n",
       "      <td>Using Aggregation for Selecting Content when G...</td>\n",
       "      <td>As co-chairs, we had two particular objectives...</td>\n",
       "      <td>As co-chairs, we had two particular objectives...</td>\n",
       "    </tr>\n",
       "    <tr>\n",
       "      <th>80011</th>\n",
       "      <td>P99-1</td>\n",
       "      <td>1999</td>\n",
       "      <td>19</td>\n",
       "      <td></td>\n",
       "      <td></td>\n",
       "      <td></td>\n",
       "    </tr>\n",
       "    <tr>\n",
       "      <th>80012</th>\n",
       "      <td>P00-1013</td>\n",
       "      <td>2000</td>\n",
       "      <td>20</td>\n",
       "      <td>Spoken Dialogue Management Using Probabilistic...</td>\n",
       "      <td>Spoken dialogue managers have benefited from u...</td>\n",
       "      <td>Spoken dialogue managers have benefited from u...</td>\n",
       "    </tr>\n",
       "  </tbody>\n",
       "</table>\n",
       "<p>6848 rows × 6 columns</p>\n",
       "</div>"
      ],
      "text/plain": [
       "         acl_id  year  era_id  \\\n",
       "55     P07-1084  2007      20   \n",
       "75     P12-3005  2012      20   \n",
       "76     P12-3016  2012      20   \n",
       "78     P13-1068  2013      20   \n",
       "80     P19-1161  2019      20   \n",
       "...         ...   ...     ...   \n",
       "80008  P99-1056  1999      19   \n",
       "80009  P99-1051  1999      19   \n",
       "80010  P99-1000  1999      19   \n",
       "80011     P99-1  1999      19   \n",
       "80012  P00-1013  2000      20   \n",
       "\n",
       "                                                   title  \\\n",
       "55     Bilingual Terminology Mining -Using Brain, not...   \n",
       "75     langid.py: An Off-the-shelf Language Identific...   \n",
       "76     ACCURAT Toolkit for Multi-Level Alignment and ...   \n",
       "78     Large tagset labeling using Feed Forward Neura...   \n",
       "80     Counterfactual Data Augmentation for Mitigatin...   \n",
       "...                                                  ...   \n",
       "80008  The grapho-phonological system of written Fren...   \n",
       "80009  Acquiring Lexical Generalizations from Corpora...   \n",
       "80010  Using Aggregation for Selecting Content when G...   \n",
       "80011                                                      \n",
       "80012  Spoken Dialogue Management Using Probabilistic...   \n",
       "\n",
       "                                                abstract  \\\n",
       "55     Current research in text mining favours the qu...   \n",
       "75     We present langid.py, an off-the-shelf languag...   \n",
       "76     The lack of parallel corpora and linguistic re...   \n",
       "78     Standard methods for part-of-speech tagging su...   \n",
       "80     Gender stereotypes are manifest in most of the...   \n",
       "...                                                  ...   \n",
       "80008  The processes through which readers evoke ment...   \n",
       "80009  This paper examines the extent to which verb d...   \n",
       "80010  As co-chairs, we had two particular objectives...   \n",
       "80011                                                      \n",
       "80012  Spoken dialogue managers have benefited from u...   \n",
       "\n",
       "                                               full_text  \n",
       "55     Current research in text mining favours the qu...  \n",
       "75     We present langid.py, an off-the-shelf languag...  \n",
       "76     The lack of parallel corpora and linguistic re...  \n",
       "78     Standard methods for part-of-speech tagging su...  \n",
       "80     Gender stereotypes are manifest in most of the...  \n",
       "...                                                  ...  \n",
       "80008  The processes through which readers evoke ment...  \n",
       "80009  This paper examines the extent to which verb d...  \n",
       "80010  As co-chairs, we had two particular objectives...  \n",
       "80011                                                     \n",
       "80012  Spoken dialogue managers have benefited from u...  \n",
       "\n",
       "[6848 rows x 6 columns]"
      ]
     },
     "execution_count": 11,
     "metadata": {},
     "output_type": "execute_result"
    }
   ],
   "source": [
    "origin_data = acl_full_text[acl_full_text['acl_id'].str.startswith('P')]\n",
    "origin_data"
   ]
  },
  {
   "cell_type": "code",
   "execution_count": 12,
   "metadata": {},
   "outputs": [],
   "source": [
    "docs = origin_data.iloc[:][\"abstract\"]"
   ]
  },
  {
   "cell_type": "code",
   "execution_count": 13,
   "metadata": {},
   "outputs": [],
   "source": [
    "model = SentenceTransformer('all-MiniLM-L6-v2') \n",
    "sentences = list(docs)\n",
    "#Sentences are encoded by calling model.encode()\n",
    "embeddings = model.encode(sentences)"
   ]
  },
  {
   "cell_type": "code",
   "execution_count": 16,
   "metadata": {},
   "outputs": [
    {
     "data": {
      "text/html": [
       "<div>\n",
       "<style scoped>\n",
       "    .dataframe tbody tr th:only-of-type {\n",
       "        vertical-align: middle;\n",
       "    }\n",
       "\n",
       "    .dataframe tbody tr th {\n",
       "        vertical-align: top;\n",
       "    }\n",
       "\n",
       "    .dataframe thead th {\n",
       "        text-align: right;\n",
       "    }\n",
       "</style>\n",
       "<table border=\"1\" class=\"dataframe\">\n",
       "  <thead>\n",
       "    <tr style=\"text-align: right;\">\n",
       "      <th></th>\n",
       "      <th>type</th>\n",
       "      <th>year</th>\n",
       "      <th>title</th>\n",
       "      <th>era_id</th>\n",
       "      <th>x_0</th>\n",
       "      <th>x_1</th>\n",
       "      <th>x_2</th>\n",
       "      <th>x_3</th>\n",
       "      <th>x_4</th>\n",
       "      <th>x_5</th>\n",
       "      <th>...</th>\n",
       "      <th>x_374</th>\n",
       "      <th>x_375</th>\n",
       "      <th>x_376</th>\n",
       "      <th>x_377</th>\n",
       "      <th>x_378</th>\n",
       "      <th>x_379</th>\n",
       "      <th>x_380</th>\n",
       "      <th>x_381</th>\n",
       "      <th>x_382</th>\n",
       "      <th>x_383</th>\n",
       "    </tr>\n",
       "  </thead>\n",
       "  <tbody>\n",
       "    <tr>\n",
       "      <th>0</th>\n",
       "      <td>0</td>\n",
       "      <td>2007</td>\n",
       "      <td>Bilingual Terminology Mining -Using Brain, not...</td>\n",
       "      <td>20</td>\n",
       "      <td>0.018361</td>\n",
       "      <td>-0.069289</td>\n",
       "      <td>-0.045787</td>\n",
       "      <td>-0.043936</td>\n",
       "      <td>-0.018778</td>\n",
       "      <td>-0.021305</td>\n",
       "      <td>...</td>\n",
       "      <td>0.034927</td>\n",
       "      <td>0.087479</td>\n",
       "      <td>0.006538</td>\n",
       "      <td>0.018238</td>\n",
       "      <td>0.010428</td>\n",
       "      <td>0.004054</td>\n",
       "      <td>0.034271</td>\n",
       "      <td>0.006479</td>\n",
       "      <td>0.102239</td>\n",
       "      <td>-0.011539</td>\n",
       "    </tr>\n",
       "    <tr>\n",
       "      <th>1</th>\n",
       "      <td>1</td>\n",
       "      <td>2012</td>\n",
       "      <td>langid.py: An Off-the-shelf Language Identific...</td>\n",
       "      <td>20</td>\n",
       "      <td>-0.105661</td>\n",
       "      <td>-0.071641</td>\n",
       "      <td>0.016773</td>\n",
       "      <td>0.029877</td>\n",
       "      <td>0.055789</td>\n",
       "      <td>0.004766</td>\n",
       "      <td>...</td>\n",
       "      <td>0.031761</td>\n",
       "      <td>-0.009294</td>\n",
       "      <td>-0.067167</td>\n",
       "      <td>-0.002346</td>\n",
       "      <td>0.067897</td>\n",
       "      <td>0.026724</td>\n",
       "      <td>-0.035206</td>\n",
       "      <td>0.074351</td>\n",
       "      <td>0.032862</td>\n",
       "      <td>0.036407</td>\n",
       "    </tr>\n",
       "    <tr>\n",
       "      <th>2</th>\n",
       "      <td>2</td>\n",
       "      <td>2012</td>\n",
       "      <td>ACCURAT Toolkit for Multi-Level Alignment and ...</td>\n",
       "      <td>20</td>\n",
       "      <td>-0.035305</td>\n",
       "      <td>0.002230</td>\n",
       "      <td>-0.027929</td>\n",
       "      <td>-0.065353</td>\n",
       "      <td>-0.033240</td>\n",
       "      <td>-0.010883</td>\n",
       "      <td>...</td>\n",
       "      <td>-0.018830</td>\n",
       "      <td>0.054944</td>\n",
       "      <td>-0.051018</td>\n",
       "      <td>-0.008120</td>\n",
       "      <td>0.091906</td>\n",
       "      <td>0.000924</td>\n",
       "      <td>-0.009921</td>\n",
       "      <td>-0.073989</td>\n",
       "      <td>0.058452</td>\n",
       "      <td>-0.002942</td>\n",
       "    </tr>\n",
       "    <tr>\n",
       "      <th>3</th>\n",
       "      <td>3</td>\n",
       "      <td>2013</td>\n",
       "      <td>Large tagset labeling using Feed Forward Neura...</td>\n",
       "      <td>20</td>\n",
       "      <td>-0.053140</td>\n",
       "      <td>-0.046510</td>\n",
       "      <td>0.060817</td>\n",
       "      <td>0.003574</td>\n",
       "      <td>-0.023673</td>\n",
       "      <td>-0.035749</td>\n",
       "      <td>...</td>\n",
       "      <td>-0.013833</td>\n",
       "      <td>0.046963</td>\n",
       "      <td>-0.008109</td>\n",
       "      <td>-0.038660</td>\n",
       "      <td>0.006526</td>\n",
       "      <td>0.051414</td>\n",
       "      <td>0.055248</td>\n",
       "      <td>0.082104</td>\n",
       "      <td>0.011507</td>\n",
       "      <td>0.023412</td>\n",
       "    </tr>\n",
       "    <tr>\n",
       "      <th>4</th>\n",
       "      <td>4</td>\n",
       "      <td>2019</td>\n",
       "      <td>Counterfactual Data Augmentation for Mitigatin...</td>\n",
       "      <td>20</td>\n",
       "      <td>0.045053</td>\n",
       "      <td>0.051824</td>\n",
       "      <td>0.097364</td>\n",
       "      <td>0.006804</td>\n",
       "      <td>-0.012303</td>\n",
       "      <td>-0.034496</td>\n",
       "      <td>...</td>\n",
       "      <td>0.017489</td>\n",
       "      <td>-0.026561</td>\n",
       "      <td>-0.073428</td>\n",
       "      <td>0.044345</td>\n",
       "      <td>-0.005372</td>\n",
       "      <td>0.094221</td>\n",
       "      <td>0.085115</td>\n",
       "      <td>0.072723</td>\n",
       "      <td>0.025918</td>\n",
       "      <td>-0.102300</td>\n",
       "    </tr>\n",
       "    <tr>\n",
       "      <th>...</th>\n",
       "      <td>...</td>\n",
       "      <td>...</td>\n",
       "      <td>...</td>\n",
       "      <td>...</td>\n",
       "      <td>...</td>\n",
       "      <td>...</td>\n",
       "      <td>...</td>\n",
       "      <td>...</td>\n",
       "      <td>...</td>\n",
       "      <td>...</td>\n",
       "      <td>...</td>\n",
       "      <td>...</td>\n",
       "      <td>...</td>\n",
       "      <td>...</td>\n",
       "      <td>...</td>\n",
       "      <td>...</td>\n",
       "      <td>...</td>\n",
       "      <td>...</td>\n",
       "      <td>...</td>\n",
       "      <td>...</td>\n",
       "      <td>...</td>\n",
       "    </tr>\n",
       "    <tr>\n",
       "      <th>6843</th>\n",
       "      <td>6843</td>\n",
       "      <td>1999</td>\n",
       "      <td>The grapho-phonological system of written Fren...</td>\n",
       "      <td>19</td>\n",
       "      <td>0.008246</td>\n",
       "      <td>-0.060258</td>\n",
       "      <td>0.026317</td>\n",
       "      <td>-0.046699</td>\n",
       "      <td>-0.074417</td>\n",
       "      <td>0.036662</td>\n",
       "      <td>...</td>\n",
       "      <td>0.050305</td>\n",
       "      <td>-0.023778</td>\n",
       "      <td>-0.001076</td>\n",
       "      <td>0.043697</td>\n",
       "      <td>-0.003842</td>\n",
       "      <td>0.000818</td>\n",
       "      <td>0.008940</td>\n",
       "      <td>0.064710</td>\n",
       "      <td>-0.008511</td>\n",
       "      <td>-0.080687</td>\n",
       "    </tr>\n",
       "    <tr>\n",
       "      <th>6844</th>\n",
       "      <td>6844</td>\n",
       "      <td>1999</td>\n",
       "      <td>Acquiring Lexical Generalizations from Corpora...</td>\n",
       "      <td>19</td>\n",
       "      <td>0.037969</td>\n",
       "      <td>-0.074707</td>\n",
       "      <td>0.098113</td>\n",
       "      <td>0.012809</td>\n",
       "      <td>-0.000898</td>\n",
       "      <td>-0.016804</td>\n",
       "      <td>...</td>\n",
       "      <td>0.036504</td>\n",
       "      <td>0.056846</td>\n",
       "      <td>-0.042679</td>\n",
       "      <td>-0.013597</td>\n",
       "      <td>0.019778</td>\n",
       "      <td>0.020553</td>\n",
       "      <td>0.036398</td>\n",
       "      <td>0.002618</td>\n",
       "      <td>0.045448</td>\n",
       "      <td>-0.045846</td>\n",
       "    </tr>\n",
       "    <tr>\n",
       "      <th>6845</th>\n",
       "      <td>6845</td>\n",
       "      <td>1999</td>\n",
       "      <td>Using Aggregation for Selecting Content when G...</td>\n",
       "      <td>19</td>\n",
       "      <td>-0.050357</td>\n",
       "      <td>0.010708</td>\n",
       "      <td>-0.037823</td>\n",
       "      <td>0.015405</td>\n",
       "      <td>0.047308</td>\n",
       "      <td>0.030114</td>\n",
       "      <td>...</td>\n",
       "      <td>0.072255</td>\n",
       "      <td>0.113188</td>\n",
       "      <td>-0.046559</td>\n",
       "      <td>-0.028938</td>\n",
       "      <td>-0.014051</td>\n",
       "      <td>0.018255</td>\n",
       "      <td>0.047413</td>\n",
       "      <td>0.031819</td>\n",
       "      <td>-0.069908</td>\n",
       "      <td>0.041277</td>\n",
       "    </tr>\n",
       "    <tr>\n",
       "      <th>6846</th>\n",
       "      <td>6846</td>\n",
       "      <td>1999</td>\n",
       "      <td></td>\n",
       "      <td>19</td>\n",
       "      <td>-0.118838</td>\n",
       "      <td>0.048299</td>\n",
       "      <td>-0.002548</td>\n",
       "      <td>-0.011011</td>\n",
       "      <td>0.051951</td>\n",
       "      <td>0.010292</td>\n",
       "      <td>...</td>\n",
       "      <td>0.107304</td>\n",
       "      <td>0.011428</td>\n",
       "      <td>0.013367</td>\n",
       "      <td>-0.012747</td>\n",
       "      <td>0.061454</td>\n",
       "      <td>0.035641</td>\n",
       "      <td>0.158746</td>\n",
       "      <td>0.126409</td>\n",
       "      <td>0.046549</td>\n",
       "      <td>-0.015717</td>\n",
       "    </tr>\n",
       "    <tr>\n",
       "      <th>6847</th>\n",
       "      <td>6847</td>\n",
       "      <td>2000</td>\n",
       "      <td>Spoken Dialogue Management Using Probabilistic...</td>\n",
       "      <td>20</td>\n",
       "      <td>-0.011156</td>\n",
       "      <td>-0.035221</td>\n",
       "      <td>0.062181</td>\n",
       "      <td>-0.055601</td>\n",
       "      <td>-0.029288</td>\n",
       "      <td>-0.072737</td>\n",
       "      <td>...</td>\n",
       "      <td>0.079868</td>\n",
       "      <td>-0.033381</td>\n",
       "      <td>0.051192</td>\n",
       "      <td>-0.038501</td>\n",
       "      <td>-0.020966</td>\n",
       "      <td>0.045913</td>\n",
       "      <td>-0.038903</td>\n",
       "      <td>0.033980</td>\n",
       "      <td>-0.029985</td>\n",
       "      <td>-0.002544</td>\n",
       "    </tr>\n",
       "  </tbody>\n",
       "</table>\n",
       "<p>6848 rows × 388 columns</p>\n",
       "</div>"
      ],
      "text/plain": [
       "      type  year                                              title  era_id  \\\n",
       "0        0  2007  Bilingual Terminology Mining -Using Brain, not...      20   \n",
       "1        1  2012  langid.py: An Off-the-shelf Language Identific...      20   \n",
       "2        2  2012  ACCURAT Toolkit for Multi-Level Alignment and ...      20   \n",
       "3        3  2013  Large tagset labeling using Feed Forward Neura...      20   \n",
       "4        4  2019  Counterfactual Data Augmentation for Mitigatin...      20   \n",
       "...    ...   ...                                                ...     ...   \n",
       "6843  6843  1999  The grapho-phonological system of written Fren...      19   \n",
       "6844  6844  1999  Acquiring Lexical Generalizations from Corpora...      19   \n",
       "6845  6845  1999  Using Aggregation for Selecting Content when G...      19   \n",
       "6846  6846  1999                                                         19   \n",
       "6847  6847  2000  Spoken Dialogue Management Using Probabilistic...      20   \n",
       "\n",
       "           x_0       x_1       x_2       x_3       x_4       x_5  ...  \\\n",
       "0     0.018361 -0.069289 -0.045787 -0.043936 -0.018778 -0.021305  ...   \n",
       "1    -0.105661 -0.071641  0.016773  0.029877  0.055789  0.004766  ...   \n",
       "2    -0.035305  0.002230 -0.027929 -0.065353 -0.033240 -0.010883  ...   \n",
       "3    -0.053140 -0.046510  0.060817  0.003574 -0.023673 -0.035749  ...   \n",
       "4     0.045053  0.051824  0.097364  0.006804 -0.012303 -0.034496  ...   \n",
       "...        ...       ...       ...       ...       ...       ...  ...   \n",
       "6843  0.008246 -0.060258  0.026317 -0.046699 -0.074417  0.036662  ...   \n",
       "6844  0.037969 -0.074707  0.098113  0.012809 -0.000898 -0.016804  ...   \n",
       "6845 -0.050357  0.010708 -0.037823  0.015405  0.047308  0.030114  ...   \n",
       "6846 -0.118838  0.048299 -0.002548 -0.011011  0.051951  0.010292  ...   \n",
       "6847 -0.011156 -0.035221  0.062181 -0.055601 -0.029288 -0.072737  ...   \n",
       "\n",
       "         x_374     x_375     x_376     x_377     x_378     x_379     x_380  \\\n",
       "0     0.034927  0.087479  0.006538  0.018238  0.010428  0.004054  0.034271   \n",
       "1     0.031761 -0.009294 -0.067167 -0.002346  0.067897  0.026724 -0.035206   \n",
       "2    -0.018830  0.054944 -0.051018 -0.008120  0.091906  0.000924 -0.009921   \n",
       "3    -0.013833  0.046963 -0.008109 -0.038660  0.006526  0.051414  0.055248   \n",
       "4     0.017489 -0.026561 -0.073428  0.044345 -0.005372  0.094221  0.085115   \n",
       "...        ...       ...       ...       ...       ...       ...       ...   \n",
       "6843  0.050305 -0.023778 -0.001076  0.043697 -0.003842  0.000818  0.008940   \n",
       "6844  0.036504  0.056846 -0.042679 -0.013597  0.019778  0.020553  0.036398   \n",
       "6845  0.072255  0.113188 -0.046559 -0.028938 -0.014051  0.018255  0.047413   \n",
       "6846  0.107304  0.011428  0.013367 -0.012747  0.061454  0.035641  0.158746   \n",
       "6847  0.079868 -0.033381  0.051192 -0.038501 -0.020966  0.045913 -0.038903   \n",
       "\n",
       "         x_381     x_382     x_383  \n",
       "0     0.006479  0.102239 -0.011539  \n",
       "1     0.074351  0.032862  0.036407  \n",
       "2    -0.073989  0.058452 -0.002942  \n",
       "3     0.082104  0.011507  0.023412  \n",
       "4     0.072723  0.025918 -0.102300  \n",
       "...        ...       ...       ...  \n",
       "6843  0.064710 -0.008511 -0.080687  \n",
       "6844  0.002618  0.045448 -0.045846  \n",
       "6845  0.031819 -0.069908  0.041277  \n",
       "6846  0.126409  0.046549 -0.015717  \n",
       "6847  0.033980 -0.029985 -0.002544  \n",
       "\n",
       "[6848 rows x 388 columns]"
      ]
     },
     "execution_count": 16,
     "metadata": {},
     "output_type": "execute_result"
    }
   ],
   "source": [
    "data = [[(i)] + list(embeddings[i]) for i in range(len(docs))]\n",
    "column_names = [\"type\"]+[\"x_\"+str(dim) for dim in range(len(embeddings[0]))]\n",
    "out = pd.DataFrame(data, columns=column_names)\n",
    "# out = out.sort_values([\"type\"])\n",
    "out.to_csv(\"anthology2022.csv\", index=None)\n",
    "out.insert(1, 'year', origin_data['year'].values)\n",
    "out.insert(2, 'title', origin_data['title'].values)\n",
    "out.insert(3, 'era_id', origin_data['era_id'].values)\n",
    "out"
   ]
  },
  {
   "cell_type": "code",
   "execution_count": 15,
   "metadata": {},
   "outputs": [
    {
     "data": {
      "text/plain": [
       "(684, 2)"
      ]
     },
     "execution_count": 15,
     "metadata": {},
     "output_type": "execute_result"
    }
   ],
   "source": [
    "# sampling\n",
    "SAMPLING_RATE = 0.1\n",
    "sampled_out = out.sample(n=(int(len(out)*SAMPLING_RATE)), random_state=1)\n",
    "title_list = out['title'].values\n",
    "X = sampled_out.iloc[:, 4:]\n",
    "pca = PCA(n_components=2)\n",
    "pca.fit(X)\n",
    "x_pcx = pca.transform(X)\n",
    "x_pcx.shape"
   ]
  },
  {
   "cell_type": "code",
   "execution_count": 87,
   "metadata": {},
   "outputs": [],
   "source": [
    "year_list = list(sampled_out['era_id'].values)\n",
    "mapped_year_list = year_list"
   ]
  },
  {
   "cell_type": "code",
   "execution_count": 88,
   "metadata": {},
   "outputs": [
    {
     "data": {
      "application/vnd.jupyter.widget-view+json": {
       "model_id": "babe2fe790554ad397669779b44eff4c",
       "version_major": 2,
       "version_minor": 0
      },
      "image/png": "[encoded data removed]",
      "text/html": [
       "\n",
       "            <div style=\"display: inline-block;\">\n",
       "                <div class=\"jupyter-widgets widget-label\" style=\"text-align: center;\">\n",
       "                    Figure\n",
       "                </div>\n",
       "                <img src='data:image/png;base64,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' width=640.0/>\n",
       "            </div>\n",
       "        "
      ],
      "text/plain": [
       "Canvas(toolbar=Toolbar(toolitems=[('Home', 'Reset original view', 'home', 'home'), ('Back', 'Back to previous …"
      ]
     },
     "metadata": {},
     "output_type": "display_data"
    }
   ],
   "source": [
    "fig, ax = plt.subplots()\n",
    "sc = ax.scatter(x_pcx[:, 0], x_pcx[:, 1], c=mapped_year_list,  alpha=0.4)\n",
    "\n",
    "# produce a legend with the unique colors from the scatter\n",
    "legend1 = ax.legend(*sc.legend_elements(),\n",
    "                    loc=\"lower left\", title=\"Classes\")\n",
    "ax.add_artist(legend1)\n",
    "\n",
    "cursor = mplcursors.cursor(sc, hover=True)\n",
    "@cursor.connect(\"add\")\n",
    "def on_add(sel):\n",
    "    sel.annotation.set(text=title_list[sel.target.index])\n",
    "plt.show()"
   ]
  },
  {
   "cell_type": "markdown",
   "metadata": {},
   "source": [
    "# 2000年と２０１９年の比較"
   ]
  },
  {
   "cell_type": "code",
   "execution_count": 33,
   "metadata": {},
   "outputs": [
    {
     "data": {
      "text/plain": [
       "(240, 2)"
      ]
     },
     "execution_count": 33,
     "metadata": {},
     "output_type": "execute_result"
    }
   ],
   "source": [
    "df1 = out[(out['year'] == 2000)].sample(n=80)\n",
    "# df2 = out[(out['year'] == 2005)].sample(n=80)\n",
    "df3 = out[(out['year'] == 2010)].sample(n=80)\n",
    "# df4 = out[(out['year'] == 2010)].sample(n=80)\n",
    "df5 = out[(out['year'] == 2019)].sample(n=80)\n",
    "out = pd.concat([df1, df3, df5], axis=0) # df2, df3, df4,\n",
    "\n",
    "SAMPLING_RATE = 1.0\n",
    "sampled_out = out.sample(n=(int(len(out)*SAMPLING_RATE)), random_state=1)\n",
    "title_list = out['title'].values\n",
    "X = sampled_out.iloc[:, 4:]\n",
    "pca = PCA(n_components=2)\n",
    "pca.fit(X)\n",
    "x_pcx = pca.transform(X)\n",
    "x_pcx.shape"
   ]
  },
  {
   "cell_type": "code",
   "execution_count": 34,
   "metadata": {},
   "outputs": [],
   "source": [
    "year_list = list(sampled_out['year'].values)\n",
    "mapped_year_list = year_list"
   ]
  },
  {
   "cell_type": "code",
   "execution_count": 35,
   "metadata": {},
   "outputs": [
    {
     "data": {
      "application/vnd.jupyter.widget-view+json": {
       "model_id": "f7f2cf723f484a45873174ba0bcc7221",
       "version_major": 2,
       "version_minor": 0
      },
      "image/png": "[encoded data removed]",
      "text/html": [
       "\n",
       "            <div style=\"display: inline-block;\">\n",
       "                <div class=\"jupyter-widgets widget-label\" style=\"text-align: center;\">\n",
       "                    Figure\n",
       "                </div>\n",
       "                <img src='data:image/png;base64,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' width=640.0/>\n",
       "            </div>\n",
       "        "
      ],
      "text/plain": [
       "Canvas(toolbar=Toolbar(toolitems=[('Home', 'Reset original view', 'home', 'home'), ('Back', 'Back to previous …"
      ]
     },
     "metadata": {},
     "output_type": "display_data"
    }
   ],
   "source": [
    "fig, ax = plt.subplots()\n",
    "sc = ax.scatter(x_pcx[:, 0], x_pcx[:, 1], c=mapped_year_list,  alpha=0.5)\n",
    "\n",
    "# produce a legend with the unique colors from the scatter\n",
    "legend1 = ax.legend(*sc.legend_elements(),\n",
    "                    loc=\"upper right\", title=\"Classes\")\n",
    "ax.add_artist(legend1)\n",
    "\n",
    "cursor = mplcursors.cursor(sc, hover=True)\n",
    "@cursor.connect(\"add\")\n",
    "def on_add(sel):\n",
    "    sel.annotation.set(text=title_list[sel.target.index])\n",
    "plt.show()"
   ]
  },
  {
   "cell_type": "code",
   "execution_count": 36,
   "metadata": {},
   "outputs": [],
   "source": [
    "fig = go.Figure(data=go.Scatter(x=x_pcx[:, 0],\n",
    "                        y=x_pcx[:, 1],\n",
    "                        mode='markers',\n",
    "                        text=title_list, # hover text goes here\n",
    "                        textposition=\"top center\",\n",
    "                        marker=dict(\n",
    "                                color=mapped_year_list, #set color equal to a variable\n",
    "                                colorscale='Bluered_r', # one of plotly colorscales\n",
    "                                showscale=True,\n",
    "                                opacity=0.8\n",
    "                                )        \n",
    "                        ))\n",
    "fig.update_layout(title=f\"Comparison of 2000, 2015 and 2019 ACL papers(SBERT)\")\n",
    "fig.write_html(f\"Comparison_2000_2010_2015_2000(SBERT).html\")"
   ]
  },
  {
   "cell_type": "markdown",
   "metadata": {},
   "source": [
    "1. 年代を細切れにする(2000と2022)  \n",
    "2. センテンスBERTを用いる  \n",
    "PCAだけでよい  \n",
    "2. タイトルを入力として、異なるマークで表示する。\n",
    "3. 年代ごとに色をプロットする(虹色に出力？？)\n",
    "4. タイトルからドットを探す。(ベストアワード)  \n",
    "5. Kernel PCA  "
   ]
  },
  {
   "cell_type": "markdown",
   "metadata": {},
   "source": [
    "# Best Pape 2019"
   ]
  },
  {
   "cell_type": "code",
   "execution_count": 97,
   "metadata": {},
   "outputs": [
    {
     "data": {
      "text/html": [
       "<div>\n",
       "<style scoped>\n",
       "    .dataframe tbody tr th:only-of-type {\n",
       "        vertical-align: middle;\n",
       "    }\n",
       "\n",
       "    .dataframe tbody tr th {\n",
       "        vertical-align: top;\n",
       "    }\n",
       "\n",
       "    .dataframe thead th {\n",
       "        text-align: right;\n",
       "    }\n",
       "</style>\n",
       "<table border=\"1\" class=\"dataframe\">\n",
       "  <thead>\n",
       "    <tr style=\"text-align: right;\">\n",
       "      <th></th>\n",
       "      <th>type</th>\n",
       "      <th>year</th>\n",
       "      <th>title</th>\n",
       "      <th>era_id</th>\n",
       "      <th>x_0</th>\n",
       "      <th>x_1</th>\n",
       "      <th>x_2</th>\n",
       "      <th>x_3</th>\n",
       "      <th>x_4</th>\n",
       "      <th>x_5</th>\n",
       "      <th>...</th>\n",
       "      <th>x_374</th>\n",
       "      <th>x_375</th>\n",
       "      <th>x_376</th>\n",
       "      <th>x_377</th>\n",
       "      <th>x_378</th>\n",
       "      <th>x_379</th>\n",
       "      <th>x_380</th>\n",
       "      <th>x_381</th>\n",
       "      <th>x_382</th>\n",
       "      <th>x_383</th>\n",
       "    </tr>\n",
       "  </thead>\n",
       "  <tbody>\n",
       "    <tr>\n",
       "      <th>4</th>\n",
       "      <td>4</td>\n",
       "      <td>2019</td>\n",
       "      <td>Counterfactual Data Augmentation for Mitigatin...</td>\n",
       "      <td>20</td>\n",
       "      <td>0.045053</td>\n",
       "      <td>0.051824</td>\n",
       "      <td>0.097364</td>\n",
       "      <td>0.006804</td>\n",
       "      <td>-0.012303</td>\n",
       "      <td>-0.034496</td>\n",
       "      <td>...</td>\n",
       "      <td>0.017489</td>\n",
       "      <td>-0.026561</td>\n",
       "      <td>-0.073428</td>\n",
       "      <td>0.044345</td>\n",
       "      <td>-0.005372</td>\n",
       "      <td>0.094221</td>\n",
       "      <td>0.085115</td>\n",
       "      <td>0.072723</td>\n",
       "      <td>0.025918</td>\n",
       "      <td>-0.102300</td>\n",
       "    </tr>\n",
       "    <tr>\n",
       "      <th>7</th>\n",
       "      <td>7</td>\n",
       "      <td>2019</td>\n",
       "      <td>Unsupervised Discovery of Gendered Language th...</td>\n",
       "      <td>20</td>\n",
       "      <td>0.055325</td>\n",
       "      <td>-0.026664</td>\n",
       "      <td>0.026544</td>\n",
       "      <td>0.035051</td>\n",
       "      <td>-0.025747</td>\n",
       "      <td>0.028869</td>\n",
       "      <td>...</td>\n",
       "      <td>0.042687</td>\n",
       "      <td>-0.009107</td>\n",
       "      <td>-0.044295</td>\n",
       "      <td>0.062166</td>\n",
       "      <td>0.015808</td>\n",
       "      <td>0.011218</td>\n",
       "      <td>0.014497</td>\n",
       "      <td>0.052990</td>\n",
       "      <td>0.027738</td>\n",
       "      <td>-0.078972</td>\n",
       "    </tr>\n",
       "    <tr>\n",
       "      <th>197</th>\n",
       "      <td>197</td>\n",
       "      <td>2019</td>\n",
       "      <td>Margin-based Parallel Corpus Mining with Multi...</td>\n",
       "      <td>20</td>\n",
       "      <td>-0.043548</td>\n",
       "      <td>-0.073220</td>\n",
       "      <td>-0.017195</td>\n",
       "      <td>-0.006280</td>\n",
       "      <td>0.074463</td>\n",
       "      <td>0.062449</td>\n",
       "      <td>...</td>\n",
       "      <td>0.020356</td>\n",
       "      <td>0.067960</td>\n",
       "      <td>-0.048375</td>\n",
       "      <td>-0.060403</td>\n",
       "      <td>0.074845</td>\n",
       "      <td>0.020359</td>\n",
       "      <td>0.031584</td>\n",
       "      <td>-0.009068</td>\n",
       "      <td>-0.054869</td>\n",
       "      <td>0.029275</td>\n",
       "    </tr>\n",
       "    <tr>\n",
       "      <th>214</th>\n",
       "      <td>214</td>\n",
       "      <td>2019</td>\n",
       "      <td>Searching for Effective Neural Extractive Summ...</td>\n",
       "      <td>20</td>\n",
       "      <td>-0.087911</td>\n",
       "      <td>-0.016023</td>\n",
       "      <td>0.083686</td>\n",
       "      <td>0.014348</td>\n",
       "      <td>0.102073</td>\n",
       "      <td>0.052615</td>\n",
       "      <td>...</td>\n",
       "      <td>-0.022277</td>\n",
       "      <td>0.001834</td>\n",
       "      <td>0.037592</td>\n",
       "      <td>-0.062821</td>\n",
       "      <td>0.059469</td>\n",
       "      <td>0.020610</td>\n",
       "      <td>-0.007068</td>\n",
       "      <td>0.078916</td>\n",
       "      <td>-0.054624</td>\n",
       "      <td>-0.012028</td>\n",
       "    </tr>\n",
       "    <tr>\n",
       "      <th>216</th>\n",
       "      <td>216</td>\n",
       "      <td>2019</td>\n",
       "      <td>Style Transformer: Unpaired Text Style Transfe...</td>\n",
       "      <td>20</td>\n",
       "      <td>-0.090578</td>\n",
       "      <td>-0.026025</td>\n",
       "      <td>0.070133</td>\n",
       "      <td>0.055996</td>\n",
       "      <td>0.007759</td>\n",
       "      <td>0.059559</td>\n",
       "      <td>...</td>\n",
       "      <td>0.018578</td>\n",
       "      <td>0.012675</td>\n",
       "      <td>0.015493</td>\n",
       "      <td>0.084550</td>\n",
       "      <td>0.030756</td>\n",
       "      <td>0.020959</td>\n",
       "      <td>-0.017649</td>\n",
       "      <td>0.082438</td>\n",
       "      <td>0.026562</td>\n",
       "      <td>-0.056312</td>\n",
       "    </tr>\n",
       "    <tr>\n",
       "      <th>...</th>\n",
       "      <td>...</td>\n",
       "      <td>...</td>\n",
       "      <td>...</td>\n",
       "      <td>...</td>\n",
       "      <td>...</td>\n",
       "      <td>...</td>\n",
       "      <td>...</td>\n",
       "      <td>...</td>\n",
       "      <td>...</td>\n",
       "      <td>...</td>\n",
       "      <td>...</td>\n",
       "      <td>...</td>\n",
       "      <td>...</td>\n",
       "      <td>...</td>\n",
       "      <td>...</td>\n",
       "      <td>...</td>\n",
       "      <td>...</td>\n",
       "      <td>...</td>\n",
       "      <td>...</td>\n",
       "      <td>...</td>\n",
       "      <td>...</td>\n",
       "    </tr>\n",
       "    <tr>\n",
       "      <th>6806</th>\n",
       "      <td>6806</td>\n",
       "      <td>2019</td>\n",
       "      <td>Gender Stereotypes Differ between Male and Fem...</td>\n",
       "      <td>20</td>\n",
       "      <td>0.046365</td>\n",
       "      <td>0.002689</td>\n",
       "      <td>0.039982</td>\n",
       "      <td>0.063683</td>\n",
       "      <td>-0.007623</td>\n",
       "      <td>-0.039271</td>\n",
       "      <td>...</td>\n",
       "      <td>0.016852</td>\n",
       "      <td>-0.021938</td>\n",
       "      <td>-0.065961</td>\n",
       "      <td>0.065509</td>\n",
       "      <td>0.014462</td>\n",
       "      <td>0.008181</td>\n",
       "      <td>0.118501</td>\n",
       "      <td>0.013749</td>\n",
       "      <td>0.004447</td>\n",
       "      <td>-0.097342</td>\n",
       "    </tr>\n",
       "    <tr>\n",
       "      <th>6809</th>\n",
       "      <td>6809</td>\n",
       "      <td>2019</td>\n",
       "      <td>Natural Language Generation: Recently Learned ...</td>\n",
       "      <td>20</td>\n",
       "      <td>-0.034928</td>\n",
       "      <td>-0.045406</td>\n",
       "      <td>0.002385</td>\n",
       "      <td>0.063168</td>\n",
       "      <td>-0.065263</td>\n",
       "      <td>0.067551</td>\n",
       "      <td>...</td>\n",
       "      <td>0.077954</td>\n",
       "      <td>0.003297</td>\n",
       "      <td>0.036508</td>\n",
       "      <td>0.023411</td>\n",
       "      <td>0.079902</td>\n",
       "      <td>-0.005770</td>\n",
       "      <td>0.033541</td>\n",
       "      <td>0.121778</td>\n",
       "      <td>0.062387</td>\n",
       "      <td>0.002115</td>\n",
       "    </tr>\n",
       "    <tr>\n",
       "      <th>6827</th>\n",
       "      <td>6827</td>\n",
       "      <td>2019</td>\n",
       "      <td>Towards Turkish Abstract Meaning Representation</td>\n",
       "      <td>20</td>\n",
       "      <td>0.035353</td>\n",
       "      <td>0.065390</td>\n",
       "      <td>0.082225</td>\n",
       "      <td>0.001338</td>\n",
       "      <td>-0.001349</td>\n",
       "      <td>0.011120</td>\n",
       "      <td>...</td>\n",
       "      <td>0.123215</td>\n",
       "      <td>0.043724</td>\n",
       "      <td>0.031627</td>\n",
       "      <td>0.040976</td>\n",
       "      <td>0.042600</td>\n",
       "      <td>-0.017804</td>\n",
       "      <td>0.082463</td>\n",
       "      <td>0.089982</td>\n",
       "      <td>0.016809</td>\n",
       "      <td>-0.049283</td>\n",
       "    </tr>\n",
       "    <tr>\n",
       "      <th>6830</th>\n",
       "      <td>6830</td>\n",
       "      <td>2019</td>\n",
       "      <td>Predicting the Outcome of Deliberative Democra...</td>\n",
       "      <td>20</td>\n",
       "      <td>-0.004017</td>\n",
       "      <td>-0.119011</td>\n",
       "      <td>0.006992</td>\n",
       "      <td>0.003682</td>\n",
       "      <td>0.042108</td>\n",
       "      <td>-0.002981</td>\n",
       "      <td>...</td>\n",
       "      <td>0.057444</td>\n",
       "      <td>0.069133</td>\n",
       "      <td>-0.005857</td>\n",
       "      <td>0.003294</td>\n",
       "      <td>0.040088</td>\n",
       "      <td>0.074956</td>\n",
       "      <td>0.047436</td>\n",
       "      <td>0.075340</td>\n",
       "      <td>-0.021177</td>\n",
       "      <td>-0.023391</td>\n",
       "    </tr>\n",
       "    <tr>\n",
       "      <th>6834</th>\n",
       "      <td>6834</td>\n",
       "      <td>2019</td>\n",
       "      <td>Distributed Knowledge Based Clinical Auto-Codi...</td>\n",
       "      <td>20</td>\n",
       "      <td>-0.019856</td>\n",
       "      <td>0.028915</td>\n",
       "      <td>-0.006827</td>\n",
       "      <td>-0.017016</td>\n",
       "      <td>-0.006566</td>\n",
       "      <td>0.089373</td>\n",
       "      <td>...</td>\n",
       "      <td>0.060038</td>\n",
       "      <td>0.094312</td>\n",
       "      <td>0.058812</td>\n",
       "      <td>-0.003157</td>\n",
       "      <td>-0.001143</td>\n",
       "      <td>-0.040357</td>\n",
       "      <td>0.043941</td>\n",
       "      <td>0.055771</td>\n",
       "      <td>0.027953</td>\n",
       "      <td>0.006400</td>\n",
       "    </tr>\n",
       "  </tbody>\n",
       "</table>\n",
       "<p>771 rows × 388 columns</p>\n",
       "</div>"
      ],
      "text/plain": [
       "      type  year                                              title  era_id  \\\n",
       "4        4  2019  Counterfactual Data Augmentation for Mitigatin...      20   \n",
       "7        7  2019  Unsupervised Discovery of Gendered Language th...      20   \n",
       "197    197  2019  Margin-based Parallel Corpus Mining with Multi...      20   \n",
       "214    214  2019  Searching for Effective Neural Extractive Summ...      20   \n",
       "216    216  2019  Style Transformer: Unpaired Text Style Transfe...      20   \n",
       "...    ...   ...                                                ...     ...   \n",
       "6806  6806  2019  Gender Stereotypes Differ between Male and Fem...      20   \n",
       "6809  6809  2019  Natural Language Generation: Recently Learned ...      20   \n",
       "6827  6827  2019    Towards Turkish Abstract Meaning Representation      20   \n",
       "6830  6830  2019  Predicting the Outcome of Deliberative Democra...      20   \n",
       "6834  6834  2019  Distributed Knowledge Based Clinical Auto-Codi...      20   \n",
       "\n",
       "           x_0       x_1       x_2       x_3       x_4       x_5  ...  \\\n",
       "4     0.045053  0.051824  0.097364  0.006804 -0.012303 -0.034496  ...   \n",
       "7     0.055325 -0.026664  0.026544  0.035051 -0.025747  0.028869  ...   \n",
       "197  -0.043548 -0.073220 -0.017195 -0.006280  0.074463  0.062449  ...   \n",
       "214  -0.087911 -0.016023  0.083686  0.014348  0.102073  0.052615  ...   \n",
       "216  -0.090578 -0.026025  0.070133  0.055996  0.007759  0.059559  ...   \n",
       "...        ...       ...       ...       ...       ...       ...  ...   \n",
       "6806  0.046365  0.002689  0.039982  0.063683 -0.007623 -0.039271  ...   \n",
       "6809 -0.034928 -0.045406  0.002385  0.063168 -0.065263  0.067551  ...   \n",
       "6827  0.035353  0.065390  0.082225  0.001338 -0.001349  0.011120  ...   \n",
       "6830 -0.004017 -0.119011  0.006992  0.003682  0.042108 -0.002981  ...   \n",
       "6834 -0.019856  0.028915 -0.006827 -0.017016 -0.006566  0.089373  ...   \n",
       "\n",
       "         x_374     x_375     x_376     x_377     x_378     x_379     x_380  \\\n",
       "4     0.017489 -0.026561 -0.073428  0.044345 -0.005372  0.094221  0.085115   \n",
       "7     0.042687 -0.009107 -0.044295  0.062166  0.015808  0.011218  0.014497   \n",
       "197   0.020356  0.067960 -0.048375 -0.060403  0.074845  0.020359  0.031584   \n",
       "214  -0.022277  0.001834  0.037592 -0.062821  0.059469  0.020610 -0.007068   \n",
       "216   0.018578  0.012675  0.015493  0.084550  0.030756  0.020959 -0.017649   \n",
       "...        ...       ...       ...       ...       ...       ...       ...   \n",
       "6806  0.016852 -0.021938 -0.065961  0.065509  0.014462  0.008181  0.118501   \n",
       "6809  0.077954  0.003297  0.036508  0.023411  0.079902 -0.005770  0.033541   \n",
       "6827  0.123215  0.043724  0.031627  0.040976  0.042600 -0.017804  0.082463   \n",
       "6830  0.057444  0.069133 -0.005857  0.003294  0.040088  0.074956  0.047436   \n",
       "6834  0.060038  0.094312  0.058812 -0.003157 -0.001143 -0.040357  0.043941   \n",
       "\n",
       "         x_381     x_382     x_383  \n",
       "4     0.072723  0.025918 -0.102300  \n",
       "7     0.052990  0.027738 -0.078972  \n",
       "197  -0.009068 -0.054869  0.029275  \n",
       "214   0.078916 -0.054624 -0.012028  \n",
       "216   0.082438  0.026562 -0.056312  \n",
       "...        ...       ...       ...  \n",
       "6806  0.013749  0.004447 -0.097342  \n",
       "6809  0.121778  0.062387  0.002115  \n",
       "6827  0.089982  0.016809 -0.049283  \n",
       "6830  0.075340 -0.021177 -0.023391  \n",
       "6834  0.055771  0.027953  0.006400  \n",
       "\n",
       "[771 rows x 388 columns]"
      ]
     },
     "execution_count": 97,
     "metadata": {},
     "output_type": "execute_result"
    }
   ],
   "source": [
    "out_2019 = out[(out['year'] == 2019)]\n",
    "out_2019"
   ]
  },
  {
   "cell_type": "code",
   "execution_count": 98,
   "metadata": {},
   "outputs": [
    {
     "data": {
      "text/plain": [
       "(771, 2)"
      ]
     },
     "execution_count": 98,
     "metadata": {},
     "output_type": "execute_result"
    }
   ],
   "source": [
    "title_list = out_2019['title'].values\n",
    "X = out_2019.iloc[:, 4:]\n",
    "pca = PCA(n_components=2)\n",
    "pca.fit(X)\n",
    "x_pcx = pca.transform(X)\n",
    "x_pcx.shape"
   ]
  },
  {
   "cell_type": "code",
   "execution_count": 99,
   "metadata": {},
   "outputs": [],
   "source": [
    "pcx_2019 =  pd.DataFrame(data=x_pcx, columns=['x1', 'x2'])"
   ]
  },
  {
   "cell_type": "code",
   "execution_count": 100,
   "metadata": {},
   "outputs": [],
   "source": [
    "pcx_2019.insert(0, 'title', out[out['year'] == 2019]['title'].values)\n",
    "pcx_2019.insert(1, 'award', 'normal')\n",
    "pcx_2019.insert(2, 'lab_or_not', 'notlab')"
   ]
  },
  {
   "cell_type": "code",
   "execution_count": 101,
   "metadata": {},
   "outputs": [
    {
     "data": {
      "text/html": [
       "<div>\n",
       "<style scoped>\n",
       "    .dataframe tbody tr th:only-of-type {\n",
       "        vertical-align: middle;\n",
       "    }\n",
       "\n",
       "    .dataframe tbody tr th {\n",
       "        vertical-align: top;\n",
       "    }\n",
       "\n",
       "    .dataframe thead th {\n",
       "        text-align: right;\n",
       "    }\n",
       "</style>\n",
       "<table border=\"1\" class=\"dataframe\">\n",
       "  <thead>\n",
       "    <tr style=\"text-align: right;\">\n",
       "      <th></th>\n",
       "      <th>title</th>\n",
       "      <th>award</th>\n",
       "      <th>lab_or_not</th>\n",
       "      <th>x1</th>\n",
       "      <th>x2</th>\n",
       "    </tr>\n",
       "  </thead>\n",
       "  <tbody>\n",
       "    <tr>\n",
       "      <th>0</th>\n",
       "      <td>Counterfactual Data Augmentation for Mitigatin...</td>\n",
       "      <td>normal</td>\n",
       "      <td>notlab</td>\n",
       "      <td>0.139320</td>\n",
       "      <td>-0.332231</td>\n",
       "    </tr>\n",
       "    <tr>\n",
       "      <th>1</th>\n",
       "      <td>Unsupervised Discovery of Gendered Language th...</td>\n",
       "      <td>normal</td>\n",
       "      <td>notlab</td>\n",
       "      <td>0.259766</td>\n",
       "      <td>-0.252265</td>\n",
       "    </tr>\n",
       "    <tr>\n",
       "      <th>2</th>\n",
       "      <td>Margin-based Parallel Corpus Mining with Multi...</td>\n",
       "      <td>normal</td>\n",
       "      <td>notlab</td>\n",
       "      <td>-0.200357</td>\n",
       "      <td>-0.276789</td>\n",
       "    </tr>\n",
       "    <tr>\n",
       "      <th>3</th>\n",
       "      <td>Searching for Effective Neural Extractive Summ...</td>\n",
       "      <td>normal</td>\n",
       "      <td>notlab</td>\n",
       "      <td>-0.053926</td>\n",
       "      <td>0.118149</td>\n",
       "    </tr>\n",
       "    <tr>\n",
       "      <th>4</th>\n",
       "      <td>Style Transformer: Unpaired Text Style Transfe...</td>\n",
       "      <td>normal</td>\n",
       "      <td>notlab</td>\n",
       "      <td>-0.157265</td>\n",
       "      <td>0.012633</td>\n",
       "    </tr>\n",
       "    <tr>\n",
       "      <th>...</th>\n",
       "      <td>...</td>\n",
       "      <td>...</td>\n",
       "      <td>...</td>\n",
       "      <td>...</td>\n",
       "      <td>...</td>\n",
       "    </tr>\n",
       "    <tr>\n",
       "      <th>766</th>\n",
       "      <td>Gender Stereotypes Differ between Male and Fem...</td>\n",
       "      <td>normal</td>\n",
       "      <td>notlab</td>\n",
       "      <td>0.330665</td>\n",
       "      <td>-0.273892</td>\n",
       "    </tr>\n",
       "    <tr>\n",
       "      <th>767</th>\n",
       "      <td>Natural Language Generation: Recently Learned ...</td>\n",
       "      <td>normal</td>\n",
       "      <td>notlab</td>\n",
       "      <td>0.100572</td>\n",
       "      <td>0.037505</td>\n",
       "    </tr>\n",
       "    <tr>\n",
       "      <th>768</th>\n",
       "      <td>Towards Turkish Abstract Meaning Representation</td>\n",
       "      <td>normal</td>\n",
       "      <td>notlab</td>\n",
       "      <td>0.063818</td>\n",
       "      <td>-0.124650</td>\n",
       "    </tr>\n",
       "    <tr>\n",
       "      <th>769</th>\n",
       "      <td>Predicting the Outcome of Deliberative Democra...</td>\n",
       "      <td>normal</td>\n",
       "      <td>notlab</td>\n",
       "      <td>0.268620</td>\n",
       "      <td>0.004020</td>\n",
       "    </tr>\n",
       "    <tr>\n",
       "      <th>770</th>\n",
       "      <td>Distributed Knowledge Based Clinical Auto-Codi...</td>\n",
       "      <td>normal</td>\n",
       "      <td>notlab</td>\n",
       "      <td>0.109208</td>\n",
       "      <td>-0.103163</td>\n",
       "    </tr>\n",
       "  </tbody>\n",
       "</table>\n",
       "<p>771 rows × 5 columns</p>\n",
       "</div>"
      ],
      "text/plain": [
       "                                                 title   award lab_or_not  \\\n",
       "0    Counterfactual Data Augmentation for Mitigatin...  normal     notlab   \n",
       "1    Unsupervised Discovery of Gendered Language th...  normal     notlab   \n",
       "2    Margin-based Parallel Corpus Mining with Multi...  normal     notlab   \n",
       "3    Searching for Effective Neural Extractive Summ...  normal     notlab   \n",
       "4    Style Transformer: Unpaired Text Style Transfe...  normal     notlab   \n",
       "..                                                 ...     ...        ...   \n",
       "766  Gender Stereotypes Differ between Male and Fem...  normal     notlab   \n",
       "767  Natural Language Generation: Recently Learned ...  normal     notlab   \n",
       "768    Towards Turkish Abstract Meaning Representation  normal     notlab   \n",
       "769  Predicting the Outcome of Deliberative Democra...  normal     notlab   \n",
       "770  Distributed Knowledge Based Clinical Auto-Codi...  normal     notlab   \n",
       "\n",
       "           x1        x2  \n",
       "0    0.139320 -0.332231  \n",
       "1    0.259766 -0.252265  \n",
       "2   -0.200357 -0.276789  \n",
       "3   -0.053926  0.118149  \n",
       "4   -0.157265  0.012633  \n",
       "..        ...       ...  \n",
       "766  0.330665 -0.273892  \n",
       "767  0.100572  0.037505  \n",
       "768  0.063818 -0.124650  \n",
       "769  0.268620  0.004020  \n",
       "770  0.109208 -0.103163  \n",
       "\n",
       "[771 rows x 5 columns]"
      ]
     },
     "execution_count": 101,
     "metadata": {},
     "output_type": "execute_result"
    }
   ],
   "source": [
    "pcx_2019"
   ]
  },
  {
   "cell_type": "code",
   "execution_count": 102,
   "metadata": {},
   "outputs": [],
   "source": [
    "best_paper_awards = ['OpenKiwi: An Open Source Framework for Quality Estimation',\n",
    "'Emotion-Cause Pair Extraction: A New Task to Emotion Analysis in Texts.',\n",
    "'A Simple Theoretical Model of Importance for Summarization',\n",
    "'Transferable Multi-Domain State Generator for Task-Oriented Dialogue Systems',\n",
    "'We need to talk about standard splits',\n",
    "'Zero-shot Word Sense Disambiguation using Sense Definition Embeddings',\n",
    "'Do you know that Florence is packed with visitors? Evaluating state-of-the-art models of speaker commitment.',\n",
    "'Bridging the Gap between Training and Inference for Neural Machine Translation.',\n",
    "]"
   ]
  },
  {
   "cell_type": "code",
   "execution_count": 103,
   "metadata": {},
   "outputs": [
    {
     "data": {
      "text/html": [
       "<div>\n",
       "<style scoped>\n",
       "    .dataframe tbody tr th:only-of-type {\n",
       "        vertical-align: middle;\n",
       "    }\n",
       "\n",
       "    .dataframe tbody tr th {\n",
       "        vertical-align: top;\n",
       "    }\n",
       "\n",
       "    .dataframe thead th {\n",
       "        text-align: right;\n",
       "    }\n",
       "</style>\n",
       "<table border=\"1\" class=\"dataframe\">\n",
       "  <thead>\n",
       "    <tr style=\"text-align: right;\">\n",
       "      <th></th>\n",
       "      <th>title</th>\n",
       "      <th>award</th>\n",
       "      <th>lab_or_not</th>\n",
       "      <th>x1</th>\n",
       "      <th>x2</th>\n",
       "    </tr>\n",
       "  </thead>\n",
       "  <tbody>\n",
       "    <tr>\n",
       "      <th>169</th>\n",
       "      <td>OpenKiwi: An Open Source Framework for Quality...</td>\n",
       "      <td>award</td>\n",
       "      <td>notlab</td>\n",
       "      <td>-0.157024</td>\n",
       "      <td>-0.108714</td>\n",
       "    </tr>\n",
       "    <tr>\n",
       "      <th>223</th>\n",
       "      <td>Zero-shot Word Sense Disambiguation using Sens...</td>\n",
       "      <td>award</td>\n",
       "      <td>notlab</td>\n",
       "      <td>-0.074405</td>\n",
       "      <td>-0.123166</td>\n",
       "    </tr>\n",
       "    <tr>\n",
       "      <th>375</th>\n",
       "      <td>Transferable Multi-Domain State Generator for ...</td>\n",
       "      <td>award</td>\n",
       "      <td>notlab</td>\n",
       "      <td>-0.043103</td>\n",
       "      <td>0.301454</td>\n",
       "    </tr>\n",
       "    <tr>\n",
       "      <th>543</th>\n",
       "      <td>A Simple Theoretical Model of Importance for S...</td>\n",
       "      <td>award</td>\n",
       "      <td>notlab</td>\n",
       "      <td>0.117569</td>\n",
       "      <td>0.083681</td>\n",
       "    </tr>\n",
       "    <tr>\n",
       "      <th>581</th>\n",
       "      <td>We need to talk about standard splits</td>\n",
       "      <td>award</td>\n",
       "      <td>notlab</td>\n",
       "      <td>0.124279</td>\n",
       "      <td>-0.065244</td>\n",
       "    </tr>\n",
       "  </tbody>\n",
       "</table>\n",
       "</div>"
      ],
      "text/plain": [
       "                                                 title  award lab_or_not  \\\n",
       "169  OpenKiwi: An Open Source Framework for Quality...  award     notlab   \n",
       "223  Zero-shot Word Sense Disambiguation using Sens...  award     notlab   \n",
       "375  Transferable Multi-Domain State Generator for ...  award     notlab   \n",
       "543  A Simple Theoretical Model of Importance for S...  award     notlab   \n",
       "581              We need to talk about standard splits  award     notlab   \n",
       "\n",
       "           x1        x2  \n",
       "169 -0.157024 -0.108714  \n",
       "223 -0.074405 -0.123166  \n",
       "375 -0.043103  0.301454  \n",
       "543  0.117569  0.083681  \n",
       "581  0.124279 -0.065244  "
      ]
     },
     "execution_count": 103,
     "metadata": {},
     "output_type": "execute_result"
    }
   ],
   "source": [
    "for index, row in pcx_2019.iterrows():\n",
    "    if (row['title'] in best_paper_awards):\n",
    "        pcx_2019.iat[index, 1] = 'award'\n",
    "\n",
    "pcx_2019[pcx_2019['award'] == 'award']"
   ]
  },
  {
   "cell_type": "code",
   "execution_count": 104,
   "metadata": {},
   "outputs": [
    {
     "data": {
      "application/vnd.plotly.v1+json": {
       "config": {
        "plotlyServerURL": "https://plot.ly"
       },
       "data": [
        {
         "customdata": [
          [
           "Counterfactual Data Augmentation for Mitigating Gender Stereotypes in Languages with Rich Morphology"
          ],
          [
           "Unsupervised Discovery of Gendered Language through Latent-Variable Modeling"
          ],
          [
           "Margin-based Parallel Corpus Mining with Multilingual Sentence Embeddings"
          ],
          [
           "Searching for Effective Neural Extractive Summarization: What Works and What's Next"
          ],
          [
           "Style Transformer: Unpaired Text Style Transfer without Disentangled Latent Representation"
          ],
          [
           "Distantly Supervised Named Entity Recognition using Positive-Unlabeled Learning"
          ],
          [
           "Generating Responses with a Specific Emotion in Dialog"
          ],
          [
           "Bridging by Word: Image-Grounded Vocabulary Construction for Visual Captioning"
          ],
          [
           "Adversarial Domain Adaptation Using Artificial Titles for Abstractive Title Generation"
          ],
          [
           "Twitter Homophily: Network Based Prediction of User's Occupation"
          ],
          [
           "Incorporating Textual Information on User Behavior for Personality Prediction"
          ],
          [
           "Large-Scale Multi-Label Text Classification on EU Legislation"
          ],
          [
           "Neural Legal Judgment Prediction in English"
          ],
          [
           "Discourse Analysis and Its Applications"
          ],
          [
           "Self-Supervised Learning for Contextualized Extractive Summarization"
          ],
          [
           "Graph-based Dependency Parsing with Graph Neural Networks"
          ],
          [
           "Self-Supervised Dialogue Learning"
          ],
          [
           "Joint Type Inference on Entities and Relations via Graph Convolutional Networks"
          ],
          [
           "Towards Generating Long and Coherent Text with Multi-Level Latent Variable Models"
          ],
          [
           "Learning to Select, Track, and Generate for Data-to-Text"
          ],
          [
           "Multi-hop Reading Comprehension across Multiple Documents by Reasoning over Heterogeneous Graphs"
          ],
          [
           "Visual Story Post-Editing"
          ],
          [
           "HIGHRES: Highlight-based Reference-less Evaluation of Summarization"
          ],
          [
           "Merge and Label: A novel neural network architecture for nested NER"
          ],
          [
           "Model-Agnostic Meta-Learning for Relation Classification with Limited Supervision"
          ],
          [
           "ARNOR: Attention Regularization based Noise Reduction for Distant Supervision Relation Classification"
          ],
          [
           "Representing Schema Structure with Graph Neural Networks for Text-to-SQL Parsing"
          ],
          [
           "MULTIQA: An Empirical Investigation of Generalization and Transfer in Reading Comprehension"
          ],
          [
           "Topic Tensor Network for Implicit Discourse Relation Recognition in Chinese"
          ],
          [
           ""
          ],
          [
           "Gender-preserving Debiasing for Pre-trained Word Embeddings"
          ],
          [
           "Aspect Sentiment Classification Towards Question-Answering with Reinforced Bidirectional Attention Network"
          ],
          [
           "Adversarial Attention Modeling for Multi-dimensional Emotion Regression"
          ],
          [
           "On-device Structured and Context Partitioned Projection Networks"
          ],
          [
           "Multi-Source Cross-Lingual Model Transfer: Learning What to Share"
          ],
          [
           "Scalable Syntax-Aware Language Models Using Knowledge Distillation"
          ],
          [
           "Dense Procedure Captioning in Narrated Instructional Videos"
          ],
          [
           "The Risk of Racial Bias in Hate Speech Detection"
          ],
          [
           "HellaSwag: Can a Machine Really Finish Your Sentence?"
          ],
          [
           "COMET : Commonsense Transformers for Automatic Knowledge Graph Construction"
          ],
          [
           "Conversing by Reading: Contentful Neural Conversation with On-demand Machine Reading"
          ],
          [
           ""
          ],
          [
           "Learning Compressed Sentence Representations for On-Device Text Processing"
          ],
          [
           "Sentence Mover's Similarity: Automatic Evaluation for Multi-Sentence Texts"
          ],
          [
           "SParC: Cross-Domain Semantic Parsing in Context"
          ],
          [
           "Level-Up: Learning to Improve Proficiency Level of Essays"
          ],
          [
           "Word-order biases in deep-agent emergent communication"
          ],
          [
           "CNNs found to jump around more skillfully than RNNs: Compositional generalization in seq2seq convolutional networks"
          ],
          [
           "Miss Tools and Mr Fruit: Emergent communication in agents learning about object affordances"
          ],
          [
           "On the Distribution of Deep Clausal Embeddings: A Large Cross-linguistic Study"
          ],
          [
           "Learning to Link Grammar and Encyclopedic Information to Assist ESL Learners"
          ],
          [
           "STACL: Simultaneous Translation with Implicit Anticipation and Controllable Latency using Prefix-to-Prefix Framework *"
          ],
          [
           "Effective Adversarial Regularization for Neural Machine Translation"
          ],
          [
           "Enhancing Pre-Trained Language Representations with Rich Knowledge for Machine Reading Comprehension"
          ],
          [
           "Proactive Human-Machine Conversation with Explicit Conversation Goals"
          ],
          [
           "An Empirical Study of Span Representations in Argumentation Structure Parsing"
          ],
          [
           "Know More about Each Other: Evolving Dialogue Strategy via Compound Assessment"
          ],
          [
           "Open-Domain Why-Question Answering with Adversarial Learning to Encode Answer Texts"
          ],
          [
           "An Interactive Multi-Task Learning Network for End-to-End Aspect-Based Sentiment Analysis"
          ],
          [
           "Attention Guided Graph Convolutional Networks for Relation Extraction"
          ],
          [
           "Quantity Tagger: A Latent-Variable Sequence Labeling Approach to Solving Addition-Subtraction Word Problems"
          ],
          [
           "A Neural Multi-digraph Model for Chinese NER with Gazetteers"
          ],
          [
           "Inter-sentence Relation Extraction with Document-level Graph Convolutional Neural Network"
          ],
          [
           "DOER: Dual Cross-Shared RNN for Aspect Term-Polarity Co-Extraction"
          ],
          [
           "Learning to Discover, Ground and Use Words with Segmental Neural Language Models"
          ],
          [
           "Topic Modeling with Wasserstein Autoencoders"
          ],
          [
           "Simple and Effective Paraphrastic Similarity from Parallel Translations"
          ],
          [
           "Beyond BLEU: Training Neural Machine Translation with Semantic Similarity"
          ],
          [
           "Visually Grounded Neural Syntax Acquisition"
          ],
          [
           "Controllable Paraphrase Generation with a Syntactic Exemplar"
          ],
          [
           "Incremental Learning from Scratch for Task-Oriented Dialogue Systems"
          ],
          [
           "Multi-step Reasoning via Recurrent Dual Attention for Visual Dialog"
          ],
          [
           "Learning Deep Transformer Models for Machine Translation"
          ],
          [
           "Shared-Private Bilingual Word Embeddings for Neural Machine Translation"
          ],
          [
           "Energy and Policy Considerations for Deep Learning in NLP"
          ],
          [
           "A2N: Attending to Neighbors for Knowledge Graph Inference"
          ],
          [
           "Optimal Transport-based Alignment of Learned Character Representations for String Similarity"
          ],
          [
           "Hierarchical Transfer Learning for Multi-label Text Classification"
          ],
          [
           ""
          ],
          [
           "Learning from Dialogue after Deployment: Feed Yourself, Chatbot!"
          ],
          [
           "ConvLab: Multi-Domain End-to-End Dialog System Platform"
          ],
          [
           "From brain space to distributional space: the perilous journeys of fMRI decoding"
          ],
          [
           "Semantic Parsing with Dual Learning"
          ],
          [
           "Context-aware Embedding for Targeted Aspect-based Sentiment Analysis"
          ],
          [
           "Ensuring Readability and Data-fidelity using Head-modifier Templates in Deep Type Description Generation"
          ],
          [
           "Chinese Relation Extraction with Multi-Grained Information and External Linguistic Knowledge"
          ],
          [
           "DocRED: A Large-Scale Document-Level Relation Extraction Dataset"
          ],
          [
           "GEAR: Graph-based Evidence Aggregating and Reasoning for Fact Verification"
          ],
          [
           "ERNIE: Enhanced Language Representation with Informative Entities"
          ],
          [
           "DIAG-NRE: A Neural Pattern Diagnosis Framework for Distantly Supervised Neural Relation Extraction"
          ],
          [
           "Quantifying Similarity between Relations with Fact Distribution"
          ],
          [
           "Multi-Style Generative Reading Comprehension"
          ],
          [
           "Answering while Summarizing: Multi-task Learning for Multi-hop QA with Evidence Extraction"
          ],
          [
           "Detecting Adverse Drug Reactions from Biomedical Texts With Neural Networks"
          ],
          [
           "Deep Neural Models for Medical Concept Normalization in User-Generated Texts"
          ],
          [
           "Cross-domain and Cross-lingual Abusive Language Detection: a Hybrid Approach with Deep Learning and a Multilingual Lexicon"
          ],
          [
           "Yes, we can! Mining Arguments in 50 Years of US Presidential Campaign Debates"
          ],
          [
           "A Modular Tool for Automatic Summarization"
          ],
          [
           "Attention Is (not) All You Need for Commonsense Reasoning"
          ],
          [
           "TARGER: Neural Argument Mining at Your Fingertips"
          ],
          [
           "Multimodal Abstractive Summarization for How2 Videos"
          ],
          [
           "Task Refinement Learning for Improved Accuracy and Stability of Unsupervised Domain Adaptation"
          ],
          [
           "Improving Neural Conversational Models with Entropy-Based Data Filtering"
          ],
          [
           "Robust Zero-Shot Cross-Domain Slot Filling with Example Values"
          ],
          [
           "Learning How to Active Learn by Dreaming"
          ],
          [
           "Neural Architectures for Nested NER through Linearization"
          ],
          [
           "Message from the General Chair"
          ],
          [
           "Inducing Document Structure for Aspect-based Summarization"
          ],
          [
           "Are You Convinced? Choosing the More Convincing Evidence with a Siamese Network"
          ],
          [
           "Identification of Tasks, Datasets, Evaluation Metrics, and Numeric Scores for Scientific Leaderboards Construction"
          ],
          [
           "Neural Temporality Adaptation for Document Classification: Diachronic Word Embeddings and Domain Adaptation Models"
          ],
          [
           "Wétin dey with these comments? Modeling Sociolinguistic Factors Affecting Code-switching Behavior in Nigerian Online Discussions"
          ],
          [
           "Question Answering in the Biomedical Domain"
          ],
          [
           "Unsupervised Joint Training of Bilingual Word Embeddings"
          ],
          [
           "My Turn To Read: An Interleaved E-book Reading Tool for Developing and Struggling Readers"
          ],
          [
           "Unsupervised Bilingual Word Embedding Agreement for Unsupervised Neural Machine Translation"
          ],
          [
           "Sentence-Level Agreement for Neural Machine Translation"
          ],
          [
           "Neural Machine Translation with Reordering Embeddings"
          ],
          [
           "Lattice-Based Transformer Encoder for Neural Machine Translation"
          ],
          [
           "Multimodal Logical Inference System for Visual-Textual Entailment"
          ],
          [
           "Sequence Tagging with Contextual and Non-Contextual Subword Representations: A Multilingual Evaluation"
          ],
          [
           "Unsupervised Learning of Discourse-Aware Text Representation for Essay Scoring"
          ],
          [
           "Lattice Transformer for Speech Translation"
          ],
          [
           "Cross-Lingual Syntactic Transfer through Unsupervised Adaptation of Invertible Projections"
          ],
          [
           "Multi-grained Attention with Object-level Grounding for Visual Question Answering"
          ],
          [
           "Choosing Transfer Languages for Cross-Lingual Learning"
          ],
          [
           "An Empirical Investigation of Structured Output Modeling for Graph-based Neural Dependency Parsing"
          ],
          [
           "Domain Adaptive Inference for Neural Machine Translation"
          ],
          [
           "Knowledge discovery and hypothesis generation from online patient forums: A research proposal"
          ],
          [
           "Exploring Author Context for Detecting Intended vs Perceived Sarcasm"
          ],
          [
           "OpenDialKG: Explainable Conversational Reasoning with Attention-based Walks over Knowledge Graphs"
          ],
          [
           "Constrained Decoding for Neural NLG from Compositional Representations in Task-Oriented Dialogue"
          ],
          [
           "Predicting Human Activities from User-Generated Content"
          ],
          [
           "Embedding Strategies for Specialized Domains: Application to Clinical Entity Recognition"
          ],
          [
           "Annotation and Automatic Classification of Aspectual Categories"
          ],
          [
           "Evidence-based Trustworthiness"
          ],
          [
           "A Hierarchical Reinforced Sequence Operation Method for Unsupervised Text Style Transfer"
          ],
          [
           "Rhetorically Controlled Encoder-Decoder for Modern Chinese Poetry Generation"
          ],
          [
           "Observing Dialogue in Therapy: Categorizing and Forecasting Behavioral Codes"
          ],
          [
           "Global Optimization under Length Constraint for Neural Text Summarization"
          ],
          [
           "Dataset Creation for Ranking Constructive News Comments"
          ],
          [
           "Augmenting Neural Networks with First-order Logic"
          ],
          [
           "ADVISER: A Dialog System Framework for Education & Research"
          ],
          [
           "Classification and Clustering of Arguments with Contextualized Word Embeddings"
          ],
          [
           "Domain Adaptation of Neural Machine Translation by Lexicon Induction"
          ],
          [
           "Exploring Numeracy in Word Embeddings"
          ],
          [
           "Storyboarding of Recipes: Grounded Contextual Generation"
          ],
          [
           "Pay attention when you pay the bills. A multilingual corpus with dependency-based and semantic annotation of collocations"
          ],
          [
           "Crowdsourcing and Aggregating Nested Markable Annotations"
          ],
          [
           ""
          ],
          [
           "Who Sides With Whom? Towards Computational Construction of Discourse Networks for Political Debates"
          ],
          [
           "An Environment for Relational Annotation of Political Debates"
          ],
          [
           "A Spreading Activation Framework for Tracking Conceptual Complexity of Texts"
          ],
          [
           "CoDraw: Collaborative Drawing as a Testbed for Grounded Goal-driven Communication"
          ],
          [
           "Stochastic Tokenization with a Language Model for Neural Text Classification"
          ],
          [
           "Transforming Complex Sentences into a Semantic Hierarchy"
          ],
          [
           "Analyzing the Limitations of Cross-lingual Word Embedding Mappings"
          ],
          [
           "How to (Properly) Evaluate Cross-Lingual Word Embeddings: On Strong Baselines, Comparative Analyses, and Some Misconceptions"
          ],
          [
           "Boosting Entity Linking Performance by Leveraging Unlabeled Documents"
          ],
          [
           "JW300: A Wide-Coverage Parallel Corpus for Low-Resource Languages"
          ],
          [
           "Distant Learning for Entity Linking with Automatic Noise Detection"
          ],
          [
           "Unsupervised Pretraining for Neural Machine Translation Using Elastic Weight Consolidation"
          ],
          [
           "Analyzing Multi-Head Self-Attention: Specialized Heads Do the Heavy Lifting, the Rest Can Be Pruned"
          ],
          [
           "Interpretable Question Answering on Knowledge Bases and Text"
          ],
          [
           "Putting Evaluation in Context: Contextual Embeddings improve Machine Translation Evaluation"
          ],
          [
           "Improving Textual Network Embedding with Global Attention via Optimal Transport"
          ],
          [
           ""
          ],
          [
           "Aiming beyond the Obvious: Identifying Non-Obvious Cases in Semantic Similarity Datasets"
          ],
          [
           "Self-Supervised Neural Machine Translation"
          ],
          [
           "PTB Graph Parsing with Tree Approximation"
          ],
          [
           "Better Exploiting Latent Variables in Text Modeling"
          ],
          [
           "Improving Multi-turn Dialogue Modelling with Utterance ReWriter"
          ],
          [
           "A Joint Named-Entity Recognizer for Heterogeneous Tag-sets Using a Tag Hierarchy"
          ],
          [
           "Extracting Symptoms and their Status from Clinical Conversations"
          ],
          [
           "Jointly Learning Semantic Parser and Natural Language Generator via Dual Information Maximization"
          ],
          [
           "Semantic expressive capacity with bounded memory"
          ],
          [
           "How multilingual is Multilingual BERT?"
          ],
          [
           "Simple and Effective Curriculum Pointer-Generator Networks for Reading Comprehension over Long Narratives"
          ],
          [
           "Lightweight and Efficient Neural Natural Language Processing with Quaternion Networks"
          ],
          [
           "Time-Out: Temporal Referencing for Robust Modeling of Lexical Semantic Change"
          ],
          [
           "A Wind of Change: Detecting and Evaluating Lexical Semantic Change across Times and Domains"
          ],
          [
           "Reference Network for Neural Machine Translation"
          ],
          [
           "Multimodal Transformer Networks for End-to-End Video-Grounded Dialogue Systems"
          ],
          [
           "Reading Turn by Turn: Hierarchical Attention Architecture for Spoken Dialogue Comprehension"
          ],
          [
           "EditNTS: An Neural Programmer-Interpreter Model for Sentence Simplification through Explicit Editing"
          ],
          [
           "Learning to Rank for Plausible Plausibility"
          ],
          [
           "Incorporating Syntactic and Semantic Information in Word Embeddings using Graph Convolutional Networks"
          ],
          [
           "Historical Text Normalization with Delayed Rewards"
          ],
          [
           "Multi-Task Learning for Coherence Modeling"
          ],
          [
           "Learning Representation Mapping for Relation Detection in Knowledge Base Question Answering"
          ],
          [
           "ReCoSa: Detecting the Relevant Contexts with Self-Attention for Multi-turn Dialogue Generation"
          ],
          [
           "Decomposable Neural Paraphrase Generation"
          ],
          [
           "Bridging the Gap between Training and Inference for Neural Machine Translation"
          ],
          [
           "Modeling Semantic Compositionality with Sememe Knowledge"
          ],
          [
           "Revisiting Low-Resource Neural Machine Translation: A Case Study"
          ],
          [
           "A Lightweight Recurrent Network for Sequence Modeling"
          ],
          [
           "Fine-Grained Temporal Relation Extraction"
          ],
          [
           "Deep Neural Model Inspection and Comparison via Functional Neuron Pathways"
          ],
          [
           "Morphological Irregularity Correlates with Frequency"
          ],
          [
           "On the Summarization of Consumer Health Questions"
          ],
          [
           "Complex Word Identification as a Sequence Labelling Task"
          ],
          [
           "Leveraging Local and Global Patterns for Self-Attention Networks"
          ],
          [
           "Revisiting Joint Modeling of Cross-document Entity and Event Coreference Resolution"
          ],
          [
           "Generating Summaries with Topic Templates and Structured Convolutional Decoders"
          ],
          [
           "A Unified Multi-task Adversarial Learning Framework for Pharmacovigilance Mining"
          ],
          [
           "#YouToo? Detection of Personal Recollections of Sexual Harassment on Social Media"
          ],
          [
           "Towards Multimodal Sarcasm Detection (An Obviously Perfect Paper)"
          ],
          [
           "Learning Transferable Feature Representations Using Neural Networks"
          ],
          [
           "Accelerating Sparse Matrix Operations in Neural Networks on Graphics Processing Units"
          ],
          [
           "ARHNet -Leveraging Community Interaction For Detection Of Religious Hate Speech In Arabic"
          ],
          [
           "Look Harder: A Neural Machine Translation Model with Hard Attention"
          ],
          [
           "Matching Article Pairs with Graphical Decomposition and Convolutions"
          ],
          [
           "Towards Lossless Encoding of Sentences"
          ],
          [
           "Do Neural Dialog Systems Use the Conversation History Effectively? An Empirical Study"
          ],
          [
           "A Large-Scale Corpus for Conversation Disentanglement"
          ],
          [
           "TALKSUMM: A Dataset and Scalable Annotation Method for Scientific Paper Summarization Based on Conference Talks"
          ],
          [
           "The Language of Legal and Illegal Activity on the Darknet"
          ],
          [
           "Argument Invention from First Principles"
          ],
          [
           "From Surrogacy to Adoption; From Bitcoin to Cryptocurrency: Debate Topic Expansion"
          ],
          [
           "What Makes a Good Counselor? Learning to Distinguish between High-quality and Low-quality Counseling Conversations"
          ],
          [
           "A Semi-Markov Structured Support Vector Machine Model for High-Precision Named Entity Recognition"
          ],
          [
           "Relating Simple Sentence Representations in Deep Neural Networks and the Brain"
          ],
          [
           "The KNOWREF Coreference Corpus: Removing Gender and Number Cues for Difficult Pronominal Anaphora Resolution"
          ],
          [
           "Detecting Subevents using Discourse and Narrative Features"
          ],
          [
           "Word and Document Embedding with vMF-Mixture Priors on Context Word Vectors"
          ],
          [
           "Exploiting Explicit Paths for Multi-hop Reading Comprehension"
          ],
          [
           "Disentangled Representation Learning for Non-Parallel Text Style Transfer"
          ],
          [
           "Towards Explainable NLP: A Generative Explanation Framework for Text Classification"
          ],
          [
           "Exploiting Entity BIO Tag Embeddings and Multi-task Learning for Relation Extraction with Imbalanced Data"
          ],
          [
           "Ordinal and Attribute Aware Response Generation in a Multimodal Dialogue System"
          ],
          [
           "RankQA: Neural Question Answering with Answer Re-Ranking"
          ],
          [
           "A Working Memory Model for Task-oriented Dialog Response Generation"
          ],
          [
           "Improving Abstractive Document Summarization with Salient Information Modeling"
          ],
          [
           "Sequence Labeling Parsing by Learning Across Representations"
          ],
          [
           "Generating Question Relevant Captions to Aid Visual Question Answering"
          ],
          [
           "Controlling Grammatical Error Correction Using Word Edit Rate"
          ],
          [
           "Simple and Effective Text Matching with Richer Alignment Features"
          ],
          [
           "A Simple Recipe towards Reducing Hallucination in Neural Surface Realisation"
          ],
          [
           "Exploring Pre-trained Language Models for Event Extraction and Generation"
          ],
          [
           "Expressing Visual Relationships via Language"
          ],
          [
           "Scoring Sentence Singletons and Pairs for Abstractive Summarization"
          ],
          [
           "Delta Embedding Learning"
          ],
          [
           "Poetry to Prose Conversion in Sanskrit as a Linearisation Task: A case for Low-Resource Languages"
          ],
          [
           "Latent Variable Model for Multi-modal Translation"
          ],
          [
           "Interpretable Neural Predictions with Differentiable Binary Variables"
          ],
          [
           "Graph based Neural Networks for Event Factuality Prediction using Syntactic and Semantic Structures"
          ],
          [
           "Data-to-text Generation with Entity Modeling"
          ],
          [
           "Evaluating Discourse in Structured Text Representations"
          ],
          [
           "Training Neural Machine Translation To Apply Terminology Constraints"
          ],
          [
           "Unsupervised Rewriter for Multi-Sentence Compression"
          ],
          [
           "Fine-tuning Pre-Trained Transformer Language Models to Distantly Supervised Relation Extraction"
          ],
          [
           "Unsupervised Pivot Translation for Distant Languages"
          ],
          [
           "Improved Sentiment Detection via Label Transfer from Monolingual to Synthetic Code-Switched Text"
          ],
          [
           "On the Word Alignment from Neural Machine Translation *"
          ],
          [
           "Selection Bias Explorations and Debias Methods for Natural Language Sentence Matching Datasets"
          ],
          [
           "BiSET: Bi-directional Selective Encoding with Template for Abstractive Summarization"
          ],
          [
           "Semi-supervised Domain Adaptation for Dependency Parsing"
          ],
          [
           "Are Girls Neko or Shōjo? Cross-Lingual Alignment of Non-Isomorphic Embeddings with Iterative Normalization"
          ],
          [
           "Towards Integration of Statistical Hypothesis Tests into Deep Neural Networks"
          ],
          [
           "Adversarial Multitask Learning for Joint Multi-Feature and Multi-Dialect Morphological Modeling"
          ],
          [
           "Unsupervised Question Answering by Cloze Translation"
          ],
          [
           "Generating Natural Language Adversarial Examples through Probability Weighted Word Saliency"
          ],
          [
           "Misleading Failures of Partial-input Baselines"
          ],
          [
           "Automatic and Human Evaluation of Local Topic Quality"
          ],
          [
           "Why Didn't You Listen to Me? Comparing User Control of Human-in-the-Loop Topic Models"
          ],
          [
           "Real-Time Open-Domain Question Answering with Dense-Sparse Phrase Index"
          ],
          [
           "Sakura: Large-scale Incorrect Example Retrieval System for Learners of Japanese as a Second Language"
          ],
          [
           "This year, the student research workshop has received a great attention, reflecting the growth of the field. We received 214 submissions in total: 27 research proposals and 147 research papers. Among these, 7 research proposals and 22 research papers were non-archival. We accepted 71 papers, for an acceptance rate of 33%. After withdrawals and excluding non-archival papers, 61 papers are appearing in these proceedings, including 14 research proposals and 47 research papers. All of the accepted papers will be presented as posters in late morning sessions as a part of the main conference, split across three days (July 29th-31th). Mentoring is at the heart of the SRW. In keeping with previous years, students had the opportunity for pre-submission mentoring prior to the submission deadline. Total of 64 papers participated in presubmission mentoring program. This program offered students a chance to receive comments from an experienced researcher, in order to improve the quality of the writing and presentation before making their submission. In addition, authors of accepted SRW papers are matched with mentors who will meet with the students in person during the poster presentations. Each mentor prepares in-depth comments and questions prior to the student's presentation, and provides discussion and feedback during the workshop. We are deeply grateful to our sponsors whose support will enable a number of students to attend the conference. We would also like to thank our program committee members for their careful reviews of each paper, and all of our mentors for donating their time to provide feedback to our student authors. Thank you to our faculty advisors Hannaneh Hajishirzi, Aurelie Herbelot, Scott Yih, Yue Zhang for their essential advice and guidance, and to the members of the ACL 2018 organizing committee, in particular David Traum, Anna Korhonen and Lluís Màrquez for their helpful support. Finally, kudos to our student participants! iii"
          ],
          [
           "Negative Lexically Constrained Decoding for Paraphrase Generation"
          ],
          [
           "Retrieval-Enhanced Adversarial Training for Neural Response Generation"
          ],
          [
           "Towards Complex Text-to-SQL in Cross-Domain Database with Intermediate Representation"
          ],
          [
           "Can You Tell Me How to Get Past Sesame Street? Sentence-Level Pretraining Beyond Language Modeling"
          ],
          [
           "The PhotoBook Dataset: Building Common Ground through Visually-Grounded Dialogue"
          ],
          [
           "A Resource-Free Evaluation Metric for Cross-Lingual Word Embeddings Based on Graph Modularity"
          ],
          [
           "Learning to Ask Unanswerable Questions for Machine Reading Comprehension"
          ],
          [
           "Compositional Questions Do Not Necessitate Multi-hop Reasoning"
          ],
          [
           "Multi-hop Reading Comprehension through Question Decomposition and Rescoring"
          ],
          [
           "A Unified Linear-Time Framework for Sentence-Level Discourse Parsing"
          ],
          [
           "Dialogue-Act Prediction of Future Responses based on Conversation History"
          ],
          [
           "What does BERT learn about the structure of language?"
          ],
          [
           "Span-Level Model for Relation Extraction"
          ],
          [
           "Toward Comprehensive Understanding of a Sentiment Based on Human Motives"
          ],
          [
           "Language Modeling with Shared Grammar"
          ],
          [
           "Controllable Text Simplification with Lexical Constraint Loss"
          ],
          [
           "SUMBT: Slot-Utterance Matching for Universal and Scalable Belief Tracking"
          ],
          [
           "Unsupervised Information Extraction: Regularizing Discriminative Approaches with Relation Distribution Losses"
          ],
          [
           "Neural Relation Extraction for Knowledge Base Enrichment"
          ],
          [
           "Normalizing Non-canonical Turkish Texts Using Machine Translation Approaches"
          ],
          [
           "Bilingual Lexicon Induction with Semi-supervision in Non-Isometric Embedding Spaces"
          ],
          [
           "Corpus Creation and Analysis for Named Entity Recognition in Telugu-English Code-Mixed Social Media Data"
          ],
          [
           "De-Mixing Sentiment from Code-Mixed Text"
          ],
          [
           "Boosting Dialog Response Generation"
          ],
          [
           "Exploring Phoneme-Level Speech Representations for End-to-End Speech Translation"
          ],
          [
           "Towards Scalable and Reliable Capsule Networks for Challenging NLP Applications"
          ],
          [
           "Employing the Correspondence of Relations and Connectives to Identify Implicit Discourse Relations via Label Embeddings"
          ],
          [
           "Neural Keyphrase Generation via Reinforcement Learning with Adaptive Rewards"
          ],
          [
           "Automatically Identifying Complaints in Social Media"
          ],
          [
           "Massively Multilingual Transfer for NER"
          ],
          [
           "Better Character Language Modeling Through Morphology"
          ],
          [
           "BAM! Born-Again Multi-Task Networks for Natural Language Understanding"
          ],
          [
           "Neural Aspect and Opinion Term Extraction with Mined Rules as Weak Supervision"
          ],
          [
           "Mitigating Gender Bias in Natural Language Processing: Literature Review"
          ],
          [
           "Entity-Centric Contextual Affective Analysis"
          ],
          [
           "Identifying Visible Actions in Lifestyle Vlogs"
          ],
          [
           "A Cross-Domain Transferable Neural Coherence Model"
          ],
          [
           "Relation Embedding with Dihedral Group in Knowledge Graph"
          ],
          [
           "Enhancing Air Quality Prediction with Social Media and Natural Language Processing"
          ],
          [
           "Know What You Don't Know: Modeling a Pragmatic Speaker that Refers to Objects of Unknown Categories"
          ],
          [
           "NeuralClassifier: An Open-source Neural Hierarchical Multi-label Text Classification Toolkit"
          ],
          [
           "Combining Knowledge Hunting and Neural Language Models to Solve the Winograd Schema Challenge"
          ],
          [
           "Careful Selection of Knowledge to solve Open Book Question Answering"
          ],
          [
           "A computational linguistic study of personal recovery in bipolar disorder"
          ],
          [
           "SARAL: A Low-Resource Cross-Lingual Domain-Focused Information Retrieval System for Effective Rapid Document Triage"
          ],
          [
           "Psycholinguistics meets Continual Learning: Measuring Catastrophic Forgetting in Visual Question Answering"
          ],
          [
           "FIESTA: Fast IdEntification of State-of-The-Art models using adaptive bandit algorithms"
          ],
          [
           "ClaimPortal: Integrated Monitoring, Searching, Checking, and Analytics of Factual Claims on Twitter"
          ],
          [
           "Predicting Humorousness and Metaphor Novelty with Gaussian Process Preference Learning"
          ],
          [
           "CONAN -COunter NArratives through Nichesourcing: a Multilingual Dataset of Responses to Fight Online Hate Speech"
          ],
          [
           "The (Non-)Utility of Structural Features in BiLSTM-based Dependency Parsers"
          ],
          [
           "Zero-Shot Cross-Lingual Abstractive Sentence Summarization through Teaching Generation and Attention"
          ],
          [
           "Pretraining Methods for Dialog Context Representation Learning"
          ],
          [
           "CogNet: a Large-Scale Cognate Database"
          ],
          [
           "Neural News Recommendation with Long-and Short-term User Representations"
          ],
          [
           "GraphRel: Modeling Text as Relational Graphs for Joint Entity and Relation Extraction"
          ],
          [
           "Multi-task Pairwise Neural Ranking for Hashtag Segmentation"
          ],
          [
           "Entity-Relation Extraction as Multi-turn Question Answering"
          ],
          [
           "Is Word Segmentation Necessary for Deep Learning of Chinese Representations?"
          ],
          [
           "Implicit Discourse Relation Identification for Open-domain Dialogues"
          ],
          [
           "Analysis of Automatic Annotation Suggestions for Hard Discourse-Level Tasks in Expert Domains"
          ],
          [
           "Is Attention Interpretable?"
          ],
          [
           "Neural News Recommendation with Topic-Aware News Representation"
          ],
          [
           "Persuasion for Good: Towards a Personalized Persuasive Dialogue System for Social Good"
          ],
          [
           "Show, Describe and Conclude: On Exploiting the Structure Information of Chest X-Ray Reports"
          ],
          [
           "Curate and Generate: A Corpus and Method for Joint Control of Semantics and Style in Neural NLG"
          ],
          [
           "Synthetic QA Corpora Generation with Roundtrip Consistency"
          ],
          [
           "Multi-Task Networks With Universe, Group, and Task Feature Learning"
          ],
          [
           "Informative Image Captioning with External Sources of Information"
          ],
          [
           "Cognitive Graph for Multi-Hop Reading Comprehension at Scale"
          ],
          [
           "Dynamically Fused Graph Network for Multi-hop Reasoning"
          ],
          [
           "Multi-Channel Graph Neural Network for Entity Alignment"
          ],
          [
           "Semantically Conditioned Dialog Response Generation via Hierarchical Disentangled Self-Attention"
          ],
          [
           "Jiuge: A Human-Machine Collaborative Chinese Classical Poetry Generation System"
          ],
          [
           "Hierarchical Transformers for Multi-Document Summarization"
          ],
          [
           "SphereRE: Distinguishing Lexical Relations with Hyperspherical Relation Embeddings"
          ],
          [
           "Are Red Roses Red? Evaluating Consistency of Question-Answering Models"
          ],
          [
           "Modeling Intra-Relation in Math Word Problems with Different Functional Multi-Head Attentions"
          ],
          [
           "Course Concept Expansion in MOOCs with External Knowledge and Interactive Game"
          ],
          [
           "Few-Shot Representation Learning for Out-Of-Vocabulary Words"
          ],
          [
           "Automated Chess Commentator Powered by Neural Chess Engine"
          ],
          [
           "VIFIDEL: Evaluating the Visual Fidelity of Image Descriptions"
          ],
          [
           "Exploring Sequence-to-Sequence Learning in Aspect Term Extraction"
          ],
          [
           "Learning to Control the Fine-grained Sentiment for Story Ending Generation"
          ],
          [
           "How Large Are Lions? Inducing Distributions over Quantitative Attributes"
          ],
          [
           "Right for the Wrong Reasons: Diagnosing Syntactic Heuristics in Natural Language Inference"
          ],
          [
           "Translating Translationese: A Two-Step Approach to Unsupervised Machine Translation"
          ],
          [
           "BERT Rediscovers the Classical NLP Pipeline"
          ],
          [
           "Argument Generation with Retrieval, Planning, and Realization"
          ],
          [
           "Dual Adversarial Neural Transfer for Low-Resource Named Entity Recognition"
          ],
          [
           "ChID: A Large-scale Chinese IDiom Dataset for Cloze Test"
          ],
          [
           "Robust Representation Learning of Biomedical Names"
          ],
          [
           "KCAT: A Knowledge-Constraint Typing Annotation Tool"
          ],
          [
           "Eliciting Knowledge from Experts: Automatic Transcript Parsing for Cognitive Task Analysis"
          ],
          [
           "AlpacaTag: An Active Learning-based Crowd Annotation Framework for Sequence Tagging"
          ],
          [
           "Tree LSTMs with Convolution Units to Predict Stance and Rumor Veracity in Social Media Conversations"
          ],
          [
           "Reinforced Dynamic Reasoning for Conversational Question Generation"
          ],
          [
           "Open Vocabulary Learning for Neural Chinese Pinyin IME"
          ],
          [
           "Diachronic Sense Modeling with Deep Contextualized Word Embeddings: An Ecological View"
          ],
          [
           "Literary Event Detection"
          ],
          [
           "A Prism Module for Semantic Disentanglement in Name Entity Recognition"
          ],
          [
           "Long-Distance Dependencies don't have to be Long: Simplifying through Provably (Approximately) Optimal Permutations"
          ],
          [
           "Modeling financial analysts' decision making via the pragmatics and semantics of earnings calls"
          ],
          [
           "Towards Fine-grained Text Sentiment Transfer"
          ],
          [
           "Dual Supervised Learning for Natural Language Understanding and Generation"
          ],
          [
           "Reliability-aware Dynamic Feature Composition for Name Tagging"
          ],
          [
           "PaperRobot: Incremental Draft Generation of Scientific Ideas"
          ],
          [
           "Keep Meeting Summaries on Topic: Abstractive Multi-Modal Meeting Summarization"
          ],
          [
           "Towards Comprehensive Description Generation from Factual Attribute-value Tables"
          ],
          [
           "Multi-Grained Named Entity Recognition"
          ],
          [
           "Figurative Usage Detection of Symptom Words to Improve Personal Health Mention Detection"
          ],
          [
           "Recognising Agreement and Disagreement between Stances with Reason Comparing Networks"
          ],
          [
           "Using Human Attention to Extract Keyphrase from Microblog Post"
          ],
          [
           "HIBERT: Document Level Pre-training of Hierarchical Bidirectional Transformers for Document Summarization"
          ],
          [
           "Automatic Grammatical Error Correction for Sequence-to-sequence Text Generation: An Empirical Study"
          ],
          [
           "Explain Yourself! Leveraging Language Models for Commonsense Reasoning"
          ],
          [
           "Open-Domain Targeted Sentiment Analysis via Span-Based Extraction and Classification"
          ],
          [
           ""
          ],
          [
           "Retrieve, Read, Rerank: Towards End-to-End Multi-Document Reading Comprehension"
          ],
          [
           "Graph Neural Networks with Generated Parameters for Relation Extraction"
          ],
          [
           "BERT-based Lexical Substitution"
          ],
          [
           "Weakly-Supervised Spatio-Temporally Grounding Natural Sentence in Video"
          ],
          [
           "Open Domain Event Extraction Using Neural Latent Variable Models"
          ],
          [
           "Towards Near-imperceptible Steganographic Text"
          ],
          [
           "Token-level Dynamic Self-Attention Network for Multi-Passage Reading Comprehension"
          ],
          [
           "Incremental Transformer with Deliberation Decoder for Document Grounded Conversations"
          ],
          [
           "A Multiscale Visualization of Attention in the Transformer Model"
          ],
          [
           "Target-Guided Open-Domain Conversation"
          ],
          [
           "Just \"OneSeC\" for Producing Multilingual Sense-Annotated Data"
          ],
          [
           "Improving the Similarity Measure of Determinantal Point Processes for Extractive Multi-Document Summarization"
          ],
          [
           "Cross-lingual Knowledge Graph Alignment via Graph Matching Neural Network"
          ],
          [
           "Knowledge-aware Pronoun Coreference Resolution"
          ],
          [
           "Progressive Self-Supervised Attention Learning for Aspect-Level Sentiment Analysis"
          ],
          [
           "Gated Embeddings in End-to-End Speech Recognition for Conversational-Context Fusion"
          ],
          [
           "Multi-Level Matching and Aggregation Network for Few-Shot Relation Classification"
          ],
          [
           "Learning Representations from Imperfect Time Series Data via Tensor Rank Regularization"
          ],
          [
           "Multimodal Transformer for Unaligned Multimodal Language Sequences"
          ],
          [
           "Exploiting Invertible Decoders for Unsupervised Sentence Representation Learning"
          ],
          [
           "Generating Question-Answer Hierarchies"
          ],
          [
           "Syntactically Supervised Transformers for Faster Neural Machine Translation"
          ],
          [
           "Encouraging Paragraph Embeddings to Remember Sentence Identity Improves Classification"
          ],
          [
           "Strategies for Structuring Story Generation"
          ],
          [
           "Heuristic Authorship Obfuscation"
          ],
          [
           "Bias Analysis and Mitigation in the Evaluation of Authorship Verification"
          ],
          [
           "This Email Could Save Your Life: Introducing the Task of Email Subject Line Generation"
          ],
          [
           "SP-10K: A Large-scale Evaluation Set for Selectional Preference Acquisition"
          ],
          [
           "Extracting Multiple-Relations in One-Pass with Pre-Trained Transformers"
          ],
          [
           "Improving Question Answering over Incomplete KBs with Knowledge-Aware Reader"
          ],
          [
           "Sentence Centrality Revisited for Unsupervised Summarization"
          ],
          [
           "TWEETQA: A Social Media Focused Question Answering Dataset"
          ],
          [
           "Parallax: Visualizing and Understanding the Semantics of Embedding Spaces via Algebraic Formulae"
          ],
          [
           "Monotonic Infinite Lookback Attention for Simultaneous Machine Translation"
          ],
          [
           "End-to-end Deep Reinforcement Learning Based Coreference Resolution"
          ],
          [
           "Rewarding Smatch: Transition-Based AMR Parsing with Reinforcement Learning"
          ],
          [
           "Low-resource Deep Entity Resolution with Transfer and Active Learning"
          ],
          [
           "HEIDL: Learning Linguistic Expressions with Deep Learning and Human-in-the-Loop"
          ],
          [
           "Emotion-Cause Pair Extraction: A New Task to Emotion Analysis in Texts"
          ],
          [
           "Soft Contextual Data Augmentation for Neural Machine Translation"
          ],
          [
           "Understanding Undesirable Word Embedding Associations"
          ],
          [
           "Towards Understanding Linear Word Analogies"
          ],
          [
           "From Bilingual to Multilingual Neural Machine Translation by Incremental Training"
          ],
          [
           "Key Fact as Pivot: A Two-Stage Model for Low Resource Table-to-Text Generation"
          ],
          [
           "Enhancing Topic-to-Essay Generation with External Commonsense Knowledge"
          ],
          [
           "Generating Fluent Adversarial Examples for Natural Languages"
          ],
          [
           "STRASS: A Light and Effective Method for Extractive Summarization Based on Sentence Embeddings"
          ],
          [
           "Online Infix Probability Computation for Probabilistic Finite Automata"
          ],
          [
           "Cross-Modal Commentator: Automatic Machine Commenting Based on Cross-Modal Information"
          ],
          [
           "XQA: A Cross-lingual Open-domain Question Answering Dataset"
          ],
          [
           "Generating Sentences from Disentangled Syntactic and Semantic Spaces"
          ],
          [
           "Automatic Generation of Personalized Comment Based on User Profile"
          ],
          [
           "Imitation Learning for Non-Autoregressive Neural Machine Translation"
          ],
          [
           "Like a Baby: Visually Situated Neural Language Acquisition"
          ],
          [
           "Improving Neural Language Models by Segmenting, Attending, and Predicting the Future"
          ],
          [
           "Does It Make Sense? And Why? A Pilot Study for Sense Making and Explanation"
          ],
          [
           "Cross-Lingual Training for Automatic Question Generation"
          ],
          [
           "Continual and Multi-Task Architecture Search"
          ],
          [
           "Explore, Propose, and Assemble: An Interpretable Model for Multi-Hop Reading Comprehension"
          ],
          [
           "Avoiding Reasoning Shortcuts: Adversarial Evaluation, Training, and Model Development for Multi-Hop QA"
          ],
          [
           "Semi-supervised Stochastic Multi-Domain Learning using Variational Inference"
          ],
          [
           "Comparison of Diverse Decoding Methods from Conditional Language Models"
          ],
          [
           "PERSPECTROSCOPE: A Window to the World of Diverse Perspectives"
          ],
          [
           "An adaptable task-oriented dialog system for stand-alone embedded devices"
          ],
          [
           "Deep Dominance -How to Properly Compare Deep Neural Models"
          ],
          [
           "Improving Visual Question Answering by Referring to Generated Paragraph Captions"
          ],
          [
           "Unraveling Antonym's Word Vectors through a Siamese-like Network"
          ],
          [
           "LSTMEmbed: Learning Word and Sense Representations from a Large Semantically Annotated Corpus with Long Short-Term Memories"
          ],
          [
           "Evaluating Gender Bias in Machine Translation"
          ],
          [
           "When a Good Translation is Wrong in Context: Context-Aware Machine Translation Improves on Deixis, Ellipsis, and Lexical Cohesion"
          ],
          [
           "Rationally Reappraising ATIS-based Dialogue Systems"
          ],
          [
           "ELI5: Long Form Question Answering"
          ],
          [
           "Paraphrases as Foreign Languages in Multilingual Neural Machine Translation"
          ],
          [
           "lingvis.io -A Linguistic Visual Analytics Framework"
          ],
          [
           "Demonstration of a Neural Machine Translation System with Online Learning for Translators"
          ],
          [
           "GrapAL: Connecting the Dots in Scientific Literature"
          ],
          [
           "FASTDial: Abstracting Dialogue Policies for Fast Development of Task Oriented Agents"
          ],
          [
           "Rapid Customization for Event Extraction"
          ],
          [
           ""
          ],
          [
           "PostAc ® : A Visual Interactive Search, Exploration, and Analysis Platform for PhD Intensive Job Postings"
          ],
          [
           "A Neural, Interactive-predictive System for Multimodal Sequence to Sequence Tasks"
          ],
          [
           "GLTR: Statistical Detection and Visualization of Generated Text"
          ],
          [
           "Annotating and Analyzing Semantic Role of Elementary Units and Relations in Online Persuasive Arguments"
          ],
          [
           "Microsoft ICECAPS: An Open-Source Toolkit for Conversation Modeling"
          ],
          [
           "Flambé: A Customizable Framework for Machine Learning Experiments"
          ],
          [
           "MoNoise: A Multi-lingual and Easy-to-use Lexical Normalization Tool"
          ],
          [
           "Texar: A Modularized, Versatile, and Extensible Toolkit for Text Generation"
          ],
          [
           "SLATE: A Super-Lightweight Annotation Tool for Experts"
          ],
          [
           "You Only Need Attention to Traverse Trees"
          ],
          [
           "Constructing Interpretive Spatio-Temporal Features for Multi-Turn Responses Selection"
          ],
          [
           "Stay on the Path: Instruction Fidelity in Vision-and-Language Navigation"
          ],
          [
           "Robust Neural Machine Translation with Doubly Adversarial Inputs"
          ],
          [
           ""
          ],
          [
           "A Multi-Task Architecture on Relevance-based Neural Query Translation"
          ],
          [
           "Women's Syntactic Resilience and Men's Grammatical Luck: Gender-Bias in Part-of-Speech Tagging and Dependency Parsing"
          ],
          [
           "Robust Neural Machine Translation with Joint Textual and Phonetic Embedding"
          ],
          [
           "Attention over Heads: A Multi-Hop Attention for Neural Machine Translation"
          ],
          [
           "Using Semantic Similarity as Reward for Reinforcement Learning in Sentence Generation"
          ],
          [
           "Simultaneous Translation with Flexible Policy via Restricted Imitation Learning"
          ],
          [
           "Unsupervised Paraphrasing without Translation"
          ],
          [
           "Celebrity Profiling"
          ],
          [
           "Probing Neural Network Comprehension of Natural Language Arguments"
          ],
          [
           "Generating Logical Forms from Graph Representations of Text and Entities"
          ],
          [
           "Dynamically Composing Domain-Data Selection with Clean-Data Selection by \"Co-Curricular Learning\" for Neural Machine Translation"
          ],
          [
           "Handling Divergent Reference Texts when Evaluating Table-to-Text Generation"
          ],
          [
           "Ranking of Potential Questions"
          ],
          [
           "Context-specific language modeling for human trafficking detection from online advertisements"
          ],
          [
           "Putting words in context: LSTM language models and lexical ambiguity"
          ],
          [
           "NNE: A Dataset for Nested Named Entity Recognition in English Newswire"
          ],
          [
           "Latent Retrieval for Weakly Supervised Open Domain Question Answering"
          ],
          [
           "Ranking Generated Summaries by Correctness: An Interesting but Challenging Application for Natural Language Inference"
          ],
          [
           "Using Automatically Extracted Minimum Spans to Disentangle Coreference Evaluation from Boundary Detection"
          ],
          [
           "Effective Cross-lingual Transfer of Neural Machine Translation Models without Shared Vocabularies"
          ],
          [
           "Reversing Gradients in Adversarial Domain Adaptation for Question Deduplication and Textual Entailment Tasks"
          ],
          [
           "Crowdsourcing and Validating Event-focused Emotion Corpora for German and English"
          ],
          [
           "An Imitation Learning Approach to Unsupervised Parsing"
          ],
          [
           "Zero-Shot Entity Linking by Reading Entity Descriptions"
          ],
          [
           "How to best use Syntax in Semantic Role Labelling"
          ],
          [
           "Learning Emphasis Selection for Written Text in Visual Media from Crowd-Sourced Label Distributions"
          ],
          [
           "AMR Parsing as Sequence-to-Graph Transduction"
          ],
          [
           "Neural Decipherment via Minimum-Cost Flow: from Ugaritic to Linear B"
          ],
          [
           "Don't Take the Premise for Granted: Mitigating Artifacts in Natural Language Inference"
          ],
          [
           "Not All Reviews are Equal: Towards Addressing Reviewer Biases for Opinion Summarization"
          ],
          [
           "Compound Probabilistic Context-Free Grammars for Grammar Induction"
          ],
          [
           "BIGPATENT: A Large-Scale Dataset for Abstractive and Coherent Summarization"
          ],
          [
           "Joint Effects of Context and User History for Predicting Online Conversation Re-entries"
          ],
          [
           "Making Fast Graph-based Algorithms with Graph Metric Embeddings"
          ],
          [
           "Matching the Blanks: Distributional Similarity for Relation Learning"
          ],
          [
           "Unsupervised Parallel Sentence Extraction with Parallel Segment Detection Helps Machine Translation"
          ],
          [
           "Better OOV Translation with Bilingual Terminology Mining"
          ],
          [
           "Unsupervised Multilingual Word Embedding with Limited Resources using Neural Language Models"
          ],
          [
           "Investigating Political Herd Mentality: A Community Sentiment Based Approach"
          ],
          [
           "Learning Attention-based Embeddings for Relation Prediction in Knowledge Graphs"
          ],
          [
           "Cross-Domain Generalization of Neural Constituency Parsers"
          ],
          [
           "Pre-Learning Environment Representations for Data-Efficient Neural Instruction Following"
          ],
          [
           "Are You Looking? Grounding to Multiple Modalities in Vision-and-Language Navigation"
          ],
          [
           "Improving Low-Resource Cross-lingual Document Retrieval by Reranking with Deep Bilingual Representations"
          ],
          [
           "Multilingual Constituency Parsing with Self-Attention and Pre-Training"
          ],
          [
           "Simple Unsupervised Summarization by Contextual Matching"
          ],
          [
           "Personalizing Dialogue Agents via Meta-Learning"
          ],
          [
           "Memory Consolidation for Contextual Spoken Language Understanding with Dialogue Logistic Inference"
          ],
          [
           "Generalized Data Augmentation for Low-Resource Translation"
          ],
          [
           "Māori Loanwords: A Corpus of New Zealand English Tweets"
          ],
          [
           "Improving Neural Entity Disambiguation with Graph Embeddings"
          ],
          [
           "DeepSentiPeer: Harnessing Sentiment in Review Texts To Recommend Peer Review Decisions"
          ],
          [
           "Multimodal and Multi-view Models for Emotion Recognition"
          ],
          [
           "Zero-Shot Semantic Parsing for Instructions"
          ],
          [
           "What Should I Ask? Using Conversationally Informative Rewards for Goal-Oriented Visual Dialogue"
          ],
          [
           "Complex Question Decomposition for Semantic Parsing"
          ],
          [
           "HEAD-QA: A Healthcare Dataset for Complex Reasoning"
          ],
          [
           "Unified Semantic Parsing with Weak Supervision"
          ],
          [
           "Numeracy-600K: Learning Numeracy for Detecting Exaggerated Information in Market Comments"
          ],
          [
           "Multi-Task Deep Neural Networks for Natural Language Understanding"
          ],
          [
           "Distilling Translations with Visual Awareness"
          ],
          [
           "DisSent: Learning Sentence Representations from Explicit Discourse Relations"
          ],
          [
           "A Corpus for Reasoning About Natural Language Grounded in Photographs"
          ],
          [
           "Multi-News: a Large-Scale Multi-Document Summarization Dataset and Abstractive Hierarchical Model"
          ],
          [
           "EigenSent: Spectral sentence embeddings using higher-order Dynamic Mode Decomposition"
          ],
          [
           "Self-Attentional Models for Lattice Inputs"
          ],
          [
           "SEMBLEU: A Robust Metric for AMR Parsing Evaluation"
          ],
          [
           "Symbolic inductive bias for visually grounded learning of spoken language"
          ],
          [
           "Improved Zero-shot Neural Machine Translation via Ignoring Spurious Correlations"
          ],
          [
           "A Compact and Language-Sensitive Multilingual Translation Method"
          ],
          [
           "On the Robustness of Self-Attentive Models"
          ],
          [
           "Exact Hard Monotonic Attention for Character-Level Transduction"
          ],
          [
           "Reranking for Neural Semantic Parsing"
          ],
          [
           "Incorporating Priors with Feature Attribution on Text Classification"
          ],
          [
           "Multi-Relational Script Learning for Discourse Relations"
          ],
          [
           "Human vs. Muppet: A Conservative Estimate of Human Performance on the GLUE Benchmark"
          ],
          [
           "Using LSTMs to Assess the Obligatoriness of Phonological Distinctive Features for Phonotactic Learning"
          ],
          [
           "Compositional Semantic Parsing Across Graphbanks"
          ],
          [
           "Second-Order Semantic Dependency Parsing with End-to-End Neural Networks"
          ],
          [
           "Determining Relative Argument Specificity and Stance for Complex Argumentative Structures"
          ],
          [
           "Every child should have parents: a taxonomy refinement algorithm based on hyperbolic term embeddings"
          ],
          [
           "Tree Communication Models for Sentiment Analysis"
          ],
          [
           "An Investigation of Transfer Learning-Based Sentiment Analysis in Japanese"
          ],
          [
           "Global Textual Relation Embedding for Relational Understanding"
          ],
          [
           "Latent Variable Sentiment Grammar *"
          ],
          [
           "Embedding time expressions for deep temporal ordering models"
          ],
          [
           "Episodic Memory Reader: Learning What to Remember for Question Answering from Streaming Data"
          ],
          [
           "Are we there yet? Encoder-decoder neural networks as cognitive models of English past tense inflection"
          ],
          [
           "Is word segmentation child's play in all languages?"
          ],
          [
           "Uncovering Probabilistic Implications in Typological Knowledge Bases"
          ],
          [
           "Attention-based Conditioning Methods for External Knowledge Integration"
          ],
          [
           "StRE: Self Attentive Edit Quality Prediction in Wikipedia"
          ],
          [
           "Fine-Grained Sentence Functions for Short-Text Conversation"
          ],
          [
           "Are Training Samples Correlated? Learning to Generate Dialogue Responses with Multiple References"
          ],
          [
           "Fine-Grained Spoiler Detection from Large-Scale Review Corpora"
          ],
          [
           "Unsupervised Learning of PCFGs with Normalizing Flow"
          ],
          [
           "Domain Adaptive Dialog Generation via Meta Learning"
          ],
          [
           "GCDT: A Global Context Enhanced Deep Transition Architecture for Sequence Labeling"
          ],
          [
           "Analyzing Linguistic Differences between Owner and Staff Attributed Tweets"
          ],
          [
           "Categorizing and Inferring the Relationship between the Text and Image of Twitter Posts"
          ],
          [
           "Correlating neural and symbolic representations of language"
          ],
          [
           "Retrieving Sequential Information for Non-Autoregressive Neural Machine Translation"
          ],
          [
           "Transformer-XL: Attentive Language Models Beyond a Fixed-Length Context"
          ],
          [
           "E 3 : Entailment-driven Extracting and Editing for Conversational Machine Reading"
          ],
          [
           "A Simple and Effective Approach to Automatic Post-Editing with Transfer Learning"
          ],
          [
           "Head-Driven Phrase Structure Grammar Parsing on Penn Treebank"
          ],
          [
           "Multilingual Unsupervised NMT using Shared Encoder and Language-Specific Decoders"
          ],
          [
           "Multi-Modal Sarcasm Detection in Twitter with Hierarchical Fusion Model"
          ],
          [
           "MAAM: A Morphology-Aware Alignment Model for Unsupervised Bilingual Lexicon Induction"
          ],
          [
           "On the Compositionality Prediction of Noun Phrases using Poincaré Embeddings"
          ],
          [
           "Cross-Domain NER using Cross-Domain Language Modeling"
          ],
          [
           "Multi-Task Semantic Dependency Parsing with Policy Gradient for Learning Easy-First Strategies"
          ],
          [
           "Variance of average surprisal: a better predictor for quality of grammar from unsupervised PCFG induction"
          ],
          [
           "Wide-Coverage Neural A* Parsing for Minimalist Grammars"
          ],
          [
           "Assessing the Ability of Self-Attention Networks to Learn Word Order"
          ],
          [
           "Topic-Aware Neural Keyphrase Generation for Social Media Language"
          ],
          [
           "Relational Word Embeddings"
          ],
          [
           "You Write Like You Eat: Stylistic variation as a predictor of social stratification"
          ],
          [
           "Sentence-Level Evidence Embedding for Claim Verification with Hierarchical Attention Networks"
          ],
          [
           "Embedding Imputation with Grounded Language Information"
          ],
          [
           "Multi-Hop Paragraph Retrieval for Open-Domain Question Answering"
          ],
          [
           "Textbook Question Answering with Multi-modal Context Graph Understanding and Self-supervised Open-set Comprehension"
          ],
          [
           "Large Dataset and Language Model Fun-Tuning for Humor Recognition"
          ],
          [
           "A Multilingual BPE Embedding Space for Universal Sentiment Lexicon Induction"
          ],
          [
           "A Just and Comprehensive Strategy for Using NLP to Address Online Abuse"
          ],
          [
           "Leveraging Meta Information in Short Text Aggregation"
          ],
          [
           "Self-Attentive, Multi-Context One-Class Classification for Unsupervised Anomaly Detection on Text"
          ],
          [
           "Hubless Nearest Neighbor Search for Bilingual Lexicon Induction"
          ],
          [
           "Dialogue Natural Language Inference"
          ],
          [
           "Bayes Test of Precision, Recall, and F 1 Measure for Comparison of Two Natural Language Processing Models"
          ],
          [
           "The Effectiveness of Simple Hybrid Systems for Hypernym Discovery"
          ],
          [
           "TIGS: An Inference Algorithm for Text Infilling with Gradient Search"
          ],
          [
           "Vocabulary Pyramid Network: Multi-Pass Encoding and Decoding with Multi-Level Vocabularies for Response Generation"
          ],
          [
           "Keeping Notes: Conditional Natural Language Generation with a Scratchpad Mechanism"
          ],
          [
           "Do you know that Florence is packed with visitors? Evaluating state-of-the-art models of speaker commitment"
          ],
          [
           "Towards Language Agnostic Universal Representations"
          ],
          [
           "Give Me More Feedback II: Annotating Thesis Strength and Related Attributes in Student Essays"
          ],
          [
           "End-to-End Sequential Metaphor Identification Inspired by Linguistic Theories"
          ],
          [
           "Learning a Matching Model with Co-teaching for Multi-turn Response Selection in Retrieval-based Dialogue Systems"
          ],
          [
           "Budgeted Policy Learning for Task-Oriented Dialogue Systems"
          ],
          [
           "AdaNSP: Uncertainty-driven Adaptive Decoding in Neural Semantic Parsing"
          ],
          [
           "AutoML strategy based on grammatical evolution: A case study about knowledge discovery from text"
          ],
          [
           "Distilling Discrimination and Generalization Knowledge for Event Detection via ∆-Representation Learning"
          ],
          [
           "Learning to Abstract for Memory-augmented Conversational Response Generation"
          ],
          [
           "Towards Empathetic Open-domain Conversation Models: a New Benchmark and Dataset"
          ],
          [
           "Training Neural Response Selection for Task-Oriented Dialogue Systems"
          ],
          [
           "Joint Slot Filling and Intent Detection via Capsule Neural Networks"
          ],
          [
           "Label-Agnostic Sequence Labeling by Copying Nearest Neighbors"
          ],
          [
           "Self-Attention Architectures for Answer-Agnostic Neural Question Generation"
          ],
          [
           "Large-Scale Transfer Learning for Natural Language Generation"
          ],
          [
           "Enhancing Unsupervised Generative Dependency Parser with Contextual Information"
          ],
          [
           "Cost-sensitive Regularization for Label Confusion-aware Event Detection"
          ],
          [
           "Improving Open Information Extraction via Iterative Rank-Aware Learning"
          ],
          [
           "Towards Improving Neural Named Entity Recognition with Gazetteers"
          ],
          [
           "Improving the Robustness of Question Answering Systems to Question Paraphrasing"
          ],
          [
           "Neural Response Generation with Meta-Words"
          ],
          [
           "Scaling Up Open Tagging from Tens to Thousands: Comprehension Empowered Attribute Value Extraction from Product Title"
          ],
          [
           "NLProlog: Reasoning with Weak Unification for Question Answering in Natural Language"
          ],
          [
           "MC 2 : Multi-perspective Convolutional Cube for Conversational Machine Reading Comprehension"
          ],
          [
           "A Novel Bi-directional Interrelated Model for Joint Intent Detection and Slot Filling"
          ],
          [
           "Reducing Word Omission Errors in Neural Machine Translation: A Contrastive Learning Approach"
          ],
          [
           "Deep Unknown Intent Detection with Margin Loss"
          ],
          [
           "Exploiting Sentential Context for Neural Machine Translation"
          ],
          [
           "Learning to Relate from Captions and Bounding Boxes"
          ],
          [
           "Modeling Semantic Relationship in Multi-turn Conversations with Hierarchical Latent Variables"
          ],
          [
           "An automated framework for fast cognate detection and Bayesian phylogenetic inference in computational historical linguistics"
          ],
          [
           "Learning Latent Trees with Stochastic Perturbations and Differentiable Dynamic Programming"
          ],
          [
           "Discourse Representation Parsing for Sentences and Documents"
          ],
          [
           "Sequence-to-Nuggets: Nested Entity Mention Detection via Anchor-Region Networks"
          ],
          [
           "Training Hybrid Language Models by Marginalizing over Segmentations"
          ],
          [
           "Language Modelling Makes Sense: Propagating Representations through WordNet for Full-Coverage Word Sense Disambiguation"
          ],
          [
           "Combating Adversarial Misspellings with Robust Word Recognition"
          ],
          [
           "Sentiment Tagging with Partial Labels using Modular Architectures"
          ],
          [
           "Word2Sense : Sparse Interpretable Word Embeddings"
          ],
          [
           "Empirical Linguistic Study of Sentence Embeddings"
          ],
          [
           "Collocation Classification with Unsupervised Relation Vectors"
          ],
          [
           "Probing for Semantic Classes: Diagnosing the Meaning Content of Word Embeddings"
          ],
          [
           "Confusionset-guided Pointer Networks for Chinese Spelling Check"
          ],
          [
           "Target Conditioned Sampling: Optimizing Data Selection for Multilingual Neural Machine Translation"
          ],
          [
           "Adversarial Learning of Privacy-Preserving Text Representations for De-Identification of Medical Records"
          ],
          [
           "Variational Pretraining for Semi-supervised Text Classification"
          ],
          [
           "The Referential Reader: A Recurrent Entity Network for Anaphora Resolution"
          ],
          [
           "Interpolated Spectral NGram Language Models"
          ],
          [
           "Barack's Wife Hillary: Using Knowledge Graphs for Fact-Aware Language Modeling"
          ],
          [
           "Depth Growing for Neural Machine Translation"
          ],
          [
           "Manipulating the Difficulty of C-Tests"
          ],
          [
           "Soft Representation Learning for Sparse Transfer"
          ],
          [
           "Duality of Link Prediction and Entailment Graph Induction"
          ],
          [
           "Towards Unsupervised Text Classification Leveraging Experts and Word Embeddings"
          ],
          [
           "Improved Language Modeling by Decoding the Past"
          ],
          [
           "Sparse Sequence-to-Sequence Models"
          ],
          [
           "Neural Network Alignment for Sentential Paraphrases"
          ],
          [
           "A Cross-Sentence Latent Variable Model for Semi-Supervised Text Sequence Matching"
          ],
          [
           "Divide, Conquer and Combine: Hierarchical Feature Fusion Network with Local and Global Perspectives for Multimodal Affective Computing"
          ],
          [
           "Decompositional Argument Mining: A General Purpose Approach for Argument Graph Construction"
          ],
          [
           "What You Say and How You Say It Matters: Predicting Financial Risk Using Verbal and Vocal Cues"
          ],
          [
           "A Transparent Framework for Evaluating Unintended Demographic Bias in Word Embeddings"
          ],
          [
           "Generalized Tuning of Distributional Word Vectors for Monolingual and Cross-Lingual Lexical Entailment"
          ],
          [
           "Cross-Sentence Grammatical Error Correction"
          ],
          [
           "Learning Morphosyntactic Analyzers from the Bible via Iterative Annotation Projection across 26 Languages"
          ],
          [
           "A Surprisingly Robust Trick for the Winograd Schema Challenge"
          ],
          [
           "Encoding Social Information with Graph Convolutional Networks for Political Perspective Detection in News Media"
          ],
          [
           "MELD: A Multimodal Multi-Party Dataset for Emotion Recognition in Conversations"
          ],
          [
           "Topic Sensitive Attention on Generic Corpora Corrects Sense Bias in Pretrained Embeddings"
          ],
          [
           "Coherent Comment Generation for Chinese Articles with a Graph-to-Sequence Model"
          ],
          [
           "Transfer Capsule Network for Aspect Level Sentiment Classification"
          ],
          [
           "Multilingual Factor Analysis"
          ],
          [
           "A Deep Reinforced Sequence-to-Set Model for Multi-Label Classification"
          ],
          [
           "Learning from omission"
          ],
          [
           "Meaning to Form: Measuring Systematicity as Information"
          ],
          [
           "Interconnected Question Generation with Coreference Alignment and Conversation Flow Modeling"
          ],
          [
           "A Corpus for Modeling User and Language Effects in Argumentation on Online Debating"
          ],
          [
           "Generating Diverse Translations with Sentence Codes"
          ],
          [
           "Multilingual and Cross-Lingual Graded Lexical Entailment"
          ],
          [
           "Neural Text Simplification of Clinical Letters with a Domain Specific Phrase Table"
          ],
          [
           "Data Programming for Learning Discourse Structure"
          ],
          [
           "Neural Fuzzy Repair: Integrating Fuzzy Matches into Neural Machine Translation"
          ],
          [
           "What Kind of Language Is Hard to Language-Model?"
          ],
          [
           ""
          ],
          [
           "Text Categorization by Learning Predominant Sense of Words as Auxiliary Task"
          ],
          [
           "Reinforced Training Data Selection for Domain Adaptation"
          ],
          [
           "Bilingual Lexicon Induction through Unsupervised Machine Translation"
          ],
          [
           "One Time of Interaction May Not Be Enough: Go Deep with an Interaction-over-Interaction Network for Response Selection in Dialogues"
          ],
          [
           "Coreference Resolution with Entity Equalization"
          ],
          [
           "Generating Long and Informative Reviews with Aspect-Aware Coarse-to-Fine Decoding"
          ],
          [
           "Asking the Crowd: Question Analysis, Evaluation and Generation for Open Discussion on Online Forums"
          ],
          [
           "Automatic Generation of High Quality CCGbanks for Parser Domain Adaptation"
          ],
          [
           "MOROCO: The Moldavian and Romanian Dialectal Corpus"
          ],
          [
           "Unsupervised Neural Text Simplification"
          ],
          [
           "Abstractive text summarization based on deep learning and semantic content generalization"
          ],
          [
           "An Effective Approach to Unsupervised Machine Translation"
          ],
          [
           "Errudite: Scalable, Reproducible, and Testable Error Analysis"
          ],
          [
           "Unsupervised Neural Single-Document Summarization of Reviews via Learning Latent Discourse Structure and its Ranking"
          ],
          [
           "Studying Summarization Evaluation Metrics in the Appropriate Scoring Range"
          ],
          [
           "Spatial Aggregation Facilitates Discovery of Spatial Topics"
          ],
          [
           "SherLIiC: A Typed Event-Focused Lexical Inference Benchmark for Evaluating Natural Language Inference"
          ],
          [
           "Syntax-Infused Variational Autoencoder for Text Generation"
          ],
          [
           "Collaborative Dialogue in Minecraft"
          ],
          [
           "Finding Your Voice: The Linguistic Development of Mental Health Counselors"
          ],
          [
           "Inferential Machine Comprehension: Answering Questions by Recursively Deducing the Evidence Chain from Text"
          ],
          [
           "Modeling affirmative and negated action processing in the brain with lexical and compositional semantic models"
          ],
          [
           "Detecting Concealed Information in Text and Speech"
          ],
          [
           "Towards Automating Healthcare Question Answering in a Noisy Multilingual Low-Resource Setting"
          ],
          [
           "Explicit Utilization of General Knowledge in Machine Reading Comprehension"
          ],
          [
           "Self-Regulated Interactive Sequence-to-Sequence Learning"
          ],
          [
           "Joint Entity Extraction and Assertion Detection for Clinical Text"
          ],
          [
           "Incorporating Linguistic Constraints into Keyphrase Generation"
          ],
          [
           "Adaptive Attention Span in Transformers"
          ],
          [
           "Automatic Domain Adaptation Outperforms Manual Domain Adaptation for Predicting Financial Outcomes"
          ],
          [
           "Wikipedia as a Resource for Text Analysis and Retrieval"
          ],
          [
           "Unsupervised Cross-Lingual Representation Learning"
          ],
          [
           "Computational ad hominem detection"
          ],
          [
           "Fact or Factitious? Contextualized Opinion Spam Detection"
          ],
          [
           "Latent Structure Models for Natural Language Processing"
          ],
          [
           "Multiple Character Embeddings for Chinese Word Segmentation"
          ],
          [
           ""
          ],
          [
           "BREAKING! Presenting Fake News Corpus For Automated Fact Checking"
          ],
          [
           "Automated Cross-language Intelligibility Analysis of Parkinson's Disease Patients Using Speech Recognition Technologies"
          ],
          [
           "Attention and Lexicon Regularized LSTM for Aspect-based Sentiment Analysis"
          ],
          [
           ""
          ],
          [
           "Advances in Argument Mining"
          ],
          [
           "Hierarchical Multi-label Classification of Text with Capsule Networks"
          ],
          [
           "Computational Analysis of Political Texts: Bridging Research Efforts Across Communities"
          ],
          [
           "English-Indonesian Neural Machine Translation for Spoken Language Domains"
          ],
          [
           "Active Reading Comprehension: A dataset for learning the Question-Answer Relationship strategy"
          ],
          [
           "Robust-to-Noise Models in Natural Language Processing Tasks"
          ],
          [
           "Measuring the Value of Linguistics: A Case Study from St. Lawrence Island Yupik"
          ],
          [
           "Improving Mongolian-Chinese Neural Machine Translation with Morphological Noise"
          ],
          [
           "Towards incremental learning of word embeddings using context informativeness"
          ],
          [
           "Joint Learning of Named Entity Recognition and Entity Linking"
          ],
          [
           "A Strong and Robust Baseline for Text-Image Matching"
          ],
          [
           "Reducing Gender Bias in Word-Level Language Models with a Gender-Equalizing Loss Function"
          ],
          [
           "Transfer Learning Based Free-Form Speech Command Classification for Low-Resource Languages"
          ],
          [
           "Enriching Neural Models with Targeted Features for Dementia Detection"
          ],
          [
           "Convolutional Neural Networks for Financial Text Regression"
          ],
          [
           "Scheduled Sampling for Transformers"
          ],
          [
           "Sentiment Analysis on Naija-Tweets"
          ],
          [
           "Sentiment Classification using Document Embeddings trained with Cosine Similarity"
          ],
          [
           "A Japanese Word Segmentation Proposal"
          ],
          [
           "Deep Bayesian Natural Language Processing"
          ],
          [
           ""
          ],
          [
           ""
          ],
          [
           "Gender Stereotypes Differ between Male and Female Writings"
          ],
          [
           "Natural Language Generation: Recently Learned Lessons, Directions for Semantic Representation-based Approaches, and the case of Brazilian Portuguese Language"
          ],
          [
           "Towards Turkish Abstract Meaning Representation"
          ],
          [
           "Predicting the Outcome of Deliberative Democracy: A Research Proposal"
          ],
          [
           "Distributed Knowledge Based Clinical Auto-Coding System"
          ]
         ],
         "hovertemplate": "award=normal<br>x1=%{x}<br>x2=%{y}<br>hover_data_0=%{customdata[0]}<extra></extra>",
         "legendgroup": "normal",
         "marker": {
          "color": "#636efa",
          "symbol": "circle"
         },
         "mode": "markers",
         "name": "normal",
         "orientation": "v",
         "showlegend": true,
         "type": "scatter",
         "x": [
          0.1393200010061264,
          0.25976550579071045,
          -0.2003570944070816,
          -0.0539260059595108,
          -0.15726514160633087,
          0.03262011706829071,
          0.28841400146484375,
          -0.1704111397266388,
          -0.14568698406219482,
          0.31172534823417664,
          0.39620721340179443,
          0.017942698672413826,
          0.11779393255710602,
          0.23750123381614685,
          -0.12998026609420776,
          -0.05224941670894623,
          0.006941941566765308,
          0.03762179985642433,
          -0.23932476341724396,
          0.04523320123553276,
          -0.08450336009263992,
          0.13905932009220123,
          0.020292824134230614,
          -0.08861871063709259,
          0.0931064784526825,
          -0.10795190185308456,
          -0.021139243617653847,
          -0.1812043935060501,
          0.04993375763297081,
          0.6422428488731384,
          0.03836072236299515,
          0.13704833388328552,
          0.05883263051509857,
          -0.16578835248947144,
          -0.23478452861309052,
          -0.20066440105438232,
          -0.02627575397491455,
          0.2424645870923996,
          0.007957413792610168,
          -0.038610395044088364,
          -0.07213839888572693,
          -0.04701872169971466,
          -0.13709010183811188,
          -0.005646624136716127,
          0.03831356391310692,
          0.1539374738931656,
          -0.13083499670028687,
          -0.18122798204421997,
          0.17990393936634064,
          -0.06145583465695381,
          -0.008769018575549126,
          -0.29828616976737976,
          -0.1972680538892746,
          -0.1895485520362854,
          0.1314692348241806,
          0.06999340653419495,
          0.23015591502189636,
          -0.05432800203561783,
          0.08092538267374039,
          -0.06676764041185379,
          0.12242116034030914,
          0.0011267221998423338,
          -0.07642145454883575,
          0.04077519476413727,
          -0.17740365862846375,
          0.014526194892823696,
          -0.10831446945667267,
          -0.2765797972679138,
          -0.13751165568828583,
          -0.10416586697101593,
          0.2224394679069519,
          0.010892238467931747,
          -0.35640865564346313,
          -0.3326352536678314,
          -0.04824129864573479,
          -0.00465520191937685,
          -0.0698046162724495,
          -0.06226453557610512,
          0.6422428488731384,
          0.15894770622253418,
          0.043574560433626175,
          -0.08048249036073685,
          0.030978014692664146,
          0.006975049618631601,
          0.06528917700052261,
          -0.08544400334358215,
          0.009491381235420704,
          0.054240401834249496,
          -0.13849103450775146,
          -0.0011084422003477812,
          0.01341370027512312,
          -0.11983729898929596,
          -0.06269270926713943,
          0.10361948609352112,
          -0.05292981490492821,
          0.10478638112545013,
          0.30613699555397034,
          0.22104112803936005,
          -0.060074303299188614,
          0.2169819176197052,
          -0.08275454491376877,
          0.025439729914069176,
          0.053477250039577484,
          0.02069183439016342,
          -0.004885932430624962,
          -0.1293952763080597,
          0.28275132179260254,
          -0.030833519995212555,
          0.2916363775730133,
          0.14177124202251434,
          0.03456857427954674,
          0.26696112751960754,
          0.1285555064678192,
          -0.2953936457633972,
          0.2022998332977295,
          -0.36348971724510193,
          -0.23883621394634247,
          -0.35906192660331726,
          -0.333167165517807,
          0.054201047867536545,
          -0.16920346021652222,
          0.15419219434261322,
          -0.29564592242240906,
          -0.23075030744075775,
          -0.06625188142061234,
          -0.10576001554727554,
          -0.13201607763767242,
          -0.28073927760124207,
          0.40891093015670776,
          0.16839569807052612,
          0.0816567912697792,
          -0.06607768684625626,
          0.2138589322566986,
          -0.134149968624115,
          0.19188478589057922,
          0.2818782329559326,
          -0.1260010004043579,
          0.07246677577495575,
          0.1570655256509781,
          -0.11231647431850433,
          0.30449235439300537,
          -0.13719090819358826,
          0.2505814731121063,
          0.11784253269433975,
          -0.3103114068508148,
          0.007069253362715244,
          -0.05366393178701401,
          0.09686551988124847,
          0.15011294186115265,
          0.2318105846643448,
          0.38232114911079407,
          0.3843117654323578,
          0.10576263070106506,
          0.1031758263707161,
          -0.04453182592988014,
          -0.05068586394190788,
          -0.20744027197360992,
          -0.22055701911449432,
          -0.005246435292065144,
          -0.17614243924617767,
          -0.009947331622242928,
          -0.3721065819263458,
          -0.3141559362411499,
          0.06727315485477448,
          -0.2240438461303711,
          -0.13114450871944427,
          0.3995177149772644,
          0.15174242854118347,
          -0.10294491052627563,
          0.032794151455163956,
          -0.09084659069776535,
          0.0329430028796196,
          -0.018604528158903122,
          0.07505843043327332,
          -0.13951422274112701,
          -0.06706768274307251,
          -0.21158131957054138,
          -0.23878741264343262,
          -0.1564973145723343,
          -0.06602628529071808,
          0.04038715735077858,
          -0.3540165424346924,
          -0.13691191375255585,
          -0.08212576806545258,
          -0.20542170107364655,
          -0.06137055158615112,
          -0.10760083049535751,
          -0.15364694595336914,
          -0.022132720798254013,
          -0.12572358548641205,
          -0.16223853826522827,
          -0.1972716897726059,
          -0.32617130875587463,
          0.007274847477674484,
          -0.37454983592033386,
          -0.30780690908432007,
          0.02898966521024704,
          -0.1027977466583252,
          0.006869638338685036,
          -0.12531781196594238,
          0.0745917409658432,
          -0.24567747116088867,
          -0.027839642018079758,
          -0.1678084284067154,
          0.15250998735427856,
          0.42008817195892334,
          0.23400726914405823,
          -0.11266233026981354,
          -0.10323666036128998,
          0.32736289501190186,
          -0.33540937304496765,
          0.007558331359177828,
          -0.008166931569576263,
          -0.031516183167696,
          0.21922706067562103,
          0.09891249239444733,
          0.31314146518707275,
          0.4454192519187927,
          0.3434307873249054,
          0.3364788889884949,
          -0.11046156287193298,
          -0.16239804029464722,
          -0.022741546854376793,
          0.1204230934381485,
          0.02637365087866783,
          -0.0081190075725317,
          -0.06870132684707642,
          -0.04807243496179581,
          -0.0858616903424263,
          0.06867824494838715,
          -0.11404039710760117,
          -0.0021902674343436956,
          -0.12565363943576813,
          -0.10963239520788193,
          -0.08646789938211441,
          -0.04509003832936287,
          -0.14872129261493683,
          -0.17370781302452087,
          0.21067994832992554,
          -0.21438780426979065,
          -0.01262833084911108,
          -0.14792965352535248,
          -0.137078657746315,
          -0.2447090446949005,
          -0.04718136787414551,
          0.11016488820314407,
          -0.14331726729869843,
          -0.017084870487451553,
          -0.27766573429107666,
          -0.13108430802822113,
          -0.07921534031629562,
          -0.31198930740356445,
          0.024739976972341537,
          -0.2656117081642151,
          0.011436880566179752,
          -0.08043697476387024,
          -0.14920677244663239,
          -0.262703537940979,
          -0.09981589764356613,
          -0.09760003536939621,
          -0.13092169165611267,
          -0.05926445871591568,
          -0.01834048144519329,
          0.1720401495695114,
          0.21259093284606934,
          -0.0758310928940773,
          0.09623831510543823,
          0.6422428488731384,
          -0.2026555836200714,
          -0.033811356872320175,
          -0.1082107201218605,
          -0.2081189602613449,
          0.1955423504114151,
          -0.10115815699100494,
          -0.13666830956935883,
          0.010367446579039097,
          -0.030632320791482925,
          0.15061363577842712,
          0.06146320328116417,
          -0.12250856310129166,
          0.004521377384662628,
          0.2459692656993866,
          -0.23529231548309326,
          -0.12471663951873779,
          0.1042584627866745,
          -0.06452810764312744,
          -0.20298917591571808,
          -0.005983754992485046,
          -0.07906469702720642,
          0.08709295839071274,
          -0.0051207575015723705,
          0.008108497597277164,
          -0.22609205543994904,
          0.003854565555229783,
          0.02365945093333721,
          0.027800528332591057,
          0.2107071876525879,
          -0.18675260245800018,
          -0.1279064416885376,
          -0.14935658872127533,
          0.1673954427242279,
          0.23042353987693787,
          0.22799019515514374,
          0.2749441862106323,
          -0.052797019481658936,
          0.023801691830158234,
          0.18668238818645477,
          0.020678147673606873,
          -0.0531022734940052,
          0.0136891920119524,
          0.07201463729143143,
          0.2894213795661926,
          -0.005972603335976601,
          0.03052939847111702,
          0.14929738640785217,
          0.3650054335594177,
          0.18552926182746887,
          0.3096565306186676,
          -0.14129889011383057,
          -0.3008251190185547,
          -0.01670948788523674,
          0.09526235610246658,
          0.03170490637421608,
          0.0023835403844714165,
          0.15122170746326447,
          -0.07094032317399979,
          -0.22660931944847107,
          0.23518997430801392,
          0.18106567859649658,
          -0.07159952819347382,
          0.043330900371074677,
          0.4456843435764313,
          0.1537521630525589,
          -0.07056066393852234,
          -0.09808094799518585,
          -0.08884953707456589,
          -0.08185093104839325,
          0.08998934924602509,
          0.09100884944200516,
          -0.15237568318843842,
          -0.12428624927997589,
          0.16791029274463654,
          -0.14555659890174866,
          -0.07910927385091782,
          0.09795340150594711,
          -0.06120174378156662,
          0.18573470413684845,
          -0.1833924949169159,
          0.04416351765394211,
          0.03541083261370659,
          -0.08629871904850006,
          0.13012535870075226,
          0.12206438183784485,
          -0.006014934275299311,
          -0.2768801748752594,
          -0.07768283784389496,
          0.17295177280902863,
          -0.11998434364795685,
          0.048917412757873535,
          0.04631470516324043,
          0.1061827763915062,
          -0.02609432116150856,
          0.1332608163356781,
          0.15324313938617706,
          0.03901669383049011,
          -0.11733347922563553,
          0.06487655639648438,
          0.1056765466928482,
          -0.09842143952846527,
          -0.010852503590285778,
          0.358388751745224,
          -0.014459656551480293,
          -0.0034317360259592533,
          -0.03119114227592945,
          0.04236152768135071,
          0.04031164571642876,
          -0.001381913898512721,
          -0.04213228449225426,
          0.1418207436800003,
          0.30940014123916626,
          0.07132235914468765,
          -0.19212132692337036,
          -0.13950490951538086,
          -0.036892667412757874,
          0.12721239030361176,
          0.6422428488731384,
          -0.14054393768310547,
          0.04227612540125847,
          -0.09266854077577591,
          -0.09284152090549469,
          0.08608324825763702,
          0.15747246146202087,
          -0.19868715107440948,
          0.06451354920864105,
          -0.18913358449935913,
          0.16852451860904694,
          0.034905530512332916,
          -0.10127951949834824,
          -0.05937349423766136,
          -0.0945003405213356,
          0.6422428488731384,
          -0.11392513662576675,
          0.08085419237613678,
          0.047994814813137054,
          -0.08249243348836899,
          -0.21195271611213684,
          0.09133636951446533,
          -0.34881091117858887,
          -0.10993757098913193,
          0.05463073402643204,
          0.1490727663040161,
          0.28083932399749756,
          0.0635298565030098,
          0.061717916280031204,
          -0.049487438052892685,
          -0.007016772869974375,
          -0.05626864731311798,
          0.053087860345840454,
          0.03378942608833313,
          -0.2917710840702057,
          -0.07573352754116058,
          -0.1491124927997589,
          -0.10204422473907471,
          0.16052207350730896,
          0.2872232496738434,
          -0.3324674963951111,
          0.07963686436414719,
          -0.01705756224691868,
          -0.38909652829170227,
          -0.11266142874956131,
          0.021146591752767563,
          -0.04771338030695915,
          -0.07624000310897827,
          0.07217566668987274,
          0.1335473656654358,
          -0.23399893939495087,
          -0.15807321667671204,
          0.2064545750617981,
          -0.32905280590057373,
          -0.139618918299675,
          -0.18472769856452942,
          0.08890330791473389,
          -0.11989324539899826,
          -0.20407170057296753,
          -0.015888547524809837,
          -0.09058089554309845,
          -0.0991874560713768,
          -0.13412269949913025,
          0.3808614909648895,
          0.25833800435066223,
          -0.13879047334194183,
          -0.09391091018915176,
          0.07823938131332397,
          -0.09629740566015244,
          -0.0012797147501260042,
          -0.21999523043632507,
          -0.03449300676584244,
          0.02912522479891777,
          -0.28370675444602966,
          0.2692570984363556,
          -0.1079610288143158,
          0.27300503849983215,
          0.20500855147838593,
          0.13687676191329956,
          0.6422428488731384,
          0.3203428387641907,
          -0.020214073359966278,
          0.17696186900138855,
          0.5081345438957214,
          0.03269151225686073,
          0.10175968706607819,
          -0.06100785732269287,
          -0.02121734991669655,
          0.25083690881729126,
          -0.20490476489067078,
          0.017799146473407745,
          -0.09014218300580978,
          -0.29631704092025757,
          0.18355034291744232,
          -0.29522228240966797,
          0.20218174159526825,
          -0.264973521232605,
          -0.26863202452659607,
          -0.13632121682167053,
          -0.25229060649871826,
          -0.22428488731384277,
          0.21686965227127075,
          0.015269958414137363,
          -0.10333216935396194,
          -0.14657938480377197,
          0.043250199407339096,
          0.3290371298789978,
          0.19064880907535553,
          -0.10063189268112183,
          0.04710235819220543,
          -0.0335782952606678,
          0.0035299283917993307,
          0.030722729861736298,
          -0.39281389117240906,
          -0.12176492065191269,
          0.20393109321594238,
          -0.16735422611236572,
          -0.15207065641880035,
          -0.09118816256523132,
          0.1765044927597046,
          -0.10965662449598312,
          -0.1521184891462326,
          -0.08833912014961243,
          0.2445867508649826,
          -0.06342851370573044,
          0.04838027432560921,
          0.25420835614204407,
          0.01706727221608162,
          -0.020340505987405777,
          -0.12958435714244843,
          -0.27865973114967346,
          -0.31384071707725525,
          0.42991355061531067,
          -0.047988131642341614,
          -0.13428445160388947,
          -0.09986340999603271,
          -0.0159123744815588,
          -0.2093670666217804,
          -0.19801564514636993,
          -0.05825711041688919,
          0.12963461875915527,
          0.002623189240694046,
          -0.30694204568862915,
          0.22594165802001953,
          -0.0635802149772644,
          0.14565087854862213,
          0.038643669337034225,
          -0.07916626334190369,
          0.1022581160068512,
          0.06678678095340729,
          0.01904873363673687,
          -0.11833798140287399,
          -0.06570407003164291,
          -0.2587035298347473,
          -0.17476534843444824,
          -0.12157844752073288,
          0.0990222841501236,
          -0.032227203249931335,
          0.03389126434922218,
          -0.25945451855659485,
          -0.013152848929166794,
          -0.15067069232463837,
          -0.3098559081554413,
          -0.375386118888855,
          -0.005133789964020252,
          -0.29284313321113586,
          -0.11797812581062317,
          0.1645851582288742,
          0.05066285654902458,
          -0.0917089506983757,
          -0.0470379963517189,
          -0.08960452675819397,
          -0.0972781851887703,
          0.37242308259010315,
          0.07867477834224701,
          0.08032919466495514,
          0.04102160036563873,
          -0.13729718327522278,
          0.07273957133293152,
          -0.07461678981781006,
          -0.2053452432155609,
          -0.1374109983444214,
          -0.02274852618575096,
          0.03163456916809082,
          -0.2846178114414215,
          0.00397843262180686,
          -0.009047719649970531,
          -0.01668880134820938,
          0.20889046788215637,
          -0.12535056471824646,
          0.035750504583120346,
          -0.2772103548049927,
          0.39751631021499634,
          0.2532244920730591,
          -0.08049263805150986,
          -0.3242378234863281,
          -0.2544792592525482,
          0.13776282966136932,
          -0.2092828005552292,
          -0.014008699916303158,
          -0.33063486218452454,
          0.19082772731781006,
          -0.20215103030204773,
          -0.03957800939679146,
          -0.07872918993234634,
          0.0015970662934705615,
          -0.038216687738895416,
          -0.06374300271272659,
          -0.313864141702652,
          0.026004066690802574,
          -0.024844428524374962,
          0.24699640274047852,
          0.0047316537238657475,
          -0.040248047560453415,
          -0.019443470984697342,
          -0.0582786425948143,
          0.17066015303134918,
          0.11903656274080276,
          0.5385995507240295,
          0.13426806032657623,
          -0.005953056737780571,
          -0.19125734269618988,
          0.10740895569324493,
          -0.035625606775283813,
          0.07635091990232468,
          -0.19018018245697021,
          -0.035313572734594345,
          -0.2021401971578598,
          0.05120956897735596,
          -0.11359915882349014,
          0.30256718397140503,
          -0.03874856233596802,
          0.10330270230770111,
          0.08001889288425446,
          -0.22393915057182312,
          0.16811564564704895,
          0.01389666274189949,
          -0.02907467447221279,
          0.10424245148897171,
          0.09729906171560287,
          -0.049987681210041046,
          -0.12791414558887482,
          -0.18156062066555023,
          -0.0661766454577446,
          -0.16602464020252228,
          0.07389254868030548,
          0.03792954981327057,
          -0.039777424186468124,
          -0.08894889801740646,
          -0.047497592866420746,
          0.18975067138671875,
          -0.03946373239159584,
          -0.06954730302095413,
          -0.011544403620064259,
          -0.29806050658226013,
          0.05334668606519699,
          -0.3673325181007385,
          -0.07597143203020096,
          -0.006431956309825182,
          0.10218459367752075,
          0.019300060346722603,
          -0.07018794119358063,
          -0.00864375103265047,
          -0.07651937007904053,
          -0.1849328726530075,
          -0.06520155072212219,
          0.09994880110025406,
          -0.100510373711586,
          -0.07012021541595459,
          -0.04319362714886665,
          0.07200299203395844,
          -0.10799061506986618,
          -0.28581076860427856,
          0.12230928242206573,
          -0.1290685087442398,
          -0.048662640154361725,
          -0.08964627236127853,
          -0.12071555107831955,
          -0.38151371479034424,
          0.05869685113430023,
          -0.18412789702415466,
          0.1295967847108841,
          0.20514313876628876,
          -0.23798733949661255,
          -0.27913495898246765,
          -0.051715802401304245,
          -0.10137659311294556,
          0.022786684334278107,
          0.3453315198421478,
          0.16876809298992157,
          0.146797314286232,
          -0.10635030269622803,
          -0.2567708194255829,
          -0.01953905262053013,
          -0.05262421444058418,
          0.20090259611606598,
          0.21797966957092285,
          -0.11715616285800934,
          0.1405612975358963,
          0.10730292648077011,
          -0.13538150489330292,
          -0.038269318640232086,
          0.02970445156097412,
          0.013273227028548717,
          -0.07145218551158905,
          0.4657902121543884,
          -0.11742382496595383,
          -0.05287216976284981,
          0.028601622208952904,
          0.028752485290169716,
          -0.3169371485710144,
          -0.13934099674224854,
          0.6422428488731384,
          -0.0031962196808308363,
          -0.07533679157495499,
          -0.26043155789375305,
          -0.009002306498587132,
          -0.00022122851805761456,
          0.09350001066923141,
          0.03909553959965706,
          -0.025178052484989166,
          0.1000300943851471,
          -0.11835826188325882,
          -0.061619579792022705,
          -0.33948612213134766,
          0.18055208027362823,
          0.07263877242803574,
          0.16251559555530548,
          0.2588919699192047,
          -0.03687836974859238,
          -0.19120581448078156,
          0.208892822265625,
          0.27588969469070435,
          -0.06487367302179337,
          0.09108326584100723,
          0.2591157853603363,
          -0.11357355862855911,
          -0.14565972983837128,
          -0.1797644942998886,
          -0.09852582961320877,
          -0.026082389056682587,
          -0.16407836973667145,
          0.16698214411735535,
          0.6422428488731384,
          0.6422428488731384,
          0.4748944640159607,
          0.21375672519207,
          0.6422428488731384,
          -0.19805604219436646,
          0.17512699961662292,
          0.2927559018135071,
          0.09719596058130264,
          0.0037601199001073837,
          0.6422428488731384,
          0.43864691257476807,
          -0.03156315162777901,
          0.6422428488731384,
          -0.19059647619724274,
          -0.035359591245651245,
          0.018586480990052223,
          -0.011822016909718513,
          -0.14879025518894196,
          -0.03942286968231201,
          -0.07439038157463074,
          -0.08012332767248154,
          -0.033337462693452835,
          -0.0736771896481514,
          0.0150825260207057,
          0.030105946585536003,
          -0.312483549118042,
          0.2866261899471283,
          0.18544194102287292,
          0.09958314150571823,
          0.6422428488731384,
          0.6422428488731384,
          0.6422428488731384,
          0.3306654393672943,
          0.1005716398358345,
          0.0638182982802391,
          0.2686202824115753,
          0.10920754820108414
         ],
         "xaxis": "x",
         "y": [
          -0.33223092555999756,
          -0.25226539373397827,
          -0.2767890989780426,
          0.11814917623996735,
          0.01263266522437334,
          -0.2486436665058136,
          0.2455265372991562,
          0.18446697294712067,
          0.08427723497152328,
          -0.17413121461868286,
          -0.08274516463279724,
          -0.1555703580379486,
          -0.19316977262496948,
          0.09368675947189331,
          0.15115079283714294,
          0.02243121899664402,
          0.35991793870925903,
          -0.13675153255462646,
          0.1293943077325821,
          0.22493764758110046,
          0.14279749989509583,
          0.10306986421346664,
          0.15089033544063568,
          -0.13669392466545105,
          -0.03974650427699089,
          0.0048882137052714825,
          -0.05979384109377861,
          0.08992087095975876,
          0.06961539387702942,
          0.005288573447614908,
          -0.2870657742023468,
          0.13818888366222382,
          -0.010931693948805332,
          0.1884598284959793,
          -0.21838968992233276,
          -0.03243741765618324,
          0.27898818254470825,
          -0.20496702194213867,
          0.06520310044288635,
          0.03814415633678436,
          0.37235012650489807,
          -0.03411835804581642,
          -0.08247807621955872,
          -0.0045987628400325775,
          0.06457166373729706,
          0.07300225645303726,
          0.03105798177421093,
          0.04197075217962265,
          0.15517239272594452,
          -0.18190599977970123,
          -0.18645499646663666,
          0.032655250281095505,
          -0.1290893852710724,
          0.1026693657040596,
          0.4081002473831177,
          0.010510322637856007,
          0.4741637110710144,
          0.23465077579021454,
          0.04908030852675438,
          0.03468723222613335,
          -0.1398804932832718,
          -0.1796124130487442,
          -0.0585964098572731,
          -0.0662495419383049,
          -0.05699998140335083,
          -0.028974104672670364,
          -0.14819996058940887,
          -0.0834900438785553,
          0.06504150480031967,
          0.15214961767196655,
          0.384731262922287,
          0.4738101661205292,
          -0.019657224416732788,
          -0.25218766927719116,
          -0.04999076575040817,
          -0.014282001182436943,
          -0.16861532628536224,
          -0.026952499523758888,
          0.005288573447614908,
          0.36194732785224915,
          0.33220401406288147,
          -0.12922528386116028,
          0.065887451171875,
          -0.1022852435708046,
          -0.09258817136287689,
          -0.16808079183101654,
          -0.11406358331441879,
          0.02995220199227333,
          -0.04423776641488075,
          -0.08634965866804123,
          -0.16935749351978302,
          0.31827646493911743,
          0.22765111923217773,
          -0.059048719704151154,
          -0.13437512516975403,
          -0.3133627772331238,
          -0.011898929253220558,
          0.09773528575897217,
          0.05583353340625763,
          -0.056367721408605576,
          0.23659197986125946,
          -0.13152728974819183,
          0.37732353806495667,
          0.22922131419181824,
          0.02603207714855671,
          -0.19220148026943207,
          -0.028162026777863503,
          0.12771573662757874,
          0.16480855643749237,
          0.09475542604923248,
          -0.24370482563972473,
          -0.17528480291366577,
          0.16821987926959991,
          -0.3241937458515167,
          0.0784626230597496,
          -0.3252997100353241,
          -0.007478576619178057,
          -0.031258273869752884,
          0.0270987581461668,
          0.07494556158781052,
          -0.22635413706302643,
          -0.08200306445360184,
          0.06578955799341202,
          -0.24537599086761475,
          0.2581634819507599,
          -0.18063589930534363,
          0.05524059012532234,
          -0.04726988077163696,
          -0.03634841367602348,
          -0.09243498742580414,
          0.2922137677669525,
          0.24998167157173157,
          -0.020494282245635986,
          -0.07508739829063416,
          -0.18866994976997375,
          -0.19368259608745575,
          0.10126231610774994,
          0.04596041887998581,
          0.3346835672855377,
          0.05255827680230141,
          -0.017799533903598785,
          0.19158224761486053,
          0.38259199261665344,
          -0.06460648030042648,
          -0.11237826198339462,
          -0.17988072335720062,
          0.31328824162483215,
          -0.24376577138900757,
          -0.10087273269891739,
          -0.37326472997665405,
          -0.1310574859380722,
          -0.21911069750785828,
          -0.11343367397785187,
          0.268503338098526,
          -0.236808180809021,
          -0.04715883731842041,
          -0.40528348088264465,
          -0.3171822428703308,
          -0.11222370713949203,
          -0.305117130279541,
          -0.1563905030488968,
          -0.04592518135905266,
          -0.028491109609603882,
          0.17634057998657227,
          -0.0518859326839447,
          0.09377067536115646,
          0.10408028215169907,
          -0.19253785908222198,
          0.0017648584907874465,
          -0.15151070058345795,
          0.01787007600069046,
          0.2807203531265259,
          -0.1204579547047615,
          0.12126553803682327,
          0.1337510645389557,
          -0.008722894825041294,
          -0.16176970303058624,
          0.2158091962337494,
          0.05441217124462128,
          -0.15139494836330414,
          -0.24005283415317535,
          0.02985558472573757,
          0.40046626329421997,
          0.36320045590400696,
          0.015471382066607475,
          0.06560046225786209,
          -0.0981321781873703,
          0.018313419073820114,
          0.10325438529253006,
          0.00238063489086926,
          0.20563679933547974,
          0.023382553830742836,
          0.05776377394795418,
          -0.1180892065167427,
          -0.1253080517053604,
          0.15918146073818207,
          -0.030484605580568314,
          0.004987446591258049,
          -0.2976346015930176,
          0.26690810918807983,
          -0.16762912273406982,
          0.08076176047325134,
          -0.03158590942621231,
          0.265596479177475,
          -0.07024741172790527,
          -0.12905244529247284,
          0.01717909798026085,
          -0.03126205503940582,
          0.05718538165092468,
          -0.2799842357635498,
          0.10294069349765778,
          -0.047061409801244736,
          -0.04020921140909195,
          0.30591240525245667,
          0.21397361159324646,
          0.19688954949378967,
          -0.3640686273574829,
          -0.023470493033528328,
          -0.13320554792881012,
          0.008513509295880795,
          -0.10383740812540054,
          0.12782317399978638,
          0.006276664324104786,
          -0.07129646092653275,
          -0.2653391361236572,
          0.20171424746513367,
          -0.1029103547334671,
          0.18596751987934113,
          -0.18137381970882416,
          0.404487669467926,
          0.23073303699493408,
          0.35981833934783936,
          0.18931032717227936,
          0.040336694568395615,
          0.34740832448005676,
          -0.12719900906085968,
          0.024751540273427963,
          0.10725514590740204,
          0.09110391139984131,
          0.22993044555187225,
          0.10396956652402878,
          -0.19927334785461426,
          -0.048715267330408096,
          0.1243487000465393,
          0.07134778797626495,
          -0.01518239825963974,
          0.04917421191930771,
          0.10783460736274719,
          -0.015957897529006004,
          -0.08100748062133789,
          -0.030216190963983536,
          -0.09197354316711426,
          -0.28380286693573,
          0.0041599092073738575,
          -0.1351875215768814,
          0.06729255616664886,
          -0.14315518736839294,
          -0.3660004734992981,
          -0.018880551680922508,
          -0.1327836662530899,
          0.14212757349014282,
          -0.1483948975801468,
          0.03961930423974991,
          -0.07017526775598526,
          0.06384336203336716,
          0.07162462174892426,
          -0.08530628681182861,
          0.005288573447614908,
          -0.026075538247823715,
          0.4128180742263794,
          0.06461919844150543,
          0.07547935843467712,
          0.4042776823043823,
          -0.3747161626815796,
          0.2789362967014313,
          0.18759889900684357,
          0.21463066339492798,
          0.11167454719543457,
          0.4452302157878876,
          0.003307316219434142,
          -0.11428841203451157,
          -0.20671997964382172,
          0.012995186261832714,
          -0.0930640920996666,
          0.13903844356536865,
          -0.1190105453133583,
          -0.009733958169817924,
          -0.19407927989959717,
          -0.4176101088523865,
          -0.33925923705101013,
          -0.16365933418273926,
          0.3140566051006317,
          0.014681663364171982,
          0.011222359724342823,
          0.0600963830947876,
          0.07314252853393555,
          -0.03671769052743912,
          -0.2788774371147156,
          -0.22774215042591095,
          0.0687011182308197,
          -0.0782649964094162,
          -0.21358782052993774,
          -0.16661547124385834,
          0.11357062309980392,
          -0.11645732820034027,
          -0.04959295317530632,
          -0.09260089695453644,
          0.20047947764396667,
          0.00041885816608555615,
          0.033216122537851334,
          0.13587746024131775,
          -0.13372954726219177,
          -0.14205262064933777,
          0.2494339495897293,
          -0.05273449048399925,
          -0.15691201388835907,
          -0.06552994251251221,
          -0.17261642217636108,
          -0.035043586045503616,
          0.04823799431324005,
          0.26131942868232727,
          -0.4077118933200836,
          0.014658194966614246,
          -0.13798893988132477,
          -0.14187170565128326,
          0.07413724809885025,
          -0.15108585357666016,
          0.17670105397701263,
          0.13660863041877747,
          -0.054812584072351456,
          0.028558669611811638,
          0.09715031832456589,
          0.1273326426744461,
          0.07705993950366974,
          0.19698892533779144,
          0.10498397052288055,
          0.15860790014266968,
          0.19417276978492737,
          0.17217101156711578,
          -0.14935849606990814,
          0.3372686505317688,
          0.056567396968603134,
          0.1466357707977295,
          -0.26143768429756165,
          0.2541278600692749,
          0.1034972071647644,
          0.014329020865261555,
          0.0000747538942960091,
          0.201568603515625,
          0.1366548091173172,
          0.04820272698998451,
          0.04883817583322525,
          -0.2255735546350479,
          -0.05035671219229698,
          -0.16628827154636383,
          -0.04437381774187088,
          0.07854867726564407,
          -0.19566361606121063,
          -0.0762578547000885,
          -0.23497231304645538,
          -0.052351851016283035,
          0.22490118443965912,
          0.0422530472278595,
          -0.010871968232095242,
          0.49118027091026306,
          -0.10095621645450592,
          -0.13533172011375427,
          -0.08288117498159409,
          -0.11182865500450134,
          -0.10589979588985443,
          -0.004214878659695387,
          0.0384845957159996,
          0.13302917778491974,
          -0.24586647748947144,
          0.07575032860040665,
          0.3296772837638855,
          0.17039401829242706,
          -0.02921522967517376,
          -0.0003509709786158055,
          0.07379955798387527,
          -0.001237476826645434,
          0.0005781243671663105,
          0.10872802883386612,
          0.237542062997818,
          -0.10700451582670212,
          0.005288573447614908,
          0.28024929761886597,
          0.16254015266895294,
          -0.260602742433548,
          0.17637482285499573,
          -0.07594780623912811,
          -0.19444003701210022,
          0.25263512134552,
          0.2867300808429718,
          0.2459266185760498,
          0.3524814546108246,
          -0.2740592956542969,
          -0.021415438503026962,
          -0.25319111347198486,
          0.0295790396630764,
          0.005288573447614908,
          0.23317326605319977,
          -0.020394356921315193,
          0.05093615502119064,
          0.10120593011379242,
          0.02869059145450592,
          0.2041330188512802,
          -0.05140107497572899,
          -0.045754313468933105,
          0.06742610782384872,
          -0.19474346935749054,
          -0.21836043894290924,
          0.21384450793266296,
          -0.12086138874292374,
          -0.050049275159835815,
          0.12675721943378448,
          -0.022554714232683182,
          0.14058397710323334,
          -0.07319130748510361,
          0.16932691633701324,
          0.11687695980072021,
          -0.042390722781419754,
          -0.08580714464187622,
          0.08887431770563126,
          -0.05461709946393967,
          -0.03159694746136665,
          -0.2835947573184967,
          -0.34256821870803833,
          0.007605297956615686,
          -0.016941169276833534,
          0.12747722864151,
          -0.017075886949896812,
          -0.0032566781155765057,
          -0.20247627794742584,
          0.18677811324596405,
          0.032025378197431564,
          0.0305793434381485,
          0.06738638132810593,
          -0.033746387809515,
          0.11361747980117798,
          -0.06158226355910301,
          0.012712872587144375,
          0.09152048081159592,
          0.2173786163330078,
          0.25394290685653687,
          0.19258901476860046,
          -0.08287770301103592,
          0.011724901385605335,
          0.05001717433333397,
          0.30003124475479126,
          -0.047977861016988754,
          0.3554352819919586,
          -0.2743280529975891,
          -0.17761290073394775,
          -0.17630597949028015,
          -0.10462861508131027,
          0.011696116998791695,
          0.2027311623096466,
          -0.1169627457857132,
          0.04891362413764,
          0.10027152299880981,
          -0.13181717693805695,
          0.47833287715911865,
          0.11870784312486649,
          0.005288573447614908,
          -0.05049993470311165,
          0.2764144241809845,
          -0.0283595509827137,
          -0.04410393908619881,
          0.30391499400138855,
          0.025506656616926193,
          -0.2893831431865692,
          0.2664475440979004,
          0.015295508317649364,
          0.08054278790950775,
          0.37753868103027344,
          0.2665373682975769,
          -0.00928791705518961,
          -0.02941373735666275,
          0.017241155728697777,
          -0.21092095971107483,
          -0.10267956554889679,
          0.056741997599601746,
          0.07189998775720596,
          -0.029914408922195435,
          0.021353650838136673,
          -0.21792231500148773,
          0.19945529103279114,
          0.053441546857357025,
          0.015962637960910797,
          0.012455252930521965,
          0.2087150365114212,
          -0.17896515130996704,
          -0.1869107186794281,
          -0.13369165360927582,
          0.1295659989118576,
          0.1165255606174469,
          -0.13420253992080688,
          -0.19777241349220276,
          0.004741710145026445,
          -0.21552878618240356,
          0.12502363324165344,
          -0.019147126004099846,
          0.024824080988764763,
          0.06893731653690338,
          0.034320369362831116,
          -0.1630409210920334,
          -0.050907377153635025,
          -0.013875972479581833,
          0.002645005937665701,
          0.061945751309394836,
          0.1299058049917221,
          -0.21523290872573853,
          -0.11256337910890579,
          -0.3089638650417328,
          -0.2299465388059616,
          -0.2571589946746826,
          -0.10385731607675552,
          -0.024677028879523277,
          -0.07388629764318466,
          0.16043907403945923,
          0.17183631658554077,
          -0.18951734900474548,
          -0.09667515754699707,
          -0.020307553932070732,
          0.3172823488712311,
          0.2717062532901764,
          -0.17321084439754486,
          -0.2482035756111145,
          -0.18318918347358704,
          0.005899587646126747,
          0.0456143282353878,
          0.10079976916313171,
          0.5152211785316467,
          0.09995893388986588,
          0.15186262130737305,
          0.05049661919474602,
          0.07397457957267761,
          0.05214778706431389,
          0.07606926560401917,
          0.07827050238847733,
          0.10096786916255951,
          -0.035252366214990616,
          -0.15175488591194153,
          0.11774351447820663,
          -0.02448159083724022,
          0.16989001631736755,
          -0.08433626592159271,
          -0.1114765852689743,
          0.016162525862455368,
          -0.06954491138458252,
          -0.0454203337430954,
          -0.03988313674926758,
          0.10049804300069809,
          0.02589384652674198,
          -0.11908326297998428,
          -0.03120531514286995,
          0.012038479559123516,
          0.02937285788357258,
          -0.3550030589103699,
          -0.00624714745208621,
          -0.2067403346300125,
          -0.12292258441448212,
          -0.11748252809047699,
          0.012724148109555244,
          0.27239999175071716,
          0.005911191459745169,
          -0.13952989876270294,
          -0.20954251289367676,
          0.14244937896728516,
          -0.0654134601354599,
          0.2368234395980835,
          0.4630791246891022,
          -0.03225585073232651,
          -0.21007709205150604,
          0.3205246329307556,
          0.12117939442396164,
          -0.20255522429943085,
          0.024026840925216675,
          -0.12581390142440796,
          0.05319327861070633,
          0.012146303430199623,
          0.21062244474887848,
          0.09299777448177338,
          -0.13594205677509308,
          -0.15878859162330627,
          0.008657819591462612,
          -0.33938026428222656,
          -0.22799617052078247,
          -0.17998161911964417,
          0.002873311284929514,
          -0.253682941198349,
          -0.07737019658088684,
          0.06674350798130035,
          0.006506140343844891,
          -0.24095909297466278,
          -0.22238418459892273,
          0.08681418001651764,
          -0.10639922320842743,
          0.19536955654621124,
          0.22242915630340576,
          -0.0859610065817833,
          -0.2934238910675049,
          -0.11451809853315353,
          -0.1600140631198883,
          -0.1356538087129593,
          -0.3417847752571106,
          0.326560378074646,
          -0.1870184689760208,
          -0.2208758294582367,
          0.1799391806125641,
          0.03626338765025139,
          0.30197593569755554,
          -0.042555905878543854,
          -0.11733271926641464,
          -0.0603998526930809,
          0.048450738191604614,
          0.34615203738212585,
          0.42527270317077637,
          0.037495411932468414,
          -0.1415553241968155,
          -0.13271714746952057,
          0.3059360980987549,
          0.3425211012363434,
          0.3057880401611328,
          0.11912952363491058,
          0.058884769678115845,
          0.20260071754455566,
          0.2320997416973114,
          0.02750927023589611,
          -0.2676096558570862,
          -0.01894560270011425,
          -0.08872753381729126,
          0.17206048965454102,
          0.3365195095539093,
          -0.11569671332836151,
          0.09522740542888641,
          0.41526076197624207,
          0.11625052988529205,
          -0.09463369101285934,
          0.22114640474319458,
          -0.007302999030798674,
          0.19125652313232422,
          0.3021782338619232,
          -0.21865737438201904,
          -0.02062060497701168,
          0.1302274763584137,
          -0.04551005735993385,
          -0.2516631782054901,
          -0.03587893769145012,
          -0.19386924803256989,
          0.04211555793881416,
          -0.16275840997695923,
          -0.14507997035980225,
          -0.3582362234592438,
          -0.3348775804042816,
          0.012548491358757019,
          -0.13072581589221954,
          -0.14501884579658508,
          -0.13063882291316986,
          -0.08295462280511856,
          -0.22065967321395874,
          -0.049148041754961014,
          0.018354639410972595,
          0.012712918221950531,
          -0.0854344367980957,
          -0.09119820594787598,
          -0.2513265907764435,
          -0.07038705050945282,
          0.03915652260184288,
          -0.13526159524917603,
          0.028013654053211212,
          0.14555475115776062,
          -0.07419487833976746,
          0.11628653109073639,
          -0.3284488022327423,
          -0.32973048090934753,
          0.019944865256547928,
          -0.28099068999290466,
          -0.052803002297878265,
          -0.026235230267047882,
          0.23302488029003143,
          -0.20155735313892365,
          0.07437855750322342,
          -0.0934947207570076,
          -0.26230713725090027,
          0.052626341581344604,
          0.17892156541347504,
          -0.2904229760169983,
          0.3615241050720215,
          0.06189239025115967,
          -0.03644917905330658,
          -0.30349862575531006,
          -0.11046774685382843,
          0.0031980378553271294,
          -0.06041690334677696,
          -0.2576984763145447,
          0.005288573447614908,
          -0.1741223782300949,
          0.09953360259532928,
          -0.35457468032836914,
          0.2739753723144531,
          -0.031380295753479004,
          0.08252400159835815,
          0.29883942008018494,
          -0.00020166300237178802,
          -0.23746582865715027,
          -0.23155295848846436,
          0.08895997703075409,
          -0.16778452694416046,
          -0.1106298416852951,
          0.12785889208316803,
          0.08237060159444809,
          -0.10020820051431656,
          -0.19406922161579132,
          0.11750561743974686,
          0.43150877952575684,
          0.1468787044286728,
          0.3515757620334625,
          -0.13645203411579132,
          -0.07265404611825943,
          -0.05535796657204628,
          0.1560584455728531,
          0.18212425708770752,
          -0.015364808961749077,
          0.016698623076081276,
          0.06285199522972107,
          -0.19214856624603271,
          0.005288573447614908,
          0.005288573447614908,
          -0.1014270931482315,
          -0.16331256926059723,
          0.005288573447614908,
          -0.23057126998901367,
          -0.09162402153015137,
          -0.2782588005065918,
          -0.11443784087896347,
          0.030933449044823647,
          0.005288573447614908,
          0.050412703305482864,
          0.0032248084899038076,
          0.005288573447614908,
          -0.03866618871688843,
          0.2656271457672119,
          -0.2168179303407669,
          -0.2258298695087433,
          -0.1296931654214859,
          -0.10714047402143478,
          -0.08551714569330215,
          -0.09704891592264175,
          -0.11368236690759659,
          -0.07660714536905289,
          0.10120504349470139,
          -0.2349880337715149,
          0.0998668447136879,
          -0.26052412390708923,
          -0.23227429389953613,
          -0.26521724462509155,
          0.005288573447614908,
          0.005288573447614908,
          0.005288573447614908,
          -0.2738916277885437,
          0.037504591047763824,
          -0.12465029954910278,
          0.004020158667117357,
          -0.10316256433725357
         ],
         "yaxis": "y"
        },
        {
         "customdata": [
          [
           "OpenKiwi: An Open Source Framework for Quality Estimation"
          ],
          [
           "Zero-shot Word Sense Disambiguation using Sense Definition Embeddings"
          ],
          [
           "Transferable Multi-Domain State Generator for Task-Oriented Dialogue Systems"
          ],
          [
           "A Simple Theoretical Model of Importance for Summarization"
          ],
          [
           "We need to talk about standard splits"
          ]
         ],
         "hovertemplate": "award=award<br>x1=%{x}<br>x2=%{y}<br>hover_data_0=%{customdata[0]}<extra></extra>",
         "legendgroup": "award",
         "marker": {
          "color": "#EF553B",
          "symbol": "circle"
         },
         "mode": "markers",
         "name": "award",
         "orientation": "v",
         "showlegend": true,
         "type": "scatter",
         "x": [
          -0.15702363848686218,
          -0.07440492510795593,
          -0.043102554976940155,
          0.11756899952888489,
          0.12427932769060135
         ],
         "xaxis": "x",
         "y": [
          -0.10871397703886032,
          -0.1231655552983284,
          0.3014538586139679,
          0.08368076384067535,
          -0.06524422019720078
         ],
         "yaxis": "y"
        }
       ],
       "layout": {
        "legend": {
         "title": {
          "text": "award"
         },
         "tracegroupgap": 0
        },
        "margin": {
         "t": 60
        },
        "template": {
         "data": {
          "bar": [
           {
            "error_x": {
             "color": "#2a3f5f"
            },
            "error_y": {
             "color": "#2a3f5f"
            },
            "marker": {
             "line": {
              "color": "#E5ECF6",
              "width": 0.5
             },
             "pattern": {
              "fillmode": "overlay",
              "size": 10,
              "solidity": 0.2
             }
            },
            "type": "bar"
           }
          ],
          "barpolar": [
           {
            "marker": {
             "line": {
              "color": "#E5ECF6",
              "width": 0.5
             },
             "pattern": {
              "fillmode": "overlay",
              "size": 10,
              "solidity": 0.2
             }
            },
            "type": "barpolar"
           }
          ],
          "carpet": [
           {
            "aaxis": {
             "endlinecolor": "#2a3f5f",
             "gridcolor": "white",
             "linecolor": "white",
             "minorgridcolor": "white",
             "startlinecolor": "#2a3f5f"
            },
            "baxis": {
             "endlinecolor": "#2a3f5f",
             "gridcolor": "white",
             "linecolor": "white",
             "minorgridcolor": "white",
             "startlinecolor": "#2a3f5f"
            },
            "type": "carpet"
           }
          ],
          "choropleth": [
           {
            "colorbar": {
             "outlinewidth": 0,
             "ticks": ""
            },
            "type": "choropleth"
           }
          ],
          "contour": [
           {
            "colorbar": {
             "outlinewidth": 0,
             "ticks": ""
            },
            "colorscale": [
             [
              0,
              "#0d0887"
             ],
             [
              0.1111111111111111,
              "#46039f"
             ],
             [
              0.2222222222222222,
              "#7201a8"
             ],
             [
              0.3333333333333333,
              "#9c179e"
             ],
             [
              0.4444444444444444,
              "#bd3786"
             ],
             [
              0.5555555555555556,
              "#d8576b"
             ],
             [
              0.6666666666666666,
              "#ed7953"
             ],
             [
              0.7777777777777778,
              "#fb9f3a"
             ],
             [
              0.8888888888888888,
              "#fdca26"
             ],
             [
              1,
              "#f0f921"
             ]
            ],
            "type": "contour"
           }
          ],
          "contourcarpet": [
           {
            "colorbar": {
             "outlinewidth": 0,
             "ticks": ""
            },
            "type": "contourcarpet"
           }
          ],
          "heatmap": [
           {
            "colorbar": {
             "outlinewidth": 0,
             "ticks": ""
            },
            "colorscale": [
             [
              0,
              "#0d0887"
             ],
             [
              0.1111111111111111,
              "#46039f"
             ],
             [
              0.2222222222222222,
              "#7201a8"
             ],
             [
              0.3333333333333333,
              "#9c179e"
             ],
             [
              0.4444444444444444,
              "#bd3786"
             ],
             [
              0.5555555555555556,
              "#d8576b"
             ],
             [
              0.6666666666666666,
              "#ed7953"
             ],
             [
              0.7777777777777778,
              "#fb9f3a"
             ],
             [
              0.8888888888888888,
              "#fdca26"
             ],
             [
              1,
              "#f0f921"
             ]
            ],
            "type": "heatmap"
           }
          ],
          "heatmapgl": [
           {
            "colorbar": {
             "outlinewidth": 0,
             "ticks": ""
            },
            "colorscale": [
             [
              0,
              "#0d0887"
             ],
             [
              0.1111111111111111,
              "#46039f"
             ],
             [
              0.2222222222222222,
              "#7201a8"
             ],
             [
              0.3333333333333333,
              "#9c179e"
             ],
             [
              0.4444444444444444,
              "#bd3786"
             ],
             [
              0.5555555555555556,
              "#d8576b"
             ],
             [
              0.6666666666666666,
              "#ed7953"
             ],
             [
              0.7777777777777778,
              "#fb9f3a"
             ],
             [
              0.8888888888888888,
              "#fdca26"
             ],
             [
              1,
              "#f0f921"
             ]
            ],
            "type": "heatmapgl"
           }
          ],
          "histogram": [
           {
            "marker": {
             "pattern": {
              "fillmode": "overlay",
              "size": 10,
              "solidity": 0.2
             }
            },
            "type": "histogram"
           }
          ],
          "histogram2d": [
           {
            "colorbar": {
             "outlinewidth": 0,
             "ticks": ""
            },
            "colorscale": [
             [
              0,
              "#0d0887"
             ],
             [
              0.1111111111111111,
              "#46039f"
             ],
             [
              0.2222222222222222,
              "#7201a8"
             ],
             [
              0.3333333333333333,
              "#9c179e"
             ],
             [
              0.4444444444444444,
              "#bd3786"
             ],
             [
              0.5555555555555556,
              "#d8576b"
             ],
             [
              0.6666666666666666,
              "#ed7953"
             ],
             [
              0.7777777777777778,
              "#fb9f3a"
             ],
             [
              0.8888888888888888,
              "#fdca26"
             ],
             [
              1,
              "#f0f921"
             ]
            ],
            "type": "histogram2d"
           }
          ],
          "histogram2dcontour": [
           {
            "colorbar": {
             "outlinewidth": 0,
             "ticks": ""
            },
            "colorscale": [
             [
              0,
              "#0d0887"
             ],
             [
              0.1111111111111111,
              "#46039f"
             ],
             [
              0.2222222222222222,
              "#7201a8"
             ],
             [
              0.3333333333333333,
              "#9c179e"
             ],
             [
              0.4444444444444444,
              "#bd3786"
             ],
             [
              0.5555555555555556,
              "#d8576b"
             ],
             [
              0.6666666666666666,
              "#ed7953"
             ],
             [
              0.7777777777777778,
              "#fb9f3a"
             ],
             [
              0.8888888888888888,
              "#fdca26"
             ],
             [
              1,
              "#f0f921"
             ]
            ],
            "type": "histogram2dcontour"
           }
          ],
          "mesh3d": [
           {
            "colorbar": {
             "outlinewidth": 0,
             "ticks": ""
            },
            "type": "mesh3d"
           }
          ],
          "parcoords": [
           {
            "line": {
             "colorbar": {
              "outlinewidth": 0,
              "ticks": ""
             }
            },
            "type": "parcoords"
           }
          ],
          "pie": [
           {
            "automargin": true,
            "type": "pie"
           }
          ],
          "scatter": [
           {
            "fillpattern": {
             "fillmode": "overlay",
             "size": 10,
             "solidity": 0.2
            },
            "type": "scatter"
           }
          ],
          "scatter3d": [
           {
            "line": {
             "colorbar": {
              "outlinewidth": 0,
              "ticks": ""
             }
            },
            "marker": {
             "colorbar": {
              "outlinewidth": 0,
              "ticks": ""
             }
            },
            "type": "scatter3d"
           }
          ],
          "scattercarpet": [
           {
            "marker": {
             "colorbar": {
              "outlinewidth": 0,
              "ticks": ""
             }
            },
            "type": "scattercarpet"
           }
          ],
          "scattergeo": [
           {
            "marker": {
             "colorbar": {
              "outlinewidth": 0,
              "ticks": ""
             }
            },
            "type": "scattergeo"
           }
          ],
          "scattergl": [
           {
            "marker": {
             "colorbar": {
              "outlinewidth": 0,
              "ticks": ""
             }
            },
            "type": "scattergl"
           }
          ],
          "scattermapbox": [
           {
            "marker": {
             "colorbar": {
              "outlinewidth": 0,
              "ticks": ""
             }
            },
            "type": "scattermapbox"
           }
          ],
          "scatterpolar": [
           {
            "marker": {
             "colorbar": {
              "outlinewidth": 0,
              "ticks": ""
             }
            },
            "type": "scatterpolar"
           }
          ],
          "scatterpolargl": [
           {
            "marker": {
             "colorbar": {
              "outlinewidth": 0,
              "ticks": ""
             }
            },
            "type": "scatterpolargl"
           }
          ],
          "scatterternary": [
           {
            "marker": {
             "colorbar": {
              "outlinewidth": 0,
              "ticks": ""
             }
            },
            "type": "scatterternary"
           }
          ],
          "surface": [
           {
            "colorbar": {
             "outlinewidth": 0,
             "ticks": ""
            },
            "colorscale": [
             [
              0,
              "#0d0887"
             ],
             [
              0.1111111111111111,
              "#46039f"
             ],
             [
              0.2222222222222222,
              "#7201a8"
             ],
             [
              0.3333333333333333,
              "#9c179e"
             ],
             [
              0.4444444444444444,
              "#bd3786"
             ],
             [
              0.5555555555555556,
              "#d8576b"
             ],
             [
              0.6666666666666666,
              "#ed7953"
             ],
             [
              0.7777777777777778,
              "#fb9f3a"
             ],
             [
              0.8888888888888888,
              "#fdca26"
             ],
             [
              1,
              "#f0f921"
             ]
            ],
            "type": "surface"
           }
          ],
          "table": [
           {
            "cells": {
             "fill": {
              "color": "#EBF0F8"
             },
             "line": {
              "color": "white"
             }
            },
            "header": {
             "fill": {
              "color": "#C8D4E3"
             },
             "line": {
              "color": "white"
             }
            },
            "type": "table"
           }
          ]
         },
         "layout": {
          "annotationdefaults": {
           "arrowcolor": "#2a3f5f",
           "arrowhead": 0,
           "arrowwidth": 1
          },
          "autotypenumbers": "strict",
          "coloraxis": {
           "colorbar": {
            "outlinewidth": 0,
            "ticks": ""
           }
          },
          "colorscale": {
           "diverging": [
            [
             0,
             "#8e0152"
            ],
            [
             0.1,
             "#c51b7d"
            ],
            [
             0.2,
             "#de77ae"
            ],
            [
             0.3,
             "#f1b6da"
            ],
            [
             0.4,
             "#fde0ef"
            ],
            [
             0.5,
             "#f7f7f7"
            ],
            [
             0.6,
             "#e6f5d0"
            ],
            [
             0.7,
             "#b8e186"
            ],
            [
             0.8,
             "#7fbc41"
            ],
            [
             0.9,
             "#4d9221"
            ],
            [
             1,
             "#276419"
            ]
           ],
           "sequential": [
            [
             0,
             "#0d0887"
            ],
            [
             0.1111111111111111,
             "#46039f"
            ],
            [
             0.2222222222222222,
             "#7201a8"
            ],
            [
             0.3333333333333333,
             "#9c179e"
            ],
            [
             0.4444444444444444,
             "#bd3786"
            ],
            [
             0.5555555555555556,
             "#d8576b"
            ],
            [
             0.6666666666666666,
             "#ed7953"
            ],
            [
             0.7777777777777778,
             "#fb9f3a"
            ],
            [
             0.8888888888888888,
             "#fdca26"
            ],
            [
             1,
             "#f0f921"
            ]
           ],
           "sequentialminus": [
            [
             0,
             "#0d0887"
            ],
            [
             0.1111111111111111,
             "#46039f"
            ],
            [
             0.2222222222222222,
             "#7201a8"
            ],
            [
             0.3333333333333333,
             "#9c179e"
            ],
            [
             0.4444444444444444,
             "#bd3786"
            ],
            [
             0.5555555555555556,
             "#d8576b"
            ],
            [
             0.6666666666666666,
             "#ed7953"
            ],
            [
             0.7777777777777778,
             "#fb9f3a"
            ],
            [
             0.8888888888888888,
             "#fdca26"
            ],
            [
             1,
             "#f0f921"
            ]
           ]
          },
          "colorway": [
           "#636efa",
           "#EF553B",
           "#00cc96",
           "#ab63fa",
           "#FFA15A",
           "#19d3f3",
           "#FF6692",
           "#B6E880",
           "#FF97FF",
           "#FECB52"
          ],
          "font": {
           "color": "#2a3f5f"
          },
          "geo": {
           "bgcolor": "white",
           "lakecolor": "white",
           "landcolor": "#E5ECF6",
           "showlakes": true,
           "showland": true,
           "subunitcolor": "white"
          },
          "hoverlabel": {
           "align": "left"
          },
          "hovermode": "closest",
          "mapbox": {
           "style": "light"
          },
          "paper_bgcolor": "white",
          "plot_bgcolor": "#E5ECF6",
          "polar": {
           "angularaxis": {
            "gridcolor": "white",
            "linecolor": "white",
            "ticks": ""
           },
           "bgcolor": "#E5ECF6",
           "radialaxis": {
            "gridcolor": "white",
            "linecolor": "white",
            "ticks": ""
           }
          },
          "scene": {
           "xaxis": {
            "backgroundcolor": "#E5ECF6",
            "gridcolor": "white",
            "gridwidth": 2,
            "linecolor": "white",
            "showbackground": true,
            "ticks": "",
            "zerolinecolor": "white"
           },
           "yaxis": {
            "backgroundcolor": "#E5ECF6",
            "gridcolor": "white",
            "gridwidth": 2,
            "linecolor": "white",
            "showbackground": true,
            "ticks": "",
            "zerolinecolor": "white"
           },
           "zaxis": {
            "backgroundcolor": "#E5ECF6",
            "gridcolor": "white",
            "gridwidth": 2,
            "linecolor": "white",
            "showbackground": true,
            "ticks": "",
            "zerolinecolor": "white"
           }
          },
          "shapedefaults": {
           "line": {
            "color": "#2a3f5f"
           }
          },
          "ternary": {
           "aaxis": {
            "gridcolor": "white",
            "linecolor": "white",
            "ticks": ""
           },
           "baxis": {
            "gridcolor": "white",
            "linecolor": "white",
            "ticks": ""
           },
           "bgcolor": "#E5ECF6",
           "caxis": {
            "gridcolor": "white",
            "linecolor": "white",
            "ticks": ""
           }
          },
          "title": {
           "x": 0.05
          },
          "xaxis": {
           "automargin": true,
           "gridcolor": "white",
           "linecolor": "white",
           "ticks": "",
           "title": {
            "standoff": 15
           },
           "zerolinecolor": "white",
           "zerolinewidth": 2
          },
          "yaxis": {
           "automargin": true,
           "gridcolor": "white",
           "linecolor": "white",
           "ticks": "",
           "title": {
            "standoff": 15
           },
           "zerolinecolor": "white",
           "zerolinewidth": 2
          }
         }
        },
        "xaxis": {
         "anchor": "y",
         "domain": [
          0,
          1
         ],
         "title": {
          "text": "x1"
         }
        },
        "yaxis": {
         "anchor": "x",
         "domain": [
          0,
          1
         ],
         "title": {
          "text": "x2"
         }
        }
       }
      },
      "text/html": [
       "<div>                            <div id=\"c10de818-ff10-4821-8e0f-6d7a2bbe0542\" class=\"plotly-graph-div\" style=\"height:525px; width:100%;\"></div>            <script type=\"text/javascript\">                require([\"plotly\"], function(Plotly) {                    window.PLOTLYENV=window.PLOTLYENV || {};                                    if (document.getElementById(\"c10de818-ff10-4821-8e0f-6d7a2bbe0542\")) {                    Plotly.newPlot(                        \"c10de818-ff10-4821-8e0f-6d7a2bbe0542\",                        [{\"customdata\":[[\"Counterfactual Data Augmentation for Mitigating Gender Stereotypes in Languages with Rich Morphology\"],[\"Unsupervised Discovery of Gendered Language through Latent-Variable Modeling\"],[\"Margin-based Parallel Corpus Mining with Multilingual Sentence Embeddings\"],[\"Searching for Effective Neural Extractive Summarization: What Works and What's Next\"],[\"Style Transformer: Unpaired Text Style Transfer without Disentangled Latent Representation\"],[\"Distantly Supervised Named Entity Recognition using Positive-Unlabeled Learning\"],[\"Generating Responses with a Specific Emotion in Dialog\"],[\"Bridging by Word: Image-Grounded Vocabulary Construction for Visual Captioning\"],[\"Adversarial Domain Adaptation Using Artificial Titles for Abstractive Title Generation\"],[\"Twitter Homophily: Network Based Prediction of User's Occupation\"],[\"Incorporating Textual Information on User Behavior for Personality Prediction\"],[\"Large-Scale Multi-Label Text Classification on EU Legislation\"],[\"Neural Legal Judgment Prediction in English\"],[\"Discourse Analysis and Its Applications\"],[\"Self-Supervised Learning for Contextualized Extractive Summarization\"],[\"Graph-based Dependency Parsing with Graph Neural Networks\"],[\"Self-Supervised Dialogue Learning\"],[\"Joint Type Inference on Entities and Relations via Graph Convolutional Networks\"],[\"Towards Generating Long and Coherent Text with Multi-Level Latent Variable Models\"],[\"Learning to Select, Track, and Generate for Data-to-Text\"],[\"Multi-hop Reading Comprehension across Multiple Documents by Reasoning over Heterogeneous Graphs\"],[\"Visual Story Post-Editing\"],[\"HIGHRES: Highlight-based Reference-less Evaluation of Summarization\"],[\"Merge and Label: A novel neural network architecture for nested NER\"],[\"Model-Agnostic Meta-Learning for Relation Classification with Limited Supervision\"],[\"ARNOR: Attention Regularization based Noise Reduction for Distant Supervision Relation Classification\"],[\"Representing Schema Structure with Graph Neural Networks for Text-to-SQL Parsing\"],[\"MULTIQA: An Empirical Investigation of Generalization and Transfer in Reading Comprehension\"],[\"Topic Tensor Network for Implicit Discourse Relation Recognition in Chinese\"],[\"\"],[\"Gender-preserving Debiasing for Pre-trained Word Embeddings\"],[\"Aspect Sentiment Classification Towards Question-Answering with Reinforced Bidirectional Attention Network\"],[\"Adversarial Attention Modeling for Multi-dimensional Emotion Regression\"],[\"On-device Structured and Context Partitioned Projection Networks\"],[\"Multi-Source Cross-Lingual Model Transfer: Learning What to Share\"],[\"Scalable Syntax-Aware Language Models Using Knowledge Distillation\"],[\"Dense Procedure Captioning in Narrated Instructional Videos\"],[\"The Risk of Racial Bias in Hate Speech Detection\"],[\"HellaSwag: Can a Machine Really Finish Your Sentence?\"],[\"COMET : Commonsense Transformers for Automatic Knowledge Graph Construction\"],[\"Conversing by Reading: Contentful Neural Conversation with On-demand Machine Reading\"],[\"\"],[\"Learning Compressed Sentence Representations for On-Device Text Processing\"],[\"Sentence Mover's Similarity: Automatic Evaluation for Multi-Sentence Texts\"],[\"SParC: Cross-Domain Semantic Parsing in Context\"],[\"Level-Up: Learning to Improve Proficiency Level of Essays\"],[\"Word-order biases in deep-agent emergent communication\"],[\"CNNs found to jump around more skillfully than RNNs: Compositional generalization in seq2seq convolutional networks\"],[\"Miss Tools and Mr Fruit: Emergent communication in agents learning about object affordances\"],[\"On the Distribution of Deep Clausal Embeddings: A Large Cross-linguistic Study\"],[\"Learning to Link Grammar and Encyclopedic Information to Assist ESL Learners\"],[\"STACL: Simultaneous Translation with Implicit Anticipation and Controllable Latency using Prefix-to-Prefix Framework *\"],[\"Effective Adversarial Regularization for Neural Machine Translation\"],[\"Enhancing Pre-Trained Language Representations with Rich Knowledge for Machine Reading Comprehension\"],[\"Proactive Human-Machine Conversation with Explicit Conversation Goals\"],[\"An Empirical Study of Span Representations in Argumentation Structure Parsing\"],[\"Know More about Each Other: Evolving Dialogue Strategy via Compound Assessment\"],[\"Open-Domain Why-Question Answering with Adversarial Learning to Encode Answer Texts\"],[\"An Interactive Multi-Task Learning Network for End-to-End Aspect-Based Sentiment Analysis\"],[\"Attention Guided Graph Convolutional Networks for Relation Extraction\"],[\"Quantity Tagger: A Latent-Variable Sequence Labeling Approach to Solving Addition-Subtraction Word Problems\"],[\"A Neural Multi-digraph Model for Chinese NER with Gazetteers\"],[\"Inter-sentence Relation Extraction with Document-level Graph Convolutional Neural Network\"],[\"DOER: Dual Cross-Shared RNN for Aspect Term-Polarity Co-Extraction\"],[\"Learning to Discover, Ground and Use Words with Segmental Neural Language Models\"],[\"Topic Modeling with Wasserstein Autoencoders\"],[\"Simple and Effective Paraphrastic Similarity from Parallel Translations\"],[\"Beyond BLEU: Training Neural Machine Translation with Semantic Similarity\"],[\"Visually Grounded Neural Syntax Acquisition\"],[\"Controllable Paraphrase Generation with a Syntactic Exemplar\"],[\"Incremental Learning from Scratch for Task-Oriented Dialogue Systems\"],[\"Multi-step Reasoning via Recurrent Dual Attention for Visual Dialog\"],[\"Learning Deep Transformer Models for Machine Translation\"],[\"Shared-Private Bilingual Word Embeddings for Neural Machine Translation\"],[\"Energy and Policy Considerations for Deep Learning in NLP\"],[\"A2N: Attending to Neighbors for Knowledge Graph Inference\"],[\"Optimal Transport-based Alignment of Learned Character Representations for String Similarity\"],[\"Hierarchical Transfer Learning for Multi-label Text Classification\"],[\"\"],[\"Learning from Dialogue after Deployment: Feed Yourself, Chatbot!\"],[\"ConvLab: Multi-Domain End-to-End Dialog System Platform\"],[\"From brain space to distributional space: the perilous journeys of fMRI decoding\"],[\"Semantic Parsing with Dual Learning\"],[\"Context-aware Embedding for Targeted Aspect-based Sentiment Analysis\"],[\"Ensuring Readability and Data-fidelity using Head-modifier Templates in Deep Type Description Generation\"],[\"Chinese Relation Extraction with Multi-Grained Information and External Linguistic Knowledge\"],[\"DocRED: A Large-Scale Document-Level Relation Extraction Dataset\"],[\"GEAR: Graph-based Evidence Aggregating and Reasoning for Fact Verification\"],[\"ERNIE: Enhanced Language Representation with Informative Entities\"],[\"DIAG-NRE: A Neural Pattern Diagnosis Framework for Distantly Supervised Neural Relation Extraction\"],[\"Quantifying Similarity between Relations with Fact Distribution\"],[\"Multi-Style Generative Reading Comprehension\"],[\"Answering while Summarizing: Multi-task Learning for Multi-hop QA with Evidence Extraction\"],[\"Detecting Adverse Drug Reactions from Biomedical Texts With Neural Networks\"],[\"Deep Neural Models for Medical Concept Normalization in User-Generated Texts\"],[\"Cross-domain and Cross-lingual Abusive Language Detection: a Hybrid Approach with Deep Learning and a Multilingual Lexicon\"],[\"Yes, we can! Mining Arguments in 50 Years of US Presidential Campaign Debates\"],[\"A Modular Tool for Automatic Summarization\"],[\"Attention Is (not) All You Need for Commonsense Reasoning\"],[\"TARGER: Neural Argument Mining at Your Fingertips\"],[\"Multimodal Abstractive Summarization for How2 Videos\"],[\"Task Refinement Learning for Improved Accuracy and Stability of Unsupervised Domain Adaptation\"],[\"Improving Neural Conversational Models with Entropy-Based Data Filtering\"],[\"Robust Zero-Shot Cross-Domain Slot Filling with Example Values\"],[\"Learning How to Active Learn by Dreaming\"],[\"Neural Architectures for Nested NER through Linearization\"],[\"Message from the General Chair\"],[\"Inducing Document Structure for Aspect-based Summarization\"],[\"Are You Convinced? Choosing the More Convincing Evidence with a Siamese Network\"],[\"Identification of Tasks, Datasets, Evaluation Metrics, and Numeric Scores for Scientific Leaderboards Construction\"],[\"Neural Temporality Adaptation for Document Classification: Diachronic Word Embeddings and Domain Adaptation Models\"],[\"W\\u00e9tin dey with these comments? Modeling Sociolinguistic Factors Affecting Code-switching Behavior in Nigerian Online Discussions\"],[\"Question Answering in the Biomedical Domain\"],[\"Unsupervised Joint Training of Bilingual Word Embeddings\"],[\"My Turn To Read: An Interleaved E-book Reading Tool for Developing and Struggling Readers\"],[\"Unsupervised Bilingual Word Embedding Agreement for Unsupervised Neural Machine Translation\"],[\"Sentence-Level Agreement for Neural Machine Translation\"],[\"Neural Machine Translation with Reordering Embeddings\"],[\"Lattice-Based Transformer Encoder for Neural Machine Translation\"],[\"Multimodal Logical Inference System for Visual-Textual Entailment\"],[\"Sequence Tagging with Contextual and Non-Contextual Subword Representations: A Multilingual Evaluation\"],[\"Unsupervised Learning of Discourse-Aware Text Representation for Essay Scoring\"],[\"Lattice Transformer for Speech Translation\"],[\"Cross-Lingual Syntactic Transfer through Unsupervised Adaptation of Invertible Projections\"],[\"Multi-grained Attention with Object-level Grounding for Visual Question Answering\"],[\"Choosing Transfer Languages for Cross-Lingual Learning\"],[\"An Empirical Investigation of Structured Output Modeling for Graph-based Neural Dependency Parsing\"],[\"Domain Adaptive Inference for Neural Machine Translation\"],[\"Knowledge discovery and hypothesis generation from online patient forums: A research proposal\"],[\"Exploring Author Context for Detecting Intended vs Perceived Sarcasm\"],[\"OpenDialKG: Explainable Conversational Reasoning with Attention-based Walks over Knowledge Graphs\"],[\"Constrained Decoding for Neural NLG from Compositional Representations in Task-Oriented Dialogue\"],[\"Predicting Human Activities from User-Generated Content\"],[\"Embedding Strategies for Specialized Domains: Application to Clinical Entity Recognition\"],[\"Annotation and Automatic Classification of Aspectual Categories\"],[\"Evidence-based Trustworthiness\"],[\"A Hierarchical Reinforced Sequence Operation Method for Unsupervised Text Style Transfer\"],[\"Rhetorically Controlled Encoder-Decoder for Modern Chinese Poetry Generation\"],[\"Observing Dialogue in Therapy: Categorizing and Forecasting Behavioral Codes\"],[\"Global Optimization under Length Constraint for Neural Text Summarization\"],[\"Dataset Creation for Ranking Constructive News Comments\"],[\"Augmenting Neural Networks with First-order Logic\"],[\"ADVISER: A Dialog System Framework for Education & Research\"],[\"Classification and Clustering of Arguments with Contextualized Word Embeddings\"],[\"Domain Adaptation of Neural Machine Translation by Lexicon Induction\"],[\"Exploring Numeracy in Word Embeddings\"],[\"Storyboarding of Recipes: Grounded Contextual Generation\"],[\"Pay attention when you pay the bills. A multilingual corpus with dependency-based and semantic annotation of collocations\"],[\"Crowdsourcing and Aggregating Nested Markable Annotations\"],[\"\"],[\"Who Sides With Whom? Towards Computational Construction of Discourse Networks for Political Debates\"],[\"An Environment for Relational Annotation of Political Debates\"],[\"A Spreading Activation Framework for Tracking Conceptual Complexity of Texts\"],[\"CoDraw: Collaborative Drawing as a Testbed for Grounded Goal-driven Communication\"],[\"Stochastic Tokenization with a Language Model for Neural Text Classification\"],[\"Transforming Complex Sentences into a Semantic Hierarchy\"],[\"Analyzing the Limitations of Cross-lingual Word Embedding Mappings\"],[\"How to (Properly) Evaluate Cross-Lingual Word Embeddings: On Strong Baselines, Comparative Analyses, and Some Misconceptions\"],[\"Boosting Entity Linking Performance by Leveraging Unlabeled Documents\"],[\"JW300: A Wide-Coverage Parallel Corpus for Low-Resource Languages\"],[\"Distant Learning for Entity Linking with Automatic Noise Detection\"],[\"Unsupervised Pretraining for Neural Machine Translation Using Elastic Weight Consolidation\"],[\"Analyzing Multi-Head Self-Attention: Specialized Heads Do the Heavy Lifting, the Rest Can Be Pruned\"],[\"Interpretable Question Answering on Knowledge Bases and Text\"],[\"Putting Evaluation in Context: Contextual Embeddings improve Machine Translation Evaluation\"],[\"Improving Textual Network Embedding with Global Attention via Optimal Transport\"],[\"\"],[\"Aiming beyond the Obvious: Identifying Non-Obvious Cases in Semantic Similarity Datasets\"],[\"Self-Supervised Neural Machine Translation\"],[\"PTB Graph Parsing with Tree Approximation\"],[\"Better Exploiting Latent Variables in Text Modeling\"],[\"Improving Multi-turn Dialogue Modelling with Utterance ReWriter\"],[\"A Joint Named-Entity Recognizer for Heterogeneous Tag-sets Using a Tag Hierarchy\"],[\"Extracting Symptoms and their Status from Clinical Conversations\"],[\"Jointly Learning Semantic Parser and Natural Language Generator via Dual Information Maximization\"],[\"Semantic expressive capacity with bounded memory\"],[\"How multilingual is Multilingual BERT?\"],[\"Simple and Effective Curriculum Pointer-Generator Networks for Reading Comprehension over Long Narratives\"],[\"Lightweight and Efficient Neural Natural Language Processing with Quaternion Networks\"],[\"Time-Out: Temporal Referencing for Robust Modeling of Lexical Semantic Change\"],[\"A Wind of Change: Detecting and Evaluating Lexical Semantic Change across Times and Domains\"],[\"Reference Network for Neural Machine Translation\"],[\"Multimodal Transformer Networks for End-to-End Video-Grounded Dialogue Systems\"],[\"Reading Turn by Turn: Hierarchical Attention Architecture for Spoken Dialogue Comprehension\"],[\"EditNTS: An Neural Programmer-Interpreter Model for Sentence Simplification through Explicit Editing\"],[\"Learning to Rank for Plausible Plausibility\"],[\"Incorporating Syntactic and Semantic Information in Word Embeddings using Graph Convolutional Networks\"],[\"Historical Text Normalization with Delayed Rewards\"],[\"Multi-Task Learning for Coherence Modeling\"],[\"Learning Representation Mapping for Relation Detection in Knowledge Base Question Answering\"],[\"ReCoSa: Detecting the Relevant Contexts with Self-Attention for Multi-turn Dialogue Generation\"],[\"Decomposable Neural Paraphrase Generation\"],[\"Bridging the Gap between Training and Inference for Neural Machine Translation\"],[\"Modeling Semantic Compositionality with Sememe Knowledge\"],[\"Revisiting Low-Resource Neural Machine Translation: A Case Study\"],[\"A Lightweight Recurrent Network for Sequence Modeling\"],[\"Fine-Grained Temporal Relation Extraction\"],[\"Deep Neural Model Inspection and Comparison via Functional Neuron Pathways\"],[\"Morphological Irregularity Correlates with Frequency\"],[\"On the Summarization of Consumer Health Questions\"],[\"Complex Word Identification as a Sequence Labelling Task\"],[\"Leveraging Local and Global Patterns for Self-Attention Networks\"],[\"Revisiting Joint Modeling of Cross-document Entity and Event Coreference Resolution\"],[\"Generating Summaries with Topic Templates and Structured Convolutional Decoders\"],[\"A Unified Multi-task Adversarial Learning Framework for Pharmacovigilance Mining\"],[\"#YouToo? Detection of Personal Recollections of Sexual Harassment on Social Media\"],[\"Towards Multimodal Sarcasm Detection (An Obviously Perfect Paper)\"],[\"Learning Transferable Feature Representations Using Neural Networks\"],[\"Accelerating Sparse Matrix Operations in Neural Networks on Graphics Processing Units\"],[\"ARHNet -Leveraging Community Interaction For Detection Of Religious Hate Speech In Arabic\"],[\"Look Harder: A Neural Machine Translation Model with Hard Attention\"],[\"Matching Article Pairs with Graphical Decomposition and Convolutions\"],[\"Towards Lossless Encoding of Sentences\"],[\"Do Neural Dialog Systems Use the Conversation History Effectively? An Empirical Study\"],[\"A Large-Scale Corpus for Conversation Disentanglement\"],[\"TALKSUMM: A Dataset and Scalable Annotation Method for Scientific Paper Summarization Based on Conference Talks\"],[\"The Language of Legal and Illegal Activity on the Darknet\"],[\"Argument Invention from First Principles\"],[\"From Surrogacy to Adoption; From Bitcoin to Cryptocurrency: Debate Topic Expansion\"],[\"What Makes a Good Counselor? Learning to Distinguish between High-quality and Low-quality Counseling Conversations\"],[\"A Semi-Markov Structured Support Vector Machine Model for High-Precision Named Entity Recognition\"],[\"Relating Simple Sentence Representations in Deep Neural Networks and the Brain\"],[\"The KNOWREF Coreference Corpus: Removing Gender and Number Cues for Difficult Pronominal Anaphora Resolution\"],[\"Detecting Subevents using Discourse and Narrative Features\"],[\"Word and Document Embedding with vMF-Mixture Priors on Context Word Vectors\"],[\"Exploiting Explicit Paths for Multi-hop Reading Comprehension\"],[\"Disentangled Representation Learning for Non-Parallel Text Style Transfer\"],[\"Towards Explainable NLP: A Generative Explanation Framework for Text Classification\"],[\"Exploiting Entity BIO Tag Embeddings and Multi-task Learning for Relation Extraction with Imbalanced Data\"],[\"Ordinal and Attribute Aware Response Generation in a Multimodal Dialogue System\"],[\"RankQA: Neural Question Answering with Answer Re-Ranking\"],[\"A Working Memory Model for Task-oriented Dialog Response Generation\"],[\"Improving Abstractive Document Summarization with Salient Information Modeling\"],[\"Sequence Labeling Parsing by Learning Across Representations\"],[\"Generating Question Relevant Captions to Aid Visual Question Answering\"],[\"Controlling Grammatical Error Correction Using Word Edit Rate\"],[\"Simple and Effective Text Matching with Richer Alignment Features\"],[\"A Simple Recipe towards Reducing Hallucination in Neural Surface Realisation\"],[\"Exploring Pre-trained Language Models for Event Extraction and Generation\"],[\"Expressing Visual Relationships via Language\"],[\"Scoring Sentence Singletons and Pairs for Abstractive Summarization\"],[\"Delta Embedding Learning\"],[\"Poetry to Prose Conversion in Sanskrit as a Linearisation Task: A case for Low-Resource Languages\"],[\"Latent Variable Model for Multi-modal Translation\"],[\"Interpretable Neural Predictions with Differentiable Binary Variables\"],[\"Graph based Neural Networks for Event Factuality Prediction using Syntactic and Semantic Structures\"],[\"Data-to-text Generation with Entity Modeling\"],[\"Evaluating Discourse in Structured Text Representations\"],[\"Training Neural Machine Translation To Apply Terminology Constraints\"],[\"Unsupervised Rewriter for Multi-Sentence Compression\"],[\"Fine-tuning Pre-Trained Transformer Language Models to Distantly Supervised Relation Extraction\"],[\"Unsupervised Pivot Translation for Distant Languages\"],[\"Improved Sentiment Detection via Label Transfer from Monolingual to Synthetic Code-Switched Text\"],[\"On the Word Alignment from Neural Machine Translation *\"],[\"Selection Bias Explorations and Debias Methods for Natural Language Sentence Matching Datasets\"],[\"BiSET: Bi-directional Selective Encoding with Template for Abstractive Summarization\"],[\"Semi-supervised Domain Adaptation for Dependency Parsing\"],[\"Are Girls Neko or Sh\\u014djo? Cross-Lingual Alignment of Non-Isomorphic Embeddings with Iterative Normalization\"],[\"Towards Integration of Statistical Hypothesis Tests into Deep Neural Networks\"],[\"Adversarial Multitask Learning for Joint Multi-Feature and Multi-Dialect Morphological Modeling\"],[\"Unsupervised Question Answering by Cloze Translation\"],[\"Generating Natural Language Adversarial Examples through Probability Weighted Word Saliency\"],[\"Misleading Failures of Partial-input Baselines\"],[\"Automatic and Human Evaluation of Local Topic Quality\"],[\"Why Didn't You Listen to Me? Comparing User Control of Human-in-the-Loop Topic Models\"],[\"Real-Time Open-Domain Question Answering with Dense-Sparse Phrase Index\"],[\"Sakura: Large-scale Incorrect Example Retrieval System for Learners of Japanese as a Second Language\"],[\"This year, the student research workshop has received a great attention, reflecting the growth of the field. We received 214 submissions in total: 27 research proposals and 147 research papers. Among these, 7 research proposals and 22 research papers were non-archival. We accepted 71 papers, for an acceptance rate of 33%. After withdrawals and excluding non-archival papers, 61 papers are appearing in these proceedings, including 14 research proposals and 47 research papers. All of the accepted papers will be presented as posters in late morning sessions as a part of the main conference, split across three days (July 29th-31th). Mentoring is at the heart of the SRW. In keeping with previous years, students had the opportunity for pre-submission mentoring prior to the submission deadline. Total of 64 papers participated in presubmission mentoring program. This program offered students a chance to receive comments from an experienced researcher, in order to improve the quality of the writing and presentation before making their submission. In addition, authors of accepted SRW papers are matched with mentors who will meet with the students in person during the poster presentations. Each mentor prepares in-depth comments and questions prior to the student's presentation, and provides discussion and feedback during the workshop. We are deeply grateful to our sponsors whose support will enable a number of students to attend the conference. We would also like to thank our program committee members for their careful reviews of each paper, and all of our mentors for donating their time to provide feedback to our student authors. Thank you to our faculty advisors Hannaneh Hajishirzi, Aurelie Herbelot, Scott Yih, Yue Zhang for their essential advice and guidance, and to the members of the ACL 2018 organizing committee, in particular David Traum, Anna Korhonen and Llu\\u00eds M\\u00e0rquez for their helpful support. Finally, kudos to our student participants! iii\"],[\"Negative Lexically Constrained Decoding for Paraphrase Generation\"],[\"Retrieval-Enhanced Adversarial Training for Neural Response Generation\"],[\"Towards Complex Text-to-SQL in Cross-Domain Database with Intermediate Representation\"],[\"Can You Tell Me How to Get Past Sesame Street? Sentence-Level Pretraining Beyond Language Modeling\"],[\"The PhotoBook Dataset: Building Common Ground through Visually-Grounded Dialogue\"],[\"A Resource-Free Evaluation Metric for Cross-Lingual Word Embeddings Based on Graph Modularity\"],[\"Learning to Ask Unanswerable Questions for Machine Reading Comprehension\"],[\"Compositional Questions Do Not Necessitate Multi-hop Reasoning\"],[\"Multi-hop Reading Comprehension through Question Decomposition and Rescoring\"],[\"A Unified Linear-Time Framework for Sentence-Level Discourse Parsing\"],[\"Dialogue-Act Prediction of Future Responses based on Conversation History\"],[\"What does BERT learn about the structure of language?\"],[\"Span-Level Model for Relation Extraction\"],[\"Toward Comprehensive Understanding of a Sentiment Based on Human Motives\"],[\"Language Modeling with Shared Grammar\"],[\"Controllable Text Simplification with Lexical Constraint Loss\"],[\"SUMBT: Slot-Utterance Matching for Universal and Scalable Belief Tracking\"],[\"Unsupervised Information Extraction: Regularizing Discriminative Approaches with Relation Distribution Losses\"],[\"Neural Relation Extraction for Knowledge Base Enrichment\"],[\"Normalizing Non-canonical Turkish Texts Using Machine Translation Approaches\"],[\"Bilingual Lexicon Induction with Semi-supervision in Non-Isometric Embedding Spaces\"],[\"Corpus Creation and Analysis for Named Entity Recognition in Telugu-English Code-Mixed Social Media Data\"],[\"De-Mixing Sentiment from Code-Mixed Text\"],[\"Boosting Dialog Response Generation\"],[\"Exploring Phoneme-Level Speech Representations for End-to-End Speech Translation\"],[\"Towards Scalable and Reliable Capsule Networks for Challenging NLP Applications\"],[\"Employing the Correspondence of Relations and Connectives to Identify Implicit Discourse Relations via Label Embeddings\"],[\"Neural Keyphrase Generation via Reinforcement Learning with Adaptive Rewards\"],[\"Automatically Identifying Complaints in Social Media\"],[\"Massively Multilingual Transfer for NER\"],[\"Better Character Language Modeling Through Morphology\"],[\"BAM! Born-Again Multi-Task Networks for Natural Language Understanding\"],[\"Neural Aspect and Opinion Term Extraction with Mined Rules as Weak Supervision\"],[\"Mitigating Gender Bias in Natural Language Processing: Literature Review\"],[\"Entity-Centric Contextual Affective Analysis\"],[\"Identifying Visible Actions in Lifestyle Vlogs\"],[\"A Cross-Domain Transferable Neural Coherence Model\"],[\"Relation Embedding with Dihedral Group in Knowledge Graph\"],[\"Enhancing Air Quality Prediction with Social Media and Natural Language Processing\"],[\"Know What You Don't Know: Modeling a Pragmatic Speaker that Refers to Objects of Unknown Categories\"],[\"NeuralClassifier: An Open-source Neural Hierarchical Multi-label Text Classification Toolkit\"],[\"Combining Knowledge Hunting and Neural Language Models to Solve the Winograd Schema Challenge\"],[\"Careful Selection of Knowledge to solve Open Book Question Answering\"],[\"A computational linguistic study of personal recovery in bipolar disorder\"],[\"SARAL: A Low-Resource Cross-Lingual Domain-Focused Information Retrieval System for Effective Rapid Document Triage\"],[\"Psycholinguistics meets Continual Learning: Measuring Catastrophic Forgetting in Visual Question Answering\"],[\"FIESTA: Fast IdEntification of State-of-The-Art models using adaptive bandit algorithms\"],[\"ClaimPortal: Integrated Monitoring, Searching, Checking, and Analytics of Factual Claims on Twitter\"],[\"Predicting Humorousness and Metaphor Novelty with Gaussian Process Preference Learning\"],[\"CONAN -COunter NArratives through Nichesourcing: a Multilingual Dataset of Responses to Fight Online Hate Speech\"],[\"The (Non-)Utility of Structural Features in BiLSTM-based Dependency Parsers\"],[\"Zero-Shot Cross-Lingual Abstractive Sentence Summarization through Teaching Generation and Attention\"],[\"Pretraining Methods for Dialog Context Representation Learning\"],[\"CogNet: a Large-Scale Cognate Database\"],[\"Neural News Recommendation with Long-and Short-term User Representations\"],[\"GraphRel: Modeling Text as Relational Graphs for Joint Entity and Relation Extraction\"],[\"Multi-task Pairwise Neural Ranking for Hashtag Segmentation\"],[\"Entity-Relation Extraction as Multi-turn Question Answering\"],[\"Is Word Segmentation Necessary for Deep Learning of Chinese Representations?\"],[\"Implicit Discourse Relation Identification for Open-domain Dialogues\"],[\"Analysis of Automatic Annotation Suggestions for Hard Discourse-Level Tasks in Expert Domains\"],[\"Is Attention Interpretable?\"],[\"Neural News Recommendation with Topic-Aware News Representation\"],[\"Persuasion for Good: Towards a Personalized Persuasive Dialogue System for Social Good\"],[\"Show, Describe and Conclude: On Exploiting the Structure Information of Chest X-Ray Reports\"],[\"Curate and Generate: A Corpus and Method for Joint Control of Semantics and Style in Neural NLG\"],[\"Synthetic QA Corpora Generation with Roundtrip Consistency\"],[\"Multi-Task Networks With Universe, Group, and Task Feature Learning\"],[\"Informative Image Captioning with External Sources of Information\"],[\"Cognitive Graph for Multi-Hop Reading Comprehension at Scale\"],[\"Dynamically Fused Graph Network for Multi-hop Reasoning\"],[\"Multi-Channel Graph Neural Network for Entity Alignment\"],[\"Semantically Conditioned Dialog Response Generation via Hierarchical Disentangled Self-Attention\"],[\"Jiuge: A Human-Machine Collaborative Chinese Classical Poetry Generation System\"],[\"Hierarchical Transformers for Multi-Document Summarization\"],[\"SphereRE: Distinguishing Lexical Relations with Hyperspherical Relation Embeddings\"],[\"Are Red Roses Red? Evaluating Consistency of Question-Answering Models\"],[\"Modeling Intra-Relation in Math Word Problems with Different Functional Multi-Head Attentions\"],[\"Course Concept Expansion in MOOCs with External Knowledge and Interactive Game\"],[\"Few-Shot Representation Learning for Out-Of-Vocabulary Words\"],[\"Automated Chess Commentator Powered by Neural Chess Engine\"],[\"VIFIDEL: Evaluating the Visual Fidelity of Image Descriptions\"],[\"Exploring Sequence-to-Sequence Learning in Aspect Term Extraction\"],[\"Learning to Control the Fine-grained Sentiment for Story Ending Generation\"],[\"How Large Are Lions? Inducing Distributions over Quantitative Attributes\"],[\"Right for the Wrong Reasons: Diagnosing Syntactic Heuristics in Natural Language Inference\"],[\"Translating Translationese: A Two-Step Approach to Unsupervised Machine Translation\"],[\"BERT Rediscovers the Classical NLP Pipeline\"],[\"Argument Generation with Retrieval, Planning, and Realization\"],[\"Dual Adversarial Neural Transfer for Low-Resource Named Entity Recognition\"],[\"ChID: A Large-scale Chinese IDiom Dataset for Cloze Test\"],[\"Robust Representation Learning of Biomedical Names\"],[\"KCAT: A Knowledge-Constraint Typing Annotation Tool\"],[\"Eliciting Knowledge from Experts: Automatic Transcript Parsing for Cognitive Task Analysis\"],[\"AlpacaTag: An Active Learning-based Crowd Annotation Framework for Sequence Tagging\"],[\"Tree LSTMs with Convolution Units to Predict Stance and Rumor Veracity in Social Media Conversations\"],[\"Reinforced Dynamic Reasoning for Conversational Question Generation\"],[\"Open Vocabulary Learning for Neural Chinese Pinyin IME\"],[\"Diachronic Sense Modeling with Deep Contextualized Word Embeddings: An Ecological View\"],[\"Literary Event Detection\"],[\"A Prism Module for Semantic Disentanglement in Name Entity Recognition\"],[\"Long-Distance Dependencies don't have to be Long: Simplifying through Provably (Approximately) Optimal Permutations\"],[\"Modeling financial analysts' decision making via the pragmatics and semantics of earnings calls\"],[\"Towards Fine-grained Text Sentiment Transfer\"],[\"Dual Supervised Learning for Natural Language Understanding and Generation\"],[\"Reliability-aware Dynamic Feature Composition for Name Tagging\"],[\"PaperRobot: Incremental Draft Generation of Scientific Ideas\"],[\"Keep Meeting Summaries on Topic: Abstractive Multi-Modal Meeting Summarization\"],[\"Towards Comprehensive Description Generation from Factual Attribute-value Tables\"],[\"Multi-Grained Named Entity Recognition\"],[\"Figurative Usage Detection of Symptom Words to Improve Personal Health Mention Detection\"],[\"Recognising Agreement and Disagreement between Stances with Reason Comparing Networks\"],[\"Using Human Attention to Extract Keyphrase from Microblog Post\"],[\"HIBERT: Document Level Pre-training of Hierarchical Bidirectional Transformers for Document Summarization\"],[\"Automatic Grammatical Error Correction for Sequence-to-sequence Text Generation: An Empirical Study\"],[\"Explain Yourself! Leveraging Language Models for Commonsense Reasoning\"],[\"Open-Domain Targeted Sentiment Analysis via Span-Based Extraction and Classification\"],[\"\"],[\"Retrieve, Read, Rerank: Towards End-to-End Multi-Document Reading Comprehension\"],[\"Graph Neural Networks with Generated Parameters for Relation Extraction\"],[\"BERT-based Lexical Substitution\"],[\"Weakly-Supervised Spatio-Temporally Grounding Natural Sentence in Video\"],[\"Open Domain Event Extraction Using Neural Latent Variable Models\"],[\"Towards Near-imperceptible Steganographic Text\"],[\"Token-level Dynamic Self-Attention Network for Multi-Passage Reading Comprehension\"],[\"Incremental Transformer with Deliberation Decoder for Document Grounded Conversations\"],[\"A Multiscale Visualization of Attention in the Transformer Model\"],[\"Target-Guided Open-Domain Conversation\"],[\"Just \\\"OneSeC\\\" for Producing Multilingual Sense-Annotated Data\"],[\"Improving the Similarity Measure of Determinantal Point Processes for Extractive Multi-Document Summarization\"],[\"Cross-lingual Knowledge Graph Alignment via Graph Matching Neural Network\"],[\"Knowledge-aware Pronoun Coreference Resolution\"],[\"Progressive Self-Supervised Attention Learning for Aspect-Level Sentiment Analysis\"],[\"Gated Embeddings in End-to-End Speech Recognition for Conversational-Context Fusion\"],[\"Multi-Level Matching and Aggregation Network for Few-Shot Relation Classification\"],[\"Learning Representations from Imperfect Time Series Data via Tensor Rank Regularization\"],[\"Multimodal Transformer for Unaligned Multimodal Language Sequences\"],[\"Exploiting Invertible Decoders for Unsupervised Sentence Representation Learning\"],[\"Generating Question-Answer Hierarchies\"],[\"Syntactically Supervised Transformers for Faster Neural Machine Translation\"],[\"Encouraging Paragraph Embeddings to Remember Sentence Identity Improves Classification\"],[\"Strategies for Structuring Story Generation\"],[\"Heuristic Authorship Obfuscation\"],[\"Bias Analysis and Mitigation in the Evaluation of Authorship Verification\"],[\"This Email Could Save Your Life: Introducing the Task of Email Subject Line Generation\"],[\"SP-10K: A Large-scale Evaluation Set for Selectional Preference Acquisition\"],[\"Extracting Multiple-Relations in One-Pass with Pre-Trained Transformers\"],[\"Improving Question Answering over Incomplete KBs with Knowledge-Aware Reader\"],[\"Sentence Centrality Revisited for Unsupervised Summarization\"],[\"TWEETQA: A Social Media Focused Question Answering Dataset\"],[\"Parallax: Visualizing and Understanding the Semantics of Embedding Spaces via Algebraic Formulae\"],[\"Monotonic Infinite Lookback Attention for Simultaneous Machine Translation\"],[\"End-to-end Deep Reinforcement Learning Based Coreference Resolution\"],[\"Rewarding Smatch: Transition-Based AMR Parsing with Reinforcement Learning\"],[\"Low-resource Deep Entity Resolution with Transfer and Active Learning\"],[\"HEIDL: Learning Linguistic Expressions with Deep Learning and Human-in-the-Loop\"],[\"Emotion-Cause Pair Extraction: A New Task to Emotion Analysis in Texts\"],[\"Soft Contextual Data Augmentation for Neural Machine Translation\"],[\"Understanding Undesirable Word Embedding Associations\"],[\"Towards Understanding Linear Word Analogies\"],[\"From Bilingual to Multilingual Neural Machine Translation by Incremental Training\"],[\"Key Fact as Pivot: A Two-Stage Model for Low Resource Table-to-Text Generation\"],[\"Enhancing Topic-to-Essay Generation with External Commonsense Knowledge\"],[\"Generating Fluent Adversarial Examples for Natural Languages\"],[\"STRASS: A Light and Effective Method for Extractive Summarization Based on Sentence Embeddings\"],[\"Online Infix Probability Computation for Probabilistic Finite Automata\"],[\"Cross-Modal Commentator: Automatic Machine Commenting Based on Cross-Modal Information\"],[\"XQA: A Cross-lingual Open-domain Question Answering Dataset\"],[\"Generating Sentences from Disentangled Syntactic and Semantic Spaces\"],[\"Automatic Generation of Personalized Comment Based on User Profile\"],[\"Imitation Learning for Non-Autoregressive Neural Machine Translation\"],[\"Like a Baby: Visually Situated Neural Language Acquisition\"],[\"Improving Neural Language Models by Segmenting, Attending, and Predicting the Future\"],[\"Does It Make Sense? And Why? A Pilot Study for Sense Making and Explanation\"],[\"Cross-Lingual Training for Automatic Question Generation\"],[\"Continual and Multi-Task Architecture Search\"],[\"Explore, Propose, and Assemble: An Interpretable Model for Multi-Hop Reading Comprehension\"],[\"Avoiding Reasoning Shortcuts: Adversarial Evaluation, Training, and Model Development for Multi-Hop QA\"],[\"Semi-supervised Stochastic Multi-Domain Learning using Variational Inference\"],[\"Comparison of Diverse Decoding Methods from Conditional Language Models\"],[\"PERSPECTROSCOPE: A Window to the World of Diverse Perspectives\"],[\"An adaptable task-oriented dialog system for stand-alone embedded devices\"],[\"Deep Dominance -How to Properly Compare Deep Neural Models\"],[\"Improving Visual Question Answering by Referring to Generated Paragraph Captions\"],[\"Unraveling Antonym's Word Vectors through a Siamese-like Network\"],[\"LSTMEmbed: Learning Word and Sense Representations from a Large Semantically Annotated Corpus with Long Short-Term Memories\"],[\"Evaluating Gender Bias in Machine Translation\"],[\"When a Good Translation is Wrong in Context: Context-Aware Machine Translation Improves on Deixis, Ellipsis, and Lexical Cohesion\"],[\"Rationally Reappraising ATIS-based Dialogue Systems\"],[\"ELI5: Long Form Question Answering\"],[\"Paraphrases as Foreign Languages in Multilingual Neural Machine Translation\"],[\"lingvis.io -A Linguistic Visual Analytics Framework\"],[\"Demonstration of a Neural Machine Translation System with Online Learning for Translators\"],[\"GrapAL: Connecting the Dots in Scientific Literature\"],[\"FASTDial: Abstracting Dialogue Policies for Fast Development of Task Oriented Agents\"],[\"Rapid Customization for Event Extraction\"],[\"\"],[\"PostAc \\u00ae : A Visual Interactive Search, Exploration, and Analysis Platform for PhD Intensive Job Postings\"],[\"A Neural, Interactive-predictive System for Multimodal Sequence to Sequence Tasks\"],[\"GLTR: Statistical Detection and Visualization of Generated Text\"],[\"Annotating and Analyzing Semantic Role of Elementary Units and Relations in Online Persuasive Arguments\"],[\"Microsoft ICECAPS: An Open-Source Toolkit for Conversation Modeling\"],[\"Flamb\\u00e9: A Customizable Framework for Machine Learning Experiments\"],[\"MoNoise: A Multi-lingual and Easy-to-use Lexical Normalization Tool\"],[\"Texar: A Modularized, Versatile, and Extensible Toolkit for Text Generation\"],[\"SLATE: A Super-Lightweight Annotation Tool for Experts\"],[\"You Only Need Attention to Traverse Trees\"],[\"Constructing Interpretive Spatio-Temporal Features for Multi-Turn Responses Selection\"],[\"Stay on the Path: Instruction Fidelity in Vision-and-Language Navigation\"],[\"Robust Neural Machine Translation with Doubly Adversarial Inputs\"],[\"\"],[\"A Multi-Task Architecture on Relevance-based Neural Query Translation\"],[\"Women's Syntactic Resilience and Men's Grammatical Luck: Gender-Bias in Part-of-Speech Tagging and Dependency Parsing\"],[\"Robust Neural Machine Translation with Joint Textual and Phonetic Embedding\"],[\"Attention over Heads: A Multi-Hop Attention for Neural Machine Translation\"],[\"Using Semantic Similarity as Reward for Reinforcement Learning in Sentence Generation\"],[\"Simultaneous Translation with Flexible Policy via Restricted Imitation Learning\"],[\"Unsupervised Paraphrasing without Translation\"],[\"Celebrity Profiling\"],[\"Probing Neural Network Comprehension of Natural Language Arguments\"],[\"Generating Logical Forms from Graph Representations of Text and Entities\"],[\"Dynamically Composing Domain-Data Selection with Clean-Data Selection by \\\"Co-Curricular Learning\\\" for Neural Machine Translation\"],[\"Handling Divergent Reference Texts when Evaluating Table-to-Text Generation\"],[\"Ranking of Potential Questions\"],[\"Context-specific language modeling for human trafficking detection from online advertisements\"],[\"Putting words in context: LSTM language models and lexical ambiguity\"],[\"NNE: A Dataset for Nested Named Entity Recognition in English Newswire\"],[\"Latent Retrieval for Weakly Supervised Open Domain Question Answering\"],[\"Ranking Generated Summaries by Correctness: An Interesting but Challenging Application for Natural Language Inference\"],[\"Using Automatically Extracted Minimum Spans to Disentangle Coreference Evaluation from Boundary Detection\"],[\"Effective Cross-lingual Transfer of Neural Machine Translation Models without Shared Vocabularies\"],[\"Reversing Gradients in Adversarial Domain Adaptation for Question Deduplication and Textual Entailment Tasks\"],[\"Crowdsourcing and Validating Event-focused Emotion Corpora for German and English\"],[\"An Imitation Learning Approach to Unsupervised Parsing\"],[\"Zero-Shot Entity Linking by Reading Entity Descriptions\"],[\"How to best use Syntax in Semantic Role Labelling\"],[\"Learning Emphasis Selection for Written Text in Visual Media from Crowd-Sourced Label Distributions\"],[\"AMR Parsing as Sequence-to-Graph Transduction\"],[\"Neural Decipherment via Minimum-Cost Flow: from Ugaritic to Linear B\"],[\"Don't Take the Premise for Granted: Mitigating Artifacts in Natural Language Inference\"],[\"Not All Reviews are Equal: Towards Addressing Reviewer Biases for Opinion Summarization\"],[\"Compound Probabilistic Context-Free Grammars for Grammar Induction\"],[\"BIGPATENT: A Large-Scale Dataset for Abstractive and Coherent Summarization\"],[\"Joint Effects of Context and User History for Predicting Online Conversation Re-entries\"],[\"Making Fast Graph-based Algorithms with Graph Metric Embeddings\"],[\"Matching the Blanks: Distributional Similarity for Relation Learning\"],[\"Unsupervised Parallel Sentence Extraction with Parallel Segment Detection Helps Machine Translation\"],[\"Better OOV Translation with Bilingual Terminology Mining\"],[\"Unsupervised Multilingual Word Embedding with Limited Resources using Neural Language Models\"],[\"Investigating Political Herd Mentality: A Community Sentiment Based Approach\"],[\"Learning Attention-based Embeddings for Relation Prediction in Knowledge Graphs\"],[\"Cross-Domain Generalization of Neural Constituency Parsers\"],[\"Pre-Learning Environment Representations for Data-Efficient Neural Instruction Following\"],[\"Are You Looking? Grounding to Multiple Modalities in Vision-and-Language Navigation\"],[\"Improving Low-Resource Cross-lingual Document Retrieval by Reranking with Deep Bilingual Representations\"],[\"Multilingual Constituency Parsing with Self-Attention and Pre-Training\"],[\"Simple Unsupervised Summarization by Contextual Matching\"],[\"Personalizing Dialogue Agents via Meta-Learning\"],[\"Memory Consolidation for Contextual Spoken Language Understanding with Dialogue Logistic Inference\"],[\"Generalized Data Augmentation for Low-Resource Translation\"],[\"M\\u0101ori Loanwords: A Corpus of New Zealand English Tweets\"],[\"Improving Neural Entity Disambiguation with Graph Embeddings\"],[\"DeepSentiPeer: Harnessing Sentiment in Review Texts To Recommend Peer Review Decisions\"],[\"Multimodal and Multi-view Models for Emotion Recognition\"],[\"Zero-Shot Semantic Parsing for Instructions\"],[\"What Should I Ask? Using Conversationally Informative Rewards for Goal-Oriented Visual Dialogue\"],[\"Complex Question Decomposition for Semantic Parsing\"],[\"HEAD-QA: A Healthcare Dataset for Complex Reasoning\"],[\"Unified Semantic Parsing with Weak Supervision\"],[\"Numeracy-600K: Learning Numeracy for Detecting Exaggerated Information in Market Comments\"],[\"Multi-Task Deep Neural Networks for Natural Language Understanding\"],[\"Distilling Translations with Visual Awareness\"],[\"DisSent: Learning Sentence Representations from Explicit Discourse Relations\"],[\"A Corpus for Reasoning About Natural Language Grounded in Photographs\"],[\"Multi-News: a Large-Scale Multi-Document Summarization Dataset and Abstractive Hierarchical Model\"],[\"EigenSent: Spectral sentence embeddings using higher-order Dynamic Mode Decomposition\"],[\"Self-Attentional Models for Lattice Inputs\"],[\"SEMBLEU: A Robust Metric for AMR Parsing Evaluation\"],[\"Symbolic inductive bias for visually grounded learning of spoken language\"],[\"Improved Zero-shot Neural Machine Translation via Ignoring Spurious Correlations\"],[\"A Compact and Language-Sensitive Multilingual Translation Method\"],[\"On the Robustness of Self-Attentive Models\"],[\"Exact Hard Monotonic Attention for Character-Level Transduction\"],[\"Reranking for Neural Semantic Parsing\"],[\"Incorporating Priors with Feature Attribution on Text Classification\"],[\"Multi-Relational Script Learning for Discourse Relations\"],[\"Human vs. Muppet: A Conservative Estimate of Human Performance on the GLUE Benchmark\"],[\"Using LSTMs to Assess the Obligatoriness of Phonological Distinctive Features for Phonotactic Learning\"],[\"Compositional Semantic Parsing Across Graphbanks\"],[\"Second-Order Semantic Dependency Parsing with End-to-End Neural Networks\"],[\"Determining Relative Argument Specificity and Stance for Complex Argumentative Structures\"],[\"Every child should have parents: a taxonomy refinement algorithm based on hyperbolic term embeddings\"],[\"Tree Communication Models for Sentiment Analysis\"],[\"An Investigation of Transfer Learning-Based Sentiment Analysis in Japanese\"],[\"Global Textual Relation Embedding for Relational Understanding\"],[\"Latent Variable Sentiment Grammar *\"],[\"Embedding time expressions for deep temporal ordering models\"],[\"Episodic Memory Reader: Learning What to Remember for Question Answering from Streaming Data\"],[\"Are we there yet? Encoder-decoder neural networks as cognitive models of English past tense inflection\"],[\"Is word segmentation child's play in all languages?\"],[\"Uncovering Probabilistic Implications in Typological Knowledge Bases\"],[\"Attention-based Conditioning Methods for External Knowledge Integration\"],[\"StRE: Self Attentive Edit Quality Prediction in Wikipedia\"],[\"Fine-Grained Sentence Functions for Short-Text Conversation\"],[\"Are Training Samples Correlated? Learning to Generate Dialogue Responses with Multiple References\"],[\"Fine-Grained Spoiler Detection from Large-Scale Review Corpora\"],[\"Unsupervised Learning of PCFGs with Normalizing Flow\"],[\"Domain Adaptive Dialog Generation via Meta Learning\"],[\"GCDT: A Global Context Enhanced Deep Transition Architecture for Sequence Labeling\"],[\"Analyzing Linguistic Differences between Owner and Staff Attributed Tweets\"],[\"Categorizing and Inferring the Relationship between the Text and Image of Twitter Posts\"],[\"Correlating neural and symbolic representations of language\"],[\"Retrieving Sequential Information for Non-Autoregressive Neural Machine Translation\"],[\"Transformer-XL: Attentive Language Models Beyond a Fixed-Length Context\"],[\"E 3 : Entailment-driven Extracting and Editing for Conversational Machine Reading\"],[\"A Simple and Effective Approach to Automatic Post-Editing with Transfer Learning\"],[\"Head-Driven Phrase Structure Grammar Parsing on Penn Treebank\"],[\"Multilingual Unsupervised NMT using Shared Encoder and Language-Specific Decoders\"],[\"Multi-Modal Sarcasm Detection in Twitter with Hierarchical Fusion Model\"],[\"MAAM: A Morphology-Aware Alignment Model for Unsupervised Bilingual Lexicon Induction\"],[\"On the Compositionality Prediction of Noun Phrases using Poincar\\u00e9 Embeddings\"],[\"Cross-Domain NER using Cross-Domain Language Modeling\"],[\"Multi-Task Semantic Dependency Parsing with Policy Gradient for Learning Easy-First Strategies\"],[\"Variance of average surprisal: a better predictor for quality of grammar from unsupervised PCFG induction\"],[\"Wide-Coverage Neural A* Parsing for Minimalist Grammars\"],[\"Assessing the Ability of Self-Attention Networks to Learn Word Order\"],[\"Topic-Aware Neural Keyphrase Generation for Social Media Language\"],[\"Relational Word Embeddings\"],[\"You Write Like You Eat: Stylistic variation as a predictor of social stratification\"],[\"Sentence-Level Evidence Embedding for Claim Verification with Hierarchical Attention Networks\"],[\"Embedding Imputation with Grounded Language Information\"],[\"Multi-Hop Paragraph Retrieval for Open-Domain Question Answering\"],[\"Textbook Question Answering with Multi-modal Context Graph Understanding and Self-supervised Open-set Comprehension\"],[\"Large Dataset and Language Model Fun-Tuning for Humor Recognition\"],[\"A Multilingual BPE Embedding Space for Universal Sentiment Lexicon Induction\"],[\"A Just and Comprehensive Strategy for Using NLP to Address Online Abuse\"],[\"Leveraging Meta Information in Short Text Aggregation\"],[\"Self-Attentive, Multi-Context One-Class Classification for Unsupervised Anomaly Detection on Text\"],[\"Hubless Nearest Neighbor Search for Bilingual Lexicon Induction\"],[\"Dialogue Natural Language Inference\"],[\"Bayes Test of Precision, Recall, and F 1 Measure for Comparison of Two Natural Language Processing Models\"],[\"The Effectiveness of Simple Hybrid Systems for Hypernym Discovery\"],[\"TIGS: An Inference Algorithm for Text Infilling with Gradient Search\"],[\"Vocabulary Pyramid Network: Multi-Pass Encoding and Decoding with Multi-Level Vocabularies for Response Generation\"],[\"Keeping Notes: Conditional Natural Language Generation with a Scratchpad Mechanism\"],[\"Do you know that Florence is packed with visitors? Evaluating state-of-the-art models of speaker commitment\"],[\"Towards Language Agnostic Universal Representations\"],[\"Give Me More Feedback II: Annotating Thesis Strength and Related Attributes in Student Essays\"],[\"End-to-End Sequential Metaphor Identification Inspired by Linguistic Theories\"],[\"Learning a Matching Model with Co-teaching for Multi-turn Response Selection in Retrieval-based Dialogue Systems\"],[\"Budgeted Policy Learning for Task-Oriented Dialogue Systems\"],[\"AdaNSP: Uncertainty-driven Adaptive Decoding in Neural Semantic Parsing\"],[\"AutoML strategy based on grammatical evolution: A case study about knowledge discovery from text\"],[\"Distilling Discrimination and Generalization Knowledge for Event Detection via \\u2206-Representation Learning\"],[\"Learning to Abstract for Memory-augmented Conversational Response Generation\"],[\"Towards Empathetic Open-domain Conversation Models: a New Benchmark and Dataset\"],[\"Training Neural Response Selection for Task-Oriented Dialogue Systems\"],[\"Joint Slot Filling and Intent Detection via Capsule Neural Networks\"],[\"Label-Agnostic Sequence Labeling by Copying Nearest Neighbors\"],[\"Self-Attention Architectures for Answer-Agnostic Neural Question Generation\"],[\"Large-Scale Transfer Learning for Natural Language Generation\"],[\"Enhancing Unsupervised Generative Dependency Parser with Contextual Information\"],[\"Cost-sensitive Regularization for Label Confusion-aware Event Detection\"],[\"Improving Open Information Extraction via Iterative Rank-Aware Learning\"],[\"Towards Improving Neural Named Entity Recognition with Gazetteers\"],[\"Improving the Robustness of Question Answering Systems to Question Paraphrasing\"],[\"Neural Response Generation with Meta-Words\"],[\"Scaling Up Open Tagging from Tens to Thousands: Comprehension Empowered Attribute Value Extraction from Product Title\"],[\"NLProlog: Reasoning with Weak Unification for Question Answering in Natural Language\"],[\"MC 2 : Multi-perspective Convolutional Cube for Conversational Machine Reading Comprehension\"],[\"A Novel Bi-directional Interrelated Model for Joint Intent Detection and Slot Filling\"],[\"Reducing Word Omission Errors in Neural Machine Translation: A Contrastive Learning Approach\"],[\"Deep Unknown Intent Detection with Margin Loss\"],[\"Exploiting Sentential Context for Neural Machine Translation\"],[\"Learning to Relate from Captions and Bounding Boxes\"],[\"Modeling Semantic Relationship in Multi-turn Conversations with Hierarchical Latent Variables\"],[\"An automated framework for fast cognate detection and Bayesian phylogenetic inference in computational historical linguistics\"],[\"Learning Latent Trees with Stochastic Perturbations and Differentiable Dynamic Programming\"],[\"Discourse Representation Parsing for Sentences and Documents\"],[\"Sequence-to-Nuggets: Nested Entity Mention Detection via Anchor-Region Networks\"],[\"Training Hybrid Language Models by Marginalizing over Segmentations\"],[\"Language Modelling Makes Sense: Propagating Representations through WordNet for Full-Coverage Word Sense Disambiguation\"],[\"Combating Adversarial Misspellings with Robust Word Recognition\"],[\"Sentiment Tagging with Partial Labels using Modular Architectures\"],[\"Word2Sense : Sparse Interpretable Word Embeddings\"],[\"Empirical Linguistic Study of Sentence Embeddings\"],[\"Collocation Classification with Unsupervised Relation Vectors\"],[\"Probing for Semantic Classes: Diagnosing the Meaning Content of Word Embeddings\"],[\"Confusionset-guided Pointer Networks for Chinese Spelling Check\"],[\"Target Conditioned Sampling: Optimizing Data Selection for Multilingual Neural Machine Translation\"],[\"Adversarial Learning of Privacy-Preserving Text Representations for De-Identification of Medical Records\"],[\"Variational Pretraining for Semi-supervised Text Classification\"],[\"The Referential Reader: A Recurrent Entity Network for Anaphora Resolution\"],[\"Interpolated Spectral NGram Language Models\"],[\"Barack's Wife Hillary: Using Knowledge Graphs for Fact-Aware Language Modeling\"],[\"Depth Growing for Neural Machine Translation\"],[\"Manipulating the Difficulty of C-Tests\"],[\"Soft Representation Learning for Sparse Transfer\"],[\"Duality of Link Prediction and Entailment Graph Induction\"],[\"Towards Unsupervised Text Classification Leveraging Experts and Word Embeddings\"],[\"Improved Language Modeling by Decoding the Past\"],[\"Sparse Sequence-to-Sequence Models\"],[\"Neural Network Alignment for Sentential Paraphrases\"],[\"A Cross-Sentence Latent Variable Model for Semi-Supervised Text Sequence Matching\"],[\"Divide, Conquer and Combine: Hierarchical Feature Fusion Network with Local and Global Perspectives for Multimodal Affective Computing\"],[\"Decompositional Argument Mining: A General Purpose Approach for Argument Graph Construction\"],[\"What You Say and How You Say It Matters: Predicting Financial Risk Using Verbal and Vocal Cues\"],[\"A Transparent Framework for Evaluating Unintended Demographic Bias in Word Embeddings\"],[\"Generalized Tuning of Distributional Word Vectors for Monolingual and Cross-Lingual Lexical Entailment\"],[\"Cross-Sentence Grammatical Error Correction\"],[\"Learning Morphosyntactic Analyzers from the Bible via Iterative Annotation Projection across 26 Languages\"],[\"A Surprisingly Robust Trick for the Winograd Schema Challenge\"],[\"Encoding Social Information with Graph Convolutional Networks for Political Perspective Detection in News Media\"],[\"MELD: A Multimodal Multi-Party Dataset for Emotion Recognition in Conversations\"],[\"Topic Sensitive Attention on Generic Corpora Corrects Sense Bias in Pretrained Embeddings\"],[\"Coherent Comment Generation for Chinese Articles with a Graph-to-Sequence Model\"],[\"Transfer Capsule Network for Aspect Level Sentiment Classification\"],[\"Multilingual Factor Analysis\"],[\"A Deep Reinforced Sequence-to-Set Model for Multi-Label Classification\"],[\"Learning from omission\"],[\"Meaning to Form: Measuring Systematicity as Information\"],[\"Interconnected Question Generation with Coreference Alignment and Conversation Flow Modeling\"],[\"A Corpus for Modeling User and Language Effects in Argumentation on Online Debating\"],[\"Generating Diverse Translations with Sentence Codes\"],[\"Multilingual and Cross-Lingual Graded Lexical Entailment\"],[\"Neural Text Simplification of Clinical Letters with a Domain Specific Phrase Table\"],[\"Data Programming for Learning Discourse Structure\"],[\"Neural Fuzzy Repair: Integrating Fuzzy Matches into Neural Machine Translation\"],[\"What Kind of Language Is Hard to Language-Model?\"],[\"\"],[\"Text Categorization by Learning Predominant Sense of Words as Auxiliary Task\"],[\"Reinforced Training Data Selection for Domain Adaptation\"],[\"Bilingual Lexicon Induction through Unsupervised Machine Translation\"],[\"One Time of Interaction May Not Be Enough: Go Deep with an Interaction-over-Interaction Network for Response Selection in Dialogues\"],[\"Coreference Resolution with Entity Equalization\"],[\"Generating Long and Informative Reviews with Aspect-Aware Coarse-to-Fine Decoding\"],[\"Asking the Crowd: Question Analysis, Evaluation and Generation for Open Discussion on Online Forums\"],[\"Automatic Generation of High Quality CCGbanks for Parser Domain Adaptation\"],[\"MOROCO: The Moldavian and Romanian Dialectal Corpus\"],[\"Unsupervised Neural Text Simplification\"],[\"Abstractive text summarization based on deep learning and semantic content generalization\"],[\"An Effective Approach to Unsupervised Machine Translation\"],[\"Errudite: Scalable, Reproducible, and Testable Error Analysis\"],[\"Unsupervised Neural Single-Document Summarization of Reviews via Learning Latent Discourse Structure and its Ranking\"],[\"Studying Summarization Evaluation Metrics in the Appropriate Scoring Range\"],[\"Spatial Aggregation Facilitates Discovery of Spatial Topics\"],[\"SherLIiC: A Typed Event-Focused Lexical Inference Benchmark for Evaluating Natural Language Inference\"],[\"Syntax-Infused Variational Autoencoder for Text Generation\"],[\"Collaborative Dialogue in Minecraft\"],[\"Finding Your Voice: The Linguistic Development of Mental Health Counselors\"],[\"Inferential Machine Comprehension: Answering Questions by Recursively Deducing the Evidence Chain from Text\"],[\"Modeling affirmative and negated action processing in the brain with lexical and compositional semantic models\"],[\"Detecting Concealed Information in Text and Speech\"],[\"Towards Automating Healthcare Question Answering in a Noisy Multilingual Low-Resource Setting\"],[\"Explicit Utilization of General Knowledge in Machine Reading Comprehension\"],[\"Self-Regulated Interactive Sequence-to-Sequence Learning\"],[\"Joint Entity Extraction and Assertion Detection for Clinical Text\"],[\"Incorporating Linguistic Constraints into Keyphrase Generation\"],[\"Adaptive Attention Span in Transformers\"],[\"Automatic Domain Adaptation Outperforms Manual Domain Adaptation for Predicting Financial Outcomes\"],[\"Wikipedia as a Resource for Text Analysis and Retrieval\"],[\"Unsupervised Cross-Lingual Representation Learning\"],[\"Computational ad hominem detection\"],[\"Fact or Factitious? Contextualized Opinion Spam Detection\"],[\"Latent Structure Models for Natural Language Processing\"],[\"Multiple Character Embeddings for Chinese Word Segmentation\"],[\"\"],[\"BREAKING! Presenting Fake News Corpus For Automated Fact Checking\"],[\"Automated Cross-language Intelligibility Analysis of Parkinson's Disease Patients Using Speech Recognition Technologies\"],[\"Attention and Lexicon Regularized LSTM for Aspect-based Sentiment Analysis\"],[\"\"],[\"Advances in Argument Mining\"],[\"Hierarchical Multi-label Classification of Text with Capsule Networks\"],[\"Computational Analysis of Political Texts: Bridging Research Efforts Across Communities\"],[\"English-Indonesian Neural Machine Translation for Spoken Language Domains\"],[\"Active Reading Comprehension: A dataset for learning the Question-Answer Relationship strategy\"],[\"Robust-to-Noise Models in Natural Language Processing Tasks\"],[\"Measuring the Value of Linguistics: A Case Study from St. Lawrence Island Yupik\"],[\"Improving Mongolian-Chinese Neural Machine Translation with Morphological Noise\"],[\"Towards incremental learning of word embeddings using context informativeness\"],[\"Joint Learning of Named Entity Recognition and Entity Linking\"],[\"A Strong and Robust Baseline for Text-Image Matching\"],[\"Reducing Gender Bias in Word-Level Language Models with a Gender-Equalizing Loss Function\"],[\"Transfer Learning Based Free-Form Speech Command Classification for Low-Resource Languages\"],[\"Enriching Neural Models with Targeted Features for Dementia Detection\"],[\"Convolutional Neural Networks for Financial Text Regression\"],[\"Scheduled Sampling for Transformers\"],[\"Sentiment Analysis on Naija-Tweets\"],[\"Sentiment Classification using Document Embeddings trained with Cosine Similarity\"],[\"A Japanese Word Segmentation Proposal\"],[\"Deep Bayesian Natural Language Processing\"],[\"\"],[\"\"],[\"Gender Stereotypes Differ between Male and Female Writings\"],[\"Natural Language Generation: Recently Learned Lessons, Directions for Semantic Representation-based Approaches, and the case of Brazilian Portuguese Language\"],[\"Towards Turkish Abstract Meaning Representation\"],[\"Predicting the Outcome of Deliberative Democracy: A Research Proposal\"],[\"Distributed Knowledge Based Clinical Auto-Coding System\"]],\"hovertemplate\":\"award=normal<br>x1=%{x}<br>x2=%{y}<br>hover_data_0=%{customdata[0]}<extra></extra>\",\"legendgroup\":\"normal\",\"marker\":{\"color\":\"#636efa\",\"symbol\":\"circle\"},\"mode\":\"markers\",\"name\":\"normal\",\"orientation\":\"v\",\"showlegend\":true,\"x\":[0.1393200010061264,0.25976550579071045,-0.2003570944070816,-0.0539260059595108,-0.15726514160633087,0.03262011706829071,0.28841400146484375,-0.1704111397266388,-0.14568698406219482,0.31172534823417664,0.39620721340179443,0.017942698672413826,0.11779393255710602,0.23750123381614685,-0.12998026609420776,-0.05224941670894623,0.006941941566765308,0.03762179985642433,-0.23932476341724396,0.04523320123553276,-0.08450336009263992,0.13905932009220123,0.020292824134230614,-0.08861871063709259,0.0931064784526825,-0.10795190185308456,-0.021139243617653847,-0.1812043935060501,0.04993375763297081,0.6422428488731384,0.03836072236299515,0.13704833388328552,0.05883263051509857,-0.16578835248947144,-0.23478452861309052,-0.20066440105438232,-0.02627575397491455,0.2424645870923996,0.007957413792610168,-0.038610395044088364,-0.07213839888572693,-0.04701872169971466,-0.13709010183811188,-0.005646624136716127,0.03831356391310692,0.1539374738931656,-0.13083499670028687,-0.18122798204421997,0.17990393936634064,-0.06145583465695381,-0.008769018575549126,-0.29828616976737976,-0.1972680538892746,-0.1895485520362854,0.1314692348241806,0.06999340653419495,0.23015591502189636,-0.05432800203561783,0.08092538267374039,-0.06676764041185379,0.12242116034030914,0.0011267221998423338,-0.07642145454883575,0.04077519476413727,-0.17740365862846375,0.014526194892823696,-0.10831446945667267,-0.2765797972679138,-0.13751165568828583,-0.10416586697101593,0.2224394679069519,0.010892238467931747,-0.35640865564346313,-0.3326352536678314,-0.04824129864573479,-0.00465520191937685,-0.0698046162724495,-0.06226453557610512,0.6422428488731384,0.15894770622253418,0.043574560433626175,-0.08048249036073685,0.030978014692664146,0.006975049618631601,0.06528917700052261,-0.08544400334358215,0.009491381235420704,0.054240401834249496,-0.13849103450775146,-0.0011084422003477812,0.01341370027512312,-0.11983729898929596,-0.06269270926713943,0.10361948609352112,-0.05292981490492821,0.10478638112545013,0.30613699555397034,0.22104112803936005,-0.060074303299188614,0.2169819176197052,-0.08275454491376877,0.025439729914069176,0.053477250039577484,0.02069183439016342,-0.004885932430624962,-0.1293952763080597,0.28275132179260254,-0.030833519995212555,0.2916363775730133,0.14177124202251434,0.03456857427954674,0.26696112751960754,0.1285555064678192,-0.2953936457633972,0.2022998332977295,-0.36348971724510193,-0.23883621394634247,-0.35906192660331726,-0.333167165517807,0.054201047867536545,-0.16920346021652222,0.15419219434261322,-0.29564592242240906,-0.23075030744075775,-0.06625188142061234,-0.10576001554727554,-0.13201607763767242,-0.28073927760124207,0.40891093015670776,0.16839569807052612,0.0816567912697792,-0.06607768684625626,0.2138589322566986,-0.134149968624115,0.19188478589057922,0.2818782329559326,-0.1260010004043579,0.07246677577495575,0.1570655256509781,-0.11231647431850433,0.30449235439300537,-0.13719090819358826,0.2505814731121063,0.11784253269433975,-0.3103114068508148,0.007069253362715244,-0.05366393178701401,0.09686551988124847,0.15011294186115265,0.2318105846643448,0.38232114911079407,0.3843117654323578,0.10576263070106506,0.1031758263707161,-0.04453182592988014,-0.05068586394190788,-0.20744027197360992,-0.22055701911449432,-0.005246435292065144,-0.17614243924617767,-0.009947331622242928,-0.3721065819263458,-0.3141559362411499,0.06727315485477448,-0.2240438461303711,-0.13114450871944427,0.3995177149772644,0.15174242854118347,-0.10294491052627563,0.032794151455163956,-0.09084659069776535,0.0329430028796196,-0.018604528158903122,0.07505843043327332,-0.13951422274112701,-0.06706768274307251,-0.21158131957054138,-0.23878741264343262,-0.1564973145723343,-0.06602628529071808,0.04038715735077858,-0.3540165424346924,-0.13691191375255585,-0.08212576806545258,-0.20542170107364655,-0.06137055158615112,-0.10760083049535751,-0.15364694595336914,-0.022132720798254013,-0.12572358548641205,-0.16223853826522827,-0.1972716897726059,-0.32617130875587463,0.007274847477674484,-0.37454983592033386,-0.30780690908432007,0.02898966521024704,-0.1027977466583252,0.006869638338685036,-0.12531781196594238,0.0745917409658432,-0.24567747116088867,-0.027839642018079758,-0.1678084284067154,0.15250998735427856,0.42008817195892334,0.23400726914405823,-0.11266233026981354,-0.10323666036128998,0.32736289501190186,-0.33540937304496765,0.007558331359177828,-0.008166931569576263,-0.031516183167696,0.21922706067562103,0.09891249239444733,0.31314146518707275,0.4454192519187927,0.3434307873249054,0.3364788889884949,-0.11046156287193298,-0.16239804029464722,-0.022741546854376793,0.1204230934381485,0.02637365087866783,-0.0081190075725317,-0.06870132684707642,-0.04807243496179581,-0.0858616903424263,0.06867824494838715,-0.11404039710760117,-0.0021902674343436956,-0.12565363943576813,-0.10963239520788193,-0.08646789938211441,-0.04509003832936287,-0.14872129261493683,-0.17370781302452087,0.21067994832992554,-0.21438780426979065,-0.01262833084911108,-0.14792965352535248,-0.137078657746315,-0.2447090446949005,-0.04718136787414551,0.11016488820314407,-0.14331726729869843,-0.017084870487451553,-0.27766573429107666,-0.13108430802822113,-0.07921534031629562,-0.31198930740356445,0.024739976972341537,-0.2656117081642151,0.011436880566179752,-0.08043697476387024,-0.14920677244663239,-0.262703537940979,-0.09981589764356613,-0.09760003536939621,-0.13092169165611267,-0.05926445871591568,-0.01834048144519329,0.1720401495695114,0.21259093284606934,-0.0758310928940773,0.09623831510543823,0.6422428488731384,-0.2026555836200714,-0.033811356872320175,-0.1082107201218605,-0.2081189602613449,0.1955423504114151,-0.10115815699100494,-0.13666830956935883,0.010367446579039097,-0.030632320791482925,0.15061363577842712,0.06146320328116417,-0.12250856310129166,0.004521377384662628,0.2459692656993866,-0.23529231548309326,-0.12471663951873779,0.1042584627866745,-0.06452810764312744,-0.20298917591571808,-0.005983754992485046,-0.07906469702720642,0.08709295839071274,-0.0051207575015723705,0.008108497597277164,-0.22609205543994904,0.003854565555229783,0.02365945093333721,0.027800528332591057,0.2107071876525879,-0.18675260245800018,-0.1279064416885376,-0.14935658872127533,0.1673954427242279,0.23042353987693787,0.22799019515514374,0.2749441862106323,-0.052797019481658936,0.023801691830158234,0.18668238818645477,0.020678147673606873,-0.0531022734940052,0.0136891920119524,0.07201463729143143,0.2894213795661926,-0.005972603335976601,0.03052939847111702,0.14929738640785217,0.3650054335594177,0.18552926182746887,0.3096565306186676,-0.14129889011383057,-0.3008251190185547,-0.01670948788523674,0.09526235610246658,0.03170490637421608,0.0023835403844714165,0.15122170746326447,-0.07094032317399979,-0.22660931944847107,0.23518997430801392,0.18106567859649658,-0.07159952819347382,0.043330900371074677,0.4456843435764313,0.1537521630525589,-0.07056066393852234,-0.09808094799518585,-0.08884953707456589,-0.08185093104839325,0.08998934924602509,0.09100884944200516,-0.15237568318843842,-0.12428624927997589,0.16791029274463654,-0.14555659890174866,-0.07910927385091782,0.09795340150594711,-0.06120174378156662,0.18573470413684845,-0.1833924949169159,0.04416351765394211,0.03541083261370659,-0.08629871904850006,0.13012535870075226,0.12206438183784485,-0.006014934275299311,-0.2768801748752594,-0.07768283784389496,0.17295177280902863,-0.11998434364795685,0.048917412757873535,0.04631470516324043,0.1061827763915062,-0.02609432116150856,0.1332608163356781,0.15324313938617706,0.03901669383049011,-0.11733347922563553,0.06487655639648438,0.1056765466928482,-0.09842143952846527,-0.010852503590285778,0.358388751745224,-0.014459656551480293,-0.0034317360259592533,-0.03119114227592945,0.04236152768135071,0.04031164571642876,-0.001381913898512721,-0.04213228449225426,0.1418207436800003,0.30940014123916626,0.07132235914468765,-0.19212132692337036,-0.13950490951538086,-0.036892667412757874,0.12721239030361176,0.6422428488731384,-0.14054393768310547,0.04227612540125847,-0.09266854077577591,-0.09284152090549469,0.08608324825763702,0.15747246146202087,-0.19868715107440948,0.06451354920864105,-0.18913358449935913,0.16852451860904694,0.034905530512332916,-0.10127951949834824,-0.05937349423766136,-0.0945003405213356,0.6422428488731384,-0.11392513662576675,0.08085419237613678,0.047994814813137054,-0.08249243348836899,-0.21195271611213684,0.09133636951446533,-0.34881091117858887,-0.10993757098913193,0.05463073402643204,0.1490727663040161,0.28083932399749756,0.0635298565030098,0.061717916280031204,-0.049487438052892685,-0.007016772869974375,-0.05626864731311798,0.053087860345840454,0.03378942608833313,-0.2917710840702057,-0.07573352754116058,-0.1491124927997589,-0.10204422473907471,0.16052207350730896,0.2872232496738434,-0.3324674963951111,0.07963686436414719,-0.01705756224691868,-0.38909652829170227,-0.11266142874956131,0.021146591752767563,-0.04771338030695915,-0.07624000310897827,0.07217566668987274,0.1335473656654358,-0.23399893939495087,-0.15807321667671204,0.2064545750617981,-0.32905280590057373,-0.139618918299675,-0.18472769856452942,0.08890330791473389,-0.11989324539899826,-0.20407170057296753,-0.015888547524809837,-0.09058089554309845,-0.0991874560713768,-0.13412269949913025,0.3808614909648895,0.25833800435066223,-0.13879047334194183,-0.09391091018915176,0.07823938131332397,-0.09629740566015244,-0.0012797147501260042,-0.21999523043632507,-0.03449300676584244,0.02912522479891777,-0.28370675444602966,0.2692570984363556,-0.1079610288143158,0.27300503849983215,0.20500855147838593,0.13687676191329956,0.6422428488731384,0.3203428387641907,-0.020214073359966278,0.17696186900138855,0.5081345438957214,0.03269151225686073,0.10175968706607819,-0.06100785732269287,-0.02121734991669655,0.25083690881729126,-0.20490476489067078,0.017799146473407745,-0.09014218300580978,-0.29631704092025757,0.18355034291744232,-0.29522228240966797,0.20218174159526825,-0.264973521232605,-0.26863202452659607,-0.13632121682167053,-0.25229060649871826,-0.22428488731384277,0.21686965227127075,0.015269958414137363,-0.10333216935396194,-0.14657938480377197,0.043250199407339096,0.3290371298789978,0.19064880907535553,-0.10063189268112183,0.04710235819220543,-0.0335782952606678,0.0035299283917993307,0.030722729861736298,-0.39281389117240906,-0.12176492065191269,0.20393109321594238,-0.16735422611236572,-0.15207065641880035,-0.09118816256523132,0.1765044927597046,-0.10965662449598312,-0.1521184891462326,-0.08833912014961243,0.2445867508649826,-0.06342851370573044,0.04838027432560921,0.25420835614204407,0.01706727221608162,-0.020340505987405777,-0.12958435714244843,-0.27865973114967346,-0.31384071707725525,0.42991355061531067,-0.047988131642341614,-0.13428445160388947,-0.09986340999603271,-0.0159123744815588,-0.2093670666217804,-0.19801564514636993,-0.05825711041688919,0.12963461875915527,0.002623189240694046,-0.30694204568862915,0.22594165802001953,-0.0635802149772644,0.14565087854862213,0.038643669337034225,-0.07916626334190369,0.1022581160068512,0.06678678095340729,0.01904873363673687,-0.11833798140287399,-0.06570407003164291,-0.2587035298347473,-0.17476534843444824,-0.12157844752073288,0.0990222841501236,-0.032227203249931335,0.03389126434922218,-0.25945451855659485,-0.013152848929166794,-0.15067069232463837,-0.3098559081554413,-0.375386118888855,-0.005133789964020252,-0.29284313321113586,-0.11797812581062317,0.1645851582288742,0.05066285654902458,-0.0917089506983757,-0.0470379963517189,-0.08960452675819397,-0.0972781851887703,0.37242308259010315,0.07867477834224701,0.08032919466495514,0.04102160036563873,-0.13729718327522278,0.07273957133293152,-0.07461678981781006,-0.2053452432155609,-0.1374109983444214,-0.02274852618575096,0.03163456916809082,-0.2846178114414215,0.00397843262180686,-0.009047719649970531,-0.01668880134820938,0.20889046788215637,-0.12535056471824646,0.035750504583120346,-0.2772103548049927,0.39751631021499634,0.2532244920730591,-0.08049263805150986,-0.3242378234863281,-0.2544792592525482,0.13776282966136932,-0.2092828005552292,-0.014008699916303158,-0.33063486218452454,0.19082772731781006,-0.20215103030204773,-0.03957800939679146,-0.07872918993234634,0.0015970662934705615,-0.038216687738895416,-0.06374300271272659,-0.313864141702652,0.026004066690802574,-0.024844428524374962,0.24699640274047852,0.0047316537238657475,-0.040248047560453415,-0.019443470984697342,-0.0582786425948143,0.17066015303134918,0.11903656274080276,0.5385995507240295,0.13426806032657623,-0.005953056737780571,-0.19125734269618988,0.10740895569324493,-0.035625606775283813,0.07635091990232468,-0.19018018245697021,-0.035313572734594345,-0.2021401971578598,0.05120956897735596,-0.11359915882349014,0.30256718397140503,-0.03874856233596802,0.10330270230770111,0.08001889288425446,-0.22393915057182312,0.16811564564704895,0.01389666274189949,-0.02907467447221279,0.10424245148897171,0.09729906171560287,-0.049987681210041046,-0.12791414558887482,-0.18156062066555023,-0.0661766454577446,-0.16602464020252228,0.07389254868030548,0.03792954981327057,-0.039777424186468124,-0.08894889801740646,-0.047497592866420746,0.18975067138671875,-0.03946373239159584,-0.06954730302095413,-0.011544403620064259,-0.29806050658226013,0.05334668606519699,-0.3673325181007385,-0.07597143203020096,-0.006431956309825182,0.10218459367752075,0.019300060346722603,-0.07018794119358063,-0.00864375103265047,-0.07651937007904053,-0.1849328726530075,-0.06520155072212219,0.09994880110025406,-0.100510373711586,-0.07012021541595459,-0.04319362714886665,0.07200299203395844,-0.10799061506986618,-0.28581076860427856,0.12230928242206573,-0.1290685087442398,-0.048662640154361725,-0.08964627236127853,-0.12071555107831955,-0.38151371479034424,0.05869685113430023,-0.18412789702415466,0.1295967847108841,0.20514313876628876,-0.23798733949661255,-0.27913495898246765,-0.051715802401304245,-0.10137659311294556,0.022786684334278107,0.3453315198421478,0.16876809298992157,0.146797314286232,-0.10635030269622803,-0.2567708194255829,-0.01953905262053013,-0.05262421444058418,0.20090259611606598,0.21797966957092285,-0.11715616285800934,0.1405612975358963,0.10730292648077011,-0.13538150489330292,-0.038269318640232086,0.02970445156097412,0.013273227028548717,-0.07145218551158905,0.4657902121543884,-0.11742382496595383,-0.05287216976284981,0.028601622208952904,0.028752485290169716,-0.3169371485710144,-0.13934099674224854,0.6422428488731384,-0.0031962196808308363,-0.07533679157495499,-0.26043155789375305,-0.009002306498587132,-0.00022122851805761456,0.09350001066923141,0.03909553959965706,-0.025178052484989166,0.1000300943851471,-0.11835826188325882,-0.061619579792022705,-0.33948612213134766,0.18055208027362823,0.07263877242803574,0.16251559555530548,0.2588919699192047,-0.03687836974859238,-0.19120581448078156,0.208892822265625,0.27588969469070435,-0.06487367302179337,0.09108326584100723,0.2591157853603363,-0.11357355862855911,-0.14565972983837128,-0.1797644942998886,-0.09852582961320877,-0.026082389056682587,-0.16407836973667145,0.16698214411735535,0.6422428488731384,0.6422428488731384,0.4748944640159607,0.21375672519207,0.6422428488731384,-0.19805604219436646,0.17512699961662292,0.2927559018135071,0.09719596058130264,0.0037601199001073837,0.6422428488731384,0.43864691257476807,-0.03156315162777901,0.6422428488731384,-0.19059647619724274,-0.035359591245651245,0.018586480990052223,-0.011822016909718513,-0.14879025518894196,-0.03942286968231201,-0.07439038157463074,-0.08012332767248154,-0.033337462693452835,-0.0736771896481514,0.0150825260207057,0.030105946585536003,-0.312483549118042,0.2866261899471283,0.18544194102287292,0.09958314150571823,0.6422428488731384,0.6422428488731384,0.6422428488731384,0.3306654393672943,0.1005716398358345,0.0638182982802391,0.2686202824115753,0.10920754820108414],\"xaxis\":\"x\",\"y\":[-0.33223092555999756,-0.25226539373397827,-0.2767890989780426,0.11814917623996735,0.01263266522437334,-0.2486436665058136,0.2455265372991562,0.18446697294712067,0.08427723497152328,-0.17413121461868286,-0.08274516463279724,-0.1555703580379486,-0.19316977262496948,0.09368675947189331,0.15115079283714294,0.02243121899664402,0.35991793870925903,-0.13675153255462646,0.1293943077325821,0.22493764758110046,0.14279749989509583,0.10306986421346664,0.15089033544063568,-0.13669392466545105,-0.03974650427699089,0.0048882137052714825,-0.05979384109377861,0.08992087095975876,0.06961539387702942,0.005288573447614908,-0.2870657742023468,0.13818888366222382,-0.010931693948805332,0.1884598284959793,-0.21838968992233276,-0.03243741765618324,0.27898818254470825,-0.20496702194213867,0.06520310044288635,0.03814415633678436,0.37235012650489807,-0.03411835804581642,-0.08247807621955872,-0.0045987628400325775,0.06457166373729706,0.07300225645303726,0.03105798177421093,0.04197075217962265,0.15517239272594452,-0.18190599977970123,-0.18645499646663666,0.032655250281095505,-0.1290893852710724,0.1026693657040596,0.4081002473831177,0.010510322637856007,0.4741637110710144,0.23465077579021454,0.04908030852675438,0.03468723222613335,-0.1398804932832718,-0.1796124130487442,-0.0585964098572731,-0.0662495419383049,-0.05699998140335083,-0.028974104672670364,-0.14819996058940887,-0.0834900438785553,0.06504150480031967,0.15214961767196655,0.384731262922287,0.4738101661205292,-0.019657224416732788,-0.25218766927719116,-0.04999076575040817,-0.014282001182436943,-0.16861532628536224,-0.026952499523758888,0.005288573447614908,0.36194732785224915,0.33220401406288147,-0.12922528386116028,0.065887451171875,-0.1022852435708046,-0.09258817136287689,-0.16808079183101654,-0.11406358331441879,0.02995220199227333,-0.04423776641488075,-0.08634965866804123,-0.16935749351978302,0.31827646493911743,0.22765111923217773,-0.059048719704151154,-0.13437512516975403,-0.3133627772331238,-0.011898929253220558,0.09773528575897217,0.05583353340625763,-0.056367721408605576,0.23659197986125946,-0.13152728974819183,0.37732353806495667,0.22922131419181824,0.02603207714855671,-0.19220148026943207,-0.028162026777863503,0.12771573662757874,0.16480855643749237,0.09475542604923248,-0.24370482563972473,-0.17528480291366577,0.16821987926959991,-0.3241937458515167,0.0784626230597496,-0.3252997100353241,-0.007478576619178057,-0.031258273869752884,0.0270987581461668,0.07494556158781052,-0.22635413706302643,-0.08200306445360184,0.06578955799341202,-0.24537599086761475,0.2581634819507599,-0.18063589930534363,0.05524059012532234,-0.04726988077163696,-0.03634841367602348,-0.09243498742580414,0.2922137677669525,0.24998167157173157,-0.020494282245635986,-0.07508739829063416,-0.18866994976997375,-0.19368259608745575,0.10126231610774994,0.04596041887998581,0.3346835672855377,0.05255827680230141,-0.017799533903598785,0.19158224761486053,0.38259199261665344,-0.06460648030042648,-0.11237826198339462,-0.17988072335720062,0.31328824162483215,-0.24376577138900757,-0.10087273269891739,-0.37326472997665405,-0.1310574859380722,-0.21911069750785828,-0.11343367397785187,0.268503338098526,-0.236808180809021,-0.04715883731842041,-0.40528348088264465,-0.3171822428703308,-0.11222370713949203,-0.305117130279541,-0.1563905030488968,-0.04592518135905266,-0.028491109609603882,0.17634057998657227,-0.0518859326839447,0.09377067536115646,0.10408028215169907,-0.19253785908222198,0.0017648584907874465,-0.15151070058345795,0.01787007600069046,0.2807203531265259,-0.1204579547047615,0.12126553803682327,0.1337510645389557,-0.008722894825041294,-0.16176970303058624,0.2158091962337494,0.05441217124462128,-0.15139494836330414,-0.24005283415317535,0.02985558472573757,0.40046626329421997,0.36320045590400696,0.015471382066607475,0.06560046225786209,-0.0981321781873703,0.018313419073820114,0.10325438529253006,0.00238063489086926,0.20563679933547974,0.023382553830742836,0.05776377394795418,-0.1180892065167427,-0.1253080517053604,0.15918146073818207,-0.030484605580568314,0.004987446591258049,-0.2976346015930176,0.26690810918807983,-0.16762912273406982,0.08076176047325134,-0.03158590942621231,0.265596479177475,-0.07024741172790527,-0.12905244529247284,0.01717909798026085,-0.03126205503940582,0.05718538165092468,-0.2799842357635498,0.10294069349765778,-0.047061409801244736,-0.04020921140909195,0.30591240525245667,0.21397361159324646,0.19688954949378967,-0.3640686273574829,-0.023470493033528328,-0.13320554792881012,0.008513509295880795,-0.10383740812540054,0.12782317399978638,0.006276664324104786,-0.07129646092653275,-0.2653391361236572,0.20171424746513367,-0.1029103547334671,0.18596751987934113,-0.18137381970882416,0.404487669467926,0.23073303699493408,0.35981833934783936,0.18931032717227936,0.040336694568395615,0.34740832448005676,-0.12719900906085968,0.024751540273427963,0.10725514590740204,0.09110391139984131,0.22993044555187225,0.10396956652402878,-0.19927334785461426,-0.048715267330408096,0.1243487000465393,0.07134778797626495,-0.01518239825963974,0.04917421191930771,0.10783460736274719,-0.015957897529006004,-0.08100748062133789,-0.030216190963983536,-0.09197354316711426,-0.28380286693573,0.0041599092073738575,-0.1351875215768814,0.06729255616664886,-0.14315518736839294,-0.3660004734992981,-0.018880551680922508,-0.1327836662530899,0.14212757349014282,-0.1483948975801468,0.03961930423974991,-0.07017526775598526,0.06384336203336716,0.07162462174892426,-0.08530628681182861,0.005288573447614908,-0.026075538247823715,0.4128180742263794,0.06461919844150543,0.07547935843467712,0.4042776823043823,-0.3747161626815796,0.2789362967014313,0.18759889900684357,0.21463066339492798,0.11167454719543457,0.4452302157878876,0.003307316219434142,-0.11428841203451157,-0.20671997964382172,0.012995186261832714,-0.0930640920996666,0.13903844356536865,-0.1190105453133583,-0.009733958169817924,-0.19407927989959717,-0.4176101088523865,-0.33925923705101013,-0.16365933418273926,0.3140566051006317,0.014681663364171982,0.011222359724342823,0.0600963830947876,0.07314252853393555,-0.03671769052743912,-0.2788774371147156,-0.22774215042591095,0.0687011182308197,-0.0782649964094162,-0.21358782052993774,-0.16661547124385834,0.11357062309980392,-0.11645732820034027,-0.04959295317530632,-0.09260089695453644,0.20047947764396667,0.00041885816608555615,0.033216122537851334,0.13587746024131775,-0.13372954726219177,-0.14205262064933777,0.2494339495897293,-0.05273449048399925,-0.15691201388835907,-0.06552994251251221,-0.17261642217636108,-0.035043586045503616,0.04823799431324005,0.26131942868232727,-0.4077118933200836,0.014658194966614246,-0.13798893988132477,-0.14187170565128326,0.07413724809885025,-0.15108585357666016,0.17670105397701263,0.13660863041877747,-0.054812584072351456,0.028558669611811638,0.09715031832456589,0.1273326426744461,0.07705993950366974,0.19698892533779144,0.10498397052288055,0.15860790014266968,0.19417276978492737,0.17217101156711578,-0.14935849606990814,0.3372686505317688,0.056567396968603134,0.1466357707977295,-0.26143768429756165,0.2541278600692749,0.1034972071647644,0.014329020865261555,7.47538942960091e-05,0.201568603515625,0.1366548091173172,0.04820272698998451,0.04883817583322525,-0.2255735546350479,-0.05035671219229698,-0.16628827154636383,-0.04437381774187088,0.07854867726564407,-0.19566361606121063,-0.0762578547000885,-0.23497231304645538,-0.052351851016283035,0.22490118443965912,0.0422530472278595,-0.010871968232095242,0.49118027091026306,-0.10095621645450592,-0.13533172011375427,-0.08288117498159409,-0.11182865500450134,-0.10589979588985443,-0.004214878659695387,0.0384845957159996,0.13302917778491974,-0.24586647748947144,0.07575032860040665,0.3296772837638855,0.17039401829242706,-0.02921522967517376,-0.0003509709786158055,0.07379955798387527,-0.001237476826645434,0.0005781243671663105,0.10872802883386612,0.237542062997818,-0.10700451582670212,0.005288573447614908,0.28024929761886597,0.16254015266895294,-0.260602742433548,0.17637482285499573,-0.07594780623912811,-0.19444003701210022,0.25263512134552,0.2867300808429718,0.2459266185760498,0.3524814546108246,-0.2740592956542969,-0.021415438503026962,-0.25319111347198486,0.0295790396630764,0.005288573447614908,0.23317326605319977,-0.020394356921315193,0.05093615502119064,0.10120593011379242,0.02869059145450592,0.2041330188512802,-0.05140107497572899,-0.045754313468933105,0.06742610782384872,-0.19474346935749054,-0.21836043894290924,0.21384450793266296,-0.12086138874292374,-0.050049275159835815,0.12675721943378448,-0.022554714232683182,0.14058397710323334,-0.07319130748510361,0.16932691633701324,0.11687695980072021,-0.042390722781419754,-0.08580714464187622,0.08887431770563126,-0.05461709946393967,-0.03159694746136665,-0.2835947573184967,-0.34256821870803833,0.007605297956615686,-0.016941169276833534,0.12747722864151,-0.017075886949896812,-0.0032566781155765057,-0.20247627794742584,0.18677811324596405,0.032025378197431564,0.0305793434381485,0.06738638132810593,-0.033746387809515,0.11361747980117798,-0.06158226355910301,0.012712872587144375,0.09152048081159592,0.2173786163330078,0.25394290685653687,0.19258901476860046,-0.08287770301103592,0.011724901385605335,0.05001717433333397,0.30003124475479126,-0.047977861016988754,0.3554352819919586,-0.2743280529975891,-0.17761290073394775,-0.17630597949028015,-0.10462861508131027,0.011696116998791695,0.2027311623096466,-0.1169627457857132,0.04891362413764,0.10027152299880981,-0.13181717693805695,0.47833287715911865,0.11870784312486649,0.005288573447614908,-0.05049993470311165,0.2764144241809845,-0.0283595509827137,-0.04410393908619881,0.30391499400138855,0.025506656616926193,-0.2893831431865692,0.2664475440979004,0.015295508317649364,0.08054278790950775,0.37753868103027344,0.2665373682975769,-0.00928791705518961,-0.02941373735666275,0.017241155728697777,-0.21092095971107483,-0.10267956554889679,0.056741997599601746,0.07189998775720596,-0.029914408922195435,0.021353650838136673,-0.21792231500148773,0.19945529103279114,0.053441546857357025,0.015962637960910797,0.012455252930521965,0.2087150365114212,-0.17896515130996704,-0.1869107186794281,-0.13369165360927582,0.1295659989118576,0.1165255606174469,-0.13420253992080688,-0.19777241349220276,0.004741710145026445,-0.21552878618240356,0.12502363324165344,-0.019147126004099846,0.024824080988764763,0.06893731653690338,0.034320369362831116,-0.1630409210920334,-0.050907377153635025,-0.013875972479581833,0.002645005937665701,0.061945751309394836,0.1299058049917221,-0.21523290872573853,-0.11256337910890579,-0.3089638650417328,-0.2299465388059616,-0.2571589946746826,-0.10385731607675552,-0.024677028879523277,-0.07388629764318466,0.16043907403945923,0.17183631658554077,-0.18951734900474548,-0.09667515754699707,-0.020307553932070732,0.3172823488712311,0.2717062532901764,-0.17321084439754486,-0.2482035756111145,-0.18318918347358704,0.005899587646126747,0.0456143282353878,0.10079976916313171,0.5152211785316467,0.09995893388986588,0.15186262130737305,0.05049661919474602,0.07397457957267761,0.05214778706431389,0.07606926560401917,0.07827050238847733,0.10096786916255951,-0.035252366214990616,-0.15175488591194153,0.11774351447820663,-0.02448159083724022,0.16989001631736755,-0.08433626592159271,-0.1114765852689743,0.016162525862455368,-0.06954491138458252,-0.0454203337430954,-0.03988313674926758,0.10049804300069809,0.02589384652674198,-0.11908326297998428,-0.03120531514286995,0.012038479559123516,0.02937285788357258,-0.3550030589103699,-0.00624714745208621,-0.2067403346300125,-0.12292258441448212,-0.11748252809047699,0.012724148109555244,0.27239999175071716,0.005911191459745169,-0.13952989876270294,-0.20954251289367676,0.14244937896728516,-0.0654134601354599,0.2368234395980835,0.4630791246891022,-0.03225585073232651,-0.21007709205150604,0.3205246329307556,0.12117939442396164,-0.20255522429943085,0.024026840925216675,-0.12581390142440796,0.05319327861070633,0.012146303430199623,0.21062244474887848,0.09299777448177338,-0.13594205677509308,-0.15878859162330627,0.008657819591462612,-0.33938026428222656,-0.22799617052078247,-0.17998161911964417,0.002873311284929514,-0.253682941198349,-0.07737019658088684,0.06674350798130035,0.006506140343844891,-0.24095909297466278,-0.22238418459892273,0.08681418001651764,-0.10639922320842743,0.19536955654621124,0.22242915630340576,-0.0859610065817833,-0.2934238910675049,-0.11451809853315353,-0.1600140631198883,-0.1356538087129593,-0.3417847752571106,0.326560378074646,-0.1870184689760208,-0.2208758294582367,0.1799391806125641,0.03626338765025139,0.30197593569755554,-0.042555905878543854,-0.11733271926641464,-0.0603998526930809,0.048450738191604614,0.34615203738212585,0.42527270317077637,0.037495411932468414,-0.1415553241968155,-0.13271714746952057,0.3059360980987549,0.3425211012363434,0.3057880401611328,0.11912952363491058,0.058884769678115845,0.20260071754455566,0.2320997416973114,0.02750927023589611,-0.2676096558570862,-0.01894560270011425,-0.08872753381729126,0.17206048965454102,0.3365195095539093,-0.11569671332836151,0.09522740542888641,0.41526076197624207,0.11625052988529205,-0.09463369101285934,0.22114640474319458,-0.007302999030798674,0.19125652313232422,0.3021782338619232,-0.21865737438201904,-0.02062060497701168,0.1302274763584137,-0.04551005735993385,-0.2516631782054901,-0.03587893769145012,-0.19386924803256989,0.04211555793881416,-0.16275840997695923,-0.14507997035980225,-0.3582362234592438,-0.3348775804042816,0.012548491358757019,-0.13072581589221954,-0.14501884579658508,-0.13063882291316986,-0.08295462280511856,-0.22065967321395874,-0.049148041754961014,0.018354639410972595,0.012712918221950531,-0.0854344367980957,-0.09119820594787598,-0.2513265907764435,-0.07038705050945282,0.03915652260184288,-0.13526159524917603,0.028013654053211212,0.14555475115776062,-0.07419487833976746,0.11628653109073639,-0.3284488022327423,-0.32973048090934753,0.019944865256547928,-0.28099068999290466,-0.052803002297878265,-0.026235230267047882,0.23302488029003143,-0.20155735313892365,0.07437855750322342,-0.0934947207570076,-0.26230713725090027,0.052626341581344604,0.17892156541347504,-0.2904229760169983,0.3615241050720215,0.06189239025115967,-0.03644917905330658,-0.30349862575531006,-0.11046774685382843,0.0031980378553271294,-0.06041690334677696,-0.2576984763145447,0.005288573447614908,-0.1741223782300949,0.09953360259532928,-0.35457468032836914,0.2739753723144531,-0.031380295753479004,0.08252400159835815,0.29883942008018494,-0.00020166300237178802,-0.23746582865715027,-0.23155295848846436,0.08895997703075409,-0.16778452694416046,-0.1106298416852951,0.12785889208316803,0.08237060159444809,-0.10020820051431656,-0.19406922161579132,0.11750561743974686,0.43150877952575684,0.1468787044286728,0.3515757620334625,-0.13645203411579132,-0.07265404611825943,-0.05535796657204628,0.1560584455728531,0.18212425708770752,-0.015364808961749077,0.016698623076081276,0.06285199522972107,-0.19214856624603271,0.005288573447614908,0.005288573447614908,-0.1014270931482315,-0.16331256926059723,0.005288573447614908,-0.23057126998901367,-0.09162402153015137,-0.2782588005065918,-0.11443784087896347,0.030933449044823647,0.005288573447614908,0.050412703305482864,0.0032248084899038076,0.005288573447614908,-0.03866618871688843,0.2656271457672119,-0.2168179303407669,-0.2258298695087433,-0.1296931654214859,-0.10714047402143478,-0.08551714569330215,-0.09704891592264175,-0.11368236690759659,-0.07660714536905289,0.10120504349470139,-0.2349880337715149,0.0998668447136879,-0.26052412390708923,-0.23227429389953613,-0.26521724462509155,0.005288573447614908,0.005288573447614908,0.005288573447614908,-0.2738916277885437,0.037504591047763824,-0.12465029954910278,0.004020158667117357,-0.10316256433725357],\"yaxis\":\"y\",\"type\":\"scatter\"},{\"customdata\":[[\"OpenKiwi: An Open Source Framework for Quality Estimation\"],[\"Zero-shot Word Sense Disambiguation using Sense Definition Embeddings\"],[\"Transferable Multi-Domain State Generator for Task-Oriented Dialogue Systems\"],[\"A Simple Theoretical Model of Importance for Summarization\"],[\"We need to talk about standard splits\"]],\"hovertemplate\":\"award=award<br>x1=%{x}<br>x2=%{y}<br>hover_data_0=%{customdata[0]}<extra></extra>\",\"legendgroup\":\"award\",\"marker\":{\"color\":\"#EF553B\",\"symbol\":\"circle\"},\"mode\":\"markers\",\"name\":\"award\",\"orientation\":\"v\",\"showlegend\":true,\"x\":[-0.15702363848686218,-0.07440492510795593,-0.043102554976940155,0.11756899952888489,0.12427932769060135],\"xaxis\":\"x\",\"y\":[-0.10871397703886032,-0.1231655552983284,0.3014538586139679,0.08368076384067535,-0.06524422019720078],\"yaxis\":\"y\",\"type\":\"scatter\"}],                        {\"template\":{\"data\":{\"histogram2dcontour\":[{\"type\":\"histogram2dcontour\",\"colorbar\":{\"outlinewidth\":0,\"ticks\":\"\"},\"colorscale\":[[0.0,\"#0d0887\"],[0.1111111111111111,\"#46039f\"],[0.2222222222222222,\"#7201a8\"],[0.3333333333333333,\"#9c179e\"],[0.4444444444444444,\"#bd3786\"],[0.5555555555555556,\"#d8576b\"],[0.6666666666666666,\"#ed7953\"],[0.7777777777777778,\"#fb9f3a\"],[0.8888888888888888,\"#fdca26\"],[1.0,\"#f0f921\"]]}],\"choropleth\":[{\"type\":\"choropleth\",\"colorbar\":{\"outlinewidth\":0,\"ticks\":\"\"}}],\"histogram2d\":[{\"type\":\"histogram2d\",\"colorbar\":{\"outlinewidth\":0,\"ticks\":\"\"},\"colorscale\":[[0.0,\"#0d0887\"],[0.1111111111111111,\"#46039f\"],[0.2222222222222222,\"#7201a8\"],[0.3333333333333333,\"#9c179e\"],[0.4444444444444444,\"#bd3786\"],[0.5555555555555556,\"#d8576b\"],[0.6666666666666666,\"#ed7953\"],[0.7777777777777778,\"#fb9f3a\"],[0.8888888888888888,\"#fdca26\"],[1.0,\"#f0f921\"]]}],\"heatmap\":[{\"type\":\"heatmap\",\"colorbar\":{\"outlinewidth\":0,\"ticks\":\"\"},\"colorscale\":[[0.0,\"#0d0887\"],[0.1111111111111111,\"#46039f\"],[0.2222222222222222,\"#7201a8\"],[0.3333333333333333,\"#9c179e\"],[0.4444444444444444,\"#bd3786\"],[0.5555555555555556,\"#d8576b\"],[0.6666666666666666,\"#ed7953\"],[0.7777777777777778,\"#fb9f3a\"],[0.8888888888888888,\"#fdca26\"],[1.0,\"#f0f921\"]]}],\"heatmapgl\":[{\"type\":\"heatmapgl\",\"colorbar\":{\"outlinewidth\":0,\"ticks\":\"\"},\"colorscale\":[[0.0,\"#0d0887\"],[0.1111111111111111,\"#46039f\"],[0.2222222222222222,\"#7201a8\"],[0.3333333333333333,\"#9c179e\"],[0.4444444444444444,\"#bd3786\"],[0.5555555555555556,\"#d8576b\"],[0.6666666666666666,\"#ed7953\"],[0.7777777777777778,\"#fb9f3a\"],[0.8888888888888888,\"#fdca26\"],[1.0,\"#f0f921\"]]}],\"contourcarpet\":[{\"type\":\"contourcarpet\",\"colorbar\":{\"outlinewidth\":0,\"ticks\":\"\"}}],\"contour\":[{\"type\":\"contour\",\"colorbar\":{\"outlinewidth\":0,\"ticks\":\"\"},\"colorscale\":[[0.0,\"#0d0887\"],[0.1111111111111111,\"#46039f\"],[0.2222222222222222,\"#7201a8\"],[0.3333333333333333,\"#9c179e\"],[0.4444444444444444,\"#bd3786\"],[0.5555555555555556,\"#d8576b\"],[0.6666666666666666,\"#ed7953\"],[0.7777777777777778,\"#fb9f3a\"],[0.8888888888888888,\"#fdca26\"],[1.0,\"#f0f921\"]]}],\"surface\":[{\"type\":\"surface\",\"colorbar\":{\"outlinewidth\":0,\"ticks\":\"\"},\"colorscale\":[[0.0,\"#0d0887\"],[0.1111111111111111,\"#46039f\"],[0.2222222222222222,\"#7201a8\"],[0.3333333333333333,\"#9c179e\"],[0.4444444444444444,\"#bd3786\"],[0.5555555555555556,\"#d8576b\"],[0.6666666666666666,\"#ed7953\"],[0.7777777777777778,\"#fb9f3a\"],[0.8888888888888888,\"#fdca26\"],[1.0,\"#f0f921\"]]}],\"mesh3d\":[{\"type\":\"mesh3d\",\"colorbar\":{\"outlinewidth\":0,\"ticks\":\"\"}}],\"scatter\":[{\"fillpattern\":{\"fillmode\":\"overlay\",\"size\":10,\"solidity\":0.2},\"type\":\"scatter\"}],\"parcoords\":[{\"type\":\"parcoords\",\"line\":{\"colorbar\":{\"outlinewidth\":0,\"ticks\":\"\"}}}],\"scatterpolargl\":[{\"type\":\"scatterpolargl\",\"marker\":{\"colorbar\":{\"outlinewidth\":0,\"ticks\":\"\"}}}],\"bar\":[{\"error_x\":{\"color\":\"#2a3f5f\"},\"error_y\":{\"color\":\"#2a3f5f\"},\"marker\":{\"line\":{\"color\":\"#E5ECF6\",\"width\":0.5},\"pattern\":{\"fillmode\":\"overlay\",\"size\":10,\"solidity\":0.2}},\"type\":\"bar\"}],\"scattergeo\":[{\"type\":\"scattergeo\",\"marker\":{\"colorbar\":{\"outlinewidth\":0,\"ticks\":\"\"}}}],\"scatterpolar\":[{\"type\":\"scatterpolar\",\"marker\":{\"colorbar\":{\"outlinewidth\":0,\"ticks\":\"\"}}}],\"histogram\":[{\"marker\":{\"pattern\":{\"fillmode\":\"overlay\",\"size\":10,\"solidity\":0.2}},\"type\":\"histogram\"}],\"scattergl\":[{\"type\":\"scattergl\",\"marker\":{\"colorbar\":{\"outlinewidth\":0,\"ticks\":\"\"}}}],\"scatter3d\":[{\"type\":\"scatter3d\",\"line\":{\"colorbar\":{\"outlinewidth\":0,\"ticks\":\"\"}},\"marker\":{\"colorbar\":{\"outlinewidth\":0,\"ticks\":\"\"}}}],\"scattermapbox\":[{\"type\":\"scattermapbox\",\"marker\":{\"colorbar\":{\"outlinewidth\":0,\"ticks\":\"\"}}}],\"scatterternary\":[{\"type\":\"scatterternary\",\"marker\":{\"colorbar\":{\"outlinewidth\":0,\"ticks\":\"\"}}}],\"scattercarpet\":[{\"type\":\"scattercarpet\",\"marker\":{\"colorbar\":{\"outlinewidth\":0,\"ticks\":\"\"}}}],\"carpet\":[{\"aaxis\":{\"endlinecolor\":\"#2a3f5f\",\"gridcolor\":\"white\",\"linecolor\":\"white\",\"minorgridcolor\":\"white\",\"startlinecolor\":\"#2a3f5f\"},\"baxis\":{\"endlinecolor\":\"#2a3f5f\",\"gridcolor\":\"white\",\"linecolor\":\"white\",\"minorgridcolor\":\"white\",\"startlinecolor\":\"#2a3f5f\"},\"type\":\"carpet\"}],\"table\":[{\"cells\":{\"fill\":{\"color\":\"#EBF0F8\"},\"line\":{\"color\":\"white\"}},\"header\":{\"fill\":{\"color\":\"#C8D4E3\"},\"line\":{\"color\":\"white\"}},\"type\":\"table\"}],\"barpolar\":[{\"marker\":{\"line\":{\"color\":\"#E5ECF6\",\"width\":0.5},\"pattern\":{\"fillmode\":\"overlay\",\"size\":10,\"solidity\":0.2}},\"type\":\"barpolar\"}],\"pie\":[{\"automargin\":true,\"type\":\"pie\"}]},\"layout\":{\"autotypenumbers\":\"strict\",\"colorway\":[\"#636efa\",\"#EF553B\",\"#00cc96\",\"#ab63fa\",\"#FFA15A\",\"#19d3f3\",\"#FF6692\",\"#B6E880\",\"#FF97FF\",\"#FECB52\"],\"font\":{\"color\":\"#2a3f5f\"},\"hovermode\":\"closest\",\"hoverlabel\":{\"align\":\"left\"},\"paper_bgcolor\":\"white\",\"plot_bgcolor\":\"#E5ECF6\",\"polar\":{\"bgcolor\":\"#E5ECF6\",\"angularaxis\":{\"gridcolor\":\"white\",\"linecolor\":\"white\",\"ticks\":\"\"},\"radialaxis\":{\"gridcolor\":\"white\",\"linecolor\":\"white\",\"ticks\":\"\"}},\"ternary\":{\"bgcolor\":\"#E5ECF6\",\"aaxis\":{\"gridcolor\":\"white\",\"linecolor\":\"white\",\"ticks\":\"\"},\"baxis\":{\"gridcolor\":\"white\",\"linecolor\":\"white\",\"ticks\":\"\"},\"caxis\":{\"gridcolor\":\"white\",\"linecolor\":\"white\",\"ticks\":\"\"}},\"coloraxis\":{\"colorbar\":{\"outlinewidth\":0,\"ticks\":\"\"}},\"colorscale\":{\"sequential\":[[0.0,\"#0d0887\"],[0.1111111111111111,\"#46039f\"],[0.2222222222222222,\"#7201a8\"],[0.3333333333333333,\"#9c179e\"],[0.4444444444444444,\"#bd3786\"],[0.5555555555555556,\"#d8576b\"],[0.6666666666666666,\"#ed7953\"],[0.7777777777777778,\"#fb9f3a\"],[0.8888888888888888,\"#fdca26\"],[1.0,\"#f0f921\"]],\"sequentialminus\":[[0.0,\"#0d0887\"],[0.1111111111111111,\"#46039f\"],[0.2222222222222222,\"#7201a8\"],[0.3333333333333333,\"#9c179e\"],[0.4444444444444444,\"#bd3786\"],[0.5555555555555556,\"#d8576b\"],[0.6666666666666666,\"#ed7953\"],[0.7777777777777778,\"#fb9f3a\"],[0.8888888888888888,\"#fdca26\"],[1.0,\"#f0f921\"]],\"diverging\":[[0,\"#8e0152\"],[0.1,\"#c51b7d\"],[0.2,\"#de77ae\"],[0.3,\"#f1b6da\"],[0.4,\"#fde0ef\"],[0.5,\"#f7f7f7\"],[0.6,\"#e6f5d0\"],[0.7,\"#b8e186\"],[0.8,\"#7fbc41\"],[0.9,\"#4d9221\"],[1,\"#276419\"]]},\"xaxis\":{\"gridcolor\":\"white\",\"linecolor\":\"white\",\"ticks\":\"\",\"title\":{\"standoff\":15},\"zerolinecolor\":\"white\",\"automargin\":true,\"zerolinewidth\":2},\"yaxis\":{\"gridcolor\":\"white\",\"linecolor\":\"white\",\"ticks\":\"\",\"title\":{\"standoff\":15},\"zerolinecolor\":\"white\",\"automargin\":true,\"zerolinewidth\":2},\"scene\":{\"xaxis\":{\"backgroundcolor\":\"#E5ECF6\",\"gridcolor\":\"white\",\"linecolor\":\"white\",\"showbackground\":true,\"ticks\":\"\",\"zerolinecolor\":\"white\",\"gridwidth\":2},\"yaxis\":{\"backgroundcolor\":\"#E5ECF6\",\"gridcolor\":\"white\",\"linecolor\":\"white\",\"showbackground\":true,\"ticks\":\"\",\"zerolinecolor\":\"white\",\"gridwidth\":2},\"zaxis\":{\"backgroundcolor\":\"#E5ECF6\",\"gridcolor\":\"white\",\"linecolor\":\"white\",\"showbackground\":true,\"ticks\":\"\",\"zerolinecolor\":\"white\",\"gridwidth\":2}},\"shapedefaults\":{\"line\":{\"color\":\"#2a3f5f\"}},\"annotationdefaults\":{\"arrowcolor\":\"#2a3f5f\",\"arrowhead\":0,\"arrowwidth\":1},\"geo\":{\"bgcolor\":\"white\",\"landcolor\":\"#E5ECF6\",\"subunitcolor\":\"white\",\"showland\":true,\"showlakes\":true,\"lakecolor\":\"white\"},\"title\":{\"x\":0.05},\"mapbox\":{\"style\":\"light\"}}},\"xaxis\":{\"anchor\":\"y\",\"domain\":[0.0,1.0],\"title\":{\"text\":\"x1\"}},\"yaxis\":{\"anchor\":\"x\",\"domain\":[0.0,1.0],\"title\":{\"text\":\"x2\"}},\"legend\":{\"title\":{\"text\":\"award\"},\"tracegroupgap\":0},\"margin\":{\"t\":60}},                        {\"responsive\": true}                    ).then(function(){\n",
       "                            \n",
       "var gd = document.getElementById('c10de818-ff10-4821-8e0f-6d7a2bbe0542');\n",
       "var x = new MutationObserver(function (mutations, observer) {{\n",
       "        var display = window.getComputedStyle(gd).display;\n",
       "        if (!display || display === 'none') {{\n",
       "            console.log([gd, 'removed!']);\n",
       "            Plotly.purge(gd);\n",
       "            observer.disconnect();\n",
       "        }}\n",
       "}});\n",
       "\n",
       "// Listen for the removal of the full notebook cells\n",
       "var notebookContainer = gd.closest('#notebook-container');\n",
       "if (notebookContainer) {{\n",
       "    x.observe(notebookContainer, {childList: true});\n",
       "}}\n",
       "\n",
       "// Listen for the clearing of the current output cell\n",
       "var outputEl = gd.closest('.output');\n",
       "if (outputEl) {{\n",
       "    x.observe(outputEl, {childList: true});\n",
       "}}\n",
       "\n",
       "                        })                };                });            </script>        </div>"
      ]
     },
     "metadata": {},
     "output_type": "display_data"
    }
   ],
   "source": [
    "import plotly.express as px\n",
    "fig = px.scatter(pcx_2019, x=\"x1\", y=\"x2\", color=\"award\", hover_data=[pcx_2019['title'].values])\n",
    "fig.show()\n",
    "fig.update_layout(title=f\"Best Paper in 2019\")\n",
    "fig.write_html(f\"BestPaper_2019(SBERT).html\")"
   ]
  },
  {
   "cell_type": "markdown",
   "metadata": {},
   "source": [
    "# 乾研究室の論文を可視化"
   ]
  },
  {
   "cell_type": "code",
   "execution_count": 105,
   "metadata": {},
   "outputs": [],
   "source": [
    "award_inui_lab = ['An Empirical Study of Span Representations in Argumentation Structure Parsing']"
   ]
  },
  {
   "cell_type": "code",
   "execution_count": 106,
   "metadata": {},
   "outputs": [
    {
     "data": {
      "text/html": [
       "<div>\n",
       "<style scoped>\n",
       "    .dataframe tbody tr th:only-of-type {\n",
       "        vertical-align: middle;\n",
       "    }\n",
       "\n",
       "    .dataframe tbody tr th {\n",
       "        vertical-align: top;\n",
       "    }\n",
       "\n",
       "    .dataframe thead th {\n",
       "        text-align: right;\n",
       "    }\n",
       "</style>\n",
       "<table border=\"1\" class=\"dataframe\">\n",
       "  <thead>\n",
       "    <tr style=\"text-align: right;\">\n",
       "      <th></th>\n",
       "      <th>title</th>\n",
       "      <th>award</th>\n",
       "      <th>lab_or_not</th>\n",
       "      <th>x1</th>\n",
       "      <th>x2</th>\n",
       "    </tr>\n",
       "  </thead>\n",
       "  <tbody>\n",
       "    <tr>\n",
       "      <th>55</th>\n",
       "      <td>An Empirical Study of Span Representations in ...</td>\n",
       "      <td>normal</td>\n",
       "      <td>inuilab</td>\n",
       "      <td>0.069993</td>\n",
       "      <td>0.01051</td>\n",
       "    </tr>\n",
       "  </tbody>\n",
       "</table>\n",
       "</div>"
      ],
      "text/plain": [
       "                                                title   award lab_or_not  \\\n",
       "55  An Empirical Study of Span Representations in ...  normal    inuilab   \n",
       "\n",
       "          x1       x2  \n",
       "55  0.069993  0.01051  "
      ]
     },
     "execution_count": 106,
     "metadata": {},
     "output_type": "execute_result"
    }
   ],
   "source": [
    "for index, row in pcx_2019.iterrows():\n",
    "    if (row['title'] in award_inui_lab):\n",
    "        pcx_2019.iat[index, 2] = 'inuilab'\n",
    "\n",
    "pcx_2019[pcx_2019['lab_or_not'] == 'inuilab']"
   ]
  },
  {
   "cell_type": "code",
   "execution_count": 109,
   "metadata": {},
   "outputs": [
    {
     "data": {
      "application/vnd.plotly.v1+json": {
       "config": {
        "plotlyServerURL": "https://plot.ly"
       },
       "data": [
        {
         "customdata": [
          [
           "Counterfactual Data Augmentation for Mitigating Gender Stereotypes in Languages with Rich Morphology"
          ],
          [
           "Unsupervised Discovery of Gendered Language through Latent-Variable Modeling"
          ],
          [
           "Margin-based Parallel Corpus Mining with Multilingual Sentence Embeddings"
          ],
          [
           "Searching for Effective Neural Extractive Summarization: What Works and What's Next"
          ],
          [
           "Style Transformer: Unpaired Text Style Transfer without Disentangled Latent Representation"
          ],
          [
           "Distantly Supervised Named Entity Recognition using Positive-Unlabeled Learning"
          ],
          [
           "Generating Responses with a Specific Emotion in Dialog"
          ],
          [
           "Bridging by Word: Image-Grounded Vocabulary Construction for Visual Captioning"
          ],
          [
           "Adversarial Domain Adaptation Using Artificial Titles for Abstractive Title Generation"
          ],
          [
           "Twitter Homophily: Network Based Prediction of User's Occupation"
          ],
          [
           "Incorporating Textual Information on User Behavior for Personality Prediction"
          ],
          [
           "Large-Scale Multi-Label Text Classification on EU Legislation"
          ],
          [
           "Neural Legal Judgment Prediction in English"
          ],
          [
           "Discourse Analysis and Its Applications"
          ],
          [
           "Self-Supervised Learning for Contextualized Extractive Summarization"
          ],
          [
           "Graph-based Dependency Parsing with Graph Neural Networks"
          ],
          [
           "Self-Supervised Dialogue Learning"
          ],
          [
           "Joint Type Inference on Entities and Relations via Graph Convolutional Networks"
          ],
          [
           "Towards Generating Long and Coherent Text with Multi-Level Latent Variable Models"
          ],
          [
           "Learning to Select, Track, and Generate for Data-to-Text"
          ],
          [
           "Multi-hop Reading Comprehension across Multiple Documents by Reasoning over Heterogeneous Graphs"
          ],
          [
           "Visual Story Post-Editing"
          ],
          [
           "HIGHRES: Highlight-based Reference-less Evaluation of Summarization"
          ],
          [
           "Merge and Label: A novel neural network architecture for nested NER"
          ],
          [
           "Model-Agnostic Meta-Learning for Relation Classification with Limited Supervision"
          ],
          [
           "ARNOR: Attention Regularization based Noise Reduction for Distant Supervision Relation Classification"
          ],
          [
           "Representing Schema Structure with Graph Neural Networks for Text-to-SQL Parsing"
          ],
          [
           "MULTIQA: An Empirical Investigation of Generalization and Transfer in Reading Comprehension"
          ],
          [
           "Topic Tensor Network for Implicit Discourse Relation Recognition in Chinese"
          ],
          [
           ""
          ],
          [
           "Gender-preserving Debiasing for Pre-trained Word Embeddings"
          ],
          [
           "Aspect Sentiment Classification Towards Question-Answering with Reinforced Bidirectional Attention Network"
          ],
          [
           "Adversarial Attention Modeling for Multi-dimensional Emotion Regression"
          ],
          [
           "On-device Structured and Context Partitioned Projection Networks"
          ],
          [
           "Multi-Source Cross-Lingual Model Transfer: Learning What to Share"
          ],
          [
           "Scalable Syntax-Aware Language Models Using Knowledge Distillation"
          ],
          [
           "Dense Procedure Captioning in Narrated Instructional Videos"
          ],
          [
           "The Risk of Racial Bias in Hate Speech Detection"
          ],
          [
           "HellaSwag: Can a Machine Really Finish Your Sentence?"
          ],
          [
           "COMET : Commonsense Transformers for Automatic Knowledge Graph Construction"
          ],
          [
           "Conversing by Reading: Contentful Neural Conversation with On-demand Machine Reading"
          ],
          [
           ""
          ],
          [
           "Learning Compressed Sentence Representations for On-Device Text Processing"
          ],
          [
           "Sentence Mover's Similarity: Automatic Evaluation for Multi-Sentence Texts"
          ],
          [
           "SParC: Cross-Domain Semantic Parsing in Context"
          ],
          [
           "Level-Up: Learning to Improve Proficiency Level of Essays"
          ],
          [
           "Word-order biases in deep-agent emergent communication"
          ],
          [
           "CNNs found to jump around more skillfully than RNNs: Compositional generalization in seq2seq convolutional networks"
          ],
          [
           "Miss Tools and Mr Fruit: Emergent communication in agents learning about object affordances"
          ],
          [
           "On the Distribution of Deep Clausal Embeddings: A Large Cross-linguistic Study"
          ],
          [
           "Learning to Link Grammar and Encyclopedic Information to Assist ESL Learners"
          ],
          [
           "STACL: Simultaneous Translation with Implicit Anticipation and Controllable Latency using Prefix-to-Prefix Framework *"
          ],
          [
           "Effective Adversarial Regularization for Neural Machine Translation"
          ],
          [
           "Enhancing Pre-Trained Language Representations with Rich Knowledge for Machine Reading Comprehension"
          ],
          [
           "Proactive Human-Machine Conversation with Explicit Conversation Goals"
          ],
          [
           "Know More about Each Other: Evolving Dialogue Strategy via Compound Assessment"
          ],
          [
           "Open-Domain Why-Question Answering with Adversarial Learning to Encode Answer Texts"
          ],
          [
           "An Interactive Multi-Task Learning Network for End-to-End Aspect-Based Sentiment Analysis"
          ],
          [
           "Attention Guided Graph Convolutional Networks for Relation Extraction"
          ],
          [
           "Quantity Tagger: A Latent-Variable Sequence Labeling Approach to Solving Addition-Subtraction Word Problems"
          ],
          [
           "A Neural Multi-digraph Model for Chinese NER with Gazetteers"
          ],
          [
           "Inter-sentence Relation Extraction with Document-level Graph Convolutional Neural Network"
          ],
          [
           "DOER: Dual Cross-Shared RNN for Aspect Term-Polarity Co-Extraction"
          ],
          [
           "Learning to Discover, Ground and Use Words with Segmental Neural Language Models"
          ],
          [
           "Topic Modeling with Wasserstein Autoencoders"
          ],
          [
           "Simple and Effective Paraphrastic Similarity from Parallel Translations"
          ],
          [
           "Beyond BLEU: Training Neural Machine Translation with Semantic Similarity"
          ],
          [
           "Visually Grounded Neural Syntax Acquisition"
          ],
          [
           "Controllable Paraphrase Generation with a Syntactic Exemplar"
          ],
          [
           "Incremental Learning from Scratch for Task-Oriented Dialogue Systems"
          ],
          [
           "Multi-step Reasoning via Recurrent Dual Attention for Visual Dialog"
          ],
          [
           "Learning Deep Transformer Models for Machine Translation"
          ],
          [
           "Shared-Private Bilingual Word Embeddings for Neural Machine Translation"
          ],
          [
           "Energy and Policy Considerations for Deep Learning in NLP"
          ],
          [
           "A2N: Attending to Neighbors for Knowledge Graph Inference"
          ],
          [
           "Optimal Transport-based Alignment of Learned Character Representations for String Similarity"
          ],
          [
           "Hierarchical Transfer Learning for Multi-label Text Classification"
          ],
          [
           ""
          ],
          [
           "Learning from Dialogue after Deployment: Feed Yourself, Chatbot!"
          ],
          [
           "ConvLab: Multi-Domain End-to-End Dialog System Platform"
          ],
          [
           "From brain space to distributional space: the perilous journeys of fMRI decoding"
          ],
          [
           "Semantic Parsing with Dual Learning"
          ],
          [
           "Context-aware Embedding for Targeted Aspect-based Sentiment Analysis"
          ],
          [
           "Ensuring Readability and Data-fidelity using Head-modifier Templates in Deep Type Description Generation"
          ],
          [
           "Chinese Relation Extraction with Multi-Grained Information and External Linguistic Knowledge"
          ],
          [
           "DocRED: A Large-Scale Document-Level Relation Extraction Dataset"
          ],
          [
           "GEAR: Graph-based Evidence Aggregating and Reasoning for Fact Verification"
          ],
          [
           "ERNIE: Enhanced Language Representation with Informative Entities"
          ],
          [
           "DIAG-NRE: A Neural Pattern Diagnosis Framework for Distantly Supervised Neural Relation Extraction"
          ],
          [
           "Quantifying Similarity between Relations with Fact Distribution"
          ],
          [
           "Multi-Style Generative Reading Comprehension"
          ],
          [
           "Answering while Summarizing: Multi-task Learning for Multi-hop QA with Evidence Extraction"
          ],
          [
           "Detecting Adverse Drug Reactions from Biomedical Texts With Neural Networks"
          ],
          [
           "Deep Neural Models for Medical Concept Normalization in User-Generated Texts"
          ],
          [
           "Cross-domain and Cross-lingual Abusive Language Detection: a Hybrid Approach with Deep Learning and a Multilingual Lexicon"
          ],
          [
           "Yes, we can! Mining Arguments in 50 Years of US Presidential Campaign Debates"
          ],
          [
           "A Modular Tool for Automatic Summarization"
          ],
          [
           "Attention Is (not) All You Need for Commonsense Reasoning"
          ],
          [
           "TARGER: Neural Argument Mining at Your Fingertips"
          ],
          [
           "Multimodal Abstractive Summarization for How2 Videos"
          ],
          [
           "Task Refinement Learning for Improved Accuracy and Stability of Unsupervised Domain Adaptation"
          ],
          [
           "Improving Neural Conversational Models with Entropy-Based Data Filtering"
          ],
          [
           "Robust Zero-Shot Cross-Domain Slot Filling with Example Values"
          ],
          [
           "Learning How to Active Learn by Dreaming"
          ],
          [
           "Neural Architectures for Nested NER through Linearization"
          ],
          [
           "Message from the General Chair"
          ],
          [
           "Inducing Document Structure for Aspect-based Summarization"
          ],
          [
           "Are You Convinced? Choosing the More Convincing Evidence with a Siamese Network"
          ],
          [
           "Identification of Tasks, Datasets, Evaluation Metrics, and Numeric Scores for Scientific Leaderboards Construction"
          ],
          [
           "Neural Temporality Adaptation for Document Classification: Diachronic Word Embeddings and Domain Adaptation Models"
          ],
          [
           "Wétin dey with these comments? Modeling Sociolinguistic Factors Affecting Code-switching Behavior in Nigerian Online Discussions"
          ],
          [
           "Question Answering in the Biomedical Domain"
          ],
          [
           "Unsupervised Joint Training of Bilingual Word Embeddings"
          ],
          [
           "My Turn To Read: An Interleaved E-book Reading Tool for Developing and Struggling Readers"
          ],
          [
           "Unsupervised Bilingual Word Embedding Agreement for Unsupervised Neural Machine Translation"
          ],
          [
           "Sentence-Level Agreement for Neural Machine Translation"
          ],
          [
           "Neural Machine Translation with Reordering Embeddings"
          ],
          [
           "Lattice-Based Transformer Encoder for Neural Machine Translation"
          ],
          [
           "Multimodal Logical Inference System for Visual-Textual Entailment"
          ],
          [
           "Sequence Tagging with Contextual and Non-Contextual Subword Representations: A Multilingual Evaluation"
          ],
          [
           "Unsupervised Learning of Discourse-Aware Text Representation for Essay Scoring"
          ],
          [
           "Lattice Transformer for Speech Translation"
          ],
          [
           "Cross-Lingual Syntactic Transfer through Unsupervised Adaptation of Invertible Projections"
          ],
          [
           "Multi-grained Attention with Object-level Grounding for Visual Question Answering"
          ],
          [
           "Choosing Transfer Languages for Cross-Lingual Learning"
          ],
          [
           "An Empirical Investigation of Structured Output Modeling for Graph-based Neural Dependency Parsing"
          ],
          [
           "Domain Adaptive Inference for Neural Machine Translation"
          ],
          [
           "Knowledge discovery and hypothesis generation from online patient forums: A research proposal"
          ],
          [
           "Exploring Author Context for Detecting Intended vs Perceived Sarcasm"
          ],
          [
           "OpenDialKG: Explainable Conversational Reasoning with Attention-based Walks over Knowledge Graphs"
          ],
          [
           "Constrained Decoding for Neural NLG from Compositional Representations in Task-Oriented Dialogue"
          ],
          [
           "Predicting Human Activities from User-Generated Content"
          ],
          [
           "Embedding Strategies for Specialized Domains: Application to Clinical Entity Recognition"
          ],
          [
           "Annotation and Automatic Classification of Aspectual Categories"
          ],
          [
           "Evidence-based Trustworthiness"
          ],
          [
           "A Hierarchical Reinforced Sequence Operation Method for Unsupervised Text Style Transfer"
          ],
          [
           "Rhetorically Controlled Encoder-Decoder for Modern Chinese Poetry Generation"
          ],
          [
           "Observing Dialogue in Therapy: Categorizing and Forecasting Behavioral Codes"
          ],
          [
           "Global Optimization under Length Constraint for Neural Text Summarization"
          ],
          [
           "Dataset Creation for Ranking Constructive News Comments"
          ],
          [
           "Augmenting Neural Networks with First-order Logic"
          ],
          [
           "ADVISER: A Dialog System Framework for Education & Research"
          ],
          [
           "Classification and Clustering of Arguments with Contextualized Word Embeddings"
          ],
          [
           "Domain Adaptation of Neural Machine Translation by Lexicon Induction"
          ],
          [
           "Exploring Numeracy in Word Embeddings"
          ],
          [
           "Storyboarding of Recipes: Grounded Contextual Generation"
          ],
          [
           "Pay attention when you pay the bills. A multilingual corpus with dependency-based and semantic annotation of collocations"
          ],
          [
           "Crowdsourcing and Aggregating Nested Markable Annotations"
          ],
          [
           ""
          ],
          [
           "Who Sides With Whom? Towards Computational Construction of Discourse Networks for Political Debates"
          ],
          [
           "An Environment for Relational Annotation of Political Debates"
          ],
          [
           "A Spreading Activation Framework for Tracking Conceptual Complexity of Texts"
          ],
          [
           "CoDraw: Collaborative Drawing as a Testbed for Grounded Goal-driven Communication"
          ],
          [
           "Stochastic Tokenization with a Language Model for Neural Text Classification"
          ],
          [
           "Transforming Complex Sentences into a Semantic Hierarchy"
          ],
          [
           "Analyzing the Limitations of Cross-lingual Word Embedding Mappings"
          ],
          [
           "How to (Properly) Evaluate Cross-Lingual Word Embeddings: On Strong Baselines, Comparative Analyses, and Some Misconceptions"
          ],
          [
           "Boosting Entity Linking Performance by Leveraging Unlabeled Documents"
          ],
          [
           "JW300: A Wide-Coverage Parallel Corpus for Low-Resource Languages"
          ],
          [
           "Distant Learning for Entity Linking with Automatic Noise Detection"
          ],
          [
           "Unsupervised Pretraining for Neural Machine Translation Using Elastic Weight Consolidation"
          ],
          [
           "Analyzing Multi-Head Self-Attention: Specialized Heads Do the Heavy Lifting, the Rest Can Be Pruned"
          ],
          [
           "Interpretable Question Answering on Knowledge Bases and Text"
          ],
          [
           "Putting Evaluation in Context: Contextual Embeddings improve Machine Translation Evaluation"
          ],
          [
           "Improving Textual Network Embedding with Global Attention via Optimal Transport"
          ],
          [
           ""
          ],
          [
           "Aiming beyond the Obvious: Identifying Non-Obvious Cases in Semantic Similarity Datasets"
          ],
          [
           "Self-Supervised Neural Machine Translation"
          ],
          [
           "OpenKiwi: An Open Source Framework for Quality Estimation"
          ],
          [
           "PTB Graph Parsing with Tree Approximation"
          ],
          [
           "Better Exploiting Latent Variables in Text Modeling"
          ],
          [
           "Improving Multi-turn Dialogue Modelling with Utterance ReWriter"
          ],
          [
           "A Joint Named-Entity Recognizer for Heterogeneous Tag-sets Using a Tag Hierarchy"
          ],
          [
           "Extracting Symptoms and their Status from Clinical Conversations"
          ],
          [
           "Jointly Learning Semantic Parser and Natural Language Generator via Dual Information Maximization"
          ],
          [
           "Semantic expressive capacity with bounded memory"
          ],
          [
           "How multilingual is Multilingual BERT?"
          ],
          [
           "Simple and Effective Curriculum Pointer-Generator Networks for Reading Comprehension over Long Narratives"
          ],
          [
           "Lightweight and Efficient Neural Natural Language Processing with Quaternion Networks"
          ],
          [
           "Time-Out: Temporal Referencing for Robust Modeling of Lexical Semantic Change"
          ],
          [
           "A Wind of Change: Detecting and Evaluating Lexical Semantic Change across Times and Domains"
          ],
          [
           "Reference Network for Neural Machine Translation"
          ],
          [
           "Multimodal Transformer Networks for End-to-End Video-Grounded Dialogue Systems"
          ],
          [
           "Reading Turn by Turn: Hierarchical Attention Architecture for Spoken Dialogue Comprehension"
          ],
          [
           "EditNTS: An Neural Programmer-Interpreter Model for Sentence Simplification through Explicit Editing"
          ],
          [
           "Learning to Rank for Plausible Plausibility"
          ],
          [
           "Incorporating Syntactic and Semantic Information in Word Embeddings using Graph Convolutional Networks"
          ],
          [
           "Historical Text Normalization with Delayed Rewards"
          ],
          [
           "Multi-Task Learning for Coherence Modeling"
          ],
          [
           "Learning Representation Mapping for Relation Detection in Knowledge Base Question Answering"
          ],
          [
           "ReCoSa: Detecting the Relevant Contexts with Self-Attention for Multi-turn Dialogue Generation"
          ],
          [
           "Decomposable Neural Paraphrase Generation"
          ],
          [
           "Bridging the Gap between Training and Inference for Neural Machine Translation"
          ],
          [
           "Modeling Semantic Compositionality with Sememe Knowledge"
          ],
          [
           "Revisiting Low-Resource Neural Machine Translation: A Case Study"
          ],
          [
           "A Lightweight Recurrent Network for Sequence Modeling"
          ],
          [
           "Fine-Grained Temporal Relation Extraction"
          ],
          [
           "Deep Neural Model Inspection and Comparison via Functional Neuron Pathways"
          ],
          [
           "Morphological Irregularity Correlates with Frequency"
          ],
          [
           "On the Summarization of Consumer Health Questions"
          ],
          [
           "Complex Word Identification as a Sequence Labelling Task"
          ],
          [
           "Leveraging Local and Global Patterns for Self-Attention Networks"
          ],
          [
           "Revisiting Joint Modeling of Cross-document Entity and Event Coreference Resolution"
          ],
          [
           "Generating Summaries with Topic Templates and Structured Convolutional Decoders"
          ],
          [
           "A Unified Multi-task Adversarial Learning Framework for Pharmacovigilance Mining"
          ],
          [
           "#YouToo? Detection of Personal Recollections of Sexual Harassment on Social Media"
          ],
          [
           "Towards Multimodal Sarcasm Detection (An Obviously Perfect Paper)"
          ],
          [
           "Learning Transferable Feature Representations Using Neural Networks"
          ],
          [
           "Accelerating Sparse Matrix Operations in Neural Networks on Graphics Processing Units"
          ],
          [
           "ARHNet -Leveraging Community Interaction For Detection Of Religious Hate Speech In Arabic"
          ],
          [
           "Look Harder: A Neural Machine Translation Model with Hard Attention"
          ],
          [
           "Matching Article Pairs with Graphical Decomposition and Convolutions"
          ],
          [
           "Towards Lossless Encoding of Sentences"
          ],
          [
           "Do Neural Dialog Systems Use the Conversation History Effectively? An Empirical Study"
          ],
          [
           "A Large-Scale Corpus for Conversation Disentanglement"
          ],
          [
           "TALKSUMM: A Dataset and Scalable Annotation Method for Scientific Paper Summarization Based on Conference Talks"
          ],
          [
           "The Language of Legal and Illegal Activity on the Darknet"
          ],
          [
           "Argument Invention from First Principles"
          ],
          [
           "From Surrogacy to Adoption; From Bitcoin to Cryptocurrency: Debate Topic Expansion"
          ],
          [
           "What Makes a Good Counselor? Learning to Distinguish between High-quality and Low-quality Counseling Conversations"
          ],
          [
           "A Semi-Markov Structured Support Vector Machine Model for High-Precision Named Entity Recognition"
          ],
          [
           "Relating Simple Sentence Representations in Deep Neural Networks and the Brain"
          ],
          [
           "Zero-shot Word Sense Disambiguation using Sense Definition Embeddings"
          ],
          [
           "The KNOWREF Coreference Corpus: Removing Gender and Number Cues for Difficult Pronominal Anaphora Resolution"
          ],
          [
           "Detecting Subevents using Discourse and Narrative Features"
          ],
          [
           "Word and Document Embedding with vMF-Mixture Priors on Context Word Vectors"
          ],
          [
           "Exploiting Explicit Paths for Multi-hop Reading Comprehension"
          ],
          [
           "Disentangled Representation Learning for Non-Parallel Text Style Transfer"
          ],
          [
           "Towards Explainable NLP: A Generative Explanation Framework for Text Classification"
          ],
          [
           "Exploiting Entity BIO Tag Embeddings and Multi-task Learning for Relation Extraction with Imbalanced Data"
          ],
          [
           "Ordinal and Attribute Aware Response Generation in a Multimodal Dialogue System"
          ],
          [
           "RankQA: Neural Question Answering with Answer Re-Ranking"
          ],
          [
           "A Working Memory Model for Task-oriented Dialog Response Generation"
          ],
          [
           "Improving Abstractive Document Summarization with Salient Information Modeling"
          ],
          [
           "Sequence Labeling Parsing by Learning Across Representations"
          ],
          [
           "Generating Question Relevant Captions to Aid Visual Question Answering"
          ],
          [
           "Controlling Grammatical Error Correction Using Word Edit Rate"
          ],
          [
           "Simple and Effective Text Matching with Richer Alignment Features"
          ],
          [
           "A Simple Recipe towards Reducing Hallucination in Neural Surface Realisation"
          ],
          [
           "Exploring Pre-trained Language Models for Event Extraction and Generation"
          ],
          [
           "Expressing Visual Relationships via Language"
          ],
          [
           "Scoring Sentence Singletons and Pairs for Abstractive Summarization"
          ],
          [
           "Delta Embedding Learning"
          ],
          [
           "Poetry to Prose Conversion in Sanskrit as a Linearisation Task: A case for Low-Resource Languages"
          ],
          [
           "Latent Variable Model for Multi-modal Translation"
          ],
          [
           "Interpretable Neural Predictions with Differentiable Binary Variables"
          ],
          [
           "Graph based Neural Networks for Event Factuality Prediction using Syntactic and Semantic Structures"
          ],
          [
           "Data-to-text Generation with Entity Modeling"
          ],
          [
           "Evaluating Discourse in Structured Text Representations"
          ],
          [
           "Training Neural Machine Translation To Apply Terminology Constraints"
          ],
          [
           "Unsupervised Rewriter for Multi-Sentence Compression"
          ],
          [
           "Fine-tuning Pre-Trained Transformer Language Models to Distantly Supervised Relation Extraction"
          ],
          [
           "Unsupervised Pivot Translation for Distant Languages"
          ],
          [
           "Improved Sentiment Detection via Label Transfer from Monolingual to Synthetic Code-Switched Text"
          ],
          [
           "On the Word Alignment from Neural Machine Translation *"
          ],
          [
           "Selection Bias Explorations and Debias Methods for Natural Language Sentence Matching Datasets"
          ],
          [
           "BiSET: Bi-directional Selective Encoding with Template for Abstractive Summarization"
          ],
          [
           "Semi-supervised Domain Adaptation for Dependency Parsing"
          ],
          [
           "Are Girls Neko or Shōjo? Cross-Lingual Alignment of Non-Isomorphic Embeddings with Iterative Normalization"
          ],
          [
           "Towards Integration of Statistical Hypothesis Tests into Deep Neural Networks"
          ],
          [
           "Adversarial Multitask Learning for Joint Multi-Feature and Multi-Dialect Morphological Modeling"
          ],
          [
           "Unsupervised Question Answering by Cloze Translation"
          ],
          [
           "Generating Natural Language Adversarial Examples through Probability Weighted Word Saliency"
          ],
          [
           "Misleading Failures of Partial-input Baselines"
          ],
          [
           "Automatic and Human Evaluation of Local Topic Quality"
          ],
          [
           "Why Didn't You Listen to Me? Comparing User Control of Human-in-the-Loop Topic Models"
          ],
          [
           "Real-Time Open-Domain Question Answering with Dense-Sparse Phrase Index"
          ],
          [
           "Sakura: Large-scale Incorrect Example Retrieval System for Learners of Japanese as a Second Language"
          ],
          [
           "This year, the student research workshop has received a great attention, reflecting the growth of the field. We received 214 submissions in total: 27 research proposals and 147 research papers. Among these, 7 research proposals and 22 research papers were non-archival. We accepted 71 papers, for an acceptance rate of 33%. After withdrawals and excluding non-archival papers, 61 papers are appearing in these proceedings, including 14 research proposals and 47 research papers. All of the accepted papers will be presented as posters in late morning sessions as a part of the main conference, split across three days (July 29th-31th). Mentoring is at the heart of the SRW. In keeping with previous years, students had the opportunity for pre-submission mentoring prior to the submission deadline. Total of 64 papers participated in presubmission mentoring program. This program offered students a chance to receive comments from an experienced researcher, in order to improve the quality of the writing and presentation before making their submission. In addition, authors of accepted SRW papers are matched with mentors who will meet with the students in person during the poster presentations. Each mentor prepares in-depth comments and questions prior to the student's presentation, and provides discussion and feedback during the workshop. We are deeply grateful to our sponsors whose support will enable a number of students to attend the conference. We would also like to thank our program committee members for their careful reviews of each paper, and all of our mentors for donating their time to provide feedback to our student authors. Thank you to our faculty advisors Hannaneh Hajishirzi, Aurelie Herbelot, Scott Yih, Yue Zhang for their essential advice and guidance, and to the members of the ACL 2018 organizing committee, in particular David Traum, Anna Korhonen and Lluís Màrquez for their helpful support. Finally, kudos to our student participants! iii"
          ],
          [
           "Negative Lexically Constrained Decoding for Paraphrase Generation"
          ],
          [
           "Retrieval-Enhanced Adversarial Training for Neural Response Generation"
          ],
          [
           "Towards Complex Text-to-SQL in Cross-Domain Database with Intermediate Representation"
          ],
          [
           "Can You Tell Me How to Get Past Sesame Street? Sentence-Level Pretraining Beyond Language Modeling"
          ],
          [
           "The PhotoBook Dataset: Building Common Ground through Visually-Grounded Dialogue"
          ],
          [
           "A Resource-Free Evaluation Metric for Cross-Lingual Word Embeddings Based on Graph Modularity"
          ],
          [
           "Learning to Ask Unanswerable Questions for Machine Reading Comprehension"
          ],
          [
           "Compositional Questions Do Not Necessitate Multi-hop Reasoning"
          ],
          [
           "Multi-hop Reading Comprehension through Question Decomposition and Rescoring"
          ],
          [
           "A Unified Linear-Time Framework for Sentence-Level Discourse Parsing"
          ],
          [
           "Dialogue-Act Prediction of Future Responses based on Conversation History"
          ],
          [
           "What does BERT learn about the structure of language?"
          ],
          [
           "Span-Level Model for Relation Extraction"
          ],
          [
           "Toward Comprehensive Understanding of a Sentiment Based on Human Motives"
          ],
          [
           "Language Modeling with Shared Grammar"
          ],
          [
           "Controllable Text Simplification with Lexical Constraint Loss"
          ],
          [
           "SUMBT: Slot-Utterance Matching for Universal and Scalable Belief Tracking"
          ],
          [
           "Unsupervised Information Extraction: Regularizing Discriminative Approaches with Relation Distribution Losses"
          ],
          [
           "Neural Relation Extraction for Knowledge Base Enrichment"
          ],
          [
           "Normalizing Non-canonical Turkish Texts Using Machine Translation Approaches"
          ],
          [
           "Bilingual Lexicon Induction with Semi-supervision in Non-Isometric Embedding Spaces"
          ],
          [
           "Corpus Creation and Analysis for Named Entity Recognition in Telugu-English Code-Mixed Social Media Data"
          ],
          [
           "De-Mixing Sentiment from Code-Mixed Text"
          ],
          [
           "Boosting Dialog Response Generation"
          ],
          [
           "Exploring Phoneme-Level Speech Representations for End-to-End Speech Translation"
          ],
          [
           "Towards Scalable and Reliable Capsule Networks for Challenging NLP Applications"
          ],
          [
           "Employing the Correspondence of Relations and Connectives to Identify Implicit Discourse Relations via Label Embeddings"
          ],
          [
           "Neural Keyphrase Generation via Reinforcement Learning with Adaptive Rewards"
          ],
          [
           "Automatically Identifying Complaints in Social Media"
          ],
          [
           "Massively Multilingual Transfer for NER"
          ],
          [
           "Better Character Language Modeling Through Morphology"
          ],
          [
           "BAM! Born-Again Multi-Task Networks for Natural Language Understanding"
          ],
          [
           "Neural Aspect and Opinion Term Extraction with Mined Rules as Weak Supervision"
          ],
          [
           "Mitigating Gender Bias in Natural Language Processing: Literature Review"
          ],
          [
           "Entity-Centric Contextual Affective Analysis"
          ],
          [
           "Identifying Visible Actions in Lifestyle Vlogs"
          ],
          [
           "A Cross-Domain Transferable Neural Coherence Model"
          ],
          [
           "Relation Embedding with Dihedral Group in Knowledge Graph"
          ],
          [
           "Enhancing Air Quality Prediction with Social Media and Natural Language Processing"
          ],
          [
           "Know What You Don't Know: Modeling a Pragmatic Speaker that Refers to Objects of Unknown Categories"
          ],
          [
           "NeuralClassifier: An Open-source Neural Hierarchical Multi-label Text Classification Toolkit"
          ],
          [
           "Combining Knowledge Hunting and Neural Language Models to Solve the Winograd Schema Challenge"
          ],
          [
           "Careful Selection of Knowledge to solve Open Book Question Answering"
          ],
          [
           "A computational linguistic study of personal recovery in bipolar disorder"
          ],
          [
           "SARAL: A Low-Resource Cross-Lingual Domain-Focused Information Retrieval System for Effective Rapid Document Triage"
          ],
          [
           "Psycholinguistics meets Continual Learning: Measuring Catastrophic Forgetting in Visual Question Answering"
          ],
          [
           "FIESTA: Fast IdEntification of State-of-The-Art models using adaptive bandit algorithms"
          ],
          [
           "ClaimPortal: Integrated Monitoring, Searching, Checking, and Analytics of Factual Claims on Twitter"
          ],
          [
           "Predicting Humorousness and Metaphor Novelty with Gaussian Process Preference Learning"
          ],
          [
           "CONAN -COunter NArratives through Nichesourcing: a Multilingual Dataset of Responses to Fight Online Hate Speech"
          ],
          [
           "The (Non-)Utility of Structural Features in BiLSTM-based Dependency Parsers"
          ],
          [
           "Zero-Shot Cross-Lingual Abstractive Sentence Summarization through Teaching Generation and Attention"
          ],
          [
           "Pretraining Methods for Dialog Context Representation Learning"
          ],
          [
           "CogNet: a Large-Scale Cognate Database"
          ],
          [
           "Neural News Recommendation with Long-and Short-term User Representations"
          ],
          [
           "GraphRel: Modeling Text as Relational Graphs for Joint Entity and Relation Extraction"
          ],
          [
           "Multi-task Pairwise Neural Ranking for Hashtag Segmentation"
          ],
          [
           "Entity-Relation Extraction as Multi-turn Question Answering"
          ],
          [
           "Is Word Segmentation Necessary for Deep Learning of Chinese Representations?"
          ],
          [
           "Implicit Discourse Relation Identification for Open-domain Dialogues"
          ],
          [
           "Analysis of Automatic Annotation Suggestions for Hard Discourse-Level Tasks in Expert Domains"
          ],
          [
           "Is Attention Interpretable?"
          ],
          [
           "Neural News Recommendation with Topic-Aware News Representation"
          ],
          [
           "Persuasion for Good: Towards a Personalized Persuasive Dialogue System for Social Good"
          ],
          [
           "Show, Describe and Conclude: On Exploiting the Structure Information of Chest X-Ray Reports"
          ],
          [
           "Curate and Generate: A Corpus and Method for Joint Control of Semantics and Style in Neural NLG"
          ],
          [
           "Synthetic QA Corpora Generation with Roundtrip Consistency"
          ],
          [
           "Multi-Task Networks With Universe, Group, and Task Feature Learning"
          ],
          [
           "Informative Image Captioning with External Sources of Information"
          ],
          [
           "Cognitive Graph for Multi-Hop Reading Comprehension at Scale"
          ],
          [
           "Dynamically Fused Graph Network for Multi-hop Reasoning"
          ],
          [
           "Multi-Channel Graph Neural Network for Entity Alignment"
          ],
          [
           "Semantically Conditioned Dialog Response Generation via Hierarchical Disentangled Self-Attention"
          ],
          [
           "Jiuge: A Human-Machine Collaborative Chinese Classical Poetry Generation System"
          ],
          [
           "Hierarchical Transformers for Multi-Document Summarization"
          ],
          [
           "SphereRE: Distinguishing Lexical Relations with Hyperspherical Relation Embeddings"
          ],
          [
           "Are Red Roses Red? Evaluating Consistency of Question-Answering Models"
          ],
          [
           "Modeling Intra-Relation in Math Word Problems with Different Functional Multi-Head Attentions"
          ],
          [
           "Course Concept Expansion in MOOCs with External Knowledge and Interactive Game"
          ],
          [
           "Few-Shot Representation Learning for Out-Of-Vocabulary Words"
          ],
          [
           "Automated Chess Commentator Powered by Neural Chess Engine"
          ],
          [
           "VIFIDEL: Evaluating the Visual Fidelity of Image Descriptions"
          ],
          [
           "Exploring Sequence-to-Sequence Learning in Aspect Term Extraction"
          ],
          [
           "Learning to Control the Fine-grained Sentiment for Story Ending Generation"
          ],
          [
           "How Large Are Lions? Inducing Distributions over Quantitative Attributes"
          ],
          [
           "Right for the Wrong Reasons: Diagnosing Syntactic Heuristics in Natural Language Inference"
          ],
          [
           "Translating Translationese: A Two-Step Approach to Unsupervised Machine Translation"
          ],
          [
           "BERT Rediscovers the Classical NLP Pipeline"
          ],
          [
           "Argument Generation with Retrieval, Planning, and Realization"
          ],
          [
           "Dual Adversarial Neural Transfer for Low-Resource Named Entity Recognition"
          ],
          [
           "ChID: A Large-scale Chinese IDiom Dataset for Cloze Test"
          ],
          [
           "Robust Representation Learning of Biomedical Names"
          ],
          [
           "KCAT: A Knowledge-Constraint Typing Annotation Tool"
          ],
          [
           "Eliciting Knowledge from Experts: Automatic Transcript Parsing for Cognitive Task Analysis"
          ],
          [
           "AlpacaTag: An Active Learning-based Crowd Annotation Framework for Sequence Tagging"
          ],
          [
           "Tree LSTMs with Convolution Units to Predict Stance and Rumor Veracity in Social Media Conversations"
          ],
          [
           "Reinforced Dynamic Reasoning for Conversational Question Generation"
          ],
          [
           "Open Vocabulary Learning for Neural Chinese Pinyin IME"
          ],
          [
           "Diachronic Sense Modeling with Deep Contextualized Word Embeddings: An Ecological View"
          ],
          [
           "Literary Event Detection"
          ],
          [
           "A Prism Module for Semantic Disentanglement in Name Entity Recognition"
          ],
          [
           "Long-Distance Dependencies don't have to be Long: Simplifying through Provably (Approximately) Optimal Permutations"
          ],
          [
           "Modeling financial analysts' decision making via the pragmatics and semantics of earnings calls"
          ],
          [
           "Towards Fine-grained Text Sentiment Transfer"
          ],
          [
           "Dual Supervised Learning for Natural Language Understanding and Generation"
          ],
          [
           "Transferable Multi-Domain State Generator for Task-Oriented Dialogue Systems"
          ],
          [
           "Reliability-aware Dynamic Feature Composition for Name Tagging"
          ],
          [
           "PaperRobot: Incremental Draft Generation of Scientific Ideas"
          ],
          [
           "Keep Meeting Summaries on Topic: Abstractive Multi-Modal Meeting Summarization"
          ],
          [
           "Towards Comprehensive Description Generation from Factual Attribute-value Tables"
          ],
          [
           "Multi-Grained Named Entity Recognition"
          ],
          [
           "Figurative Usage Detection of Symptom Words to Improve Personal Health Mention Detection"
          ],
          [
           "Recognising Agreement and Disagreement between Stances with Reason Comparing Networks"
          ],
          [
           "Using Human Attention to Extract Keyphrase from Microblog Post"
          ],
          [
           "HIBERT: Document Level Pre-training of Hierarchical Bidirectional Transformers for Document Summarization"
          ],
          [
           "Automatic Grammatical Error Correction for Sequence-to-sequence Text Generation: An Empirical Study"
          ],
          [
           "Explain Yourself! Leveraging Language Models for Commonsense Reasoning"
          ],
          [
           "Open-Domain Targeted Sentiment Analysis via Span-Based Extraction and Classification"
          ],
          [
           ""
          ],
          [
           "Retrieve, Read, Rerank: Towards End-to-End Multi-Document Reading Comprehension"
          ],
          [
           "Graph Neural Networks with Generated Parameters for Relation Extraction"
          ],
          [
           "BERT-based Lexical Substitution"
          ],
          [
           "Weakly-Supervised Spatio-Temporally Grounding Natural Sentence in Video"
          ],
          [
           "Open Domain Event Extraction Using Neural Latent Variable Models"
          ],
          [
           "Towards Near-imperceptible Steganographic Text"
          ],
          [
           "Token-level Dynamic Self-Attention Network for Multi-Passage Reading Comprehension"
          ],
          [
           "Incremental Transformer with Deliberation Decoder for Document Grounded Conversations"
          ],
          [
           "A Multiscale Visualization of Attention in the Transformer Model"
          ],
          [
           "Target-Guided Open-Domain Conversation"
          ],
          [
           "Just \"OneSeC\" for Producing Multilingual Sense-Annotated Data"
          ],
          [
           "Improving the Similarity Measure of Determinantal Point Processes for Extractive Multi-Document Summarization"
          ],
          [
           "Cross-lingual Knowledge Graph Alignment via Graph Matching Neural Network"
          ],
          [
           "Knowledge-aware Pronoun Coreference Resolution"
          ],
          [
           "Progressive Self-Supervised Attention Learning for Aspect-Level Sentiment Analysis"
          ],
          [
           "Gated Embeddings in End-to-End Speech Recognition for Conversational-Context Fusion"
          ],
          [
           "Multi-Level Matching and Aggregation Network for Few-Shot Relation Classification"
          ],
          [
           "Learning Representations from Imperfect Time Series Data via Tensor Rank Regularization"
          ],
          [
           "Multimodal Transformer for Unaligned Multimodal Language Sequences"
          ],
          [
           "Exploiting Invertible Decoders for Unsupervised Sentence Representation Learning"
          ],
          [
           "Generating Question-Answer Hierarchies"
          ],
          [
           "Syntactically Supervised Transformers for Faster Neural Machine Translation"
          ],
          [
           "Encouraging Paragraph Embeddings to Remember Sentence Identity Improves Classification"
          ],
          [
           "Strategies for Structuring Story Generation"
          ],
          [
           "Heuristic Authorship Obfuscation"
          ],
          [
           "Bias Analysis and Mitigation in the Evaluation of Authorship Verification"
          ],
          [
           "This Email Could Save Your Life: Introducing the Task of Email Subject Line Generation"
          ],
          [
           "SP-10K: A Large-scale Evaluation Set for Selectional Preference Acquisition"
          ],
          [
           "Extracting Multiple-Relations in One-Pass with Pre-Trained Transformers"
          ],
          [
           "Improving Question Answering over Incomplete KBs with Knowledge-Aware Reader"
          ],
          [
           "Sentence Centrality Revisited for Unsupervised Summarization"
          ],
          [
           "TWEETQA: A Social Media Focused Question Answering Dataset"
          ],
          [
           "Parallax: Visualizing and Understanding the Semantics of Embedding Spaces via Algebraic Formulae"
          ],
          [
           "Monotonic Infinite Lookback Attention for Simultaneous Machine Translation"
          ],
          [
           "End-to-end Deep Reinforcement Learning Based Coreference Resolution"
          ],
          [
           "Rewarding Smatch: Transition-Based AMR Parsing with Reinforcement Learning"
          ],
          [
           "Low-resource Deep Entity Resolution with Transfer and Active Learning"
          ],
          [
           "HEIDL: Learning Linguistic Expressions with Deep Learning and Human-in-the-Loop"
          ],
          [
           "Emotion-Cause Pair Extraction: A New Task to Emotion Analysis in Texts"
          ],
          [
           "Soft Contextual Data Augmentation for Neural Machine Translation"
          ],
          [
           "Understanding Undesirable Word Embedding Associations"
          ],
          [
           "Towards Understanding Linear Word Analogies"
          ],
          [
           "From Bilingual to Multilingual Neural Machine Translation by Incremental Training"
          ],
          [
           "Key Fact as Pivot: A Two-Stage Model for Low Resource Table-to-Text Generation"
          ],
          [
           "Enhancing Topic-to-Essay Generation with External Commonsense Knowledge"
          ],
          [
           "Generating Fluent Adversarial Examples for Natural Languages"
          ],
          [
           "STRASS: A Light and Effective Method for Extractive Summarization Based on Sentence Embeddings"
          ],
          [
           "Online Infix Probability Computation for Probabilistic Finite Automata"
          ],
          [
           "Cross-Modal Commentator: Automatic Machine Commenting Based on Cross-Modal Information"
          ],
          [
           "XQA: A Cross-lingual Open-domain Question Answering Dataset"
          ],
          [
           "Generating Sentences from Disentangled Syntactic and Semantic Spaces"
          ],
          [
           "Automatic Generation of Personalized Comment Based on User Profile"
          ],
          [
           "Imitation Learning for Non-Autoregressive Neural Machine Translation"
          ],
          [
           "Like a Baby: Visually Situated Neural Language Acquisition"
          ],
          [
           "Improving Neural Language Models by Segmenting, Attending, and Predicting the Future"
          ],
          [
           "Does It Make Sense? And Why? A Pilot Study for Sense Making and Explanation"
          ],
          [
           "Cross-Lingual Training for Automatic Question Generation"
          ],
          [
           "Continual and Multi-Task Architecture Search"
          ],
          [
           "Explore, Propose, and Assemble: An Interpretable Model for Multi-Hop Reading Comprehension"
          ],
          [
           "Avoiding Reasoning Shortcuts: Adversarial Evaluation, Training, and Model Development for Multi-Hop QA"
          ],
          [
           "Semi-supervised Stochastic Multi-Domain Learning using Variational Inference"
          ],
          [
           "Comparison of Diverse Decoding Methods from Conditional Language Models"
          ],
          [
           "PERSPECTROSCOPE: A Window to the World of Diverse Perspectives"
          ],
          [
           "An adaptable task-oriented dialog system for stand-alone embedded devices"
          ],
          [
           "Deep Dominance -How to Properly Compare Deep Neural Models"
          ],
          [
           "Improving Visual Question Answering by Referring to Generated Paragraph Captions"
          ],
          [
           "Unraveling Antonym's Word Vectors through a Siamese-like Network"
          ],
          [
           "LSTMEmbed: Learning Word and Sense Representations from a Large Semantically Annotated Corpus with Long Short-Term Memories"
          ],
          [
           "Evaluating Gender Bias in Machine Translation"
          ],
          [
           "When a Good Translation is Wrong in Context: Context-Aware Machine Translation Improves on Deixis, Ellipsis, and Lexical Cohesion"
          ],
          [
           "Rationally Reappraising ATIS-based Dialogue Systems"
          ],
          [
           "ELI5: Long Form Question Answering"
          ],
          [
           "Paraphrases as Foreign Languages in Multilingual Neural Machine Translation"
          ],
          [
           "lingvis.io -A Linguistic Visual Analytics Framework"
          ],
          [
           "Demonstration of a Neural Machine Translation System with Online Learning for Translators"
          ],
          [
           "GrapAL: Connecting the Dots in Scientific Literature"
          ],
          [
           "FASTDial: Abstracting Dialogue Policies for Fast Development of Task Oriented Agents"
          ],
          [
           "Rapid Customization for Event Extraction"
          ],
          [
           ""
          ],
          [
           "PostAc ® : A Visual Interactive Search, Exploration, and Analysis Platform for PhD Intensive Job Postings"
          ],
          [
           "A Neural, Interactive-predictive System for Multimodal Sequence to Sequence Tasks"
          ],
          [
           "GLTR: Statistical Detection and Visualization of Generated Text"
          ],
          [
           "Annotating and Analyzing Semantic Role of Elementary Units and Relations in Online Persuasive Arguments"
          ],
          [
           "Microsoft ICECAPS: An Open-Source Toolkit for Conversation Modeling"
          ],
          [
           "Flambé: A Customizable Framework for Machine Learning Experiments"
          ],
          [
           "MoNoise: A Multi-lingual and Easy-to-use Lexical Normalization Tool"
          ],
          [
           "Texar: A Modularized, Versatile, and Extensible Toolkit for Text Generation"
          ],
          [
           "SLATE: A Super-Lightweight Annotation Tool for Experts"
          ],
          [
           "You Only Need Attention to Traverse Trees"
          ],
          [
           "Constructing Interpretive Spatio-Temporal Features for Multi-Turn Responses Selection"
          ],
          [
           "Stay on the Path: Instruction Fidelity in Vision-and-Language Navigation"
          ],
          [
           "Robust Neural Machine Translation with Doubly Adversarial Inputs"
          ],
          [
           ""
          ],
          [
           "A Multi-Task Architecture on Relevance-based Neural Query Translation"
          ],
          [
           "Women's Syntactic Resilience and Men's Grammatical Luck: Gender-Bias in Part-of-Speech Tagging and Dependency Parsing"
          ],
          [
           "Robust Neural Machine Translation with Joint Textual and Phonetic Embedding"
          ],
          [
           "Attention over Heads: A Multi-Hop Attention for Neural Machine Translation"
          ],
          [
           "Using Semantic Similarity as Reward for Reinforcement Learning in Sentence Generation"
          ],
          [
           "Simultaneous Translation with Flexible Policy via Restricted Imitation Learning"
          ],
          [
           "Unsupervised Paraphrasing without Translation"
          ],
          [
           "Celebrity Profiling"
          ],
          [
           "Probing Neural Network Comprehension of Natural Language Arguments"
          ],
          [
           "Generating Logical Forms from Graph Representations of Text and Entities"
          ],
          [
           "Dynamically Composing Domain-Data Selection with Clean-Data Selection by \"Co-Curricular Learning\" for Neural Machine Translation"
          ],
          [
           "Handling Divergent Reference Texts when Evaluating Table-to-Text Generation"
          ],
          [
           "Ranking of Potential Questions"
          ],
          [
           "Context-specific language modeling for human trafficking detection from online advertisements"
          ],
          [
           "Putting words in context: LSTM language models and lexical ambiguity"
          ],
          [
           "NNE: A Dataset for Nested Named Entity Recognition in English Newswire"
          ],
          [
           "Latent Retrieval for Weakly Supervised Open Domain Question Answering"
          ],
          [
           "Ranking Generated Summaries by Correctness: An Interesting but Challenging Application for Natural Language Inference"
          ],
          [
           "Using Automatically Extracted Minimum Spans to Disentangle Coreference Evaluation from Boundary Detection"
          ],
          [
           "Effective Cross-lingual Transfer of Neural Machine Translation Models without Shared Vocabularies"
          ],
          [
           "Reversing Gradients in Adversarial Domain Adaptation for Question Deduplication and Textual Entailment Tasks"
          ],
          [
           "Crowdsourcing and Validating Event-focused Emotion Corpora for German and English"
          ],
          [
           "An Imitation Learning Approach to Unsupervised Parsing"
          ],
          [
           "Zero-Shot Entity Linking by Reading Entity Descriptions"
          ],
          [
           "How to best use Syntax in Semantic Role Labelling"
          ],
          [
           "Learning Emphasis Selection for Written Text in Visual Media from Crowd-Sourced Label Distributions"
          ],
          [
           "AMR Parsing as Sequence-to-Graph Transduction"
          ],
          [
           "Neural Decipherment via Minimum-Cost Flow: from Ugaritic to Linear B"
          ],
          [
           "Don't Take the Premise for Granted: Mitigating Artifacts in Natural Language Inference"
          ],
          [
           "Not All Reviews are Equal: Towards Addressing Reviewer Biases for Opinion Summarization"
          ],
          [
           "Compound Probabilistic Context-Free Grammars for Grammar Induction"
          ],
          [
           "BIGPATENT: A Large-Scale Dataset for Abstractive and Coherent Summarization"
          ],
          [
           "Joint Effects of Context and User History for Predicting Online Conversation Re-entries"
          ],
          [
           "Making Fast Graph-based Algorithms with Graph Metric Embeddings"
          ],
          [
           "Matching the Blanks: Distributional Similarity for Relation Learning"
          ],
          [
           "Unsupervised Parallel Sentence Extraction with Parallel Segment Detection Helps Machine Translation"
          ],
          [
           "Better OOV Translation with Bilingual Terminology Mining"
          ],
          [
           "Unsupervised Multilingual Word Embedding with Limited Resources using Neural Language Models"
          ],
          [
           "Investigating Political Herd Mentality: A Community Sentiment Based Approach"
          ],
          [
           "Learning Attention-based Embeddings for Relation Prediction in Knowledge Graphs"
          ],
          [
           "Cross-Domain Generalization of Neural Constituency Parsers"
          ],
          [
           "Pre-Learning Environment Representations for Data-Efficient Neural Instruction Following"
          ],
          [
           "Are You Looking? Grounding to Multiple Modalities in Vision-and-Language Navigation"
          ],
          [
           "Improving Low-Resource Cross-lingual Document Retrieval by Reranking with Deep Bilingual Representations"
          ],
          [
           "Multilingual Constituency Parsing with Self-Attention and Pre-Training"
          ],
          [
           "Simple Unsupervised Summarization by Contextual Matching"
          ],
          [
           "Personalizing Dialogue Agents via Meta-Learning"
          ],
          [
           "Memory Consolidation for Contextual Spoken Language Understanding with Dialogue Logistic Inference"
          ],
          [
           "Generalized Data Augmentation for Low-Resource Translation"
          ],
          [
           "Māori Loanwords: A Corpus of New Zealand English Tweets"
          ],
          [
           "Improving Neural Entity Disambiguation with Graph Embeddings"
          ],
          [
           "DeepSentiPeer: Harnessing Sentiment in Review Texts To Recommend Peer Review Decisions"
          ],
          [
           "Multimodal and Multi-view Models for Emotion Recognition"
          ],
          [
           "Zero-Shot Semantic Parsing for Instructions"
          ],
          [
           "What Should I Ask? Using Conversationally Informative Rewards for Goal-Oriented Visual Dialogue"
          ],
          [
           "Complex Question Decomposition for Semantic Parsing"
          ],
          [
           "HEAD-QA: A Healthcare Dataset for Complex Reasoning"
          ],
          [
           "Unified Semantic Parsing with Weak Supervision"
          ],
          [
           "Numeracy-600K: Learning Numeracy for Detecting Exaggerated Information in Market Comments"
          ],
          [
           "Multi-Task Deep Neural Networks for Natural Language Understanding"
          ],
          [
           "Distilling Translations with Visual Awareness"
          ],
          [
           "A Simple Theoretical Model of Importance for Summarization"
          ],
          [
           "DisSent: Learning Sentence Representations from Explicit Discourse Relations"
          ],
          [
           "A Corpus for Reasoning About Natural Language Grounded in Photographs"
          ],
          [
           "Multi-News: a Large-Scale Multi-Document Summarization Dataset and Abstractive Hierarchical Model"
          ],
          [
           "EigenSent: Spectral sentence embeddings using higher-order Dynamic Mode Decomposition"
          ],
          [
           "Self-Attentional Models for Lattice Inputs"
          ],
          [
           "SEMBLEU: A Robust Metric for AMR Parsing Evaluation"
          ],
          [
           "Symbolic inductive bias for visually grounded learning of spoken language"
          ],
          [
           "Improved Zero-shot Neural Machine Translation via Ignoring Spurious Correlations"
          ],
          [
           "A Compact and Language-Sensitive Multilingual Translation Method"
          ],
          [
           "On the Robustness of Self-Attentive Models"
          ],
          [
           "Exact Hard Monotonic Attention for Character-Level Transduction"
          ],
          [
           "Reranking for Neural Semantic Parsing"
          ],
          [
           "Incorporating Priors with Feature Attribution on Text Classification"
          ],
          [
           "Multi-Relational Script Learning for Discourse Relations"
          ],
          [
           "Human vs. Muppet: A Conservative Estimate of Human Performance on the GLUE Benchmark"
          ],
          [
           "Using LSTMs to Assess the Obligatoriness of Phonological Distinctive Features for Phonotactic Learning"
          ],
          [
           "Compositional Semantic Parsing Across Graphbanks"
          ],
          [
           "Second-Order Semantic Dependency Parsing with End-to-End Neural Networks"
          ],
          [
           "Determining Relative Argument Specificity and Stance for Complex Argumentative Structures"
          ],
          [
           "Every child should have parents: a taxonomy refinement algorithm based on hyperbolic term embeddings"
          ],
          [
           "Tree Communication Models for Sentiment Analysis"
          ],
          [
           "An Investigation of Transfer Learning-Based Sentiment Analysis in Japanese"
          ],
          [
           "Global Textual Relation Embedding for Relational Understanding"
          ],
          [
           "Latent Variable Sentiment Grammar *"
          ],
          [
           "Embedding time expressions for deep temporal ordering models"
          ],
          [
           "Episodic Memory Reader: Learning What to Remember for Question Answering from Streaming Data"
          ],
          [
           "Are we there yet? Encoder-decoder neural networks as cognitive models of English past tense inflection"
          ],
          [
           "Is word segmentation child's play in all languages?"
          ],
          [
           "Uncovering Probabilistic Implications in Typological Knowledge Bases"
          ],
          [
           "Attention-based Conditioning Methods for External Knowledge Integration"
          ],
          [
           "StRE: Self Attentive Edit Quality Prediction in Wikipedia"
          ],
          [
           "Fine-Grained Sentence Functions for Short-Text Conversation"
          ],
          [
           "Are Training Samples Correlated? Learning to Generate Dialogue Responses with Multiple References"
          ],
          [
           "Fine-Grained Spoiler Detection from Large-Scale Review Corpora"
          ],
          [
           "Unsupervised Learning of PCFGs with Normalizing Flow"
          ],
          [
           "Domain Adaptive Dialog Generation via Meta Learning"
          ],
          [
           "GCDT: A Global Context Enhanced Deep Transition Architecture for Sequence Labeling"
          ],
          [
           "We need to talk about standard splits"
          ],
          [
           "Analyzing Linguistic Differences between Owner and Staff Attributed Tweets"
          ],
          [
           "Categorizing and Inferring the Relationship between the Text and Image of Twitter Posts"
          ],
          [
           "Correlating neural and symbolic representations of language"
          ],
          [
           "Retrieving Sequential Information for Non-Autoregressive Neural Machine Translation"
          ],
          [
           "Transformer-XL: Attentive Language Models Beyond a Fixed-Length Context"
          ],
          [
           "E 3 : Entailment-driven Extracting and Editing for Conversational Machine Reading"
          ],
          [
           "A Simple and Effective Approach to Automatic Post-Editing with Transfer Learning"
          ],
          [
           "Head-Driven Phrase Structure Grammar Parsing on Penn Treebank"
          ],
          [
           "Multilingual Unsupervised NMT using Shared Encoder and Language-Specific Decoders"
          ],
          [
           "Multi-Modal Sarcasm Detection in Twitter with Hierarchical Fusion Model"
          ],
          [
           "MAAM: A Morphology-Aware Alignment Model for Unsupervised Bilingual Lexicon Induction"
          ],
          [
           "On the Compositionality Prediction of Noun Phrases using Poincaré Embeddings"
          ],
          [
           "Cross-Domain NER using Cross-Domain Language Modeling"
          ],
          [
           "Multi-Task Semantic Dependency Parsing with Policy Gradient for Learning Easy-First Strategies"
          ],
          [
           "Variance of average surprisal: a better predictor for quality of grammar from unsupervised PCFG induction"
          ],
          [
           "Wide-Coverage Neural A* Parsing for Minimalist Grammars"
          ],
          [
           "Assessing the Ability of Self-Attention Networks to Learn Word Order"
          ],
          [
           "Topic-Aware Neural Keyphrase Generation for Social Media Language"
          ],
          [
           "Relational Word Embeddings"
          ],
          [
           "You Write Like You Eat: Stylistic variation as a predictor of social stratification"
          ],
          [
           "Sentence-Level Evidence Embedding for Claim Verification with Hierarchical Attention Networks"
          ],
          [
           "Embedding Imputation with Grounded Language Information"
          ],
          [
           "Multi-Hop Paragraph Retrieval for Open-Domain Question Answering"
          ],
          [
           "Textbook Question Answering with Multi-modal Context Graph Understanding and Self-supervised Open-set Comprehension"
          ],
          [
           "Large Dataset and Language Model Fun-Tuning for Humor Recognition"
          ],
          [
           "A Multilingual BPE Embedding Space for Universal Sentiment Lexicon Induction"
          ],
          [
           "A Just and Comprehensive Strategy for Using NLP to Address Online Abuse"
          ],
          [
           "Leveraging Meta Information in Short Text Aggregation"
          ],
          [
           "Self-Attentive, Multi-Context One-Class Classification for Unsupervised Anomaly Detection on Text"
          ],
          [
           "Hubless Nearest Neighbor Search for Bilingual Lexicon Induction"
          ],
          [
           "Dialogue Natural Language Inference"
          ],
          [
           "Bayes Test of Precision, Recall, and F 1 Measure for Comparison of Two Natural Language Processing Models"
          ],
          [
           "The Effectiveness of Simple Hybrid Systems for Hypernym Discovery"
          ],
          [
           "TIGS: An Inference Algorithm for Text Infilling with Gradient Search"
          ],
          [
           "Vocabulary Pyramid Network: Multi-Pass Encoding and Decoding with Multi-Level Vocabularies for Response Generation"
          ],
          [
           "Keeping Notes: Conditional Natural Language Generation with a Scratchpad Mechanism"
          ],
          [
           "Do you know that Florence is packed with visitors? Evaluating state-of-the-art models of speaker commitment"
          ],
          [
           "Towards Language Agnostic Universal Representations"
          ],
          [
           "Give Me More Feedback II: Annotating Thesis Strength and Related Attributes in Student Essays"
          ],
          [
           "End-to-End Sequential Metaphor Identification Inspired by Linguistic Theories"
          ],
          [
           "Learning a Matching Model with Co-teaching for Multi-turn Response Selection in Retrieval-based Dialogue Systems"
          ],
          [
           "Budgeted Policy Learning for Task-Oriented Dialogue Systems"
          ],
          [
           "AdaNSP: Uncertainty-driven Adaptive Decoding in Neural Semantic Parsing"
          ],
          [
           "AutoML strategy based on grammatical evolution: A case study about knowledge discovery from text"
          ],
          [
           "Distilling Discrimination and Generalization Knowledge for Event Detection via ∆-Representation Learning"
          ],
          [
           "Learning to Abstract for Memory-augmented Conversational Response Generation"
          ],
          [
           "Towards Empathetic Open-domain Conversation Models: a New Benchmark and Dataset"
          ],
          [
           "Training Neural Response Selection for Task-Oriented Dialogue Systems"
          ],
          [
           "Joint Slot Filling and Intent Detection via Capsule Neural Networks"
          ],
          [
           "Label-Agnostic Sequence Labeling by Copying Nearest Neighbors"
          ],
          [
           "Self-Attention Architectures for Answer-Agnostic Neural Question Generation"
          ],
          [
           "Large-Scale Transfer Learning for Natural Language Generation"
          ],
          [
           "Enhancing Unsupervised Generative Dependency Parser with Contextual Information"
          ],
          [
           "Cost-sensitive Regularization for Label Confusion-aware Event Detection"
          ],
          [
           "Improving Open Information Extraction via Iterative Rank-Aware Learning"
          ],
          [
           "Towards Improving Neural Named Entity Recognition with Gazetteers"
          ],
          [
           "Improving the Robustness of Question Answering Systems to Question Paraphrasing"
          ],
          [
           "Neural Response Generation with Meta-Words"
          ],
          [
           "Scaling Up Open Tagging from Tens to Thousands: Comprehension Empowered Attribute Value Extraction from Product Title"
          ],
          [
           "NLProlog: Reasoning with Weak Unification for Question Answering in Natural Language"
          ],
          [
           "MC 2 : Multi-perspective Convolutional Cube for Conversational Machine Reading Comprehension"
          ],
          [
           "A Novel Bi-directional Interrelated Model for Joint Intent Detection and Slot Filling"
          ],
          [
           "Reducing Word Omission Errors in Neural Machine Translation: A Contrastive Learning Approach"
          ],
          [
           "Deep Unknown Intent Detection with Margin Loss"
          ],
          [
           "Exploiting Sentential Context for Neural Machine Translation"
          ],
          [
           "Learning to Relate from Captions and Bounding Boxes"
          ],
          [
           "Modeling Semantic Relationship in Multi-turn Conversations with Hierarchical Latent Variables"
          ],
          [
           "An automated framework for fast cognate detection and Bayesian phylogenetic inference in computational historical linguistics"
          ],
          [
           "Learning Latent Trees with Stochastic Perturbations and Differentiable Dynamic Programming"
          ],
          [
           "Discourse Representation Parsing for Sentences and Documents"
          ],
          [
           "Sequence-to-Nuggets: Nested Entity Mention Detection via Anchor-Region Networks"
          ],
          [
           "Training Hybrid Language Models by Marginalizing over Segmentations"
          ],
          [
           "Language Modelling Makes Sense: Propagating Representations through WordNet for Full-Coverage Word Sense Disambiguation"
          ],
          [
           "Combating Adversarial Misspellings with Robust Word Recognition"
          ],
          [
           "Sentiment Tagging with Partial Labels using Modular Architectures"
          ],
          [
           "Word2Sense : Sparse Interpretable Word Embeddings"
          ],
          [
           "Empirical Linguistic Study of Sentence Embeddings"
          ],
          [
           "Collocation Classification with Unsupervised Relation Vectors"
          ],
          [
           "Probing for Semantic Classes: Diagnosing the Meaning Content of Word Embeddings"
          ],
          [
           "Confusionset-guided Pointer Networks for Chinese Spelling Check"
          ],
          [
           "Target Conditioned Sampling: Optimizing Data Selection for Multilingual Neural Machine Translation"
          ],
          [
           "Adversarial Learning of Privacy-Preserving Text Representations for De-Identification of Medical Records"
          ],
          [
           "Variational Pretraining for Semi-supervised Text Classification"
          ],
          [
           "The Referential Reader: A Recurrent Entity Network for Anaphora Resolution"
          ],
          [
           "Interpolated Spectral NGram Language Models"
          ],
          [
           "Barack's Wife Hillary: Using Knowledge Graphs for Fact-Aware Language Modeling"
          ],
          [
           "Depth Growing for Neural Machine Translation"
          ],
          [
           "Manipulating the Difficulty of C-Tests"
          ],
          [
           "Soft Representation Learning for Sparse Transfer"
          ],
          [
           "Duality of Link Prediction and Entailment Graph Induction"
          ],
          [
           "Towards Unsupervised Text Classification Leveraging Experts and Word Embeddings"
          ],
          [
           "Improved Language Modeling by Decoding the Past"
          ],
          [
           "Sparse Sequence-to-Sequence Models"
          ],
          [
           "Neural Network Alignment for Sentential Paraphrases"
          ],
          [
           "A Cross-Sentence Latent Variable Model for Semi-Supervised Text Sequence Matching"
          ],
          [
           "Divide, Conquer and Combine: Hierarchical Feature Fusion Network with Local and Global Perspectives for Multimodal Affective Computing"
          ],
          [
           "Decompositional Argument Mining: A General Purpose Approach for Argument Graph Construction"
          ],
          [
           "What You Say and How You Say It Matters: Predicting Financial Risk Using Verbal and Vocal Cues"
          ],
          [
           "A Transparent Framework for Evaluating Unintended Demographic Bias in Word Embeddings"
          ],
          [
           "Generalized Tuning of Distributional Word Vectors for Monolingual and Cross-Lingual Lexical Entailment"
          ],
          [
           "Cross-Sentence Grammatical Error Correction"
          ],
          [
           "Learning Morphosyntactic Analyzers from the Bible via Iterative Annotation Projection across 26 Languages"
          ],
          [
           "A Surprisingly Robust Trick for the Winograd Schema Challenge"
          ],
          [
           "Encoding Social Information with Graph Convolutional Networks for Political Perspective Detection in News Media"
          ],
          [
           "MELD: A Multimodal Multi-Party Dataset for Emotion Recognition in Conversations"
          ],
          [
           "Topic Sensitive Attention on Generic Corpora Corrects Sense Bias in Pretrained Embeddings"
          ],
          [
           "Coherent Comment Generation for Chinese Articles with a Graph-to-Sequence Model"
          ],
          [
           "Transfer Capsule Network for Aspect Level Sentiment Classification"
          ],
          [
           "Multilingual Factor Analysis"
          ],
          [
           "A Deep Reinforced Sequence-to-Set Model for Multi-Label Classification"
          ],
          [
           "Learning from omission"
          ],
          [
           "Meaning to Form: Measuring Systematicity as Information"
          ],
          [
           "Interconnected Question Generation with Coreference Alignment and Conversation Flow Modeling"
          ],
          [
           "A Corpus for Modeling User and Language Effects in Argumentation on Online Debating"
          ],
          [
           "Generating Diverse Translations with Sentence Codes"
          ],
          [
           "Multilingual and Cross-Lingual Graded Lexical Entailment"
          ],
          [
           "Neural Text Simplification of Clinical Letters with a Domain Specific Phrase Table"
          ],
          [
           "Data Programming for Learning Discourse Structure"
          ],
          [
           "Neural Fuzzy Repair: Integrating Fuzzy Matches into Neural Machine Translation"
          ],
          [
           "What Kind of Language Is Hard to Language-Model?"
          ],
          [
           ""
          ],
          [
           "Text Categorization by Learning Predominant Sense of Words as Auxiliary Task"
          ],
          [
           "Reinforced Training Data Selection for Domain Adaptation"
          ],
          [
           "Bilingual Lexicon Induction through Unsupervised Machine Translation"
          ],
          [
           "One Time of Interaction May Not Be Enough: Go Deep with an Interaction-over-Interaction Network for Response Selection in Dialogues"
          ],
          [
           "Coreference Resolution with Entity Equalization"
          ],
          [
           "Generating Long and Informative Reviews with Aspect-Aware Coarse-to-Fine Decoding"
          ],
          [
           "Asking the Crowd: Question Analysis, Evaluation and Generation for Open Discussion on Online Forums"
          ],
          [
           "Automatic Generation of High Quality CCGbanks for Parser Domain Adaptation"
          ],
          [
           "MOROCO: The Moldavian and Romanian Dialectal Corpus"
          ],
          [
           "Unsupervised Neural Text Simplification"
          ],
          [
           "Abstractive text summarization based on deep learning and semantic content generalization"
          ],
          [
           "An Effective Approach to Unsupervised Machine Translation"
          ],
          [
           "Errudite: Scalable, Reproducible, and Testable Error Analysis"
          ],
          [
           "Unsupervised Neural Single-Document Summarization of Reviews via Learning Latent Discourse Structure and its Ranking"
          ],
          [
           "Studying Summarization Evaluation Metrics in the Appropriate Scoring Range"
          ],
          [
           "Spatial Aggregation Facilitates Discovery of Spatial Topics"
          ],
          [
           "SherLIiC: A Typed Event-Focused Lexical Inference Benchmark for Evaluating Natural Language Inference"
          ],
          [
           "Syntax-Infused Variational Autoencoder for Text Generation"
          ],
          [
           "Collaborative Dialogue in Minecraft"
          ],
          [
           "Finding Your Voice: The Linguistic Development of Mental Health Counselors"
          ],
          [
           "Inferential Machine Comprehension: Answering Questions by Recursively Deducing the Evidence Chain from Text"
          ],
          [
           "Modeling affirmative and negated action processing in the brain with lexical and compositional semantic models"
          ],
          [
           "Detecting Concealed Information in Text and Speech"
          ],
          [
           "Towards Automating Healthcare Question Answering in a Noisy Multilingual Low-Resource Setting"
          ],
          [
           "Explicit Utilization of General Knowledge in Machine Reading Comprehension"
          ],
          [
           "Self-Regulated Interactive Sequence-to-Sequence Learning"
          ],
          [
           "Joint Entity Extraction and Assertion Detection for Clinical Text"
          ],
          [
           "Incorporating Linguistic Constraints into Keyphrase Generation"
          ],
          [
           "Adaptive Attention Span in Transformers"
          ],
          [
           "Automatic Domain Adaptation Outperforms Manual Domain Adaptation for Predicting Financial Outcomes"
          ],
          [
           "Wikipedia as a Resource for Text Analysis and Retrieval"
          ],
          [
           "Unsupervised Cross-Lingual Representation Learning"
          ],
          [
           "Computational ad hominem detection"
          ],
          [
           "Fact or Factitious? Contextualized Opinion Spam Detection"
          ],
          [
           "Latent Structure Models for Natural Language Processing"
          ],
          [
           "Multiple Character Embeddings for Chinese Word Segmentation"
          ],
          [
           ""
          ],
          [
           "BREAKING! Presenting Fake News Corpus For Automated Fact Checking"
          ],
          [
           "Automated Cross-language Intelligibility Analysis of Parkinson's Disease Patients Using Speech Recognition Technologies"
          ],
          [
           "Attention and Lexicon Regularized LSTM for Aspect-based Sentiment Analysis"
          ],
          [
           ""
          ],
          [
           "Advances in Argument Mining"
          ],
          [
           "Hierarchical Multi-label Classification of Text with Capsule Networks"
          ],
          [
           "Computational Analysis of Political Texts: Bridging Research Efforts Across Communities"
          ],
          [
           "English-Indonesian Neural Machine Translation for Spoken Language Domains"
          ],
          [
           "Active Reading Comprehension: A dataset for learning the Question-Answer Relationship strategy"
          ],
          [
           "Robust-to-Noise Models in Natural Language Processing Tasks"
          ],
          [
           "Measuring the Value of Linguistics: A Case Study from St. Lawrence Island Yupik"
          ],
          [
           "Improving Mongolian-Chinese Neural Machine Translation with Morphological Noise"
          ],
          [
           "Towards incremental learning of word embeddings using context informativeness"
          ],
          [
           "Joint Learning of Named Entity Recognition and Entity Linking"
          ],
          [
           "A Strong and Robust Baseline for Text-Image Matching"
          ],
          [
           "Reducing Gender Bias in Word-Level Language Models with a Gender-Equalizing Loss Function"
          ],
          [
           "Transfer Learning Based Free-Form Speech Command Classification for Low-Resource Languages"
          ],
          [
           "Enriching Neural Models with Targeted Features for Dementia Detection"
          ],
          [
           "Convolutional Neural Networks for Financial Text Regression"
          ],
          [
           "Scheduled Sampling for Transformers"
          ],
          [
           "Sentiment Analysis on Naija-Tweets"
          ],
          [
           "Sentiment Classification using Document Embeddings trained with Cosine Similarity"
          ],
          [
           "A Japanese Word Segmentation Proposal"
          ],
          [
           "Deep Bayesian Natural Language Processing"
          ],
          [
           ""
          ],
          [
           ""
          ],
          [
           "Gender Stereotypes Differ between Male and Female Writings"
          ],
          [
           "Natural Language Generation: Recently Learned Lessons, Directions for Semantic Representation-based Approaches, and the case of Brazilian Portuguese Language"
          ],
          [
           "Towards Turkish Abstract Meaning Representation"
          ],
          [
           "Predicting the Outcome of Deliberative Democracy: A Research Proposal"
          ],
          [
           "Distributed Knowledge Based Clinical Auto-Coding System"
          ]
         ],
         "hovertemplate": "lab_or_not=notlab<br>x1=%{x}<br>x2=%{y}<br>hover_data_0=%{customdata[0]}<extra></extra>",
         "legendgroup": "notlab",
         "marker": {
          "color": "#636efa",
          "symbol": "circle"
         },
         "mode": "markers",
         "name": "notlab",
         "orientation": "v",
         "showlegend": true,
         "type": "scatter",
         "x": [
          0.1393200010061264,
          0.25976550579071045,
          -0.2003570944070816,
          -0.0539260059595108,
          -0.15726514160633087,
          0.03262011706829071,
          0.28841400146484375,
          -0.1704111397266388,
          -0.14568698406219482,
          0.31172534823417664,
          0.39620721340179443,
          0.017942698672413826,
          0.11779393255710602,
          0.23750123381614685,
          -0.12998026609420776,
          -0.05224941670894623,
          0.006941941566765308,
          0.03762179985642433,
          -0.23932476341724396,
          0.04523320123553276,
          -0.08450336009263992,
          0.13905932009220123,
          0.020292824134230614,
          -0.08861871063709259,
          0.0931064784526825,
          -0.10795190185308456,
          -0.021139243617653847,
          -0.1812043935060501,
          0.04993375763297081,
          0.6422428488731384,
          0.03836072236299515,
          0.13704833388328552,
          0.05883263051509857,
          -0.16578835248947144,
          -0.23478452861309052,
          -0.20066440105438232,
          -0.02627575397491455,
          0.2424645870923996,
          0.007957413792610168,
          -0.038610395044088364,
          -0.07213839888572693,
          -0.04701872169971466,
          -0.13709010183811188,
          -0.005646624136716127,
          0.03831356391310692,
          0.1539374738931656,
          -0.13083499670028687,
          -0.18122798204421997,
          0.17990393936634064,
          -0.06145583465695381,
          -0.008769018575549126,
          -0.29828616976737976,
          -0.1972680538892746,
          -0.1895485520362854,
          0.1314692348241806,
          0.23015591502189636,
          -0.05432800203561783,
          0.08092538267374039,
          -0.06676764041185379,
          0.12242116034030914,
          0.0011267221998423338,
          -0.07642145454883575,
          0.04077519476413727,
          -0.17740365862846375,
          0.014526194892823696,
          -0.10831446945667267,
          -0.2765797972679138,
          -0.13751165568828583,
          -0.10416586697101593,
          0.2224394679069519,
          0.010892238467931747,
          -0.35640865564346313,
          -0.3326352536678314,
          -0.04824129864573479,
          -0.00465520191937685,
          -0.0698046162724495,
          -0.06226453557610512,
          0.6422428488731384,
          0.15894770622253418,
          0.043574560433626175,
          -0.08048249036073685,
          0.030978014692664146,
          0.006975049618631601,
          0.06528917700052261,
          -0.08544400334358215,
          0.009491381235420704,
          0.054240401834249496,
          -0.13849103450775146,
          -0.0011084422003477812,
          0.01341370027512312,
          -0.11983729898929596,
          -0.06269270926713943,
          0.10361948609352112,
          -0.05292981490492821,
          0.10478638112545013,
          0.30613699555397034,
          0.22104112803936005,
          -0.060074303299188614,
          0.2169819176197052,
          -0.08275454491376877,
          0.025439729914069176,
          0.053477250039577484,
          0.02069183439016342,
          -0.004885932430624962,
          -0.1293952763080597,
          0.28275132179260254,
          -0.030833519995212555,
          0.2916363775730133,
          0.14177124202251434,
          0.03456857427954674,
          0.26696112751960754,
          0.1285555064678192,
          -0.2953936457633972,
          0.2022998332977295,
          -0.36348971724510193,
          -0.23883621394634247,
          -0.35906192660331726,
          -0.333167165517807,
          0.054201047867536545,
          -0.16920346021652222,
          0.15419219434261322,
          -0.29564592242240906,
          -0.23075030744075775,
          -0.06625188142061234,
          -0.10576001554727554,
          -0.13201607763767242,
          -0.28073927760124207,
          0.40891093015670776,
          0.16839569807052612,
          0.0816567912697792,
          -0.06607768684625626,
          0.2138589322566986,
          -0.134149968624115,
          0.19188478589057922,
          0.2818782329559326,
          -0.1260010004043579,
          0.07246677577495575,
          0.1570655256509781,
          -0.11231647431850433,
          0.30449235439300537,
          -0.13719090819358826,
          0.2505814731121063,
          0.11784253269433975,
          -0.3103114068508148,
          0.007069253362715244,
          -0.05366393178701401,
          0.09686551988124847,
          0.15011294186115265,
          0.2318105846643448,
          0.38232114911079407,
          0.3843117654323578,
          0.10576263070106506,
          0.1031758263707161,
          -0.04453182592988014,
          -0.05068586394190788,
          -0.20744027197360992,
          -0.22055701911449432,
          -0.005246435292065144,
          -0.17614243924617767,
          -0.009947331622242928,
          -0.3721065819263458,
          -0.3141559362411499,
          0.06727315485477448,
          -0.2240438461303711,
          -0.13114450871944427,
          0.3995177149772644,
          0.15174242854118347,
          -0.10294491052627563,
          -0.15702363848686218,
          0.032794151455163956,
          -0.09084659069776535,
          0.0329430028796196,
          -0.018604528158903122,
          0.07505843043327332,
          -0.13951422274112701,
          -0.06706768274307251,
          -0.21158131957054138,
          -0.23878741264343262,
          -0.1564973145723343,
          -0.06602628529071808,
          0.04038715735077858,
          -0.3540165424346924,
          -0.13691191375255585,
          -0.08212576806545258,
          -0.20542170107364655,
          -0.06137055158615112,
          -0.10760083049535751,
          -0.15364694595336914,
          -0.022132720798254013,
          -0.12572358548641205,
          -0.16223853826522827,
          -0.1972716897726059,
          -0.32617130875587463,
          0.007274847477674484,
          -0.37454983592033386,
          -0.30780690908432007,
          0.02898966521024704,
          -0.1027977466583252,
          0.006869638338685036,
          -0.12531781196594238,
          0.0745917409658432,
          -0.24567747116088867,
          -0.027839642018079758,
          -0.1678084284067154,
          0.15250998735427856,
          0.42008817195892334,
          0.23400726914405823,
          -0.11266233026981354,
          -0.10323666036128998,
          0.32736289501190186,
          -0.33540937304496765,
          0.007558331359177828,
          -0.008166931569576263,
          -0.031516183167696,
          0.21922706067562103,
          0.09891249239444733,
          0.31314146518707275,
          0.4454192519187927,
          0.3434307873249054,
          0.3364788889884949,
          -0.11046156287193298,
          -0.16239804029464722,
          -0.07440492510795593,
          -0.022741546854376793,
          0.1204230934381485,
          0.02637365087866783,
          -0.0081190075725317,
          -0.06870132684707642,
          -0.04807243496179581,
          -0.0858616903424263,
          0.06867824494838715,
          -0.11404039710760117,
          -0.0021902674343436956,
          -0.12565363943576813,
          -0.10963239520788193,
          -0.08646789938211441,
          -0.04509003832936287,
          -0.14872129261493683,
          -0.17370781302452087,
          0.21067994832992554,
          -0.21438780426979065,
          -0.01262833084911108,
          -0.14792965352535248,
          -0.137078657746315,
          -0.2447090446949005,
          -0.04718136787414551,
          0.11016488820314407,
          -0.14331726729869843,
          -0.017084870487451553,
          -0.27766573429107666,
          -0.13108430802822113,
          -0.07921534031629562,
          -0.31198930740356445,
          0.024739976972341537,
          -0.2656117081642151,
          0.011436880566179752,
          -0.08043697476387024,
          -0.14920677244663239,
          -0.262703537940979,
          -0.09981589764356613,
          -0.09760003536939621,
          -0.13092169165611267,
          -0.05926445871591568,
          -0.01834048144519329,
          0.1720401495695114,
          0.21259093284606934,
          -0.0758310928940773,
          0.09623831510543823,
          0.6422428488731384,
          -0.2026555836200714,
          -0.033811356872320175,
          -0.1082107201218605,
          -0.2081189602613449,
          0.1955423504114151,
          -0.10115815699100494,
          -0.13666830956935883,
          0.010367446579039097,
          -0.030632320791482925,
          0.15061363577842712,
          0.06146320328116417,
          -0.12250856310129166,
          0.004521377384662628,
          0.2459692656993866,
          -0.23529231548309326,
          -0.12471663951873779,
          0.1042584627866745,
          -0.06452810764312744,
          -0.20298917591571808,
          -0.005983754992485046,
          -0.07906469702720642,
          0.08709295839071274,
          -0.0051207575015723705,
          0.008108497597277164,
          -0.22609205543994904,
          0.003854565555229783,
          0.02365945093333721,
          0.027800528332591057,
          0.2107071876525879,
          -0.18675260245800018,
          -0.1279064416885376,
          -0.14935658872127533,
          0.1673954427242279,
          0.23042353987693787,
          0.22799019515514374,
          0.2749441862106323,
          -0.052797019481658936,
          0.023801691830158234,
          0.18668238818645477,
          0.020678147673606873,
          -0.0531022734940052,
          0.0136891920119524,
          0.07201463729143143,
          0.2894213795661926,
          -0.005972603335976601,
          0.03052939847111702,
          0.14929738640785217,
          0.3650054335594177,
          0.18552926182746887,
          0.3096565306186676,
          -0.14129889011383057,
          -0.3008251190185547,
          -0.01670948788523674,
          0.09526235610246658,
          0.03170490637421608,
          0.0023835403844714165,
          0.15122170746326447,
          -0.07094032317399979,
          -0.22660931944847107,
          0.23518997430801392,
          0.18106567859649658,
          -0.07159952819347382,
          0.043330900371074677,
          0.4456843435764313,
          0.1537521630525589,
          -0.07056066393852234,
          -0.09808094799518585,
          -0.08884953707456589,
          -0.08185093104839325,
          0.08998934924602509,
          0.09100884944200516,
          -0.15237568318843842,
          -0.12428624927997589,
          0.16791029274463654,
          -0.14555659890174866,
          -0.07910927385091782,
          0.09795340150594711,
          -0.06120174378156662,
          0.18573470413684845,
          -0.1833924949169159,
          0.04416351765394211,
          0.03541083261370659,
          -0.08629871904850006,
          0.13012535870075226,
          0.12206438183784485,
          -0.006014934275299311,
          -0.2768801748752594,
          -0.07768283784389496,
          0.17295177280902863,
          -0.11998434364795685,
          0.048917412757873535,
          0.04631470516324043,
          0.1061827763915062,
          -0.02609432116150856,
          0.1332608163356781,
          0.15324313938617706,
          0.03901669383049011,
          -0.11733347922563553,
          0.06487655639648438,
          0.1056765466928482,
          -0.09842143952846527,
          -0.010852503590285778,
          0.358388751745224,
          -0.014459656551480293,
          -0.0034317360259592533,
          -0.043102554976940155,
          -0.03119114227592945,
          0.04236152768135071,
          0.04031164571642876,
          -0.001381913898512721,
          -0.04213228449225426,
          0.1418207436800003,
          0.30940014123916626,
          0.07132235914468765,
          -0.19212132692337036,
          -0.13950490951538086,
          -0.036892667412757874,
          0.12721239030361176,
          0.6422428488731384,
          -0.14054393768310547,
          0.04227612540125847,
          -0.09266854077577591,
          -0.09284152090549469,
          0.08608324825763702,
          0.15747246146202087,
          -0.19868715107440948,
          0.06451354920864105,
          -0.18913358449935913,
          0.16852451860904694,
          0.034905530512332916,
          -0.10127951949834824,
          -0.05937349423766136,
          -0.0945003405213356,
          0.6422428488731384,
          -0.11392513662576675,
          0.08085419237613678,
          0.047994814813137054,
          -0.08249243348836899,
          -0.21195271611213684,
          0.09133636951446533,
          -0.34881091117858887,
          -0.10993757098913193,
          0.05463073402643204,
          0.1490727663040161,
          0.28083932399749756,
          0.0635298565030098,
          0.061717916280031204,
          -0.049487438052892685,
          -0.007016772869974375,
          -0.05626864731311798,
          0.053087860345840454,
          0.03378942608833313,
          -0.2917710840702057,
          -0.07573352754116058,
          -0.1491124927997589,
          -0.10204422473907471,
          0.16052207350730896,
          0.2872232496738434,
          -0.3324674963951111,
          0.07963686436414719,
          -0.01705756224691868,
          -0.38909652829170227,
          -0.11266142874956131,
          0.021146591752767563,
          -0.04771338030695915,
          -0.07624000310897827,
          0.07217566668987274,
          0.1335473656654358,
          -0.23399893939495087,
          -0.15807321667671204,
          0.2064545750617981,
          -0.32905280590057373,
          -0.139618918299675,
          -0.18472769856452942,
          0.08890330791473389,
          -0.11989324539899826,
          -0.20407170057296753,
          -0.015888547524809837,
          -0.09058089554309845,
          -0.0991874560713768,
          -0.13412269949913025,
          0.3808614909648895,
          0.25833800435066223,
          -0.13879047334194183,
          -0.09391091018915176,
          0.07823938131332397,
          -0.09629740566015244,
          -0.0012797147501260042,
          -0.21999523043632507,
          -0.03449300676584244,
          0.02912522479891777,
          -0.28370675444602966,
          0.2692570984363556,
          -0.1079610288143158,
          0.27300503849983215,
          0.20500855147838593,
          0.13687676191329956,
          0.6422428488731384,
          0.3203428387641907,
          -0.020214073359966278,
          0.17696186900138855,
          0.5081345438957214,
          0.03269151225686073,
          0.10175968706607819,
          -0.06100785732269287,
          -0.02121734991669655,
          0.25083690881729126,
          -0.20490476489067078,
          0.017799146473407745,
          -0.09014218300580978,
          -0.29631704092025757,
          0.18355034291744232,
          -0.29522228240966797,
          0.20218174159526825,
          -0.264973521232605,
          -0.26863202452659607,
          -0.13632121682167053,
          -0.25229060649871826,
          -0.22428488731384277,
          0.21686965227127075,
          0.015269958414137363,
          -0.10333216935396194,
          -0.14657938480377197,
          0.043250199407339096,
          0.3290371298789978,
          0.19064880907535553,
          -0.10063189268112183,
          0.04710235819220543,
          -0.0335782952606678,
          0.0035299283917993307,
          0.030722729861736298,
          -0.39281389117240906,
          -0.12176492065191269,
          0.20393109321594238,
          -0.16735422611236572,
          -0.15207065641880035,
          -0.09118816256523132,
          0.1765044927597046,
          -0.10965662449598312,
          -0.1521184891462326,
          -0.08833912014961243,
          0.2445867508649826,
          -0.06342851370573044,
          0.04838027432560921,
          0.25420835614204407,
          0.01706727221608162,
          -0.020340505987405777,
          -0.12958435714244843,
          -0.27865973114967346,
          -0.31384071707725525,
          0.42991355061531067,
          -0.047988131642341614,
          -0.13428445160388947,
          -0.09986340999603271,
          -0.0159123744815588,
          -0.2093670666217804,
          -0.19801564514636993,
          -0.05825711041688919,
          0.12963461875915527,
          0.002623189240694046,
          -0.30694204568862915,
          0.22594165802001953,
          -0.0635802149772644,
          0.14565087854862213,
          0.038643669337034225,
          -0.07916626334190369,
          0.1022581160068512,
          0.06678678095340729,
          0.01904873363673687,
          -0.11833798140287399,
          -0.06570407003164291,
          -0.2587035298347473,
          -0.17476534843444824,
          0.11756899952888489,
          -0.12157844752073288,
          0.0990222841501236,
          -0.032227203249931335,
          0.03389126434922218,
          -0.25945451855659485,
          -0.013152848929166794,
          -0.15067069232463837,
          -0.3098559081554413,
          -0.375386118888855,
          -0.005133789964020252,
          -0.29284313321113586,
          -0.11797812581062317,
          0.1645851582288742,
          0.05066285654902458,
          -0.0917089506983757,
          -0.0470379963517189,
          -0.08960452675819397,
          -0.0972781851887703,
          0.37242308259010315,
          0.07867477834224701,
          0.08032919466495514,
          0.04102160036563873,
          -0.13729718327522278,
          0.07273957133293152,
          -0.07461678981781006,
          -0.2053452432155609,
          -0.1374109983444214,
          -0.02274852618575096,
          0.03163456916809082,
          -0.2846178114414215,
          0.00397843262180686,
          -0.009047719649970531,
          -0.01668880134820938,
          0.20889046788215637,
          -0.12535056471824646,
          0.035750504583120346,
          -0.2772103548049927,
          0.12427932769060135,
          0.39751631021499634,
          0.2532244920730591,
          -0.08049263805150986,
          -0.3242378234863281,
          -0.2544792592525482,
          0.13776282966136932,
          -0.2092828005552292,
          -0.014008699916303158,
          -0.33063486218452454,
          0.19082772731781006,
          -0.20215103030204773,
          -0.03957800939679146,
          -0.07872918993234634,
          0.0015970662934705615,
          -0.038216687738895416,
          -0.06374300271272659,
          -0.313864141702652,
          0.026004066690802574,
          -0.024844428524374962,
          0.24699640274047852,
          0.0047316537238657475,
          -0.040248047560453415,
          -0.019443470984697342,
          -0.0582786425948143,
          0.17066015303134918,
          0.11903656274080276,
          0.5385995507240295,
          0.13426806032657623,
          -0.005953056737780571,
          -0.19125734269618988,
          0.10740895569324493,
          -0.035625606775283813,
          0.07635091990232468,
          -0.19018018245697021,
          -0.035313572734594345,
          -0.2021401971578598,
          0.05120956897735596,
          -0.11359915882349014,
          0.30256718397140503,
          -0.03874856233596802,
          0.10330270230770111,
          0.08001889288425446,
          -0.22393915057182312,
          0.16811564564704895,
          0.01389666274189949,
          -0.02907467447221279,
          0.10424245148897171,
          0.09729906171560287,
          -0.049987681210041046,
          -0.12791414558887482,
          -0.18156062066555023,
          -0.0661766454577446,
          -0.16602464020252228,
          0.07389254868030548,
          0.03792954981327057,
          -0.039777424186468124,
          -0.08894889801740646,
          -0.047497592866420746,
          0.18975067138671875,
          -0.03946373239159584,
          -0.06954730302095413,
          -0.011544403620064259,
          -0.29806050658226013,
          0.05334668606519699,
          -0.3673325181007385,
          -0.07597143203020096,
          -0.006431956309825182,
          0.10218459367752075,
          0.019300060346722603,
          -0.07018794119358063,
          -0.00864375103265047,
          -0.07651937007904053,
          -0.1849328726530075,
          -0.06520155072212219,
          0.09994880110025406,
          -0.100510373711586,
          -0.07012021541595459,
          -0.04319362714886665,
          0.07200299203395844,
          -0.10799061506986618,
          -0.28581076860427856,
          0.12230928242206573,
          -0.1290685087442398,
          -0.048662640154361725,
          -0.08964627236127853,
          -0.12071555107831955,
          -0.38151371479034424,
          0.05869685113430023,
          -0.18412789702415466,
          0.1295967847108841,
          0.20514313876628876,
          -0.23798733949661255,
          -0.27913495898246765,
          -0.051715802401304245,
          -0.10137659311294556,
          0.022786684334278107,
          0.3453315198421478,
          0.16876809298992157,
          0.146797314286232,
          -0.10635030269622803,
          -0.2567708194255829,
          -0.01953905262053013,
          -0.05262421444058418,
          0.20090259611606598,
          0.21797966957092285,
          -0.11715616285800934,
          0.1405612975358963,
          0.10730292648077011,
          -0.13538150489330292,
          -0.038269318640232086,
          0.02970445156097412,
          0.013273227028548717,
          -0.07145218551158905,
          0.4657902121543884,
          -0.11742382496595383,
          -0.05287216976284981,
          0.028601622208952904,
          0.028752485290169716,
          -0.3169371485710144,
          -0.13934099674224854,
          0.6422428488731384,
          -0.0031962196808308363,
          -0.07533679157495499,
          -0.26043155789375305,
          -0.009002306498587132,
          -0.00022122851805761456,
          0.09350001066923141,
          0.03909553959965706,
          -0.025178052484989166,
          0.1000300943851471,
          -0.11835826188325882,
          -0.061619579792022705,
          -0.33948612213134766,
          0.18055208027362823,
          0.07263877242803574,
          0.16251559555530548,
          0.2588919699192047,
          -0.03687836974859238,
          -0.19120581448078156,
          0.208892822265625,
          0.27588969469070435,
          -0.06487367302179337,
          0.09108326584100723,
          0.2591157853603363,
          -0.11357355862855911,
          -0.14565972983837128,
          -0.1797644942998886,
          -0.09852582961320877,
          -0.026082389056682587,
          -0.16407836973667145,
          0.16698214411735535,
          0.6422428488731384,
          0.6422428488731384,
          0.4748944640159607,
          0.21375672519207,
          0.6422428488731384,
          -0.19805604219436646,
          0.17512699961662292,
          0.2927559018135071,
          0.09719596058130264,
          0.0037601199001073837,
          0.6422428488731384,
          0.43864691257476807,
          -0.03156315162777901,
          0.6422428488731384,
          -0.19059647619724274,
          -0.035359591245651245,
          0.018586480990052223,
          -0.011822016909718513,
          -0.14879025518894196,
          -0.03942286968231201,
          -0.07439038157463074,
          -0.08012332767248154,
          -0.033337462693452835,
          -0.0736771896481514,
          0.0150825260207057,
          0.030105946585536003,
          -0.312483549118042,
          0.2866261899471283,
          0.18544194102287292,
          0.09958314150571823,
          0.6422428488731384,
          0.6422428488731384,
          0.6422428488731384,
          0.3306654393672943,
          0.1005716398358345,
          0.0638182982802391,
          0.2686202824115753,
          0.10920754820108414
         ],
         "xaxis": "x",
         "y": [
          -0.33223092555999756,
          -0.25226539373397827,
          -0.2767890989780426,
          0.11814917623996735,
          0.01263266522437334,
          -0.2486436665058136,
          0.2455265372991562,
          0.18446697294712067,
          0.08427723497152328,
          -0.17413121461868286,
          -0.08274516463279724,
          -0.1555703580379486,
          -0.19316977262496948,
          0.09368675947189331,
          0.15115079283714294,
          0.02243121899664402,
          0.35991793870925903,
          -0.13675153255462646,
          0.1293943077325821,
          0.22493764758110046,
          0.14279749989509583,
          0.10306986421346664,
          0.15089033544063568,
          -0.13669392466545105,
          -0.03974650427699089,
          0.0048882137052714825,
          -0.05979384109377861,
          0.08992087095975876,
          0.06961539387702942,
          0.005288573447614908,
          -0.2870657742023468,
          0.13818888366222382,
          -0.010931693948805332,
          0.1884598284959793,
          -0.21838968992233276,
          -0.03243741765618324,
          0.27898818254470825,
          -0.20496702194213867,
          0.06520310044288635,
          0.03814415633678436,
          0.37235012650489807,
          -0.03411835804581642,
          -0.08247807621955872,
          -0.0045987628400325775,
          0.06457166373729706,
          0.07300225645303726,
          0.03105798177421093,
          0.04197075217962265,
          0.15517239272594452,
          -0.18190599977970123,
          -0.18645499646663666,
          0.032655250281095505,
          -0.1290893852710724,
          0.1026693657040596,
          0.4081002473831177,
          0.4741637110710144,
          0.23465077579021454,
          0.04908030852675438,
          0.03468723222613335,
          -0.1398804932832718,
          -0.1796124130487442,
          -0.0585964098572731,
          -0.0662495419383049,
          -0.05699998140335083,
          -0.028974104672670364,
          -0.14819996058940887,
          -0.0834900438785553,
          0.06504150480031967,
          0.15214961767196655,
          0.384731262922287,
          0.4738101661205292,
          -0.019657224416732788,
          -0.25218766927719116,
          -0.04999076575040817,
          -0.014282001182436943,
          -0.16861532628536224,
          -0.026952499523758888,
          0.005288573447614908,
          0.36194732785224915,
          0.33220401406288147,
          -0.12922528386116028,
          0.065887451171875,
          -0.1022852435708046,
          -0.09258817136287689,
          -0.16808079183101654,
          -0.11406358331441879,
          0.02995220199227333,
          -0.04423776641488075,
          -0.08634965866804123,
          -0.16935749351978302,
          0.31827646493911743,
          0.22765111923217773,
          -0.059048719704151154,
          -0.13437512516975403,
          -0.3133627772331238,
          -0.011898929253220558,
          0.09773528575897217,
          0.05583353340625763,
          -0.056367721408605576,
          0.23659197986125946,
          -0.13152728974819183,
          0.37732353806495667,
          0.22922131419181824,
          0.02603207714855671,
          -0.19220148026943207,
          -0.028162026777863503,
          0.12771573662757874,
          0.16480855643749237,
          0.09475542604923248,
          -0.24370482563972473,
          -0.17528480291366577,
          0.16821987926959991,
          -0.3241937458515167,
          0.0784626230597496,
          -0.3252997100353241,
          -0.007478576619178057,
          -0.031258273869752884,
          0.0270987581461668,
          0.07494556158781052,
          -0.22635413706302643,
          -0.08200306445360184,
          0.06578955799341202,
          -0.24537599086761475,
          0.2581634819507599,
          -0.18063589930534363,
          0.05524059012532234,
          -0.04726988077163696,
          -0.03634841367602348,
          -0.09243498742580414,
          0.2922137677669525,
          0.24998167157173157,
          -0.020494282245635986,
          -0.07508739829063416,
          -0.18866994976997375,
          -0.19368259608745575,
          0.10126231610774994,
          0.04596041887998581,
          0.3346835672855377,
          0.05255827680230141,
          -0.017799533903598785,
          0.19158224761486053,
          0.38259199261665344,
          -0.06460648030042648,
          -0.11237826198339462,
          -0.17988072335720062,
          0.31328824162483215,
          -0.24376577138900757,
          -0.10087273269891739,
          -0.37326472997665405,
          -0.1310574859380722,
          -0.21911069750785828,
          -0.11343367397785187,
          0.268503338098526,
          -0.236808180809021,
          -0.04715883731842041,
          -0.40528348088264465,
          -0.3171822428703308,
          -0.11222370713949203,
          -0.305117130279541,
          -0.1563905030488968,
          -0.04592518135905266,
          -0.028491109609603882,
          0.17634057998657227,
          -0.0518859326839447,
          0.09377067536115646,
          0.10408028215169907,
          -0.19253785908222198,
          0.0017648584907874465,
          -0.10871397703886032,
          -0.15151070058345795,
          0.01787007600069046,
          0.2807203531265259,
          -0.1204579547047615,
          0.12126553803682327,
          0.1337510645389557,
          -0.008722894825041294,
          -0.16176970303058624,
          0.2158091962337494,
          0.05441217124462128,
          -0.15139494836330414,
          -0.24005283415317535,
          0.02985558472573757,
          0.40046626329421997,
          0.36320045590400696,
          0.015471382066607475,
          0.06560046225786209,
          -0.0981321781873703,
          0.018313419073820114,
          0.10325438529253006,
          0.00238063489086926,
          0.20563679933547974,
          0.023382553830742836,
          0.05776377394795418,
          -0.1180892065167427,
          -0.1253080517053604,
          0.15918146073818207,
          -0.030484605580568314,
          0.004987446591258049,
          -0.2976346015930176,
          0.26690810918807983,
          -0.16762912273406982,
          0.08076176047325134,
          -0.03158590942621231,
          0.265596479177475,
          -0.07024741172790527,
          -0.12905244529247284,
          0.01717909798026085,
          -0.03126205503940582,
          0.05718538165092468,
          -0.2799842357635498,
          0.10294069349765778,
          -0.047061409801244736,
          -0.04020921140909195,
          0.30591240525245667,
          0.21397361159324646,
          0.19688954949378967,
          -0.3640686273574829,
          -0.023470493033528328,
          -0.13320554792881012,
          0.008513509295880795,
          -0.10383740812540054,
          0.12782317399978638,
          -0.1231655552983284,
          0.006276664324104786,
          -0.07129646092653275,
          -0.2653391361236572,
          0.20171424746513367,
          -0.1029103547334671,
          0.18596751987934113,
          -0.18137381970882416,
          0.404487669467926,
          0.23073303699493408,
          0.35981833934783936,
          0.18931032717227936,
          0.040336694568395615,
          0.34740832448005676,
          -0.12719900906085968,
          0.024751540273427963,
          0.10725514590740204,
          0.09110391139984131,
          0.22993044555187225,
          0.10396956652402878,
          -0.19927334785461426,
          -0.048715267330408096,
          0.1243487000465393,
          0.07134778797626495,
          -0.01518239825963974,
          0.04917421191930771,
          0.10783460736274719,
          -0.015957897529006004,
          -0.08100748062133789,
          -0.030216190963983536,
          -0.09197354316711426,
          -0.28380286693573,
          0.0041599092073738575,
          -0.1351875215768814,
          0.06729255616664886,
          -0.14315518736839294,
          -0.3660004734992981,
          -0.018880551680922508,
          -0.1327836662530899,
          0.14212757349014282,
          -0.1483948975801468,
          0.03961930423974991,
          -0.07017526775598526,
          0.06384336203336716,
          0.07162462174892426,
          -0.08530628681182861,
          0.005288573447614908,
          -0.026075538247823715,
          0.4128180742263794,
          0.06461919844150543,
          0.07547935843467712,
          0.4042776823043823,
          -0.3747161626815796,
          0.2789362967014313,
          0.18759889900684357,
          0.21463066339492798,
          0.11167454719543457,
          0.4452302157878876,
          0.003307316219434142,
          -0.11428841203451157,
          -0.20671997964382172,
          0.012995186261832714,
          -0.0930640920996666,
          0.13903844356536865,
          -0.1190105453133583,
          -0.009733958169817924,
          -0.19407927989959717,
          -0.4176101088523865,
          -0.33925923705101013,
          -0.16365933418273926,
          0.3140566051006317,
          0.014681663364171982,
          0.011222359724342823,
          0.0600963830947876,
          0.07314252853393555,
          -0.03671769052743912,
          -0.2788774371147156,
          -0.22774215042591095,
          0.0687011182308197,
          -0.0782649964094162,
          -0.21358782052993774,
          -0.16661547124385834,
          0.11357062309980392,
          -0.11645732820034027,
          -0.04959295317530632,
          -0.09260089695453644,
          0.20047947764396667,
          0.00041885816608555615,
          0.033216122537851334,
          0.13587746024131775,
          -0.13372954726219177,
          -0.14205262064933777,
          0.2494339495897293,
          -0.05273449048399925,
          -0.15691201388835907,
          -0.06552994251251221,
          -0.17261642217636108,
          -0.035043586045503616,
          0.04823799431324005,
          0.26131942868232727,
          -0.4077118933200836,
          0.014658194966614246,
          -0.13798893988132477,
          -0.14187170565128326,
          0.07413724809885025,
          -0.15108585357666016,
          0.17670105397701263,
          0.13660863041877747,
          -0.054812584072351456,
          0.028558669611811638,
          0.09715031832456589,
          0.1273326426744461,
          0.07705993950366974,
          0.19698892533779144,
          0.10498397052288055,
          0.15860790014266968,
          0.19417276978492737,
          0.17217101156711578,
          -0.14935849606990814,
          0.3372686505317688,
          0.056567396968603134,
          0.1466357707977295,
          -0.26143768429756165,
          0.2541278600692749,
          0.1034972071647644,
          0.014329020865261555,
          0.0000747538942960091,
          0.201568603515625,
          0.1366548091173172,
          0.04820272698998451,
          0.04883817583322525,
          -0.2255735546350479,
          -0.05035671219229698,
          -0.16628827154636383,
          -0.04437381774187088,
          0.07854867726564407,
          -0.19566361606121063,
          -0.0762578547000885,
          -0.23497231304645538,
          -0.052351851016283035,
          0.22490118443965912,
          0.0422530472278595,
          -0.010871968232095242,
          0.49118027091026306,
          -0.10095621645450592,
          -0.13533172011375427,
          -0.08288117498159409,
          -0.11182865500450134,
          -0.10589979588985443,
          -0.004214878659695387,
          0.0384845957159996,
          0.13302917778491974,
          0.3014538586139679,
          -0.24586647748947144,
          0.07575032860040665,
          0.3296772837638855,
          0.17039401829242706,
          -0.02921522967517376,
          -0.0003509709786158055,
          0.07379955798387527,
          -0.001237476826645434,
          0.0005781243671663105,
          0.10872802883386612,
          0.237542062997818,
          -0.10700451582670212,
          0.005288573447614908,
          0.28024929761886597,
          0.16254015266895294,
          -0.260602742433548,
          0.17637482285499573,
          -0.07594780623912811,
          -0.19444003701210022,
          0.25263512134552,
          0.2867300808429718,
          0.2459266185760498,
          0.3524814546108246,
          -0.2740592956542969,
          -0.021415438503026962,
          -0.25319111347198486,
          0.0295790396630764,
          0.005288573447614908,
          0.23317326605319977,
          -0.020394356921315193,
          0.05093615502119064,
          0.10120593011379242,
          0.02869059145450592,
          0.2041330188512802,
          -0.05140107497572899,
          -0.045754313468933105,
          0.06742610782384872,
          -0.19474346935749054,
          -0.21836043894290924,
          0.21384450793266296,
          -0.12086138874292374,
          -0.050049275159835815,
          0.12675721943378448,
          -0.022554714232683182,
          0.14058397710323334,
          -0.07319130748510361,
          0.16932691633701324,
          0.11687695980072021,
          -0.042390722781419754,
          -0.08580714464187622,
          0.08887431770563126,
          -0.05461709946393967,
          -0.03159694746136665,
          -0.2835947573184967,
          -0.34256821870803833,
          0.007605297956615686,
          -0.016941169276833534,
          0.12747722864151,
          -0.017075886949896812,
          -0.0032566781155765057,
          -0.20247627794742584,
          0.18677811324596405,
          0.032025378197431564,
          0.0305793434381485,
          0.06738638132810593,
          -0.033746387809515,
          0.11361747980117798,
          -0.06158226355910301,
          0.012712872587144375,
          0.09152048081159592,
          0.2173786163330078,
          0.25394290685653687,
          0.19258901476860046,
          -0.08287770301103592,
          0.011724901385605335,
          0.05001717433333397,
          0.30003124475479126,
          -0.047977861016988754,
          0.3554352819919586,
          -0.2743280529975891,
          -0.17761290073394775,
          -0.17630597949028015,
          -0.10462861508131027,
          0.011696116998791695,
          0.2027311623096466,
          -0.1169627457857132,
          0.04891362413764,
          0.10027152299880981,
          -0.13181717693805695,
          0.47833287715911865,
          0.11870784312486649,
          0.005288573447614908,
          -0.05049993470311165,
          0.2764144241809845,
          -0.0283595509827137,
          -0.04410393908619881,
          0.30391499400138855,
          0.025506656616926193,
          -0.2893831431865692,
          0.2664475440979004,
          0.015295508317649364,
          0.08054278790950775,
          0.37753868103027344,
          0.2665373682975769,
          -0.00928791705518961,
          -0.02941373735666275,
          0.017241155728697777,
          -0.21092095971107483,
          -0.10267956554889679,
          0.056741997599601746,
          0.07189998775720596,
          -0.029914408922195435,
          0.021353650838136673,
          -0.21792231500148773,
          0.19945529103279114,
          0.053441546857357025,
          0.015962637960910797,
          0.012455252930521965,
          0.2087150365114212,
          -0.17896515130996704,
          -0.1869107186794281,
          -0.13369165360927582,
          0.1295659989118576,
          0.1165255606174469,
          -0.13420253992080688,
          -0.19777241349220276,
          0.004741710145026445,
          -0.21552878618240356,
          0.12502363324165344,
          -0.019147126004099846,
          0.024824080988764763,
          0.06893731653690338,
          0.034320369362831116,
          -0.1630409210920334,
          -0.050907377153635025,
          -0.013875972479581833,
          0.002645005937665701,
          0.061945751309394836,
          0.1299058049917221,
          -0.21523290872573853,
          -0.11256337910890579,
          -0.3089638650417328,
          -0.2299465388059616,
          -0.2571589946746826,
          -0.10385731607675552,
          -0.024677028879523277,
          -0.07388629764318466,
          0.16043907403945923,
          0.17183631658554077,
          -0.18951734900474548,
          -0.09667515754699707,
          -0.020307553932070732,
          0.3172823488712311,
          0.2717062532901764,
          -0.17321084439754486,
          -0.2482035756111145,
          -0.18318918347358704,
          0.005899587646126747,
          0.0456143282353878,
          0.10079976916313171,
          0.5152211785316467,
          0.09995893388986588,
          0.15186262130737305,
          0.05049661919474602,
          0.07397457957267761,
          0.05214778706431389,
          0.07606926560401917,
          0.08368076384067535,
          0.07827050238847733,
          0.10096786916255951,
          -0.035252366214990616,
          -0.15175488591194153,
          0.11774351447820663,
          -0.02448159083724022,
          0.16989001631736755,
          -0.08433626592159271,
          -0.1114765852689743,
          0.016162525862455368,
          -0.06954491138458252,
          -0.0454203337430954,
          -0.03988313674926758,
          0.10049804300069809,
          0.02589384652674198,
          -0.11908326297998428,
          -0.03120531514286995,
          0.012038479559123516,
          0.02937285788357258,
          -0.3550030589103699,
          -0.00624714745208621,
          -0.2067403346300125,
          -0.12292258441448212,
          -0.11748252809047699,
          0.012724148109555244,
          0.27239999175071716,
          0.005911191459745169,
          -0.13952989876270294,
          -0.20954251289367676,
          0.14244937896728516,
          -0.0654134601354599,
          0.2368234395980835,
          0.4630791246891022,
          -0.03225585073232651,
          -0.21007709205150604,
          0.3205246329307556,
          0.12117939442396164,
          -0.06524422019720078,
          -0.20255522429943085,
          0.024026840925216675,
          -0.12581390142440796,
          0.05319327861070633,
          0.012146303430199623,
          0.21062244474887848,
          0.09299777448177338,
          -0.13594205677509308,
          -0.15878859162330627,
          0.008657819591462612,
          -0.33938026428222656,
          -0.22799617052078247,
          -0.17998161911964417,
          0.002873311284929514,
          -0.253682941198349,
          -0.07737019658088684,
          0.06674350798130035,
          0.006506140343844891,
          -0.24095909297466278,
          -0.22238418459892273,
          0.08681418001651764,
          -0.10639922320842743,
          0.19536955654621124,
          0.22242915630340576,
          -0.0859610065817833,
          -0.2934238910675049,
          -0.11451809853315353,
          -0.1600140631198883,
          -0.1356538087129593,
          -0.3417847752571106,
          0.326560378074646,
          -0.1870184689760208,
          -0.2208758294582367,
          0.1799391806125641,
          0.03626338765025139,
          0.30197593569755554,
          -0.042555905878543854,
          -0.11733271926641464,
          -0.0603998526930809,
          0.048450738191604614,
          0.34615203738212585,
          0.42527270317077637,
          0.037495411932468414,
          -0.1415553241968155,
          -0.13271714746952057,
          0.3059360980987549,
          0.3425211012363434,
          0.3057880401611328,
          0.11912952363491058,
          0.058884769678115845,
          0.20260071754455566,
          0.2320997416973114,
          0.02750927023589611,
          -0.2676096558570862,
          -0.01894560270011425,
          -0.08872753381729126,
          0.17206048965454102,
          0.3365195095539093,
          -0.11569671332836151,
          0.09522740542888641,
          0.41526076197624207,
          0.11625052988529205,
          -0.09463369101285934,
          0.22114640474319458,
          -0.007302999030798674,
          0.19125652313232422,
          0.3021782338619232,
          -0.21865737438201904,
          -0.02062060497701168,
          0.1302274763584137,
          -0.04551005735993385,
          -0.2516631782054901,
          -0.03587893769145012,
          -0.19386924803256989,
          0.04211555793881416,
          -0.16275840997695923,
          -0.14507997035980225,
          -0.3582362234592438,
          -0.3348775804042816,
          0.012548491358757019,
          -0.13072581589221954,
          -0.14501884579658508,
          -0.13063882291316986,
          -0.08295462280511856,
          -0.22065967321395874,
          -0.049148041754961014,
          0.018354639410972595,
          0.012712918221950531,
          -0.0854344367980957,
          -0.09119820594787598,
          -0.2513265907764435,
          -0.07038705050945282,
          0.03915652260184288,
          -0.13526159524917603,
          0.028013654053211212,
          0.14555475115776062,
          -0.07419487833976746,
          0.11628653109073639,
          -0.3284488022327423,
          -0.32973048090934753,
          0.019944865256547928,
          -0.28099068999290466,
          -0.052803002297878265,
          -0.026235230267047882,
          0.23302488029003143,
          -0.20155735313892365,
          0.07437855750322342,
          -0.0934947207570076,
          -0.26230713725090027,
          0.052626341581344604,
          0.17892156541347504,
          -0.2904229760169983,
          0.3615241050720215,
          0.06189239025115967,
          -0.03644917905330658,
          -0.30349862575531006,
          -0.11046774685382843,
          0.0031980378553271294,
          -0.06041690334677696,
          -0.2576984763145447,
          0.005288573447614908,
          -0.1741223782300949,
          0.09953360259532928,
          -0.35457468032836914,
          0.2739753723144531,
          -0.031380295753479004,
          0.08252400159835815,
          0.29883942008018494,
          -0.00020166300237178802,
          -0.23746582865715027,
          -0.23155295848846436,
          0.08895997703075409,
          -0.16778452694416046,
          -0.1106298416852951,
          0.12785889208316803,
          0.08237060159444809,
          -0.10020820051431656,
          -0.19406922161579132,
          0.11750561743974686,
          0.43150877952575684,
          0.1468787044286728,
          0.3515757620334625,
          -0.13645203411579132,
          -0.07265404611825943,
          -0.05535796657204628,
          0.1560584455728531,
          0.18212425708770752,
          -0.015364808961749077,
          0.016698623076081276,
          0.06285199522972107,
          -0.19214856624603271,
          0.005288573447614908,
          0.005288573447614908,
          -0.1014270931482315,
          -0.16331256926059723,
          0.005288573447614908,
          -0.23057126998901367,
          -0.09162402153015137,
          -0.2782588005065918,
          -0.11443784087896347,
          0.030933449044823647,
          0.005288573447614908,
          0.050412703305482864,
          0.0032248084899038076,
          0.005288573447614908,
          -0.03866618871688843,
          0.2656271457672119,
          -0.2168179303407669,
          -0.2258298695087433,
          -0.1296931654214859,
          -0.10714047402143478,
          -0.08551714569330215,
          -0.09704891592264175,
          -0.11368236690759659,
          -0.07660714536905289,
          0.10120504349470139,
          -0.2349880337715149,
          0.0998668447136879,
          -0.26052412390708923,
          -0.23227429389953613,
          -0.26521724462509155,
          0.005288573447614908,
          0.005288573447614908,
          0.005288573447614908,
          -0.2738916277885437,
          0.037504591047763824,
          -0.12465029954910278,
          0.004020158667117357,
          -0.10316256433725357
         ],
         "yaxis": "y"
        },
        {
         "customdata": [
          [
           "An Empirical Study of Span Representations in Argumentation Structure Parsing"
          ]
         ],
         "hovertemplate": "lab_or_not=inuilab<br>x1=%{x}<br>x2=%{y}<br>hover_data_0=%{customdata[0]}<extra></extra>",
         "legendgroup": "inuilab",
         "marker": {
          "color": "#EF553B",
          "symbol": "circle"
         },
         "mode": "markers",
         "name": "inuilab",
         "orientation": "v",
         "showlegend": true,
         "type": "scatter",
         "x": [
          0.06999340653419495
         ],
         "xaxis": "x",
         "y": [
          0.010510322637856007
         ],
         "yaxis": "y"
        }
       ],
       "layout": {
        "legend": {
         "title": {
          "text": "lab_or_not"
         },
         "tracegroupgap": 0
        },
        "margin": {
         "t": 60
        },
        "template": {
         "data": {
          "bar": [
           {
            "error_x": {
             "color": "#2a3f5f"
            },
            "error_y": {
             "color": "#2a3f5f"
            },
            "marker": {
             "line": {
              "color": "#E5ECF6",
              "width": 0.5
             },
             "pattern": {
              "fillmode": "overlay",
              "size": 10,
              "solidity": 0.2
             }
            },
            "type": "bar"
           }
          ],
          "barpolar": [
           {
            "marker": {
             "line": {
              "color": "#E5ECF6",
              "width": 0.5
             },
             "pattern": {
              "fillmode": "overlay",
              "size": 10,
              "solidity": 0.2
             }
            },
            "type": "barpolar"
           }
          ],
          "carpet": [
           {
            "aaxis": {
             "endlinecolor": "#2a3f5f",
             "gridcolor": "white",
             "linecolor": "white",
             "minorgridcolor": "white",
             "startlinecolor": "#2a3f5f"
            },
            "baxis": {
             "endlinecolor": "#2a3f5f",
             "gridcolor": "white",
             "linecolor": "white",
             "minorgridcolor": "white",
             "startlinecolor": "#2a3f5f"
            },
            "type": "carpet"
           }
          ],
          "choropleth": [
           {
            "colorbar": {
             "outlinewidth": 0,
             "ticks": ""
            },
            "type": "choropleth"
           }
          ],
          "contour": [
           {
            "colorbar": {
             "outlinewidth": 0,
             "ticks": ""
            },
            "colorscale": [
             [
              0,
              "#0d0887"
             ],
             [
              0.1111111111111111,
              "#46039f"
             ],
             [
              0.2222222222222222,
              "#7201a8"
             ],
             [
              0.3333333333333333,
              "#9c179e"
             ],
             [
              0.4444444444444444,
              "#bd3786"
             ],
             [
              0.5555555555555556,
              "#d8576b"
             ],
             [
              0.6666666666666666,
              "#ed7953"
             ],
             [
              0.7777777777777778,
              "#fb9f3a"
             ],
             [
              0.8888888888888888,
              "#fdca26"
             ],
             [
              1,
              "#f0f921"
             ]
            ],
            "type": "contour"
           }
          ],
          "contourcarpet": [
           {
            "colorbar": {
             "outlinewidth": 0,
             "ticks": ""
            },
            "type": "contourcarpet"
           }
          ],
          "heatmap": [
           {
            "colorbar": {
             "outlinewidth": 0,
             "ticks": ""
            },
            "colorscale": [
             [
              0,
              "#0d0887"
             ],
             [
              0.1111111111111111,
              "#46039f"
             ],
             [
              0.2222222222222222,
              "#7201a8"
             ],
             [
              0.3333333333333333,
              "#9c179e"
             ],
             [
              0.4444444444444444,
              "#bd3786"
             ],
             [
              0.5555555555555556,
              "#d8576b"
             ],
             [
              0.6666666666666666,
              "#ed7953"
             ],
             [
              0.7777777777777778,
              "#fb9f3a"
             ],
             [
              0.8888888888888888,
              "#fdca26"
             ],
             [
              1,
              "#f0f921"
             ]
            ],
            "type": "heatmap"
           }
          ],
          "heatmapgl": [
           {
            "colorbar": {
             "outlinewidth": 0,
             "ticks": ""
            },
            "colorscale": [
             [
              0,
              "#0d0887"
             ],
             [
              0.1111111111111111,
              "#46039f"
             ],
             [
              0.2222222222222222,
              "#7201a8"
             ],
             [
              0.3333333333333333,
              "#9c179e"
             ],
             [
              0.4444444444444444,
              "#bd3786"
             ],
             [
              0.5555555555555556,
              "#d8576b"
             ],
             [
              0.6666666666666666,
              "#ed7953"
             ],
             [
              0.7777777777777778,
              "#fb9f3a"
             ],
             [
              0.8888888888888888,
              "#fdca26"
             ],
             [
              1,
              "#f0f921"
             ]
            ],
            "type": "heatmapgl"
           }
          ],
          "histogram": [
           {
            "marker": {
             "pattern": {
              "fillmode": "overlay",
              "size": 10,
              "solidity": 0.2
             }
            },
            "type": "histogram"
           }
          ],
          "histogram2d": [
           {
            "colorbar": {
             "outlinewidth": 0,
             "ticks": ""
            },
            "colorscale": [
             [
              0,
              "#0d0887"
             ],
             [
              0.1111111111111111,
              "#46039f"
             ],
             [
              0.2222222222222222,
              "#7201a8"
             ],
             [
              0.3333333333333333,
              "#9c179e"
             ],
             [
              0.4444444444444444,
              "#bd3786"
             ],
             [
              0.5555555555555556,
              "#d8576b"
             ],
             [
              0.6666666666666666,
              "#ed7953"
             ],
             [
              0.7777777777777778,
              "#fb9f3a"
             ],
             [
              0.8888888888888888,
              "#fdca26"
             ],
             [
              1,
              "#f0f921"
             ]
            ],
            "type": "histogram2d"
           }
          ],
          "histogram2dcontour": [
           {
            "colorbar": {
             "outlinewidth": 0,
             "ticks": ""
            },
            "colorscale": [
             [
              0,
              "#0d0887"
             ],
             [
              0.1111111111111111,
              "#46039f"
             ],
             [
              0.2222222222222222,
              "#7201a8"
             ],
             [
              0.3333333333333333,
              "#9c179e"
             ],
             [
              0.4444444444444444,
              "#bd3786"
             ],
             [
              0.5555555555555556,
              "#d8576b"
             ],
             [
              0.6666666666666666,
              "#ed7953"
             ],
             [
              0.7777777777777778,
              "#fb9f3a"
             ],
             [
              0.8888888888888888,
              "#fdca26"
             ],
             [
              1,
              "#f0f921"
             ]
            ],
            "type": "histogram2dcontour"
           }
          ],
          "mesh3d": [
           {
            "colorbar": {
             "outlinewidth": 0,
             "ticks": ""
            },
            "type": "mesh3d"
           }
          ],
          "parcoords": [
           {
            "line": {
             "colorbar": {
              "outlinewidth": 0,
              "ticks": ""
             }
            },
            "type": "parcoords"
           }
          ],
          "pie": [
           {
            "automargin": true,
            "type": "pie"
           }
          ],
          "scatter": [
           {
            "fillpattern": {
             "fillmode": "overlay",
             "size": 10,
             "solidity": 0.2
            },
            "type": "scatter"
           }
          ],
          "scatter3d": [
           {
            "line": {
             "colorbar": {
              "outlinewidth": 0,
              "ticks": ""
             }
            },
            "marker": {
             "colorbar": {
              "outlinewidth": 0,
              "ticks": ""
             }
            },
            "type": "scatter3d"
           }
          ],
          "scattercarpet": [
           {
            "marker": {
             "colorbar": {
              "outlinewidth": 0,
              "ticks": ""
             }
            },
            "type": "scattercarpet"
           }
          ],
          "scattergeo": [
           {
            "marker": {
             "colorbar": {
              "outlinewidth": 0,
              "ticks": ""
             }
            },
            "type": "scattergeo"
           }
          ],
          "scattergl": [
           {
            "marker": {
             "colorbar": {
              "outlinewidth": 0,
              "ticks": ""
             }
            },
            "type": "scattergl"
           }
          ],
          "scattermapbox": [
           {
            "marker": {
             "colorbar": {
              "outlinewidth": 0,
              "ticks": ""
             }
            },
            "type": "scattermapbox"
           }
          ],
          "scatterpolar": [
           {
            "marker": {
             "colorbar": {
              "outlinewidth": 0,
              "ticks": ""
             }
            },
            "type": "scatterpolar"
           }
          ],
          "scatterpolargl": [
           {
            "marker": {
             "colorbar": {
              "outlinewidth": 0,
              "ticks": ""
             }
            },
            "type": "scatterpolargl"
           }
          ],
          "scatterternary": [
           {
            "marker": {
             "colorbar": {
              "outlinewidth": 0,
              "ticks": ""
             }
            },
            "type": "scatterternary"
           }
          ],
          "surface": [
           {
            "colorbar": {
             "outlinewidth": 0,
             "ticks": ""
            },
            "colorscale": [
             [
              0,
              "#0d0887"
             ],
             [
              0.1111111111111111,
              "#46039f"
             ],
             [
              0.2222222222222222,
              "#7201a8"
             ],
             [
              0.3333333333333333,
              "#9c179e"
             ],
             [
              0.4444444444444444,
              "#bd3786"
             ],
             [
              0.5555555555555556,
              "#d8576b"
             ],
             [
              0.6666666666666666,
              "#ed7953"
             ],
             [
              0.7777777777777778,
              "#fb9f3a"
             ],
             [
              0.8888888888888888,
              "#fdca26"
             ],
             [
              1,
              "#f0f921"
             ]
            ],
            "type": "surface"
           }
          ],
          "table": [
           {
            "cells": {
             "fill": {
              "color": "#EBF0F8"
             },
             "line": {
              "color": "white"
             }
            },
            "header": {
             "fill": {
              "color": "#C8D4E3"
             },
             "line": {
              "color": "white"
             }
            },
            "type": "table"
           }
          ]
         },
         "layout": {
          "annotationdefaults": {
           "arrowcolor": "#2a3f5f",
           "arrowhead": 0,
           "arrowwidth": 1
          },
          "autotypenumbers": "strict",
          "coloraxis": {
           "colorbar": {
            "outlinewidth": 0,
            "ticks": ""
           }
          },
          "colorscale": {
           "diverging": [
            [
             0,
             "#8e0152"
            ],
            [
             0.1,
             "#c51b7d"
            ],
            [
             0.2,
             "#de77ae"
            ],
            [
             0.3,
             "#f1b6da"
            ],
            [
             0.4,
             "#fde0ef"
            ],
            [
             0.5,
             "#f7f7f7"
            ],
            [
             0.6,
             "#e6f5d0"
            ],
            [
             0.7,
             "#b8e186"
            ],
            [
             0.8,
             "#7fbc41"
            ],
            [
             0.9,
             "#4d9221"
            ],
            [
             1,
             "#276419"
            ]
           ],
           "sequential": [
            [
             0,
             "#0d0887"
            ],
            [
             0.1111111111111111,
             "#46039f"
            ],
            [
             0.2222222222222222,
             "#7201a8"
            ],
            [
             0.3333333333333333,
             "#9c179e"
            ],
            [
             0.4444444444444444,
             "#bd3786"
            ],
            [
             0.5555555555555556,
             "#d8576b"
            ],
            [
             0.6666666666666666,
             "#ed7953"
            ],
            [
             0.7777777777777778,
             "#fb9f3a"
            ],
            [
             0.8888888888888888,
             "#fdca26"
            ],
            [
             1,
             "#f0f921"
            ]
           ],
           "sequentialminus": [
            [
             0,
             "#0d0887"
            ],
            [
             0.1111111111111111,
             "#46039f"
            ],
            [
             0.2222222222222222,
             "#7201a8"
            ],
            [
             0.3333333333333333,
             "#9c179e"
            ],
            [
             0.4444444444444444,
             "#bd3786"
            ],
            [
             0.5555555555555556,
             "#d8576b"
            ],
            [
             0.6666666666666666,
             "#ed7953"
            ],
            [
             0.7777777777777778,
             "#fb9f3a"
            ],
            [
             0.8888888888888888,
             "#fdca26"
            ],
            [
             1,
             "#f0f921"
            ]
           ]
          },
          "colorway": [
           "#636efa",
           "#EF553B",
           "#00cc96",
           "#ab63fa",
           "#FFA15A",
           "#19d3f3",
           "#FF6692",
           "#B6E880",
           "#FF97FF",
           "#FECB52"
          ],
          "font": {
           "color": "#2a3f5f"
          },
          "geo": {
           "bgcolor": "white",
           "lakecolor": "white",
           "landcolor": "#E5ECF6",
           "showlakes": true,
           "showland": true,
           "subunitcolor": "white"
          },
          "hoverlabel": {
           "align": "left"
          },
          "hovermode": "closest",
          "mapbox": {
           "style": "light"
          },
          "paper_bgcolor": "white",
          "plot_bgcolor": "#E5ECF6",
          "polar": {
           "angularaxis": {
            "gridcolor": "white",
            "linecolor": "white",
            "ticks": ""
           },
           "bgcolor": "#E5ECF6",
           "radialaxis": {
            "gridcolor": "white",
            "linecolor": "white",
            "ticks": ""
           }
          },
          "scene": {
           "xaxis": {
            "backgroundcolor": "#E5ECF6",
            "gridcolor": "white",
            "gridwidth": 2,
            "linecolor": "white",
            "showbackground": true,
            "ticks": "",
            "zerolinecolor": "white"
           },
           "yaxis": {
            "backgroundcolor": "#E5ECF6",
            "gridcolor": "white",
            "gridwidth": 2,
            "linecolor": "white",
            "showbackground": true,
            "ticks": "",
            "zerolinecolor": "white"
           },
           "zaxis": {
            "backgroundcolor": "#E5ECF6",
            "gridcolor": "white",
            "gridwidth": 2,
            "linecolor": "white",
            "showbackground": true,
            "ticks": "",
            "zerolinecolor": "white"
           }
          },
          "shapedefaults": {
           "line": {
            "color": "#2a3f5f"
           }
          },
          "ternary": {
           "aaxis": {
            "gridcolor": "white",
            "linecolor": "white",
            "ticks": ""
           },
           "baxis": {
            "gridcolor": "white",
            "linecolor": "white",
            "ticks": ""
           },
           "bgcolor": "#E5ECF6",
           "caxis": {
            "gridcolor": "white",
            "linecolor": "white",
            "ticks": ""
           }
          },
          "title": {
           "x": 0.05
          },
          "xaxis": {
           "automargin": true,
           "gridcolor": "white",
           "linecolor": "white",
           "ticks": "",
           "title": {
            "standoff": 15
           },
           "zerolinecolor": "white",
           "zerolinewidth": 2
          },
          "yaxis": {
           "automargin": true,
           "gridcolor": "white",
           "linecolor": "white",
           "ticks": "",
           "title": {
            "standoff": 15
           },
           "zerolinecolor": "white",
           "zerolinewidth": 2
          }
         }
        },
        "xaxis": {
         "anchor": "y",
         "domain": [
          0,
          1
         ],
         "title": {
          "text": "x1"
         }
        },
        "yaxis": {
         "anchor": "x",
         "domain": [
          0,
          1
         ],
         "title": {
          "text": "x2"
         }
        }
       }
      },
      "text/html": [
       "<div>                            <div id=\"e99c88ce-0631-48c8-8984-cb7e2bd85c8b\" class=\"plotly-graph-div\" style=\"height:525px; width:100%;\"></div>            <script type=\"text/javascript\">                require([\"plotly\"], function(Plotly) {                    window.PLOTLYENV=window.PLOTLYENV || {};                                    if (document.getElementById(\"e99c88ce-0631-48c8-8984-cb7e2bd85c8b\")) {                    Plotly.newPlot(                        \"e99c88ce-0631-48c8-8984-cb7e2bd85c8b\",                        [{\"customdata\":[[\"Counterfactual Data Augmentation for Mitigating Gender Stereotypes in Languages with Rich Morphology\"],[\"Unsupervised Discovery of Gendered Language through Latent-Variable Modeling\"],[\"Margin-based Parallel Corpus Mining with Multilingual Sentence Embeddings\"],[\"Searching for Effective Neural Extractive Summarization: What Works and What's Next\"],[\"Style Transformer: Unpaired Text Style Transfer without Disentangled Latent Representation\"],[\"Distantly Supervised Named Entity Recognition using Positive-Unlabeled Learning\"],[\"Generating Responses with a Specific Emotion in Dialog\"],[\"Bridging by Word: Image-Grounded Vocabulary Construction for Visual Captioning\"],[\"Adversarial Domain Adaptation Using Artificial Titles for Abstractive Title Generation\"],[\"Twitter Homophily: Network Based Prediction of User's Occupation\"],[\"Incorporating Textual Information on User Behavior for Personality Prediction\"],[\"Large-Scale Multi-Label Text Classification on EU Legislation\"],[\"Neural Legal Judgment Prediction in English\"],[\"Discourse Analysis and Its Applications\"],[\"Self-Supervised Learning for Contextualized Extractive Summarization\"],[\"Graph-based Dependency Parsing with Graph Neural Networks\"],[\"Self-Supervised Dialogue Learning\"],[\"Joint Type Inference on Entities and Relations via Graph Convolutional Networks\"],[\"Towards Generating Long and Coherent Text with Multi-Level Latent Variable Models\"],[\"Learning to Select, Track, and Generate for Data-to-Text\"],[\"Multi-hop Reading Comprehension across Multiple Documents by Reasoning over Heterogeneous Graphs\"],[\"Visual Story Post-Editing\"],[\"HIGHRES: Highlight-based Reference-less Evaluation of Summarization\"],[\"Merge and Label: A novel neural network architecture for nested NER\"],[\"Model-Agnostic Meta-Learning for Relation Classification with Limited Supervision\"],[\"ARNOR: Attention Regularization based Noise Reduction for Distant Supervision Relation Classification\"],[\"Representing Schema Structure with Graph Neural Networks for Text-to-SQL Parsing\"],[\"MULTIQA: An Empirical Investigation of Generalization and Transfer in Reading Comprehension\"],[\"Topic Tensor Network for Implicit Discourse Relation Recognition in Chinese\"],[\"\"],[\"Gender-preserving Debiasing for Pre-trained Word Embeddings\"],[\"Aspect Sentiment Classification Towards Question-Answering with Reinforced Bidirectional Attention Network\"],[\"Adversarial Attention Modeling for Multi-dimensional Emotion Regression\"],[\"On-device Structured and Context Partitioned Projection Networks\"],[\"Multi-Source Cross-Lingual Model Transfer: Learning What to Share\"],[\"Scalable Syntax-Aware Language Models Using Knowledge Distillation\"],[\"Dense Procedure Captioning in Narrated Instructional Videos\"],[\"The Risk of Racial Bias in Hate Speech Detection\"],[\"HellaSwag: Can a Machine Really Finish Your Sentence?\"],[\"COMET : Commonsense Transformers for Automatic Knowledge Graph Construction\"],[\"Conversing by Reading: Contentful Neural Conversation with On-demand Machine Reading\"],[\"\"],[\"Learning Compressed Sentence Representations for On-Device Text Processing\"],[\"Sentence Mover's Similarity: Automatic Evaluation for Multi-Sentence Texts\"],[\"SParC: Cross-Domain Semantic Parsing in Context\"],[\"Level-Up: Learning to Improve Proficiency Level of Essays\"],[\"Word-order biases in deep-agent emergent communication\"],[\"CNNs found to jump around more skillfully than RNNs: Compositional generalization in seq2seq convolutional networks\"],[\"Miss Tools and Mr Fruit: Emergent communication in agents learning about object affordances\"],[\"On the Distribution of Deep Clausal Embeddings: A Large Cross-linguistic Study\"],[\"Learning to Link Grammar and Encyclopedic Information to Assist ESL Learners\"],[\"STACL: Simultaneous Translation with Implicit Anticipation and Controllable Latency using Prefix-to-Prefix Framework *\"],[\"Effective Adversarial Regularization for Neural Machine Translation\"],[\"Enhancing Pre-Trained Language Representations with Rich Knowledge for Machine Reading Comprehension\"],[\"Proactive Human-Machine Conversation with Explicit Conversation Goals\"],[\"Know More about Each Other: Evolving Dialogue Strategy via Compound Assessment\"],[\"Open-Domain Why-Question Answering with Adversarial Learning to Encode Answer Texts\"],[\"An Interactive Multi-Task Learning Network for End-to-End Aspect-Based Sentiment Analysis\"],[\"Attention Guided Graph Convolutional Networks for Relation Extraction\"],[\"Quantity Tagger: A Latent-Variable Sequence Labeling Approach to Solving Addition-Subtraction Word Problems\"],[\"A Neural Multi-digraph Model for Chinese NER with Gazetteers\"],[\"Inter-sentence Relation Extraction with Document-level Graph Convolutional Neural Network\"],[\"DOER: Dual Cross-Shared RNN for Aspect Term-Polarity Co-Extraction\"],[\"Learning to Discover, Ground and Use Words with Segmental Neural Language Models\"],[\"Topic Modeling with Wasserstein Autoencoders\"],[\"Simple and Effective Paraphrastic Similarity from Parallel Translations\"],[\"Beyond BLEU: Training Neural Machine Translation with Semantic Similarity\"],[\"Visually Grounded Neural Syntax Acquisition\"],[\"Controllable Paraphrase Generation with a Syntactic Exemplar\"],[\"Incremental Learning from Scratch for Task-Oriented Dialogue Systems\"],[\"Multi-step Reasoning via Recurrent Dual Attention for Visual Dialog\"],[\"Learning Deep Transformer Models for Machine Translation\"],[\"Shared-Private Bilingual Word Embeddings for Neural Machine Translation\"],[\"Energy and Policy Considerations for Deep Learning in NLP\"],[\"A2N: Attending to Neighbors for Knowledge Graph Inference\"],[\"Optimal Transport-based Alignment of Learned Character Representations for String Similarity\"],[\"Hierarchical Transfer Learning for Multi-label Text Classification\"],[\"\"],[\"Learning from Dialogue after Deployment: Feed Yourself, Chatbot!\"],[\"ConvLab: Multi-Domain End-to-End Dialog System Platform\"],[\"From brain space to distributional space: the perilous journeys of fMRI decoding\"],[\"Semantic Parsing with Dual Learning\"],[\"Context-aware Embedding for Targeted Aspect-based Sentiment Analysis\"],[\"Ensuring Readability and Data-fidelity using Head-modifier Templates in Deep Type Description Generation\"],[\"Chinese Relation Extraction with Multi-Grained Information and External Linguistic Knowledge\"],[\"DocRED: A Large-Scale Document-Level Relation Extraction Dataset\"],[\"GEAR: Graph-based Evidence Aggregating and Reasoning for Fact Verification\"],[\"ERNIE: Enhanced Language Representation with Informative Entities\"],[\"DIAG-NRE: A Neural Pattern Diagnosis Framework for Distantly Supervised Neural Relation Extraction\"],[\"Quantifying Similarity between Relations with Fact Distribution\"],[\"Multi-Style Generative Reading Comprehension\"],[\"Answering while Summarizing: Multi-task Learning for Multi-hop QA with Evidence Extraction\"],[\"Detecting Adverse Drug Reactions from Biomedical Texts With Neural Networks\"],[\"Deep Neural Models for Medical Concept Normalization in User-Generated Texts\"],[\"Cross-domain and Cross-lingual Abusive Language Detection: a Hybrid Approach with Deep Learning and a Multilingual Lexicon\"],[\"Yes, we can! Mining Arguments in 50 Years of US Presidential Campaign Debates\"],[\"A Modular Tool for Automatic Summarization\"],[\"Attention Is (not) All You Need for Commonsense Reasoning\"],[\"TARGER: Neural Argument Mining at Your Fingertips\"],[\"Multimodal Abstractive Summarization for How2 Videos\"],[\"Task Refinement Learning for Improved Accuracy and Stability of Unsupervised Domain Adaptation\"],[\"Improving Neural Conversational Models with Entropy-Based Data Filtering\"],[\"Robust Zero-Shot Cross-Domain Slot Filling with Example Values\"],[\"Learning How to Active Learn by Dreaming\"],[\"Neural Architectures for Nested NER through Linearization\"],[\"Message from the General Chair\"],[\"Inducing Document Structure for Aspect-based Summarization\"],[\"Are You Convinced? Choosing the More Convincing Evidence with a Siamese Network\"],[\"Identification of Tasks, Datasets, Evaluation Metrics, and Numeric Scores for Scientific Leaderboards Construction\"],[\"Neural Temporality Adaptation for Document Classification: Diachronic Word Embeddings and Domain Adaptation Models\"],[\"W\\u00e9tin dey with these comments? Modeling Sociolinguistic Factors Affecting Code-switching Behavior in Nigerian Online Discussions\"],[\"Question Answering in the Biomedical Domain\"],[\"Unsupervised Joint Training of Bilingual Word Embeddings\"],[\"My Turn To Read: An Interleaved E-book Reading Tool for Developing and Struggling Readers\"],[\"Unsupervised Bilingual Word Embedding Agreement for Unsupervised Neural Machine Translation\"],[\"Sentence-Level Agreement for Neural Machine Translation\"],[\"Neural Machine Translation with Reordering Embeddings\"],[\"Lattice-Based Transformer Encoder for Neural Machine Translation\"],[\"Multimodal Logical Inference System for Visual-Textual Entailment\"],[\"Sequence Tagging with Contextual and Non-Contextual Subword Representations: A Multilingual Evaluation\"],[\"Unsupervised Learning of Discourse-Aware Text Representation for Essay Scoring\"],[\"Lattice Transformer for Speech Translation\"],[\"Cross-Lingual Syntactic Transfer through Unsupervised Adaptation of Invertible Projections\"],[\"Multi-grained Attention with Object-level Grounding for Visual Question Answering\"],[\"Choosing Transfer Languages for Cross-Lingual Learning\"],[\"An Empirical Investigation of Structured Output Modeling for Graph-based Neural Dependency Parsing\"],[\"Domain Adaptive Inference for Neural Machine Translation\"],[\"Knowledge discovery and hypothesis generation from online patient forums: A research proposal\"],[\"Exploring Author Context for Detecting Intended vs Perceived Sarcasm\"],[\"OpenDialKG: Explainable Conversational Reasoning with Attention-based Walks over Knowledge Graphs\"],[\"Constrained Decoding for Neural NLG from Compositional Representations in Task-Oriented Dialogue\"],[\"Predicting Human Activities from User-Generated Content\"],[\"Embedding Strategies for Specialized Domains: Application to Clinical Entity Recognition\"],[\"Annotation and Automatic Classification of Aspectual Categories\"],[\"Evidence-based Trustworthiness\"],[\"A Hierarchical Reinforced Sequence Operation Method for Unsupervised Text Style Transfer\"],[\"Rhetorically Controlled Encoder-Decoder for Modern Chinese Poetry Generation\"],[\"Observing Dialogue in Therapy: Categorizing and Forecasting Behavioral Codes\"],[\"Global Optimization under Length Constraint for Neural Text Summarization\"],[\"Dataset Creation for Ranking Constructive News Comments\"],[\"Augmenting Neural Networks with First-order Logic\"],[\"ADVISER: A Dialog System Framework for Education & Research\"],[\"Classification and Clustering of Arguments with Contextualized Word Embeddings\"],[\"Domain Adaptation of Neural Machine Translation by Lexicon Induction\"],[\"Exploring Numeracy in Word Embeddings\"],[\"Storyboarding of Recipes: Grounded Contextual Generation\"],[\"Pay attention when you pay the bills. A multilingual corpus with dependency-based and semantic annotation of collocations\"],[\"Crowdsourcing and Aggregating Nested Markable Annotations\"],[\"\"],[\"Who Sides With Whom? Towards Computational Construction of Discourse Networks for Political Debates\"],[\"An Environment for Relational Annotation of Political Debates\"],[\"A Spreading Activation Framework for Tracking Conceptual Complexity of Texts\"],[\"CoDraw: Collaborative Drawing as a Testbed for Grounded Goal-driven Communication\"],[\"Stochastic Tokenization with a Language Model for Neural Text Classification\"],[\"Transforming Complex Sentences into a Semantic Hierarchy\"],[\"Analyzing the Limitations of Cross-lingual Word Embedding Mappings\"],[\"How to (Properly) Evaluate Cross-Lingual Word Embeddings: On Strong Baselines, Comparative Analyses, and Some Misconceptions\"],[\"Boosting Entity Linking Performance by Leveraging Unlabeled Documents\"],[\"JW300: A Wide-Coverage Parallel Corpus for Low-Resource Languages\"],[\"Distant Learning for Entity Linking with Automatic Noise Detection\"],[\"Unsupervised Pretraining for Neural Machine Translation Using Elastic Weight Consolidation\"],[\"Analyzing Multi-Head Self-Attention: Specialized Heads Do the Heavy Lifting, the Rest Can Be Pruned\"],[\"Interpretable Question Answering on Knowledge Bases and Text\"],[\"Putting Evaluation in Context: Contextual Embeddings improve Machine Translation Evaluation\"],[\"Improving Textual Network Embedding with Global Attention via Optimal Transport\"],[\"\"],[\"Aiming beyond the Obvious: Identifying Non-Obvious Cases in Semantic Similarity Datasets\"],[\"Self-Supervised Neural Machine Translation\"],[\"OpenKiwi: An Open Source Framework for Quality Estimation\"],[\"PTB Graph Parsing with Tree Approximation\"],[\"Better Exploiting Latent Variables in Text Modeling\"],[\"Improving Multi-turn Dialogue Modelling with Utterance ReWriter\"],[\"A Joint Named-Entity Recognizer for Heterogeneous Tag-sets Using a Tag Hierarchy\"],[\"Extracting Symptoms and their Status from Clinical Conversations\"],[\"Jointly Learning Semantic Parser and Natural Language Generator via Dual Information Maximization\"],[\"Semantic expressive capacity with bounded memory\"],[\"How multilingual is Multilingual BERT?\"],[\"Simple and Effective Curriculum Pointer-Generator Networks for Reading Comprehension over Long Narratives\"],[\"Lightweight and Efficient Neural Natural Language Processing with Quaternion Networks\"],[\"Time-Out: Temporal Referencing for Robust Modeling of Lexical Semantic Change\"],[\"A Wind of Change: Detecting and Evaluating Lexical Semantic Change across Times and Domains\"],[\"Reference Network for Neural Machine Translation\"],[\"Multimodal Transformer Networks for End-to-End Video-Grounded Dialogue Systems\"],[\"Reading Turn by Turn: Hierarchical Attention Architecture for Spoken Dialogue Comprehension\"],[\"EditNTS: An Neural Programmer-Interpreter Model for Sentence Simplification through Explicit Editing\"],[\"Learning to Rank for Plausible Plausibility\"],[\"Incorporating Syntactic and Semantic Information in Word Embeddings using Graph Convolutional Networks\"],[\"Historical Text Normalization with Delayed Rewards\"],[\"Multi-Task Learning for Coherence Modeling\"],[\"Learning Representation Mapping for Relation Detection in Knowledge Base Question Answering\"],[\"ReCoSa: Detecting the Relevant Contexts with Self-Attention for Multi-turn Dialogue Generation\"],[\"Decomposable Neural Paraphrase Generation\"],[\"Bridging the Gap between Training and Inference for Neural Machine Translation\"],[\"Modeling Semantic Compositionality with Sememe Knowledge\"],[\"Revisiting Low-Resource Neural Machine Translation: A Case Study\"],[\"A Lightweight Recurrent Network for Sequence Modeling\"],[\"Fine-Grained Temporal Relation Extraction\"],[\"Deep Neural Model Inspection and Comparison via Functional Neuron Pathways\"],[\"Morphological Irregularity Correlates with Frequency\"],[\"On the Summarization of Consumer Health Questions\"],[\"Complex Word Identification as a Sequence Labelling Task\"],[\"Leveraging Local and Global Patterns for Self-Attention Networks\"],[\"Revisiting Joint Modeling of Cross-document Entity and Event Coreference Resolution\"],[\"Generating Summaries with Topic Templates and Structured Convolutional Decoders\"],[\"A Unified Multi-task Adversarial Learning Framework for Pharmacovigilance Mining\"],[\"#YouToo? Detection of Personal Recollections of Sexual Harassment on Social Media\"],[\"Towards Multimodal Sarcasm Detection (An Obviously Perfect Paper)\"],[\"Learning Transferable Feature Representations Using Neural Networks\"],[\"Accelerating Sparse Matrix Operations in Neural Networks on Graphics Processing Units\"],[\"ARHNet -Leveraging Community Interaction For Detection Of Religious Hate Speech In Arabic\"],[\"Look Harder: A Neural Machine Translation Model with Hard Attention\"],[\"Matching Article Pairs with Graphical Decomposition and Convolutions\"],[\"Towards Lossless Encoding of Sentences\"],[\"Do Neural Dialog Systems Use the Conversation History Effectively? An Empirical Study\"],[\"A Large-Scale Corpus for Conversation Disentanglement\"],[\"TALKSUMM: A Dataset and Scalable Annotation Method for Scientific Paper Summarization Based on Conference Talks\"],[\"The Language of Legal and Illegal Activity on the Darknet\"],[\"Argument Invention from First Principles\"],[\"From Surrogacy to Adoption; From Bitcoin to Cryptocurrency: Debate Topic Expansion\"],[\"What Makes a Good Counselor? Learning to Distinguish between High-quality and Low-quality Counseling Conversations\"],[\"A Semi-Markov Structured Support Vector Machine Model for High-Precision Named Entity Recognition\"],[\"Relating Simple Sentence Representations in Deep Neural Networks and the Brain\"],[\"Zero-shot Word Sense Disambiguation using Sense Definition Embeddings\"],[\"The KNOWREF Coreference Corpus: Removing Gender and Number Cues for Difficult Pronominal Anaphora Resolution\"],[\"Detecting Subevents using Discourse and Narrative Features\"],[\"Word and Document Embedding with vMF-Mixture Priors on Context Word Vectors\"],[\"Exploiting Explicit Paths for Multi-hop Reading Comprehension\"],[\"Disentangled Representation Learning for Non-Parallel Text Style Transfer\"],[\"Towards Explainable NLP: A Generative Explanation Framework for Text Classification\"],[\"Exploiting Entity BIO Tag Embeddings and Multi-task Learning for Relation Extraction with Imbalanced Data\"],[\"Ordinal and Attribute Aware Response Generation in a Multimodal Dialogue System\"],[\"RankQA: Neural Question Answering with Answer Re-Ranking\"],[\"A Working Memory Model for Task-oriented Dialog Response Generation\"],[\"Improving Abstractive Document Summarization with Salient Information Modeling\"],[\"Sequence Labeling Parsing by Learning Across Representations\"],[\"Generating Question Relevant Captions to Aid Visual Question Answering\"],[\"Controlling Grammatical Error Correction Using Word Edit Rate\"],[\"Simple and Effective Text Matching with Richer Alignment Features\"],[\"A Simple Recipe towards Reducing Hallucination in Neural Surface Realisation\"],[\"Exploring Pre-trained Language Models for Event Extraction and Generation\"],[\"Expressing Visual Relationships via Language\"],[\"Scoring Sentence Singletons and Pairs for Abstractive Summarization\"],[\"Delta Embedding Learning\"],[\"Poetry to Prose Conversion in Sanskrit as a Linearisation Task: A case for Low-Resource Languages\"],[\"Latent Variable Model for Multi-modal Translation\"],[\"Interpretable Neural Predictions with Differentiable Binary Variables\"],[\"Graph based Neural Networks for Event Factuality Prediction using Syntactic and Semantic Structures\"],[\"Data-to-text Generation with Entity Modeling\"],[\"Evaluating Discourse in Structured Text Representations\"],[\"Training Neural Machine Translation To Apply Terminology Constraints\"],[\"Unsupervised Rewriter for Multi-Sentence Compression\"],[\"Fine-tuning Pre-Trained Transformer Language Models to Distantly Supervised Relation Extraction\"],[\"Unsupervised Pivot Translation for Distant Languages\"],[\"Improved Sentiment Detection via Label Transfer from Monolingual to Synthetic Code-Switched Text\"],[\"On the Word Alignment from Neural Machine Translation *\"],[\"Selection Bias Explorations and Debias Methods for Natural Language Sentence Matching Datasets\"],[\"BiSET: Bi-directional Selective Encoding with Template for Abstractive Summarization\"],[\"Semi-supervised Domain Adaptation for Dependency Parsing\"],[\"Are Girls Neko or Sh\\u014djo? Cross-Lingual Alignment of Non-Isomorphic Embeddings with Iterative Normalization\"],[\"Towards Integration of Statistical Hypothesis Tests into Deep Neural Networks\"],[\"Adversarial Multitask Learning for Joint Multi-Feature and Multi-Dialect Morphological Modeling\"],[\"Unsupervised Question Answering by Cloze Translation\"],[\"Generating Natural Language Adversarial Examples through Probability Weighted Word Saliency\"],[\"Misleading Failures of Partial-input Baselines\"],[\"Automatic and Human Evaluation of Local Topic Quality\"],[\"Why Didn't You Listen to Me? Comparing User Control of Human-in-the-Loop Topic Models\"],[\"Real-Time Open-Domain Question Answering with Dense-Sparse Phrase Index\"],[\"Sakura: Large-scale Incorrect Example Retrieval System for Learners of Japanese as a Second Language\"],[\"This year, the student research workshop has received a great attention, reflecting the growth of the field. We received 214 submissions in total: 27 research proposals and 147 research papers. Among these, 7 research proposals and 22 research papers were non-archival. We accepted 71 papers, for an acceptance rate of 33%. After withdrawals and excluding non-archival papers, 61 papers are appearing in these proceedings, including 14 research proposals and 47 research papers. All of the accepted papers will be presented as posters in late morning sessions as a part of the main conference, split across three days (July 29th-31th). Mentoring is at the heart of the SRW. In keeping with previous years, students had the opportunity for pre-submission mentoring prior to the submission deadline. Total of 64 papers participated in presubmission mentoring program. This program offered students a chance to receive comments from an experienced researcher, in order to improve the quality of the writing and presentation before making their submission. In addition, authors of accepted SRW papers are matched with mentors who will meet with the students in person during the poster presentations. Each mentor prepares in-depth comments and questions prior to the student's presentation, and provides discussion and feedback during the workshop. We are deeply grateful to our sponsors whose support will enable a number of students to attend the conference. We would also like to thank our program committee members for their careful reviews of each paper, and all of our mentors for donating their time to provide feedback to our student authors. Thank you to our faculty advisors Hannaneh Hajishirzi, Aurelie Herbelot, Scott Yih, Yue Zhang for their essential advice and guidance, and to the members of the ACL 2018 organizing committee, in particular David Traum, Anna Korhonen and Llu\\u00eds M\\u00e0rquez for their helpful support. Finally, kudos to our student participants! iii\"],[\"Negative Lexically Constrained Decoding for Paraphrase Generation\"],[\"Retrieval-Enhanced Adversarial Training for Neural Response Generation\"],[\"Towards Complex Text-to-SQL in Cross-Domain Database with Intermediate Representation\"],[\"Can You Tell Me How to Get Past Sesame Street? Sentence-Level Pretraining Beyond Language Modeling\"],[\"The PhotoBook Dataset: Building Common Ground through Visually-Grounded Dialogue\"],[\"A Resource-Free Evaluation Metric for Cross-Lingual Word Embeddings Based on Graph Modularity\"],[\"Learning to Ask Unanswerable Questions for Machine Reading Comprehension\"],[\"Compositional Questions Do Not Necessitate Multi-hop Reasoning\"],[\"Multi-hop Reading Comprehension through Question Decomposition and Rescoring\"],[\"A Unified Linear-Time Framework for Sentence-Level Discourse Parsing\"],[\"Dialogue-Act Prediction of Future Responses based on Conversation History\"],[\"What does BERT learn about the structure of language?\"],[\"Span-Level Model for Relation Extraction\"],[\"Toward Comprehensive Understanding of a Sentiment Based on Human Motives\"],[\"Language Modeling with Shared Grammar\"],[\"Controllable Text Simplification with Lexical Constraint Loss\"],[\"SUMBT: Slot-Utterance Matching for Universal and Scalable Belief Tracking\"],[\"Unsupervised Information Extraction: Regularizing Discriminative Approaches with Relation Distribution Losses\"],[\"Neural Relation Extraction for Knowledge Base Enrichment\"],[\"Normalizing Non-canonical Turkish Texts Using Machine Translation Approaches\"],[\"Bilingual Lexicon Induction with Semi-supervision in Non-Isometric Embedding Spaces\"],[\"Corpus Creation and Analysis for Named Entity Recognition in Telugu-English Code-Mixed Social Media Data\"],[\"De-Mixing Sentiment from Code-Mixed Text\"],[\"Boosting Dialog Response Generation\"],[\"Exploring Phoneme-Level Speech Representations for End-to-End Speech Translation\"],[\"Towards Scalable and Reliable Capsule Networks for Challenging NLP Applications\"],[\"Employing the Correspondence of Relations and Connectives to Identify Implicit Discourse Relations via Label Embeddings\"],[\"Neural Keyphrase Generation via Reinforcement Learning with Adaptive Rewards\"],[\"Automatically Identifying Complaints in Social Media\"],[\"Massively Multilingual Transfer for NER\"],[\"Better Character Language Modeling Through Morphology\"],[\"BAM! Born-Again Multi-Task Networks for Natural Language Understanding\"],[\"Neural Aspect and Opinion Term Extraction with Mined Rules as Weak Supervision\"],[\"Mitigating Gender Bias in Natural Language Processing: Literature Review\"],[\"Entity-Centric Contextual Affective Analysis\"],[\"Identifying Visible Actions in Lifestyle Vlogs\"],[\"A Cross-Domain Transferable Neural Coherence Model\"],[\"Relation Embedding with Dihedral Group in Knowledge Graph\"],[\"Enhancing Air Quality Prediction with Social Media and Natural Language Processing\"],[\"Know What You Don't Know: Modeling a Pragmatic Speaker that Refers to Objects of Unknown Categories\"],[\"NeuralClassifier: An Open-source Neural Hierarchical Multi-label Text Classification Toolkit\"],[\"Combining Knowledge Hunting and Neural Language Models to Solve the Winograd Schema Challenge\"],[\"Careful Selection of Knowledge to solve Open Book Question Answering\"],[\"A computational linguistic study of personal recovery in bipolar disorder\"],[\"SARAL: A Low-Resource Cross-Lingual Domain-Focused Information Retrieval System for Effective Rapid Document Triage\"],[\"Psycholinguistics meets Continual Learning: Measuring Catastrophic Forgetting in Visual Question Answering\"],[\"FIESTA: Fast IdEntification of State-of-The-Art models using adaptive bandit algorithms\"],[\"ClaimPortal: Integrated Monitoring, Searching, Checking, and Analytics of Factual Claims on Twitter\"],[\"Predicting Humorousness and Metaphor Novelty with Gaussian Process Preference Learning\"],[\"CONAN -COunter NArratives through Nichesourcing: a Multilingual Dataset of Responses to Fight Online Hate Speech\"],[\"The (Non-)Utility of Structural Features in BiLSTM-based Dependency Parsers\"],[\"Zero-Shot Cross-Lingual Abstractive Sentence Summarization through Teaching Generation and Attention\"],[\"Pretraining Methods for Dialog Context Representation Learning\"],[\"CogNet: a Large-Scale Cognate Database\"],[\"Neural News Recommendation with Long-and Short-term User Representations\"],[\"GraphRel: Modeling Text as Relational Graphs for Joint Entity and Relation Extraction\"],[\"Multi-task Pairwise Neural Ranking for Hashtag Segmentation\"],[\"Entity-Relation Extraction as Multi-turn Question Answering\"],[\"Is Word Segmentation Necessary for Deep Learning of Chinese Representations?\"],[\"Implicit Discourse Relation Identification for Open-domain Dialogues\"],[\"Analysis of Automatic Annotation Suggestions for Hard Discourse-Level Tasks in Expert Domains\"],[\"Is Attention Interpretable?\"],[\"Neural News Recommendation with Topic-Aware News Representation\"],[\"Persuasion for Good: Towards a Personalized Persuasive Dialogue System for Social Good\"],[\"Show, Describe and Conclude: On Exploiting the Structure Information of Chest X-Ray Reports\"],[\"Curate and Generate: A Corpus and Method for Joint Control of Semantics and Style in Neural NLG\"],[\"Synthetic QA Corpora Generation with Roundtrip Consistency\"],[\"Multi-Task Networks With Universe, Group, and Task Feature Learning\"],[\"Informative Image Captioning with External Sources of Information\"],[\"Cognitive Graph for Multi-Hop Reading Comprehension at Scale\"],[\"Dynamically Fused Graph Network for Multi-hop Reasoning\"],[\"Multi-Channel Graph Neural Network for Entity Alignment\"],[\"Semantically Conditioned Dialog Response Generation via Hierarchical Disentangled Self-Attention\"],[\"Jiuge: A Human-Machine Collaborative Chinese Classical Poetry Generation System\"],[\"Hierarchical Transformers for Multi-Document Summarization\"],[\"SphereRE: Distinguishing Lexical Relations with Hyperspherical Relation Embeddings\"],[\"Are Red Roses Red? Evaluating Consistency of Question-Answering Models\"],[\"Modeling Intra-Relation in Math Word Problems with Different Functional Multi-Head Attentions\"],[\"Course Concept Expansion in MOOCs with External Knowledge and Interactive Game\"],[\"Few-Shot Representation Learning for Out-Of-Vocabulary Words\"],[\"Automated Chess Commentator Powered by Neural Chess Engine\"],[\"VIFIDEL: Evaluating the Visual Fidelity of Image Descriptions\"],[\"Exploring Sequence-to-Sequence Learning in Aspect Term Extraction\"],[\"Learning to Control the Fine-grained Sentiment for Story Ending Generation\"],[\"How Large Are Lions? Inducing Distributions over Quantitative Attributes\"],[\"Right for the Wrong Reasons: Diagnosing Syntactic Heuristics in Natural Language Inference\"],[\"Translating Translationese: A Two-Step Approach to Unsupervised Machine Translation\"],[\"BERT Rediscovers the Classical NLP Pipeline\"],[\"Argument Generation with Retrieval, Planning, and Realization\"],[\"Dual Adversarial Neural Transfer for Low-Resource Named Entity Recognition\"],[\"ChID: A Large-scale Chinese IDiom Dataset for Cloze Test\"],[\"Robust Representation Learning of Biomedical Names\"],[\"KCAT: A Knowledge-Constraint Typing Annotation Tool\"],[\"Eliciting Knowledge from Experts: Automatic Transcript Parsing for Cognitive Task Analysis\"],[\"AlpacaTag: An Active Learning-based Crowd Annotation Framework for Sequence Tagging\"],[\"Tree LSTMs with Convolution Units to Predict Stance and Rumor Veracity in Social Media Conversations\"],[\"Reinforced Dynamic Reasoning for Conversational Question Generation\"],[\"Open Vocabulary Learning for Neural Chinese Pinyin IME\"],[\"Diachronic Sense Modeling with Deep Contextualized Word Embeddings: An Ecological View\"],[\"Literary Event Detection\"],[\"A Prism Module for Semantic Disentanglement in Name Entity Recognition\"],[\"Long-Distance Dependencies don't have to be Long: Simplifying through Provably (Approximately) Optimal Permutations\"],[\"Modeling financial analysts' decision making via the pragmatics and semantics of earnings calls\"],[\"Towards Fine-grained Text Sentiment Transfer\"],[\"Dual Supervised Learning for Natural Language Understanding and Generation\"],[\"Transferable Multi-Domain State Generator for Task-Oriented Dialogue Systems\"],[\"Reliability-aware Dynamic Feature Composition for Name Tagging\"],[\"PaperRobot: Incremental Draft Generation of Scientific Ideas\"],[\"Keep Meeting Summaries on Topic: Abstractive Multi-Modal Meeting Summarization\"],[\"Towards Comprehensive Description Generation from Factual Attribute-value Tables\"],[\"Multi-Grained Named Entity Recognition\"],[\"Figurative Usage Detection of Symptom Words to Improve Personal Health Mention Detection\"],[\"Recognising Agreement and Disagreement between Stances with Reason Comparing Networks\"],[\"Using Human Attention to Extract Keyphrase from Microblog Post\"],[\"HIBERT: Document Level Pre-training of Hierarchical Bidirectional Transformers for Document Summarization\"],[\"Automatic Grammatical Error Correction for Sequence-to-sequence Text Generation: An Empirical Study\"],[\"Explain Yourself! Leveraging Language Models for Commonsense Reasoning\"],[\"Open-Domain Targeted Sentiment Analysis via Span-Based Extraction and Classification\"],[\"\"],[\"Retrieve, Read, Rerank: Towards End-to-End Multi-Document Reading Comprehension\"],[\"Graph Neural Networks with Generated Parameters for Relation Extraction\"],[\"BERT-based Lexical Substitution\"],[\"Weakly-Supervised Spatio-Temporally Grounding Natural Sentence in Video\"],[\"Open Domain Event Extraction Using Neural Latent Variable Models\"],[\"Towards Near-imperceptible Steganographic Text\"],[\"Token-level Dynamic Self-Attention Network for Multi-Passage Reading Comprehension\"],[\"Incremental Transformer with Deliberation Decoder for Document Grounded Conversations\"],[\"A Multiscale Visualization of Attention in the Transformer Model\"],[\"Target-Guided Open-Domain Conversation\"],[\"Just \\\"OneSeC\\\" for Producing Multilingual Sense-Annotated Data\"],[\"Improving the Similarity Measure of Determinantal Point Processes for Extractive Multi-Document Summarization\"],[\"Cross-lingual Knowledge Graph Alignment via Graph Matching Neural Network\"],[\"Knowledge-aware Pronoun Coreference Resolution\"],[\"Progressive Self-Supervised Attention Learning for Aspect-Level Sentiment Analysis\"],[\"Gated Embeddings in End-to-End Speech Recognition for Conversational-Context Fusion\"],[\"Multi-Level Matching and Aggregation Network for Few-Shot Relation Classification\"],[\"Learning Representations from Imperfect Time Series Data via Tensor Rank Regularization\"],[\"Multimodal Transformer for Unaligned Multimodal Language Sequences\"],[\"Exploiting Invertible Decoders for Unsupervised Sentence Representation Learning\"],[\"Generating Question-Answer Hierarchies\"],[\"Syntactically Supervised Transformers for Faster Neural Machine Translation\"],[\"Encouraging Paragraph Embeddings to Remember Sentence Identity Improves Classification\"],[\"Strategies for Structuring Story Generation\"],[\"Heuristic Authorship Obfuscation\"],[\"Bias Analysis and Mitigation in the Evaluation of Authorship Verification\"],[\"This Email Could Save Your Life: Introducing the Task of Email Subject Line Generation\"],[\"SP-10K: A Large-scale Evaluation Set for Selectional Preference Acquisition\"],[\"Extracting Multiple-Relations in One-Pass with Pre-Trained Transformers\"],[\"Improving Question Answering over Incomplete KBs with Knowledge-Aware Reader\"],[\"Sentence Centrality Revisited for Unsupervised Summarization\"],[\"TWEETQA: A Social Media Focused Question Answering Dataset\"],[\"Parallax: Visualizing and Understanding the Semantics of Embedding Spaces via Algebraic Formulae\"],[\"Monotonic Infinite Lookback Attention for Simultaneous Machine Translation\"],[\"End-to-end Deep Reinforcement Learning Based Coreference Resolution\"],[\"Rewarding Smatch: Transition-Based AMR Parsing with Reinforcement Learning\"],[\"Low-resource Deep Entity Resolution with Transfer and Active Learning\"],[\"HEIDL: Learning Linguistic Expressions with Deep Learning and Human-in-the-Loop\"],[\"Emotion-Cause Pair Extraction: A New Task to Emotion Analysis in Texts\"],[\"Soft Contextual Data Augmentation for Neural Machine Translation\"],[\"Understanding Undesirable Word Embedding Associations\"],[\"Towards Understanding Linear Word Analogies\"],[\"From Bilingual to Multilingual Neural Machine Translation by Incremental Training\"],[\"Key Fact as Pivot: A Two-Stage Model for Low Resource Table-to-Text Generation\"],[\"Enhancing Topic-to-Essay Generation with External Commonsense Knowledge\"],[\"Generating Fluent Adversarial Examples for Natural Languages\"],[\"STRASS: A Light and Effective Method for Extractive Summarization Based on Sentence Embeddings\"],[\"Online Infix Probability Computation for Probabilistic Finite Automata\"],[\"Cross-Modal Commentator: Automatic Machine Commenting Based on Cross-Modal Information\"],[\"XQA: A Cross-lingual Open-domain Question Answering Dataset\"],[\"Generating Sentences from Disentangled Syntactic and Semantic Spaces\"],[\"Automatic Generation of Personalized Comment Based on User Profile\"],[\"Imitation Learning for Non-Autoregressive Neural Machine Translation\"],[\"Like a Baby: Visually Situated Neural Language Acquisition\"],[\"Improving Neural Language Models by Segmenting, Attending, and Predicting the Future\"],[\"Does It Make Sense? And Why? A Pilot Study for Sense Making and Explanation\"],[\"Cross-Lingual Training for Automatic Question Generation\"],[\"Continual and Multi-Task Architecture Search\"],[\"Explore, Propose, and Assemble: An Interpretable Model for Multi-Hop Reading Comprehension\"],[\"Avoiding Reasoning Shortcuts: Adversarial Evaluation, Training, and Model Development for Multi-Hop QA\"],[\"Semi-supervised Stochastic Multi-Domain Learning using Variational Inference\"],[\"Comparison of Diverse Decoding Methods from Conditional Language Models\"],[\"PERSPECTROSCOPE: A Window to the World of Diverse Perspectives\"],[\"An adaptable task-oriented dialog system for stand-alone embedded devices\"],[\"Deep Dominance -How to Properly Compare Deep Neural Models\"],[\"Improving Visual Question Answering by Referring to Generated Paragraph Captions\"],[\"Unraveling Antonym's Word Vectors through a Siamese-like Network\"],[\"LSTMEmbed: Learning Word and Sense Representations from a Large Semantically Annotated Corpus with Long Short-Term Memories\"],[\"Evaluating Gender Bias in Machine Translation\"],[\"When a Good Translation is Wrong in Context: Context-Aware Machine Translation Improves on Deixis, Ellipsis, and Lexical Cohesion\"],[\"Rationally Reappraising ATIS-based Dialogue Systems\"],[\"ELI5: Long Form Question Answering\"],[\"Paraphrases as Foreign Languages in Multilingual Neural Machine Translation\"],[\"lingvis.io -A Linguistic Visual Analytics Framework\"],[\"Demonstration of a Neural Machine Translation System with Online Learning for Translators\"],[\"GrapAL: Connecting the Dots in Scientific Literature\"],[\"FASTDial: Abstracting Dialogue Policies for Fast Development of Task Oriented Agents\"],[\"Rapid Customization for Event Extraction\"],[\"\"],[\"PostAc \\u00ae : A Visual Interactive Search, Exploration, and Analysis Platform for PhD Intensive Job Postings\"],[\"A Neural, Interactive-predictive System for Multimodal Sequence to Sequence Tasks\"],[\"GLTR: Statistical Detection and Visualization of Generated Text\"],[\"Annotating and Analyzing Semantic Role of Elementary Units and Relations in Online Persuasive Arguments\"],[\"Microsoft ICECAPS: An Open-Source Toolkit for Conversation Modeling\"],[\"Flamb\\u00e9: A Customizable Framework for Machine Learning Experiments\"],[\"MoNoise: A Multi-lingual and Easy-to-use Lexical Normalization Tool\"],[\"Texar: A Modularized, Versatile, and Extensible Toolkit for Text Generation\"],[\"SLATE: A Super-Lightweight Annotation Tool for Experts\"],[\"You Only Need Attention to Traverse Trees\"],[\"Constructing Interpretive Spatio-Temporal Features for Multi-Turn Responses Selection\"],[\"Stay on the Path: Instruction Fidelity in Vision-and-Language Navigation\"],[\"Robust Neural Machine Translation with Doubly Adversarial Inputs\"],[\"\"],[\"A Multi-Task Architecture on Relevance-based Neural Query Translation\"],[\"Women's Syntactic Resilience and Men's Grammatical Luck: Gender-Bias in Part-of-Speech Tagging and Dependency Parsing\"],[\"Robust Neural Machine Translation with Joint Textual and Phonetic Embedding\"],[\"Attention over Heads: A Multi-Hop Attention for Neural Machine Translation\"],[\"Using Semantic Similarity as Reward for Reinforcement Learning in Sentence Generation\"],[\"Simultaneous Translation with Flexible Policy via Restricted Imitation Learning\"],[\"Unsupervised Paraphrasing without Translation\"],[\"Celebrity Profiling\"],[\"Probing Neural Network Comprehension of Natural Language Arguments\"],[\"Generating Logical Forms from Graph Representations of Text and Entities\"],[\"Dynamically Composing Domain-Data Selection with Clean-Data Selection by \\\"Co-Curricular Learning\\\" for Neural Machine Translation\"],[\"Handling Divergent Reference Texts when Evaluating Table-to-Text Generation\"],[\"Ranking of Potential Questions\"],[\"Context-specific language modeling for human trafficking detection from online advertisements\"],[\"Putting words in context: LSTM language models and lexical ambiguity\"],[\"NNE: A Dataset for Nested Named Entity Recognition in English Newswire\"],[\"Latent Retrieval for Weakly Supervised Open Domain Question Answering\"],[\"Ranking Generated Summaries by Correctness: An Interesting but Challenging Application for Natural Language Inference\"],[\"Using Automatically Extracted Minimum Spans to Disentangle Coreference Evaluation from Boundary Detection\"],[\"Effective Cross-lingual Transfer of Neural Machine Translation Models without Shared Vocabularies\"],[\"Reversing Gradients in Adversarial Domain Adaptation for Question Deduplication and Textual Entailment Tasks\"],[\"Crowdsourcing and Validating Event-focused Emotion Corpora for German and English\"],[\"An Imitation Learning Approach to Unsupervised Parsing\"],[\"Zero-Shot Entity Linking by Reading Entity Descriptions\"],[\"How to best use Syntax in Semantic Role Labelling\"],[\"Learning Emphasis Selection for Written Text in Visual Media from Crowd-Sourced Label Distributions\"],[\"AMR Parsing as Sequence-to-Graph Transduction\"],[\"Neural Decipherment via Minimum-Cost Flow: from Ugaritic to Linear B\"],[\"Don't Take the Premise for Granted: Mitigating Artifacts in Natural Language Inference\"],[\"Not All Reviews are Equal: Towards Addressing Reviewer Biases for Opinion Summarization\"],[\"Compound Probabilistic Context-Free Grammars for Grammar Induction\"],[\"BIGPATENT: A Large-Scale Dataset for Abstractive and Coherent Summarization\"],[\"Joint Effects of Context and User History for Predicting Online Conversation Re-entries\"],[\"Making Fast Graph-based Algorithms with Graph Metric Embeddings\"],[\"Matching the Blanks: Distributional Similarity for Relation Learning\"],[\"Unsupervised Parallel Sentence Extraction with Parallel Segment Detection Helps Machine Translation\"],[\"Better OOV Translation with Bilingual Terminology Mining\"],[\"Unsupervised Multilingual Word Embedding with Limited Resources using Neural Language Models\"],[\"Investigating Political Herd Mentality: A Community Sentiment Based Approach\"],[\"Learning Attention-based Embeddings for Relation Prediction in Knowledge Graphs\"],[\"Cross-Domain Generalization of Neural Constituency Parsers\"],[\"Pre-Learning Environment Representations for Data-Efficient Neural Instruction Following\"],[\"Are You Looking? Grounding to Multiple Modalities in Vision-and-Language Navigation\"],[\"Improving Low-Resource Cross-lingual Document Retrieval by Reranking with Deep Bilingual Representations\"],[\"Multilingual Constituency Parsing with Self-Attention and Pre-Training\"],[\"Simple Unsupervised Summarization by Contextual Matching\"],[\"Personalizing Dialogue Agents via Meta-Learning\"],[\"Memory Consolidation for Contextual Spoken Language Understanding with Dialogue Logistic Inference\"],[\"Generalized Data Augmentation for Low-Resource Translation\"],[\"M\\u0101ori Loanwords: A Corpus of New Zealand English Tweets\"],[\"Improving Neural Entity Disambiguation with Graph Embeddings\"],[\"DeepSentiPeer: Harnessing Sentiment in Review Texts To Recommend Peer Review Decisions\"],[\"Multimodal and Multi-view Models for Emotion Recognition\"],[\"Zero-Shot Semantic Parsing for Instructions\"],[\"What Should I Ask? Using Conversationally Informative Rewards for Goal-Oriented Visual Dialogue\"],[\"Complex Question Decomposition for Semantic Parsing\"],[\"HEAD-QA: A Healthcare Dataset for Complex Reasoning\"],[\"Unified Semantic Parsing with Weak Supervision\"],[\"Numeracy-600K: Learning Numeracy for Detecting Exaggerated Information in Market Comments\"],[\"Multi-Task Deep Neural Networks for Natural Language Understanding\"],[\"Distilling Translations with Visual Awareness\"],[\"A Simple Theoretical Model of Importance for Summarization\"],[\"DisSent: Learning Sentence Representations from Explicit Discourse Relations\"],[\"A Corpus for Reasoning About Natural Language Grounded in Photographs\"],[\"Multi-News: a Large-Scale Multi-Document Summarization Dataset and Abstractive Hierarchical Model\"],[\"EigenSent: Spectral sentence embeddings using higher-order Dynamic Mode Decomposition\"],[\"Self-Attentional Models for Lattice Inputs\"],[\"SEMBLEU: A Robust Metric for AMR Parsing Evaluation\"],[\"Symbolic inductive bias for visually grounded learning of spoken language\"],[\"Improved Zero-shot Neural Machine Translation via Ignoring Spurious Correlations\"],[\"A Compact and Language-Sensitive Multilingual Translation Method\"],[\"On the Robustness of Self-Attentive Models\"],[\"Exact Hard Monotonic Attention for Character-Level Transduction\"],[\"Reranking for Neural Semantic Parsing\"],[\"Incorporating Priors with Feature Attribution on Text Classification\"],[\"Multi-Relational Script Learning for Discourse Relations\"],[\"Human vs. Muppet: A Conservative Estimate of Human Performance on the GLUE Benchmark\"],[\"Using LSTMs to Assess the Obligatoriness of Phonological Distinctive Features for Phonotactic Learning\"],[\"Compositional Semantic Parsing Across Graphbanks\"],[\"Second-Order Semantic Dependency Parsing with End-to-End Neural Networks\"],[\"Determining Relative Argument Specificity and Stance for Complex Argumentative Structures\"],[\"Every child should have parents: a taxonomy refinement algorithm based on hyperbolic term embeddings\"],[\"Tree Communication Models for Sentiment Analysis\"],[\"An Investigation of Transfer Learning-Based Sentiment Analysis in Japanese\"],[\"Global Textual Relation Embedding for Relational Understanding\"],[\"Latent Variable Sentiment Grammar *\"],[\"Embedding time expressions for deep temporal ordering models\"],[\"Episodic Memory Reader: Learning What to Remember for Question Answering from Streaming Data\"],[\"Are we there yet? Encoder-decoder neural networks as cognitive models of English past tense inflection\"],[\"Is word segmentation child's play in all languages?\"],[\"Uncovering Probabilistic Implications in Typological Knowledge Bases\"],[\"Attention-based Conditioning Methods for External Knowledge Integration\"],[\"StRE: Self Attentive Edit Quality Prediction in Wikipedia\"],[\"Fine-Grained Sentence Functions for Short-Text Conversation\"],[\"Are Training Samples Correlated? Learning to Generate Dialogue Responses with Multiple References\"],[\"Fine-Grained Spoiler Detection from Large-Scale Review Corpora\"],[\"Unsupervised Learning of PCFGs with Normalizing Flow\"],[\"Domain Adaptive Dialog Generation via Meta Learning\"],[\"GCDT: A Global Context Enhanced Deep Transition Architecture for Sequence Labeling\"],[\"We need to talk about standard splits\"],[\"Analyzing Linguistic Differences between Owner and Staff Attributed Tweets\"],[\"Categorizing and Inferring the Relationship between the Text and Image of Twitter Posts\"],[\"Correlating neural and symbolic representations of language\"],[\"Retrieving Sequential Information for Non-Autoregressive Neural Machine Translation\"],[\"Transformer-XL: Attentive Language Models Beyond a Fixed-Length Context\"],[\"E 3 : Entailment-driven Extracting and Editing for Conversational Machine Reading\"],[\"A Simple and Effective Approach to Automatic Post-Editing with Transfer Learning\"],[\"Head-Driven Phrase Structure Grammar Parsing on Penn Treebank\"],[\"Multilingual Unsupervised NMT using Shared Encoder and Language-Specific Decoders\"],[\"Multi-Modal Sarcasm Detection in Twitter with Hierarchical Fusion Model\"],[\"MAAM: A Morphology-Aware Alignment Model for Unsupervised Bilingual Lexicon Induction\"],[\"On the Compositionality Prediction of Noun Phrases using Poincar\\u00e9 Embeddings\"],[\"Cross-Domain NER using Cross-Domain Language Modeling\"],[\"Multi-Task Semantic Dependency Parsing with Policy Gradient for Learning Easy-First Strategies\"],[\"Variance of average surprisal: a better predictor for quality of grammar from unsupervised PCFG induction\"],[\"Wide-Coverage Neural A* Parsing for Minimalist Grammars\"],[\"Assessing the Ability of Self-Attention Networks to Learn Word Order\"],[\"Topic-Aware Neural Keyphrase Generation for Social Media Language\"],[\"Relational Word Embeddings\"],[\"You Write Like You Eat: Stylistic variation as a predictor of social stratification\"],[\"Sentence-Level Evidence Embedding for Claim Verification with Hierarchical Attention Networks\"],[\"Embedding Imputation with Grounded Language Information\"],[\"Multi-Hop Paragraph Retrieval for Open-Domain Question Answering\"],[\"Textbook Question Answering with Multi-modal Context Graph Understanding and Self-supervised Open-set Comprehension\"],[\"Large Dataset and Language Model Fun-Tuning for Humor Recognition\"],[\"A Multilingual BPE Embedding Space for Universal Sentiment Lexicon Induction\"],[\"A Just and Comprehensive Strategy for Using NLP to Address Online Abuse\"],[\"Leveraging Meta Information in Short Text Aggregation\"],[\"Self-Attentive, Multi-Context One-Class Classification for Unsupervised Anomaly Detection on Text\"],[\"Hubless Nearest Neighbor Search for Bilingual Lexicon Induction\"],[\"Dialogue Natural Language Inference\"],[\"Bayes Test of Precision, Recall, and F 1 Measure for Comparison of Two Natural Language Processing Models\"],[\"The Effectiveness of Simple Hybrid Systems for Hypernym Discovery\"],[\"TIGS: An Inference Algorithm for Text Infilling with Gradient Search\"],[\"Vocabulary Pyramid Network: Multi-Pass Encoding and Decoding with Multi-Level Vocabularies for Response Generation\"],[\"Keeping Notes: Conditional Natural Language Generation with a Scratchpad Mechanism\"],[\"Do you know that Florence is packed with visitors? Evaluating state-of-the-art models of speaker commitment\"],[\"Towards Language Agnostic Universal Representations\"],[\"Give Me More Feedback II: Annotating Thesis Strength and Related Attributes in Student Essays\"],[\"End-to-End Sequential Metaphor Identification Inspired by Linguistic Theories\"],[\"Learning a Matching Model with Co-teaching for Multi-turn Response Selection in Retrieval-based Dialogue Systems\"],[\"Budgeted Policy Learning for Task-Oriented Dialogue Systems\"],[\"AdaNSP: Uncertainty-driven Adaptive Decoding in Neural Semantic Parsing\"],[\"AutoML strategy based on grammatical evolution: A case study about knowledge discovery from text\"],[\"Distilling Discrimination and Generalization Knowledge for Event Detection via \\u2206-Representation Learning\"],[\"Learning to Abstract for Memory-augmented Conversational Response Generation\"],[\"Towards Empathetic Open-domain Conversation Models: a New Benchmark and Dataset\"],[\"Training Neural Response Selection for Task-Oriented Dialogue Systems\"],[\"Joint Slot Filling and Intent Detection via Capsule Neural Networks\"],[\"Label-Agnostic Sequence Labeling by Copying Nearest Neighbors\"],[\"Self-Attention Architectures for Answer-Agnostic Neural Question Generation\"],[\"Large-Scale Transfer Learning for Natural Language Generation\"],[\"Enhancing Unsupervised Generative Dependency Parser with Contextual Information\"],[\"Cost-sensitive Regularization for Label Confusion-aware Event Detection\"],[\"Improving Open Information Extraction via Iterative Rank-Aware Learning\"],[\"Towards Improving Neural Named Entity Recognition with Gazetteers\"],[\"Improving the Robustness of Question Answering Systems to Question Paraphrasing\"],[\"Neural Response Generation with Meta-Words\"],[\"Scaling Up Open Tagging from Tens to Thousands: Comprehension Empowered Attribute Value Extraction from Product Title\"],[\"NLProlog: Reasoning with Weak Unification for Question Answering in Natural Language\"],[\"MC 2 : Multi-perspective Convolutional Cube for Conversational Machine Reading Comprehension\"],[\"A Novel Bi-directional Interrelated Model for Joint Intent Detection and Slot Filling\"],[\"Reducing Word Omission Errors in Neural Machine Translation: A Contrastive Learning Approach\"],[\"Deep Unknown Intent Detection with Margin Loss\"],[\"Exploiting Sentential Context for Neural Machine Translation\"],[\"Learning to Relate from Captions and Bounding Boxes\"],[\"Modeling Semantic Relationship in Multi-turn Conversations with Hierarchical Latent Variables\"],[\"An automated framework for fast cognate detection and Bayesian phylogenetic inference in computational historical linguistics\"],[\"Learning Latent Trees with Stochastic Perturbations and Differentiable Dynamic Programming\"],[\"Discourse Representation Parsing for Sentences and Documents\"],[\"Sequence-to-Nuggets: Nested Entity Mention Detection via Anchor-Region Networks\"],[\"Training Hybrid Language Models by Marginalizing over Segmentations\"],[\"Language Modelling Makes Sense: Propagating Representations through WordNet for Full-Coverage Word Sense Disambiguation\"],[\"Combating Adversarial Misspellings with Robust Word Recognition\"],[\"Sentiment Tagging with Partial Labels using Modular Architectures\"],[\"Word2Sense : Sparse Interpretable Word Embeddings\"],[\"Empirical Linguistic Study of Sentence Embeddings\"],[\"Collocation Classification with Unsupervised Relation Vectors\"],[\"Probing for Semantic Classes: Diagnosing the Meaning Content of Word Embeddings\"],[\"Confusionset-guided Pointer Networks for Chinese Spelling Check\"],[\"Target Conditioned Sampling: Optimizing Data Selection for Multilingual Neural Machine Translation\"],[\"Adversarial Learning of Privacy-Preserving Text Representations for De-Identification of Medical Records\"],[\"Variational Pretraining for Semi-supervised Text Classification\"],[\"The Referential Reader: A Recurrent Entity Network for Anaphora Resolution\"],[\"Interpolated Spectral NGram Language Models\"],[\"Barack's Wife Hillary: Using Knowledge Graphs for Fact-Aware Language Modeling\"],[\"Depth Growing for Neural Machine Translation\"],[\"Manipulating the Difficulty of C-Tests\"],[\"Soft Representation Learning for Sparse Transfer\"],[\"Duality of Link Prediction and Entailment Graph Induction\"],[\"Towards Unsupervised Text Classification Leveraging Experts and Word Embeddings\"],[\"Improved Language Modeling by Decoding the Past\"],[\"Sparse Sequence-to-Sequence Models\"],[\"Neural Network Alignment for Sentential Paraphrases\"],[\"A Cross-Sentence Latent Variable Model for Semi-Supervised Text Sequence Matching\"],[\"Divide, Conquer and Combine: Hierarchical Feature Fusion Network with Local and Global Perspectives for Multimodal Affective Computing\"],[\"Decompositional Argument Mining: A General Purpose Approach for Argument Graph Construction\"],[\"What You Say and How You Say It Matters: Predicting Financial Risk Using Verbal and Vocal Cues\"],[\"A Transparent Framework for Evaluating Unintended Demographic Bias in Word Embeddings\"],[\"Generalized Tuning of Distributional Word Vectors for Monolingual and Cross-Lingual Lexical Entailment\"],[\"Cross-Sentence Grammatical Error Correction\"],[\"Learning Morphosyntactic Analyzers from the Bible via Iterative Annotation Projection across 26 Languages\"],[\"A Surprisingly Robust Trick for the Winograd Schema Challenge\"],[\"Encoding Social Information with Graph Convolutional Networks for Political Perspective Detection in News Media\"],[\"MELD: A Multimodal Multi-Party Dataset for Emotion Recognition in Conversations\"],[\"Topic Sensitive Attention on Generic Corpora Corrects Sense Bias in Pretrained Embeddings\"],[\"Coherent Comment Generation for Chinese Articles with a Graph-to-Sequence Model\"],[\"Transfer Capsule Network for Aspect Level Sentiment Classification\"],[\"Multilingual Factor Analysis\"],[\"A Deep Reinforced Sequence-to-Set Model for Multi-Label Classification\"],[\"Learning from omission\"],[\"Meaning to Form: Measuring Systematicity as Information\"],[\"Interconnected Question Generation with Coreference Alignment and Conversation Flow Modeling\"],[\"A Corpus for Modeling User and Language Effects in Argumentation on Online Debating\"],[\"Generating Diverse Translations with Sentence Codes\"],[\"Multilingual and Cross-Lingual Graded Lexical Entailment\"],[\"Neural Text Simplification of Clinical Letters with a Domain Specific Phrase Table\"],[\"Data Programming for Learning Discourse Structure\"],[\"Neural Fuzzy Repair: Integrating Fuzzy Matches into Neural Machine Translation\"],[\"What Kind of Language Is Hard to Language-Model?\"],[\"\"],[\"Text Categorization by Learning Predominant Sense of Words as Auxiliary Task\"],[\"Reinforced Training Data Selection for Domain Adaptation\"],[\"Bilingual Lexicon Induction through Unsupervised Machine Translation\"],[\"One Time of Interaction May Not Be Enough: Go Deep with an Interaction-over-Interaction Network for Response Selection in Dialogues\"],[\"Coreference Resolution with Entity Equalization\"],[\"Generating Long and Informative Reviews with Aspect-Aware Coarse-to-Fine Decoding\"],[\"Asking the Crowd: Question Analysis, Evaluation and Generation for Open Discussion on Online Forums\"],[\"Automatic Generation of High Quality CCGbanks for Parser Domain Adaptation\"],[\"MOROCO: The Moldavian and Romanian Dialectal Corpus\"],[\"Unsupervised Neural Text Simplification\"],[\"Abstractive text summarization based on deep learning and semantic content generalization\"],[\"An Effective Approach to Unsupervised Machine Translation\"],[\"Errudite: Scalable, Reproducible, and Testable Error Analysis\"],[\"Unsupervised Neural Single-Document Summarization of Reviews via Learning Latent Discourse Structure and its Ranking\"],[\"Studying Summarization Evaluation Metrics in the Appropriate Scoring Range\"],[\"Spatial Aggregation Facilitates Discovery of Spatial Topics\"],[\"SherLIiC: A Typed Event-Focused Lexical Inference Benchmark for Evaluating Natural Language Inference\"],[\"Syntax-Infused Variational Autoencoder for Text Generation\"],[\"Collaborative Dialogue in Minecraft\"],[\"Finding Your Voice: The Linguistic Development of Mental Health Counselors\"],[\"Inferential Machine Comprehension: Answering Questions by Recursively Deducing the Evidence Chain from Text\"],[\"Modeling affirmative and negated action processing in the brain with lexical and compositional semantic models\"],[\"Detecting Concealed Information in Text and Speech\"],[\"Towards Automating Healthcare Question Answering in a Noisy Multilingual Low-Resource Setting\"],[\"Explicit Utilization of General Knowledge in Machine Reading Comprehension\"],[\"Self-Regulated Interactive Sequence-to-Sequence Learning\"],[\"Joint Entity Extraction and Assertion Detection for Clinical Text\"],[\"Incorporating Linguistic Constraints into Keyphrase Generation\"],[\"Adaptive Attention Span in Transformers\"],[\"Automatic Domain Adaptation Outperforms Manual Domain Adaptation for Predicting Financial Outcomes\"],[\"Wikipedia as a Resource for Text Analysis and Retrieval\"],[\"Unsupervised Cross-Lingual Representation Learning\"],[\"Computational ad hominem detection\"],[\"Fact or Factitious? Contextualized Opinion Spam Detection\"],[\"Latent Structure Models for Natural Language Processing\"],[\"Multiple Character Embeddings for Chinese Word Segmentation\"],[\"\"],[\"BREAKING! Presenting Fake News Corpus For Automated Fact Checking\"],[\"Automated Cross-language Intelligibility Analysis of Parkinson's Disease Patients Using Speech Recognition Technologies\"],[\"Attention and Lexicon Regularized LSTM for Aspect-based Sentiment Analysis\"],[\"\"],[\"Advances in Argument Mining\"],[\"Hierarchical Multi-label Classification of Text with Capsule Networks\"],[\"Computational Analysis of Political Texts: Bridging Research Efforts Across Communities\"],[\"English-Indonesian Neural Machine Translation for Spoken Language Domains\"],[\"Active Reading Comprehension: A dataset for learning the Question-Answer Relationship strategy\"],[\"Robust-to-Noise Models in Natural Language Processing Tasks\"],[\"Measuring the Value of Linguistics: A Case Study from St. Lawrence Island Yupik\"],[\"Improving Mongolian-Chinese Neural Machine Translation with Morphological Noise\"],[\"Towards incremental learning of word embeddings using context informativeness\"],[\"Joint Learning of Named Entity Recognition and Entity Linking\"],[\"A Strong and Robust Baseline for Text-Image Matching\"],[\"Reducing Gender Bias in Word-Level Language Models with a Gender-Equalizing Loss Function\"],[\"Transfer Learning Based Free-Form Speech Command Classification for Low-Resource Languages\"],[\"Enriching Neural Models with Targeted Features for Dementia Detection\"],[\"Convolutional Neural Networks for Financial Text Regression\"],[\"Scheduled Sampling for Transformers\"],[\"Sentiment Analysis on Naija-Tweets\"],[\"Sentiment Classification using Document Embeddings trained with Cosine Similarity\"],[\"A Japanese Word Segmentation Proposal\"],[\"Deep Bayesian Natural Language Processing\"],[\"\"],[\"\"],[\"Gender Stereotypes Differ between Male and Female Writings\"],[\"Natural Language Generation: Recently Learned Lessons, Directions for Semantic Representation-based Approaches, and the case of Brazilian Portuguese Language\"],[\"Towards Turkish Abstract Meaning Representation\"],[\"Predicting the Outcome of Deliberative Democracy: A Research Proposal\"],[\"Distributed Knowledge Based Clinical Auto-Coding System\"]],\"hovertemplate\":\"lab_or_not=notlab<br>x1=%{x}<br>x2=%{y}<br>hover_data_0=%{customdata[0]}<extra></extra>\",\"legendgroup\":\"notlab\",\"marker\":{\"color\":\"#636efa\",\"symbol\":\"circle\"},\"mode\":\"markers\",\"name\":\"notlab\",\"orientation\":\"v\",\"showlegend\":true,\"x\":[0.1393200010061264,0.25976550579071045,-0.2003570944070816,-0.0539260059595108,-0.15726514160633087,0.03262011706829071,0.28841400146484375,-0.1704111397266388,-0.14568698406219482,0.31172534823417664,0.39620721340179443,0.017942698672413826,0.11779393255710602,0.23750123381614685,-0.12998026609420776,-0.05224941670894623,0.006941941566765308,0.03762179985642433,-0.23932476341724396,0.04523320123553276,-0.08450336009263992,0.13905932009220123,0.020292824134230614,-0.08861871063709259,0.0931064784526825,-0.10795190185308456,-0.021139243617653847,-0.1812043935060501,0.04993375763297081,0.6422428488731384,0.03836072236299515,0.13704833388328552,0.05883263051509857,-0.16578835248947144,-0.23478452861309052,-0.20066440105438232,-0.02627575397491455,0.2424645870923996,0.007957413792610168,-0.038610395044088364,-0.07213839888572693,-0.04701872169971466,-0.13709010183811188,-0.005646624136716127,0.03831356391310692,0.1539374738931656,-0.13083499670028687,-0.18122798204421997,0.17990393936634064,-0.06145583465695381,-0.008769018575549126,-0.29828616976737976,-0.1972680538892746,-0.1895485520362854,0.1314692348241806,0.23015591502189636,-0.05432800203561783,0.08092538267374039,-0.06676764041185379,0.12242116034030914,0.0011267221998423338,-0.07642145454883575,0.04077519476413727,-0.17740365862846375,0.014526194892823696,-0.10831446945667267,-0.2765797972679138,-0.13751165568828583,-0.10416586697101593,0.2224394679069519,0.010892238467931747,-0.35640865564346313,-0.3326352536678314,-0.04824129864573479,-0.00465520191937685,-0.0698046162724495,-0.06226453557610512,0.6422428488731384,0.15894770622253418,0.043574560433626175,-0.08048249036073685,0.030978014692664146,0.006975049618631601,0.06528917700052261,-0.08544400334358215,0.009491381235420704,0.054240401834249496,-0.13849103450775146,-0.0011084422003477812,0.01341370027512312,-0.11983729898929596,-0.06269270926713943,0.10361948609352112,-0.05292981490492821,0.10478638112545013,0.30613699555397034,0.22104112803936005,-0.060074303299188614,0.2169819176197052,-0.08275454491376877,0.025439729914069176,0.053477250039577484,0.02069183439016342,-0.004885932430624962,-0.1293952763080597,0.28275132179260254,-0.030833519995212555,0.2916363775730133,0.14177124202251434,0.03456857427954674,0.26696112751960754,0.1285555064678192,-0.2953936457633972,0.2022998332977295,-0.36348971724510193,-0.23883621394634247,-0.35906192660331726,-0.333167165517807,0.054201047867536545,-0.16920346021652222,0.15419219434261322,-0.29564592242240906,-0.23075030744075775,-0.06625188142061234,-0.10576001554727554,-0.13201607763767242,-0.28073927760124207,0.40891093015670776,0.16839569807052612,0.0816567912697792,-0.06607768684625626,0.2138589322566986,-0.134149968624115,0.19188478589057922,0.2818782329559326,-0.1260010004043579,0.07246677577495575,0.1570655256509781,-0.11231647431850433,0.30449235439300537,-0.13719090819358826,0.2505814731121063,0.11784253269433975,-0.3103114068508148,0.007069253362715244,-0.05366393178701401,0.09686551988124847,0.15011294186115265,0.2318105846643448,0.38232114911079407,0.3843117654323578,0.10576263070106506,0.1031758263707161,-0.04453182592988014,-0.05068586394190788,-0.20744027197360992,-0.22055701911449432,-0.005246435292065144,-0.17614243924617767,-0.009947331622242928,-0.3721065819263458,-0.3141559362411499,0.06727315485477448,-0.2240438461303711,-0.13114450871944427,0.3995177149772644,0.15174242854118347,-0.10294491052627563,-0.15702363848686218,0.032794151455163956,-0.09084659069776535,0.0329430028796196,-0.018604528158903122,0.07505843043327332,-0.13951422274112701,-0.06706768274307251,-0.21158131957054138,-0.23878741264343262,-0.1564973145723343,-0.06602628529071808,0.04038715735077858,-0.3540165424346924,-0.13691191375255585,-0.08212576806545258,-0.20542170107364655,-0.06137055158615112,-0.10760083049535751,-0.15364694595336914,-0.022132720798254013,-0.12572358548641205,-0.16223853826522827,-0.1972716897726059,-0.32617130875587463,0.007274847477674484,-0.37454983592033386,-0.30780690908432007,0.02898966521024704,-0.1027977466583252,0.006869638338685036,-0.12531781196594238,0.0745917409658432,-0.24567747116088867,-0.027839642018079758,-0.1678084284067154,0.15250998735427856,0.42008817195892334,0.23400726914405823,-0.11266233026981354,-0.10323666036128998,0.32736289501190186,-0.33540937304496765,0.007558331359177828,-0.008166931569576263,-0.031516183167696,0.21922706067562103,0.09891249239444733,0.31314146518707275,0.4454192519187927,0.3434307873249054,0.3364788889884949,-0.11046156287193298,-0.16239804029464722,-0.07440492510795593,-0.022741546854376793,0.1204230934381485,0.02637365087866783,-0.0081190075725317,-0.06870132684707642,-0.04807243496179581,-0.0858616903424263,0.06867824494838715,-0.11404039710760117,-0.0021902674343436956,-0.12565363943576813,-0.10963239520788193,-0.08646789938211441,-0.04509003832936287,-0.14872129261493683,-0.17370781302452087,0.21067994832992554,-0.21438780426979065,-0.01262833084911108,-0.14792965352535248,-0.137078657746315,-0.2447090446949005,-0.04718136787414551,0.11016488820314407,-0.14331726729869843,-0.017084870487451553,-0.27766573429107666,-0.13108430802822113,-0.07921534031629562,-0.31198930740356445,0.024739976972341537,-0.2656117081642151,0.011436880566179752,-0.08043697476387024,-0.14920677244663239,-0.262703537940979,-0.09981589764356613,-0.09760003536939621,-0.13092169165611267,-0.05926445871591568,-0.01834048144519329,0.1720401495695114,0.21259093284606934,-0.0758310928940773,0.09623831510543823,0.6422428488731384,-0.2026555836200714,-0.033811356872320175,-0.1082107201218605,-0.2081189602613449,0.1955423504114151,-0.10115815699100494,-0.13666830956935883,0.010367446579039097,-0.030632320791482925,0.15061363577842712,0.06146320328116417,-0.12250856310129166,0.004521377384662628,0.2459692656993866,-0.23529231548309326,-0.12471663951873779,0.1042584627866745,-0.06452810764312744,-0.20298917591571808,-0.005983754992485046,-0.07906469702720642,0.08709295839071274,-0.0051207575015723705,0.008108497597277164,-0.22609205543994904,0.003854565555229783,0.02365945093333721,0.027800528332591057,0.2107071876525879,-0.18675260245800018,-0.1279064416885376,-0.14935658872127533,0.1673954427242279,0.23042353987693787,0.22799019515514374,0.2749441862106323,-0.052797019481658936,0.023801691830158234,0.18668238818645477,0.020678147673606873,-0.0531022734940052,0.0136891920119524,0.07201463729143143,0.2894213795661926,-0.005972603335976601,0.03052939847111702,0.14929738640785217,0.3650054335594177,0.18552926182746887,0.3096565306186676,-0.14129889011383057,-0.3008251190185547,-0.01670948788523674,0.09526235610246658,0.03170490637421608,0.0023835403844714165,0.15122170746326447,-0.07094032317399979,-0.22660931944847107,0.23518997430801392,0.18106567859649658,-0.07159952819347382,0.043330900371074677,0.4456843435764313,0.1537521630525589,-0.07056066393852234,-0.09808094799518585,-0.08884953707456589,-0.08185093104839325,0.08998934924602509,0.09100884944200516,-0.15237568318843842,-0.12428624927997589,0.16791029274463654,-0.14555659890174866,-0.07910927385091782,0.09795340150594711,-0.06120174378156662,0.18573470413684845,-0.1833924949169159,0.04416351765394211,0.03541083261370659,-0.08629871904850006,0.13012535870075226,0.12206438183784485,-0.006014934275299311,-0.2768801748752594,-0.07768283784389496,0.17295177280902863,-0.11998434364795685,0.048917412757873535,0.04631470516324043,0.1061827763915062,-0.02609432116150856,0.1332608163356781,0.15324313938617706,0.03901669383049011,-0.11733347922563553,0.06487655639648438,0.1056765466928482,-0.09842143952846527,-0.010852503590285778,0.358388751745224,-0.014459656551480293,-0.0034317360259592533,-0.043102554976940155,-0.03119114227592945,0.04236152768135071,0.04031164571642876,-0.001381913898512721,-0.04213228449225426,0.1418207436800003,0.30940014123916626,0.07132235914468765,-0.19212132692337036,-0.13950490951538086,-0.036892667412757874,0.12721239030361176,0.6422428488731384,-0.14054393768310547,0.04227612540125847,-0.09266854077577591,-0.09284152090549469,0.08608324825763702,0.15747246146202087,-0.19868715107440948,0.06451354920864105,-0.18913358449935913,0.16852451860904694,0.034905530512332916,-0.10127951949834824,-0.05937349423766136,-0.0945003405213356,0.6422428488731384,-0.11392513662576675,0.08085419237613678,0.047994814813137054,-0.08249243348836899,-0.21195271611213684,0.09133636951446533,-0.34881091117858887,-0.10993757098913193,0.05463073402643204,0.1490727663040161,0.28083932399749756,0.0635298565030098,0.061717916280031204,-0.049487438052892685,-0.007016772869974375,-0.05626864731311798,0.053087860345840454,0.03378942608833313,-0.2917710840702057,-0.07573352754116058,-0.1491124927997589,-0.10204422473907471,0.16052207350730896,0.2872232496738434,-0.3324674963951111,0.07963686436414719,-0.01705756224691868,-0.38909652829170227,-0.11266142874956131,0.021146591752767563,-0.04771338030695915,-0.07624000310897827,0.07217566668987274,0.1335473656654358,-0.23399893939495087,-0.15807321667671204,0.2064545750617981,-0.32905280590057373,-0.139618918299675,-0.18472769856452942,0.08890330791473389,-0.11989324539899826,-0.20407170057296753,-0.015888547524809837,-0.09058089554309845,-0.0991874560713768,-0.13412269949913025,0.3808614909648895,0.25833800435066223,-0.13879047334194183,-0.09391091018915176,0.07823938131332397,-0.09629740566015244,-0.0012797147501260042,-0.21999523043632507,-0.03449300676584244,0.02912522479891777,-0.28370675444602966,0.2692570984363556,-0.1079610288143158,0.27300503849983215,0.20500855147838593,0.13687676191329956,0.6422428488731384,0.3203428387641907,-0.020214073359966278,0.17696186900138855,0.5081345438957214,0.03269151225686073,0.10175968706607819,-0.06100785732269287,-0.02121734991669655,0.25083690881729126,-0.20490476489067078,0.017799146473407745,-0.09014218300580978,-0.29631704092025757,0.18355034291744232,-0.29522228240966797,0.20218174159526825,-0.264973521232605,-0.26863202452659607,-0.13632121682167053,-0.25229060649871826,-0.22428488731384277,0.21686965227127075,0.015269958414137363,-0.10333216935396194,-0.14657938480377197,0.043250199407339096,0.3290371298789978,0.19064880907535553,-0.10063189268112183,0.04710235819220543,-0.0335782952606678,0.0035299283917993307,0.030722729861736298,-0.39281389117240906,-0.12176492065191269,0.20393109321594238,-0.16735422611236572,-0.15207065641880035,-0.09118816256523132,0.1765044927597046,-0.10965662449598312,-0.1521184891462326,-0.08833912014961243,0.2445867508649826,-0.06342851370573044,0.04838027432560921,0.25420835614204407,0.01706727221608162,-0.020340505987405777,-0.12958435714244843,-0.27865973114967346,-0.31384071707725525,0.42991355061531067,-0.047988131642341614,-0.13428445160388947,-0.09986340999603271,-0.0159123744815588,-0.2093670666217804,-0.19801564514636993,-0.05825711041688919,0.12963461875915527,0.002623189240694046,-0.30694204568862915,0.22594165802001953,-0.0635802149772644,0.14565087854862213,0.038643669337034225,-0.07916626334190369,0.1022581160068512,0.06678678095340729,0.01904873363673687,-0.11833798140287399,-0.06570407003164291,-0.2587035298347473,-0.17476534843444824,0.11756899952888489,-0.12157844752073288,0.0990222841501236,-0.032227203249931335,0.03389126434922218,-0.25945451855659485,-0.013152848929166794,-0.15067069232463837,-0.3098559081554413,-0.375386118888855,-0.005133789964020252,-0.29284313321113586,-0.11797812581062317,0.1645851582288742,0.05066285654902458,-0.0917089506983757,-0.0470379963517189,-0.08960452675819397,-0.0972781851887703,0.37242308259010315,0.07867477834224701,0.08032919466495514,0.04102160036563873,-0.13729718327522278,0.07273957133293152,-0.07461678981781006,-0.2053452432155609,-0.1374109983444214,-0.02274852618575096,0.03163456916809082,-0.2846178114414215,0.00397843262180686,-0.009047719649970531,-0.01668880134820938,0.20889046788215637,-0.12535056471824646,0.035750504583120346,-0.2772103548049927,0.12427932769060135,0.39751631021499634,0.2532244920730591,-0.08049263805150986,-0.3242378234863281,-0.2544792592525482,0.13776282966136932,-0.2092828005552292,-0.014008699916303158,-0.33063486218452454,0.19082772731781006,-0.20215103030204773,-0.03957800939679146,-0.07872918993234634,0.0015970662934705615,-0.038216687738895416,-0.06374300271272659,-0.313864141702652,0.026004066690802574,-0.024844428524374962,0.24699640274047852,0.0047316537238657475,-0.040248047560453415,-0.019443470984697342,-0.0582786425948143,0.17066015303134918,0.11903656274080276,0.5385995507240295,0.13426806032657623,-0.005953056737780571,-0.19125734269618988,0.10740895569324493,-0.035625606775283813,0.07635091990232468,-0.19018018245697021,-0.035313572734594345,-0.2021401971578598,0.05120956897735596,-0.11359915882349014,0.30256718397140503,-0.03874856233596802,0.10330270230770111,0.08001889288425446,-0.22393915057182312,0.16811564564704895,0.01389666274189949,-0.02907467447221279,0.10424245148897171,0.09729906171560287,-0.049987681210041046,-0.12791414558887482,-0.18156062066555023,-0.0661766454577446,-0.16602464020252228,0.07389254868030548,0.03792954981327057,-0.039777424186468124,-0.08894889801740646,-0.047497592866420746,0.18975067138671875,-0.03946373239159584,-0.06954730302095413,-0.011544403620064259,-0.29806050658226013,0.05334668606519699,-0.3673325181007385,-0.07597143203020096,-0.006431956309825182,0.10218459367752075,0.019300060346722603,-0.07018794119358063,-0.00864375103265047,-0.07651937007904053,-0.1849328726530075,-0.06520155072212219,0.09994880110025406,-0.100510373711586,-0.07012021541595459,-0.04319362714886665,0.07200299203395844,-0.10799061506986618,-0.28581076860427856,0.12230928242206573,-0.1290685087442398,-0.048662640154361725,-0.08964627236127853,-0.12071555107831955,-0.38151371479034424,0.05869685113430023,-0.18412789702415466,0.1295967847108841,0.20514313876628876,-0.23798733949661255,-0.27913495898246765,-0.051715802401304245,-0.10137659311294556,0.022786684334278107,0.3453315198421478,0.16876809298992157,0.146797314286232,-0.10635030269622803,-0.2567708194255829,-0.01953905262053013,-0.05262421444058418,0.20090259611606598,0.21797966957092285,-0.11715616285800934,0.1405612975358963,0.10730292648077011,-0.13538150489330292,-0.038269318640232086,0.02970445156097412,0.013273227028548717,-0.07145218551158905,0.4657902121543884,-0.11742382496595383,-0.05287216976284981,0.028601622208952904,0.028752485290169716,-0.3169371485710144,-0.13934099674224854,0.6422428488731384,-0.0031962196808308363,-0.07533679157495499,-0.26043155789375305,-0.009002306498587132,-0.00022122851805761456,0.09350001066923141,0.03909553959965706,-0.025178052484989166,0.1000300943851471,-0.11835826188325882,-0.061619579792022705,-0.33948612213134766,0.18055208027362823,0.07263877242803574,0.16251559555530548,0.2588919699192047,-0.03687836974859238,-0.19120581448078156,0.208892822265625,0.27588969469070435,-0.06487367302179337,0.09108326584100723,0.2591157853603363,-0.11357355862855911,-0.14565972983837128,-0.1797644942998886,-0.09852582961320877,-0.026082389056682587,-0.16407836973667145,0.16698214411735535,0.6422428488731384,0.6422428488731384,0.4748944640159607,0.21375672519207,0.6422428488731384,-0.19805604219436646,0.17512699961662292,0.2927559018135071,0.09719596058130264,0.0037601199001073837,0.6422428488731384,0.43864691257476807,-0.03156315162777901,0.6422428488731384,-0.19059647619724274,-0.035359591245651245,0.018586480990052223,-0.011822016909718513,-0.14879025518894196,-0.03942286968231201,-0.07439038157463074,-0.08012332767248154,-0.033337462693452835,-0.0736771896481514,0.0150825260207057,0.030105946585536003,-0.312483549118042,0.2866261899471283,0.18544194102287292,0.09958314150571823,0.6422428488731384,0.6422428488731384,0.6422428488731384,0.3306654393672943,0.1005716398358345,0.0638182982802391,0.2686202824115753,0.10920754820108414],\"xaxis\":\"x\",\"y\":[-0.33223092555999756,-0.25226539373397827,-0.2767890989780426,0.11814917623996735,0.01263266522437334,-0.2486436665058136,0.2455265372991562,0.18446697294712067,0.08427723497152328,-0.17413121461868286,-0.08274516463279724,-0.1555703580379486,-0.19316977262496948,0.09368675947189331,0.15115079283714294,0.02243121899664402,0.35991793870925903,-0.13675153255462646,0.1293943077325821,0.22493764758110046,0.14279749989509583,0.10306986421346664,0.15089033544063568,-0.13669392466545105,-0.03974650427699089,0.0048882137052714825,-0.05979384109377861,0.08992087095975876,0.06961539387702942,0.005288573447614908,-0.2870657742023468,0.13818888366222382,-0.010931693948805332,0.1884598284959793,-0.21838968992233276,-0.03243741765618324,0.27898818254470825,-0.20496702194213867,0.06520310044288635,0.03814415633678436,0.37235012650489807,-0.03411835804581642,-0.08247807621955872,-0.0045987628400325775,0.06457166373729706,0.07300225645303726,0.03105798177421093,0.04197075217962265,0.15517239272594452,-0.18190599977970123,-0.18645499646663666,0.032655250281095505,-0.1290893852710724,0.1026693657040596,0.4081002473831177,0.4741637110710144,0.23465077579021454,0.04908030852675438,0.03468723222613335,-0.1398804932832718,-0.1796124130487442,-0.0585964098572731,-0.0662495419383049,-0.05699998140335083,-0.028974104672670364,-0.14819996058940887,-0.0834900438785553,0.06504150480031967,0.15214961767196655,0.384731262922287,0.4738101661205292,-0.019657224416732788,-0.25218766927719116,-0.04999076575040817,-0.014282001182436943,-0.16861532628536224,-0.026952499523758888,0.005288573447614908,0.36194732785224915,0.33220401406288147,-0.12922528386116028,0.065887451171875,-0.1022852435708046,-0.09258817136287689,-0.16808079183101654,-0.11406358331441879,0.02995220199227333,-0.04423776641488075,-0.08634965866804123,-0.16935749351978302,0.31827646493911743,0.22765111923217773,-0.059048719704151154,-0.13437512516975403,-0.3133627772331238,-0.011898929253220558,0.09773528575897217,0.05583353340625763,-0.056367721408605576,0.23659197986125946,-0.13152728974819183,0.37732353806495667,0.22922131419181824,0.02603207714855671,-0.19220148026943207,-0.028162026777863503,0.12771573662757874,0.16480855643749237,0.09475542604923248,-0.24370482563972473,-0.17528480291366577,0.16821987926959991,-0.3241937458515167,0.0784626230597496,-0.3252997100353241,-0.007478576619178057,-0.031258273869752884,0.0270987581461668,0.07494556158781052,-0.22635413706302643,-0.08200306445360184,0.06578955799341202,-0.24537599086761475,0.2581634819507599,-0.18063589930534363,0.05524059012532234,-0.04726988077163696,-0.03634841367602348,-0.09243498742580414,0.2922137677669525,0.24998167157173157,-0.020494282245635986,-0.07508739829063416,-0.18866994976997375,-0.19368259608745575,0.10126231610774994,0.04596041887998581,0.3346835672855377,0.05255827680230141,-0.017799533903598785,0.19158224761486053,0.38259199261665344,-0.06460648030042648,-0.11237826198339462,-0.17988072335720062,0.31328824162483215,-0.24376577138900757,-0.10087273269891739,-0.37326472997665405,-0.1310574859380722,-0.21911069750785828,-0.11343367397785187,0.268503338098526,-0.236808180809021,-0.04715883731842041,-0.40528348088264465,-0.3171822428703308,-0.11222370713949203,-0.305117130279541,-0.1563905030488968,-0.04592518135905266,-0.028491109609603882,0.17634057998657227,-0.0518859326839447,0.09377067536115646,0.10408028215169907,-0.19253785908222198,0.0017648584907874465,-0.10871397703886032,-0.15151070058345795,0.01787007600069046,0.2807203531265259,-0.1204579547047615,0.12126553803682327,0.1337510645389557,-0.008722894825041294,-0.16176970303058624,0.2158091962337494,0.05441217124462128,-0.15139494836330414,-0.24005283415317535,0.02985558472573757,0.40046626329421997,0.36320045590400696,0.015471382066607475,0.06560046225786209,-0.0981321781873703,0.018313419073820114,0.10325438529253006,0.00238063489086926,0.20563679933547974,0.023382553830742836,0.05776377394795418,-0.1180892065167427,-0.1253080517053604,0.15918146073818207,-0.030484605580568314,0.004987446591258049,-0.2976346015930176,0.26690810918807983,-0.16762912273406982,0.08076176047325134,-0.03158590942621231,0.265596479177475,-0.07024741172790527,-0.12905244529247284,0.01717909798026085,-0.03126205503940582,0.05718538165092468,-0.2799842357635498,0.10294069349765778,-0.047061409801244736,-0.04020921140909195,0.30591240525245667,0.21397361159324646,0.19688954949378967,-0.3640686273574829,-0.023470493033528328,-0.13320554792881012,0.008513509295880795,-0.10383740812540054,0.12782317399978638,-0.1231655552983284,0.006276664324104786,-0.07129646092653275,-0.2653391361236572,0.20171424746513367,-0.1029103547334671,0.18596751987934113,-0.18137381970882416,0.404487669467926,0.23073303699493408,0.35981833934783936,0.18931032717227936,0.040336694568395615,0.34740832448005676,-0.12719900906085968,0.024751540273427963,0.10725514590740204,0.09110391139984131,0.22993044555187225,0.10396956652402878,-0.19927334785461426,-0.048715267330408096,0.1243487000465393,0.07134778797626495,-0.01518239825963974,0.04917421191930771,0.10783460736274719,-0.015957897529006004,-0.08100748062133789,-0.030216190963983536,-0.09197354316711426,-0.28380286693573,0.0041599092073738575,-0.1351875215768814,0.06729255616664886,-0.14315518736839294,-0.3660004734992981,-0.018880551680922508,-0.1327836662530899,0.14212757349014282,-0.1483948975801468,0.03961930423974991,-0.07017526775598526,0.06384336203336716,0.07162462174892426,-0.08530628681182861,0.005288573447614908,-0.026075538247823715,0.4128180742263794,0.06461919844150543,0.07547935843467712,0.4042776823043823,-0.3747161626815796,0.2789362967014313,0.18759889900684357,0.21463066339492798,0.11167454719543457,0.4452302157878876,0.003307316219434142,-0.11428841203451157,-0.20671997964382172,0.012995186261832714,-0.0930640920996666,0.13903844356536865,-0.1190105453133583,-0.009733958169817924,-0.19407927989959717,-0.4176101088523865,-0.33925923705101013,-0.16365933418273926,0.3140566051006317,0.014681663364171982,0.011222359724342823,0.0600963830947876,0.07314252853393555,-0.03671769052743912,-0.2788774371147156,-0.22774215042591095,0.0687011182308197,-0.0782649964094162,-0.21358782052993774,-0.16661547124385834,0.11357062309980392,-0.11645732820034027,-0.04959295317530632,-0.09260089695453644,0.20047947764396667,0.00041885816608555615,0.033216122537851334,0.13587746024131775,-0.13372954726219177,-0.14205262064933777,0.2494339495897293,-0.05273449048399925,-0.15691201388835907,-0.06552994251251221,-0.17261642217636108,-0.035043586045503616,0.04823799431324005,0.26131942868232727,-0.4077118933200836,0.014658194966614246,-0.13798893988132477,-0.14187170565128326,0.07413724809885025,-0.15108585357666016,0.17670105397701263,0.13660863041877747,-0.054812584072351456,0.028558669611811638,0.09715031832456589,0.1273326426744461,0.07705993950366974,0.19698892533779144,0.10498397052288055,0.15860790014266968,0.19417276978492737,0.17217101156711578,-0.14935849606990814,0.3372686505317688,0.056567396968603134,0.1466357707977295,-0.26143768429756165,0.2541278600692749,0.1034972071647644,0.014329020865261555,7.47538942960091e-05,0.201568603515625,0.1366548091173172,0.04820272698998451,0.04883817583322525,-0.2255735546350479,-0.05035671219229698,-0.16628827154636383,-0.04437381774187088,0.07854867726564407,-0.19566361606121063,-0.0762578547000885,-0.23497231304645538,-0.052351851016283035,0.22490118443965912,0.0422530472278595,-0.010871968232095242,0.49118027091026306,-0.10095621645450592,-0.13533172011375427,-0.08288117498159409,-0.11182865500450134,-0.10589979588985443,-0.004214878659695387,0.0384845957159996,0.13302917778491974,0.3014538586139679,-0.24586647748947144,0.07575032860040665,0.3296772837638855,0.17039401829242706,-0.02921522967517376,-0.0003509709786158055,0.07379955798387527,-0.001237476826645434,0.0005781243671663105,0.10872802883386612,0.237542062997818,-0.10700451582670212,0.005288573447614908,0.28024929761886597,0.16254015266895294,-0.260602742433548,0.17637482285499573,-0.07594780623912811,-0.19444003701210022,0.25263512134552,0.2867300808429718,0.2459266185760498,0.3524814546108246,-0.2740592956542969,-0.021415438503026962,-0.25319111347198486,0.0295790396630764,0.005288573447614908,0.23317326605319977,-0.020394356921315193,0.05093615502119064,0.10120593011379242,0.02869059145450592,0.2041330188512802,-0.05140107497572899,-0.045754313468933105,0.06742610782384872,-0.19474346935749054,-0.21836043894290924,0.21384450793266296,-0.12086138874292374,-0.050049275159835815,0.12675721943378448,-0.022554714232683182,0.14058397710323334,-0.07319130748510361,0.16932691633701324,0.11687695980072021,-0.042390722781419754,-0.08580714464187622,0.08887431770563126,-0.05461709946393967,-0.03159694746136665,-0.2835947573184967,-0.34256821870803833,0.007605297956615686,-0.016941169276833534,0.12747722864151,-0.017075886949896812,-0.0032566781155765057,-0.20247627794742584,0.18677811324596405,0.032025378197431564,0.0305793434381485,0.06738638132810593,-0.033746387809515,0.11361747980117798,-0.06158226355910301,0.012712872587144375,0.09152048081159592,0.2173786163330078,0.25394290685653687,0.19258901476860046,-0.08287770301103592,0.011724901385605335,0.05001717433333397,0.30003124475479126,-0.047977861016988754,0.3554352819919586,-0.2743280529975891,-0.17761290073394775,-0.17630597949028015,-0.10462861508131027,0.011696116998791695,0.2027311623096466,-0.1169627457857132,0.04891362413764,0.10027152299880981,-0.13181717693805695,0.47833287715911865,0.11870784312486649,0.005288573447614908,-0.05049993470311165,0.2764144241809845,-0.0283595509827137,-0.04410393908619881,0.30391499400138855,0.025506656616926193,-0.2893831431865692,0.2664475440979004,0.015295508317649364,0.08054278790950775,0.37753868103027344,0.2665373682975769,-0.00928791705518961,-0.02941373735666275,0.017241155728697777,-0.21092095971107483,-0.10267956554889679,0.056741997599601746,0.07189998775720596,-0.029914408922195435,0.021353650838136673,-0.21792231500148773,0.19945529103279114,0.053441546857357025,0.015962637960910797,0.012455252930521965,0.2087150365114212,-0.17896515130996704,-0.1869107186794281,-0.13369165360927582,0.1295659989118576,0.1165255606174469,-0.13420253992080688,-0.19777241349220276,0.004741710145026445,-0.21552878618240356,0.12502363324165344,-0.019147126004099846,0.024824080988764763,0.06893731653690338,0.034320369362831116,-0.1630409210920334,-0.050907377153635025,-0.013875972479581833,0.002645005937665701,0.061945751309394836,0.1299058049917221,-0.21523290872573853,-0.11256337910890579,-0.3089638650417328,-0.2299465388059616,-0.2571589946746826,-0.10385731607675552,-0.024677028879523277,-0.07388629764318466,0.16043907403945923,0.17183631658554077,-0.18951734900474548,-0.09667515754699707,-0.020307553932070732,0.3172823488712311,0.2717062532901764,-0.17321084439754486,-0.2482035756111145,-0.18318918347358704,0.005899587646126747,0.0456143282353878,0.10079976916313171,0.5152211785316467,0.09995893388986588,0.15186262130737305,0.05049661919474602,0.07397457957267761,0.05214778706431389,0.07606926560401917,0.08368076384067535,0.07827050238847733,0.10096786916255951,-0.035252366214990616,-0.15175488591194153,0.11774351447820663,-0.02448159083724022,0.16989001631736755,-0.08433626592159271,-0.1114765852689743,0.016162525862455368,-0.06954491138458252,-0.0454203337430954,-0.03988313674926758,0.10049804300069809,0.02589384652674198,-0.11908326297998428,-0.03120531514286995,0.012038479559123516,0.02937285788357258,-0.3550030589103699,-0.00624714745208621,-0.2067403346300125,-0.12292258441448212,-0.11748252809047699,0.012724148109555244,0.27239999175071716,0.005911191459745169,-0.13952989876270294,-0.20954251289367676,0.14244937896728516,-0.0654134601354599,0.2368234395980835,0.4630791246891022,-0.03225585073232651,-0.21007709205150604,0.3205246329307556,0.12117939442396164,-0.06524422019720078,-0.20255522429943085,0.024026840925216675,-0.12581390142440796,0.05319327861070633,0.012146303430199623,0.21062244474887848,0.09299777448177338,-0.13594205677509308,-0.15878859162330627,0.008657819591462612,-0.33938026428222656,-0.22799617052078247,-0.17998161911964417,0.002873311284929514,-0.253682941198349,-0.07737019658088684,0.06674350798130035,0.006506140343844891,-0.24095909297466278,-0.22238418459892273,0.08681418001651764,-0.10639922320842743,0.19536955654621124,0.22242915630340576,-0.0859610065817833,-0.2934238910675049,-0.11451809853315353,-0.1600140631198883,-0.1356538087129593,-0.3417847752571106,0.326560378074646,-0.1870184689760208,-0.2208758294582367,0.1799391806125641,0.03626338765025139,0.30197593569755554,-0.042555905878543854,-0.11733271926641464,-0.0603998526930809,0.048450738191604614,0.34615203738212585,0.42527270317077637,0.037495411932468414,-0.1415553241968155,-0.13271714746952057,0.3059360980987549,0.3425211012363434,0.3057880401611328,0.11912952363491058,0.058884769678115845,0.20260071754455566,0.2320997416973114,0.02750927023589611,-0.2676096558570862,-0.01894560270011425,-0.08872753381729126,0.17206048965454102,0.3365195095539093,-0.11569671332836151,0.09522740542888641,0.41526076197624207,0.11625052988529205,-0.09463369101285934,0.22114640474319458,-0.007302999030798674,0.19125652313232422,0.3021782338619232,-0.21865737438201904,-0.02062060497701168,0.1302274763584137,-0.04551005735993385,-0.2516631782054901,-0.03587893769145012,-0.19386924803256989,0.04211555793881416,-0.16275840997695923,-0.14507997035980225,-0.3582362234592438,-0.3348775804042816,0.012548491358757019,-0.13072581589221954,-0.14501884579658508,-0.13063882291316986,-0.08295462280511856,-0.22065967321395874,-0.049148041754961014,0.018354639410972595,0.012712918221950531,-0.0854344367980957,-0.09119820594787598,-0.2513265907764435,-0.07038705050945282,0.03915652260184288,-0.13526159524917603,0.028013654053211212,0.14555475115776062,-0.07419487833976746,0.11628653109073639,-0.3284488022327423,-0.32973048090934753,0.019944865256547928,-0.28099068999290466,-0.052803002297878265,-0.026235230267047882,0.23302488029003143,-0.20155735313892365,0.07437855750322342,-0.0934947207570076,-0.26230713725090027,0.052626341581344604,0.17892156541347504,-0.2904229760169983,0.3615241050720215,0.06189239025115967,-0.03644917905330658,-0.30349862575531006,-0.11046774685382843,0.0031980378553271294,-0.06041690334677696,-0.2576984763145447,0.005288573447614908,-0.1741223782300949,0.09953360259532928,-0.35457468032836914,0.2739753723144531,-0.031380295753479004,0.08252400159835815,0.29883942008018494,-0.00020166300237178802,-0.23746582865715027,-0.23155295848846436,0.08895997703075409,-0.16778452694416046,-0.1106298416852951,0.12785889208316803,0.08237060159444809,-0.10020820051431656,-0.19406922161579132,0.11750561743974686,0.43150877952575684,0.1468787044286728,0.3515757620334625,-0.13645203411579132,-0.07265404611825943,-0.05535796657204628,0.1560584455728531,0.18212425708770752,-0.015364808961749077,0.016698623076081276,0.06285199522972107,-0.19214856624603271,0.005288573447614908,0.005288573447614908,-0.1014270931482315,-0.16331256926059723,0.005288573447614908,-0.23057126998901367,-0.09162402153015137,-0.2782588005065918,-0.11443784087896347,0.030933449044823647,0.005288573447614908,0.050412703305482864,0.0032248084899038076,0.005288573447614908,-0.03866618871688843,0.2656271457672119,-0.2168179303407669,-0.2258298695087433,-0.1296931654214859,-0.10714047402143478,-0.08551714569330215,-0.09704891592264175,-0.11368236690759659,-0.07660714536905289,0.10120504349470139,-0.2349880337715149,0.0998668447136879,-0.26052412390708923,-0.23227429389953613,-0.26521724462509155,0.005288573447614908,0.005288573447614908,0.005288573447614908,-0.2738916277885437,0.037504591047763824,-0.12465029954910278,0.004020158667117357,-0.10316256433725357],\"yaxis\":\"y\",\"type\":\"scatter\"},{\"customdata\":[[\"An Empirical Study of Span Representations in Argumentation Structure Parsing\"]],\"hovertemplate\":\"lab_or_not=inuilab<br>x1=%{x}<br>x2=%{y}<br>hover_data_0=%{customdata[0]}<extra></extra>\",\"legendgroup\":\"inuilab\",\"marker\":{\"color\":\"#EF553B\",\"symbol\":\"circle\"},\"mode\":\"markers\",\"name\":\"inuilab\",\"orientation\":\"v\",\"showlegend\":true,\"x\":[0.06999340653419495],\"xaxis\":\"x\",\"y\":[0.010510322637856007],\"yaxis\":\"y\",\"type\":\"scatter\"}],                        {\"template\":{\"data\":{\"histogram2dcontour\":[{\"type\":\"histogram2dcontour\",\"colorbar\":{\"outlinewidth\":0,\"ticks\":\"\"},\"colorscale\":[[0.0,\"#0d0887\"],[0.1111111111111111,\"#46039f\"],[0.2222222222222222,\"#7201a8\"],[0.3333333333333333,\"#9c179e\"],[0.4444444444444444,\"#bd3786\"],[0.5555555555555556,\"#d8576b\"],[0.6666666666666666,\"#ed7953\"],[0.7777777777777778,\"#fb9f3a\"],[0.8888888888888888,\"#fdca26\"],[1.0,\"#f0f921\"]]}],\"choropleth\":[{\"type\":\"choropleth\",\"colorbar\":{\"outlinewidth\":0,\"ticks\":\"\"}}],\"histogram2d\":[{\"type\":\"histogram2d\",\"colorbar\":{\"outlinewidth\":0,\"ticks\":\"\"},\"colorscale\":[[0.0,\"#0d0887\"],[0.1111111111111111,\"#46039f\"],[0.2222222222222222,\"#7201a8\"],[0.3333333333333333,\"#9c179e\"],[0.4444444444444444,\"#bd3786\"],[0.5555555555555556,\"#d8576b\"],[0.6666666666666666,\"#ed7953\"],[0.7777777777777778,\"#fb9f3a\"],[0.8888888888888888,\"#fdca26\"],[1.0,\"#f0f921\"]]}],\"heatmap\":[{\"type\":\"heatmap\",\"colorbar\":{\"outlinewidth\":0,\"ticks\":\"\"},\"colorscale\":[[0.0,\"#0d0887\"],[0.1111111111111111,\"#46039f\"],[0.2222222222222222,\"#7201a8\"],[0.3333333333333333,\"#9c179e\"],[0.4444444444444444,\"#bd3786\"],[0.5555555555555556,\"#d8576b\"],[0.6666666666666666,\"#ed7953\"],[0.7777777777777778,\"#fb9f3a\"],[0.8888888888888888,\"#fdca26\"],[1.0,\"#f0f921\"]]}],\"heatmapgl\":[{\"type\":\"heatmapgl\",\"colorbar\":{\"outlinewidth\":0,\"ticks\":\"\"},\"colorscale\":[[0.0,\"#0d0887\"],[0.1111111111111111,\"#46039f\"],[0.2222222222222222,\"#7201a8\"],[0.3333333333333333,\"#9c179e\"],[0.4444444444444444,\"#bd3786\"],[0.5555555555555556,\"#d8576b\"],[0.6666666666666666,\"#ed7953\"],[0.7777777777777778,\"#fb9f3a\"],[0.8888888888888888,\"#fdca26\"],[1.0,\"#f0f921\"]]}],\"contourcarpet\":[{\"type\":\"contourcarpet\",\"colorbar\":{\"outlinewidth\":0,\"ticks\":\"\"}}],\"contour\":[{\"type\":\"contour\",\"colorbar\":{\"outlinewidth\":0,\"ticks\":\"\"},\"colorscale\":[[0.0,\"#0d0887\"],[0.1111111111111111,\"#46039f\"],[0.2222222222222222,\"#7201a8\"],[0.3333333333333333,\"#9c179e\"],[0.4444444444444444,\"#bd3786\"],[0.5555555555555556,\"#d8576b\"],[0.6666666666666666,\"#ed7953\"],[0.7777777777777778,\"#fb9f3a\"],[0.8888888888888888,\"#fdca26\"],[1.0,\"#f0f921\"]]}],\"surface\":[{\"type\":\"surface\",\"colorbar\":{\"outlinewidth\":0,\"ticks\":\"\"},\"colorscale\":[[0.0,\"#0d0887\"],[0.1111111111111111,\"#46039f\"],[0.2222222222222222,\"#7201a8\"],[0.3333333333333333,\"#9c179e\"],[0.4444444444444444,\"#bd3786\"],[0.5555555555555556,\"#d8576b\"],[0.6666666666666666,\"#ed7953\"],[0.7777777777777778,\"#fb9f3a\"],[0.8888888888888888,\"#fdca26\"],[1.0,\"#f0f921\"]]}],\"mesh3d\":[{\"type\":\"mesh3d\",\"colorbar\":{\"outlinewidth\":0,\"ticks\":\"\"}}],\"scatter\":[{\"fillpattern\":{\"fillmode\":\"overlay\",\"size\":10,\"solidity\":0.2},\"type\":\"scatter\"}],\"parcoords\":[{\"type\":\"parcoords\",\"line\":{\"colorbar\":{\"outlinewidth\":0,\"ticks\":\"\"}}}],\"scatterpolargl\":[{\"type\":\"scatterpolargl\",\"marker\":{\"colorbar\":{\"outlinewidth\":0,\"ticks\":\"\"}}}],\"bar\":[{\"error_x\":{\"color\":\"#2a3f5f\"},\"error_y\":{\"color\":\"#2a3f5f\"},\"marker\":{\"line\":{\"color\":\"#E5ECF6\",\"width\":0.5},\"pattern\":{\"fillmode\":\"overlay\",\"size\":10,\"solidity\":0.2}},\"type\":\"bar\"}],\"scattergeo\":[{\"type\":\"scattergeo\",\"marker\":{\"colorbar\":{\"outlinewidth\":0,\"ticks\":\"\"}}}],\"scatterpolar\":[{\"type\":\"scatterpolar\",\"marker\":{\"colorbar\":{\"outlinewidth\":0,\"ticks\":\"\"}}}],\"histogram\":[{\"marker\":{\"pattern\":{\"fillmode\":\"overlay\",\"size\":10,\"solidity\":0.2}},\"type\":\"histogram\"}],\"scattergl\":[{\"type\":\"scattergl\",\"marker\":{\"colorbar\":{\"outlinewidth\":0,\"ticks\":\"\"}}}],\"scatter3d\":[{\"type\":\"scatter3d\",\"line\":{\"colorbar\":{\"outlinewidth\":0,\"ticks\":\"\"}},\"marker\":{\"colorbar\":{\"outlinewidth\":0,\"ticks\":\"\"}}}],\"scattermapbox\":[{\"type\":\"scattermapbox\",\"marker\":{\"colorbar\":{\"outlinewidth\":0,\"ticks\":\"\"}}}],\"scatterternary\":[{\"type\":\"scatterternary\",\"marker\":{\"colorbar\":{\"outlinewidth\":0,\"ticks\":\"\"}}}],\"scattercarpet\":[{\"type\":\"scattercarpet\",\"marker\":{\"colorbar\":{\"outlinewidth\":0,\"ticks\":\"\"}}}],\"carpet\":[{\"aaxis\":{\"endlinecolor\":\"#2a3f5f\",\"gridcolor\":\"white\",\"linecolor\":\"white\",\"minorgridcolor\":\"white\",\"startlinecolor\":\"#2a3f5f\"},\"baxis\":{\"endlinecolor\":\"#2a3f5f\",\"gridcolor\":\"white\",\"linecolor\":\"white\",\"minorgridcolor\":\"white\",\"startlinecolor\":\"#2a3f5f\"},\"type\":\"carpet\"}],\"table\":[{\"cells\":{\"fill\":{\"color\":\"#EBF0F8\"},\"line\":{\"color\":\"white\"}},\"header\":{\"fill\":{\"color\":\"#C8D4E3\"},\"line\":{\"color\":\"white\"}},\"type\":\"table\"}],\"barpolar\":[{\"marker\":{\"line\":{\"color\":\"#E5ECF6\",\"width\":0.5},\"pattern\":{\"fillmode\":\"overlay\",\"size\":10,\"solidity\":0.2}},\"type\":\"barpolar\"}],\"pie\":[{\"automargin\":true,\"type\":\"pie\"}]},\"layout\":{\"autotypenumbers\":\"strict\",\"colorway\":[\"#636efa\",\"#EF553B\",\"#00cc96\",\"#ab63fa\",\"#FFA15A\",\"#19d3f3\",\"#FF6692\",\"#B6E880\",\"#FF97FF\",\"#FECB52\"],\"font\":{\"color\":\"#2a3f5f\"},\"hovermode\":\"closest\",\"hoverlabel\":{\"align\":\"left\"},\"paper_bgcolor\":\"white\",\"plot_bgcolor\":\"#E5ECF6\",\"polar\":{\"bgcolor\":\"#E5ECF6\",\"angularaxis\":{\"gridcolor\":\"white\",\"linecolor\":\"white\",\"ticks\":\"\"},\"radialaxis\":{\"gridcolor\":\"white\",\"linecolor\":\"white\",\"ticks\":\"\"}},\"ternary\":{\"bgcolor\":\"#E5ECF6\",\"aaxis\":{\"gridcolor\":\"white\",\"linecolor\":\"white\",\"ticks\":\"\"},\"baxis\":{\"gridcolor\":\"white\",\"linecolor\":\"white\",\"ticks\":\"\"},\"caxis\":{\"gridcolor\":\"white\",\"linecolor\":\"white\",\"ticks\":\"\"}},\"coloraxis\":{\"colorbar\":{\"outlinewidth\":0,\"ticks\":\"\"}},\"colorscale\":{\"sequential\":[[0.0,\"#0d0887\"],[0.1111111111111111,\"#46039f\"],[0.2222222222222222,\"#7201a8\"],[0.3333333333333333,\"#9c179e\"],[0.4444444444444444,\"#bd3786\"],[0.5555555555555556,\"#d8576b\"],[0.6666666666666666,\"#ed7953\"],[0.7777777777777778,\"#fb9f3a\"],[0.8888888888888888,\"#fdca26\"],[1.0,\"#f0f921\"]],\"sequentialminus\":[[0.0,\"#0d0887\"],[0.1111111111111111,\"#46039f\"],[0.2222222222222222,\"#7201a8\"],[0.3333333333333333,\"#9c179e\"],[0.4444444444444444,\"#bd3786\"],[0.5555555555555556,\"#d8576b\"],[0.6666666666666666,\"#ed7953\"],[0.7777777777777778,\"#fb9f3a\"],[0.8888888888888888,\"#fdca26\"],[1.0,\"#f0f921\"]],\"diverging\":[[0,\"#8e0152\"],[0.1,\"#c51b7d\"],[0.2,\"#de77ae\"],[0.3,\"#f1b6da\"],[0.4,\"#fde0ef\"],[0.5,\"#f7f7f7\"],[0.6,\"#e6f5d0\"],[0.7,\"#b8e186\"],[0.8,\"#7fbc41\"],[0.9,\"#4d9221\"],[1,\"#276419\"]]},\"xaxis\":{\"gridcolor\":\"white\",\"linecolor\":\"white\",\"ticks\":\"\",\"title\":{\"standoff\":15},\"zerolinecolor\":\"white\",\"automargin\":true,\"zerolinewidth\":2},\"yaxis\":{\"gridcolor\":\"white\",\"linecolor\":\"white\",\"ticks\":\"\",\"title\":{\"standoff\":15},\"zerolinecolor\":\"white\",\"automargin\":true,\"zerolinewidth\":2},\"scene\":{\"xaxis\":{\"backgroundcolor\":\"#E5ECF6\",\"gridcolor\":\"white\",\"linecolor\":\"white\",\"showbackground\":true,\"ticks\":\"\",\"zerolinecolor\":\"white\",\"gridwidth\":2},\"yaxis\":{\"backgroundcolor\":\"#E5ECF6\",\"gridcolor\":\"white\",\"linecolor\":\"white\",\"showbackground\":true,\"ticks\":\"\",\"zerolinecolor\":\"white\",\"gridwidth\":2},\"zaxis\":{\"backgroundcolor\":\"#E5ECF6\",\"gridcolor\":\"white\",\"linecolor\":\"white\",\"showbackground\":true,\"ticks\":\"\",\"zerolinecolor\":\"white\",\"gridwidth\":2}},\"shapedefaults\":{\"line\":{\"color\":\"#2a3f5f\"}},\"annotationdefaults\":{\"arrowcolor\":\"#2a3f5f\",\"arrowhead\":0,\"arrowwidth\":1},\"geo\":{\"bgcolor\":\"white\",\"landcolor\":\"#E5ECF6\",\"subunitcolor\":\"white\",\"showland\":true,\"showlakes\":true,\"lakecolor\":\"white\"},\"title\":{\"x\":0.05},\"mapbox\":{\"style\":\"light\"}}},\"xaxis\":{\"anchor\":\"y\",\"domain\":[0.0,1.0],\"title\":{\"text\":\"x1\"}},\"yaxis\":{\"anchor\":\"x\",\"domain\":[0.0,1.0],\"title\":{\"text\":\"x2\"}},\"legend\":{\"title\":{\"text\":\"lab_or_not\"},\"tracegroupgap\":0},\"margin\":{\"t\":60}},                        {\"responsive\": true}                    ).then(function(){\n",
       "                            \n",
       "var gd = document.getElementById('e99c88ce-0631-48c8-8984-cb7e2bd85c8b');\n",
       "var x = new MutationObserver(function (mutations, observer) {{\n",
       "        var display = window.getComputedStyle(gd).display;\n",
       "        if (!display || display === 'none') {{\n",
       "            console.log([gd, 'removed!']);\n",
       "            Plotly.purge(gd);\n",
       "            observer.disconnect();\n",
       "        }}\n",
       "}});\n",
       "\n",
       "// Listen for the removal of the full notebook cells\n",
       "var notebookContainer = gd.closest('#notebook-container');\n",
       "if (notebookContainer) {{\n",
       "    x.observe(notebookContainer, {childList: true});\n",
       "}}\n",
       "\n",
       "// Listen for the clearing of the current output cell\n",
       "var outputEl = gd.closest('.output');\n",
       "if (outputEl) {{\n",
       "    x.observe(outputEl, {childList: true});\n",
       "}}\n",
       "\n",
       "                        })                };                });            </script>        </div>"
      ]
     },
     "metadata": {},
     "output_type": "display_data"
    }
   ],
   "source": [
    "import plotly.express as px\n",
    "fig = px.scatter(pcx_2019, x=\"x1\", y=\"x2\", color=\"lab_or_not\", hover_data=[pcx_2019['title'].values])\n",
    "fig.show()\n",
    "fig.update_layout(title=f\"LabPaper(2019)\")\n",
    "fig.write_html(f\"LabPaper(2019).html\")"
   ]
  },
  {
   "cell_type": "code",
   "execution_count": null,
   "metadata": {},
   "outputs": [],
   "source": []
  }
 ],
 "metadata": {
  "kernelspec": {
   "display_name": "Python 3.9.12 ('InuiLab')",
   "language": "python",
   "name": "python3"
  },
  "language_info": {
   "codemirror_mode": {
    "name": "ipython",
    "version": 3
   },
   "file_extension": ".py",
   "mimetype": "text/x-python",
   "name": "python",
   "nbconvert_exporter": "python",
   "pygments_lexer": "ipython3",
   "version": "3.9.12"
  },
  "orig_nbformat": 4,
  "vscode": {
   "interpreter": {
    "hash": "4bc6fcdb7abebb2d364ad2a72e66d335c728f2a747a1086957e97ff77566f28c"
   }
  }
 },
 "nbformat": 4,
 "nbformat_minor": 2
}
