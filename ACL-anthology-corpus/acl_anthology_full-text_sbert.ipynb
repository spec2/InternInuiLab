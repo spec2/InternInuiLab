{
 "cells": [
  {
   "cell_type": "markdown",
   "metadata": {},
   "source": [
    "# Libraries"
   ]
  },
  {
   "cell_type": "code",
   "execution_count": 95,
   "metadata": {},
   "outputs": [
    {
     "name": "stderr",
     "output_type": "stream",
     "text": [
      "[nltk_data] Downloading package punkt to /home/a2211506/nltk_data...\n",
      "[nltk_data]   Package punkt is already up-to-date!\n"
     ]
    }
   ],
   "source": [
    "import pandas as pd\n",
    "import numpy as np\n",
    "from gensim.test.utils import common_texts\n",
    "from gensim.models.doc2vec import Doc2Vec, TaggedDocument\n",
    "import nltk\n",
    "nltk.download('punkt')\n",
    "from sklearn.decomposition import PCA\n",
    "import matplotlib.pyplot as plt\n",
    "import pickle\n",
    "from sklearn.manifold import TSNE\n",
    "import mplcursors\n",
    "%matplotlib widget\n",
    "from sentence_transformers import SentenceTransformer\n",
    "import plotly.graph_objects as go\n",
    "import plotly.express as px\n",
    "from sklearn.preprocessing import StandardScaler"
   ]
  },
  {
   "cell_type": "markdown",
   "metadata": {},
   "source": [
    "# Load the dataset"
   ]
  },
  {
   "cell_type": "markdown",
   "metadata": {},
   "source": [
    "If you don't have a dataset, please run following commands.\n",
    "- `pip install gdown`\n",
    "- `gdown https://drive.google.com/uc?id=19rEco5OT4Um-0DNzna27UfZ1wjSG5oKC`  \n",
    "(`wget` and `curl` does not correspond to `Google Drive`. You can get another format of datasets in [ACL Anthology Corpus - Full Text](https://github.com/shauryr/ACL-anthology-corpus).)"
   ]
  },
  {
   "cell_type": "code",
   "execution_count": 96,
   "metadata": {},
   "outputs": [],
   "source": [
    "acl_full_text = pd.read_parquet('acl_corpus_full-text.parquet')"
   ]
  },
  {
   "cell_type": "code",
   "execution_count": 97,
   "metadata": {},
   "outputs": [
    {
     "data": {
      "text/html": [
       "<div>\n",
       "<style scoped>\n",
       "    .dataframe tbody tr th:only-of-type {\n",
       "        vertical-align: middle;\n",
       "    }\n",
       "\n",
       "    .dataframe tbody tr th {\n",
       "        vertical-align: top;\n",
       "    }\n",
       "\n",
       "    .dataframe thead th {\n",
       "        text-align: right;\n",
       "    }\n",
       "</style>\n",
       "<table border=\"1\" class=\"dataframe\">\n",
       "  <thead>\n",
       "    <tr style=\"text-align: right;\">\n",
       "      <th></th>\n",
       "      <th>acl_id</th>\n",
       "      <th>title</th>\n",
       "      <th>abstract</th>\n",
       "      <th>full_text</th>\n",
       "    </tr>\n",
       "  </thead>\n",
       "  <tbody>\n",
       "    <tr>\n",
       "      <th>0</th>\n",
       "      <td>O02-2002</td>\n",
       "      <td>A Study on Word Similarity using Context Vecto...</td>\n",
       "      <td>There is a need to measure word similarity whe...</td>\n",
       "      <td>There is a need to measure word similarity whe...</td>\n",
       "    </tr>\n",
       "    <tr>\n",
       "      <th>1</th>\n",
       "      <td>L02-1310</td>\n",
       "      <td></td>\n",
       "      <td></td>\n",
       "      <td></td>\n",
       "    </tr>\n",
       "    <tr>\n",
       "      <th>2</th>\n",
       "      <td>R13-1042</td>\n",
       "      <td>Headerless, Quoteless, but not Hopeless? Using...</td>\n",
       "      <td>Thread disentanglement is the task of separati...</td>\n",
       "      <td>Thread disentanglement is the task of separati...</td>\n",
       "    </tr>\n",
       "    <tr>\n",
       "      <th>3</th>\n",
       "      <td>W05-0819</td>\n",
       "      <td>Aligning words in English-Hindi parallel corpora</td>\n",
       "      <td>In this paper, we describe a word alignment al...</td>\n",
       "      <td>In this paper, we describe a word alignment al...</td>\n",
       "    </tr>\n",
       "    <tr>\n",
       "      <th>4</th>\n",
       "      <td>L02-1309</td>\n",
       "      <td></td>\n",
       "      <td></td>\n",
       "      <td></td>\n",
       "    </tr>\n",
       "    <tr>\n",
       "      <th>...</th>\n",
       "      <td>...</td>\n",
       "      <td>...</td>\n",
       "      <td>...</td>\n",
       "      <td>...</td>\n",
       "    </tr>\n",
       "    <tr>\n",
       "      <th>80008</th>\n",
       "      <td>P99-1056</td>\n",
       "      <td>The grapho-phonological system of written Fren...</td>\n",
       "      <td>The processes through which readers evoke ment...</td>\n",
       "      <td>The processes through which readers evoke ment...</td>\n",
       "    </tr>\n",
       "    <tr>\n",
       "      <th>80009</th>\n",
       "      <td>P99-1051</td>\n",
       "      <td>Acquiring Lexical Generalizations from Corpora...</td>\n",
       "      <td>This paper examines the extent to which verb d...</td>\n",
       "      <td>This paper examines the extent to which verb d...</td>\n",
       "    </tr>\n",
       "    <tr>\n",
       "      <th>80010</th>\n",
       "      <td>P99-1000</td>\n",
       "      <td>Using Aggregation for Selecting Content when G...</td>\n",
       "      <td>As co-chairs, we had two particular objectives...</td>\n",
       "      <td>As co-chairs, we had two particular objectives...</td>\n",
       "    </tr>\n",
       "    <tr>\n",
       "      <th>80011</th>\n",
       "      <td>P99-1</td>\n",
       "      <td></td>\n",
       "      <td></td>\n",
       "      <td></td>\n",
       "    </tr>\n",
       "    <tr>\n",
       "      <th>80012</th>\n",
       "      <td>P00-1013</td>\n",
       "      <td>Spoken Dialogue Management Using Probabilistic...</td>\n",
       "      <td>Spoken dialogue managers have benefited from u...</td>\n",
       "      <td>Spoken dialogue managers have benefited from u...</td>\n",
       "    </tr>\n",
       "  </tbody>\n",
       "</table>\n",
       "<p>80013 rows × 4 columns</p>\n",
       "</div>"
      ],
      "text/plain": [
       "         acl_id                                              title  \\\n",
       "0      O02-2002  A Study on Word Similarity using Context Vecto...   \n",
       "1      L02-1310                                                      \n",
       "2      R13-1042  Headerless, Quoteless, but not Hopeless? Using...   \n",
       "3      W05-0819   Aligning words in English-Hindi parallel corpora   \n",
       "4      L02-1309                                                      \n",
       "...         ...                                                ...   \n",
       "80008  P99-1056  The grapho-phonological system of written Fren...   \n",
       "80009  P99-1051  Acquiring Lexical Generalizations from Corpora...   \n",
       "80010  P99-1000  Using Aggregation for Selecting Content when G...   \n",
       "80011     P99-1                                                      \n",
       "80012  P00-1013  Spoken Dialogue Management Using Probabilistic...   \n",
       "\n",
       "                                                abstract  \\\n",
       "0      There is a need to measure word similarity whe...   \n",
       "1                                                          \n",
       "2      Thread disentanglement is the task of separati...   \n",
       "3      In this paper, we describe a word alignment al...   \n",
       "4                                                          \n",
       "...                                                  ...   \n",
       "80008  The processes through which readers evoke ment...   \n",
       "80009  This paper examines the extent to which verb d...   \n",
       "80010  As co-chairs, we had two particular objectives...   \n",
       "80011                                                      \n",
       "80012  Spoken dialogue managers have benefited from u...   \n",
       "\n",
       "                                               full_text  \n",
       "0      There is a need to measure word similarity whe...  \n",
       "1                                                         \n",
       "2      Thread disentanglement is the task of separati...  \n",
       "3      In this paper, we describe a word alignment al...  \n",
       "4                                                         \n",
       "...                                                  ...  \n",
       "80008  The processes through which readers evoke ment...  \n",
       "80009  This paper examines the extent to which verb d...  \n",
       "80010  As co-chairs, we had two particular objectives...  \n",
       "80011                                                     \n",
       "80012  Spoken dialogue managers have benefited from u...  \n",
       "\n",
       "[80013 rows x 4 columns]"
      ]
     },
     "execution_count": 97,
     "metadata": {},
     "output_type": "execute_result"
    }
   ],
   "source": [
    "acl_full_text"
   ]
  },
  {
   "cell_type": "code",
   "execution_count": 98,
   "metadata": {},
   "outputs": [
    {
     "data": {
      "text/html": [
       "<div>\n",
       "<style scoped>\n",
       "    .dataframe tbody tr th:only-of-type {\n",
       "        vertical-align: middle;\n",
       "    }\n",
       "\n",
       "    .dataframe tbody tr th {\n",
       "        vertical-align: top;\n",
       "    }\n",
       "\n",
       "    .dataframe thead th {\n",
       "        text-align: right;\n",
       "    }\n",
       "</style>\n",
       "<table border=\"1\" class=\"dataframe\">\n",
       "  <thead>\n",
       "    <tr style=\"text-align: right;\">\n",
       "      <th></th>\n",
       "      <th>acl_id</th>\n",
       "      <th>title</th>\n",
       "      <th>abstract</th>\n",
       "      <th>full_text</th>\n",
       "    </tr>\n",
       "  </thead>\n",
       "  <tbody>\n",
       "    <tr>\n",
       "      <th>0</th>\n",
       "      <td>O02-2002</td>\n",
       "      <td>A Study on Word Similarity using Context Vecto...</td>\n",
       "      <td>There is a need to measure word similarity whe...</td>\n",
       "      <td>There is a need to measure word similarity whe...</td>\n",
       "    </tr>\n",
       "    <tr>\n",
       "      <th>1</th>\n",
       "      <td>L02-1310</td>\n",
       "      <td></td>\n",
       "      <td></td>\n",
       "      <td></td>\n",
       "    </tr>\n",
       "    <tr>\n",
       "      <th>2</th>\n",
       "      <td>R13-1042</td>\n",
       "      <td>Headerless, Quoteless, but not Hopeless? Using...</td>\n",
       "      <td>Thread disentanglement is the task of separati...</td>\n",
       "      <td>Thread disentanglement is the task of separati...</td>\n",
       "    </tr>\n",
       "    <tr>\n",
       "      <th>3</th>\n",
       "      <td>W05-0819</td>\n",
       "      <td>Aligning words in English-Hindi parallel corpora</td>\n",
       "      <td>In this paper, we describe a word alignment al...</td>\n",
       "      <td>In this paper, we describe a word alignment al...</td>\n",
       "    </tr>\n",
       "    <tr>\n",
       "      <th>4</th>\n",
       "      <td>L02-1309</td>\n",
       "      <td></td>\n",
       "      <td></td>\n",
       "      <td></td>\n",
       "    </tr>\n",
       "    <tr>\n",
       "      <th>...</th>\n",
       "      <td>...</td>\n",
       "      <td>...</td>\n",
       "      <td>...</td>\n",
       "      <td>...</td>\n",
       "    </tr>\n",
       "    <tr>\n",
       "      <th>80008</th>\n",
       "      <td>P99-1056</td>\n",
       "      <td>The grapho-phonological system of written Fren...</td>\n",
       "      <td>The processes through which readers evoke ment...</td>\n",
       "      <td>The processes through which readers evoke ment...</td>\n",
       "    </tr>\n",
       "    <tr>\n",
       "      <th>80009</th>\n",
       "      <td>P99-1051</td>\n",
       "      <td>Acquiring Lexical Generalizations from Corpora...</td>\n",
       "      <td>This paper examines the extent to which verb d...</td>\n",
       "      <td>This paper examines the extent to which verb d...</td>\n",
       "    </tr>\n",
       "    <tr>\n",
       "      <th>80010</th>\n",
       "      <td>P99-1000</td>\n",
       "      <td>Using Aggregation for Selecting Content when G...</td>\n",
       "      <td>As co-chairs, we had two particular objectives...</td>\n",
       "      <td>As co-chairs, we had two particular objectives...</td>\n",
       "    </tr>\n",
       "    <tr>\n",
       "      <th>80011</th>\n",
       "      <td>P99-1</td>\n",
       "      <td></td>\n",
       "      <td></td>\n",
       "      <td></td>\n",
       "    </tr>\n",
       "    <tr>\n",
       "      <th>80012</th>\n",
       "      <td>P00-1013</td>\n",
       "      <td>Spoken Dialogue Management Using Probabilistic...</td>\n",
       "      <td>Spoken dialogue managers have benefited from u...</td>\n",
       "      <td>Spoken dialogue managers have benefited from u...</td>\n",
       "    </tr>\n",
       "  </tbody>\n",
       "</table>\n",
       "<p>80013 rows × 4 columns</p>\n",
       "</div>"
      ],
      "text/plain": [
       "         acl_id                                              title  \\\n",
       "0      O02-2002  A Study on Word Similarity using Context Vecto...   \n",
       "1      L02-1310                                                      \n",
       "2      R13-1042  Headerless, Quoteless, but not Hopeless? Using...   \n",
       "3      W05-0819   Aligning words in English-Hindi parallel corpora   \n",
       "4      L02-1309                                                      \n",
       "...         ...                                                ...   \n",
       "80008  P99-1056  The grapho-phonological system of written Fren...   \n",
       "80009  P99-1051  Acquiring Lexical Generalizations from Corpora...   \n",
       "80010  P99-1000  Using Aggregation for Selecting Content when G...   \n",
       "80011     P99-1                                                      \n",
       "80012  P00-1013  Spoken Dialogue Management Using Probabilistic...   \n",
       "\n",
       "                                                abstract  \\\n",
       "0      There is a need to measure word similarity whe...   \n",
       "1                                                          \n",
       "2      Thread disentanglement is the task of separati...   \n",
       "3      In this paper, we describe a word alignment al...   \n",
       "4                                                          \n",
       "...                                                  ...   \n",
       "80008  The processes through which readers evoke ment...   \n",
       "80009  This paper examines the extent to which verb d...   \n",
       "80010  As co-chairs, we had two particular objectives...   \n",
       "80011                                                      \n",
       "80012  Spoken dialogue managers have benefited from u...   \n",
       "\n",
       "                                               full_text  \n",
       "0      There is a need to measure word similarity whe...  \n",
       "1                                                         \n",
       "2      Thread disentanglement is the task of separati...  \n",
       "3      In this paper, we describe a word alignment al...  \n",
       "4                                                         \n",
       "...                                                  ...  \n",
       "80008  The processes through which readers evoke ment...  \n",
       "80009  This paper examines the extent to which verb d...  \n",
       "80010  As co-chairs, we had two particular objectives...  \n",
       "80011                                                     \n",
       "80012  Spoken dialogue managers have benefited from u...  \n",
       "\n",
       "[80013 rows x 4 columns]"
      ]
     },
     "execution_count": 98,
     "metadata": {},
     "output_type": "execute_result"
    }
   ],
   "source": [
    "acl_full_text"
   ]
  },
  {
   "cell_type": "markdown",
   "metadata": {},
   "source": [
    "# Comparison between 19's to 20's"
   ]
  },
  {
   "cell_type": "code",
   "execution_count": 99,
   "metadata": {},
   "outputs": [],
   "source": [
    "acl_full_text\n",
    "acl_full_text.insert(1, 'year', 0)\n",
    "acl_full_text.insert(2, 'era_id', 0)"
   ]
  },
  {
   "cell_type": "code",
   "execution_count": 100,
   "metadata": {},
   "outputs": [],
   "source": [
    "for index, row in acl_full_text.iterrows():\n",
    "    if(int(row[0][1]) == 0 or int(row[0][1]) == 1 or int(row[0][1]) == 2):\n",
    "        year = int(f'20{row[0][1:3]}')\n",
    "        era_id = 20\n",
    "    else:\n",
    "        year = int(f'19{row[0][1:3]}')\n",
    "        era_id = 19\n",
    "    acl_full_text.iat[index, 1] = year\n",
    "    acl_full_text.iat[index, 2] = era_id"
   ]
  },
  {
   "cell_type": "code",
   "execution_count": 101,
   "metadata": {},
   "outputs": [
    {
     "data": {
      "text/html": [
       "<div>\n",
       "<style scoped>\n",
       "    .dataframe tbody tr th:only-of-type {\n",
       "        vertical-align: middle;\n",
       "    }\n",
       "\n",
       "    .dataframe tbody tr th {\n",
       "        vertical-align: top;\n",
       "    }\n",
       "\n",
       "    .dataframe thead th {\n",
       "        text-align: right;\n",
       "    }\n",
       "</style>\n",
       "<table border=\"1\" class=\"dataframe\">\n",
       "  <thead>\n",
       "    <tr style=\"text-align: right;\">\n",
       "      <th></th>\n",
       "      <th>acl_id</th>\n",
       "      <th>year</th>\n",
       "      <th>era_id</th>\n",
       "      <th>title</th>\n",
       "      <th>abstract</th>\n",
       "      <th>full_text</th>\n",
       "    </tr>\n",
       "  </thead>\n",
       "  <tbody>\n",
       "    <tr>\n",
       "      <th>55</th>\n",
       "      <td>P07-1084</td>\n",
       "      <td>2007</td>\n",
       "      <td>20</td>\n",
       "      <td>Bilingual Terminology Mining -Using Brain, not...</td>\n",
       "      <td>Current research in text mining favours the qu...</td>\n",
       "      <td>Current research in text mining favours the qu...</td>\n",
       "    </tr>\n",
       "    <tr>\n",
       "      <th>75</th>\n",
       "      <td>P12-3005</td>\n",
       "      <td>2012</td>\n",
       "      <td>20</td>\n",
       "      <td>langid.py: An Off-the-shelf Language Identific...</td>\n",
       "      <td>We present langid.py, an off-the-shelf languag...</td>\n",
       "      <td>We present langid.py, an off-the-shelf languag...</td>\n",
       "    </tr>\n",
       "    <tr>\n",
       "      <th>76</th>\n",
       "      <td>P12-3016</td>\n",
       "      <td>2012</td>\n",
       "      <td>20</td>\n",
       "      <td>ACCURAT Toolkit for Multi-Level Alignment and ...</td>\n",
       "      <td>The lack of parallel corpora and linguistic re...</td>\n",
       "      <td>The lack of parallel corpora and linguistic re...</td>\n",
       "    </tr>\n",
       "    <tr>\n",
       "      <th>78</th>\n",
       "      <td>P13-1068</td>\n",
       "      <td>2013</td>\n",
       "      <td>20</td>\n",
       "      <td>Large tagset labeling using Feed Forward Neura...</td>\n",
       "      <td>Standard methods for part-of-speech tagging su...</td>\n",
       "      <td>Standard methods for part-of-speech tagging su...</td>\n",
       "    </tr>\n",
       "    <tr>\n",
       "      <th>80</th>\n",
       "      <td>P19-1161</td>\n",
       "      <td>2019</td>\n",
       "      <td>20</td>\n",
       "      <td>Counterfactual Data Augmentation for Mitigatin...</td>\n",
       "      <td>Gender stereotypes are manifest in most of the...</td>\n",
       "      <td>Gender stereotypes are manifest in most of the...</td>\n",
       "    </tr>\n",
       "    <tr>\n",
       "      <th>...</th>\n",
       "      <td>...</td>\n",
       "      <td>...</td>\n",
       "      <td>...</td>\n",
       "      <td>...</td>\n",
       "      <td>...</td>\n",
       "      <td>...</td>\n",
       "    </tr>\n",
       "    <tr>\n",
       "      <th>80008</th>\n",
       "      <td>P99-1056</td>\n",
       "      <td>1999</td>\n",
       "      <td>19</td>\n",
       "      <td>The grapho-phonological system of written Fren...</td>\n",
       "      <td>The processes through which readers evoke ment...</td>\n",
       "      <td>The processes through which readers evoke ment...</td>\n",
       "    </tr>\n",
       "    <tr>\n",
       "      <th>80009</th>\n",
       "      <td>P99-1051</td>\n",
       "      <td>1999</td>\n",
       "      <td>19</td>\n",
       "      <td>Acquiring Lexical Generalizations from Corpora...</td>\n",
       "      <td>This paper examines the extent to which verb d...</td>\n",
       "      <td>This paper examines the extent to which verb d...</td>\n",
       "    </tr>\n",
       "    <tr>\n",
       "      <th>80010</th>\n",
       "      <td>P99-1000</td>\n",
       "      <td>1999</td>\n",
       "      <td>19</td>\n",
       "      <td>Using Aggregation for Selecting Content when G...</td>\n",
       "      <td>As co-chairs, we had two particular objectives...</td>\n",
       "      <td>As co-chairs, we had two particular objectives...</td>\n",
       "    </tr>\n",
       "    <tr>\n",
       "      <th>80011</th>\n",
       "      <td>P99-1</td>\n",
       "      <td>1999</td>\n",
       "      <td>19</td>\n",
       "      <td></td>\n",
       "      <td></td>\n",
       "      <td></td>\n",
       "    </tr>\n",
       "    <tr>\n",
       "      <th>80012</th>\n",
       "      <td>P00-1013</td>\n",
       "      <td>2000</td>\n",
       "      <td>20</td>\n",
       "      <td>Spoken Dialogue Management Using Probabilistic...</td>\n",
       "      <td>Spoken dialogue managers have benefited from u...</td>\n",
       "      <td>Spoken dialogue managers have benefited from u...</td>\n",
       "    </tr>\n",
       "  </tbody>\n",
       "</table>\n",
       "<p>6848 rows × 6 columns</p>\n",
       "</div>"
      ],
      "text/plain": [
       "         acl_id  year  era_id  \\\n",
       "55     P07-1084  2007      20   \n",
       "75     P12-3005  2012      20   \n",
       "76     P12-3016  2012      20   \n",
       "78     P13-1068  2013      20   \n",
       "80     P19-1161  2019      20   \n",
       "...         ...   ...     ...   \n",
       "80008  P99-1056  1999      19   \n",
       "80009  P99-1051  1999      19   \n",
       "80010  P99-1000  1999      19   \n",
       "80011     P99-1  1999      19   \n",
       "80012  P00-1013  2000      20   \n",
       "\n",
       "                                                   title  \\\n",
       "55     Bilingual Terminology Mining -Using Brain, not...   \n",
       "75     langid.py: An Off-the-shelf Language Identific...   \n",
       "76     ACCURAT Toolkit for Multi-Level Alignment and ...   \n",
       "78     Large tagset labeling using Feed Forward Neura...   \n",
       "80     Counterfactual Data Augmentation for Mitigatin...   \n",
       "...                                                  ...   \n",
       "80008  The grapho-phonological system of written Fren...   \n",
       "80009  Acquiring Lexical Generalizations from Corpora...   \n",
       "80010  Using Aggregation for Selecting Content when G...   \n",
       "80011                                                      \n",
       "80012  Spoken Dialogue Management Using Probabilistic...   \n",
       "\n",
       "                                                abstract  \\\n",
       "55     Current research in text mining favours the qu...   \n",
       "75     We present langid.py, an off-the-shelf languag...   \n",
       "76     The lack of parallel corpora and linguistic re...   \n",
       "78     Standard methods for part-of-speech tagging su...   \n",
       "80     Gender stereotypes are manifest in most of the...   \n",
       "...                                                  ...   \n",
       "80008  The processes through which readers evoke ment...   \n",
       "80009  This paper examines the extent to which verb d...   \n",
       "80010  As co-chairs, we had two particular objectives...   \n",
       "80011                                                      \n",
       "80012  Spoken dialogue managers have benefited from u...   \n",
       "\n",
       "                                               full_text  \n",
       "55     Current research in text mining favours the qu...  \n",
       "75     We present langid.py, an off-the-shelf languag...  \n",
       "76     The lack of parallel corpora and linguistic re...  \n",
       "78     Standard methods for part-of-speech tagging su...  \n",
       "80     Gender stereotypes are manifest in most of the...  \n",
       "...                                                  ...  \n",
       "80008  The processes through which readers evoke ment...  \n",
       "80009  This paper examines the extent to which verb d...  \n",
       "80010  As co-chairs, we had two particular objectives...  \n",
       "80011                                                     \n",
       "80012  Spoken dialogue managers have benefited from u...  \n",
       "\n",
       "[6848 rows x 6 columns]"
      ]
     },
     "execution_count": 101,
     "metadata": {},
     "output_type": "execute_result"
    }
   ],
   "source": [
    "origin_data = acl_full_text[acl_full_text['acl_id'].str.startswith('P')] # Extract ACL papers\n",
    "origin_data"
   ]
  },
  {
   "cell_type": "code",
   "execution_count": 102,
   "metadata": {},
   "outputs": [],
   "source": [
    "docs = origin_data.iloc[:][\"abstract\"]"
   ]
  },
  {
   "cell_type": "code",
   "execution_count": 103,
   "metadata": {},
   "outputs": [],
   "source": [
    "model = SentenceTransformer('all-MiniLM-L6-v2') \n",
    "sentences = list(docs)\n",
    "#Sentences are encoded by calling model.encode()\n",
    "embeddings = model.encode(sentences)"
   ]
  },
  {
   "cell_type": "code",
   "execution_count": 104,
   "metadata": {},
   "outputs": [
    {
     "data": {
      "text/html": [
       "<div>\n",
       "<style scoped>\n",
       "    .dataframe tbody tr th:only-of-type {\n",
       "        vertical-align: middle;\n",
       "    }\n",
       "\n",
       "    .dataframe tbody tr th {\n",
       "        vertical-align: top;\n",
       "    }\n",
       "\n",
       "    .dataframe thead th {\n",
       "        text-align: right;\n",
       "    }\n",
       "</style>\n",
       "<table border=\"1\" class=\"dataframe\">\n",
       "  <thead>\n",
       "    <tr style=\"text-align: right;\">\n",
       "      <th></th>\n",
       "      <th>type</th>\n",
       "      <th>year</th>\n",
       "      <th>title</th>\n",
       "      <th>era_id</th>\n",
       "      <th>x_0</th>\n",
       "      <th>x_1</th>\n",
       "      <th>x_2</th>\n",
       "      <th>x_3</th>\n",
       "      <th>x_4</th>\n",
       "      <th>x_5</th>\n",
       "      <th>...</th>\n",
       "      <th>x_374</th>\n",
       "      <th>x_375</th>\n",
       "      <th>x_376</th>\n",
       "      <th>x_377</th>\n",
       "      <th>x_378</th>\n",
       "      <th>x_379</th>\n",
       "      <th>x_380</th>\n",
       "      <th>x_381</th>\n",
       "      <th>x_382</th>\n",
       "      <th>x_383</th>\n",
       "    </tr>\n",
       "  </thead>\n",
       "  <tbody>\n",
       "    <tr>\n",
       "      <th>0</th>\n",
       "      <td>0</td>\n",
       "      <td>2007</td>\n",
       "      <td>Bilingual Terminology Mining -Using Brain, not...</td>\n",
       "      <td>20</td>\n",
       "      <td>0.018361</td>\n",
       "      <td>-0.069289</td>\n",
       "      <td>-0.045787</td>\n",
       "      <td>-0.043936</td>\n",
       "      <td>-0.018778</td>\n",
       "      <td>-0.021305</td>\n",
       "      <td>...</td>\n",
       "      <td>0.034927</td>\n",
       "      <td>0.087479</td>\n",
       "      <td>0.006538</td>\n",
       "      <td>0.018238</td>\n",
       "      <td>0.010428</td>\n",
       "      <td>0.004054</td>\n",
       "      <td>0.034271</td>\n",
       "      <td>0.006479</td>\n",
       "      <td>0.102239</td>\n",
       "      <td>-0.011539</td>\n",
       "    </tr>\n",
       "    <tr>\n",
       "      <th>1</th>\n",
       "      <td>1</td>\n",
       "      <td>2012</td>\n",
       "      <td>langid.py: An Off-the-shelf Language Identific...</td>\n",
       "      <td>20</td>\n",
       "      <td>-0.105661</td>\n",
       "      <td>-0.071641</td>\n",
       "      <td>0.016773</td>\n",
       "      <td>0.029877</td>\n",
       "      <td>0.055789</td>\n",
       "      <td>0.004766</td>\n",
       "      <td>...</td>\n",
       "      <td>0.031761</td>\n",
       "      <td>-0.009294</td>\n",
       "      <td>-0.067167</td>\n",
       "      <td>-0.002346</td>\n",
       "      <td>0.067897</td>\n",
       "      <td>0.026724</td>\n",
       "      <td>-0.035206</td>\n",
       "      <td>0.074351</td>\n",
       "      <td>0.032862</td>\n",
       "      <td>0.036407</td>\n",
       "    </tr>\n",
       "    <tr>\n",
       "      <th>2</th>\n",
       "      <td>2</td>\n",
       "      <td>2012</td>\n",
       "      <td>ACCURAT Toolkit for Multi-Level Alignment and ...</td>\n",
       "      <td>20</td>\n",
       "      <td>-0.035305</td>\n",
       "      <td>0.002230</td>\n",
       "      <td>-0.027929</td>\n",
       "      <td>-0.065353</td>\n",
       "      <td>-0.033240</td>\n",
       "      <td>-0.010883</td>\n",
       "      <td>...</td>\n",
       "      <td>-0.018830</td>\n",
       "      <td>0.054944</td>\n",
       "      <td>-0.051018</td>\n",
       "      <td>-0.008120</td>\n",
       "      <td>0.091906</td>\n",
       "      <td>0.000924</td>\n",
       "      <td>-0.009921</td>\n",
       "      <td>-0.073989</td>\n",
       "      <td>0.058452</td>\n",
       "      <td>-0.002942</td>\n",
       "    </tr>\n",
       "    <tr>\n",
       "      <th>3</th>\n",
       "      <td>3</td>\n",
       "      <td>2013</td>\n",
       "      <td>Large tagset labeling using Feed Forward Neura...</td>\n",
       "      <td>20</td>\n",
       "      <td>-0.053140</td>\n",
       "      <td>-0.046510</td>\n",
       "      <td>0.060817</td>\n",
       "      <td>0.003574</td>\n",
       "      <td>-0.023673</td>\n",
       "      <td>-0.035749</td>\n",
       "      <td>...</td>\n",
       "      <td>-0.013833</td>\n",
       "      <td>0.046963</td>\n",
       "      <td>-0.008109</td>\n",
       "      <td>-0.038660</td>\n",
       "      <td>0.006526</td>\n",
       "      <td>0.051414</td>\n",
       "      <td>0.055248</td>\n",
       "      <td>0.082104</td>\n",
       "      <td>0.011507</td>\n",
       "      <td>0.023412</td>\n",
       "    </tr>\n",
       "    <tr>\n",
       "      <th>4</th>\n",
       "      <td>4</td>\n",
       "      <td>2019</td>\n",
       "      <td>Counterfactual Data Augmentation for Mitigatin...</td>\n",
       "      <td>20</td>\n",
       "      <td>0.045053</td>\n",
       "      <td>0.051824</td>\n",
       "      <td>0.097364</td>\n",
       "      <td>0.006804</td>\n",
       "      <td>-0.012303</td>\n",
       "      <td>-0.034496</td>\n",
       "      <td>...</td>\n",
       "      <td>0.017489</td>\n",
       "      <td>-0.026561</td>\n",
       "      <td>-0.073428</td>\n",
       "      <td>0.044345</td>\n",
       "      <td>-0.005372</td>\n",
       "      <td>0.094221</td>\n",
       "      <td>0.085115</td>\n",
       "      <td>0.072723</td>\n",
       "      <td>0.025918</td>\n",
       "      <td>-0.102300</td>\n",
       "    </tr>\n",
       "    <tr>\n",
       "      <th>...</th>\n",
       "      <td>...</td>\n",
       "      <td>...</td>\n",
       "      <td>...</td>\n",
       "      <td>...</td>\n",
       "      <td>...</td>\n",
       "      <td>...</td>\n",
       "      <td>...</td>\n",
       "      <td>...</td>\n",
       "      <td>...</td>\n",
       "      <td>...</td>\n",
       "      <td>...</td>\n",
       "      <td>...</td>\n",
       "      <td>...</td>\n",
       "      <td>...</td>\n",
       "      <td>...</td>\n",
       "      <td>...</td>\n",
       "      <td>...</td>\n",
       "      <td>...</td>\n",
       "      <td>...</td>\n",
       "      <td>...</td>\n",
       "      <td>...</td>\n",
       "    </tr>\n",
       "    <tr>\n",
       "      <th>6843</th>\n",
       "      <td>6843</td>\n",
       "      <td>1999</td>\n",
       "      <td>The grapho-phonological system of written Fren...</td>\n",
       "      <td>19</td>\n",
       "      <td>0.008246</td>\n",
       "      <td>-0.060258</td>\n",
       "      <td>0.026317</td>\n",
       "      <td>-0.046699</td>\n",
       "      <td>-0.074417</td>\n",
       "      <td>0.036662</td>\n",
       "      <td>...</td>\n",
       "      <td>0.050305</td>\n",
       "      <td>-0.023778</td>\n",
       "      <td>-0.001076</td>\n",
       "      <td>0.043697</td>\n",
       "      <td>-0.003842</td>\n",
       "      <td>0.000818</td>\n",
       "      <td>0.008940</td>\n",
       "      <td>0.064710</td>\n",
       "      <td>-0.008511</td>\n",
       "      <td>-0.080687</td>\n",
       "    </tr>\n",
       "    <tr>\n",
       "      <th>6844</th>\n",
       "      <td>6844</td>\n",
       "      <td>1999</td>\n",
       "      <td>Acquiring Lexical Generalizations from Corpora...</td>\n",
       "      <td>19</td>\n",
       "      <td>0.037969</td>\n",
       "      <td>-0.074707</td>\n",
       "      <td>0.098113</td>\n",
       "      <td>0.012809</td>\n",
       "      <td>-0.000898</td>\n",
       "      <td>-0.016804</td>\n",
       "      <td>...</td>\n",
       "      <td>0.036504</td>\n",
       "      <td>0.056846</td>\n",
       "      <td>-0.042679</td>\n",
       "      <td>-0.013597</td>\n",
       "      <td>0.019778</td>\n",
       "      <td>0.020553</td>\n",
       "      <td>0.036398</td>\n",
       "      <td>0.002618</td>\n",
       "      <td>0.045448</td>\n",
       "      <td>-0.045846</td>\n",
       "    </tr>\n",
       "    <tr>\n",
       "      <th>6845</th>\n",
       "      <td>6845</td>\n",
       "      <td>1999</td>\n",
       "      <td>Using Aggregation for Selecting Content when G...</td>\n",
       "      <td>19</td>\n",
       "      <td>-0.050357</td>\n",
       "      <td>0.010708</td>\n",
       "      <td>-0.037823</td>\n",
       "      <td>0.015405</td>\n",
       "      <td>0.047308</td>\n",
       "      <td>0.030114</td>\n",
       "      <td>...</td>\n",
       "      <td>0.072255</td>\n",
       "      <td>0.113188</td>\n",
       "      <td>-0.046559</td>\n",
       "      <td>-0.028938</td>\n",
       "      <td>-0.014051</td>\n",
       "      <td>0.018255</td>\n",
       "      <td>0.047413</td>\n",
       "      <td>0.031819</td>\n",
       "      <td>-0.069908</td>\n",
       "      <td>0.041277</td>\n",
       "    </tr>\n",
       "    <tr>\n",
       "      <th>6846</th>\n",
       "      <td>6846</td>\n",
       "      <td>1999</td>\n",
       "      <td></td>\n",
       "      <td>19</td>\n",
       "      <td>-0.118838</td>\n",
       "      <td>0.048299</td>\n",
       "      <td>-0.002548</td>\n",
       "      <td>-0.011011</td>\n",
       "      <td>0.051951</td>\n",
       "      <td>0.010292</td>\n",
       "      <td>...</td>\n",
       "      <td>0.107304</td>\n",
       "      <td>0.011428</td>\n",
       "      <td>0.013367</td>\n",
       "      <td>-0.012747</td>\n",
       "      <td>0.061454</td>\n",
       "      <td>0.035641</td>\n",
       "      <td>0.158746</td>\n",
       "      <td>0.126409</td>\n",
       "      <td>0.046549</td>\n",
       "      <td>-0.015717</td>\n",
       "    </tr>\n",
       "    <tr>\n",
       "      <th>6847</th>\n",
       "      <td>6847</td>\n",
       "      <td>2000</td>\n",
       "      <td>Spoken Dialogue Management Using Probabilistic...</td>\n",
       "      <td>20</td>\n",
       "      <td>-0.011156</td>\n",
       "      <td>-0.035221</td>\n",
       "      <td>0.062181</td>\n",
       "      <td>-0.055601</td>\n",
       "      <td>-0.029288</td>\n",
       "      <td>-0.072737</td>\n",
       "      <td>...</td>\n",
       "      <td>0.079868</td>\n",
       "      <td>-0.033381</td>\n",
       "      <td>0.051192</td>\n",
       "      <td>-0.038501</td>\n",
       "      <td>-0.020966</td>\n",
       "      <td>0.045913</td>\n",
       "      <td>-0.038903</td>\n",
       "      <td>0.033980</td>\n",
       "      <td>-0.029985</td>\n",
       "      <td>-0.002544</td>\n",
       "    </tr>\n",
       "  </tbody>\n",
       "</table>\n",
       "<p>6848 rows × 388 columns</p>\n",
       "</div>"
      ],
      "text/plain": [
       "      type  year                                              title  era_id  \\\n",
       "0        0  2007  Bilingual Terminology Mining -Using Brain, not...      20   \n",
       "1        1  2012  langid.py: An Off-the-shelf Language Identific...      20   \n",
       "2        2  2012  ACCURAT Toolkit for Multi-Level Alignment and ...      20   \n",
       "3        3  2013  Large tagset labeling using Feed Forward Neura...      20   \n",
       "4        4  2019  Counterfactual Data Augmentation for Mitigatin...      20   \n",
       "...    ...   ...                                                ...     ...   \n",
       "6843  6843  1999  The grapho-phonological system of written Fren...      19   \n",
       "6844  6844  1999  Acquiring Lexical Generalizations from Corpora...      19   \n",
       "6845  6845  1999  Using Aggregation for Selecting Content when G...      19   \n",
       "6846  6846  1999                                                         19   \n",
       "6847  6847  2000  Spoken Dialogue Management Using Probabilistic...      20   \n",
       "\n",
       "           x_0       x_1       x_2       x_3       x_4       x_5  ...  \\\n",
       "0     0.018361 -0.069289 -0.045787 -0.043936 -0.018778 -0.021305  ...   \n",
       "1    -0.105661 -0.071641  0.016773  0.029877  0.055789  0.004766  ...   \n",
       "2    -0.035305  0.002230 -0.027929 -0.065353 -0.033240 -0.010883  ...   \n",
       "3    -0.053140 -0.046510  0.060817  0.003574 -0.023673 -0.035749  ...   \n",
       "4     0.045053  0.051824  0.097364  0.006804 -0.012303 -0.034496  ...   \n",
       "...        ...       ...       ...       ...       ...       ...  ...   \n",
       "6843  0.008246 -0.060258  0.026317 -0.046699 -0.074417  0.036662  ...   \n",
       "6844  0.037969 -0.074707  0.098113  0.012809 -0.000898 -0.016804  ...   \n",
       "6845 -0.050357  0.010708 -0.037823  0.015405  0.047308  0.030114  ...   \n",
       "6846 -0.118838  0.048299 -0.002548 -0.011011  0.051951  0.010292  ...   \n",
       "6847 -0.011156 -0.035221  0.062181 -0.055601 -0.029288 -0.072737  ...   \n",
       "\n",
       "         x_374     x_375     x_376     x_377     x_378     x_379     x_380  \\\n",
       "0     0.034927  0.087479  0.006538  0.018238  0.010428  0.004054  0.034271   \n",
       "1     0.031761 -0.009294 -0.067167 -0.002346  0.067897  0.026724 -0.035206   \n",
       "2    -0.018830  0.054944 -0.051018 -0.008120  0.091906  0.000924 -0.009921   \n",
       "3    -0.013833  0.046963 -0.008109 -0.038660  0.006526  0.051414  0.055248   \n",
       "4     0.017489 -0.026561 -0.073428  0.044345 -0.005372  0.094221  0.085115   \n",
       "...        ...       ...       ...       ...       ...       ...       ...   \n",
       "6843  0.050305 -0.023778 -0.001076  0.043697 -0.003842  0.000818  0.008940   \n",
       "6844  0.036504  0.056846 -0.042679 -0.013597  0.019778  0.020553  0.036398   \n",
       "6845  0.072255  0.113188 -0.046559 -0.028938 -0.014051  0.018255  0.047413   \n",
       "6846  0.107304  0.011428  0.013367 -0.012747  0.061454  0.035641  0.158746   \n",
       "6847  0.079868 -0.033381  0.051192 -0.038501 -0.020966  0.045913 -0.038903   \n",
       "\n",
       "         x_381     x_382     x_383  \n",
       "0     0.006479  0.102239 -0.011539  \n",
       "1     0.074351  0.032862  0.036407  \n",
       "2    -0.073989  0.058452 -0.002942  \n",
       "3     0.082104  0.011507  0.023412  \n",
       "4     0.072723  0.025918 -0.102300  \n",
       "...        ...       ...       ...  \n",
       "6843  0.064710 -0.008511 -0.080687  \n",
       "6844  0.002618  0.045448 -0.045846  \n",
       "6845  0.031819 -0.069908  0.041277  \n",
       "6846  0.126409  0.046549 -0.015717  \n",
       "6847  0.033980 -0.029985 -0.002544  \n",
       "\n",
       "[6848 rows x 388 columns]"
      ]
     },
     "execution_count": 104,
     "metadata": {},
     "output_type": "execute_result"
    }
   ],
   "source": [
    "data = [[(i)] + list(embeddings[i]) for i in range(len(docs))]\n",
    "column_names = [\"type\"]+[\"x_\"+str(dim) for dim in range(len(embeddings[0]))]\n",
    "out = pd.DataFrame(data, columns=column_names)\n",
    "# out = out.sort_values([\"type\"])\n",
    "out.to_csv(\"acl_full-text_128dim_feat.csv\", index=None)\n",
    "out.insert(1, 'year', origin_data['year'].values)\n",
    "out.insert(2, 'title', origin_data['title'].values)\n",
    "out.insert(3, 'era_id', origin_data['era_id'].values)\n",
    "out"
   ]
  },
  {
   "cell_type": "markdown",
   "metadata": {},
   "source": [
    "# Decennial Comparison"
   ]
  },
  {
   "cell_type": "code",
   "execution_count": 105,
   "metadata": {},
   "outputs": [
    {
     "data": {
      "text/html": [
       "<div>\n",
       "<style scoped>\n",
       "    .dataframe tbody tr th:only-of-type {\n",
       "        vertical-align: middle;\n",
       "    }\n",
       "\n",
       "    .dataframe tbody tr th {\n",
       "        vertical-align: top;\n",
       "    }\n",
       "\n",
       "    .dataframe thead th {\n",
       "        text-align: right;\n",
       "    }\n",
       "</style>\n",
       "<table border=\"1\" class=\"dataframe\">\n",
       "  <thead>\n",
       "    <tr style=\"text-align: right;\">\n",
       "      <th></th>\n",
       "      <th>type</th>\n",
       "      <th>year</th>\n",
       "      <th>title</th>\n",
       "      <th>era_id</th>\n",
       "      <th>x_0</th>\n",
       "      <th>x_1</th>\n",
       "      <th>x_2</th>\n",
       "      <th>x_3</th>\n",
       "      <th>x_4</th>\n",
       "      <th>x_5</th>\n",
       "      <th>...</th>\n",
       "      <th>x_374</th>\n",
       "      <th>x_375</th>\n",
       "      <th>x_376</th>\n",
       "      <th>x_377</th>\n",
       "      <th>x_378</th>\n",
       "      <th>x_379</th>\n",
       "      <th>x_380</th>\n",
       "      <th>x_381</th>\n",
       "      <th>x_382</th>\n",
       "      <th>x_383</th>\n",
       "    </tr>\n",
       "  </thead>\n",
       "  <tbody>\n",
       "    <tr>\n",
       "      <th>6562</th>\n",
       "      <td>6562</td>\n",
       "      <td>2000</td>\n",
       "      <td>Generic NLP Technologies: Language, Knowledge ...</td>\n",
       "      <td>20</td>\n",
       "      <td>-0.118838</td>\n",
       "      <td>0.048299</td>\n",
       "      <td>-0.002548</td>\n",
       "      <td>-0.011011</td>\n",
       "      <td>0.051951</td>\n",
       "      <td>0.010292</td>\n",
       "      <td>...</td>\n",
       "      <td>0.107304</td>\n",
       "      <td>0.011428</td>\n",
       "      <td>0.013367</td>\n",
       "      <td>-0.012747</td>\n",
       "      <td>0.061454</td>\n",
       "      <td>0.035641</td>\n",
       "      <td>0.158746</td>\n",
       "      <td>0.126409</td>\n",
       "      <td>0.046549</td>\n",
       "      <td>-0.015717</td>\n",
       "    </tr>\n",
       "    <tr>\n",
       "      <th>2114</th>\n",
       "      <td>2114</td>\n",
       "      <td>2000</td>\n",
       "      <td>A Constraint-based Approach to English Prosodi...</td>\n",
       "      <td>20</td>\n",
       "      <td>0.045043</td>\n",
       "      <td>-0.033382</td>\n",
       "      <td>0.065596</td>\n",
       "      <td>-0.114945</td>\n",
       "      <td>-0.086161</td>\n",
       "      <td>0.050376</td>\n",
       "      <td>...</td>\n",
       "      <td>-0.023803</td>\n",
       "      <td>0.051378</td>\n",
       "      <td>-0.004509</td>\n",
       "      <td>0.031187</td>\n",
       "      <td>-0.006987</td>\n",
       "      <td>-0.014140</td>\n",
       "      <td>0.091878</td>\n",
       "      <td>0.087572</td>\n",
       "      <td>0.081552</td>\n",
       "      <td>-0.085340</td>\n",
       "    </tr>\n",
       "    <tr>\n",
       "      <th>2430</th>\n",
       "      <td>2430</td>\n",
       "      <td>2000</td>\n",
       "      <td>a cb ed gf ih qp sr gt gd u )v 6w yx x 6x ¦ 6 ...</td>\n",
       "      <td>20</td>\n",
       "      <td>-0.118838</td>\n",
       "      <td>0.048299</td>\n",
       "      <td>-0.002548</td>\n",
       "      <td>-0.011011</td>\n",
       "      <td>0.051951</td>\n",
       "      <td>0.010292</td>\n",
       "      <td>...</td>\n",
       "      <td>0.107304</td>\n",
       "      <td>0.011428</td>\n",
       "      <td>0.013367</td>\n",
       "      <td>-0.012747</td>\n",
       "      <td>0.061454</td>\n",
       "      <td>0.035641</td>\n",
       "      <td>0.158746</td>\n",
       "      <td>0.126409</td>\n",
       "      <td>0.046549</td>\n",
       "      <td>-0.015717</td>\n",
       "    </tr>\n",
       "    <tr>\n",
       "      <th>2229</th>\n",
       "      <td>2229</td>\n",
       "      <td>2000</td>\n",
       "      <td>¢¡ ¤£ ¥¡ §¦ © ¦ ¦ © ! \"£ \" $# % \"£ ¥&amp; ' ¦ £ ¥ ...</td>\n",
       "      <td>20</td>\n",
       "      <td>-0.118838</td>\n",
       "      <td>0.048299</td>\n",
       "      <td>-0.002548</td>\n",
       "      <td>-0.011011</td>\n",
       "      <td>0.051951</td>\n",
       "      <td>0.010292</td>\n",
       "      <td>...</td>\n",
       "      <td>0.107304</td>\n",
       "      <td>0.011428</td>\n",
       "      <td>0.013367</td>\n",
       "      <td>-0.012747</td>\n",
       "      <td>0.061454</td>\n",
       "      <td>0.035641</td>\n",
       "      <td>0.158746</td>\n",
       "      <td>0.126409</td>\n",
       "      <td>0.046549</td>\n",
       "      <td>-0.015717</td>\n",
       "    </tr>\n",
       "    <tr>\n",
       "      <th>4972</th>\n",
       "      <td>4972</td>\n",
       "      <td>2000</td>\n",
       "      <td>Query-Relevant Summarization using FAQs</td>\n",
       "      <td>20</td>\n",
       "      <td>-0.006374</td>\n",
       "      <td>0.042739</td>\n",
       "      <td>-0.037649</td>\n",
       "      <td>0.034485</td>\n",
       "      <td>0.042604</td>\n",
       "      <td>0.085942</td>\n",
       "      <td>...</td>\n",
       "      <td>0.020160</td>\n",
       "      <td>-0.034567</td>\n",
       "      <td>0.063022</td>\n",
       "      <td>-0.037991</td>\n",
       "      <td>0.068156</td>\n",
       "      <td>-0.003041</td>\n",
       "      <td>0.012255</td>\n",
       "      <td>0.062987</td>\n",
       "      <td>0.007088</td>\n",
       "      <td>0.072261</td>\n",
       "    </tr>\n",
       "    <tr>\n",
       "      <th>...</th>\n",
       "      <td>...</td>\n",
       "      <td>...</td>\n",
       "      <td>...</td>\n",
       "      <td>...</td>\n",
       "      <td>...</td>\n",
       "      <td>...</td>\n",
       "      <td>...</td>\n",
       "      <td>...</td>\n",
       "      <td>...</td>\n",
       "      <td>...</td>\n",
       "      <td>...</td>\n",
       "      <td>...</td>\n",
       "      <td>...</td>\n",
       "      <td>...</td>\n",
       "      <td>...</td>\n",
       "      <td>...</td>\n",
       "      <td>...</td>\n",
       "      <td>...</td>\n",
       "      <td>...</td>\n",
       "      <td>...</td>\n",
       "      <td>...</td>\n",
       "    </tr>\n",
       "    <tr>\n",
       "      <th>1825</th>\n",
       "      <td>1825</td>\n",
       "      <td>2019</td>\n",
       "      <td>Revisiting Joint Modeling of Cross-document En...</td>\n",
       "      <td>20</td>\n",
       "      <td>-0.028619</td>\n",
       "      <td>-0.049142</td>\n",
       "      <td>0.063358</td>\n",
       "      <td>-0.024484</td>\n",
       "      <td>0.099629</td>\n",
       "      <td>0.077400</td>\n",
       "      <td>...</td>\n",
       "      <td>0.036631</td>\n",
       "      <td>0.067196</td>\n",
       "      <td>0.011151</td>\n",
       "      <td>-0.050000</td>\n",
       "      <td>0.065749</td>\n",
       "      <td>0.036370</td>\n",
       "      <td>-0.007256</td>\n",
       "      <td>0.017618</td>\n",
       "      <td>0.010934</td>\n",
       "      <td>0.131057</td>\n",
       "    </tr>\n",
       "    <tr>\n",
       "      <th>1572</th>\n",
       "      <td>1572</td>\n",
       "      <td>2019</td>\n",
       "      <td>Putting Evaluation in Context: Contextual Embe...</td>\n",
       "      <td>20</td>\n",
       "      <td>-0.006061</td>\n",
       "      <td>-0.088416</td>\n",
       "      <td>-0.034406</td>\n",
       "      <td>0.031932</td>\n",
       "      <td>0.081604</td>\n",
       "      <td>-0.005672</td>\n",
       "      <td>...</td>\n",
       "      <td>0.062917</td>\n",
       "      <td>0.045372</td>\n",
       "      <td>0.006774</td>\n",
       "      <td>-0.038584</td>\n",
       "      <td>0.077082</td>\n",
       "      <td>0.062210</td>\n",
       "      <td>-0.021635</td>\n",
       "      <td>0.015855</td>\n",
       "      <td>-0.007763</td>\n",
       "      <td>-0.043921</td>\n",
       "    </tr>\n",
       "    <tr>\n",
       "      <th>4302</th>\n",
       "      <td>4302</td>\n",
       "      <td>2019</td>\n",
       "      <td>Neural Text Simplification of Clinical Letters...</td>\n",
       "      <td>20</td>\n",
       "      <td>-0.026094</td>\n",
       "      <td>-0.014658</td>\n",
       "      <td>0.023012</td>\n",
       "      <td>-0.018591</td>\n",
       "      <td>0.011769</td>\n",
       "      <td>0.019559</td>\n",
       "      <td>...</td>\n",
       "      <td>0.051751</td>\n",
       "      <td>0.084831</td>\n",
       "      <td>0.053418</td>\n",
       "      <td>0.055694</td>\n",
       "      <td>-0.038669</td>\n",
       "      <td>0.068791</td>\n",
       "      <td>0.016495</td>\n",
       "      <td>0.037822</td>\n",
       "      <td>-0.009372</td>\n",
       "      <td>0.023822</td>\n",
       "    </tr>\n",
       "    <tr>\n",
       "      <th>4155</th>\n",
       "      <td>4155</td>\n",
       "      <td>2019</td>\n",
       "      <td>Are we there yet? Encoder-decoder neural netwo...</td>\n",
       "      <td>20</td>\n",
       "      <td>-0.046121</td>\n",
       "      <td>-0.090919</td>\n",
       "      <td>0.041789</td>\n",
       "      <td>-0.020282</td>\n",
       "      <td>0.006140</td>\n",
       "      <td>0.054499</td>\n",
       "      <td>...</td>\n",
       "      <td>0.091933</td>\n",
       "      <td>0.017866</td>\n",
       "      <td>0.021257</td>\n",
       "      <td>-0.024974</td>\n",
       "      <td>-0.019788</td>\n",
       "      <td>0.026923</td>\n",
       "      <td>0.025894</td>\n",
       "      <td>0.118947</td>\n",
       "      <td>-0.054728</td>\n",
       "      <td>-0.007261</td>\n",
       "    </tr>\n",
       "    <tr>\n",
       "      <th>3223</th>\n",
       "      <td>3223</td>\n",
       "      <td>2019</td>\n",
       "      <td>A Multiscale Visualization of Attention in the...</td>\n",
       "      <td>20</td>\n",
       "      <td>-0.092457</td>\n",
       "      <td>-0.072127</td>\n",
       "      <td>-0.004884</td>\n",
       "      <td>-0.008101</td>\n",
       "      <td>0.074057</td>\n",
       "      <td>0.065841</td>\n",
       "      <td>...</td>\n",
       "      <td>-0.048130</td>\n",
       "      <td>0.015747</td>\n",
       "      <td>-0.005286</td>\n",
       "      <td>-0.050323</td>\n",
       "      <td>-0.007813</td>\n",
       "      <td>0.080706</td>\n",
       "      <td>0.012824</td>\n",
       "      <td>0.066443</td>\n",
       "      <td>-0.022243</td>\n",
       "      <td>0.037993</td>\n",
       "    </tr>\n",
       "  </tbody>\n",
       "</table>\n",
       "<p>240 rows × 388 columns</p>\n",
       "</div>"
      ],
      "text/plain": [
       "      type  year                                              title  era_id  \\\n",
       "6562  6562  2000  Generic NLP Technologies: Language, Knowledge ...      20   \n",
       "2114  2114  2000  A Constraint-based Approach to English Prosodi...      20   \n",
       "2430  2430  2000  a cb ed gf ih qp sr gt gd u )v 6w yx x 6x ¦ 6 ...      20   \n",
       "2229  2229  2000  ¢¡ ¤£ ¥¡ §¦ © ¦ ¦ © ! \"£ \" $# % \"£ ¥& ' ¦ £ ¥ ...      20   \n",
       "4972  4972  2000            Query-Relevant Summarization using FAQs      20   \n",
       "...    ...   ...                                                ...     ...   \n",
       "1825  1825  2019  Revisiting Joint Modeling of Cross-document En...      20   \n",
       "1572  1572  2019  Putting Evaluation in Context: Contextual Embe...      20   \n",
       "4302  4302  2019  Neural Text Simplification of Clinical Letters...      20   \n",
       "4155  4155  2019  Are we there yet? Encoder-decoder neural netwo...      20   \n",
       "3223  3223  2019  A Multiscale Visualization of Attention in the...      20   \n",
       "\n",
       "           x_0       x_1       x_2       x_3       x_4       x_5  ...  \\\n",
       "6562 -0.118838  0.048299 -0.002548 -0.011011  0.051951  0.010292  ...   \n",
       "2114  0.045043 -0.033382  0.065596 -0.114945 -0.086161  0.050376  ...   \n",
       "2430 -0.118838  0.048299 -0.002548 -0.011011  0.051951  0.010292  ...   \n",
       "2229 -0.118838  0.048299 -0.002548 -0.011011  0.051951  0.010292  ...   \n",
       "4972 -0.006374  0.042739 -0.037649  0.034485  0.042604  0.085942  ...   \n",
       "...        ...       ...       ...       ...       ...       ...  ...   \n",
       "1825 -0.028619 -0.049142  0.063358 -0.024484  0.099629  0.077400  ...   \n",
       "1572 -0.006061 -0.088416 -0.034406  0.031932  0.081604 -0.005672  ...   \n",
       "4302 -0.026094 -0.014658  0.023012 -0.018591  0.011769  0.019559  ...   \n",
       "4155 -0.046121 -0.090919  0.041789 -0.020282  0.006140  0.054499  ...   \n",
       "3223 -0.092457 -0.072127 -0.004884 -0.008101  0.074057  0.065841  ...   \n",
       "\n",
       "         x_374     x_375     x_376     x_377     x_378     x_379     x_380  \\\n",
       "6562  0.107304  0.011428  0.013367 -0.012747  0.061454  0.035641  0.158746   \n",
       "2114 -0.023803  0.051378 -0.004509  0.031187 -0.006987 -0.014140  0.091878   \n",
       "2430  0.107304  0.011428  0.013367 -0.012747  0.061454  0.035641  0.158746   \n",
       "2229  0.107304  0.011428  0.013367 -0.012747  0.061454  0.035641  0.158746   \n",
       "4972  0.020160 -0.034567  0.063022 -0.037991  0.068156 -0.003041  0.012255   \n",
       "...        ...       ...       ...       ...       ...       ...       ...   \n",
       "1825  0.036631  0.067196  0.011151 -0.050000  0.065749  0.036370 -0.007256   \n",
       "1572  0.062917  0.045372  0.006774 -0.038584  0.077082  0.062210 -0.021635   \n",
       "4302  0.051751  0.084831  0.053418  0.055694 -0.038669  0.068791  0.016495   \n",
       "4155  0.091933  0.017866  0.021257 -0.024974 -0.019788  0.026923  0.025894   \n",
       "3223 -0.048130  0.015747 -0.005286 -0.050323 -0.007813  0.080706  0.012824   \n",
       "\n",
       "         x_381     x_382     x_383  \n",
       "6562  0.126409  0.046549 -0.015717  \n",
       "2114  0.087572  0.081552 -0.085340  \n",
       "2430  0.126409  0.046549 -0.015717  \n",
       "2229  0.126409  0.046549 -0.015717  \n",
       "4972  0.062987  0.007088  0.072261  \n",
       "...        ...       ...       ...  \n",
       "1825  0.017618  0.010934  0.131057  \n",
       "1572  0.015855 -0.007763 -0.043921  \n",
       "4302  0.037822 -0.009372  0.023822  \n",
       "4155  0.118947 -0.054728 -0.007261  \n",
       "3223  0.066443 -0.022243  0.037993  \n",
       "\n",
       "[240 rows x 388 columns]"
      ]
     },
     "execution_count": 105,
     "metadata": {},
     "output_type": "execute_result"
    }
   ],
   "source": [
    "df1 = out[(out['year'] == 2000)].sample(n=80)\n",
    "# df2 = out[(out['year'] == 2005)].sample(n=80)\n",
    "df3 = out[(out['year'] == 2010)].sample(n=80)\n",
    "# df4 = out[(out['year'] == 2010)].sample(n=80)\n",
    "df5 = out[(out['year'] == 2019)].sample(n=80)\n",
    "decennial_out = pd.concat([df1, df3, df5], axis=0) # df2, df3, df4,\n",
    "decennial_out"
   ]
  },
  {
   "cell_type": "code",
   "execution_count": 106,
   "metadata": {},
   "outputs": [
    {
     "data": {
      "text/plain": [
       "(240, 2)"
      ]
     },
     "execution_count": 106,
     "metadata": {},
     "output_type": "execute_result"
    }
   ],
   "source": [
    "title_list = out['title'].values\n",
    "X = decennial_out.iloc[:, 4:]\n",
    "pca = PCA(n_components=2)\n",
    "pca.fit(X)\n",
    "x_pcx = pca.transform(X)\n",
    "x_pcx.shape"
   ]
  },
  {
   "cell_type": "code",
   "execution_count": 107,
   "metadata": {},
   "outputs": [
    {
     "data": {
      "text/plain": [
       "(240, 2)"
      ]
     },
     "execution_count": 107,
     "metadata": {},
     "output_type": "execute_result"
    }
   ],
   "source": [
    "pcx_2000_2010_2019 =  pd.DataFrame(data=x_pcx, columns=['x1', 'x2'])\n",
    "pcx_2000_2010_2019.shape"
   ]
  },
  {
   "cell_type": "code",
   "execution_count": 108,
   "metadata": {},
   "outputs": [
    {
     "data": {
      "text/html": [
       "<div>\n",
       "<style scoped>\n",
       "    .dataframe tbody tr th:only-of-type {\n",
       "        vertical-align: middle;\n",
       "    }\n",
       "\n",
       "    .dataframe tbody tr th {\n",
       "        vertical-align: top;\n",
       "    }\n",
       "\n",
       "    .dataframe thead th {\n",
       "        text-align: right;\n",
       "    }\n",
       "</style>\n",
       "<table border=\"1\" class=\"dataframe\">\n",
       "  <thead>\n",
       "    <tr style=\"text-align: right;\">\n",
       "      <th></th>\n",
       "      <th>title</th>\n",
       "      <th>lab_or_not</th>\n",
       "      <th>award</th>\n",
       "      <th>year</th>\n",
       "      <th>x1</th>\n",
       "      <th>x2</th>\n",
       "    </tr>\n",
       "  </thead>\n",
       "  <tbody>\n",
       "    <tr>\n",
       "      <th>0</th>\n",
       "      <td>Generic NLP Technologies: Language, Knowledge ...</td>\n",
       "      <td>notlab</td>\n",
       "      <td>normal</td>\n",
       "      <td>2000</td>\n",
       "      <td>0.900063</td>\n",
       "      <td>-0.025013</td>\n",
       "    </tr>\n",
       "    <tr>\n",
       "      <th>1</th>\n",
       "      <td>A Constraint-based Approach to English Prosodi...</td>\n",
       "      <td>notlab</td>\n",
       "      <td>normal</td>\n",
       "      <td>2000</td>\n",
       "      <td>-0.112024</td>\n",
       "      <td>0.404659</td>\n",
       "    </tr>\n",
       "    <tr>\n",
       "      <th>2</th>\n",
       "      <td>a cb ed gf ih qp sr gt gd u )v 6w yx x 6x ¦ 6 ...</td>\n",
       "      <td>notlab</td>\n",
       "      <td>normal</td>\n",
       "      <td>2000</td>\n",
       "      <td>0.900063</td>\n",
       "      <td>-0.025013</td>\n",
       "    </tr>\n",
       "    <tr>\n",
       "      <th>3</th>\n",
       "      <td>¢¡ ¤£ ¥¡ §¦ © ¦ ¦ © ! \"£ \" $# % \"£ ¥&amp; ' ¦ £ ¥ ...</td>\n",
       "      <td>notlab</td>\n",
       "      <td>normal</td>\n",
       "      <td>2000</td>\n",
       "      <td>0.900063</td>\n",
       "      <td>-0.025013</td>\n",
       "    </tr>\n",
       "    <tr>\n",
       "      <th>4</th>\n",
       "      <td>Query-Relevant Summarization using FAQs</td>\n",
       "      <td>notlab</td>\n",
       "      <td>normal</td>\n",
       "      <td>2000</td>\n",
       "      <td>-0.177430</td>\n",
       "      <td>-0.241778</td>\n",
       "    </tr>\n",
       "    <tr>\n",
       "      <th>...</th>\n",
       "      <td>...</td>\n",
       "      <td>...</td>\n",
       "      <td>...</td>\n",
       "      <td>...</td>\n",
       "      <td>...</td>\n",
       "      <td>...</td>\n",
       "    </tr>\n",
       "    <tr>\n",
       "      <th>235</th>\n",
       "      <td>Revisiting Joint Modeling of Cross-document En...</td>\n",
       "      <td>notlab</td>\n",
       "      <td>normal</td>\n",
       "      <td>2019</td>\n",
       "      <td>-0.293890</td>\n",
       "      <td>-0.263055</td>\n",
       "    </tr>\n",
       "    <tr>\n",
       "      <th>236</th>\n",
       "      <td>Putting Evaluation in Context: Contextual Embe...</td>\n",
       "      <td>notlab</td>\n",
       "      <td>normal</td>\n",
       "      <td>2019</td>\n",
       "      <td>-0.279168</td>\n",
       "      <td>-0.107920</td>\n",
       "    </tr>\n",
       "    <tr>\n",
       "      <th>237</th>\n",
       "      <td>Neural Text Simplification of Clinical Letters...</td>\n",
       "      <td>notlab</td>\n",
       "      <td>normal</td>\n",
       "      <td>2019</td>\n",
       "      <td>-0.208981</td>\n",
       "      <td>-0.066609</td>\n",
       "    </tr>\n",
       "    <tr>\n",
       "      <th>238</th>\n",
       "      <td>Are we there yet? Encoder-decoder neural netwo...</td>\n",
       "      <td>notlab</td>\n",
       "      <td>normal</td>\n",
       "      <td>2019</td>\n",
       "      <td>-0.197103</td>\n",
       "      <td>-0.027206</td>\n",
       "    </tr>\n",
       "    <tr>\n",
       "      <th>239</th>\n",
       "      <td>A Multiscale Visualization of Attention in the...</td>\n",
       "      <td>notlab</td>\n",
       "      <td>normal</td>\n",
       "      <td>2019</td>\n",
       "      <td>-0.144792</td>\n",
       "      <td>-0.273623</td>\n",
       "    </tr>\n",
       "  </tbody>\n",
       "</table>\n",
       "<p>240 rows × 6 columns</p>\n",
       "</div>"
      ],
      "text/plain": [
       "                                                 title lab_or_not   award  \\\n",
       "0    Generic NLP Technologies: Language, Knowledge ...     notlab  normal   \n",
       "1    A Constraint-based Approach to English Prosodi...     notlab  normal   \n",
       "2    a cb ed gf ih qp sr gt gd u )v 6w yx x 6x ¦ 6 ...     notlab  normal   \n",
       "3    ¢¡ ¤£ ¥¡ §¦ © ¦ ¦ © ! \"£ \" $# % \"£ ¥& ' ¦ £ ¥ ...     notlab  normal   \n",
       "4              Query-Relevant Summarization using FAQs     notlab  normal   \n",
       "..                                                 ...        ...     ...   \n",
       "235  Revisiting Joint Modeling of Cross-document En...     notlab  normal   \n",
       "236  Putting Evaluation in Context: Contextual Embe...     notlab  normal   \n",
       "237  Neural Text Simplification of Clinical Letters...     notlab  normal   \n",
       "238  Are we there yet? Encoder-decoder neural netwo...     notlab  normal   \n",
       "239  A Multiscale Visualization of Attention in the...     notlab  normal   \n",
       "\n",
       "     year        x1        x2  \n",
       "0    2000  0.900063 -0.025013  \n",
       "1    2000 -0.112024  0.404659  \n",
       "2    2000  0.900063 -0.025013  \n",
       "3    2000  0.900063 -0.025013  \n",
       "4    2000 -0.177430 -0.241778  \n",
       "..    ...       ...       ...  \n",
       "235  2019 -0.293890 -0.263055  \n",
       "236  2019 -0.279168 -0.107920  \n",
       "237  2019 -0.208981 -0.066609  \n",
       "238  2019 -0.197103 -0.027206  \n",
       "239  2019 -0.144792 -0.273623  \n",
       "\n",
       "[240 rows x 6 columns]"
      ]
     },
     "execution_count": 108,
     "metadata": {},
     "output_type": "execute_result"
    }
   ],
   "source": [
    "pcx_2000_2010_2019.insert(0, 'title', decennial_out['title'].values)\n",
    "pcx_2000_2010_2019.insert(1, 'lab_or_not', 'notlab')\n",
    "pcx_2000_2010_2019.insert(2, 'award', 'normal')\n",
    "pcx_2000_2010_2019.insert(3, 'year', decennial_out['year'].values)\n",
    "pcx_2000_2010_2019"
   ]
  },
  {
   "cell_type": "code",
   "execution_count": 109,
   "metadata": {},
   "outputs": [
    {
     "data": {
      "application/vnd.plotly.v1+json": {
       "config": {
        "plotlyServerURL": "https://plot.ly"
       },
       "data": [
        {
         "customdata": [
          [
           "Generic NLP Technologies: Language, Knowledge and Information Extraction"
          ],
          [
           "A Constraint-based Approach to English Prosodic Constituents"
          ],
          [
           "a cb ed gf ih qp sr gt gd u )v 6w yx x 6x ¦ 6 w y ¤ v ¤ d fe \"g ¤ h ji F k h hl e k x ¤v 6m ¤n eo v ¤ i F k yw h x p 1x e x h 6x hx hm j x q `r kv sl e k hm w yx h t F qu wv \"n ix zy { | 6u 4{ 1} qe x \"x hx m F yx kn f h v j \" w i 6 1 i k ¨ s c j w j \" F j 9 \" h 4 wf i A s s g k )¡ ¢ £ S¤ j ¤ F¥ s¦ § )¢© «ª ¬ k¡ ® w© « )® § ) j°¢± h² F § ( ª s¤ j ¤ ´³ µ© « ¶ § ) s ¸• j (© ¦ ± (± )®ª j ¹© k³ »º ¼ ± )£ ª ½ § ² ¿¾ «± ( ¤ ¹© «ª ¿³ À Á k § )¥ j ( ¶ 4 kÂÃ k (± ÁÄ Å ¼¥ s § (© ¬³ µ k® § ) F³ À¥ j¡ ®ª s ± (± ÇAE ¢© «¡ k § )¢© «ª s± ÁÈ É®ª FÊ Ë ª j® § ( ¡ ®£ ÌÃ kª ½£ %¦ Á kª s¤ F¢¤ s k § ( ± Í¥ s± ( § Î¾ ¤ ¦ © «Â• k ( ¤ iÄ ¨Ï Î® § ) z § ) s 3Ð ( Á «± (© «ª k¾ j¡ ¢ Ñ e «± Ê ± )¥ jÂ• j § )¢© «ª s± ÒÐ dÑ É § ) k § Óº ¼ Ô¦ © «ª s± ) § ) k®ª 1 § (± k ( ´¤ j ± (¦ )®• j § )¢© «ª s± ¿¤ j ª s© « § )®ª j Y¾ ¤© «¥ jª s¤ j ¤ ± ) § ) )¥ s¦ § )¥ j ( ± I kª s¤ ÕÐ ®dÑ e § ) k § AE w )£ )¥ j¡ ¢ ( hÊ ¦ ¥ j (± )¢© «ª Ó®ª Ö § ) s Ã¾ «± ( f 4 kÂÃ k `®ª s¦ ¥ j (± ± (© «f A¦ © «ª s± ) § ) k®ª 1 § AE 1¢© «¡ k § )¢© «ª È ¼¦ ( k ) § g k¡ ×Ê w© « )® § ) j¬¦ Á kª Ø¾ ¤ Ù¤ j AE ¢± ( ¤ iÄ ¨Ú Ûª 1 § ( )¡ ¢ Á AE ®ª j • k (± )®ª j s kª s¤ ¢ w ª s k § )¢© «ª ¹• ¤ )Â® § (± f § ) s k• j• j¡ ®¢¦ Á k § )¢© «ª Í© k³ ` w ª s k § )¢© «ª FÊ ¾ «± ( ¤ Í© «• FÊ § )®Â®Ü k § )¢© «ª s AE w ª T®ª ¸ § ) s Â• k (± )®ª j ¶ § «± (Ý 6È Ä Þ 4Ä ®È F³ µ© « V Ø± ) § ) )®ª j f®ª j• j¥ j § ÁÄ ß à d c 4 wb á gr g wâ Ûb ed Ú ª ãº 3• j § )®Ã k¡ ®® § Û£ Í A s © « )£ YÐ º ¼ VÑ hÈ R¾ 6© « § ) § ) s ÒÐ AE 1¢© kÊ ¡ k¾ j¡ ¢ Ñ Õ¦ © «ª s± ( § ) k®ª ½ § (± kª s¤ Í § ) s T± ( § © k³ Â¦ © «Â• ¤ § )®ª j ¦ Á kª s¤ F¢¤ s k § ( '± ) § ) )¥ s¦ § )¥ j ( ± Ù k ( A¥ jª j®AE w (± k¡ ®¡ ®£ ®ª 1AE « k ) kª 1 § Áä å ¥ s± ) § Ù § ) s 3 ( ¡ k § )®AE w 9 kª jÝ ®ª j Ø© k³ ¨¦ © «ª s± ) § ) k®ª ½ § (± A¢± A± )¥ j¾ FÊ å ¦ § ¦ § (© ¶¦ (© 4± (± Ê ¡ ®®ª j 4¥ j¢± ) § )¢¦ fAE « k ) k § )¢© «ª Ä » A j¢± zÃ kÝ w ± º ¼ Ç kª » k § ) § ) «¦ § )®AE w Rf© ¤ j ¡ j³ µ© « § ) s R h² • j¡ kª k § )¢© «ª »© k³ § Û£ • ¤© «¡ ¢© « 4¢¦ Á k¡ cAE 4 k ) k § )¢© «ª É kª s¤ É «¦ ae ½¥ j¢± )® § )¢© «ª Ä AÚ ª q¦ © «ª FÊ § ) «± ) § f § (© sº ¼ ç• j s© «ª s© «¡ ¢© « 4£ ¿ § ) s ( Õ «± Â¾ ¤ ª Ç¡ ®® § ) § )¡ ¢ ¦ © «Â• j¥ j § k § )¢© «ª k¡ ¼è Ù© « )Ý ¿© «ª Îº ¼ é± )£ ª ½ § ² iÄ ¹ê ¼ ( 4È AÚ • j (© «• ¤© 4± ( 3 z• k (± )®ª j 1ë w ª s k § )¢© «ª ¶± ) § ) k § ( 4£ Â³ µ© « Aº ¼ ± )£ ª ½ § ² ¾ «± ( ¤ ã© «ª S g k )¡ ¢ £ Í¤ j ¤ F¥ s¦ § )¢© «ª È ¦ © «¾ j®ª FÊ ®ª j e ± k Áì Þ± ÇÐ í Áî 4î 4ï wÑ ¦ k ) § Ê ¾ «± ( ¤ Y¦ © «Â• j¥ j § k § )¢© «ª © k³ Øº ¼ ð¦ © «Â• 6 § )® § )¢© «ª è R® § ) ´®ª s± )® 4 1 § (± »³ (© «X• k (± Ê ®ª j 1ë w ª s k § )¢© «ª éè R® § ) ç¦ © «ª s± ) § ) k®ª 1 § Ê ¾ «± ( ¤ ç 4 kØÊ Ã k (± qÐ ®ª ¿• k ) § )¢¦ ¥ j¡ k Ãñ ¼ ¥ jÃ kª jª ì Þ± Ð í Áî 4î 4ò wÑ Ø®ª ½ § ( Ê ¡ ¢ Á AE ®ª j 1Ñ hÄ zó ô• j (© « § (© « § Û£ • 6 ` «± 9¾ ¤ ª ®Â• j¡ ¢ f ª 1 § ( ¤ ®ª ¶õ (© «¡ ¢© « sÄ ö ¦ 4Ä Ã÷ ø• j ( ± ( ª 1 § (± ¿¾ «¦ (Ý 4 (© «¥ jª s¤ 8© «ª Ìº ¼ ù± (£ 1ª FÊ § ² ú kª s¤ é ã³ µ© « )Ã k¡ ®®Ü k § )¢© «ª é¾ «± ( ¤ ú© «ª éû h² F¢¦ Á k¡ ×Ê"
          ],
          [
           "¢¡ ¤£ ¥¡ §¦ © ¦ ¦ © ! \"£ \" $# % \"£ ¥& ' ¦ £ ¥ ¦ ©¡ )( 021 43 65 87 ¥ 4¦ © 9& @¦ ¡ A& 'B C ED GF HF ID $P RQ TS VU W XD YD Gba cD $d fe F Hg ih e p Hq Rr C Ee q sP sP Rp HF ID YF t vu sw yx \"u R u R Rw 9u s G yw ¤u w yx u d w yu s x e ©f gu ih ' e x w j yx w ¤k l Gm u sn ¢o p ¢q Yu sr R u sw ¤ y o t u v w Rx $y r z h '{ }| w j u"
          ],
          [
           "Query-Relevant Summarization using FAQs"
          ],
          [
           "Lexical transfer using a vector-space model"
          ],
          [
           "The Role of Centering Theory's Rough-Shift in the Teaching and Evaluation of Writing Skills"
          ],
          [
           ""
          ],
          [
           ""
          ],
          [
           ""
          ],
          [
           "Statistical parsing with an automatically-extracted tree adjoining grammar"
          ],
          [
           "Automatic Labeling of Semantic Roles"
          ],
          [
           "COMPUTATIONAL LINGUISTICS IN INDIA: AN OVERVIEW"
          ],
          [
           "An Information-Theory-Based Feature Type Analysis for the Modelling of Statistical Parsing"
          ],
          [
           "¢¡ ¤£ ¥£ ¥¦ ¨ § © © !£ ¥¦ ¨\" $# &% ' ( )¦ ¨£ 10 2 ¦ 3 4 § 15 6 87 9# & A@ B# 9C ED F¦ 3¦ 3G IH 1P Q R R S¡ T § UR V A § U( W¡ ¤£ ¥¦ 3 X¡ Y § UR ` ¢¡ TR AH ba cR R A\" Yd E7 W¡ Y § U e7 W¡ f g¡ $7 ih p rq £ E# 9C ED U G 3¡ Y § UR Ep r 4 § U£ ts u¦ wv g¡ ¤G x 4\" V ¦ \" ¤ e7 W¡ ¤ E¡ $7 ih y 3 W w 9 W w ¨ x ed gf &h ¨d Si kj l )m nd od p Uq r s Yt Bu q vt !w x y f 8x zw s Bu Q &t e{ |w i ~} ) { q 8 q W{ | q s B Y{ |t f w &x e ¨w i v iw w i W iw Q f W S W 8 9 w & f 9 ¨w i v iw i f i i i ) W i r q nq t B B Y{ |{ o & U{ ) t ew i v w W ¡ & r ¢ W i ¤£ ¥h 3 3 §¦ d gp Uq nr &s Yt eu q vt ©w x ª Sw iu r 8t q s ©} ) n{ q W q « w is q W{ | q s Y B{ |t f k¬ ¤ r ¥® E u ¯ p w i W 8 } q w i W i°W 8 v ¤ ± } q w i ² T ) i « w is q s Y{ u ³ ¥ r w is q 8 & 9s ¶µ ej ¤• f • ¹ $º ¼» ¤½ 9¾ À¿ ÂÁ ÄÃ lÁ WÅ AE ÂÇ eÅ ÈÁ 9AE ¤Å É¿ fÅ Éº &» Ê½ Ä¾ ÀË 9Ë vÅ Éº Ì ³Ã lAE ¤Í Î Ï 6Ð ¥Î iË vÅ ÉÑ À¿ EÒ Î AE UÓ !Î AE ¤Å ÉÃ º ÔÁ ÄÃ lAE ¤» $Õ zÎ Ò |Õ ¿ ¤Á 8Å Å ÉÖ Y½ ×» ¤Ã lØ Ø ¾ Ùº vØ vÚ xÇ ½ 9¾ ÀÖ Y½ Ö eÎ º Ä¿ ¤¾ ÀË vÅ AE gÓ ÛÎ lÕ AE TÅ ÉÃ º Ö T½ ÄÃ lAE TÃ Ö e» fÅ AE T¾ À¿ f» ¤¾ ÙÖ ¿ c¿ ¤Ü 9Ö Y½ Ã ¿ Ý½ 9¾ ÞØ ½ Ã lØ Ø Ñ ÙÜ v» ¤¾ Àº 9Ã l» ¤¾ ÞÏ i¾ Þ» oß Ú Ç eÎ AE TË iÕ g¿ fÁ )Ã Ö ¾ Àº vØ vÚ ÔÃ º 9Ë ½ Ä¾ ÞØ ½ àÑ ÞÅ eá i¾ ÙÖ Ã Ñ SÖ eÎ AE TAE ¤Å ÉÑ ÀÃ l» ¤¾ ÞÏ i¾ Þ» gß â Ý¹ º àÎ AE YË vÅ AE Î » ÛÖ eÎ º 9¿ T¾ ÀË vÅ AE ãAE T¾ ÀÖ Y½ ³¾ Ùº vÒ |Î AE YÐ ±Ã l» ¤¾ ÞÎ º ³¾ Àº ¶Ö eÎ º iÕ » fÅ eá i» ¤¿ Ú )» ¤½ vÅ EÐ ¥Î iË vÅ ÉÑ À¿ Ã Ë vÎ Á 9» Ã kÑ ÞÅ É¿ ¤¿ 4¿ f» fAE Y¾ ÀÖ e» Ì ³Ã lAE ¤Í Î Ï uÃ ¿ ¤¿ ¤Ü 9Ð ±Á 9» ¤¾ ÞÎ º â ¹ $º ä» ¤½ vÅ gÐ ¥Î Ë 9Å ÉÑ À¿ Ú ¿ ¤Á ÄÃ lAE T¿ fÅ eÕ gË 9Ã l» ¤Ã ³Á 9AE TÎ å ÄÑ ÞÅ ÉÐ ae¾ À¿ ©Ï Å AE Tß ¿ fÅ AE T¾ ÀÎ Ü 9¿ Ã º ÄË ©» ¤½ vÅ É¾ ÀAE çÁ ÄÃ lAE YÃ Ð ¥Å » fÅ AE T¿ ç» fÅ Éº 9Ë g» fÎ Aå WÅ ¨Å É¿ ¤» ¤¾ èÕ Ð rÃ l» fÅ ÉË uÜ 9º vAE TÅ ÉÑ À¾ ÀÃ lå ÄÑ Þß rå 8Å ÉÖ Ã Ü Ä¿ fÅ !» ¤½ vÅ ß ¯½ 9Ã ¤Ï Å Ã 6Ñ ÀÃ lAE ¤Ø Å ³º &Ü ÄÐ ©å WÅ AE FÎ Ò ÛÁ ÄÃ lAE TÃ Ð ¥Å » fÅ AE T¿ Éâ Êé çÎ Î Ï Å AE TÖ eÎ Ð ¥Å ~¿ fÁ )Ã lAE T¿ fÅ eÕ gË 9Ã l» ¤Ã Á 9AE ¤Î å ÄÑ ÀÅ ÉÐ ¯Ú Î Ü vAE Ð ±Î Ë vÅ ÉÑ UÜ 9¿ ¤Å É¿ ~Ã §¿ ¤¾ ÀÐ ¥Á )Ñ À¾ èê ÄÅ ÉË Ï Å AE T¿ ¤¾ ÞÎ º ëÎ Ò » ¤½ 9Å ~Ç Å ÉÑ ÙÑ èÕ zÍ º 9Î ¤Ç º àå ÄÃ Ö TÍ Õ zÎ lì c¿ TÐ ¥Î &Î » ¤½ Ä¾ Àº vØ Ð ±Å » ¤½ vÎ Ë Xâ é çÎ ©Ð ±¾ Þ» ¤¾ ÀØ Ã l» fÅ 4Ü 9º vAE ¤Å ÉÑ À¾ ÙÃ lå ÄÑ ÞÅ ¨Å É¿ ¤» ¤¾ èÕ Ð rÃ l» ¤¾ ÞÎ º rÁ ÄAE ¤Î å ÄÑ ÞÅ ÉÐ ¯Ú &Î Ü vAE Ð ±Î Ë vÅ ÉÑ Ù¿ ¨Ã ¿ ¤¿ ¤Ü ÄÐ ¥Å í fÎ ¾ Àº &» Q¾ Àº ÄË vÅ Á WÅ Éº 9Ë vÅ Éº 9Ö eÅ ~¾ Àº Ä¿ f» fÅ ÉÃ Ë Î Ò kÖ eÎ º iÕ Ë Ä¾ Þ» ¤¾ ÞÎ º 9Ã Ñ ¾ Àº 9Ë vÅ Á WÅ Éº 9Ë 9Å Éº 9Ö eÅ Eå WÅ ÉÖ Ã Ü 9¿ ¤Å Sí $Î ¾ Àº &» Á ÄAE ¤Î å ÄÃ lå Ä¾ ÀÑ Ù¾ Þ» ¤¾ ÞÅ É¿ W½ 9Ã ÉÏ Å e» ¤½ vÅ e¿ ¤Ã Ð ¥Å Ë 9Å Ø AE ¤Å Å ¨Î Ò Å É¿ ¤» ¤¾ ÀÐ ±Ã l» ¤¾ ÞÎ º ³AE ¤Å ÉÑ À¾ ÙÃ lå Ä¾ ÀÑ À¾ Þ» oß â î xá iÁ WÅ AE T¾ ÀÐ ¥Å Éº &» ¤Ã Ñ AE TÅ É¿ ¤Ü 9Ñ Þ» ¤¿ ±¿ T½ vÎ ¤Ç » ¤½ 9Ã l» rÐ ¥Î iË vÅ ÉÑ À¿ ¥Ç A¾ Þ» ¤½ ïAE T¾ ÀÖ Y½ Ö eÎ º &» fÅ eá i» ¤¿ QÁ WÅ AE ¤Ò Î AE TÐ 1Å Ï Å Éº Êå WÅ » f» fÅ AE ³» ¤½ 9Ã º ¿ ¤» ¤Ã º 9Ë 9Ã lAE TË ñð SÌ ³Ì Q¿ FÃ º 9Ë ñ» ¤½ ÄÃ l» Ûí fÎ ¾ Àº » k¾ Àº iÕ Ë 9Å Á 8Å Éº ÄË vÅ Éº » Ã ¿ ¤¿ ¤Ü 9Ð ¥Á Ä» ¤¾ ÞÎ º k¾ Ù¿ 3Å eì WÅ ÉÖ e» ¤¾ ÞÏ Å !¾ Àº ¿ ¤Î Ð ¥Å ©Ð ¥Î iË vÅ ÉÑ À¿ â ò ó ç• xô ¨ ¨f • d g I Ó ÛÎ AE ¤Å ÉÃ º ë¾ À¿ QÃ º ë½ 9¾ ÞØ ½ 9Ñ Þß àÃ lØ Ø Ñ ÀÜ v» ¤¾ Ùº 9Ã l» ¤¾ ÞÏ Å ÔÑ ÀÃ º vØ Ü 9Ã lØ Å Ç ½ 9¾ ÙÖ T½ õ½ 9Ã ¿ öÇ eÎ AE TË iÕ g¿ ¤Á ÄÃ Ö ¾ Àº vØ ÷Î AE ¤» ¤½ vÎ Ø AE YÃ lÁ Ä½ ß â ¹ o» Ð ±Ã lÍ Å É¿ ±Ó !Î AE ¤Å ÉÃ º 6Á ÄÃ lAE ¤» $Õ zÎ Ò |Õ g¿ fÁ WÅ Å ÉÖ T½ ø úù û !ü 9ý !» ¤Ã lØ Ø ¾ Àº vØ Ë 9¾ èì WÅ AE ¤Å Éº &» ©Ò AE ¤Î Ð þî ¨º vØ Ñ Ù¾ À¿ ¤½ ~ù û !ü » ¤Ã lØ Ø ¾ Ùº vØ vâ ×ÿ SÅ Éº vÅ AE fÕ Ã Ñ ÀÑ Þß ¯î º vØ Ñ À¾ À¿ ¤½ ¯ù û !ü ¥» ¤Ã lØ Ø ¾ Ùº vØ kÖ Ã º Qå WÅ !AE ¤Å Ø Ã lAE TË vÅ ÉË ³Ã ¿ Ã Á 9AE TÎ Ö eÅ É¿ ¤¿ r¾ Àº ïÇ ½ 9¾ ÙÖ T½ ïÃ Á 9AE TÎ Á 8Å AE ±ù û !ü 6» ¤Ã lØ 6¾ À¿ ±Ã ¿ $Õ ¿ ¤¾ ÞØ º 9Å ÉË U» fÎ !Å ÉÃ Ö T½ rÇ Î AE TË ¥¾ Ùº U» fÅ eá » ¤¿ â 3ð AÎ ¤Ç eÅ Ï Å AE ÉÚ i¾ Àº ¥Ó ÛÎ lÕ"
          ],
          [
           "Distribution-Based Pruning of Backoff Language Models"
          ],
          [
           ""
          ],
          [
           "A Computational Approach to Zero-pronouns in Spanish"
          ],
          [
           "The State of the Art in Thai Language Processing"
          ],
          [
           ""
          ],
          [
           "D E GF ¨H I QP SR UT WV ¢X `Y ba dc fe hg i qp QV ¢E dr qF ¨H @H fs QV ut v (w Wx &y x & &y g y e d d be ¦ gf Uh ji & w Wy lk nm o dw og &m Ww qp ¦w Wi ¨e dy jw Wg u r (s ut Cv xw ye hm gx &w Wg {z 7| }g & w oy 2 h @t @w om gx &g & h p }z 4 h h w ¦e dm gx &w Wg f 8w Wy e hg u % & ¨ n & d ¨ h U ¡ u¢ ¢ u ¨£ ¢ % G ¨ d ¡ ¤"
          ],
          [
           "Spoken Dialogue Management Using Probabilistic Reasoning"
          ],
          [
           ""
          ],
          [
           "â Wã Â BÃ gÄ åä ae vç I× YÖ I× WÒ Þ wÝ WÒ y× )È $Ö Â BÃ zÄ è éae Dê 4¿ À 4Á Â BÃ gÄ ë ae Dì Á íÈ B¿ DÉ YÈ wÊ tË &Â BÃ gÄ è §ae î 4Á Ò yÔ DÕ tÖ h¿ &× YË 9Ô × IÂ BÃ gÄ è §ae Dï Á Ò yÔ DÖ yÜ &Ë PÝ )Þ $Ò Iß wÂ @Ã gÄ ð ¶ v» gW± &• ¹ • &W¬ « §Ã ©ª h)½ d± ® » V® z¼ « {µ ½ V¾ â Wã Â @Ã gÄ kä mñ Ià kò Ù® )¬ « ¬ AEª hW¬ óÁ íÈ B¿ DÉ YÈ wÊ tË v¹ ½ Û S« V¹ Å )ª P¬ « V• Ó± &« VÅ PW¬ ¹ G¼ « ¥°eÐ 9¾ b½ AE¹ G± &» V« Ì» V® z¼ « µ ÌÛ w¹ e¬ gª ¶ B« {Û d« {µ Ì¬ ¹ °« V½ Ñ Iµ ® z¼ y¹ • I« V½ Ì½ ¡¬ gµ ® )± &Å t« {µ Ì« {¼ y¹ GÚ • I« {± &» V« § ¶ B® )µ £¬ AEª &« §» gW± &• I¹ • &W¬ « )à © dª &« ÙÛ d« V¹ Å )ª P¬ ½ w¹ G± h¬ AEª &« Ù» ² µ gµ « {± P¬ ©¹ G³ ôÑ &°« {³ Ï« {± ¬ ¥W¬ ¹ ® )± Û d« {µ « 8» gª ® t½ g« {± ¸½ g® t)½ ©¬ ® hÅ t¹ G¼ t« ÌÌ°« {Í y¹ » V® tÅ )µ {WÑ ª &¹ » 8® )µ AEÚ • I« {µ ¹ G± &Å ® )± õ¬ gª &« ¶ B« gW¬ g² µ « V½ V¾ QÑ Iµ « { ¶ B« µ AEµ ¹ G± &Å éö Iµ ½ ¬ x» gW± IÚ • I¹ • W¬ « V½ QÛ w¹ G¬ AEª Ó8ª &¹ Å )ª « µ fÅ )µ {W± • dÚ ¬ ® )¬ {)°Dµ ¥W¬ ¹ ® I¾ h¬ gª &« {±"
          ],
          [
           "Diagnostic Processing of Japanese for Computer-Assisted Second Language Learning"
          ],
          [
           ""
          ],
          [
           "Headline Generation Based on Statistical Translation"
          ],
          [
           "An Empirical Study of the Influence of Argument Conciseness on Argument Effectiveness"
          ],
          [
           ""
          ],
          [
           "Extracting Causal Knowledge from a Medical Database Using Graphical Patterns"
          ],
          [
           "Development of Computational Linguistics Research: a Challenge for Indonesia"
          ],
          [
           "¢¡ ¤£ ¦¥ ¨ § © !© #\" # ¤ $ &% ' ¦ ! )( 10 2 43 5 76 8¥ @9 BA @ C¥ D E ¢ F¥ @3 G E¡ © HA I¥ ¨P Q3 G% R !¥ S 4© FT U% R3 &¥ ¨V W !¡ ¤ YX 2© H% R3 G¥ a0 bc¡ ¤ d e f hg pi Hq sr ut wv xi y i @y i g p G d fe g h ji k l nm h l co p $q Eo sm i r l h k es Gt ju h t h v o sw & x ey zo i { u | x e} z u ~h k x nu l l u |m o sk h & g G p G G } s m u p 7 s ! C & s ¡ ¢ 5 H£ ¤ ¥ 7¡ §¦ C8© 7ª «¦ ¦¬ s sª ® h' ±°g pi Hq °² ´³ pµ • ¶ u¸ ¹ ±8º » ¼p» º n ¶ º ½ d¾ ¿ ¶ ¼¹ ÁÀ CÂ jÃ E¸ » º ³ pº ¦½ ¶ µ Ä ±º º Ã E¸ µ Å» ¿µ À ¹ ÇAE EÀ CÂ ±Ã «¸ ¹ ±» µ • ¶ Â ±½ uÈ 8º ¦¾ ÊÉ º º ¦½ u¾ ÊÉ fÂ w¹ ÇpË p» ¿Â j¹ jÀ ³ pº ¶ wÌ ÍÂ ±» ÏÎ pº ¦Ä ±º AE ÅÂ jpµ ½ pÐ Ñ¹ ÑÈ ¹ j ¶ º 2½ pÂ jÒ p½ p³ » ¿¹ j ¶ º 'À ³ dÒ ½ pÓ ±º » Ô &³ ÕÒ pÃ Ö¹ Ç½ e» ¿Ò pAE º DÉ I» ¿µ Å¾ µ ½ pÐ !¹ ±½ Î ¹ jÀ ¾ µ Ä ±º ×AE Åº n¹ Ç» ¿½ pµ ½ pÐ ØÒ ¶ µ ½ pÐ µ ½ d¾ º » ¿¹ jÀ ¾ µ Ä ±º Ù» º n¹ ÇAE ÅË ¾ ¿µ ÅÃ «º ³ ÕÒ pÃ Ö¹ ±½ Ú¹ Ç½ p½ pÂ ±¾ ¿¹ Ç¾ µ Â ±½ 7Û ÏÜ Õº Ä ±º ¦» ¹ ÇAE Ý½ pÂ ÞÄ ±º AE Ä Þ¹ Ç» ¿µ •¹ Þ¾ µ Â ±½ 8 ¶ ÖÂ ±½ w¹ jÀ ¾ ¿µ ÅÄ jº ¤AE Åº n¹ Ç» ¿½ pµ Å½ Ð ß¹ Ç» ¿º ¤µ Å½ ÕÄ jº ¶ Ë ¾ ¿µ ÅÐ d¹ Þ¾ º nÎ à ¹ Ç½ Î Ò p½ Î pº ¦» ¿AE Åá Õµ ½ pÐ âÀ CÂ d ¶ Ê¾ RÃ «Â Î º ¦AE • ¶ RÌ ÍÂ j» À ¦» Â d ¶ ¶ Ë Ã «Â Î p¹ ±AE ÝÃ Ö¹ ±À ³ pµ ½ pº AE Åº n¹ Ç» ¿½ pµ ½ pÐ ãÀ ¦Â ±Ã «¸ ¹ ±» µ ÅË ¶ Â ±½ ¤¹ Ç» ¿º Rp» ¿º ¶ º ¦½ d¾ º nÎ ¹ Ç½ Î äº Cå pAE Â ±» ¿º Î 7Û ae Iº n ¶ Ò pAE Å¾ ¿ ¶ ¶ ³ pÂ ÞÉ 2¾ ³ ¹ Ç¾ !µ Å¾ !µ • ¶ 4Ã «Â j» º cº ¦ç cÀ Cµ º ¦½ d¾ E¹ ±½ Î )Ã «Â ±» ¿º ¶ Ò À ¦À ¦º ¶ ¿ ¶ ÊÌ ÍÒ AE È Õá c ¶ º ¦Ä jº ¦» ¹ ÇAE Ã «º n¹ ± ¶ Ò p» º n ¶ ¾ ¿Â 4¾ ¿» ¿¹ ±µ Å½ ä¹ ¶ á ¶ Ê¾ ¿º ¦Ã FÒ ¶ µ Å½ Ð ¹ jÀ ¾ ¿µ ÅÄ jº !AE º ¹ ±» ½ pµ ½ pÐ ä¹ Ç½ p½ pÂ ±¾ ¿¹ Ç¾ µ Â ±½ » ¹ Þ¾ ¿³ pº ¦» ´¾ ¿³ ¹ Ç½ ³ ¹ ±½ Î ÕË èÀ C» ¹ ÞÌ é¾ º nÎ ä» Ò pAE º RÉ I» ¿µ ¾ ¿µ Å½ pÐ Ö¹ Ç¾ ¹ À CÂ ±Ã «¸ ¹ ±» ¿¹ ±È pAE º âAE Åº Ä ±º AE DÂ ±Ì $³ dÒ Ã «¹ ±½ wAE •¹ ÇÈ Â ±» zµ Å½ Ë Ä jº ¶ ¾ Ã «º ¦½ d¾ Û ê ë jì °g p I Ýí Ýq °py ì î ½ pº Â ÇÌ Ú¾ ¿³ pº ¸ » µ Ã Ö¹ Ç» ¿á ïp» ¿Â ±È AE Åº Ã « ¶ Ù¾ ³ 8¹ Þ¾ 1ð Ýñ 5ò ó» º ¦Ë ¶ º ¹ Ç» À ³ pº » ¿ ¶ IÉ I³ Â zÉ fÂ ±» ¿Ó zµ ½ ½ º ¦É ÏAE •¹ Ç½ pÐ jÒ ¹ ÇÐ jº ¶ IÂ j» D½ º ¦É ÙÎ Â ±Ë Ã Ö¹ Çµ ½ ¶ $º ½ À CÂ jÒ p½ d¾ º » $µ ¶ !¹ ¤AE •¹ ±À Ó Â ÇÌ @¹ Ä Þ¹ Çµ AE ¹ ±È pAE Åº c¹ ±½ p½ pÂ ±¾ ¿¹ Þ¾ ¿º Î Î p¹ Ç¾ ¿¹ pÛ ô Â ±AE AE º À ¾ ¿µ ÅÂ j½ «Â ÇÌ 7Î p¹ Þ¾ ¹ §µ ¶ ½ pº ¦µ Å¾ ³ pº » º ¹ j ¶ á !½ pÂ ±» À ³ pº ¹ ±7Û ² ´³ pº õÀ ¦Â ±½ ¶ ¾ » ¿Ò À ¾ ¿µ ÅÂ j½ öÂ ±Ì !¾ ¿³ pº õò º ¦½ ½ ² G» º º ¦È ¹ ±½ pÓ w ¶ µ ÅÐ j½ pµ Å÷ pË À ¦¹ ±½ d¾ AE á cµ ÅÃ «p» ¿Â ÞÄ ±º nÎ cº ¦» Ì ÍÂ ±» ¿Ã Ö¹ Ç½ À ¦º DÌ ÍÂ j» @ø ½ pÐ jAE Åµ • ¶ ³ ä ¶ á ¶ Ê¾ ¿º ¦Ã Ö ¶ Î º n¹ ÇAE µ Å½ pÐ Ùµ Å½ Ø¾ ³ pº ù Ê¾ » ¹ ±Î pµ ¾ ¿µ ÅÂ j½ ¹ ÇAE •ú ¼ð Ýñ Gò ûÎ Â jÃ «¹ ±µ Å½ 8 ¶ wü Íº Ð ¸ ¹ ±» ¿ ¶ µ Å½ Ð à Ý8¹ Ç» ¾ Ë ýÂ ÇÌ éË è ¶ º ¦º nÀ ³ ¾ ¿¹ ±Ð ±Ð ±µ ½ pÐ 8à Ýº C¾ À þ CÛ Ñÿ ÝÂ ÞÉ º Ä ±º ¦» nà Ì ÍÂ ±» ¹ ½ pº ¦É FAE •¹ Ç½ pÐ jÒ ¹ ÇÐ jº ±à Ý¹ ¶ µ Ã «µ ÅAE •¹ Ç» äµ ½ dÄ jº ¶ ¾ Ã «º ¦½ d¾ äÂ ÇÌ 4º ¦Ì éË Ì ÍÂ ±» ¾ Iµ Å½ ä¾ ¿µ ÅÃ «º $¹ Ç½ 8Î eÃ «Â ±½ º ¦á cµ • ¶ ´Ã «Â j ¶ ¾ ´AE µ Ó ±º ¦AE á cp» ¿Â ±³ µ ÅÈ pµ Å¾ µ Ä ±º jà µ ÅÌ &½ pÂ ±¾ @µ ÅÃ «Â j ¶ ¿ ¶ µ È pAE º ±Û ¹ ±À ¦º Î )É Iµ Å¾ ³ ¾ ³ º äÀ ¦Â j ¶ ¾ ¿ ¶ 4¹ j ¶ ¶ Â À Cµ •¹ Þ¾ ¿º Î )É Iµ Å¾ ³ ãÎ p¹ Þ¾ ¹ ¹ ±À CË ¡ Ò pµ • ¶ µ Å¾ µ Â ±½ 7à » ¿¹ Ç¾ µ Â ±½ ¹ ±AE Åµ • ¶ Ê¾ ¶ fÃ «¹ á z¹ Ç» ¿Ð ±Ò pº '¾ ³ 8¹ Þ¾ @µ Å¾ @É Â jÒ pAE Î äÈ º Ã «Â ±» ¿º 4À CÂ d ¶ Ê¾ Dº £¢ sº À ¾ ¿µ ÅÄ jº $¾ ¿Â eÀ CÂ j½ ¶ Ê¾ ¿» Ò 8À ¾ ' ¶ á ¶ Ê¾ ¿º ¦Ã Ö ¶ @Â ±Ì ³ ¹ Ç½ 8Î ÕË À CÂ Î º nÎ «» Ò AE Åº @AE µ • ¶ Ê¾ ¶ H¾ ³ 8¹ Þ¾ fÀ ¹ Ç¾ ¿Ò p» ¿º ´¾ ³ pº DAE Åµ ½ pÐ ±Ò µ ¶ ¾ µ •À @À ³ ¹ ±» ¿¹ jÀ Ë ¾ º » µ • ¶ ¾ µ •À ¦ ¶ HÂ ±Ì ¾ ¿³ pº I¾ ¹ ± ¶ Ó !¹ Þ¾ ³ 8¹ Ç½ Î à d» ¹ Þ¾ ³ º ¦» ¾ ³ 8¹ Ç½ c ¶ 8º ½ Î µ ½ pÐ À CÂ jÃ «¸ ¹ Ç» ¹ ÇÈ pAE º $º ¤¢ Â j» ¾ D¹ ±½ p½ pÂ ±¾ ¿¹ Þ¾ ¿µ Å½ Ð zÎ p¹ Ç¾ ¿¹ c¹ ±½ Î ¤º Cå º À C¾ µ ½ pÐ ¾ ³ º « ¶ ¿¹ ÇÃ «º «Ó Õ½ pÂ ÞÉ IAE º Î Ð jº $¾ Â È º c¹ ±À ¡ Ò µ Å» ¿º Î µ Å½ Î pµ Å» ¿º À C¾ AE á âÈ Õá ¹ zÃ «¹ jÀ ³ pµ ½ pº !AE º ¹ ±» ½ µ Å½ pÐ ¶ á Õ ¶ ¾ º Ã Û !² ´³ pº ¡ Ò pº ¶ ¾ µ Â ±½ É º «¹ Ç» ¿º ¾ » ¿á Õµ Å½ Ð D¾ ¿Â $¹ ±Î pÎ p» º n ¶ ¶ &¾ ¿³ pº ¦½ Öµ • ¶ ¦Ô 5Ì ÍÂ ±» x¹ 'Ð jµ ÅÄ jº ¦½ «À CÂ j ¶ ¾ x¹ ± ¶ ¿ ¶ Ò pÃ «Ë ¾ µ Â ±½ 5à dÉ I³ µ À ³ e¹ ±pp» ¿Â j¹ jÀ ³ ÖÉ Â jÒ pAE Î cÈ 8º Ý¾ ³ pº 'Ã «Â j ¶ ¾ º £¢ sº À C¾ µ Ä ±º jÛ ¥ AE Å¾ ³ pÂ jÒ pÐ ±³ ¤AE º ¹ ±» ½ pµ ½ pÐ ÖÀ CÒ » Ä jº ¶ @ ¶ ³ pÂ ÞÉ Iµ ½ pÐ «8º » Ì ÍÂ j» Ã Ö¹ Ç½ 8À Cº » ¿º ¦AE •¹ Þ¾ µ Ä ±º c¾ Â ¹ ±Ã «Â ±Ò p½ d¾ 4Â ±Ì I¾ » ¹ Çµ ½ pµ Å½ Ð Î p¹ Þ¾ ¹ ¹ ±» º eÀ ¦Â ±Ã «Ã «Â ±½ © «ª D¬ 2® ° k± ± ²¬ k³ °± kμ « ¶ &• x¹ ¹ Uº «» D¼ 6½ ¾ ¿» kÀ Á &Â À 6¾ Ã» k¼ °½ ¾ ¿» kÀ °Á Â À Ä AEÅ © ÈÇ @® °± 2É Ê® °± k 2É Ë± Ì &Í ²Î ¬ °Ï Ð &Ñ SÇ ® °± k 2É AE® °± 2É $Ð §Ç G± Ì 2Í ÊÎ k¬ °Ï Ð µ Ò » kÀ Ó Ô kÕ °Ö &À ª ¾ ²Å ²µ Ã ¶ ½ ½ ¿Ô Ö &× Ø ° ¶ 2Ù AEÚ ²Å µ Ò À °Á DÔ ¶ D» D¼ 6½ DÄ AEÅ «µ ¿Ô °Ö &× Ø ° ¶ &Ù ÊÚ AEÅ © ² &® °Û 2³ Í ËÜ kÝ ÈÇ G 2Þ AEÛ &³ Þ 6ß D6Ð ÃkÑ ÈÇ G 2® °Û &³ Í AEÜ kÝ Ê &Þ ËÛ 2³ Þ 6ß 26Ð µ Ç Á Þ °± Dà âá EÛ 2Þ °± Dà âá » ® °Û 2³ Í á @ 2® °Û 2³ Í Ð ¶ f¹ ¹ `º § ¶ Ç Gã Ü xá I© 6Ð ¹ ¹ Uº ã ¶ Dä D¼ x¹ ¹ `Ä åÒ » kÀ Ó Ô DÕ 6Ö &À ª Ä ²Ú ²Å µ « ¶ &• • x¹ ¹ U¾ ² ¶ Ç ae ¼ Ô á ½ ½ Ð ¹ k¹ Uº AE ¶ Ç ¼ Ô á Cae • ae °ã Ü 5á ae Á ç Ð » k¼ 6½ k¾ ã ¶ &• x¹ ¹ Uº éè Ø • °º êÒ » kÀ Ó Ô DÕ 6Ö &À ª Ä ²Ú ÊÅ © ÈÇ ® °Û Dà £Ð Ñ ÈÇ Í DÉ ° DÍ ²® °Û Dà ËÐ Ò Ç Ô É ° DÍ âá Í kÉ ° DÍ Ð ¶ ¶ 2¼ Ô £µ Ã» kÀ Ó Ô kÕ 6Ö &À ª Ä AEÅ ¿Ú © ÈÇ ë 2® °Û 2³ Í «ì îí &ï ð ËÐ µ Ç UÛ 2Þ °± Dà âá E 2® °Û 2³ Í 6Ð ¶ f¹ ¹ Uº Ç Gã Ü 5á E© 6Ð ¶ f¹ k¹ Uº AE ¶ kä D¼ x¹ ¹ Ä ÊÅ µ Ò » kÀ Ó Ô kÕ °Ö &À ª Ä ñÒ `º ¿» kÀ Ó Ô kÕ °Ö &À ª ¾ ÃÚ º ¿Ú Ê ¶ 2ò • ¸óã Ò » kÀ Ó Ô DÕ 6Ö &À ª Ä ²Ú ó ¶ ¯• • k¸¯Ò » kÀ kÓ Ô kÕ 6Ö &À ª Ä ²Ú AEÅ © ¿ae ¬ Û 2Þ °Û 2³ kÞ 6Ì Ê D¬ ¿³ °Ì &³ ° ± ± 2à ²® ° Ì D´À ae 6Ì µ « ¶ &¼ Ô 5¹ ¹ Uº Ê ¶ ae • ae Å © Èô kô G 2Þ õ ö kö ÷³ 6Ì &³ ° ± k± Dà øÏ Ì &Þ 5ö Í ËÏ &Þ Ë ¿® Ì D´À ae µ Ò ¶ ã ç kÄ ¹ k¹ `Ä ²Ú Ç G &Þ õ âá Iù Ð ¶ êÒ ÷ ¶ ã ç kÄ f¹ ¹ `Ä ²Ú ÊÅ © ú Û D¬ ËÌ Ï &Þ û ± kḱÍ Û &Þ Ê® ° Ì D´À ae 6Ì µ « ¶ Ç ¼ Ô á Ø ü á Ù ae cá Ù ¼ Ô Ð Å ¿è Ø • k© ÊÌ DÛ zú «Þ ³ 2ú ® ḱ¬ °Ì « 2¬ ǼÌ Ï &Þ û ± kḱÍ Û &Þ Ë® Ì D´À ae °Ì µ Ò » kÀ Ó Ô kÕ °Ö &À ª Ú êÒ ¶ kä D¼ ÊÚ ²Å © ÈÇ ýú °³ 6ß &É °ï"
          ],
          [
           ""
          ],
          [
           "¢¡ ¤£ ¦¥ ¦£ ¨ § ©£ ¡ \"! #¥ ¨$ % £ $ & (' 0) 21 3) 4 05 6 87 #9 7 @¥ ¨ BA C ($ D£ ¨) FE 5 HG I¡ P! ¤) B7 Q¡ ¤£ SR T (! QU V W ©1 7 X! #£ ¨A Y¡ ¤£ ¨ ` &1 ba c! ¤ \"U d I (U e£ gf hd i¡ P! Qp D7 Q¡ p ! ¤ q$ 0R T rG I¡ P1 s Ct vu vw ru yx © 4 ©w y \" t vu yw @ Q u yx © ed gf h i j lk m on ¦p ¦j rq ts vu w (x Xj zy n ¦ n ¨s { | {} t ~w u n ¦ |q ¦j zu H h oj zm o om ¨ p ¦ h P ip ¦ y P ~ t | h Q | Y # Y v g v y h # ¡ ¢ g v£ s v¤ ©u t v¥ ¦ P § t g© ª ¨« ¬ r 2® ȳ® °²± ´³ µ q°i® g± • ¶ v® ¶ ¦ t°ID&°²ª ¨« ¶ ¹ ª t ¶ º°¼» ª t± ¨v½ ²ª ¾¹ °c •½ ¼± ¨¬ ¿® gª •¬ À ¶ ¦© g Á ¶ vÂ Ãª t°c½ ¼« g© ¬ ¿Ä ½ ²¦Å (ª •°²± ¨ IÂ AE± t ¶ ÇŞÈ °É Ê® ȳË ¦° Y¬ À© H ¶ v± ¨¹ °± ª t ¶ 6Ì ª •¬ ÀÅ r¬ ¿Í ²°ª •« °vÈ Î ¶ ¦± •Å r¹ ÏÈ Ð¬ À¹ °TÈ {°É Ñ¦ ¦© H°c© ½ ²Ò ½ ´Å ¿ ¶ ¦® ~°¹ g¬ ÀÓ HÈ Î°ÔÌ g t°CÅ À¬ r© Ë ÇÌ g¬ À tª •¬ r½ ® ȳª •ª t°²± ¨© g 2¦© ¹ Õ BÖ Ø× ÚÙ {ª t°²» ª 4 tª •± •Ì g½ ¼ª ¨Ì ± •°c ª t ¶ Û°¼» ª t± ¨¦½ ¼ª vª •°¼» ª vÂ z± ¨vË ¦&°c© |ª • T½ ² ¶ ¦© |ª ¨v¬ r© Ä ¬ À© Ë vª •°²± ¨Ü¹ ° ¨½ ¼± ¨¬ ¿® gª •¬ ¿ ¶ Ç© g ²Ó TÈ {°D¦Å À t ¶ Ì t°v Å rv© Ë ¦Ì gȳË ¦°Ô& ¶ ¹ °Å ©ª • ¶ T¹ g¬ À •½ ´ȳ± ¨¹ Ê°²» ª •± •ȳÄ © °² ¶ ÇÌ \"¹ °c •½ ¼± ¨¬ ¿® gª ¨¬ ¿ ¶ ¦© g ²³ P¦© ¹ ÚD½ ´Å ÀÌ g tª t°± •¬ r© Ë &°²ª ¨« ¶ ¹ {ª t ¶ Ú •Ì g&v± ¨¬ ¿Í ²°D± •°c •Ì Å ¿ª ¨v© ª F¹ °²Ä •½ ²± •¬ À® ª ¨¬ ¿ ¶ ¦© g ²Ó ÝÈ °{ •« ¶ yµ Þª •« °°²ß ~°c½ ¼ª ¨¬ ¿à Ç°²Ä © ° • © ¶ vÂ P ¶ ¦Ì ± (&°²ª ¨« ¶ ¹ 8É Ò Yµ ácÒ Y ¶ vÂ P°²» ® ~°± tÄ ¬ À&°c© ª ¨ ²Ó â oã #t y¥ ¦ä ¢å rw © § t v ä ¤ã ae Ø°²ç g°c½ ¼ª ¨¬ À© Ë Ðª •« °ÊË v± • ¶ yµ Øª ¨« è¬ À© ÁÌ ª •¬ ÀÅ r¬ ¿Í ´vª •¬ À ¶ ¦© Á ¶ vÂ DȳÄ ½ ¦« ¬ r© °Î± •°¦¹ gȳÉ Å ¿°Êª •°¼» ª • ²³ é°¼» ª t± ¨¦½ ¼ª ¨¬ ¿ ¶ Ç© Áv© g¹ Á¦½ ²ê Ì ¬ ¿Ä •¬ ¿ª ¨¬ ¿ ¶ ¦© ë ¶ ¦Â ¾Å r¬ À© Ë ÇÌ g¬ À tª •¬ r½ Þì © ¶ oµ ØÅ À°¹ Ë v°Â z± • ¶ Ç¸Å Àȳ± •Ë ¦°½ ¼ ¶ ¦± •® h ¶ v± ¨« gv ÁÉ ~°²°c© ¶ Ç© °í ¶ ¦Â Ãª •« °¢î t ¶ v± ¾ª t ¶ ¦® Ä ¬ À½ ´ Îµ 2¬ ¿ª ¨« ¬ r© ïª •« °Ð© gȳª ¨Ì ± ¨vÅ ÔÅ Àv© Ë ¦Ì gvË v°ð® g± • ¶ ½ ¼°c • •¬ À© Ë ñ óò Ù ¤ô qõ Ú½ ¼ ¶ ÇȩÌ g© g¬ ¿ª gÒ vÓ %ö ÷ •v&® Å ¿°Ã ¶ vÂ hÅ À¬ À© Ë ¦Ì g¬ À tª ¨¬ À½ ì © ¶ oµ 2Å ¿°c¹ Ë ¦°éª •v± •Ë v°ª t°c¹ v¬ À© v® g¦ tª \"± •° t°cȳ± ¨½ ¼« v¬ À© ½ ´Å ÀÌ g¹ °c Ë v± ¨¦&v± ¨ ñ óø Ì ® g¬ À°½ 0v© g¹ × Úȳ» µ q°Å ÀÅ e³ úù ´û ¦û vü |õ ¨³ µ ( ¶ ¦± •¹ &½ ²Å rv • t°c ñ Õ Bvª tÍ ´¬ Àà vv • •¬ ÀÅ À ¶ vË ÇÅ ¿ ¶ ÇÌ év© g¹ × Ú½ ø °² ¶ yµ Ø© P³ ù ´û ¦û vý |õ I¦© g¹ É ¬ ÀÅ r¬ À© Ë ÇÌ gvÅ 2Å ¿°¼» ¬ À½ ² ¶ ¦© g ñ ÿþ ¦¹ î •T°ª 8¦Å óÓ r³ ù ´û ¦û ¡ |õ ¨Ó QÈ Ð« g¬ ÀÅ ¿°r« Ì gv© \"°¼» ® h°²± •ª • £¢ © g¹ i¬ ¿ª ¹ g¬ ¥¤ D½ ´Ì Å ¿ª ¤ª t ¶ ® ± • ¶ ¹ gÌ ½ ²°Ô°²» « gvÌ g tª ¨¬ ¿à Ç°Ô¦© g¹ ½ ² ¶ ¦© g •¬ À tª •°© |ª Å À¬ À© Ë ¦Ì g¬ À tª ¨¬ À½ ì © ¶ oµ 2Å ¿°c¹ Ë ¦°v³ ¦Ì ª t ¶ Ç&vª •¬ r½ i&°ª •« ¶ ¹ 4½ ²¦© Ô« °Å À® C¦Å ÀÅ ¿°²Ä à ¬ rȳª •°Ô® g± t ¶ ¦É Å ¿° ¦ • t ¶ ½ ´¬ Àȳª •°¹ µ 2¬ ¿ª •« Ãv© Ì ¦Å á½ ² ¶ ¦© Ä tª t± ¨Ì g½ ¼ª •¬ À ¶ ¦© PÓ Ö Q°± ¨¹ ° •½ ²± •¬ À® ª ¨¬ ¿ ¶ Ç© ²³ µ 2« g¬ À½ ¼« vȳ± •°&Ì g •Ì ¦Å ÀÅ ¿Ò ½ ²v± t°²Ä Â AEÌ gÅ ÀÅ ¿Ò ï ¶ v± •Ë Çv© g¬ ¿Í ²°c¹ ¢¬ r© ¢°c© ½ ²Ò ½ ´Å ¿ ¶ ¦® h°¹ g¬ À¦ ²³ Cv± t°Ûà vvÅ ÀÌ Ä ȳÉ Å ¿°HÅ r¬ À© Ë ¦Ì g¬ À tª •¬ r½ Êì © ¶ oµ 2Å ¿°c¹ Ë v°¦³ FÉ Ì ª « à Ç°Ê t°Å À¹ ¶ ¦Ȩ h°²°c© ¾ª ¨ȳ± •Ë ¦°²ª •°¹ b¬ À© 3® g¦ tª ò Ù ¤ô Å r¬ ¿ª t°± ¨ȳª ¨Ì ± •°vÓ 0ö 4 µ 2¬ ¿ª ¨« ¶ vª ¨« °± qª tÒ |® °c á ¶ vÂ QÅ r¬ À© Ë ÇÌ g¬ À tª •¬ r½ Bì © ¶ vµ ØÅ À°¹ Ë v°B± •°cÅ ¿Ò ÇÄ ¬ À© Ë h ¶ Ç© v« Ì gv© v¬ À© ª •± • ¶ ¦ t® °½ ²ª •¬ À ¶ ¦© v© g¹ v •Ì ® h°²± •à ¬ À •¬ ¿ ¶ Ç© P³ ½ ¼ ¶ Ç© g tª t± ¨Ì ½ ²ª •¬ r© Ë B°c© ½ ²Ò ½ ²Å ¿ ¶ ¦® ~°c¹ ¬ À¦ ¢¬ À Xê |Ì g¬ ¿ª •°q°¼» ® h°© g •¬ ¿à |°vÓ ö B¹ ¹ g¬ ¿ª ¨¬ ¿ ¶ Ç© ¦Å ÀÅ ¿Ò Ç³ •¬ À© g½ ¼°\"°²» ¬ r tª •¬ À© Ë Y°c© ½ ²Ò ½ ²Å ¿ ¶ ¦® ~°c¹ ¬ À¦ áȳ± •°Ì g •Ì ¦Å ÀÅ ¿Ò I± t°à ¬ À t°¹ Y°²à |°²± •Ò iÂ z°µ ÃÒ ¦°v± ¨ ²³ ¦¬ À© &&¦© |Ò é½ ²¦ t° Ì g t°²± ¨ ¦¢ h© g¹ Y¬ ¿ª ¢¹ g¬ ¥¤ D½ ´Ì Å Àª ¢ª t ¶ B ¶ ¦É gª •¦¬ À© Y¹ ° •½ ²± ¨¬ ¿® ª ¨¬ ¿ ¶ Ç© #Â z ¶ ¦± © °²µ 2Å ¿Ò h½ ¼± •°vª t°c¹ hª •°²± ¨ ²Ó Ö # ¶ &½ ¼ ¶ ¦® ~°iµ Ø¬ Àª •« hª •« °ivÉ ~ ¶ oà ¦°Å r¬ À¬ ¿ª ¨ȳª ¨¬ ¿ ¶ ¦© Ô ¶ ¦Â Q°¼» ¬ À tª tÄ ¬ À© Ë 2°© g½ ¼Ò ½ ²Å À ¶ v® h°c¹ ¬ rv ²³ v¬ Àª ¤¬ À ¤® ~ ¶ ¦ • •¬ ÀÉ gÅ À°@ª • ¶ 4Ì t°©2 t°v± •½ ²« °© Ë Ç¬ À© °8 ¶ Ç© {ª •« °DÈ { ¶ v± ¨Å À¹ {È Ð¬ r¹ °DÈ {°²É Î¦ IÚ •Ì É g tª ¨¬ Ä ª •Ì ª t°¦³ q°²» ® h°c½ ¼ª •¬ r© Ë {ª ¨« vª ½ ¼°± tª ¨v¬ r© È {°É ® ȳË ¦° Dµ 2¬ ÀÅ ÀÅ ¹ ° •½ ²± •¬ ÀÉ h°Îª •« °{ •Ì É g¬ Àª tª •°¹ ì ¦°Ò |µ q ¶ v± ¨¹ PÓ Õ 4 ¶ oµ q°²à v°± ²³ •¬ À© g½ ¼°ì Ç°Ò |µ ( ¶ v± ¨¹ Ä É g¦ t°¹ t°cȳ± ¨½ ¦« Ú°c© Ë Ç¬ À© ° F ¶ vÂ zª •°© T± •°¼Ä ª t± ¨¬ ¿°à ¦°ðÁ •Ì ± t® g± ¨¬ À •¬ À© Ë ÇÅ ¿Ò Å Àv± •Ë v°ð© Ì gFÉ h°± Ê ¶ ¦Â hÈ Î°É ® ȳË ¦° ²³ P¬ Àª \"¬ À Bª •¬ À&°²Ä ½ ² ¶ ¦© g •Ì ¬ r© Ë hª • ¶ h¬ À¹ °© ª •¬ ÀÂ zÒ Ô® gvË ¦° ª •« gvª Ø •vª •¬ À tÂ AEÒ Dª ¨« °IÌ g t°²± ¨ ¨ § g¬ À© Â z ¶ ¦± ¨ȳª ¨¬ ¿ ¶ ¦© C© °²°c¹ ²Ó ¨ © Ýà ¬ À°²µ ¶ vÂ ª •« g¬ À ð® g± t ¶ ¦É gÅ À°Ô³ Tµ q°è® ± • ¶ ¦® ~ ¶ ¦ t°¾& °²ª ¨« ¶ ¹ Wª • ¶ b¦Ì ª • ¶ ¦vª •¬ À½ ´vÅ rÅ ¿Ò ¢°¼» ª t± ¨¦½ ¼ª 6ª t°± •¸¹ °¼Ä •½ ²± •¬ À® ª ¨¬ ¿ ¶ ¦© g {Â AE± • ¶ ¦¸È {°É b® vË v°c Ê¦© ¹ ï •Ì gȳ± ¨¬ ¿Í ´°ª •« °cḩÓ D¨ © Tª ¨« ¬ r i® gv® h°± ²³ #µ q°&Ë ¦°© °²± ¨vÅ rÅ ¿Ò TÌ t°© tÈ Î°²É ® ȳË ¦° ïª • ¶ í± •°²Â z°± Ðª • ¶ íª •« ¶ Ç t°Á® gvË v°c Ð½ ¼ ¶ Ç© ª •¦¬ À© g¬ À© Ë ª t°²» ª ¨Ì gvÅ \"½ ² ¶ ¦© ª t°© |ª • ²³ B°¼» ½ ²Å rÌ ¹ g¬ À© Ë Hª ¨« ¶ Ç t°Tµ 2¬ ¿ª ¨« Ð ¶ Ç© gÅ ¿Ò ¬ ÀvË v° o¦Ì ¹ g¬ ¿ ¶ ð¬ r© Â AE ¶ v± ¨ȳª ¨¬ ¿ ¶ Ç© Ó (°c •¬ À¹ ° Úª •« g¬ À ²³ Iµ (° t® h°c½ ²¬ ¥¢ h½ ²¦Å ÀÅ ÀÒ Ûª •v± tË ¦°²ª ¹ °c •½ ¼± ¨¬ ¿® gª •¬ À ¶ ¦© g Â AE ¶ v± vª t°c½ ¼« © g¬ À½ ´vÅ ª t°± ¨ ²³ é¦© g¹ èª •« Ì © ª •°²± ¨ ðË ¦°© °²± ¨¦Å ÀÅ ¿Ò è± t°Â z°± Úª t ¶ ª t°c½ ¦« g© ¬ r½ ²¦Å ~ª t°± • ²Ó ¨ © É ± ¨¬ ¿°Â ÿ³ ¶ ÇÌ ± `&°²ª ¨« ¶ ¹ Ú°¼» ª t± ¨v½ ²ª • \"Â z± ¨vË ¦&°c© |ª • 4 ¶ vÂ È {°²É C® gvË ¦° ²³ hÉ g¦ t°¹ C ¶ Ç© C® gvª tª •°²± ¨© ñ ¶ ¦± 2ª t°cY® Å Àvª t°c ¦õ ª gÒ ® g¬ r½ ²¦Å ÀÅ ¿Ò ÚÌ t°c¹ vª • ¶ C¹ ° •½ ²± ¨¬ ¿É h°&ª •°²± ¨ ²Ó YÈ {°²É T® gvË v°c v± t°D¬ À© {¯ t°c© t°D t°¬ ¿Ä tª t± ¨Ì g½ ¼ª ¨Ì ± •°¹ Î¹ gvª •³ ¤É ~°c½ ²¦Ì g t°Õ BÖ Ø× ÚÙ ñ Õ 2Ò ® ~°± \"Ö Q°²» ª B× Úv± •ì Ì ® vÙ ¤¦© Ë ÇÌ vË v°yõ áª •vË Ç ® g± t ¶ oà ¬ À¹ °Yª ¨« °&ª t°¼» ª •Ì g¦Å ¢¬ À© Â z ¶ v± ¨vª •¬ ¿ ¶ Ç© ½ ¼ ¶ Ç© |ª •¦¬ À© °¹ T¬ À© ® gvË v°µ 2¬ ¿ª ¨« Ï{½ ¼°± tª ¨v¬ r© Ï tª t± ¨Ì ½ ²ª •Ì ± •°vÓ ÑÖ Ø« Ì g ²³ ( ¶ ¦Ì ± &°²ª ¨« ¶ ¹ Û± •°Å r¬ ¿° ¶ ¦© ÑÉ ~ ¶ ¦ª •« ÛÅ À¬ À© Ë ¦Ì g¬ À tª ¨¬ À½ {v© g¹ tª t± ¨Ì ½ ¼Ä ª •Ì ± ¨vÅ ¹ °c •½ ¼± ¨¬ ¿® gª •¬ À ¶ ¦© Ô® gvª tª •°²± ¨© g ²Ó È {°ÔÌ g t°¹ Ã t°²à Ç°²± ¨vÅ ò Ù ¤ô bª t°½ ²« © g¬ Àê Ì °c Yª t ¶ T t°c¬ Ä ¦Ì ª • ¶ ¦vª •¬ À½ ´vÅ rÅ ¿Ò ë® g± t ¶ ¹ gÌ g½ ¼°SÅ À¬ r© Ë ÇÌ g¬ À tª •¬ r½ ® gvª tª •°²± ¨© ²Ó È {°é½ ²¦Å ÀÅ Qª •« g¬ À Bȳ® g® ± • ¶ Çv½ ¼« © ò Ù ¤ô XÄ É g¦ t°¹ &°ª •« ¶ ¹ Ó"
          ],
          [
           "Importance of Pronominal Anaphora resolution in Question Answering systems"
          ],
          [
           "Term Recognition Using Technical Dictionary Hierarchy"
          ],
          [
           ""
          ],
          [
           ""
          ],
          [
           "¢¡ ¤£ ¦¥ ¨ § ¦¡ ¤¥ ¨© £ ¦ © © £ © £ ¨ \"! $# %£ ¦# '& (¡ ¤) %) 10 32 4 § 5 6© 7 98 4# %@ 9© A £ ¦ § B C 9# ED ¤£ FD ¨G ¢© IH P# %B I¡ ¤) RQ S7 TD VU \"¡ VU # E) %# W 9# %© @ X Y acb Y ad fe d hg i qp sr qt Tu 3v xw Ty t qb Y t p s 9 I \" v d Ee gf w qe 5h di ¤j kh f Tl e 5m 9n o w Tn j w qe 5i ah d Pp qv xw Tr l v dr v dw Ty sm t n vu xw ¨ 'h 9n zy 'y o {w r | h u w y 5} h T~o w y 5 w To y o e 1 v d e go {f h d s 9 y o { o l v d h y '~ x \"n y z u l I y l Ë Ã PÏ g 7 @« 7 i¼ g ¨ éµ 6Ò VÒ @É Ë © ß eª 7© ~ S© ' ( © I« ½¼ Í© | g # 1 y å« 7 © s°% °% s« ' ' x l x eĪ ¶ Sū g ¨À }T Á ¨´ I½ \"¿ ¥ VI UT F s! $# &% ' 4 6 U6 ¥h G « @ ' µ & V 87 µ AÓ ½W ¤ p § # e i »Ð ¢ ¶ |Ð u I 7 7 ¨ µ 6Ò V p iI b¿ ³ À }T 8 VQ ¥Á ³ ½ ¨T I¿ ³ ¨T ! ªT 8 1À b¿ tI b¿ 8 AT @À DR Â² ³ ½ ¨T I¿ vj ¤&³ À b½ uÁ² ` 3Ð u g x &® ¨° 7 ¨"
          ],
          [
           ""
          ],
          [
           ""
          ],
          [
           "The order of prenominal adjectives in natural language generation"
          ],
          [
           "¢¡ £ s¤ x¡ ¥ P¡ D¦ § ¨¤ x© pª s« p¥ t § £ s£ s¤ x© o¬ ® © o¤ °2± ³¦ sf± µ¦ p ¶ •μ¤ ¡ Dş¹ º¡ » o± ²¥ t § P± µ¦ p ¶ ¼2¡ » o± ¾½ ¬ Dμ¿ ¥ t¡ DÀ Á¦ f § t± ²¬ Â p± ²¡ D¤ t¤ x¬ p± ²¡ ¥ DÃ ¢¡ Ä« p¥ P¡ Å ¬ © o¦ p¥ t § ¤ t± µ¦ f § B¥ § t± ²¥ ® ¬ § t± ²© o¦ AE2 ¶ © p¤ x± ² § sÀ Ç ¤ x¡ 3» È § t± ²© o¦ É3ª s¡ 2± ³¦ p ¶ oÊ Ë § P© •¥ t¡ 2¡ ¬ § Ì fÀ ¤© o¦ p ¶ )8¥ P¡ § \"© ® ¬ D¦ pş± ²ḩ § t¡ ¥ xÌ ¤ § p¡ 2¦ p© pş¡ ± ³¦ ËÍ § ¤ x ¶ ¡ § Î § » o© o¦ p© pÀ )¹ Ï § s § Ðª s¡ ¥ t § t¥ À y § t¬ p¡ ¥ 8¡ D¬ ¨ ¢¦ p© oş¡ ± ³¦ Â¥ t© p« s¤ x¬ ¡ Á § » f½ © p¦ p© oÀ ¹ Ã }Ñ {¦ Ò£ s¤ x § t± ²¬ D« p3¤ Ó HÔ H¡ Õ« p¥ t¡ s± Ö § y § t© À y£ × § p¡ g¦ p© oÀ ¤± ³¦ s8£ s¤ x § Á© ® B© o¤ xḩØ ¡ § Ù Ã ÛÚ s© o¦ § P© u ¢© o¤ xḩØ ¡ § Ù Ã ÛÜ sÓ fÔ £± ² § ×gÝ ¡ D¤ x¹ p± ² ¶ o Þ£ s¤ x¡ ¬ ± ²¥ t± ²© o¦ °¦ p'ÅÝ ¡ D¤ x¹ ÐȪ© Ô º¤ x¡ (½ À y± ³¦ p± µ¦ p ¶ `À ¤ª p± ² ¶ o« p± ² § x¹ Ã ß à Dá e g W XV X p r g á â £ p¡ D¤ x¡ ± ²¥ ã¦ w± ³¦ p¬ D¤ x¡ D¥ t± ³¦ p ¶ )¦ p¡ ¡ )© ® sÝ o± ³¦ p ¶ 8DÝ ± ²3ª p2¡ ¶ ¡ D¦ p¡ D¤ tǟÓ H¬ ¬ D« s¤ t § t¡ åf¦ p}ª s¤ x© o×¬ © Ý ¡ D¤ t ¶ ¡ åÀ ¤« p2 § t± ¾½ 2± ³¦ p ¶ o« s)2¡ » p± ²¬ D3¿ ¥ t¡ DÀ Á¦ f § t± ²¬ }¤ x¡ ¥ t© p« s¤ x¬ ¡ ¥ ® © p¤ ş¡ Ý ¡ 3½ © o£ p± ³¦ p ¶ }ae ç ×£ s£ p2± ²¬ D § t± ²© o¦ p¥ Ã 'â £ p« p¥ DÓ wBÝ ¡ D¤ ¹ }¬ § t± ²Ý ¡ è ¡ 2ģ± µ¦ p¥ P± Öş¡ Áae ç yḩ« s¤ x± ³¦ p ¶ ` § p¡ 83¥ t § w¹ ¡ D¤ ¥ 2 s¥ 2ª é¡ ¡ D¦ § p¡ ® ¥ t § ş¡ Ý ¡ 2© o£ sÀ ¤¡ D¦ f § )© ® ¶ ¡ D¦ p¡ D¤ ± Ö¬ 3¦ p ¶ o« s ¶ f¡ ê¤ x¡ (½ ¥ t© o« s¤ ¬ ¡ ¥ DÃ ë ¡ Ý ¡ D¤ t § P § t¡ DÀ Á£ p § t¥ ` sÝ ¡ uª é¡ ¡ D¦ ì£ é¡ D¤ ® © o¤ tÀ ¤¡ Î § t© ¬ © o¦ s¦ p¡ ¬ § í3¤ x¡ Dş¹ •¡ » p± Ö¥ P § t± ³¦ p ¶ •© o¦ f § t© 2© ¶ ± ²¡ ¥ DÃ Ñ {¦ Ç î ¶ ¡ D¦ p© )¡ § £ūÃ ³Ó Ù Dï ï ð Ê Ó o¨ë £ s¦ p± ²¥ s¿ ñ X¦ p ¶ fȪ± ²¥ sª p± ²Ȫ± ³¦ f½ ¶ o« spş± ²¬ § t± ²© o¦ s¤ x¹ ± ²¥ X« p¥ t¡ ) § t© Ç ¥ t¡ DÀ ò± µÊ P« p § t© oÀ Á § t± ²¬ D2Ȫ¹ 2± ³¦ s´ë £ s¦ p± ²¥ ¼¦ póñ X¦ p ¶ fȪ± ²¥ 1 § » p© o¦ p© oÀ ò± Ö¡ ¥ &¡ » f½ § ¤ t¬ § t¡ ¸® ¤ x© oÀ °ô õ 5ö ç ÷ Ç î 2Ý ¤ øÓ Ù Dï ù ú Ê X¦ pÕç ô 7û Fü $÷ Ç uý ¤ x© o¬ § P¡ D¤ Ó Ù Dï fù ú Ê Ã ë ± ³À ¤± ²3¤ x2¹ Ó Î°¥ t± ³À Á£ p2¡ « f½ § t© oÀ y § t± ²¬ þ£ s£ s¤ x© p¬ ¨ ® © o¤ ×2± ³¦ sf± µ¦ p ¶ ë £ s¦ p± ²¥ § (» ½ © o¦ p© oÀ ò± Ö¡ ¥ g¡ » p § ¤ t¬ § P¡ ¸® ¤ © oÀ •ô õ 5ö ç ÷ i § P© } B© o¤ ḩØ £¡ § Ç ÿ ± ²2Ȫ¡ D¤ Ä¡ § uūÃ ³Ó Ù ï ï sÙ Ê ¥ t¹ s¦ p¥ t¡ § t¥ s± ²¥ Ä£ s¤ © o£ s© ¥ P¡ þ± ³¦ Ç ¡ ± ² ¶ of« ×¡ § êūÃ ³Ó Ù ï ï Ú Ê Ã Òâ £ p¡ `Ô H© o¤ t´¤ x¡ D£ s© o¤ § t¡ }± ³¦ Ç ¡¢ ¦ p± ² ¶ o f § Á¦ p¤£ « s3Ó Ù Dï ï ð Ê ® © o¬ D« p¥ t¡ ¥ ¤© o¦ ¢ § p¡ ¬ © o¦ f½ ¥ t § ¤ P« p¬ § t± ²© o¦ ×© ® ¦ë ¡ D¦ p¥ (« p¥ DÓ 2¢3¤ x ¶ ¡ gó¦ p© Ô £2¡ ş ¶ ¡ gª s¥ t¡"
          ],
          [
           "A Morphologically Sensitive Clustering Algorithm for Identifying Arabic Roots"
          ],
          [
           "¢¡ ¤£ ¦¥ ¨ § ©¥ £ ¦¥ ¨ ¥ § ©¡ ¤£ ! \" $# %# %& (' ) 0 21 3' 4¡ 5 6 7 98 ¨@ BA ¢C 3D FE 2G IH @ QP SR S@ BT U V XW ¦Y a(b dc eV Xf gb ih qp Ir sh tc eW 3u vb wV XxY qf 3y f vp h t(c Y ab w h tf F X V Xf 3 V f 3 tV X( w b h qp I ¨V Xf 3f v ( ed aY qf 3 Y gf 3 d Y qy 3V Xd W 3f 3 Y vh v Bi kj Sl vj Sm qn o Bp rq Bs at go Qs vu vw 3x ey zp 2{ }| z3 qu zu { ) t g| D R SP vC ¦ qR ¤ z ¢ e r 3 z )"
          ],
          [
           "C¦ ¦ D4 '% & E% &( )4 D¦ F4 G6 IH P §Q R !¡ ¤#7 S4 Q R£ UT © V GW RX Y Iba 8dc $e gf h i qp sr ut wv !i qx y )i p )r E w v ! I v ! p Uh !y y ¥ ©x y d e f w v ! I v ! )i v ! hg t wv &i x y i si p )r e kj $y i ml )i qv ! j $y i ml )i qv ! In o po po q r s p Ap A t Iu i wv s i qp sr fg xd yy z hg {d m !| } e I ¤ ! R ¤ w ¤ i s A k s p © y )y s xe Rh !i v e Rj $y i yl )i v ! i t h y v fp Ay r I R !i s hg &v D z e j $y i yl )i v ! un o po o pq o s v ! fg v & hv ©t Ii s A ) p d s t e I ! p ¡ E¢ ¤£ ¥ ¦ § p© h£ f § p£ fª A« ¬ ® f¦ 3 § °®± ¦ ² U¡ d ± )³ )µ ¦ ´¦ § p² ¢ ´w£ ¶¢ ¤£ ´¨± ² U¬ § ¢ q¦ ´© µ ± ¦ )¦ • ©£ § pū¦ ¸£ f § ¹¦ • ¡ Gḡ£ ª ± )w¢ £ ¥ º °3« p£ ´¦ ª ´¢ qª » § p© f£ f § p£ fª A« ¢ £ ³ ¼ $¡ dÏ § ¢ q)ª A½ f)¯µ ¡ ¿¾ µ ¢ ¤£ ÀÁÀ£ ¬ ´£ fª A¦ ± ¦ £ f¦ • « 3 § Â¦ £ f § S¦ £ £ ´¦ ´ § ½ fÃ¢ ¤£ ¥ ¦ £ Ä Å ÇAE IÈ !¬ ® f¦ 3 § )ª µ ² ÉÊ Ë 3)3½ ¯± Ä q¦ ´ § ´ ´ ¸ ¤¨± ¦ £ fª A °¨± )± ± ¦ 1Ì ¦ ± ¢ ½ fÍ ¨Ì Ä qÎ °¦ £ f¦ ¤« w¢ qÏ¦ ¸£ f § ª A ² É© f¦ ´¢ p¢ ¢ ´« B¡ E¢ śµ )µ ¨± 3« p£ ´¦ ª ´¢ qª °®± ¦ ² U¡ d ± )³ §¦ ± Ç¦ § § ± )3 § !Ê Ð f Ñ ¸ W xÒ ¤Ó ¤ p wW R Ô Ṏ¦ £ £ ´¦ ´¨)µ Ṏ3« p£ ´¦ ª ´¢ qª 8 § p© f£ f § p£ fª A« Î f¬ ´¡ §£ B ÄÖ p¢ bª ¦ ×½ £ p¢ ´Ø¢ £ »¦ 5 ¢ £ ¥ ½ p¢ q¯´¢ qª ÎÄÖ © ± 3¬ w¢ £ ¦ ª ª A ± § ¢ £ ¥ ´ ¦ £ É¦ © © ± ¦ ª µ É´ ©Ù $© f£ f § p£ fª A« Å ± ¦ ² É² ¦ ± §Ú 3Û 3£ p¢ Ü ¨± ¼ fÝ Þ ß Þ pà )µ ¦ ´ª ¦ ¸£ É f¨)± ¦ ª A § f¦ ª ³ I´ Ú Å Ç¦ ¢ °² ¦ £ R¼ Ý Þ á ß â ã $¦ « ¼ xÝ Þ á ä fâ å E p¢ £ ¬ 3 £ R¼ ÑÝ Þ pae ç pà AÊ ¤Ô ¨± è ½ p¢ ± é3« p£ ´¦ ª ´¢ qª © § p© h£ f § p£ fª A« ´ g f¥© ± ê 3ª ´¢ Ì ¼ x¦ £ f § Pª ¦ © ´½ ± É£ £ ¬ ®© ± ê 3ª ´¢ Ì 3« p£ ´¦ ª ´¢ qª g© µ £ ² É£ f¦ P¢ £ S q¦ £ ¥ ½ f¦ ¥ Ï¡ §¢ )µ ª A £ ¬ ¯)± ¦ •¢ £ ´ § § pÄë f£ § g¡ §¢ )µ ± ¨°¨± £ fª A¨´ )µ ¢ q¯ © ± ê Ãª A¬ ´¢ Ì ¯³ Ä ¨´ £ Ú È R¦ •¢ ¦ £ f § ¥ã ½ f¦ £ ¥ h¼ &Ý •Þ Þ ì Râ pÈ R¦ •¢ ¦ £ f § ã '½ f¦ £ ¥ f¼ Ý Þ Þ ì ¦ â È R¦ •¢ f¦ £ f § ©ã '½ f¦ £ ¥ f¼ Ý Þ Þ Þ ¦ â È R¦ •¢ f¦ £ f § ã '½ f¦ £ ¥ f¼ ¥Ý Þ Þ Þ !à AÊ Û Eµ ¢ bū¢ bĪ § ¢ í R¨± £ °®± ² #¦ © ¬ © ± ¦ ª µ ¯)µ ¦ ´¦ î ¡ Õ² ½ p ´¢ © p ¨µ ¦ § ¦ £ f § ¥ª ± )3¬ ¢ £ ¥ Ç § p© h£ f § p£ fª A« ¢ £ ³ ¯Ú ã '½ f § 3 £ R¼ Ý •Þ ì ä fâ AE gÄ ï ð ª A½ ³ ¼ Ý Þ ì ì â ¥Ä ´¦ ± p¯´¦ ¼ Ý Þ ì ì â éã $¦ ê w¢ Ãð ª A Ì ¦ ¼ ÉÝ Þ Þ Ý ¸à ñÊ 1¡ d¦ • q3 ± è ½ p¢ ± ¨)µ ¨± Ä q¦ ´¢ £ f¯µ ¢ © Ø f¨´¡ §£ ò¦ g¥ Ì ¬ ¨± £ ± ¦ £ f § S¦ • ¢ ´ § p© f£ f § p£ ´¯´ hg¢ ¤² U² É § ¢ ¬ ¦ ´Ê Û §µ ¨± ©¦ ± $£ ©¢ £ ´¨± ² É § ¢ q¦ ´© µ ± ¦ )¦ • R£ § p¦ ó¢ £ ôÀ ² É¤ )µ ¨± © ± ê 3ª ´¢ Ì ¬ § p© f£ f § p£ fª A« p¬ ® f¦ 3 § © f¦ ± Ã¢ ¤£ ¥ S¦ © © ± ¦ ª µ ¯Ú ã Ä ¡ §¢ ¥ f¼ ÉÝ •Þ ì á â U¾ ¤ Ì ¢ £ ¥ ¬ ´ £ R¼ !Ý Þ Þ ç â ¾ ½ ± )´¢ £ ¦ £ f § gÅ G£ )µ ¢ q¦ • ¼ !Ý Þ Þ ì â põ ½ ± ¬ § p £ g¨´¦ • Ê ¼ RÝ Þ Þ ì â ö G¦ ¸¥ ¦ f¼ RÝ •Þ Þ ÷ pà ñÊ ø Ïw¢ ² ¢ q¦ ± ¦ © ¬ © ± ¦ ª µ µ ¦ Ñ f£ É¦ § p © ´ § $¢ £ éÀ ² É¨± ª A£ ´¡ § ± )³ ¯ £ 5¾ µ ¢ £ 3¨Ú ã ½ f¦ ¸£ ¥ Õ¨´¦ • Ê ¼ ÉÝ •Þ Þ ù â ú x½ f¦ ¸£ û¦ £ f § ã '½ f¦ £ ¥ f¼ !Ý Þ Þ ù â hü µ ½ ¦ £ f § gã ½ f¦ ¸£ ¥ f¼ !Ý Þ Þ ä à AÊ ø R¦ ¯´¦ ± )´¼ ý¡ dẍ² ¥¦ £ ½ f¦ î « ¥ ¢ Ì © f¦ ± 3¤¯)± ½ fª ´½ ± ¦¸£ £ ´¦ ´¢ £ ´ þ¦ ¥3² ¦ • §¾ µ ¢ £ 3ẅ ¥ ¦ • ´ÄÖ ´ª A ± ¬ © ½ fýÊ Û §µ ¨´ÄÖ ´¢ qdÿ ý3¥ ² É£ ´ § ¡ ¦ £ f § ´¦ ¥ ¥ § !¼ ¦ £ f §"
          ],
          [
           "Processes that Shape Conversation and their Implications for Computational Linguistics"
          ],
          [
           "Í× Ò Ü ×Ø Ò ×Ý×Ø Ñ× ØÓ ×ÙÔÔÐ Ñ ÒØ ×Ñ ÐÐ ÑÓÙÒØ× Ó ÒÒÓØ Ø Ö ÑÑ Ø Ð Ö Ð Ø ÓÒ× ØÖ Ò Ò Ø *"
          ],
          [
           "Lexicalized Stochastic Modeling of Constraint-Based Grammars using Log-Linear Measures and EM Training"
          ],
          [
           ""
          ],
          [
           "A Unified Statistical Model for the Identification of English BaseNP"
          ],
          [
           "A Polynomial-Time Fragment of Dominance Constraints"
          ],
          [
           "Spoken Language Technology: Where Do We Go From Here?"
          ],
          [
           "Robust Temporal Processing of News"
          ],
          [
           ""
          ],
          [
           "d fe Dg h Si qp sr tr vu xw ¨w y S X t Ag ci A ` Q 0 qd y e Vf g hf Gi j sk l ¦j mi e g ny f o pi q sr Qt qo ¦t u So pv e w Vo pf lx yi j {z Ai q| hx qi } i q Sqi n l S ` S ¦| ¨x i l| ¨ z Ai q| hx qi q l q q q Q S qy d y f w Vo po 0o w q w q Q f i q| hx i S y t d"
          ],
          [
           "¢¡ ¤£ ¦¥ ¨ § © ¥ © £ ! #\" ¤¥ ¨ § © $ &% (' )£ ¦© ¥ 0 1 2' 43 5 ¤6 )7 98 9 § ¡ &@ ¥ ¨A B¡ C8 D ¤© FE G£ ¦¥ 0 ¤ § 7 9¥ 28 H' I P § 8 D ¤6 QE ¢R S' 4T U© WV I© X7 YE `£ ¦¥ 0 ¤ § 27 H¥ ¦8 H' ) & ¥ © £ ba !© c7 H© A ¦8 H' ) d e gf ih cp q cr s 2t vu xw y w ¦r c e Hh d y t q Xr I U 2d e gf xh ji k l mf n 2k xf o ¤l qp rl qs tl q n u v Cw jx 9i y z vz 9{ l q G| Cn } m ~{ l qs De ~ k ~{ h xu { s tk 2 #l | ¤k xs ~{ l qs De x~ k #~{ h w 2y h Bq cr s 2t s v j cy ¢u v Cw jx 9i ry s Dk f | { h De tf xh t ~{ l ms 9e ~ k #~{ h w ¦ D ¡ £¢ ¤ H ¦¥ 5 § G D© «ª ¬ 9 ® ¤ 9° Hª ²± ª °¤ ³± ´± µ G 9© i ¶ ẗ© ª ¬ S 9 ® ¤ H° Hª ²± ¶ 9© ± ¥ «¤ • )© «ª °D© ¹ 9µ m± D ¶ ¤ ¤ º ® H g Hª °® « 2º #¤ Hª °¤ ¢ ® ¥ »¤ t¼ g 9¼ H ´ 9 ® «¤ µ m ½ 9© Y¤ H ® ¶ ` Hª ¬ ¶ ¼ ¤ 9ª ¬ ¾ ¿ «ª °°ª ¬ ¾ ¼ À« Á¡ t ¤ Â X¢ ¨ § ` iª °¤ )¼ ¤ H ¦¥ U ± gÃ « ® ¥ U 9© 2 ¾ 9© Ä± µ « t ¤ Y¼ «Ä ± S¤ ® «g g¡ 2 ¾ 9© iª ¬ Å± 9¥ Y ± ½ H ¦¥ r¼ g 5 ® ¶ j¿ «ª ²¾ ¼ #¡ ª ² Hª ² ¦¤ Gª ¬ ½ 9 ® ¤ H° Hª ²± ¦AE À¿ ¼ Çª ² U¿ H± ¼ ¾ © ± ¼ 9© 9± ®¿ «2 ¶ È± µ 2 9 «ª °¥ «2º ¤ª ¬ g H ¦ ¤ H ¦¥ ŗ D ¤ Â É Ê « H± ®± ®¤ X À ¶ C± ¥ ¦• )© ª °ẗ© ¤ D© ± H ¤ Y 9© 52 ¾ 9© Ë± µ « t ¤ ± © 9 ¤ g¡ £2 ¾ 9© ½ ® ¥ ½ H ¦¥ ¼ g ¦¤ Ç ® ¶ j¿ «ª ²¾ ¼ #¡ ª ² Hª ² ¦¤ Sª ¬ » 9 ® ¤ H° Hª ²± Ì¿ º F¼ ¤ Hª ¬ ¾ ¹ £• ± ¡ 2 Í ¦Î 9 ® «¤ H° Hª ²± Ï« D Ð¤ ¦2 ¦g Hª ²± ¶ 9© ± ¥ ¦Â Ñ Ò 9© Ó r 9¤ B2 Í ¦AE 9© H± ® D ® ¤ H° Hª ²± ŗ D ¤ ! 9 ¤ ¦2 ¦g ¦¥ Î¿ º ¼ «¤ Hª ¬ ¾ U `© º #¿ « 9ª °¥ ¶ C 9© ± #¥ ± µ gÃ g gÃ #¡ ® ¶ «2 ` ¶ Hẗ© ª ¬ ¾ Î ® ¥ ³¤ ¶ ® ® Hª °Gg± #¡ ¤ H 9 ª ¬ ® Î¿ º È 9© ¦¤ 9 ®¼ D¼ ¤ Â bÑ Ô 9© Õ¤ H ¦ẗ¡ ± «¥ Y2 Í ¦AE B 9© ¶ C± ®¤ Ò 9¼ 9 9 ® «¤ H° x¡ Hª ²± ¢« D Õµ Ö± × 9© GÍ 9¿ ½ŗ© 9 ¤ Gª °¤ ¤ H ¦2 ¦g ¦¥ Ë ® ¶ ± ¾ Õ 9© Î¤ ¦2 ¦g ¦¥ Ë 9 ® «¤ Á¡ ° Hª ²± »« D ¾ ± 9ª ² ¦¤ Õ¿ º ¼ «¤ Hª ¬ ¾ ¤ H H Hª °¤ Hª °¨ª ¬ µ Ö± D ¶ Hª ²± ¹± µ ` 9© ½ H 9¾ ° ® ¾ ¼ ¾ Â 4¢ º Å¼ ¤ Hª ¬ ¾ ¢ 9© ª °¤ Y H± ®± ®¤ ¦¥ ¶ ± #¥ « ¦AE • c ×g± ¼ °¥ ¤ 9© ± H 9© 2 ¾ 9© ± µ « D «¤ Ò• ª ² 9© ± ¼ ! 9 ª °¤ Hª ¬ ¾ Ç 9© × ® ¶ ¤¡ ¿ rª ²¾ ¼ ª ² Hª ² ¦¤ ª ¬ Ø D ® ¤ H° Hª ²± 2Â Ù Ú r W Xq X e £ Br Û 9 ® ¤ Hµ m ¡ £¢ ¤ ¦¥ § G D© ª ¬ B 9 ® «¤ H° Hª ²± ¶ C 9© ± #¥ ×¾ 9 °2º Ø© ¤ µ m± ¼ ¤ ¦ŗ¤ Ü Ý ª ¬ ¶ ÇAE 2Þ ¦ß ß xà á Hâ ¶ C± Dŗ© ± ®2± ¾ ®ª ° Ȳ ® 2º #¤ 9ª °¤ ¢± µ ¤ H± ¼ 9g i° ® ¾ ¼ ¾ AE ¤ º ® H g Hª °G ® 2º ¤ Hª °¤ ± µ À¤ ± ¼ 9g U° ® ¾ ¼ ¾ AE ¨¤ D¼ ẗ¡ 9¼ H Ë 9 ® ¤ Hµ m S ± ( 9© Ë H H¾ Ä° ® ¾ ¼ ¾ AE 5 ® ¥ ¤ g Î¾ 9 Hª ²± Ë± µ C 9© H H¾ Ê° ® ¾ ¼ ¾ Â Ñ ½¤ D¼ g 9¼ 9 ` 9 ® ¤ Hµ m Ç¤ ¦¦AE ) 9 ® ¤ µ Ö Ø« D ¤ ¼ ¤ H ¦¥ ± ¿ 0¾ 9 ¦ H2º 2 gÃ ª ° °ª ²ã ¦¥ Çª ¬ ± 9¥ c ± ! 9 ª °¤ 9© ¦¼ 9 gº S± µ ¤ 9 ® ¤ H° Hª ²± 2Â ä t #¡ £¢ ¤ ¦¥ § G D© ª ¬ j 9 ® ¤ H° Hª ²± ÎÜ X¢ ¨ § G Àá Hµ Ö± D ¶ ¤ ¨¿ ± 9© ¤ º H g Hª °å ® 2º #¤ 9ª °¤ ae ® ¥ ¤ D¼ g 9¼ 9 ç 9 ® «¤ µ m ¤ Hª ¬ ¶ ¤¼ 2 H ® ± ¼ ¤ H2º ¼ «¤ Hª ¬ ¾ j 9© ª °¤ 2 gÃ ª ° °ª ²ã ¦¥ G« D ¤ Ü è ¦¥ « AE ´Þ ¦ß ß é á HÂ X¢ ¨ § ` ® ê¤ 9© ± H Ì 9© 9 ® «¤ H° Hª ²± ¹ Hª ¬ ¶ C Õ ® ¥ ë 9 ª °¤ ¢ 9© ¢ ¦¼ D gº ì± µ ¤ º H g Hª °Ô ® 2º #¤ 9ª °¤ ½¿ º ä¼ ¤ 9ª ¬ ¾ ¹ 9© Ë2 gÃ ª ° °ª ²ã ¦¥ « t ¤ Â Û íÓ « D¤ AE i¤ Hª ¬ «g Ì °S« D «¤ ¹• H î¤ 9© ± 9 ŗ© 9 ¤ g¡ £2 ¾ 9© S« t ¤ AE I ¶ ® ®º ¢¤ º H g Hª ° ® ¶ C¡ ¿ «ª ²¾ ¼ «ª ² Hª ² ¦¤ Ø± #¦¼ 9 H ¦¥ Sª ¬ ¢ŗ D S ¶ HD© «ª ¬ ¾ Â Û ¤ H ¦¤ 9¼ 2 AE « D ¤ )¿ ¦ ® ¶ !2± ¾ I ± ×¤ g g¡ 2 ¾ 9© Ê ± Ç H ¦¥ r¼ g C ® ¶ j¿ «ª ²¾ ¼ ª ² Hª ² ¦¤ Â ¤¢ ¨¼ AE B¤ g g¡ 2 ¾ 9© « D ¤ Q ®¼ ¤ ïŗ D ¤ Hŗ 9¤ ¦¤ H¤ 9± ®¿ «2 ¶ ÇAE ð¿ ¦ ®¼ ¤ ñ 9© ¤ H ® ¶ ¼ « ¶ j¿ ð± µ ¤ g g¡ £2 ¾ 9© Å« D ¤ Ø ® Sg± Í `2 ¦¤ H¤ Ç¤ #¡ g ¦¤ 9© ® ! 9© ¤ H ® ¶ C ¼ « ¶ j¿ ± µ «ŗ© 9 ¤ g¡ £2 ¾ 9© « t ¤ Â ± ± Í Dg± ¶ C 9© «ª °¤ H± ®¿ «2 ¶ UAE É H ® ¿ j ® ¥ U è ¦¥ « `Ü ÁÞ ¦ß ß ò «á ¥ ± ® ¦¥ gÃ ® ¶ «2 g¡ £¿ r ¤ ¦¥ G ŗ H± ® D© ¦Â 0ó ± • c Í ¦AE 2 gÃ ® ¶ «2 g¡ ¿ « ¤ H ¦¥ Î ŗ H± ® D© © « ¤ C¤ ± ¶ C Ø H± ®¿ «2 ¶ ¤ Â ô Ò ± µ 9© Î H± ®¿ «2 ¶ ¤ Uª °¤ G 9© ` g• c± S¥ «ª öõ 2 H ® YÍ 9¿ «¤ `± µ H H¾ ¨° ® ¾ ¼ « ¾ I H è Ò g• c± C¤ ¶ ® ® Hª ° °2º ¤ Hª ¬ ¶ ª °° ± ¼ r ¤ X ¤ ± ®¿ ÷ Á ¦g H¤ H ¦¤ H ¦g Hª ²Í ¦2º 2 9© ± ¼ ¾ © × Í 9¿ ± µ ¤ ± ¼ 9g Ä° ® ¾ ¼ ¾ Ä H è ¦¤ ³ 9© Å ± ¼ « ¤ 5 ¤ ³ª ² H¤ ± ®¿ ÷ Á ¦g H¤ Â Uø ± ¤ gÃ ® ¶ «2 AE `Ý ± H ¦ ® ÊÍ 9¿ Õù qú üû ý Áþ ®û ÿ • ª ² 9© ¹± ®¿ ÷ Á ¦g H¤ Sù ¡ £¢ ¥¤ Ü ¿ r¼ ¤ gá Hÿ ¤ ® ¥ äù §¦ Cû ©°Ü v© ± 9¤ á Hÿ ª °¤ 9 ® «¤ H° ¦¥ Çª ¬ ® ± ¾ ®°ª °¤ 9© ×Í 9¿ «¤ )ù H è ÿ « ® ¥ Gù 9ª °¥ ÿ H ¦¤ 9 ¦g Hª ²Í ¦2º Â § G ® º Y 9 ¦¤ ¦ 9D© ¦¤ • H ¥ ± C ± U¤ H± ®2Í 9© ¶ UÂ © º ¼ ¤ ¦¥ Î¤ º H g Hª °Øg± ®°2± # Hª ²± iÜ Ý ª ¬ ¶ ú Òû © ¬AE Þ ¦ß ß é #â B ¦ú jû © qAE !Þ ¦ß ß ß á HAE I¤ H ¶ ® Hª °¨g± ¤ D ª ¬ ® ¿ º Õ 9© ¦¤ 9 ®¼ D¼ ¤ Ü v § U± #± ú û ! qAE jÞ ¦ß ß ò á HAE Ò¤ ¶ ® ® Hª °μÖ ¦ 9¼ H ¦¤ ØÜ ¬ ¶ C \" ¦ú Iû ! qAE Þ ¦ß ß ß á Ò ® ¥ ¤ H H Hª °¤ Hª ° ¯ ª ¬ µ Ö± D ¶ Hª ²± ½Ü ¢ H± • I # ¦ú Àû ! qAE 0Þ ¦ß ß Þ â %$ À ¾ ® ® 5 ® ¥ Ñ H ª AE Þ ¦ß ß xà á HÂ ¢ ¨¼ • )© ¤ º H g Hª °g± ®°2± # Hª ²± Gª °¤ ¼ ¤ ¦¥ AE W ¦ D© Î gÃ ® ¶ «2 µ m± C GÍ 9¿ © ¤ j 9© Ç¤ H ® ¶ C gõ 2 ¦g j ± ¤ ¦2 ¦g ¤ 9© Ø H± ® !• ± 9¥ Î¤ ¤ ×± µ 0 9© Í 9¿ ¦Â '& ± «¤ £( #¼ ® H2º AE ª ² ª °¤ ×¥ rª !) ¦¼ 2 ± Î± ®¿ H ª ¬ 9© Ç H ¦« H ¦¤ H Hª ²Í ` gÃ ® ¶ «2 ¦¤ ® «¥ ± ¥ ¦¤ Hg Dª °¿ ¤ ¤ H ¦¤ • )© ª °ẗ© ³© Í Y¥ ± ¶ ª ¬ ¤ ¤± µ ¥ «ª öõ 2 H ¤ Hª ²ã Â Ñ ´ ¥ «¥ «ª ² Hª ²± 2AE !• )© S± 2º ´¤ ¶ ® ® Hª °g± ¤ 9 ª ¬ ¿ º Y 9© ¦¤ H ®¼ D¼ ¤ ª °¤ j¼ «¤ ¦¥ ¦AE ª ² jª °¤ ¥ rª !) ¦¼ 2 ± Y± ®¿ H ª ¬ ¾ ± #± #¥ G 9 ® ¤ H° ¦¥ • ± 9¥ «¤ I¿ ¦ ®¼ ¤ ± µ 9© ¤ª ¬ ¤ 9¼ 0) C¡ ª ² 9© ¦¤ H ®¼ D¼ ¤ H± ®¿ r2 ¶ ÇÂ Û ¤ 9 ¦¤ 9¼ 2 AE • ¼ ¤ H © º #¿ Dª °¥ × ¶ C 9© ± #¥ ± µ B¿ ± 9© gÃ g gÃ ® ¶ «2 I ¶ HD© #¡ ª ¬ ¾ Y ¦D© « «ª ( #¼ • ª ² 9© ¤ º ® H g Hª °Øg± ®°2± Hª ²± ³ ® ¥ ¤ ¶ ® ® Hª °g± «¤ 9 ª ¬ ¿ º Ø 9© ¦¤ 9 ®¼ D¼ ¤ Â É Ê )¼ «¤ ¨ŗ© 9 ¤ g¡ £2 ¾ 9© C« D ¤ ± ¤ ± ®2Í « Á¡ D !¤ H« 9¤ ¦¤ H¤ B 9± ®¿ «2 ¶ Ä ® ¥ H± ®± ®¤ g• c± I2 Í ¦¤ ¦2 ¦g Hª ²± U ¶ 9© ± ¥ ± µ B D ® ¤ H° Hª ²± Ø« D × ± ¤ H g¡ ¥ r¼ g Ò 9© ! ® ¶ j¿ «ª ²¾ ¼ ª ² Hª ² ¦¤ 0± µ « D G ¶ Hẗ© ª ¬ ¾ Â 1 2 43 #5 £y 76 By 85 2 w ¦r 5 üw e ü r @9 ¤w y r y 85 £y r e ü Br BA (y W É Ê ½¼ «¤ ³± 2º ì ¶ C± ± ¡ £°ª ¬ ¾ ¼ 9 ¦¤ ± ¼ 9g ¦¤ ± Å H g¡ ¥ r¼ g ) 9 ® ¤ H° Hª ²± Ø ® ¶ j¿ «ª ²¾ ¼ «ª ² Hª ² ¦¤ Â WÑ g ª °¤ ¬ ¶ C± ®¤ ª ¬ ¶ ¤¡ ± ®¤ H¤ Hª °¿ «2 ± ´ª ¬ g± 9± 9 5¤ ¶ ® Hª °è ± • 2 ¦¥ ¾ ± µ ¤ £• ± ¢° ® ¾ ¼ « ¾ ¦¤ Â ä © ¶ j¼ 9¼ Òª ¬ µ Ö± D ¶ Hª ²± ¿ £• S £• ± ³¥ «ª öõ 2 H U° ® ¾ ¼ ¾ ¦¤ ` ® S¿ Ê¥ g¡ ¤ Hg 9ª °¿ ¦¥ Ô ± Ê¿ º Å± g¡ ü ± ¡ ü± ½ ¶ ««ª ¬ ¾ ¢¿ r¼ ¿ º g± ® 9¤ g¡ g ¶ ««ª ¬ ¾ Ü ¬ ¶ C ú û © ¬AE Þ ¦ß ß ß á HÂ Xø ± X gÃ #¡ ® ¶ ŗ2 AE ÒÝ Ò± H ¦ ® ¤Í D¿ ŗ© 9 ¤ H ŗ D ù ED I GF H!¢ I¤ P¤ Q¢ ý þ ®û ÿ ® Ì¿ Ä 9 ® ¤ 9° ¦¥ Ìª ¬ ± Ìù • c ¦ RD I 0ÿ °AE ù • 0 9ª ² SD I 0ÿ °AE ù g± ¶ ± ®¤ TD ) ÿ °AE ù ¼ ¤ SD I 0ÿ °AE ± ¨ù ¤ H ¥ D I 0ÿ °Â Ñ gµ UD ) ë© « ¤ C ¶ ¦ ® ª ¬ ¾ V © ¦ ¥ ¡ ü¾ ¦ XW üAE c 9© 9© IÝ Ò± H ¦ ® ×Í 9¿ ŗ© 9 ¤ )« D ® ¿ ) 9 ® ¤ Á¡ ° ¦¥ ½ª ¬ ® ± Õù • c ¦ \"D ) ÿ ± Uù ¼ ± YD I 0ÿ °Â XÑ gµ À 9© © ¦ ¥ • ± 9¥ i± µ `D I êª °¤ ù mþ ¥a b rÜ v ¶ C± º rá Hÿ °AE ¤ 9© i 9© Í 9¿ U© 9 ¤ Ò« D «¤ 0 H !ẗ© ® ¾ ¦¥ `ª ¬ ± Çù ¤ H ¥ ¶ C± º ÿ °Â WÑ × 9© ª °¤ • º AE ¦ù ED ) cF H!¢ dë¤ f¤ g¢ ý Áþ ®û ÿ «© ¤ Ó «Í 9 ® ¤ 9° Hª ²± ¢ŗ D ³ ¾ ± 9ª ² ¦¤ ¦Â iÑ H è ¦¤ £• ± ¤ ¦«¤ ± Ò¤ ¦2 ¦g 9© ¨ ¶ C± ®¤ 9¼ 9 Ī c ¾ ®°ª °¤ 9© 9 ® ¤ Á¡ ° Hª ²± 5« D ¤ ¤ `g± H 9 ¦¤ H± ¥ «ª ¬ ¾ `ŗ D ± µ Ý Ò± 9 ¦ ® Ç« D eh Þ xá 2 ± I¤ H ¦2 ¦g ± ®¤ H¤ 9ª °¿ «2 c D ® ¤ H° Hª ²± j« D j Á¡ ¾ ± 9ª ² ¦¤ AE i á ± ¤ ¦2 ¦g 9© ! ¶ C± ®¤ 0 9¼ 9 ē c ¾ ®°ª °¤ 9© D ® ¤ H° x¡ Hª ²± ŗ D Ê ® ¶ C± ¾ U± ®¤ 9¤ Hª °¿ «2 ¤ 9 ® ¤ H° Hª ²± « Á¡ D Ç ¾ ± Dª ² ¦¤ Â © Ó r 9¤ ì¤ ¦¸ª °¤ ë 9µ m± D ¶ ¦¥ Qª ¬ « D ¶ Hẗ© ª ¬ ¾ AE ` ® «¥ í 9© Ä¤ ¦g± ¥ (¤ ¦Fª ¬ í« D 9 ® ¤ Hµ m ¦Â"
          ],
          [
           "Specifying the Parameters of Centering Theory: a Corpus-Based Evaluation using Text from Application-Oriented Domains"
          ],
          [
           ""
          ],
          [
           ""
          ],
          [
           "An Improved Error Model for Noisy Channel Spelling Correction"
          ],
          [
           "PENS: A Machine-aided English Writing System for Chinese Users"
          ],
          [
           "Inducing Probabilistic Syllable Classes Using Multivariate Clustering"
          ],
          [
           "An Improved Parser for Data-Oriented Lexical-Functional Analysis"
          ],
          [
           "Using Confidence Bands for Parallel Texts Alignment"
          ],
          [
           "Good Spelling of Vietnamese Texts, one aspect of computational linguistics in Vietnam"
          ],
          [
           "Memory-Efficient and Thread-Safe Quasi-Destructive Graph Unification"
          ],
          [
           ""
          ],
          [
           "¢¡ ¤£ ¥£ §¦ ©£ ! #\" $ &% (' )\" 10 2¡ 43 5' )6 7 86 9¦ ©£ @ 8' )A )¦ ©6 B¦ © &C ¢\" $' )' )6 D FE HG I QP G I E SR UT WV XG I T `Y I ba ¢c ed `f 9g ih qp rI bs R rt vu xw 9t yE q d f 9g D FE w $ T S 1 I I a c F f 9 d ye gf h i kj d g ml Q on pf 9q f sr ut v Bw px kw pv zy { }| U9w B{ 9w k B By ` 4| U y B Q p y b | t Qv k F © C f 9 pd e hf h i kj d d e gf hd o o d Wr k pw p y b }| U 9 9"
          ],
          [
           ""
          ],
          [
           "A Hierarchical Account of Referential Accessibility"
          ],
          [
           ""
          ],
          [
           ""
          ],
          [
           "S UT V XW QV `Y a Eb $c da EW Qe ¦a Ef `g ¦T ih qp sr t vu xw dh yW a E g yw p s R d e fp g eh ji k ml on $p p sg rq ts ur v w yx {z g ri Ep s| p p sg eq ¦} ¦ n s s ¦ f Q ) y ¦ s o E i ) s m Db mT ia E¡ s ¢ £ ¤ ¤ i¥ 7¦ ¨ § © «ª )£ ¬ t ¬ ®¥ ¯ª °±¬ ² o¬ ®³ ¨¬ ª ¯¤ µ7¬ ® ¶ m°¦ ±• j¬ ¶ d³ ¨¬ ® ¶ m § y¦ ¨ § © d¦ ¨ § § ¶ fª )7 ¶ m°&° ¶ m § © iy ¶ f© m¬ ¨© m¬ ® § o¹ ¬ jŕ ¶ fª )¦ ±¤ i § º¦ ¨¥ F ¶ »£ ¶ f7¼ ª ) ¶ m¥ ¯½ ¾ À¿ Á¬ Â¦ ¨ § Ã m¬ ®¥ Ä¹ ª )¦ ¨© i ¶ fª ¯¬ Å¼ ¦ ÇAE ¬ j)¬ ® § ª ª ¯)¬ j¬ ¹ ` ¶ m¥ ¯¬ ®¼ È¥ ¯ª ¯¤ oÉ 7£ ¶ m¥ ¯¹ ª )¦ ÊÉ Â³ ¤ s¼ ¬ ®°Ê¥ FË {¤ m3°±¬ ² ¦ ¨É j ¶ m°É 7£ ¤ i¦ ¨É ¬ m¾ ÍÌ D¬ ¹ É j ¶ my¥ ¯¬ ¤ mË tª )£ ¬ Á¼ ¦ ±Î ÏÉ j°±ª ÑÐ ¤ mË t¤ m ª ) ¶ m¦ Ê § ¦ ¨ § © ¶ ¥ ¯¬ ® § ¥ )¬ ¹ `ª ) ¶ f© m© m¬ ®¼ xÉ ¤ m)Ò y¥ jÓ Ô y¬ R© m¬ ® § ¬ j7 ¶ m°Ê¦ ±• j¬ ª )£ ¬ Õ § ¤ mª )¦ ±¤ i § »¤ mË Ö¥ ¯Ð s § ¤ i § Ð o³ Ð m¾ ×¿ Á¬ Ø¥ )£ ¤ dÔ ª )£ y ¶ fª 2 ¶ ¨ª ¯)¬ j¬ ¹ ` y ¶ m¥ ¯¬ ®¼ F³ ¨¤ s¼ ¬ ®°EÉ j ¶ m § $ ¶ mÉ 7£ ¦ ¨¬ jÃ m¬ ¶ FÔ y¤ mŕ¼ o¹ ` y ¶ f© $ y ¶ m¥ )¬ ®¼ Ù ¶ mÉ jÉ j7 ¶ mÉ Ð Ù¤ mË Ú fÛ Ü dÓ 7¬ jÒ )¬ ®¥ ¯¬ ® § ª )¦ ¨ § © È ¶ m § Ý¦ ¨³ ¨Ò )¤ dÃ m¬ ®³ ¨¬ ® § ª »¤ Ã m¬ já )£ ¬ Ö y ¶ m¥ ¯¬ ®°¦ ¨ § ¬ m¾ Þ ß W mT ig 0à Qá Q¡ s iV Xg W 2â ã ¤h ä !V X¡ oa Ef Öå dae !g V Ñ¡ oh ç s¬ ® § ª ¯¬ ® § É ¬ ÖÒ y° ¶ m § y § ¦ ¨ § © ¦ ¨ § d § ¶ fª )7 ¶ m°E° ¶ m § © i ¶ f© m¬ © m¬ ® § ¬ j´¹ ¶ fª )¦ ±¤ i § Âè êé 6ë &ì í 2É j ¶ m § Õ ¬ É 7£ y ¶ f7 ¶ mÉ ª ¯¬ j7¦ ±• j¬ ®¼ Ø ¶ m¥ ¤ª )£ ¬ tÉ ¤ i°Ç¹ °±¬ ®É ª )¦ ±¤ i § î¤ mË 2ª ) ¶ m¥ ¯½ o¥ )¬ ®° ¶ fª ¯¬ ®¼ îª ¯¤ ª )£ ¬ ÏÉ r£ ¤ i¦ ¨É ¬ d¤ mË tè ê ¶ f ¹ ¥ ¯ª ¯7 ¶ mÉ ª rí Q°¦ ¨ § © i¦ ¨¥ ¯ª )¦ ¨É y)¬ ®¥ ¯¤ i7É ¬ ®¥ y¦ Ê § ¨¤ m7¼ ¬ jýª ¯¤ ¶ mÉ r£ ¦ ±¬ jÃ m¬ ¬ ®°±¬ ®³ ¨¬ ® § ª ) ¶ f)Ð É ¤ i³ ³ ty § ¦ ¨É j ¶ fª )¦ ±Ã m¬ D© m¤ i ¶ m°¥ j¾ 0ï 2£ ¬ ®¥ )¬ yª ) ¶ m¥ ¯½ o¥ ¦ ¨ § É j°Ê¼ ¬ °±¬ ² ¦ ¨É j ¶ m°D ¶ m § ¼ Ù¥ ¯Ð o § ª ) ¶ mÉ ª )¦ ¨É dÉ 7£ ¤ i¦ ¨É ¬ m¾ ë ¦¬ ² ¦ ¨É j ¶ m°É 7£ ¤ i¦ ¨É ¬ Õ¦ ¨¥ ª )£ ¬ ÕÉ r£ ¤ i¦ ¨É ¬ F¤ mË ³ ¬ ® ¶ m § ¦ ¨ § © f¹ ` ¬ ® ¶ f7¦ ¨ § © °¬ ² ¹ ¬ ®³ ¨¬ ®¥ j¾ è êð § yÉ ª )¦ ±¤ i § ÂÔ y¤ m7¼ y¥ t¬ ² oÒ )¬ ®¥ 7¥ © m7 ¶ m³ «³ ¶ fª )¦ ¨É j ¶ m°³ ¨¬ ® ¶ m § ¦ Ê § © ¥ )É r£ « ¶ m¥ Qª ¯¬ ® § ¥ ¯¬ 6 ¶ m § y¼ « ¶ m¥ ¯Ò ¬ ®É ª !Ë {¬ ® ¶ fª ))¬ ®¥ jÓ s¤ m ¶ f)¬ 3¬ ® § ª )¦ ±)¬ ®°Ð ñ© m7 ¶ m³ «³ ¶ fª )¦ ¨É j ¶ m°°±Ð 5¼ ¬ jª ¯¬ j7³ «¦ ¨ § ¬ ®¼ EÓ Ö ¶ m § ¼ ª )£ ¬ j)¬ jË {¤ m)¬ x ¶ f)¬ x¥ )y ¶ m°°±Ð ÁÉ 7£ ¤ i¥ )¬ ® § § ¤ mª ¨¼ 7¦ ¨ § © F¥ ¯¬ ® § o¹ ª ¯¬ ® § É ¬ Ò ° ¶ m § § ¦ ¨ § © Ó yª ¼ y7¦ ¨ § © µ°¦ ¨ § © iy¦ ¨¥ ¯ª )¦ ¨É )¬ ® ¶ m°¦ ±• ® ¶ u¹ ª )¦ ±¤ i § E¾ òí ç sÐ o § ª ) ¶ mÉ ª )¦ ÊÉ $É 7£ ¤ i¦ ÊÉ ¬ $¦ ¨¥ ª )£ ¬ $É 7£ ¤ i¦ ¨É ¬ x¤ mË R£ ¤ Ô ³ ¨¬ ® ¶ m § ¦ Ê § © f¹ ` ¬ ® ¶ f7¦ ¨ § © °±¬ ² o¬ ®³ ¨¬ ®¥ R ¶ f)¬ É ¤ i³ y¦ Ê § ¬ ®¼ E¾ ó ôª 6¦ ¨¥ É j°±¬ ® ¶ fṍª )£ ¶ fª õ°±¬ ² ¦ ¨É j ¶ m° ¶ m § y¼ Ï¥ ¯Ð o § ª ) ¶ mÉ ª )¦ ¨É É 7£ ¤ i¦ ¨É ¬ Ö ¶ f)¬ § ¤ mª ¦ ¨ § ¼ ¬ jÒ ¬ ® § y¼ ¬ ® § ª j¾ Øð ¤ m´¬ ² ¶ m³ ¨Ò y°±¬ mÓ !¦ ±Ë Ô D¬ xÉ 7£ ¤ s¤ i¥ ¯¬ dª )£ ¬ Ã m¬ j) ö m÷ {ø fù jÓ Ô D¬ µÉ j ¶ m § ÂÉ 7£ ¤ s¤ i¥ ¯¬ Ï ¬ jª ÑÔ y¬ j¬ ® § ú ¶ Õ § ¤ i³ ¦ ¨ § ¶ m°¤ mÒ y)¬ jÒ ¤ i¥ )¦ ±ª )¦ ±¤ i § ¶ m°U)¬ ® ¶ m°Ê¦ ±• ® ¶ fª )¦ ±¤ i § Á¤ mË õª )£ ¬ © m¤ i ¶ m°y ¶ f)© io¹ ³ ¨¬ ® § ª úè ôû ü uý þ ÿö ¡ fø mù £¢ {ý où ü ¥¤ ö ¡ fþ y÷ §¦ ¨ ©¢ ê÷ êü mþ ©¤ F¤ mû ü uý þ $ö ¡ fø mù ¥¤ ¢ `ü ¢ {ý ù ü ¥¤ êö fþ ÷ ¦ ©¢ ê÷ ü fþ sí rÓ Ô ¤£ y¦ ¨°±¬ ¦ ±Ë Ô D¬ ¤É 7£ ¤ s¤ i¥ ¯¬ ! iü fþ \" ©¢ Xù jÓ o¤ i § °±Ð ª )£ ¬ 2Ò )¬ jÒ ¤ i¥ )¦ ¨ª )¦ ±¤ i § ¶ m°s)¬ ® ¶ m°Ç¹ ¦ ±• ® ¶ fª )¦ ±¤ i § F¦ ¨¥ õÒ ¤ i¥ )¥ )¦ ± y°¬ m¾ ó Ä § ³ ¶ m § Ð B¥ ¯Ð o¥ ¯ª ¯¬ ®³ ¥ jÓ Ø°±¬ ² o¦ ÊÉ j ¶ m°xÉ 7£ ¤ i¦ ¨É ¬ ÿ¦ ¨¥ Å£ ¶ m § ¹ ¼ °¬ ®¼ º¦ ¨ § ¶ ñ¼ ¦ ¨É ª )¦ ±¤ i § y ¶ f)Ð ×³ ¶ fÒ Ò y¦ ¨ § © Ë )¤ i³ ¼ ¤ i³ ¶ m¦ ¨ § É ¤ i § É ¬ jÒ yª )¥ Âè {¤ m®Ó t¦ ¨ § ×³ ¶ mÉ 7£ y¦ ¨ § ¬ 3ª ¯7 ¶ m § y¥ )° ¶ fª )¦ ±¤ i § è $# Øï 6í rÓ ¥ ¯¤ i7É ¬ È° ¶ m § © i ¶ f© m¬ Ô D¤ m7¼ ¥ 5ª ¯¤ Bª ) ¶ f7© m¬ jª º° ¶ m § © i ¶ f© m¬ Ô D¤ m7¼ ¥ rí r¾ &ï 2£ ¬ ®¥ )¬ Q¼ ¦ ¨É ª )¦ ±¤ i § y ¶ f7¦ ±¬ ®¥ E ¶ f)¬ yª XÐ sÒ y¦ ¨É j ¶ m°°±Ð £ ¶ m § ¼ ¹ É 7 ¶ fË {ª ¯¬ ®¼ E¾ &% ¿ 5£ ¦ ¨°±¬ ñ¥ )É 7£ P ¶ m § P ¶ fÒ yÒ )¤ i ¶ mÉ 7£ ¦ ¨¥ ÙÒ ¬ j)¹ Ë {¬ ®É ª )°±Ð ¢)¬ ® ¶ m¥ ¯¤ i § ¶ f y°¬ ØË {¤ mF³ ¶ m § Ð ñ ¶ fÒ yÒ y°¦ ¨É j ¶ fª )¦ ±¤ i § y¥ jÓ ¤¬ ®¥ Ä¹ Ò ¬ ®É j¦ ¨ ¶ m°°Ð Ïª )£ ¤ i¥ )¬ t¦ ¨ § xÔ 6£ ¦ ¨É 7£ F°¦ ¨ § © i¦ Ê¥ ¯ª )¦ ¨É RÃ u ¶ fŕ¦ ¨ ¶ fª )¦ ±¤ i § F¦ Ê § ª )£ ¬ tª ) ¶ f)© m¬ jª Rª ¯¬ ² sª )¥ R¦ ¨¥ 27¬ ®¥ ¯ª ¯7¦ ¨É ª ¯¬ ®¼ EÓ yª )£ ¬ j)¬ t ¶ f7¬ t ¶ fÒ Ò y°Ê¦ Ç¹ É j ¶ fª )¦ ±¤ i § y¥ è ê¦ Ê § É j°¼ ¦ Ê § © ¨³ ¶ m § Ð '# Øï ¶ fÒ Ò y°¦ ÊÉ j ¶ fª )¦ ±¤ i § ¥ rí õ¦ Ê § Ô ¤£ y¦ ¨É 7£ Õª )£ ¬ 7 ¶ m § © m¬ ¤ mË y°Ê¦ ¨ § © i¦ ¨¥ )ª )¦ ¨É ÖÃ f ¶ f7¦ ¨ ¶ fª )¦ ±¤ i § Õ¤ mË Qª )£ ¬ ª ¯¬ ² oª )¥ ª ¯¤ Ï ¬ t© m¬ ® § ¬ j7 ¶ fª ¯¬ ®¼ Á¦ ¨¥ 6Ë { ¶ fŔª ¯¤ s¤ µÃ f ¶ m¥ ¯ª Rª ¯¤ x ¶ m°°±¤ Ô Ë {¤ mD£ y ¶ m § ¼ o¹ XÉ ¤ o¼ ¦ ¨ § © Ö¤ mË E¼ ¦ ¨É ª )¦ ¨¤ i § ¶ f7¦ ±¬ ®¥ j¾ &ð 7ª )£ ¬ j7³ ¨¤ m)¬ mÓ ¬ jÃ m¬ ® § ØË {¤ m6¼ ¤ i³ ¶ m¦ Ê § ¥ 2Ô ¤¦ ¨ª )£ F ¶ «°Ê¦ ¨³ ¦ ±ª ¯¬ ®¼ xŕ ¶ m § © m¬ ¤ mË !°¦ Ê § o¹ © i¦ Ê¥ ¯ª )¦ ¨É RÃ u ¶ fŕ¦ ¨ ¶ fª )¦ ±¤ i § EÓ oª )£ ¬ Öª ) ¶ m¥ ¯½ d¤ mË &£ ¶ m § ¼ o¹ XÉ ¤ o¼ ¦ ¨ § © tª )£ ¬ § ¬ ®É ¬ ®¥ 7¥ ) ¶ f)Ð )¬ ®¥ ¯¤ iŕÉ ¬ ®¥ QÉ j ¶ m § ¬ Ë {¤ m7³ ¦ ¨¼ y ¶ f y°±¬ õÔ ¤£ ¬ ® § ¶ © m¬ ® § ¬ jŕ ¶ fª )¦ ±¤ i § Å¥ ¯Ð o¥ ¯ª ¯¬ ®³ ³ ¥ ¯ª ¬ µÒ ¤ m)ª ¯¬ ®¼ Âª ¯¤ 3 ¶ Á § ¬ jÔ ¼ ¤ i³ « ¶ m¦ ¨ § EÓ ¶ § ¬ jÔ ¢© m¬ ® § )¬ mÓ s¤ mṍ¬ ®¥ ¯Ò ¬ ®É j¦ ¨ ¶ m°°±Ð ¶ t § ¬ jÔ ¢° ¶ m § ¹ © i ¶ f© m¬ m¾ ó Ä § ¥ ¯¬ ®³ «¦ ¨ § ¶ m°Ô D¤ m)½ Ó ë ¶ m § © m½ s¦ Ê°¼ ¬ Ö ¶ m § ¼ '( § y¦ ±© i£ ª è 0) ®Ú mÚ ©1 oí £ ¶ Ã m¬ ¥ ¯¬ ®¼ ¶ ° ¶ m § © i ¶ f© m¬ q³ ¨¤ s¼ ¬ ®°Å ¶ m¥ P ¶ IÔ D ¶ Ð ¤ mË ×É 7£ ¤ s¤ i¥ )¦ ¨ § © ¶ m³ ¨¤ i § © ¼ ¦ ±AE ¬ j)¬ ® § ª y°¬ ² o¦ ¨É j ¶ m° ¶ m § ¼ «¥ )Ð s § ª ) ¶ mÉ ª )¦ ¨É R¤ mÒ ª )¦ ±¤ i § ¥ ®¾ ó Ä § è êÌ õ ¶ m § © i ¶ m°¤ m)¬ Í ¶ m § y¼ 2 6 ¶ m³ ¤ Ô Ó 43 fÛ mÛ mÛ í rÓ Ô y¬ Ò 7¬ ®¥ ¯¬ ® § ª 3 ¶ ×³ ¤ s¼ ¬ ®°¤ mË d¥ ¯Ð o § ª ) ¶ mÉ ª )¦ ¨É »É 7£ ¤ i¦ ¨É ¬ Ô 6£ ¦ ¨É 7£ ¦Ó °¦ ¨½ m¬ dë ¶ m § © m½ o¦ ¨°¼ ¬ Ö ¶ m § ¼ '( § ¦ ±© i£ ª Öè 0) ®Ú mÚ ©1 sí t)¬ ®°¦ ±¬ ®¥ ¤ i § Å ¶ °¦ Ê § ¬ ® ¶ fx° ¶ m § © i ¶ f© m¬ Á³ ¨¤ o¼ ¬ ®°Ó 6 yª d § °¦ ±½ m¬ Øª )£ ¬ ®¦ ±x ¶ fÒ ¹ Ò 7¤ i ¶ mÉ 7£ EÓ ¶ m°Ê¥ ¯¤ x¥ ¯¬ ®¥ Ö ¶ µª ¯)¬ j¬ ¹ ` y ¶ m¥ ¯¬ ®¼ 3)¬ jÒ )¬ ®¥ ¯¬ ® § ª ) ¶ fª )¦ ±¤ i § ¤ mË R¥ ¯Ð s § ª ) ¶ mÉ ª )¦ ¨É x¥ ¯ª ¯ŕÉ ª ))¬ mÓ ! ¶ Øª ¯)¬ j¬ x³ ¨¤ o¼ ¬ ®°Ó ! ¶ m § ¼ ú ¶ m § ¦ ¨ § y¼ ¬ jÒ ¬ ® § ¼ ¬ ® § ª )°±Ð £ ¶ m § ¼ o¹ XÉ 7 ¶ fË {ª ¯¬ ®¼ © m7 ¶ m³ ³ « ¶ f®¾ ¿ Á¬ ¥ )£ ¤ Ô ª )£ ¶ fª ºª )£ ¬ ¶ m¼ ¼ ¦ ±ª )¦ ¨¤ i § À¤ mË ª )£ ¬ ª ¯7¬ j¬ ¹ ` y ¶ m¥ ¯¬ ®¼ ³ ¨¤ o¼ ¬ ®°P¦ ¨³ ¨Ò )¤ dÃ m¬ ®¥ Iª )£ ¬ Ò ¬ j)Ë ¤ mŕ³ ¶ m § É ¬ ¤ mË Bª )£ ¬ ¥ ¯Ð o § ª ) ¶ mÉ ª )¦ ¨É «É r£ ¤ i¦ ¨É ¬ Ï³ ¤ s¼ y°±¬ m¾ ï 2£ ¬ ¥ ¯Ð o¥ ¯ª ¯¬ ®³ xÓ &É j ¶ m°°±¬ ®¼"
          ],
          [
           "A New Statistical Approach to Chinese Pinyin Input"
          ],
          [
           "An Unsupervised Approach to Prepositional Phrase Attachment using Contextually Similar Words"
          ],
          [
           "Computational Linguistics Research on Philippine Languages"
          ],
          [
           "Multi-Component TAG and Notions of Formal Power"
          ],
          [
           ""
          ],
          [
           ""
          ]
         ],
         "hovertemplate": "year=2000<br>x1=%{x}<br>x2=%{y}<br>hover_data_0=%{customdata[0]}<extra></extra>",
         "legendgroup": "2000",
         "marker": {
          "color": "#636efa",
          "symbol": "circle"
         },
         "mode": "markers",
         "name": "2000",
         "orientation": "v",
         "showlegend": true,
         "type": "scatter",
         "x": [
          0.9000629782676697,
          -0.11202390491962433,
          0.9000629782676697,
          0.9000629782676697,
          -0.17742954194545746,
          -0.21802100539207458,
          -0.2391291856765747,
          0.9000629782676697,
          0.19394412636756897,
          0.06998760998249054,
          -0.2737564742565155,
          -0.3015182614326477,
          0.9000629782676697,
          -0.20169325172901154,
          0.9000629782676697,
          -0.2848079204559326,
          0.9000629782676697,
          -0.1530512124300003,
          -0.11053528636693954,
          0.9000629782676697,
          0.9000629782676697,
          -0.079283706843853,
          0.9000629782676697,
          0.9000629782676697,
          -0.19583196938037872,
          0.9000629782676697,
          -0.25167858600616455,
          -0.02448500320315361,
          0.9000629782676697,
          -0.1612459421157837,
          0.9000629782676697,
          0.9000629782676697,
          0.9000629782676697,
          0.9000629782676697,
          -0.16096192598342896,
          -0.13717322051525116,
          0.9000629782676697,
          0.9000629782676697,
          0.9000629782676697,
          0.9000629782676697,
          0.9000629782676697,
          -0.19525088369846344,
          0.9000629782676697,
          -0.08865126967430115,
          0.18635153770446777,
          0.9000629782676697,
          -0.06811291724443436,
          0.9000629782676697,
          -0.27859488129615784,
          0.9000629782676697,
          -0.26563313603401184,
          -0.11421126872301102,
          -0.09002211689949036,
          -0.10704285651445389,
          0.9000629782676697,
          0.9000629782676697,
          0.9000629782676697,
          -0.12559284269809723,
          0.9000629782676697,
          0.9000629782676697,
          -0.12478954344987869,
          -0.2272714227437973,
          -0.14445586502552032,
          -0.27281299233436584,
          -0.17860130965709686,
          -0.16133539378643036,
          -0.1789042055606842,
          0.9000629782676697,
          0.06155385449528694,
          0.9000629782676697,
          -0.025077488273382187,
          0.16197586059570312,
          0.9000629782676697,
          0.9000629782676697,
          -0.13720344007015228,
          -0.16261298954486847,
          -0.13659843802452087,
          -0.1569313257932663,
          0.9000629782676697,
          0.9000629782676697
         ],
         "xaxis": "x",
         "y": [
          -0.025013206526637077,
          0.40465855598449707,
          -0.025013206526637077,
          -0.025013206526637077,
          -0.24177750945091248,
          0.13899461925029755,
          0.11087671667337418,
          -0.025013206526637077,
          0.3471721410751343,
          0.38060593605041504,
          0.37736156582832336,
          0.10374264419078827,
          -0.025013206526637077,
          0.1790686696767807,
          -0.025013206526637077,
          0.07426812499761581,
          -0.025013206526637077,
          0.3112093508243561,
          0.3655030429363251,
          -0.025013206526637077,
          -0.025013206526637077,
          -0.04809781536459923,
          -0.025013206526637077,
          -0.025013206526637077,
          0.38445553183555603,
          -0.025013206526637077,
          -0.14784158766269684,
          0.0037270092871040106,
          -0.025013206526637077,
          0.10070154070854187,
          -0.025013206526637077,
          -0.025013206526637077,
          -0.025013206526637077,
          -0.025013206526637077,
          0.13023537397384644,
          0.15970508754253387,
          -0.025013206526637077,
          -0.025013206526637077,
          -0.025013206526637077,
          -0.025013206526637077,
          -0.025013206526637077,
          0.196110337972641,
          -0.025013206526637077,
          0.2293764352798462,
          0.36334705352783203,
          -0.025013206526637077,
          0.15583106875419617,
          -0.025013206526637077,
          0.23121826350688934,
          -0.025013206526637077,
          0.12336061149835587,
          0.34480687975883484,
          0.18117061257362366,
          -0.02813289314508438,
          -0.025013206526637077,
          -0.025013206526637077,
          -0.025013206526637077,
          0.19608059525489807,
          -0.025013206526637077,
          -0.025013206526637077,
          0.3390841782093048,
          0.15323731303215027,
          0.27979177236557007,
          0.18265296518802643,
          0.3503528833389282,
          0.40975725650787354,
          0.2787646949291229,
          -0.025013206526637077,
          0.39663174748420715,
          -0.025013206526637077,
          0.27951595187187195,
          0.4111110270023346,
          -0.025013206526637077,
          -0.025013206526637077,
          0.33395102620124817,
          -0.02903931774199009,
          0.3981214165687561,
          0.21377642452716827,
          -0.025013206526637077,
          -0.025013206526637077
         ],
         "yaxis": "y"
        },
        {
         "customdata": [
          [
           "Understanding the Semantic Structure of Noun Phrase Queries"
          ],
          [
           "Optimizing Informativeness and Readability for Sentiment Summarization"
          ],
          [
           "Evaluating Multilanguage-Comparability of Subjectivity Analysis Systems"
          ],
          [
           "String Extension Learning"
          ],
          [
           "Using Parse Features for Preposition Selection and Error Detection"
          ],
          [
           "GernEdiT: A Graphical Tool for GermaNet Development"
          ],
          [
           "Balancing User Effort and Translation Error in Interactive Machine Translation Via Confidence Measures"
          ],
          [
           "Modeling Semantic Relevance for Question-Answer Pairs in Web Social Communities"
          ],
          [
           "Learning to Translate with Source and Target Syntax"
          ],
          [
           "Sentiment Translation through Lexicon Induction"
          ],
          [
           "A hybrid rule/model-based finite-state framework for normalizing SMS messages"
          ],
          [
           "Simultaneous Tokenization and Part-of-Speech Tagging for Arabic without a Morphological Analyzer"
          ],
          [
           "Open Information Extraction using Wikipedia"
          ],
          [
           "On the Computational Complexity of Dominance Links in Grammatical Formalisms"
          ],
          [
           ""
          ],
          [
           "Bitext Dependency Parsing with Bilingual Subtree Constraints"
          ],
          [
           "WSD as a Distributed Constraint Optimization Problem"
          ],
          [
           "Towards Open-Domain Semantic Role Labeling"
          ],
          [
           "The use of formal language models in the typology of the morphology of Amerindian languages"
          ],
          [
           "Simple, Accurate Parsing with an All-Fragments Grammar"
          ],
          [
           "Conditional Random Fields for Word Hyphenation"
          ],
          [
           "An Active Learning Approach to Finding Related Terms"
          ],
          [
           "Discriminative Pruning for Discriminative ITG Alignment"
          ],
          [
           "Modeling Norms of Turn-Taking in Multi-Party Conversation"
          ],
          [
           "Arabic Named Entity Recognition: Using Features Extracted from Noisy Data"
          ],
          [
           "Detecting Errors in Automatically-Parsed Dependency Relations"
          ],
          [
           "Starting From Scratch in Semantic Role Labeling"
          ],
          [
           "Dynamic Programming for Linear-Time Incremental Parsing"
          ],
          [
           "An Exact A* Method for Deciphering Letter-Substitution Ciphers"
          ],
          [
           "Computing weakest readings"
          ],
          [
           "Active Learning-Based Elicitation for Semi-Supervised Word Alignment"
          ],
          [
           "Multilingual Pseudo-Relevance Feedback: Performance Study of Assisting Languages"
          ],
          [
           "Semantic Parsing: The Task, the State-of-the-Art and the Future"
          ],
          [
           "Improving Statistical Machine Translation with Monolingual Collocation"
          ],
          [
           "A Tree Transducer Model for Synchronous Tree-Adjoining Grammars"
          ],
          [
           "The Importance of Rule Restrictions in CCG"
          ],
          [
           "Assessing the Role of Discourse References in Entailment Inference"
          ],
          [
           "PCFGs, Topic Models, Adaptor Grammars and Learning Topical Collocations and the Structure of Proper Names"
          ],
          [
           "The Prevalence of Descriptive Referring Expressions in News and Narrative"
          ],
          [
           "Better Filtration and Augmentation for Hierarchical Phrase-Based Translation Rules"
          ],
          [
           "Global Learning of Focused Entailment Graphs"
          ],
          [
           "Edit Tree Distance alignments for Semantic Role Labelling"
          ],
          [
           "Latent variable models of selectional preference"
          ],
          [
           "BEETLE II: a system for tutoring and computational linguistics experimentation"
          ],
          [
           "Intelligent Selection of Language Model Training Data"
          ],
          [
           "A Risk Minimization Framework for Extractive Speech Summarization"
          ],
          [
           "Generating Focused Topic-specific Sentiment Lexicons"
          ],
          [
           "Talking NPCs in a Virtual Game World"
          ],
          [
           "Cross-Lingual Latent Topic Extraction"
          ],
          [
           "Syntax-to-Morphology Mapping in Factored Phrase-Based Statistical Machine Translation from English to Turkish"
          ],
          [
           ""
          ],
          [
           "A Transition-Based Parser for 2-Planar Dependency Structures"
          ],
          [
           "Sparsity in Dependency Grammar Induction"
          ],
          [
           "Extraction and Approximation of Numerical Attributes from the Web"
          ],
          [
           "Finding Cognate Groups using Phylogenies"
          ],
          [
           "The Influence of Discourse on Syntax A Psycholinguistic Model of Sentence Processing"
          ],
          [
           "Supervised Noun Phrase Coreference Research: The First Fifteen Years"
          ],
          [
           "Using Smaller Constituents Rather Than Sentences in Active Learning for Japanese Dependency Parsing"
          ],
          [
           "Cross-Language Document Summarization Based on Machine Translation Quality Prediction"
          ],
          [
           "Minimized models and grammar-informed initialization for supertagging with highly ambiguous lexicons"
          ],
          [
           "Convolution Kernel over Packed Parse Forest"
          ],
          [
           "Identifying Text Polarity Using Random Walks"
          ],
          [
           "The Same-head Heuristic for Coreference"
          ],
          [
           "Word representations: A simple and general method for semi-supervised learning"
          ],
          [
           "A Cognitive Cost Model of Annotations Based on Eye-Tracking Data"
          ],
          [
           "Growing Related Words from Seed via User Behaviors: A Re-ranking Based Approach"
          ],
          [
           ""
          ],
          [
           "Tree-based and Forest-based Translation"
          ],
          [
           "Efficient Inference Through Cascades of Weighted Tree Transducers"
          ],
          [
           "Mood Patterns and Affective Lexicon Access in Weblogs"
          ],
          [
           "Optimising Information Presentation for Spoken Dialogue Systems"
          ],
          [
           "Predicate Argument Structure Analysis using Transformation-based Learning"
          ],
          [
           "A new Approach to Improving Multilingual Summarization using a Genetic Algorithm"
          ],
          [
           "Bootstrapping Semantic Analyzers from Non-Contradictory Texts"
          ],
          [
           "Coreference Resolution across Corpora: Languages, Coding Schemes, and Preprocessing Information"
          ],
          [
           "Joint Syntactic and Semantic Parsing of Chinese"
          ],
          [
           "Knowledge-rich Word Sense Disambiguation Rivaling Supervised Systems"
          ],
          [
           "Generating Fine-Grained Reviews of Songs From Album Reviews"
          ],
          [
           "Grammar Prototyping and Testing with the LinGO Grammar Matrix Customization System"
          ],
          [
           "Plot Induction and Evolutionary Search for Story Generation"
          ]
         ],
         "hovertemplate": "year=2010<br>x1=%{x}<br>x2=%{y}<br>hover_data_0=%{customdata[0]}<extra></extra>",
         "legendgroup": "2010",
         "marker": {
          "color": "#EF553B",
          "symbol": "circle"
         },
         "mode": "markers",
         "name": "2010",
         "orientation": "v",
         "showlegend": true,
         "type": "scatter",
         "x": [
          -0.2524316608905792,
          -0.22034651041030884,
          -0.17166854441165924,
          -0.14730991423130035,
          -0.16845005750656128,
          -0.19057196378707886,
          -0.18077456951141357,
          -0.19158434867858887,
          -0.3121035099029541,
          -0.19260439276695251,
          -0.2225259393453598,
          -0.19970703125,
          -0.2996796667575836,
          -0.06666143238544464,
          0.9000629782676697,
          -0.3352418541908264,
          -0.1938331127166748,
          -0.24574458599090576,
          -0.1010231152176857,
          -0.24216383695602417,
          -0.21582335233688354,
          -0.20664829015731812,
          -0.18697987496852875,
          -0.08307800441980362,
          -0.13091416656970978,
          -0.28629279136657715,
          -0.25704047083854675,
          -0.25292593240737915,
          -0.07959672808647156,
          -0.200814887881279,
          -0.19406747817993164,
          -0.1807618886232376,
          0.9000629782676697,
          -0.2853330671787262,
          -0.15627244114875793,
          -0.152883842587471,
          -0.2387838512659073,
          -0.3117973208427429,
          -0.23674780130386353,
          -0.2982521653175354,
          -0.23752176761627197,
          -0.25239670276641846,
          -0.22541992366313934,
          -0.08161086589097977,
          -0.288072794675827,
          -0.26244330406188965,
          -0.16399405896663666,
          -0.04290137439966202,
          -0.2512533366680145,
          -0.2566445469856262,
          0.9000629782676697,
          -0.2817940413951874,
          -0.2558402717113495,
          -0.20269960165023804,
          -0.19401240348815918,
          -0.2877665162086487,
          -0.24628867208957672,
          -0.21925629675388336,
          -0.21925534307956696,
          -0.1669187992811203,
          -0.18704970180988312,
          -0.2299497127532959,
          -0.29027262330055237,
          -0.2398395538330078,
          -0.25391703844070435,
          -0.1564338058233261,
          0.9000629782676697,
          0.9000629782676697,
          -0.2519533932209015,
          -0.13607020676136017,
          -0.14547096192836761,
          -0.2704593241214752,
          -0.25899767875671387,
          -0.3000457286834717,
          -0.2629477083683014,
          -0.25943711400032043,
          -0.2039671540260315,
          -0.14780347049236298,
          -0.12395410984754562,
          -0.21346941590309143
         ],
         "xaxis": "x",
         "y": [
          -0.037055354565382004,
          -0.18350036442279816,
          0.013216923922300339,
          0.15263071656227112,
          0.11007699370384216,
          0.08205895125865936,
          0.15699206292629242,
          -0.30511000752449036,
          0.2599584460258484,
          0.006322487257421017,
          0.23236507177352905,
          0.11218618601560593,
          -0.08355332165956497,
          0.38484030961990356,
          -0.025013206526637077,
          0.1958474963903427,
          -0.0188024640083313,
          -0.128813698887825,
          0.5212495923042297,
          0.1779804825782776,
          0.2641059160232544,
          -0.14588527381420135,
          0.26677653193473816,
          -0.06608714908361435,
          0.12223076075315475,
          0.2160015106201172,
          0.020715583115816116,
          0.14706847071647644,
          0.35690608620643616,
          0.013526184484362602,
          -0.019438141956925392,
          0.1765282154083252,
          -0.025013206526637077,
          0.24132820963859558,
          0.5084146857261658,
          0.41033074259757996,
          -0.09732726961374283,
          0.05515822023153305,
          -0.2119312882423401,
          0.3245998024940491,
          -0.04452216625213623,
          0.0784706249833107,
          -0.062072962522506714,
          0.05383625626564026,
          -0.03893835097551346,
          -0.15560902655124664,
          -0.17883959412574768,
          0.0015491379890590906,
          -0.009338750503957272,
          0.14128325879573822,
          -0.025013206526637077,
          0.20845939218997955,
          0.1594824641942978,
          -0.12532854080200195,
          0.22842945158481598,
          -0.0012026119511574507,
          -0.0955922082066536,
          0.040486883372068405,
          -0.06833744794130325,
          0.128971666097641,
          -0.0845627635717392,
          -0.1392042189836502,
          -0.09792808443307877,
          -0.08017181605100632,
          0.019113216549158096,
          0.04132784530520439,
          -0.025013206526637077,
          -0.025013206526637077,
          0.36738768219947815,
          -0.08586513251066208,
          -0.23600497841835022,
          0.14445844292640686,
          -0.16752272844314575,
          -0.15371060371398926,
          0.05292820185422897,
          0.145991250872612,
          -0.1781700849533081,
          -0.2367575317621231,
          0.29156824946403503,
          -0.17680369317531586
         ],
         "yaxis": "y"
        },
        {
         "customdata": [
          [
           "Latent Variable Sentiment Grammar *"
          ],
          [
           "Soft Contextual Data Augmentation for Neural Machine Translation"
          ],
          [
           "Data Programming for Learning Discourse Structure"
          ],
          [
           "Neural Relation Extraction for Knowledge Base Enrichment"
          ],
          [
           ""
          ],
          [
           "Cross-Domain Generalization of Neural Constituency Parsers"
          ],
          [
           "Scaling Up Open Tagging from Tens to Thousands: Comprehension Empowered Attribute Value Extraction from Product Title"
          ],
          [
           "What Makes a Good Counselor? Learning to Distinguish between High-quality and Low-quality Counseling Conversations"
          ],
          [
           "Avoiding Reasoning Shortcuts: Adversarial Evaluation, Training, and Model Development for Multi-Hop QA"
          ],
          [
           "GraphRel: Modeling Text as Relational Graphs for Joint Entity and Relation Extraction"
          ],
          [
           "Constrained Decoding for Neural NLG from Compositional Representations in Task-Oriented Dialogue"
          ],
          [
           "Improving the Similarity Measure of Determinantal Point Processes for Extractive Multi-Document Summarization"
          ],
          [
           "StRE: Self Attentive Edit Quality Prediction in Wikipedia"
          ],
          [
           "Employing the Correspondence of Relations and Connectives to Identify Implicit Discourse Relations via Label Embeddings"
          ],
          [
           "Discourse Representation Parsing for Sentences and Documents"
          ],
          [
           "PERSPECTROSCOPE: A Window to the World of Diverse Perspectives"
          ],
          [
           "An Interactive Multi-Task Learning Network for End-to-End Aspect-Based Sentiment Analysis"
          ],
          [
           "Ordinal and Attribute Aware Response Generation in a Multimodal Dialogue System"
          ],
          [
           "How to best use Syntax in Semantic Role Labelling"
          ],
          [
           "Multi-Grained Named Entity Recognition"
          ],
          [
           "Language Modeling with Shared Grammar"
          ],
          [
           "How multilingual is Multilingual BERT?"
          ],
          [
           "Uncovering Probabilistic Implications in Typological Knowledge Bases"
          ],
          [
           "Translating Translationese: A Two-Step Approach to Unsupervised Machine Translation"
          ],
          [
           "Latent Variable Model for Multi-modal Translation"
          ],
          [
           "Observing Dialogue in Therapy: Categorizing and Forecasting Behavioral Codes"
          ],
          [
           "Texar: A Modularized, Versatile, and Extensible Toolkit for Text Generation"
          ],
          [
           "Multi-News: a Large-Scale Multi-Document Summarization Dataset and Abstractive Hierarchical Model"
          ],
          [
           "Fine-tuning Pre-Trained Transformer Language Models to Distantly Supervised Relation Extraction"
          ],
          [
           "Training Hybrid Language Models by Marginalizing over Segmentations"
          ],
          [
           "Distantly Supervised Named Entity Recognition using Positive-Unlabeled Learning"
          ],
          [
           "Automated Chess Commentator Powered by Neural Chess Engine"
          ],
          [
           "My Turn To Read: An Interleaved E-book Reading Tool for Developing and Struggling Readers"
          ],
          [
           "Continual and Multi-Task Architecture Search"
          ],
          [
           "Learning from omission"
          ],
          [
           "Generating Long and Informative Reviews with Aspect-Aware Coarse-to-Fine Decoding"
          ],
          [
           "Neural Response Generation with Meta-Words"
          ],
          [
           "Task Refinement Learning for Improved Accuracy and Stability of Unsupervised Domain Adaptation"
          ],
          [
           "Improving the Robustness of Question Answering Systems to Question Paraphrasing"
          ],
          [
           "Yes, we can! Mining Arguments in 50 Years of US Presidential Campaign Debates"
          ],
          [
           "Knowledge discovery and hypothesis generation from online patient forums: A research proposal"
          ],
          [
           "Towards Lossless Encoding of Sentences"
          ],
          [
           "Learning Latent Trees with Stochastic Perturbations and Differentiable Dynamic Programming"
          ],
          [
           "Scoring Sentence Singletons and Pairs for Abstractive Summarization"
          ],
          [
           "Synthetic QA Corpora Generation with Roundtrip Consistency"
          ],
          [
           "Neural News Recommendation with Long-and Short-term User Representations"
          ],
          [
           "Correlating neural and symbolic representations of language"
          ],
          [
           "JW300: A Wide-Coverage Parallel Corpus for Low-Resource Languages"
          ],
          [
           "STRASS: A Light and Effective Method for Extractive Summarization Based on Sentence Embeddings"
          ],
          [
           "Distributed Knowledge Based Clinical Auto-Coding System"
          ],
          [
           "MC 2 : Multi-perspective Convolutional Cube for Conversational Machine Reading Comprehension"
          ],
          [
           "Optimal Transport-based Alignment of Learned Character Representations for String Similarity"
          ],
          [
           "Attention over Heads: A Multi-Hop Attention for Neural Machine Translation"
          ],
          [
           "AlpacaTag: An Active Learning-based Crowd Annotation Framework for Sequence Tagging"
          ],
          [
           "Towards Comprehensive Description Generation from Factual Attribute-value Tables"
          ],
          [
           "Towards Turkish Abstract Meaning Representation"
          ],
          [
           "Predicting Human Activities from User-Generated Content"
          ],
          [
           "Decompositional Argument Mining: A General Purpose Approach for Argument Graph Construction"
          ],
          [
           "Sentence Centrality Revisited for Unsupervised Summarization"
          ],
          [
           "Learning to Select, Track, and Generate for Data-to-Text"
          ],
          [
           "Generating Natural Language Adversarial Examples through Probability Weighted Word Saliency"
          ],
          [
           "Annotation and Automatic Classification of Aspectual Categories"
          ],
          [
           "Convolutional Neural Networks for Financial Text Regression"
          ],
          [
           "Cognitive Graph for Multi-Hop Reading Comprehension at Scale"
          ],
          [
           "Visually Grounded Neural Syntax Acquisition"
          ],
          [
           "A Hierarchical Reinforced Sequence Operation Method for Unsupervised Text Style Transfer"
          ],
          [
           "Extracting Multiple-Relations in One-Pass with Pre-Trained Transformers"
          ],
          [
           "Collaborative Dialogue in Minecraft"
          ],
          [
           "Personalizing Dialogue Agents via Meta-Learning"
          ],
          [
           "Automatic Generation of High Quality CCGbanks for Parser Domain Adaptation"
          ],
          [
           "Multilingual Unsupervised NMT using Shared Encoder and Language-Specific Decoders"
          ],
          [
           "Controllable Text Simplification with Lexical Constraint Loss"
          ],
          [
           "Delta Embedding Learning"
          ],
          [
           "Message from the General Chair"
          ],
          [
           "Sentiment Tagging with Partial Labels using Modular Architectures"
          ],
          [
           "Revisiting Joint Modeling of Cross-document Entity and Event Coreference Resolution"
          ],
          [
           "Putting Evaluation in Context: Contextual Embeddings improve Machine Translation Evaluation"
          ],
          [
           "Neural Text Simplification of Clinical Letters with a Domain Specific Phrase Table"
          ],
          [
           "Are we there yet? Encoder-decoder neural networks as cognitive models of English past tense inflection"
          ],
          [
           "A Multiscale Visualization of Attention in the Transformer Model"
          ]
         ],
         "hovertemplate": "year=2019<br>x1=%{x}<br>x2=%{y}<br>hover_data_0=%{customdata[0]}<extra></extra>",
         "legendgroup": "2019",
         "marker": {
          "color": "#00cc96",
          "symbol": "circle"
         },
         "mode": "markers",
         "name": "2019",
         "orientation": "v",
         "showlegend": true,
         "type": "scatter",
         "x": [
          -0.2554366886615753,
          -0.23774679005146027,
          -0.33788663148880005,
          -0.2953636944293976,
          0.9000629782676697,
          -0.2553808391094208,
          -0.16187863051891327,
          -0.15565621852874756,
          -0.1497066766023636,
          -0.27575239539146423,
          -0.2875637114048004,
          -0.28979194164276123,
          -0.21644973754882812,
          -0.2913971543312073,
          -0.29023927450180054,
          -0.17635837197303772,
          -0.2240096777677536,
          -0.13821029663085938,
          -0.26713111996650696,
          -0.2417995035648346,
          -0.29113566875457764,
          -0.2068105787038803,
          -0.23120027780532837,
          -0.2129817008972168,
          -0.2043224573135376,
          -0.14252562820911407,
          -0.18537966907024384,
          -0.23633217811584473,
          -0.27048709988594055,
          -0.21765542030334473,
          -0.23335480690002441,
          -0.20358797907829285,
          -0.022593701258301735,
          -0.18589340150356293,
          -0.20886144042015076,
          -0.17610935866832733,
          -0.22552472352981567,
          -0.20104844868183136,
          -0.24911069869995117,
          -0.15302824974060059,
          -0.14302505552768707,
          -0.15887007117271423,
          -0.28234684467315674,
          -0.29829588532447815,
          -0.24890431761741638,
          -0.16203871369361877,
          -0.29648181796073914,
          -0.25931409001350403,
          -0.32306572794914246,
          -0.21829913556575775,
          -0.17809349298477173,
          -0.2594003975391388,
          -0.16586728394031525,
          -0.18259860575199127,
          -0.19685553014278412,
          -0.21455352008342743,
          -0.18408791720867157,
          -0.20226092636585236,
          -0.3090187907218933,
          -0.20242175459861755,
          -0.1543494015932083,
          -0.19081372022628784,
          -0.16942629218101501,
          -0.16775855422019958,
          -0.23460780084133148,
          -0.2572362422943115,
          -0.269889771938324,
          -0.10500413179397583,
          -0.12271109968423843,
          -0.32129305601119995,
          -0.2021237462759018,
          -0.23786544799804688,
          -0.2720828950405121,
          0.013398807495832443,
          -0.18940041959285736,
          -0.2938900589942932,
          -0.27916836738586426,
          -0.2089807689189911,
          -0.19710250198841095,
          -0.14479170739650726
         ],
         "xaxis": "x",
         "y": [
          -0.12667477130889893,
          -0.18122394382953644,
          -0.09570996463298798,
          -0.34727954864501953,
          -0.025013206526637077,
          -0.0026755412109196186,
          -0.21801435947418213,
          -0.02319563925266266,
          -0.2801833748817444,
          -0.2631581723690033,
          -0.1192786917090416,
          -0.3200429677963257,
          -0.2279849648475647,
          -0.17803116142749786,
          -0.10824894160032272,
          -0.13880594074726105,
          -0.38083431124687195,
          -0.3065776824951172,
          -0.11470191925764084,
          -0.14186237752437592,
          -0.11104784160852432,
          -0.024939415976405144,
          0.14755186438560486,
          0.016441311687231064,
          -0.1957068294286728,
          -0.3129960298538208,
          -0.18162475526332855,
          -0.28959351778030396,
          -0.26924988627433777,
          0.17478519678115845,
          -0.0846574455499649,
          -0.24337336421012878,
          0.02866724506020546,
          -0.30188775062561035,
          -0.057356759905815125,
          -0.1820528507232666,
          -0.33959126472473145,
          -0.1433343142271042,
          -0.20143257081508636,
          -0.2815232574939728,
          -0.19169987738132477,
          -0.26085883378982544,
          0.015902502462267876,
          -0.25885942578315735,
          -0.20853622257709503,
          -0.3795468211174011,
          0.07101175934076309,
          0.08525119721889496,
          -0.27732768654823303,
          0.0338933989405632,
          -0.40725141763687134,
          -0.18720577657222748,
          -0.0629623606801033,
          -0.264405757188797,
          -0.351727157831192,
          0.06988980621099472,
          -0.3304813504219055,
          -0.02625817432999611,
          -0.35861635208129883,
          -0.2043922394514084,
          -0.1403689831495285,
          0.06122463196516037,
          -0.15991337597370148,
          -0.2671668231487274,
          -0.0581054650247097,
          -0.11496254056692123,
          -0.19287905097007751,
          -0.13561490178108215,
          -0.2717440724372864,
          0.07910449057817459,
          -0.010857460089027882,
          0.1302395761013031,
          -0.12627467513084412,
          0.12078983336687088,
          -0.22252285480499268,
          -0.2630554735660553,
          -0.10792024433612823,
          -0.06660939753055573,
          -0.027205616235733032,
          -0.27362319827079773
         ],
         "yaxis": "y"
        }
       ],
       "layout": {
        "legend": {
         "title": {
          "text": "year"
         },
         "tracegroupgap": 0
        },
        "margin": {
         "t": 60
        },
        "template": {
         "data": {
          "bar": [
           {
            "error_x": {
             "color": "#2a3f5f"
            },
            "error_y": {
             "color": "#2a3f5f"
            },
            "marker": {
             "line": {
              "color": "#E5ECF6",
              "width": 0.5
             },
             "pattern": {
              "fillmode": "overlay",
              "size": 10,
              "solidity": 0.2
             }
            },
            "type": "bar"
           }
          ],
          "barpolar": [
           {
            "marker": {
             "line": {
              "color": "#E5ECF6",
              "width": 0.5
             },
             "pattern": {
              "fillmode": "overlay",
              "size": 10,
              "solidity": 0.2
             }
            },
            "type": "barpolar"
           }
          ],
          "carpet": [
           {
            "aaxis": {
             "endlinecolor": "#2a3f5f",
             "gridcolor": "white",
             "linecolor": "white",
             "minorgridcolor": "white",
             "startlinecolor": "#2a3f5f"
            },
            "baxis": {
             "endlinecolor": "#2a3f5f",
             "gridcolor": "white",
             "linecolor": "white",
             "minorgridcolor": "white",
             "startlinecolor": "#2a3f5f"
            },
            "type": "carpet"
           }
          ],
          "choropleth": [
           {
            "colorbar": {
             "outlinewidth": 0,
             "ticks": ""
            },
            "type": "choropleth"
           }
          ],
          "contour": [
           {
            "colorbar": {
             "outlinewidth": 0,
             "ticks": ""
            },
            "colorscale": [
             [
              0,
              "#0d0887"
             ],
             [
              0.1111111111111111,
              "#46039f"
             ],
             [
              0.2222222222222222,
              "#7201a8"
             ],
             [
              0.3333333333333333,
              "#9c179e"
             ],
             [
              0.4444444444444444,
              "#bd3786"
             ],
             [
              0.5555555555555556,
              "#d8576b"
             ],
             [
              0.6666666666666666,
              "#ed7953"
             ],
             [
              0.7777777777777778,
              "#fb9f3a"
             ],
             [
              0.8888888888888888,
              "#fdca26"
             ],
             [
              1,
              "#f0f921"
             ]
            ],
            "type": "contour"
           }
          ],
          "contourcarpet": [
           {
            "colorbar": {
             "outlinewidth": 0,
             "ticks": ""
            },
            "type": "contourcarpet"
           }
          ],
          "heatmap": [
           {
            "colorbar": {
             "outlinewidth": 0,
             "ticks": ""
            },
            "colorscale": [
             [
              0,
              "#0d0887"
             ],
             [
              0.1111111111111111,
              "#46039f"
             ],
             [
              0.2222222222222222,
              "#7201a8"
             ],
             [
              0.3333333333333333,
              "#9c179e"
             ],
             [
              0.4444444444444444,
              "#bd3786"
             ],
             [
              0.5555555555555556,
              "#d8576b"
             ],
             [
              0.6666666666666666,
              "#ed7953"
             ],
             [
              0.7777777777777778,
              "#fb9f3a"
             ],
             [
              0.8888888888888888,
              "#fdca26"
             ],
             [
              1,
              "#f0f921"
             ]
            ],
            "type": "heatmap"
           }
          ],
          "heatmapgl": [
           {
            "colorbar": {
             "outlinewidth": 0,
             "ticks": ""
            },
            "colorscale": [
             [
              0,
              "#0d0887"
             ],
             [
              0.1111111111111111,
              "#46039f"
             ],
             [
              0.2222222222222222,
              "#7201a8"
             ],
             [
              0.3333333333333333,
              "#9c179e"
             ],
             [
              0.4444444444444444,
              "#bd3786"
             ],
             [
              0.5555555555555556,
              "#d8576b"
             ],
             [
              0.6666666666666666,
              "#ed7953"
             ],
             [
              0.7777777777777778,
              "#fb9f3a"
             ],
             [
              0.8888888888888888,
              "#fdca26"
             ],
             [
              1,
              "#f0f921"
             ]
            ],
            "type": "heatmapgl"
           }
          ],
          "histogram": [
           {
            "marker": {
             "pattern": {
              "fillmode": "overlay",
              "size": 10,
              "solidity": 0.2
             }
            },
            "type": "histogram"
           }
          ],
          "histogram2d": [
           {
            "colorbar": {
             "outlinewidth": 0,
             "ticks": ""
            },
            "colorscale": [
             [
              0,
              "#0d0887"
             ],
             [
              0.1111111111111111,
              "#46039f"
             ],
             [
              0.2222222222222222,
              "#7201a8"
             ],
             [
              0.3333333333333333,
              "#9c179e"
             ],
             [
              0.4444444444444444,
              "#bd3786"
             ],
             [
              0.5555555555555556,
              "#d8576b"
             ],
             [
              0.6666666666666666,
              "#ed7953"
             ],
             [
              0.7777777777777778,
              "#fb9f3a"
             ],
             [
              0.8888888888888888,
              "#fdca26"
             ],
             [
              1,
              "#f0f921"
             ]
            ],
            "type": "histogram2d"
           }
          ],
          "histogram2dcontour": [
           {
            "colorbar": {
             "outlinewidth": 0,
             "ticks": ""
            },
            "colorscale": [
             [
              0,
              "#0d0887"
             ],
             [
              0.1111111111111111,
              "#46039f"
             ],
             [
              0.2222222222222222,
              "#7201a8"
             ],
             [
              0.3333333333333333,
              "#9c179e"
             ],
             [
              0.4444444444444444,
              "#bd3786"
             ],
             [
              0.5555555555555556,
              "#d8576b"
             ],
             [
              0.6666666666666666,
              "#ed7953"
             ],
             [
              0.7777777777777778,
              "#fb9f3a"
             ],
             [
              0.8888888888888888,
              "#fdca26"
             ],
             [
              1,
              "#f0f921"
             ]
            ],
            "type": "histogram2dcontour"
           }
          ],
          "mesh3d": [
           {
            "colorbar": {
             "outlinewidth": 0,
             "ticks": ""
            },
            "type": "mesh3d"
           }
          ],
          "parcoords": [
           {
            "line": {
             "colorbar": {
              "outlinewidth": 0,
              "ticks": ""
             }
            },
            "type": "parcoords"
           }
          ],
          "pie": [
           {
            "automargin": true,
            "type": "pie"
           }
          ],
          "scatter": [
           {
            "fillpattern": {
             "fillmode": "overlay",
             "size": 10,
             "solidity": 0.2
            },
            "type": "scatter"
           }
          ],
          "scatter3d": [
           {
            "line": {
             "colorbar": {
              "outlinewidth": 0,
              "ticks": ""
             }
            },
            "marker": {
             "colorbar": {
              "outlinewidth": 0,
              "ticks": ""
             }
            },
            "type": "scatter3d"
           }
          ],
          "scattercarpet": [
           {
            "marker": {
             "colorbar": {
              "outlinewidth": 0,
              "ticks": ""
             }
            },
            "type": "scattercarpet"
           }
          ],
          "scattergeo": [
           {
            "marker": {
             "colorbar": {
              "outlinewidth": 0,
              "ticks": ""
             }
            },
            "type": "scattergeo"
           }
          ],
          "scattergl": [
           {
            "marker": {
             "colorbar": {
              "outlinewidth": 0,
              "ticks": ""
             }
            },
            "type": "scattergl"
           }
          ],
          "scattermapbox": [
           {
            "marker": {
             "colorbar": {
              "outlinewidth": 0,
              "ticks": ""
             }
            },
            "type": "scattermapbox"
           }
          ],
          "scatterpolar": [
           {
            "marker": {
             "colorbar": {
              "outlinewidth": 0,
              "ticks": ""
             }
            },
            "type": "scatterpolar"
           }
          ],
          "scatterpolargl": [
           {
            "marker": {
             "colorbar": {
              "outlinewidth": 0,
              "ticks": ""
             }
            },
            "type": "scatterpolargl"
           }
          ],
          "scatterternary": [
           {
            "marker": {
             "colorbar": {
              "outlinewidth": 0,
              "ticks": ""
             }
            },
            "type": "scatterternary"
           }
          ],
          "surface": [
           {
            "colorbar": {
             "outlinewidth": 0,
             "ticks": ""
            },
            "colorscale": [
             [
              0,
              "#0d0887"
             ],
             [
              0.1111111111111111,
              "#46039f"
             ],
             [
              0.2222222222222222,
              "#7201a8"
             ],
             [
              0.3333333333333333,
              "#9c179e"
             ],
             [
              0.4444444444444444,
              "#bd3786"
             ],
             [
              0.5555555555555556,
              "#d8576b"
             ],
             [
              0.6666666666666666,
              "#ed7953"
             ],
             [
              0.7777777777777778,
              "#fb9f3a"
             ],
             [
              0.8888888888888888,
              "#fdca26"
             ],
             [
              1,
              "#f0f921"
             ]
            ],
            "type": "surface"
           }
          ],
          "table": [
           {
            "cells": {
             "fill": {
              "color": "#EBF0F8"
             },
             "line": {
              "color": "white"
             }
            },
            "header": {
             "fill": {
              "color": "#C8D4E3"
             },
             "line": {
              "color": "white"
             }
            },
            "type": "table"
           }
          ]
         },
         "layout": {
          "annotationdefaults": {
           "arrowcolor": "#2a3f5f",
           "arrowhead": 0,
           "arrowwidth": 1
          },
          "autotypenumbers": "strict",
          "coloraxis": {
           "colorbar": {
            "outlinewidth": 0,
            "ticks": ""
           }
          },
          "colorscale": {
           "diverging": [
            [
             0,
             "#8e0152"
            ],
            [
             0.1,
             "#c51b7d"
            ],
            [
             0.2,
             "#de77ae"
            ],
            [
             0.3,
             "#f1b6da"
            ],
            [
             0.4,
             "#fde0ef"
            ],
            [
             0.5,
             "#f7f7f7"
            ],
            [
             0.6,
             "#e6f5d0"
            ],
            [
             0.7,
             "#b8e186"
            ],
            [
             0.8,
             "#7fbc41"
            ],
            [
             0.9,
             "#4d9221"
            ],
            [
             1,
             "#276419"
            ]
           ],
           "sequential": [
            [
             0,
             "#0d0887"
            ],
            [
             0.1111111111111111,
             "#46039f"
            ],
            [
             0.2222222222222222,
             "#7201a8"
            ],
            [
             0.3333333333333333,
             "#9c179e"
            ],
            [
             0.4444444444444444,
             "#bd3786"
            ],
            [
             0.5555555555555556,
             "#d8576b"
            ],
            [
             0.6666666666666666,
             "#ed7953"
            ],
            [
             0.7777777777777778,
             "#fb9f3a"
            ],
            [
             0.8888888888888888,
             "#fdca26"
            ],
            [
             1,
             "#f0f921"
            ]
           ],
           "sequentialminus": [
            [
             0,
             "#0d0887"
            ],
            [
             0.1111111111111111,
             "#46039f"
            ],
            [
             0.2222222222222222,
             "#7201a8"
            ],
            [
             0.3333333333333333,
             "#9c179e"
            ],
            [
             0.4444444444444444,
             "#bd3786"
            ],
            [
             0.5555555555555556,
             "#d8576b"
            ],
            [
             0.6666666666666666,
             "#ed7953"
            ],
            [
             0.7777777777777778,
             "#fb9f3a"
            ],
            [
             0.8888888888888888,
             "#fdca26"
            ],
            [
             1,
             "#f0f921"
            ]
           ]
          },
          "colorway": [
           "#636efa",
           "#EF553B",
           "#00cc96",
           "#ab63fa",
           "#FFA15A",
           "#19d3f3",
           "#FF6692",
           "#B6E880",
           "#FF97FF",
           "#FECB52"
          ],
          "font": {
           "color": "#2a3f5f"
          },
          "geo": {
           "bgcolor": "white",
           "lakecolor": "white",
           "landcolor": "#E5ECF6",
           "showlakes": true,
           "showland": true,
           "subunitcolor": "white"
          },
          "hoverlabel": {
           "align": "left"
          },
          "hovermode": "closest",
          "mapbox": {
           "style": "light"
          },
          "paper_bgcolor": "white",
          "plot_bgcolor": "#E5ECF6",
          "polar": {
           "angularaxis": {
            "gridcolor": "white",
            "linecolor": "white",
            "ticks": ""
           },
           "bgcolor": "#E5ECF6",
           "radialaxis": {
            "gridcolor": "white",
            "linecolor": "white",
            "ticks": ""
           }
          },
          "scene": {
           "xaxis": {
            "backgroundcolor": "#E5ECF6",
            "gridcolor": "white",
            "gridwidth": 2,
            "linecolor": "white",
            "showbackground": true,
            "ticks": "",
            "zerolinecolor": "white"
           },
           "yaxis": {
            "backgroundcolor": "#E5ECF6",
            "gridcolor": "white",
            "gridwidth": 2,
            "linecolor": "white",
            "showbackground": true,
            "ticks": "",
            "zerolinecolor": "white"
           },
           "zaxis": {
            "backgroundcolor": "#E5ECF6",
            "gridcolor": "white",
            "gridwidth": 2,
            "linecolor": "white",
            "showbackground": true,
            "ticks": "",
            "zerolinecolor": "white"
           }
          },
          "shapedefaults": {
           "line": {
            "color": "#2a3f5f"
           }
          },
          "ternary": {
           "aaxis": {
            "gridcolor": "white",
            "linecolor": "white",
            "ticks": ""
           },
           "baxis": {
            "gridcolor": "white",
            "linecolor": "white",
            "ticks": ""
           },
           "bgcolor": "#E5ECF6",
           "caxis": {
            "gridcolor": "white",
            "linecolor": "white",
            "ticks": ""
           }
          },
          "title": {
           "x": 0.05
          },
          "xaxis": {
           "automargin": true,
           "gridcolor": "white",
           "linecolor": "white",
           "ticks": "",
           "title": {
            "standoff": 15
           },
           "zerolinecolor": "white",
           "zerolinewidth": 2
          },
          "yaxis": {
           "automargin": true,
           "gridcolor": "white",
           "linecolor": "white",
           "ticks": "",
           "title": {
            "standoff": 15
           },
           "zerolinecolor": "white",
           "zerolinewidth": 2
          }
         }
        },
        "xaxis": {
         "anchor": "y",
         "domain": [
          0,
          1
         ],
         "title": {
          "text": "x1"
         }
        },
        "yaxis": {
         "anchor": "x",
         "domain": [
          0,
          1
         ],
         "title": {
          "text": "x2"
         }
        }
       }
      },
      "text/html": [
       "<div>                            <div id=\"9ff7a15a-6b9f-46e2-ab2f-7c0c2a2b3757\" class=\"plotly-graph-div\" style=\"height:525px; width:100%;\"></div>            <script type=\"text/javascript\">                require([\"plotly\"], function(Plotly) {                    window.PLOTLYENV=window.PLOTLYENV || {};                                    if (document.getElementById(\"9ff7a15a-6b9f-46e2-ab2f-7c0c2a2b3757\")) {                    Plotly.newPlot(                        \"9ff7a15a-6b9f-46e2-ab2f-7c0c2a2b3757\",                        [{\"customdata\":[[\"Generic NLP Technologies: Language, Knowledge and Information Extraction\"],[\"A Constraint-based Approach to English Prosodic Constituents\"],[\"a cb ed gf ih qp sr gt gd u )v 6w yx x 6x \\u00a6 6 w y \\u00a4 v \\u00a4 d fe \\\"g \\u00a4 h ji F k h hl e k x \\u00a4v 6m \\u00a4n eo v \\u00a4 i F k yw h x p 1x e x h 6x hx hm j x q `r kv sl e k hm w yx h t F qu wv \\\"n ix zy { | 6u 4{ 1} qe x \\\"x hx m F yx kn f h v j \\\" w i 6 1 i k \\u00a8 s c j w j \\\" F j 9 \\\" h 4 wf i A s s g k )\\u00a1 \\u00a2 \\u00a3 S\\u00a4 j \\u00a4 F\\u00a5 s\\u00a6 \\u00a7 )\\u00a2\\u00a9 \\u00ab\\u00aa \\u00ac k\\u00a1 \\u00ae w\\u00a9 \\u00ab )\\u00ae \\u00a7 ) j\\u00b0\\u00a2\\u00b1 h\\u00b2 F \\u00a7 ( \\u00aa s\\u00a4 j \\u00a4 \\u00b4\\u00b3 \\u00b5\\u00a9 \\u00ab \\u00b6 \\u00a7 ) s \\u00b8\\u2022 j (\\u00a9 \\u00a6 \\u00b1 (\\u00b1 )\\u00ae\\u00aa j \\u00b9\\u00a9 k\\u00b3 \\u00bb\\u00ba \\u00bc \\u00b1 )\\u00a3 \\u00aa \\u00bd \\u00a7 \\u00b2 \\u00bf\\u00be \\u00ab\\u00b1 ( \\u00a4 \\u00b9\\u00a9 \\u00ab\\u00aa \\u00bf\\u00b3 \\u00c0 \\u00c1 k \\u00a7 )\\u00a5 j ( \\u00b6 4 k\\u00c2\\u00c3 k (\\u00b1 \\u00c1\\u00c4 \\u00c5 \\u00bc\\u00a5 s \\u00a7 (\\u00a9 \\u00ac\\u00b3 \\u00b5 k\\u00ae \\u00a7 ) F\\u00b3 \\u00c0\\u00a5 j\\u00a1 \\u00ae\\u00aa s \\u00b1 (\\u00b1 \\u00c7AE \\u00a2\\u00a9 \\u00ab\\u00a1 k \\u00a7 )\\u00a2\\u00a9 \\u00ab\\u00aa s\\u00b1 \\u00c1\\u00c8 \\u00c9\\u00ae\\u00aa F\\u00ca \\u00cb \\u00aa j\\u00ae \\u00a7 ( \\u00a1 \\u00ae\\u00a3 \\u00cc\\u00c3 k\\u00aa \\u00bd\\u00a3 %\\u00a6 \\u00c1 k\\u00aa s\\u00a4 F\\u00a2\\u00a4 s k \\u00a7 ( \\u00b1 \\u00cd\\u00a5 s\\u00b1 ( \\u00a7 \\u00ce\\u00be \\u00a4 \\u00a6 \\u00a9 \\u00ab\\u00c2\\u2022 k ( \\u00a4 i\\u00c4 \\u00a8\\u00cf \\u00ce\\u00ae \\u00a7 ) z \\u00a7 ) s 3\\u00d0 ( \\u00c1 \\u00ab\\u00b1 (\\u00a9 \\u00ab\\u00aa k\\u00be j\\u00a1 \\u00a2 \\u00d1 e \\u00ab\\u00b1 \\u00ca \\u00b1 )\\u00a5 j\\u00c2\\u2022 j \\u00a7 )\\u00a2\\u00a9 \\u00ab\\u00aa s\\u00b1 \\u00d2\\u00d0 d\\u00d1 \\u00c9 \\u00a7 ) k \\u00a7 \\u00d3\\u00ba \\u00bc \\u00d4\\u00a6 \\u00a9 \\u00ab\\u00aa s\\u00b1 ) \\u00a7 ) k\\u00ae\\u00aa 1 \\u00a7 (\\u00b1 k ( \\u00b4\\u00a4 j \\u00b1 (\\u00a6 )\\u00ae\\u2022 j \\u00a7 )\\u00a2\\u00a9 \\u00ab\\u00aa s\\u00b1 \\u00bf\\u00a4 j \\u00aa s\\u00a9 \\u00ab \\u00a7 )\\u00ae\\u00aa j Y\\u00be \\u00a4\\u00a9 \\u00ab\\u00a5 j\\u00aa s\\u00a4 j \\u00a4 \\u00b1 ) \\u00a7 ) )\\u00a5 s\\u00a6 \\u00a7 )\\u00a5 j ( \\u00b1 I k\\u00aa s\\u00a4 \\u00d5\\u00d0 \\u00aed\\u00d1 e \\u00a7 ) k \\u00a7 AE w )\\u00a3 )\\u00a5 j\\u00a1 \\u00a2 ( h\\u00ca \\u00a6 \\u00a5 j (\\u00b1 )\\u00a2\\u00a9 \\u00ab\\u00aa \\u00d3\\u00ae\\u00aa \\u00d6 \\u00a7 ) s \\u00c3\\u00be \\u00ab\\u00b1 ( f 4 k\\u00c2\\u00c3 k `\\u00ae\\u00aa s\\u00a6 \\u00a5 j (\\u00b1 \\u00b1 (\\u00a9 \\u00abf A\\u00a6 \\u00a9 \\u00ab\\u00aa s\\u00b1 ) \\u00a7 ) k\\u00ae\\u00aa 1 \\u00a7 AE 1\\u00a2\\u00a9 \\u00ab\\u00a1 k \\u00a7 )\\u00a2\\u00a9 \\u00ab\\u00aa \\u00c8 \\u00bc\\u00a6 ( k ) \\u00a7 g k\\u00a1 \\u00d7\\u00ca w\\u00a9 \\u00ab )\\u00ae \\u00a7 ) j\\u00ac\\u00a6 \\u00c1 k\\u00aa \\u00d8\\u00be \\u00a4 \\u00d9\\u00a4 j AE \\u00a2\\u00b1 ( \\u00a4 i\\u00c4 \\u00a8\\u00da \\u00db\\u00aa 1 \\u00a7 ( )\\u00a1 \\u00a2 \\u00c1 AE \\u00ae\\u00aa j \\u2022 k (\\u00b1 )\\u00ae\\u00aa j s k\\u00aa s\\u00a4 \\u00a2 w \\u00aa s k \\u00a7 )\\u00a2\\u00a9 \\u00ab\\u00aa \\u00b9\\u2022 \\u00a4 )\\u00c2\\u00ae \\u00a7 (\\u00b1 f \\u00a7 ) s k\\u2022 j\\u2022 j\\u00a1 \\u00ae\\u00a2\\u00a6 \\u00c1 k \\u00a7 )\\u00a2\\u00a9 \\u00ab\\u00aa \\u00cd\\u00a9 k\\u00b3 ` w \\u00aa s k \\u00a7 )\\u00a2\\u00a9 \\u00ab\\u00aa F\\u00ca \\u00be \\u00ab\\u00b1 ( \\u00a4 \\u00cd\\u00a9 \\u00ab\\u2022 F\\u00ca \\u00a7 )\\u00ae\\u00c2\\u00ae\\u00dc k \\u00a7 )\\u00a2\\u00a9 \\u00ab\\u00aa s AE w \\u00aa T\\u00ae\\u00aa \\u00b8 \\u00a7 ) s \\u00c2\\u2022 k (\\u00b1 )\\u00ae\\u00aa j \\u00b6 \\u00a7 \\u00ab\\u00b1 (\\u00dd 6\\u00c8 \\u00c4 \\u00de 4\\u00c4 \\u00ae\\u00c8 F\\u00b3 \\u00b5\\u00a9 \\u00ab V \\u00d8\\u00b1 ) \\u00a7 ) )\\u00ae\\u00aa j f\\u00ae\\u00aa j\\u2022 j\\u00a5 j \\u00a7 \\u00c1\\u00c4 \\u00df \\u00e0 d c 4 wb \\u00e1 gr g w\\u00e2 \\u00dbb ed \\u00da \\u00aa \\u00e3\\u00ba 3\\u2022 j \\u00a7 )\\u00ae\\u00c3 k\\u00a1 \\u00ae\\u00ae \\u00a7 \\u00db\\u00a3 \\u00cd A s \\u00a9 \\u00ab )\\u00a3 Y\\u00d0 \\u00ba \\u00bc V\\u00d1 h\\u00c8 R\\u00be 6\\u00a9 \\u00ab \\u00a7 ) \\u00a7 ) s \\u00d2\\u00d0 AE 1\\u00a2\\u00a9 k\\u00ca \\u00a1 k\\u00be j\\u00a1 \\u00a2 \\u00d1 \\u00d5\\u00a6 \\u00a9 \\u00ab\\u00aa s\\u00b1 ( \\u00a7 ) k\\u00ae\\u00aa \\u00bd \\u00a7 (\\u00b1 k\\u00aa s\\u00a4 \\u00cd \\u00a7 ) s T\\u00b1 ( \\u00a7 \\u00a9 k\\u00b3 \\u00c2\\u00a6 \\u00a9 \\u00ab\\u00c2\\u2022 \\u00a4 \\u00a7 )\\u00ae\\u00aa j \\u00a6 \\u00c1 k\\u00aa s\\u00a4 F\\u00a2\\u00a4 s k \\u00a7 ( '\\u00b1 ) \\u00a7 ) )\\u00a5 s\\u00a6 \\u00a7 )\\u00a5 j ( \\u00b1 \\u00d9 k ( A\\u00a5 j\\u00aa j\\u00aeAE w (\\u00b1 k\\u00a1 \\u00ae\\u00a1 \\u00ae\\u00a3 \\u00ae\\u00aa 1AE \\u00ab k ) k\\u00aa 1 \\u00a7 \\u00c1\\u00e4 \\u00e5 \\u00a5 s\\u00b1 ) \\u00a7 \\u00d9 \\u00a7 ) s 3 ( \\u00a1 k \\u00a7 )\\u00aeAE w 9 k\\u00aa j\\u00dd \\u00ae\\u00aa j \\u00d8\\u00a9 k\\u00b3 \\u00a8\\u00a6 \\u00a9 \\u00ab\\u00aa s\\u00b1 ) \\u00a7 ) k\\u00ae\\u00aa \\u00bd \\u00a7 (\\u00b1 A\\u00a2\\u00b1 A\\u00b1 )\\u00a5 j\\u00be F\\u00ca \\u00e5 \\u00a6 \\u00a7 \\u00a6 \\u00a7 (\\u00a9 \\u00b6\\u00a6 (\\u00a9 4\\u00b1 (\\u00b1 \\u00ca \\u00a1 \\u00ae\\u00ae\\u00aa j 4\\u00a5 j\\u00a2\\u00b1 ) \\u00a7 )\\u00a2\\u00a6 fAE \\u00ab k ) k \\u00a7 )\\u00a2\\u00a9 \\u00ab\\u00aa \\u00c4 \\u00bb A j\\u00a2\\u00b1 z\\u00c3 k\\u00dd w \\u00b1 \\u00ba \\u00bc \\u00c7 k\\u00aa \\u00bb k \\u00a7 ) \\u00a7 ) \\u00ab\\u00a6 \\u00a7 )\\u00aeAE w Rf\\u00a9 \\u00a4 j \\u00a1 j\\u00b3 \\u00b5\\u00a9 \\u00ab \\u00a7 ) s R h\\u00b2 \\u2022 j\\u00a1 k\\u00aa k \\u00a7 )\\u00a2\\u00a9 \\u00ab\\u00aa \\u00bb\\u00a9 k\\u00b3 \\u00a7 \\u00db\\u00a3 \\u2022 \\u00a4\\u00a9 \\u00ab\\u00a1 \\u00a2\\u00a9 \\u00ab 4\\u00a2\\u00a6 \\u00c1 k\\u00a1 cAE 4 k ) k \\u00a7 )\\u00a2\\u00a9 \\u00ab\\u00aa \\u00c9 k\\u00aa s\\u00a4 \\u00c9 \\u00ab\\u00a6 ae \\u00bd\\u00a5 j\\u00a2\\u00b1 )\\u00ae \\u00a7 )\\u00a2\\u00a9 \\u00ab\\u00aa \\u00c4 A\\u00da \\u00aa q\\u00a6 \\u00a9 \\u00ab\\u00aa F\\u00ca \\u00a7 ) \\u00ab\\u00b1 ) \\u00a7 f \\u00a7 (\\u00a9 s\\u00ba \\u00bc \\u00e7\\u2022 j s\\u00a9 \\u00ab\\u00aa s\\u00a9 \\u00ab\\u00a1 \\u00a2\\u00a9 \\u00ab 4\\u00a3 \\u00bf \\u00a7 ) s ( \\u00d5 \\u00ab\\u00b1 \\u00c2\\u00be \\u00a4 \\u00aa \\u00c7\\u00a1 \\u00ae\\u00ae \\u00a7 ) \\u00a7 )\\u00a1 \\u00a2 \\u00a6 \\u00a9 \\u00ab\\u00c2\\u2022 j\\u00a5 j \\u00a7 k \\u00a7 )\\u00a2\\u00a9 \\u00ab\\u00aa k\\u00a1 \\u00bc\\u00e8 \\u00d9\\u00a9 \\u00ab )\\u00dd \\u00bf\\u00a9 \\u00ab\\u00aa \\u00ce\\u00ba \\u00bc \\u00e9\\u00b1 )\\u00a3 \\u00aa \\u00bd \\u00a7 \\u00b2 i\\u00c4 \\u00b9\\u00ea \\u00bc ( 4\\u00c8 A\\u00da \\u2022 j (\\u00a9 \\u00ab\\u2022 \\u00a4\\u00a9 4\\u00b1 ( 3 z\\u2022 k (\\u00b1 )\\u00ae\\u00aa j 1\\u00eb w \\u00aa s k \\u00a7 )\\u00a2\\u00a9 \\u00ab\\u00aa \\u00b6\\u00b1 ) \\u00a7 ) k \\u00a7 ( 4\\u00a3 \\u00c2\\u00b3 \\u00b5\\u00a9 \\u00ab A\\u00ba \\u00bc \\u00b1 )\\u00a3 \\u00aa \\u00bd \\u00a7 \\u00b2 \\u00be \\u00ab\\u00b1 ( \\u00a4 \\u00e3\\u00a9 \\u00ab\\u00aa S g k )\\u00a1 \\u00a2 \\u00a3 \\u00cd\\u00a4 j \\u00a4 F\\u00a5 s\\u00a6 \\u00a7 )\\u00a2\\u00a9 \\u00ab\\u00aa \\u00c8 \\u00a6 \\u00a9 \\u00ab\\u00be j\\u00ae\\u00aa F\\u00ca \\u00ae\\u00aa j e \\u00b1 k \\u00c1\\u00ec \\u00de\\u00b1 \\u00c7\\u00d0 \\u00ed \\u00c1\\u00ee 4\\u00ee 4\\u00ef w\\u00d1 \\u00a6 k ) \\u00a7 \\u00ca \\u00be \\u00ab\\u00b1 ( \\u00a4 Y\\u00a6 \\u00a9 \\u00ab\\u00c2\\u2022 j\\u00a5 j \\u00a7 k \\u00a7 )\\u00a2\\u00a9 \\u00ab\\u00aa \\u00a9 k\\u00b3 \\u00d8\\u00ba \\u00bc \\u00f0\\u00a6 \\u00a9 \\u00ab\\u00c2\\u2022 6 \\u00a7 )\\u00ae \\u00a7 )\\u00a2\\u00a9 \\u00ab\\u00aa \\u00e8 R\\u00ae \\u00a7 ) \\u00b4\\u00ae\\u00aa s\\u00b1 )\\u00ae 4 1 \\u00a7 (\\u00b1 \\u00bb\\u00b3 (\\u00a9 \\u00abX\\u2022 k (\\u00b1 \\u00ca \\u00ae\\u00aa j 1\\u00eb w \\u00aa s k \\u00a7 )\\u00a2\\u00a9 \\u00ab\\u00aa \\u00e9\\u00e8 R\\u00ae \\u00a7 ) \\u00e7\\u00a6 \\u00a9 \\u00ab\\u00aa s\\u00b1 ) \\u00a7 ) k\\u00ae\\u00aa 1 \\u00a7 \\u00ca \\u00be \\u00ab\\u00b1 ( \\u00a4 \\u00e7 4 k\\u00d8\\u00ca \\u00c3 k (\\u00b1 q\\u00d0 \\u00ae\\u00aa \\u00bf\\u2022 k ) \\u00a7 )\\u00a2\\u00a6 \\u00a5 j\\u00a1 k \\u00c3\\u00f1 \\u00bc \\u00a5 j\\u00c3 k\\u00aa j\\u00aa \\u00ec \\u00de\\u00b1 \\u00d0 \\u00ed \\u00c1\\u00ee 4\\u00ee 4\\u00f2 w\\u00d1 \\u00d8\\u00ae\\u00aa \\u00bd \\u00a7 ( \\u00ca \\u00a1 \\u00a2 \\u00c1 AE \\u00ae\\u00aa j 1\\u00d1 h\\u00c4 z\\u00f3 \\u00f4\\u2022 j (\\u00a9 \\u00ab \\u00a7 (\\u00a9 \\u00ab \\u00a7 \\u00db\\u00a3 \\u2022 6 ` \\u00ab\\u00b1 9\\u00be \\u00a4 \\u00aa \\u00ae\\u00c2\\u2022 j\\u00a1 \\u00a2 f \\u00aa 1 \\u00a7 ( \\u00a4 \\u00ae\\u00aa \\u00b6\\u00f5 (\\u00a9 \\u00ab\\u00a1 \\u00a2\\u00a9 \\u00ab s\\u00c4 \\u00f6 \\u00a6 4\\u00c4 \\u00c3\\u00f7 \\u00f8\\u2022 j ( \\u00b1 ( \\u00aa 1 \\u00a7 (\\u00b1 \\u00bf\\u00be \\u00ab\\u00a6 (\\u00dd 4 (\\u00a9 \\u00ab\\u00a5 j\\u00aa s\\u00a4 8\\u00a9 \\u00ab\\u00aa \\u00cc\\u00ba \\u00bc \\u00f9\\u00b1 (\\u00a3 1\\u00aa F\\u00ca \\u00a7 \\u00b2 \\u00fa k\\u00aa s\\u00a4 \\u00e9 \\u00e3\\u00b3 \\u00b5\\u00a9 \\u00ab )\\u00c3 k\\u00a1 \\u00ae\\u00ae\\u00dc k \\u00a7 )\\u00a2\\u00a9 \\u00ab\\u00aa \\u00e9\\u00be \\u00ab\\u00b1 ( \\u00a4 \\u00fa\\u00a9 \\u00ab\\u00aa \\u00e9\\u00fb h\\u00b2 F\\u00a2\\u00a6 \\u00c1 k\\u00a1 \\u00d7\\u00ca\"],[\"\\u00a2\\u00a1 \\u00a4\\u00a3 \\u00a5\\u00a1 \\u00a7\\u00a6 \\u00a9 \\u00a6 \\u00a6 \\u00a9 ! \\\"\\u00a3 \\\" $# % \\\"\\u00a3 \\u00a5& ' \\u00a6 \\u00a3 \\u00a5 \\u00a6 \\u00a9\\u00a1 )( 021 43 65 87 \\u00a5 4\\u00a6 \\u00a9 9& @\\u00a6 \\u00a1 A& 'B C ED GF HF ID $P RQ TS VU W XD YD Gba cD $d fe F Hg ih e p Hq Rr C Ee q sP sP Rp HF ID YF t vu sw yx \\\"u R u R Rw 9u s G yw \\u00a4u w yx u d w yu s x e \\u00a9f gu ih ' e x w j yx w \\u00a4k l Gm u sn \\u00a2o p \\u00a2q Yu sr R u sw \\u00a4 y o t u v w Rx $y r z h '{ }| w j u\"],[\"Query-Relevant Summarization using FAQs\"],[\"Lexical transfer using a vector-space model\"],[\"The Role of Centering Theory's Rough-Shift in the Teaching and Evaluation of Writing Skills\"],[\"\"],[\"\"],[\"\"],[\"Statistical parsing with an automatically-extracted tree adjoining grammar\"],[\"Automatic Labeling of Semantic Roles\"],[\"COMPUTATIONAL LINGUISTICS IN INDIA: AN OVERVIEW\"],[\"An Information-Theory-Based Feature Type Analysis for the Modelling of Statistical Parsing\"],[\"\\u00a2\\u00a1 \\u00a4\\u00a3 \\u00a5\\u00a3 \\u00a5\\u00a6 \\u00a8 \\u00a7 \\u00a9 \\u00a9 !\\u00a3 \\u00a5\\u00a6 \\u00a8\\\" $# &% ' ( )\\u00a6 \\u00a8\\u00a3 10 2 \\u00a6 3 4 \\u00a7 15 6 87 9# & A@ B# 9C ED F\\u00a6 3\\u00a6 3G IH 1P Q R R S\\u00a1 T \\u00a7 UR V A \\u00a7 U( W\\u00a1 \\u00a4\\u00a3 \\u00a5\\u00a6 3 X\\u00a1 Y \\u00a7 UR ` \\u00a2\\u00a1 TR AH ba cR R A\\\" Yd E7 W\\u00a1 Y \\u00a7 U e7 W\\u00a1 f g\\u00a1 $7 ih p rq \\u00a3 E# 9C ED U G 3\\u00a1 Y \\u00a7 UR Ep r 4 \\u00a7 U\\u00a3 ts u\\u00a6 wv g\\u00a1 \\u00a4G x 4\\\" V \\u00a6 \\\" \\u00a4 e7 W\\u00a1 \\u00a4 E\\u00a1 $7 ih y 3 W w 9 W w \\u00a8 x ed gf &h \\u00a8d Si kj l )m nd od p Uq r s Yt Bu q vt !w x y f 8x zw s Bu Q &t e{ |w i ~} ) { q 8 q W{ | q s B Y{ |t f w &x e \\u00a8w i v iw w i W iw Q f W S W 8 9 w & f 9 \\u00a8w i v iw i f i i i ) W i r q nq t B B Y{ |{ o & U{ ) t ew i v w W \\u00a1 & r \\u00a2 W i \\u00a4\\u00a3 \\u00a5h 3 3 \\u00a7\\u00a6 d gp Uq nr &s Yt eu q vt \\u00a9w x \\u00aa Sw iu r 8t q s \\u00a9} ) n{ q W q \\u00ab w is q W{ | q s Y B{ |t f k\\u00ac \\u00a4 r \\u00a5\\u00ae E u \\u00af p w i W 8 } q w i W i\\u00b0W 8 v \\u00a4 \\u00b1 } q w i \\u00b2 T ) i \\u00ab w is q s Y{ u \\u00b3 \\u00a5 r w is q 8 & 9s \\u00b6\\u00b5 ej \\u00a4\\u2022 f \\u2022 \\u00b9 $\\u00ba \\u00bc\\u00bb \\u00a4\\u00bd 9\\u00be \\u00c0\\u00bf \\u00c2\\u00c1 \\u00c4\\u00c3 l\\u00c1 W\\u00c5 AE \\u00c2\\u00c7 e\\u00c5 \\u00c8\\u00c1 9AE \\u00a4\\u00c5 \\u00c9\\u00bf f\\u00c5 \\u00c9\\u00ba &\\u00bb \\u00ca\\u00bd \\u00c4\\u00be \\u00c0\\u00cb 9\\u00cb v\\u00c5 \\u00c9\\u00ba \\u00cc \\u00b3\\u00c3 lAE \\u00a4\\u00cd \\u00ce \\u00cf 6\\u00d0 \\u00a5\\u00ce i\\u00cb v\\u00c5 \\u00c9\\u00d1 \\u00c0\\u00bf E\\u00d2 \\u00ce AE U\\u00d3 !\\u00ce AE \\u00a4\\u00c5 \\u00c9\\u00c3 \\u00ba \\u00d4\\u00c1 \\u00c4\\u00c3 lAE \\u00a4\\u00bb $\\u00d5 z\\u00ce \\u00d2 |\\u00d5 \\u00bf \\u00a4\\u00c1 8\\u00c5 \\u00c5 \\u00c9\\u00d6 Y\\u00bd \\u00d7\\u00bb \\u00a4\\u00c3 l\\u00d8 \\u00d8 \\u00be \\u00d9\\u00ba v\\u00d8 v\\u00da x\\u00c7 \\u00bd 9\\u00be \\u00c0\\u00d6 Y\\u00bd \\u00d6 e\\u00ce \\u00ba \\u00c4\\u00bf \\u00a4\\u00be \\u00c0\\u00cb v\\u00c5 AE g\\u00d3 \\u00db\\u00ce l\\u00d5 AE T\\u00c5 \\u00c9\\u00c3 \\u00ba \\u00d6 T\\u00bd \\u00c4\\u00c3 lAE T\\u00c3 \\u00d6 e\\u00bb f\\u00c5 AE T\\u00be \\u00c0\\u00bf f\\u00bb \\u00a4\\u00be \\u00d9\\u00d6 \\u00bf c\\u00bf \\u00a4\\u00dc 9\\u00d6 Y\\u00bd \\u00c3 \\u00bf \\u00dd\\u00bd 9\\u00be \\u00de\\u00d8 \\u00bd \\u00c3 l\\u00d8 \\u00d8 \\u00d1 \\u00d9\\u00dc v\\u00bb \\u00a4\\u00be \\u00c0\\u00ba 9\\u00c3 l\\u00bb \\u00a4\\u00be \\u00de\\u00cf i\\u00be \\u00de\\u00bb o\\u00df \\u00da \\u00c7 e\\u00ce AE T\\u00cb i\\u00d5 g\\u00bf f\\u00c1 )\\u00c3 \\u00d6 \\u00be \\u00c0\\u00ba v\\u00d8 v\\u00da \\u00d4\\u00c3 \\u00ba 9\\u00cb \\u00bd \\u00c4\\u00be \\u00de\\u00d8 \\u00bd \\u00e0\\u00d1 \\u00de\\u00c5 e\\u00e1 i\\u00be \\u00d9\\u00d6 \\u00c3 \\u00d1 S\\u00d6 e\\u00ce AE TAE \\u00a4\\u00c5 \\u00c9\\u00d1 \\u00c0\\u00c3 l\\u00bb \\u00a4\\u00be \\u00de\\u00cf i\\u00be \\u00de\\u00bb g\\u00df \\u00e2 \\u00dd\\u00b9 \\u00ba \\u00e0\\u00ce AE Y\\u00cb v\\u00c5 AE \\u00ce \\u00bb \\u00db\\u00d6 e\\u00ce \\u00ba 9\\u00bf T\\u00be \\u00c0\\u00cb v\\u00c5 AE \\u00e3AE T\\u00be \\u00c0\\u00d6 Y\\u00bd \\u00b3\\u00be \\u00d9\\u00ba v\\u00d2 |\\u00ce AE Y\\u00d0 \\u00b1\\u00c3 l\\u00bb \\u00a4\\u00be \\u00de\\u00ce \\u00ba \\u00b3\\u00be \\u00c0\\u00ba \\u00b6\\u00d6 e\\u00ce \\u00ba i\\u00d5 \\u00bb f\\u00c5 e\\u00e1 i\\u00bb \\u00a4\\u00bf \\u00da )\\u00bb \\u00a4\\u00bd v\\u00c5 E\\u00d0 \\u00a5\\u00ce i\\u00cb v\\u00c5 \\u00c9\\u00d1 \\u00c0\\u00bf \\u00c3 \\u00cb v\\u00ce \\u00c1 9\\u00bb \\u00c3 k\\u00d1 \\u00de\\u00c5 \\u00c9\\u00bf \\u00a4\\u00bf 4\\u00bf f\\u00bb fAE Y\\u00be \\u00c0\\u00d6 e\\u00bb \\u00cc \\u00b3\\u00c3 lAE \\u00a4\\u00cd \\u00ce \\u00cf u\\u00c3 \\u00bf \\u00a4\\u00bf \\u00a4\\u00dc 9\\u00d0 \\u00b1\\u00c1 9\\u00bb \\u00a4\\u00be \\u00de\\u00ce \\u00ba \\u00e2 \\u00b9 $\\u00ba \\u00e4\\u00bb \\u00a4\\u00bd v\\u00c5 g\\u00d0 \\u00a5\\u00ce \\u00cb 9\\u00c5 \\u00c9\\u00d1 \\u00c0\\u00bf \\u00da \\u00bf \\u00a4\\u00c1 \\u00c4\\u00c3 lAE T\\u00bf f\\u00c5 e\\u00d5 g\\u00cb 9\\u00c3 l\\u00bb \\u00a4\\u00c3 \\u00b3\\u00c1 9AE T\\u00ce \\u00e5 \\u00c4\\u00d1 \\u00de\\u00c5 \\u00c9\\u00d0 ae\\u00be \\u00c0\\u00bf \\u00a9\\u00cf \\u00c5 AE T\\u00df \\u00bf f\\u00c5 AE T\\u00be \\u00c0\\u00ce \\u00dc 9\\u00bf \\u00c3 \\u00ba \\u00c4\\u00cb \\u00a9\\u00bb \\u00a4\\u00bd v\\u00c5 \\u00c9\\u00be \\u00c0AE \\u00e7\\u00c1 \\u00c4\\u00c3 lAE Y\\u00c3 \\u00d0 \\u00a5\\u00c5 \\u00bb f\\u00c5 AE T\\u00bf \\u00e7\\u00bb f\\u00c5 \\u00c9\\u00ba 9\\u00cb g\\u00bb f\\u00ce A\\u00e5 W\\u00c5 \\u00a8\\u00c5 \\u00c9\\u00bf \\u00a4\\u00bb \\u00a4\\u00be \\u00e8\\u00d5 \\u00d0 r\\u00c3 l\\u00bb f\\u00c5 \\u00c9\\u00cb u\\u00dc 9\\u00ba vAE T\\u00c5 \\u00c9\\u00d1 \\u00c0\\u00be \\u00c0\\u00c3 l\\u00e5 \\u00c4\\u00d1 \\u00de\\u00df r\\u00e5 8\\u00c5 \\u00c9\\u00d6 \\u00c3 \\u00dc \\u00c4\\u00bf f\\u00c5 !\\u00bb \\u00a4\\u00bd v\\u00c5 \\u00df \\u00af\\u00bd 9\\u00c3 \\u00a4\\u00cf \\u00c5 \\u00c3 6\\u00d1 \\u00c0\\u00c3 lAE \\u00a4\\u00d8 \\u00c5 \\u00b3\\u00ba &\\u00dc \\u00c4\\u00d0 \\u00a9\\u00e5 W\\u00c5 AE F\\u00ce \\u00d2 \\u00db\\u00c1 \\u00c4\\u00c3 lAE T\\u00c3 \\u00d0 \\u00a5\\u00c5 \\u00bb f\\u00c5 AE T\\u00bf \\u00c9\\u00e2 \\u00ca\\u00e9 \\u00e7\\u00ce \\u00ce \\u00cf \\u00c5 AE T\\u00d6 e\\u00ce \\u00d0 \\u00a5\\u00c5 ~\\u00bf f\\u00c1 )\\u00c3 lAE T\\u00bf f\\u00c5 e\\u00d5 g\\u00cb 9\\u00c3 l\\u00bb \\u00a4\\u00c3 \\u00c1 9AE \\u00a4\\u00ce \\u00e5 \\u00c4\\u00d1 \\u00c0\\u00c5 \\u00c9\\u00d0 \\u00af\\u00da \\u00ce \\u00dc vAE \\u00d0 \\u00b1\\u00ce \\u00cb v\\u00c5 \\u00c9\\u00d1 U\\u00dc 9\\u00bf \\u00a4\\u00c5 \\u00c9\\u00bf ~\\u00c3 \\u00a7\\u00bf \\u00a4\\u00be \\u00c0\\u00d0 \\u00a5\\u00c1 )\\u00d1 \\u00c0\\u00be \\u00e8\\u00ea \\u00c4\\u00c5 \\u00c9\\u00cb \\u00cf \\u00c5 AE T\\u00bf \\u00a4\\u00be \\u00de\\u00ce \\u00ba \\u00eb\\u00ce \\u00d2 \\u00bb \\u00a4\\u00bd 9\\u00c5 ~\\u00c7 \\u00c5 \\u00c9\\u00d1 \\u00d9\\u00d1 \\u00e8\\u00d5 z\\u00cd \\u00ba 9\\u00ce \\u00a4\\u00c7 \\u00ba \\u00e0\\u00e5 \\u00c4\\u00c3 \\u00d6 T\\u00cd \\u00d5 z\\u00ce l\\u00ec c\\u00bf T\\u00d0 \\u00a5\\u00ce &\\u00ce \\u00bb \\u00a4\\u00bd \\u00c4\\u00be \\u00c0\\u00ba v\\u00d8 \\u00d0 \\u00b1\\u00c5 \\u00bb \\u00a4\\u00bd v\\u00ce \\u00cb X\\u00e2 \\u00e9 \\u00e7\\u00ce \\u00a9\\u00d0 \\u00b1\\u00be \\u00de\\u00bb \\u00a4\\u00be \\u00c0\\u00d8 \\u00c3 l\\u00bb f\\u00c5 4\\u00dc 9\\u00ba vAE \\u00a4\\u00c5 \\u00c9\\u00d1 \\u00c0\\u00be \\u00d9\\u00c3 l\\u00e5 \\u00c4\\u00d1 \\u00de\\u00c5 \\u00a8\\u00c5 \\u00c9\\u00bf \\u00a4\\u00bb \\u00a4\\u00be \\u00e8\\u00d5 \\u00d0 r\\u00c3 l\\u00bb \\u00a4\\u00be \\u00de\\u00ce \\u00ba r\\u00c1 \\u00c4AE \\u00a4\\u00ce \\u00e5 \\u00c4\\u00d1 \\u00de\\u00c5 \\u00c9\\u00d0 \\u00af\\u00da &\\u00ce \\u00dc vAE \\u00d0 \\u00b1\\u00ce \\u00cb v\\u00c5 \\u00c9\\u00d1 \\u00d9\\u00bf \\u00a8\\u00c3 \\u00bf \\u00a4\\u00bf \\u00a4\\u00dc \\u00c4\\u00d0 \\u00a5\\u00c5 \\u00ed f\\u00ce \\u00be \\u00c0\\u00ba &\\u00bb Q\\u00be \\u00c0\\u00ba \\u00c4\\u00cb v\\u00c5 \\u00c1 W\\u00c5 \\u00c9\\u00ba 9\\u00cb v\\u00c5 \\u00c9\\u00ba 9\\u00d6 e\\u00c5 ~\\u00be \\u00c0\\u00ba \\u00c4\\u00bf f\\u00bb f\\u00c5 \\u00c9\\u00c3 \\u00cb \\u00ce \\u00d2 k\\u00d6 e\\u00ce \\u00ba i\\u00d5 \\u00cb \\u00c4\\u00be \\u00de\\u00bb \\u00a4\\u00be \\u00de\\u00ce \\u00ba 9\\u00c3 \\u00d1 \\u00be \\u00c0\\u00ba 9\\u00cb v\\u00c5 \\u00c1 W\\u00c5 \\u00c9\\u00ba 9\\u00cb 9\\u00c5 \\u00c9\\u00ba 9\\u00d6 e\\u00c5 E\\u00e5 W\\u00c5 \\u00c9\\u00d6 \\u00c3 \\u00dc 9\\u00bf \\u00a4\\u00c5 S\\u00ed $\\u00ce \\u00be \\u00c0\\u00ba &\\u00bb \\u00c1 \\u00c4AE \\u00a4\\u00ce \\u00e5 \\u00c4\\u00c3 l\\u00e5 \\u00c4\\u00be \\u00c0\\u00d1 \\u00d9\\u00be \\u00de\\u00bb \\u00a4\\u00be \\u00de\\u00c5 \\u00c9\\u00bf W\\u00bd 9\\u00c3 \\u00c9\\u00cf \\u00c5 e\\u00bb \\u00a4\\u00bd v\\u00c5 e\\u00bf \\u00a4\\u00c3 \\u00d0 \\u00a5\\u00c5 \\u00cb 9\\u00c5 \\u00d8 AE \\u00a4\\u00c5 \\u00c5 \\u00a8\\u00ce \\u00d2 \\u00c5 \\u00c9\\u00bf \\u00a4\\u00bb \\u00a4\\u00be \\u00c0\\u00d0 \\u00b1\\u00c3 l\\u00bb \\u00a4\\u00be \\u00de\\u00ce \\u00ba \\u00b3AE \\u00a4\\u00c5 \\u00c9\\u00d1 \\u00c0\\u00be \\u00d9\\u00c3 l\\u00e5 \\u00c4\\u00be \\u00c0\\u00d1 \\u00c0\\u00be \\u00de\\u00bb o\\u00df \\u00e2 \\u00ee x\\u00e1 i\\u00c1 W\\u00c5 AE T\\u00be \\u00c0\\u00d0 \\u00a5\\u00c5 \\u00c9\\u00ba &\\u00bb \\u00a4\\u00c3 \\u00d1 AE T\\u00c5 \\u00c9\\u00bf \\u00a4\\u00dc 9\\u00d1 \\u00de\\u00bb \\u00a4\\u00bf \\u00b1\\u00bf T\\u00bd v\\u00ce \\u00a4\\u00c7 \\u00bb \\u00a4\\u00bd 9\\u00c3 l\\u00bb r\\u00d0 \\u00a5\\u00ce i\\u00cb v\\u00c5 \\u00c9\\u00d1 \\u00c0\\u00bf \\u00a5\\u00c7 A\\u00be \\u00de\\u00bb \\u00a4\\u00bd \\u00efAE T\\u00be \\u00c0\\u00d6 Y\\u00bd \\u00d6 e\\u00ce \\u00ba &\\u00bb f\\u00c5 e\\u00e1 i\\u00bb \\u00a4\\u00bf Q\\u00c1 W\\u00c5 AE \\u00a4\\u00d2 \\u00ce AE T\\u00d0 1\\u00c5 \\u00cf \\u00c5 \\u00c9\\u00ba \\u00ca\\u00e5 W\\u00c5 \\u00bb f\\u00bb f\\u00c5 AE \\u00b3\\u00bb \\u00a4\\u00bd 9\\u00c3 \\u00ba \\u00bf \\u00a4\\u00bb \\u00a4\\u00c3 \\u00ba 9\\u00cb 9\\u00c3 lAE T\\u00cb \\u00f1\\u00f0 S\\u00cc \\u00b3\\u00cc Q\\u00bf F\\u00c3 \\u00ba 9\\u00cb \\u00f1\\u00bb \\u00a4\\u00bd \\u00c4\\u00c3 l\\u00bb \\u00db\\u00ed f\\u00ce \\u00be \\u00c0\\u00ba \\u00bb k\\u00be \\u00c0\\u00ba i\\u00d5 \\u00cb 9\\u00c5 \\u00c1 8\\u00c5 \\u00c9\\u00ba \\u00c4\\u00cb v\\u00c5 \\u00c9\\u00ba \\u00bb \\u00c3 \\u00bf \\u00a4\\u00bf \\u00a4\\u00dc 9\\u00d0 \\u00a5\\u00c1 \\u00c4\\u00bb \\u00a4\\u00be \\u00de\\u00ce \\u00ba k\\u00be \\u00d9\\u00bf 3\\u00c5 e\\u00ec W\\u00c5 \\u00c9\\u00d6 e\\u00bb \\u00a4\\u00be \\u00de\\u00cf \\u00c5 !\\u00be \\u00c0\\u00ba \\u00bf \\u00a4\\u00ce \\u00d0 \\u00a5\\u00c5 \\u00a9\\u00d0 \\u00a5\\u00ce i\\u00cb v\\u00c5 \\u00c9\\u00d1 \\u00c0\\u00bf \\u00e2 \\u00f2 \\u00f3 \\u00e7\\u2022 x\\u00f4 \\u00a8 \\u00a8f \\u2022 d g I \\u00d3 \\u00db\\u00ce AE \\u00a4\\u00c5 \\u00c9\\u00c3 \\u00ba \\u00eb\\u00be \\u00c0\\u00bf Q\\u00c3 \\u00ba \\u00eb\\u00bd 9\\u00be \\u00de\\u00d8 \\u00bd 9\\u00d1 \\u00de\\u00df \\u00e0\\u00c3 l\\u00d8 \\u00d8 \\u00d1 \\u00c0\\u00dc v\\u00bb \\u00a4\\u00be \\u00d9\\u00ba 9\\u00c3 l\\u00bb \\u00a4\\u00be \\u00de\\u00cf \\u00c5 \\u00d4\\u00d1 \\u00c0\\u00c3 \\u00ba v\\u00d8 \\u00dc 9\\u00c3 l\\u00d8 \\u00c5 \\u00c7 \\u00bd 9\\u00be \\u00d9\\u00d6 T\\u00bd \\u00f5\\u00bd 9\\u00c3 \\u00bf \\u00f6\\u00c7 e\\u00ce AE T\\u00cb i\\u00d5 g\\u00bf \\u00a4\\u00c1 \\u00c4\\u00c3 \\u00d6 \\u00be \\u00c0\\u00ba v\\u00d8 \\u00f7\\u00ce AE \\u00a4\\u00bb \\u00a4\\u00bd v\\u00ce \\u00d8 AE Y\\u00c3 l\\u00c1 \\u00c4\\u00bd \\u00df \\u00e2 \\u00b9 o\\u00bb \\u00d0 \\u00b1\\u00c3 l\\u00cd \\u00c5 \\u00c9\\u00bf \\u00b1\\u00d3 !\\u00ce AE \\u00a4\\u00c5 \\u00c9\\u00c3 \\u00ba 6\\u00c1 \\u00c4\\u00c3 lAE \\u00a4\\u00bb $\\u00d5 z\\u00ce \\u00d2 |\\u00d5 g\\u00bf f\\u00c1 W\\u00c5 \\u00c5 \\u00c9\\u00d6 T\\u00bd \\u00f8 \\u00fa\\u00f9 \\u00fb !\\u00fc 9\\u00fd !\\u00bb \\u00a4\\u00c3 l\\u00d8 \\u00d8 \\u00be \\u00c0\\u00ba v\\u00d8 \\u00cb 9\\u00be \\u00e8\\u00ec W\\u00c5 AE \\u00a4\\u00c5 \\u00c9\\u00ba &\\u00bb \\u00a9\\u00d2 AE \\u00a4\\u00ce \\u00d0 \\u00fe\\u00ee \\u00a8\\u00ba v\\u00d8 \\u00d1 \\u00d9\\u00be \\u00c0\\u00bf \\u00a4\\u00bd ~\\u00f9 \\u00fb !\\u00fc \\u00bb \\u00a4\\u00c3 l\\u00d8 \\u00d8 \\u00be \\u00d9\\u00ba v\\u00d8 v\\u00e2 \\u00d7\\u00ff S\\u00c5 \\u00c9\\u00ba v\\u00c5 AE f\\u00d5 \\u00c3 \\u00d1 \\u00c0\\u00d1 \\u00de\\u00df \\u00af\\u00ee \\u00ba v\\u00d8 \\u00d1 \\u00c0\\u00be \\u00c0\\u00bf \\u00a4\\u00bd \\u00af\\u00f9 \\u00fb !\\u00fc \\u00a5\\u00bb \\u00a4\\u00c3 l\\u00d8 \\u00d8 \\u00be \\u00d9\\u00ba v\\u00d8 k\\u00d6 \\u00c3 \\u00ba Q\\u00e5 W\\u00c5 !AE \\u00a4\\u00c5 \\u00d8 \\u00c3 lAE T\\u00cb v\\u00c5 \\u00c9\\u00cb \\u00b3\\u00c3 \\u00bf \\u00c3 \\u00c1 9AE T\\u00ce \\u00d6 e\\u00c5 \\u00c9\\u00bf \\u00a4\\u00bf r\\u00be \\u00c0\\u00ba \\u00ef\\u00c7 \\u00bd 9\\u00be \\u00d9\\u00d6 T\\u00bd \\u00ef\\u00c3 \\u00c1 9AE T\\u00ce \\u00c1 8\\u00c5 AE \\u00b1\\u00f9 \\u00fb !\\u00fc 6\\u00bb \\u00a4\\u00c3 l\\u00d8 6\\u00be \\u00c0\\u00bf \\u00b1\\u00c3 \\u00bf $\\u00d5 \\u00bf \\u00a4\\u00be \\u00de\\u00d8 \\u00ba 9\\u00c5 \\u00c9\\u00cb U\\u00bb f\\u00ce !\\u00c5 \\u00c9\\u00c3 \\u00d6 T\\u00bd r\\u00c7 \\u00ce AE T\\u00cb \\u00a5\\u00be \\u00d9\\u00ba U\\u00bb f\\u00c5 e\\u00e1 \\u00bb \\u00a4\\u00bf \\u00e2 3\\u00f0 A\\u00ce \\u00a4\\u00c7 e\\u00c5 \\u00cf \\u00c5 AE \\u00c9\\u00da i\\u00be \\u00c0\\u00ba \\u00a5\\u00d3 \\u00db\\u00ce l\\u00d5\"],[\"Distribution-Based Pruning of Backoff Language Models\"],[\"\"],[\"A Computational Approach to Zero-pronouns in Spanish\"],[\"The State of the Art in Thai Language Processing\"],[\"\"],[\"D E GF \\u00a8H I QP SR UT WV \\u00a2X `Y ba dc fe hg i qp QV \\u00a2E dr qF \\u00a8H @H fs QV ut v (w Wx &y x & &y g y e d d be \\u00a6 gf Uh ji & w Wy lk nm o dw og &m Ww qp \\u00a6w Wi \\u00a8e dy jw Wg u r (s ut Cv xw ye hm gx &w Wg {z 7| }g & w oy 2 h @t @w om gx &g & h p }z 4 h h w \\u00a6e dm gx &w Wg f 8w Wy e hg u % & \\u00a8 n & d \\u00a8 h U \\u00a1 u\\u00a2 \\u00a2 u \\u00a8\\u00a3 \\u00a2 % G \\u00a8 d \\u00a1 \\u00a4\"],[\"Spoken Dialogue Management Using Probabilistic Reasoning\"],[\"\"],[\"\\u00e2 W\\u00e3 \\u00c2 B\\u00c3 g\\u00c4 \\u00e5\\u00e4 ae v\\u00e7 I\\u00d7 Y\\u00d6 I\\u00d7 W\\u00d2 \\u00de w\\u00dd W\\u00d2 y\\u00d7 )\\u00c8 $\\u00d6 \\u00c2 B\\u00c3 z\\u00c4 \\u00e8 \\u00e9ae D\\u00ea 4\\u00bf \\u00c0 4\\u00c1 \\u00c2 B\\u00c3 g\\u00c4 \\u00eb ae D\\u00ec \\u00c1 \\u00ed\\u00c8 B\\u00bf D\\u00c9 Y\\u00c8 w\\u00ca t\\u00cb &\\u00c2 B\\u00c3 g\\u00c4 \\u00e8 \\u00a7ae \\u00ee 4\\u00c1 \\u00d2 y\\u00d4 D\\u00d5 t\\u00d6 h\\u00bf &\\u00d7 Y\\u00cb 9\\u00d4 \\u00d7 I\\u00c2 B\\u00c3 g\\u00c4 \\u00e8 \\u00a7ae D\\u00ef \\u00c1 \\u00d2 y\\u00d4 D\\u00d6 y\\u00dc &\\u00cb P\\u00dd )\\u00de $\\u00d2 I\\u00df w\\u00c2 @\\u00c3 g\\u00c4 \\u00f0 \\u00b6 v\\u00bb gW\\u00b1 &\\u2022 \\u00b9 \\u2022 &W\\u00ac \\u00ab \\u00a7\\u00c3 \\u00a9\\u00aa h)\\u00bd d\\u00b1 \\u00ae \\u00bb V\\u00ae z\\u00bc \\u00ab {\\u00b5 \\u00bd V\\u00be \\u00e2 W\\u00e3 \\u00c2 @\\u00c3 g\\u00c4 k\\u00e4 m\\u00f1 I\\u00e0 k\\u00f2 \\u00d9\\u00ae )\\u00ac \\u00ab \\u00ac AE\\u00aa hW\\u00ac \\u00f3\\u00c1 \\u00ed\\u00c8 B\\u00bf D\\u00c9 Y\\u00c8 w\\u00ca t\\u00cb v\\u00b9 \\u00bd \\u00db S\\u00ab V\\u00b9 \\u00c5 )\\u00aa P\\u00ac \\u00ab V\\u2022 \\u00d3\\u00b1 &\\u00ab V\\u00c5 PW\\u00ac \\u00b9 G\\u00bc \\u00ab \\u00a5\\u00b0e\\u00d0 9\\u00be b\\u00bd AE\\u00b9 G\\u00b1 &\\u00bb V\\u00ab \\u00cc\\u00bb V\\u00ae z\\u00bc \\u00ab \\u00b5 \\u00cc\\u00db w\\u00b9 e\\u00ac g\\u00aa \\u00b6 B\\u00ab {\\u00db d\\u00ab {\\u00b5 \\u00cc\\u00ac \\u00b9 \\u00b0\\u00ab V\\u00bd \\u00d1 I\\u00b5 \\u00ae z\\u00bc y\\u00b9 \\u2022 I\\u00ab V\\u00bd \\u00cc\\u00bd \\u00a1\\u00ac g\\u00b5 \\u00ae )\\u00b1 &\\u00c5 t\\u00ab {\\u00b5 \\u00cc\\u00ab {\\u00bc y\\u00b9 G\\u00da \\u2022 I\\u00ab {\\u00b1 &\\u00bb V\\u00ab \\u00a7 \\u00b6 B\\u00ae )\\u00b5 \\u00a3\\u00ac AE\\u00aa &\\u00ab \\u00a7\\u00bb gW\\u00b1 &\\u2022 I\\u00b9 \\u2022 &W\\u00ac \\u00ab )\\u00e0 \\u00a9 d\\u00aa &\\u00ab \\u00d9\\u00db d\\u00ab V\\u00b9 \\u00c5 )\\u00aa P\\u00ac \\u00bd w\\u00b9 G\\u00b1 h\\u00ac AE\\u00aa &\\u00ab \\u00d9\\u00bb \\u00b2 \\u00b5 g\\u00b5 \\u00ab {\\u00b1 P\\u00ac \\u00a9\\u00b9 G\\u00b3 \\u00f4\\u00d1 &\\u00b0\\u00ab {\\u00b3 \\u00cf\\u00ab {\\u00b1 \\u00ac \\u00a5W\\u00ac \\u00b9 \\u00ae )\\u00b1 \\u00db d\\u00ab {\\u00b5 \\u00ab 8\\u00bb g\\u00aa \\u00ae t\\u00bd g\\u00ab {\\u00b1 \\u00b8\\u00bd g\\u00ae t)\\u00bd \\u00a9\\u00ac \\u00ae h\\u00c5 t\\u00b9 G\\u00bc t\\u00ab \\u00cc\\u00cc\\u00b0\\u00ab {\\u00cd y\\u00b9 \\u00bb V\\u00ae t\\u00c5 )\\u00b5 {W\\u00d1 \\u00aa &\\u00b9 \\u00bb 8\\u00ae )\\u00b5 AE\\u00da \\u2022 I\\u00ab {\\u00b5 \\u00b9 G\\u00b1 &\\u00c5 \\u00ae )\\u00b1 \\u00f5\\u00ac g\\u00aa &\\u00ab \\u00b6 B\\u00ab gW\\u00ac g\\u00b2 \\u00b5 \\u00ab V\\u00bd V\\u00be Q\\u00d1 I\\u00b5 \\u00ab { \\u00b6 B\\u00ab \\u00b5 AE\\u00b5 \\u00b9 G\\u00b1 &\\u00c5 \\u00e9\\u00f6 I\\u00b5 \\u00bd \\u00ac x\\u00bb gW\\u00b1 I\\u00da \\u2022 I\\u00b9 \\u2022 W\\u00ac \\u00ab V\\u00bd Q\\u00db w\\u00b9 G\\u00ac AE\\u00aa \\u00d38\\u00aa &\\u00b9 \\u00c5 )\\u00aa \\u00ab \\u00b5 f\\u00c5 )\\u00b5 {W\\u00b1 \\u2022 d\\u00da \\u00ac \\u00ae )\\u00ac {)\\u00b0D\\u00b5 \\u00a5W\\u00ac \\u00b9 \\u00ae I\\u00be h\\u00ac g\\u00aa &\\u00ab {\\u00b1\"],[\"Diagnostic Processing of Japanese for Computer-Assisted Second Language Learning\"],[\"\"],[\"Headline Generation Based on Statistical Translation\"],[\"An Empirical Study of the Influence of Argument Conciseness on Argument Effectiveness\"],[\"\"],[\"Extracting Causal Knowledge from a Medical Database Using Graphical Patterns\"],[\"Development of Computational Linguistics Research: a Challenge for Indonesia\"],[\"\\u00a2\\u00a1 \\u00a4\\u00a3 \\u00a6\\u00a5 \\u00a8 \\u00a7 \\u00a9 !\\u00a9 #\\\" # \\u00a4 $ &% ' \\u00a6 ! )( 10 2 43 5 76 8\\u00a5 @9 BA @ C\\u00a5 D E \\u00a2 F\\u00a5 @3 G E\\u00a1 \\u00a9 HA I\\u00a5 \\u00a8P Q3 G% R !\\u00a5 S 4\\u00a9 FT U% R3 &\\u00a5 \\u00a8V W !\\u00a1 \\u00a4 YX 2\\u00a9 H% R3 G\\u00a5 a0 bc\\u00a1 \\u00a4 d e f hg pi Hq sr ut wv xi y i @y i g p G d fe g h ji k l nm h l co p $q Eo sm i r l h k es Gt ju h t h v o sw & x ey zo i { u | x e} z u ~h k x nu l l u |m o sk h & g G p G G } s m u p 7 s ! C & s \\u00a1 \\u00a2 5 H\\u00a3 \\u00a4 \\u00a5 7\\u00a1 \\u00a7\\u00a6 C8\\u00a9 7\\u00aa \\u00ab\\u00a6 \\u00a6\\u00ac s s\\u00aa \\u00ae h' \\u00b1\\u00b0g pi Hq \\u00b0\\u00b2 \\u00b4\\u00b3 p\\u00b5 \\u2022 \\u00b6 u\\u00b8 \\u00b9 \\u00b18\\u00ba \\u00bb \\u00bcp\\u00bb \\u00ba n \\u00b6 \\u00ba \\u00bd d\\u00be \\u00bf \\u00b6 \\u00bc\\u00b9 \\u00c1\\u00c0 C\\u00c2 j\\u00c3 E\\u00b8 \\u00bb \\u00ba \\u00b3 p\\u00ba \\u00a6\\u00bd \\u00b6 \\u00b5 \\u00c4 \\u00b1\\u00ba \\u00ba \\u00c3 E\\u00b8 \\u00b5 \\u00c5\\u00bb \\u00bf\\u00b5 \\u00c0 \\u00b9 \\u00c7AE E\\u00c0 C\\u00c2 \\u00b1\\u00c3 \\u00ab\\u00b8 \\u00b9 \\u00b1\\u00bb \\u00b5 \\u2022 \\u00b6 \\u00c2 \\u00b1\\u00bd u\\u00c8 8\\u00ba \\u00a6\\u00be \\u00ca\\u00c9 \\u00ba \\u00ba \\u00a6\\u00bd u\\u00be \\u00ca\\u00c9 f\\u00c2 w\\u00b9 \\u00c7p\\u00cb p\\u00bb \\u00bf\\u00c2 j\\u00b9 j\\u00c0 \\u00b3 p\\u00ba \\u00b6 w\\u00cc \\u00cd\\u00c2 \\u00b1\\u00bb \\u00cf\\u00ce p\\u00ba \\u00a6\\u00c4 \\u00b1\\u00ba AE \\u00c5\\u00c2 jp\\u00b5 \\u00bd p\\u00d0 \\u00d1\\u00b9 \\u00d1\\u00c8 \\u00b9 j \\u00b6 \\u00ba 2\\u00bd p\\u00c2 j\\u00d2 p\\u00bd p\\u00b3 \\u00bb \\u00bf\\u00b9 j \\u00b6 \\u00ba '\\u00c0 \\u00b3 d\\u00d2 \\u00bd p\\u00d3 \\u00b1\\u00ba \\u00bb \\u00d4 &\\u00b3 \\u00d5\\u00d2 p\\u00c3 \\u00d6\\u00b9 \\u00c7\\u00bd e\\u00bb \\u00bf\\u00d2 pAE \\u00ba D\\u00c9 I\\u00bb \\u00bf\\u00b5 \\u00c5\\u00be \\u00b5 \\u00bd p\\u00d0 !\\u00b9 \\u00b1\\u00bd \\u00ce \\u00b9 j\\u00c0 \\u00be \\u00b5 \\u00c4 \\u00b1\\u00ba \\u00d7AE \\u00c5\\u00ba n\\u00b9 \\u00c7\\u00bb \\u00bf\\u00bd p\\u00b5 \\u00bd p\\u00d0 \\u00d8\\u00d2 \\u00b6 \\u00b5 \\u00bd p\\u00d0 \\u00b5 \\u00bd d\\u00be \\u00ba \\u00bb \\u00bf\\u00b9 j\\u00c0 \\u00be \\u00b5 \\u00c4 \\u00b1\\u00ba \\u00d9\\u00bb \\u00ba n\\u00b9 \\u00c7AE \\u00c5\\u00cb \\u00be \\u00bf\\u00b5 \\u00c5\\u00c3 \\u00ab\\u00ba \\u00b3 \\u00d5\\u00d2 p\\u00c3 \\u00d6\\u00b9 \\u00b1\\u00bd \\u00da\\u00b9 \\u00c7\\u00bd p\\u00bd p\\u00c2 \\u00b1\\u00be \\u00bf\\u00b9 \\u00c7\\u00be \\u00b5 \\u00c2 \\u00b1\\u00bd 7\\u00db \\u00cf\\u00dc \\u00d5\\u00ba \\u00c4 \\u00b1\\u00ba \\u00a6\\u00bb \\u00b9 \\u00c7AE \\u00dd\\u00bd p\\u00c2 \\u00de\\u00c4 \\u00b1\\u00ba AE \\u00c4 \\u00de\\u00b9 \\u00c7\\u00bb \\u00bf\\u00b5 \\u2022\\u00b9 \\u00de\\u00be \\u00b5 \\u00c2 \\u00b1\\u00bd 8 \\u00b6 \\u00d6\\u00c2 \\u00b1\\u00bd w\\u00b9 j\\u00c0 \\u00be \\u00bf\\u00b5 \\u00c5\\u00c4 j\\u00ba \\u00a4AE \\u00c5\\u00ba n\\u00b9 \\u00c7\\u00bb \\u00bf\\u00bd p\\u00b5 \\u00c5\\u00bd \\u00d0 \\u00df\\u00b9 \\u00c7\\u00bb \\u00bf\\u00ba \\u00a4\\u00b5 \\u00c5\\u00bd \\u00d5\\u00c4 j\\u00ba \\u00b6 \\u00cb \\u00be \\u00bf\\u00b5 \\u00c5\\u00d0 d\\u00b9 \\u00de\\u00be \\u00ba n\\u00ce \\u00e0 \\u00b9 \\u00c7\\u00bd \\u00ce \\u00d2 p\\u00bd \\u00ce p\\u00ba \\u00a6\\u00bb \\u00bfAE \\u00c5\\u00e1 \\u00d5\\u00b5 \\u00bd p\\u00d0 \\u00e2\\u00c0 C\\u00c2 d \\u00b6 \\u00ca\\u00be R\\u00c3 \\u00ab\\u00c2 \\u00ce \\u00ba \\u00a6AE \\u2022 \\u00b6 R\\u00cc \\u00cd\\u00c2 j\\u00bb \\u00c0 \\u00a6\\u00bb \\u00c2 d \\u00b6 \\u00b6 \\u00cb \\u00c3 \\u00ab\\u00c2 \\u00ce p\\u00b9 \\u00b1AE \\u00dd\\u00c3 \\u00d6\\u00b9 \\u00b1\\u00c0 \\u00b3 p\\u00b5 \\u00bd p\\u00ba AE \\u00c5\\u00ba n\\u00b9 \\u00c7\\u00bb \\u00bf\\u00bd p\\u00b5 \\u00bd p\\u00d0 \\u00e3\\u00c0 \\u00a6\\u00c2 \\u00b1\\u00c3 \\u00ab\\u00b8 \\u00b9 \\u00b1\\u00bb \\u00b5 \\u00c5\\u00cb \\u00b6 \\u00c2 \\u00b1\\u00bd \\u00a4\\u00b9 \\u00c7\\u00bb \\u00bf\\u00ba Rp\\u00bb \\u00bf\\u00ba \\u00b6 \\u00ba \\u00a6\\u00bd d\\u00be \\u00ba n\\u00ce \\u00b9 \\u00c7\\u00bd \\u00ce \\u00e4\\u00ba C\\u00e5 pAE \\u00c2 \\u00b1\\u00bb \\u00bf\\u00ba \\u00ce 7\\u00db ae I\\u00ba n \\u00b6 \\u00d2 pAE \\u00c5\\u00be \\u00bf \\u00b6 \\u00b6 \\u00b3 p\\u00c2 \\u00de\\u00c9 2\\u00be \\u00b3 \\u00b9 \\u00c7\\u00be !\\u00b5 \\u00c5\\u00be !\\u00b5 \\u2022 \\u00b6 4\\u00c3 \\u00ab\\u00c2 j\\u00bb \\u00ba c\\u00ba \\u00a6\\u00e7 c\\u00c0 C\\u00b5 \\u00ba \\u00a6\\u00bd d\\u00be E\\u00b9 \\u00b1\\u00bd \\u00ce )\\u00c3 \\u00ab\\u00c2 \\u00b1\\u00bb \\u00bf\\u00ba \\u00b6 \\u00d2 \\u00c0 \\u00a6\\u00c0 \\u00a6\\u00ba \\u00b6 \\u00bf \\u00b6 \\u00ca\\u00cc \\u00cd\\u00d2 AE \\u00c8 \\u00d5\\u00e1 c \\u00b6 \\u00ba \\u00a6\\u00c4 j\\u00ba \\u00a6\\u00bb \\u00b9 \\u00c7AE \\u00c3 \\u00ab\\u00ba n\\u00b9 \\u00b1 \\u00b6 \\u00d2 p\\u00bb \\u00ba n \\u00b6 \\u00be \\u00bf\\u00c2 4\\u00be \\u00bf\\u00bb \\u00bf\\u00b9 \\u00b1\\u00b5 \\u00c5\\u00bd \\u00e4\\u00b9 \\u00b6 \\u00e1 \\u00b6 \\u00ca\\u00be \\u00bf\\u00ba \\u00a6\\u00c3 F\\u00d2 \\u00b6 \\u00b5 \\u00c5\\u00bd \\u00d0 \\u00b9 j\\u00c0 \\u00be \\u00bf\\u00b5 \\u00c5\\u00c4 j\\u00ba !AE \\u00ba \\u00b9 \\u00b1\\u00bb \\u00bd p\\u00b5 \\u00bd p\\u00d0 \\u00e4\\u00b9 \\u00c7\\u00bd p\\u00bd p\\u00c2 \\u00b1\\u00be \\u00bf\\u00b9 \\u00c7\\u00be \\u00b5 \\u00c2 \\u00b1\\u00bd \\u00bb \\u00b9 \\u00de\\u00be \\u00bf\\u00b3 p\\u00ba \\u00a6\\u00bb \\u00b4\\u00be \\u00bf\\u00b3 \\u00b9 \\u00c7\\u00bd \\u00b3 \\u00b9 \\u00b1\\u00bd \\u00ce \\u00d5\\u00cb \\u00e8\\u00c0 C\\u00bb \\u00b9 \\u00de\\u00cc \\u00e9\\u00be \\u00ba n\\u00ce \\u00e4\\u00bb \\u00d2 pAE \\u00ba R\\u00c9 I\\u00bb \\u00bf\\u00b5 \\u00be \\u00bf\\u00b5 \\u00c5\\u00bd p\\u00d0 \\u00d6\\u00b9 \\u00c7\\u00be \\u00b9 \\u00c0 C\\u00c2 \\u00b1\\u00c3 \\u00ab\\u00b8 \\u00b9 \\u00b1\\u00bb \\u00bf\\u00b9 \\u00b1\\u00c8 pAE \\u00ba \\u00e2AE \\u00c5\\u00ba \\u00c4 \\u00b1\\u00ba AE D\\u00c2 \\u00b1\\u00cc $\\u00b3 d\\u00d2 \\u00c3 \\u00ab\\u00b9 \\u00b1\\u00bd wAE \\u2022\\u00b9 \\u00c7\\u00c8 \\u00c2 \\u00b1\\u00bb z\\u00b5 \\u00c5\\u00bd \\u00cb \\u00c4 j\\u00ba \\u00b6 \\u00be \\u00c3 \\u00ab\\u00ba \\u00a6\\u00bd d\\u00be \\u00db \\u00ea \\u00eb j\\u00ec \\u00b0g p I \\u00dd\\u00ed \\u00ddq \\u00b0py \\u00ec \\u00ee \\u00bd p\\u00ba \\u00c2 \\u00c7\\u00cc \\u00da\\u00be \\u00bf\\u00b3 p\\u00ba \\u00b8 \\u00bb \\u00b5 \\u00c3 \\u00d6\\u00b9 \\u00c7\\u00bb \\u00bf\\u00e1 \\u00efp\\u00bb \\u00bf\\u00c2 \\u00b1\\u00c8 AE \\u00c5\\u00ba \\u00c3 \\u00ab \\u00b6 \\u00d9\\u00be \\u00b3 8\\u00b9 \\u00de\\u00be 1\\u00f0 \\u00dd\\u00f1 5\\u00f2 \\u00f3\\u00bb \\u00ba \\u00a6\\u00cb \\u00b6 \\u00ba \\u00b9 \\u00c7\\u00bb \\u00c0 \\u00b3 p\\u00ba \\u00bb \\u00bf \\u00b6 I\\u00c9 I\\u00b3 \\u00c2 z\\u00c9 f\\u00c2 \\u00b1\\u00bb \\u00bf\\u00d3 z\\u00b5 \\u00bd \\u00bd \\u00ba \\u00a6\\u00c9 \\u00cfAE \\u2022\\u00b9 \\u00c7\\u00bd p\\u00d0 j\\u00d2 \\u00b9 \\u00c7\\u00d0 j\\u00ba \\u00b6 I\\u00c2 j\\u00bb D\\u00bd \\u00ba \\u00a6\\u00c9 \\u00d9\\u00ce \\u00c2 \\u00b1\\u00cb \\u00c3 \\u00d6\\u00b9 \\u00c7\\u00b5 \\u00bd \\u00b6 $\\u00ba \\u00bd \\u00c0 C\\u00c2 j\\u00d2 p\\u00bd d\\u00be \\u00ba \\u00bb $\\u00b5 \\u00b6 !\\u00b9 \\u00a4AE \\u2022\\u00b9 \\u00b1\\u00c0 \\u00d3 \\u00c2 \\u00c7\\u00cc @\\u00b9 \\u00c4 \\u00de\\u00b9 \\u00c7\\u00b5 AE \\u00b9 \\u00b1\\u00c8 pAE \\u00c5\\u00ba c\\u00b9 \\u00b1\\u00bd p\\u00bd p\\u00c2 \\u00b1\\u00be \\u00bf\\u00b9 \\u00de\\u00be \\u00bf\\u00ba \\u00ce \\u00ce p\\u00b9 \\u00c7\\u00be \\u00bf\\u00b9 p\\u00db \\u00f4 \\u00c2 \\u00b1AE AE \\u00ba \\u00c0 \\u00be \\u00bf\\u00b5 \\u00c5\\u00c2 j\\u00bd \\u00ab\\u00c2 \\u00c7\\u00cc 7\\u00ce p\\u00b9 \\u00de\\u00be \\u00b9 \\u00a7\\u00b5 \\u00b6 \\u00bd p\\u00ba \\u00a6\\u00b5 \\u00c5\\u00be \\u00b3 p\\u00ba \\u00bb \\u00ba \\u00b9 j \\u00b6 \\u00e1 !\\u00bd p\\u00c2 \\u00b1\\u00bb \\u00c0 \\u00b3 p\\u00ba \\u00b9 \\u00b17\\u00db \\u00b2 \\u00b4\\u00b3 p\\u00ba \\u00f5\\u00c0 \\u00a6\\u00c2 \\u00b1\\u00bd \\u00b6 \\u00be \\u00bb \\u00bf\\u00d2 \\u00c0 \\u00be \\u00bf\\u00b5 \\u00c5\\u00c2 j\\u00bd \\u00f6\\u00c2 \\u00b1\\u00cc !\\u00be \\u00bf\\u00b3 p\\u00ba \\u00f5\\u00f2 \\u00ba \\u00a6\\u00bd \\u00bd \\u00b2 G\\u00bb \\u00ba \\u00ba \\u00a6\\u00c8 \\u00b9 \\u00b1\\u00bd p\\u00d3 w \\u00b6 \\u00b5 \\u00c5\\u00d0 j\\u00bd p\\u00b5 \\u00c5\\u00f7 p\\u00cb \\u00c0 \\u00a6\\u00b9 \\u00b1\\u00bd d\\u00be AE \\u00e1 c\\u00b5 \\u00c5\\u00c3 \\u00abp\\u00bb \\u00bf\\u00c2 \\u00de\\u00c4 \\u00b1\\u00ba n\\u00ce c\\u00ba \\u00a6\\u00bb \\u00cc \\u00cd\\u00c2 \\u00b1\\u00bb \\u00bf\\u00c3 \\u00d6\\u00b9 \\u00c7\\u00bd \\u00c0 \\u00a6\\u00ba D\\u00cc \\u00cd\\u00c2 j\\u00bb @\\u00f8 \\u00bd p\\u00d0 jAE \\u00c5\\u00b5 \\u2022 \\u00b6 \\u00b3 \\u00e4 \\u00b6 \\u00e1 \\u00b6 \\u00ca\\u00be \\u00bf\\u00ba \\u00a6\\u00c3 \\u00d6 \\u00b6 \\u00ce \\u00ba n\\u00b9 \\u00c7AE \\u00b5 \\u00c5\\u00bd p\\u00d0 \\u00d9\\u00b5 \\u00c5\\u00bd \\u00d8\\u00be \\u00b3 p\\u00ba \\u00f9 \\u00ca\\u00be \\u00bb \\u00b9 \\u00b1\\u00ce p\\u00b5 \\u00be \\u00bf\\u00b5 \\u00c5\\u00c2 j\\u00bd \\u00b9 \\u00c7AE \\u2022\\u00fa \\u00bc\\u00f0 \\u00dd\\u00f1 G\\u00f2 \\u00fb\\u00ce \\u00c2 j\\u00c3 \\u00ab\\u00b9 \\u00b1\\u00b5 \\u00c5\\u00bd 8 \\u00b6 w\\u00fc \\u00cd\\u00ba \\u00d0 \\u00b8 \\u00b9 \\u00b1\\u00bb \\u00bf \\u00b6 \\u00b5 \\u00c5\\u00bd \\u00d0 \\u00e0 \\u00dd8\\u00b9 \\u00c7\\u00bb \\u00be \\u00cb \\u00fd\\u00c2 \\u00c7\\u00cc \\u00e9\\u00cb \\u00e8 \\u00b6 \\u00ba \\u00a6\\u00ba n\\u00c0 \\u00b3 \\u00be \\u00bf\\u00b9 \\u00b1\\u00d0 \\u00b1\\u00d0 \\u00b1\\u00b5 \\u00bd p\\u00d0 8\\u00e0 \\u00dd\\u00ba C\\u00be \\u00c0 \\u00fe C\\u00db \\u00d1\\u00ff \\u00dd\\u00c2 \\u00de\\u00c9 \\u00ba \\u00c4 \\u00b1\\u00ba \\u00a6\\u00bb n\\u00e0 \\u00cc \\u00cd\\u00c2 \\u00b1\\u00bb \\u00b9 \\u00bd p\\u00ba \\u00a6\\u00c9 FAE \\u2022\\u00b9 \\u00c7\\u00bd p\\u00d0 j\\u00d2 \\u00b9 \\u00c7\\u00d0 j\\u00ba \\u00b1\\u00e0 \\u00dd\\u00b9 \\u00b6 \\u00b5 \\u00c3 \\u00ab\\u00b5 \\u00c5AE \\u2022\\u00b9 \\u00c7\\u00bb \\u00e4\\u00b5 \\u00bd d\\u00c4 j\\u00ba \\u00b6 \\u00be \\u00c3 \\u00ab\\u00ba \\u00a6\\u00bd d\\u00be \\u00e4\\u00c2 \\u00c7\\u00cc 4\\u00ba \\u00a6\\u00cc \\u00e9\\u00cb \\u00cc \\u00cd\\u00c2 \\u00b1\\u00bb \\u00be I\\u00b5 \\u00c5\\u00bd \\u00e4\\u00be \\u00bf\\u00b5 \\u00c5\\u00c3 \\u00ab\\u00ba $\\u00b9 \\u00c7\\u00bd 8\\u00ce e\\u00c3 \\u00ab\\u00c2 \\u00b1\\u00bd \\u00ba \\u00a6\\u00e1 c\\u00b5 \\u2022 \\u00b6 \\u00b4\\u00c3 \\u00ab\\u00c2 j \\u00b6 \\u00be \\u00b4AE \\u00b5 \\u00d3 \\u00b1\\u00ba \\u00a6AE \\u00e1 cp\\u00bb \\u00bf\\u00c2 \\u00b1\\u00b3 \\u00b5 \\u00c5\\u00c8 p\\u00b5 \\u00c5\\u00be \\u00b5 \\u00c4 \\u00b1\\u00ba j\\u00e0 \\u00b5 \\u00c5\\u00cc &\\u00bd p\\u00c2 \\u00b1\\u00be @\\u00b5 \\u00c5\\u00c3 \\u00ab\\u00c2 j \\u00b6 \\u00bf \\u00b6 \\u00b5 \\u00c8 pAE \\u00ba \\u00b1\\u00db \\u00b9 \\u00b1\\u00c0 \\u00a6\\u00ba \\u00ce )\\u00c9 I\\u00b5 \\u00c5\\u00be \\u00b3 \\u00be \\u00b3 \\u00ba \\u00e4\\u00c0 \\u00a6\\u00c2 j \\u00b6 \\u00be \\u00bf \\u00b6 4\\u00b9 j \\u00b6 \\u00b6 \\u00c2 \\u00c0 C\\u00b5 \\u2022\\u00b9 \\u00de\\u00be \\u00bf\\u00ba \\u00ce )\\u00c9 I\\u00b5 \\u00c5\\u00be \\u00b3 \\u00e3\\u00ce p\\u00b9 \\u00de\\u00be \\u00b9 \\u00b9 \\u00b1\\u00c0 C\\u00cb \\u00a1 \\u00d2 p\\u00b5 \\u2022 \\u00b6 \\u00b5 \\u00c5\\u00be \\u00b5 \\u00c2 \\u00b1\\u00bd 7\\u00e0 \\u00bb \\u00bf\\u00b9 \\u00c7\\u00be \\u00b5 \\u00c2 \\u00b1\\u00bd \\u00b9 \\u00b1AE \\u00c5\\u00b5 \\u2022 \\u00b6 \\u00ca\\u00be \\u00b6 f\\u00c3 \\u00ab\\u00b9 \\u00e1 z\\u00b9 \\u00c7\\u00bb \\u00bf\\u00d0 \\u00b1\\u00d2 p\\u00ba '\\u00be \\u00b3 8\\u00b9 \\u00de\\u00be @\\u00b5 \\u00c5\\u00be @\\u00c9 \\u00c2 j\\u00d2 pAE \\u00ce \\u00e4\\u00c8 \\u00ba \\u00c3 \\u00ab\\u00c2 \\u00b1\\u00bb \\u00bf\\u00ba 4\\u00c0 C\\u00c2 d \\u00b6 \\u00ca\\u00be D\\u00ba \\u00a3\\u00a2 s\\u00ba \\u00c0 \\u00be \\u00bf\\u00b5 \\u00c5\\u00c4 j\\u00ba $\\u00be \\u00bf\\u00c2 e\\u00c0 C\\u00c2 j\\u00bd \\u00b6 \\u00ca\\u00be \\u00bf\\u00bb \\u00d2 8\\u00c0 \\u00be ' \\u00b6 \\u00e1 \\u00b6 \\u00ca\\u00be \\u00bf\\u00ba \\u00a6\\u00c3 \\u00d6 \\u00b6 @\\u00c2 \\u00b1\\u00cc \\u00b3 \\u00b9 \\u00c7\\u00bd 8\\u00ce \\u00d5\\u00cb \\u00c0 C\\u00c2 \\u00ce \\u00ba n\\u00ce \\u00ab\\u00bb \\u00d2 AE \\u00c5\\u00ba @AE \\u00b5 \\u2022 \\u00b6 \\u00ca\\u00be \\u00b6 H\\u00be \\u00b3 8\\u00b9 \\u00de\\u00be f\\u00c0 \\u00b9 \\u00c7\\u00be \\u00bf\\u00d2 p\\u00bb \\u00bf\\u00ba \\u00b4\\u00be \\u00b3 p\\u00ba DAE \\u00c5\\u00b5 \\u00bd p\\u00d0 \\u00b1\\u00d2 \\u00b5 \\u00b6 \\u00be \\u00b5 \\u2022\\u00c0 @\\u00c0 \\u00b3 \\u00b9 \\u00b1\\u00bb \\u00bf\\u00b9 j\\u00c0 \\u00cb \\u00be \\u00ba \\u00bb \\u00b5 \\u2022 \\u00b6 \\u00be \\u00b5 \\u2022\\u00c0 \\u00a6 \\u00b6 H\\u00c2 \\u00b1\\u00cc \\u00be \\u00bf\\u00b3 p\\u00ba I\\u00be \\u00b9 \\u00b1 \\u00b6 \\u00d3 !\\u00b9 \\u00de\\u00be \\u00b3 8\\u00b9 \\u00c7\\u00bd \\u00ce \\u00e0 d\\u00bb \\u00b9 \\u00de\\u00be \\u00b3 \\u00ba \\u00a6\\u00bb \\u00be \\u00b3 8\\u00b9 \\u00c7\\u00bd c \\u00b6 8\\u00ba \\u00bd \\u00ce \\u00b5 \\u00bd p\\u00d0 \\u00c0 C\\u00c2 j\\u00c3 \\u00ab\\u00b8 \\u00b9 \\u00c7\\u00bb \\u00b9 \\u00c7\\u00c8 pAE \\u00ba $\\u00ba \\u00a4\\u00a2 \\u00c2 j\\u00bb \\u00be D\\u00b9 \\u00b1\\u00bd p\\u00bd p\\u00c2 \\u00b1\\u00be \\u00bf\\u00b9 \\u00de\\u00be \\u00bf\\u00b5 \\u00c5\\u00bd \\u00d0 z\\u00ce p\\u00b9 \\u00c7\\u00be \\u00bf\\u00b9 c\\u00b9 \\u00b1\\u00bd \\u00ce \\u00a4\\u00ba C\\u00e5 \\u00ba \\u00c0 C\\u00be \\u00b5 \\u00bd p\\u00d0 \\u00be \\u00b3 \\u00ba \\u00ab \\u00b6 \\u00bf\\u00b9 \\u00c7\\u00c3 \\u00ab\\u00ba \\u00ab\\u00d3 \\u00d5\\u00bd p\\u00c2 \\u00de\\u00c9 IAE \\u00ba \\u00ce \\u00d0 j\\u00ba $\\u00be \\u00c2 \\u00c8 \\u00ba c\\u00b9 \\u00b1\\u00c0 \\u00a1 \\u00d2 \\u00b5 \\u00c5\\u00bb \\u00bf\\u00ba \\u00ce \\u00b5 \\u00c5\\u00bd \\u00ce p\\u00b5 \\u00c5\\u00bb \\u00bf\\u00ba \\u00c0 C\\u00be AE \\u00e1 \\u00e2\\u00c8 \\u00d5\\u00e1 \\u00b9 z\\u00c3 \\u00ab\\u00b9 j\\u00c0 \\u00b3 p\\u00b5 \\u00bd p\\u00ba !AE \\u00ba \\u00b9 \\u00b1\\u00bb \\u00bd \\u00b5 \\u00c5\\u00bd p\\u00d0 \\u00b6 \\u00e1 \\u00d5 \\u00b6 \\u00be \\u00ba \\u00c3 \\u00db !\\u00b2 \\u00b4\\u00b3 p\\u00ba \\u00a1 \\u00d2 p\\u00ba \\u00b6 \\u00be \\u00b5 \\u00c2 \\u00b1\\u00bd \\u00c9 \\u00ba \\u00ab\\u00b9 \\u00c7\\u00bb \\u00bf\\u00ba \\u00be \\u00bb \\u00bf\\u00e1 \\u00d5\\u00b5 \\u00c5\\u00bd \\u00d0 D\\u00be \\u00bf\\u00c2 $\\u00b9 \\u00b1\\u00ce p\\u00ce p\\u00bb \\u00ba n \\u00b6 \\u00b6 &\\u00be \\u00bf\\u00b3 p\\u00ba \\u00a6\\u00bd \\u00d6\\u00b5 \\u2022 \\u00b6 \\u00a6\\u00d4 5\\u00cc \\u00cd\\u00c2 \\u00b1\\u00bb x\\u00b9 '\\u00d0 j\\u00b5 \\u00c5\\u00c4 j\\u00ba \\u00a6\\u00bd \\u00ab\\u00c0 C\\u00c2 j \\u00b6 \\u00be x\\u00b9 \\u00b1 \\u00b6 \\u00bf \\u00b6 \\u00d2 p\\u00c3 \\u00ab\\u00cb \\u00be \\u00b5 \\u00c2 \\u00b1\\u00bd 5\\u00e0 d\\u00c9 I\\u00b3 \\u00b5 \\u00c0 \\u00b3 e\\u00b9 \\u00b1pp\\u00bb \\u00bf\\u00c2 j\\u00b9 j\\u00c0 \\u00b3 \\u00d6\\u00c9 \\u00c2 j\\u00d2 pAE \\u00ce c\\u00c8 8\\u00ba \\u00dd\\u00be \\u00b3 p\\u00ba '\\u00c3 \\u00ab\\u00c2 j \\u00b6 \\u00be \\u00ba \\u00a3\\u00a2 s\\u00ba \\u00c0 C\\u00be \\u00b5 \\u00c4 \\u00b1\\u00ba j\\u00db \\u00a5 AE \\u00c5\\u00be \\u00b3 p\\u00c2 j\\u00d2 p\\u00d0 \\u00b1\\u00b3 \\u00a4AE \\u00ba \\u00b9 \\u00b1\\u00bb \\u00bd p\\u00b5 \\u00bd p\\u00d0 \\u00d6\\u00c0 C\\u00d2 \\u00bb \\u00c4 j\\u00ba \\u00b6 @ \\u00b6 \\u00b3 p\\u00c2 \\u00de\\u00c9 I\\u00b5 \\u00bd p\\u00d0 \\u00ab8\\u00ba \\u00bb \\u00cc \\u00cd\\u00c2 j\\u00bb \\u00c3 \\u00d6\\u00b9 \\u00c7\\u00bd 8\\u00c0 C\\u00ba \\u00bb \\u00bf\\u00ba \\u00a6AE \\u2022\\u00b9 \\u00de\\u00be \\u00b5 \\u00c4 \\u00b1\\u00ba c\\u00be \\u00c2 \\u00b9 \\u00b1\\u00c3 \\u00ab\\u00c2 \\u00b1\\u00d2 p\\u00bd d\\u00be 4\\u00c2 \\u00b1\\u00cc I\\u00be \\u00bb \\u00b9 \\u00c7\\u00b5 \\u00bd p\\u00b5 \\u00c5\\u00bd \\u00d0 \\u00ce p\\u00b9 \\u00de\\u00be \\u00b9 \\u00b9 \\u00b1\\u00bb \\u00ba e\\u00c0 \\u00a6\\u00c2 \\u00b1\\u00c3 \\u00ab\\u00c3 \\u00ab\\u00c2 \\u00b1\\u00bd \\u00a9 \\u00ab\\u00aa D\\u00ac 2\\u00ae \\u00b0 k\\u00b1 \\u00b1 \\u00b2\\u00ac k\\u00b3 \\u00b0\\u00b1 k\\u03bc \\u00ab \\u00b6 &\\u2022 x\\u00b9 \\u00b9 U\\u00ba \\u00ab\\u00bb D\\u00bc 6\\u00bd \\u00be \\u00bf\\u00bb k\\u00c0 \\u00c1 &\\u00c2 \\u00c0 6\\u00be \\u00c3\\u00bb k\\u00bc \\u00b0\\u00bd \\u00be \\u00bf\\u00bb k\\u00c0 \\u00b0\\u00c1 \\u00c2 \\u00c0 \\u00c4 AE\\u00c5 \\u00a9 \\u00c8\\u00c7 @\\u00ae \\u00b0\\u00b1 2\\u00c9 \\u00ca\\u00ae \\u00b0\\u00b1 k 2\\u00c9 \\u00cb\\u00b1 \\u00cc &\\u00cd \\u00b2\\u00ce \\u00ac \\u00b0\\u00cf \\u00d0 &\\u00d1 S\\u00c7 \\u00ae \\u00b0\\u00b1 k 2\\u00c9 AE\\u00ae \\u00b0\\u00b1 2\\u00c9 $\\u00d0 \\u00a7\\u00c7 G\\u00b1 \\u00cc 2\\u00cd \\u00ca\\u00ce k\\u00ac \\u00b0\\u00cf \\u00d0 \\u00b5 \\u00d2 \\u00bb k\\u00c0 \\u00d3 \\u00d4 k\\u00d5 \\u00b0\\u00d6 &\\u00c0 \\u00aa \\u00be \\u00b2\\u00c5 \\u00b2\\u00b5 \\u00c3 \\u00b6 \\u00bd \\u00bd \\u00bf\\u00d4 \\u00d6 &\\u00d7 \\u00d8 \\u00b0 \\u00b6 2\\u00d9 AE\\u00da \\u00b2\\u00c5 \\u00b5 \\u00d2 \\u00c0 \\u00b0\\u00c1 D\\u00d4 \\u00b6 D\\u00bb D\\u00bc 6\\u00bd D\\u00c4 AE\\u00c5 \\u00ab\\u00b5 \\u00bf\\u00d4 \\u00b0\\u00d6 &\\u00d7 \\u00d8 \\u00b0 \\u00b6 &\\u00d9 \\u00ca\\u00da AE\\u00c5 \\u00a9 \\u00b2 &\\u00ae \\u00b0\\u00db 2\\u00b3 \\u00cd \\u00cb\\u00dc k\\u00dd \\u00c8\\u00c7 G 2\\u00de AE\\u00db &\\u00b3 \\u00de 6\\u00df D6\\u00d0 \\u00c3k\\u00d1 \\u00c8\\u00c7 G 2\\u00ae \\u00b0\\u00db &\\u00b3 \\u00cd AE\\u00dc k\\u00dd \\u00ca &\\u00de \\u00cb\\u00db 2\\u00b3 \\u00de 6\\u00df 26\\u00d0 \\u00b5 \\u00c7 \\u00c1 \\u00de \\u00b0\\u00b1 D\\u00e0 \\u00e2\\u00e1 E\\u00db 2\\u00de \\u00b0\\u00b1 D\\u00e0 \\u00e2\\u00e1 \\u00bb \\u00ae \\u00b0\\u00db 2\\u00b3 \\u00cd \\u00e1 @ 2\\u00ae \\u00b0\\u00db 2\\u00b3 \\u00cd \\u00d0 \\u00b6 f\\u00b9 \\u00b9 `\\u00ba \\u00a7 \\u00b6 \\u00c7 G\\u00e3 \\u00dc x\\u00e1 I\\u00a9 6\\u00d0 \\u00b9 \\u00b9 U\\u00ba \\u00e3 \\u00b6 D\\u00e4 D\\u00bc x\\u00b9 \\u00b9 `\\u00c4 \\u00e5\\u00d2 \\u00bb k\\u00c0 \\u00d3 \\u00d4 D\\u00d5 6\\u00d6 &\\u00c0 \\u00aa \\u00c4 \\u00b2\\u00da \\u00b2\\u00c5 \\u00b5 \\u00ab \\u00b6 &\\u2022 \\u2022 x\\u00b9 \\u00b9 U\\u00be \\u00b2 \\u00b6 \\u00c7 ae \\u00bc \\u00d4 \\u00e1 \\u00bd \\u00bd \\u00d0 \\u00b9 k\\u00b9 U\\u00ba AE \\u00b6 \\u00c7 \\u00bc \\u00d4 \\u00e1 Cae \\u2022 ae \\u00b0\\u00e3 \\u00dc 5\\u00e1 ae \\u00c1 \\u00e7 \\u00d0 \\u00bb k\\u00bc 6\\u00bd k\\u00be \\u00e3 \\u00b6 &\\u2022 x\\u00b9 \\u00b9 U\\u00ba \\u00e9\\u00e8 \\u00d8 \\u2022 \\u00b0\\u00ba \\u00ea\\u00d2 \\u00bb k\\u00c0 \\u00d3 \\u00d4 D\\u00d5 6\\u00d6 &\\u00c0 \\u00aa \\u00c4 \\u00b2\\u00da \\u00ca\\u00c5 \\u00a9 \\u00c8\\u00c7 \\u00ae \\u00b0\\u00db D\\u00e0 \\u00a3\\u00d0 \\u00d1 \\u00c8\\u00c7 \\u00cd D\\u00c9 \\u00b0 D\\u00cd \\u00b2\\u00ae \\u00b0\\u00db D\\u00e0 \\u00cb\\u00d0 \\u00d2 \\u00c7 \\u00d4 \\u00c9 \\u00b0 D\\u00cd \\u00e2\\u00e1 \\u00cd k\\u00c9 \\u00b0 D\\u00cd \\u00d0 \\u00b6 \\u00b6 2\\u00bc \\u00d4 \\u00a3\\u00b5 \\u00c3\\u00bb k\\u00c0 \\u00d3 \\u00d4 k\\u00d5 6\\u00d6 &\\u00c0 \\u00aa \\u00c4 AE\\u00c5 \\u00bf\\u00da \\u00a9 \\u00c8\\u00c7 \\u00eb 2\\u00ae \\u00b0\\u00db 2\\u00b3 \\u00cd \\u00ab\\u00ec \\u00ee\\u00ed &\\u00ef \\u00f0 \\u00cb\\u00d0 \\u00b5 \\u00c7 U\\u00db 2\\u00de \\u00b0\\u00b1 D\\u00e0 \\u00e2\\u00e1 E 2\\u00ae \\u00b0\\u00db 2\\u00b3 \\u00cd 6\\u00d0 \\u00b6 f\\u00b9 \\u00b9 U\\u00ba \\u00c7 G\\u00e3 \\u00dc 5\\u00e1 E\\u00a9 6\\u00d0 \\u00b6 f\\u00b9 k\\u00b9 U\\u00ba AE \\u00b6 k\\u00e4 D\\u00bc x\\u00b9 \\u00b9 \\u00c4 \\u00ca\\u00c5 \\u00b5 \\u00d2 \\u00bb k\\u00c0 \\u00d3 \\u00d4 k\\u00d5 \\u00b0\\u00d6 &\\u00c0 \\u00aa \\u00c4 \\u00f1\\u00d2 `\\u00ba \\u00bf\\u00bb k\\u00c0 \\u00d3 \\u00d4 k\\u00d5 \\u00b0\\u00d6 &\\u00c0 \\u00aa \\u00be \\u00c3\\u00da \\u00ba \\u00bf\\u00da \\u00ca \\u00b6 2\\u00f2 \\u2022 \\u00b8\\u00f3\\u00e3 \\u00d2 \\u00bb k\\u00c0 \\u00d3 \\u00d4 D\\u00d5 6\\u00d6 &\\u00c0 \\u00aa \\u00c4 \\u00b2\\u00da \\u00f3 \\u00b6 \\u00af\\u2022 \\u2022 k\\u00b8\\u00af\\u00d2 \\u00bb k\\u00c0 k\\u00d3 \\u00d4 k\\u00d5 6\\u00d6 &\\u00c0 \\u00aa \\u00c4 \\u00b2\\u00da AE\\u00c5 \\u00a9 \\u00bfae \\u00ac \\u00db 2\\u00de \\u00b0\\u00db 2\\u00b3 k\\u00de 6\\u00cc \\u00ca D\\u00ac \\u00bf\\u00b3 \\u00b0\\u00cc &\\u00b3 \\u00b0 \\u00b1 \\u00b1 2\\u00e0 \\u00b2\\u00ae \\u00b0 \\u00cc D\\u00b4\\u00c0 ae 6\\u00cc \\u00b5 \\u00ab \\u00b6 &\\u00bc \\u00d4 5\\u00b9 \\u00b9 U\\u00ba \\u00ca \\u00b6 ae \\u2022 ae \\u00c5 \\u00a9 \\u00c8\\u00f4 k\\u00f4 G 2\\u00de \\u00f5 \\u00f6 k\\u00f6 \\u00f7\\u00b3 6\\u00cc &\\u00b3 \\u00b0 \\u00b1 k\\u00b1 D\\u00e0 \\u00f8\\u00cf \\u00cc &\\u00de 5\\u00f6 \\u00cd \\u00cb\\u00cf &\\u00de \\u00cb \\u00bf\\u00ae \\u00cc D\\u00b4\\u00c0 ae \\u00b5 \\u00d2 \\u00b6 \\u00e3 \\u00e7 k\\u00c4 \\u00b9 k\\u00b9 `\\u00c4 \\u00b2\\u00da \\u00c7 G &\\u00de \\u00f5 \\u00e2\\u00e1 I\\u00f9 \\u00d0 \\u00b6 \\u00ea\\u00d2 \\u00f7 \\u00b6 \\u00e3 \\u00e7 k\\u00c4 f\\u00b9 \\u00b9 `\\u00c4 \\u00b2\\u00da \\u00ca\\u00c5 \\u00a9 \\u00fa \\u00db D\\u00ac \\u00cb\\u00cc \\u00cf &\\u00de \\u00fb \\u00b1 k\\u1e31\\u00cd \\u00db &\\u00de \\u00ca\\u00ae \\u00b0 \\u00cc D\\u00b4\\u00c0 ae 6\\u00cc \\u00b5 \\u00ab \\u00b6 \\u00c7 \\u00bc \\u00d4 \\u00e1 \\u00d8 \\u00fc \\u00e1 \\u00d9 ae c\\u00e1 \\u00d9 \\u00bc \\u00d4 \\u00d0 \\u00c5 \\u00bf\\u00e8 \\u00d8 \\u2022 k\\u00a9 \\u00ca\\u00cc D\\u00db z\\u00fa \\u00ab\\u00de \\u00b3 2\\u00fa \\u00ae \\u1e31\\u00ac \\u00b0\\u00cc \\u00ab 2\\u00ac \\u01fc\\u00cc \\u00cf &\\u00de \\u00fb \\u00b1 k\\u1e31\\u00cd \\u00db &\\u00de \\u00cb\\u00ae \\u00cc D\\u00b4\\u00c0 ae \\u00b0\\u00cc \\u00b5 \\u00d2 \\u00bb k\\u00c0 \\u00d3 \\u00d4 k\\u00d5 \\u00b0\\u00d6 &\\u00c0 \\u00aa \\u00da \\u00ea\\u00d2 \\u00b6 k\\u00e4 D\\u00bc \\u00ca\\u00da \\u00b2\\u00c5 \\u00a9 \\u00c8\\u00c7 \\u00fd\\u00fa \\u00b0\\u00b3 6\\u00df &\\u00c9 \\u00b0\\u00ef\"],[\"\"],[\"\\u00a2\\u00a1 \\u00a4\\u00a3 \\u00a6\\u00a5 \\u00a6\\u00a3 \\u00a8 \\u00a7 \\u00a9\\u00a3 \\u00a1 \\\"! #\\u00a5 \\u00a8$ % \\u00a3 $ & (' 0) 21 3) 4 05 6 87 #9 7 @\\u00a5 \\u00a8 BA C ($ D\\u00a3 \\u00a8) FE 5 HG I\\u00a1 P! \\u00a4) B7 Q\\u00a1 \\u00a4\\u00a3 SR T (! QU V W \\u00a91 7 X! #\\u00a3 \\u00a8A Y\\u00a1 \\u00a4\\u00a3 \\u00a8 ` &1 ba c! \\u00a4 \\\"U d I (U e\\u00a3 gf hd i\\u00a1 P! Qp D7 Q\\u00a1 p ! \\u00a4 q$ 0R T rG I\\u00a1 P1 s Ct vu vw ru yx \\u00a9 4 \\u00a9w y \\\" t vu yw @ Q u yx \\u00a9 ed gf h i j lk m on \\u00a6p \\u00a6j rq ts vu w (x Xj zy n \\u00a6 n \\u00a8s { | {} t ~w u n \\u00a6 |q \\u00a6j zu H h oj zm o om \\u00a8 p \\u00a6 h P ip \\u00a6 y P ~ t | h Q | Y # Y v g v y h # \\u00a1 \\u00a2 g v\\u00a3 s v\\u00a4 \\u00a9u t v\\u00a5 \\u00a6 P \\u00a7 t g\\u00a9 \\u00aa \\u00a8\\u00ab \\u00ac r 2\\u00ae \\u0233\\u00ae \\u00b0\\u00b2\\u00b1 \\u00b4\\u00b3 \\u00b5 q\\u00b0i\\u00ae g\\u00b1 \\u2022 \\u00b6 v\\u00ae \\u00b6 \\u00a6 t\\u00b0ID&\\u00b0\\u00b2\\u00aa \\u00a8\\u00ab \\u00b6 \\u00b9 \\u00aa t \\u00b6 \\u00ba\\u00b0\\u00bc\\u00bb \\u00aa t\\u00b1 \\u00a8v\\u00bd \\u00b2\\u00aa \\u00be\\u00b9 \\u00b0c \\u2022\\u00bd \\u00bc\\u00b1 \\u00a8\\u00ac \\u00bf\\u00ae g\\u00aa \\u2022\\u00ac \\u00c0 \\u00b6 \\u00a6\\u00a9 g \\u00c1 \\u00b6 v\\u00c2 \\u00c3\\u00aa t\\u00b0c\\u00bd \\u00bc\\u00ab g\\u00a9 \\u00ac \\u00bf\\u00c4 \\u00bd \\u00b2\\u00a6\\u00c5 (\\u00aa \\u2022\\u00b0\\u00b2\\u00b1 \\u00a8 I\\u00c2 AE\\u00b1 t \\u00b6 \\u00c7\\u015e\\u00c8 \\u00b0\\u00c9 \\u00ca\\u00ae \\u0233\\u00cb \\u00a6\\u00b0 Y\\u00ac \\u00c0\\u00a9 H \\u00b6 v\\u00b1 \\u00a8\\u00b9 \\u00b0\\u00b1 \\u00aa t \\u00b6 6\\u00cc \\u00aa \\u2022\\u00ac \\u00c0\\u00c5 r\\u00ac \\u00bf\\u00cd \\u00b2\\u00b0\\u00aa \\u2022\\u00ab \\u00b0v\\u00c8 \\u00ce \\u00b6 \\u00a6\\u00b1 \\u2022\\u00c5 r\\u00b9 \\u00cf\\u00c8 \\u00d0\\u00ac \\u00c0\\u00b9 \\u00b0T\\u00c8 {\\u00b0\\u00c9 \\u00d1\\u00a6 \\u00a6\\u00a9 H\\u00b0c\\u00a9 \\u00bd \\u00b2\\u00d2 \\u00bd \\u00b4\\u00c5 \\u00bf \\u00b6 \\u00a6\\u00ae ~\\u00b0\\u00b9 g\\u00ac \\u00c0\\u00d3 H\\u00c8 \\u00ce\\u00b0\\u00d4\\u00cc g t\\u00b0C\\u00c5 \\u00c0\\u00ac r\\u00a9 \\u00cb \\u00c7\\u00cc g\\u00ac \\u00c0 t\\u00aa \\u2022\\u00ac r\\u00bd \\u00ae \\u0233\\u00aa \\u2022\\u00aa t\\u00b0\\u00b2\\u00b1 \\u00a8\\u00a9 g 2\\u00a6\\u00a9 \\u00b9 \\u00d5 B\\u00d6 \\u00d8\\u00d7 \\u00da\\u00d9 {\\u00aa t\\u00b0\\u00b2\\u00bb \\u00aa 4 t\\u00aa \\u2022\\u00b1 \\u2022\\u00cc g\\u00bd \\u00bc\\u00aa \\u00a8\\u00cc \\u00b1 \\u2022\\u00b0c \\u00aa t \\u00b6 \\u00db\\u00b0\\u00bc\\u00bb \\u00aa t\\u00b1 \\u00a8\\u00a6\\u00bd \\u00bc\\u00aa v\\u00aa \\u2022\\u00b0\\u00bc\\u00bb \\u00aa v\\u00c2 z\\u00b1 \\u00a8v\\u00cb \\u00a6&\\u00b0c\\u00a9 |\\u00aa \\u2022 T\\u00bd \\u00b2 \\u00b6 \\u00a6\\u00a9 |\\u00aa \\u00a8v\\u00ac r\\u00a9 \\u00c4 \\u00ac \\u00c0\\u00a9 \\u00cb v\\u00aa \\u2022\\u00b0\\u00b2\\u00b1 \\u00a8\\u00dc\\u00b9 \\u00b0 \\u00a8\\u00bd \\u00bc\\u00b1 \\u00a8\\u00ac \\u00bf\\u00ae g\\u00aa \\u2022\\u00ac \\u00bf \\u00b6 \\u00c7\\u00a9 g \\u00b2\\u00d3 T\\u00c8 {\\u00b0D\\u00a6\\u00c5 \\u00c0 t \\u00b6 \\u00cc t\\u00b0v \\u00c5 rv\\u00a9 \\u00cb \\u00a6\\u00cc g\\u0233\\u00cb \\u00a6\\u00b0\\u00d4& \\u00b6 \\u00b9 \\u00b0\\u00c5 \\u00a9\\u00aa \\u2022 \\u00b6 T\\u00b9 g\\u00ac \\u00c0 \\u2022\\u00bd \\u00b4\\u0233\\u00b1 \\u00a8\\u00b9 \\u00ca\\u00b0\\u00b2\\u00bb \\u00aa \\u2022\\u00b1 \\u2022\\u0233\\u00c4 \\u00a9 \\u00b0\\u00b2 \\u00b6 \\u00c7\\u00cc \\\"\\u00b9 \\u00b0c \\u2022\\u00bd \\u00bc\\u00b1 \\u00a8\\u00ac \\u00bf\\u00ae g\\u00aa \\u00a8\\u00ac \\u00bf \\u00b6 \\u00a6\\u00a9 g \\u00b2\\u00b3 P\\u00a6\\u00a9 \\u00b9 \\u00daD\\u00bd \\u00b4\\u00c5 \\u00c0\\u00cc g t\\u00aa t\\u00b0\\u00b1 \\u2022\\u00ac r\\u00a9 \\u00cb &\\u00b0\\u00b2\\u00aa \\u00a8\\u00ab \\u00b6 \\u00b9 {\\u00aa t \\u00b6 \\u00da \\u2022\\u00cc g&v\\u00b1 \\u00a8\\u00ac \\u00bf\\u00cd \\u00b2\\u00b0D\\u00b1 \\u2022\\u00b0c \\u2022\\u00cc \\u00c5 \\u00bf\\u00aa \\u00a8v\\u00a9 \\u00aa F\\u00b9 \\u00b0\\u00b2\\u00c4 \\u2022\\u00bd \\u00b2\\u00b1 \\u2022\\u00ac \\u00c0\\u00ae \\u00aa \\u00a8\\u00ac \\u00bf \\u00b6 \\u00a6\\u00a9 g \\u00b2\\u00d3 \\u00dd\\u00c8 \\u00b0{ \\u2022\\u00ab \\u00b6 y\\u00b5 \\u00de\\u00aa \\u2022\\u00ab \\u00b0\\u00b0\\u00b2\\u00df ~\\u00b0c\\u00bd \\u00bc\\u00aa \\u00a8\\u00ac \\u00bf\\u00e0 \\u00c7\\u00b0\\u00b2\\u00c4 \\u00a9 \\u00b0 \\u2022 \\u00a9 \\u00b6 v\\u00c2 P \\u00b6 \\u00a6\\u00cc \\u00b1 (&\\u00b0\\u00b2\\u00aa \\u00a8\\u00ab \\u00b6 \\u00b9 8\\u00c9 \\u00d2 Y\\u00b5 \\u00e1c\\u00d2 Y \\u00b6 v\\u00c2 P\\u00b0\\u00b2\\u00bb \\u00ae ~\\u00b0\\u00b1 t\\u00c4 \\u00ac \\u00c0&\\u00b0c\\u00a9 \\u00aa \\u00a8 \\u00b2\\u00d3 \\u00e2 o\\u00e3 #t y\\u00a5 \\u00a6\\u00e4 \\u00a2\\u00e5 rw \\u00a9 \\u00a7 t v \\u00e4 \\u00a4\\u00e3 ae \\u00d8\\u00b0\\u00b2\\u00e7 g\\u00b0c\\u00bd \\u00bc\\u00aa \\u00a8\\u00ac \\u00c0\\u00a9 \\u00cb \\u00d0\\u00aa \\u2022\\u00ab \\u00b0\\u00ca\\u00cb v\\u00b1 \\u2022 \\u00b6 y\\u00b5 \\u00d8\\u00aa \\u00a8\\u00ab \\u00e8\\u00ac \\u00c0\\u00a9 \\u00c1\\u00cc \\u00aa \\u2022\\u00ac \\u00c0\\u00c5 r\\u00ac \\u00bf\\u00cd \\u00b4v\\u00aa \\u2022\\u00ac \\u00c0 \\u00b6 \\u00a6\\u00a9 \\u00c1 \\u00b6 v\\u00c2 D\\u0233\\u00c4 \\u00bd \\u00a6\\u00ab \\u00ac r\\u00a9 \\u00b0\\u00ce\\u00b1 \\u2022\\u00b0\\u00a6\\u00b9 g\\u0233\\u00c9 \\u00c5 \\u00bf\\u00b0\\u00ca\\u00aa \\u2022\\u00b0\\u00bc\\u00bb \\u00aa \\u2022 \\u00b2\\u00b3 \\u00e9\\u00b0\\u00bc\\u00bb \\u00aa t\\u00b1 \\u00a8\\u00a6\\u00bd \\u00bc\\u00aa \\u00a8\\u00ac \\u00bf \\u00b6 \\u00c7\\u00a9 \\u00c1v\\u00a9 g\\u00b9 \\u00c1\\u00a6\\u00bd \\u00b2\\u00ea \\u00cc \\u00ac \\u00bf\\u00c4 \\u2022\\u00ac \\u00bf\\u00aa \\u00a8\\u00ac \\u00bf \\u00b6 \\u00a6\\u00a9 \\u00eb \\u00b6 \\u00a6\\u00c2 \\u00be\\u00c5 r\\u00ac \\u00c0\\u00a9 \\u00cb \\u00c7\\u00cc g\\u00ac \\u00c0 t\\u00aa \\u2022\\u00ac r\\u00bd \\u00de\\u00ec \\u00a9 \\u00b6 o\\u00b5 \\u00d8\\u00c5 \\u00c0\\u00b0\\u00b9 \\u00cb v\\u00b0\\u00c2 z\\u00b1 \\u2022 \\u00b6 \\u00c7\\u00b8\\u00c5 \\u00c0\\u0233\\u00b1 \\u2022\\u00cb \\u00a6\\u00b0\\u00bd \\u00bc \\u00b6 \\u00a6\\u00b1 \\u2022\\u00ae h \\u00b6 v\\u00b1 \\u00a8\\u00ab gv \\u00c1\\u00c9 ~\\u00b0\\u00b2\\u00b0c\\u00a9 \\u00b6 \\u00c7\\u00a9 \\u00b0\\u00ed \\u00b6 \\u00a6\\u00c2 \\u00c3\\u00aa \\u2022\\u00ab \\u00b0\\u00a2\\u00ee t \\u00b6 v\\u00b1 \\u00be\\u00aa t \\u00b6 \\u00a6\\u00ae \\u00c4 \\u00ac \\u00c0\\u00bd \\u00b4 \\u00ce\\u00b5 2\\u00ac \\u00bf\\u00aa \\u00a8\\u00ab \\u00ac r\\u00a9 \\u00ef\\u00aa \\u2022\\u00ab \\u00b0\\u00d0\\u00a9 g\\u0233\\u00aa \\u00a8\\u00cc \\u00b1 \\u00a8v\\u00c5 \\u00d4\\u00c5 \\u00c0v\\u00a9 \\u00cb \\u00a6\\u00cc gv\\u00cb v\\u00b0\\u00f0\\u00ae g\\u00b1 \\u2022 \\u00b6 \\u00bd \\u00bc\\u00b0c \\u2022 \\u2022\\u00ac \\u00c0\\u00a9 \\u00cb \\u00f1 \\u00f3\\u00f2 \\u00d9 \\u00a4\\u00f4 q\\u00f5 \\u00da\\u00bd \\u00bc \\u00b6 \\u00c7\\u0229\\u00cc g\\u00a9 g\\u00ac \\u00bf\\u00aa g\\u00d2 v\\u00d3 %\\u00f6 \\u00f7 \\u2022v&\\u00ae \\u00c5 \\u00bf\\u00b0\\u00c3 \\u00b6 v\\u00c2 h\\u00c5 \\u00c0\\u00ac \\u00c0\\u00a9 \\u00cb \\u00a6\\u00cc g\\u00ac \\u00c0 t\\u00aa \\u00a8\\u00ac \\u00c0\\u00bd \\u00ec \\u00a9 \\u00b6 o\\u00b5 2\\u00c5 \\u00bf\\u00b0c\\u00b9 \\u00cb \\u00a6\\u00b0\\u00e9\\u00aa \\u2022v\\u00b1 \\u2022\\u00cb v\\u00b0\\u00aa t\\u00b0c\\u00b9 v\\u00ac \\u00c0\\u00a9 v\\u00ae g\\u00a6 t\\u00aa \\\"\\u00b1 \\u2022\\u00b0 t\\u00b0c\\u0233\\u00b1 \\u00a8\\u00bd \\u00bc\\u00ab v\\u00ac \\u00c0\\u00a9 \\u00bd \\u00b4\\u00c5 \\u00c0\\u00cc g\\u00b9 \\u00b0c \\u00cb v\\u00b1 \\u00a8\\u00a6&v\\u00b1 \\u00a8 \\u00f1 \\u00f3\\u00f8 \\u00cc \\u00ae g\\u00ac \\u00c0\\u00b0\\u00bd 0v\\u00a9 g\\u00b9 \\u00d7 \\u00da\\u0233\\u00bb \\u00b5 q\\u00b0\\u00c5 \\u00c0\\u00c5 e\\u00b3 \\u00fa\\u00f9 \\u00b4\\u00fb \\u00a6\\u00fb v\\u00fc |\\u00f5 \\u00a8\\u00b3 \\u00b5 ( \\u00b6 \\u00a6\\u00b1 \\u2022\\u00b9 &\\u00bd \\u00b2\\u00c5 rv \\u2022 t\\u00b0c \\u00f1 \\u00d5 Bv\\u00aa t\\u00cd \\u00b4\\u00ac \\u00c0\\u00e0 vv \\u2022 \\u2022\\u00ac \\u00c0\\u00c5 \\u00c0 \\u00b6 v\\u00cb \\u00c7\\u00c5 \\u00bf \\u00b6 \\u00c7\\u00cc \\u00e9v\\u00a9 g\\u00b9 \\u00d7 \\u00da\\u00bd \\u00f8 \\u00b0\\u00b2 \\u00b6 y\\u00b5 \\u00d8\\u00a9 P\\u00b3 \\u00f9 \\u00b4\\u00fb \\u00a6\\u00fb v\\u00fd |\\u00f5 I\\u00a6\\u00a9 g\\u00b9 \\u00c9 \\u00ac \\u00c0\\u00c5 r\\u00ac \\u00c0\\u00a9 \\u00cb \\u00c7\\u00cc gv\\u00c5 2\\u00c5 \\u00bf\\u00b0\\u00bc\\u00bb \\u00ac \\u00c0\\u00bd \\u00b2 \\u00b6 \\u00a6\\u00a9 g \\u00f1 \\u00ff\\u00fe \\u00a6\\u00b9 \\u00ee \\u2022T\\u00b0\\u00aa 8\\u00a6\\u00c5 \\u00f3\\u00d3 r\\u00b3 \\u00f9 \\u00b4\\u00fb \\u00a6\\u00fb \\u00a1 |\\u00f5 \\u00a8\\u00d3 Q\\u00c8 \\u00d0\\u00ab g\\u00ac \\u00c0\\u00c5 \\u00bf\\u00b0r\\u00ab \\u00cc gv\\u00a9 \\\"\\u00b0\\u00bc\\u00bb \\u00ae h\\u00b0\\u00b2\\u00b1 \\u2022\\u00aa \\u2022 \\u00a3\\u00a2 \\u00a9 g\\u00b9 i\\u00ac \\u00bf\\u00aa \\u00b9 g\\u00ac \\u00a5\\u00a4 D\\u00bd \\u00b4\\u00cc \\u00c5 \\u00bf\\u00aa \\u00a4\\u00aa t \\u00b6 \\u00ae \\u00b1 \\u2022 \\u00b6 \\u00b9 g\\u00cc \\u00bd \\u00b2\\u00b0\\u00d4\\u00b0\\u00b2\\u00bb \\u00ab gv\\u00cc g t\\u00aa \\u00a8\\u00ac \\u00bf\\u00e0 \\u00c7\\u00b0\\u00d4\\u00a6\\u00a9 g\\u00b9 \\u00bd \\u00b2 \\u00b6 \\u00a6\\u00a9 g \\u2022\\u00ac \\u00c0 t\\u00aa \\u2022\\u00b0\\u00a9 |\\u00aa \\u00c5 \\u00c0\\u00ac \\u00c0\\u00a9 \\u00cb \\u00a6\\u00cc g\\u00ac \\u00c0 t\\u00aa \\u00a8\\u00ac \\u00c0\\u00bd \\u00ec \\u00a9 \\u00b6 o\\u00b5 2\\u00c5 \\u00bf\\u00b0c\\u00b9 \\u00cb \\u00a6\\u00b0v\\u00b3 \\u00a6\\u00cc \\u00aa t \\u00b6 \\u00c7&v\\u00aa \\u2022\\u00ac r\\u00bd i&\\u00b0\\u00aa \\u2022\\u00ab \\u00b6 \\u00b9 4\\u00bd \\u00b2\\u00a6\\u00a9 \\u00d4\\u00ab \\u00b0\\u00c5 \\u00c0\\u00ae C\\u00a6\\u00c5 \\u00c0\\u00c5 \\u00bf\\u00b0\\u00b2\\u00c4 \\u00e0 \\u00ac r\\u0233\\u00aa \\u2022\\u00b0\\u00d4\\u00ae g\\u00b1 t \\u00b6 \\u00a6\\u00c9 \\u00c5 \\u00bf\\u00b0 \\u00a6 \\u2022 t \\u00b6 \\u00bd \\u00b4\\u00ac \\u00c0\\u0233\\u00aa \\u2022\\u00b0\\u00b9 \\u00b5 2\\u00ac \\u00bf\\u00aa \\u2022\\u00ab \\u00c3v\\u00a9 \\u00cc \\u00a6\\u00c5 \\u00e1\\u00bd \\u00b2 \\u00b6 \\u00a6\\u00a9 \\u00c4 t\\u00aa t\\u00b1 \\u00a8\\u00cc g\\u00bd \\u00bc\\u00aa \\u2022\\u00ac \\u00c0 \\u00b6 \\u00a6\\u00a9 P\\u00d3 \\u00d6 Q\\u00b0\\u00b1 \\u00a8\\u00b9 \\u00b0 \\u2022\\u00bd \\u00b2\\u00b1 \\u2022\\u00ac \\u00c0\\u00ae \\u00aa \\u00a8\\u00ac \\u00bf \\u00b6 \\u00c7\\u00a9 \\u00b2\\u00b3 \\u00b5 2\\u00ab g\\u00ac \\u00c0\\u00bd \\u00bc\\u00ab v\\u0233\\u00b1 \\u2022\\u00b0&\\u00cc g \\u2022\\u00cc \\u00a6\\u00c5 \\u00c0\\u00c5 \\u00bf\\u00d2 \\u00bd \\u00b2v\\u00b1 t\\u00b0\\u00b2\\u00c4 \\u00c2 AE\\u00cc g\\u00c5 \\u00c0\\u00c5 \\u00bf\\u00d2 \\u00ef \\u00b6 v\\u00b1 \\u2022\\u00cb \\u00c7v\\u00a9 g\\u00ac \\u00bf\\u00cd \\u00b2\\u00b0c\\u00b9 \\u00a2\\u00ac r\\u00a9 \\u00a2\\u00b0c\\u00a9 \\u00bd \\u00b2\\u00d2 \\u00bd \\u00b4\\u00c5 \\u00bf \\u00b6 \\u00a6\\u00ae h\\u00b0\\u00b9 g\\u00ac \\u00c0\\u00a6 \\u00b2\\u00b3 Cv\\u00b1 t\\u00b0\\u00db\\u00e0 vv\\u00c5 \\u00c0\\u00cc \\u00c4 \\u0233\\u00c9 \\u00c5 \\u00bf\\u00b0H\\u00c5 r\\u00ac \\u00c0\\u00a9 \\u00cb \\u00a6\\u00cc g\\u00ac \\u00c0 t\\u00aa \\u2022\\u00ac r\\u00bd \\u00ca\\u00ec \\u00a9 \\u00b6 o\\u00b5 2\\u00c5 \\u00bf\\u00b0c\\u00b9 \\u00cb v\\u00b0\\u00a6\\u00b3 F\\u00c9 \\u00cc \\u00aa \\u00ab \\u00e0 \\u00c7\\u00b0\\u00ca t\\u00b0\\u00c5 \\u00c0\\u00b9 \\u00b6 \\u00a6\\u0228 h\\u00b0\\u00b2\\u00b0c\\u00a9 \\u00be\\u00aa \\u00a8\\u0233\\u00b1 \\u2022\\u00cb \\u00a6\\u00b0\\u00b2\\u00aa \\u2022\\u00b0\\u00b9 b\\u00ac \\u00c0\\u00a9 3\\u00ae g\\u00a6 t\\u00aa \\u00f2 \\u00d9 \\u00a4\\u00f4 \\u00c5 r\\u00ac \\u00bf\\u00aa t\\u00b0\\u00b1 \\u00a8\\u0233\\u00aa \\u00a8\\u00cc \\u00b1 \\u2022\\u00b0v\\u00d3 0\\u00f6 4 \\u00b5 2\\u00ac \\u00bf\\u00aa \\u00a8\\u00ab \\u00b6 v\\u00aa \\u00a8\\u00ab \\u00b0\\u00b1 q\\u00aa t\\u00d2 |\\u00ae \\u00b0c \\u00e1 \\u00b6 v\\u00c2 Q\\u00c5 r\\u00ac \\u00c0\\u00a9 \\u00cb \\u00c7\\u00cc g\\u00ac \\u00c0 t\\u00aa \\u2022\\u00ac r\\u00bd B\\u00ec \\u00a9 \\u00b6 v\\u00b5 \\u00d8\\u00c5 \\u00c0\\u00b0\\u00b9 \\u00cb v\\u00b0B\\u00b1 \\u2022\\u00b0c\\u00c5 \\u00bf\\u00d2 \\u00c7\\u00c4 \\u00ac \\u00c0\\u00a9 \\u00cb h \\u00b6 \\u00c7\\u00a9 v\\u00ab \\u00cc gv\\u00a9 v\\u00ac \\u00c0\\u00a9 \\u00aa \\u2022\\u00b1 \\u2022 \\u00b6 \\u00a6 t\\u00ae \\u00b0\\u00bd \\u00b2\\u00aa \\u2022\\u00ac \\u00c0 \\u00b6 \\u00a6\\u00a9 v\\u00a9 g\\u00b9 v \\u2022\\u00cc \\u00ae h\\u00b0\\u00b2\\u00b1 \\u2022\\u00e0 \\u00ac \\u00c0 \\u2022\\u00ac \\u00bf \\u00b6 \\u00c7\\u00a9 P\\u00b3 \\u00bd \\u00bc \\u00b6 \\u00c7\\u00a9 g t\\u00aa t\\u00b1 \\u00a8\\u00cc \\u00bd \\u00b2\\u00aa \\u2022\\u00ac r\\u00a9 \\u00cb B\\u00b0c\\u00a9 \\u00bd \\u00b2\\u00d2 \\u00bd \\u00b2\\u00c5 \\u00bf \\u00b6 \\u00a6\\u00ae ~\\u00b0c\\u00b9 \\u00ac \\u00c0\\u00a6 \\u00a2\\u00ac \\u00c0 X\\u00ea |\\u00cc g\\u00ac \\u00bf\\u00aa \\u2022\\u00b0q\\u00b0\\u00bc\\u00bb \\u00ae h\\u00b0\\u00a9 g \\u2022\\u00ac \\u00bf\\u00e0 |\\u00b0v\\u00d3 \\u00f6 B\\u00b9 \\u00b9 g\\u00ac \\u00bf\\u00aa \\u00a8\\u00ac \\u00bf \\u00b6 \\u00c7\\u00a9 \\u00a6\\u00c5 \\u00c0\\u00c5 \\u00bf\\u00d2 \\u00c7\\u00b3 \\u2022\\u00ac \\u00c0\\u00a9 g\\u00bd \\u00bc\\u00b0\\\"\\u00b0\\u00b2\\u00bb \\u00ac r t\\u00aa \\u2022\\u00ac \\u00c0\\u00a9 \\u00cb Y\\u00b0c\\u00a9 \\u00bd \\u00b2\\u00d2 \\u00bd \\u00b2\\u00c5 \\u00bf \\u00b6 \\u00a6\\u00ae ~\\u00b0c\\u00b9 \\u00ac \\u00c0\\u00a6 \\u00e1\\u0233\\u00b1 \\u2022\\u00b0\\u00cc g \\u2022\\u00cc \\u00a6\\u00c5 \\u00c0\\u00c5 \\u00bf\\u00d2 I\\u00b1 t\\u00b0\\u00e0 \\u00ac \\u00c0 t\\u00b0\\u00b9 Y\\u00b0\\u00b2\\u00e0 |\\u00b0\\u00b2\\u00b1 \\u2022\\u00d2 i\\u00c2 z\\u00b0\\u00b5 \\u00c3\\u00d2 \\u00a6\\u00b0v\\u00b1 \\u00a8 \\u00b2\\u00b3 \\u00a6\\u00ac \\u00c0\\u00a9 &&\\u00a6\\u00a9 |\\u00d2 \\u00e9\\u00bd \\u00b2\\u00a6 t\\u00b0 \\u00cc g t\\u00b0\\u00b2\\u00b1 \\u00a8 \\u00a6\\u00a2 h\\u00a9 g\\u00b9 Y\\u00ac \\u00bf\\u00aa \\u00a2\\u00b9 g\\u00ac \\u00a5\\u00a4 D\\u00bd \\u00b4\\u00cc \\u00c5 \\u00c0\\u00aa \\u00a2\\u00aa t \\u00b6 B \\u00b6 \\u00a6\\u00c9 g\\u00aa \\u2022\\u00a6\\u00ac \\u00c0\\u00a9 Y\\u00b9 \\u00b0 \\u2022\\u00bd \\u00b2\\u00b1 \\u00a8\\u00ac \\u00bf\\u00ae \\u00aa \\u00a8\\u00ac \\u00bf \\u00b6 \\u00c7\\u00a9 #\\u00c2 z \\u00b6 \\u00a6\\u00b1 \\u00a9 \\u00b0\\u00b2\\u00b5 2\\u00c5 \\u00bf\\u00d2 h\\u00bd \\u00bc\\u00b1 \\u2022\\u00b0v\\u00aa t\\u00b0c\\u00b9 h\\u00aa \\u2022\\u00b0\\u00b2\\u00b1 \\u00a8 \\u00b2\\u00d3 \\u00d6 # \\u00b6 &\\u00bd \\u00bc \\u00b6 \\u00a6\\u00ae ~\\u00b0i\\u00b5 \\u00d8\\u00ac \\u00c0\\u00aa \\u2022\\u00ab h\\u00aa \\u2022\\u00ab \\u00b0iv\\u00c9 ~ \\u00b6 o\\u00e0 \\u00a6\\u00b0\\u00c5 r\\u00ac \\u00c0\\u00ac \\u00bf\\u00aa \\u00a8\\u0233\\u00aa \\u00a8\\u00ac \\u00bf \\u00b6 \\u00a6\\u00a9 \\u00d4 \\u00b6 \\u00a6\\u00c2 Q\\u00b0\\u00bc\\u00bb \\u00ac \\u00c0 t\\u00aa t\\u00c4 \\u00ac \\u00c0\\u00a9 \\u00cb 2\\u00b0\\u00a9 g\\u00bd \\u00bc\\u00d2 \\u00bd \\u00b2\\u00c5 \\u00c0 \\u00b6 v\\u00ae h\\u00b0c\\u00b9 \\u00ac rv \\u00b2\\u00b3 v\\u00ac \\u00c0\\u00aa \\u00a4\\u00ac \\u00c0 \\u00a4\\u00ae ~ \\u00b6 \\u00a6 \\u2022 \\u2022\\u00ac \\u00c0\\u00c9 g\\u00c5 \\u00c0\\u00b0@\\u00aa \\u2022 \\u00b6 4\\u00cc t\\u00b0\\u00a92 t\\u00b0v\\u00b1 \\u2022\\u00bd \\u00b2\\u00ab \\u00b0\\u00a9 \\u00cb \\u00c7\\u00ac \\u00c0\\u00a9 \\u00b08 \\u00b6 \\u00c7\\u00a9 {\\u00aa \\u2022\\u00ab \\u00b0D\\u00c8 { \\u00b6 v\\u00b1 \\u00a8\\u00c5 \\u00c0\\u00b9 {\\u00c8 \\u00d0\\u00ac r\\u00b9 \\u00b0D\\u00c8 {\\u00b0\\u00b2\\u00c9 \\u00ce\\u00a6 I\\u00da \\u2022\\u00cc \\u00c9 g t\\u00aa \\u00a8\\u00ac \\u00c4 \\u00aa \\u2022\\u00cc \\u00aa t\\u00b0\\u00a6\\u00b3 q\\u00b0\\u00b2\\u00bb \\u00ae h\\u00b0c\\u00bd \\u00bc\\u00aa \\u2022\\u00ac r\\u00a9 \\u00cb {\\u00aa \\u00a8\\u00ab v\\u00aa \\u00bd \\u00bc\\u00b0\\u00b1 t\\u00aa \\u00a8v\\u00ac r\\u00a9 \\u00c8 {\\u00b0\\u00c9 \\u00ae \\u0233\\u00cb \\u00a6\\u00b0 D\\u00b5 2\\u00ac \\u00c0\\u00c5 \\u00c0\\u00c5 \\u00b9 \\u00b0 \\u2022\\u00bd \\u00b2\\u00b1 \\u2022\\u00ac \\u00c0\\u00c9 h\\u00b0\\u00ce\\u00aa \\u2022\\u00ab \\u00b0{ \\u2022\\u00cc \\u00c9 g\\u00ac \\u00c0\\u00aa t\\u00aa \\u2022\\u00b0\\u00b9 \\u00ec \\u00a6\\u00b0\\u00d2 |\\u00b5 q \\u00b6 v\\u00b1 \\u00a8\\u00b9 P\\u00d3 \\u00d5 4 \\u00b6 o\\u00b5 q\\u00b0\\u00b2\\u00e0 v\\u00b0\\u00b1 \\u00b2\\u00b3 \\u2022\\u00ac \\u00c0\\u00a9 g\\u00bd \\u00bc\\u00b0\\u00ec \\u00c7\\u00b0\\u00d2 |\\u00b5 ( \\u00b6 v\\u00b1 \\u00a8\\u00b9 \\u00c4 \\u00c9 g\\u00a6 t\\u00b0\\u00b9 t\\u00b0c\\u0233\\u00b1 \\u00a8\\u00bd \\u00a6\\u00ab \\u00da\\u00b0c\\u00a9 \\u00cb \\u00c7\\u00ac \\u00c0\\u00a9 \\u00b0 F \\u00b6 v\\u00c2 z\\u00aa \\u2022\\u00b0\\u00a9 T\\u00b1 \\u2022\\u00b0\\u00bc\\u00c4 \\u00aa t\\u00b1 \\u00a8\\u00ac \\u00bf\\u00b0\\u00e0 \\u00a6\\u00b0\\u00f0\\u00c1 \\u2022\\u00cc \\u00b1 t\\u00ae g\\u00b1 \\u00a8\\u00ac \\u00c0 \\u2022\\u00ac \\u00c0\\u00a9 \\u00cb \\u00c7\\u00c5 \\u00bf\\u00d2 \\u00c5 \\u00c0v\\u00b1 \\u2022\\u00cb v\\u00b0\\u00f0\\u00a9 \\u00cc gF\\u00c9 h\\u00b0\\u00b1 \\u00ca \\u00b6 \\u00a6\\u00c2 h\\u00c8 \\u00ce\\u00b0\\u00c9 \\u00ae \\u0233\\u00cb \\u00a6\\u00b0 \\u00b2\\u00b3 P\\u00ac \\u00c0\\u00aa \\\"\\u00ac \\u00c0 B\\u00aa \\u2022\\u00ac \\u00c0&\\u00b0\\u00b2\\u00c4 \\u00bd \\u00b2 \\u00b6 \\u00a6\\u00a9 g \\u2022\\u00cc \\u00ac r\\u00a9 \\u00cb h\\u00aa \\u2022 \\u00b6 h\\u00ac \\u00c0\\u00b9 \\u00b0\\u00a9 \\u00aa \\u2022\\u00ac \\u00c0\\u00c2 z\\u00d2 \\u00d4\\u00ae gv\\u00cb \\u00a6\\u00b0 \\u00aa \\u2022\\u00ab gv\\u00aa \\u00d8 \\u2022v\\u00aa \\u2022\\u00ac \\u00c0 t\\u00c2 AE\\u00d2 D\\u00aa \\u00a8\\u00ab \\u00b0I\\u00cc g t\\u00b0\\u00b2\\u00b1 \\u00a8 \\u00a8 \\u00a7 g\\u00ac \\u00c0\\u00a9 \\u00c2 z \\u00b6 \\u00a6\\u00b1 \\u00a8\\u0233\\u00aa \\u00a8\\u00ac \\u00bf \\u00b6 \\u00a6\\u00a9 C\\u00a9 \\u00b0\\u00b2\\u00b0c\\u00b9 \\u00b2\\u00d3 \\u00a8 \\u00a9 \\u00dd\\u00e0 \\u00ac \\u00c0\\u00b0\\u00b2\\u00b5 \\u00b6 v\\u00c2 \\u00aa \\u2022\\u00ab g\\u00ac \\u00c0 \\u00f0\\u00ae g\\u00b1 t \\u00b6 \\u00a6\\u00c9 g\\u00c5 \\u00c0\\u00b0\\u00d4\\u00b3 T\\u00b5 q\\u00b0\\u00e8\\u00ae \\u00b1 \\u2022 \\u00b6 \\u00a6\\u00ae ~ \\u00b6 \\u00a6 t\\u00b0\\u00be& \\u00b0\\u00b2\\u00aa \\u00a8\\u00ab \\u00b6 \\u00b9 W\\u00aa \\u2022 \\u00b6 b\\u00a6\\u00cc \\u00aa \\u2022 \\u00b6 \\u00a6v\\u00aa \\u2022\\u00ac \\u00c0\\u00bd \\u00b4v\\u00c5 r\\u00c5 \\u00bf\\u00d2 \\u00a2\\u00b0\\u00bc\\u00bb \\u00aa t\\u00b1 \\u00a8\\u00a6\\u00bd \\u00bc\\u00aa 6\\u00aa t\\u00b0\\u00b1 \\u2022\\u00b8\\u00b9 \\u00b0\\u00bc\\u00c4 \\u2022\\u00bd \\u00b2\\u00b1 \\u2022\\u00ac \\u00c0\\u00ae \\u00aa \\u00a8\\u00ac \\u00bf \\u00b6 \\u00a6\\u00a9 g {\\u00c2 AE\\u00b1 \\u2022 \\u00b6 \\u00a6\\u00b8\\u00c8 {\\u00b0\\u00c9 b\\u00ae v\\u00cb v\\u00b0c \\u00ca\\u00a6\\u00a9 \\u00b9 \\u00ef \\u2022\\u00cc g\\u0233\\u00b1 \\u00a8\\u00ac \\u00bf\\u00cd \\u00b4\\u00b0\\u00aa \\u2022\\u00ab \\u00b0c\\u1e29\\u00d3 D\\u00a8 \\u00a9 T\\u00aa \\u00a8\\u00ab \\u00ac r i\\u00ae gv\\u00ae h\\u00b0\\u00b1 \\u00b2\\u00b3 #\\u00b5 q\\u00b0&\\u00cb \\u00a6\\u00b0\\u00a9 \\u00b0\\u00b2\\u00b1 \\u00a8v\\u00c5 r\\u00c5 \\u00bf\\u00d2 T\\u00cc t\\u00b0\\u00a9 t\\u00c8 \\u00ce\\u00b0\\u00b2\\u00c9 \\u00ae \\u0233\\u00cb \\u00a6\\u00b0 \\u00ef\\u00aa \\u2022 \\u00b6 \\u00ed\\u00b1 \\u2022\\u00b0\\u00b2\\u00c2 z\\u00b0\\u00b1 \\u00d0\\u00aa \\u2022 \\u00b6 \\u00ed\\u00aa \\u2022\\u00ab \\u00b6 \\u00c7 t\\u00b0\\u00c1\\u00ae gv\\u00cb v\\u00b0c \\u00d0\\u00bd \\u00bc \\u00b6 \\u00c7\\u00a9 \\u00aa \\u2022\\u00a6\\u00ac \\u00c0\\u00a9 g\\u00ac \\u00c0\\u00a9 \\u00cb \\u00aa t\\u00b0\\u00b2\\u00bb \\u00aa \\u00a8\\u00cc gv\\u00c5 \\\"\\u00bd \\u00b2 \\u00b6 \\u00a6\\u00a9 \\u00aa t\\u00b0\\u00a9 |\\u00aa \\u2022 \\u00b2\\u00b3 B\\u00b0\\u00bc\\u00bb \\u00bd \\u00b2\\u00c5 r\\u00cc \\u00b9 g\\u00ac \\u00c0\\u00a9 \\u00cb H\\u00aa \\u00a8\\u00ab \\u00b6 \\u00c7 t\\u00b0T\\u00b5 2\\u00ac \\u00bf\\u00aa \\u00a8\\u00ab \\u00d0 \\u00b6 \\u00c7\\u00a9 g\\u00c5 \\u00bf\\u00d2 \\u00ac \\u00c0v\\u00cb v\\u00b0 o\\u00a6\\u00cc \\u00b9 g\\u00ac \\u00bf \\u00b6 \\u00f0\\u00ac r\\u00a9 \\u00c2 AE \\u00b6 v\\u00b1 \\u00a8\\u0233\\u00aa \\u00a8\\u00ac \\u00bf \\u00b6 \\u00c7\\u00a9 \\u00d3 (\\u00b0c \\u2022\\u00ac \\u00c0\\u00b9 \\u00b0 \\u00da\\u00aa \\u2022\\u00ab g\\u00ac \\u00c0 \\u00b2\\u00b3 I\\u00b5 (\\u00b0 t\\u00ae h\\u00b0c\\u00bd \\u00b2\\u00ac \\u00a5\\u00a2 h\\u00bd \\u00b2\\u00a6\\u00c5 \\u00c0\\u00c5 \\u00c0\\u00d2 \\u00db\\u00aa \\u2022v\\u00b1 t\\u00cb \\u00a6\\u00b0\\u00b2\\u00aa \\u00b9 \\u00b0c \\u2022\\u00bd \\u00bc\\u00b1 \\u00a8\\u00ac \\u00bf\\u00ae g\\u00aa \\u2022\\u00ac \\u00c0 \\u00b6 \\u00a6\\u00a9 g \\u00c2 AE \\u00b6 v\\u00b1 v\\u00aa t\\u00b0c\\u00bd \\u00bc\\u00ab \\u00a9 g\\u00ac \\u00c0\\u00bd \\u00b4v\\u00c5 \\u00aa t\\u00b0\\u00b1 \\u00a8 \\u00b2\\u00b3 \\u00e9\\u00a6\\u00a9 g\\u00b9 \\u00e8\\u00aa \\u2022\\u00ab \\u00cc \\u00a9 \\u00aa \\u2022\\u00b0\\u00b2\\u00b1 \\u00a8 \\u00f0\\u00cb \\u00a6\\u00b0\\u00a9 \\u00b0\\u00b2\\u00b1 \\u00a8\\u00a6\\u00c5 \\u00c0\\u00c5 \\u00bf\\u00d2 \\u00e8\\u00b1 t\\u00b0\\u00c2 z\\u00b0\\u00b1 \\u00da\\u00aa t \\u00b6 \\u00aa t\\u00b0c\\u00bd \\u00a6\\u00ab g\\u00a9 \\u00ac r\\u00bd \\u00b2\\u00a6\\u00c5 ~\\u00aa t\\u00b0\\u00b1 \\u2022 \\u00b2\\u00d3 \\u00a8 \\u00a9 \\u00c9 \\u00b1 \\u00a8\\u00ac \\u00bf\\u00b0\\u00c2 \\u00ff\\u00b3 \\u00b6 \\u00c7\\u00cc \\u00b1 `&\\u00b0\\u00b2\\u00aa \\u00a8\\u00ab \\u00b6 \\u00b9 \\u00da\\u00b0\\u00bc\\u00bb \\u00aa t\\u00b1 \\u00a8v\\u00bd \\u00b2\\u00aa \\u2022 \\\"\\u00c2 z\\u00b1 \\u00a8v\\u00cb \\u00a6&\\u00b0c\\u00a9 |\\u00aa \\u2022 4 \\u00b6 v\\u00c2 \\u00c8 {\\u00b0\\u00b2\\u00c9 C\\u00ae gv\\u00cb \\u00a6\\u00b0 \\u00b2\\u00b3 h\\u00c9 g\\u00a6 t\\u00b0\\u00b9 C \\u00b6 \\u00c7\\u00a9 C\\u00ae gv\\u00aa t\\u00aa \\u2022\\u00b0\\u00b2\\u00b1 \\u00a8\\u00a9 \\u00f1 \\u00b6 \\u00a6\\u00b1 2\\u00aa t\\u00b0cY\\u00ae \\u00c5 \\u00c0v\\u00aa t\\u00b0c \\u00a6\\u00f5 \\u00aa g\\u00d2 \\u00ae g\\u00ac r\\u00bd \\u00b2\\u00a6\\u00c5 \\u00c0\\u00c5 \\u00bf\\u00d2 \\u00da\\u00cc t\\u00b0c\\u00b9 v\\u00aa \\u2022 \\u00b6 C\\u00b9 \\u00b0 \\u2022\\u00bd \\u00b2\\u00b1 \\u00a8\\u00ac \\u00bf\\u00c9 h\\u00b0&\\u00aa \\u2022\\u00b0\\u00b2\\u00b1 \\u00a8 \\u00b2\\u00d3 Y\\u00c8 {\\u00b0\\u00b2\\u00c9 T\\u00ae gv\\u00cb v\\u00b0c v\\u00b1 t\\u00b0D\\u00ac \\u00c0\\u00a9 {\\u00af t\\u00b0c\\u00a9 t\\u00b0D t\\u00b0\\u00ac \\u00bf\\u00c4 t\\u00aa t\\u00b1 \\u00a8\\u00cc g\\u00bd \\u00bc\\u00aa \\u00a8\\u00cc \\u00b1 \\u2022\\u00b0\\u00b9 \\u00ce\\u00b9 gv\\u00aa \\u2022\\u00b3 \\u00a4\\u00c9 ~\\u00b0c\\u00bd \\u00b2\\u00a6\\u00cc g t\\u00b0\\u00d5 B\\u00d6 \\u00d8\\u00d7 \\u00da\\u00d9 \\u00f1 \\u00d5 2\\u00d2 \\u00ae ~\\u00b0\\u00b1 \\\"\\u00d6 Q\\u00b0\\u00b2\\u00bb \\u00aa B\\u00d7 \\u00dav\\u00b1 \\u2022\\u00ec \\u00cc \\u00ae v\\u00d9 \\u00a4\\u00a6\\u00a9 \\u00cb \\u00c7\\u00cc v\\u00cb v\\u00b0y\\u00f5 \\u00e1\\u00aa \\u2022v\\u00cb \\u00c7 \\u00ae g\\u00b1 t \\u00b6 o\\u00e0 \\u00ac \\u00c0\\u00b9 \\u00b0Y\\u00aa \\u00a8\\u00ab \\u00b0&\\u00aa t\\u00b0\\u00bc\\u00bb \\u00aa \\u2022\\u00cc g\\u00a6\\u00c5 \\u00a2\\u00ac \\u00c0\\u00a9 \\u00c2 z \\u00b6 v\\u00b1 \\u00a8v\\u00aa \\u2022\\u00ac \\u00bf \\u00b6 \\u00c7\\u00a9 \\u00bd \\u00bc \\u00b6 \\u00c7\\u00a9 |\\u00aa \\u2022\\u00a6\\u00ac \\u00c0\\u00a9 \\u00b0\\u00b9 T\\u00ac \\u00c0\\u00a9 \\u00ae gv\\u00cb v\\u00b0\\u00b5 2\\u00ac \\u00bf\\u00aa \\u00a8\\u00ab \\u00cf{\\u00bd \\u00bc\\u00b0\\u00b1 t\\u00aa \\u00a8v\\u00ac r\\u00a9 \\u00cf t\\u00aa t\\u00b1 \\u00a8\\u00cc \\u00bd \\u00b2\\u00aa \\u2022\\u00cc \\u00b1 \\u2022\\u00b0v\\u00d3 \\u00d1\\u00d6 \\u00d8\\u00ab \\u00cc g \\u00b2\\u00b3 ( \\u00b6 \\u00a6\\u00cc \\u00b1 &\\u00b0\\u00b2\\u00aa \\u00a8\\u00ab \\u00b6 \\u00b9 \\u00db\\u00b1 \\u2022\\u00b0\\u00c5 r\\u00ac \\u00bf\\u00b0 \\u00b6 \\u00a6\\u00a9 \\u00d1\\u00c9 ~ \\u00b6 \\u00a6\\u00aa \\u2022\\u00ab \\u00db\\u00c5 \\u00c0\\u00ac \\u00c0\\u00a9 \\u00cb \\u00a6\\u00cc g\\u00ac \\u00c0 t\\u00aa \\u00a8\\u00ac \\u00c0\\u00bd {v\\u00a9 g\\u00b9 t\\u00aa t\\u00b1 \\u00a8\\u00cc \\u00bd \\u00bc\\u00c4 \\u00aa \\u2022\\u00cc \\u00b1 \\u00a8v\\u00c5 \\u00b9 \\u00b0c \\u2022\\u00bd \\u00bc\\u00b1 \\u00a8\\u00ac \\u00bf\\u00ae g\\u00aa \\u2022\\u00ac \\u00c0 \\u00b6 \\u00a6\\u00a9 \\u00d4\\u00ae gv\\u00aa t\\u00aa \\u2022\\u00b0\\u00b2\\u00b1 \\u00a8\\u00a9 g \\u00b2\\u00d3 \\u00c8 {\\u00b0\\u00d4\\u00cc g t\\u00b0\\u00b9 \\u00c3 t\\u00b0\\u00b2\\u00e0 \\u00c7\\u00b0\\u00b2\\u00b1 \\u00a8v\\u00c5 \\u00f2 \\u00d9 \\u00a4\\u00f4 b\\u00aa t\\u00b0\\u00bd \\u00b2\\u00ab \\u00a9 g\\u00ac \\u00c0\\u00ea \\u00cc \\u00b0c Y\\u00aa t \\u00b6 T t\\u00b0c\\u00ac \\u00c4 \\u00a6\\u00cc \\u00aa \\u2022 \\u00b6 \\u00a6v\\u00aa \\u2022\\u00ac \\u00c0\\u00bd \\u00b4v\\u00c5 r\\u00c5 \\u00bf\\u00d2 \\u00eb\\u00ae g\\u00b1 t \\u00b6 \\u00b9 g\\u00cc g\\u00bd \\u00bc\\u00b0S\\u00c5 \\u00c0\\u00ac r\\u00a9 \\u00cb \\u00c7\\u00cc g\\u00ac \\u00c0 t\\u00aa \\u2022\\u00ac r\\u00bd \\u00ae gv\\u00aa t\\u00aa \\u2022\\u00b0\\u00b2\\u00b1 \\u00a8\\u00a9 \\u00b2\\u00d3 \\u00c8 {\\u00b0\\u00e9\\u00bd \\u00b2\\u00a6\\u00c5 \\u00c0\\u00c5 Q\\u00aa \\u2022\\u00ab g\\u00ac \\u00c0 B\\u0233\\u00ae g\\u00ae \\u00b1 \\u2022 \\u00b6 \\u00c7v\\u00bd \\u00bc\\u00ab \\u00a9 \\u00f2 \\u00d9 \\u00a4\\u00f4 X\\u00c4 \\u00c9 g\\u00a6 t\\u00b0\\u00b9 &\\u00b0\\u00aa \\u2022\\u00ab \\u00b6 \\u00b9 \\u00d3\"],[\"Importance of Pronominal Anaphora resolution in Question Answering systems\"],[\"Term Recognition Using Technical Dictionary Hierarchy\"],[\"\"],[\"\"],[\"\\u00a2\\u00a1 \\u00a4\\u00a3 \\u00a6\\u00a5 \\u00a8 \\u00a7 \\u00a6\\u00a1 \\u00a4\\u00a5 \\u00a8\\u00a9 \\u00a3 \\u00a6 \\u00a9 \\u00a9 \\u00a3 \\u00a9 \\u00a3 \\u00a8 \\\"! $# %\\u00a3 \\u00a6# '& (\\u00a1 \\u00a4) %) 10 32 4 \\u00a7 5 6\\u00a9 7 98 4# %@ 9\\u00a9 A \\u00a3 \\u00a6 \\u00a7 B C 9# ED \\u00a4\\u00a3 FD \\u00a8G \\u00a2\\u00a9 IH P# %B I\\u00a1 \\u00a4) RQ S7 TD VU \\\"\\u00a1 VU # E) %# W 9# %\\u00a9 @ X Y acb Y ad fe d hg i qp sr qt Tu 3v xw Ty t qb Y t p s 9 I \\\" v d Ee gf w qe 5h di \\u00a4j kh f Tl e 5m 9n o w Tn j w qe 5i ah d Pp qv xw Tr l v dr v dw Ty sm t n vu xw \\u00a8 'h 9n zy 'y o {w r | h u w y 5} h T~o w y 5 w To y o e 1 v d e go {f h d s 9 y o { o l v d h y '~ x \\\"n y z u l I y l \\u00cb \\u00c3 P\\u00cf g 7 @\\u00ab 7 i\\u00bc g \\u00a8 \\u00e9\\u00b5 6\\u00d2 V\\u00d2 @\\u00c9 \\u00cb \\u00a9 \\u00df e\\u00aa 7\\u00a9 ~ S\\u00a9 ' ( \\u00a9 I\\u00ab \\u00bd\\u00bc \\u00cd\\u00a9 | g # 1 y \\u00e5\\u00ab 7 \\u00a9 s\\u00b0% \\u00b0% s\\u00ab ' ' x l x e\\u012a \\u00b6 S\\u016b g \\u00a8\\u00c0 }T \\u00c1 \\u00a8\\u00b4 I\\u00bd \\\"\\u00bf \\u00a5 VI UT F s! $# &% ' 4 6 U6 \\u00a5h G \\u00ab @ ' \\u00b5 & V 87 \\u00b5 A\\u00d3 \\u00bdW \\u00a4 p \\u00a7 # e i \\u00bb\\u00d0 \\u00a2 \\u00b6 |\\u00d0 u I 7 7 \\u00a8 \\u00b5 6\\u00d2 V p iI b\\u00bf \\u00b3 \\u00c0 }T 8 VQ \\u00a5\\u00c1 \\u00b3 \\u00bd \\u00a8T I\\u00bf \\u00b3 \\u00a8T ! \\u00aaT 8 1\\u00c0 b\\u00bf tI b\\u00bf 8 AT @\\u00c0 DR \\u00c2\\u00b2 \\u00b3 \\u00bd \\u00a8T I\\u00bf vj \\u00a4&\\u00b3 \\u00c0 b\\u00bd u\\u00c1\\u00b2 ` 3\\u00d0 u g x &\\u00ae \\u00a8\\u00b0 7 \\u00a8\"],[\"\"],[\"\"],[\"The order of prenominal adjectives in natural language generation\"],[\"\\u00a2\\u00a1 \\u00a3 s\\u00a4 x\\u00a1 \\u00a5 P\\u00a1 D\\u00a6 \\u00a7 \\u00a8\\u00a4 x\\u00a9 p\\u00aa s\\u00ab p\\u00a5 t \\u00a7 \\u00a3 s\\u00a3 s\\u00a4 x\\u00a9 o\\u00ac \\u00ae \\u00a9 o\\u00a4 \\u00b02\\u00b1 \\u00b3\\u00a6 sf\\u00b1 \\u00b5\\u00a6 p \\u00b6 \\u2022\\u03bc\\u00a4 \\u00a1 D\\u015f\\u00b9 \\u00ba\\u00a1 \\u00bb o\\u00b1 \\u00b2\\u00a5 t \\u00a7 P\\u00b1 \\u00b5\\u00a6 p \\u00b6 \\u00bc2\\u00a1 \\u00bb o\\u00b1 \\u00be\\u00bd \\u00ac D\\u03bc\\u00bf \\u00a5 t\\u00a1 D\\u00c0 \\u00c1\\u00a6 f \\u00a7 t\\u00b1 \\u00b2\\u00ac \\u00c2 p\\u00b1 \\u00b2\\u00a1 D\\u00a4 t\\u00a4 x\\u00ac p\\u00b1 \\u00b2\\u00a1 \\u00a5 D\\u00c3 \\u00a2\\u00a1 \\u00c4\\u00ab p\\u00a5 P\\u00a1 \\u00c5 \\u00ac \\u00a9 o\\u00a6 p\\u00a5 t \\u00a7 \\u00a4 t\\u00b1 \\u00b5\\u00a6 f \\u00a7 B\\u00a5 \\u00a7 t\\u00b1 \\u00b2\\u00a5 \\u00ae \\u00ac \\u00a7 t\\u00b1 \\u00b2\\u00a9 o\\u00a6 AE2 \\u00b6 \\u00a9 p\\u00a4 x\\u00b1 \\u00b2 \\u00a7 s\\u00c0 \\u00c7 \\u00a4 x\\u00a1 3\\u00bb \\u00c8 \\u00a7 t\\u00b1 \\u00b2\\u00a9 o\\u00a6 \\u00c93\\u00aa s\\u00a1 2\\u00b1 \\u00b3\\u00a6 p \\u00b6 o\\u00ca \\u00cb \\u00a7 P\\u00a9 \\u2022\\u00a5 t\\u00a1 2\\u00a1 \\u00ac \\u00a7 \\u00cc f\\u00c0 \\u00a4\\u00a9 o\\u00a6 p \\u00b6 )8\\u00a5 P\\u00a1 \\u00a7 \\\"\\u00a9 \\u00ae \\u00ac D\\u00a6 p\\u015f\\u00b1 \\u00b2\\u1e29 \\u00a7 t\\u00a1 \\u00a5 x\\u00cc \\u00a4 \\u00a7 p\\u00a1 2\\u00a6 p\\u00a9 p\\u015f\\u00a1 \\u00b1 \\u00b3\\u00a6 \\u00cb\\u00cd \\u00a7 \\u00a4 x \\u00b6 \\u00a1 \\u00a7 \\u00ce \\u00a7 \\u00bb o\\u00a9 o\\u00a6 p\\u00a9 p\\u00c0 )\\u00b9 \\u00cf \\u00a7 s \\u00a7 \\u00d0\\u00aa s\\u00a1 \\u00a5 t \\u00a7 t\\u00a5 \\u00c0 y \\u00a7 t\\u00ac p\\u00a1 \\u00a5 8\\u00a1 D\\u00ac \\u00a8 \\u00a2\\u00a6 p\\u00a9 o\\u015f\\u00a1 \\u00b1 \\u00b3\\u00a6 \\u00c2\\u00a5 t\\u00a9 p\\u00ab s\\u00a4 x\\u00ac \\u00a1 \\u00c1 \\u00a7 \\u00bb f\\u00bd \\u00a9 p\\u00a6 p\\u00a9 o\\u00c0 \\u00b9 \\u00c3 }\\u00d1 {\\u00a6 \\u00d2\\u00a3 s\\u00a4 x \\u00a7 t\\u00b1 \\u00b2\\u00ac D\\u00ab p3\\u00a4 \\u00d3 H\\u00d4 H\\u00a1 \\u00d5\\u00ab p\\u00a5 t\\u00a1 s\\u00b1 \\u00d6 \\u00a7 y \\u00a7 t\\u00a9 \\u00c0 y\\u00a3 \\u00d7 \\u00a7 p\\u00a1 g\\u00a6 p\\u00a9 o\\u00c0 \\u00a4\\u00b1 \\u00b3\\u00a6 s8\\u00a3 s\\u00a4 x \\u00a7 \\u00c1\\u00a9 \\u00ae B\\u00a9 o\\u00a4 x\\u1e29\\u00d8 \\u00a1 \\u00a7 \\u00d9 \\u00c3 \\u00db\\u00da s\\u00a9 o\\u00a6 \\u00a7 P\\u00a9 u \\u00a2\\u00a9 o\\u00a4 x\\u1e29\\u00d8 \\u00a1 \\u00a7 \\u00d9 \\u00c3 \\u00db\\u00dc s\\u00d3 f\\u00d4 \\u00a3\\u00b1 \\u00b2 \\u00a7 \\u00d7g\\u00dd \\u00a1 D\\u00a4 x\\u00b9 p\\u00b1 \\u00b2 \\u00b6 o \\u00de\\u00a3 s\\u00a4 x\\u00a1 \\u00ac \\u00b1 \\u00b2\\u00a5 t\\u00b1 \\u00b2\\u00a9 o\\u00a6 \\u00b0\\u00a6 p'\\u00c5\\u00dd \\u00a1 D\\u00a4 x\\u00b9 \\u00d0\\u022a\\u00a9 \\u00d4 \\u00ba\\u00a4 x\\u00a1 (\\u00bd \\u00c0 y\\u00b1 \\u00b3\\u00a6 p\\u00b1 \\u00b5\\u00a6 p \\u00b6 `\\u00c0 \\u00a4\\u00aa p\\u00b1 \\u00b2 \\u00b6 o\\u00ab p\\u00b1 \\u00b2 \\u00a7 x\\u00b9 \\u00c3 \\u00df \\u00e0 D\\u00e1 e g W XV X p r g \\u00e1 \\u00e2 \\u00a3 p\\u00a1 D\\u00a4 x\\u00a1 \\u00b1 \\u00b2\\u00a5 \\u00e3\\u00a6 w\\u00b1 \\u00b3\\u00a6 p\\u00ac D\\u00a4 x\\u00a1 D\\u00a5 t\\u00b1 \\u00b3\\u00a6 p \\u00b6 )\\u00a6 p\\u00a1 \\u00a1 )\\u00a9 \\u00ae s\\u00dd o\\u00b1 \\u00b3\\u00a6 p \\u00b6 8D\\u00dd \\u00b1 \\u00b23\\u00aa p2\\u00a1 \\u00b6 \\u00a1 D\\u00a6 p\\u00a1 D\\u00a4 t\\u01df\\u00d3 H\\u00ac \\u00ac D\\u00ab s\\u00a4 t \\u00a7 t\\u00a1 \\u00e5f\\u00a6 p}\\u00aa s\\u00a4 x\\u00a9 o\\u00d7\\u00ac \\u00a9 \\u00dd \\u00a1 D\\u00a4 t \\u00b6 \\u00a1 \\u00e5\\u00c0 \\u00a4\\u00ab p2 \\u00a7 t\\u00b1 \\u00be\\u00bd 2\\u00b1 \\u00b3\\u00a6 p \\u00b6 o\\u00ab s)2\\u00a1 \\u00bb p\\u00b1 \\u00b2\\u00ac D3\\u00bf \\u00a5 t\\u00a1 D\\u00c0 \\u00c1\\u00a6 f \\u00a7 t\\u00b1 \\u00b2\\u00ac }\\u00a4 x\\u00a1 \\u00a5 t\\u00a9 p\\u00ab s\\u00a4 x\\u00ac \\u00a1 \\u00a5 \\u00ae \\u00a9 p\\u00a4 \\u015f\\u00a1 \\u00dd \\u00a1 3\\u00bd \\u00a9 o\\u00a3 p\\u00b1 \\u00b3\\u00a6 p \\u00b6 }ae \\u00e7 \\u00d7\\u00a3 s\\u00a3 p2\\u00b1 \\u00b2\\u00ac D \\u00a7 t\\u00b1 \\u00b2\\u00a9 o\\u00a6 p\\u00a5 \\u00c3 '\\u00e2 \\u00a3 p\\u00ab p\\u00a5 D\\u00d3 wB\\u00dd \\u00a1 D\\u00a4 \\u00b9 }\\u00ac \\u00a7 t\\u00b1 \\u00b2\\u00dd \\u00a1 \\u00e8 \\u00a1 2\\u0123\\u00b1 \\u00b5\\u00a6 p\\u00a5 P\\u00b1 \\u00d6\\u015f\\u00a1 \\u00c1ae \\u00e7 y\\u1e29\\u00ab s\\u00a4 x\\u00b1 \\u00b3\\u00a6 p \\u00b6 ` \\u00a7 p\\u00a1 83\\u00a5 t \\u00a7 w\\u00b9 \\u00a1 D\\u00a4 \\u00a5 2 s\\u00a5 2\\u00aa \\u00e9\\u00a1 \\u00a1 D\\u00a6 \\u00a7 p\\u00a1 \\u00ae \\u00a5 t \\u00a7 \\u015f\\u00a1 \\u00dd \\u00a1 2\\u00a9 o\\u00a3 s\\u00c0 \\u00a4\\u00a1 D\\u00a6 f \\u00a7 )\\u00a9 \\u00ae \\u00b6 \\u00a1 D\\u00a6 p\\u00a1 D\\u00a4 \\u00b1 \\u00d6\\u00ac 3\\u00a6 p \\u00b6 o\\u00ab s \\u00b6 f\\u00a1 \\u00ea\\u00a4 x\\u00a1 (\\u00bd \\u00a5 t\\u00a9 o\\u00ab s\\u00a4 \\u00ac \\u00a1 \\u00a5 D\\u00c3 \\u00eb \\u00a1 \\u00dd \\u00a1 D\\u00a4 t \\u00a7 P \\u00a7 t\\u00a1 D\\u00c0 \\u00c1\\u00a3 p \\u00a7 t\\u00a5 ` s\\u00dd \\u00a1 u\\u00aa \\u00e9\\u00a1 \\u00a1 D\\u00a6 \\u00ec\\u00a3 \\u00e9\\u00a1 D\\u00a4 \\u00ae \\u00a9 o\\u00a4 t\\u00c0 \\u00a4\\u00a1 \\u00ce \\u00a7 t\\u00a9 \\u00ac \\u00a9 o\\u00a6 s\\u00a6 p\\u00a1 \\u00ac \\u00a7 \\u00ed3\\u00a4 x\\u00a1 D\\u015f\\u00b9 \\u2022\\u00a1 \\u00bb p\\u00b1 \\u00d6\\u00a5 P \\u00a7 t\\u00b1 \\u00b3\\u00a6 p \\u00b6 \\u2022\\u00a9 o\\u00a6 f \\u00a7 t\\u00a9 2\\u00a9 \\u00b6 \\u00b1 \\u00b2\\u00a1 \\u00a5 D\\u00c3 \\u00d1 {\\u00a6 \\u00c7 \\u00ee \\u00b6 \\u00a1 D\\u00a6 p\\u00a9 )\\u00a1 \\u00a7 \\u00a3\\u016b\\u00c3 \\u00b3\\u00d3 \\u00d9 D\\u00ef \\u00ef \\u00f0 \\u00ca \\u00d3 o\\u00a8\\u00eb \\u00a3 s\\u00a6 p\\u00b1 \\u00b2\\u00a5 s\\u00bf \\u00f1 X\\u00a6 p \\u00b6 f\\u022a\\u00b1 \\u00b2\\u00a5 s\\u00aa p\\u00b1 \\u00b2\\u022a\\u00b1 \\u00b3\\u00a6 f\\u00bd \\u00b6 o\\u00ab sp\\u015f\\u00b1 \\u00b2\\u00ac \\u00a7 t\\u00b1 \\u00b2\\u00a9 o\\u00a6 s\\u00a4 x\\u00b9 \\u00b1 \\u00b2\\u00a5 X\\u00ab p\\u00a5 t\\u00a1 ) \\u00a7 t\\u00a9 \\u00c7 \\u00a5 t\\u00a1 D\\u00c0 \\u00f2\\u00b1 \\u00b5\\u00ca P\\u00ab p \\u00a7 t\\u00a9 o\\u00c0 \\u00c1 \\u00a7 t\\u00b1 \\u00b2\\u00ac D2\\u022a\\u00b9 2\\u00b1 \\u00b3\\u00a6 s\\u00b4\\u00eb \\u00a3 s\\u00a6 p\\u00b1 \\u00b2\\u00a5 \\u00bc\\u00a6 p\\u00f3\\u00f1 X\\u00a6 p \\u00b6 f\\u022a\\u00b1 \\u00b2\\u00a5 1 \\u00a7 \\u00bb p\\u00a9 o\\u00a6 p\\u00a9 o\\u00c0 \\u00f2\\u00b1 \\u00d6\\u00a1 \\u00a5 &\\u00a1 \\u00bb f\\u00bd \\u00a7 \\u00a4 t\\u00ac \\u00a7 t\\u00a1 \\u00b8\\u00ae \\u00a4 x\\u00a9 o\\u00c0 \\u00b0\\u00f4 \\u00f5 5\\u00f6 \\u00e7 \\u00f7 \\u00c7 \\u00ee 2\\u00dd \\u00a4 \\u00f8\\u00d3 \\u00d9 D\\u00ef \\u00f9 \\u00fa \\u00ca X\\u00a6 p\\u00d5\\u00e7 \\u00f4 7\\u00fb F\\u00fc $\\u00f7 \\u00c7 u\\u00fd \\u00a4 x\\u00a9 o\\u00ac \\u00a7 P\\u00a1 D\\u00a4 \\u00d3 \\u00d9 D\\u00ef f\\u00f9 \\u00fa \\u00ca \\u00c3 \\u00eb \\u00b1 \\u00b3\\u00c0 \\u00a4\\u00b1 \\u00b23\\u00a4 x2\\u00b9 \\u00d3 \\u00ce\\u00b0\\u00a5 t\\u00b1 \\u00b3\\u00c0 \\u00c1\\u00a3 p2\\u00a1 \\u00ab f\\u00bd \\u00a7 t\\u00a9 o\\u00c0 y \\u00a7 t\\u00b1 \\u00b2\\u00ac \\u00fe\\u00a3 s\\u00a3 s\\u00a4 x\\u00a9 p\\u00ac \\u00a8 \\u00ae \\u00a9 o\\u00a4 \\u00d72\\u00b1 \\u00b3\\u00a6 sf\\u00b1 \\u00b5\\u00a6 p \\u00b6 \\u00eb \\u00a3 s\\u00a6 p\\u00b1 \\u00b2\\u00a5 \\u00a7 (\\u00bb \\u00bd \\u00a9 o\\u00a6 p\\u00a9 o\\u00c0 \\u00f2\\u00b1 \\u00d6\\u00a1 \\u00a5 g\\u00a1 \\u00bb p \\u00a7 \\u00a4 t\\u00ac \\u00a7 P\\u00a1 \\u00b8\\u00ae \\u00a4 \\u00a9 o\\u00c0 \\u2022\\u00f4 \\u00f5 5\\u00f6 \\u00e7 \\u00f7 i \\u00a7 P\\u00a9 } B\\u00a9 o\\u00a4 \\u1e29\\u00d8 \\u00a3\\u00a1 \\u00a7 \\u00c7 \\u00ff \\u00b1 \\u00b22\\u022a\\u00a1 D\\u00a4 \\u00c4\\u00a1 \\u00a7 u\\u016b\\u00c3 \\u00b3\\u00d3 \\u00d9 \\u00ef \\u00ef s\\u00d9 \\u00ca \\u00a5 t\\u00b9 s\\u00a6 p\\u00a5 t\\u00a1 \\u00a7 t\\u00a5 s\\u00b1 \\u00b2\\u00a5 \\u00c4\\u00a3 s\\u00a4 \\u00a9 o\\u00a3 s\\u00a9 \\u00a5 P\\u00a1 \\u00fe\\u00b1 \\u00b3\\u00a6 \\u00c7 \\u00a1 \\u00b1 \\u00b2 \\u00b6 of\\u00ab \\u00d7\\u00a1 \\u00a7 \\u00ea\\u016b\\u00c3 \\u00b3\\u00d3 \\u00d9 \\u00ef \\u00ef \\u00da \\u00ca \\u00c3 \\u00d2\\u00e2 \\u00a3 p\\u00a1 `\\u00d4 H\\u00a9 o\\u00a4 t\\u00b4\\u00a4 x\\u00a1 D\\u00a3 s\\u00a9 o\\u00a4 \\u00a7 t\\u00a1 }\\u00b1 \\u00b3\\u00a6 \\u00c7 \\u00a1\\u00a2 \\u00a6 p\\u00b1 \\u00b2 \\u00b6 o f \\u00a7 \\u00c1\\u00a6 p\\u00a4\\u00a3 \\u00ab s3\\u00d3 \\u00d9 D\\u00ef \\u00ef \\u00f0 \\u00ca \\u00ae \\u00a9 o\\u00ac D\\u00ab p\\u00a5 t\\u00a1 \\u00a5 \\u00a4\\u00a9 o\\u00a6 \\u00a2 \\u00a7 p\\u00a1 \\u00ac \\u00a9 o\\u00a6 f\\u00bd \\u00a5 t \\u00a7 \\u00a4 P\\u00ab p\\u00ac \\u00a7 t\\u00b1 \\u00b2\\u00a9 o\\u00a6 \\u00d7\\u00a9 \\u00ae \\u00a6\\u00eb \\u00a1 D\\u00a6 p\\u00a5 (\\u00ab p\\u00a5 D\\u00d3 2\\u00a23\\u00a4 x \\u00b6 \\u00a1 g\\u00f3\\u00a6 p\\u00a9 \\u00d4 \\u00a32\\u00a1 \\u015f \\u00b6 \\u00a1 g\\u00aa s\\u00a5 t\\u00a1\"],[\"A Morphologically Sensitive Clustering Algorithm for Identifying Arabic Roots\"],[\"\\u00a2\\u00a1 \\u00a4\\u00a3 \\u00a6\\u00a5 \\u00a8 \\u00a7 \\u00a9\\u00a5 \\u00a3 \\u00a6\\u00a5 \\u00a8 \\u00a5 \\u00a7 \\u00a9\\u00a1 \\u00a4\\u00a3 ! \\\" $# %# %& (' ) 0 21 3' 4\\u00a1 5 6 7 98 \\u00a8@ BA \\u00a2C 3D FE 2G IH @ QP SR S@ BT U V XW \\u00a6Y a(b dc eV Xf gb ih qp Ir sh tc eW 3u vb wV XxY qf 3y f vp h t(c Y ab w h tf F X V Xf 3 V f 3 tV X( w b h qp I \\u00a8V Xf 3f v ( ed aY qf 3 Y gf 3 d Y qy 3V Xd W 3f 3 Y vh v Bi kj Sl vj Sm qn o Bp rq Bs at go Qs vu vw 3x ey zp 2{ }| z3 qu zu { ) t g| D R SP vC \\u00a6 qR \\u00a4 z \\u00a2 e r 3 z )\"],[\"C\\u00a6 \\u00a6 D4 '% & E% &( )4 D\\u00a6 F4 G6 IH P \\u00a7Q R !\\u00a1 \\u00a4#7 S4 Q R\\u00a3 UT \\u00a9 V GW RX Y Iba 8dc $e gf h i qp sr ut wv !i qx y )i p )r E w v ! I v ! p Uh !y y \\u00a5 \\u00a9x y d e f w v ! I v ! )i v ! hg t wv &i x y i si p )r e kj $y i ml )i qv ! j $y i ml )i qv ! In o po po q r s p Ap A t Iu i wv s i qp sr fg xd yy z hg {d m !| } e I \\u00a4 ! R \\u00a4 w \\u00a4 i s A k s p \\u00a9 y )y s xe Rh !i v e Rj $y i yl )i v ! i t h y v fp Ay r I R !i s hg &v D z e j $y i yl )i v ! un o po o pq o s v ! fg v & hv \\u00a9t Ii s A ) p d s t e I ! p \\u00a1 E\\u00a2 \\u00a4\\u00a3 \\u00a5 \\u00a6 \\u00a7 p\\u00a9 h\\u00a3 f \\u00a7 p\\u00a3 f\\u00aa A\\u00ab \\u00ac \\u00ae f\\u00a6 3 \\u00a7 \\u00b0\\u00ae\\u00b1 \\u00a6 \\u00b2 U\\u00a1 d \\u00b1 )\\u00b3 )\\u00b5 \\u00a6 \\u00b4\\u00a6 \\u00a7 p\\u00b2 \\u00a2 \\u00b4w\\u00a3 \\u00b6\\u00a2 \\u00a4\\u00a3 \\u00b4\\u00a8\\u00b1 \\u00b2 U\\u00ac \\u00a7 \\u00a2 q\\u00a6 \\u00b4\\u00a9 \\u00b5 \\u00b1 \\u00a6 )\\u00a6 \\u2022 \\u00a9\\u00a3 \\u00a7 p\\u016b\\u00a6 \\u00b8\\u00a3 f \\u00a7 \\u00b9\\u00a6 \\u2022 \\u00a1 G\\u1e21\\u00a3 \\u00aa \\u00b1 )w\\u00a2 \\u00a3 \\u00a5 \\u00ba \\u00b03\\u00ab p\\u00a3 \\u00b4\\u00a6 \\u00aa \\u00b4\\u00a2 q\\u00aa \\u00bb \\u00a7 p\\u00a9 f\\u00a3 f \\u00a7 p\\u00a3 f\\u00aa A\\u00ab \\u00a2 \\u00a3 \\u00b3 \\u00bc $\\u00a1 d\\u00cf \\u00a7 \\u00a2 q)\\u00aa A\\u00bd f)\\u00af\\u00b5 \\u00a1 \\u00bf\\u00be \\u00b5 \\u00a2 \\u00a4\\u00a3 \\u00c0\\u00c1\\u00c0\\u00a3 \\u00ac \\u00b4\\u00a3 f\\u00aa A\\u00a6 \\u00b1 \\u00a6 \\u00a3 f\\u00a6 \\u2022 \\u00ab 3 \\u00a7 \\u00c2\\u00a6 \\u00a3 f \\u00a7 S\\u00a6 \\u00a3 \\u00a3 \\u00b4\\u00a6 \\u00b4 \\u00a7 \\u00bd f\\u00c3\\u00a2 \\u00a4\\u00a3 \\u00a5 \\u00a6 \\u00a3 \\u00c4 \\u00c5 \\u00c7AE I\\u00c8 !\\u00ac \\u00ae f\\u00a6 3 \\u00a7 )\\u00aa \\u00b5 \\u00b2 \\u00c9\\u00ca \\u00cb 3)3\\u00bd \\u00af\\u00b1 \\u00c4 q\\u00a6 \\u00b4 \\u00a7 \\u00b4 \\u00b4 \\u00b8 \\u00a4\\u00a8\\u00b1 \\u00a6 \\u00a3 f\\u00aa A \\u00b0\\u00a8\\u00b1 )\\u00b1 \\u00b1 \\u00a6 1\\u00cc \\u00a6 \\u00b1 \\u00a2 \\u00bd f\\u00cd \\u00a8\\u00cc \\u00c4 q\\u00ce \\u00b0\\u00a6 \\u00a3 f\\u00a6 \\u00a4\\u00ab w\\u00a2 q\\u00cf\\u00a6 \\u00b8\\u00a3 f \\u00a7 \\u00aa A \\u00b2 \\u00c9\\u00a9 f\\u00a6 \\u00b4\\u00a2 p\\u00a2 \\u00a2 \\u00b4\\u00ab B\\u00a1 E\\u00a2 \\u015b\\u00b5 )\\u00b5 \\u00a8\\u00b1 3\\u00ab p\\u00a3 \\u00b4\\u00a6 \\u00aa \\u00b4\\u00a2 q\\u00aa \\u00b0\\u00ae\\u00b1 \\u00a6 \\u00b2 U\\u00a1 d \\u00b1 )\\u00b3 \\u00a7\\u00a6 \\u00b1 \\u00c7\\u00a6 \\u00a7 \\u00a7 \\u00b1 )3 \\u00a7 !\\u00ca \\u00d0 f \\u00d1 \\u00b8 W x\\u00d2 \\u00a4\\u00d3 \\u00a4 p wW R \\u00d4 \\u1e4e\\u00a6 \\u00a3 \\u00a3 \\u00b4\\u00a6 \\u00b4\\u00a8)\\u00b5 \\u1e4e3\\u00ab p\\u00a3 \\u00b4\\u00a6 \\u00aa \\u00b4\\u00a2 q\\u00aa 8 \\u00a7 p\\u00a9 f\\u00a3 f \\u00a7 p\\u00a3 f\\u00aa A\\u00ab \\u00ce f\\u00ac \\u00b4\\u00a1 \\u00a7\\u00a3 B \\u00c4\\u00d6 p\\u00a2 b\\u00aa \\u00a6 \\u00d7\\u00bd \\u00a3 p\\u00a2 \\u00b4\\u00d8\\u00a2 \\u00a3 \\u00bb\\u00a6 5 \\u00a2 \\u00a3 \\u00a5 \\u00bd p\\u00a2 q\\u00af\\u00b4\\u00a2 q\\u00aa \\u00ce\\u00c4\\u00d6 \\u00a9 \\u00b1 3\\u00ac w\\u00a2 \\u00a3 \\u00a6 \\u00aa \\u00aa A \\u00b1 \\u00a7 \\u00a2 \\u00a3 \\u00a5 \\u00b4 \\u00a6 \\u00a3 \\u00c9\\u00a6 \\u00a9 \\u00a9 \\u00b1 \\u00a6 \\u00aa \\u00b5 \\u00c9\\u00b4 \\u00a9\\u00d9 $\\u00a9 f\\u00a3 f \\u00a7 p\\u00a3 f\\u00aa A\\u00ab \\u00c5 \\u00b1 \\u00a6 \\u00b2 \\u00c9\\u00b2 \\u00a6 \\u00b1 \\u00a7\\u00da 3\\u00db 3\\u00a3 p\\u00a2 \\u00dc \\u00a8\\u00b1 \\u00bc f\\u00dd \\u00de \\u00df \\u00de p\\u00e0 )\\u00b5 \\u00a6 \\u00b4\\u00aa \\u00a6 \\u00b8\\u00a3 \\u00c9 f\\u00a8)\\u00b1 \\u00a6 \\u00aa A \\u00a7 f\\u00a6 \\u00aa \\u00b3 I\\u00b4 \\u00da \\u00c5 \\u00c7\\u00a6 \\u00a2 \\u00b0\\u00b2 \\u00a6 \\u00a3 R\\u00bc \\u00dd \\u00de \\u00e1 \\u00df \\u00e2 \\u00e3 $\\u00a6 \\u00ab \\u00bc x\\u00dd \\u00de \\u00e1 \\u00e4 f\\u00e2 \\u00e5 E p\\u00a2 \\u00a3 \\u00ac 3 \\u00a3 R\\u00bc \\u00d1\\u00dd \\u00de pae \\u00e7 p\\u00e0 A\\u00ca \\u00a4\\u00d4 \\u00a8\\u00b1 \\u00e8 \\u00bd p\\u00a2 \\u00b1 \\u00e93\\u00ab p\\u00a3 \\u00b4\\u00a6 \\u00aa \\u00b4\\u00a2 q\\u00aa \\u00a9 \\u00a7 p\\u00a9 h\\u00a3 f \\u00a7 p\\u00a3 f\\u00aa A\\u00ab \\u00b4 g f\\u00a5\\u00a9 \\u00b1 \\u00ea 3\\u00aa \\u00b4\\u00a2 \\u00cc \\u00bc x\\u00a6 \\u00a3 f \\u00a7 P\\u00aa \\u00a6 \\u00a9 \\u00b4\\u00bd \\u00b1 \\u00c9\\u00a3 \\u00a3 \\u00ac \\u00ae\\u00a9 \\u00b1 \\u00ea 3\\u00aa \\u00b4\\u00a2 \\u00cc 3\\u00ab p\\u00a3 \\u00b4\\u00a6 \\u00aa \\u00b4\\u00a2 q\\u00aa g\\u00a9 \\u00b5 \\u00a3 \\u00b2 \\u00c9\\u00a3 f\\u00a6 P\\u00a2 \\u00a3 S q\\u00a6 \\u00a3 \\u00a5 \\u00bd f\\u00a6 \\u00a5 \\u00cf\\u00a1 \\u00a7\\u00a2 )\\u00b5 \\u00aa A \\u00a3 \\u00ac \\u00af)\\u00b1 \\u00a6 \\u2022\\u00a2 \\u00a3 \\u00b4 \\u00a7 \\u00a7 p\\u00c4\\u00eb f\\u00a3 \\u00a7 g\\u00a1 \\u00a7\\u00a2 )\\u00b5 \\u00b1 \\u00a8\\u00b0\\u00a8\\u00b1 \\u00a3 f\\u00aa A\\u00a8\\u00b4 )\\u00b5 \\u00a2 q\\u00af \\u00a9 \\u00b1 \\u00ea \\u00c3\\u00aa A\\u00ac \\u00b4\\u00a2 \\u00cc \\u00af\\u00b3 \\u00c4 \\u00a8\\u00b4 \\u00a3 \\u00da \\u00c8 R\\u00a6 \\u2022\\u00a2 \\u00a6 \\u00a3 f \\u00a7 \\u00a5\\u00e3 \\u00bd f\\u00a6 \\u00a3 \\u00a5 h\\u00bc &\\u00dd \\u2022\\u00de \\u00de \\u00ec R\\u00e2 p\\u00c8 R\\u00a6 \\u2022\\u00a2 \\u00a6 \\u00a3 f \\u00a7 \\u00e3 '\\u00bd f\\u00a6 \\u00a3 \\u00a5 f\\u00bc \\u00dd \\u00de \\u00de \\u00ec \\u00a6 \\u00e2 \\u00c8 R\\u00a6 \\u2022\\u00a2 f\\u00a6 \\u00a3 f \\u00a7 \\u00a9\\u00e3 '\\u00bd f\\u00a6 \\u00a3 \\u00a5 f\\u00bc \\u00dd \\u00de \\u00de \\u00de \\u00a6 \\u00e2 \\u00c8 R\\u00a6 \\u2022\\u00a2 f\\u00a6 \\u00a3 f \\u00a7 \\u00e3 '\\u00bd f\\u00a6 \\u00a3 \\u00a5 f\\u00bc \\u00a5\\u00dd \\u00de \\u00de \\u00de !\\u00e0 A\\u00ca \\u00db E\\u00b5 \\u00a2 b\\u016b\\u00a2 b\\u012a \\u00a7 \\u00a2 \\u00ed R\\u00a8\\u00b1 \\u00a3 \\u00b0\\u00ae\\u00b1 \\u00b2 #\\u00a6 \\u00a9 \\u00ac \\u00a9 \\u00b1 \\u00a6 \\u00aa \\u00b5 \\u00af)\\u00b5 \\u00a6 \\u00b4\\u00a6 \\u00ee \\u00a1 \\u00d5\\u00b2 \\u00bd p \\u00b4\\u00a2 \\u00a9 p \\u00a8\\u00b5 \\u00a6 \\u00a7 \\u00a6 \\u00a3 f \\u00a7 \\u00a5\\u00aa \\u00b1 )3\\u00ac \\u00a2 \\u00a3 \\u00a5 \\u00c7 \\u00a7 p\\u00a9 h\\u00a3 f \\u00a7 p\\u00a3 f\\u00aa A\\u00ab \\u00a2 \\u00a3 \\u00b3 \\u00af\\u00da \\u00e3 '\\u00bd f \\u00a7 3 \\u00a3 R\\u00bc \\u00dd \\u2022\\u00de \\u00ec \\u00e4 f\\u00e2 AE g\\u00c4 \\u00ef \\u00f0 \\u00aa A\\u00bd \\u00b3 \\u00bc \\u00dd \\u00de \\u00ec \\u00ec \\u00e2 \\u00a5\\u00c4 \\u00b4\\u00a6 \\u00b1 p\\u00af\\u00b4\\u00a6 \\u00bc \\u00dd \\u00de \\u00ec \\u00ec \\u00e2 \\u00e9\\u00e3 $\\u00a6 \\u00ea w\\u00a2 \\u00c3\\u00f0 \\u00aa A \\u00cc \\u00a6 \\u00bc \\u00c9\\u00dd \\u00de \\u00de \\u00dd \\u00b8\\u00e0 \\u00f1\\u00ca 1\\u00a1 d\\u00a6 \\u2022 q3 \\u00b1 \\u00e8 \\u00bd p\\u00a2 \\u00b1 \\u00a8)\\u00b5 \\u00a8\\u00b1 \\u00c4 q\\u00a6 \\u00b4\\u00a2 \\u00a3 f\\u00af\\u00b5 \\u00a2 \\u00a9 \\u00d8 f\\u00a8\\u00b4\\u00a1 \\u00a7\\u00a3 \\u00f2\\u00a6 g\\u00a5 \\u00cc \\u00ac \\u00a8\\u00b1 \\u00a3 \\u00b1 \\u00a6 \\u00a3 f \\u00a7 S\\u00a6 \\u2022 \\u00a2 \\u00b4 \\u00a7 p\\u00a9 f\\u00a3 f \\u00a7 p\\u00a3 \\u00b4\\u00af\\u00b4 hg\\u00a2 \\u00a4\\u00b2 U\\u00b2 \\u00c9 \\u00a7 \\u00a2 \\u00ac \\u00a6 \\u00b4\\u00ca \\u00db \\u00a7\\u00b5 \\u00a8\\u00b1 \\u00a9\\u00a6 \\u00b1 $\\u00a3 \\u00a9\\u00a2 \\u00a3 \\u00b4\\u00a8\\u00b1 \\u00b2 \\u00c9 \\u00a7 \\u00a2 q\\u00a6 \\u00b4\\u00a9 \\u00b5 \\u00b1 \\u00a6 )\\u00a6 \\u2022 R\\u00a3 \\u00a7 p\\u00a6 \\u00f3\\u00a2 \\u00a3 \\u00f4\\u00c0 \\u00b2 \\u00c9\\u00a4 )\\u00b5 \\u00a8\\u00b1 \\u00a9 \\u00b1 \\u00ea 3\\u00aa \\u00b4\\u00a2 \\u00cc \\u00ac \\u00a7 p\\u00a9 f\\u00a3 f \\u00a7 p\\u00a3 f\\u00aa A\\u00ab p\\u00ac \\u00ae f\\u00a6 3 \\u00a7 \\u00a9 f\\u00a6 \\u00b1 \\u00c3\\u00a2 \\u00a4\\u00a3 \\u00a5 S\\u00a6 \\u00a9 \\u00a9 \\u00b1 \\u00a6 \\u00aa \\u00b5 \\u00af\\u00da \\u00e3 \\u00c4 \\u00a1 \\u00a7\\u00a2 \\u00a5 f\\u00bc \\u00c9\\u00dd \\u2022\\u00de \\u00ec \\u00e1 \\u00e2 U\\u00be \\u00a4 \\u00cc \\u00a2 \\u00a3 \\u00a5 \\u00ac \\u00b4 \\u00a3 R\\u00bc !\\u00dd \\u00de \\u00de \\u00e7 \\u00e2 \\u00be \\u00bd \\u00b1 )\\u00b4\\u00a2 \\u00a3 \\u00a6 \\u00a3 f \\u00a7 g\\u00c5 G\\u00a3 )\\u00b5 \\u00a2 q\\u00a6 \\u2022 \\u00bc !\\u00dd \\u00de \\u00de \\u00ec \\u00e2 p\\u00f5 \\u00bd \\u00b1 \\u00ac \\u00a7 p \\u00a3 g\\u00a8\\u00b4\\u00a6 \\u2022 \\u00ca \\u00bc R\\u00dd \\u00de \\u00de \\u00ec \\u00e2 \\u00f6 G\\u00a6 \\u00b8\\u00a5 \\u00a6 f\\u00bc R\\u00dd \\u2022\\u00de \\u00de \\u00f7 p\\u00e0 \\u00f1\\u00ca \\u00f8 \\u00cfw\\u00a2 \\u00b2 \\u00a2 q\\u00a6 \\u00b1 \\u00a6 \\u00a9 \\u00ac \\u00a9 \\u00b1 \\u00a6 \\u00aa \\u00b5 \\u00b5 \\u00a6 \\u00d1 f\\u00a3 \\u00c9\\u00a6 \\u00a7 p \\u00a9 \\u00b4 \\u00a7 $\\u00a2 \\u00a3 \\u00e9\\u00c0 \\u00b2 \\u00c9\\u00a8\\u00b1 \\u00aa A\\u00a3 \\u00b4\\u00a1 \\u00a7 \\u00b1 )\\u00b3 \\u00af \\u00a3 5\\u00be \\u00b5 \\u00a2 \\u00a3 3\\u00a8\\u00da \\u00e3 \\u00bd f\\u00a6 \\u00b8\\u00a3 \\u00a5 \\u00d5\\u00a8\\u00b4\\u00a6 \\u2022 \\u00ca \\u00bc \\u00c9\\u00dd \\u2022\\u00de \\u00de \\u00f9 \\u00e2 \\u00fa x\\u00bd f\\u00a6 \\u00b8\\u00a3 \\u00fb\\u00a6 \\u00a3 f \\u00a7 \\u00e3 '\\u00bd f\\u00a6 \\u00a3 \\u00a5 f\\u00bc !\\u00dd \\u00de \\u00de \\u00f9 \\u00e2 h\\u00fc \\u00b5 \\u00bd \\u00a6 \\u00a3 f \\u00a7 g\\u00e3 \\u00bd f\\u00a6 \\u00b8\\u00a3 \\u00a5 f\\u00bc !\\u00dd \\u00de \\u00de \\u00e4 \\u00e0 A\\u00ca \\u00f8 R\\u00a6 \\u00af\\u00b4\\u00a6 \\u00b1 )\\u00b4\\u00bc \\u00fd\\u00a1 d\\u1e8d\\u00b2 \\u00a5\\u00a6 \\u00a3 \\u00bd f\\u00a6 \\u00ee \\u00ab \\u00a5 \\u00a2 \\u00cc \\u00a9 f\\u00a6 \\u00b1 3\\u00a4\\u00af)\\u00b1 \\u00bd f\\u00aa \\u00b4\\u00bd \\u00b1 \\u00a6\\u00b8\\u00a3 \\u00a3 \\u00b4\\u00a6 \\u00b4\\u00a2 \\u00a3 \\u00b4 \\u00fe\\u00a6 \\u00a53\\u00b2 \\u00a6 \\u2022 \\u00a7\\u00be \\u00b5 \\u00a2 \\u00a3 3\\u1e85 \\u00a5 \\u00a6 \\u2022 \\u00b4\\u00c4\\u00d6 \\u00b4\\u00aa A \\u00b1 \\u00ac \\u00a9 \\u00bd f\\u00fd\\u00ca \\u00db \\u00a7\\u00b5 \\u00a8\\u00b4\\u00c4\\u00d6 \\u00b4\\u00a2 qd\\u00ff \\u00fd3\\u00a5 \\u00b2 \\u00c9\\u00a3 \\u00b4 \\u00a7 \\u00a1 \\u00a6 \\u00a3 f \\u00a7 \\u00b4\\u00a6 \\u00a5 \\u00a5 \\u00a7 !\\u00bc \\u00a6 \\u00a3 f \\u00a7\"],[\"Processes that Shape Conversation and their Implications for Computational Linguistics\"],[\"\\u00cd\\u00d7 \\u00d2 \\u00dc \\u00d7\\u00d8 \\u00d2 \\u00d7\\u00dd\\u00d7\\u00d8 \\u00d1\\u00d7 \\u00d8\\u00d3 \\u00d7\\u00d9\\u00d4\\u00d4\\u00d0 \\u00d1 \\u00d2\\u00d8 \\u00d7\\u00d1 \\u00d0\\u00d0 \\u00d1\\u00d3\\u00d9\\u00d2\\u00d8\\u00d7 \\u00d3 \\u00d2\\u00d2\\u00d3\\u00d8 \\u00d8 \\u00d6 \\u00d1\\u00d1 \\u00d8 \\u00d0 \\u00d6 \\u00d0 \\u00d8 \\u00d3\\u00d2\\u00d7 \\u00d8\\u00d6 \\u00d2 \\u00d2 \\u00d8 *\"],[\"Lexicalized Stochastic Modeling of Constraint-Based Grammars using Log-Linear Measures and EM Training\"],[\"\"],[\"A Unified Statistical Model for the Identification of English BaseNP\"],[\"A Polynomial-Time Fragment of Dominance Constraints\"],[\"Spoken Language Technology: Where Do We Go From Here?\"],[\"Robust Temporal Processing of News\"],[\"\"],[\"d fe Dg h Si qp sr tr vu xw \\u00a8w y S X t Ag ci A ` Q 0 qd y e Vf g hf Gi j sk l \\u00a6j mi e g ny f o pi q sr Qt qo \\u00a6t u So pv e w Vo pf lx yi j {z Ai q| hx qi } i q Sqi n l S ` S \\u00a6| \\u00a8x i l| \\u00a8 z Ai q| hx qi q l q q q Q S qy d y f w Vo po 0o w q w q Q f i q| hx i S y t d\"],[\"\\u00a2\\u00a1 \\u00a4\\u00a3 \\u00a6\\u00a5 \\u00a8 \\u00a7 \\u00a9 \\u00a5 \\u00a9 \\u00a3 ! #\\\" \\u00a4\\u00a5 \\u00a8 \\u00a7 \\u00a9 $ &% (' )\\u00a3 \\u00a6\\u00a9 \\u00a5 0 1 2' 43 5 \\u00a46 )7 98 9 \\u00a7 \\u00a1 &@ \\u00a5 \\u00a8A B\\u00a1 C8 D \\u00a4\\u00a9 FE G\\u00a3 \\u00a6\\u00a5 0 \\u00a4 \\u00a7 7 9\\u00a5 28 H' I P \\u00a7 8 D \\u00a46 QE \\u00a2R S' 4T U\\u00a9 WV I\\u00a9 X7 YE `\\u00a3 \\u00a6\\u00a5 0 \\u00a4 \\u00a7 27 H\\u00a5 \\u00a68 H' ) & \\u00a5 \\u00a9 \\u00a3 ba !\\u00a9 c7 H\\u00a9 A \\u00a68 H' ) d e gf ih cp q cr s 2t vu xw y w \\u00a6r c e Hh d y t q Xr I U 2d e gf xh ji k l mf n 2k xf o \\u00a4l qp rl qs tl q n u v Cw jx 9i y z vz 9{ l q G| Cn } m ~{ l qs De ~ k ~{ h xu { s tk 2 #l | \\u00a4k xs ~{ l qs De x~ k #~{ h w 2y h Bq cr s 2t s v j cy \\u00a2u v Cw jx 9i ry s Dk f | { h De tf xh t ~{ l ms 9e ~ k #~{ h w \\u00a6 D \\u00a1 \\u00a3\\u00a2 \\u00a4 H \\u00a6\\u00a5 5 \\u00a7 G D\\u00a9 \\u00ab\\u00aa \\u00ac 9 \\u00ae \\u00a4 9\\u00b0 H\\u00aa \\u00b2\\u00b1 \\u00aa \\u00b0\\u00a4 \\u00b3\\u00b1 \\u00b4\\u00b1 \\u00b5 G 9\\u00a9 i \\u00b6 \\u1e97\\u00a9 \\u00aa \\u00ac S 9 \\u00ae \\u00a4 H\\u00b0 H\\u00aa \\u00b2\\u00b1 \\u00b6 9\\u00a9 \\u00b1 \\u00a5 \\u00ab\\u00a4 \\u2022 )\\u00a9 \\u00ab\\u00aa \\u00b0D\\u00a9 \\u00b9 9\\u00b5 m\\u00b1 D \\u00b6 \\u00a4 \\u00a4 \\u00ba \\u00ae H g H\\u00aa \\u00b0\\u00ae \\u00ab 2\\u00ba #\\u00a4 H\\u00aa \\u00b0\\u00a4 \\u00a2 \\u00ae \\u00a5 \\u00bb\\u00a4 t\\u00bc g 9\\u00bc H \\u00b4 9 \\u00ae \\u00ab\\u00a4 \\u00b5 m \\u00bd 9\\u00a9 Y\\u00a4 H \\u00ae \\u00b6 ` H\\u00aa \\u00ac \\u00b6 \\u00bc \\u00a4 9\\u00aa \\u00ac \\u00be \\u00bf \\u00ab\\u00aa \\u00b0\\u00b0\\u00aa \\u00ac \\u00be \\u00bc \\u00c0\\u00ab \\u00c1\\u00a1 t \\u00a4 \\u00c2 X\\u00a2 \\u00a8 \\u00a7 ` i\\u00aa \\u00b0\\u00a4 )\\u00bc \\u00a4 H \\u00a6\\u00a5 U \\u00b1 g\\u00c3 \\u00ab \\u00ae \\u00a5 U 9\\u00a9 2 \\u00be 9\\u00a9 \\u00c4\\u00b1 \\u00b5 \\u00ab t \\u00a4 Y\\u00bc \\u00ab\\u00c4 \\u00b1 S\\u00a4 \\u00ae \\u00abg g\\u00a1 2 \\u00be 9\\u00a9 i\\u00aa \\u00ac \\u00c5\\u00b1 9\\u00a5 Y \\u00b1 \\u00bd H \\u00a6\\u00a5 r\\u00bc g 5 \\u00ae \\u00b6 j\\u00bf \\u00ab\\u00aa \\u00b2\\u00be \\u00bc #\\u00a1 \\u00aa \\u00b2 H\\u00aa \\u00b2 \\u00a6\\u00a4 G\\u00aa \\u00ac \\u00bd 9 \\u00ae \\u00a4 H\\u00b0 H\\u00aa \\u00b2\\u00b1 \\u00a6AE \\u00c0\\u00bf \\u00bc \\u00c7\\u00aa \\u00b2 U\\u00bf H\\u00b1 \\u00bc \\u00be \\u00a9 \\u00b1 \\u00bc 9\\u00a9 9\\u00b1 \\u00ae\\u00bf \\u00ab2 \\u00b6 \\u00c8\\u00b1 \\u00b5 2 9 \\u00ab\\u00aa \\u00b0\\u00a5 \\u00ab2\\u00ba \\u00a4\\u00aa \\u00ac g H \\u00a6 \\u00a4 H \\u00a6\\u00a5 \\u0157 D \\u00a4 \\u00c2 \\u00c9 \\u00ca \\u00ab H\\u00b1 \\u00ae\\u00b1 \\u00ae\\u00a4 X \\u00c0 \\u00b6 C\\u00b1 \\u00a5 \\u00a6\\u2022 )\\u00a9 \\u00aa \\u00b0\\u1e97\\u00a9 \\u00a4 D\\u00a9 \\u00b1 H \\u00a4 Y 9\\u00a9 52 \\u00be 9\\u00a9 \\u00cb\\u00b1 \\u00b5 \\u00ab t \\u00a4 \\u00b1 \\u00a9 9 \\u00a4 g\\u00a1 \\u00a32 \\u00be 9\\u00a9 \\u00bd \\u00ae \\u00a5 \\u00bd H \\u00a6\\u00a5 \\u00bc g \\u00a6\\u00a4 \\u00c7 \\u00ae \\u00b6 j\\u00bf \\u00ab\\u00aa \\u00b2\\u00be \\u00bc #\\u00a1 \\u00aa \\u00b2 H\\u00aa \\u00b2 \\u00a6\\u00a4 S\\u00aa \\u00ac \\u00bb 9 \\u00ae \\u00a4 H\\u00b0 H\\u00aa \\u00b2\\u00b1 \\u00cc\\u00bf \\u00ba F\\u00bc \\u00a4 H\\u00aa \\u00ac \\u00be \\u00b9 \\u00a3\\u2022 \\u00b1 \\u00a1 2 \\u00cd \\u00a6\\u00ce 9 \\u00ae \\u00ab\\u00a4 H\\u00b0 H\\u00aa \\u00b2\\u00b1 \\u00cf\\u00ab D \\u00d0\\u00a4 \\u00a62 \\u00a6g H\\u00aa \\u00b2\\u00b1 \\u00b6 9\\u00a9 \\u00b1 \\u00a5 \\u00a6\\u00c2 \\u00d1 \\u00d2 9\\u00a9 \\u00d3 r 9\\u00a4 B2 \\u00cd \\u00a6AE 9\\u00a9 H\\u00b1 \\u00ae D \\u00ae \\u00a4 H\\u00b0 H\\u00aa \\u00b2\\u00b1 \\u0157 D \\u00a4 ! 9 \\u00a4 \\u00a62 \\u00a6g \\u00a6\\u00a5 \\u00ce\\u00bf \\u00ba \\u00bc \\u00ab\\u00a4 H\\u00aa \\u00ac \\u00be U `\\u00a9 \\u00ba #\\u00bf \\u00ab 9\\u00aa \\u00b0\\u00a5 \\u00b6 C 9\\u00a9 \\u00b1 #\\u00a5 \\u00b1 \\u00b5 g\\u00c3 g g\\u00c3 #\\u00a1 \\u00ae \\u00b6 \\u00ab2 ` \\u00b6 H\\u1e97\\u00a9 \\u00aa \\u00ac \\u00be \\u00ce \\u00ae \\u00a5 \\u00b3\\u00a4 \\u00b6 \\u00ae \\u00ae H\\u00aa \\u00b0Gg\\u00b1 #\\u00a1 \\u00a4 H 9 \\u00aa \\u00ac \\u00ae \\u00ce\\u00bf \\u00ba \\u00c8 9\\u00a9 \\u00a6\\u00a4 9 \\u00ae\\u00bc D\\u00bc \\u00a4 \\u00c2 b\\u00d1 \\u00d4 9\\u00a9 \\u00d5\\u00a4 H \\u00a6\\u1e97\\u00a1 \\u00b1 \\u00ab\\u00a5 Y2 \\u00cd \\u00a6AE B 9\\u00a9 \\u00b6 C\\u00b1 \\u00ae\\u00a4 \\u00d2 9\\u00bc 9 9 \\u00ae \\u00ab\\u00a4 H\\u00b0 x\\u00a1 H\\u00aa \\u00b2\\u00b1 \\u00a2\\u00ab D \\u00d5\\u00b5 \\u00d6\\u00b1 \\u00d7 9\\u00a9 G\\u00cd 9\\u00bf \\u00bd\\u0157\\u00a9 9 \\u00a4 G\\u00aa \\u00b0\\u00a4 \\u00a4 H \\u00a62 \\u00a6g \\u00a6\\u00a5 \\u00cb \\u00ae \\u00b6 \\u00b1 \\u00be \\u00d5 9\\u00a9 \\u00ce\\u00a4 \\u00a62 \\u00a6g \\u00a6\\u00a5 \\u00cb 9 \\u00ae \\u00ab\\u00a4 \\u00c1\\u00a1 \\u00b0 H\\u00aa \\u00b2\\u00b1 \\u00bb\\u00ab D \\u00be \\u00b1 9\\u00aa \\u00b2 \\u00a6\\u00a4 \\u00d5\\u00bf \\u00ba \\u00bc \\u00ab\\u00a4 H\\u00aa \\u00ac \\u00be \\u00a4 H H H\\u00aa \\u00b0\\u00a4 H\\u00aa \\u00b0\\u00a8\\u00aa \\u00ac \\u00b5 \\u00d6\\u00b1 D \\u00b6 H\\u00aa \\u00b2\\u00b1 \\u00b9\\u00b1 \\u00b5 ` 9\\u00a9 \\u00bd H 9\\u00be \\u00b0 \\u00ae \\u00be \\u00bc \\u00be \\u00c2 4\\u00a2 \\u00ba \\u00c5\\u00bc \\u00a4 H\\u00aa \\u00ac \\u00be \\u00a2 9\\u00a9 \\u00aa \\u00b0\\u00a4 Y H\\u00b1 \\u00ae\\u00b1 \\u00ae\\u00a4 \\u00a6\\u00a5 \\u00b6 \\u00b1 #\\u00a5 \\u00ab \\u00a6AE \\u2022 c \\u00d7g\\u00b1 \\u00bc \\u00b0\\u00a5 \\u00a4 9\\u00a9 \\u00b1 H 9\\u00a9 2 \\u00be 9\\u00a9 \\u00b1 \\u00b5 \\u00ab D \\u00ab\\u00a4 \\u00d2\\u2022 \\u00aa \\u00b2 9\\u00a9 \\u00b1 \\u00bc ! 9 \\u00aa \\u00b0\\u00a4 H\\u00aa \\u00ac \\u00be \\u00c7 9\\u00a9 \\u00d7 \\u00ae \\u00b6 \\u00a4\\u00a1 \\u00bf r\\u00aa \\u00b2\\u00be \\u00bc \\u00aa \\u00b2 H\\u00aa \\u00b2 \\u00a6\\u00a4 \\u00aa \\u00ac \\u00d8 D \\u00ae \\u00a4 H\\u00b0 H\\u00aa \\u00b2\\u00b1 2\\u00c2 \\u00d9 \\u00da r W Xq X e \\u00a3 Br \\u00db 9 \\u00ae \\u00a4 H\\u00b5 m \\u00a1 \\u00a3\\u00a2 \\u00a4 \\u00a6\\u00a5 \\u00a7 G D\\u00a9 \\u00aa \\u00ac B 9 \\u00ae \\u00ab\\u00a4 H\\u00b0 H\\u00aa \\u00b2\\u00b1 \\u00b6 C 9\\u00a9 \\u00b1 #\\u00a5 \\u00d7\\u00be 9 \\u00b02\\u00ba \\u00d8\\u00a9 \\u00a4 \\u00b5 m\\u00b1 \\u00bc \\u00a4 \\u00a6\\u0157\\u00a4 \\u00dc \\u00dd \\u00aa \\u00ac \\u00b6 \\u00c7AE 2\\u00de \\u00a6\\u00df \\u00df x\\u00e0 \\u00e1 H\\u00e2 \\u00b6 C\\u00b1 D\\u0157\\u00a9 \\u00b1 \\u00ae2\\u00b1 \\u00be \\u00ae\\u00aa \\u00b0 \\u0232 \\u00ae 2\\u00ba #\\u00a4 9\\u00aa \\u00b0\\u00a4 \\u00a2\\u00b1 \\u00b5 \\u00a4 H\\u00b1 \\u00bc 9g i\\u00b0 \\u00ae \\u00be \\u00bc \\u00be AE \\u00a4 \\u00ba \\u00ae H g H\\u00aa \\u00b0G \\u00ae 2\\u00ba \\u00a4 H\\u00aa \\u00b0\\u00a4 \\u00b1 \\u00b5 \\u00c0\\u00a4 \\u00b1 \\u00bc 9g U\\u00b0 \\u00ae \\u00be \\u00bc \\u00be AE \\u00a8\\u00a4 D\\u00bc \\u1e97\\u00a1 9\\u00bc H \\u00cb 9 \\u00ae \\u00a4 H\\u00b5 m S \\u00b1 ( 9\\u00a9 \\u00cb H H\\u00be \\u00c4\\u00b0 \\u00ae \\u00be \\u00bc \\u00be AE 5 \\u00ae \\u00a5 \\u00a4 g \\u00ce\\u00be 9 H\\u00aa \\u00b2\\u00b1 \\u00cb\\u00b1 \\u00b5 C 9\\u00a9 H H\\u00be \\u00ca\\u00b0 \\u00ae \\u00be \\u00bc \\u00be \\u00c2 \\u00d1 \\u00bd\\u00a4 D\\u00bc g 9\\u00bc 9 ` 9 \\u00ae \\u00a4 H\\u00b5 m \\u00c7\\u00a4 \\u00a6\\u00a6AE ) 9 \\u00ae \\u00a4 \\u00b5 \\u00d6 \\u00d8\\u00ab D \\u00a4 \\u00bc \\u00a4 H \\u00a6\\u00a5 \\u00b1 \\u00bf 0\\u00be 9 \\u00a6 H2\\u00ba 2 g\\u00c3 \\u00aa \\u00b0 \\u00b0\\u00aa \\u00b2\\u00e3 \\u00a6\\u00a5 \\u00c7\\u00aa \\u00ac \\u00b1 9\\u00a5 c \\u00b1 ! 9 \\u00aa \\u00b0\\u00a4 9\\u00a9 \\u00a6\\u00bc 9 g\\u00ba S\\u00b1 \\u00b5 \\u00a4 9 \\u00ae \\u00a4 H\\u00b0 H\\u00aa \\u00b2\\u00b1 2\\u00c2 \\u00e4 t #\\u00a1 \\u00a3\\u00a2 \\u00a4 \\u00a6\\u00a5 \\u00a7 G D\\u00a9 \\u00aa \\u00ac j 9 \\u00ae \\u00a4 H\\u00b0 H\\u00aa \\u00b2\\u00b1 \\u00ce\\u00dc X\\u00a2 \\u00a8 \\u00a7 G \\u00c0\\u00e1 H\\u00b5 \\u00d6\\u00b1 D \\u00b6 \\u00a4 \\u00a8\\u00bf \\u00b1 9\\u00a9 \\u00a4 \\u00ba H g H\\u00aa \\u00b0\\u00e5 \\u00ae 2\\u00ba #\\u00a4 9\\u00aa \\u00b0\\u00a4 ae \\u00ae \\u00a5 \\u00a4 D\\u00bc g 9\\u00bc 9 \\u00e7 9 \\u00ae \\u00ab\\u00a4 \\u00b5 m \\u00a4 H\\u00aa \\u00ac \\u00b6 \\u00a4\\u00bc 2 H \\u00ae \\u00b1 \\u00bc \\u00a4 H2\\u00ba \\u00bc \\u00ab\\u00a4 H\\u00aa \\u00ac \\u00be j 9\\u00a9 \\u00aa \\u00b0\\u00a4 2 g\\u00c3 \\u00aa \\u00b0 \\u00b0\\u00aa \\u00b2\\u00e3 \\u00a6\\u00a5 G\\u00ab D \\u00a4 \\u00dc \\u00e8 \\u00a6\\u00a5 \\u00ab AE \\u00b4\\u00de \\u00a6\\u00df \\u00df \\u00e9 \\u00e1 H\\u00c2 X\\u00a2 \\u00a8 \\u00a7 ` \\u00ae \\u00ea\\u00a4 9\\u00a9 \\u00b1 H \\u00cc 9\\u00a9 9 \\u00ae \\u00ab\\u00a4 H\\u00b0 H\\u00aa \\u00b2\\u00b1 \\u00b9 H\\u00aa \\u00ac \\u00b6 C \\u00d5 \\u00ae \\u00a5 \\u00eb 9 \\u00aa \\u00b0\\u00a4 \\u00a2 9\\u00a9 \\u00a2 \\u00a6\\u00bc D g\\u00ba \\u00ec\\u00b1 \\u00b5 \\u00a4 \\u00ba H g H\\u00aa \\u00b0\\u00d4 \\u00ae 2\\u00ba #\\u00a4 9\\u00aa \\u00b0\\u00a4 \\u00bd\\u00bf \\u00ba \\u00e4\\u00bc \\u00a4 9\\u00aa \\u00ac \\u00be \\u00b9 9\\u00a9 \\u00cb2 g\\u00c3 \\u00aa \\u00b0 \\u00b0\\u00aa \\u00b2\\u00e3 \\u00a6\\u00a5 \\u00ab t \\u00a4 \\u00c2 \\u00db \\u00ed\\u00d3 \\u00ab D\\u00a4 AE i\\u00a4 H\\u00aa \\u00ac \\u00abg \\u00cc \\u00b0S\\u00ab D \\u00ab\\u00a4 \\u00b9\\u2022 H \\u00ee\\u00a4 9\\u00a9 \\u00b1 9 \\u0157\\u00a9 9 \\u00a4 g\\u00a1 \\u00a32 \\u00be 9\\u00a9 S\\u00ab t \\u00a4 AE I \\u00b6 \\u00ae \\u00ae\\u00ba \\u00a2\\u00a4 \\u00ba H g H\\u00aa \\u00b0 \\u00ae \\u00b6 C\\u00a1 \\u00bf \\u00ab\\u00aa \\u00b2\\u00be \\u00bc \\u00ab\\u00aa \\u00b2 H\\u00aa \\u00b2 \\u00a6\\u00a4 \\u00d8\\u00b1 #\\u00a6\\u00bc 9 H \\u00a6\\u00a5 S\\u00aa \\u00ac \\u00a2\\u0157 D S \\u00b6 HD\\u00a9 \\u00ab\\u00aa \\u00ac \\u00be \\u00c2 \\u00db \\u00a4 H \\u00a6\\u00a4 9\\u00bc 2 AE \\u00ab D \\u00a4 )\\u00bf \\u00a6 \\u00ae \\u00b6 !2\\u00b1 \\u00be I \\u00b1 \\u00d7\\u00a4 g g\\u00a1 2 \\u00be 9\\u00a9 \\u00ca \\u00b1 \\u00c7 H \\u00a6\\u00a5 r\\u00bc g C \\u00ae \\u00b6 j\\u00bf \\u00ab\\u00aa \\u00b2\\u00be \\u00bc \\u00aa \\u00b2 H\\u00aa \\u00b2 \\u00a6\\u00a4 \\u00c2 \\u00a4\\u00a2 \\u00a8\\u00bc AE B\\u00a4 g g\\u00a1 2 \\u00be 9\\u00a9 \\u00ab D \\u00a4 Q \\u00ae\\u00bc \\u00a4 \\u00ef\\u0157 D \\u00a4 H\\u0157 9\\u00a4 \\u00a6\\u00a4 H\\u00a4 9\\u00b1 \\u00ae\\u00bf \\u00ab2 \\u00b6 \\u00c7AE \\u00f0\\u00bf \\u00a6 \\u00ae\\u00bc \\u00a4 \\u00f1 9\\u00a9 \\u00a4 H \\u00ae \\u00b6 \\u00bc \\u00ab \\u00b6 j\\u00bf \\u00f0\\u00b1 \\u00b5 \\u00a4 g g\\u00a1 \\u00a32 \\u00be 9\\u00a9 \\u00c5\\u00ab D \\u00a4 \\u00d8 \\u00ae Sg\\u00b1 \\u00cd `2 \\u00a6\\u00a4 H\\u00a4 \\u00c7\\u00a4 #\\u00a1 g \\u00a6\\u00a4 9\\u00a9 \\u00ae ! 9\\u00a9 \\u00a4 H \\u00ae \\u00b6 C \\u00bc \\u00ab \\u00b6 j\\u00bf \\u00b1 \\u00b5 \\u00ab\\u0157\\u00a9 9 \\u00a4 g\\u00a1 \\u00a32 \\u00be 9\\u00a9 \\u00ab t \\u00a4 \\u00c2 \\u00b1 \\u00b1 \\u00cd Dg\\u00b1 \\u00b6 C 9\\u00a9 \\u00ab\\u00aa \\u00b0\\u00a4 H\\u00b1 \\u00ae\\u00bf \\u00ab2 \\u00b6 UAE \\u00c9 H \\u00ae \\u00bf j \\u00ae \\u00a5 U \\u00e8 \\u00a6\\u00a5 \\u00ab `\\u00dc \\u00c1\\u00de \\u00a6\\u00df \\u00df \\u00f2 \\u00ab\\u00e1 \\u00a5 \\u00b1 \\u00ae \\u00a6\\u00a5 g\\u00c3 \\u00ae \\u00b6 \\u00ab2 g\\u00a1 \\u00a3\\u00bf r \\u00a4 \\u00a6\\u00a5 G \\u0157 H\\u00b1 \\u00ae D\\u00a9 \\u00a6\\u00c2 0\\u00f3 \\u00b1 \\u2022 c \\u00cd \\u00a6AE 2 g\\u00c3 \\u00ae \\u00b6 \\u00ab2 g\\u00a1 \\u00bf \\u00ab \\u00a4 H \\u00a6\\u00a5 \\u00ce \\u0157 H\\u00b1 \\u00ae D\\u00a9 \\u00a9 \\u00ab \\u00a4 C\\u00a4 \\u00b1 \\u00b6 C \\u00d8 H\\u00b1 \\u00ae\\u00bf \\u00ab2 \\u00b6 \\u00a4 \\u00c2 \\u00f4 \\u00d2 \\u00b1 \\u00b5 9\\u00a9 \\u00ce H\\u00b1 \\u00ae\\u00bf \\u00ab2 \\u00b6 \\u00a4 U\\u00aa \\u00b0\\u00a4 G 9\\u00a9 ` g\\u2022 c\\u00b1 S\\u00a5 \\u00ab\\u00aa \\u00f6\\u00f5 2 H \\u00ae Y\\u00cd 9\\u00bf \\u00ab\\u00a4 `\\u00b1 \\u00b5 H H\\u00be \\u00a8\\u00b0 \\u00ae \\u00be \\u00bc \\u00ab \\u00be I H \\u00e8 \\u00d2 g\\u2022 c\\u00b1 C\\u00a4 \\u00b6 \\u00ae \\u00ae H\\u00aa \\u00b0 \\u00b02\\u00ba \\u00a4 H\\u00aa \\u00ac \\u00b6 \\u00aa \\u00b0\\u00b0 \\u00b1 \\u00bc r \\u00a4 X \\u00a4 \\u00b1 \\u00ae\\u00bf \\u00f7 \\u00c1 \\u00a6g H\\u00a4 H \\u00a6\\u00a4 H \\u00a6g H\\u00aa \\u00b2\\u00cd \\u00a62\\u00ba 2 9\\u00a9 \\u00b1 \\u00bc \\u00be \\u00a9 \\u00d7 \\u00cd 9\\u00bf \\u00b1 \\u00b5 \\u00a4 \\u00b1 \\u00bc 9g \\u00c4\\u00b0 \\u00ae \\u00be \\u00bc \\u00be \\u00c4 H \\u00e8 \\u00a6\\u00a4 \\u00b3 9\\u00a9 \\u00c5 \\u00b1 \\u00bc \\u00ab \\u00a4 5 \\u00a4 \\u00b3\\u00aa \\u00b2 H\\u00a4 \\u00b1 \\u00ae\\u00bf \\u00f7 \\u00c1 \\u00a6g H\\u00a4 \\u00c2 U\\u00f8 \\u00b1 \\u00a4 g\\u00c3 \\u00ae \\u00b6 \\u00ab2 AE `\\u00dd \\u00b1 H \\u00a6 \\u00ae \\u00ca\\u00cd 9\\u00bf \\u00d5\\u00f9 q\\u00fa \\u00fc\\u00fb \\u00fd \\u00c1\\u00fe \\u00ae\\u00fb \\u00ff \\u2022 \\u00aa \\u00b2 9\\u00a9 \\u00b9\\u00b1 \\u00ae\\u00bf \\u00f7 \\u00c1 \\u00a6g H\\u00a4 S\\u00f9 \\u00a1 \\u00a3\\u00a2 \\u00a5\\u00a4 \\u00dc \\u00bf r\\u00bc \\u00a4 g\\u00e1 H\\u00ff \\u00a4 \\u00ae \\u00a5 \\u00e4\\u00f9 \\u00a7\\u00a6 C\\u00fb \\u00a9\\u00b0\\u00dc v\\u00a9 \\u00b1 9\\u00a4 \\u00e1 H\\u00ff \\u00aa \\u00b0\\u00a4 9 \\u00ae \\u00ab\\u00a4 H\\u00b0 \\u00a6\\u00a5 \\u00c7\\u00aa \\u00ac \\u00ae \\u00b1 \\u00be \\u00ae\\u00b0\\u00aa \\u00b0\\u00a4 9\\u00a9 \\u00d7\\u00cd 9\\u00bf \\u00ab\\u00a4 )\\u00f9 H \\u00e8 \\u00ff \\u00ab \\u00ae \\u00a5 G\\u00f9 9\\u00aa \\u00b0\\u00a5 \\u00ff H \\u00a6\\u00a4 9 \\u00a6g H\\u00aa \\u00b2\\u00cd \\u00a62\\u00ba \\u00c2 \\u00a7 G \\u00ae \\u00ba Y 9 \\u00a6\\u00a4 \\u00a6 9D\\u00a9 \\u00a6\\u00a4 \\u2022 H \\u00a5 \\u00b1 C \\u00b1 U\\u00a4 H\\u00b1 \\u00ae2\\u00cd 9\\u00a9 \\u00b6 U\\u00c2 \\u00a9 \\u00ba \\u00bc \\u00a4 \\u00a6\\u00a5 \\u00ce\\u00a4 \\u00ba H g H\\u00aa \\u00b0\\u00d8g\\u00b1 \\u00ae\\u00b02\\u00b1 # H\\u00aa \\u00b2\\u00b1 i\\u00dc \\u00dd \\u00aa \\u00ac \\u00b6 \\u00fa \\u00d2\\u00fb \\u00a9 \\u00acAE \\u00de \\u00a6\\u00df \\u00df \\u00e9 #\\u00e2 B \\u00a6\\u00fa j\\u00fb \\u00a9 qAE !\\u00de \\u00a6\\u00df \\u00df \\u00df \\u00e1 HAE I\\u00a4 H \\u00b6 \\u00ae H\\u00aa \\u00b0\\u00a8g\\u00b1 \\u00a4 D \\u00aa \\u00ac \\u00ae \\u00bf \\u00ba \\u00d5 9\\u00a9 \\u00a6\\u00a4 9 \\u00ae\\u00bc D\\u00bc \\u00a4 \\u00dc v \\u00a7 U\\u00b1 #\\u00b1 \\u00fa \\u00fb ! qAE j\\u00de \\u00a6\\u00df \\u00df \\u00f2 \\u00e1 HAE \\u00d2\\u00a4 \\u00b6 \\u00ae \\u00ae H\\u00aa \\u00b0\\u03bc\\u00d6 \\u00a6 9\\u00bc H \\u00a6\\u00a4 \\u00d8\\u00dc \\u00ac \\u00b6 C \\\" \\u00a6\\u00fa I\\u00fb ! qAE \\u00de \\u00a6\\u00df \\u00df \\u00df \\u00e1 \\u00d2 \\u00ae \\u00a5 \\u00a4 H H H\\u00aa \\u00b0\\u00a4 H\\u00aa \\u00b0 \\u00af \\u00aa \\u00ac \\u00b5 \\u00d6\\u00b1 D \\u00b6 H\\u00aa \\u00b2\\u00b1 \\u00bd\\u00dc \\u00a2 H\\u00b1 \\u2022 I # \\u00a6\\u00fa \\u00c0\\u00fb ! qAE 0\\u00de \\u00a6\\u00df \\u00df \\u00de \\u00e2 %$ \\u00c0 \\u00be \\u00ae \\u00ae 5 \\u00ae \\u00a5 \\u00d1 H \\u00aa AE \\u00de \\u00a6\\u00df \\u00df x\\u00e0 \\u00e1 H\\u00c2 \\u00a2 \\u00a8\\u00bc \\u2022 )\\u00a9 \\u00a4 \\u00ba H g H\\u00aa \\u00b0g\\u00b1 \\u00ae\\u00b02\\u00b1 # H\\u00aa \\u00b2\\u00b1 G\\u00aa \\u00b0\\u00a4 \\u00bc \\u00a4 \\u00a6\\u00a5 AE W \\u00a6 D\\u00a9 \\u00ce g\\u00c3 \\u00ae \\u00b6 \\u00ab2 \\u00b5 m\\u00b1 C G\\u00cd 9\\u00bf \\u00a9 \\u00a4 j 9\\u00a9 \\u00c7\\u00a4 H \\u00ae \\u00b6 C g\\u00f5 2 \\u00a6g j \\u00b1 \\u00a4 \\u00a62 \\u00a6g \\u00a4 9\\u00a9 \\u00d8 H\\u00b1 \\u00ae !\\u2022 \\u00b1 9\\u00a5 \\u00ce\\u00a4 \\u00a4 \\u00d7\\u00b1 \\u00b5 0 9\\u00a9 \\u00cd 9\\u00bf \\u00a6\\u00c2 '& \\u00b1 \\u00ab\\u00a4 \\u00a3( #\\u00bc \\u00ae H2\\u00ba AE \\u00aa \\u00b2 \\u00aa \\u00b0\\u00a4 \\u00d7\\u00a5 r\\u00aa !) \\u00a6\\u00bc 2 \\u00b1 \\u00ce\\u00b1 \\u00ae\\u00bf H \\u00aa \\u00ac 9\\u00a9 \\u00c7 H \\u00a6\\u00ab H \\u00a6\\u00a4 H H\\u00aa \\u00b2\\u00cd ` g\\u00c3 \\u00ae \\u00b6 \\u00ab2 \\u00a6\\u00a4 \\u00ae \\u00ab\\u00a5 \\u00b1 \\u00a5 \\u00a6\\u00a4 Hg D\\u00aa \\u00b0\\u00bf \\u00a4 \\u00a4 H \\u00a6\\u00a4 \\u2022 )\\u00a9 \\u00aa \\u00b0\\u1e97\\u00a9 \\u00b3\\u00a9 \\u00cd Y\\u00a5 \\u00b1 \\u00b6 \\u00aa \\u00ac \\u00a4 \\u00a4\\u00b1 \\u00b5 \\u00a5 \\u00ab\\u00aa \\u00f6\\u00f5 2 H \\u00a4 H\\u00aa \\u00b2\\u00e3 \\u00c2 \\u00d1 \\u00b4 \\u00a5 \\u00ab\\u00a5 \\u00ab\\u00aa \\u00b2 H\\u00aa \\u00b2\\u00b1 2AE !\\u2022 )\\u00a9 S\\u00b1 2\\u00ba \\u00b4\\u00a4 \\u00b6 \\u00ae \\u00ae H\\u00aa \\u00b0g\\u00b1 \\u00a4 9 \\u00aa \\u00ac \\u00bf \\u00ba Y 9\\u00a9 \\u00a6\\u00a4 H \\u00ae\\u00bc D\\u00bc \\u00a4 \\u00aa \\u00b0\\u00a4 j\\u00bc \\u00ab\\u00a4 \\u00a6\\u00a5 \\u00a6AE \\u00aa \\u00b2 j\\u00aa \\u00b0\\u00a4 \\u00a5 r\\u00aa !) \\u00a6\\u00bc 2 \\u00b1 Y\\u00b1 \\u00ae\\u00bf H \\u00aa \\u00ac \\u00be \\u00b1 #\\u00b1 #\\u00a5 G 9 \\u00ae \\u00a4 H\\u00b0 \\u00a6\\u00a5 \\u2022 \\u00b1 9\\u00a5 \\u00ab\\u00a4 I\\u00bf \\u00a6 \\u00ae\\u00bc \\u00a4 \\u00b1 \\u00b5 9\\u00a9 \\u00a4\\u00aa \\u00ac \\u00a4 9\\u00bc 0) C\\u00a1 \\u00aa \\u00b2 9\\u00a9 \\u00a6\\u00a4 H \\u00ae\\u00bc D\\u00bc \\u00a4 H\\u00b1 \\u00ae\\u00bf r2 \\u00b6 \\u00c7\\u00c2 \\u00db \\u00a4 9 \\u00a6\\u00a4 9\\u00bc 2 AE \\u2022 \\u00bc \\u00a4 H \\u00a9 \\u00ba #\\u00bf D\\u00aa \\u00b0\\u00a5 \\u00d7 \\u00b6 C 9\\u00a9 \\u00b1 #\\u00a5 \\u00b1 \\u00b5 B\\u00bf \\u00b1 9\\u00a9 g\\u00c3 g g\\u00c3 \\u00ae \\u00b6 \\u00ab2 I \\u00b6 HD\\u00a9 #\\u00a1 \\u00aa \\u00ac \\u00be Y \\u00a6D\\u00a9 \\u00ab \\u00ab\\u00aa ( #\\u00bc \\u2022 \\u00aa \\u00b2 9\\u00a9 \\u00a4 \\u00ba \\u00ae H g H\\u00aa \\u00b0\\u00d8g\\u00b1 \\u00ae\\u00b02\\u00b1 H\\u00aa \\u00b2\\u00b1 \\u00b3 \\u00ae \\u00a5 \\u00a4 \\u00b6 \\u00ae \\u00ae H\\u00aa \\u00b0g\\u00b1 \\u00ab\\u00a4 9 \\u00aa \\u00ac \\u00bf \\u00ba \\u00d8 9\\u00a9 \\u00a6\\u00a4 9 \\u00ae\\u00bc D\\u00bc \\u00a4 \\u00c2 \\u00c9 \\u00ca )\\u00bc \\u00ab\\u00a4 \\u00a8\\u0157\\u00a9 9 \\u00a4 g\\u00a1 \\u00a32 \\u00be 9\\u00a9 C\\u00ab D \\u00a4 \\u00b1 \\u00a4 \\u00b1 \\u00ae2\\u00cd \\u00ab \\u00c1\\u00a1 D !\\u00a4 H\\u00ab 9\\u00a4 \\u00a6\\u00a4 H\\u00a4 B 9\\u00b1 \\u00ae\\u00bf \\u00ab2 \\u00b6 \\u00c4 \\u00ae \\u00a5 H\\u00b1 \\u00ae\\u00b1 \\u00ae\\u00a4 g\\u2022 c\\u00b1 I2 \\u00cd \\u00a6\\u00a4 \\u00a62 \\u00a6g H\\u00aa \\u00b2\\u00b1 U \\u00b6 9\\u00a9 \\u00b1 \\u00a5 \\u00b1 \\u00b5 B D \\u00ae \\u00a4 H\\u00b0 H\\u00aa \\u00b2\\u00b1 \\u00d8\\u00ab D \\u00d7 \\u00b1 \\u00a4 H g\\u00a1 \\u00a5 r\\u00bc g \\u00d2 9\\u00a9 ! \\u00ae \\u00b6 j\\u00bf \\u00ab\\u00aa \\u00b2\\u00be \\u00bc \\u00aa \\u00b2 H\\u00aa \\u00b2 \\u00a6\\u00a4 0\\u00b1 \\u00b5 \\u00ab D G \\u00b6 H\\u1e97\\u00a9 \\u00aa \\u00ac \\u00be \\u00c2 1 2 43 #5 \\u00a3y 76 By 85 2 w \\u00a6r 5 \\u00fcw e \\u00fc r @9 \\u00a4w y r y 85 \\u00a3y r e \\u00fc Br BA (y W \\u00c9 \\u00ca \\u00bd\\u00bc \\u00ab\\u00a4 \\u00b3\\u00b1 2\\u00ba \\u00ec \\u00b6 C\\u00b1 \\u00b1 \\u00a1 \\u00a3\\u00b0\\u00aa \\u00ac \\u00be \\u00bc 9 \\u00a6\\u00a4 \\u00b1 \\u00bc 9g \\u00a6\\u00a4 \\u00b1 \\u00c5 H g\\u00a1 \\u00a5 r\\u00bc g ) 9 \\u00ae \\u00a4 H\\u00b0 H\\u00aa \\u00b2\\u00b1 \\u00d8 \\u00ae \\u00b6 j\\u00bf \\u00ab\\u00aa \\u00b2\\u00be \\u00bc \\u00ab\\u00aa \\u00b2 H\\u00aa \\u00b2 \\u00a6\\u00a4 \\u00c2 W\\u00d1 g \\u00aa \\u00b0\\u00a4 \\u00ac \\u00b6 C\\u00b1 \\u00ae\\u00a4 \\u00aa \\u00ac \\u00b6 \\u00a4\\u00a1 \\u00b1 \\u00ae\\u00a4 H\\u00a4 H\\u00aa \\u00b0\\u00bf \\u00ab2 \\u00b1 \\u00b4\\u00aa \\u00ac g\\u00b1 9\\u00b1 9 5\\u00a4 \\u00b6 \\u00ae H\\u00aa \\u00b0\\u00e8 \\u00b1 \\u2022 2 \\u00a6\\u00a5 \\u00be \\u00b1 \\u00b5 \\u00a4 \\u00a3\\u2022 \\u00b1 \\u00a2\\u00b0 \\u00ae \\u00be \\u00bc \\u00ab \\u00be \\u00a6\\u00a4 \\u00c2 \\u00e4 \\u00a9 \\u00b6 j\\u00bc 9\\u00bc \\u00d2\\u00aa \\u00ac \\u00b5 \\u00d6\\u00b1 D \\u00b6 H\\u00aa \\u00b2\\u00b1 \\u00bf \\u00a3\\u2022 S \\u00a3\\u2022 \\u00b1 \\u00b3\\u00a5 \\u00ab\\u00aa \\u00f6\\u00f5 2 H U\\u00b0 \\u00ae \\u00be \\u00bc \\u00be \\u00a6\\u00a4 ` \\u00ae S\\u00bf \\u00ca\\u00a5 g\\u00a1 \\u00a4 Hg 9\\u00aa \\u00b0\\u00bf \\u00a6\\u00a5 \\u00d4 \\u00b1 \\u00ca\\u00bf \\u00ba \\u00c5\\u00b1 g\\u00a1 \\u00fc \\u00b1 \\u00a1 \\u00fc\\u00b1 \\u00bd \\u00b6 \\u00ab\\u00ab\\u00aa \\u00ac \\u00be \\u00a2\\u00bf r\\u00bc \\u00bf \\u00ba g\\u00b1 \\u00ae 9\\u00a4 g\\u00a1 g \\u00b6 \\u00ab\\u00ab\\u00aa \\u00ac \\u00be \\u00dc \\u00ac \\u00b6 C \\u00fa \\u00fb \\u00a9 \\u00acAE \\u00de \\u00a6\\u00df \\u00df \\u00df \\u00e1 H\\u00c2 X\\u00f8 \\u00b1 X g\\u00c3 #\\u00a1 \\u00ae \\u00b6 \\u01572 AE \\u00d2\\u00dd \\u00d2\\u00b1 H \\u00a6 \\u00ae \\u00a4\\u00cd D\\u00bf \\u0157\\u00a9 9 \\u00a4 H \\u0157 D \\u00f9 ED I GF H!\\u00a2 I\\u00a4 P\\u00a4 Q\\u00a2 \\u00fd \\u00fe \\u00ae\\u00fb \\u00ff \\u00ae \\u00cc\\u00bf \\u00c4 9 \\u00ae \\u00a4 9\\u00b0 \\u00a6\\u00a5 \\u00cc\\u00aa \\u00ac \\u00b1 \\u00cc\\u00f9 \\u2022 c \\u00a6 RD I 0\\u00ff \\u00b0AE \\u00f9 \\u2022 0 9\\u00aa \\u00b2 SD I 0\\u00ff \\u00b0AE \\u00f9 g\\u00b1 \\u00b6 \\u00b1 \\u00ae\\u00a4 TD ) \\u00ff \\u00b0AE \\u00f9 \\u00bc \\u00a4 SD I 0\\u00ff \\u00b0AE \\u00b1 \\u00a8\\u00f9 \\u00a4 H \\u00a5 D I 0\\u00ff \\u00b0\\u00c2 \\u00d1 g\\u00b5 UD ) \\u00eb\\u00a9 \\u00ab \\u00a4 C \\u00b6 \\u00a6 \\u00ae \\u00aa \\u00ac \\u00be V \\u00a9 \\u00a6 \\u00a5 \\u00a1 \\u00fc\\u00be \\u00a6 XW \\u00fcAE c 9\\u00a9 9\\u00a9 I\\u00dd \\u00d2\\u00b1 H \\u00a6 \\u00ae \\u00d7\\u00cd 9\\u00bf \\u0157\\u00a9 9 \\u00a4 )\\u00ab D \\u00ae \\u00bf ) 9 \\u00ae \\u00a4 \\u00c1\\u00a1 \\u00b0 \\u00a6\\u00a5 \\u00bd\\u00aa \\u00ac \\u00ae \\u00b1 \\u00d5\\u00f9 \\u2022 c \\u00a6 \\\"D ) \\u00ff \\u00b1 U\\u00f9 \\u00bc \\u00b1 YD I 0\\u00ff \\u00b0\\u00c2 X\\u00d1 g\\u00b5 \\u00c0 9\\u00a9 \\u00a9 \\u00a6 \\u00a5 \\u2022 \\u00b1 9\\u00a5 i\\u00b1 \\u00b5 `D I \\u00ea\\u00aa \\u00b0\\u00a4 \\u00f9 m\\u00fe \\u00a5a b r\\u00dc v \\u00b6 C\\u00b1 \\u00ba r\\u00e1 H\\u00ff \\u00b0AE \\u00a4 9\\u00a9 i 9\\u00a9 \\u00cd 9\\u00bf U\\u00a9 9 \\u00a4 \\u00d2\\u00ab D \\u00ab\\u00a4 0 H !\\u1e97\\u00a9 \\u00ae \\u00be \\u00a6\\u00a5 `\\u00aa \\u00ac \\u00b1 \\u00c7\\u00f9 \\u00a4 H \\u00a5 \\u00b6 C\\u00b1 \\u00ba \\u00ff \\u00b0\\u00c2 W\\u00d1 \\u00d7 9\\u00a9 \\u00aa \\u00b0\\u00a4 \\u2022 \\u00ba AE \\u00a6\\u00f9 ED ) cF H!\\u00a2 d\\u00eb\\u00a4 f\\u00a4 g\\u00a2 \\u00fd \\u00c1\\u00fe \\u00ae\\u00fb \\u00ff \\u00ab\\u00a9 \\u00a4 \\u00d3 \\u00ab\\u00cd 9 \\u00ae \\u00a4 9\\u00b0 H\\u00aa \\u00b2\\u00b1 \\u00a2\\u0157 D \\u00b3 \\u00be \\u00b1 9\\u00aa \\u00b2 \\u00a6\\u00a4 \\u00a6\\u00c2 i\\u00d1 H \\u00e8 \\u00a6\\u00a4 \\u00a3\\u2022 \\u00b1 \\u00a4 \\u00a6\\u00ab\\u00a4 \\u00b1 \\u00d2\\u00a4 \\u00a62 \\u00a6g 9\\u00a9 \\u00a8 \\u00b6 C\\u00b1 \\u00ae\\u00a4 9\\u00bc 9 \\u012a c \\u00be \\u00ae\\u00b0\\u00aa \\u00b0\\u00a4 9\\u00a9 9 \\u00ae \\u00a4 \\u00c1\\u00a1 \\u00b0 H\\u00aa \\u00b2\\u00b1 5\\u00ab D \\u00a4 \\u00a4 `g\\u00b1 H 9 \\u00a6\\u00a4 H\\u00b1 \\u00a5 \\u00ab\\u00aa \\u00ac \\u00be `\\u0157 D \\u00b1 \\u00b5 \\u00dd \\u00d2\\u00b1 9 \\u00a6 \\u00ae \\u00c7\\u00ab D eh \\u00de x\\u00e1 2 \\u00b1 I\\u00a4 H \\u00a62 \\u00a6g \\u00b1 \\u00ae\\u00a4 H\\u00a4 9\\u00aa \\u00b0\\u00bf \\u00ab2 c D \\u00ae \\u00a4 H\\u00b0 H\\u00aa \\u00b2\\u00b1 j\\u00ab D j \\u00c1\\u00a1 \\u00be \\u00b1 9\\u00aa \\u00b2 \\u00a6\\u00a4 AE i \\u00e1 \\u00b1 \\u00a4 \\u00a62 \\u00a6g 9\\u00a9 ! \\u00b6 C\\u00b1 \\u00ae\\u00a4 0 9\\u00bc 9 \\u0113 c \\u00be \\u00ae\\u00b0\\u00aa \\u00b0\\u00a4 9\\u00a9 D \\u00ae \\u00a4 H\\u00b0 x\\u00a1 H\\u00aa \\u00b2\\u00b1 \\u0157 D \\u00ca \\u00ae \\u00b6 C\\u00b1 \\u00be U\\u00b1 \\u00ae\\u00a4 9\\u00a4 H\\u00aa \\u00b0\\u00bf \\u00ab2 \\u00a4 9 \\u00ae \\u00a4 H\\u00b0 H\\u00aa \\u00b2\\u00b1 \\u00ab \\u00c1\\u00a1 D \\u00c7 \\u00be \\u00b1 D\\u00aa \\u00b2 \\u00a6\\u00a4 \\u00c2 \\u00a9 \\u00d3 r 9\\u00a4 \\u00ec\\u00a4 \\u00a6\\u00b8\\u00aa \\u00b0\\u00a4 \\u00eb 9\\u00b5 m\\u00b1 D \\u00b6 \\u00a6\\u00a5 Q\\u00aa \\u00ac \\u00ab D \\u00b6 H\\u1e97\\u00a9 \\u00aa \\u00ac \\u00be AE ` \\u00ae \\u00ab\\u00a5 \\u00ed 9\\u00a9 \\u00c4\\u00a4 \\u00a6g\\u00b1 \\u00a5 (\\u00a4 \\u00a6F\\u00aa \\u00ac \\u00ed\\u00ab D 9 \\u00ae \\u00a4 H\\u00b5 m \\u00a6\\u00c2\"],[\"Specifying the Parameters of Centering Theory: a Corpus-Based Evaluation using Text from Application-Oriented Domains\"],[\"\"],[\"\"],[\"An Improved Error Model for Noisy Channel Spelling Correction\"],[\"PENS: A Machine-aided English Writing System for Chinese Users\"],[\"Inducing Probabilistic Syllable Classes Using Multivariate Clustering\"],[\"An Improved Parser for Data-Oriented Lexical-Functional Analysis\"],[\"Using Confidence Bands for Parallel Texts Alignment\"],[\"Good Spelling of Vietnamese Texts, one aspect of computational linguistics in Vietnam\"],[\"Memory-Efficient and Thread-Safe Quasi-Destructive Graph Unification\"],[\"\"],[\"\\u00a2\\u00a1 \\u00a4\\u00a3 \\u00a5\\u00a3 \\u00a7\\u00a6 \\u00a9\\u00a3 ! #\\\" $ &% (' )\\\" 10 2\\u00a1 43 5' )6 7 86 9\\u00a6 \\u00a9\\u00a3 @ 8' )A )\\u00a6 \\u00a96 B\\u00a6 \\u00a9 &C \\u00a2\\\" $' )' )6 D FE HG I QP G I E SR UT WV XG I T `Y I ba \\u00a2c ed `f 9g ih qp rI bs R rt vu xw 9t yE q d f 9g D FE w $ T S 1 I I a c F f 9 d ye gf h i kj d g ml Q on pf 9q f sr ut v Bw px kw pv zy { }| U9w B{ 9w k B By ` 4| U y B Q p y b | t Qv k F \\u00a9 C f 9 pd e hf h i kj d d e gf hd o o d Wr k pw p y b }| U 9 9\"],[\"\"],[\"A Hierarchical Account of Referential Accessibility\"],[\"\"],[\"\"],[\"S UT V XW QV `Y a Eb $c da EW Qe \\u00a6a Ef `g \\u00a6T ih qp sr t vu xw dh yW a E g yw p s R d e fp g eh ji k ml on $p p sg rq ts ur v w yx {z g ri Ep s| p p sg eq \\u00a6} \\u00a6 n s s \\u00a6 f Q ) y \\u00a6 s o E i ) s m Db mT ia E\\u00a1 s \\u00a2 \\u00a3 \\u00a4 \\u00a4 i\\u00a5 7\\u00a6 \\u00a8 \\u00a7 \\u00a9 \\u00ab\\u00aa )\\u00a3 \\u00ac t \\u00ac \\u00ae\\u00a5 \\u00af\\u00aa \\u00b0\\u00b1\\u00ac \\u00b2 o\\u00ac \\u00ae\\u00b3 \\u00a8\\u00ac \\u00aa \\u00af\\u00a4 \\u00b57\\u00ac \\u00ae \\u00b6 m\\u00b0\\u00a6 \\u00b1\\u2022 j\\u00ac \\u00b6 d\\u00b3 \\u00a8\\u00ac \\u00ae \\u00b6 m \\u00a7 y\\u00a6 \\u00a8 \\u00a7 \\u00a9 d\\u00a6 \\u00a8 \\u00a7 \\u00a7 \\u00b6 f\\u00aa )7 \\u00b6 m\\u00b0&\\u00b0 \\u00b6 m \\u00a7 \\u00a9 iy \\u00b6 f\\u00a9 m\\u00ac \\u00a8\\u00a9 m\\u00ac \\u00ae \\u00a7 o\\u00b9 \\u00ac j\\u0155 \\u00b6 f\\u00aa )\\u00a6 \\u00b1\\u00a4 i \\u00a7 \\u00ba\\u00a6 \\u00a8\\u00a5 F \\u00b6 \\u00bb\\u00a3 \\u00b6 f7\\u00bc \\u00aa ) \\u00b6 m\\u00a5 \\u00af\\u00bd \\u00be \\u00c0\\u00bf \\u00c1\\u00ac \\u00c2\\u00a6 \\u00a8 \\u00a7 \\u00c3 m\\u00ac \\u00ae\\u00a5 \\u00c4\\u00b9 \\u00aa )\\u00a6 \\u00a8\\u00a9 i \\u00b6 f\\u00aa \\u00af\\u00ac \\u00c5\\u00bc \\u00a6 \\u00c7AE \\u00ac j)\\u00ac \\u00ae \\u00a7 \\u00aa \\u00aa \\u00af)\\u00ac j\\u00ac \\u00b9 ` \\u00b6 m\\u00a5 \\u00af\\u00ac \\u00ae\\u00bc \\u00c8\\u00a5 \\u00af\\u00aa \\u00af\\u00a4 o\\u00c9 7\\u00a3 \\u00b6 m\\u00a5 \\u00af\\u00b9 \\u00aa )\\u00a6 \\u00ca\\u00c9 \\u00c2\\u00b3 \\u00a4 s\\u00bc \\u00ac \\u00ae\\u00b0\\u00ca\\u00a5 F\\u00cb {\\u00a4 m3\\u00b0\\u00b1\\u00ac \\u00b2 \\u00a6 \\u00a8\\u00c9 j \\u00b6 m\\u00b0\\u00c9 7\\u00a3 \\u00a4 i\\u00a6 \\u00a8\\u00c9 \\u00ac m\\u00be \\u00cd\\u00cc D\\u00ac \\u00b9 \\u00c9 j \\u00b6 my\\u00a5 \\u00af\\u00ac \\u00a4 m\\u00cb t\\u00aa )\\u00a3 \\u00ac \\u00c1\\u00bc \\u00a6 \\u00b1\\u00ce \\u00cf\\u00c9 j\\u00b0\\u00b1\\u00aa \\u00d1\\u00d0 \\u00a4 m\\u00cb t\\u00a4 m \\u00aa ) \\u00b6 m\\u00a6 \\u00ca \\u00a7 \\u00a6 \\u00a8 \\u00a7 \\u00a9 \\u00b6 \\u00a5 \\u00af\\u00ac \\u00ae \\u00a7 \\u00a5 )\\u00ac \\u00b9 `\\u00aa ) \\u00b6 f\\u00a9 m\\u00a9 m\\u00ac \\u00ae\\u00bc x\\u00c9 \\u00a4 m)\\u00d2 y\\u00a5 j\\u00d3 \\u00d4 y\\u00ac R\\u00a9 m\\u00ac \\u00ae \\u00a7 \\u00ac j7 \\u00b6 m\\u00b0\\u00ca\\u00a6 \\u00b1\\u2022 j\\u00ac \\u00aa )\\u00a3 \\u00ac \\u00d5 \\u00a7 \\u00a4 m\\u00aa )\\u00a6 \\u00b1\\u00a4 i \\u00a7 \\u00bb\\u00a4 m\\u00cb \\u00d6\\u00a5 \\u00af\\u00d0 s \\u00a7 \\u00a4 i \\u00a7 \\u00d0 o\\u00b3 \\u00d0 m\\u00be \\u00d7\\u00bf \\u00c1\\u00ac \\u00d8\\u00a5 )\\u00a3 \\u00a4 d\\u00d4 \\u00aa )\\u00a3 y \\u00b6 f\\u00aa 2 \\u00b6 \\u00a8\\u00aa \\u00af)\\u00ac j\\u00ac \\u00b9 ` y \\u00b6 m\\u00a5 \\u00af\\u00ac \\u00ae\\u00bc F\\u00b3 \\u00a8\\u00a4 s\\u00bc \\u00ac \\u00ae\\u00b0E\\u00c9 j \\u00b6 m \\u00a7 $ \\u00b6 m\\u00c9 7\\u00a3 \\u00a6 \\u00a8\\u00ac j\\u00c3 m\\u00ac \\u00b6 F\\u00d4 y\\u00a4 m\\u0155\\u00bc o\\u00b9 ` y \\u00b6 f\\u00a9 $ y \\u00b6 m\\u00a5 )\\u00ac \\u00ae\\u00bc \\u00d9 \\u00b6 m\\u00c9 j\\u00c9 j7 \\u00b6 m\\u00c9 \\u00d0 \\u00d9\\u00a4 m\\u00cb \\u00da f\\u00db \\u00dc d\\u00d3 7\\u00ac j\\u00d2 )\\u00ac \\u00ae\\u00a5 \\u00af\\u00ac \\u00ae \\u00a7 \\u00aa )\\u00a6 \\u00a8 \\u00a7 \\u00a9 \\u00c8 \\u00b6 m \\u00a7 \\u00dd\\u00a6 \\u00a8\\u00b3 \\u00a8\\u00d2 )\\u00a4 d\\u00c3 m\\u00ac \\u00ae\\u00b3 \\u00a8\\u00ac \\u00ae \\u00a7 \\u00aa \\u00bb\\u00a4 \\u00c3 m\\u00ac j\\u00e1 )\\u00a3 \\u00ac \\u00d6 y \\u00b6 m\\u00a5 \\u00af\\u00ac \\u00ae\\u00b0\\u00a6 \\u00a8 \\u00a7 \\u00ac m\\u00be \\u00de \\u00df W mT ig 0\\u00e0 Q\\u00e1 Q\\u00a1 s iV Xg W 2\\u00e2 \\u00e3 \\u00a4h \\u00e4 !V X\\u00a1 oa Ef \\u00d6\\u00e5 dae !g V \\u00d1\\u00a1 oh \\u00e7 s\\u00ac \\u00ae \\u00a7 \\u00aa \\u00af\\u00ac \\u00ae \\u00a7 \\u00c9 \\u00ac \\u00d6\\u00d2 y\\u00b0 \\u00b6 m \\u00a7 y \\u00a7 \\u00a6 \\u00a8 \\u00a7 \\u00a9 \\u00a6 \\u00a8 \\u00a7 d \\u00a7 \\u00b6 f\\u00aa )7 \\u00b6 m\\u00b0E\\u00b0 \\u00b6 m \\u00a7 \\u00a9 i \\u00b6 f\\u00a9 m\\u00ac \\u00a9 m\\u00ac \\u00ae \\u00a7 \\u00ac j\\u00b4\\u00b9 \\u00b6 f\\u00aa )\\u00a6 \\u00b1\\u00a4 i \\u00a7 \\u00c2\\u00e8 \\u00ea\\u00e9 6\\u00eb &\\u00ec \\u00ed 2\\u00c9 j \\u00b6 m \\u00a7 \\u00d5 \\u00ac \\u00c9 7\\u00a3 y \\u00b6 f7 \\u00b6 m\\u00c9 \\u00aa \\u00af\\u00ac j7\\u00a6 \\u00b1\\u2022 j\\u00ac \\u00ae\\u00bc \\u00d8 \\u00b6 m\\u00a5 \\u00a4\\u00aa )\\u00a3 \\u00ac t\\u00c9 \\u00a4 i\\u00b0\\u00c7\\u00b9 \\u00b0\\u00b1\\u00ac \\u00ae\\u00c9 \\u00aa )\\u00a6 \\u00b1\\u00a4 i \\u00a7 \\u00ee\\u00a4 m\\u00cb 2\\u00aa ) \\u00b6 m\\u00a5 \\u00af\\u00bd o\\u00a5 )\\u00ac \\u00ae\\u00b0 \\u00b6 f\\u00aa \\u00af\\u00ac \\u00ae\\u00bc \\u00ee\\u00aa \\u00af\\u00a4 \\u00aa )\\u00a3 \\u00ac \\u00cf\\u00c9 r\\u00a3 \\u00a4 i\\u00a6 \\u00a8\\u00c9 \\u00ac d\\u00a4 m\\u00cb t\\u00e8 \\u00ea \\u00b6 f \\u00b9 \\u00a5 \\u00af\\u00aa \\u00af7 \\u00b6 m\\u00c9 \\u00aa r\\u00ed Q\\u00b0\\u00a6 \\u00a8 \\u00a7 \\u00a9 i\\u00a6 \\u00a8\\u00a5 \\u00af\\u00aa )\\u00a6 \\u00a8\\u00c9 y)\\u00ac \\u00ae\\u00a5 \\u00af\\u00a4 i7\\u00c9 \\u00ac \\u00ae\\u00a5 y\\u00a6 \\u00ca \\u00a7 \\u00a8\\u00a4 m7\\u00bc \\u00ac j\\u00fd\\u00aa \\u00af\\u00a4 \\u00b6 m\\u00c9 r\\u00a3 \\u00a6 \\u00b1\\u00ac j\\u00c3 m\\u00ac \\u00ac \\u00ae\\u00b0\\u00b1\\u00ac \\u00ae\\u00b3 \\u00a8\\u00ac \\u00ae \\u00a7 \\u00aa ) \\u00b6 f)\\u00d0 \\u00c9 \\u00a4 i\\u00b3 \\u00b3 ty \\u00a7 \\u00a6 \\u00a8\\u00c9 j \\u00b6 f\\u00aa )\\u00a6 \\u00b1\\u00c3 m\\u00ac D\\u00a9 m\\u00a4 i \\u00b6 m\\u00b0\\u00a5 j\\u00be 0\\u00ef 2\\u00a3 \\u00ac \\u00ae\\u00a5 )\\u00ac y\\u00aa ) \\u00b6 m\\u00a5 \\u00af\\u00bd o\\u00a5 \\u00a6 \\u00a8 \\u00a7 \\u00c9 j\\u00b0\\u00ca\\u00bc \\u00ac \\u00b0\\u00b1\\u00ac \\u00b2 \\u00a6 \\u00a8\\u00c9 j \\u00b6 m\\u00b0D \\u00b6 m \\u00a7 \\u00bc \\u00d9\\u00a5 \\u00af\\u00d0 o \\u00a7 \\u00aa ) \\u00b6 m\\u00c9 \\u00aa )\\u00a6 \\u00a8\\u00c9 d\\u00c9 7\\u00a3 \\u00a4 i\\u00a6 \\u00a8\\u00c9 \\u00ac m\\u00be \\u00eb \\u00a6\\u00ac \\u00b2 \\u00a6 \\u00a8\\u00c9 j \\u00b6 m\\u00b0\\u00c9 7\\u00a3 \\u00a4 i\\u00a6 \\u00a8\\u00c9 \\u00ac \\u00d5\\u00a6 \\u00a8\\u00a5 \\u00aa )\\u00a3 \\u00ac \\u00d5\\u00c9 r\\u00a3 \\u00a4 i\\u00a6 \\u00a8\\u00c9 \\u00ac F\\u00a4 m\\u00cb \\u00b3 \\u00ac \\u00ae \\u00b6 m \\u00a7 \\u00a6 \\u00a8 \\u00a7 \\u00a9 f\\u00b9 ` \\u00ac \\u00ae \\u00b6 f7\\u00a6 \\u00a8 \\u00a7 \\u00a9 \\u00b0\\u00ac \\u00b2 \\u00b9 \\u00ac \\u00ae\\u00b3 \\u00a8\\u00ac \\u00ae\\u00a5 j\\u00be \\u00e8 \\u00ea\\u00f0 \\u00a7 y\\u00c9 \\u00aa )\\u00a6 \\u00b1\\u00a4 i \\u00a7 \\u00c2\\u00d4 y\\u00a4 m7\\u00bc y\\u00a5 t\\u00ac \\u00b2 o\\u00d2 )\\u00ac \\u00ae\\u00a5 7\\u00a5 \\u00a9 m7 \\u00b6 m\\u00b3 \\u00ab\\u00b3 \\u00b6 f\\u00aa )\\u00a6 \\u00a8\\u00c9 j \\u00b6 m\\u00b0\\u00b3 \\u00a8\\u00ac \\u00ae \\u00b6 m \\u00a7 \\u00a6 \\u00ca \\u00a7 \\u00a9 \\u00a5 )\\u00c9 r\\u00a3 \\u00ab \\u00b6 m\\u00a5 Q\\u00aa \\u00af\\u00ac \\u00ae \\u00a7 \\u00a5 \\u00af\\u00ac 6 \\u00b6 m \\u00a7 y\\u00bc \\u00ab \\u00b6 m\\u00a5 \\u00af\\u00d2 \\u00ac \\u00ae\\u00c9 \\u00aa !\\u00cb {\\u00ac \\u00ae \\u00b6 f\\u00aa ))\\u00ac \\u00ae\\u00a5 j\\u00d3 s\\u00a4 m \\u00b6 f)\\u00ac 3\\u00ac \\u00ae \\u00a7 \\u00aa )\\u00a6 \\u00b1)\\u00ac \\u00ae\\u00b0\\u00d0 \\u00f1\\u00a9 m7 \\u00b6 m\\u00b3 \\u00ab\\u00b3 \\u00b6 f\\u00aa )\\u00a6 \\u00a8\\u00c9 j \\u00b6 m\\u00b0\\u00b0\\u00b1\\u00d0 5\\u00bc \\u00ac j\\u00aa \\u00af\\u00ac j7\\u00b3 \\u00ab\\u00a6 \\u00a8 \\u00a7 \\u00ac \\u00ae\\u00bc E\\u00d3 \\u00d6 \\u00b6 m \\u00a7 \\u00bc \\u00aa )\\u00a3 \\u00ac j)\\u00ac j\\u00cb {\\u00a4 m)\\u00ac x \\u00b6 f)\\u00ac x\\u00a5 )y \\u00b6 m\\u00b0\\u00b0\\u00b1\\u00d0 \\u00c1\\u00c9 7\\u00a3 \\u00a4 i\\u00a5 )\\u00ac \\u00ae \\u00a7 \\u00a7 \\u00a4 m\\u00aa \\u00a8\\u00bc 7\\u00a6 \\u00a8 \\u00a7 \\u00a9 F\\u00a5 \\u00af\\u00ac \\u00ae \\u00a7 o\\u00b9 \\u00aa \\u00af\\u00ac \\u00ae \\u00a7 \\u00c9 \\u00ac \\u00d2 \\u00b0 \\u00b6 m \\u00a7 \\u00a7 \\u00a6 \\u00a8 \\u00a7 \\u00a9 \\u00d3 y\\u00aa \\u00bc y7\\u00a6 \\u00a8 \\u00a7 \\u00a9 \\u00b5\\u00b0\\u00a6 \\u00a8 \\u00a7 \\u00a9 iy\\u00a6 \\u00a8\\u00a5 \\u00af\\u00aa )\\u00a6 \\u00a8\\u00c9 )\\u00ac \\u00ae \\u00b6 m\\u00b0\\u00a6 \\u00b1\\u2022 \\u00ae \\u00b6 u\\u00b9 \\u00aa )\\u00a6 \\u00b1\\u00a4 i \\u00a7 E\\u00be \\u00f2\\u00ed \\u00e7 s\\u00d0 o \\u00a7 \\u00aa ) \\u00b6 m\\u00c9 \\u00aa )\\u00a6 \\u00ca\\u00c9 $\\u00c9 7\\u00a3 \\u00a4 i\\u00a6 \\u00ca\\u00c9 \\u00ac $\\u00a6 \\u00a8\\u00a5 \\u00aa )\\u00a3 \\u00ac $\\u00c9 7\\u00a3 \\u00a4 i\\u00a6 \\u00a8\\u00c9 \\u00ac x\\u00a4 m\\u00cb R\\u00a3 \\u00a4 \\u00d4 \\u00b3 \\u00a8\\u00ac \\u00ae \\u00b6 m \\u00a7 \\u00a6 \\u00ca \\u00a7 \\u00a9 f\\u00b9 ` \\u00ac \\u00ae \\u00b6 f7\\u00a6 \\u00a8 \\u00a7 \\u00a9 \\u00b0\\u00b1\\u00ac \\u00b2 o\\u00ac \\u00ae\\u00b3 \\u00a8\\u00ac \\u00ae\\u00a5 R \\u00b6 f)\\u00ac \\u00c9 \\u00a4 i\\u00b3 y\\u00a6 \\u00ca \\u00a7 \\u00ac \\u00ae\\u00bc E\\u00be \\u00f3 \\u00f4\\u00aa 6\\u00a6 \\u00a8\\u00a5 \\u00c9 j\\u00b0\\u00b1\\u00ac \\u00ae \\u00b6 f\\u1e4d\\u00aa )\\u00a3 \\u00b6 f\\u00aa \\u00f5\\u00b0\\u00b1\\u00ac \\u00b2 \\u00a6 \\u00a8\\u00c9 j \\u00b6 m\\u00b0 \\u00b6 m \\u00a7 y\\u00bc \\u00cf\\u00a5 \\u00af\\u00d0 o \\u00a7 \\u00aa ) \\u00b6 m\\u00c9 \\u00aa )\\u00a6 \\u00a8\\u00c9 \\u00c9 7\\u00a3 \\u00a4 i\\u00a6 \\u00a8\\u00c9 \\u00ac \\u00d6 \\u00b6 f)\\u00ac \\u00a7 \\u00a4 m\\u00aa \\u00a6 \\u00a8 \\u00a7 \\u00bc \\u00ac j\\u00d2 \\u00ac \\u00ae \\u00a7 y\\u00bc \\u00ac \\u00ae \\u00a7 \\u00aa j\\u00be \\u00d8\\u00f0 \\u00a4 m\\u00b4\\u00ac \\u00b2 \\u00b6 m\\u00b3 \\u00a8\\u00d2 y\\u00b0\\u00b1\\u00ac m\\u00d3 !\\u00a6 \\u00b1\\u00cb \\u00d4 D\\u00ac x\\u00c9 7\\u00a3 \\u00a4 s\\u00a4 i\\u00a5 \\u00af\\u00ac d\\u00aa )\\u00a3 \\u00ac \\u00c3 m\\u00ac j) \\u00f6 m\\u00f7 {\\u00f8 f\\u00f9 j\\u00d3 \\u00d4 D\\u00ac \\u00b5\\u00c9 j \\u00b6 m \\u00a7 \\u00c2\\u00c9 7\\u00a3 \\u00a4 s\\u00a4 i\\u00a5 \\u00af\\u00ac \\u00cf \\u00ac j\\u00aa \\u00d1\\u00d4 y\\u00ac j\\u00ac \\u00ae \\u00a7 \\u00fa \\u00b6 \\u00d5 \\u00a7 \\u00a4 i\\u00b3 \\u00a6 \\u00a8 \\u00a7 \\u00b6 m\\u00b0\\u00a4 m\\u00d2 y)\\u00ac j\\u00d2 \\u00a4 i\\u00a5 )\\u00a6 \\u00b1\\u00aa )\\u00a6 \\u00b1\\u00a4 i \\u00a7 \\u00b6 m\\u00b0U)\\u00ac \\u00ae \\u00b6 m\\u00b0\\u00ca\\u00a6 \\u00b1\\u2022 \\u00ae \\u00b6 f\\u00aa )\\u00a6 \\u00b1\\u00a4 i \\u00a7 \\u00c1\\u00a4 m\\u00cb \\u00f5\\u00aa )\\u00a3 \\u00ac \\u00a9 m\\u00a4 i \\u00b6 m\\u00b0y \\u00b6 f)\\u00a9 io\\u00b9 \\u00b3 \\u00a8\\u00ac \\u00ae \\u00a7 \\u00aa \\u00fa\\u00e8 \\u00f4\\u00fb \\u00fc u\\u00fd \\u00fe \\u00ff\\u00f6 \\u00a1 f\\u00f8 m\\u00f9 \\u00a3\\u00a2 {\\u00fd o\\u00f9 \\u00fc \\u00a5\\u00a4 \\u00f6 \\u00a1 f\\u00fe y\\u00f7 \\u00a7\\u00a6 \\u00a8 \\u00a9\\u00a2 \\u00ea\\u00f7 \\u00ea\\u00fc m\\u00fe \\u00a9\\u00a4 F\\u00a4 m\\u00fb \\u00fc u\\u00fd \\u00fe $\\u00f6 \\u00a1 f\\u00f8 m\\u00f9 \\u00a5\\u00a4 \\u00a2 `\\u00fc \\u00a2 {\\u00fd \\u00f9 \\u00fc \\u00a5\\u00a4 \\u00ea\\u00f6 f\\u00fe \\u00f7 \\u00a6 \\u00a9\\u00a2 \\u00ea\\u00f7 \\u00fc f\\u00fe s\\u00ed r\\u00d3 \\u00d4 \\u00a4\\u00a3 y\\u00a6 \\u00a8\\u00b0\\u00b1\\u00ac \\u00a6 \\u00b1\\u00cb \\u00d4 D\\u00ac \\u00a4\\u00c9 7\\u00a3 \\u00a4 s\\u00a4 i\\u00a5 \\u00af\\u00ac ! i\\u00fc f\\u00fe \\\" \\u00a9\\u00a2 X\\u00f9 j\\u00d3 o\\u00a4 i \\u00a7 \\u00b0\\u00b1\\u00d0 \\u00aa )\\u00a3 \\u00ac 2\\u00d2 )\\u00ac j\\u00d2 \\u00a4 i\\u00a5 )\\u00a6 \\u00a8\\u00aa )\\u00a6 \\u00b1\\u00a4 i \\u00a7 \\u00b6 m\\u00b0s)\\u00ac \\u00ae \\u00b6 m\\u00b0\\u00c7\\u00b9 \\u00a6 \\u00b1\\u2022 \\u00ae \\u00b6 f\\u00aa )\\u00a6 \\u00b1\\u00a4 i \\u00a7 F\\u00a6 \\u00a8\\u00a5 \\u00f5\\u00d2 \\u00a4 i\\u00a5 )\\u00a5 )\\u00a6 \\u00b1 y\\u00b0\\u00ac m\\u00be \\u00f3 \\u00c4 \\u00a7 \\u00b3 \\u00b6 m \\u00a7 \\u00d0 B\\u00a5 \\u00af\\u00d0 o\\u00a5 \\u00af\\u00aa \\u00af\\u00ac \\u00ae\\u00b3 \\u00a5 j\\u00d3 \\u00d8\\u00b0\\u00b1\\u00ac \\u00b2 o\\u00a6 \\u00ca\\u00c9 j \\u00b6 m\\u00b0x\\u00c9 7\\u00a3 \\u00a4 i\\u00a6 \\u00a8\\u00c9 \\u00ac \\u00ff\\u00a6 \\u00a8\\u00a5 \\u00c5\\u00a3 \\u00b6 m \\u00a7 \\u00b9 \\u00bc \\u00b0\\u00ac \\u00ae\\u00bc \\u00ba\\u00a6 \\u00a8 \\u00a7 \\u00b6 \\u00f1\\u00bc \\u00a6 \\u00a8\\u00c9 \\u00aa )\\u00a6 \\u00b1\\u00a4 i \\u00a7 y \\u00b6 f)\\u00d0 \\u00d7\\u00b3 \\u00b6 f\\u00d2 \\u00d2 y\\u00a6 \\u00a8 \\u00a7 \\u00a9 \\u00cb )\\u00a4 i\\u00b3 \\u00bc \\u00a4 i\\u00b3 \\u00b6 m\\u00a6 \\u00a8 \\u00a7 \\u00c9 \\u00a4 i \\u00a7 \\u00c9 \\u00ac j\\u00d2 y\\u00aa )\\u00a5 \\u00c2\\u00e8 {\\u00a4 m\\u00ae\\u00d3 t\\u00a6 \\u00a8 \\u00a7 \\u00d7\\u00b3 \\u00b6 m\\u00c9 7\\u00a3 y\\u00a6 \\u00a8 \\u00a7 \\u00ac 3\\u00aa \\u00af7 \\u00b6 m \\u00a7 y\\u00a5 )\\u00b0 \\u00b6 f\\u00aa )\\u00a6 \\u00b1\\u00a4 i \\u00a7 \\u00e8 $# \\u00d8\\u00ef 6\\u00ed r\\u00d3 \\u00a5 \\u00af\\u00a4 i7\\u00c9 \\u00ac \\u00c8\\u00b0 \\u00b6 m \\u00a7 \\u00a9 i \\u00b6 f\\u00a9 m\\u00ac \\u00d4 D\\u00a4 m7\\u00bc \\u00a5 5\\u00aa \\u00af\\u00a4 B\\u00aa ) \\u00b6 f7\\u00a9 m\\u00ac j\\u00aa \\u00ba\\u00b0 \\u00b6 m \\u00a7 \\u00a9 i \\u00b6 f\\u00a9 m\\u00ac \\u00d4 D\\u00a4 m7\\u00bc \\u00a5 r\\u00ed r\\u00be &\\u00ef 2\\u00a3 \\u00ac \\u00ae\\u00a5 )\\u00ac Q\\u00bc \\u00a6 \\u00a8\\u00c9 \\u00aa )\\u00a6 \\u00b1\\u00a4 i \\u00a7 y \\u00b6 f7\\u00a6 \\u00b1\\u00ac \\u00ae\\u00a5 E \\u00b6 f)\\u00ac y\\u00aa X\\u00d0 s\\u00d2 y\\u00a6 \\u00a8\\u00c9 j \\u00b6 m\\u00b0\\u00b0\\u00b1\\u00d0 \\u00a3 \\u00b6 m \\u00a7 \\u00bc \\u00b9 \\u00c9 7 \\u00b6 f\\u00cb {\\u00aa \\u00af\\u00ac \\u00ae\\u00bc E\\u00be &% \\u00bf 5\\u00a3 \\u00a6 \\u00a8\\u00b0\\u00b1\\u00ac \\u00f1\\u00a5 )\\u00c9 7\\u00a3 P \\u00b6 m \\u00a7 P \\u00b6 f\\u00d2 y\\u00d2 )\\u00a4 i \\u00b6 m\\u00c9 7\\u00a3 \\u00a6 \\u00a8\\u00a5 \\u00d9\\u00d2 \\u00ac j)\\u00b9 \\u00cb {\\u00ac \\u00ae\\u00c9 \\u00aa )\\u00b0\\u00b1\\u00d0 \\u00a2)\\u00ac \\u00ae \\u00b6 m\\u00a5 \\u00af\\u00a4 i \\u00a7 \\u00b6 f y\\u00b0\\u00ac \\u00d8\\u00cb {\\u00a4 mF\\u00b3 \\u00b6 m \\u00a7 \\u00d0 \\u00f1 \\u00b6 f\\u00d2 y\\u00d2 y\\u00b0\\u00a6 \\u00a8\\u00c9 j \\u00b6 f\\u00aa )\\u00a6 \\u00b1\\u00a4 i \\u00a7 y\\u00a5 j\\u00d3 \\u00a4\\u00ac \\u00ae\\u00a5 \\u00c4\\u00b9 \\u00d2 \\u00ac \\u00ae\\u00c9 j\\u00a6 \\u00a8 \\u00b6 m\\u00b0\\u00b0\\u00d0 \\u00cf\\u00aa )\\u00a3 \\u00a4 i\\u00a5 )\\u00ac t\\u00a6 \\u00a8 \\u00a7 x\\u00d4 6\\u00a3 \\u00a6 \\u00a8\\u00c9 7\\u00a3 F\\u00b0\\u00a6 \\u00a8 \\u00a7 \\u00a9 i\\u00a6 \\u00ca\\u00a5 \\u00af\\u00aa )\\u00a6 \\u00a8\\u00c9 R\\u00c3 u \\u00b6 f\\u0155\\u00a6 \\u00a8 \\u00b6 f\\u00aa )\\u00a6 \\u00b1\\u00a4 i \\u00a7 F\\u00a6 \\u00ca \\u00a7 \\u00aa )\\u00a3 \\u00ac t\\u00aa ) \\u00b6 f)\\u00a9 m\\u00ac j\\u00aa R\\u00aa \\u00af\\u00ac \\u00b2 s\\u00aa )\\u00a5 R\\u00a6 \\u00a8\\u00a5 27\\u00ac \\u00ae\\u00a5 \\u00af\\u00aa \\u00af7\\u00a6 \\u00a8\\u00c9 \\u00aa \\u00af\\u00ac \\u00ae\\u00bc E\\u00d3 y\\u00aa )\\u00a3 \\u00ac j)\\u00ac t \\u00b6 f7\\u00ac t \\u00b6 f\\u00d2 \\u00d2 y\\u00b0\\u00ca\\u00a6 \\u00c7\\u00b9 \\u00c9 j \\u00b6 f\\u00aa )\\u00a6 \\u00b1\\u00a4 i \\u00a7 y\\u00a5 \\u00e8 \\u00ea\\u00a6 \\u00ca \\u00a7 \\u00c9 j\\u00b0\\u00bc \\u00a6 \\u00ca \\u00a7 \\u00a9 \\u00a8\\u00b3 \\u00b6 m \\u00a7 \\u00d0 '# \\u00d8\\u00ef \\u00b6 f\\u00d2 \\u00d2 y\\u00b0\\u00a6 \\u00ca\\u00c9 j \\u00b6 f\\u00aa )\\u00a6 \\u00b1\\u00a4 i \\u00a7 \\u00a5 r\\u00ed \\u00f5\\u00a6 \\u00ca \\u00a7 \\u00d4 \\u00a4\\u00a3 y\\u00a6 \\u00a8\\u00c9 7\\u00a3 \\u00d5\\u00aa )\\u00a3 \\u00ac 7 \\u00b6 m \\u00a7 \\u00a9 m\\u00ac \\u00a4 m\\u00cb y\\u00b0\\u00ca\\u00a6 \\u00a8 \\u00a7 \\u00a9 i\\u00a6 \\u00a8\\u00a5 )\\u00aa )\\u00a6 \\u00a8\\u00c9 \\u00d6\\u00c3 f \\u00b6 f7\\u00a6 \\u00a8 \\u00b6 f\\u00aa )\\u00a6 \\u00b1\\u00a4 i \\u00a7 \\u00d5\\u00a4 m\\u00cb Q\\u00aa )\\u00a3 \\u00ac \\u00aa \\u00af\\u00ac \\u00b2 o\\u00aa )\\u00a5 \\u00aa \\u00af\\u00a4 \\u00cf \\u00ac t\\u00a9 m\\u00ac \\u00ae \\u00a7 \\u00ac j7 \\u00b6 f\\u00aa \\u00af\\u00ac \\u00ae\\u00bc \\u00c1\\u00a6 \\u00a8\\u00a5 6\\u00cb { \\u00b6 f\\u0154\\u00aa \\u00af\\u00a4 s\\u00a4 \\u00b5\\u00c3 f \\u00b6 m\\u00a5 \\u00af\\u00aa R\\u00aa \\u00af\\u00a4 x \\u00b6 m\\u00b0\\u00b0\\u00b1\\u00a4 \\u00d4 \\u00cb {\\u00a4 mD\\u00a3 y \\u00b6 m \\u00a7 \\u00bc o\\u00b9 X\\u00c9 \\u00a4 o\\u00bc \\u00a6 \\u00a8 \\u00a7 \\u00a9 \\u00d6\\u00a4 m\\u00cb E\\u00bc \\u00a6 \\u00a8\\u00c9 \\u00aa )\\u00a6 \\u00a8\\u00a4 i \\u00a7 \\u00b6 f7\\u00a6 \\u00b1\\u00ac \\u00ae\\u00a5 j\\u00be &\\u00f0 7\\u00aa )\\u00a3 \\u00ac j7\\u00b3 \\u00a8\\u00a4 m)\\u00ac m\\u00d3 \\u00ac j\\u00c3 m\\u00ac \\u00ae \\u00a7 \\u00d8\\u00cb {\\u00a4 m6\\u00bc \\u00a4 i\\u00b3 \\u00b6 m\\u00a6 \\u00ca \\u00a7 \\u00a5 2\\u00d4 \\u00a4\\u00a6 \\u00a8\\u00aa )\\u00a3 F \\u00b6 \\u00ab\\u00b0\\u00ca\\u00a6 \\u00a8\\u00b3 \\u00a6 \\u00b1\\u00aa \\u00af\\u00ac \\u00ae\\u00bc x\\u0155 \\u00b6 m \\u00a7 \\u00a9 m\\u00ac \\u00a4 m\\u00cb !\\u00b0\\u00a6 \\u00ca \\u00a7 o\\u00b9 \\u00a9 i\\u00a6 \\u00ca\\u00a5 \\u00af\\u00aa )\\u00a6 \\u00a8\\u00c9 R\\u00c3 u \\u00b6 f\\u0155\\u00a6 \\u00a8 \\u00b6 f\\u00aa )\\u00a6 \\u00b1\\u00a4 i \\u00a7 E\\u00d3 o\\u00aa )\\u00a3 \\u00ac \\u00d6\\u00aa ) \\u00b6 m\\u00a5 \\u00af\\u00bd d\\u00a4 m\\u00cb &\\u00a3 \\u00b6 m \\u00a7 \\u00bc o\\u00b9 X\\u00c9 \\u00a4 o\\u00bc \\u00a6 \\u00a8 \\u00a7 \\u00a9 t\\u00aa )\\u00a3 \\u00ac \\u00a7 \\u00ac \\u00ae\\u00c9 \\u00ac \\u00ae\\u00a5 7\\u00a5 ) \\u00b6 f)\\u00d0 )\\u00ac \\u00ae\\u00a5 \\u00af\\u00a4 i\\u0155\\u00c9 \\u00ac \\u00ae\\u00a5 Q\\u00c9 j \\u00b6 m \\u00a7 \\u00ac \\u00cb {\\u00a4 m7\\u00b3 \\u00a6 \\u00a8\\u00bc y \\u00b6 f y\\u00b0\\u00b1\\u00ac \\u00f5\\u00d4 \\u00a4\\u00a3 \\u00ac \\u00ae \\u00a7 \\u00b6 \\u00a9 m\\u00ac \\u00ae \\u00a7 \\u00ac j\\u0155 \\u00b6 f\\u00aa )\\u00a6 \\u00b1\\u00a4 i \\u00a7 \\u00c5\\u00a5 \\u00af\\u00d0 o\\u00a5 \\u00af\\u00aa \\u00af\\u00ac \\u00ae\\u00b3 \\u00b3 \\u00a5 \\u00af\\u00aa \\u00ac \\u00b5\\u00d2 \\u00a4 m)\\u00aa \\u00af\\u00ac \\u00ae\\u00bc \\u00c2\\u00aa \\u00af\\u00a4 3 \\u00b6 \\u00c1 \\u00a7 \\u00ac j\\u00d4 \\u00bc \\u00a4 i\\u00b3 \\u00ab \\u00b6 m\\u00a6 \\u00a8 \\u00a7 E\\u00d3 \\u00b6 \\u00a7 \\u00ac j\\u00d4 \\u00a2\\u00a9 m\\u00ac \\u00ae \\u00a7 )\\u00ac m\\u00d3 s\\u00a4 m\\u1e4d\\u00ac \\u00ae\\u00a5 \\u00af\\u00d2 \\u00ac \\u00ae\\u00c9 j\\u00a6 \\u00a8 \\u00b6 m\\u00b0\\u00b0\\u00b1\\u00d0 \\u00b6 t \\u00a7 \\u00ac j\\u00d4 \\u00a2\\u00b0 \\u00b6 m \\u00a7 \\u00b9 \\u00a9 i \\u00b6 f\\u00a9 m\\u00ac m\\u00be \\u00f3 \\u00c4 \\u00a7 \\u00a5 \\u00af\\u00ac \\u00ae\\u00b3 \\u00ab\\u00a6 \\u00a8 \\u00a7 \\u00b6 m\\u00b0\\u00d4 D\\u00a4 m)\\u00bd \\u00d3 \\u00eb \\u00b6 m \\u00a7 \\u00a9 m\\u00bd s\\u00a6 \\u00ca\\u00b0\\u00bc \\u00ac \\u00d6 \\u00b6 m \\u00a7 \\u00bc '( \\u00a7 y\\u00a6 \\u00b1\\u00a9 i\\u00a3 \\u00aa \\u00e8 0) \\u00ae\\u00da m\\u00da \\u00a91 o\\u00ed \\u00a3 \\u00b6 \\u00c3 m\\u00ac \\u00a5 \\u00af\\u00ac \\u00ae\\u00bc \\u00b6 \\u00b0 \\u00b6 m \\u00a7 \\u00a9 i \\u00b6 f\\u00a9 m\\u00ac q\\u00b3 \\u00a8\\u00a4 s\\u00bc \\u00ac \\u00ae\\u00b0\\u00c5 \\u00b6 m\\u00a5 P \\u00b6 I\\u00d4 D \\u00b6 \\u00d0 \\u00a4 m\\u00cb \\u00d7\\u00c9 7\\u00a3 \\u00a4 s\\u00a4 i\\u00a5 )\\u00a6 \\u00a8 \\u00a7 \\u00a9 \\u00b6 m\\u00b3 \\u00a8\\u00a4 i \\u00a7 \\u00a9 \\u00bc \\u00a6 \\u00b1AE \\u00ac j)\\u00ac \\u00ae \\u00a7 \\u00aa y\\u00b0\\u00ac \\u00b2 o\\u00a6 \\u00a8\\u00c9 j \\u00b6 m\\u00b0 \\u00b6 m \\u00a7 \\u00bc \\u00ab\\u00a5 )\\u00d0 s \\u00a7 \\u00aa ) \\u00b6 m\\u00c9 \\u00aa )\\u00a6 \\u00a8\\u00c9 R\\u00a4 m\\u00d2 \\u00aa )\\u00a6 \\u00b1\\u00a4 i \\u00a7 \\u00a5 \\u00ae\\u00be \\u00f3 \\u00c4 \\u00a7 \\u00e8 \\u00ea\\u00cc \\u00f5 \\u00b6 m \\u00a7 \\u00a9 i \\u00b6 m\\u00b0\\u00a4 m)\\u00ac \\u00cd \\u00b6 m \\u00a7 y\\u00bc 2 6 \\u00b6 m\\u00b3 \\u00a4 \\u00d4 \\u00d3 43 f\\u00db m\\u00db m\\u00db \\u00ed r\\u00d3 \\u00d4 y\\u00ac \\u00d2 7\\u00ac \\u00ae\\u00a5 \\u00af\\u00ac \\u00ae \\u00a7 \\u00aa 3 \\u00b6 \\u00d7\\u00b3 \\u00a4 s\\u00bc \\u00ac \\u00ae\\u00b0\\u00a4 m\\u00cb d\\u00a5 \\u00af\\u00d0 o \\u00a7 \\u00aa ) \\u00b6 m\\u00c9 \\u00aa )\\u00a6 \\u00a8\\u00c9 \\u00bb\\u00c9 7\\u00a3 \\u00a4 i\\u00a6 \\u00a8\\u00c9 \\u00ac \\u00d4 6\\u00a3 \\u00a6 \\u00a8\\u00c9 7\\u00a3 \\u00a6\\u00d3 \\u00b0\\u00a6 \\u00a8\\u00bd m\\u00ac d\\u00eb \\u00b6 m \\u00a7 \\u00a9 m\\u00bd o\\u00a6 \\u00a8\\u00b0\\u00bc \\u00ac \\u00d6 \\u00b6 m \\u00a7 \\u00bc '( \\u00a7 \\u00a6 \\u00b1\\u00a9 i\\u00a3 \\u00aa \\u00d6\\u00e8 0) \\u00ae\\u00da m\\u00da \\u00a91 s\\u00ed t)\\u00ac \\u00ae\\u00b0\\u00a6 \\u00b1\\u00ac \\u00ae\\u00a5 \\u00a4 i \\u00a7 \\u00c5 \\u00b6 \\u00b0\\u00a6 \\u00ca \\u00a7 \\u00ac \\u00ae \\u00b6 fx\\u00b0 \\u00b6 m \\u00a7 \\u00a9 i \\u00b6 f\\u00a9 m\\u00ac \\u00c1\\u00b3 \\u00a8\\u00a4 o\\u00bc \\u00ac \\u00ae\\u00b0\\u00d3 6 y\\u00aa d \\u00a7 \\u00b0\\u00a6 \\u00b1\\u00bd m\\u00ac \\u00d8\\u00aa )\\u00a3 \\u00ac \\u00ae\\u00a6 \\u00b1x \\u00b6 f\\u00d2 \\u00b9 \\u00d2 7\\u00a4 i \\u00b6 m\\u00c9 7\\u00a3 E\\u00d3 \\u00b6 m\\u00b0\\u00ca\\u00a5 \\u00af\\u00a4 x\\u00a5 \\u00af\\u00ac \\u00ae\\u00a5 \\u00d6 \\u00b6 \\u00b5\\u00aa \\u00af)\\u00ac j\\u00ac \\u00b9 ` y \\u00b6 m\\u00a5 \\u00af\\u00ac \\u00ae\\u00bc 3)\\u00ac j\\u00d2 )\\u00ac \\u00ae\\u00a5 \\u00af\\u00ac \\u00ae \\u00a7 \\u00aa ) \\u00b6 f\\u00aa )\\u00a6 \\u00b1\\u00a4 i \\u00a7 \\u00a4 m\\u00cb R\\u00a5 \\u00af\\u00d0 s \\u00a7 \\u00aa ) \\u00b6 m\\u00c9 \\u00aa )\\u00a6 \\u00a8\\u00c9 x\\u00a5 \\u00af\\u00aa \\u00af\\u0155\\u00c9 \\u00aa ))\\u00ac m\\u00d3 ! \\u00b6 \\u00d8\\u00aa \\u00af)\\u00ac j\\u00ac x\\u00b3 \\u00a8\\u00a4 o\\u00bc \\u00ac \\u00ae\\u00b0\\u00d3 ! \\u00b6 m \\u00a7 \\u00bc \\u00fa \\u00b6 m \\u00a7 \\u00a6 \\u00a8 \\u00a7 y\\u00bc \\u00ac j\\u00d2 \\u00ac \\u00ae \\u00a7 \\u00bc \\u00ac \\u00ae \\u00a7 \\u00aa )\\u00b0\\u00b1\\u00d0 \\u00a3 \\u00b6 m \\u00a7 \\u00bc o\\u00b9 X\\u00c9 7 \\u00b6 f\\u00cb {\\u00aa \\u00af\\u00ac \\u00ae\\u00bc \\u00a9 m7 \\u00b6 m\\u00b3 \\u00b3 \\u00ab \\u00b6 f\\u00ae\\u00be \\u00bf \\u00c1\\u00ac \\u00a5 )\\u00a3 \\u00a4 \\u00d4 \\u00aa )\\u00a3 \\u00b6 f\\u00aa \\u00ba\\u00aa )\\u00a3 \\u00ac \\u00b6 m\\u00bc \\u00bc \\u00a6 \\u00b1\\u00aa )\\u00a6 \\u00a8\\u00a4 i \\u00a7 \\u00c0\\u00a4 m\\u00cb \\u00aa )\\u00a3 \\u00ac \\u00aa \\u00af7\\u00ac j\\u00ac \\u00b9 ` y \\u00b6 m\\u00a5 \\u00af\\u00ac \\u00ae\\u00bc \\u00b3 \\u00a8\\u00a4 o\\u00bc \\u00ac \\u00ae\\u00b0P\\u00a6 \\u00a8\\u00b3 \\u00a8\\u00d2 )\\u00a4 d\\u00c3 m\\u00ac \\u00ae\\u00a5 I\\u00aa )\\u00a3 \\u00ac \\u00d2 \\u00ac j)\\u00cb \\u00a4 m\\u0155\\u00b3 \\u00b6 m \\u00a7 \\u00c9 \\u00ac \\u00a4 m\\u00cb B\\u00aa )\\u00a3 \\u00ac \\u00a5 \\u00af\\u00d0 o \\u00a7 \\u00aa ) \\u00b6 m\\u00c9 \\u00aa )\\u00a6 \\u00a8\\u00c9 \\u00ab\\u00c9 r\\u00a3 \\u00a4 i\\u00a6 \\u00a8\\u00c9 \\u00ac \\u00cf\\u00b3 \\u00a4 s\\u00bc y\\u00b0\\u00b1\\u00ac m\\u00be \\u00ef 2\\u00a3 \\u00ac \\u00a5 \\u00af\\u00d0 o\\u00a5 \\u00af\\u00aa \\u00af\\u00ac \\u00ae\\u00b3 x\\u00d3 &\\u00c9 j \\u00b6 m\\u00b0\\u00b0\\u00b1\\u00ac \\u00ae\\u00bc\"],[\"A New Statistical Approach to Chinese Pinyin Input\"],[\"An Unsupervised Approach to Prepositional Phrase Attachment using Contextually Similar Words\"],[\"Computational Linguistics Research on Philippine Languages\"],[\"Multi-Component TAG and Notions of Formal Power\"],[\"\"],[\"\"]],\"hovertemplate\":\"year=2000<br>x1=%{x}<br>x2=%{y}<br>hover_data_0=%{customdata[0]}<extra></extra>\",\"legendgroup\":\"2000\",\"marker\":{\"color\":\"#636efa\",\"symbol\":\"circle\"},\"mode\":\"markers\",\"name\":\"2000\",\"orientation\":\"v\",\"showlegend\":true,\"x\":[0.9000629782676697,-0.11202390491962433,0.9000629782676697,0.9000629782676697,-0.17742954194545746,-0.21802100539207458,-0.2391291856765747,0.9000629782676697,0.19394412636756897,0.06998760998249054,-0.2737564742565155,-0.3015182614326477,0.9000629782676697,-0.20169325172901154,0.9000629782676697,-0.2848079204559326,0.9000629782676697,-0.1530512124300003,-0.11053528636693954,0.9000629782676697,0.9000629782676697,-0.079283706843853,0.9000629782676697,0.9000629782676697,-0.19583196938037872,0.9000629782676697,-0.25167858600616455,-0.02448500320315361,0.9000629782676697,-0.1612459421157837,0.9000629782676697,0.9000629782676697,0.9000629782676697,0.9000629782676697,-0.16096192598342896,-0.13717322051525116,0.9000629782676697,0.9000629782676697,0.9000629782676697,0.9000629782676697,0.9000629782676697,-0.19525088369846344,0.9000629782676697,-0.08865126967430115,0.18635153770446777,0.9000629782676697,-0.06811291724443436,0.9000629782676697,-0.27859488129615784,0.9000629782676697,-0.26563313603401184,-0.11421126872301102,-0.09002211689949036,-0.10704285651445389,0.9000629782676697,0.9000629782676697,0.9000629782676697,-0.12559284269809723,0.9000629782676697,0.9000629782676697,-0.12478954344987869,-0.2272714227437973,-0.14445586502552032,-0.27281299233436584,-0.17860130965709686,-0.16133539378643036,-0.1789042055606842,0.9000629782676697,0.06155385449528694,0.9000629782676697,-0.025077488273382187,0.16197586059570312,0.9000629782676697,0.9000629782676697,-0.13720344007015228,-0.16261298954486847,-0.13659843802452087,-0.1569313257932663,0.9000629782676697,0.9000629782676697],\"xaxis\":\"x\",\"y\":[-0.025013206526637077,0.40465855598449707,-0.025013206526637077,-0.025013206526637077,-0.24177750945091248,0.13899461925029755,0.11087671667337418,-0.025013206526637077,0.3471721410751343,0.38060593605041504,0.37736156582832336,0.10374264419078827,-0.025013206526637077,0.1790686696767807,-0.025013206526637077,0.07426812499761581,-0.025013206526637077,0.3112093508243561,0.3655030429363251,-0.025013206526637077,-0.025013206526637077,-0.04809781536459923,-0.025013206526637077,-0.025013206526637077,0.38445553183555603,-0.025013206526637077,-0.14784158766269684,0.0037270092871040106,-0.025013206526637077,0.10070154070854187,-0.025013206526637077,-0.025013206526637077,-0.025013206526637077,-0.025013206526637077,0.13023537397384644,0.15970508754253387,-0.025013206526637077,-0.025013206526637077,-0.025013206526637077,-0.025013206526637077,-0.025013206526637077,0.196110337972641,-0.025013206526637077,0.2293764352798462,0.36334705352783203,-0.025013206526637077,0.15583106875419617,-0.025013206526637077,0.23121826350688934,-0.025013206526637077,0.12336061149835587,0.34480687975883484,0.18117061257362366,-0.02813289314508438,-0.025013206526637077,-0.025013206526637077,-0.025013206526637077,0.19608059525489807,-0.025013206526637077,-0.025013206526637077,0.3390841782093048,0.15323731303215027,0.27979177236557007,0.18265296518802643,0.3503528833389282,0.40975725650787354,0.2787646949291229,-0.025013206526637077,0.39663174748420715,-0.025013206526637077,0.27951595187187195,0.4111110270023346,-0.025013206526637077,-0.025013206526637077,0.33395102620124817,-0.02903931774199009,0.3981214165687561,0.21377642452716827,-0.025013206526637077,-0.025013206526637077],\"yaxis\":\"y\",\"type\":\"scatter\"},{\"customdata\":[[\"Understanding the Semantic Structure of Noun Phrase Queries\"],[\"Optimizing Informativeness and Readability for Sentiment Summarization\"],[\"Evaluating Multilanguage-Comparability of Subjectivity Analysis Systems\"],[\"String Extension Learning\"],[\"Using Parse Features for Preposition Selection and Error Detection\"],[\"GernEdiT: A Graphical Tool for GermaNet Development\"],[\"Balancing User Effort and Translation Error in Interactive Machine Translation Via Confidence Measures\"],[\"Modeling Semantic Relevance for Question-Answer Pairs in Web Social Communities\"],[\"Learning to Translate with Source and Target Syntax\"],[\"Sentiment Translation through Lexicon Induction\"],[\"A hybrid rule/model-based finite-state framework for normalizing SMS messages\"],[\"Simultaneous Tokenization and Part-of-Speech Tagging for Arabic without a Morphological Analyzer\"],[\"Open Information Extraction using Wikipedia\"],[\"On the Computational Complexity of Dominance Links in Grammatical Formalisms\"],[\"\"],[\"Bitext Dependency Parsing with Bilingual Subtree Constraints\"],[\"WSD as a Distributed Constraint Optimization Problem\"],[\"Towards Open-Domain Semantic Role Labeling\"],[\"The use of formal language models in the typology of the morphology of Amerindian languages\"],[\"Simple, Accurate Parsing with an All-Fragments Grammar\"],[\"Conditional Random Fields for Word Hyphenation\"],[\"An Active Learning Approach to Finding Related Terms\"],[\"Discriminative Pruning for Discriminative ITG Alignment\"],[\"Modeling Norms of Turn-Taking in Multi-Party Conversation\"],[\"Arabic Named Entity Recognition: Using Features Extracted from Noisy Data\"],[\"Detecting Errors in Automatically-Parsed Dependency Relations\"],[\"Starting From Scratch in Semantic Role Labeling\"],[\"Dynamic Programming for Linear-Time Incremental Parsing\"],[\"An Exact A* Method for Deciphering Letter-Substitution Ciphers\"],[\"Computing weakest readings\"],[\"Active Learning-Based Elicitation for Semi-Supervised Word Alignment\"],[\"Multilingual Pseudo-Relevance Feedback: Performance Study of Assisting Languages\"],[\"Semantic Parsing: The Task, the State-of-the-Art and the Future\"],[\"Improving Statistical Machine Translation with Monolingual Collocation\"],[\"A Tree Transducer Model for Synchronous Tree-Adjoining Grammars\"],[\"The Importance of Rule Restrictions in CCG\"],[\"Assessing the Role of Discourse References in Entailment Inference\"],[\"PCFGs, Topic Models, Adaptor Grammars and Learning Topical Collocations and the Structure of Proper Names\"],[\"The Prevalence of Descriptive Referring Expressions in News and Narrative\"],[\"Better Filtration and Augmentation for Hierarchical Phrase-Based Translation Rules\"],[\"Global Learning of Focused Entailment Graphs\"],[\"Edit Tree Distance alignments for Semantic Role Labelling\"],[\"Latent variable models of selectional preference\"],[\"BEETLE II: a system for tutoring and computational linguistics experimentation\"],[\"Intelligent Selection of Language Model Training Data\"],[\"A Risk Minimization Framework for Extractive Speech Summarization\"],[\"Generating Focused Topic-specific Sentiment Lexicons\"],[\"Talking NPCs in a Virtual Game World\"],[\"Cross-Lingual Latent Topic Extraction\"],[\"Syntax-to-Morphology Mapping in Factored Phrase-Based Statistical Machine Translation from English to Turkish\"],[\"\"],[\"A Transition-Based Parser for 2-Planar Dependency Structures\"],[\"Sparsity in Dependency Grammar Induction\"],[\"Extraction and Approximation of Numerical Attributes from the Web\"],[\"Finding Cognate Groups using Phylogenies\"],[\"The Influence of Discourse on Syntax A Psycholinguistic Model of Sentence Processing\"],[\"Supervised Noun Phrase Coreference Research: The First Fifteen Years\"],[\"Using Smaller Constituents Rather Than Sentences in Active Learning for Japanese Dependency Parsing\"],[\"Cross-Language Document Summarization Based on Machine Translation Quality Prediction\"],[\"Minimized models and grammar-informed initialization for supertagging with highly ambiguous lexicons\"],[\"Convolution Kernel over Packed Parse Forest\"],[\"Identifying Text Polarity Using Random Walks\"],[\"The Same-head Heuristic for Coreference\"],[\"Word representations: A simple and general method for semi-supervised learning\"],[\"A Cognitive Cost Model of Annotations Based on Eye-Tracking Data\"],[\"Growing Related Words from Seed via User Behaviors: A Re-ranking Based Approach\"],[\"\"],[\"Tree-based and Forest-based Translation\"],[\"Efficient Inference Through Cascades of Weighted Tree Transducers\"],[\"Mood Patterns and Affective Lexicon Access in Weblogs\"],[\"Optimising Information Presentation for Spoken Dialogue Systems\"],[\"Predicate Argument Structure Analysis using Transformation-based Learning\"],[\"A new Approach to Improving Multilingual Summarization using a Genetic Algorithm\"],[\"Bootstrapping Semantic Analyzers from Non-Contradictory Texts\"],[\"Coreference Resolution across Corpora: Languages, Coding Schemes, and Preprocessing Information\"],[\"Joint Syntactic and Semantic Parsing of Chinese\"],[\"Knowledge-rich Word Sense Disambiguation Rivaling Supervised Systems\"],[\"Generating Fine-Grained Reviews of Songs From Album Reviews\"],[\"Grammar Prototyping and Testing with the LinGO Grammar Matrix Customization System\"],[\"Plot Induction and Evolutionary Search for Story Generation\"]],\"hovertemplate\":\"year=2010<br>x1=%{x}<br>x2=%{y}<br>hover_data_0=%{customdata[0]}<extra></extra>\",\"legendgroup\":\"2010\",\"marker\":{\"color\":\"#EF553B\",\"symbol\":\"circle\"},\"mode\":\"markers\",\"name\":\"2010\",\"orientation\":\"v\",\"showlegend\":true,\"x\":[-0.2524316608905792,-0.22034651041030884,-0.17166854441165924,-0.14730991423130035,-0.16845005750656128,-0.19057196378707886,-0.18077456951141357,-0.19158434867858887,-0.3121035099029541,-0.19260439276695251,-0.2225259393453598,-0.19970703125,-0.2996796667575836,-0.06666143238544464,0.9000629782676697,-0.3352418541908264,-0.1938331127166748,-0.24574458599090576,-0.1010231152176857,-0.24216383695602417,-0.21582335233688354,-0.20664829015731812,-0.18697987496852875,-0.08307800441980362,-0.13091416656970978,-0.28629279136657715,-0.25704047083854675,-0.25292593240737915,-0.07959672808647156,-0.200814887881279,-0.19406747817993164,-0.1807618886232376,0.9000629782676697,-0.2853330671787262,-0.15627244114875793,-0.152883842587471,-0.2387838512659073,-0.3117973208427429,-0.23674780130386353,-0.2982521653175354,-0.23752176761627197,-0.25239670276641846,-0.22541992366313934,-0.08161086589097977,-0.288072794675827,-0.26244330406188965,-0.16399405896663666,-0.04290137439966202,-0.2512533366680145,-0.2566445469856262,0.9000629782676697,-0.2817940413951874,-0.2558402717113495,-0.20269960165023804,-0.19401240348815918,-0.2877665162086487,-0.24628867208957672,-0.21925629675388336,-0.21925534307956696,-0.1669187992811203,-0.18704970180988312,-0.2299497127532959,-0.29027262330055237,-0.2398395538330078,-0.25391703844070435,-0.1564338058233261,0.9000629782676697,0.9000629782676697,-0.2519533932209015,-0.13607020676136017,-0.14547096192836761,-0.2704593241214752,-0.25899767875671387,-0.3000457286834717,-0.2629477083683014,-0.25943711400032043,-0.2039671540260315,-0.14780347049236298,-0.12395410984754562,-0.21346941590309143],\"xaxis\":\"x\",\"y\":[-0.037055354565382004,-0.18350036442279816,0.013216923922300339,0.15263071656227112,0.11007699370384216,0.08205895125865936,0.15699206292629242,-0.30511000752449036,0.2599584460258484,0.006322487257421017,0.23236507177352905,0.11218618601560593,-0.08355332165956497,0.38484030961990356,-0.025013206526637077,0.1958474963903427,-0.0188024640083313,-0.128813698887825,0.5212495923042297,0.1779804825782776,0.2641059160232544,-0.14588527381420135,0.26677653193473816,-0.06608714908361435,0.12223076075315475,0.2160015106201172,0.020715583115816116,0.14706847071647644,0.35690608620643616,0.013526184484362602,-0.019438141956925392,0.1765282154083252,-0.025013206526637077,0.24132820963859558,0.5084146857261658,0.41033074259757996,-0.09732726961374283,0.05515822023153305,-0.2119312882423401,0.3245998024940491,-0.04452216625213623,0.0784706249833107,-0.062072962522506714,0.05383625626564026,-0.03893835097551346,-0.15560902655124664,-0.17883959412574768,0.0015491379890590906,-0.009338750503957272,0.14128325879573822,-0.025013206526637077,0.20845939218997955,0.1594824641942978,-0.12532854080200195,0.22842945158481598,-0.0012026119511574507,-0.0955922082066536,0.040486883372068405,-0.06833744794130325,0.128971666097641,-0.0845627635717392,-0.1392042189836502,-0.09792808443307877,-0.08017181605100632,0.019113216549158096,0.04132784530520439,-0.025013206526637077,-0.025013206526637077,0.36738768219947815,-0.08586513251066208,-0.23600497841835022,0.14445844292640686,-0.16752272844314575,-0.15371060371398926,0.05292820185422897,0.145991250872612,-0.1781700849533081,-0.2367575317621231,0.29156824946403503,-0.17680369317531586],\"yaxis\":\"y\",\"type\":\"scatter\"},{\"customdata\":[[\"Latent Variable Sentiment Grammar *\"],[\"Soft Contextual Data Augmentation for Neural Machine Translation\"],[\"Data Programming for Learning Discourse Structure\"],[\"Neural Relation Extraction for Knowledge Base Enrichment\"],[\"\"],[\"Cross-Domain Generalization of Neural Constituency Parsers\"],[\"Scaling Up Open Tagging from Tens to Thousands: Comprehension Empowered Attribute Value Extraction from Product Title\"],[\"What Makes a Good Counselor? Learning to Distinguish between High-quality and Low-quality Counseling Conversations\"],[\"Avoiding Reasoning Shortcuts: Adversarial Evaluation, Training, and Model Development for Multi-Hop QA\"],[\"GraphRel: Modeling Text as Relational Graphs for Joint Entity and Relation Extraction\"],[\"Constrained Decoding for Neural NLG from Compositional Representations in Task-Oriented Dialogue\"],[\"Improving the Similarity Measure of Determinantal Point Processes for Extractive Multi-Document Summarization\"],[\"StRE: Self Attentive Edit Quality Prediction in Wikipedia\"],[\"Employing the Correspondence of Relations and Connectives to Identify Implicit Discourse Relations via Label Embeddings\"],[\"Discourse Representation Parsing for Sentences and Documents\"],[\"PERSPECTROSCOPE: A Window to the World of Diverse Perspectives\"],[\"An Interactive Multi-Task Learning Network for End-to-End Aspect-Based Sentiment Analysis\"],[\"Ordinal and Attribute Aware Response Generation in a Multimodal Dialogue System\"],[\"How to best use Syntax in Semantic Role Labelling\"],[\"Multi-Grained Named Entity Recognition\"],[\"Language Modeling with Shared Grammar\"],[\"How multilingual is Multilingual BERT?\"],[\"Uncovering Probabilistic Implications in Typological Knowledge Bases\"],[\"Translating Translationese: A Two-Step Approach to Unsupervised Machine Translation\"],[\"Latent Variable Model for Multi-modal Translation\"],[\"Observing Dialogue in Therapy: Categorizing and Forecasting Behavioral Codes\"],[\"Texar: A Modularized, Versatile, and Extensible Toolkit for Text Generation\"],[\"Multi-News: a Large-Scale Multi-Document Summarization Dataset and Abstractive Hierarchical Model\"],[\"Fine-tuning Pre-Trained Transformer Language Models to Distantly Supervised Relation Extraction\"],[\"Training Hybrid Language Models by Marginalizing over Segmentations\"],[\"Distantly Supervised Named Entity Recognition using Positive-Unlabeled Learning\"],[\"Automated Chess Commentator Powered by Neural Chess Engine\"],[\"My Turn To Read: An Interleaved E-book Reading Tool for Developing and Struggling Readers\"],[\"Continual and Multi-Task Architecture Search\"],[\"Learning from omission\"],[\"Generating Long and Informative Reviews with Aspect-Aware Coarse-to-Fine Decoding\"],[\"Neural Response Generation with Meta-Words\"],[\"Task Refinement Learning for Improved Accuracy and Stability of Unsupervised Domain Adaptation\"],[\"Improving the Robustness of Question Answering Systems to Question Paraphrasing\"],[\"Yes, we can! Mining Arguments in 50 Years of US Presidential Campaign Debates\"],[\"Knowledge discovery and hypothesis generation from online patient forums: A research proposal\"],[\"Towards Lossless Encoding of Sentences\"],[\"Learning Latent Trees with Stochastic Perturbations and Differentiable Dynamic Programming\"],[\"Scoring Sentence Singletons and Pairs for Abstractive Summarization\"],[\"Synthetic QA Corpora Generation with Roundtrip Consistency\"],[\"Neural News Recommendation with Long-and Short-term User Representations\"],[\"Correlating neural and symbolic representations of language\"],[\"JW300: A Wide-Coverage Parallel Corpus for Low-Resource Languages\"],[\"STRASS: A Light and Effective Method for Extractive Summarization Based on Sentence Embeddings\"],[\"Distributed Knowledge Based Clinical Auto-Coding System\"],[\"MC 2 : Multi-perspective Convolutional Cube for Conversational Machine Reading Comprehension\"],[\"Optimal Transport-based Alignment of Learned Character Representations for String Similarity\"],[\"Attention over Heads: A Multi-Hop Attention for Neural Machine Translation\"],[\"AlpacaTag: An Active Learning-based Crowd Annotation Framework for Sequence Tagging\"],[\"Towards Comprehensive Description Generation from Factual Attribute-value Tables\"],[\"Towards Turkish Abstract Meaning Representation\"],[\"Predicting Human Activities from User-Generated Content\"],[\"Decompositional Argument Mining: A General Purpose Approach for Argument Graph Construction\"],[\"Sentence Centrality Revisited for Unsupervised Summarization\"],[\"Learning to Select, Track, and Generate for Data-to-Text\"],[\"Generating Natural Language Adversarial Examples through Probability Weighted Word Saliency\"],[\"Annotation and Automatic Classification of Aspectual Categories\"],[\"Convolutional Neural Networks for Financial Text Regression\"],[\"Cognitive Graph for Multi-Hop Reading Comprehension at Scale\"],[\"Visually Grounded Neural Syntax Acquisition\"],[\"A Hierarchical Reinforced Sequence Operation Method for Unsupervised Text Style Transfer\"],[\"Extracting Multiple-Relations in One-Pass with Pre-Trained Transformers\"],[\"Collaborative Dialogue in Minecraft\"],[\"Personalizing Dialogue Agents via Meta-Learning\"],[\"Automatic Generation of High Quality CCGbanks for Parser Domain Adaptation\"],[\"Multilingual Unsupervised NMT using Shared Encoder and Language-Specific Decoders\"],[\"Controllable Text Simplification with Lexical Constraint Loss\"],[\"Delta Embedding Learning\"],[\"Message from the General Chair\"],[\"Sentiment Tagging with Partial Labels using Modular Architectures\"],[\"Revisiting Joint Modeling of Cross-document Entity and Event Coreference Resolution\"],[\"Putting Evaluation in Context: Contextual Embeddings improve Machine Translation Evaluation\"],[\"Neural Text Simplification of Clinical Letters with a Domain Specific Phrase Table\"],[\"Are we there yet? Encoder-decoder neural networks as cognitive models of English past tense inflection\"],[\"A Multiscale Visualization of Attention in the Transformer Model\"]],\"hovertemplate\":\"year=2019<br>x1=%{x}<br>x2=%{y}<br>hover_data_0=%{customdata[0]}<extra></extra>\",\"legendgroup\":\"2019\",\"marker\":{\"color\":\"#00cc96\",\"symbol\":\"circle\"},\"mode\":\"markers\",\"name\":\"2019\",\"orientation\":\"v\",\"showlegend\":true,\"x\":[-0.2554366886615753,-0.23774679005146027,-0.33788663148880005,-0.2953636944293976,0.9000629782676697,-0.2553808391094208,-0.16187863051891327,-0.15565621852874756,-0.1497066766023636,-0.27575239539146423,-0.2875637114048004,-0.28979194164276123,-0.21644973754882812,-0.2913971543312073,-0.29023927450180054,-0.17635837197303772,-0.2240096777677536,-0.13821029663085938,-0.26713111996650696,-0.2417995035648346,-0.29113566875457764,-0.2068105787038803,-0.23120027780532837,-0.2129817008972168,-0.2043224573135376,-0.14252562820911407,-0.18537966907024384,-0.23633217811584473,-0.27048709988594055,-0.21765542030334473,-0.23335480690002441,-0.20358797907829285,-0.022593701258301735,-0.18589340150356293,-0.20886144042015076,-0.17610935866832733,-0.22552472352981567,-0.20104844868183136,-0.24911069869995117,-0.15302824974060059,-0.14302505552768707,-0.15887007117271423,-0.28234684467315674,-0.29829588532447815,-0.24890431761741638,-0.16203871369361877,-0.29648181796073914,-0.25931409001350403,-0.32306572794914246,-0.21829913556575775,-0.17809349298477173,-0.2594003975391388,-0.16586728394031525,-0.18259860575199127,-0.19685553014278412,-0.21455352008342743,-0.18408791720867157,-0.20226092636585236,-0.3090187907218933,-0.20242175459861755,-0.1543494015932083,-0.19081372022628784,-0.16942629218101501,-0.16775855422019958,-0.23460780084133148,-0.2572362422943115,-0.269889771938324,-0.10500413179397583,-0.12271109968423843,-0.32129305601119995,-0.2021237462759018,-0.23786544799804688,-0.2720828950405121,0.013398807495832443,-0.18940041959285736,-0.2938900589942932,-0.27916836738586426,-0.2089807689189911,-0.19710250198841095,-0.14479170739650726],\"xaxis\":\"x\",\"y\":[-0.12667477130889893,-0.18122394382953644,-0.09570996463298798,-0.34727954864501953,-0.025013206526637077,-0.0026755412109196186,-0.21801435947418213,-0.02319563925266266,-0.2801833748817444,-0.2631581723690033,-0.1192786917090416,-0.3200429677963257,-0.2279849648475647,-0.17803116142749786,-0.10824894160032272,-0.13880594074726105,-0.38083431124687195,-0.3065776824951172,-0.11470191925764084,-0.14186237752437592,-0.11104784160852432,-0.024939415976405144,0.14755186438560486,0.016441311687231064,-0.1957068294286728,-0.3129960298538208,-0.18162475526332855,-0.28959351778030396,-0.26924988627433777,0.17478519678115845,-0.0846574455499649,-0.24337336421012878,0.02866724506020546,-0.30188775062561035,-0.057356759905815125,-0.1820528507232666,-0.33959126472473145,-0.1433343142271042,-0.20143257081508636,-0.2815232574939728,-0.19169987738132477,-0.26085883378982544,0.015902502462267876,-0.25885942578315735,-0.20853622257709503,-0.3795468211174011,0.07101175934076309,0.08525119721889496,-0.27732768654823303,0.0338933989405632,-0.40725141763687134,-0.18720577657222748,-0.0629623606801033,-0.264405757188797,-0.351727157831192,0.06988980621099472,-0.3304813504219055,-0.02625817432999611,-0.35861635208129883,-0.2043922394514084,-0.1403689831495285,0.06122463196516037,-0.15991337597370148,-0.2671668231487274,-0.0581054650247097,-0.11496254056692123,-0.19287905097007751,-0.13561490178108215,-0.2717440724372864,0.07910449057817459,-0.010857460089027882,0.1302395761013031,-0.12627467513084412,0.12078983336687088,-0.22252285480499268,-0.2630554735660553,-0.10792024433612823,-0.06660939753055573,-0.027205616235733032,-0.27362319827079773],\"yaxis\":\"y\",\"type\":\"scatter\"}],                        {\"template\":{\"data\":{\"histogram2dcontour\":[{\"type\":\"histogram2dcontour\",\"colorbar\":{\"outlinewidth\":0,\"ticks\":\"\"},\"colorscale\":[[0.0,\"#0d0887\"],[0.1111111111111111,\"#46039f\"],[0.2222222222222222,\"#7201a8\"],[0.3333333333333333,\"#9c179e\"],[0.4444444444444444,\"#bd3786\"],[0.5555555555555556,\"#d8576b\"],[0.6666666666666666,\"#ed7953\"],[0.7777777777777778,\"#fb9f3a\"],[0.8888888888888888,\"#fdca26\"],[1.0,\"#f0f921\"]]}],\"choropleth\":[{\"type\":\"choropleth\",\"colorbar\":{\"outlinewidth\":0,\"ticks\":\"\"}}],\"histogram2d\":[{\"type\":\"histogram2d\",\"colorbar\":{\"outlinewidth\":0,\"ticks\":\"\"},\"colorscale\":[[0.0,\"#0d0887\"],[0.1111111111111111,\"#46039f\"],[0.2222222222222222,\"#7201a8\"],[0.3333333333333333,\"#9c179e\"],[0.4444444444444444,\"#bd3786\"],[0.5555555555555556,\"#d8576b\"],[0.6666666666666666,\"#ed7953\"],[0.7777777777777778,\"#fb9f3a\"],[0.8888888888888888,\"#fdca26\"],[1.0,\"#f0f921\"]]}],\"heatmap\":[{\"type\":\"heatmap\",\"colorbar\":{\"outlinewidth\":0,\"ticks\":\"\"},\"colorscale\":[[0.0,\"#0d0887\"],[0.1111111111111111,\"#46039f\"],[0.2222222222222222,\"#7201a8\"],[0.3333333333333333,\"#9c179e\"],[0.4444444444444444,\"#bd3786\"],[0.5555555555555556,\"#d8576b\"],[0.6666666666666666,\"#ed7953\"],[0.7777777777777778,\"#fb9f3a\"],[0.8888888888888888,\"#fdca26\"],[1.0,\"#f0f921\"]]}],\"heatmapgl\":[{\"type\":\"heatmapgl\",\"colorbar\":{\"outlinewidth\":0,\"ticks\":\"\"},\"colorscale\":[[0.0,\"#0d0887\"],[0.1111111111111111,\"#46039f\"],[0.2222222222222222,\"#7201a8\"],[0.3333333333333333,\"#9c179e\"],[0.4444444444444444,\"#bd3786\"],[0.5555555555555556,\"#d8576b\"],[0.6666666666666666,\"#ed7953\"],[0.7777777777777778,\"#fb9f3a\"],[0.8888888888888888,\"#fdca26\"],[1.0,\"#f0f921\"]]}],\"contourcarpet\":[{\"type\":\"contourcarpet\",\"colorbar\":{\"outlinewidth\":0,\"ticks\":\"\"}}],\"contour\":[{\"type\":\"contour\",\"colorbar\":{\"outlinewidth\":0,\"ticks\":\"\"},\"colorscale\":[[0.0,\"#0d0887\"],[0.1111111111111111,\"#46039f\"],[0.2222222222222222,\"#7201a8\"],[0.3333333333333333,\"#9c179e\"],[0.4444444444444444,\"#bd3786\"],[0.5555555555555556,\"#d8576b\"],[0.6666666666666666,\"#ed7953\"],[0.7777777777777778,\"#fb9f3a\"],[0.8888888888888888,\"#fdca26\"],[1.0,\"#f0f921\"]]}],\"surface\":[{\"type\":\"surface\",\"colorbar\":{\"outlinewidth\":0,\"ticks\":\"\"},\"colorscale\":[[0.0,\"#0d0887\"],[0.1111111111111111,\"#46039f\"],[0.2222222222222222,\"#7201a8\"],[0.3333333333333333,\"#9c179e\"],[0.4444444444444444,\"#bd3786\"],[0.5555555555555556,\"#d8576b\"],[0.6666666666666666,\"#ed7953\"],[0.7777777777777778,\"#fb9f3a\"],[0.8888888888888888,\"#fdca26\"],[1.0,\"#f0f921\"]]}],\"mesh3d\":[{\"type\":\"mesh3d\",\"colorbar\":{\"outlinewidth\":0,\"ticks\":\"\"}}],\"scatter\":[{\"fillpattern\":{\"fillmode\":\"overlay\",\"size\":10,\"solidity\":0.2},\"type\":\"scatter\"}],\"parcoords\":[{\"type\":\"parcoords\",\"line\":{\"colorbar\":{\"outlinewidth\":0,\"ticks\":\"\"}}}],\"scatterpolargl\":[{\"type\":\"scatterpolargl\",\"marker\":{\"colorbar\":{\"outlinewidth\":0,\"ticks\":\"\"}}}],\"bar\":[{\"error_x\":{\"color\":\"#2a3f5f\"},\"error_y\":{\"color\":\"#2a3f5f\"},\"marker\":{\"line\":{\"color\":\"#E5ECF6\",\"width\":0.5},\"pattern\":{\"fillmode\":\"overlay\",\"size\":10,\"solidity\":0.2}},\"type\":\"bar\"}],\"scattergeo\":[{\"type\":\"scattergeo\",\"marker\":{\"colorbar\":{\"outlinewidth\":0,\"ticks\":\"\"}}}],\"scatterpolar\":[{\"type\":\"scatterpolar\",\"marker\":{\"colorbar\":{\"outlinewidth\":0,\"ticks\":\"\"}}}],\"histogram\":[{\"marker\":{\"pattern\":{\"fillmode\":\"overlay\",\"size\":10,\"solidity\":0.2}},\"type\":\"histogram\"}],\"scattergl\":[{\"type\":\"scattergl\",\"marker\":{\"colorbar\":{\"outlinewidth\":0,\"ticks\":\"\"}}}],\"scatter3d\":[{\"type\":\"scatter3d\",\"line\":{\"colorbar\":{\"outlinewidth\":0,\"ticks\":\"\"}},\"marker\":{\"colorbar\":{\"outlinewidth\":0,\"ticks\":\"\"}}}],\"scattermapbox\":[{\"type\":\"scattermapbox\",\"marker\":{\"colorbar\":{\"outlinewidth\":0,\"ticks\":\"\"}}}],\"scatterternary\":[{\"type\":\"scatterternary\",\"marker\":{\"colorbar\":{\"outlinewidth\":0,\"ticks\":\"\"}}}],\"scattercarpet\":[{\"type\":\"scattercarpet\",\"marker\":{\"colorbar\":{\"outlinewidth\":0,\"ticks\":\"\"}}}],\"carpet\":[{\"aaxis\":{\"endlinecolor\":\"#2a3f5f\",\"gridcolor\":\"white\",\"linecolor\":\"white\",\"minorgridcolor\":\"white\",\"startlinecolor\":\"#2a3f5f\"},\"baxis\":{\"endlinecolor\":\"#2a3f5f\",\"gridcolor\":\"white\",\"linecolor\":\"white\",\"minorgridcolor\":\"white\",\"startlinecolor\":\"#2a3f5f\"},\"type\":\"carpet\"}],\"table\":[{\"cells\":{\"fill\":{\"color\":\"#EBF0F8\"},\"line\":{\"color\":\"white\"}},\"header\":{\"fill\":{\"color\":\"#C8D4E3\"},\"line\":{\"color\":\"white\"}},\"type\":\"table\"}],\"barpolar\":[{\"marker\":{\"line\":{\"color\":\"#E5ECF6\",\"width\":0.5},\"pattern\":{\"fillmode\":\"overlay\",\"size\":10,\"solidity\":0.2}},\"type\":\"barpolar\"}],\"pie\":[{\"automargin\":true,\"type\":\"pie\"}]},\"layout\":{\"autotypenumbers\":\"strict\",\"colorway\":[\"#636efa\",\"#EF553B\",\"#00cc96\",\"#ab63fa\",\"#FFA15A\",\"#19d3f3\",\"#FF6692\",\"#B6E880\",\"#FF97FF\",\"#FECB52\"],\"font\":{\"color\":\"#2a3f5f\"},\"hovermode\":\"closest\",\"hoverlabel\":{\"align\":\"left\"},\"paper_bgcolor\":\"white\",\"plot_bgcolor\":\"#E5ECF6\",\"polar\":{\"bgcolor\":\"#E5ECF6\",\"angularaxis\":{\"gridcolor\":\"white\",\"linecolor\":\"white\",\"ticks\":\"\"},\"radialaxis\":{\"gridcolor\":\"white\",\"linecolor\":\"white\",\"ticks\":\"\"}},\"ternary\":{\"bgcolor\":\"#E5ECF6\",\"aaxis\":{\"gridcolor\":\"white\",\"linecolor\":\"white\",\"ticks\":\"\"},\"baxis\":{\"gridcolor\":\"white\",\"linecolor\":\"white\",\"ticks\":\"\"},\"caxis\":{\"gridcolor\":\"white\",\"linecolor\":\"white\",\"ticks\":\"\"}},\"coloraxis\":{\"colorbar\":{\"outlinewidth\":0,\"ticks\":\"\"}},\"colorscale\":{\"sequential\":[[0.0,\"#0d0887\"],[0.1111111111111111,\"#46039f\"],[0.2222222222222222,\"#7201a8\"],[0.3333333333333333,\"#9c179e\"],[0.4444444444444444,\"#bd3786\"],[0.5555555555555556,\"#d8576b\"],[0.6666666666666666,\"#ed7953\"],[0.7777777777777778,\"#fb9f3a\"],[0.8888888888888888,\"#fdca26\"],[1.0,\"#f0f921\"]],\"sequentialminus\":[[0.0,\"#0d0887\"],[0.1111111111111111,\"#46039f\"],[0.2222222222222222,\"#7201a8\"],[0.3333333333333333,\"#9c179e\"],[0.4444444444444444,\"#bd3786\"],[0.5555555555555556,\"#d8576b\"],[0.6666666666666666,\"#ed7953\"],[0.7777777777777778,\"#fb9f3a\"],[0.8888888888888888,\"#fdca26\"],[1.0,\"#f0f921\"]],\"diverging\":[[0,\"#8e0152\"],[0.1,\"#c51b7d\"],[0.2,\"#de77ae\"],[0.3,\"#f1b6da\"],[0.4,\"#fde0ef\"],[0.5,\"#f7f7f7\"],[0.6,\"#e6f5d0\"],[0.7,\"#b8e186\"],[0.8,\"#7fbc41\"],[0.9,\"#4d9221\"],[1,\"#276419\"]]},\"xaxis\":{\"gridcolor\":\"white\",\"linecolor\":\"white\",\"ticks\":\"\",\"title\":{\"standoff\":15},\"zerolinecolor\":\"white\",\"automargin\":true,\"zerolinewidth\":2},\"yaxis\":{\"gridcolor\":\"white\",\"linecolor\":\"white\",\"ticks\":\"\",\"title\":{\"standoff\":15},\"zerolinecolor\":\"white\",\"automargin\":true,\"zerolinewidth\":2},\"scene\":{\"xaxis\":{\"backgroundcolor\":\"#E5ECF6\",\"gridcolor\":\"white\",\"linecolor\":\"white\",\"showbackground\":true,\"ticks\":\"\",\"zerolinecolor\":\"white\",\"gridwidth\":2},\"yaxis\":{\"backgroundcolor\":\"#E5ECF6\",\"gridcolor\":\"white\",\"linecolor\":\"white\",\"showbackground\":true,\"ticks\":\"\",\"zerolinecolor\":\"white\",\"gridwidth\":2},\"zaxis\":{\"backgroundcolor\":\"#E5ECF6\",\"gridcolor\":\"white\",\"linecolor\":\"white\",\"showbackground\":true,\"ticks\":\"\",\"zerolinecolor\":\"white\",\"gridwidth\":2}},\"shapedefaults\":{\"line\":{\"color\":\"#2a3f5f\"}},\"annotationdefaults\":{\"arrowcolor\":\"#2a3f5f\",\"arrowhead\":0,\"arrowwidth\":1},\"geo\":{\"bgcolor\":\"white\",\"landcolor\":\"#E5ECF6\",\"subunitcolor\":\"white\",\"showland\":true,\"showlakes\":true,\"lakecolor\":\"white\"},\"title\":{\"x\":0.05},\"mapbox\":{\"style\":\"light\"}}},\"xaxis\":{\"anchor\":\"y\",\"domain\":[0.0,1.0],\"title\":{\"text\":\"x1\"}},\"yaxis\":{\"anchor\":\"x\",\"domain\":[0.0,1.0],\"title\":{\"text\":\"x2\"}},\"legend\":{\"title\":{\"text\":\"year\"},\"tracegroupgap\":0},\"margin\":{\"t\":60}},                        {\"responsive\": true}                    ).then(function(){\n",
       "                            \n",
       "var gd = document.getElementById('9ff7a15a-6b9f-46e2-ab2f-7c0c2a2b3757');\n",
       "var x = new MutationObserver(function (mutations, observer) {{\n",
       "        var display = window.getComputedStyle(gd).display;\n",
       "        if (!display || display === 'none') {{\n",
       "            console.log([gd, 'removed!']);\n",
       "            Plotly.purge(gd);\n",
       "            observer.disconnect();\n",
       "        }}\n",
       "}});\n",
       "\n",
       "// Listen for the removal of the full notebook cells\n",
       "var notebookContainer = gd.closest('#notebook-container');\n",
       "if (notebookContainer) {{\n",
       "    x.observe(notebookContainer, {childList: true});\n",
       "}}\n",
       "\n",
       "// Listen for the clearing of the current output cell\n",
       "var outputEl = gd.closest('.output');\n",
       "if (outputEl) {{\n",
       "    x.observe(outputEl, {childList: true});\n",
       "}}\n",
       "\n",
       "                        })                };                });            </script>        </div>"
      ]
     },
     "metadata": {},
     "output_type": "display_data"
    }
   ],
   "source": [
    "import plotly.express as px\n",
    "\n",
    "pcx_2000_2010_2019[\"year\"] = pcx_2000_2010_2019[\"year\"].astype(str) # change a legend color to Discrete form Continuous Color\n",
    "fig = px.scatter(pcx_2000_2010_2019, x=\"x1\", y=\"x2\", color='year', hover_data=[pcx_2000_2010_2019['title'].values])\n",
    "fig.show()\n",
    "\n",
    "fig.update_layout(title=f\"Comparison of 2000, 2015 and 2019 ACL papers(SBERT)\")\n",
    "fig.write_html(f\"Comparison_2000_2010_2015_2000(SBERT).html\")"
   ]
  },
  {
   "cell_type": "markdown",
   "metadata": {},
   "source": [
    "# Best Pape 2019"
   ]
  },
  {
   "cell_type": "code",
   "execution_count": 110,
   "metadata": {},
   "outputs": [
    {
     "data": {
      "text/html": [
       "<div>\n",
       "<style scoped>\n",
       "    .dataframe tbody tr th:only-of-type {\n",
       "        vertical-align: middle;\n",
       "    }\n",
       "\n",
       "    .dataframe tbody tr th {\n",
       "        vertical-align: top;\n",
       "    }\n",
       "\n",
       "    .dataframe thead th {\n",
       "        text-align: right;\n",
       "    }\n",
       "</style>\n",
       "<table border=\"1\" class=\"dataframe\">\n",
       "  <thead>\n",
       "    <tr style=\"text-align: right;\">\n",
       "      <th></th>\n",
       "      <th>type</th>\n",
       "      <th>year</th>\n",
       "      <th>title</th>\n",
       "      <th>era_id</th>\n",
       "      <th>x_0</th>\n",
       "      <th>x_1</th>\n",
       "      <th>x_2</th>\n",
       "      <th>x_3</th>\n",
       "      <th>x_4</th>\n",
       "      <th>x_5</th>\n",
       "      <th>...</th>\n",
       "      <th>x_374</th>\n",
       "      <th>x_375</th>\n",
       "      <th>x_376</th>\n",
       "      <th>x_377</th>\n",
       "      <th>x_378</th>\n",
       "      <th>x_379</th>\n",
       "      <th>x_380</th>\n",
       "      <th>x_381</th>\n",
       "      <th>x_382</th>\n",
       "      <th>x_383</th>\n",
       "    </tr>\n",
       "  </thead>\n",
       "  <tbody>\n",
       "    <tr>\n",
       "      <th>4</th>\n",
       "      <td>4</td>\n",
       "      <td>2019</td>\n",
       "      <td>Counterfactual Data Augmentation for Mitigatin...</td>\n",
       "      <td>20</td>\n",
       "      <td>0.045053</td>\n",
       "      <td>0.051824</td>\n",
       "      <td>0.097364</td>\n",
       "      <td>0.006804</td>\n",
       "      <td>-0.012303</td>\n",
       "      <td>-0.034496</td>\n",
       "      <td>...</td>\n",
       "      <td>0.017489</td>\n",
       "      <td>-0.026561</td>\n",
       "      <td>-0.073428</td>\n",
       "      <td>0.044345</td>\n",
       "      <td>-0.005372</td>\n",
       "      <td>0.094221</td>\n",
       "      <td>0.085115</td>\n",
       "      <td>0.072723</td>\n",
       "      <td>0.025918</td>\n",
       "      <td>-0.102300</td>\n",
       "    </tr>\n",
       "    <tr>\n",
       "      <th>7</th>\n",
       "      <td>7</td>\n",
       "      <td>2019</td>\n",
       "      <td>Unsupervised Discovery of Gendered Language th...</td>\n",
       "      <td>20</td>\n",
       "      <td>0.055325</td>\n",
       "      <td>-0.026664</td>\n",
       "      <td>0.026544</td>\n",
       "      <td>0.035051</td>\n",
       "      <td>-0.025747</td>\n",
       "      <td>0.028869</td>\n",
       "      <td>...</td>\n",
       "      <td>0.042687</td>\n",
       "      <td>-0.009107</td>\n",
       "      <td>-0.044295</td>\n",
       "      <td>0.062166</td>\n",
       "      <td>0.015808</td>\n",
       "      <td>0.011218</td>\n",
       "      <td>0.014497</td>\n",
       "      <td>0.052990</td>\n",
       "      <td>0.027738</td>\n",
       "      <td>-0.078972</td>\n",
       "    </tr>\n",
       "    <tr>\n",
       "      <th>197</th>\n",
       "      <td>197</td>\n",
       "      <td>2019</td>\n",
       "      <td>Margin-based Parallel Corpus Mining with Multi...</td>\n",
       "      <td>20</td>\n",
       "      <td>-0.043548</td>\n",
       "      <td>-0.073220</td>\n",
       "      <td>-0.017195</td>\n",
       "      <td>-0.006280</td>\n",
       "      <td>0.074463</td>\n",
       "      <td>0.062449</td>\n",
       "      <td>...</td>\n",
       "      <td>0.020356</td>\n",
       "      <td>0.067960</td>\n",
       "      <td>-0.048375</td>\n",
       "      <td>-0.060403</td>\n",
       "      <td>0.074845</td>\n",
       "      <td>0.020359</td>\n",
       "      <td>0.031584</td>\n",
       "      <td>-0.009068</td>\n",
       "      <td>-0.054869</td>\n",
       "      <td>0.029275</td>\n",
       "    </tr>\n",
       "    <tr>\n",
       "      <th>214</th>\n",
       "      <td>214</td>\n",
       "      <td>2019</td>\n",
       "      <td>Searching for Effective Neural Extractive Summ...</td>\n",
       "      <td>20</td>\n",
       "      <td>-0.087911</td>\n",
       "      <td>-0.016023</td>\n",
       "      <td>0.083686</td>\n",
       "      <td>0.014348</td>\n",
       "      <td>0.102073</td>\n",
       "      <td>0.052615</td>\n",
       "      <td>...</td>\n",
       "      <td>-0.022277</td>\n",
       "      <td>0.001834</td>\n",
       "      <td>0.037592</td>\n",
       "      <td>-0.062821</td>\n",
       "      <td>0.059469</td>\n",
       "      <td>0.020610</td>\n",
       "      <td>-0.007068</td>\n",
       "      <td>0.078916</td>\n",
       "      <td>-0.054624</td>\n",
       "      <td>-0.012028</td>\n",
       "    </tr>\n",
       "    <tr>\n",
       "      <th>216</th>\n",
       "      <td>216</td>\n",
       "      <td>2019</td>\n",
       "      <td>Style Transformer: Unpaired Text Style Transfe...</td>\n",
       "      <td>20</td>\n",
       "      <td>-0.090578</td>\n",
       "      <td>-0.026025</td>\n",
       "      <td>0.070133</td>\n",
       "      <td>0.055996</td>\n",
       "      <td>0.007759</td>\n",
       "      <td>0.059559</td>\n",
       "      <td>...</td>\n",
       "      <td>0.018578</td>\n",
       "      <td>0.012675</td>\n",
       "      <td>0.015493</td>\n",
       "      <td>0.084550</td>\n",
       "      <td>0.030756</td>\n",
       "      <td>0.020959</td>\n",
       "      <td>-0.017649</td>\n",
       "      <td>0.082438</td>\n",
       "      <td>0.026562</td>\n",
       "      <td>-0.056312</td>\n",
       "    </tr>\n",
       "    <tr>\n",
       "      <th>...</th>\n",
       "      <td>...</td>\n",
       "      <td>...</td>\n",
       "      <td>...</td>\n",
       "      <td>...</td>\n",
       "      <td>...</td>\n",
       "      <td>...</td>\n",
       "      <td>...</td>\n",
       "      <td>...</td>\n",
       "      <td>...</td>\n",
       "      <td>...</td>\n",
       "      <td>...</td>\n",
       "      <td>...</td>\n",
       "      <td>...</td>\n",
       "      <td>...</td>\n",
       "      <td>...</td>\n",
       "      <td>...</td>\n",
       "      <td>...</td>\n",
       "      <td>...</td>\n",
       "      <td>...</td>\n",
       "      <td>...</td>\n",
       "      <td>...</td>\n",
       "    </tr>\n",
       "    <tr>\n",
       "      <th>6806</th>\n",
       "      <td>6806</td>\n",
       "      <td>2019</td>\n",
       "      <td>Gender Stereotypes Differ between Male and Fem...</td>\n",
       "      <td>20</td>\n",
       "      <td>0.046365</td>\n",
       "      <td>0.002689</td>\n",
       "      <td>0.039982</td>\n",
       "      <td>0.063683</td>\n",
       "      <td>-0.007623</td>\n",
       "      <td>-0.039271</td>\n",
       "      <td>...</td>\n",
       "      <td>0.016852</td>\n",
       "      <td>-0.021938</td>\n",
       "      <td>-0.065961</td>\n",
       "      <td>0.065509</td>\n",
       "      <td>0.014462</td>\n",
       "      <td>0.008181</td>\n",
       "      <td>0.118501</td>\n",
       "      <td>0.013749</td>\n",
       "      <td>0.004447</td>\n",
       "      <td>-0.097342</td>\n",
       "    </tr>\n",
       "    <tr>\n",
       "      <th>6809</th>\n",
       "      <td>6809</td>\n",
       "      <td>2019</td>\n",
       "      <td>Natural Language Generation: Recently Learned ...</td>\n",
       "      <td>20</td>\n",
       "      <td>-0.034928</td>\n",
       "      <td>-0.045406</td>\n",
       "      <td>0.002385</td>\n",
       "      <td>0.063168</td>\n",
       "      <td>-0.065263</td>\n",
       "      <td>0.067551</td>\n",
       "      <td>...</td>\n",
       "      <td>0.077954</td>\n",
       "      <td>0.003297</td>\n",
       "      <td>0.036508</td>\n",
       "      <td>0.023411</td>\n",
       "      <td>0.079902</td>\n",
       "      <td>-0.005770</td>\n",
       "      <td>0.033541</td>\n",
       "      <td>0.121778</td>\n",
       "      <td>0.062387</td>\n",
       "      <td>0.002115</td>\n",
       "    </tr>\n",
       "    <tr>\n",
       "      <th>6827</th>\n",
       "      <td>6827</td>\n",
       "      <td>2019</td>\n",
       "      <td>Towards Turkish Abstract Meaning Representation</td>\n",
       "      <td>20</td>\n",
       "      <td>0.035353</td>\n",
       "      <td>0.065390</td>\n",
       "      <td>0.082225</td>\n",
       "      <td>0.001338</td>\n",
       "      <td>-0.001349</td>\n",
       "      <td>0.011120</td>\n",
       "      <td>...</td>\n",
       "      <td>0.123215</td>\n",
       "      <td>0.043724</td>\n",
       "      <td>0.031627</td>\n",
       "      <td>0.040976</td>\n",
       "      <td>0.042600</td>\n",
       "      <td>-0.017804</td>\n",
       "      <td>0.082463</td>\n",
       "      <td>0.089982</td>\n",
       "      <td>0.016809</td>\n",
       "      <td>-0.049283</td>\n",
       "    </tr>\n",
       "    <tr>\n",
       "      <th>6830</th>\n",
       "      <td>6830</td>\n",
       "      <td>2019</td>\n",
       "      <td>Predicting the Outcome of Deliberative Democra...</td>\n",
       "      <td>20</td>\n",
       "      <td>-0.004017</td>\n",
       "      <td>-0.119011</td>\n",
       "      <td>0.006992</td>\n",
       "      <td>0.003682</td>\n",
       "      <td>0.042108</td>\n",
       "      <td>-0.002981</td>\n",
       "      <td>...</td>\n",
       "      <td>0.057444</td>\n",
       "      <td>0.069133</td>\n",
       "      <td>-0.005857</td>\n",
       "      <td>0.003294</td>\n",
       "      <td>0.040088</td>\n",
       "      <td>0.074956</td>\n",
       "      <td>0.047436</td>\n",
       "      <td>0.075340</td>\n",
       "      <td>-0.021177</td>\n",
       "      <td>-0.023391</td>\n",
       "    </tr>\n",
       "    <tr>\n",
       "      <th>6834</th>\n",
       "      <td>6834</td>\n",
       "      <td>2019</td>\n",
       "      <td>Distributed Knowledge Based Clinical Auto-Codi...</td>\n",
       "      <td>20</td>\n",
       "      <td>-0.019856</td>\n",
       "      <td>0.028915</td>\n",
       "      <td>-0.006827</td>\n",
       "      <td>-0.017016</td>\n",
       "      <td>-0.006566</td>\n",
       "      <td>0.089373</td>\n",
       "      <td>...</td>\n",
       "      <td>0.060038</td>\n",
       "      <td>0.094312</td>\n",
       "      <td>0.058812</td>\n",
       "      <td>-0.003157</td>\n",
       "      <td>-0.001143</td>\n",
       "      <td>-0.040357</td>\n",
       "      <td>0.043941</td>\n",
       "      <td>0.055771</td>\n",
       "      <td>0.027953</td>\n",
       "      <td>0.006400</td>\n",
       "    </tr>\n",
       "  </tbody>\n",
       "</table>\n",
       "<p>771 rows × 388 columns</p>\n",
       "</div>"
      ],
      "text/plain": [
       "      type  year                                              title  era_id  \\\n",
       "4        4  2019  Counterfactual Data Augmentation for Mitigatin...      20   \n",
       "7        7  2019  Unsupervised Discovery of Gendered Language th...      20   \n",
       "197    197  2019  Margin-based Parallel Corpus Mining with Multi...      20   \n",
       "214    214  2019  Searching for Effective Neural Extractive Summ...      20   \n",
       "216    216  2019  Style Transformer: Unpaired Text Style Transfe...      20   \n",
       "...    ...   ...                                                ...     ...   \n",
       "6806  6806  2019  Gender Stereotypes Differ between Male and Fem...      20   \n",
       "6809  6809  2019  Natural Language Generation: Recently Learned ...      20   \n",
       "6827  6827  2019    Towards Turkish Abstract Meaning Representation      20   \n",
       "6830  6830  2019  Predicting the Outcome of Deliberative Democra...      20   \n",
       "6834  6834  2019  Distributed Knowledge Based Clinical Auto-Codi...      20   \n",
       "\n",
       "           x_0       x_1       x_2       x_3       x_4       x_5  ...  \\\n",
       "4     0.045053  0.051824  0.097364  0.006804 -0.012303 -0.034496  ...   \n",
       "7     0.055325 -0.026664  0.026544  0.035051 -0.025747  0.028869  ...   \n",
       "197  -0.043548 -0.073220 -0.017195 -0.006280  0.074463  0.062449  ...   \n",
       "214  -0.087911 -0.016023  0.083686  0.014348  0.102073  0.052615  ...   \n",
       "216  -0.090578 -0.026025  0.070133  0.055996  0.007759  0.059559  ...   \n",
       "...        ...       ...       ...       ...       ...       ...  ...   \n",
       "6806  0.046365  0.002689  0.039982  0.063683 -0.007623 -0.039271  ...   \n",
       "6809 -0.034928 -0.045406  0.002385  0.063168 -0.065263  0.067551  ...   \n",
       "6827  0.035353  0.065390  0.082225  0.001338 -0.001349  0.011120  ...   \n",
       "6830 -0.004017 -0.119011  0.006992  0.003682  0.042108 -0.002981  ...   \n",
       "6834 -0.019856  0.028915 -0.006827 -0.017016 -0.006566  0.089373  ...   \n",
       "\n",
       "         x_374     x_375     x_376     x_377     x_378     x_379     x_380  \\\n",
       "4     0.017489 -0.026561 -0.073428  0.044345 -0.005372  0.094221  0.085115   \n",
       "7     0.042687 -0.009107 -0.044295  0.062166  0.015808  0.011218  0.014497   \n",
       "197   0.020356  0.067960 -0.048375 -0.060403  0.074845  0.020359  0.031584   \n",
       "214  -0.022277  0.001834  0.037592 -0.062821  0.059469  0.020610 -0.007068   \n",
       "216   0.018578  0.012675  0.015493  0.084550  0.030756  0.020959 -0.017649   \n",
       "...        ...       ...       ...       ...       ...       ...       ...   \n",
       "6806  0.016852 -0.021938 -0.065961  0.065509  0.014462  0.008181  0.118501   \n",
       "6809  0.077954  0.003297  0.036508  0.023411  0.079902 -0.005770  0.033541   \n",
       "6827  0.123215  0.043724  0.031627  0.040976  0.042600 -0.017804  0.082463   \n",
       "6830  0.057444  0.069133 -0.005857  0.003294  0.040088  0.074956  0.047436   \n",
       "6834  0.060038  0.094312  0.058812 -0.003157 -0.001143 -0.040357  0.043941   \n",
       "\n",
       "         x_381     x_382     x_383  \n",
       "4     0.072723  0.025918 -0.102300  \n",
       "7     0.052990  0.027738 -0.078972  \n",
       "197  -0.009068 -0.054869  0.029275  \n",
       "214   0.078916 -0.054624 -0.012028  \n",
       "216   0.082438  0.026562 -0.056312  \n",
       "...        ...       ...       ...  \n",
       "6806  0.013749  0.004447 -0.097342  \n",
       "6809  0.121778  0.062387  0.002115  \n",
       "6827  0.089982  0.016809 -0.049283  \n",
       "6830  0.075340 -0.021177 -0.023391  \n",
       "6834  0.055771  0.027953  0.006400  \n",
       "\n",
       "[771 rows x 388 columns]"
      ]
     },
     "execution_count": 110,
     "metadata": {},
     "output_type": "execute_result"
    }
   ],
   "source": [
    "out_2019 = out[(out['year'] == 2019)]\n",
    "out_2019"
   ]
  },
  {
   "cell_type": "code",
   "execution_count": 111,
   "metadata": {},
   "outputs": [
    {
     "data": {
      "text/plain": [
       "(771, 2)"
      ]
     },
     "execution_count": 111,
     "metadata": {},
     "output_type": "execute_result"
    }
   ],
   "source": [
    "title_list = out_2019['title'].values\n",
    "X = out_2019.iloc[:, 4:]\n",
    "pca = PCA(n_components=2)\n",
    "pca.fit(X)\n",
    "x_pcx = pca.transform(X)\n",
    "x_pcx.shape"
   ]
  },
  {
   "cell_type": "code",
   "execution_count": 112,
   "metadata": {},
   "outputs": [],
   "source": [
    "pcx_2019 =  pd.DataFrame(data=x_pcx, columns=['x1', 'x2'])"
   ]
  },
  {
   "cell_type": "code",
   "execution_count": 113,
   "metadata": {},
   "outputs": [],
   "source": [
    "pcx_2019.insert(0, 'title', out[out['year'] == 2019]['title'].values)\n",
    "pcx_2019.insert(1, 'award', 'normal')\n",
    "pcx_2019.insert(2, 'lab_or_not', 'notlab')"
   ]
  },
  {
   "cell_type": "code",
   "execution_count": 114,
   "metadata": {},
   "outputs": [
    {
     "data": {
      "text/html": [
       "<div>\n",
       "<style scoped>\n",
       "    .dataframe tbody tr th:only-of-type {\n",
       "        vertical-align: middle;\n",
       "    }\n",
       "\n",
       "    .dataframe tbody tr th {\n",
       "        vertical-align: top;\n",
       "    }\n",
       "\n",
       "    .dataframe thead th {\n",
       "        text-align: right;\n",
       "    }\n",
       "</style>\n",
       "<table border=\"1\" class=\"dataframe\">\n",
       "  <thead>\n",
       "    <tr style=\"text-align: right;\">\n",
       "      <th></th>\n",
       "      <th>title</th>\n",
       "      <th>award</th>\n",
       "      <th>lab_or_not</th>\n",
       "      <th>x1</th>\n",
       "      <th>x2</th>\n",
       "    </tr>\n",
       "  </thead>\n",
       "  <tbody>\n",
       "    <tr>\n",
       "      <th>0</th>\n",
       "      <td>Counterfactual Data Augmentation for Mitigatin...</td>\n",
       "      <td>normal</td>\n",
       "      <td>notlab</td>\n",
       "      <td>0.139320</td>\n",
       "      <td>-0.332224</td>\n",
       "    </tr>\n",
       "    <tr>\n",
       "      <th>1</th>\n",
       "      <td>Unsupervised Discovery of Gendered Language th...</td>\n",
       "      <td>normal</td>\n",
       "      <td>notlab</td>\n",
       "      <td>0.259765</td>\n",
       "      <td>-0.252255</td>\n",
       "    </tr>\n",
       "    <tr>\n",
       "      <th>2</th>\n",
       "      <td>Margin-based Parallel Corpus Mining with Multi...</td>\n",
       "      <td>normal</td>\n",
       "      <td>notlab</td>\n",
       "      <td>-0.200356</td>\n",
       "      <td>-0.276796</td>\n",
       "    </tr>\n",
       "    <tr>\n",
       "      <th>3</th>\n",
       "      <td>Searching for Effective Neural Extractive Summ...</td>\n",
       "      <td>normal</td>\n",
       "      <td>notlab</td>\n",
       "      <td>-0.053926</td>\n",
       "      <td>0.118147</td>\n",
       "    </tr>\n",
       "    <tr>\n",
       "      <th>4</th>\n",
       "      <td>Style Transformer: Unpaired Text Style Transfe...</td>\n",
       "      <td>normal</td>\n",
       "      <td>notlab</td>\n",
       "      <td>-0.157264</td>\n",
       "      <td>0.012630</td>\n",
       "    </tr>\n",
       "    <tr>\n",
       "      <th>...</th>\n",
       "      <td>...</td>\n",
       "      <td>...</td>\n",
       "      <td>...</td>\n",
       "      <td>...</td>\n",
       "      <td>...</td>\n",
       "    </tr>\n",
       "    <tr>\n",
       "      <th>766</th>\n",
       "      <td>Gender Stereotypes Differ between Male and Fem...</td>\n",
       "      <td>normal</td>\n",
       "      <td>notlab</td>\n",
       "      <td>0.330663</td>\n",
       "      <td>-0.273882</td>\n",
       "    </tr>\n",
       "    <tr>\n",
       "      <th>767</th>\n",
       "      <td>Natural Language Generation: Recently Learned ...</td>\n",
       "      <td>normal</td>\n",
       "      <td>notlab</td>\n",
       "      <td>0.100569</td>\n",
       "      <td>0.037523</td>\n",
       "    </tr>\n",
       "    <tr>\n",
       "      <th>768</th>\n",
       "      <td>Towards Turkish Abstract Meaning Representation</td>\n",
       "      <td>normal</td>\n",
       "      <td>notlab</td>\n",
       "      <td>0.063818</td>\n",
       "      <td>-0.124647</td>\n",
       "    </tr>\n",
       "    <tr>\n",
       "      <th>769</th>\n",
       "      <td>Predicting the Outcome of Deliberative Democra...</td>\n",
       "      <td>normal</td>\n",
       "      <td>notlab</td>\n",
       "      <td>0.268622</td>\n",
       "      <td>0.004009</td>\n",
       "    </tr>\n",
       "    <tr>\n",
       "      <th>770</th>\n",
       "      <td>Distributed Knowledge Based Clinical Auto-Codi...</td>\n",
       "      <td>normal</td>\n",
       "      <td>notlab</td>\n",
       "      <td>0.109204</td>\n",
       "      <td>-0.103140</td>\n",
       "    </tr>\n",
       "  </tbody>\n",
       "</table>\n",
       "<p>771 rows × 5 columns</p>\n",
       "</div>"
      ],
      "text/plain": [
       "                                                 title   award lab_or_not  \\\n",
       "0    Counterfactual Data Augmentation for Mitigatin...  normal     notlab   \n",
       "1    Unsupervised Discovery of Gendered Language th...  normal     notlab   \n",
       "2    Margin-based Parallel Corpus Mining with Multi...  normal     notlab   \n",
       "3    Searching for Effective Neural Extractive Summ...  normal     notlab   \n",
       "4    Style Transformer: Unpaired Text Style Transfe...  normal     notlab   \n",
       "..                                                 ...     ...        ...   \n",
       "766  Gender Stereotypes Differ between Male and Fem...  normal     notlab   \n",
       "767  Natural Language Generation: Recently Learned ...  normal     notlab   \n",
       "768    Towards Turkish Abstract Meaning Representation  normal     notlab   \n",
       "769  Predicting the Outcome of Deliberative Democra...  normal     notlab   \n",
       "770  Distributed Knowledge Based Clinical Auto-Codi...  normal     notlab   \n",
       "\n",
       "           x1        x2  \n",
       "0    0.139320 -0.332224  \n",
       "1    0.259765 -0.252255  \n",
       "2   -0.200356 -0.276796  \n",
       "3   -0.053926  0.118147  \n",
       "4   -0.157264  0.012630  \n",
       "..        ...       ...  \n",
       "766  0.330663 -0.273882  \n",
       "767  0.100569  0.037523  \n",
       "768  0.063818 -0.124647  \n",
       "769  0.268622  0.004009  \n",
       "770  0.109204 -0.103140  \n",
       "\n",
       "[771 rows x 5 columns]"
      ]
     },
     "execution_count": 114,
     "metadata": {},
     "output_type": "execute_result"
    }
   ],
   "source": [
    "pcx_2019"
   ]
  },
  {
   "cell_type": "code",
   "execution_count": 115,
   "metadata": {},
   "outputs": [],
   "source": [
    "best_paper_awards = ['OpenKiwi: An Open Source Framework for Quality Estimation',\n",
    "'Emotion-Cause Pair Extraction: A New Task to Emotion Analysis in Texts.',\n",
    "'A Simple Theoretical Model of Importance for Summarization',\n",
    "'Transferable Multi-Domain State Generator for Task-Oriented Dialogue Systems',\n",
    "'We need to talk about standard splits',\n",
    "'Zero-shot Word Sense Disambiguation using Sense Definition Embeddings',\n",
    "'Do you know that Florence is packed with visitors? Evaluating state-of-the-art models of speaker commitment.',\n",
    "'Bridging the Gap between Training and Inference for Neural Machine Translation.',\n",
    "]"
   ]
  },
  {
   "cell_type": "code",
   "execution_count": 116,
   "metadata": {},
   "outputs": [
    {
     "data": {
      "text/html": [
       "<div>\n",
       "<style scoped>\n",
       "    .dataframe tbody tr th:only-of-type {\n",
       "        vertical-align: middle;\n",
       "    }\n",
       "\n",
       "    .dataframe tbody tr th {\n",
       "        vertical-align: top;\n",
       "    }\n",
       "\n",
       "    .dataframe thead th {\n",
       "        text-align: right;\n",
       "    }\n",
       "</style>\n",
       "<table border=\"1\" class=\"dataframe\">\n",
       "  <thead>\n",
       "    <tr style=\"text-align: right;\">\n",
       "      <th></th>\n",
       "      <th>title</th>\n",
       "      <th>award</th>\n",
       "      <th>lab_or_not</th>\n",
       "      <th>x1</th>\n",
       "      <th>x2</th>\n",
       "    </tr>\n",
       "  </thead>\n",
       "  <tbody>\n",
       "    <tr>\n",
       "      <th>169</th>\n",
       "      <td>OpenKiwi: An Open Source Framework for Quality...</td>\n",
       "      <td>award</td>\n",
       "      <td>notlab</td>\n",
       "      <td>-0.157024</td>\n",
       "      <td>-0.108724</td>\n",
       "    </tr>\n",
       "    <tr>\n",
       "      <th>223</th>\n",
       "      <td>Zero-shot Word Sense Disambiguation using Sens...</td>\n",
       "      <td>award</td>\n",
       "      <td>notlab</td>\n",
       "      <td>-0.074407</td>\n",
       "      <td>-0.123164</td>\n",
       "    </tr>\n",
       "    <tr>\n",
       "      <th>375</th>\n",
       "      <td>Transferable Multi-Domain State Generator for ...</td>\n",
       "      <td>award</td>\n",
       "      <td>notlab</td>\n",
       "      <td>-0.043104</td>\n",
       "      <td>0.301466</td>\n",
       "    </tr>\n",
       "    <tr>\n",
       "      <th>543</th>\n",
       "      <td>A Simple Theoretical Model of Importance for S...</td>\n",
       "      <td>award</td>\n",
       "      <td>notlab</td>\n",
       "      <td>0.117568</td>\n",
       "      <td>0.083693</td>\n",
       "    </tr>\n",
       "    <tr>\n",
       "      <th>581</th>\n",
       "      <td>We need to talk about standard splits</td>\n",
       "      <td>award</td>\n",
       "      <td>notlab</td>\n",
       "      <td>0.124279</td>\n",
       "      <td>-0.065231</td>\n",
       "    </tr>\n",
       "  </tbody>\n",
       "</table>\n",
       "</div>"
      ],
      "text/plain": [
       "                                                 title  award lab_or_not  \\\n",
       "169  OpenKiwi: An Open Source Framework for Quality...  award     notlab   \n",
       "223  Zero-shot Word Sense Disambiguation using Sens...  award     notlab   \n",
       "375  Transferable Multi-Domain State Generator for ...  award     notlab   \n",
       "543  A Simple Theoretical Model of Importance for S...  award     notlab   \n",
       "581              We need to talk about standard splits  award     notlab   \n",
       "\n",
       "           x1        x2  \n",
       "169 -0.157024 -0.108724  \n",
       "223 -0.074407 -0.123164  \n",
       "375 -0.043104  0.301466  \n",
       "543  0.117568  0.083693  \n",
       "581  0.124279 -0.065231  "
      ]
     },
     "execution_count": 116,
     "metadata": {},
     "output_type": "execute_result"
    }
   ],
   "source": [
    "for index, row in pcx_2019.iterrows():\n",
    "    if (row['title'] in best_paper_awards):\n",
    "        pcx_2019.iat[index, 1] = 'award'\n",
    "\n",
    "pcx_2019[pcx_2019['award'] == 'award']"
   ]
  },
  {
   "cell_type": "code",
   "execution_count": 117,
   "metadata": {},
   "outputs": [
    {
     "data": {
      "application/vnd.plotly.v1+json": {
       "config": {
        "plotlyServerURL": "https://plot.ly"
       },
       "data": [
        {
         "customdata": [
          [
           "Counterfactual Data Augmentation for Mitigating Gender Stereotypes in Languages with Rich Morphology"
          ],
          [
           "Unsupervised Discovery of Gendered Language through Latent-Variable Modeling"
          ],
          [
           "Margin-based Parallel Corpus Mining with Multilingual Sentence Embeddings"
          ],
          [
           "Searching for Effective Neural Extractive Summarization: What Works and What's Next"
          ],
          [
           "Style Transformer: Unpaired Text Style Transfer without Disentangled Latent Representation"
          ],
          [
           "Distantly Supervised Named Entity Recognition using Positive-Unlabeled Learning"
          ],
          [
           "Generating Responses with a Specific Emotion in Dialog"
          ],
          [
           "Bridging by Word: Image-Grounded Vocabulary Construction for Visual Captioning"
          ],
          [
           "Adversarial Domain Adaptation Using Artificial Titles for Abstractive Title Generation"
          ],
          [
           "Twitter Homophily: Network Based Prediction of User's Occupation"
          ],
          [
           "Incorporating Textual Information on User Behavior for Personality Prediction"
          ],
          [
           "Large-Scale Multi-Label Text Classification on EU Legislation"
          ],
          [
           "Neural Legal Judgment Prediction in English"
          ],
          [
           "Discourse Analysis and Its Applications"
          ],
          [
           "Self-Supervised Learning for Contextualized Extractive Summarization"
          ],
          [
           "Graph-based Dependency Parsing with Graph Neural Networks"
          ],
          [
           "Self-Supervised Dialogue Learning"
          ],
          [
           "Joint Type Inference on Entities and Relations via Graph Convolutional Networks"
          ],
          [
           "Towards Generating Long and Coherent Text with Multi-Level Latent Variable Models"
          ],
          [
           "Learning to Select, Track, and Generate for Data-to-Text"
          ],
          [
           "Multi-hop Reading Comprehension across Multiple Documents by Reasoning over Heterogeneous Graphs"
          ],
          [
           "Visual Story Post-Editing"
          ],
          [
           "HIGHRES: Highlight-based Reference-less Evaluation of Summarization"
          ],
          [
           "Merge and Label: A novel neural network architecture for nested NER"
          ],
          [
           "Model-Agnostic Meta-Learning for Relation Classification with Limited Supervision"
          ],
          [
           "ARNOR: Attention Regularization based Noise Reduction for Distant Supervision Relation Classification"
          ],
          [
           "Representing Schema Structure with Graph Neural Networks for Text-to-SQL Parsing"
          ],
          [
           "MULTIQA: An Empirical Investigation of Generalization and Transfer in Reading Comprehension"
          ],
          [
           "Topic Tensor Network for Implicit Discourse Relation Recognition in Chinese"
          ],
          [
           ""
          ],
          [
           "Gender-preserving Debiasing for Pre-trained Word Embeddings"
          ],
          [
           "Aspect Sentiment Classification Towards Question-Answering with Reinforced Bidirectional Attention Network"
          ],
          [
           "Adversarial Attention Modeling for Multi-dimensional Emotion Regression"
          ],
          [
           "On-device Structured and Context Partitioned Projection Networks"
          ],
          [
           "Multi-Source Cross-Lingual Model Transfer: Learning What to Share"
          ],
          [
           "Scalable Syntax-Aware Language Models Using Knowledge Distillation"
          ],
          [
           "Dense Procedure Captioning in Narrated Instructional Videos"
          ],
          [
           "The Risk of Racial Bias in Hate Speech Detection"
          ],
          [
           "HellaSwag: Can a Machine Really Finish Your Sentence?"
          ],
          [
           "COMET : Commonsense Transformers for Automatic Knowledge Graph Construction"
          ],
          [
           "Conversing by Reading: Contentful Neural Conversation with On-demand Machine Reading"
          ],
          [
           ""
          ],
          [
           "Learning Compressed Sentence Representations for On-Device Text Processing"
          ],
          [
           "Sentence Mover's Similarity: Automatic Evaluation for Multi-Sentence Texts"
          ],
          [
           "SParC: Cross-Domain Semantic Parsing in Context"
          ],
          [
           "Level-Up: Learning to Improve Proficiency Level of Essays"
          ],
          [
           "Word-order biases in deep-agent emergent communication"
          ],
          [
           "CNNs found to jump around more skillfully than RNNs: Compositional generalization in seq2seq convolutional networks"
          ],
          [
           "Miss Tools and Mr Fruit: Emergent communication in agents learning about object affordances"
          ],
          [
           "On the Distribution of Deep Clausal Embeddings: A Large Cross-linguistic Study"
          ],
          [
           "Learning to Link Grammar and Encyclopedic Information to Assist ESL Learners"
          ],
          [
           "STACL: Simultaneous Translation with Implicit Anticipation and Controllable Latency using Prefix-to-Prefix Framework *"
          ],
          [
           "Effective Adversarial Regularization for Neural Machine Translation"
          ],
          [
           "Enhancing Pre-Trained Language Representations with Rich Knowledge for Machine Reading Comprehension"
          ],
          [
           "Proactive Human-Machine Conversation with Explicit Conversation Goals"
          ],
          [
           "An Empirical Study of Span Representations in Argumentation Structure Parsing"
          ],
          [
           "Know More about Each Other: Evolving Dialogue Strategy via Compound Assessment"
          ],
          [
           "Open-Domain Why-Question Answering with Adversarial Learning to Encode Answer Texts"
          ],
          [
           "An Interactive Multi-Task Learning Network for End-to-End Aspect-Based Sentiment Analysis"
          ],
          [
           "Attention Guided Graph Convolutional Networks for Relation Extraction"
          ],
          [
           "Quantity Tagger: A Latent-Variable Sequence Labeling Approach to Solving Addition-Subtraction Word Problems"
          ],
          [
           "A Neural Multi-digraph Model for Chinese NER with Gazetteers"
          ],
          [
           "Inter-sentence Relation Extraction with Document-level Graph Convolutional Neural Network"
          ],
          [
           "DOER: Dual Cross-Shared RNN for Aspect Term-Polarity Co-Extraction"
          ],
          [
           "Learning to Discover, Ground and Use Words with Segmental Neural Language Models"
          ],
          [
           "Topic Modeling with Wasserstein Autoencoders"
          ],
          [
           "Simple and Effective Paraphrastic Similarity from Parallel Translations"
          ],
          [
           "Beyond BLEU: Training Neural Machine Translation with Semantic Similarity"
          ],
          [
           "Visually Grounded Neural Syntax Acquisition"
          ],
          [
           "Controllable Paraphrase Generation with a Syntactic Exemplar"
          ],
          [
           "Incremental Learning from Scratch for Task-Oriented Dialogue Systems"
          ],
          [
           "Multi-step Reasoning via Recurrent Dual Attention for Visual Dialog"
          ],
          [
           "Learning Deep Transformer Models for Machine Translation"
          ],
          [
           "Shared-Private Bilingual Word Embeddings for Neural Machine Translation"
          ],
          [
           "Energy and Policy Considerations for Deep Learning in NLP"
          ],
          [
           "A2N: Attending to Neighbors for Knowledge Graph Inference"
          ],
          [
           "Optimal Transport-based Alignment of Learned Character Representations for String Similarity"
          ],
          [
           "Hierarchical Transfer Learning for Multi-label Text Classification"
          ],
          [
           ""
          ],
          [
           "Learning from Dialogue after Deployment: Feed Yourself, Chatbot!"
          ],
          [
           "ConvLab: Multi-Domain End-to-End Dialog System Platform"
          ],
          [
           "From brain space to distributional space: the perilous journeys of fMRI decoding"
          ],
          [
           "Semantic Parsing with Dual Learning"
          ],
          [
           "Context-aware Embedding for Targeted Aspect-based Sentiment Analysis"
          ],
          [
           "Ensuring Readability and Data-fidelity using Head-modifier Templates in Deep Type Description Generation"
          ],
          [
           "Chinese Relation Extraction with Multi-Grained Information and External Linguistic Knowledge"
          ],
          [
           "DocRED: A Large-Scale Document-Level Relation Extraction Dataset"
          ],
          [
           "GEAR: Graph-based Evidence Aggregating and Reasoning for Fact Verification"
          ],
          [
           "ERNIE: Enhanced Language Representation with Informative Entities"
          ],
          [
           "DIAG-NRE: A Neural Pattern Diagnosis Framework for Distantly Supervised Neural Relation Extraction"
          ],
          [
           "Quantifying Similarity between Relations with Fact Distribution"
          ],
          [
           "Multi-Style Generative Reading Comprehension"
          ],
          [
           "Answering while Summarizing: Multi-task Learning for Multi-hop QA with Evidence Extraction"
          ],
          [
           "Detecting Adverse Drug Reactions from Biomedical Texts With Neural Networks"
          ],
          [
           "Deep Neural Models for Medical Concept Normalization in User-Generated Texts"
          ],
          [
           "Cross-domain and Cross-lingual Abusive Language Detection: a Hybrid Approach with Deep Learning and a Multilingual Lexicon"
          ],
          [
           "Yes, we can! Mining Arguments in 50 Years of US Presidential Campaign Debates"
          ],
          [
           "A Modular Tool for Automatic Summarization"
          ],
          [
           "Attention Is (not) All You Need for Commonsense Reasoning"
          ],
          [
           "TARGER: Neural Argument Mining at Your Fingertips"
          ],
          [
           "Multimodal Abstractive Summarization for How2 Videos"
          ],
          [
           "Task Refinement Learning for Improved Accuracy and Stability of Unsupervised Domain Adaptation"
          ],
          [
           "Improving Neural Conversational Models with Entropy-Based Data Filtering"
          ],
          [
           "Robust Zero-Shot Cross-Domain Slot Filling with Example Values"
          ],
          [
           "Learning How to Active Learn by Dreaming"
          ],
          [
           "Neural Architectures for Nested NER through Linearization"
          ],
          [
           "Message from the General Chair"
          ],
          [
           "Inducing Document Structure for Aspect-based Summarization"
          ],
          [
           "Are You Convinced? Choosing the More Convincing Evidence with a Siamese Network"
          ],
          [
           "Identification of Tasks, Datasets, Evaluation Metrics, and Numeric Scores for Scientific Leaderboards Construction"
          ],
          [
           "Neural Temporality Adaptation for Document Classification: Diachronic Word Embeddings and Domain Adaptation Models"
          ],
          [
           "Wétin dey with these comments? Modeling Sociolinguistic Factors Affecting Code-switching Behavior in Nigerian Online Discussions"
          ],
          [
           "Question Answering in the Biomedical Domain"
          ],
          [
           "Unsupervised Joint Training of Bilingual Word Embeddings"
          ],
          [
           "My Turn To Read: An Interleaved E-book Reading Tool for Developing and Struggling Readers"
          ],
          [
           "Unsupervised Bilingual Word Embedding Agreement for Unsupervised Neural Machine Translation"
          ],
          [
           "Sentence-Level Agreement for Neural Machine Translation"
          ],
          [
           "Neural Machine Translation with Reordering Embeddings"
          ],
          [
           "Lattice-Based Transformer Encoder for Neural Machine Translation"
          ],
          [
           "Multimodal Logical Inference System for Visual-Textual Entailment"
          ],
          [
           "Sequence Tagging with Contextual and Non-Contextual Subword Representations: A Multilingual Evaluation"
          ],
          [
           "Unsupervised Learning of Discourse-Aware Text Representation for Essay Scoring"
          ],
          [
           "Lattice Transformer for Speech Translation"
          ],
          [
           "Cross-Lingual Syntactic Transfer through Unsupervised Adaptation of Invertible Projections"
          ],
          [
           "Multi-grained Attention with Object-level Grounding for Visual Question Answering"
          ],
          [
           "Choosing Transfer Languages for Cross-Lingual Learning"
          ],
          [
           "An Empirical Investigation of Structured Output Modeling for Graph-based Neural Dependency Parsing"
          ],
          [
           "Domain Adaptive Inference for Neural Machine Translation"
          ],
          [
           "Knowledge discovery and hypothesis generation from online patient forums: A research proposal"
          ],
          [
           "Exploring Author Context for Detecting Intended vs Perceived Sarcasm"
          ],
          [
           "OpenDialKG: Explainable Conversational Reasoning with Attention-based Walks over Knowledge Graphs"
          ],
          [
           "Constrained Decoding for Neural NLG from Compositional Representations in Task-Oriented Dialogue"
          ],
          [
           "Predicting Human Activities from User-Generated Content"
          ],
          [
           "Embedding Strategies for Specialized Domains: Application to Clinical Entity Recognition"
          ],
          [
           "Annotation and Automatic Classification of Aspectual Categories"
          ],
          [
           "Evidence-based Trustworthiness"
          ],
          [
           "A Hierarchical Reinforced Sequence Operation Method for Unsupervised Text Style Transfer"
          ],
          [
           "Rhetorically Controlled Encoder-Decoder for Modern Chinese Poetry Generation"
          ],
          [
           "Observing Dialogue in Therapy: Categorizing and Forecasting Behavioral Codes"
          ],
          [
           "Global Optimization under Length Constraint for Neural Text Summarization"
          ],
          [
           "Dataset Creation for Ranking Constructive News Comments"
          ],
          [
           "Augmenting Neural Networks with First-order Logic"
          ],
          [
           "ADVISER: A Dialog System Framework for Education & Research"
          ],
          [
           "Classification and Clustering of Arguments with Contextualized Word Embeddings"
          ],
          [
           "Domain Adaptation of Neural Machine Translation by Lexicon Induction"
          ],
          [
           "Exploring Numeracy in Word Embeddings"
          ],
          [
           "Storyboarding of Recipes: Grounded Contextual Generation"
          ],
          [
           "Pay attention when you pay the bills. A multilingual corpus with dependency-based and semantic annotation of collocations"
          ],
          [
           "Crowdsourcing and Aggregating Nested Markable Annotations"
          ],
          [
           ""
          ],
          [
           "Who Sides With Whom? Towards Computational Construction of Discourse Networks for Political Debates"
          ],
          [
           "An Environment for Relational Annotation of Political Debates"
          ],
          [
           "A Spreading Activation Framework for Tracking Conceptual Complexity of Texts"
          ],
          [
           "CoDraw: Collaborative Drawing as a Testbed for Grounded Goal-driven Communication"
          ],
          [
           "Stochastic Tokenization with a Language Model for Neural Text Classification"
          ],
          [
           "Transforming Complex Sentences into a Semantic Hierarchy"
          ],
          [
           "Analyzing the Limitations of Cross-lingual Word Embedding Mappings"
          ],
          [
           "How to (Properly) Evaluate Cross-Lingual Word Embeddings: On Strong Baselines, Comparative Analyses, and Some Misconceptions"
          ],
          [
           "Boosting Entity Linking Performance by Leveraging Unlabeled Documents"
          ],
          [
           "JW300: A Wide-Coverage Parallel Corpus for Low-Resource Languages"
          ],
          [
           "Distant Learning for Entity Linking with Automatic Noise Detection"
          ],
          [
           "Unsupervised Pretraining for Neural Machine Translation Using Elastic Weight Consolidation"
          ],
          [
           "Analyzing Multi-Head Self-Attention: Specialized Heads Do the Heavy Lifting, the Rest Can Be Pruned"
          ],
          [
           "Interpretable Question Answering on Knowledge Bases and Text"
          ],
          [
           "Putting Evaluation in Context: Contextual Embeddings improve Machine Translation Evaluation"
          ],
          [
           "Improving Textual Network Embedding with Global Attention via Optimal Transport"
          ],
          [
           ""
          ],
          [
           "Aiming beyond the Obvious: Identifying Non-Obvious Cases in Semantic Similarity Datasets"
          ],
          [
           "Self-Supervised Neural Machine Translation"
          ],
          [
           "PTB Graph Parsing with Tree Approximation"
          ],
          [
           "Better Exploiting Latent Variables in Text Modeling"
          ],
          [
           "Improving Multi-turn Dialogue Modelling with Utterance ReWriter"
          ],
          [
           "A Joint Named-Entity Recognizer for Heterogeneous Tag-sets Using a Tag Hierarchy"
          ],
          [
           "Extracting Symptoms and their Status from Clinical Conversations"
          ],
          [
           "Jointly Learning Semantic Parser and Natural Language Generator via Dual Information Maximization"
          ],
          [
           "Semantic expressive capacity with bounded memory"
          ],
          [
           "How multilingual is Multilingual BERT?"
          ],
          [
           "Simple and Effective Curriculum Pointer-Generator Networks for Reading Comprehension over Long Narratives"
          ],
          [
           "Lightweight and Efficient Neural Natural Language Processing with Quaternion Networks"
          ],
          [
           "Time-Out: Temporal Referencing for Robust Modeling of Lexical Semantic Change"
          ],
          [
           "A Wind of Change: Detecting and Evaluating Lexical Semantic Change across Times and Domains"
          ],
          [
           "Reference Network for Neural Machine Translation"
          ],
          [
           "Multimodal Transformer Networks for End-to-End Video-Grounded Dialogue Systems"
          ],
          [
           "Reading Turn by Turn: Hierarchical Attention Architecture for Spoken Dialogue Comprehension"
          ],
          [
           "EditNTS: An Neural Programmer-Interpreter Model for Sentence Simplification through Explicit Editing"
          ],
          [
           "Learning to Rank for Plausible Plausibility"
          ],
          [
           "Incorporating Syntactic and Semantic Information in Word Embeddings using Graph Convolutional Networks"
          ],
          [
           "Historical Text Normalization with Delayed Rewards"
          ],
          [
           "Multi-Task Learning for Coherence Modeling"
          ],
          [
           "Learning Representation Mapping for Relation Detection in Knowledge Base Question Answering"
          ],
          [
           "ReCoSa: Detecting the Relevant Contexts with Self-Attention for Multi-turn Dialogue Generation"
          ],
          [
           "Decomposable Neural Paraphrase Generation"
          ],
          [
           "Bridging the Gap between Training and Inference for Neural Machine Translation"
          ],
          [
           "Modeling Semantic Compositionality with Sememe Knowledge"
          ],
          [
           "Revisiting Low-Resource Neural Machine Translation: A Case Study"
          ],
          [
           "A Lightweight Recurrent Network for Sequence Modeling"
          ],
          [
           "Fine-Grained Temporal Relation Extraction"
          ],
          [
           "Deep Neural Model Inspection and Comparison via Functional Neuron Pathways"
          ],
          [
           "Morphological Irregularity Correlates with Frequency"
          ],
          [
           "On the Summarization of Consumer Health Questions"
          ],
          [
           "Complex Word Identification as a Sequence Labelling Task"
          ],
          [
           "Leveraging Local and Global Patterns for Self-Attention Networks"
          ],
          [
           "Revisiting Joint Modeling of Cross-document Entity and Event Coreference Resolution"
          ],
          [
           "Generating Summaries with Topic Templates and Structured Convolutional Decoders"
          ],
          [
           "A Unified Multi-task Adversarial Learning Framework for Pharmacovigilance Mining"
          ],
          [
           "#YouToo? Detection of Personal Recollections of Sexual Harassment on Social Media"
          ],
          [
           "Towards Multimodal Sarcasm Detection (An Obviously Perfect Paper)"
          ],
          [
           "Learning Transferable Feature Representations Using Neural Networks"
          ],
          [
           "Accelerating Sparse Matrix Operations in Neural Networks on Graphics Processing Units"
          ],
          [
           "ARHNet -Leveraging Community Interaction For Detection Of Religious Hate Speech In Arabic"
          ],
          [
           "Look Harder: A Neural Machine Translation Model with Hard Attention"
          ],
          [
           "Matching Article Pairs with Graphical Decomposition and Convolutions"
          ],
          [
           "Towards Lossless Encoding of Sentences"
          ],
          [
           "Do Neural Dialog Systems Use the Conversation History Effectively? An Empirical Study"
          ],
          [
           "A Large-Scale Corpus for Conversation Disentanglement"
          ],
          [
           "TALKSUMM: A Dataset and Scalable Annotation Method for Scientific Paper Summarization Based on Conference Talks"
          ],
          [
           "The Language of Legal and Illegal Activity on the Darknet"
          ],
          [
           "Argument Invention from First Principles"
          ],
          [
           "From Surrogacy to Adoption; From Bitcoin to Cryptocurrency: Debate Topic Expansion"
          ],
          [
           "What Makes a Good Counselor? Learning to Distinguish between High-quality and Low-quality Counseling Conversations"
          ],
          [
           "A Semi-Markov Structured Support Vector Machine Model for High-Precision Named Entity Recognition"
          ],
          [
           "Relating Simple Sentence Representations in Deep Neural Networks and the Brain"
          ],
          [
           "The KNOWREF Coreference Corpus: Removing Gender and Number Cues for Difficult Pronominal Anaphora Resolution"
          ],
          [
           "Detecting Subevents using Discourse and Narrative Features"
          ],
          [
           "Word and Document Embedding with vMF-Mixture Priors on Context Word Vectors"
          ],
          [
           "Exploiting Explicit Paths for Multi-hop Reading Comprehension"
          ],
          [
           "Disentangled Representation Learning for Non-Parallel Text Style Transfer"
          ],
          [
           "Towards Explainable NLP: A Generative Explanation Framework for Text Classification"
          ],
          [
           "Exploiting Entity BIO Tag Embeddings and Multi-task Learning for Relation Extraction with Imbalanced Data"
          ],
          [
           "Ordinal and Attribute Aware Response Generation in a Multimodal Dialogue System"
          ],
          [
           "RankQA: Neural Question Answering with Answer Re-Ranking"
          ],
          [
           "A Working Memory Model for Task-oriented Dialog Response Generation"
          ],
          [
           "Improving Abstractive Document Summarization with Salient Information Modeling"
          ],
          [
           "Sequence Labeling Parsing by Learning Across Representations"
          ],
          [
           "Generating Question Relevant Captions to Aid Visual Question Answering"
          ],
          [
           "Controlling Grammatical Error Correction Using Word Edit Rate"
          ],
          [
           "Simple and Effective Text Matching with Richer Alignment Features"
          ],
          [
           "A Simple Recipe towards Reducing Hallucination in Neural Surface Realisation"
          ],
          [
           "Exploring Pre-trained Language Models for Event Extraction and Generation"
          ],
          [
           "Expressing Visual Relationships via Language"
          ],
          [
           "Scoring Sentence Singletons and Pairs for Abstractive Summarization"
          ],
          [
           "Delta Embedding Learning"
          ],
          [
           "Poetry to Prose Conversion in Sanskrit as a Linearisation Task: A case for Low-Resource Languages"
          ],
          [
           "Latent Variable Model for Multi-modal Translation"
          ],
          [
           "Interpretable Neural Predictions with Differentiable Binary Variables"
          ],
          [
           "Graph based Neural Networks for Event Factuality Prediction using Syntactic and Semantic Structures"
          ],
          [
           "Data-to-text Generation with Entity Modeling"
          ],
          [
           "Evaluating Discourse in Structured Text Representations"
          ],
          [
           "Training Neural Machine Translation To Apply Terminology Constraints"
          ],
          [
           "Unsupervised Rewriter for Multi-Sentence Compression"
          ],
          [
           "Fine-tuning Pre-Trained Transformer Language Models to Distantly Supervised Relation Extraction"
          ],
          [
           "Unsupervised Pivot Translation for Distant Languages"
          ],
          [
           "Improved Sentiment Detection via Label Transfer from Monolingual to Synthetic Code-Switched Text"
          ],
          [
           "On the Word Alignment from Neural Machine Translation *"
          ],
          [
           "Selection Bias Explorations and Debias Methods for Natural Language Sentence Matching Datasets"
          ],
          [
           "BiSET: Bi-directional Selective Encoding with Template for Abstractive Summarization"
          ],
          [
           "Semi-supervised Domain Adaptation for Dependency Parsing"
          ],
          [
           "Are Girls Neko or Shōjo? Cross-Lingual Alignment of Non-Isomorphic Embeddings with Iterative Normalization"
          ],
          [
           "Towards Integration of Statistical Hypothesis Tests into Deep Neural Networks"
          ],
          [
           "Adversarial Multitask Learning for Joint Multi-Feature and Multi-Dialect Morphological Modeling"
          ],
          [
           "Unsupervised Question Answering by Cloze Translation"
          ],
          [
           "Generating Natural Language Adversarial Examples through Probability Weighted Word Saliency"
          ],
          [
           "Misleading Failures of Partial-input Baselines"
          ],
          [
           "Automatic and Human Evaluation of Local Topic Quality"
          ],
          [
           "Why Didn't You Listen to Me? Comparing User Control of Human-in-the-Loop Topic Models"
          ],
          [
           "Real-Time Open-Domain Question Answering with Dense-Sparse Phrase Index"
          ],
          [
           "Sakura: Large-scale Incorrect Example Retrieval System for Learners of Japanese as a Second Language"
          ],
          [
           "This year, the student research workshop has received a great attention, reflecting the growth of the field. We received 214 submissions in total: 27 research proposals and 147 research papers. Among these, 7 research proposals and 22 research papers were non-archival. We accepted 71 papers, for an acceptance rate of 33%. After withdrawals and excluding non-archival papers, 61 papers are appearing in these proceedings, including 14 research proposals and 47 research papers. All of the accepted papers will be presented as posters in late morning sessions as a part of the main conference, split across three days (July 29th-31th). Mentoring is at the heart of the SRW. In keeping with previous years, students had the opportunity for pre-submission mentoring prior to the submission deadline. Total of 64 papers participated in presubmission mentoring program. This program offered students a chance to receive comments from an experienced researcher, in order to improve the quality of the writing and presentation before making their submission. In addition, authors of accepted SRW papers are matched with mentors who will meet with the students in person during the poster presentations. Each mentor prepares in-depth comments and questions prior to the student's presentation, and provides discussion and feedback during the workshop. We are deeply grateful to our sponsors whose support will enable a number of students to attend the conference. We would also like to thank our program committee members for their careful reviews of each paper, and all of our mentors for donating their time to provide feedback to our student authors. Thank you to our faculty advisors Hannaneh Hajishirzi, Aurelie Herbelot, Scott Yih, Yue Zhang for their essential advice and guidance, and to the members of the ACL 2018 organizing committee, in particular David Traum, Anna Korhonen and Lluís Màrquez for their helpful support. Finally, kudos to our student participants! iii"
          ],
          [
           "Negative Lexically Constrained Decoding for Paraphrase Generation"
          ],
          [
           "Retrieval-Enhanced Adversarial Training for Neural Response Generation"
          ],
          [
           "Towards Complex Text-to-SQL in Cross-Domain Database with Intermediate Representation"
          ],
          [
           "Can You Tell Me How to Get Past Sesame Street? Sentence-Level Pretraining Beyond Language Modeling"
          ],
          [
           "The PhotoBook Dataset: Building Common Ground through Visually-Grounded Dialogue"
          ],
          [
           "A Resource-Free Evaluation Metric for Cross-Lingual Word Embeddings Based on Graph Modularity"
          ],
          [
           "Learning to Ask Unanswerable Questions for Machine Reading Comprehension"
          ],
          [
           "Compositional Questions Do Not Necessitate Multi-hop Reasoning"
          ],
          [
           "Multi-hop Reading Comprehension through Question Decomposition and Rescoring"
          ],
          [
           "A Unified Linear-Time Framework for Sentence-Level Discourse Parsing"
          ],
          [
           "Dialogue-Act Prediction of Future Responses based on Conversation History"
          ],
          [
           "What does BERT learn about the structure of language?"
          ],
          [
           "Span-Level Model for Relation Extraction"
          ],
          [
           "Toward Comprehensive Understanding of a Sentiment Based on Human Motives"
          ],
          [
           "Language Modeling with Shared Grammar"
          ],
          [
           "Controllable Text Simplification with Lexical Constraint Loss"
          ],
          [
           "SUMBT: Slot-Utterance Matching for Universal and Scalable Belief Tracking"
          ],
          [
           "Unsupervised Information Extraction: Regularizing Discriminative Approaches with Relation Distribution Losses"
          ],
          [
           "Neural Relation Extraction for Knowledge Base Enrichment"
          ],
          [
           "Normalizing Non-canonical Turkish Texts Using Machine Translation Approaches"
          ],
          [
           "Bilingual Lexicon Induction with Semi-supervision in Non-Isometric Embedding Spaces"
          ],
          [
           "Corpus Creation and Analysis for Named Entity Recognition in Telugu-English Code-Mixed Social Media Data"
          ],
          [
           "De-Mixing Sentiment from Code-Mixed Text"
          ],
          [
           "Boosting Dialog Response Generation"
          ],
          [
           "Exploring Phoneme-Level Speech Representations for End-to-End Speech Translation"
          ],
          [
           "Towards Scalable and Reliable Capsule Networks for Challenging NLP Applications"
          ],
          [
           "Employing the Correspondence of Relations and Connectives to Identify Implicit Discourse Relations via Label Embeddings"
          ],
          [
           "Neural Keyphrase Generation via Reinforcement Learning with Adaptive Rewards"
          ],
          [
           "Automatically Identifying Complaints in Social Media"
          ],
          [
           "Massively Multilingual Transfer for NER"
          ],
          [
           "Better Character Language Modeling Through Morphology"
          ],
          [
           "BAM! Born-Again Multi-Task Networks for Natural Language Understanding"
          ],
          [
           "Neural Aspect and Opinion Term Extraction with Mined Rules as Weak Supervision"
          ],
          [
           "Mitigating Gender Bias in Natural Language Processing: Literature Review"
          ],
          [
           "Entity-Centric Contextual Affective Analysis"
          ],
          [
           "Identifying Visible Actions in Lifestyle Vlogs"
          ],
          [
           "A Cross-Domain Transferable Neural Coherence Model"
          ],
          [
           "Relation Embedding with Dihedral Group in Knowledge Graph"
          ],
          [
           "Enhancing Air Quality Prediction with Social Media and Natural Language Processing"
          ],
          [
           "Know What You Don't Know: Modeling a Pragmatic Speaker that Refers to Objects of Unknown Categories"
          ],
          [
           "NeuralClassifier: An Open-source Neural Hierarchical Multi-label Text Classification Toolkit"
          ],
          [
           "Combining Knowledge Hunting and Neural Language Models to Solve the Winograd Schema Challenge"
          ],
          [
           "Careful Selection of Knowledge to solve Open Book Question Answering"
          ],
          [
           "A computational linguistic study of personal recovery in bipolar disorder"
          ],
          [
           "SARAL: A Low-Resource Cross-Lingual Domain-Focused Information Retrieval System for Effective Rapid Document Triage"
          ],
          [
           "Psycholinguistics meets Continual Learning: Measuring Catastrophic Forgetting in Visual Question Answering"
          ],
          [
           "FIESTA: Fast IdEntification of State-of-The-Art models using adaptive bandit algorithms"
          ],
          [
           "ClaimPortal: Integrated Monitoring, Searching, Checking, and Analytics of Factual Claims on Twitter"
          ],
          [
           "Predicting Humorousness and Metaphor Novelty with Gaussian Process Preference Learning"
          ],
          [
           "CONAN -COunter NArratives through Nichesourcing: a Multilingual Dataset of Responses to Fight Online Hate Speech"
          ],
          [
           "The (Non-)Utility of Structural Features in BiLSTM-based Dependency Parsers"
          ],
          [
           "Zero-Shot Cross-Lingual Abstractive Sentence Summarization through Teaching Generation and Attention"
          ],
          [
           "Pretraining Methods for Dialog Context Representation Learning"
          ],
          [
           "CogNet: a Large-Scale Cognate Database"
          ],
          [
           "Neural News Recommendation with Long-and Short-term User Representations"
          ],
          [
           "GraphRel: Modeling Text as Relational Graphs for Joint Entity and Relation Extraction"
          ],
          [
           "Multi-task Pairwise Neural Ranking for Hashtag Segmentation"
          ],
          [
           "Entity-Relation Extraction as Multi-turn Question Answering"
          ],
          [
           "Is Word Segmentation Necessary for Deep Learning of Chinese Representations?"
          ],
          [
           "Implicit Discourse Relation Identification for Open-domain Dialogues"
          ],
          [
           "Analysis of Automatic Annotation Suggestions for Hard Discourse-Level Tasks in Expert Domains"
          ],
          [
           "Is Attention Interpretable?"
          ],
          [
           "Neural News Recommendation with Topic-Aware News Representation"
          ],
          [
           "Persuasion for Good: Towards a Personalized Persuasive Dialogue System for Social Good"
          ],
          [
           "Show, Describe and Conclude: On Exploiting the Structure Information of Chest X-Ray Reports"
          ],
          [
           "Curate and Generate: A Corpus and Method for Joint Control of Semantics and Style in Neural NLG"
          ],
          [
           "Synthetic QA Corpora Generation with Roundtrip Consistency"
          ],
          [
           "Multi-Task Networks With Universe, Group, and Task Feature Learning"
          ],
          [
           "Informative Image Captioning with External Sources of Information"
          ],
          [
           "Cognitive Graph for Multi-Hop Reading Comprehension at Scale"
          ],
          [
           "Dynamically Fused Graph Network for Multi-hop Reasoning"
          ],
          [
           "Multi-Channel Graph Neural Network for Entity Alignment"
          ],
          [
           "Semantically Conditioned Dialog Response Generation via Hierarchical Disentangled Self-Attention"
          ],
          [
           "Jiuge: A Human-Machine Collaborative Chinese Classical Poetry Generation System"
          ],
          [
           "Hierarchical Transformers for Multi-Document Summarization"
          ],
          [
           "SphereRE: Distinguishing Lexical Relations with Hyperspherical Relation Embeddings"
          ],
          [
           "Are Red Roses Red? Evaluating Consistency of Question-Answering Models"
          ],
          [
           "Modeling Intra-Relation in Math Word Problems with Different Functional Multi-Head Attentions"
          ],
          [
           "Course Concept Expansion in MOOCs with External Knowledge and Interactive Game"
          ],
          [
           "Few-Shot Representation Learning for Out-Of-Vocabulary Words"
          ],
          [
           "Automated Chess Commentator Powered by Neural Chess Engine"
          ],
          [
           "VIFIDEL: Evaluating the Visual Fidelity of Image Descriptions"
          ],
          [
           "Exploring Sequence-to-Sequence Learning in Aspect Term Extraction"
          ],
          [
           "Learning to Control the Fine-grained Sentiment for Story Ending Generation"
          ],
          [
           "How Large Are Lions? Inducing Distributions over Quantitative Attributes"
          ],
          [
           "Right for the Wrong Reasons: Diagnosing Syntactic Heuristics in Natural Language Inference"
          ],
          [
           "Translating Translationese: A Two-Step Approach to Unsupervised Machine Translation"
          ],
          [
           "BERT Rediscovers the Classical NLP Pipeline"
          ],
          [
           "Argument Generation with Retrieval, Planning, and Realization"
          ],
          [
           "Dual Adversarial Neural Transfer for Low-Resource Named Entity Recognition"
          ],
          [
           "ChID: A Large-scale Chinese IDiom Dataset for Cloze Test"
          ],
          [
           "Robust Representation Learning of Biomedical Names"
          ],
          [
           "KCAT: A Knowledge-Constraint Typing Annotation Tool"
          ],
          [
           "Eliciting Knowledge from Experts: Automatic Transcript Parsing for Cognitive Task Analysis"
          ],
          [
           "AlpacaTag: An Active Learning-based Crowd Annotation Framework for Sequence Tagging"
          ],
          [
           "Tree LSTMs with Convolution Units to Predict Stance and Rumor Veracity in Social Media Conversations"
          ],
          [
           "Reinforced Dynamic Reasoning for Conversational Question Generation"
          ],
          [
           "Open Vocabulary Learning for Neural Chinese Pinyin IME"
          ],
          [
           "Diachronic Sense Modeling with Deep Contextualized Word Embeddings: An Ecological View"
          ],
          [
           "Literary Event Detection"
          ],
          [
           "A Prism Module for Semantic Disentanglement in Name Entity Recognition"
          ],
          [
           "Long-Distance Dependencies don't have to be Long: Simplifying through Provably (Approximately) Optimal Permutations"
          ],
          [
           "Modeling financial analysts' decision making via the pragmatics and semantics of earnings calls"
          ],
          [
           "Towards Fine-grained Text Sentiment Transfer"
          ],
          [
           "Dual Supervised Learning for Natural Language Understanding and Generation"
          ],
          [
           "Reliability-aware Dynamic Feature Composition for Name Tagging"
          ],
          [
           "PaperRobot: Incremental Draft Generation of Scientific Ideas"
          ],
          [
           "Keep Meeting Summaries on Topic: Abstractive Multi-Modal Meeting Summarization"
          ],
          [
           "Towards Comprehensive Description Generation from Factual Attribute-value Tables"
          ],
          [
           "Multi-Grained Named Entity Recognition"
          ],
          [
           "Figurative Usage Detection of Symptom Words to Improve Personal Health Mention Detection"
          ],
          [
           "Recognising Agreement and Disagreement between Stances with Reason Comparing Networks"
          ],
          [
           "Using Human Attention to Extract Keyphrase from Microblog Post"
          ],
          [
           "HIBERT: Document Level Pre-training of Hierarchical Bidirectional Transformers for Document Summarization"
          ],
          [
           "Automatic Grammatical Error Correction for Sequence-to-sequence Text Generation: An Empirical Study"
          ],
          [
           "Explain Yourself! Leveraging Language Models for Commonsense Reasoning"
          ],
          [
           "Open-Domain Targeted Sentiment Analysis via Span-Based Extraction and Classification"
          ],
          [
           ""
          ],
          [
           "Retrieve, Read, Rerank: Towards End-to-End Multi-Document Reading Comprehension"
          ],
          [
           "Graph Neural Networks with Generated Parameters for Relation Extraction"
          ],
          [
           "BERT-based Lexical Substitution"
          ],
          [
           "Weakly-Supervised Spatio-Temporally Grounding Natural Sentence in Video"
          ],
          [
           "Open Domain Event Extraction Using Neural Latent Variable Models"
          ],
          [
           "Towards Near-imperceptible Steganographic Text"
          ],
          [
           "Token-level Dynamic Self-Attention Network for Multi-Passage Reading Comprehension"
          ],
          [
           "Incremental Transformer with Deliberation Decoder for Document Grounded Conversations"
          ],
          [
           "A Multiscale Visualization of Attention in the Transformer Model"
          ],
          [
           "Target-Guided Open-Domain Conversation"
          ],
          [
           "Just \"OneSeC\" for Producing Multilingual Sense-Annotated Data"
          ],
          [
           "Improving the Similarity Measure of Determinantal Point Processes for Extractive Multi-Document Summarization"
          ],
          [
           "Cross-lingual Knowledge Graph Alignment via Graph Matching Neural Network"
          ],
          [
           "Knowledge-aware Pronoun Coreference Resolution"
          ],
          [
           "Progressive Self-Supervised Attention Learning for Aspect-Level Sentiment Analysis"
          ],
          [
           "Gated Embeddings in End-to-End Speech Recognition for Conversational-Context Fusion"
          ],
          [
           "Multi-Level Matching and Aggregation Network for Few-Shot Relation Classification"
          ],
          [
           "Learning Representations from Imperfect Time Series Data via Tensor Rank Regularization"
          ],
          [
           "Multimodal Transformer for Unaligned Multimodal Language Sequences"
          ],
          [
           "Exploiting Invertible Decoders for Unsupervised Sentence Representation Learning"
          ],
          [
           "Generating Question-Answer Hierarchies"
          ],
          [
           "Syntactically Supervised Transformers for Faster Neural Machine Translation"
          ],
          [
           "Encouraging Paragraph Embeddings to Remember Sentence Identity Improves Classification"
          ],
          [
           "Strategies for Structuring Story Generation"
          ],
          [
           "Heuristic Authorship Obfuscation"
          ],
          [
           "Bias Analysis and Mitigation in the Evaluation of Authorship Verification"
          ],
          [
           "This Email Could Save Your Life: Introducing the Task of Email Subject Line Generation"
          ],
          [
           "SP-10K: A Large-scale Evaluation Set for Selectional Preference Acquisition"
          ],
          [
           "Extracting Multiple-Relations in One-Pass with Pre-Trained Transformers"
          ],
          [
           "Improving Question Answering over Incomplete KBs with Knowledge-Aware Reader"
          ],
          [
           "Sentence Centrality Revisited for Unsupervised Summarization"
          ],
          [
           "TWEETQA: A Social Media Focused Question Answering Dataset"
          ],
          [
           "Parallax: Visualizing and Understanding the Semantics of Embedding Spaces via Algebraic Formulae"
          ],
          [
           "Monotonic Infinite Lookback Attention for Simultaneous Machine Translation"
          ],
          [
           "End-to-end Deep Reinforcement Learning Based Coreference Resolution"
          ],
          [
           "Rewarding Smatch: Transition-Based AMR Parsing with Reinforcement Learning"
          ],
          [
           "Low-resource Deep Entity Resolution with Transfer and Active Learning"
          ],
          [
           "HEIDL: Learning Linguistic Expressions with Deep Learning and Human-in-the-Loop"
          ],
          [
           "Emotion-Cause Pair Extraction: A New Task to Emotion Analysis in Texts"
          ],
          [
           "Soft Contextual Data Augmentation for Neural Machine Translation"
          ],
          [
           "Understanding Undesirable Word Embedding Associations"
          ],
          [
           "Towards Understanding Linear Word Analogies"
          ],
          [
           "From Bilingual to Multilingual Neural Machine Translation by Incremental Training"
          ],
          [
           "Key Fact as Pivot: A Two-Stage Model for Low Resource Table-to-Text Generation"
          ],
          [
           "Enhancing Topic-to-Essay Generation with External Commonsense Knowledge"
          ],
          [
           "Generating Fluent Adversarial Examples for Natural Languages"
          ],
          [
           "STRASS: A Light and Effective Method for Extractive Summarization Based on Sentence Embeddings"
          ],
          [
           "Online Infix Probability Computation for Probabilistic Finite Automata"
          ],
          [
           "Cross-Modal Commentator: Automatic Machine Commenting Based on Cross-Modal Information"
          ],
          [
           "XQA: A Cross-lingual Open-domain Question Answering Dataset"
          ],
          [
           "Generating Sentences from Disentangled Syntactic and Semantic Spaces"
          ],
          [
           "Automatic Generation of Personalized Comment Based on User Profile"
          ],
          [
           "Imitation Learning for Non-Autoregressive Neural Machine Translation"
          ],
          [
           "Like a Baby: Visually Situated Neural Language Acquisition"
          ],
          [
           "Improving Neural Language Models by Segmenting, Attending, and Predicting the Future"
          ],
          [
           "Does It Make Sense? And Why? A Pilot Study for Sense Making and Explanation"
          ],
          [
           "Cross-Lingual Training for Automatic Question Generation"
          ],
          [
           "Continual and Multi-Task Architecture Search"
          ],
          [
           "Explore, Propose, and Assemble: An Interpretable Model for Multi-Hop Reading Comprehension"
          ],
          [
           "Avoiding Reasoning Shortcuts: Adversarial Evaluation, Training, and Model Development for Multi-Hop QA"
          ],
          [
           "Semi-supervised Stochastic Multi-Domain Learning using Variational Inference"
          ],
          [
           "Comparison of Diverse Decoding Methods from Conditional Language Models"
          ],
          [
           "PERSPECTROSCOPE: A Window to the World of Diverse Perspectives"
          ],
          [
           "An adaptable task-oriented dialog system for stand-alone embedded devices"
          ],
          [
           "Deep Dominance -How to Properly Compare Deep Neural Models"
          ],
          [
           "Improving Visual Question Answering by Referring to Generated Paragraph Captions"
          ],
          [
           "Unraveling Antonym's Word Vectors through a Siamese-like Network"
          ],
          [
           "LSTMEmbed: Learning Word and Sense Representations from a Large Semantically Annotated Corpus with Long Short-Term Memories"
          ],
          [
           "Evaluating Gender Bias in Machine Translation"
          ],
          [
           "When a Good Translation is Wrong in Context: Context-Aware Machine Translation Improves on Deixis, Ellipsis, and Lexical Cohesion"
          ],
          [
           "Rationally Reappraising ATIS-based Dialogue Systems"
          ],
          [
           "ELI5: Long Form Question Answering"
          ],
          [
           "Paraphrases as Foreign Languages in Multilingual Neural Machine Translation"
          ],
          [
           "lingvis.io -A Linguistic Visual Analytics Framework"
          ],
          [
           "Demonstration of a Neural Machine Translation System with Online Learning for Translators"
          ],
          [
           "GrapAL: Connecting the Dots in Scientific Literature"
          ],
          [
           "FASTDial: Abstracting Dialogue Policies for Fast Development of Task Oriented Agents"
          ],
          [
           "Rapid Customization for Event Extraction"
          ],
          [
           ""
          ],
          [
           "PostAc ® : A Visual Interactive Search, Exploration, and Analysis Platform for PhD Intensive Job Postings"
          ],
          [
           "A Neural, Interactive-predictive System for Multimodal Sequence to Sequence Tasks"
          ],
          [
           "GLTR: Statistical Detection and Visualization of Generated Text"
          ],
          [
           "Annotating and Analyzing Semantic Role of Elementary Units and Relations in Online Persuasive Arguments"
          ],
          [
           "Microsoft ICECAPS: An Open-Source Toolkit for Conversation Modeling"
          ],
          [
           "Flambé: A Customizable Framework for Machine Learning Experiments"
          ],
          [
           "MoNoise: A Multi-lingual and Easy-to-use Lexical Normalization Tool"
          ],
          [
           "Texar: A Modularized, Versatile, and Extensible Toolkit for Text Generation"
          ],
          [
           "SLATE: A Super-Lightweight Annotation Tool for Experts"
          ],
          [
           "You Only Need Attention to Traverse Trees"
          ],
          [
           "Constructing Interpretive Spatio-Temporal Features for Multi-Turn Responses Selection"
          ],
          [
           "Stay on the Path: Instruction Fidelity in Vision-and-Language Navigation"
          ],
          [
           "Robust Neural Machine Translation with Doubly Adversarial Inputs"
          ],
          [
           ""
          ],
          [
           "A Multi-Task Architecture on Relevance-based Neural Query Translation"
          ],
          [
           "Women's Syntactic Resilience and Men's Grammatical Luck: Gender-Bias in Part-of-Speech Tagging and Dependency Parsing"
          ],
          [
           "Robust Neural Machine Translation with Joint Textual and Phonetic Embedding"
          ],
          [
           "Attention over Heads: A Multi-Hop Attention for Neural Machine Translation"
          ],
          [
           "Using Semantic Similarity as Reward for Reinforcement Learning in Sentence Generation"
          ],
          [
           "Simultaneous Translation with Flexible Policy via Restricted Imitation Learning"
          ],
          [
           "Unsupervised Paraphrasing without Translation"
          ],
          [
           "Celebrity Profiling"
          ],
          [
           "Probing Neural Network Comprehension of Natural Language Arguments"
          ],
          [
           "Generating Logical Forms from Graph Representations of Text and Entities"
          ],
          [
           "Dynamically Composing Domain-Data Selection with Clean-Data Selection by \"Co-Curricular Learning\" for Neural Machine Translation"
          ],
          [
           "Handling Divergent Reference Texts when Evaluating Table-to-Text Generation"
          ],
          [
           "Ranking of Potential Questions"
          ],
          [
           "Context-specific language modeling for human trafficking detection from online advertisements"
          ],
          [
           "Putting words in context: LSTM language models and lexical ambiguity"
          ],
          [
           "NNE: A Dataset for Nested Named Entity Recognition in English Newswire"
          ],
          [
           "Latent Retrieval for Weakly Supervised Open Domain Question Answering"
          ],
          [
           "Ranking Generated Summaries by Correctness: An Interesting but Challenging Application for Natural Language Inference"
          ],
          [
           "Using Automatically Extracted Minimum Spans to Disentangle Coreference Evaluation from Boundary Detection"
          ],
          [
           "Effective Cross-lingual Transfer of Neural Machine Translation Models without Shared Vocabularies"
          ],
          [
           "Reversing Gradients in Adversarial Domain Adaptation for Question Deduplication and Textual Entailment Tasks"
          ],
          [
           "Crowdsourcing and Validating Event-focused Emotion Corpora for German and English"
          ],
          [
           "An Imitation Learning Approach to Unsupervised Parsing"
          ],
          [
           "Zero-Shot Entity Linking by Reading Entity Descriptions"
          ],
          [
           "How to best use Syntax in Semantic Role Labelling"
          ],
          [
           "Learning Emphasis Selection for Written Text in Visual Media from Crowd-Sourced Label Distributions"
          ],
          [
           "AMR Parsing as Sequence-to-Graph Transduction"
          ],
          [
           "Neural Decipherment via Minimum-Cost Flow: from Ugaritic to Linear B"
          ],
          [
           "Don't Take the Premise for Granted: Mitigating Artifacts in Natural Language Inference"
          ],
          [
           "Not All Reviews are Equal: Towards Addressing Reviewer Biases for Opinion Summarization"
          ],
          [
           "Compound Probabilistic Context-Free Grammars for Grammar Induction"
          ],
          [
           "BIGPATENT: A Large-Scale Dataset for Abstractive and Coherent Summarization"
          ],
          [
           "Joint Effects of Context and User History for Predicting Online Conversation Re-entries"
          ],
          [
           "Making Fast Graph-based Algorithms with Graph Metric Embeddings"
          ],
          [
           "Matching the Blanks: Distributional Similarity for Relation Learning"
          ],
          [
           "Unsupervised Parallel Sentence Extraction with Parallel Segment Detection Helps Machine Translation"
          ],
          [
           "Better OOV Translation with Bilingual Terminology Mining"
          ],
          [
           "Unsupervised Multilingual Word Embedding with Limited Resources using Neural Language Models"
          ],
          [
           "Investigating Political Herd Mentality: A Community Sentiment Based Approach"
          ],
          [
           "Learning Attention-based Embeddings for Relation Prediction in Knowledge Graphs"
          ],
          [
           "Cross-Domain Generalization of Neural Constituency Parsers"
          ],
          [
           "Pre-Learning Environment Representations for Data-Efficient Neural Instruction Following"
          ],
          [
           "Are You Looking? Grounding to Multiple Modalities in Vision-and-Language Navigation"
          ],
          [
           "Improving Low-Resource Cross-lingual Document Retrieval by Reranking with Deep Bilingual Representations"
          ],
          [
           "Multilingual Constituency Parsing with Self-Attention and Pre-Training"
          ],
          [
           "Simple Unsupervised Summarization by Contextual Matching"
          ],
          [
           "Personalizing Dialogue Agents via Meta-Learning"
          ],
          [
           "Memory Consolidation for Contextual Spoken Language Understanding with Dialogue Logistic Inference"
          ],
          [
           "Generalized Data Augmentation for Low-Resource Translation"
          ],
          [
           "Māori Loanwords: A Corpus of New Zealand English Tweets"
          ],
          [
           "Improving Neural Entity Disambiguation with Graph Embeddings"
          ],
          [
           "DeepSentiPeer: Harnessing Sentiment in Review Texts To Recommend Peer Review Decisions"
          ],
          [
           "Multimodal and Multi-view Models for Emotion Recognition"
          ],
          [
           "Zero-Shot Semantic Parsing for Instructions"
          ],
          [
           "What Should I Ask? Using Conversationally Informative Rewards for Goal-Oriented Visual Dialogue"
          ],
          [
           "Complex Question Decomposition for Semantic Parsing"
          ],
          [
           "HEAD-QA: A Healthcare Dataset for Complex Reasoning"
          ],
          [
           "Unified Semantic Parsing with Weak Supervision"
          ],
          [
           "Numeracy-600K: Learning Numeracy for Detecting Exaggerated Information in Market Comments"
          ],
          [
           "Multi-Task Deep Neural Networks for Natural Language Understanding"
          ],
          [
           "Distilling Translations with Visual Awareness"
          ],
          [
           "DisSent: Learning Sentence Representations from Explicit Discourse Relations"
          ],
          [
           "A Corpus for Reasoning About Natural Language Grounded in Photographs"
          ],
          [
           "Multi-News: a Large-Scale Multi-Document Summarization Dataset and Abstractive Hierarchical Model"
          ],
          [
           "EigenSent: Spectral sentence embeddings using higher-order Dynamic Mode Decomposition"
          ],
          [
           "Self-Attentional Models for Lattice Inputs"
          ],
          [
           "SEMBLEU: A Robust Metric for AMR Parsing Evaluation"
          ],
          [
           "Symbolic inductive bias for visually grounded learning of spoken language"
          ],
          [
           "Improved Zero-shot Neural Machine Translation via Ignoring Spurious Correlations"
          ],
          [
           "A Compact and Language-Sensitive Multilingual Translation Method"
          ],
          [
           "On the Robustness of Self-Attentive Models"
          ],
          [
           "Exact Hard Monotonic Attention for Character-Level Transduction"
          ],
          [
           "Reranking for Neural Semantic Parsing"
          ],
          [
           "Incorporating Priors with Feature Attribution on Text Classification"
          ],
          [
           "Multi-Relational Script Learning for Discourse Relations"
          ],
          [
           "Human vs. Muppet: A Conservative Estimate of Human Performance on the GLUE Benchmark"
          ],
          [
           "Using LSTMs to Assess the Obligatoriness of Phonological Distinctive Features for Phonotactic Learning"
          ],
          [
           "Compositional Semantic Parsing Across Graphbanks"
          ],
          [
           "Second-Order Semantic Dependency Parsing with End-to-End Neural Networks"
          ],
          [
           "Determining Relative Argument Specificity and Stance for Complex Argumentative Structures"
          ],
          [
           "Every child should have parents: a taxonomy refinement algorithm based on hyperbolic term embeddings"
          ],
          [
           "Tree Communication Models for Sentiment Analysis"
          ],
          [
           "An Investigation of Transfer Learning-Based Sentiment Analysis in Japanese"
          ],
          [
           "Global Textual Relation Embedding for Relational Understanding"
          ],
          [
           "Latent Variable Sentiment Grammar *"
          ],
          [
           "Embedding time expressions for deep temporal ordering models"
          ],
          [
           "Episodic Memory Reader: Learning What to Remember for Question Answering from Streaming Data"
          ],
          [
           "Are we there yet? Encoder-decoder neural networks as cognitive models of English past tense inflection"
          ],
          [
           "Is word segmentation child's play in all languages?"
          ],
          [
           "Uncovering Probabilistic Implications in Typological Knowledge Bases"
          ],
          [
           "Attention-based Conditioning Methods for External Knowledge Integration"
          ],
          [
           "StRE: Self Attentive Edit Quality Prediction in Wikipedia"
          ],
          [
           "Fine-Grained Sentence Functions for Short-Text Conversation"
          ],
          [
           "Are Training Samples Correlated? Learning to Generate Dialogue Responses with Multiple References"
          ],
          [
           "Fine-Grained Spoiler Detection from Large-Scale Review Corpora"
          ],
          [
           "Unsupervised Learning of PCFGs with Normalizing Flow"
          ],
          [
           "Domain Adaptive Dialog Generation via Meta Learning"
          ],
          [
           "GCDT: A Global Context Enhanced Deep Transition Architecture for Sequence Labeling"
          ],
          [
           "Analyzing Linguistic Differences between Owner and Staff Attributed Tweets"
          ],
          [
           "Categorizing and Inferring the Relationship between the Text and Image of Twitter Posts"
          ],
          [
           "Correlating neural and symbolic representations of language"
          ],
          [
           "Retrieving Sequential Information for Non-Autoregressive Neural Machine Translation"
          ],
          [
           "Transformer-XL: Attentive Language Models Beyond a Fixed-Length Context"
          ],
          [
           "E 3 : Entailment-driven Extracting and Editing for Conversational Machine Reading"
          ],
          [
           "A Simple and Effective Approach to Automatic Post-Editing with Transfer Learning"
          ],
          [
           "Head-Driven Phrase Structure Grammar Parsing on Penn Treebank"
          ],
          [
           "Multilingual Unsupervised NMT using Shared Encoder and Language-Specific Decoders"
          ],
          [
           "Multi-Modal Sarcasm Detection in Twitter with Hierarchical Fusion Model"
          ],
          [
           "MAAM: A Morphology-Aware Alignment Model for Unsupervised Bilingual Lexicon Induction"
          ],
          [
           "On the Compositionality Prediction of Noun Phrases using Poincaré Embeddings"
          ],
          [
           "Cross-Domain NER using Cross-Domain Language Modeling"
          ],
          [
           "Multi-Task Semantic Dependency Parsing with Policy Gradient for Learning Easy-First Strategies"
          ],
          [
           "Variance of average surprisal: a better predictor for quality of grammar from unsupervised PCFG induction"
          ],
          [
           "Wide-Coverage Neural A* Parsing for Minimalist Grammars"
          ],
          [
           "Assessing the Ability of Self-Attention Networks to Learn Word Order"
          ],
          [
           "Topic-Aware Neural Keyphrase Generation for Social Media Language"
          ],
          [
           "Relational Word Embeddings"
          ],
          [
           "You Write Like You Eat: Stylistic variation as a predictor of social stratification"
          ],
          [
           "Sentence-Level Evidence Embedding for Claim Verification with Hierarchical Attention Networks"
          ],
          [
           "Embedding Imputation with Grounded Language Information"
          ],
          [
           "Multi-Hop Paragraph Retrieval for Open-Domain Question Answering"
          ],
          [
           "Textbook Question Answering with Multi-modal Context Graph Understanding and Self-supervised Open-set Comprehension"
          ],
          [
           "Large Dataset and Language Model Fun-Tuning for Humor Recognition"
          ],
          [
           "A Multilingual BPE Embedding Space for Universal Sentiment Lexicon Induction"
          ],
          [
           "A Just and Comprehensive Strategy for Using NLP to Address Online Abuse"
          ],
          [
           "Leveraging Meta Information in Short Text Aggregation"
          ],
          [
           "Self-Attentive, Multi-Context One-Class Classification for Unsupervised Anomaly Detection on Text"
          ],
          [
           "Hubless Nearest Neighbor Search for Bilingual Lexicon Induction"
          ],
          [
           "Dialogue Natural Language Inference"
          ],
          [
           "Bayes Test of Precision, Recall, and F 1 Measure for Comparison of Two Natural Language Processing Models"
          ],
          [
           "The Effectiveness of Simple Hybrid Systems for Hypernym Discovery"
          ],
          [
           "TIGS: An Inference Algorithm for Text Infilling with Gradient Search"
          ],
          [
           "Vocabulary Pyramid Network: Multi-Pass Encoding and Decoding with Multi-Level Vocabularies for Response Generation"
          ],
          [
           "Keeping Notes: Conditional Natural Language Generation with a Scratchpad Mechanism"
          ],
          [
           "Do you know that Florence is packed with visitors? Evaluating state-of-the-art models of speaker commitment"
          ],
          [
           "Towards Language Agnostic Universal Representations"
          ],
          [
           "Give Me More Feedback II: Annotating Thesis Strength and Related Attributes in Student Essays"
          ],
          [
           "End-to-End Sequential Metaphor Identification Inspired by Linguistic Theories"
          ],
          [
           "Learning a Matching Model with Co-teaching for Multi-turn Response Selection in Retrieval-based Dialogue Systems"
          ],
          [
           "Budgeted Policy Learning for Task-Oriented Dialogue Systems"
          ],
          [
           "AdaNSP: Uncertainty-driven Adaptive Decoding in Neural Semantic Parsing"
          ],
          [
           "AutoML strategy based on grammatical evolution: A case study about knowledge discovery from text"
          ],
          [
           "Distilling Discrimination and Generalization Knowledge for Event Detection via ∆-Representation Learning"
          ],
          [
           "Learning to Abstract for Memory-augmented Conversational Response Generation"
          ],
          [
           "Towards Empathetic Open-domain Conversation Models: a New Benchmark and Dataset"
          ],
          [
           "Training Neural Response Selection for Task-Oriented Dialogue Systems"
          ],
          [
           "Joint Slot Filling and Intent Detection via Capsule Neural Networks"
          ],
          [
           "Label-Agnostic Sequence Labeling by Copying Nearest Neighbors"
          ],
          [
           "Self-Attention Architectures for Answer-Agnostic Neural Question Generation"
          ],
          [
           "Large-Scale Transfer Learning for Natural Language Generation"
          ],
          [
           "Enhancing Unsupervised Generative Dependency Parser with Contextual Information"
          ],
          [
           "Cost-sensitive Regularization for Label Confusion-aware Event Detection"
          ],
          [
           "Improving Open Information Extraction via Iterative Rank-Aware Learning"
          ],
          [
           "Towards Improving Neural Named Entity Recognition with Gazetteers"
          ],
          [
           "Improving the Robustness of Question Answering Systems to Question Paraphrasing"
          ],
          [
           "Neural Response Generation with Meta-Words"
          ],
          [
           "Scaling Up Open Tagging from Tens to Thousands: Comprehension Empowered Attribute Value Extraction from Product Title"
          ],
          [
           "NLProlog: Reasoning with Weak Unification for Question Answering in Natural Language"
          ],
          [
           "MC 2 : Multi-perspective Convolutional Cube for Conversational Machine Reading Comprehension"
          ],
          [
           "A Novel Bi-directional Interrelated Model for Joint Intent Detection and Slot Filling"
          ],
          [
           "Reducing Word Omission Errors in Neural Machine Translation: A Contrastive Learning Approach"
          ],
          [
           "Deep Unknown Intent Detection with Margin Loss"
          ],
          [
           "Exploiting Sentential Context for Neural Machine Translation"
          ],
          [
           "Learning to Relate from Captions and Bounding Boxes"
          ],
          [
           "Modeling Semantic Relationship in Multi-turn Conversations with Hierarchical Latent Variables"
          ],
          [
           "An automated framework for fast cognate detection and Bayesian phylogenetic inference in computational historical linguistics"
          ],
          [
           "Learning Latent Trees with Stochastic Perturbations and Differentiable Dynamic Programming"
          ],
          [
           "Discourse Representation Parsing for Sentences and Documents"
          ],
          [
           "Sequence-to-Nuggets: Nested Entity Mention Detection via Anchor-Region Networks"
          ],
          [
           "Training Hybrid Language Models by Marginalizing over Segmentations"
          ],
          [
           "Language Modelling Makes Sense: Propagating Representations through WordNet for Full-Coverage Word Sense Disambiguation"
          ],
          [
           "Combating Adversarial Misspellings with Robust Word Recognition"
          ],
          [
           "Sentiment Tagging with Partial Labels using Modular Architectures"
          ],
          [
           "Word2Sense : Sparse Interpretable Word Embeddings"
          ],
          [
           "Empirical Linguistic Study of Sentence Embeddings"
          ],
          [
           "Collocation Classification with Unsupervised Relation Vectors"
          ],
          [
           "Probing for Semantic Classes: Diagnosing the Meaning Content of Word Embeddings"
          ],
          [
           "Confusionset-guided Pointer Networks for Chinese Spelling Check"
          ],
          [
           "Target Conditioned Sampling: Optimizing Data Selection for Multilingual Neural Machine Translation"
          ],
          [
           "Adversarial Learning of Privacy-Preserving Text Representations for De-Identification of Medical Records"
          ],
          [
           "Variational Pretraining for Semi-supervised Text Classification"
          ],
          [
           "The Referential Reader: A Recurrent Entity Network for Anaphora Resolution"
          ],
          [
           "Interpolated Spectral NGram Language Models"
          ],
          [
           "Barack's Wife Hillary: Using Knowledge Graphs for Fact-Aware Language Modeling"
          ],
          [
           "Depth Growing for Neural Machine Translation"
          ],
          [
           "Manipulating the Difficulty of C-Tests"
          ],
          [
           "Soft Representation Learning for Sparse Transfer"
          ],
          [
           "Duality of Link Prediction and Entailment Graph Induction"
          ],
          [
           "Towards Unsupervised Text Classification Leveraging Experts and Word Embeddings"
          ],
          [
           "Improved Language Modeling by Decoding the Past"
          ],
          [
           "Sparse Sequence-to-Sequence Models"
          ],
          [
           "Neural Network Alignment for Sentential Paraphrases"
          ],
          [
           "A Cross-Sentence Latent Variable Model for Semi-Supervised Text Sequence Matching"
          ],
          [
           "Divide, Conquer and Combine: Hierarchical Feature Fusion Network with Local and Global Perspectives for Multimodal Affective Computing"
          ],
          [
           "Decompositional Argument Mining: A General Purpose Approach for Argument Graph Construction"
          ],
          [
           "What You Say and How You Say It Matters: Predicting Financial Risk Using Verbal and Vocal Cues"
          ],
          [
           "A Transparent Framework for Evaluating Unintended Demographic Bias in Word Embeddings"
          ],
          [
           "Generalized Tuning of Distributional Word Vectors for Monolingual and Cross-Lingual Lexical Entailment"
          ],
          [
           "Cross-Sentence Grammatical Error Correction"
          ],
          [
           "Learning Morphosyntactic Analyzers from the Bible via Iterative Annotation Projection across 26 Languages"
          ],
          [
           "A Surprisingly Robust Trick for the Winograd Schema Challenge"
          ],
          [
           "Encoding Social Information with Graph Convolutional Networks for Political Perspective Detection in News Media"
          ],
          [
           "MELD: A Multimodal Multi-Party Dataset for Emotion Recognition in Conversations"
          ],
          [
           "Topic Sensitive Attention on Generic Corpora Corrects Sense Bias in Pretrained Embeddings"
          ],
          [
           "Coherent Comment Generation for Chinese Articles with a Graph-to-Sequence Model"
          ],
          [
           "Transfer Capsule Network for Aspect Level Sentiment Classification"
          ],
          [
           "Multilingual Factor Analysis"
          ],
          [
           "A Deep Reinforced Sequence-to-Set Model for Multi-Label Classification"
          ],
          [
           "Learning from omission"
          ],
          [
           "Meaning to Form: Measuring Systematicity as Information"
          ],
          [
           "Interconnected Question Generation with Coreference Alignment and Conversation Flow Modeling"
          ],
          [
           "A Corpus for Modeling User and Language Effects in Argumentation on Online Debating"
          ],
          [
           "Generating Diverse Translations with Sentence Codes"
          ],
          [
           "Multilingual and Cross-Lingual Graded Lexical Entailment"
          ],
          [
           "Neural Text Simplification of Clinical Letters with a Domain Specific Phrase Table"
          ],
          [
           "Data Programming for Learning Discourse Structure"
          ],
          [
           "Neural Fuzzy Repair: Integrating Fuzzy Matches into Neural Machine Translation"
          ],
          [
           "What Kind of Language Is Hard to Language-Model?"
          ],
          [
           ""
          ],
          [
           "Text Categorization by Learning Predominant Sense of Words as Auxiliary Task"
          ],
          [
           "Reinforced Training Data Selection for Domain Adaptation"
          ],
          [
           "Bilingual Lexicon Induction through Unsupervised Machine Translation"
          ],
          [
           "One Time of Interaction May Not Be Enough: Go Deep with an Interaction-over-Interaction Network for Response Selection in Dialogues"
          ],
          [
           "Coreference Resolution with Entity Equalization"
          ],
          [
           "Generating Long and Informative Reviews with Aspect-Aware Coarse-to-Fine Decoding"
          ],
          [
           "Asking the Crowd: Question Analysis, Evaluation and Generation for Open Discussion on Online Forums"
          ],
          [
           "Automatic Generation of High Quality CCGbanks for Parser Domain Adaptation"
          ],
          [
           "MOROCO: The Moldavian and Romanian Dialectal Corpus"
          ],
          [
           "Unsupervised Neural Text Simplification"
          ],
          [
           "Abstractive text summarization based on deep learning and semantic content generalization"
          ],
          [
           "An Effective Approach to Unsupervised Machine Translation"
          ],
          [
           "Errudite: Scalable, Reproducible, and Testable Error Analysis"
          ],
          [
           "Unsupervised Neural Single-Document Summarization of Reviews via Learning Latent Discourse Structure and its Ranking"
          ],
          [
           "Studying Summarization Evaluation Metrics in the Appropriate Scoring Range"
          ],
          [
           "Spatial Aggregation Facilitates Discovery of Spatial Topics"
          ],
          [
           "SherLIiC: A Typed Event-Focused Lexical Inference Benchmark for Evaluating Natural Language Inference"
          ],
          [
           "Syntax-Infused Variational Autoencoder for Text Generation"
          ],
          [
           "Collaborative Dialogue in Minecraft"
          ],
          [
           "Finding Your Voice: The Linguistic Development of Mental Health Counselors"
          ],
          [
           "Inferential Machine Comprehension: Answering Questions by Recursively Deducing the Evidence Chain from Text"
          ],
          [
           "Modeling affirmative and negated action processing in the brain with lexical and compositional semantic models"
          ],
          [
           "Detecting Concealed Information in Text and Speech"
          ],
          [
           "Towards Automating Healthcare Question Answering in a Noisy Multilingual Low-Resource Setting"
          ],
          [
           "Explicit Utilization of General Knowledge in Machine Reading Comprehension"
          ],
          [
           "Self-Regulated Interactive Sequence-to-Sequence Learning"
          ],
          [
           "Joint Entity Extraction and Assertion Detection for Clinical Text"
          ],
          [
           "Incorporating Linguistic Constraints into Keyphrase Generation"
          ],
          [
           "Adaptive Attention Span in Transformers"
          ],
          [
           "Automatic Domain Adaptation Outperforms Manual Domain Adaptation for Predicting Financial Outcomes"
          ],
          [
           "Wikipedia as a Resource for Text Analysis and Retrieval"
          ],
          [
           "Unsupervised Cross-Lingual Representation Learning"
          ],
          [
           "Computational ad hominem detection"
          ],
          [
           "Fact or Factitious? Contextualized Opinion Spam Detection"
          ],
          [
           "Latent Structure Models for Natural Language Processing"
          ],
          [
           "Multiple Character Embeddings for Chinese Word Segmentation"
          ],
          [
           ""
          ],
          [
           "BREAKING! Presenting Fake News Corpus For Automated Fact Checking"
          ],
          [
           "Automated Cross-language Intelligibility Analysis of Parkinson's Disease Patients Using Speech Recognition Technologies"
          ],
          [
           "Attention and Lexicon Regularized LSTM for Aspect-based Sentiment Analysis"
          ],
          [
           ""
          ],
          [
           "Advances in Argument Mining"
          ],
          [
           "Hierarchical Multi-label Classification of Text with Capsule Networks"
          ],
          [
           "Computational Analysis of Political Texts: Bridging Research Efforts Across Communities"
          ],
          [
           "English-Indonesian Neural Machine Translation for Spoken Language Domains"
          ],
          [
           "Active Reading Comprehension: A dataset for learning the Question-Answer Relationship strategy"
          ],
          [
           "Robust-to-Noise Models in Natural Language Processing Tasks"
          ],
          [
           "Measuring the Value of Linguistics: A Case Study from St. Lawrence Island Yupik"
          ],
          [
           "Improving Mongolian-Chinese Neural Machine Translation with Morphological Noise"
          ],
          [
           "Towards incremental learning of word embeddings using context informativeness"
          ],
          [
           "Joint Learning of Named Entity Recognition and Entity Linking"
          ],
          [
           "A Strong and Robust Baseline for Text-Image Matching"
          ],
          [
           "Reducing Gender Bias in Word-Level Language Models with a Gender-Equalizing Loss Function"
          ],
          [
           "Transfer Learning Based Free-Form Speech Command Classification for Low-Resource Languages"
          ],
          [
           "Enriching Neural Models with Targeted Features for Dementia Detection"
          ],
          [
           "Convolutional Neural Networks for Financial Text Regression"
          ],
          [
           "Scheduled Sampling for Transformers"
          ],
          [
           "Sentiment Analysis on Naija-Tweets"
          ],
          [
           "Sentiment Classification using Document Embeddings trained with Cosine Similarity"
          ],
          [
           "A Japanese Word Segmentation Proposal"
          ],
          [
           "Deep Bayesian Natural Language Processing"
          ],
          [
           ""
          ],
          [
           ""
          ],
          [
           "Gender Stereotypes Differ between Male and Female Writings"
          ],
          [
           "Natural Language Generation: Recently Learned Lessons, Directions for Semantic Representation-based Approaches, and the case of Brazilian Portuguese Language"
          ],
          [
           "Towards Turkish Abstract Meaning Representation"
          ],
          [
           "Predicting the Outcome of Deliberative Democracy: A Research Proposal"
          ],
          [
           "Distributed Knowledge Based Clinical Auto-Coding System"
          ]
         ],
         "hovertemplate": "award=normal<br>x1=%{x}<br>x2=%{y}<br>hover_data_0=%{customdata[0]}<extra></extra>",
         "legendgroup": "normal",
         "marker": {
          "color": "#636efa",
          "symbol": "circle"
         },
         "mode": "markers",
         "name": "normal",
         "orientation": "v",
         "showlegend": true,
         "type": "scatter",
         "x": [
          0.13931959867477417,
          0.25976505875587463,
          -0.20035631954669952,
          -0.0539262592792511,
          -0.1572641134262085,
          0.03261921554803848,
          0.2884109914302826,
          -0.17041459679603577,
          -0.14568783342838287,
          0.311727374792099,
          0.396210253238678,
          0.01794394478201866,
          0.1177930012345314,
          0.23750096559524536,
          -0.1299794316291809,
          -0.05224807932972908,
          0.006941802799701691,
          0.037620726972818375,
          -0.23932486772537231,
          0.045232731848955154,
          -0.08450277149677277,
          0.1390577107667923,
          0.020292073488235474,
          -0.08862051367759705,
          0.09310565143823624,
          -0.10795249789953232,
          -0.02114190347492695,
          -0.18120355904102325,
          0.04993480443954468,
          0.642243504524231,
          0.03836024925112724,
          0.13704872131347656,
          0.058831989765167236,
          -0.16578727960586548,
          -0.2347821295261383,
          -0.20066200196743011,
          -0.026277601718902588,
          0.242465540766716,
          0.00795817468315363,
          -0.03861027583479881,
          -0.07213956862688065,
          -0.04701932519674301,
          -0.1370910257101059,
          -0.005648700520396233,
          0.03831283748149872,
          0.1539386510848999,
          -0.13083402812480927,
          -0.18122832477092743,
          0.1799035519361496,
          -0.06145526468753815,
          -0.008766849525272846,
          -0.29828476905822754,
          -0.19726772606372833,
          -0.18954786658287048,
          0.13146854937076569,
          0.0699947327375412,
          0.23015373945236206,
          -0.05432887002825737,
          0.08092629909515381,
          -0.06676797568798065,
          0.1224207729101181,
          0.0011254327837377787,
          -0.07642360776662827,
          0.040775008499622345,
          -0.17740322649478912,
          0.01452723890542984,
          -0.10831344127655029,
          -0.27658194303512573,
          -0.13751128315925598,
          -0.10416661947965622,
          0.2224392145872116,
          0.010891685262322426,
          -0.35640808939933777,
          -0.3326330780982971,
          -0.0482412651181221,
          -0.004655629862099886,
          -0.06980552524328232,
          -0.06226195767521858,
          0.642243504524231,
          0.15894728899002075,
          0.04357399418950081,
          -0.08048626780509949,
          0.03097742423415184,
          0.006976005621254444,
          0.06528639793395996,
          -0.08544564992189407,
          0.00949125550687313,
          0.05424013361334801,
          -0.1384914070367813,
          -0.001110870623961091,
          0.013410829938948154,
          -0.11983806639909744,
          -0.06269221752882004,
          0.10361781716346741,
          -0.052933745086193085,
          0.1047881618142128,
          0.30613985657691956,
          0.22104115784168243,
          -0.06007475405931473,
          0.21698439121246338,
          -0.0827551782131195,
          0.025440875440835953,
          0.05347389355301857,
          0.02069028466939926,
          -0.004882956854999065,
          -0.1293962001800537,
          0.2827509343624115,
          -0.03083166293799877,
          0.29163601994514465,
          0.14177250862121582,
          0.03457099571824074,
          0.2669646739959717,
          0.12855219841003418,
          -0.29539212584495544,
          0.20230045914649963,
          -0.3634895980358124,
          -0.23883797228336334,
          -0.35906097292900085,
          -0.3331659138202667,
          0.05420020967721939,
          -0.1692039668560028,
          0.15419331192970276,
          -0.29564371705055237,
          -0.23074650764465332,
          -0.06625146418809891,
          -0.10575757920742035,
          -0.13201592862606049,
          -0.28073784708976746,
          0.40890955924987793,
          0.1683960258960724,
          0.0816558226943016,
          -0.06607981771230698,
          0.21386021375656128,
          -0.13415251672267914,
          0.19188550114631653,
          0.2818783223628998,
          -0.12600044906139374,
          0.07246453315019608,
          0.1570628434419632,
          -0.11231628060340881,
          0.3044929802417755,
          -0.1371910125017166,
          0.25058144330978394,
          0.11784293502569199,
          -0.3103111684322357,
          0.007067922968417406,
          -0.05366514250636101,
          0.0968647301197052,
          0.15011487901210785,
          0.23180750012397766,
          0.38232356309890747,
          0.3843149244785309,
          0.10576336085796356,
          0.10317588597536087,
          -0.044530440121889114,
          -0.050686437636613846,
          -0.20743818581104279,
          -0.2205553948879242,
          -0.00524506950750947,
          -0.1761387139558792,
          -0.009947359561920166,
          -0.3721046447753906,
          -0.3141547441482544,
          0.06727207452058792,
          -0.2240450233221054,
          -0.13114246726036072,
          0.3995174467563629,
          0.1517396867275238,
          -0.10294209420681,
          0.03279690816998482,
          -0.09084354341030121,
          0.03294188529253006,
          -0.01860416866838932,
          0.07505529373884201,
          -0.13951697945594788,
          -0.06706809997558594,
          -0.21157974004745483,
          -0.23878639936447144,
          -0.1564972847700119,
          -0.06602557003498077,
          0.04038603976368904,
          -0.35401666164398193,
          -0.13691380620002747,
          -0.08212819695472717,
          -0.2054218053817749,
          -0.061372123658657074,
          -0.10760253667831421,
          -0.15364666283130646,
          -0.02213352918624878,
          -0.12572509050369263,
          -0.16224034130573273,
          -0.1972741335630417,
          -0.3261723518371582,
          0.0072716232389211655,
          -0.3745492398738861,
          -0.3078047037124634,
          0.028992289677262306,
          -0.10279923677444458,
          0.0068704611621797085,
          -0.12532000243663788,
          0.07459134608507156,
          -0.24567635357379913,
          -0.027839329093694687,
          -0.16781078279018402,
          0.1525084227323532,
          0.42008861899375916,
          0.23400640487670898,
          -0.11266139894723892,
          -0.10323505103588104,
          0.3273647129535675,
          -0.33540868759155273,
          0.007557881996035576,
          -0.00816790759563446,
          -0.03151721879839897,
          0.21922573447227478,
          0.09891247004270554,
          0.31314152479171753,
          0.44542187452316284,
          0.3434325158596039,
          0.33647608757019043,
          -0.11046367883682251,
          -0.16239961981773376,
          -0.022741304710507393,
          0.12042482942342758,
          0.026373719796538353,
          -0.008118567988276482,
          -0.06869931519031525,
          -0.04807468503713608,
          -0.0858638733625412,
          0.06867703795433044,
          -0.11404034495353699,
          -0.0021913705859333277,
          -0.12565386295318604,
          -0.10963019728660583,
          -0.08646862953901291,
          -0.045091379433870316,
          -0.14872226119041443,
          -0.1737084984779358,
          0.21068085730075836,
          -0.21438993513584137,
          -0.012629210017621517,
          -0.14792968332767487,
          -0.13707825541496277,
          -0.2447075992822647,
          -0.047179482877254486,
          0.11016368865966797,
          -0.14331857860088348,
          -0.01708226278424263,
          -0.2776665687561035,
          -0.1310863047838211,
          -0.0792165994644165,
          -0.31198856234550476,
          0.0247429721057415,
          -0.2656134068965912,
          0.01143589150160551,
          -0.08043693006038666,
          -0.14920617640018463,
          -0.26270294189453125,
          -0.09981594234704971,
          -0.09759794175624847,
          -0.13092096149921417,
          -0.05926564335823059,
          -0.0183394905179739,
          0.17204177379608154,
          0.212593674659729,
          -0.07583001255989075,
          0.09623809158802032,
          0.642243504524231,
          -0.20265744626522064,
          -0.03381514549255371,
          -0.10821370035409927,
          -0.20811845362186432,
          0.1955414116382599,
          -0.10115831345319748,
          -0.13666832447052002,
          0.01036713644862175,
          -0.03063131496310234,
          0.15061402320861816,
          0.06146086007356644,
          -0.12250908464193344,
          0.004520910792052746,
          0.24597077071666718,
          -0.23529088497161865,
          -0.12471649050712585,
          0.1042579784989357,
          -0.06452982872724533,
          -0.20299147069454193,
          -0.005982575938105583,
          -0.07906319946050644,
          0.08709374815225601,
          -0.005121150519698858,
          0.00810769759118557,
          -0.22609154880046844,
          0.0038531192112714052,
          0.023660091683268547,
          0.02779691107571125,
          0.21070782840251923,
          -0.18675050139427185,
          -0.1279037892818451,
          -0.14935703575611115,
          0.1673951894044876,
          0.23042292892932892,
          0.22798776626586914,
          0.2749456465244293,
          -0.052797745913267136,
          0.023800497874617577,
          0.1866837590932846,
          0.020677566528320312,
          -0.053101882338523865,
          0.013689573854207993,
          0.07201418280601501,
          0.28942176699638367,
          -0.005970687605440617,
          0.03053082339465618,
          0.14929884672164917,
          0.3650096356868744,
          0.18552877008914948,
          0.30965864658355713,
          -0.1412973552942276,
          -0.30082425475120544,
          -0.016709202900528908,
          0.09526227414608002,
          0.03170662000775337,
          0.002382674254477024,
          0.15122072398662567,
          -0.07094081491231918,
          -0.22661054134368896,
          0.23518890142440796,
          0.1810656040906906,
          -0.07159794867038727,
          0.04333370923995972,
          0.4456835091114044,
          0.15375031530857086,
          -0.07056362181901932,
          -0.09808185696601868,
          -0.08885128796100616,
          -0.08185302466154099,
          0.08998972922563553,
          0.0910087302327156,
          -0.15237633883953094,
          -0.12428697943687439,
          0.1679096519947052,
          -0.14555643498897552,
          -0.07911156117916107,
          0.09795324504375458,
          -0.061200954020023346,
          0.18573670089244843,
          -0.18339195847511292,
          0.04416293650865555,
          0.0354061983525753,
          -0.08629829436540604,
          0.13012294471263885,
          0.12206339091062546,
          -0.006015369668602943,
          -0.27687960863113403,
          -0.0776839479804039,
          0.1729515641927719,
          -0.11998400837182999,
          0.04891645163297653,
          0.04631005972623825,
          0.10618358850479126,
          -0.026095472276210785,
          0.13326190412044525,
          0.1532459855079651,
          0.03901650011539459,
          -0.11733296513557434,
          0.06487680971622467,
          0.10567718744277954,
          -0.09842334687709808,
          -0.010852601379156113,
          0.35838961601257324,
          -0.014459384605288506,
          -0.003435238264501095,
          -0.031192857772111893,
          0.04236258566379547,
          0.040311090648174286,
          -0.001383329974487424,
          -0.04213272035121918,
          0.14181771874427795,
          0.30940020084381104,
          0.07132285088300705,
          -0.19212104380130768,
          -0.13950610160827637,
          -0.036892082542181015,
          0.12721367180347443,
          0.642243504524231,
          -0.14054244756698608,
          0.04227454587817192,
          -0.09267087280750275,
          -0.09284088015556335,
          0.08608488738536835,
          0.15747188031673431,
          -0.1986851692199707,
          0.06451146304607391,
          -0.18913187086582184,
          0.16852334141731262,
          0.0349055752158165,
          -0.10128150135278702,
          -0.05937334522604942,
          -0.09450150281190872,
          0.642243504524231,
          -0.11392700672149658,
          0.08085331320762634,
          0.047996535897254944,
          -0.08248960226774216,
          -0.21195213496685028,
          0.09133819490671158,
          -0.34880948066711426,
          -0.1099366694688797,
          0.05462970212101936,
          0.14907218515872955,
          0.2808404862880707,
          0.06352878361940384,
          0.06171777844429016,
          -0.04948722571134567,
          -0.007016067858785391,
          -0.05626837909221649,
          0.05308942496776581,
          0.033789560198783875,
          -0.2917691469192505,
          -0.07573287934064865,
          -0.14911024272441864,
          -0.10204393416643143,
          0.16052201390266418,
          0.28722310066223145,
          -0.3324689567089081,
          0.07963696122169495,
          -0.017058823257684708,
          -0.3890956938266754,
          -0.11266198754310608,
          0.021146371960639954,
          -0.047713227570056915,
          -0.07624100148677826,
          0.07217717170715332,
          0.13355055451393127,
          -0.23399962484836578,
          -0.15807439386844635,
          0.20645426213741302,
          -0.3290506601333618,
          -0.13961836695671082,
          -0.18472641706466675,
          0.08890252560377121,
          -0.11989153176546097,
          -0.2040708214044571,
          -0.015887480229139328,
          -0.09058137238025665,
          -0.09918781369924545,
          -0.13412335515022278,
          0.3808625042438507,
          0.25833767652511597,
          -0.13879209756851196,
          -0.09391244500875473,
          0.07823556661605835,
          -0.09629928320646286,
          -0.0012795933289453387,
          -0.21999484300613403,
          -0.034495510160923004,
          0.02912595309317112,
          -0.2837079167366028,
          0.2692581117153168,
          -0.10795976966619492,
          0.27300357818603516,
          0.20500829815864563,
          0.13687877357006073,
          0.642243504524231,
          0.3203447759151459,
          -0.02021290734410286,
          0.17696310579776764,
          0.5081362724304199,
          0.032691143453121185,
          0.1017623320221901,
          -0.061007920652627945,
          -0.021215755492448807,
          0.25083717703819275,
          -0.2049027532339096,
          0.01779807172715664,
          -0.09014253318309784,
          -0.2963171601295471,
          0.1835526078939438,
          -0.29522237181663513,
          0.20218317210674286,
          -0.2649747133255005,
          -0.2686290442943573,
          -0.1363244354724884,
          -0.25228995084762573,
          -0.22428488731384277,
          0.21687129139900208,
          0.015269747003912926,
          -0.10333516448736191,
          -0.146579772233963,
          0.04324891418218613,
          0.3290366530418396,
          0.19064843654632568,
          -0.10063206404447556,
          0.047101959586143494,
          -0.033576760441064835,
          0.0035286755301058292,
          0.030723463743925095,
          -0.39281296730041504,
          -0.12176571786403656,
          0.20393191277980804,
          -0.16735197603702545,
          -0.15207068622112274,
          -0.09118828922510147,
          0.17650537192821503,
          -0.10965510457754135,
          -0.15211772918701172,
          -0.08833938091993332,
          0.244587242603302,
          -0.06342510879039764,
          0.048380520194768906,
          0.2542100250720978,
          0.01706608384847641,
          -0.020342154428362846,
          -0.12958164513111115,
          -0.2786605656147003,
          -0.31383928656578064,
          0.42991530895233154,
          -0.04798903316259384,
          -0.13428373634815216,
          -0.09986020624637604,
          -0.015911556780338287,
          -0.20936551690101624,
          -0.19801245629787445,
          -0.05825710669159889,
          0.12963208556175232,
          0.002622180851176381,
          -0.30694153904914856,
          0.22594387829303741,
          -0.06358081847429276,
          0.1456494778394699,
          0.03864387422800064,
          -0.0791660025715828,
          0.10225716978311539,
          0.06678624451160431,
          0.01904916949570179,
          -0.11833952367305756,
          -0.06570407748222351,
          -0.2587040662765503,
          -0.17476476728916168,
          -0.12157907336950302,
          0.09902071952819824,
          -0.03222724422812462,
          0.033892203122377396,
          -0.2594529986381531,
          -0.013153035193681717,
          -0.15067237615585327,
          -0.3098548948764801,
          -0.37538498640060425,
          -0.005133696366101503,
          -0.29284101724624634,
          -0.11797989159822464,
          0.16458642482757568,
          0.050661876797676086,
          -0.09170763939619064,
          -0.047036539763212204,
          -0.08960707485675812,
          -0.09727770835161209,
          0.37242597341537476,
          0.07867302745580673,
          0.08032995462417603,
          0.04102472960948944,
          -0.13729754090309143,
          0.07274012267589569,
          -0.07461415976285934,
          -0.2053430676460266,
          -0.13741189241409302,
          -0.022747250273823738,
          0.03163551166653633,
          -0.28461745381355286,
          0.003978414926677942,
          -0.009050157852470875,
          -0.016692882403731346,
          0.20889098942279816,
          -0.12535084784030914,
          0.03575082868337631,
          -0.27721086144447327,
          0.3975183963775635,
          0.2532249391078949,
          -0.08049257099628448,
          -0.32423657178878784,
          -0.254477322101593,
          0.13776271045207977,
          -0.20928362011909485,
          -0.014007271267473698,
          -0.3306334614753723,
          0.1908283531665802,
          -0.20214933156967163,
          -0.039580345153808594,
          -0.07873021811246872,
          0.0015967641957104206,
          -0.038215383887290955,
          -0.06374143064022064,
          -0.31386232376098633,
          0.026004668325185776,
          -0.024846656247973442,
          0.24699823558330536,
          0.004731439054012299,
          -0.04024927690625191,
          -0.019443338736891747,
          -0.05827814340591431,
          0.17065934836864471,
          0.11903794854879379,
          0.5385993123054504,
          0.13427062332630157,
          -0.005952163133770227,
          -0.19125615060329437,
          0.10740575194358826,
          -0.03562644124031067,
          0.07635129988193512,
          -0.1901799887418747,
          -0.035314206033945084,
          -0.20214185118675232,
          0.05120893195271492,
          -0.11359640955924988,
          0.3025677800178528,
          -0.03875046968460083,
          0.10330125689506531,
          0.08001944422721863,
          -0.22394034266471863,
          0.16811594367027283,
          0.013897166587412357,
          -0.029077112674713135,
          0.1042393147945404,
          0.09729709476232529,
          -0.049989715218544006,
          -0.12791289389133453,
          -0.18156062066555023,
          -0.06617856025695801,
          -0.16602389514446259,
          0.07389280945062637,
          0.03792886063456535,
          -0.039777688682079315,
          -0.08894937485456467,
          -0.047501061111688614,
          0.18974947929382324,
          -0.03946604207158089,
          -0.06954704970121384,
          -0.011545940302312374,
          -0.2980622351169586,
          0.053346890956163406,
          -0.3673325479030609,
          -0.07597363740205765,
          -0.006433809641748667,
          0.1021878719329834,
          0.019304635003209114,
          -0.07018706947565079,
          -0.008643634617328644,
          -0.07651752233505249,
          -0.18493568897247314,
          -0.06520309299230576,
          0.0999496802687645,
          -0.10051264613866806,
          -0.07011997699737549,
          -0.043195027858018875,
          0.07200146466493607,
          -0.1079925075173378,
          -0.2858087122440338,
          0.12230750173330307,
          -0.12906581163406372,
          -0.04866214096546173,
          -0.08964362740516663,
          -0.12071484327316284,
          -0.38151416182518005,
          0.05870019271969795,
          -0.18412482738494873,
          0.12959620356559753,
          0.20514266192913055,
          -0.237985759973526,
          -0.2791351079940796,
          -0.05171709507703781,
          -0.10137657076120377,
          0.02278902381658554,
          0.34533193707466125,
          0.1687675565481186,
          0.1467956006526947,
          -0.10635130107402802,
          -0.2567722201347351,
          -0.01953723654150963,
          -0.05262458696961403,
          0.20090532302856445,
          0.21797853708267212,
          -0.11715390533208847,
          0.14056389033794403,
          0.10730376839637756,
          -0.1353798359632492,
          -0.03826817870140076,
          0.029704097658395767,
          0.013272075913846493,
          -0.0714523047208786,
          0.46579211950302124,
          -0.11742551624774933,
          -0.0528719499707222,
          0.028597231954336166,
          0.02875405177474022,
          -0.31693780422210693,
          -0.13934020698070526,
          0.642243504524231,
          -0.003195596858859062,
          -0.07533622533082962,
          -0.2604309916496277,
          -0.009003187529742718,
          -0.0002225524658570066,
          0.09349881112575531,
          0.039095982909202576,
          -0.02517814375460148,
          0.10003211349248886,
          -0.11835828423500061,
          -0.061622459441423416,
          -0.3394854962825775,
          0.1805514544248581,
          0.07263865321874619,
          0.16251270473003387,
          0.2588965892791748,
          -0.03687768056988716,
          -0.19120505452156067,
          0.20889140665531158,
          0.27588698267936707,
          -0.06487265229225159,
          0.09108030796051025,
          0.2591162621974945,
          -0.11357303708791733,
          -0.14566010236740112,
          -0.17976181209087372,
          -0.09852851182222366,
          -0.026082608848810196,
          -0.1640745848417282,
          0.16698142886161804,
          0.642243504524231,
          0.642243504524231,
          0.474896639585495,
          0.21375590562820435,
          0.642243504524231,
          -0.19805672764778137,
          0.17512446641921997,
          0.2927592098712921,
          0.09719420969486237,
          0.0037599916104227304,
          0.642243504524231,
          0.43865054845809937,
          -0.031562287360429764,
          0.642243504524231,
          -0.190597802400589,
          -0.03535951301455498,
          0.01858590729534626,
          -0.01182189118117094,
          -0.1487899273633957,
          -0.0394204705953598,
          -0.07439056783914566,
          -0.08012363314628601,
          -0.03333846852183342,
          -0.07367759197950363,
          0.015081857331097126,
          0.03010653890669346,
          -0.3124822974205017,
          0.2866269052028656,
          0.18544220924377441,
          0.09958275407552719,
          0.642243504524231,
          0.642243504524231,
          0.642243504524231,
          0.33066341280937195,
          0.10056902468204498,
          0.06381786614656448,
          0.2686217427253723,
          0.1092040166258812
         ],
         "xaxis": "x",
         "y": [
          -0.3322238326072693,
          -0.2522547245025635,
          -0.2767963111400604,
          0.11814650893211365,
          0.012630005367100239,
          -0.24863706529140472,
          0.24552465975284576,
          0.18448008596897125,
          0.08430080860853195,
          -0.17414283752441406,
          -0.08275400102138519,
          -0.1555723398923874,
          -0.19316929578781128,
          0.09368745982646942,
          0.1511581540107727,
          0.02241920679807663,
          0.35992228984832764,
          -0.13675016164779663,
          0.12940707802772522,
          0.2249535769224167,
          0.14277426898479462,
          0.10308361053466797,
          0.15089531242847443,
          -0.136689692735672,
          -0.0397261343896389,
          0.004889908712357283,
          -0.059790726751089096,
          0.08991216868162155,
          0.06960887461900711,
          0.005308290012180805,
          -0.2870570719242096,
          0.1381775140762329,
          -0.010928848758339882,
          0.18845278024673462,
          -0.21838979423046112,
          -0.03243974596261978,
          0.27900657057762146,
          -0.20497259497642517,
          0.06520053744316101,
          0.03814157471060753,
          0.3723438084125519,
          -0.03412031754851341,
          -0.0824795737862587,
          -0.004584853071719408,
          0.06457619369029999,
          0.07300687581300735,
          0.031056517735123634,
          0.04196871444582939,
          0.1551731675863266,
          -0.18190594017505646,
          -0.18646596372127533,
          0.03264789283275604,
          -0.12908777594566345,
          0.10265640169382095,
          0.4080946445465088,
          0.010502297431230545,
          0.4741811454296112,
          0.23464229702949524,
          0.0490819551050663,
          0.03468410670757294,
          -0.1398717761039734,
          -0.17961381375789642,
          -0.05858893692493439,
          -0.06624439358711243,
          -0.05699998512864113,
          -0.028960052877664566,
          -0.14820364117622375,
          -0.08347959816455841,
          0.06504462659358978,
          0.15217140316963196,
          0.3847312331199646,
          0.4737897217273712,
          -0.0196660365909338,
          -0.2521950900554657,
          -0.04998799413442612,
          -0.014289787039160728,
          -0.1686200648546219,
          -0.026954015716910362,
          0.005308290012180805,
          0.3619508743286133,
          0.3322063982486725,
          -0.12920717895030975,
          0.06589201092720032,
          -0.10228374600410461,
          -0.09257523715496063,
          -0.16808466613292694,
          -0.11406389623880386,
          0.029941080138087273,
          -0.044244349002838135,
          -0.08633982390165329,
          -0.16935449838638306,
          0.3182758390903473,
          0.2276311218738556,
          -0.05904984474182129,
          -0.13436980545520782,
          -0.3133736550807953,
          -0.01191949937492609,
          0.09773579239845276,
          0.05582382157444954,
          -0.05638779327273369,
          0.23660242557525635,
          -0.13152474164962769,
          0.37734249234199524,
          0.22923651337623596,
          0.026034504175186157,
          -0.19220450520515442,
          -0.028156617656350136,
          0.12771785259246826,
          0.16479374468326569,
          0.09475917369127274,
          -0.24370762705802917,
          -0.17529644072055817,
          0.16821755468845367,
          -0.32418879866600037,
          0.07844863086938858,
          -0.3253011405467987,
          -0.007472105789929628,
          -0.03126813471317291,
          0.027091166004538536,
          0.07493448257446289,
          -0.22634850442409515,
          -0.08200410008430481,
          0.06577938795089722,
          -0.24537532031536102,
          0.2581499218940735,
          -0.18063220381736755,
          0.05524054914712906,
          -0.047261711210012436,
          -0.036349255591630936,
          -0.09245240688323975,
          0.2922012209892273,
          0.24998661875724792,
          -0.020502369850873947,
          -0.07506626844406128,
          -0.18866685032844543,
          -0.1936827450990677,
          0.10127056390047073,
          0.0459771454334259,
          0.33469656109809875,
          0.052560463547706604,
          -0.017811238765716553,
          0.19157111644744873,
          0.38257884979248047,
          -0.06461278349161148,
          -0.11236898601055145,
          -0.17987415194511414,
          0.31330493092536926,
          -0.24376261234283447,
          -0.10088371485471725,
          -0.3732722997665405,
          -0.13107581436634064,
          -0.21912628412246704,
          -0.11344712972640991,
          0.26850342750549316,
          -0.23681354522705078,
          -0.04716162383556366,
          -0.4052811563014984,
          -0.3171767592430115,
          -0.11222009360790253,
          -0.3051214814186096,
          -0.1563839316368103,
          -0.04592527821660042,
          -0.028503568843007088,
          0.17632721364498138,
          -0.051877159625291824,
          0.09375517815351486,
          0.10409644991159439,
          -0.19253091514110565,
          0.0017606132896617055,
          -0.15151932835578918,
          0.017883120104670525,
          0.28071579337120056,
          -0.12044703215360641,
          0.12127872556447983,
          0.13377445936203003,
          -0.008716818876564503,
          -0.16176486015319824,
          0.21580058336257935,
          0.054404117166996,
          -0.15139590203762054,
          -0.2400517612695694,
          0.029848789796233177,
          0.4004679024219513,
          0.3631978929042816,
          0.015470032580196857,
          0.06561854481697083,
          -0.09812873601913452,
          0.018322713673114777,
          0.10326109826564789,
          0.0023785370867699385,
          0.20563457906246185,
          0.023395398631691933,
          0.057768646627664566,
          -0.1180758848786354,
          -0.12531115114688873,
          0.1591707319021225,
          -0.030483093112707138,
          0.004979897756129503,
          -0.29763421416282654,
          0.2669043242931366,
          -0.1676366925239563,
          0.08074536919593811,
          -0.031586650758981705,
          0.26561596989631653,
          -0.07024063169956207,
          -0.12905582785606384,
          0.017160268500447273,
          -0.031246546655893326,
          0.05718269199132919,
          -0.2800068259239197,
          0.1029384434223175,
          -0.04706956446170807,
          -0.04020657390356064,
          0.3059103488922119,
          0.21397113800048828,
          0.19689840078353882,
          -0.36408117413520813,
          -0.023480895906686783,
          -0.13322021067142487,
          0.00853018369525671,
          -0.1038280576467514,
          0.12782332301139832,
          0.006276262924075127,
          -0.07130448520183563,
          -0.2653330862522125,
          0.2016916424036026,
          -0.10290456563234329,
          0.18598008155822754,
          -0.18136653304100037,
          0.4044899046421051,
          0.23071956634521484,
          0.3598116934299469,
          0.18930979073047638,
          0.040335338562726974,
          0.3474065661430359,
          -0.1271955966949463,
          0.024747492745518684,
          0.10726223886013031,
          0.09111115336418152,
          0.22993457317352295,
          0.10398328304290771,
          -0.19926753640174866,
          -0.048716336488723755,
          0.12435200065374374,
          0.0713471844792366,
          -0.015189943835139275,
          0.04918549954891205,
          0.10782786458730698,
          -0.015955347567796707,
          -0.08100041002035141,
          -0.03020995482802391,
          -0.09197583049535751,
          -0.2838136553764343,
          0.004156085196882486,
          -0.13517311215400696,
          0.06729920953512192,
          -0.14314314723014832,
          -0.3659970462322235,
          -0.018872065469622612,
          -0.1327839344739914,
          0.1421167254447937,
          -0.14839504659175873,
          0.039619483053684235,
          -0.0701707974076271,
          0.06383989751338959,
          0.0716058686375618,
          -0.08531160652637482,
          0.005308290012180805,
          -0.02607124112546444,
          0.41283318400382996,
          0.06462247669696808,
          0.07548969238996506,
          0.40427786111831665,
          -0.374716192483902,
          0.27892449498176575,
          0.18758559226989746,
          0.2146177738904953,
          0.11167147755622864,
          0.44523799419403076,
          0.0033051499631255865,
          -0.11428883671760559,
          -0.20672056078910828,
          0.01299414411187172,
          -0.09306123852729797,
          0.13903170824050903,
          -0.11899872869253159,
          -0.009730578400194645,
          -0.19408418238162994,
          -0.41760796308517456,
          -0.3392665982246399,
          -0.16366474330425262,
          0.3140714466571808,
          0.01468504685908556,
          0.011223060078918934,
          0.06009794399142265,
          0.07316093891859055,
          -0.03672904148697853,
          -0.2788703739643097,
          -0.22775505483150482,
          0.06870884448289871,
          -0.07826477289199829,
          -0.2135760337114334,
          -0.1666029691696167,
          0.11356395483016968,
          -0.11644959449768066,
          -0.04958826303482056,
          -0.09261929243803024,
          0.2004805952310562,
          0.00041428414988331497,
          0.033203162252902985,
          0.13586418330669403,
          -0.13373076915740967,
          -0.14206309616565704,
          0.2494170218706131,
          -0.052725356072187424,
          -0.1569524109363556,
          -0.06553105264902115,
          -0.1726376861333847,
          -0.03504902496933937,
          0.04824278503656387,
          0.26132649183273315,
          -0.4077177345752716,
          0.014641685411334038,
          -0.13799649477005005,
          -0.14187897741794586,
          0.07412315160036087,
          -0.15108756721019745,
          0.17670145630836487,
          0.13661052286624908,
          -0.054819505661726,
          0.028539078310132027,
          0.09715308994054794,
          0.12734760344028473,
          0.07707281410694122,
          0.19698761403560638,
          0.104989193379879,
          0.1586235612630844,
          0.19414514303207397,
          0.17214922606945038,
          -0.14936614036560059,
          0.3372683823108673,
          0.05657244846224785,
          0.14663508534431458,
          -0.26142221689224243,
          0.2541196942329407,
          0.1034889817237854,
          0.014319844543933868,
          0.00007078921044012532,
          0.20157508552074432,
          0.13667719066143036,
          0.04819735512137413,
          0.048848602920770645,
          -0.22556433081626892,
          -0.050350528210401535,
          -0.1662898063659668,
          -0.044363271445035934,
          0.07854828238487244,
          -0.19565449655056,
          -0.07626738399267197,
          -0.23495367169380188,
          -0.05235319212079048,
          0.2249060720205307,
          0.04225345700979233,
          -0.010900728404521942,
          0.4911705255508423,
          -0.10096524655818939,
          -0.13534866273403168,
          -0.08288466185331345,
          -0.11182654649019241,
          -0.10589499026536942,
          -0.004210977349430323,
          0.038485828787088394,
          0.133051335811615,
          -0.24586288630962372,
          0.0757402628660202,
          0.32968640327453613,
          0.17040002346038818,
          -0.029216434806585312,
          -0.0003553466231096536,
          0.07378587871789932,
          -0.0012593831634148955,
          0.0005843109101988375,
          0.10874190181493759,
          0.23753394186496735,
          -0.10700057446956635,
          0.005308290012180805,
          0.2802305519580841,
          0.16253125667572021,
          -0.26059475541114807,
          0.17637474834918976,
          -0.07594053447246552,
          -0.19443711638450623,
          0.2526107430458069,
          0.28673216700553894,
          0.24591240286827087,
          0.35248756408691406,
          -0.2740609645843506,
          -0.021398695185780525,
          -0.25319981575012207,
          0.029580911621451378,
          0.005308290012180805,
          0.23316991329193115,
          -0.020391089841723442,
          0.05092809349298477,
          0.10119922459125519,
          0.02870183438062668,
          0.20411419868469238,
          -0.05140349268913269,
          -0.045748282223939896,
          0.06743820756673813,
          -0.19474393129348755,
          -0.21835939586162567,
          0.21385718882083893,
          -0.12085691094398499,
          -0.050042856484651566,
          0.12674155831336975,
          -0.022560304030776024,
          0.1405550241470337,
          -0.07318800687789917,
          0.16931474208831787,
          0.1168777123093605,
          -0.04240129142999649,
          -0.0857997015118599,
          0.08887220174074173,
          -0.05461597815155983,
          -0.03159208223223686,
          -0.2835870087146759,
          -0.34256261587142944,
          0.007603323552757502,
          -0.01693151146173477,
          0.1274949461221695,
          -0.01706521213054657,
          -0.0032471315935254097,
          -0.20248450338840485,
          0.18675433099269867,
          0.03201465681195259,
          0.030597146600484848,
          0.06738676130771637,
          -0.03375323489308357,
          0.11361473053693771,
          -0.06159041449427605,
          0.012702434323728085,
          0.091514453291893,
          0.21737787127494812,
          0.2539186477661133,
          0.19258110225200653,
          -0.08284789323806763,
          0.011746902950108051,
          0.05000194534659386,
          0.3000226616859436,
          -0.04796438664197922,
          0.35543766617774963,
          -0.27431824803352356,
          -0.1776202768087387,
          -0.17629888653755188,
          -0.10463453829288483,
          0.011701542884111404,
          0.20272403955459595,
          -0.11696267127990723,
          0.04890713095664978,
          0.1002657487988472,
          -0.13181525468826294,
          0.4783296585083008,
          0.11869213730096817,
          0.005308290012180805,
          -0.0505024790763855,
          0.2764093279838562,
          -0.0283611211925745,
          -0.044119883328676224,
          0.30390870571136475,
          0.025501325726509094,
          -0.28938743472099304,
          0.26644229888916016,
          0.01528791431337595,
          0.08052799850702286,
          0.37753763794898987,
          0.2665427029132843,
          -0.009283521212637424,
          -0.029436612501740456,
          0.01723468117415905,
          -0.21091271936893463,
          -0.1026754304766655,
          0.05671795457601547,
          0.0719277486205101,
          -0.029910322278738022,
          0.021360935643315315,
          -0.21792346239089966,
          0.19944535195827484,
          0.053444769233465195,
          0.015987085178494453,
          0.012464665807783604,
          0.20870643854141235,
          -0.1789594143629074,
          -0.18691907823085785,
          -0.13369348645210266,
          0.1295502632856369,
          0.11653532087802887,
          -0.13420461118221283,
          -0.19776801764965057,
          0.004754796624183655,
          -0.2155366986989975,
          0.12501497566699982,
          -0.019142262637615204,
          0.024830754846334457,
          0.06894290447235107,
          0.03430980443954468,
          -0.16304126381874084,
          -0.05089765042066574,
          -0.013869663700461388,
          0.0026502157561481,
          0.06194952502846718,
          0.1298948973417282,
          -0.215241938829422,
          -0.11255398392677307,
          -0.30897456407546997,
          -0.22995242476463318,
          -0.2571622133255005,
          -0.10387397557497025,
          -0.024683848023414612,
          -0.07388219237327576,
          0.16044259071350098,
          0.17183221876621246,
          -0.1895243525505066,
          -0.09668061137199402,
          -0.020290350541472435,
          0.31730419397354126,
          0.2717125415802002,
          -0.1732134222984314,
          -0.2482244074344635,
          -0.18319115042686462,
          0.005893407855182886,
          0.045611944049596786,
          0.100802481174469,
          0.5152219533920288,
          0.09995238482952118,
          0.15184365212917328,
          0.0505075566470623,
          0.07396586239337921,
          0.05215049907565117,
          0.0760667473077774,
          0.07827304303646088,
          0.10096755623817444,
          -0.03524952381849289,
          -0.15175381302833557,
          0.11773137748241425,
          -0.024489128962159157,
          0.1699039340019226,
          -0.084336057305336,
          -0.11148487031459808,
          0.01615624874830246,
          -0.06954469531774521,
          -0.04541998356580734,
          -0.03987691551446915,
          0.10050690919160843,
          0.02588331513106823,
          -0.11908891052007675,
          -0.03119784966111183,
          0.012031578458845615,
          0.029359592124819756,
          -0.3549906313419342,
          -0.006258878391236067,
          -0.20674942433834076,
          -0.12292277067899704,
          -0.11747787147760391,
          0.012711205519735813,
          0.27237120270729065,
          0.005911772605031729,
          -0.13952888548374176,
          -0.20955011248588562,
          0.142435684800148,
          -0.06541837006807327,
          0.23682868480682373,
          0.463098406791687,
          -0.0322657972574234,
          -0.210071861743927,
          0.32053542137145996,
          0.12117884308099747,
          -0.2025718092918396,
          0.024023253470659256,
          -0.12581996619701385,
          0.0531894788146019,
          0.01213880442082882,
          0.21061092615127563,
          0.09300271421670914,
          -0.13594575226306915,
          -0.1587865799665451,
          0.008634455502033234,
          -0.33937788009643555,
          -0.22797891497612,
          -0.17996220290660858,
          0.0028780505526810884,
          -0.2536790370941162,
          -0.07736793905496597,
          0.06672467291355133,
          0.006499393377453089,
          -0.24095499515533447,
          -0.22239059209823608,
          0.08679981529712677,
          -0.10639316588640213,
          0.19535401463508606,
          0.22241564095020294,
          -0.08597313612699509,
          -0.2934289276599884,
          -0.11451519280672073,
          -0.1600153148174286,
          -0.13566087186336517,
          -0.3417954742908478,
          0.3265727460384369,
          -0.18701012432575226,
          -0.22086723148822784,
          0.17994853854179382,
          0.03625364974141121,
          0.30198049545288086,
          -0.04255932942032814,
          -0.11733285337686539,
          -0.06039254367351532,
          0.048451051115989685,
          0.34616658091545105,
          0.42528098821640015,
          0.03749970346689224,
          -0.14154571294784546,
          -0.13271397352218628,
          0.3059522807598114,
          0.3425281047821045,
          0.3058016002178192,
          0.11913066357374191,
          0.05889710411429405,
          0.20259341597557068,
          0.2321169227361679,
          0.027518702670931816,
          -0.2675986886024475,
          -0.018943173810839653,
          -0.08872697502374649,
          0.1720517873764038,
          0.3365362882614136,
          -0.11568471044301987,
          0.09522531181573868,
          0.41524091362953186,
          0.11625122278928757,
          -0.09463238716125488,
          0.22114667296409607,
          -0.007306092884391546,
          0.19126766920089722,
          0.30218324065208435,
          -0.21866802871227264,
          -0.020623307675123215,
          0.13022381067276,
          -0.04551786929368973,
          -0.2516632080078125,
          -0.03587635979056358,
          -0.193869948387146,
          0.04212556034326553,
          -0.16275174915790558,
          -0.14507471024990082,
          -0.35823285579681396,
          -0.33488214015960693,
          0.012550001963973045,
          -0.13072241842746735,
          -0.14501196146011353,
          -0.13063226640224457,
          -0.08296514302492142,
          -0.2206587791442871,
          -0.04916199669241905,
          0.018347809091210365,
          0.012706172652542591,
          -0.08542907238006592,
          -0.09119608998298645,
          -0.2513202130794525,
          -0.07039175927639008,
          0.03916459158062935,
          -0.13525860011577606,
          0.02802952751517296,
          0.14553667604923248,
          -0.07420377433300018,
          0.11629505455493927,
          -0.3284358084201813,
          -0.32972535490989685,
          0.019956612959504128,
          -0.28099343180656433,
          -0.052810121327638626,
          -0.026256980374455452,
          0.23302283883094788,
          -0.20156238973140717,
          0.07435797899961472,
          -0.0934954285621643,
          -0.2623090445995331,
          0.05264291539788246,
          0.1789151281118393,
          -0.290426105260849,
          0.3615112006664276,
          0.06187838315963745,
          -0.036435652524232864,
          -0.30349498987197876,
          -0.11045719683170319,
          0.0032077135983854532,
          -0.060421139001846313,
          -0.25770103931427,
          0.005308290012180805,
          -0.17412538826465607,
          0.09955765306949615,
          -0.35457590222358704,
          0.2739763557910919,
          -0.03137548267841339,
          0.08253877609968185,
          0.2988285720348358,
          -0.0001952036691363901,
          -0.23747190833091736,
          -0.23154956102371216,
          0.08897361904382706,
          -0.16778749227523804,
          -0.11062799394130707,
          0.12787173688411713,
          0.08238837867975235,
          -0.10022304207086563,
          -0.1940716803073883,
          0.11751565337181091,
          0.43151673674583435,
          0.14690251648426056,
          0.35155370831489563,
          -0.1364402323961258,
          -0.0726534053683281,
          -0.05536495894193649,
          0.15604178607463837,
          0.18213093280792236,
          -0.015357292257249355,
          0.01668977178633213,
          0.06282568722963333,
          -0.19214409589767456,
          0.005308290012180805,
          0.005308290012180805,
          -0.10144482553005219,
          -0.16332054138183594,
          0.005308290012180805,
          -0.23057235777378082,
          -0.09162315726280212,
          -0.27828776836395264,
          -0.11442311108112335,
          0.030924109742045403,
          0.005308290012180805,
          0.05039321631193161,
          0.003224297659471631,
          0.005308290012180805,
          -0.038652438670396805,
          0.26561349630355835,
          -0.21682173013687134,
          -0.22583447396755219,
          -0.12969158589839935,
          -0.1071438118815422,
          -0.08552046120166779,
          -0.0970437303185463,
          -0.11366520076990128,
          -0.07660292834043503,
          0.10121095925569534,
          -0.23499266803264618,
          0.09987524151802063,
          -0.26053765416145325,
          -0.23228026926517487,
          -0.26521748304367065,
          0.005308290012180805,
          0.005308290012180805,
          0.005308290012180805,
          -0.2738819122314453,
          0.0375232957303524,
          -0.12464740872383118,
          0.004009067080914974,
          -0.10314047336578369
         ],
         "yaxis": "y"
        },
        {
         "customdata": [
          [
           "OpenKiwi: An Open Source Framework for Quality Estimation"
          ],
          [
           "Zero-shot Word Sense Disambiguation using Sense Definition Embeddings"
          ],
          [
           "Transferable Multi-Domain State Generator for Task-Oriented Dialogue Systems"
          ],
          [
           "A Simple Theoretical Model of Importance for Summarization"
          ],
          [
           "We need to talk about standard splits"
          ]
         ],
         "hovertemplate": "award=award<br>x1=%{x}<br>x2=%{y}<br>hover_data_0=%{customdata[0]}<extra></extra>",
         "legendgroup": "award",
         "marker": {
          "color": "#EF553B",
          "symbol": "circle"
         },
         "mode": "markers",
         "name": "award",
         "orientation": "v",
         "showlegend": true,
         "type": "scatter",
         "x": [
          -0.1570238322019577,
          -0.07440704107284546,
          -0.04310403764247894,
          0.11756822466850281,
          0.1242794543504715
         ],
         "xaxis": "x",
         "y": [
          -0.10872429609298706,
          -0.12316378206014633,
          0.3014659881591797,
          0.0836934819817543,
          -0.0652313306927681
         ],
         "yaxis": "y"
        }
       ],
       "layout": {
        "legend": {
         "title": {
          "text": "award"
         },
         "tracegroupgap": 0
        },
        "margin": {
         "t": 60
        },
        "template": {
         "data": {
          "bar": [
           {
            "error_x": {
             "color": "#2a3f5f"
            },
            "error_y": {
             "color": "#2a3f5f"
            },
            "marker": {
             "line": {
              "color": "#E5ECF6",
              "width": 0.5
             },
             "pattern": {
              "fillmode": "overlay",
              "size": 10,
              "solidity": 0.2
             }
            },
            "type": "bar"
           }
          ],
          "barpolar": [
           {
            "marker": {
             "line": {
              "color": "#E5ECF6",
              "width": 0.5
             },
             "pattern": {
              "fillmode": "overlay",
              "size": 10,
              "solidity": 0.2
             }
            },
            "type": "barpolar"
           }
          ],
          "carpet": [
           {
            "aaxis": {
             "endlinecolor": "#2a3f5f",
             "gridcolor": "white",
             "linecolor": "white",
             "minorgridcolor": "white",
             "startlinecolor": "#2a3f5f"
            },
            "baxis": {
             "endlinecolor": "#2a3f5f",
             "gridcolor": "white",
             "linecolor": "white",
             "minorgridcolor": "white",
             "startlinecolor": "#2a3f5f"
            },
            "type": "carpet"
           }
          ],
          "choropleth": [
           {
            "colorbar": {
             "outlinewidth": 0,
             "ticks": ""
            },
            "type": "choropleth"
           }
          ],
          "contour": [
           {
            "colorbar": {
             "outlinewidth": 0,
             "ticks": ""
            },
            "colorscale": [
             [
              0,
              "#0d0887"
             ],
             [
              0.1111111111111111,
              "#46039f"
             ],
             [
              0.2222222222222222,
              "#7201a8"
             ],
             [
              0.3333333333333333,
              "#9c179e"
             ],
             [
              0.4444444444444444,
              "#bd3786"
             ],
             [
              0.5555555555555556,
              "#d8576b"
             ],
             [
              0.6666666666666666,
              "#ed7953"
             ],
             [
              0.7777777777777778,
              "#fb9f3a"
             ],
             [
              0.8888888888888888,
              "#fdca26"
             ],
             [
              1,
              "#f0f921"
             ]
            ],
            "type": "contour"
           }
          ],
          "contourcarpet": [
           {
            "colorbar": {
             "outlinewidth": 0,
             "ticks": ""
            },
            "type": "contourcarpet"
           }
          ],
          "heatmap": [
           {
            "colorbar": {
             "outlinewidth": 0,
             "ticks": ""
            },
            "colorscale": [
             [
              0,
              "#0d0887"
             ],
             [
              0.1111111111111111,
              "#46039f"
             ],
             [
              0.2222222222222222,
              "#7201a8"
             ],
             [
              0.3333333333333333,
              "#9c179e"
             ],
             [
              0.4444444444444444,
              "#bd3786"
             ],
             [
              0.5555555555555556,
              "#d8576b"
             ],
             [
              0.6666666666666666,
              "#ed7953"
             ],
             [
              0.7777777777777778,
              "#fb9f3a"
             ],
             [
              0.8888888888888888,
              "#fdca26"
             ],
             [
              1,
              "#f0f921"
             ]
            ],
            "type": "heatmap"
           }
          ],
          "heatmapgl": [
           {
            "colorbar": {
             "outlinewidth": 0,
             "ticks": ""
            },
            "colorscale": [
             [
              0,
              "#0d0887"
             ],
             [
              0.1111111111111111,
              "#46039f"
             ],
             [
              0.2222222222222222,
              "#7201a8"
             ],
             [
              0.3333333333333333,
              "#9c179e"
             ],
             [
              0.4444444444444444,
              "#bd3786"
             ],
             [
              0.5555555555555556,
              "#d8576b"
             ],
             [
              0.6666666666666666,
              "#ed7953"
             ],
             [
              0.7777777777777778,
              "#fb9f3a"
             ],
             [
              0.8888888888888888,
              "#fdca26"
             ],
             [
              1,
              "#f0f921"
             ]
            ],
            "type": "heatmapgl"
           }
          ],
          "histogram": [
           {
            "marker": {
             "pattern": {
              "fillmode": "overlay",
              "size": 10,
              "solidity": 0.2
             }
            },
            "type": "histogram"
           }
          ],
          "histogram2d": [
           {
            "colorbar": {
             "outlinewidth": 0,
             "ticks": ""
            },
            "colorscale": [
             [
              0,
              "#0d0887"
             ],
             [
              0.1111111111111111,
              "#46039f"
             ],
             [
              0.2222222222222222,
              "#7201a8"
             ],
             [
              0.3333333333333333,
              "#9c179e"
             ],
             [
              0.4444444444444444,
              "#bd3786"
             ],
             [
              0.5555555555555556,
              "#d8576b"
             ],
             [
              0.6666666666666666,
              "#ed7953"
             ],
             [
              0.7777777777777778,
              "#fb9f3a"
             ],
             [
              0.8888888888888888,
              "#fdca26"
             ],
             [
              1,
              "#f0f921"
             ]
            ],
            "type": "histogram2d"
           }
          ],
          "histogram2dcontour": [
           {
            "colorbar": {
             "outlinewidth": 0,
             "ticks": ""
            },
            "colorscale": [
             [
              0,
              "#0d0887"
             ],
             [
              0.1111111111111111,
              "#46039f"
             ],
             [
              0.2222222222222222,
              "#7201a8"
             ],
             [
              0.3333333333333333,
              "#9c179e"
             ],
             [
              0.4444444444444444,
              "#bd3786"
             ],
             [
              0.5555555555555556,
              "#d8576b"
             ],
             [
              0.6666666666666666,
              "#ed7953"
             ],
             [
              0.7777777777777778,
              "#fb9f3a"
             ],
             [
              0.8888888888888888,
              "#fdca26"
             ],
             [
              1,
              "#f0f921"
             ]
            ],
            "type": "histogram2dcontour"
           }
          ],
          "mesh3d": [
           {
            "colorbar": {
             "outlinewidth": 0,
             "ticks": ""
            },
            "type": "mesh3d"
           }
          ],
          "parcoords": [
           {
            "line": {
             "colorbar": {
              "outlinewidth": 0,
              "ticks": ""
             }
            },
            "type": "parcoords"
           }
          ],
          "pie": [
           {
            "automargin": true,
            "type": "pie"
           }
          ],
          "scatter": [
           {
            "fillpattern": {
             "fillmode": "overlay",
             "size": 10,
             "solidity": 0.2
            },
            "type": "scatter"
           }
          ],
          "scatter3d": [
           {
            "line": {
             "colorbar": {
              "outlinewidth": 0,
              "ticks": ""
             }
            },
            "marker": {
             "colorbar": {
              "outlinewidth": 0,
              "ticks": ""
             }
            },
            "type": "scatter3d"
           }
          ],
          "scattercarpet": [
           {
            "marker": {
             "colorbar": {
              "outlinewidth": 0,
              "ticks": ""
             }
            },
            "type": "scattercarpet"
           }
          ],
          "scattergeo": [
           {
            "marker": {
             "colorbar": {
              "outlinewidth": 0,
              "ticks": ""
             }
            },
            "type": "scattergeo"
           }
          ],
          "scattergl": [
           {
            "marker": {
             "colorbar": {
              "outlinewidth": 0,
              "ticks": ""
             }
            },
            "type": "scattergl"
           }
          ],
          "scattermapbox": [
           {
            "marker": {
             "colorbar": {
              "outlinewidth": 0,
              "ticks": ""
             }
            },
            "type": "scattermapbox"
           }
          ],
          "scatterpolar": [
           {
            "marker": {
             "colorbar": {
              "outlinewidth": 0,
              "ticks": ""
             }
            },
            "type": "scatterpolar"
           }
          ],
          "scatterpolargl": [
           {
            "marker": {
             "colorbar": {
              "outlinewidth": 0,
              "ticks": ""
             }
            },
            "type": "scatterpolargl"
           }
          ],
          "scatterternary": [
           {
            "marker": {
             "colorbar": {
              "outlinewidth": 0,
              "ticks": ""
             }
            },
            "type": "scatterternary"
           }
          ],
          "surface": [
           {
            "colorbar": {
             "outlinewidth": 0,
             "ticks": ""
            },
            "colorscale": [
             [
              0,
              "#0d0887"
             ],
             [
              0.1111111111111111,
              "#46039f"
             ],
             [
              0.2222222222222222,
              "#7201a8"
             ],
             [
              0.3333333333333333,
              "#9c179e"
             ],
             [
              0.4444444444444444,
              "#bd3786"
             ],
             [
              0.5555555555555556,
              "#d8576b"
             ],
             [
              0.6666666666666666,
              "#ed7953"
             ],
             [
              0.7777777777777778,
              "#fb9f3a"
             ],
             [
              0.8888888888888888,
              "#fdca26"
             ],
             [
              1,
              "#f0f921"
             ]
            ],
            "type": "surface"
           }
          ],
          "table": [
           {
            "cells": {
             "fill": {
              "color": "#EBF0F8"
             },
             "line": {
              "color": "white"
             }
            },
            "header": {
             "fill": {
              "color": "#C8D4E3"
             },
             "line": {
              "color": "white"
             }
            },
            "type": "table"
           }
          ]
         },
         "layout": {
          "annotationdefaults": {
           "arrowcolor": "#2a3f5f",
           "arrowhead": 0,
           "arrowwidth": 1
          },
          "autotypenumbers": "strict",
          "coloraxis": {
           "colorbar": {
            "outlinewidth": 0,
            "ticks": ""
           }
          },
          "colorscale": {
           "diverging": [
            [
             0,
             "#8e0152"
            ],
            [
             0.1,
             "#c51b7d"
            ],
            [
             0.2,
             "#de77ae"
            ],
            [
             0.3,
             "#f1b6da"
            ],
            [
             0.4,
             "#fde0ef"
            ],
            [
             0.5,
             "#f7f7f7"
            ],
            [
             0.6,
             "#e6f5d0"
            ],
            [
             0.7,
             "#b8e186"
            ],
            [
             0.8,
             "#7fbc41"
            ],
            [
             0.9,
             "#4d9221"
            ],
            [
             1,
             "#276419"
            ]
           ],
           "sequential": [
            [
             0,
             "#0d0887"
            ],
            [
             0.1111111111111111,
             "#46039f"
            ],
            [
             0.2222222222222222,
             "#7201a8"
            ],
            [
             0.3333333333333333,
             "#9c179e"
            ],
            [
             0.4444444444444444,
             "#bd3786"
            ],
            [
             0.5555555555555556,
             "#d8576b"
            ],
            [
             0.6666666666666666,
             "#ed7953"
            ],
            [
             0.7777777777777778,
             "#fb9f3a"
            ],
            [
             0.8888888888888888,
             "#fdca26"
            ],
            [
             1,
             "#f0f921"
            ]
           ],
           "sequentialminus": [
            [
             0,
             "#0d0887"
            ],
            [
             0.1111111111111111,
             "#46039f"
            ],
            [
             0.2222222222222222,
             "#7201a8"
            ],
            [
             0.3333333333333333,
             "#9c179e"
            ],
            [
             0.4444444444444444,
             "#bd3786"
            ],
            [
             0.5555555555555556,
             "#d8576b"
            ],
            [
             0.6666666666666666,
             "#ed7953"
            ],
            [
             0.7777777777777778,
             "#fb9f3a"
            ],
            [
             0.8888888888888888,
             "#fdca26"
            ],
            [
             1,
             "#f0f921"
            ]
           ]
          },
          "colorway": [
           "#636efa",
           "#EF553B",
           "#00cc96",
           "#ab63fa",
           "#FFA15A",
           "#19d3f3",
           "#FF6692",
           "#B6E880",
           "#FF97FF",
           "#FECB52"
          ],
          "font": {
           "color": "#2a3f5f"
          },
          "geo": {
           "bgcolor": "white",
           "lakecolor": "white",
           "landcolor": "#E5ECF6",
           "showlakes": true,
           "showland": true,
           "subunitcolor": "white"
          },
          "hoverlabel": {
           "align": "left"
          },
          "hovermode": "closest",
          "mapbox": {
           "style": "light"
          },
          "paper_bgcolor": "white",
          "plot_bgcolor": "#E5ECF6",
          "polar": {
           "angularaxis": {
            "gridcolor": "white",
            "linecolor": "white",
            "ticks": ""
           },
           "bgcolor": "#E5ECF6",
           "radialaxis": {
            "gridcolor": "white",
            "linecolor": "white",
            "ticks": ""
           }
          },
          "scene": {
           "xaxis": {
            "backgroundcolor": "#E5ECF6",
            "gridcolor": "white",
            "gridwidth": 2,
            "linecolor": "white",
            "showbackground": true,
            "ticks": "",
            "zerolinecolor": "white"
           },
           "yaxis": {
            "backgroundcolor": "#E5ECF6",
            "gridcolor": "white",
            "gridwidth": 2,
            "linecolor": "white",
            "showbackground": true,
            "ticks": "",
            "zerolinecolor": "white"
           },
           "zaxis": {
            "backgroundcolor": "#E5ECF6",
            "gridcolor": "white",
            "gridwidth": 2,
            "linecolor": "white",
            "showbackground": true,
            "ticks": "",
            "zerolinecolor": "white"
           }
          },
          "shapedefaults": {
           "line": {
            "color": "#2a3f5f"
           }
          },
          "ternary": {
           "aaxis": {
            "gridcolor": "white",
            "linecolor": "white",
            "ticks": ""
           },
           "baxis": {
            "gridcolor": "white",
            "linecolor": "white",
            "ticks": ""
           },
           "bgcolor": "#E5ECF6",
           "caxis": {
            "gridcolor": "white",
            "linecolor": "white",
            "ticks": ""
           }
          },
          "title": {
           "x": 0.05
          },
          "xaxis": {
           "automargin": true,
           "gridcolor": "white",
           "linecolor": "white",
           "ticks": "",
           "title": {
            "standoff": 15
           },
           "zerolinecolor": "white",
           "zerolinewidth": 2
          },
          "yaxis": {
           "automargin": true,
           "gridcolor": "white",
           "linecolor": "white",
           "ticks": "",
           "title": {
            "standoff": 15
           },
           "zerolinecolor": "white",
           "zerolinewidth": 2
          }
         }
        },
        "xaxis": {
         "anchor": "y",
         "domain": [
          0,
          1
         ],
         "title": {
          "text": "x1"
         }
        },
        "yaxis": {
         "anchor": "x",
         "domain": [
          0,
          1
         ],
         "title": {
          "text": "x2"
         }
        }
       }
      },
      "text/html": [
       "<div>                            <div id=\"252246c7-dce9-44fa-841e-066e1778a415\" class=\"plotly-graph-div\" style=\"height:525px; width:100%;\"></div>            <script type=\"text/javascript\">                require([\"plotly\"], function(Plotly) {                    window.PLOTLYENV=window.PLOTLYENV || {};                                    if (document.getElementById(\"252246c7-dce9-44fa-841e-066e1778a415\")) {                    Plotly.newPlot(                        \"252246c7-dce9-44fa-841e-066e1778a415\",                        [{\"customdata\":[[\"Counterfactual Data Augmentation for Mitigating Gender Stereotypes in Languages with Rich Morphology\"],[\"Unsupervised Discovery of Gendered Language through Latent-Variable Modeling\"],[\"Margin-based Parallel Corpus Mining with Multilingual Sentence Embeddings\"],[\"Searching for Effective Neural Extractive Summarization: What Works and What's Next\"],[\"Style Transformer: Unpaired Text Style Transfer without Disentangled Latent Representation\"],[\"Distantly Supervised Named Entity Recognition using Positive-Unlabeled Learning\"],[\"Generating Responses with a Specific Emotion in Dialog\"],[\"Bridging by Word: Image-Grounded Vocabulary Construction for Visual Captioning\"],[\"Adversarial Domain Adaptation Using Artificial Titles for Abstractive Title Generation\"],[\"Twitter Homophily: Network Based Prediction of User's Occupation\"],[\"Incorporating Textual Information on User Behavior for Personality Prediction\"],[\"Large-Scale Multi-Label Text Classification on EU Legislation\"],[\"Neural Legal Judgment Prediction in English\"],[\"Discourse Analysis and Its Applications\"],[\"Self-Supervised Learning for Contextualized Extractive Summarization\"],[\"Graph-based Dependency Parsing with Graph Neural Networks\"],[\"Self-Supervised Dialogue Learning\"],[\"Joint Type Inference on Entities and Relations via Graph Convolutional Networks\"],[\"Towards Generating Long and Coherent Text with Multi-Level Latent Variable Models\"],[\"Learning to Select, Track, and Generate for Data-to-Text\"],[\"Multi-hop Reading Comprehension across Multiple Documents by Reasoning over Heterogeneous Graphs\"],[\"Visual Story Post-Editing\"],[\"HIGHRES: Highlight-based Reference-less Evaluation of Summarization\"],[\"Merge and Label: A novel neural network architecture for nested NER\"],[\"Model-Agnostic Meta-Learning for Relation Classification with Limited Supervision\"],[\"ARNOR: Attention Regularization based Noise Reduction for Distant Supervision Relation Classification\"],[\"Representing Schema Structure with Graph Neural Networks for Text-to-SQL Parsing\"],[\"MULTIQA: An Empirical Investigation of Generalization and Transfer in Reading Comprehension\"],[\"Topic Tensor Network for Implicit Discourse Relation Recognition in Chinese\"],[\"\"],[\"Gender-preserving Debiasing for Pre-trained Word Embeddings\"],[\"Aspect Sentiment Classification Towards Question-Answering with Reinforced Bidirectional Attention Network\"],[\"Adversarial Attention Modeling for Multi-dimensional Emotion Regression\"],[\"On-device Structured and Context Partitioned Projection Networks\"],[\"Multi-Source Cross-Lingual Model Transfer: Learning What to Share\"],[\"Scalable Syntax-Aware Language Models Using Knowledge Distillation\"],[\"Dense Procedure Captioning in Narrated Instructional Videos\"],[\"The Risk of Racial Bias in Hate Speech Detection\"],[\"HellaSwag: Can a Machine Really Finish Your Sentence?\"],[\"COMET : Commonsense Transformers for Automatic Knowledge Graph Construction\"],[\"Conversing by Reading: Contentful Neural Conversation with On-demand Machine Reading\"],[\"\"],[\"Learning Compressed Sentence Representations for On-Device Text Processing\"],[\"Sentence Mover's Similarity: Automatic Evaluation for Multi-Sentence Texts\"],[\"SParC: Cross-Domain Semantic Parsing in Context\"],[\"Level-Up: Learning to Improve Proficiency Level of Essays\"],[\"Word-order biases in deep-agent emergent communication\"],[\"CNNs found to jump around more skillfully than RNNs: Compositional generalization in seq2seq convolutional networks\"],[\"Miss Tools and Mr Fruit: Emergent communication in agents learning about object affordances\"],[\"On the Distribution of Deep Clausal Embeddings: A Large Cross-linguistic Study\"],[\"Learning to Link Grammar and Encyclopedic Information to Assist ESL Learners\"],[\"STACL: Simultaneous Translation with Implicit Anticipation and Controllable Latency using Prefix-to-Prefix Framework *\"],[\"Effective Adversarial Regularization for Neural Machine Translation\"],[\"Enhancing Pre-Trained Language Representations with Rich Knowledge for Machine Reading Comprehension\"],[\"Proactive Human-Machine Conversation with Explicit Conversation Goals\"],[\"An Empirical Study of Span Representations in Argumentation Structure Parsing\"],[\"Know More about Each Other: Evolving Dialogue Strategy via Compound Assessment\"],[\"Open-Domain Why-Question Answering with Adversarial Learning to Encode Answer Texts\"],[\"An Interactive Multi-Task Learning Network for End-to-End Aspect-Based Sentiment Analysis\"],[\"Attention Guided Graph Convolutional Networks for Relation Extraction\"],[\"Quantity Tagger: A Latent-Variable Sequence Labeling Approach to Solving Addition-Subtraction Word Problems\"],[\"A Neural Multi-digraph Model for Chinese NER with Gazetteers\"],[\"Inter-sentence Relation Extraction with Document-level Graph Convolutional Neural Network\"],[\"DOER: Dual Cross-Shared RNN for Aspect Term-Polarity Co-Extraction\"],[\"Learning to Discover, Ground and Use Words with Segmental Neural Language Models\"],[\"Topic Modeling with Wasserstein Autoencoders\"],[\"Simple and Effective Paraphrastic Similarity from Parallel Translations\"],[\"Beyond BLEU: Training Neural Machine Translation with Semantic Similarity\"],[\"Visually Grounded Neural Syntax Acquisition\"],[\"Controllable Paraphrase Generation with a Syntactic Exemplar\"],[\"Incremental Learning from Scratch for Task-Oriented Dialogue Systems\"],[\"Multi-step Reasoning via Recurrent Dual Attention for Visual Dialog\"],[\"Learning Deep Transformer Models for Machine Translation\"],[\"Shared-Private Bilingual Word Embeddings for Neural Machine Translation\"],[\"Energy and Policy Considerations for Deep Learning in NLP\"],[\"A2N: Attending to Neighbors for Knowledge Graph Inference\"],[\"Optimal Transport-based Alignment of Learned Character Representations for String Similarity\"],[\"Hierarchical Transfer Learning for Multi-label Text Classification\"],[\"\"],[\"Learning from Dialogue after Deployment: Feed Yourself, Chatbot!\"],[\"ConvLab: Multi-Domain End-to-End Dialog System Platform\"],[\"From brain space to distributional space: the perilous journeys of fMRI decoding\"],[\"Semantic Parsing with Dual Learning\"],[\"Context-aware Embedding for Targeted Aspect-based Sentiment Analysis\"],[\"Ensuring Readability and Data-fidelity using Head-modifier Templates in Deep Type Description Generation\"],[\"Chinese Relation Extraction with Multi-Grained Information and External Linguistic Knowledge\"],[\"DocRED: A Large-Scale Document-Level Relation Extraction Dataset\"],[\"GEAR: Graph-based Evidence Aggregating and Reasoning for Fact Verification\"],[\"ERNIE: Enhanced Language Representation with Informative Entities\"],[\"DIAG-NRE: A Neural Pattern Diagnosis Framework for Distantly Supervised Neural Relation Extraction\"],[\"Quantifying Similarity between Relations with Fact Distribution\"],[\"Multi-Style Generative Reading Comprehension\"],[\"Answering while Summarizing: Multi-task Learning for Multi-hop QA with Evidence Extraction\"],[\"Detecting Adverse Drug Reactions from Biomedical Texts With Neural Networks\"],[\"Deep Neural Models for Medical Concept Normalization in User-Generated Texts\"],[\"Cross-domain and Cross-lingual Abusive Language Detection: a Hybrid Approach with Deep Learning and a Multilingual Lexicon\"],[\"Yes, we can! Mining Arguments in 50 Years of US Presidential Campaign Debates\"],[\"A Modular Tool for Automatic Summarization\"],[\"Attention Is (not) All You Need for Commonsense Reasoning\"],[\"TARGER: Neural Argument Mining at Your Fingertips\"],[\"Multimodal Abstractive Summarization for How2 Videos\"],[\"Task Refinement Learning for Improved Accuracy and Stability of Unsupervised Domain Adaptation\"],[\"Improving Neural Conversational Models with Entropy-Based Data Filtering\"],[\"Robust Zero-Shot Cross-Domain Slot Filling with Example Values\"],[\"Learning How to Active Learn by Dreaming\"],[\"Neural Architectures for Nested NER through Linearization\"],[\"Message from the General Chair\"],[\"Inducing Document Structure for Aspect-based Summarization\"],[\"Are You Convinced? Choosing the More Convincing Evidence with a Siamese Network\"],[\"Identification of Tasks, Datasets, Evaluation Metrics, and Numeric Scores for Scientific Leaderboards Construction\"],[\"Neural Temporality Adaptation for Document Classification: Diachronic Word Embeddings and Domain Adaptation Models\"],[\"W\\u00e9tin dey with these comments? Modeling Sociolinguistic Factors Affecting Code-switching Behavior in Nigerian Online Discussions\"],[\"Question Answering in the Biomedical Domain\"],[\"Unsupervised Joint Training of Bilingual Word Embeddings\"],[\"My Turn To Read: An Interleaved E-book Reading Tool for Developing and Struggling Readers\"],[\"Unsupervised Bilingual Word Embedding Agreement for Unsupervised Neural Machine Translation\"],[\"Sentence-Level Agreement for Neural Machine Translation\"],[\"Neural Machine Translation with Reordering Embeddings\"],[\"Lattice-Based Transformer Encoder for Neural Machine Translation\"],[\"Multimodal Logical Inference System for Visual-Textual Entailment\"],[\"Sequence Tagging with Contextual and Non-Contextual Subword Representations: A Multilingual Evaluation\"],[\"Unsupervised Learning of Discourse-Aware Text Representation for Essay Scoring\"],[\"Lattice Transformer for Speech Translation\"],[\"Cross-Lingual Syntactic Transfer through Unsupervised Adaptation of Invertible Projections\"],[\"Multi-grained Attention with Object-level Grounding for Visual Question Answering\"],[\"Choosing Transfer Languages for Cross-Lingual Learning\"],[\"An Empirical Investigation of Structured Output Modeling for Graph-based Neural Dependency Parsing\"],[\"Domain Adaptive Inference for Neural Machine Translation\"],[\"Knowledge discovery and hypothesis generation from online patient forums: A research proposal\"],[\"Exploring Author Context for Detecting Intended vs Perceived Sarcasm\"],[\"OpenDialKG: Explainable Conversational Reasoning with Attention-based Walks over Knowledge Graphs\"],[\"Constrained Decoding for Neural NLG from Compositional Representations in Task-Oriented Dialogue\"],[\"Predicting Human Activities from User-Generated Content\"],[\"Embedding Strategies for Specialized Domains: Application to Clinical Entity Recognition\"],[\"Annotation and Automatic Classification of Aspectual Categories\"],[\"Evidence-based Trustworthiness\"],[\"A Hierarchical Reinforced Sequence Operation Method for Unsupervised Text Style Transfer\"],[\"Rhetorically Controlled Encoder-Decoder for Modern Chinese Poetry Generation\"],[\"Observing Dialogue in Therapy: Categorizing and Forecasting Behavioral Codes\"],[\"Global Optimization under Length Constraint for Neural Text Summarization\"],[\"Dataset Creation for Ranking Constructive News Comments\"],[\"Augmenting Neural Networks with First-order Logic\"],[\"ADVISER: A Dialog System Framework for Education & Research\"],[\"Classification and Clustering of Arguments with Contextualized Word Embeddings\"],[\"Domain Adaptation of Neural Machine Translation by Lexicon Induction\"],[\"Exploring Numeracy in Word Embeddings\"],[\"Storyboarding of Recipes: Grounded Contextual Generation\"],[\"Pay attention when you pay the bills. A multilingual corpus with dependency-based and semantic annotation of collocations\"],[\"Crowdsourcing and Aggregating Nested Markable Annotations\"],[\"\"],[\"Who Sides With Whom? Towards Computational Construction of Discourse Networks for Political Debates\"],[\"An Environment for Relational Annotation of Political Debates\"],[\"A Spreading Activation Framework for Tracking Conceptual Complexity of Texts\"],[\"CoDraw: Collaborative Drawing as a Testbed for Grounded Goal-driven Communication\"],[\"Stochastic Tokenization with a Language Model for Neural Text Classification\"],[\"Transforming Complex Sentences into a Semantic Hierarchy\"],[\"Analyzing the Limitations of Cross-lingual Word Embedding Mappings\"],[\"How to (Properly) Evaluate Cross-Lingual Word Embeddings: On Strong Baselines, Comparative Analyses, and Some Misconceptions\"],[\"Boosting Entity Linking Performance by Leveraging Unlabeled Documents\"],[\"JW300: A Wide-Coverage Parallel Corpus for Low-Resource Languages\"],[\"Distant Learning for Entity Linking with Automatic Noise Detection\"],[\"Unsupervised Pretraining for Neural Machine Translation Using Elastic Weight Consolidation\"],[\"Analyzing Multi-Head Self-Attention: Specialized Heads Do the Heavy Lifting, the Rest Can Be Pruned\"],[\"Interpretable Question Answering on Knowledge Bases and Text\"],[\"Putting Evaluation in Context: Contextual Embeddings improve Machine Translation Evaluation\"],[\"Improving Textual Network Embedding with Global Attention via Optimal Transport\"],[\"\"],[\"Aiming beyond the Obvious: Identifying Non-Obvious Cases in Semantic Similarity Datasets\"],[\"Self-Supervised Neural Machine Translation\"],[\"PTB Graph Parsing with Tree Approximation\"],[\"Better Exploiting Latent Variables in Text Modeling\"],[\"Improving Multi-turn Dialogue Modelling with Utterance ReWriter\"],[\"A Joint Named-Entity Recognizer for Heterogeneous Tag-sets Using a Tag Hierarchy\"],[\"Extracting Symptoms and their Status from Clinical Conversations\"],[\"Jointly Learning Semantic Parser and Natural Language Generator via Dual Information Maximization\"],[\"Semantic expressive capacity with bounded memory\"],[\"How multilingual is Multilingual BERT?\"],[\"Simple and Effective Curriculum Pointer-Generator Networks for Reading Comprehension over Long Narratives\"],[\"Lightweight and Efficient Neural Natural Language Processing with Quaternion Networks\"],[\"Time-Out: Temporal Referencing for Robust Modeling of Lexical Semantic Change\"],[\"A Wind of Change: Detecting and Evaluating Lexical Semantic Change across Times and Domains\"],[\"Reference Network for Neural Machine Translation\"],[\"Multimodal Transformer Networks for End-to-End Video-Grounded Dialogue Systems\"],[\"Reading Turn by Turn: Hierarchical Attention Architecture for Spoken Dialogue Comprehension\"],[\"EditNTS: An Neural Programmer-Interpreter Model for Sentence Simplification through Explicit Editing\"],[\"Learning to Rank for Plausible Plausibility\"],[\"Incorporating Syntactic and Semantic Information in Word Embeddings using Graph Convolutional Networks\"],[\"Historical Text Normalization with Delayed Rewards\"],[\"Multi-Task Learning for Coherence Modeling\"],[\"Learning Representation Mapping for Relation Detection in Knowledge Base Question Answering\"],[\"ReCoSa: Detecting the Relevant Contexts with Self-Attention for Multi-turn Dialogue Generation\"],[\"Decomposable Neural Paraphrase Generation\"],[\"Bridging the Gap between Training and Inference for Neural Machine Translation\"],[\"Modeling Semantic Compositionality with Sememe Knowledge\"],[\"Revisiting Low-Resource Neural Machine Translation: A Case Study\"],[\"A Lightweight Recurrent Network for Sequence Modeling\"],[\"Fine-Grained Temporal Relation Extraction\"],[\"Deep Neural Model Inspection and Comparison via Functional Neuron Pathways\"],[\"Morphological Irregularity Correlates with Frequency\"],[\"On the Summarization of Consumer Health Questions\"],[\"Complex Word Identification as a Sequence Labelling Task\"],[\"Leveraging Local and Global Patterns for Self-Attention Networks\"],[\"Revisiting Joint Modeling of Cross-document Entity and Event Coreference Resolution\"],[\"Generating Summaries with Topic Templates and Structured Convolutional Decoders\"],[\"A Unified Multi-task Adversarial Learning Framework for Pharmacovigilance Mining\"],[\"#YouToo? Detection of Personal Recollections of Sexual Harassment on Social Media\"],[\"Towards Multimodal Sarcasm Detection (An Obviously Perfect Paper)\"],[\"Learning Transferable Feature Representations Using Neural Networks\"],[\"Accelerating Sparse Matrix Operations in Neural Networks on Graphics Processing Units\"],[\"ARHNet -Leveraging Community Interaction For Detection Of Religious Hate Speech In Arabic\"],[\"Look Harder: A Neural Machine Translation Model with Hard Attention\"],[\"Matching Article Pairs with Graphical Decomposition and Convolutions\"],[\"Towards Lossless Encoding of Sentences\"],[\"Do Neural Dialog Systems Use the Conversation History Effectively? An Empirical Study\"],[\"A Large-Scale Corpus for Conversation Disentanglement\"],[\"TALKSUMM: A Dataset and Scalable Annotation Method for Scientific Paper Summarization Based on Conference Talks\"],[\"The Language of Legal and Illegal Activity on the Darknet\"],[\"Argument Invention from First Principles\"],[\"From Surrogacy to Adoption; From Bitcoin to Cryptocurrency: Debate Topic Expansion\"],[\"What Makes a Good Counselor? Learning to Distinguish between High-quality and Low-quality Counseling Conversations\"],[\"A Semi-Markov Structured Support Vector Machine Model for High-Precision Named Entity Recognition\"],[\"Relating Simple Sentence Representations in Deep Neural Networks and the Brain\"],[\"The KNOWREF Coreference Corpus: Removing Gender and Number Cues for Difficult Pronominal Anaphora Resolution\"],[\"Detecting Subevents using Discourse and Narrative Features\"],[\"Word and Document Embedding with vMF-Mixture Priors on Context Word Vectors\"],[\"Exploiting Explicit Paths for Multi-hop Reading Comprehension\"],[\"Disentangled Representation Learning for Non-Parallel Text Style Transfer\"],[\"Towards Explainable NLP: A Generative Explanation Framework for Text Classification\"],[\"Exploiting Entity BIO Tag Embeddings and Multi-task Learning for Relation Extraction with Imbalanced Data\"],[\"Ordinal and Attribute Aware Response Generation in a Multimodal Dialogue System\"],[\"RankQA: Neural Question Answering with Answer Re-Ranking\"],[\"A Working Memory Model for Task-oriented Dialog Response Generation\"],[\"Improving Abstractive Document Summarization with Salient Information Modeling\"],[\"Sequence Labeling Parsing by Learning Across Representations\"],[\"Generating Question Relevant Captions to Aid Visual Question Answering\"],[\"Controlling Grammatical Error Correction Using Word Edit Rate\"],[\"Simple and Effective Text Matching with Richer Alignment Features\"],[\"A Simple Recipe towards Reducing Hallucination in Neural Surface Realisation\"],[\"Exploring Pre-trained Language Models for Event Extraction and Generation\"],[\"Expressing Visual Relationships via Language\"],[\"Scoring Sentence Singletons and Pairs for Abstractive Summarization\"],[\"Delta Embedding Learning\"],[\"Poetry to Prose Conversion in Sanskrit as a Linearisation Task: A case for Low-Resource Languages\"],[\"Latent Variable Model for Multi-modal Translation\"],[\"Interpretable Neural Predictions with Differentiable Binary Variables\"],[\"Graph based Neural Networks for Event Factuality Prediction using Syntactic and Semantic Structures\"],[\"Data-to-text Generation with Entity Modeling\"],[\"Evaluating Discourse in Structured Text Representations\"],[\"Training Neural Machine Translation To Apply Terminology Constraints\"],[\"Unsupervised Rewriter for Multi-Sentence Compression\"],[\"Fine-tuning Pre-Trained Transformer Language Models to Distantly Supervised Relation Extraction\"],[\"Unsupervised Pivot Translation for Distant Languages\"],[\"Improved Sentiment Detection via Label Transfer from Monolingual to Synthetic Code-Switched Text\"],[\"On the Word Alignment from Neural Machine Translation *\"],[\"Selection Bias Explorations and Debias Methods for Natural Language Sentence Matching Datasets\"],[\"BiSET: Bi-directional Selective Encoding with Template for Abstractive Summarization\"],[\"Semi-supervised Domain Adaptation for Dependency Parsing\"],[\"Are Girls Neko or Sh\\u014djo? Cross-Lingual Alignment of Non-Isomorphic Embeddings with Iterative Normalization\"],[\"Towards Integration of Statistical Hypothesis Tests into Deep Neural Networks\"],[\"Adversarial Multitask Learning for Joint Multi-Feature and Multi-Dialect Morphological Modeling\"],[\"Unsupervised Question Answering by Cloze Translation\"],[\"Generating Natural Language Adversarial Examples through Probability Weighted Word Saliency\"],[\"Misleading Failures of Partial-input Baselines\"],[\"Automatic and Human Evaluation of Local Topic Quality\"],[\"Why Didn't You Listen to Me? Comparing User Control of Human-in-the-Loop Topic Models\"],[\"Real-Time Open-Domain Question Answering with Dense-Sparse Phrase Index\"],[\"Sakura: Large-scale Incorrect Example Retrieval System for Learners of Japanese as a Second Language\"],[\"This year, the student research workshop has received a great attention, reflecting the growth of the field. We received 214 submissions in total: 27 research proposals and 147 research papers. Among these, 7 research proposals and 22 research papers were non-archival. We accepted 71 papers, for an acceptance rate of 33%. After withdrawals and excluding non-archival papers, 61 papers are appearing in these proceedings, including 14 research proposals and 47 research papers. All of the accepted papers will be presented as posters in late morning sessions as a part of the main conference, split across three days (July 29th-31th). Mentoring is at the heart of the SRW. In keeping with previous years, students had the opportunity for pre-submission mentoring prior to the submission deadline. Total of 64 papers participated in presubmission mentoring program. This program offered students a chance to receive comments from an experienced researcher, in order to improve the quality of the writing and presentation before making their submission. In addition, authors of accepted SRW papers are matched with mentors who will meet with the students in person during the poster presentations. Each mentor prepares in-depth comments and questions prior to the student's presentation, and provides discussion and feedback during the workshop. We are deeply grateful to our sponsors whose support will enable a number of students to attend the conference. We would also like to thank our program committee members for their careful reviews of each paper, and all of our mentors for donating their time to provide feedback to our student authors. Thank you to our faculty advisors Hannaneh Hajishirzi, Aurelie Herbelot, Scott Yih, Yue Zhang for their essential advice and guidance, and to the members of the ACL 2018 organizing committee, in particular David Traum, Anna Korhonen and Llu\\u00eds M\\u00e0rquez for their helpful support. Finally, kudos to our student participants! iii\"],[\"Negative Lexically Constrained Decoding for Paraphrase Generation\"],[\"Retrieval-Enhanced Adversarial Training for Neural Response Generation\"],[\"Towards Complex Text-to-SQL in Cross-Domain Database with Intermediate Representation\"],[\"Can You Tell Me How to Get Past Sesame Street? Sentence-Level Pretraining Beyond Language Modeling\"],[\"The PhotoBook Dataset: Building Common Ground through Visually-Grounded Dialogue\"],[\"A Resource-Free Evaluation Metric for Cross-Lingual Word Embeddings Based on Graph Modularity\"],[\"Learning to Ask Unanswerable Questions for Machine Reading Comprehension\"],[\"Compositional Questions Do Not Necessitate Multi-hop Reasoning\"],[\"Multi-hop Reading Comprehension through Question Decomposition and Rescoring\"],[\"A Unified Linear-Time Framework for Sentence-Level Discourse Parsing\"],[\"Dialogue-Act Prediction of Future Responses based on Conversation History\"],[\"What does BERT learn about the structure of language?\"],[\"Span-Level Model for Relation Extraction\"],[\"Toward Comprehensive Understanding of a Sentiment Based on Human Motives\"],[\"Language Modeling with Shared Grammar\"],[\"Controllable Text Simplification with Lexical Constraint Loss\"],[\"SUMBT: Slot-Utterance Matching for Universal and Scalable Belief Tracking\"],[\"Unsupervised Information Extraction: Regularizing Discriminative Approaches with Relation Distribution Losses\"],[\"Neural Relation Extraction for Knowledge Base Enrichment\"],[\"Normalizing Non-canonical Turkish Texts Using Machine Translation Approaches\"],[\"Bilingual Lexicon Induction with Semi-supervision in Non-Isometric Embedding Spaces\"],[\"Corpus Creation and Analysis for Named Entity Recognition in Telugu-English Code-Mixed Social Media Data\"],[\"De-Mixing Sentiment from Code-Mixed Text\"],[\"Boosting Dialog Response Generation\"],[\"Exploring Phoneme-Level Speech Representations for End-to-End Speech Translation\"],[\"Towards Scalable and Reliable Capsule Networks for Challenging NLP Applications\"],[\"Employing the Correspondence of Relations and Connectives to Identify Implicit Discourse Relations via Label Embeddings\"],[\"Neural Keyphrase Generation via Reinforcement Learning with Adaptive Rewards\"],[\"Automatically Identifying Complaints in Social Media\"],[\"Massively Multilingual Transfer for NER\"],[\"Better Character Language Modeling Through Morphology\"],[\"BAM! Born-Again Multi-Task Networks for Natural Language Understanding\"],[\"Neural Aspect and Opinion Term Extraction with Mined Rules as Weak Supervision\"],[\"Mitigating Gender Bias in Natural Language Processing: Literature Review\"],[\"Entity-Centric Contextual Affective Analysis\"],[\"Identifying Visible Actions in Lifestyle Vlogs\"],[\"A Cross-Domain Transferable Neural Coherence Model\"],[\"Relation Embedding with Dihedral Group in Knowledge Graph\"],[\"Enhancing Air Quality Prediction with Social Media and Natural Language Processing\"],[\"Know What You Don't Know: Modeling a Pragmatic Speaker that Refers to Objects of Unknown Categories\"],[\"NeuralClassifier: An Open-source Neural Hierarchical Multi-label Text Classification Toolkit\"],[\"Combining Knowledge Hunting and Neural Language Models to Solve the Winograd Schema Challenge\"],[\"Careful Selection of Knowledge to solve Open Book Question Answering\"],[\"A computational linguistic study of personal recovery in bipolar disorder\"],[\"SARAL: A Low-Resource Cross-Lingual Domain-Focused Information Retrieval System for Effective Rapid Document Triage\"],[\"Psycholinguistics meets Continual Learning: Measuring Catastrophic Forgetting in Visual Question Answering\"],[\"FIESTA: Fast IdEntification of State-of-The-Art models using adaptive bandit algorithms\"],[\"ClaimPortal: Integrated Monitoring, Searching, Checking, and Analytics of Factual Claims on Twitter\"],[\"Predicting Humorousness and Metaphor Novelty with Gaussian Process Preference Learning\"],[\"CONAN -COunter NArratives through Nichesourcing: a Multilingual Dataset of Responses to Fight Online Hate Speech\"],[\"The (Non-)Utility of Structural Features in BiLSTM-based Dependency Parsers\"],[\"Zero-Shot Cross-Lingual Abstractive Sentence Summarization through Teaching Generation and Attention\"],[\"Pretraining Methods for Dialog Context Representation Learning\"],[\"CogNet: a Large-Scale Cognate Database\"],[\"Neural News Recommendation with Long-and Short-term User Representations\"],[\"GraphRel: Modeling Text as Relational Graphs for Joint Entity and Relation Extraction\"],[\"Multi-task Pairwise Neural Ranking for Hashtag Segmentation\"],[\"Entity-Relation Extraction as Multi-turn Question Answering\"],[\"Is Word Segmentation Necessary for Deep Learning of Chinese Representations?\"],[\"Implicit Discourse Relation Identification for Open-domain Dialogues\"],[\"Analysis of Automatic Annotation Suggestions for Hard Discourse-Level Tasks in Expert Domains\"],[\"Is Attention Interpretable?\"],[\"Neural News Recommendation with Topic-Aware News Representation\"],[\"Persuasion for Good: Towards a Personalized Persuasive Dialogue System for Social Good\"],[\"Show, Describe and Conclude: On Exploiting the Structure Information of Chest X-Ray Reports\"],[\"Curate and Generate: A Corpus and Method for Joint Control of Semantics and Style in Neural NLG\"],[\"Synthetic QA Corpora Generation with Roundtrip Consistency\"],[\"Multi-Task Networks With Universe, Group, and Task Feature Learning\"],[\"Informative Image Captioning with External Sources of Information\"],[\"Cognitive Graph for Multi-Hop Reading Comprehension at Scale\"],[\"Dynamically Fused Graph Network for Multi-hop Reasoning\"],[\"Multi-Channel Graph Neural Network for Entity Alignment\"],[\"Semantically Conditioned Dialog Response Generation via Hierarchical Disentangled Self-Attention\"],[\"Jiuge: A Human-Machine Collaborative Chinese Classical Poetry Generation System\"],[\"Hierarchical Transformers for Multi-Document Summarization\"],[\"SphereRE: Distinguishing Lexical Relations with Hyperspherical Relation Embeddings\"],[\"Are Red Roses Red? Evaluating Consistency of Question-Answering Models\"],[\"Modeling Intra-Relation in Math Word Problems with Different Functional Multi-Head Attentions\"],[\"Course Concept Expansion in MOOCs with External Knowledge and Interactive Game\"],[\"Few-Shot Representation Learning for Out-Of-Vocabulary Words\"],[\"Automated Chess Commentator Powered by Neural Chess Engine\"],[\"VIFIDEL: Evaluating the Visual Fidelity of Image Descriptions\"],[\"Exploring Sequence-to-Sequence Learning in Aspect Term Extraction\"],[\"Learning to Control the Fine-grained Sentiment for Story Ending Generation\"],[\"How Large Are Lions? Inducing Distributions over Quantitative Attributes\"],[\"Right for the Wrong Reasons: Diagnosing Syntactic Heuristics in Natural Language Inference\"],[\"Translating Translationese: A Two-Step Approach to Unsupervised Machine Translation\"],[\"BERT Rediscovers the Classical NLP Pipeline\"],[\"Argument Generation with Retrieval, Planning, and Realization\"],[\"Dual Adversarial Neural Transfer for Low-Resource Named Entity Recognition\"],[\"ChID: A Large-scale Chinese IDiom Dataset for Cloze Test\"],[\"Robust Representation Learning of Biomedical Names\"],[\"KCAT: A Knowledge-Constraint Typing Annotation Tool\"],[\"Eliciting Knowledge from Experts: Automatic Transcript Parsing for Cognitive Task Analysis\"],[\"AlpacaTag: An Active Learning-based Crowd Annotation Framework for Sequence Tagging\"],[\"Tree LSTMs with Convolution Units to Predict Stance and Rumor Veracity in Social Media Conversations\"],[\"Reinforced Dynamic Reasoning for Conversational Question Generation\"],[\"Open Vocabulary Learning for Neural Chinese Pinyin IME\"],[\"Diachronic Sense Modeling with Deep Contextualized Word Embeddings: An Ecological View\"],[\"Literary Event Detection\"],[\"A Prism Module for Semantic Disentanglement in Name Entity Recognition\"],[\"Long-Distance Dependencies don't have to be Long: Simplifying through Provably (Approximately) Optimal Permutations\"],[\"Modeling financial analysts' decision making via the pragmatics and semantics of earnings calls\"],[\"Towards Fine-grained Text Sentiment Transfer\"],[\"Dual Supervised Learning for Natural Language Understanding and Generation\"],[\"Reliability-aware Dynamic Feature Composition for Name Tagging\"],[\"PaperRobot: Incremental Draft Generation of Scientific Ideas\"],[\"Keep Meeting Summaries on Topic: Abstractive Multi-Modal Meeting Summarization\"],[\"Towards Comprehensive Description Generation from Factual Attribute-value Tables\"],[\"Multi-Grained Named Entity Recognition\"],[\"Figurative Usage Detection of Symptom Words to Improve Personal Health Mention Detection\"],[\"Recognising Agreement and Disagreement between Stances with Reason Comparing Networks\"],[\"Using Human Attention to Extract Keyphrase from Microblog Post\"],[\"HIBERT: Document Level Pre-training of Hierarchical Bidirectional Transformers for Document Summarization\"],[\"Automatic Grammatical Error Correction for Sequence-to-sequence Text Generation: An Empirical Study\"],[\"Explain Yourself! Leveraging Language Models for Commonsense Reasoning\"],[\"Open-Domain Targeted Sentiment Analysis via Span-Based Extraction and Classification\"],[\"\"],[\"Retrieve, Read, Rerank: Towards End-to-End Multi-Document Reading Comprehension\"],[\"Graph Neural Networks with Generated Parameters for Relation Extraction\"],[\"BERT-based Lexical Substitution\"],[\"Weakly-Supervised Spatio-Temporally Grounding Natural Sentence in Video\"],[\"Open Domain Event Extraction Using Neural Latent Variable Models\"],[\"Towards Near-imperceptible Steganographic Text\"],[\"Token-level Dynamic Self-Attention Network for Multi-Passage Reading Comprehension\"],[\"Incremental Transformer with Deliberation Decoder for Document Grounded Conversations\"],[\"A Multiscale Visualization of Attention in the Transformer Model\"],[\"Target-Guided Open-Domain Conversation\"],[\"Just \\\"OneSeC\\\" for Producing Multilingual Sense-Annotated Data\"],[\"Improving the Similarity Measure of Determinantal Point Processes for Extractive Multi-Document Summarization\"],[\"Cross-lingual Knowledge Graph Alignment via Graph Matching Neural Network\"],[\"Knowledge-aware Pronoun Coreference Resolution\"],[\"Progressive Self-Supervised Attention Learning for Aspect-Level Sentiment Analysis\"],[\"Gated Embeddings in End-to-End Speech Recognition for Conversational-Context Fusion\"],[\"Multi-Level Matching and Aggregation Network for Few-Shot Relation Classification\"],[\"Learning Representations from Imperfect Time Series Data via Tensor Rank Regularization\"],[\"Multimodal Transformer for Unaligned Multimodal Language Sequences\"],[\"Exploiting Invertible Decoders for Unsupervised Sentence Representation Learning\"],[\"Generating Question-Answer Hierarchies\"],[\"Syntactically Supervised Transformers for Faster Neural Machine Translation\"],[\"Encouraging Paragraph Embeddings to Remember Sentence Identity Improves Classification\"],[\"Strategies for Structuring Story Generation\"],[\"Heuristic Authorship Obfuscation\"],[\"Bias Analysis and Mitigation in the Evaluation of Authorship Verification\"],[\"This Email Could Save Your Life: Introducing the Task of Email Subject Line Generation\"],[\"SP-10K: A Large-scale Evaluation Set for Selectional Preference Acquisition\"],[\"Extracting Multiple-Relations in One-Pass with Pre-Trained Transformers\"],[\"Improving Question Answering over Incomplete KBs with Knowledge-Aware Reader\"],[\"Sentence Centrality Revisited for Unsupervised Summarization\"],[\"TWEETQA: A Social Media Focused Question Answering Dataset\"],[\"Parallax: Visualizing and Understanding the Semantics of Embedding Spaces via Algebraic Formulae\"],[\"Monotonic Infinite Lookback Attention for Simultaneous Machine Translation\"],[\"End-to-end Deep Reinforcement Learning Based Coreference Resolution\"],[\"Rewarding Smatch: Transition-Based AMR Parsing with Reinforcement Learning\"],[\"Low-resource Deep Entity Resolution with Transfer and Active Learning\"],[\"HEIDL: Learning Linguistic Expressions with Deep Learning and Human-in-the-Loop\"],[\"Emotion-Cause Pair Extraction: A New Task to Emotion Analysis in Texts\"],[\"Soft Contextual Data Augmentation for Neural Machine Translation\"],[\"Understanding Undesirable Word Embedding Associations\"],[\"Towards Understanding Linear Word Analogies\"],[\"From Bilingual to Multilingual Neural Machine Translation by Incremental Training\"],[\"Key Fact as Pivot: A Two-Stage Model for Low Resource Table-to-Text Generation\"],[\"Enhancing Topic-to-Essay Generation with External Commonsense Knowledge\"],[\"Generating Fluent Adversarial Examples for Natural Languages\"],[\"STRASS: A Light and Effective Method for Extractive Summarization Based on Sentence Embeddings\"],[\"Online Infix Probability Computation for Probabilistic Finite Automata\"],[\"Cross-Modal Commentator: Automatic Machine Commenting Based on Cross-Modal Information\"],[\"XQA: A Cross-lingual Open-domain Question Answering Dataset\"],[\"Generating Sentences from Disentangled Syntactic and Semantic Spaces\"],[\"Automatic Generation of Personalized Comment Based on User Profile\"],[\"Imitation Learning for Non-Autoregressive Neural Machine Translation\"],[\"Like a Baby: Visually Situated Neural Language Acquisition\"],[\"Improving Neural Language Models by Segmenting, Attending, and Predicting the Future\"],[\"Does It Make Sense? And Why? A Pilot Study for Sense Making and Explanation\"],[\"Cross-Lingual Training for Automatic Question Generation\"],[\"Continual and Multi-Task Architecture Search\"],[\"Explore, Propose, and Assemble: An Interpretable Model for Multi-Hop Reading Comprehension\"],[\"Avoiding Reasoning Shortcuts: Adversarial Evaluation, Training, and Model Development for Multi-Hop QA\"],[\"Semi-supervised Stochastic Multi-Domain Learning using Variational Inference\"],[\"Comparison of Diverse Decoding Methods from Conditional Language Models\"],[\"PERSPECTROSCOPE: A Window to the World of Diverse Perspectives\"],[\"An adaptable task-oriented dialog system for stand-alone embedded devices\"],[\"Deep Dominance -How to Properly Compare Deep Neural Models\"],[\"Improving Visual Question Answering by Referring to Generated Paragraph Captions\"],[\"Unraveling Antonym's Word Vectors through a Siamese-like Network\"],[\"LSTMEmbed: Learning Word and Sense Representations from a Large Semantically Annotated Corpus with Long Short-Term Memories\"],[\"Evaluating Gender Bias in Machine Translation\"],[\"When a Good Translation is Wrong in Context: Context-Aware Machine Translation Improves on Deixis, Ellipsis, and Lexical Cohesion\"],[\"Rationally Reappraising ATIS-based Dialogue Systems\"],[\"ELI5: Long Form Question Answering\"],[\"Paraphrases as Foreign Languages in Multilingual Neural Machine Translation\"],[\"lingvis.io -A Linguistic Visual Analytics Framework\"],[\"Demonstration of a Neural Machine Translation System with Online Learning for Translators\"],[\"GrapAL: Connecting the Dots in Scientific Literature\"],[\"FASTDial: Abstracting Dialogue Policies for Fast Development of Task Oriented Agents\"],[\"Rapid Customization for Event Extraction\"],[\"\"],[\"PostAc \\u00ae : A Visual Interactive Search, Exploration, and Analysis Platform for PhD Intensive Job Postings\"],[\"A Neural, Interactive-predictive System for Multimodal Sequence to Sequence Tasks\"],[\"GLTR: Statistical Detection and Visualization of Generated Text\"],[\"Annotating and Analyzing Semantic Role of Elementary Units and Relations in Online Persuasive Arguments\"],[\"Microsoft ICECAPS: An Open-Source Toolkit for Conversation Modeling\"],[\"Flamb\\u00e9: A Customizable Framework for Machine Learning Experiments\"],[\"MoNoise: A Multi-lingual and Easy-to-use Lexical Normalization Tool\"],[\"Texar: A Modularized, Versatile, and Extensible Toolkit for Text Generation\"],[\"SLATE: A Super-Lightweight Annotation Tool for Experts\"],[\"You Only Need Attention to Traverse Trees\"],[\"Constructing Interpretive Spatio-Temporal Features for Multi-Turn Responses Selection\"],[\"Stay on the Path: Instruction Fidelity in Vision-and-Language Navigation\"],[\"Robust Neural Machine Translation with Doubly Adversarial Inputs\"],[\"\"],[\"A Multi-Task Architecture on Relevance-based Neural Query Translation\"],[\"Women's Syntactic Resilience and Men's Grammatical Luck: Gender-Bias in Part-of-Speech Tagging and Dependency Parsing\"],[\"Robust Neural Machine Translation with Joint Textual and Phonetic Embedding\"],[\"Attention over Heads: A Multi-Hop Attention for Neural Machine Translation\"],[\"Using Semantic Similarity as Reward for Reinforcement Learning in Sentence Generation\"],[\"Simultaneous Translation with Flexible Policy via Restricted Imitation Learning\"],[\"Unsupervised Paraphrasing without Translation\"],[\"Celebrity Profiling\"],[\"Probing Neural Network Comprehension of Natural Language Arguments\"],[\"Generating Logical Forms from Graph Representations of Text and Entities\"],[\"Dynamically Composing Domain-Data Selection with Clean-Data Selection by \\\"Co-Curricular Learning\\\" for Neural Machine Translation\"],[\"Handling Divergent Reference Texts when Evaluating Table-to-Text Generation\"],[\"Ranking of Potential Questions\"],[\"Context-specific language modeling for human trafficking detection from online advertisements\"],[\"Putting words in context: LSTM language models and lexical ambiguity\"],[\"NNE: A Dataset for Nested Named Entity Recognition in English Newswire\"],[\"Latent Retrieval for Weakly Supervised Open Domain Question Answering\"],[\"Ranking Generated Summaries by Correctness: An Interesting but Challenging Application for Natural Language Inference\"],[\"Using Automatically Extracted Minimum Spans to Disentangle Coreference Evaluation from Boundary Detection\"],[\"Effective Cross-lingual Transfer of Neural Machine Translation Models without Shared Vocabularies\"],[\"Reversing Gradients in Adversarial Domain Adaptation for Question Deduplication and Textual Entailment Tasks\"],[\"Crowdsourcing and Validating Event-focused Emotion Corpora for German and English\"],[\"An Imitation Learning Approach to Unsupervised Parsing\"],[\"Zero-Shot Entity Linking by Reading Entity Descriptions\"],[\"How to best use Syntax in Semantic Role Labelling\"],[\"Learning Emphasis Selection for Written Text in Visual Media from Crowd-Sourced Label Distributions\"],[\"AMR Parsing as Sequence-to-Graph Transduction\"],[\"Neural Decipherment via Minimum-Cost Flow: from Ugaritic to Linear B\"],[\"Don't Take the Premise for Granted: Mitigating Artifacts in Natural Language Inference\"],[\"Not All Reviews are Equal: Towards Addressing Reviewer Biases for Opinion Summarization\"],[\"Compound Probabilistic Context-Free Grammars for Grammar Induction\"],[\"BIGPATENT: A Large-Scale Dataset for Abstractive and Coherent Summarization\"],[\"Joint Effects of Context and User History for Predicting Online Conversation Re-entries\"],[\"Making Fast Graph-based Algorithms with Graph Metric Embeddings\"],[\"Matching the Blanks: Distributional Similarity for Relation Learning\"],[\"Unsupervised Parallel Sentence Extraction with Parallel Segment Detection Helps Machine Translation\"],[\"Better OOV Translation with Bilingual Terminology Mining\"],[\"Unsupervised Multilingual Word Embedding with Limited Resources using Neural Language Models\"],[\"Investigating Political Herd Mentality: A Community Sentiment Based Approach\"],[\"Learning Attention-based Embeddings for Relation Prediction in Knowledge Graphs\"],[\"Cross-Domain Generalization of Neural Constituency Parsers\"],[\"Pre-Learning Environment Representations for Data-Efficient Neural Instruction Following\"],[\"Are You Looking? Grounding to Multiple Modalities in Vision-and-Language Navigation\"],[\"Improving Low-Resource Cross-lingual Document Retrieval by Reranking with Deep Bilingual Representations\"],[\"Multilingual Constituency Parsing with Self-Attention and Pre-Training\"],[\"Simple Unsupervised Summarization by Contextual Matching\"],[\"Personalizing Dialogue Agents via Meta-Learning\"],[\"Memory Consolidation for Contextual Spoken Language Understanding with Dialogue Logistic Inference\"],[\"Generalized Data Augmentation for Low-Resource Translation\"],[\"M\\u0101ori Loanwords: A Corpus of New Zealand English Tweets\"],[\"Improving Neural Entity Disambiguation with Graph Embeddings\"],[\"DeepSentiPeer: Harnessing Sentiment in Review Texts To Recommend Peer Review Decisions\"],[\"Multimodal and Multi-view Models for Emotion Recognition\"],[\"Zero-Shot Semantic Parsing for Instructions\"],[\"What Should I Ask? Using Conversationally Informative Rewards for Goal-Oriented Visual Dialogue\"],[\"Complex Question Decomposition for Semantic Parsing\"],[\"HEAD-QA: A Healthcare Dataset for Complex Reasoning\"],[\"Unified Semantic Parsing with Weak Supervision\"],[\"Numeracy-600K: Learning Numeracy for Detecting Exaggerated Information in Market Comments\"],[\"Multi-Task Deep Neural Networks for Natural Language Understanding\"],[\"Distilling Translations with Visual Awareness\"],[\"DisSent: Learning Sentence Representations from Explicit Discourse Relations\"],[\"A Corpus for Reasoning About Natural Language Grounded in Photographs\"],[\"Multi-News: a Large-Scale Multi-Document Summarization Dataset and Abstractive Hierarchical Model\"],[\"EigenSent: Spectral sentence embeddings using higher-order Dynamic Mode Decomposition\"],[\"Self-Attentional Models for Lattice Inputs\"],[\"SEMBLEU: A Robust Metric for AMR Parsing Evaluation\"],[\"Symbolic inductive bias for visually grounded learning of spoken language\"],[\"Improved Zero-shot Neural Machine Translation via Ignoring Spurious Correlations\"],[\"A Compact and Language-Sensitive Multilingual Translation Method\"],[\"On the Robustness of Self-Attentive Models\"],[\"Exact Hard Monotonic Attention for Character-Level Transduction\"],[\"Reranking for Neural Semantic Parsing\"],[\"Incorporating Priors with Feature Attribution on Text Classification\"],[\"Multi-Relational Script Learning for Discourse Relations\"],[\"Human vs. Muppet: A Conservative Estimate of Human Performance on the GLUE Benchmark\"],[\"Using LSTMs to Assess the Obligatoriness of Phonological Distinctive Features for Phonotactic Learning\"],[\"Compositional Semantic Parsing Across Graphbanks\"],[\"Second-Order Semantic Dependency Parsing with End-to-End Neural Networks\"],[\"Determining Relative Argument Specificity and Stance for Complex Argumentative Structures\"],[\"Every child should have parents: a taxonomy refinement algorithm based on hyperbolic term embeddings\"],[\"Tree Communication Models for Sentiment Analysis\"],[\"An Investigation of Transfer Learning-Based Sentiment Analysis in Japanese\"],[\"Global Textual Relation Embedding for Relational Understanding\"],[\"Latent Variable Sentiment Grammar *\"],[\"Embedding time expressions for deep temporal ordering models\"],[\"Episodic Memory Reader: Learning What to Remember for Question Answering from Streaming Data\"],[\"Are we there yet? Encoder-decoder neural networks as cognitive models of English past tense inflection\"],[\"Is word segmentation child's play in all languages?\"],[\"Uncovering Probabilistic Implications in Typological Knowledge Bases\"],[\"Attention-based Conditioning Methods for External Knowledge Integration\"],[\"StRE: Self Attentive Edit Quality Prediction in Wikipedia\"],[\"Fine-Grained Sentence Functions for Short-Text Conversation\"],[\"Are Training Samples Correlated? Learning to Generate Dialogue Responses with Multiple References\"],[\"Fine-Grained Spoiler Detection from Large-Scale Review Corpora\"],[\"Unsupervised Learning of PCFGs with Normalizing Flow\"],[\"Domain Adaptive Dialog Generation via Meta Learning\"],[\"GCDT: A Global Context Enhanced Deep Transition Architecture for Sequence Labeling\"],[\"Analyzing Linguistic Differences between Owner and Staff Attributed Tweets\"],[\"Categorizing and Inferring the Relationship between the Text and Image of Twitter Posts\"],[\"Correlating neural and symbolic representations of language\"],[\"Retrieving Sequential Information for Non-Autoregressive Neural Machine Translation\"],[\"Transformer-XL: Attentive Language Models Beyond a Fixed-Length Context\"],[\"E 3 : Entailment-driven Extracting and Editing for Conversational Machine Reading\"],[\"A Simple and Effective Approach to Automatic Post-Editing with Transfer Learning\"],[\"Head-Driven Phrase Structure Grammar Parsing on Penn Treebank\"],[\"Multilingual Unsupervised NMT using Shared Encoder and Language-Specific Decoders\"],[\"Multi-Modal Sarcasm Detection in Twitter with Hierarchical Fusion Model\"],[\"MAAM: A Morphology-Aware Alignment Model for Unsupervised Bilingual Lexicon Induction\"],[\"On the Compositionality Prediction of Noun Phrases using Poincar\\u00e9 Embeddings\"],[\"Cross-Domain NER using Cross-Domain Language Modeling\"],[\"Multi-Task Semantic Dependency Parsing with Policy Gradient for Learning Easy-First Strategies\"],[\"Variance of average surprisal: a better predictor for quality of grammar from unsupervised PCFG induction\"],[\"Wide-Coverage Neural A* Parsing for Minimalist Grammars\"],[\"Assessing the Ability of Self-Attention Networks to Learn Word Order\"],[\"Topic-Aware Neural Keyphrase Generation for Social Media Language\"],[\"Relational Word Embeddings\"],[\"You Write Like You Eat: Stylistic variation as a predictor of social stratification\"],[\"Sentence-Level Evidence Embedding for Claim Verification with Hierarchical Attention Networks\"],[\"Embedding Imputation with Grounded Language Information\"],[\"Multi-Hop Paragraph Retrieval for Open-Domain Question Answering\"],[\"Textbook Question Answering with Multi-modal Context Graph Understanding and Self-supervised Open-set Comprehension\"],[\"Large Dataset and Language Model Fun-Tuning for Humor Recognition\"],[\"A Multilingual BPE Embedding Space for Universal Sentiment Lexicon Induction\"],[\"A Just and Comprehensive Strategy for Using NLP to Address Online Abuse\"],[\"Leveraging Meta Information in Short Text Aggregation\"],[\"Self-Attentive, Multi-Context One-Class Classification for Unsupervised Anomaly Detection on Text\"],[\"Hubless Nearest Neighbor Search for Bilingual Lexicon Induction\"],[\"Dialogue Natural Language Inference\"],[\"Bayes Test of Precision, Recall, and F 1 Measure for Comparison of Two Natural Language Processing Models\"],[\"The Effectiveness of Simple Hybrid Systems for Hypernym Discovery\"],[\"TIGS: An Inference Algorithm for Text Infilling with Gradient Search\"],[\"Vocabulary Pyramid Network: Multi-Pass Encoding and Decoding with Multi-Level Vocabularies for Response Generation\"],[\"Keeping Notes: Conditional Natural Language Generation with a Scratchpad Mechanism\"],[\"Do you know that Florence is packed with visitors? Evaluating state-of-the-art models of speaker commitment\"],[\"Towards Language Agnostic Universal Representations\"],[\"Give Me More Feedback II: Annotating Thesis Strength and Related Attributes in Student Essays\"],[\"End-to-End Sequential Metaphor Identification Inspired by Linguistic Theories\"],[\"Learning a Matching Model with Co-teaching for Multi-turn Response Selection in Retrieval-based Dialogue Systems\"],[\"Budgeted Policy Learning for Task-Oriented Dialogue Systems\"],[\"AdaNSP: Uncertainty-driven Adaptive Decoding in Neural Semantic Parsing\"],[\"AutoML strategy based on grammatical evolution: A case study about knowledge discovery from text\"],[\"Distilling Discrimination and Generalization Knowledge for Event Detection via \\u2206-Representation Learning\"],[\"Learning to Abstract for Memory-augmented Conversational Response Generation\"],[\"Towards Empathetic Open-domain Conversation Models: a New Benchmark and Dataset\"],[\"Training Neural Response Selection for Task-Oriented Dialogue Systems\"],[\"Joint Slot Filling and Intent Detection via Capsule Neural Networks\"],[\"Label-Agnostic Sequence Labeling by Copying Nearest Neighbors\"],[\"Self-Attention Architectures for Answer-Agnostic Neural Question Generation\"],[\"Large-Scale Transfer Learning for Natural Language Generation\"],[\"Enhancing Unsupervised Generative Dependency Parser with Contextual Information\"],[\"Cost-sensitive Regularization for Label Confusion-aware Event Detection\"],[\"Improving Open Information Extraction via Iterative Rank-Aware Learning\"],[\"Towards Improving Neural Named Entity Recognition with Gazetteers\"],[\"Improving the Robustness of Question Answering Systems to Question Paraphrasing\"],[\"Neural Response Generation with Meta-Words\"],[\"Scaling Up Open Tagging from Tens to Thousands: Comprehension Empowered Attribute Value Extraction from Product Title\"],[\"NLProlog: Reasoning with Weak Unification for Question Answering in Natural Language\"],[\"MC 2 : Multi-perspective Convolutional Cube for Conversational Machine Reading Comprehension\"],[\"A Novel Bi-directional Interrelated Model for Joint Intent Detection and Slot Filling\"],[\"Reducing Word Omission Errors in Neural Machine Translation: A Contrastive Learning Approach\"],[\"Deep Unknown Intent Detection with Margin Loss\"],[\"Exploiting Sentential Context for Neural Machine Translation\"],[\"Learning to Relate from Captions and Bounding Boxes\"],[\"Modeling Semantic Relationship in Multi-turn Conversations with Hierarchical Latent Variables\"],[\"An automated framework for fast cognate detection and Bayesian phylogenetic inference in computational historical linguistics\"],[\"Learning Latent Trees with Stochastic Perturbations and Differentiable Dynamic Programming\"],[\"Discourse Representation Parsing for Sentences and Documents\"],[\"Sequence-to-Nuggets: Nested Entity Mention Detection via Anchor-Region Networks\"],[\"Training Hybrid Language Models by Marginalizing over Segmentations\"],[\"Language Modelling Makes Sense: Propagating Representations through WordNet for Full-Coverage Word Sense Disambiguation\"],[\"Combating Adversarial Misspellings with Robust Word Recognition\"],[\"Sentiment Tagging with Partial Labels using Modular Architectures\"],[\"Word2Sense : Sparse Interpretable Word Embeddings\"],[\"Empirical Linguistic Study of Sentence Embeddings\"],[\"Collocation Classification with Unsupervised Relation Vectors\"],[\"Probing for Semantic Classes: Diagnosing the Meaning Content of Word Embeddings\"],[\"Confusionset-guided Pointer Networks for Chinese Spelling Check\"],[\"Target Conditioned Sampling: Optimizing Data Selection for Multilingual Neural Machine Translation\"],[\"Adversarial Learning of Privacy-Preserving Text Representations for De-Identification of Medical Records\"],[\"Variational Pretraining for Semi-supervised Text Classification\"],[\"The Referential Reader: A Recurrent Entity Network for Anaphora Resolution\"],[\"Interpolated Spectral NGram Language Models\"],[\"Barack's Wife Hillary: Using Knowledge Graphs for Fact-Aware Language Modeling\"],[\"Depth Growing for Neural Machine Translation\"],[\"Manipulating the Difficulty of C-Tests\"],[\"Soft Representation Learning for Sparse Transfer\"],[\"Duality of Link Prediction and Entailment Graph Induction\"],[\"Towards Unsupervised Text Classification Leveraging Experts and Word Embeddings\"],[\"Improved Language Modeling by Decoding the Past\"],[\"Sparse Sequence-to-Sequence Models\"],[\"Neural Network Alignment for Sentential Paraphrases\"],[\"A Cross-Sentence Latent Variable Model for Semi-Supervised Text Sequence Matching\"],[\"Divide, Conquer and Combine: Hierarchical Feature Fusion Network with Local and Global Perspectives for Multimodal Affective Computing\"],[\"Decompositional Argument Mining: A General Purpose Approach for Argument Graph Construction\"],[\"What You Say and How You Say It Matters: Predicting Financial Risk Using Verbal and Vocal Cues\"],[\"A Transparent Framework for Evaluating Unintended Demographic Bias in Word Embeddings\"],[\"Generalized Tuning of Distributional Word Vectors for Monolingual and Cross-Lingual Lexical Entailment\"],[\"Cross-Sentence Grammatical Error Correction\"],[\"Learning Morphosyntactic Analyzers from the Bible via Iterative Annotation Projection across 26 Languages\"],[\"A Surprisingly Robust Trick for the Winograd Schema Challenge\"],[\"Encoding Social Information with Graph Convolutional Networks for Political Perspective Detection in News Media\"],[\"MELD: A Multimodal Multi-Party Dataset for Emotion Recognition in Conversations\"],[\"Topic Sensitive Attention on Generic Corpora Corrects Sense Bias in Pretrained Embeddings\"],[\"Coherent Comment Generation for Chinese Articles with a Graph-to-Sequence Model\"],[\"Transfer Capsule Network for Aspect Level Sentiment Classification\"],[\"Multilingual Factor Analysis\"],[\"A Deep Reinforced Sequence-to-Set Model for Multi-Label Classification\"],[\"Learning from omission\"],[\"Meaning to Form: Measuring Systematicity as Information\"],[\"Interconnected Question Generation with Coreference Alignment and Conversation Flow Modeling\"],[\"A Corpus for Modeling User and Language Effects in Argumentation on Online Debating\"],[\"Generating Diverse Translations with Sentence Codes\"],[\"Multilingual and Cross-Lingual Graded Lexical Entailment\"],[\"Neural Text Simplification of Clinical Letters with a Domain Specific Phrase Table\"],[\"Data Programming for Learning Discourse Structure\"],[\"Neural Fuzzy Repair: Integrating Fuzzy Matches into Neural Machine Translation\"],[\"What Kind of Language Is Hard to Language-Model?\"],[\"\"],[\"Text Categorization by Learning Predominant Sense of Words as Auxiliary Task\"],[\"Reinforced Training Data Selection for Domain Adaptation\"],[\"Bilingual Lexicon Induction through Unsupervised Machine Translation\"],[\"One Time of Interaction May Not Be Enough: Go Deep with an Interaction-over-Interaction Network for Response Selection in Dialogues\"],[\"Coreference Resolution with Entity Equalization\"],[\"Generating Long and Informative Reviews with Aspect-Aware Coarse-to-Fine Decoding\"],[\"Asking the Crowd: Question Analysis, Evaluation and Generation for Open Discussion on Online Forums\"],[\"Automatic Generation of High Quality CCGbanks for Parser Domain Adaptation\"],[\"MOROCO: The Moldavian and Romanian Dialectal Corpus\"],[\"Unsupervised Neural Text Simplification\"],[\"Abstractive text summarization based on deep learning and semantic content generalization\"],[\"An Effective Approach to Unsupervised Machine Translation\"],[\"Errudite: Scalable, Reproducible, and Testable Error Analysis\"],[\"Unsupervised Neural Single-Document Summarization of Reviews via Learning Latent Discourse Structure and its Ranking\"],[\"Studying Summarization Evaluation Metrics in the Appropriate Scoring Range\"],[\"Spatial Aggregation Facilitates Discovery of Spatial Topics\"],[\"SherLIiC: A Typed Event-Focused Lexical Inference Benchmark for Evaluating Natural Language Inference\"],[\"Syntax-Infused Variational Autoencoder for Text Generation\"],[\"Collaborative Dialogue in Minecraft\"],[\"Finding Your Voice: The Linguistic Development of Mental Health Counselors\"],[\"Inferential Machine Comprehension: Answering Questions by Recursively Deducing the Evidence Chain from Text\"],[\"Modeling affirmative and negated action processing in the brain with lexical and compositional semantic models\"],[\"Detecting Concealed Information in Text and Speech\"],[\"Towards Automating Healthcare Question Answering in a Noisy Multilingual Low-Resource Setting\"],[\"Explicit Utilization of General Knowledge in Machine Reading Comprehension\"],[\"Self-Regulated Interactive Sequence-to-Sequence Learning\"],[\"Joint Entity Extraction and Assertion Detection for Clinical Text\"],[\"Incorporating Linguistic Constraints into Keyphrase Generation\"],[\"Adaptive Attention Span in Transformers\"],[\"Automatic Domain Adaptation Outperforms Manual Domain Adaptation for Predicting Financial Outcomes\"],[\"Wikipedia as a Resource for Text Analysis and Retrieval\"],[\"Unsupervised Cross-Lingual Representation Learning\"],[\"Computational ad hominem detection\"],[\"Fact or Factitious? Contextualized Opinion Spam Detection\"],[\"Latent Structure Models for Natural Language Processing\"],[\"Multiple Character Embeddings for Chinese Word Segmentation\"],[\"\"],[\"BREAKING! Presenting Fake News Corpus For Automated Fact Checking\"],[\"Automated Cross-language Intelligibility Analysis of Parkinson's Disease Patients Using Speech Recognition Technologies\"],[\"Attention and Lexicon Regularized LSTM for Aspect-based Sentiment Analysis\"],[\"\"],[\"Advances in Argument Mining\"],[\"Hierarchical Multi-label Classification of Text with Capsule Networks\"],[\"Computational Analysis of Political Texts: Bridging Research Efforts Across Communities\"],[\"English-Indonesian Neural Machine Translation for Spoken Language Domains\"],[\"Active Reading Comprehension: A dataset for learning the Question-Answer Relationship strategy\"],[\"Robust-to-Noise Models in Natural Language Processing Tasks\"],[\"Measuring the Value of Linguistics: A Case Study from St. Lawrence Island Yupik\"],[\"Improving Mongolian-Chinese Neural Machine Translation with Morphological Noise\"],[\"Towards incremental learning of word embeddings using context informativeness\"],[\"Joint Learning of Named Entity Recognition and Entity Linking\"],[\"A Strong and Robust Baseline for Text-Image Matching\"],[\"Reducing Gender Bias in Word-Level Language Models with a Gender-Equalizing Loss Function\"],[\"Transfer Learning Based Free-Form Speech Command Classification for Low-Resource Languages\"],[\"Enriching Neural Models with Targeted Features for Dementia Detection\"],[\"Convolutional Neural Networks for Financial Text Regression\"],[\"Scheduled Sampling for Transformers\"],[\"Sentiment Analysis on Naija-Tweets\"],[\"Sentiment Classification using Document Embeddings trained with Cosine Similarity\"],[\"A Japanese Word Segmentation Proposal\"],[\"Deep Bayesian Natural Language Processing\"],[\"\"],[\"\"],[\"Gender Stereotypes Differ between Male and Female Writings\"],[\"Natural Language Generation: Recently Learned Lessons, Directions for Semantic Representation-based Approaches, and the case of Brazilian Portuguese Language\"],[\"Towards Turkish Abstract Meaning Representation\"],[\"Predicting the Outcome of Deliberative Democracy: A Research Proposal\"],[\"Distributed Knowledge Based Clinical Auto-Coding System\"]],\"hovertemplate\":\"award=normal<br>x1=%{x}<br>x2=%{y}<br>hover_data_0=%{customdata[0]}<extra></extra>\",\"legendgroup\":\"normal\",\"marker\":{\"color\":\"#636efa\",\"symbol\":\"circle\"},\"mode\":\"markers\",\"name\":\"normal\",\"orientation\":\"v\",\"showlegend\":true,\"x\":[0.13931959867477417,0.25976505875587463,-0.20035631954669952,-0.0539262592792511,-0.1572641134262085,0.03261921554803848,0.2884109914302826,-0.17041459679603577,-0.14568783342838287,0.311727374792099,0.396210253238678,0.01794394478201866,0.1177930012345314,0.23750096559524536,-0.1299794316291809,-0.05224807932972908,0.006941802799701691,0.037620726972818375,-0.23932486772537231,0.045232731848955154,-0.08450277149677277,0.1390577107667923,0.020292073488235474,-0.08862051367759705,0.09310565143823624,-0.10795249789953232,-0.02114190347492695,-0.18120355904102325,0.04993480443954468,0.642243504524231,0.03836024925112724,0.13704872131347656,0.058831989765167236,-0.16578727960586548,-0.2347821295261383,-0.20066200196743011,-0.026277601718902588,0.242465540766716,0.00795817468315363,-0.03861027583479881,-0.07213956862688065,-0.04701932519674301,-0.1370910257101059,-0.005648700520396233,0.03831283748149872,0.1539386510848999,-0.13083402812480927,-0.18122832477092743,0.1799035519361496,-0.06145526468753815,-0.008766849525272846,-0.29828476905822754,-0.19726772606372833,-0.18954786658287048,0.13146854937076569,0.0699947327375412,0.23015373945236206,-0.05432887002825737,0.08092629909515381,-0.06676797568798065,0.1224207729101181,0.0011254327837377787,-0.07642360776662827,0.040775008499622345,-0.17740322649478912,0.01452723890542984,-0.10831344127655029,-0.27658194303512573,-0.13751128315925598,-0.10416661947965622,0.2224392145872116,0.010891685262322426,-0.35640808939933777,-0.3326330780982971,-0.0482412651181221,-0.004655629862099886,-0.06980552524328232,-0.06226195767521858,0.642243504524231,0.15894728899002075,0.04357399418950081,-0.08048626780509949,0.03097742423415184,0.006976005621254444,0.06528639793395996,-0.08544564992189407,0.00949125550687313,0.05424013361334801,-0.1384914070367813,-0.001110870623961091,0.013410829938948154,-0.11983806639909744,-0.06269221752882004,0.10361781716346741,-0.052933745086193085,0.1047881618142128,0.30613985657691956,0.22104115784168243,-0.06007475405931473,0.21698439121246338,-0.0827551782131195,0.025440875440835953,0.05347389355301857,0.02069028466939926,-0.004882956854999065,-0.1293962001800537,0.2827509343624115,-0.03083166293799877,0.29163601994514465,0.14177250862121582,0.03457099571824074,0.2669646739959717,0.12855219841003418,-0.29539212584495544,0.20230045914649963,-0.3634895980358124,-0.23883797228336334,-0.35906097292900085,-0.3331659138202667,0.05420020967721939,-0.1692039668560028,0.15419331192970276,-0.29564371705055237,-0.23074650764465332,-0.06625146418809891,-0.10575757920742035,-0.13201592862606049,-0.28073784708976746,0.40890955924987793,0.1683960258960724,0.0816558226943016,-0.06607981771230698,0.21386021375656128,-0.13415251672267914,0.19188550114631653,0.2818783223628998,-0.12600044906139374,0.07246453315019608,0.1570628434419632,-0.11231628060340881,0.3044929802417755,-0.1371910125017166,0.25058144330978394,0.11784293502569199,-0.3103111684322357,0.007067922968417406,-0.05366514250636101,0.0968647301197052,0.15011487901210785,0.23180750012397766,0.38232356309890747,0.3843149244785309,0.10576336085796356,0.10317588597536087,-0.044530440121889114,-0.050686437636613846,-0.20743818581104279,-0.2205553948879242,-0.00524506950750947,-0.1761387139558792,-0.009947359561920166,-0.3721046447753906,-0.3141547441482544,0.06727207452058792,-0.2240450233221054,-0.13114246726036072,0.3995174467563629,0.1517396867275238,-0.10294209420681,0.03279690816998482,-0.09084354341030121,0.03294188529253006,-0.01860416866838932,0.07505529373884201,-0.13951697945594788,-0.06706809997558594,-0.21157974004745483,-0.23878639936447144,-0.1564972847700119,-0.06602557003498077,0.04038603976368904,-0.35401666164398193,-0.13691380620002747,-0.08212819695472717,-0.2054218053817749,-0.061372123658657074,-0.10760253667831421,-0.15364666283130646,-0.02213352918624878,-0.12572509050369263,-0.16224034130573273,-0.1972741335630417,-0.3261723518371582,0.0072716232389211655,-0.3745492398738861,-0.3078047037124634,0.028992289677262306,-0.10279923677444458,0.0068704611621797085,-0.12532000243663788,0.07459134608507156,-0.24567635357379913,-0.027839329093694687,-0.16781078279018402,0.1525084227323532,0.42008861899375916,0.23400640487670898,-0.11266139894723892,-0.10323505103588104,0.3273647129535675,-0.33540868759155273,0.007557881996035576,-0.00816790759563446,-0.03151721879839897,0.21922573447227478,0.09891247004270554,0.31314152479171753,0.44542187452316284,0.3434325158596039,0.33647608757019043,-0.11046367883682251,-0.16239961981773376,-0.022741304710507393,0.12042482942342758,0.026373719796538353,-0.008118567988276482,-0.06869931519031525,-0.04807468503713608,-0.0858638733625412,0.06867703795433044,-0.11404034495353699,-0.0021913705859333277,-0.12565386295318604,-0.10963019728660583,-0.08646862953901291,-0.045091379433870316,-0.14872226119041443,-0.1737084984779358,0.21068085730075836,-0.21438993513584137,-0.012629210017621517,-0.14792968332767487,-0.13707825541496277,-0.2447075992822647,-0.047179482877254486,0.11016368865966797,-0.14331857860088348,-0.01708226278424263,-0.2776665687561035,-0.1310863047838211,-0.0792165994644165,-0.31198856234550476,0.0247429721057415,-0.2656134068965912,0.01143589150160551,-0.08043693006038666,-0.14920617640018463,-0.26270294189453125,-0.09981594234704971,-0.09759794175624847,-0.13092096149921417,-0.05926564335823059,-0.0183394905179739,0.17204177379608154,0.212593674659729,-0.07583001255989075,0.09623809158802032,0.642243504524231,-0.20265744626522064,-0.03381514549255371,-0.10821370035409927,-0.20811845362186432,0.1955414116382599,-0.10115831345319748,-0.13666832447052002,0.01036713644862175,-0.03063131496310234,0.15061402320861816,0.06146086007356644,-0.12250908464193344,0.004520910792052746,0.24597077071666718,-0.23529088497161865,-0.12471649050712585,0.1042579784989357,-0.06452982872724533,-0.20299147069454193,-0.005982575938105583,-0.07906319946050644,0.08709374815225601,-0.005121150519698858,0.00810769759118557,-0.22609154880046844,0.0038531192112714052,0.023660091683268547,0.02779691107571125,0.21070782840251923,-0.18675050139427185,-0.1279037892818451,-0.14935703575611115,0.1673951894044876,0.23042292892932892,0.22798776626586914,0.2749456465244293,-0.052797745913267136,0.023800497874617577,0.1866837590932846,0.020677566528320312,-0.053101882338523865,0.013689573854207993,0.07201418280601501,0.28942176699638367,-0.005970687605440617,0.03053082339465618,0.14929884672164917,0.3650096356868744,0.18552877008914948,0.30965864658355713,-0.1412973552942276,-0.30082425475120544,-0.016709202900528908,0.09526227414608002,0.03170662000775337,0.002382674254477024,0.15122072398662567,-0.07094081491231918,-0.22661054134368896,0.23518890142440796,0.1810656040906906,-0.07159794867038727,0.04333370923995972,0.4456835091114044,0.15375031530857086,-0.07056362181901932,-0.09808185696601868,-0.08885128796100616,-0.08185302466154099,0.08998972922563553,0.0910087302327156,-0.15237633883953094,-0.12428697943687439,0.1679096519947052,-0.14555643498897552,-0.07911156117916107,0.09795324504375458,-0.061200954020023346,0.18573670089244843,-0.18339195847511292,0.04416293650865555,0.0354061983525753,-0.08629829436540604,0.13012294471263885,0.12206339091062546,-0.006015369668602943,-0.27687960863113403,-0.0776839479804039,0.1729515641927719,-0.11998400837182999,0.04891645163297653,0.04631005972623825,0.10618358850479126,-0.026095472276210785,0.13326190412044525,0.1532459855079651,0.03901650011539459,-0.11733296513557434,0.06487680971622467,0.10567718744277954,-0.09842334687709808,-0.010852601379156113,0.35838961601257324,-0.014459384605288506,-0.003435238264501095,-0.031192857772111893,0.04236258566379547,0.040311090648174286,-0.001383329974487424,-0.04213272035121918,0.14181771874427795,0.30940020084381104,0.07132285088300705,-0.19212104380130768,-0.13950610160827637,-0.036892082542181015,0.12721367180347443,0.642243504524231,-0.14054244756698608,0.04227454587817192,-0.09267087280750275,-0.09284088015556335,0.08608488738536835,0.15747188031673431,-0.1986851692199707,0.06451146304607391,-0.18913187086582184,0.16852334141731262,0.0349055752158165,-0.10128150135278702,-0.05937334522604942,-0.09450150281190872,0.642243504524231,-0.11392700672149658,0.08085331320762634,0.047996535897254944,-0.08248960226774216,-0.21195213496685028,0.09133819490671158,-0.34880948066711426,-0.1099366694688797,0.05462970212101936,0.14907218515872955,0.2808404862880707,0.06352878361940384,0.06171777844429016,-0.04948722571134567,-0.007016067858785391,-0.05626837909221649,0.05308942496776581,0.033789560198783875,-0.2917691469192505,-0.07573287934064865,-0.14911024272441864,-0.10204393416643143,0.16052201390266418,0.28722310066223145,-0.3324689567089081,0.07963696122169495,-0.017058823257684708,-0.3890956938266754,-0.11266198754310608,0.021146371960639954,-0.047713227570056915,-0.07624100148677826,0.07217717170715332,0.13355055451393127,-0.23399962484836578,-0.15807439386844635,0.20645426213741302,-0.3290506601333618,-0.13961836695671082,-0.18472641706466675,0.08890252560377121,-0.11989153176546097,-0.2040708214044571,-0.015887480229139328,-0.09058137238025665,-0.09918781369924545,-0.13412335515022278,0.3808625042438507,0.25833767652511597,-0.13879209756851196,-0.09391244500875473,0.07823556661605835,-0.09629928320646286,-0.0012795933289453387,-0.21999484300613403,-0.034495510160923004,0.02912595309317112,-0.2837079167366028,0.2692581117153168,-0.10795976966619492,0.27300357818603516,0.20500829815864563,0.13687877357006073,0.642243504524231,0.3203447759151459,-0.02021290734410286,0.17696310579776764,0.5081362724304199,0.032691143453121185,0.1017623320221901,-0.061007920652627945,-0.021215755492448807,0.25083717703819275,-0.2049027532339096,0.01779807172715664,-0.09014253318309784,-0.2963171601295471,0.1835526078939438,-0.29522237181663513,0.20218317210674286,-0.2649747133255005,-0.2686290442943573,-0.1363244354724884,-0.25228995084762573,-0.22428488731384277,0.21687129139900208,0.015269747003912926,-0.10333516448736191,-0.146579772233963,0.04324891418218613,0.3290366530418396,0.19064843654632568,-0.10063206404447556,0.047101959586143494,-0.033576760441064835,0.0035286755301058292,0.030723463743925095,-0.39281296730041504,-0.12176571786403656,0.20393191277980804,-0.16735197603702545,-0.15207068622112274,-0.09118828922510147,0.17650537192821503,-0.10965510457754135,-0.15211772918701172,-0.08833938091993332,0.244587242603302,-0.06342510879039764,0.048380520194768906,0.2542100250720978,0.01706608384847641,-0.020342154428362846,-0.12958164513111115,-0.2786605656147003,-0.31383928656578064,0.42991530895233154,-0.04798903316259384,-0.13428373634815216,-0.09986020624637604,-0.015911556780338287,-0.20936551690101624,-0.19801245629787445,-0.05825710669159889,0.12963208556175232,0.002622180851176381,-0.30694153904914856,0.22594387829303741,-0.06358081847429276,0.1456494778394699,0.03864387422800064,-0.0791660025715828,0.10225716978311539,0.06678624451160431,0.01904916949570179,-0.11833952367305756,-0.06570407748222351,-0.2587040662765503,-0.17476476728916168,-0.12157907336950302,0.09902071952819824,-0.03222724422812462,0.033892203122377396,-0.2594529986381531,-0.013153035193681717,-0.15067237615585327,-0.3098548948764801,-0.37538498640060425,-0.005133696366101503,-0.29284101724624634,-0.11797989159822464,0.16458642482757568,0.050661876797676086,-0.09170763939619064,-0.047036539763212204,-0.08960707485675812,-0.09727770835161209,0.37242597341537476,0.07867302745580673,0.08032995462417603,0.04102472960948944,-0.13729754090309143,0.07274012267589569,-0.07461415976285934,-0.2053430676460266,-0.13741189241409302,-0.022747250273823738,0.03163551166653633,-0.28461745381355286,0.003978414926677942,-0.009050157852470875,-0.016692882403731346,0.20889098942279816,-0.12535084784030914,0.03575082868337631,-0.27721086144447327,0.3975183963775635,0.2532249391078949,-0.08049257099628448,-0.32423657178878784,-0.254477322101593,0.13776271045207977,-0.20928362011909485,-0.014007271267473698,-0.3306334614753723,0.1908283531665802,-0.20214933156967163,-0.039580345153808594,-0.07873021811246872,0.0015967641957104206,-0.038215383887290955,-0.06374143064022064,-0.31386232376098633,0.026004668325185776,-0.024846656247973442,0.24699823558330536,0.004731439054012299,-0.04024927690625191,-0.019443338736891747,-0.05827814340591431,0.17065934836864471,0.11903794854879379,0.5385993123054504,0.13427062332630157,-0.005952163133770227,-0.19125615060329437,0.10740575194358826,-0.03562644124031067,0.07635129988193512,-0.1901799887418747,-0.035314206033945084,-0.20214185118675232,0.05120893195271492,-0.11359640955924988,0.3025677800178528,-0.03875046968460083,0.10330125689506531,0.08001944422721863,-0.22394034266471863,0.16811594367027283,0.013897166587412357,-0.029077112674713135,0.1042393147945404,0.09729709476232529,-0.049989715218544006,-0.12791289389133453,-0.18156062066555023,-0.06617856025695801,-0.16602389514446259,0.07389280945062637,0.03792886063456535,-0.039777688682079315,-0.08894937485456467,-0.047501061111688614,0.18974947929382324,-0.03946604207158089,-0.06954704970121384,-0.011545940302312374,-0.2980622351169586,0.053346890956163406,-0.3673325479030609,-0.07597363740205765,-0.006433809641748667,0.1021878719329834,0.019304635003209114,-0.07018706947565079,-0.008643634617328644,-0.07651752233505249,-0.18493568897247314,-0.06520309299230576,0.0999496802687645,-0.10051264613866806,-0.07011997699737549,-0.043195027858018875,0.07200146466493607,-0.1079925075173378,-0.2858087122440338,0.12230750173330307,-0.12906581163406372,-0.04866214096546173,-0.08964362740516663,-0.12071484327316284,-0.38151416182518005,0.05870019271969795,-0.18412482738494873,0.12959620356559753,0.20514266192913055,-0.237985759973526,-0.2791351079940796,-0.05171709507703781,-0.10137657076120377,0.02278902381658554,0.34533193707466125,0.1687675565481186,0.1467956006526947,-0.10635130107402802,-0.2567722201347351,-0.01953723654150963,-0.05262458696961403,0.20090532302856445,0.21797853708267212,-0.11715390533208847,0.14056389033794403,0.10730376839637756,-0.1353798359632492,-0.03826817870140076,0.029704097658395767,0.013272075913846493,-0.0714523047208786,0.46579211950302124,-0.11742551624774933,-0.0528719499707222,0.028597231954336166,0.02875405177474022,-0.31693780422210693,-0.13934020698070526,0.642243504524231,-0.003195596858859062,-0.07533622533082962,-0.2604309916496277,-0.009003187529742718,-0.0002225524658570066,0.09349881112575531,0.039095982909202576,-0.02517814375460148,0.10003211349248886,-0.11835828423500061,-0.061622459441423416,-0.3394854962825775,0.1805514544248581,0.07263865321874619,0.16251270473003387,0.2588965892791748,-0.03687768056988716,-0.19120505452156067,0.20889140665531158,0.27588698267936707,-0.06487265229225159,0.09108030796051025,0.2591162621974945,-0.11357303708791733,-0.14566010236740112,-0.17976181209087372,-0.09852851182222366,-0.026082608848810196,-0.1640745848417282,0.16698142886161804,0.642243504524231,0.642243504524231,0.474896639585495,0.21375590562820435,0.642243504524231,-0.19805672764778137,0.17512446641921997,0.2927592098712921,0.09719420969486237,0.0037599916104227304,0.642243504524231,0.43865054845809937,-0.031562287360429764,0.642243504524231,-0.190597802400589,-0.03535951301455498,0.01858590729534626,-0.01182189118117094,-0.1487899273633957,-0.0394204705953598,-0.07439056783914566,-0.08012363314628601,-0.03333846852183342,-0.07367759197950363,0.015081857331097126,0.03010653890669346,-0.3124822974205017,0.2866269052028656,0.18544220924377441,0.09958275407552719,0.642243504524231,0.642243504524231,0.642243504524231,0.33066341280937195,0.10056902468204498,0.06381786614656448,0.2686217427253723,0.1092040166258812],\"xaxis\":\"x\",\"y\":[-0.3322238326072693,-0.2522547245025635,-0.2767963111400604,0.11814650893211365,0.012630005367100239,-0.24863706529140472,0.24552465975284576,0.18448008596897125,0.08430080860853195,-0.17414283752441406,-0.08275400102138519,-0.1555723398923874,-0.19316929578781128,0.09368745982646942,0.1511581540107727,0.02241920679807663,0.35992228984832764,-0.13675016164779663,0.12940707802772522,0.2249535769224167,0.14277426898479462,0.10308361053466797,0.15089531242847443,-0.136689692735672,-0.0397261343896389,0.004889908712357283,-0.059790726751089096,0.08991216868162155,0.06960887461900711,0.005308290012180805,-0.2870570719242096,0.1381775140762329,-0.010928848758339882,0.18845278024673462,-0.21838979423046112,-0.03243974596261978,0.27900657057762146,-0.20497259497642517,0.06520053744316101,0.03814157471060753,0.3723438084125519,-0.03412031754851341,-0.0824795737862587,-0.004584853071719408,0.06457619369029999,0.07300687581300735,0.031056517735123634,0.04196871444582939,0.1551731675863266,-0.18190594017505646,-0.18646596372127533,0.03264789283275604,-0.12908777594566345,0.10265640169382095,0.4080946445465088,0.010502297431230545,0.4741811454296112,0.23464229702949524,0.0490819551050663,0.03468410670757294,-0.1398717761039734,-0.17961381375789642,-0.05858893692493439,-0.06624439358711243,-0.05699998512864113,-0.028960052877664566,-0.14820364117622375,-0.08347959816455841,0.06504462659358978,0.15217140316963196,0.3847312331199646,0.4737897217273712,-0.0196660365909338,-0.2521950900554657,-0.04998799413442612,-0.014289787039160728,-0.1686200648546219,-0.026954015716910362,0.005308290012180805,0.3619508743286133,0.3322063982486725,-0.12920717895030975,0.06589201092720032,-0.10228374600410461,-0.09257523715496063,-0.16808466613292694,-0.11406389623880386,0.029941080138087273,-0.044244349002838135,-0.08633982390165329,-0.16935449838638306,0.3182758390903473,0.2276311218738556,-0.05904984474182129,-0.13436980545520782,-0.3133736550807953,-0.01191949937492609,0.09773579239845276,0.05582382157444954,-0.05638779327273369,0.23660242557525635,-0.13152474164962769,0.37734249234199524,0.22923651337623596,0.026034504175186157,-0.19220450520515442,-0.028156617656350136,0.12771785259246826,0.16479374468326569,0.09475917369127274,-0.24370762705802917,-0.17529644072055817,0.16821755468845367,-0.32418879866600037,0.07844863086938858,-0.3253011405467987,-0.007472105789929628,-0.03126813471317291,0.027091166004538536,0.07493448257446289,-0.22634850442409515,-0.08200410008430481,0.06577938795089722,-0.24537532031536102,0.2581499218940735,-0.18063220381736755,0.05524054914712906,-0.047261711210012436,-0.036349255591630936,-0.09245240688323975,0.2922012209892273,0.24998661875724792,-0.020502369850873947,-0.07506626844406128,-0.18866685032844543,-0.1936827450990677,0.10127056390047073,0.0459771454334259,0.33469656109809875,0.052560463547706604,-0.017811238765716553,0.19157111644744873,0.38257884979248047,-0.06461278349161148,-0.11236898601055145,-0.17987415194511414,0.31330493092536926,-0.24376261234283447,-0.10088371485471725,-0.3732722997665405,-0.13107581436634064,-0.21912628412246704,-0.11344712972640991,0.26850342750549316,-0.23681354522705078,-0.04716162383556366,-0.4052811563014984,-0.3171767592430115,-0.11222009360790253,-0.3051214814186096,-0.1563839316368103,-0.04592527821660042,-0.028503568843007088,0.17632721364498138,-0.051877159625291824,0.09375517815351486,0.10409644991159439,-0.19253091514110565,0.0017606132896617055,-0.15151932835578918,0.017883120104670525,0.28071579337120056,-0.12044703215360641,0.12127872556447983,0.13377445936203003,-0.008716818876564503,-0.16176486015319824,0.21580058336257935,0.054404117166996,-0.15139590203762054,-0.2400517612695694,0.029848789796233177,0.4004679024219513,0.3631978929042816,0.015470032580196857,0.06561854481697083,-0.09812873601913452,0.018322713673114777,0.10326109826564789,0.0023785370867699385,0.20563457906246185,0.023395398631691933,0.057768646627664566,-0.1180758848786354,-0.12531115114688873,0.1591707319021225,-0.030483093112707138,0.004979897756129503,-0.29763421416282654,0.2669043242931366,-0.1676366925239563,0.08074536919593811,-0.031586650758981705,0.26561596989631653,-0.07024063169956207,-0.12905582785606384,0.017160268500447273,-0.031246546655893326,0.05718269199132919,-0.2800068259239197,0.1029384434223175,-0.04706956446170807,-0.04020657390356064,0.3059103488922119,0.21397113800048828,0.19689840078353882,-0.36408117413520813,-0.023480895906686783,-0.13322021067142487,0.00853018369525671,-0.1038280576467514,0.12782332301139832,0.006276262924075127,-0.07130448520183563,-0.2653330862522125,0.2016916424036026,-0.10290456563234329,0.18598008155822754,-0.18136653304100037,0.4044899046421051,0.23071956634521484,0.3598116934299469,0.18930979073047638,0.040335338562726974,0.3474065661430359,-0.1271955966949463,0.024747492745518684,0.10726223886013031,0.09111115336418152,0.22993457317352295,0.10398328304290771,-0.19926753640174866,-0.048716336488723755,0.12435200065374374,0.0713471844792366,-0.015189943835139275,0.04918549954891205,0.10782786458730698,-0.015955347567796707,-0.08100041002035141,-0.03020995482802391,-0.09197583049535751,-0.2838136553764343,0.004156085196882486,-0.13517311215400696,0.06729920953512192,-0.14314314723014832,-0.3659970462322235,-0.018872065469622612,-0.1327839344739914,0.1421167254447937,-0.14839504659175873,0.039619483053684235,-0.0701707974076271,0.06383989751338959,0.0716058686375618,-0.08531160652637482,0.005308290012180805,-0.02607124112546444,0.41283318400382996,0.06462247669696808,0.07548969238996506,0.40427786111831665,-0.374716192483902,0.27892449498176575,0.18758559226989746,0.2146177738904953,0.11167147755622864,0.44523799419403076,0.0033051499631255865,-0.11428883671760559,-0.20672056078910828,0.01299414411187172,-0.09306123852729797,0.13903170824050903,-0.11899872869253159,-0.009730578400194645,-0.19408418238162994,-0.41760796308517456,-0.3392665982246399,-0.16366474330425262,0.3140714466571808,0.01468504685908556,0.011223060078918934,0.06009794399142265,0.07316093891859055,-0.03672904148697853,-0.2788703739643097,-0.22775505483150482,0.06870884448289871,-0.07826477289199829,-0.2135760337114334,-0.1666029691696167,0.11356395483016968,-0.11644959449768066,-0.04958826303482056,-0.09261929243803024,0.2004805952310562,0.00041428414988331497,0.033203162252902985,0.13586418330669403,-0.13373076915740967,-0.14206309616565704,0.2494170218706131,-0.052725356072187424,-0.1569524109363556,-0.06553105264902115,-0.1726376861333847,-0.03504902496933937,0.04824278503656387,0.26132649183273315,-0.4077177345752716,0.014641685411334038,-0.13799649477005005,-0.14187897741794586,0.07412315160036087,-0.15108756721019745,0.17670145630836487,0.13661052286624908,-0.054819505661726,0.028539078310132027,0.09715308994054794,0.12734760344028473,0.07707281410694122,0.19698761403560638,0.104989193379879,0.1586235612630844,0.19414514303207397,0.17214922606945038,-0.14936614036560059,0.3372683823108673,0.05657244846224785,0.14663508534431458,-0.26142221689224243,0.2541196942329407,0.1034889817237854,0.014319844543933868,7.078921044012532e-05,0.20157508552074432,0.13667719066143036,0.04819735512137413,0.048848602920770645,-0.22556433081626892,-0.050350528210401535,-0.1662898063659668,-0.044363271445035934,0.07854828238487244,-0.19565449655056,-0.07626738399267197,-0.23495367169380188,-0.05235319212079048,0.2249060720205307,0.04225345700979233,-0.010900728404521942,0.4911705255508423,-0.10096524655818939,-0.13534866273403168,-0.08288466185331345,-0.11182654649019241,-0.10589499026536942,-0.004210977349430323,0.038485828787088394,0.133051335811615,-0.24586288630962372,0.0757402628660202,0.32968640327453613,0.17040002346038818,-0.029216434806585312,-0.0003553466231096536,0.07378587871789932,-0.0012593831634148955,0.0005843109101988375,0.10874190181493759,0.23753394186496735,-0.10700057446956635,0.005308290012180805,0.2802305519580841,0.16253125667572021,-0.26059475541114807,0.17637474834918976,-0.07594053447246552,-0.19443711638450623,0.2526107430458069,0.28673216700553894,0.24591240286827087,0.35248756408691406,-0.2740609645843506,-0.021398695185780525,-0.25319981575012207,0.029580911621451378,0.005308290012180805,0.23316991329193115,-0.020391089841723442,0.05092809349298477,0.10119922459125519,0.02870183438062668,0.20411419868469238,-0.05140349268913269,-0.045748282223939896,0.06743820756673813,-0.19474393129348755,-0.21835939586162567,0.21385718882083893,-0.12085691094398499,-0.050042856484651566,0.12674155831336975,-0.022560304030776024,0.1405550241470337,-0.07318800687789917,0.16931474208831787,0.1168777123093605,-0.04240129142999649,-0.0857997015118599,0.08887220174074173,-0.05461597815155983,-0.03159208223223686,-0.2835870087146759,-0.34256261587142944,0.007603323552757502,-0.01693151146173477,0.1274949461221695,-0.01706521213054657,-0.0032471315935254097,-0.20248450338840485,0.18675433099269867,0.03201465681195259,0.030597146600484848,0.06738676130771637,-0.03375323489308357,0.11361473053693771,-0.06159041449427605,0.012702434323728085,0.091514453291893,0.21737787127494812,0.2539186477661133,0.19258110225200653,-0.08284789323806763,0.011746902950108051,0.05000194534659386,0.3000226616859436,-0.04796438664197922,0.35543766617774963,-0.27431824803352356,-0.1776202768087387,-0.17629888653755188,-0.10463453829288483,0.011701542884111404,0.20272403955459595,-0.11696267127990723,0.04890713095664978,0.1002657487988472,-0.13181525468826294,0.4783296585083008,0.11869213730096817,0.005308290012180805,-0.0505024790763855,0.2764093279838562,-0.0283611211925745,-0.044119883328676224,0.30390870571136475,0.025501325726509094,-0.28938743472099304,0.26644229888916016,0.01528791431337595,0.08052799850702286,0.37753763794898987,0.2665427029132843,-0.009283521212637424,-0.029436612501740456,0.01723468117415905,-0.21091271936893463,-0.1026754304766655,0.05671795457601547,0.0719277486205101,-0.029910322278738022,0.021360935643315315,-0.21792346239089966,0.19944535195827484,0.053444769233465195,0.015987085178494453,0.012464665807783604,0.20870643854141235,-0.1789594143629074,-0.18691907823085785,-0.13369348645210266,0.1295502632856369,0.11653532087802887,-0.13420461118221283,-0.19776801764965057,0.004754796624183655,-0.2155366986989975,0.12501497566699982,-0.019142262637615204,0.024830754846334457,0.06894290447235107,0.03430980443954468,-0.16304126381874084,-0.05089765042066574,-0.013869663700461388,0.0026502157561481,0.06194952502846718,0.1298948973417282,-0.215241938829422,-0.11255398392677307,-0.30897456407546997,-0.22995242476463318,-0.2571622133255005,-0.10387397557497025,-0.024683848023414612,-0.07388219237327576,0.16044259071350098,0.17183221876621246,-0.1895243525505066,-0.09668061137199402,-0.020290350541472435,0.31730419397354126,0.2717125415802002,-0.1732134222984314,-0.2482244074344635,-0.18319115042686462,0.005893407855182886,0.045611944049596786,0.100802481174469,0.5152219533920288,0.09995238482952118,0.15184365212917328,0.0505075566470623,0.07396586239337921,0.05215049907565117,0.0760667473077774,0.07827304303646088,0.10096755623817444,-0.03524952381849289,-0.15175381302833557,0.11773137748241425,-0.024489128962159157,0.1699039340019226,-0.084336057305336,-0.11148487031459808,0.01615624874830246,-0.06954469531774521,-0.04541998356580734,-0.03987691551446915,0.10050690919160843,0.02588331513106823,-0.11908891052007675,-0.03119784966111183,0.012031578458845615,0.029359592124819756,-0.3549906313419342,-0.006258878391236067,-0.20674942433834076,-0.12292277067899704,-0.11747787147760391,0.012711205519735813,0.27237120270729065,0.005911772605031729,-0.13952888548374176,-0.20955011248588562,0.142435684800148,-0.06541837006807327,0.23682868480682373,0.463098406791687,-0.0322657972574234,-0.210071861743927,0.32053542137145996,0.12117884308099747,-0.2025718092918396,0.024023253470659256,-0.12581996619701385,0.0531894788146019,0.01213880442082882,0.21061092615127563,0.09300271421670914,-0.13594575226306915,-0.1587865799665451,0.008634455502033234,-0.33937788009643555,-0.22797891497612,-0.17996220290660858,0.0028780505526810884,-0.2536790370941162,-0.07736793905496597,0.06672467291355133,0.006499393377453089,-0.24095499515533447,-0.22239059209823608,0.08679981529712677,-0.10639316588640213,0.19535401463508606,0.22241564095020294,-0.08597313612699509,-0.2934289276599884,-0.11451519280672073,-0.1600153148174286,-0.13566087186336517,-0.3417954742908478,0.3265727460384369,-0.18701012432575226,-0.22086723148822784,0.17994853854179382,0.03625364974141121,0.30198049545288086,-0.04255932942032814,-0.11733285337686539,-0.06039254367351532,0.048451051115989685,0.34616658091545105,0.42528098821640015,0.03749970346689224,-0.14154571294784546,-0.13271397352218628,0.3059522807598114,0.3425281047821045,0.3058016002178192,0.11913066357374191,0.05889710411429405,0.20259341597557068,0.2321169227361679,0.027518702670931816,-0.2675986886024475,-0.018943173810839653,-0.08872697502374649,0.1720517873764038,0.3365362882614136,-0.11568471044301987,0.09522531181573868,0.41524091362953186,0.11625122278928757,-0.09463238716125488,0.22114667296409607,-0.007306092884391546,0.19126766920089722,0.30218324065208435,-0.21866802871227264,-0.020623307675123215,0.13022381067276,-0.04551786929368973,-0.2516632080078125,-0.03587635979056358,-0.193869948387146,0.04212556034326553,-0.16275174915790558,-0.14507471024990082,-0.35823285579681396,-0.33488214015960693,0.012550001963973045,-0.13072241842746735,-0.14501196146011353,-0.13063226640224457,-0.08296514302492142,-0.2206587791442871,-0.04916199669241905,0.018347809091210365,0.012706172652542591,-0.08542907238006592,-0.09119608998298645,-0.2513202130794525,-0.07039175927639008,0.03916459158062935,-0.13525860011577606,0.02802952751517296,0.14553667604923248,-0.07420377433300018,0.11629505455493927,-0.3284358084201813,-0.32972535490989685,0.019956612959504128,-0.28099343180656433,-0.052810121327638626,-0.026256980374455452,0.23302283883094788,-0.20156238973140717,0.07435797899961472,-0.0934954285621643,-0.2623090445995331,0.05264291539788246,0.1789151281118393,-0.290426105260849,0.3615112006664276,0.06187838315963745,-0.036435652524232864,-0.30349498987197876,-0.11045719683170319,0.0032077135983854532,-0.060421139001846313,-0.25770103931427,0.005308290012180805,-0.17412538826465607,0.09955765306949615,-0.35457590222358704,0.2739763557910919,-0.03137548267841339,0.08253877609968185,0.2988285720348358,-0.0001952036691363901,-0.23747190833091736,-0.23154956102371216,0.08897361904382706,-0.16778749227523804,-0.11062799394130707,0.12787173688411713,0.08238837867975235,-0.10022304207086563,-0.1940716803073883,0.11751565337181091,0.43151673674583435,0.14690251648426056,0.35155370831489563,-0.1364402323961258,-0.0726534053683281,-0.05536495894193649,0.15604178607463837,0.18213093280792236,-0.015357292257249355,0.01668977178633213,0.06282568722963333,-0.19214409589767456,0.005308290012180805,0.005308290012180805,-0.10144482553005219,-0.16332054138183594,0.005308290012180805,-0.23057235777378082,-0.09162315726280212,-0.27828776836395264,-0.11442311108112335,0.030924109742045403,0.005308290012180805,0.05039321631193161,0.003224297659471631,0.005308290012180805,-0.038652438670396805,0.26561349630355835,-0.21682173013687134,-0.22583447396755219,-0.12969158589839935,-0.1071438118815422,-0.08552046120166779,-0.0970437303185463,-0.11366520076990128,-0.07660292834043503,0.10121095925569534,-0.23499266803264618,0.09987524151802063,-0.26053765416145325,-0.23228026926517487,-0.26521748304367065,0.005308290012180805,0.005308290012180805,0.005308290012180805,-0.2738819122314453,0.0375232957303524,-0.12464740872383118,0.004009067080914974,-0.10314047336578369],\"yaxis\":\"y\",\"type\":\"scatter\"},{\"customdata\":[[\"OpenKiwi: An Open Source Framework for Quality Estimation\"],[\"Zero-shot Word Sense Disambiguation using Sense Definition Embeddings\"],[\"Transferable Multi-Domain State Generator for Task-Oriented Dialogue Systems\"],[\"A Simple Theoretical Model of Importance for Summarization\"],[\"We need to talk about standard splits\"]],\"hovertemplate\":\"award=award<br>x1=%{x}<br>x2=%{y}<br>hover_data_0=%{customdata[0]}<extra></extra>\",\"legendgroup\":\"award\",\"marker\":{\"color\":\"#EF553B\",\"symbol\":\"circle\"},\"mode\":\"markers\",\"name\":\"award\",\"orientation\":\"v\",\"showlegend\":true,\"x\":[-0.1570238322019577,-0.07440704107284546,-0.04310403764247894,0.11756822466850281,0.1242794543504715],\"xaxis\":\"x\",\"y\":[-0.10872429609298706,-0.12316378206014633,0.3014659881591797,0.0836934819817543,-0.0652313306927681],\"yaxis\":\"y\",\"type\":\"scatter\"}],                        {\"template\":{\"data\":{\"histogram2dcontour\":[{\"type\":\"histogram2dcontour\",\"colorbar\":{\"outlinewidth\":0,\"ticks\":\"\"},\"colorscale\":[[0.0,\"#0d0887\"],[0.1111111111111111,\"#46039f\"],[0.2222222222222222,\"#7201a8\"],[0.3333333333333333,\"#9c179e\"],[0.4444444444444444,\"#bd3786\"],[0.5555555555555556,\"#d8576b\"],[0.6666666666666666,\"#ed7953\"],[0.7777777777777778,\"#fb9f3a\"],[0.8888888888888888,\"#fdca26\"],[1.0,\"#f0f921\"]]}],\"choropleth\":[{\"type\":\"choropleth\",\"colorbar\":{\"outlinewidth\":0,\"ticks\":\"\"}}],\"histogram2d\":[{\"type\":\"histogram2d\",\"colorbar\":{\"outlinewidth\":0,\"ticks\":\"\"},\"colorscale\":[[0.0,\"#0d0887\"],[0.1111111111111111,\"#46039f\"],[0.2222222222222222,\"#7201a8\"],[0.3333333333333333,\"#9c179e\"],[0.4444444444444444,\"#bd3786\"],[0.5555555555555556,\"#d8576b\"],[0.6666666666666666,\"#ed7953\"],[0.7777777777777778,\"#fb9f3a\"],[0.8888888888888888,\"#fdca26\"],[1.0,\"#f0f921\"]]}],\"heatmap\":[{\"type\":\"heatmap\",\"colorbar\":{\"outlinewidth\":0,\"ticks\":\"\"},\"colorscale\":[[0.0,\"#0d0887\"],[0.1111111111111111,\"#46039f\"],[0.2222222222222222,\"#7201a8\"],[0.3333333333333333,\"#9c179e\"],[0.4444444444444444,\"#bd3786\"],[0.5555555555555556,\"#d8576b\"],[0.6666666666666666,\"#ed7953\"],[0.7777777777777778,\"#fb9f3a\"],[0.8888888888888888,\"#fdca26\"],[1.0,\"#f0f921\"]]}],\"heatmapgl\":[{\"type\":\"heatmapgl\",\"colorbar\":{\"outlinewidth\":0,\"ticks\":\"\"},\"colorscale\":[[0.0,\"#0d0887\"],[0.1111111111111111,\"#46039f\"],[0.2222222222222222,\"#7201a8\"],[0.3333333333333333,\"#9c179e\"],[0.4444444444444444,\"#bd3786\"],[0.5555555555555556,\"#d8576b\"],[0.6666666666666666,\"#ed7953\"],[0.7777777777777778,\"#fb9f3a\"],[0.8888888888888888,\"#fdca26\"],[1.0,\"#f0f921\"]]}],\"contourcarpet\":[{\"type\":\"contourcarpet\",\"colorbar\":{\"outlinewidth\":0,\"ticks\":\"\"}}],\"contour\":[{\"type\":\"contour\",\"colorbar\":{\"outlinewidth\":0,\"ticks\":\"\"},\"colorscale\":[[0.0,\"#0d0887\"],[0.1111111111111111,\"#46039f\"],[0.2222222222222222,\"#7201a8\"],[0.3333333333333333,\"#9c179e\"],[0.4444444444444444,\"#bd3786\"],[0.5555555555555556,\"#d8576b\"],[0.6666666666666666,\"#ed7953\"],[0.7777777777777778,\"#fb9f3a\"],[0.8888888888888888,\"#fdca26\"],[1.0,\"#f0f921\"]]}],\"surface\":[{\"type\":\"surface\",\"colorbar\":{\"outlinewidth\":0,\"ticks\":\"\"},\"colorscale\":[[0.0,\"#0d0887\"],[0.1111111111111111,\"#46039f\"],[0.2222222222222222,\"#7201a8\"],[0.3333333333333333,\"#9c179e\"],[0.4444444444444444,\"#bd3786\"],[0.5555555555555556,\"#d8576b\"],[0.6666666666666666,\"#ed7953\"],[0.7777777777777778,\"#fb9f3a\"],[0.8888888888888888,\"#fdca26\"],[1.0,\"#f0f921\"]]}],\"mesh3d\":[{\"type\":\"mesh3d\",\"colorbar\":{\"outlinewidth\":0,\"ticks\":\"\"}}],\"scatter\":[{\"fillpattern\":{\"fillmode\":\"overlay\",\"size\":10,\"solidity\":0.2},\"type\":\"scatter\"}],\"parcoords\":[{\"type\":\"parcoords\",\"line\":{\"colorbar\":{\"outlinewidth\":0,\"ticks\":\"\"}}}],\"scatterpolargl\":[{\"type\":\"scatterpolargl\",\"marker\":{\"colorbar\":{\"outlinewidth\":0,\"ticks\":\"\"}}}],\"bar\":[{\"error_x\":{\"color\":\"#2a3f5f\"},\"error_y\":{\"color\":\"#2a3f5f\"},\"marker\":{\"line\":{\"color\":\"#E5ECF6\",\"width\":0.5},\"pattern\":{\"fillmode\":\"overlay\",\"size\":10,\"solidity\":0.2}},\"type\":\"bar\"}],\"scattergeo\":[{\"type\":\"scattergeo\",\"marker\":{\"colorbar\":{\"outlinewidth\":0,\"ticks\":\"\"}}}],\"scatterpolar\":[{\"type\":\"scatterpolar\",\"marker\":{\"colorbar\":{\"outlinewidth\":0,\"ticks\":\"\"}}}],\"histogram\":[{\"marker\":{\"pattern\":{\"fillmode\":\"overlay\",\"size\":10,\"solidity\":0.2}},\"type\":\"histogram\"}],\"scattergl\":[{\"type\":\"scattergl\",\"marker\":{\"colorbar\":{\"outlinewidth\":0,\"ticks\":\"\"}}}],\"scatter3d\":[{\"type\":\"scatter3d\",\"line\":{\"colorbar\":{\"outlinewidth\":0,\"ticks\":\"\"}},\"marker\":{\"colorbar\":{\"outlinewidth\":0,\"ticks\":\"\"}}}],\"scattermapbox\":[{\"type\":\"scattermapbox\",\"marker\":{\"colorbar\":{\"outlinewidth\":0,\"ticks\":\"\"}}}],\"scatterternary\":[{\"type\":\"scatterternary\",\"marker\":{\"colorbar\":{\"outlinewidth\":0,\"ticks\":\"\"}}}],\"scattercarpet\":[{\"type\":\"scattercarpet\",\"marker\":{\"colorbar\":{\"outlinewidth\":0,\"ticks\":\"\"}}}],\"carpet\":[{\"aaxis\":{\"endlinecolor\":\"#2a3f5f\",\"gridcolor\":\"white\",\"linecolor\":\"white\",\"minorgridcolor\":\"white\",\"startlinecolor\":\"#2a3f5f\"},\"baxis\":{\"endlinecolor\":\"#2a3f5f\",\"gridcolor\":\"white\",\"linecolor\":\"white\",\"minorgridcolor\":\"white\",\"startlinecolor\":\"#2a3f5f\"},\"type\":\"carpet\"}],\"table\":[{\"cells\":{\"fill\":{\"color\":\"#EBF0F8\"},\"line\":{\"color\":\"white\"}},\"header\":{\"fill\":{\"color\":\"#C8D4E3\"},\"line\":{\"color\":\"white\"}},\"type\":\"table\"}],\"barpolar\":[{\"marker\":{\"line\":{\"color\":\"#E5ECF6\",\"width\":0.5},\"pattern\":{\"fillmode\":\"overlay\",\"size\":10,\"solidity\":0.2}},\"type\":\"barpolar\"}],\"pie\":[{\"automargin\":true,\"type\":\"pie\"}]},\"layout\":{\"autotypenumbers\":\"strict\",\"colorway\":[\"#636efa\",\"#EF553B\",\"#00cc96\",\"#ab63fa\",\"#FFA15A\",\"#19d3f3\",\"#FF6692\",\"#B6E880\",\"#FF97FF\",\"#FECB52\"],\"font\":{\"color\":\"#2a3f5f\"},\"hovermode\":\"closest\",\"hoverlabel\":{\"align\":\"left\"},\"paper_bgcolor\":\"white\",\"plot_bgcolor\":\"#E5ECF6\",\"polar\":{\"bgcolor\":\"#E5ECF6\",\"angularaxis\":{\"gridcolor\":\"white\",\"linecolor\":\"white\",\"ticks\":\"\"},\"radialaxis\":{\"gridcolor\":\"white\",\"linecolor\":\"white\",\"ticks\":\"\"}},\"ternary\":{\"bgcolor\":\"#E5ECF6\",\"aaxis\":{\"gridcolor\":\"white\",\"linecolor\":\"white\",\"ticks\":\"\"},\"baxis\":{\"gridcolor\":\"white\",\"linecolor\":\"white\",\"ticks\":\"\"},\"caxis\":{\"gridcolor\":\"white\",\"linecolor\":\"white\",\"ticks\":\"\"}},\"coloraxis\":{\"colorbar\":{\"outlinewidth\":0,\"ticks\":\"\"}},\"colorscale\":{\"sequential\":[[0.0,\"#0d0887\"],[0.1111111111111111,\"#46039f\"],[0.2222222222222222,\"#7201a8\"],[0.3333333333333333,\"#9c179e\"],[0.4444444444444444,\"#bd3786\"],[0.5555555555555556,\"#d8576b\"],[0.6666666666666666,\"#ed7953\"],[0.7777777777777778,\"#fb9f3a\"],[0.8888888888888888,\"#fdca26\"],[1.0,\"#f0f921\"]],\"sequentialminus\":[[0.0,\"#0d0887\"],[0.1111111111111111,\"#46039f\"],[0.2222222222222222,\"#7201a8\"],[0.3333333333333333,\"#9c179e\"],[0.4444444444444444,\"#bd3786\"],[0.5555555555555556,\"#d8576b\"],[0.6666666666666666,\"#ed7953\"],[0.7777777777777778,\"#fb9f3a\"],[0.8888888888888888,\"#fdca26\"],[1.0,\"#f0f921\"]],\"diverging\":[[0,\"#8e0152\"],[0.1,\"#c51b7d\"],[0.2,\"#de77ae\"],[0.3,\"#f1b6da\"],[0.4,\"#fde0ef\"],[0.5,\"#f7f7f7\"],[0.6,\"#e6f5d0\"],[0.7,\"#b8e186\"],[0.8,\"#7fbc41\"],[0.9,\"#4d9221\"],[1,\"#276419\"]]},\"xaxis\":{\"gridcolor\":\"white\",\"linecolor\":\"white\",\"ticks\":\"\",\"title\":{\"standoff\":15},\"zerolinecolor\":\"white\",\"automargin\":true,\"zerolinewidth\":2},\"yaxis\":{\"gridcolor\":\"white\",\"linecolor\":\"white\",\"ticks\":\"\",\"title\":{\"standoff\":15},\"zerolinecolor\":\"white\",\"automargin\":true,\"zerolinewidth\":2},\"scene\":{\"xaxis\":{\"backgroundcolor\":\"#E5ECF6\",\"gridcolor\":\"white\",\"linecolor\":\"white\",\"showbackground\":true,\"ticks\":\"\",\"zerolinecolor\":\"white\",\"gridwidth\":2},\"yaxis\":{\"backgroundcolor\":\"#E5ECF6\",\"gridcolor\":\"white\",\"linecolor\":\"white\",\"showbackground\":true,\"ticks\":\"\",\"zerolinecolor\":\"white\",\"gridwidth\":2},\"zaxis\":{\"backgroundcolor\":\"#E5ECF6\",\"gridcolor\":\"white\",\"linecolor\":\"white\",\"showbackground\":true,\"ticks\":\"\",\"zerolinecolor\":\"white\",\"gridwidth\":2}},\"shapedefaults\":{\"line\":{\"color\":\"#2a3f5f\"}},\"annotationdefaults\":{\"arrowcolor\":\"#2a3f5f\",\"arrowhead\":0,\"arrowwidth\":1},\"geo\":{\"bgcolor\":\"white\",\"landcolor\":\"#E5ECF6\",\"subunitcolor\":\"white\",\"showland\":true,\"showlakes\":true,\"lakecolor\":\"white\"},\"title\":{\"x\":0.05},\"mapbox\":{\"style\":\"light\"}}},\"xaxis\":{\"anchor\":\"y\",\"domain\":[0.0,1.0],\"title\":{\"text\":\"x1\"}},\"yaxis\":{\"anchor\":\"x\",\"domain\":[0.0,1.0],\"title\":{\"text\":\"x2\"}},\"legend\":{\"title\":{\"text\":\"award\"},\"tracegroupgap\":0},\"margin\":{\"t\":60}},                        {\"responsive\": true}                    ).then(function(){\n",
       "                            \n",
       "var gd = document.getElementById('252246c7-dce9-44fa-841e-066e1778a415');\n",
       "var x = new MutationObserver(function (mutations, observer) {{\n",
       "        var display = window.getComputedStyle(gd).display;\n",
       "        if (!display || display === 'none') {{\n",
       "            console.log([gd, 'removed!']);\n",
       "            Plotly.purge(gd);\n",
       "            observer.disconnect();\n",
       "        }}\n",
       "}});\n",
       "\n",
       "// Listen for the removal of the full notebook cells\n",
       "var notebookContainer = gd.closest('#notebook-container');\n",
       "if (notebookContainer) {{\n",
       "    x.observe(notebookContainer, {childList: true});\n",
       "}}\n",
       "\n",
       "// Listen for the clearing of the current output cell\n",
       "var outputEl = gd.closest('.output');\n",
       "if (outputEl) {{\n",
       "    x.observe(outputEl, {childList: true});\n",
       "}}\n",
       "\n",
       "                        })                };                });            </script>        </div>"
      ]
     },
     "metadata": {},
     "output_type": "display_data"
    }
   ],
   "source": [
    "import plotly.express as px\n",
    "fig = px.scatter(pcx_2019, x=\"x1\", y=\"x2\", color=\"award\", hover_data=[pcx_2019['title'].values])\n",
    "fig.show()\n",
    "fig.update_layout(title=f\"Best Paper in 2019\")\n",
    "fig.write_html(f\"BestPaper_2019(SBERT).html\")"
   ]
  },
  {
   "cell_type": "markdown",
   "metadata": {},
   "source": [
    "# 乾研究室の論文を可視化"
   ]
  },
  {
   "cell_type": "code",
   "execution_count": 118,
   "metadata": {},
   "outputs": [],
   "source": [
    "award_inui_lab = ['An Empirical Study of Span Representations in Argumentation Structure Parsing']"
   ]
  },
  {
   "cell_type": "code",
   "execution_count": 119,
   "metadata": {},
   "outputs": [
    {
     "data": {
      "text/html": [
       "<div>\n",
       "<style scoped>\n",
       "    .dataframe tbody tr th:only-of-type {\n",
       "        vertical-align: middle;\n",
       "    }\n",
       "\n",
       "    .dataframe tbody tr th {\n",
       "        vertical-align: top;\n",
       "    }\n",
       "\n",
       "    .dataframe thead th {\n",
       "        text-align: right;\n",
       "    }\n",
       "</style>\n",
       "<table border=\"1\" class=\"dataframe\">\n",
       "  <thead>\n",
       "    <tr style=\"text-align: right;\">\n",
       "      <th></th>\n",
       "      <th>title</th>\n",
       "      <th>award</th>\n",
       "      <th>lab_or_not</th>\n",
       "      <th>x1</th>\n",
       "      <th>x2</th>\n",
       "    </tr>\n",
       "  </thead>\n",
       "  <tbody>\n",
       "    <tr>\n",
       "      <th>55</th>\n",
       "      <td>An Empirical Study of Span Representations in ...</td>\n",
       "      <td>normal</td>\n",
       "      <td>inuilab</td>\n",
       "      <td>0.069995</td>\n",
       "      <td>0.010502</td>\n",
       "    </tr>\n",
       "  </tbody>\n",
       "</table>\n",
       "</div>"
      ],
      "text/plain": [
       "                                                title   award lab_or_not  \\\n",
       "55  An Empirical Study of Span Representations in ...  normal    inuilab   \n",
       "\n",
       "          x1        x2  \n",
       "55  0.069995  0.010502  "
      ]
     },
     "execution_count": 119,
     "metadata": {},
     "output_type": "execute_result"
    }
   ],
   "source": [
    "for index, row in pcx_2019.iterrows():\n",
    "    if (row['title'] in award_inui_lab):\n",
    "        pcx_2019.iat[index, 2] = 'inuilab'\n",
    "\n",
    "pcx_2019[pcx_2019['lab_or_not'] == 'inuilab']"
   ]
  },
  {
   "cell_type": "code",
   "execution_count": 120,
   "metadata": {},
   "outputs": [
    {
     "data": {
      "application/vnd.plotly.v1+json": {
       "config": {
        "plotlyServerURL": "https://plot.ly"
       },
       "data": [
        {
         "customdata": [
          [
           "Counterfactual Data Augmentation for Mitigating Gender Stereotypes in Languages with Rich Morphology"
          ],
          [
           "Unsupervised Discovery of Gendered Language through Latent-Variable Modeling"
          ],
          [
           "Margin-based Parallel Corpus Mining with Multilingual Sentence Embeddings"
          ],
          [
           "Searching for Effective Neural Extractive Summarization: What Works and What's Next"
          ],
          [
           "Style Transformer: Unpaired Text Style Transfer without Disentangled Latent Representation"
          ],
          [
           "Distantly Supervised Named Entity Recognition using Positive-Unlabeled Learning"
          ],
          [
           "Generating Responses with a Specific Emotion in Dialog"
          ],
          [
           "Bridging by Word: Image-Grounded Vocabulary Construction for Visual Captioning"
          ],
          [
           "Adversarial Domain Adaptation Using Artificial Titles for Abstractive Title Generation"
          ],
          [
           "Twitter Homophily: Network Based Prediction of User's Occupation"
          ],
          [
           "Incorporating Textual Information on User Behavior for Personality Prediction"
          ],
          [
           "Large-Scale Multi-Label Text Classification on EU Legislation"
          ],
          [
           "Neural Legal Judgment Prediction in English"
          ],
          [
           "Discourse Analysis and Its Applications"
          ],
          [
           "Self-Supervised Learning for Contextualized Extractive Summarization"
          ],
          [
           "Graph-based Dependency Parsing with Graph Neural Networks"
          ],
          [
           "Self-Supervised Dialogue Learning"
          ],
          [
           "Joint Type Inference on Entities and Relations via Graph Convolutional Networks"
          ],
          [
           "Towards Generating Long and Coherent Text with Multi-Level Latent Variable Models"
          ],
          [
           "Learning to Select, Track, and Generate for Data-to-Text"
          ],
          [
           "Multi-hop Reading Comprehension across Multiple Documents by Reasoning over Heterogeneous Graphs"
          ],
          [
           "Visual Story Post-Editing"
          ],
          [
           "HIGHRES: Highlight-based Reference-less Evaluation of Summarization"
          ],
          [
           "Merge and Label: A novel neural network architecture for nested NER"
          ],
          [
           "Model-Agnostic Meta-Learning for Relation Classification with Limited Supervision"
          ],
          [
           "ARNOR: Attention Regularization based Noise Reduction for Distant Supervision Relation Classification"
          ],
          [
           "Representing Schema Structure with Graph Neural Networks for Text-to-SQL Parsing"
          ],
          [
           "MULTIQA: An Empirical Investigation of Generalization and Transfer in Reading Comprehension"
          ],
          [
           "Topic Tensor Network for Implicit Discourse Relation Recognition in Chinese"
          ],
          [
           ""
          ],
          [
           "Gender-preserving Debiasing for Pre-trained Word Embeddings"
          ],
          [
           "Aspect Sentiment Classification Towards Question-Answering with Reinforced Bidirectional Attention Network"
          ],
          [
           "Adversarial Attention Modeling for Multi-dimensional Emotion Regression"
          ],
          [
           "On-device Structured and Context Partitioned Projection Networks"
          ],
          [
           "Multi-Source Cross-Lingual Model Transfer: Learning What to Share"
          ],
          [
           "Scalable Syntax-Aware Language Models Using Knowledge Distillation"
          ],
          [
           "Dense Procedure Captioning in Narrated Instructional Videos"
          ],
          [
           "The Risk of Racial Bias in Hate Speech Detection"
          ],
          [
           "HellaSwag: Can a Machine Really Finish Your Sentence?"
          ],
          [
           "COMET : Commonsense Transformers for Automatic Knowledge Graph Construction"
          ],
          [
           "Conversing by Reading: Contentful Neural Conversation with On-demand Machine Reading"
          ],
          [
           ""
          ],
          [
           "Learning Compressed Sentence Representations for On-Device Text Processing"
          ],
          [
           "Sentence Mover's Similarity: Automatic Evaluation for Multi-Sentence Texts"
          ],
          [
           "SParC: Cross-Domain Semantic Parsing in Context"
          ],
          [
           "Level-Up: Learning to Improve Proficiency Level of Essays"
          ],
          [
           "Word-order biases in deep-agent emergent communication"
          ],
          [
           "CNNs found to jump around more skillfully than RNNs: Compositional generalization in seq2seq convolutional networks"
          ],
          [
           "Miss Tools and Mr Fruit: Emergent communication in agents learning about object affordances"
          ],
          [
           "On the Distribution of Deep Clausal Embeddings: A Large Cross-linguistic Study"
          ],
          [
           "Learning to Link Grammar and Encyclopedic Information to Assist ESL Learners"
          ],
          [
           "STACL: Simultaneous Translation with Implicit Anticipation and Controllable Latency using Prefix-to-Prefix Framework *"
          ],
          [
           "Effective Adversarial Regularization for Neural Machine Translation"
          ],
          [
           "Enhancing Pre-Trained Language Representations with Rich Knowledge for Machine Reading Comprehension"
          ],
          [
           "Proactive Human-Machine Conversation with Explicit Conversation Goals"
          ],
          [
           "Know More about Each Other: Evolving Dialogue Strategy via Compound Assessment"
          ],
          [
           "Open-Domain Why-Question Answering with Adversarial Learning to Encode Answer Texts"
          ],
          [
           "An Interactive Multi-Task Learning Network for End-to-End Aspect-Based Sentiment Analysis"
          ],
          [
           "Attention Guided Graph Convolutional Networks for Relation Extraction"
          ],
          [
           "Quantity Tagger: A Latent-Variable Sequence Labeling Approach to Solving Addition-Subtraction Word Problems"
          ],
          [
           "A Neural Multi-digraph Model for Chinese NER with Gazetteers"
          ],
          [
           "Inter-sentence Relation Extraction with Document-level Graph Convolutional Neural Network"
          ],
          [
           "DOER: Dual Cross-Shared RNN for Aspect Term-Polarity Co-Extraction"
          ],
          [
           "Learning to Discover, Ground and Use Words with Segmental Neural Language Models"
          ],
          [
           "Topic Modeling with Wasserstein Autoencoders"
          ],
          [
           "Simple and Effective Paraphrastic Similarity from Parallel Translations"
          ],
          [
           "Beyond BLEU: Training Neural Machine Translation with Semantic Similarity"
          ],
          [
           "Visually Grounded Neural Syntax Acquisition"
          ],
          [
           "Controllable Paraphrase Generation with a Syntactic Exemplar"
          ],
          [
           "Incremental Learning from Scratch for Task-Oriented Dialogue Systems"
          ],
          [
           "Multi-step Reasoning via Recurrent Dual Attention for Visual Dialog"
          ],
          [
           "Learning Deep Transformer Models for Machine Translation"
          ],
          [
           "Shared-Private Bilingual Word Embeddings for Neural Machine Translation"
          ],
          [
           "Energy and Policy Considerations for Deep Learning in NLP"
          ],
          [
           "A2N: Attending to Neighbors for Knowledge Graph Inference"
          ],
          [
           "Optimal Transport-based Alignment of Learned Character Representations for String Similarity"
          ],
          [
           "Hierarchical Transfer Learning for Multi-label Text Classification"
          ],
          [
           ""
          ],
          [
           "Learning from Dialogue after Deployment: Feed Yourself, Chatbot!"
          ],
          [
           "ConvLab: Multi-Domain End-to-End Dialog System Platform"
          ],
          [
           "From brain space to distributional space: the perilous journeys of fMRI decoding"
          ],
          [
           "Semantic Parsing with Dual Learning"
          ],
          [
           "Context-aware Embedding for Targeted Aspect-based Sentiment Analysis"
          ],
          [
           "Ensuring Readability and Data-fidelity using Head-modifier Templates in Deep Type Description Generation"
          ],
          [
           "Chinese Relation Extraction with Multi-Grained Information and External Linguistic Knowledge"
          ],
          [
           "DocRED: A Large-Scale Document-Level Relation Extraction Dataset"
          ],
          [
           "GEAR: Graph-based Evidence Aggregating and Reasoning for Fact Verification"
          ],
          [
           "ERNIE: Enhanced Language Representation with Informative Entities"
          ],
          [
           "DIAG-NRE: A Neural Pattern Diagnosis Framework for Distantly Supervised Neural Relation Extraction"
          ],
          [
           "Quantifying Similarity between Relations with Fact Distribution"
          ],
          [
           "Multi-Style Generative Reading Comprehension"
          ],
          [
           "Answering while Summarizing: Multi-task Learning for Multi-hop QA with Evidence Extraction"
          ],
          [
           "Detecting Adverse Drug Reactions from Biomedical Texts With Neural Networks"
          ],
          [
           "Deep Neural Models for Medical Concept Normalization in User-Generated Texts"
          ],
          [
           "Cross-domain and Cross-lingual Abusive Language Detection: a Hybrid Approach with Deep Learning and a Multilingual Lexicon"
          ],
          [
           "Yes, we can! Mining Arguments in 50 Years of US Presidential Campaign Debates"
          ],
          [
           "A Modular Tool for Automatic Summarization"
          ],
          [
           "Attention Is (not) All You Need for Commonsense Reasoning"
          ],
          [
           "TARGER: Neural Argument Mining at Your Fingertips"
          ],
          [
           "Multimodal Abstractive Summarization for How2 Videos"
          ],
          [
           "Task Refinement Learning for Improved Accuracy and Stability of Unsupervised Domain Adaptation"
          ],
          [
           "Improving Neural Conversational Models with Entropy-Based Data Filtering"
          ],
          [
           "Robust Zero-Shot Cross-Domain Slot Filling with Example Values"
          ],
          [
           "Learning How to Active Learn by Dreaming"
          ],
          [
           "Neural Architectures for Nested NER through Linearization"
          ],
          [
           "Message from the General Chair"
          ],
          [
           "Inducing Document Structure for Aspect-based Summarization"
          ],
          [
           "Are You Convinced? Choosing the More Convincing Evidence with a Siamese Network"
          ],
          [
           "Identification of Tasks, Datasets, Evaluation Metrics, and Numeric Scores for Scientific Leaderboards Construction"
          ],
          [
           "Neural Temporality Adaptation for Document Classification: Diachronic Word Embeddings and Domain Adaptation Models"
          ],
          [
           "Wétin dey with these comments? Modeling Sociolinguistic Factors Affecting Code-switching Behavior in Nigerian Online Discussions"
          ],
          [
           "Question Answering in the Biomedical Domain"
          ],
          [
           "Unsupervised Joint Training of Bilingual Word Embeddings"
          ],
          [
           "My Turn To Read: An Interleaved E-book Reading Tool for Developing and Struggling Readers"
          ],
          [
           "Unsupervised Bilingual Word Embedding Agreement for Unsupervised Neural Machine Translation"
          ],
          [
           "Sentence-Level Agreement for Neural Machine Translation"
          ],
          [
           "Neural Machine Translation with Reordering Embeddings"
          ],
          [
           "Lattice-Based Transformer Encoder for Neural Machine Translation"
          ],
          [
           "Multimodal Logical Inference System for Visual-Textual Entailment"
          ],
          [
           "Sequence Tagging with Contextual and Non-Contextual Subword Representations: A Multilingual Evaluation"
          ],
          [
           "Unsupervised Learning of Discourse-Aware Text Representation for Essay Scoring"
          ],
          [
           "Lattice Transformer for Speech Translation"
          ],
          [
           "Cross-Lingual Syntactic Transfer through Unsupervised Adaptation of Invertible Projections"
          ],
          [
           "Multi-grained Attention with Object-level Grounding for Visual Question Answering"
          ],
          [
           "Choosing Transfer Languages for Cross-Lingual Learning"
          ],
          [
           "An Empirical Investigation of Structured Output Modeling for Graph-based Neural Dependency Parsing"
          ],
          [
           "Domain Adaptive Inference for Neural Machine Translation"
          ],
          [
           "Knowledge discovery and hypothesis generation from online patient forums: A research proposal"
          ],
          [
           "Exploring Author Context for Detecting Intended vs Perceived Sarcasm"
          ],
          [
           "OpenDialKG: Explainable Conversational Reasoning with Attention-based Walks over Knowledge Graphs"
          ],
          [
           "Constrained Decoding for Neural NLG from Compositional Representations in Task-Oriented Dialogue"
          ],
          [
           "Predicting Human Activities from User-Generated Content"
          ],
          [
           "Embedding Strategies for Specialized Domains: Application to Clinical Entity Recognition"
          ],
          [
           "Annotation and Automatic Classification of Aspectual Categories"
          ],
          [
           "Evidence-based Trustworthiness"
          ],
          [
           "A Hierarchical Reinforced Sequence Operation Method for Unsupervised Text Style Transfer"
          ],
          [
           "Rhetorically Controlled Encoder-Decoder for Modern Chinese Poetry Generation"
          ],
          [
           "Observing Dialogue in Therapy: Categorizing and Forecasting Behavioral Codes"
          ],
          [
           "Global Optimization under Length Constraint for Neural Text Summarization"
          ],
          [
           "Dataset Creation for Ranking Constructive News Comments"
          ],
          [
           "Augmenting Neural Networks with First-order Logic"
          ],
          [
           "ADVISER: A Dialog System Framework for Education & Research"
          ],
          [
           "Classification and Clustering of Arguments with Contextualized Word Embeddings"
          ],
          [
           "Domain Adaptation of Neural Machine Translation by Lexicon Induction"
          ],
          [
           "Exploring Numeracy in Word Embeddings"
          ],
          [
           "Storyboarding of Recipes: Grounded Contextual Generation"
          ],
          [
           "Pay attention when you pay the bills. A multilingual corpus with dependency-based and semantic annotation of collocations"
          ],
          [
           "Crowdsourcing and Aggregating Nested Markable Annotations"
          ],
          [
           ""
          ],
          [
           "Who Sides With Whom? Towards Computational Construction of Discourse Networks for Political Debates"
          ],
          [
           "An Environment for Relational Annotation of Political Debates"
          ],
          [
           "A Spreading Activation Framework for Tracking Conceptual Complexity of Texts"
          ],
          [
           "CoDraw: Collaborative Drawing as a Testbed for Grounded Goal-driven Communication"
          ],
          [
           "Stochastic Tokenization with a Language Model for Neural Text Classification"
          ],
          [
           "Transforming Complex Sentences into a Semantic Hierarchy"
          ],
          [
           "Analyzing the Limitations of Cross-lingual Word Embedding Mappings"
          ],
          [
           "How to (Properly) Evaluate Cross-Lingual Word Embeddings: On Strong Baselines, Comparative Analyses, and Some Misconceptions"
          ],
          [
           "Boosting Entity Linking Performance by Leveraging Unlabeled Documents"
          ],
          [
           "JW300: A Wide-Coverage Parallel Corpus for Low-Resource Languages"
          ],
          [
           "Distant Learning for Entity Linking with Automatic Noise Detection"
          ],
          [
           "Unsupervised Pretraining for Neural Machine Translation Using Elastic Weight Consolidation"
          ],
          [
           "Analyzing Multi-Head Self-Attention: Specialized Heads Do the Heavy Lifting, the Rest Can Be Pruned"
          ],
          [
           "Interpretable Question Answering on Knowledge Bases and Text"
          ],
          [
           "Putting Evaluation in Context: Contextual Embeddings improve Machine Translation Evaluation"
          ],
          [
           "Improving Textual Network Embedding with Global Attention via Optimal Transport"
          ],
          [
           ""
          ],
          [
           "Aiming beyond the Obvious: Identifying Non-Obvious Cases in Semantic Similarity Datasets"
          ],
          [
           "Self-Supervised Neural Machine Translation"
          ],
          [
           "OpenKiwi: An Open Source Framework for Quality Estimation"
          ],
          [
           "PTB Graph Parsing with Tree Approximation"
          ],
          [
           "Better Exploiting Latent Variables in Text Modeling"
          ],
          [
           "Improving Multi-turn Dialogue Modelling with Utterance ReWriter"
          ],
          [
           "A Joint Named-Entity Recognizer for Heterogeneous Tag-sets Using a Tag Hierarchy"
          ],
          [
           "Extracting Symptoms and their Status from Clinical Conversations"
          ],
          [
           "Jointly Learning Semantic Parser and Natural Language Generator via Dual Information Maximization"
          ],
          [
           "Semantic expressive capacity with bounded memory"
          ],
          [
           "How multilingual is Multilingual BERT?"
          ],
          [
           "Simple and Effective Curriculum Pointer-Generator Networks for Reading Comprehension over Long Narratives"
          ],
          [
           "Lightweight and Efficient Neural Natural Language Processing with Quaternion Networks"
          ],
          [
           "Time-Out: Temporal Referencing for Robust Modeling of Lexical Semantic Change"
          ],
          [
           "A Wind of Change: Detecting and Evaluating Lexical Semantic Change across Times and Domains"
          ],
          [
           "Reference Network for Neural Machine Translation"
          ],
          [
           "Multimodal Transformer Networks for End-to-End Video-Grounded Dialogue Systems"
          ],
          [
           "Reading Turn by Turn: Hierarchical Attention Architecture for Spoken Dialogue Comprehension"
          ],
          [
           "EditNTS: An Neural Programmer-Interpreter Model for Sentence Simplification through Explicit Editing"
          ],
          [
           "Learning to Rank for Plausible Plausibility"
          ],
          [
           "Incorporating Syntactic and Semantic Information in Word Embeddings using Graph Convolutional Networks"
          ],
          [
           "Historical Text Normalization with Delayed Rewards"
          ],
          [
           "Multi-Task Learning for Coherence Modeling"
          ],
          [
           "Learning Representation Mapping for Relation Detection in Knowledge Base Question Answering"
          ],
          [
           "ReCoSa: Detecting the Relevant Contexts with Self-Attention for Multi-turn Dialogue Generation"
          ],
          [
           "Decomposable Neural Paraphrase Generation"
          ],
          [
           "Bridging the Gap between Training and Inference for Neural Machine Translation"
          ],
          [
           "Modeling Semantic Compositionality with Sememe Knowledge"
          ],
          [
           "Revisiting Low-Resource Neural Machine Translation: A Case Study"
          ],
          [
           "A Lightweight Recurrent Network for Sequence Modeling"
          ],
          [
           "Fine-Grained Temporal Relation Extraction"
          ],
          [
           "Deep Neural Model Inspection and Comparison via Functional Neuron Pathways"
          ],
          [
           "Morphological Irregularity Correlates with Frequency"
          ],
          [
           "On the Summarization of Consumer Health Questions"
          ],
          [
           "Complex Word Identification as a Sequence Labelling Task"
          ],
          [
           "Leveraging Local and Global Patterns for Self-Attention Networks"
          ],
          [
           "Revisiting Joint Modeling of Cross-document Entity and Event Coreference Resolution"
          ],
          [
           "Generating Summaries with Topic Templates and Structured Convolutional Decoders"
          ],
          [
           "A Unified Multi-task Adversarial Learning Framework for Pharmacovigilance Mining"
          ],
          [
           "#YouToo? Detection of Personal Recollections of Sexual Harassment on Social Media"
          ],
          [
           "Towards Multimodal Sarcasm Detection (An Obviously Perfect Paper)"
          ],
          [
           "Learning Transferable Feature Representations Using Neural Networks"
          ],
          [
           "Accelerating Sparse Matrix Operations in Neural Networks on Graphics Processing Units"
          ],
          [
           "ARHNet -Leveraging Community Interaction For Detection Of Religious Hate Speech In Arabic"
          ],
          [
           "Look Harder: A Neural Machine Translation Model with Hard Attention"
          ],
          [
           "Matching Article Pairs with Graphical Decomposition and Convolutions"
          ],
          [
           "Towards Lossless Encoding of Sentences"
          ],
          [
           "Do Neural Dialog Systems Use the Conversation History Effectively? An Empirical Study"
          ],
          [
           "A Large-Scale Corpus for Conversation Disentanglement"
          ],
          [
           "TALKSUMM: A Dataset and Scalable Annotation Method for Scientific Paper Summarization Based on Conference Talks"
          ],
          [
           "The Language of Legal and Illegal Activity on the Darknet"
          ],
          [
           "Argument Invention from First Principles"
          ],
          [
           "From Surrogacy to Adoption; From Bitcoin to Cryptocurrency: Debate Topic Expansion"
          ],
          [
           "What Makes a Good Counselor? Learning to Distinguish between High-quality and Low-quality Counseling Conversations"
          ],
          [
           "A Semi-Markov Structured Support Vector Machine Model for High-Precision Named Entity Recognition"
          ],
          [
           "Relating Simple Sentence Representations in Deep Neural Networks and the Brain"
          ],
          [
           "Zero-shot Word Sense Disambiguation using Sense Definition Embeddings"
          ],
          [
           "The KNOWREF Coreference Corpus: Removing Gender and Number Cues for Difficult Pronominal Anaphora Resolution"
          ],
          [
           "Detecting Subevents using Discourse and Narrative Features"
          ],
          [
           "Word and Document Embedding with vMF-Mixture Priors on Context Word Vectors"
          ],
          [
           "Exploiting Explicit Paths for Multi-hop Reading Comprehension"
          ],
          [
           "Disentangled Representation Learning for Non-Parallel Text Style Transfer"
          ],
          [
           "Towards Explainable NLP: A Generative Explanation Framework for Text Classification"
          ],
          [
           "Exploiting Entity BIO Tag Embeddings and Multi-task Learning for Relation Extraction with Imbalanced Data"
          ],
          [
           "Ordinal and Attribute Aware Response Generation in a Multimodal Dialogue System"
          ],
          [
           "RankQA: Neural Question Answering with Answer Re-Ranking"
          ],
          [
           "A Working Memory Model for Task-oriented Dialog Response Generation"
          ],
          [
           "Improving Abstractive Document Summarization with Salient Information Modeling"
          ],
          [
           "Sequence Labeling Parsing by Learning Across Representations"
          ],
          [
           "Generating Question Relevant Captions to Aid Visual Question Answering"
          ],
          [
           "Controlling Grammatical Error Correction Using Word Edit Rate"
          ],
          [
           "Simple and Effective Text Matching with Richer Alignment Features"
          ],
          [
           "A Simple Recipe towards Reducing Hallucination in Neural Surface Realisation"
          ],
          [
           "Exploring Pre-trained Language Models for Event Extraction and Generation"
          ],
          [
           "Expressing Visual Relationships via Language"
          ],
          [
           "Scoring Sentence Singletons and Pairs for Abstractive Summarization"
          ],
          [
           "Delta Embedding Learning"
          ],
          [
           "Poetry to Prose Conversion in Sanskrit as a Linearisation Task: A case for Low-Resource Languages"
          ],
          [
           "Latent Variable Model for Multi-modal Translation"
          ],
          [
           "Interpretable Neural Predictions with Differentiable Binary Variables"
          ],
          [
           "Graph based Neural Networks for Event Factuality Prediction using Syntactic and Semantic Structures"
          ],
          [
           "Data-to-text Generation with Entity Modeling"
          ],
          [
           "Evaluating Discourse in Structured Text Representations"
          ],
          [
           "Training Neural Machine Translation To Apply Terminology Constraints"
          ],
          [
           "Unsupervised Rewriter for Multi-Sentence Compression"
          ],
          [
           "Fine-tuning Pre-Trained Transformer Language Models to Distantly Supervised Relation Extraction"
          ],
          [
           "Unsupervised Pivot Translation for Distant Languages"
          ],
          [
           "Improved Sentiment Detection via Label Transfer from Monolingual to Synthetic Code-Switched Text"
          ],
          [
           "On the Word Alignment from Neural Machine Translation *"
          ],
          [
           "Selection Bias Explorations and Debias Methods for Natural Language Sentence Matching Datasets"
          ],
          [
           "BiSET: Bi-directional Selective Encoding with Template for Abstractive Summarization"
          ],
          [
           "Semi-supervised Domain Adaptation for Dependency Parsing"
          ],
          [
           "Are Girls Neko or Shōjo? Cross-Lingual Alignment of Non-Isomorphic Embeddings with Iterative Normalization"
          ],
          [
           "Towards Integration of Statistical Hypothesis Tests into Deep Neural Networks"
          ],
          [
           "Adversarial Multitask Learning for Joint Multi-Feature and Multi-Dialect Morphological Modeling"
          ],
          [
           "Unsupervised Question Answering by Cloze Translation"
          ],
          [
           "Generating Natural Language Adversarial Examples through Probability Weighted Word Saliency"
          ],
          [
           "Misleading Failures of Partial-input Baselines"
          ],
          [
           "Automatic and Human Evaluation of Local Topic Quality"
          ],
          [
           "Why Didn't You Listen to Me? Comparing User Control of Human-in-the-Loop Topic Models"
          ],
          [
           "Real-Time Open-Domain Question Answering with Dense-Sparse Phrase Index"
          ],
          [
           "Sakura: Large-scale Incorrect Example Retrieval System for Learners of Japanese as a Second Language"
          ],
          [
           "This year, the student research workshop has received a great attention, reflecting the growth of the field. We received 214 submissions in total: 27 research proposals and 147 research papers. Among these, 7 research proposals and 22 research papers were non-archival. We accepted 71 papers, for an acceptance rate of 33%. After withdrawals and excluding non-archival papers, 61 papers are appearing in these proceedings, including 14 research proposals and 47 research papers. All of the accepted papers will be presented as posters in late morning sessions as a part of the main conference, split across three days (July 29th-31th). Mentoring is at the heart of the SRW. In keeping with previous years, students had the opportunity for pre-submission mentoring prior to the submission deadline. Total of 64 papers participated in presubmission mentoring program. This program offered students a chance to receive comments from an experienced researcher, in order to improve the quality of the writing and presentation before making their submission. In addition, authors of accepted SRW papers are matched with mentors who will meet with the students in person during the poster presentations. Each mentor prepares in-depth comments and questions prior to the student's presentation, and provides discussion and feedback during the workshop. We are deeply grateful to our sponsors whose support will enable a number of students to attend the conference. We would also like to thank our program committee members for their careful reviews of each paper, and all of our mentors for donating their time to provide feedback to our student authors. Thank you to our faculty advisors Hannaneh Hajishirzi, Aurelie Herbelot, Scott Yih, Yue Zhang for their essential advice and guidance, and to the members of the ACL 2018 organizing committee, in particular David Traum, Anna Korhonen and Lluís Màrquez for their helpful support. Finally, kudos to our student participants! iii"
          ],
          [
           "Negative Lexically Constrained Decoding for Paraphrase Generation"
          ],
          [
           "Retrieval-Enhanced Adversarial Training for Neural Response Generation"
          ],
          [
           "Towards Complex Text-to-SQL in Cross-Domain Database with Intermediate Representation"
          ],
          [
           "Can You Tell Me How to Get Past Sesame Street? Sentence-Level Pretraining Beyond Language Modeling"
          ],
          [
           "The PhotoBook Dataset: Building Common Ground through Visually-Grounded Dialogue"
          ],
          [
           "A Resource-Free Evaluation Metric for Cross-Lingual Word Embeddings Based on Graph Modularity"
          ],
          [
           "Learning to Ask Unanswerable Questions for Machine Reading Comprehension"
          ],
          [
           "Compositional Questions Do Not Necessitate Multi-hop Reasoning"
          ],
          [
           "Multi-hop Reading Comprehension through Question Decomposition and Rescoring"
          ],
          [
           "A Unified Linear-Time Framework for Sentence-Level Discourse Parsing"
          ],
          [
           "Dialogue-Act Prediction of Future Responses based on Conversation History"
          ],
          [
           "What does BERT learn about the structure of language?"
          ],
          [
           "Span-Level Model for Relation Extraction"
          ],
          [
           "Toward Comprehensive Understanding of a Sentiment Based on Human Motives"
          ],
          [
           "Language Modeling with Shared Grammar"
          ],
          [
           "Controllable Text Simplification with Lexical Constraint Loss"
          ],
          [
           "SUMBT: Slot-Utterance Matching for Universal and Scalable Belief Tracking"
          ],
          [
           "Unsupervised Information Extraction: Regularizing Discriminative Approaches with Relation Distribution Losses"
          ],
          [
           "Neural Relation Extraction for Knowledge Base Enrichment"
          ],
          [
           "Normalizing Non-canonical Turkish Texts Using Machine Translation Approaches"
          ],
          [
           "Bilingual Lexicon Induction with Semi-supervision in Non-Isometric Embedding Spaces"
          ],
          [
           "Corpus Creation and Analysis for Named Entity Recognition in Telugu-English Code-Mixed Social Media Data"
          ],
          [
           "De-Mixing Sentiment from Code-Mixed Text"
          ],
          [
           "Boosting Dialog Response Generation"
          ],
          [
           "Exploring Phoneme-Level Speech Representations for End-to-End Speech Translation"
          ],
          [
           "Towards Scalable and Reliable Capsule Networks for Challenging NLP Applications"
          ],
          [
           "Employing the Correspondence of Relations and Connectives to Identify Implicit Discourse Relations via Label Embeddings"
          ],
          [
           "Neural Keyphrase Generation via Reinforcement Learning with Adaptive Rewards"
          ],
          [
           "Automatically Identifying Complaints in Social Media"
          ],
          [
           "Massively Multilingual Transfer for NER"
          ],
          [
           "Better Character Language Modeling Through Morphology"
          ],
          [
           "BAM! Born-Again Multi-Task Networks for Natural Language Understanding"
          ],
          [
           "Neural Aspect and Opinion Term Extraction with Mined Rules as Weak Supervision"
          ],
          [
           "Mitigating Gender Bias in Natural Language Processing: Literature Review"
          ],
          [
           "Entity-Centric Contextual Affective Analysis"
          ],
          [
           "Identifying Visible Actions in Lifestyle Vlogs"
          ],
          [
           "A Cross-Domain Transferable Neural Coherence Model"
          ],
          [
           "Relation Embedding with Dihedral Group in Knowledge Graph"
          ],
          [
           "Enhancing Air Quality Prediction with Social Media and Natural Language Processing"
          ],
          [
           "Know What You Don't Know: Modeling a Pragmatic Speaker that Refers to Objects of Unknown Categories"
          ],
          [
           "NeuralClassifier: An Open-source Neural Hierarchical Multi-label Text Classification Toolkit"
          ],
          [
           "Combining Knowledge Hunting and Neural Language Models to Solve the Winograd Schema Challenge"
          ],
          [
           "Careful Selection of Knowledge to solve Open Book Question Answering"
          ],
          [
           "A computational linguistic study of personal recovery in bipolar disorder"
          ],
          [
           "SARAL: A Low-Resource Cross-Lingual Domain-Focused Information Retrieval System for Effective Rapid Document Triage"
          ],
          [
           "Psycholinguistics meets Continual Learning: Measuring Catastrophic Forgetting in Visual Question Answering"
          ],
          [
           "FIESTA: Fast IdEntification of State-of-The-Art models using adaptive bandit algorithms"
          ],
          [
           "ClaimPortal: Integrated Monitoring, Searching, Checking, and Analytics of Factual Claims on Twitter"
          ],
          [
           "Predicting Humorousness and Metaphor Novelty with Gaussian Process Preference Learning"
          ],
          [
           "CONAN -COunter NArratives through Nichesourcing: a Multilingual Dataset of Responses to Fight Online Hate Speech"
          ],
          [
           "The (Non-)Utility of Structural Features in BiLSTM-based Dependency Parsers"
          ],
          [
           "Zero-Shot Cross-Lingual Abstractive Sentence Summarization through Teaching Generation and Attention"
          ],
          [
           "Pretraining Methods for Dialog Context Representation Learning"
          ],
          [
           "CogNet: a Large-Scale Cognate Database"
          ],
          [
           "Neural News Recommendation with Long-and Short-term User Representations"
          ],
          [
           "GraphRel: Modeling Text as Relational Graphs for Joint Entity and Relation Extraction"
          ],
          [
           "Multi-task Pairwise Neural Ranking for Hashtag Segmentation"
          ],
          [
           "Entity-Relation Extraction as Multi-turn Question Answering"
          ],
          [
           "Is Word Segmentation Necessary for Deep Learning of Chinese Representations?"
          ],
          [
           "Implicit Discourse Relation Identification for Open-domain Dialogues"
          ],
          [
           "Analysis of Automatic Annotation Suggestions for Hard Discourse-Level Tasks in Expert Domains"
          ],
          [
           "Is Attention Interpretable?"
          ],
          [
           "Neural News Recommendation with Topic-Aware News Representation"
          ],
          [
           "Persuasion for Good: Towards a Personalized Persuasive Dialogue System for Social Good"
          ],
          [
           "Show, Describe and Conclude: On Exploiting the Structure Information of Chest X-Ray Reports"
          ],
          [
           "Curate and Generate: A Corpus and Method for Joint Control of Semantics and Style in Neural NLG"
          ],
          [
           "Synthetic QA Corpora Generation with Roundtrip Consistency"
          ],
          [
           "Multi-Task Networks With Universe, Group, and Task Feature Learning"
          ],
          [
           "Informative Image Captioning with External Sources of Information"
          ],
          [
           "Cognitive Graph for Multi-Hop Reading Comprehension at Scale"
          ],
          [
           "Dynamically Fused Graph Network for Multi-hop Reasoning"
          ],
          [
           "Multi-Channel Graph Neural Network for Entity Alignment"
          ],
          [
           "Semantically Conditioned Dialog Response Generation via Hierarchical Disentangled Self-Attention"
          ],
          [
           "Jiuge: A Human-Machine Collaborative Chinese Classical Poetry Generation System"
          ],
          [
           "Hierarchical Transformers for Multi-Document Summarization"
          ],
          [
           "SphereRE: Distinguishing Lexical Relations with Hyperspherical Relation Embeddings"
          ],
          [
           "Are Red Roses Red? Evaluating Consistency of Question-Answering Models"
          ],
          [
           "Modeling Intra-Relation in Math Word Problems with Different Functional Multi-Head Attentions"
          ],
          [
           "Course Concept Expansion in MOOCs with External Knowledge and Interactive Game"
          ],
          [
           "Few-Shot Representation Learning for Out-Of-Vocabulary Words"
          ],
          [
           "Automated Chess Commentator Powered by Neural Chess Engine"
          ],
          [
           "VIFIDEL: Evaluating the Visual Fidelity of Image Descriptions"
          ],
          [
           "Exploring Sequence-to-Sequence Learning in Aspect Term Extraction"
          ],
          [
           "Learning to Control the Fine-grained Sentiment for Story Ending Generation"
          ],
          [
           "How Large Are Lions? Inducing Distributions over Quantitative Attributes"
          ],
          [
           "Right for the Wrong Reasons: Diagnosing Syntactic Heuristics in Natural Language Inference"
          ],
          [
           "Translating Translationese: A Two-Step Approach to Unsupervised Machine Translation"
          ],
          [
           "BERT Rediscovers the Classical NLP Pipeline"
          ],
          [
           "Argument Generation with Retrieval, Planning, and Realization"
          ],
          [
           "Dual Adversarial Neural Transfer for Low-Resource Named Entity Recognition"
          ],
          [
           "ChID: A Large-scale Chinese IDiom Dataset for Cloze Test"
          ],
          [
           "Robust Representation Learning of Biomedical Names"
          ],
          [
           "KCAT: A Knowledge-Constraint Typing Annotation Tool"
          ],
          [
           "Eliciting Knowledge from Experts: Automatic Transcript Parsing for Cognitive Task Analysis"
          ],
          [
           "AlpacaTag: An Active Learning-based Crowd Annotation Framework for Sequence Tagging"
          ],
          [
           "Tree LSTMs with Convolution Units to Predict Stance and Rumor Veracity in Social Media Conversations"
          ],
          [
           "Reinforced Dynamic Reasoning for Conversational Question Generation"
          ],
          [
           "Open Vocabulary Learning for Neural Chinese Pinyin IME"
          ],
          [
           "Diachronic Sense Modeling with Deep Contextualized Word Embeddings: An Ecological View"
          ],
          [
           "Literary Event Detection"
          ],
          [
           "A Prism Module for Semantic Disentanglement in Name Entity Recognition"
          ],
          [
           "Long-Distance Dependencies don't have to be Long: Simplifying through Provably (Approximately) Optimal Permutations"
          ],
          [
           "Modeling financial analysts' decision making via the pragmatics and semantics of earnings calls"
          ],
          [
           "Towards Fine-grained Text Sentiment Transfer"
          ],
          [
           "Dual Supervised Learning for Natural Language Understanding and Generation"
          ],
          [
           "Transferable Multi-Domain State Generator for Task-Oriented Dialogue Systems"
          ],
          [
           "Reliability-aware Dynamic Feature Composition for Name Tagging"
          ],
          [
           "PaperRobot: Incremental Draft Generation of Scientific Ideas"
          ],
          [
           "Keep Meeting Summaries on Topic: Abstractive Multi-Modal Meeting Summarization"
          ],
          [
           "Towards Comprehensive Description Generation from Factual Attribute-value Tables"
          ],
          [
           "Multi-Grained Named Entity Recognition"
          ],
          [
           "Figurative Usage Detection of Symptom Words to Improve Personal Health Mention Detection"
          ],
          [
           "Recognising Agreement and Disagreement between Stances with Reason Comparing Networks"
          ],
          [
           "Using Human Attention to Extract Keyphrase from Microblog Post"
          ],
          [
           "HIBERT: Document Level Pre-training of Hierarchical Bidirectional Transformers for Document Summarization"
          ],
          [
           "Automatic Grammatical Error Correction for Sequence-to-sequence Text Generation: An Empirical Study"
          ],
          [
           "Explain Yourself! Leveraging Language Models for Commonsense Reasoning"
          ],
          [
           "Open-Domain Targeted Sentiment Analysis via Span-Based Extraction and Classification"
          ],
          [
           ""
          ],
          [
           "Retrieve, Read, Rerank: Towards End-to-End Multi-Document Reading Comprehension"
          ],
          [
           "Graph Neural Networks with Generated Parameters for Relation Extraction"
          ],
          [
           "BERT-based Lexical Substitution"
          ],
          [
           "Weakly-Supervised Spatio-Temporally Grounding Natural Sentence in Video"
          ],
          [
           "Open Domain Event Extraction Using Neural Latent Variable Models"
          ],
          [
           "Towards Near-imperceptible Steganographic Text"
          ],
          [
           "Token-level Dynamic Self-Attention Network for Multi-Passage Reading Comprehension"
          ],
          [
           "Incremental Transformer with Deliberation Decoder for Document Grounded Conversations"
          ],
          [
           "A Multiscale Visualization of Attention in the Transformer Model"
          ],
          [
           "Target-Guided Open-Domain Conversation"
          ],
          [
           "Just \"OneSeC\" for Producing Multilingual Sense-Annotated Data"
          ],
          [
           "Improving the Similarity Measure of Determinantal Point Processes for Extractive Multi-Document Summarization"
          ],
          [
           "Cross-lingual Knowledge Graph Alignment via Graph Matching Neural Network"
          ],
          [
           "Knowledge-aware Pronoun Coreference Resolution"
          ],
          [
           "Progressive Self-Supervised Attention Learning for Aspect-Level Sentiment Analysis"
          ],
          [
           "Gated Embeddings in End-to-End Speech Recognition for Conversational-Context Fusion"
          ],
          [
           "Multi-Level Matching and Aggregation Network for Few-Shot Relation Classification"
          ],
          [
           "Learning Representations from Imperfect Time Series Data via Tensor Rank Regularization"
          ],
          [
           "Multimodal Transformer for Unaligned Multimodal Language Sequences"
          ],
          [
           "Exploiting Invertible Decoders for Unsupervised Sentence Representation Learning"
          ],
          [
           "Generating Question-Answer Hierarchies"
          ],
          [
           "Syntactically Supervised Transformers for Faster Neural Machine Translation"
          ],
          [
           "Encouraging Paragraph Embeddings to Remember Sentence Identity Improves Classification"
          ],
          [
           "Strategies for Structuring Story Generation"
          ],
          [
           "Heuristic Authorship Obfuscation"
          ],
          [
           "Bias Analysis and Mitigation in the Evaluation of Authorship Verification"
          ],
          [
           "This Email Could Save Your Life: Introducing the Task of Email Subject Line Generation"
          ],
          [
           "SP-10K: A Large-scale Evaluation Set for Selectional Preference Acquisition"
          ],
          [
           "Extracting Multiple-Relations in One-Pass with Pre-Trained Transformers"
          ],
          [
           "Improving Question Answering over Incomplete KBs with Knowledge-Aware Reader"
          ],
          [
           "Sentence Centrality Revisited for Unsupervised Summarization"
          ],
          [
           "TWEETQA: A Social Media Focused Question Answering Dataset"
          ],
          [
           "Parallax: Visualizing and Understanding the Semantics of Embedding Spaces via Algebraic Formulae"
          ],
          [
           "Monotonic Infinite Lookback Attention for Simultaneous Machine Translation"
          ],
          [
           "End-to-end Deep Reinforcement Learning Based Coreference Resolution"
          ],
          [
           "Rewarding Smatch: Transition-Based AMR Parsing with Reinforcement Learning"
          ],
          [
           "Low-resource Deep Entity Resolution with Transfer and Active Learning"
          ],
          [
           "HEIDL: Learning Linguistic Expressions with Deep Learning and Human-in-the-Loop"
          ],
          [
           "Emotion-Cause Pair Extraction: A New Task to Emotion Analysis in Texts"
          ],
          [
           "Soft Contextual Data Augmentation for Neural Machine Translation"
          ],
          [
           "Understanding Undesirable Word Embedding Associations"
          ],
          [
           "Towards Understanding Linear Word Analogies"
          ],
          [
           "From Bilingual to Multilingual Neural Machine Translation by Incremental Training"
          ],
          [
           "Key Fact as Pivot: A Two-Stage Model for Low Resource Table-to-Text Generation"
          ],
          [
           "Enhancing Topic-to-Essay Generation with External Commonsense Knowledge"
          ],
          [
           "Generating Fluent Adversarial Examples for Natural Languages"
          ],
          [
           "STRASS: A Light and Effective Method for Extractive Summarization Based on Sentence Embeddings"
          ],
          [
           "Online Infix Probability Computation for Probabilistic Finite Automata"
          ],
          [
           "Cross-Modal Commentator: Automatic Machine Commenting Based on Cross-Modal Information"
          ],
          [
           "XQA: A Cross-lingual Open-domain Question Answering Dataset"
          ],
          [
           "Generating Sentences from Disentangled Syntactic and Semantic Spaces"
          ],
          [
           "Automatic Generation of Personalized Comment Based on User Profile"
          ],
          [
           "Imitation Learning for Non-Autoregressive Neural Machine Translation"
          ],
          [
           "Like a Baby: Visually Situated Neural Language Acquisition"
          ],
          [
           "Improving Neural Language Models by Segmenting, Attending, and Predicting the Future"
          ],
          [
           "Does It Make Sense? And Why? A Pilot Study for Sense Making and Explanation"
          ],
          [
           "Cross-Lingual Training for Automatic Question Generation"
          ],
          [
           "Continual and Multi-Task Architecture Search"
          ],
          [
           "Explore, Propose, and Assemble: An Interpretable Model for Multi-Hop Reading Comprehension"
          ],
          [
           "Avoiding Reasoning Shortcuts: Adversarial Evaluation, Training, and Model Development for Multi-Hop QA"
          ],
          [
           "Semi-supervised Stochastic Multi-Domain Learning using Variational Inference"
          ],
          [
           "Comparison of Diverse Decoding Methods from Conditional Language Models"
          ],
          [
           "PERSPECTROSCOPE: A Window to the World of Diverse Perspectives"
          ],
          [
           "An adaptable task-oriented dialog system for stand-alone embedded devices"
          ],
          [
           "Deep Dominance -How to Properly Compare Deep Neural Models"
          ],
          [
           "Improving Visual Question Answering by Referring to Generated Paragraph Captions"
          ],
          [
           "Unraveling Antonym's Word Vectors through a Siamese-like Network"
          ],
          [
           "LSTMEmbed: Learning Word and Sense Representations from a Large Semantically Annotated Corpus with Long Short-Term Memories"
          ],
          [
           "Evaluating Gender Bias in Machine Translation"
          ],
          [
           "When a Good Translation is Wrong in Context: Context-Aware Machine Translation Improves on Deixis, Ellipsis, and Lexical Cohesion"
          ],
          [
           "Rationally Reappraising ATIS-based Dialogue Systems"
          ],
          [
           "ELI5: Long Form Question Answering"
          ],
          [
           "Paraphrases as Foreign Languages in Multilingual Neural Machine Translation"
          ],
          [
           "lingvis.io -A Linguistic Visual Analytics Framework"
          ],
          [
           "Demonstration of a Neural Machine Translation System with Online Learning for Translators"
          ],
          [
           "GrapAL: Connecting the Dots in Scientific Literature"
          ],
          [
           "FASTDial: Abstracting Dialogue Policies for Fast Development of Task Oriented Agents"
          ],
          [
           "Rapid Customization for Event Extraction"
          ],
          [
           ""
          ],
          [
           "PostAc ® : A Visual Interactive Search, Exploration, and Analysis Platform for PhD Intensive Job Postings"
          ],
          [
           "A Neural, Interactive-predictive System for Multimodal Sequence to Sequence Tasks"
          ],
          [
           "GLTR: Statistical Detection and Visualization of Generated Text"
          ],
          [
           "Annotating and Analyzing Semantic Role of Elementary Units and Relations in Online Persuasive Arguments"
          ],
          [
           "Microsoft ICECAPS: An Open-Source Toolkit for Conversation Modeling"
          ],
          [
           "Flambé: A Customizable Framework for Machine Learning Experiments"
          ],
          [
           "MoNoise: A Multi-lingual and Easy-to-use Lexical Normalization Tool"
          ],
          [
           "Texar: A Modularized, Versatile, and Extensible Toolkit for Text Generation"
          ],
          [
           "SLATE: A Super-Lightweight Annotation Tool for Experts"
          ],
          [
           "You Only Need Attention to Traverse Trees"
          ],
          [
           "Constructing Interpretive Spatio-Temporal Features for Multi-Turn Responses Selection"
          ],
          [
           "Stay on the Path: Instruction Fidelity in Vision-and-Language Navigation"
          ],
          [
           "Robust Neural Machine Translation with Doubly Adversarial Inputs"
          ],
          [
           ""
          ],
          [
           "A Multi-Task Architecture on Relevance-based Neural Query Translation"
          ],
          [
           "Women's Syntactic Resilience and Men's Grammatical Luck: Gender-Bias in Part-of-Speech Tagging and Dependency Parsing"
          ],
          [
           "Robust Neural Machine Translation with Joint Textual and Phonetic Embedding"
          ],
          [
           "Attention over Heads: A Multi-Hop Attention for Neural Machine Translation"
          ],
          [
           "Using Semantic Similarity as Reward for Reinforcement Learning in Sentence Generation"
          ],
          [
           "Simultaneous Translation with Flexible Policy via Restricted Imitation Learning"
          ],
          [
           "Unsupervised Paraphrasing without Translation"
          ],
          [
           "Celebrity Profiling"
          ],
          [
           "Probing Neural Network Comprehension of Natural Language Arguments"
          ],
          [
           "Generating Logical Forms from Graph Representations of Text and Entities"
          ],
          [
           "Dynamically Composing Domain-Data Selection with Clean-Data Selection by \"Co-Curricular Learning\" for Neural Machine Translation"
          ],
          [
           "Handling Divergent Reference Texts when Evaluating Table-to-Text Generation"
          ],
          [
           "Ranking of Potential Questions"
          ],
          [
           "Context-specific language modeling for human trafficking detection from online advertisements"
          ],
          [
           "Putting words in context: LSTM language models and lexical ambiguity"
          ],
          [
           "NNE: A Dataset for Nested Named Entity Recognition in English Newswire"
          ],
          [
           "Latent Retrieval for Weakly Supervised Open Domain Question Answering"
          ],
          [
           "Ranking Generated Summaries by Correctness: An Interesting but Challenging Application for Natural Language Inference"
          ],
          [
           "Using Automatically Extracted Minimum Spans to Disentangle Coreference Evaluation from Boundary Detection"
          ],
          [
           "Effective Cross-lingual Transfer of Neural Machine Translation Models without Shared Vocabularies"
          ],
          [
           "Reversing Gradients in Adversarial Domain Adaptation for Question Deduplication and Textual Entailment Tasks"
          ],
          [
           "Crowdsourcing and Validating Event-focused Emotion Corpora for German and English"
          ],
          [
           "An Imitation Learning Approach to Unsupervised Parsing"
          ],
          [
           "Zero-Shot Entity Linking by Reading Entity Descriptions"
          ],
          [
           "How to best use Syntax in Semantic Role Labelling"
          ],
          [
           "Learning Emphasis Selection for Written Text in Visual Media from Crowd-Sourced Label Distributions"
          ],
          [
           "AMR Parsing as Sequence-to-Graph Transduction"
          ],
          [
           "Neural Decipherment via Minimum-Cost Flow: from Ugaritic to Linear B"
          ],
          [
           "Don't Take the Premise for Granted: Mitigating Artifacts in Natural Language Inference"
          ],
          [
           "Not All Reviews are Equal: Towards Addressing Reviewer Biases for Opinion Summarization"
          ],
          [
           "Compound Probabilistic Context-Free Grammars for Grammar Induction"
          ],
          [
           "BIGPATENT: A Large-Scale Dataset for Abstractive and Coherent Summarization"
          ],
          [
           "Joint Effects of Context and User History for Predicting Online Conversation Re-entries"
          ],
          [
           "Making Fast Graph-based Algorithms with Graph Metric Embeddings"
          ],
          [
           "Matching the Blanks: Distributional Similarity for Relation Learning"
          ],
          [
           "Unsupervised Parallel Sentence Extraction with Parallel Segment Detection Helps Machine Translation"
          ],
          [
           "Better OOV Translation with Bilingual Terminology Mining"
          ],
          [
           "Unsupervised Multilingual Word Embedding with Limited Resources using Neural Language Models"
          ],
          [
           "Investigating Political Herd Mentality: A Community Sentiment Based Approach"
          ],
          [
           "Learning Attention-based Embeddings for Relation Prediction in Knowledge Graphs"
          ],
          [
           "Cross-Domain Generalization of Neural Constituency Parsers"
          ],
          [
           "Pre-Learning Environment Representations for Data-Efficient Neural Instruction Following"
          ],
          [
           "Are You Looking? Grounding to Multiple Modalities in Vision-and-Language Navigation"
          ],
          [
           "Improving Low-Resource Cross-lingual Document Retrieval by Reranking with Deep Bilingual Representations"
          ],
          [
           "Multilingual Constituency Parsing with Self-Attention and Pre-Training"
          ],
          [
           "Simple Unsupervised Summarization by Contextual Matching"
          ],
          [
           "Personalizing Dialogue Agents via Meta-Learning"
          ],
          [
           "Memory Consolidation for Contextual Spoken Language Understanding with Dialogue Logistic Inference"
          ],
          [
           "Generalized Data Augmentation for Low-Resource Translation"
          ],
          [
           "Māori Loanwords: A Corpus of New Zealand English Tweets"
          ],
          [
           "Improving Neural Entity Disambiguation with Graph Embeddings"
          ],
          [
           "DeepSentiPeer: Harnessing Sentiment in Review Texts To Recommend Peer Review Decisions"
          ],
          [
           "Multimodal and Multi-view Models for Emotion Recognition"
          ],
          [
           "Zero-Shot Semantic Parsing for Instructions"
          ],
          [
           "What Should I Ask? Using Conversationally Informative Rewards for Goal-Oriented Visual Dialogue"
          ],
          [
           "Complex Question Decomposition for Semantic Parsing"
          ],
          [
           "HEAD-QA: A Healthcare Dataset for Complex Reasoning"
          ],
          [
           "Unified Semantic Parsing with Weak Supervision"
          ],
          [
           "Numeracy-600K: Learning Numeracy for Detecting Exaggerated Information in Market Comments"
          ],
          [
           "Multi-Task Deep Neural Networks for Natural Language Understanding"
          ],
          [
           "Distilling Translations with Visual Awareness"
          ],
          [
           "A Simple Theoretical Model of Importance for Summarization"
          ],
          [
           "DisSent: Learning Sentence Representations from Explicit Discourse Relations"
          ],
          [
           "A Corpus for Reasoning About Natural Language Grounded in Photographs"
          ],
          [
           "Multi-News: a Large-Scale Multi-Document Summarization Dataset and Abstractive Hierarchical Model"
          ],
          [
           "EigenSent: Spectral sentence embeddings using higher-order Dynamic Mode Decomposition"
          ],
          [
           "Self-Attentional Models for Lattice Inputs"
          ],
          [
           "SEMBLEU: A Robust Metric for AMR Parsing Evaluation"
          ],
          [
           "Symbolic inductive bias for visually grounded learning of spoken language"
          ],
          [
           "Improved Zero-shot Neural Machine Translation via Ignoring Spurious Correlations"
          ],
          [
           "A Compact and Language-Sensitive Multilingual Translation Method"
          ],
          [
           "On the Robustness of Self-Attentive Models"
          ],
          [
           "Exact Hard Monotonic Attention for Character-Level Transduction"
          ],
          [
           "Reranking for Neural Semantic Parsing"
          ],
          [
           "Incorporating Priors with Feature Attribution on Text Classification"
          ],
          [
           "Multi-Relational Script Learning for Discourse Relations"
          ],
          [
           "Human vs. Muppet: A Conservative Estimate of Human Performance on the GLUE Benchmark"
          ],
          [
           "Using LSTMs to Assess the Obligatoriness of Phonological Distinctive Features for Phonotactic Learning"
          ],
          [
           "Compositional Semantic Parsing Across Graphbanks"
          ],
          [
           "Second-Order Semantic Dependency Parsing with End-to-End Neural Networks"
          ],
          [
           "Determining Relative Argument Specificity and Stance for Complex Argumentative Structures"
          ],
          [
           "Every child should have parents: a taxonomy refinement algorithm based on hyperbolic term embeddings"
          ],
          [
           "Tree Communication Models for Sentiment Analysis"
          ],
          [
           "An Investigation of Transfer Learning-Based Sentiment Analysis in Japanese"
          ],
          [
           "Global Textual Relation Embedding for Relational Understanding"
          ],
          [
           "Latent Variable Sentiment Grammar *"
          ],
          [
           "Embedding time expressions for deep temporal ordering models"
          ],
          [
           "Episodic Memory Reader: Learning What to Remember for Question Answering from Streaming Data"
          ],
          [
           "Are we there yet? Encoder-decoder neural networks as cognitive models of English past tense inflection"
          ],
          [
           "Is word segmentation child's play in all languages?"
          ],
          [
           "Uncovering Probabilistic Implications in Typological Knowledge Bases"
          ],
          [
           "Attention-based Conditioning Methods for External Knowledge Integration"
          ],
          [
           "StRE: Self Attentive Edit Quality Prediction in Wikipedia"
          ],
          [
           "Fine-Grained Sentence Functions for Short-Text Conversation"
          ],
          [
           "Are Training Samples Correlated? Learning to Generate Dialogue Responses with Multiple References"
          ],
          [
           "Fine-Grained Spoiler Detection from Large-Scale Review Corpora"
          ],
          [
           "Unsupervised Learning of PCFGs with Normalizing Flow"
          ],
          [
           "Domain Adaptive Dialog Generation via Meta Learning"
          ],
          [
           "GCDT: A Global Context Enhanced Deep Transition Architecture for Sequence Labeling"
          ],
          [
           "We need to talk about standard splits"
          ],
          [
           "Analyzing Linguistic Differences between Owner and Staff Attributed Tweets"
          ],
          [
           "Categorizing and Inferring the Relationship between the Text and Image of Twitter Posts"
          ],
          [
           "Correlating neural and symbolic representations of language"
          ],
          [
           "Retrieving Sequential Information for Non-Autoregressive Neural Machine Translation"
          ],
          [
           "Transformer-XL: Attentive Language Models Beyond a Fixed-Length Context"
          ],
          [
           "E 3 : Entailment-driven Extracting and Editing for Conversational Machine Reading"
          ],
          [
           "A Simple and Effective Approach to Automatic Post-Editing with Transfer Learning"
          ],
          [
           "Head-Driven Phrase Structure Grammar Parsing on Penn Treebank"
          ],
          [
           "Multilingual Unsupervised NMT using Shared Encoder and Language-Specific Decoders"
          ],
          [
           "Multi-Modal Sarcasm Detection in Twitter with Hierarchical Fusion Model"
          ],
          [
           "MAAM: A Morphology-Aware Alignment Model for Unsupervised Bilingual Lexicon Induction"
          ],
          [
           "On the Compositionality Prediction of Noun Phrases using Poincaré Embeddings"
          ],
          [
           "Cross-Domain NER using Cross-Domain Language Modeling"
          ],
          [
           "Multi-Task Semantic Dependency Parsing with Policy Gradient for Learning Easy-First Strategies"
          ],
          [
           "Variance of average surprisal: a better predictor for quality of grammar from unsupervised PCFG induction"
          ],
          [
           "Wide-Coverage Neural A* Parsing for Minimalist Grammars"
          ],
          [
           "Assessing the Ability of Self-Attention Networks to Learn Word Order"
          ],
          [
           "Topic-Aware Neural Keyphrase Generation for Social Media Language"
          ],
          [
           "Relational Word Embeddings"
          ],
          [
           "You Write Like You Eat: Stylistic variation as a predictor of social stratification"
          ],
          [
           "Sentence-Level Evidence Embedding for Claim Verification with Hierarchical Attention Networks"
          ],
          [
           "Embedding Imputation with Grounded Language Information"
          ],
          [
           "Multi-Hop Paragraph Retrieval for Open-Domain Question Answering"
          ],
          [
           "Textbook Question Answering with Multi-modal Context Graph Understanding and Self-supervised Open-set Comprehension"
          ],
          [
           "Large Dataset and Language Model Fun-Tuning for Humor Recognition"
          ],
          [
           "A Multilingual BPE Embedding Space for Universal Sentiment Lexicon Induction"
          ],
          [
           "A Just and Comprehensive Strategy for Using NLP to Address Online Abuse"
          ],
          [
           "Leveraging Meta Information in Short Text Aggregation"
          ],
          [
           "Self-Attentive, Multi-Context One-Class Classification for Unsupervised Anomaly Detection on Text"
          ],
          [
           "Hubless Nearest Neighbor Search for Bilingual Lexicon Induction"
          ],
          [
           "Dialogue Natural Language Inference"
          ],
          [
           "Bayes Test of Precision, Recall, and F 1 Measure for Comparison of Two Natural Language Processing Models"
          ],
          [
           "The Effectiveness of Simple Hybrid Systems for Hypernym Discovery"
          ],
          [
           "TIGS: An Inference Algorithm for Text Infilling with Gradient Search"
          ],
          [
           "Vocabulary Pyramid Network: Multi-Pass Encoding and Decoding with Multi-Level Vocabularies for Response Generation"
          ],
          [
           "Keeping Notes: Conditional Natural Language Generation with a Scratchpad Mechanism"
          ],
          [
           "Do you know that Florence is packed with visitors? Evaluating state-of-the-art models of speaker commitment"
          ],
          [
           "Towards Language Agnostic Universal Representations"
          ],
          [
           "Give Me More Feedback II: Annotating Thesis Strength and Related Attributes in Student Essays"
          ],
          [
           "End-to-End Sequential Metaphor Identification Inspired by Linguistic Theories"
          ],
          [
           "Learning a Matching Model with Co-teaching for Multi-turn Response Selection in Retrieval-based Dialogue Systems"
          ],
          [
           "Budgeted Policy Learning for Task-Oriented Dialogue Systems"
          ],
          [
           "AdaNSP: Uncertainty-driven Adaptive Decoding in Neural Semantic Parsing"
          ],
          [
           "AutoML strategy based on grammatical evolution: A case study about knowledge discovery from text"
          ],
          [
           "Distilling Discrimination and Generalization Knowledge for Event Detection via ∆-Representation Learning"
          ],
          [
           "Learning to Abstract for Memory-augmented Conversational Response Generation"
          ],
          [
           "Towards Empathetic Open-domain Conversation Models: a New Benchmark and Dataset"
          ],
          [
           "Training Neural Response Selection for Task-Oriented Dialogue Systems"
          ],
          [
           "Joint Slot Filling and Intent Detection via Capsule Neural Networks"
          ],
          [
           "Label-Agnostic Sequence Labeling by Copying Nearest Neighbors"
          ],
          [
           "Self-Attention Architectures for Answer-Agnostic Neural Question Generation"
          ],
          [
           "Large-Scale Transfer Learning for Natural Language Generation"
          ],
          [
           "Enhancing Unsupervised Generative Dependency Parser with Contextual Information"
          ],
          [
           "Cost-sensitive Regularization for Label Confusion-aware Event Detection"
          ],
          [
           "Improving Open Information Extraction via Iterative Rank-Aware Learning"
          ],
          [
           "Towards Improving Neural Named Entity Recognition with Gazetteers"
          ],
          [
           "Improving the Robustness of Question Answering Systems to Question Paraphrasing"
          ],
          [
           "Neural Response Generation with Meta-Words"
          ],
          [
           "Scaling Up Open Tagging from Tens to Thousands: Comprehension Empowered Attribute Value Extraction from Product Title"
          ],
          [
           "NLProlog: Reasoning with Weak Unification for Question Answering in Natural Language"
          ],
          [
           "MC 2 : Multi-perspective Convolutional Cube for Conversational Machine Reading Comprehension"
          ],
          [
           "A Novel Bi-directional Interrelated Model for Joint Intent Detection and Slot Filling"
          ],
          [
           "Reducing Word Omission Errors in Neural Machine Translation: A Contrastive Learning Approach"
          ],
          [
           "Deep Unknown Intent Detection with Margin Loss"
          ],
          [
           "Exploiting Sentential Context for Neural Machine Translation"
          ],
          [
           "Learning to Relate from Captions and Bounding Boxes"
          ],
          [
           "Modeling Semantic Relationship in Multi-turn Conversations with Hierarchical Latent Variables"
          ],
          [
           "An automated framework for fast cognate detection and Bayesian phylogenetic inference in computational historical linguistics"
          ],
          [
           "Learning Latent Trees with Stochastic Perturbations and Differentiable Dynamic Programming"
          ],
          [
           "Discourse Representation Parsing for Sentences and Documents"
          ],
          [
           "Sequence-to-Nuggets: Nested Entity Mention Detection via Anchor-Region Networks"
          ],
          [
           "Training Hybrid Language Models by Marginalizing over Segmentations"
          ],
          [
           "Language Modelling Makes Sense: Propagating Representations through WordNet for Full-Coverage Word Sense Disambiguation"
          ],
          [
           "Combating Adversarial Misspellings with Robust Word Recognition"
          ],
          [
           "Sentiment Tagging with Partial Labels using Modular Architectures"
          ],
          [
           "Word2Sense : Sparse Interpretable Word Embeddings"
          ],
          [
           "Empirical Linguistic Study of Sentence Embeddings"
          ],
          [
           "Collocation Classification with Unsupervised Relation Vectors"
          ],
          [
           "Probing for Semantic Classes: Diagnosing the Meaning Content of Word Embeddings"
          ],
          [
           "Confusionset-guided Pointer Networks for Chinese Spelling Check"
          ],
          [
           "Target Conditioned Sampling: Optimizing Data Selection for Multilingual Neural Machine Translation"
          ],
          [
           "Adversarial Learning of Privacy-Preserving Text Representations for De-Identification of Medical Records"
          ],
          [
           "Variational Pretraining for Semi-supervised Text Classification"
          ],
          [
           "The Referential Reader: A Recurrent Entity Network for Anaphora Resolution"
          ],
          [
           "Interpolated Spectral NGram Language Models"
          ],
          [
           "Barack's Wife Hillary: Using Knowledge Graphs for Fact-Aware Language Modeling"
          ],
          [
           "Depth Growing for Neural Machine Translation"
          ],
          [
           "Manipulating the Difficulty of C-Tests"
          ],
          [
           "Soft Representation Learning for Sparse Transfer"
          ],
          [
           "Duality of Link Prediction and Entailment Graph Induction"
          ],
          [
           "Towards Unsupervised Text Classification Leveraging Experts and Word Embeddings"
          ],
          [
           "Improved Language Modeling by Decoding the Past"
          ],
          [
           "Sparse Sequence-to-Sequence Models"
          ],
          [
           "Neural Network Alignment for Sentential Paraphrases"
          ],
          [
           "A Cross-Sentence Latent Variable Model for Semi-Supervised Text Sequence Matching"
          ],
          [
           "Divide, Conquer and Combine: Hierarchical Feature Fusion Network with Local and Global Perspectives for Multimodal Affective Computing"
          ],
          [
           "Decompositional Argument Mining: A General Purpose Approach for Argument Graph Construction"
          ],
          [
           "What You Say and How You Say It Matters: Predicting Financial Risk Using Verbal and Vocal Cues"
          ],
          [
           "A Transparent Framework for Evaluating Unintended Demographic Bias in Word Embeddings"
          ],
          [
           "Generalized Tuning of Distributional Word Vectors for Monolingual and Cross-Lingual Lexical Entailment"
          ],
          [
           "Cross-Sentence Grammatical Error Correction"
          ],
          [
           "Learning Morphosyntactic Analyzers from the Bible via Iterative Annotation Projection across 26 Languages"
          ],
          [
           "A Surprisingly Robust Trick for the Winograd Schema Challenge"
          ],
          [
           "Encoding Social Information with Graph Convolutional Networks for Political Perspective Detection in News Media"
          ],
          [
           "MELD: A Multimodal Multi-Party Dataset for Emotion Recognition in Conversations"
          ],
          [
           "Topic Sensitive Attention on Generic Corpora Corrects Sense Bias in Pretrained Embeddings"
          ],
          [
           "Coherent Comment Generation for Chinese Articles with a Graph-to-Sequence Model"
          ],
          [
           "Transfer Capsule Network for Aspect Level Sentiment Classification"
          ],
          [
           "Multilingual Factor Analysis"
          ],
          [
           "A Deep Reinforced Sequence-to-Set Model for Multi-Label Classification"
          ],
          [
           "Learning from omission"
          ],
          [
           "Meaning to Form: Measuring Systematicity as Information"
          ],
          [
           "Interconnected Question Generation with Coreference Alignment and Conversation Flow Modeling"
          ],
          [
           "A Corpus for Modeling User and Language Effects in Argumentation on Online Debating"
          ],
          [
           "Generating Diverse Translations with Sentence Codes"
          ],
          [
           "Multilingual and Cross-Lingual Graded Lexical Entailment"
          ],
          [
           "Neural Text Simplification of Clinical Letters with a Domain Specific Phrase Table"
          ],
          [
           "Data Programming for Learning Discourse Structure"
          ],
          [
           "Neural Fuzzy Repair: Integrating Fuzzy Matches into Neural Machine Translation"
          ],
          [
           "What Kind of Language Is Hard to Language-Model?"
          ],
          [
           ""
          ],
          [
           "Text Categorization by Learning Predominant Sense of Words as Auxiliary Task"
          ],
          [
           "Reinforced Training Data Selection for Domain Adaptation"
          ],
          [
           "Bilingual Lexicon Induction through Unsupervised Machine Translation"
          ],
          [
           "One Time of Interaction May Not Be Enough: Go Deep with an Interaction-over-Interaction Network for Response Selection in Dialogues"
          ],
          [
           "Coreference Resolution with Entity Equalization"
          ],
          [
           "Generating Long and Informative Reviews with Aspect-Aware Coarse-to-Fine Decoding"
          ],
          [
           "Asking the Crowd: Question Analysis, Evaluation and Generation for Open Discussion on Online Forums"
          ],
          [
           "Automatic Generation of High Quality CCGbanks for Parser Domain Adaptation"
          ],
          [
           "MOROCO: The Moldavian and Romanian Dialectal Corpus"
          ],
          [
           "Unsupervised Neural Text Simplification"
          ],
          [
           "Abstractive text summarization based on deep learning and semantic content generalization"
          ],
          [
           "An Effective Approach to Unsupervised Machine Translation"
          ],
          [
           "Errudite: Scalable, Reproducible, and Testable Error Analysis"
          ],
          [
           "Unsupervised Neural Single-Document Summarization of Reviews via Learning Latent Discourse Structure and its Ranking"
          ],
          [
           "Studying Summarization Evaluation Metrics in the Appropriate Scoring Range"
          ],
          [
           "Spatial Aggregation Facilitates Discovery of Spatial Topics"
          ],
          [
           "SherLIiC: A Typed Event-Focused Lexical Inference Benchmark for Evaluating Natural Language Inference"
          ],
          [
           "Syntax-Infused Variational Autoencoder for Text Generation"
          ],
          [
           "Collaborative Dialogue in Minecraft"
          ],
          [
           "Finding Your Voice: The Linguistic Development of Mental Health Counselors"
          ],
          [
           "Inferential Machine Comprehension: Answering Questions by Recursively Deducing the Evidence Chain from Text"
          ],
          [
           "Modeling affirmative and negated action processing in the brain with lexical and compositional semantic models"
          ],
          [
           "Detecting Concealed Information in Text and Speech"
          ],
          [
           "Towards Automating Healthcare Question Answering in a Noisy Multilingual Low-Resource Setting"
          ],
          [
           "Explicit Utilization of General Knowledge in Machine Reading Comprehension"
          ],
          [
           "Self-Regulated Interactive Sequence-to-Sequence Learning"
          ],
          [
           "Joint Entity Extraction and Assertion Detection for Clinical Text"
          ],
          [
           "Incorporating Linguistic Constraints into Keyphrase Generation"
          ],
          [
           "Adaptive Attention Span in Transformers"
          ],
          [
           "Automatic Domain Adaptation Outperforms Manual Domain Adaptation for Predicting Financial Outcomes"
          ],
          [
           "Wikipedia as a Resource for Text Analysis and Retrieval"
          ],
          [
           "Unsupervised Cross-Lingual Representation Learning"
          ],
          [
           "Computational ad hominem detection"
          ],
          [
           "Fact or Factitious? Contextualized Opinion Spam Detection"
          ],
          [
           "Latent Structure Models for Natural Language Processing"
          ],
          [
           "Multiple Character Embeddings for Chinese Word Segmentation"
          ],
          [
           ""
          ],
          [
           "BREAKING! Presenting Fake News Corpus For Automated Fact Checking"
          ],
          [
           "Automated Cross-language Intelligibility Analysis of Parkinson's Disease Patients Using Speech Recognition Technologies"
          ],
          [
           "Attention and Lexicon Regularized LSTM for Aspect-based Sentiment Analysis"
          ],
          [
           ""
          ],
          [
           "Advances in Argument Mining"
          ],
          [
           "Hierarchical Multi-label Classification of Text with Capsule Networks"
          ],
          [
           "Computational Analysis of Political Texts: Bridging Research Efforts Across Communities"
          ],
          [
           "English-Indonesian Neural Machine Translation for Spoken Language Domains"
          ],
          [
           "Active Reading Comprehension: A dataset for learning the Question-Answer Relationship strategy"
          ],
          [
           "Robust-to-Noise Models in Natural Language Processing Tasks"
          ],
          [
           "Measuring the Value of Linguistics: A Case Study from St. Lawrence Island Yupik"
          ],
          [
           "Improving Mongolian-Chinese Neural Machine Translation with Morphological Noise"
          ],
          [
           "Towards incremental learning of word embeddings using context informativeness"
          ],
          [
           "Joint Learning of Named Entity Recognition and Entity Linking"
          ],
          [
           "A Strong and Robust Baseline for Text-Image Matching"
          ],
          [
           "Reducing Gender Bias in Word-Level Language Models with a Gender-Equalizing Loss Function"
          ],
          [
           "Transfer Learning Based Free-Form Speech Command Classification for Low-Resource Languages"
          ],
          [
           "Enriching Neural Models with Targeted Features for Dementia Detection"
          ],
          [
           "Convolutional Neural Networks for Financial Text Regression"
          ],
          [
           "Scheduled Sampling for Transformers"
          ],
          [
           "Sentiment Analysis on Naija-Tweets"
          ],
          [
           "Sentiment Classification using Document Embeddings trained with Cosine Similarity"
          ],
          [
           "A Japanese Word Segmentation Proposal"
          ],
          [
           "Deep Bayesian Natural Language Processing"
          ],
          [
           ""
          ],
          [
           ""
          ],
          [
           "Gender Stereotypes Differ between Male and Female Writings"
          ],
          [
           "Natural Language Generation: Recently Learned Lessons, Directions for Semantic Representation-based Approaches, and the case of Brazilian Portuguese Language"
          ],
          [
           "Towards Turkish Abstract Meaning Representation"
          ],
          [
           "Predicting the Outcome of Deliberative Democracy: A Research Proposal"
          ],
          [
           "Distributed Knowledge Based Clinical Auto-Coding System"
          ]
         ],
         "hovertemplate": "lab_or_not=notlab<br>x1=%{x}<br>x2=%{y}<br>hover_data_0=%{customdata[0]}<extra></extra>",
         "legendgroup": "notlab",
         "marker": {
          "color": "#636efa",
          "symbol": "circle"
         },
         "mode": "markers",
         "name": "notlab",
         "orientation": "v",
         "showlegend": true,
         "type": "scatter",
         "x": [
          0.13931959867477417,
          0.25976505875587463,
          -0.20035631954669952,
          -0.0539262592792511,
          -0.1572641134262085,
          0.03261921554803848,
          0.2884109914302826,
          -0.17041459679603577,
          -0.14568783342838287,
          0.311727374792099,
          0.396210253238678,
          0.01794394478201866,
          0.1177930012345314,
          0.23750096559524536,
          -0.1299794316291809,
          -0.05224807932972908,
          0.006941802799701691,
          0.037620726972818375,
          -0.23932486772537231,
          0.045232731848955154,
          -0.08450277149677277,
          0.1390577107667923,
          0.020292073488235474,
          -0.08862051367759705,
          0.09310565143823624,
          -0.10795249789953232,
          -0.02114190347492695,
          -0.18120355904102325,
          0.04993480443954468,
          0.642243504524231,
          0.03836024925112724,
          0.13704872131347656,
          0.058831989765167236,
          -0.16578727960586548,
          -0.2347821295261383,
          -0.20066200196743011,
          -0.026277601718902588,
          0.242465540766716,
          0.00795817468315363,
          -0.03861027583479881,
          -0.07213956862688065,
          -0.04701932519674301,
          -0.1370910257101059,
          -0.005648700520396233,
          0.03831283748149872,
          0.1539386510848999,
          -0.13083402812480927,
          -0.18122832477092743,
          0.1799035519361496,
          -0.06145526468753815,
          -0.008766849525272846,
          -0.29828476905822754,
          -0.19726772606372833,
          -0.18954786658287048,
          0.13146854937076569,
          0.23015373945236206,
          -0.05432887002825737,
          0.08092629909515381,
          -0.06676797568798065,
          0.1224207729101181,
          0.0011254327837377787,
          -0.07642360776662827,
          0.040775008499622345,
          -0.17740322649478912,
          0.01452723890542984,
          -0.10831344127655029,
          -0.27658194303512573,
          -0.13751128315925598,
          -0.10416661947965622,
          0.2224392145872116,
          0.010891685262322426,
          -0.35640808939933777,
          -0.3326330780982971,
          -0.0482412651181221,
          -0.004655629862099886,
          -0.06980552524328232,
          -0.06226195767521858,
          0.642243504524231,
          0.15894728899002075,
          0.04357399418950081,
          -0.08048626780509949,
          0.03097742423415184,
          0.006976005621254444,
          0.06528639793395996,
          -0.08544564992189407,
          0.00949125550687313,
          0.05424013361334801,
          -0.1384914070367813,
          -0.001110870623961091,
          0.013410829938948154,
          -0.11983806639909744,
          -0.06269221752882004,
          0.10361781716346741,
          -0.052933745086193085,
          0.1047881618142128,
          0.30613985657691956,
          0.22104115784168243,
          -0.06007475405931473,
          0.21698439121246338,
          -0.0827551782131195,
          0.025440875440835953,
          0.05347389355301857,
          0.02069028466939926,
          -0.004882956854999065,
          -0.1293962001800537,
          0.2827509343624115,
          -0.03083166293799877,
          0.29163601994514465,
          0.14177250862121582,
          0.03457099571824074,
          0.2669646739959717,
          0.12855219841003418,
          -0.29539212584495544,
          0.20230045914649963,
          -0.3634895980358124,
          -0.23883797228336334,
          -0.35906097292900085,
          -0.3331659138202667,
          0.05420020967721939,
          -0.1692039668560028,
          0.15419331192970276,
          -0.29564371705055237,
          -0.23074650764465332,
          -0.06625146418809891,
          -0.10575757920742035,
          -0.13201592862606049,
          -0.28073784708976746,
          0.40890955924987793,
          0.1683960258960724,
          0.0816558226943016,
          -0.06607981771230698,
          0.21386021375656128,
          -0.13415251672267914,
          0.19188550114631653,
          0.2818783223628998,
          -0.12600044906139374,
          0.07246453315019608,
          0.1570628434419632,
          -0.11231628060340881,
          0.3044929802417755,
          -0.1371910125017166,
          0.25058144330978394,
          0.11784293502569199,
          -0.3103111684322357,
          0.007067922968417406,
          -0.05366514250636101,
          0.0968647301197052,
          0.15011487901210785,
          0.23180750012397766,
          0.38232356309890747,
          0.3843149244785309,
          0.10576336085796356,
          0.10317588597536087,
          -0.044530440121889114,
          -0.050686437636613846,
          -0.20743818581104279,
          -0.2205553948879242,
          -0.00524506950750947,
          -0.1761387139558792,
          -0.009947359561920166,
          -0.3721046447753906,
          -0.3141547441482544,
          0.06727207452058792,
          -0.2240450233221054,
          -0.13114246726036072,
          0.3995174467563629,
          0.1517396867275238,
          -0.10294209420681,
          -0.1570238322019577,
          0.03279690816998482,
          -0.09084354341030121,
          0.03294188529253006,
          -0.01860416866838932,
          0.07505529373884201,
          -0.13951697945594788,
          -0.06706809997558594,
          -0.21157974004745483,
          -0.23878639936447144,
          -0.1564972847700119,
          -0.06602557003498077,
          0.04038603976368904,
          -0.35401666164398193,
          -0.13691380620002747,
          -0.08212819695472717,
          -0.2054218053817749,
          -0.061372123658657074,
          -0.10760253667831421,
          -0.15364666283130646,
          -0.02213352918624878,
          -0.12572509050369263,
          -0.16224034130573273,
          -0.1972741335630417,
          -0.3261723518371582,
          0.0072716232389211655,
          -0.3745492398738861,
          -0.3078047037124634,
          0.028992289677262306,
          -0.10279923677444458,
          0.0068704611621797085,
          -0.12532000243663788,
          0.07459134608507156,
          -0.24567635357379913,
          -0.027839329093694687,
          -0.16781078279018402,
          0.1525084227323532,
          0.42008861899375916,
          0.23400640487670898,
          -0.11266139894723892,
          -0.10323505103588104,
          0.3273647129535675,
          -0.33540868759155273,
          0.007557881996035576,
          -0.00816790759563446,
          -0.03151721879839897,
          0.21922573447227478,
          0.09891247004270554,
          0.31314152479171753,
          0.44542187452316284,
          0.3434325158596039,
          0.33647608757019043,
          -0.11046367883682251,
          -0.16239961981773376,
          -0.07440704107284546,
          -0.022741304710507393,
          0.12042482942342758,
          0.026373719796538353,
          -0.008118567988276482,
          -0.06869931519031525,
          -0.04807468503713608,
          -0.0858638733625412,
          0.06867703795433044,
          -0.11404034495353699,
          -0.0021913705859333277,
          -0.12565386295318604,
          -0.10963019728660583,
          -0.08646862953901291,
          -0.045091379433870316,
          -0.14872226119041443,
          -0.1737084984779358,
          0.21068085730075836,
          -0.21438993513584137,
          -0.012629210017621517,
          -0.14792968332767487,
          -0.13707825541496277,
          -0.2447075992822647,
          -0.047179482877254486,
          0.11016368865966797,
          -0.14331857860088348,
          -0.01708226278424263,
          -0.2776665687561035,
          -0.1310863047838211,
          -0.0792165994644165,
          -0.31198856234550476,
          0.0247429721057415,
          -0.2656134068965912,
          0.01143589150160551,
          -0.08043693006038666,
          -0.14920617640018463,
          -0.26270294189453125,
          -0.09981594234704971,
          -0.09759794175624847,
          -0.13092096149921417,
          -0.05926564335823059,
          -0.0183394905179739,
          0.17204177379608154,
          0.212593674659729,
          -0.07583001255989075,
          0.09623809158802032,
          0.642243504524231,
          -0.20265744626522064,
          -0.03381514549255371,
          -0.10821370035409927,
          -0.20811845362186432,
          0.1955414116382599,
          -0.10115831345319748,
          -0.13666832447052002,
          0.01036713644862175,
          -0.03063131496310234,
          0.15061402320861816,
          0.06146086007356644,
          -0.12250908464193344,
          0.004520910792052746,
          0.24597077071666718,
          -0.23529088497161865,
          -0.12471649050712585,
          0.1042579784989357,
          -0.06452982872724533,
          -0.20299147069454193,
          -0.005982575938105583,
          -0.07906319946050644,
          0.08709374815225601,
          -0.005121150519698858,
          0.00810769759118557,
          -0.22609154880046844,
          0.0038531192112714052,
          0.023660091683268547,
          0.02779691107571125,
          0.21070782840251923,
          -0.18675050139427185,
          -0.1279037892818451,
          -0.14935703575611115,
          0.1673951894044876,
          0.23042292892932892,
          0.22798776626586914,
          0.2749456465244293,
          -0.052797745913267136,
          0.023800497874617577,
          0.1866837590932846,
          0.020677566528320312,
          -0.053101882338523865,
          0.013689573854207993,
          0.07201418280601501,
          0.28942176699638367,
          -0.005970687605440617,
          0.03053082339465618,
          0.14929884672164917,
          0.3650096356868744,
          0.18552877008914948,
          0.30965864658355713,
          -0.1412973552942276,
          -0.30082425475120544,
          -0.016709202900528908,
          0.09526227414608002,
          0.03170662000775337,
          0.002382674254477024,
          0.15122072398662567,
          -0.07094081491231918,
          -0.22661054134368896,
          0.23518890142440796,
          0.1810656040906906,
          -0.07159794867038727,
          0.04333370923995972,
          0.4456835091114044,
          0.15375031530857086,
          -0.07056362181901932,
          -0.09808185696601868,
          -0.08885128796100616,
          -0.08185302466154099,
          0.08998972922563553,
          0.0910087302327156,
          -0.15237633883953094,
          -0.12428697943687439,
          0.1679096519947052,
          -0.14555643498897552,
          -0.07911156117916107,
          0.09795324504375458,
          -0.061200954020023346,
          0.18573670089244843,
          -0.18339195847511292,
          0.04416293650865555,
          0.0354061983525753,
          -0.08629829436540604,
          0.13012294471263885,
          0.12206339091062546,
          -0.006015369668602943,
          -0.27687960863113403,
          -0.0776839479804039,
          0.1729515641927719,
          -0.11998400837182999,
          0.04891645163297653,
          0.04631005972623825,
          0.10618358850479126,
          -0.026095472276210785,
          0.13326190412044525,
          0.1532459855079651,
          0.03901650011539459,
          -0.11733296513557434,
          0.06487680971622467,
          0.10567718744277954,
          -0.09842334687709808,
          -0.010852601379156113,
          0.35838961601257324,
          -0.014459384605288506,
          -0.003435238264501095,
          -0.04310403764247894,
          -0.031192857772111893,
          0.04236258566379547,
          0.040311090648174286,
          -0.001383329974487424,
          -0.04213272035121918,
          0.14181771874427795,
          0.30940020084381104,
          0.07132285088300705,
          -0.19212104380130768,
          -0.13950610160827637,
          -0.036892082542181015,
          0.12721367180347443,
          0.642243504524231,
          -0.14054244756698608,
          0.04227454587817192,
          -0.09267087280750275,
          -0.09284088015556335,
          0.08608488738536835,
          0.15747188031673431,
          -0.1986851692199707,
          0.06451146304607391,
          -0.18913187086582184,
          0.16852334141731262,
          0.0349055752158165,
          -0.10128150135278702,
          -0.05937334522604942,
          -0.09450150281190872,
          0.642243504524231,
          -0.11392700672149658,
          0.08085331320762634,
          0.047996535897254944,
          -0.08248960226774216,
          -0.21195213496685028,
          0.09133819490671158,
          -0.34880948066711426,
          -0.1099366694688797,
          0.05462970212101936,
          0.14907218515872955,
          0.2808404862880707,
          0.06352878361940384,
          0.06171777844429016,
          -0.04948722571134567,
          -0.007016067858785391,
          -0.05626837909221649,
          0.05308942496776581,
          0.033789560198783875,
          -0.2917691469192505,
          -0.07573287934064865,
          -0.14911024272441864,
          -0.10204393416643143,
          0.16052201390266418,
          0.28722310066223145,
          -0.3324689567089081,
          0.07963696122169495,
          -0.017058823257684708,
          -0.3890956938266754,
          -0.11266198754310608,
          0.021146371960639954,
          -0.047713227570056915,
          -0.07624100148677826,
          0.07217717170715332,
          0.13355055451393127,
          -0.23399962484836578,
          -0.15807439386844635,
          0.20645426213741302,
          -0.3290506601333618,
          -0.13961836695671082,
          -0.18472641706466675,
          0.08890252560377121,
          -0.11989153176546097,
          -0.2040708214044571,
          -0.015887480229139328,
          -0.09058137238025665,
          -0.09918781369924545,
          -0.13412335515022278,
          0.3808625042438507,
          0.25833767652511597,
          -0.13879209756851196,
          -0.09391244500875473,
          0.07823556661605835,
          -0.09629928320646286,
          -0.0012795933289453387,
          -0.21999484300613403,
          -0.034495510160923004,
          0.02912595309317112,
          -0.2837079167366028,
          0.2692581117153168,
          -0.10795976966619492,
          0.27300357818603516,
          0.20500829815864563,
          0.13687877357006073,
          0.642243504524231,
          0.3203447759151459,
          -0.02021290734410286,
          0.17696310579776764,
          0.5081362724304199,
          0.032691143453121185,
          0.1017623320221901,
          -0.061007920652627945,
          -0.021215755492448807,
          0.25083717703819275,
          -0.2049027532339096,
          0.01779807172715664,
          -0.09014253318309784,
          -0.2963171601295471,
          0.1835526078939438,
          -0.29522237181663513,
          0.20218317210674286,
          -0.2649747133255005,
          -0.2686290442943573,
          -0.1363244354724884,
          -0.25228995084762573,
          -0.22428488731384277,
          0.21687129139900208,
          0.015269747003912926,
          -0.10333516448736191,
          -0.146579772233963,
          0.04324891418218613,
          0.3290366530418396,
          0.19064843654632568,
          -0.10063206404447556,
          0.047101959586143494,
          -0.033576760441064835,
          0.0035286755301058292,
          0.030723463743925095,
          -0.39281296730041504,
          -0.12176571786403656,
          0.20393191277980804,
          -0.16735197603702545,
          -0.15207068622112274,
          -0.09118828922510147,
          0.17650537192821503,
          -0.10965510457754135,
          -0.15211772918701172,
          -0.08833938091993332,
          0.244587242603302,
          -0.06342510879039764,
          0.048380520194768906,
          0.2542100250720978,
          0.01706608384847641,
          -0.020342154428362846,
          -0.12958164513111115,
          -0.2786605656147003,
          -0.31383928656578064,
          0.42991530895233154,
          -0.04798903316259384,
          -0.13428373634815216,
          -0.09986020624637604,
          -0.015911556780338287,
          -0.20936551690101624,
          -0.19801245629787445,
          -0.05825710669159889,
          0.12963208556175232,
          0.002622180851176381,
          -0.30694153904914856,
          0.22594387829303741,
          -0.06358081847429276,
          0.1456494778394699,
          0.03864387422800064,
          -0.0791660025715828,
          0.10225716978311539,
          0.06678624451160431,
          0.01904916949570179,
          -0.11833952367305756,
          -0.06570407748222351,
          -0.2587040662765503,
          -0.17476476728916168,
          0.11756822466850281,
          -0.12157907336950302,
          0.09902071952819824,
          -0.03222724422812462,
          0.033892203122377396,
          -0.2594529986381531,
          -0.013153035193681717,
          -0.15067237615585327,
          -0.3098548948764801,
          -0.37538498640060425,
          -0.005133696366101503,
          -0.29284101724624634,
          -0.11797989159822464,
          0.16458642482757568,
          0.050661876797676086,
          -0.09170763939619064,
          -0.047036539763212204,
          -0.08960707485675812,
          -0.09727770835161209,
          0.37242597341537476,
          0.07867302745580673,
          0.08032995462417603,
          0.04102472960948944,
          -0.13729754090309143,
          0.07274012267589569,
          -0.07461415976285934,
          -0.2053430676460266,
          -0.13741189241409302,
          -0.022747250273823738,
          0.03163551166653633,
          -0.28461745381355286,
          0.003978414926677942,
          -0.009050157852470875,
          -0.016692882403731346,
          0.20889098942279816,
          -0.12535084784030914,
          0.03575082868337631,
          -0.27721086144447327,
          0.1242794543504715,
          0.3975183963775635,
          0.2532249391078949,
          -0.08049257099628448,
          -0.32423657178878784,
          -0.254477322101593,
          0.13776271045207977,
          -0.20928362011909485,
          -0.014007271267473698,
          -0.3306334614753723,
          0.1908283531665802,
          -0.20214933156967163,
          -0.039580345153808594,
          -0.07873021811246872,
          0.0015967641957104206,
          -0.038215383887290955,
          -0.06374143064022064,
          -0.31386232376098633,
          0.026004668325185776,
          -0.024846656247973442,
          0.24699823558330536,
          0.004731439054012299,
          -0.04024927690625191,
          -0.019443338736891747,
          -0.05827814340591431,
          0.17065934836864471,
          0.11903794854879379,
          0.5385993123054504,
          0.13427062332630157,
          -0.005952163133770227,
          -0.19125615060329437,
          0.10740575194358826,
          -0.03562644124031067,
          0.07635129988193512,
          -0.1901799887418747,
          -0.035314206033945084,
          -0.20214185118675232,
          0.05120893195271492,
          -0.11359640955924988,
          0.3025677800178528,
          -0.03875046968460083,
          0.10330125689506531,
          0.08001944422721863,
          -0.22394034266471863,
          0.16811594367027283,
          0.013897166587412357,
          -0.029077112674713135,
          0.1042393147945404,
          0.09729709476232529,
          -0.049989715218544006,
          -0.12791289389133453,
          -0.18156062066555023,
          -0.06617856025695801,
          -0.16602389514446259,
          0.07389280945062637,
          0.03792886063456535,
          -0.039777688682079315,
          -0.08894937485456467,
          -0.047501061111688614,
          0.18974947929382324,
          -0.03946604207158089,
          -0.06954704970121384,
          -0.011545940302312374,
          -0.2980622351169586,
          0.053346890956163406,
          -0.3673325479030609,
          -0.07597363740205765,
          -0.006433809641748667,
          0.1021878719329834,
          0.019304635003209114,
          -0.07018706947565079,
          -0.008643634617328644,
          -0.07651752233505249,
          -0.18493568897247314,
          -0.06520309299230576,
          0.0999496802687645,
          -0.10051264613866806,
          -0.07011997699737549,
          -0.043195027858018875,
          0.07200146466493607,
          -0.1079925075173378,
          -0.2858087122440338,
          0.12230750173330307,
          -0.12906581163406372,
          -0.04866214096546173,
          -0.08964362740516663,
          -0.12071484327316284,
          -0.38151416182518005,
          0.05870019271969795,
          -0.18412482738494873,
          0.12959620356559753,
          0.20514266192913055,
          -0.237985759973526,
          -0.2791351079940796,
          -0.05171709507703781,
          -0.10137657076120377,
          0.02278902381658554,
          0.34533193707466125,
          0.1687675565481186,
          0.1467956006526947,
          -0.10635130107402802,
          -0.2567722201347351,
          -0.01953723654150963,
          -0.05262458696961403,
          0.20090532302856445,
          0.21797853708267212,
          -0.11715390533208847,
          0.14056389033794403,
          0.10730376839637756,
          -0.1353798359632492,
          -0.03826817870140076,
          0.029704097658395767,
          0.013272075913846493,
          -0.0714523047208786,
          0.46579211950302124,
          -0.11742551624774933,
          -0.0528719499707222,
          0.028597231954336166,
          0.02875405177474022,
          -0.31693780422210693,
          -0.13934020698070526,
          0.642243504524231,
          -0.003195596858859062,
          -0.07533622533082962,
          -0.2604309916496277,
          -0.009003187529742718,
          -0.0002225524658570066,
          0.09349881112575531,
          0.039095982909202576,
          -0.02517814375460148,
          0.10003211349248886,
          -0.11835828423500061,
          -0.061622459441423416,
          -0.3394854962825775,
          0.1805514544248581,
          0.07263865321874619,
          0.16251270473003387,
          0.2588965892791748,
          -0.03687768056988716,
          -0.19120505452156067,
          0.20889140665531158,
          0.27588698267936707,
          -0.06487265229225159,
          0.09108030796051025,
          0.2591162621974945,
          -0.11357303708791733,
          -0.14566010236740112,
          -0.17976181209087372,
          -0.09852851182222366,
          -0.026082608848810196,
          -0.1640745848417282,
          0.16698142886161804,
          0.642243504524231,
          0.642243504524231,
          0.474896639585495,
          0.21375590562820435,
          0.642243504524231,
          -0.19805672764778137,
          0.17512446641921997,
          0.2927592098712921,
          0.09719420969486237,
          0.0037599916104227304,
          0.642243504524231,
          0.43865054845809937,
          -0.031562287360429764,
          0.642243504524231,
          -0.190597802400589,
          -0.03535951301455498,
          0.01858590729534626,
          -0.01182189118117094,
          -0.1487899273633957,
          -0.0394204705953598,
          -0.07439056783914566,
          -0.08012363314628601,
          -0.03333846852183342,
          -0.07367759197950363,
          0.015081857331097126,
          0.03010653890669346,
          -0.3124822974205017,
          0.2866269052028656,
          0.18544220924377441,
          0.09958275407552719,
          0.642243504524231,
          0.642243504524231,
          0.642243504524231,
          0.33066341280937195,
          0.10056902468204498,
          0.06381786614656448,
          0.2686217427253723,
          0.1092040166258812
         ],
         "xaxis": "x",
         "y": [
          -0.3322238326072693,
          -0.2522547245025635,
          -0.2767963111400604,
          0.11814650893211365,
          0.012630005367100239,
          -0.24863706529140472,
          0.24552465975284576,
          0.18448008596897125,
          0.08430080860853195,
          -0.17414283752441406,
          -0.08275400102138519,
          -0.1555723398923874,
          -0.19316929578781128,
          0.09368745982646942,
          0.1511581540107727,
          0.02241920679807663,
          0.35992228984832764,
          -0.13675016164779663,
          0.12940707802772522,
          0.2249535769224167,
          0.14277426898479462,
          0.10308361053466797,
          0.15089531242847443,
          -0.136689692735672,
          -0.0397261343896389,
          0.004889908712357283,
          -0.059790726751089096,
          0.08991216868162155,
          0.06960887461900711,
          0.005308290012180805,
          -0.2870570719242096,
          0.1381775140762329,
          -0.010928848758339882,
          0.18845278024673462,
          -0.21838979423046112,
          -0.03243974596261978,
          0.27900657057762146,
          -0.20497259497642517,
          0.06520053744316101,
          0.03814157471060753,
          0.3723438084125519,
          -0.03412031754851341,
          -0.0824795737862587,
          -0.004584853071719408,
          0.06457619369029999,
          0.07300687581300735,
          0.031056517735123634,
          0.04196871444582939,
          0.1551731675863266,
          -0.18190594017505646,
          -0.18646596372127533,
          0.03264789283275604,
          -0.12908777594566345,
          0.10265640169382095,
          0.4080946445465088,
          0.4741811454296112,
          0.23464229702949524,
          0.0490819551050663,
          0.03468410670757294,
          -0.1398717761039734,
          -0.17961381375789642,
          -0.05858893692493439,
          -0.06624439358711243,
          -0.05699998512864113,
          -0.028960052877664566,
          -0.14820364117622375,
          -0.08347959816455841,
          0.06504462659358978,
          0.15217140316963196,
          0.3847312331199646,
          0.4737897217273712,
          -0.0196660365909338,
          -0.2521950900554657,
          -0.04998799413442612,
          -0.014289787039160728,
          -0.1686200648546219,
          -0.026954015716910362,
          0.005308290012180805,
          0.3619508743286133,
          0.3322063982486725,
          -0.12920717895030975,
          0.06589201092720032,
          -0.10228374600410461,
          -0.09257523715496063,
          -0.16808466613292694,
          -0.11406389623880386,
          0.029941080138087273,
          -0.044244349002838135,
          -0.08633982390165329,
          -0.16935449838638306,
          0.3182758390903473,
          0.2276311218738556,
          -0.05904984474182129,
          -0.13436980545520782,
          -0.3133736550807953,
          -0.01191949937492609,
          0.09773579239845276,
          0.05582382157444954,
          -0.05638779327273369,
          0.23660242557525635,
          -0.13152474164962769,
          0.37734249234199524,
          0.22923651337623596,
          0.026034504175186157,
          -0.19220450520515442,
          -0.028156617656350136,
          0.12771785259246826,
          0.16479374468326569,
          0.09475917369127274,
          -0.24370762705802917,
          -0.17529644072055817,
          0.16821755468845367,
          -0.32418879866600037,
          0.07844863086938858,
          -0.3253011405467987,
          -0.007472105789929628,
          -0.03126813471317291,
          0.027091166004538536,
          0.07493448257446289,
          -0.22634850442409515,
          -0.08200410008430481,
          0.06577938795089722,
          -0.24537532031536102,
          0.2581499218940735,
          -0.18063220381736755,
          0.05524054914712906,
          -0.047261711210012436,
          -0.036349255591630936,
          -0.09245240688323975,
          0.2922012209892273,
          0.24998661875724792,
          -0.020502369850873947,
          -0.07506626844406128,
          -0.18866685032844543,
          -0.1936827450990677,
          0.10127056390047073,
          0.0459771454334259,
          0.33469656109809875,
          0.052560463547706604,
          -0.017811238765716553,
          0.19157111644744873,
          0.38257884979248047,
          -0.06461278349161148,
          -0.11236898601055145,
          -0.17987415194511414,
          0.31330493092536926,
          -0.24376261234283447,
          -0.10088371485471725,
          -0.3732722997665405,
          -0.13107581436634064,
          -0.21912628412246704,
          -0.11344712972640991,
          0.26850342750549316,
          -0.23681354522705078,
          -0.04716162383556366,
          -0.4052811563014984,
          -0.3171767592430115,
          -0.11222009360790253,
          -0.3051214814186096,
          -0.1563839316368103,
          -0.04592527821660042,
          -0.028503568843007088,
          0.17632721364498138,
          -0.051877159625291824,
          0.09375517815351486,
          0.10409644991159439,
          -0.19253091514110565,
          0.0017606132896617055,
          -0.10872429609298706,
          -0.15151932835578918,
          0.017883120104670525,
          0.28071579337120056,
          -0.12044703215360641,
          0.12127872556447983,
          0.13377445936203003,
          -0.008716818876564503,
          -0.16176486015319824,
          0.21580058336257935,
          0.054404117166996,
          -0.15139590203762054,
          -0.2400517612695694,
          0.029848789796233177,
          0.4004679024219513,
          0.3631978929042816,
          0.015470032580196857,
          0.06561854481697083,
          -0.09812873601913452,
          0.018322713673114777,
          0.10326109826564789,
          0.0023785370867699385,
          0.20563457906246185,
          0.023395398631691933,
          0.057768646627664566,
          -0.1180758848786354,
          -0.12531115114688873,
          0.1591707319021225,
          -0.030483093112707138,
          0.004979897756129503,
          -0.29763421416282654,
          0.2669043242931366,
          -0.1676366925239563,
          0.08074536919593811,
          -0.031586650758981705,
          0.26561596989631653,
          -0.07024063169956207,
          -0.12905582785606384,
          0.017160268500447273,
          -0.031246546655893326,
          0.05718269199132919,
          -0.2800068259239197,
          0.1029384434223175,
          -0.04706956446170807,
          -0.04020657390356064,
          0.3059103488922119,
          0.21397113800048828,
          0.19689840078353882,
          -0.36408117413520813,
          -0.023480895906686783,
          -0.13322021067142487,
          0.00853018369525671,
          -0.1038280576467514,
          0.12782332301139832,
          -0.12316378206014633,
          0.006276262924075127,
          -0.07130448520183563,
          -0.2653330862522125,
          0.2016916424036026,
          -0.10290456563234329,
          0.18598008155822754,
          -0.18136653304100037,
          0.4044899046421051,
          0.23071956634521484,
          0.3598116934299469,
          0.18930979073047638,
          0.040335338562726974,
          0.3474065661430359,
          -0.1271955966949463,
          0.024747492745518684,
          0.10726223886013031,
          0.09111115336418152,
          0.22993457317352295,
          0.10398328304290771,
          -0.19926753640174866,
          -0.048716336488723755,
          0.12435200065374374,
          0.0713471844792366,
          -0.015189943835139275,
          0.04918549954891205,
          0.10782786458730698,
          -0.015955347567796707,
          -0.08100041002035141,
          -0.03020995482802391,
          -0.09197583049535751,
          -0.2838136553764343,
          0.004156085196882486,
          -0.13517311215400696,
          0.06729920953512192,
          -0.14314314723014832,
          -0.3659970462322235,
          -0.018872065469622612,
          -0.1327839344739914,
          0.1421167254447937,
          -0.14839504659175873,
          0.039619483053684235,
          -0.0701707974076271,
          0.06383989751338959,
          0.0716058686375618,
          -0.08531160652637482,
          0.005308290012180805,
          -0.02607124112546444,
          0.41283318400382996,
          0.06462247669696808,
          0.07548969238996506,
          0.40427786111831665,
          -0.374716192483902,
          0.27892449498176575,
          0.18758559226989746,
          0.2146177738904953,
          0.11167147755622864,
          0.44523799419403076,
          0.0033051499631255865,
          -0.11428883671760559,
          -0.20672056078910828,
          0.01299414411187172,
          -0.09306123852729797,
          0.13903170824050903,
          -0.11899872869253159,
          -0.009730578400194645,
          -0.19408418238162994,
          -0.41760796308517456,
          -0.3392665982246399,
          -0.16366474330425262,
          0.3140714466571808,
          0.01468504685908556,
          0.011223060078918934,
          0.06009794399142265,
          0.07316093891859055,
          -0.03672904148697853,
          -0.2788703739643097,
          -0.22775505483150482,
          0.06870884448289871,
          -0.07826477289199829,
          -0.2135760337114334,
          -0.1666029691696167,
          0.11356395483016968,
          -0.11644959449768066,
          -0.04958826303482056,
          -0.09261929243803024,
          0.2004805952310562,
          0.00041428414988331497,
          0.033203162252902985,
          0.13586418330669403,
          -0.13373076915740967,
          -0.14206309616565704,
          0.2494170218706131,
          -0.052725356072187424,
          -0.1569524109363556,
          -0.06553105264902115,
          -0.1726376861333847,
          -0.03504902496933937,
          0.04824278503656387,
          0.26132649183273315,
          -0.4077177345752716,
          0.014641685411334038,
          -0.13799649477005005,
          -0.14187897741794586,
          0.07412315160036087,
          -0.15108756721019745,
          0.17670145630836487,
          0.13661052286624908,
          -0.054819505661726,
          0.028539078310132027,
          0.09715308994054794,
          0.12734760344028473,
          0.07707281410694122,
          0.19698761403560638,
          0.104989193379879,
          0.1586235612630844,
          0.19414514303207397,
          0.17214922606945038,
          -0.14936614036560059,
          0.3372683823108673,
          0.05657244846224785,
          0.14663508534431458,
          -0.26142221689224243,
          0.2541196942329407,
          0.1034889817237854,
          0.014319844543933868,
          0.00007078921044012532,
          0.20157508552074432,
          0.13667719066143036,
          0.04819735512137413,
          0.048848602920770645,
          -0.22556433081626892,
          -0.050350528210401535,
          -0.1662898063659668,
          -0.044363271445035934,
          0.07854828238487244,
          -0.19565449655056,
          -0.07626738399267197,
          -0.23495367169380188,
          -0.05235319212079048,
          0.2249060720205307,
          0.04225345700979233,
          -0.010900728404521942,
          0.4911705255508423,
          -0.10096524655818939,
          -0.13534866273403168,
          -0.08288466185331345,
          -0.11182654649019241,
          -0.10589499026536942,
          -0.004210977349430323,
          0.038485828787088394,
          0.133051335811615,
          0.3014659881591797,
          -0.24586288630962372,
          0.0757402628660202,
          0.32968640327453613,
          0.17040002346038818,
          -0.029216434806585312,
          -0.0003553466231096536,
          0.07378587871789932,
          -0.0012593831634148955,
          0.0005843109101988375,
          0.10874190181493759,
          0.23753394186496735,
          -0.10700057446956635,
          0.005308290012180805,
          0.2802305519580841,
          0.16253125667572021,
          -0.26059475541114807,
          0.17637474834918976,
          -0.07594053447246552,
          -0.19443711638450623,
          0.2526107430458069,
          0.28673216700553894,
          0.24591240286827087,
          0.35248756408691406,
          -0.2740609645843506,
          -0.021398695185780525,
          -0.25319981575012207,
          0.029580911621451378,
          0.005308290012180805,
          0.23316991329193115,
          -0.020391089841723442,
          0.05092809349298477,
          0.10119922459125519,
          0.02870183438062668,
          0.20411419868469238,
          -0.05140349268913269,
          -0.045748282223939896,
          0.06743820756673813,
          -0.19474393129348755,
          -0.21835939586162567,
          0.21385718882083893,
          -0.12085691094398499,
          -0.050042856484651566,
          0.12674155831336975,
          -0.022560304030776024,
          0.1405550241470337,
          -0.07318800687789917,
          0.16931474208831787,
          0.1168777123093605,
          -0.04240129142999649,
          -0.0857997015118599,
          0.08887220174074173,
          -0.05461597815155983,
          -0.03159208223223686,
          -0.2835870087146759,
          -0.34256261587142944,
          0.007603323552757502,
          -0.01693151146173477,
          0.1274949461221695,
          -0.01706521213054657,
          -0.0032471315935254097,
          -0.20248450338840485,
          0.18675433099269867,
          0.03201465681195259,
          0.030597146600484848,
          0.06738676130771637,
          -0.03375323489308357,
          0.11361473053693771,
          -0.06159041449427605,
          0.012702434323728085,
          0.091514453291893,
          0.21737787127494812,
          0.2539186477661133,
          0.19258110225200653,
          -0.08284789323806763,
          0.011746902950108051,
          0.05000194534659386,
          0.3000226616859436,
          -0.04796438664197922,
          0.35543766617774963,
          -0.27431824803352356,
          -0.1776202768087387,
          -0.17629888653755188,
          -0.10463453829288483,
          0.011701542884111404,
          0.20272403955459595,
          -0.11696267127990723,
          0.04890713095664978,
          0.1002657487988472,
          -0.13181525468826294,
          0.4783296585083008,
          0.11869213730096817,
          0.005308290012180805,
          -0.0505024790763855,
          0.2764093279838562,
          -0.0283611211925745,
          -0.044119883328676224,
          0.30390870571136475,
          0.025501325726509094,
          -0.28938743472099304,
          0.26644229888916016,
          0.01528791431337595,
          0.08052799850702286,
          0.37753763794898987,
          0.2665427029132843,
          -0.009283521212637424,
          -0.029436612501740456,
          0.01723468117415905,
          -0.21091271936893463,
          -0.1026754304766655,
          0.05671795457601547,
          0.0719277486205101,
          -0.029910322278738022,
          0.021360935643315315,
          -0.21792346239089966,
          0.19944535195827484,
          0.053444769233465195,
          0.015987085178494453,
          0.012464665807783604,
          0.20870643854141235,
          -0.1789594143629074,
          -0.18691907823085785,
          -0.13369348645210266,
          0.1295502632856369,
          0.11653532087802887,
          -0.13420461118221283,
          -0.19776801764965057,
          0.004754796624183655,
          -0.2155366986989975,
          0.12501497566699982,
          -0.019142262637615204,
          0.024830754846334457,
          0.06894290447235107,
          0.03430980443954468,
          -0.16304126381874084,
          -0.05089765042066574,
          -0.013869663700461388,
          0.0026502157561481,
          0.06194952502846718,
          0.1298948973417282,
          -0.215241938829422,
          -0.11255398392677307,
          -0.30897456407546997,
          -0.22995242476463318,
          -0.2571622133255005,
          -0.10387397557497025,
          -0.024683848023414612,
          -0.07388219237327576,
          0.16044259071350098,
          0.17183221876621246,
          -0.1895243525505066,
          -0.09668061137199402,
          -0.020290350541472435,
          0.31730419397354126,
          0.2717125415802002,
          -0.1732134222984314,
          -0.2482244074344635,
          -0.18319115042686462,
          0.005893407855182886,
          0.045611944049596786,
          0.100802481174469,
          0.5152219533920288,
          0.09995238482952118,
          0.15184365212917328,
          0.0505075566470623,
          0.07396586239337921,
          0.05215049907565117,
          0.0760667473077774,
          0.0836934819817543,
          0.07827304303646088,
          0.10096755623817444,
          -0.03524952381849289,
          -0.15175381302833557,
          0.11773137748241425,
          -0.024489128962159157,
          0.1699039340019226,
          -0.084336057305336,
          -0.11148487031459808,
          0.01615624874830246,
          -0.06954469531774521,
          -0.04541998356580734,
          -0.03987691551446915,
          0.10050690919160843,
          0.02588331513106823,
          -0.11908891052007675,
          -0.03119784966111183,
          0.012031578458845615,
          0.029359592124819756,
          -0.3549906313419342,
          -0.006258878391236067,
          -0.20674942433834076,
          -0.12292277067899704,
          -0.11747787147760391,
          0.012711205519735813,
          0.27237120270729065,
          0.005911772605031729,
          -0.13952888548374176,
          -0.20955011248588562,
          0.142435684800148,
          -0.06541837006807327,
          0.23682868480682373,
          0.463098406791687,
          -0.0322657972574234,
          -0.210071861743927,
          0.32053542137145996,
          0.12117884308099747,
          -0.0652313306927681,
          -0.2025718092918396,
          0.024023253470659256,
          -0.12581996619701385,
          0.0531894788146019,
          0.01213880442082882,
          0.21061092615127563,
          0.09300271421670914,
          -0.13594575226306915,
          -0.1587865799665451,
          0.008634455502033234,
          -0.33937788009643555,
          -0.22797891497612,
          -0.17996220290660858,
          0.0028780505526810884,
          -0.2536790370941162,
          -0.07736793905496597,
          0.06672467291355133,
          0.006499393377453089,
          -0.24095499515533447,
          -0.22239059209823608,
          0.08679981529712677,
          -0.10639316588640213,
          0.19535401463508606,
          0.22241564095020294,
          -0.08597313612699509,
          -0.2934289276599884,
          -0.11451519280672073,
          -0.1600153148174286,
          -0.13566087186336517,
          -0.3417954742908478,
          0.3265727460384369,
          -0.18701012432575226,
          -0.22086723148822784,
          0.17994853854179382,
          0.03625364974141121,
          0.30198049545288086,
          -0.04255932942032814,
          -0.11733285337686539,
          -0.06039254367351532,
          0.048451051115989685,
          0.34616658091545105,
          0.42528098821640015,
          0.03749970346689224,
          -0.14154571294784546,
          -0.13271397352218628,
          0.3059522807598114,
          0.3425281047821045,
          0.3058016002178192,
          0.11913066357374191,
          0.05889710411429405,
          0.20259341597557068,
          0.2321169227361679,
          0.027518702670931816,
          -0.2675986886024475,
          -0.018943173810839653,
          -0.08872697502374649,
          0.1720517873764038,
          0.3365362882614136,
          -0.11568471044301987,
          0.09522531181573868,
          0.41524091362953186,
          0.11625122278928757,
          -0.09463238716125488,
          0.22114667296409607,
          -0.007306092884391546,
          0.19126766920089722,
          0.30218324065208435,
          -0.21866802871227264,
          -0.020623307675123215,
          0.13022381067276,
          -0.04551786929368973,
          -0.2516632080078125,
          -0.03587635979056358,
          -0.193869948387146,
          0.04212556034326553,
          -0.16275174915790558,
          -0.14507471024990082,
          -0.35823285579681396,
          -0.33488214015960693,
          0.012550001963973045,
          -0.13072241842746735,
          -0.14501196146011353,
          -0.13063226640224457,
          -0.08296514302492142,
          -0.2206587791442871,
          -0.04916199669241905,
          0.018347809091210365,
          0.012706172652542591,
          -0.08542907238006592,
          -0.09119608998298645,
          -0.2513202130794525,
          -0.07039175927639008,
          0.03916459158062935,
          -0.13525860011577606,
          0.02802952751517296,
          0.14553667604923248,
          -0.07420377433300018,
          0.11629505455493927,
          -0.3284358084201813,
          -0.32972535490989685,
          0.019956612959504128,
          -0.28099343180656433,
          -0.052810121327638626,
          -0.026256980374455452,
          0.23302283883094788,
          -0.20156238973140717,
          0.07435797899961472,
          -0.0934954285621643,
          -0.2623090445995331,
          0.05264291539788246,
          0.1789151281118393,
          -0.290426105260849,
          0.3615112006664276,
          0.06187838315963745,
          -0.036435652524232864,
          -0.30349498987197876,
          -0.11045719683170319,
          0.0032077135983854532,
          -0.060421139001846313,
          -0.25770103931427,
          0.005308290012180805,
          -0.17412538826465607,
          0.09955765306949615,
          -0.35457590222358704,
          0.2739763557910919,
          -0.03137548267841339,
          0.08253877609968185,
          0.2988285720348358,
          -0.0001952036691363901,
          -0.23747190833091736,
          -0.23154956102371216,
          0.08897361904382706,
          -0.16778749227523804,
          -0.11062799394130707,
          0.12787173688411713,
          0.08238837867975235,
          -0.10022304207086563,
          -0.1940716803073883,
          0.11751565337181091,
          0.43151673674583435,
          0.14690251648426056,
          0.35155370831489563,
          -0.1364402323961258,
          -0.0726534053683281,
          -0.05536495894193649,
          0.15604178607463837,
          0.18213093280792236,
          -0.015357292257249355,
          0.01668977178633213,
          0.06282568722963333,
          -0.19214409589767456,
          0.005308290012180805,
          0.005308290012180805,
          -0.10144482553005219,
          -0.16332054138183594,
          0.005308290012180805,
          -0.23057235777378082,
          -0.09162315726280212,
          -0.27828776836395264,
          -0.11442311108112335,
          0.030924109742045403,
          0.005308290012180805,
          0.05039321631193161,
          0.003224297659471631,
          0.005308290012180805,
          -0.038652438670396805,
          0.26561349630355835,
          -0.21682173013687134,
          -0.22583447396755219,
          -0.12969158589839935,
          -0.1071438118815422,
          -0.08552046120166779,
          -0.0970437303185463,
          -0.11366520076990128,
          -0.07660292834043503,
          0.10121095925569534,
          -0.23499266803264618,
          0.09987524151802063,
          -0.26053765416145325,
          -0.23228026926517487,
          -0.26521748304367065,
          0.005308290012180805,
          0.005308290012180805,
          0.005308290012180805,
          -0.2738819122314453,
          0.0375232957303524,
          -0.12464740872383118,
          0.004009067080914974,
          -0.10314047336578369
         ],
         "yaxis": "y"
        },
        {
         "customdata": [
          [
           "An Empirical Study of Span Representations in Argumentation Structure Parsing"
          ]
         ],
         "hovertemplate": "lab_or_not=inuilab<br>x1=%{x}<br>x2=%{y}<br>hover_data_0=%{customdata[0]}<extra></extra>",
         "legendgroup": "inuilab",
         "marker": {
          "color": "#EF553B",
          "symbol": "circle"
         },
         "mode": "markers",
         "name": "inuilab",
         "orientation": "v",
         "showlegend": true,
         "type": "scatter",
         "x": [
          0.0699947327375412
         ],
         "xaxis": "x",
         "y": [
          0.010502297431230545
         ],
         "yaxis": "y"
        }
       ],
       "layout": {
        "legend": {
         "title": {
          "text": "lab_or_not"
         },
         "tracegroupgap": 0
        },
        "margin": {
         "t": 60
        },
        "template": {
         "data": {
          "bar": [
           {
            "error_x": {
             "color": "#2a3f5f"
            },
            "error_y": {
             "color": "#2a3f5f"
            },
            "marker": {
             "line": {
              "color": "#E5ECF6",
              "width": 0.5
             },
             "pattern": {
              "fillmode": "overlay",
              "size": 10,
              "solidity": 0.2
             }
            },
            "type": "bar"
           }
          ],
          "barpolar": [
           {
            "marker": {
             "line": {
              "color": "#E5ECF6",
              "width": 0.5
             },
             "pattern": {
              "fillmode": "overlay",
              "size": 10,
              "solidity": 0.2
             }
            },
            "type": "barpolar"
           }
          ],
          "carpet": [
           {
            "aaxis": {
             "endlinecolor": "#2a3f5f",
             "gridcolor": "white",
             "linecolor": "white",
             "minorgridcolor": "white",
             "startlinecolor": "#2a3f5f"
            },
            "baxis": {
             "endlinecolor": "#2a3f5f",
             "gridcolor": "white",
             "linecolor": "white",
             "minorgridcolor": "white",
             "startlinecolor": "#2a3f5f"
            },
            "type": "carpet"
           }
          ],
          "choropleth": [
           {
            "colorbar": {
             "outlinewidth": 0,
             "ticks": ""
            },
            "type": "choropleth"
           }
          ],
          "contour": [
           {
            "colorbar": {
             "outlinewidth": 0,
             "ticks": ""
            },
            "colorscale": [
             [
              0,
              "#0d0887"
             ],
             [
              0.1111111111111111,
              "#46039f"
             ],
             [
              0.2222222222222222,
              "#7201a8"
             ],
             [
              0.3333333333333333,
              "#9c179e"
             ],
             [
              0.4444444444444444,
              "#bd3786"
             ],
             [
              0.5555555555555556,
              "#d8576b"
             ],
             [
              0.6666666666666666,
              "#ed7953"
             ],
             [
              0.7777777777777778,
              "#fb9f3a"
             ],
             [
              0.8888888888888888,
              "#fdca26"
             ],
             [
              1,
              "#f0f921"
             ]
            ],
            "type": "contour"
           }
          ],
          "contourcarpet": [
           {
            "colorbar": {
             "outlinewidth": 0,
             "ticks": ""
            },
            "type": "contourcarpet"
           }
          ],
          "heatmap": [
           {
            "colorbar": {
             "outlinewidth": 0,
             "ticks": ""
            },
            "colorscale": [
             [
              0,
              "#0d0887"
             ],
             [
              0.1111111111111111,
              "#46039f"
             ],
             [
              0.2222222222222222,
              "#7201a8"
             ],
             [
              0.3333333333333333,
              "#9c179e"
             ],
             [
              0.4444444444444444,
              "#bd3786"
             ],
             [
              0.5555555555555556,
              "#d8576b"
             ],
             [
              0.6666666666666666,
              "#ed7953"
             ],
             [
              0.7777777777777778,
              "#fb9f3a"
             ],
             [
              0.8888888888888888,
              "#fdca26"
             ],
             [
              1,
              "#f0f921"
             ]
            ],
            "type": "heatmap"
           }
          ],
          "heatmapgl": [
           {
            "colorbar": {
             "outlinewidth": 0,
             "ticks": ""
            },
            "colorscale": [
             [
              0,
              "#0d0887"
             ],
             [
              0.1111111111111111,
              "#46039f"
             ],
             [
              0.2222222222222222,
              "#7201a8"
             ],
             [
              0.3333333333333333,
              "#9c179e"
             ],
             [
              0.4444444444444444,
              "#bd3786"
             ],
             [
              0.5555555555555556,
              "#d8576b"
             ],
             [
              0.6666666666666666,
              "#ed7953"
             ],
             [
              0.7777777777777778,
              "#fb9f3a"
             ],
             [
              0.8888888888888888,
              "#fdca26"
             ],
             [
              1,
              "#f0f921"
             ]
            ],
            "type": "heatmapgl"
           }
          ],
          "histogram": [
           {
            "marker": {
             "pattern": {
              "fillmode": "overlay",
              "size": 10,
              "solidity": 0.2
             }
            },
            "type": "histogram"
           }
          ],
          "histogram2d": [
           {
            "colorbar": {
             "outlinewidth": 0,
             "ticks": ""
            },
            "colorscale": [
             [
              0,
              "#0d0887"
             ],
             [
              0.1111111111111111,
              "#46039f"
             ],
             [
              0.2222222222222222,
              "#7201a8"
             ],
             [
              0.3333333333333333,
              "#9c179e"
             ],
             [
              0.4444444444444444,
              "#bd3786"
             ],
             [
              0.5555555555555556,
              "#d8576b"
             ],
             [
              0.6666666666666666,
              "#ed7953"
             ],
             [
              0.7777777777777778,
              "#fb9f3a"
             ],
             [
              0.8888888888888888,
              "#fdca26"
             ],
             [
              1,
              "#f0f921"
             ]
            ],
            "type": "histogram2d"
           }
          ],
          "histogram2dcontour": [
           {
            "colorbar": {
             "outlinewidth": 0,
             "ticks": ""
            },
            "colorscale": [
             [
              0,
              "#0d0887"
             ],
             [
              0.1111111111111111,
              "#46039f"
             ],
             [
              0.2222222222222222,
              "#7201a8"
             ],
             [
              0.3333333333333333,
              "#9c179e"
             ],
             [
              0.4444444444444444,
              "#bd3786"
             ],
             [
              0.5555555555555556,
              "#d8576b"
             ],
             [
              0.6666666666666666,
              "#ed7953"
             ],
             [
              0.7777777777777778,
              "#fb9f3a"
             ],
             [
              0.8888888888888888,
              "#fdca26"
             ],
             [
              1,
              "#f0f921"
             ]
            ],
            "type": "histogram2dcontour"
           }
          ],
          "mesh3d": [
           {
            "colorbar": {
             "outlinewidth": 0,
             "ticks": ""
            },
            "type": "mesh3d"
           }
          ],
          "parcoords": [
           {
            "line": {
             "colorbar": {
              "outlinewidth": 0,
              "ticks": ""
             }
            },
            "type": "parcoords"
           }
          ],
          "pie": [
           {
            "automargin": true,
            "type": "pie"
           }
          ],
          "scatter": [
           {
            "fillpattern": {
             "fillmode": "overlay",
             "size": 10,
             "solidity": 0.2
            },
            "type": "scatter"
           }
          ],
          "scatter3d": [
           {
            "line": {
             "colorbar": {
              "outlinewidth": 0,
              "ticks": ""
             }
            },
            "marker": {
             "colorbar": {
              "outlinewidth": 0,
              "ticks": ""
             }
            },
            "type": "scatter3d"
           }
          ],
          "scattercarpet": [
           {
            "marker": {
             "colorbar": {
              "outlinewidth": 0,
              "ticks": ""
             }
            },
            "type": "scattercarpet"
           }
          ],
          "scattergeo": [
           {
            "marker": {
             "colorbar": {
              "outlinewidth": 0,
              "ticks": ""
             }
            },
            "type": "scattergeo"
           }
          ],
          "scattergl": [
           {
            "marker": {
             "colorbar": {
              "outlinewidth": 0,
              "ticks": ""
             }
            },
            "type": "scattergl"
           }
          ],
          "scattermapbox": [
           {
            "marker": {
             "colorbar": {
              "outlinewidth": 0,
              "ticks": ""
             }
            },
            "type": "scattermapbox"
           }
          ],
          "scatterpolar": [
           {
            "marker": {
             "colorbar": {
              "outlinewidth": 0,
              "ticks": ""
             }
            },
            "type": "scatterpolar"
           }
          ],
          "scatterpolargl": [
           {
            "marker": {
             "colorbar": {
              "outlinewidth": 0,
              "ticks": ""
             }
            },
            "type": "scatterpolargl"
           }
          ],
          "scatterternary": [
           {
            "marker": {
             "colorbar": {
              "outlinewidth": 0,
              "ticks": ""
             }
            },
            "type": "scatterternary"
           }
          ],
          "surface": [
           {
            "colorbar": {
             "outlinewidth": 0,
             "ticks": ""
            },
            "colorscale": [
             [
              0,
              "#0d0887"
             ],
             [
              0.1111111111111111,
              "#46039f"
             ],
             [
              0.2222222222222222,
              "#7201a8"
             ],
             [
              0.3333333333333333,
              "#9c179e"
             ],
             [
              0.4444444444444444,
              "#bd3786"
             ],
             [
              0.5555555555555556,
              "#d8576b"
             ],
             [
              0.6666666666666666,
              "#ed7953"
             ],
             [
              0.7777777777777778,
              "#fb9f3a"
             ],
             [
              0.8888888888888888,
              "#fdca26"
             ],
             [
              1,
              "#f0f921"
             ]
            ],
            "type": "surface"
           }
          ],
          "table": [
           {
            "cells": {
             "fill": {
              "color": "#EBF0F8"
             },
             "line": {
              "color": "white"
             }
            },
            "header": {
             "fill": {
              "color": "#C8D4E3"
             },
             "line": {
              "color": "white"
             }
            },
            "type": "table"
           }
          ]
         },
         "layout": {
          "annotationdefaults": {
           "arrowcolor": "#2a3f5f",
           "arrowhead": 0,
           "arrowwidth": 1
          },
          "autotypenumbers": "strict",
          "coloraxis": {
           "colorbar": {
            "outlinewidth": 0,
            "ticks": ""
           }
          },
          "colorscale": {
           "diverging": [
            [
             0,
             "#8e0152"
            ],
            [
             0.1,
             "#c51b7d"
            ],
            [
             0.2,
             "#de77ae"
            ],
            [
             0.3,
             "#f1b6da"
            ],
            [
             0.4,
             "#fde0ef"
            ],
            [
             0.5,
             "#f7f7f7"
            ],
            [
             0.6,
             "#e6f5d0"
            ],
            [
             0.7,
             "#b8e186"
            ],
            [
             0.8,
             "#7fbc41"
            ],
            [
             0.9,
             "#4d9221"
            ],
            [
             1,
             "#276419"
            ]
           ],
           "sequential": [
            [
             0,
             "#0d0887"
            ],
            [
             0.1111111111111111,
             "#46039f"
            ],
            [
             0.2222222222222222,
             "#7201a8"
            ],
            [
             0.3333333333333333,
             "#9c179e"
            ],
            [
             0.4444444444444444,
             "#bd3786"
            ],
            [
             0.5555555555555556,
             "#d8576b"
            ],
            [
             0.6666666666666666,
             "#ed7953"
            ],
            [
             0.7777777777777778,
             "#fb9f3a"
            ],
            [
             0.8888888888888888,
             "#fdca26"
            ],
            [
             1,
             "#f0f921"
            ]
           ],
           "sequentialminus": [
            [
             0,
             "#0d0887"
            ],
            [
             0.1111111111111111,
             "#46039f"
            ],
            [
             0.2222222222222222,
             "#7201a8"
            ],
            [
             0.3333333333333333,
             "#9c179e"
            ],
            [
             0.4444444444444444,
             "#bd3786"
            ],
            [
             0.5555555555555556,
             "#d8576b"
            ],
            [
             0.6666666666666666,
             "#ed7953"
            ],
            [
             0.7777777777777778,
             "#fb9f3a"
            ],
            [
             0.8888888888888888,
             "#fdca26"
            ],
            [
             1,
             "#f0f921"
            ]
           ]
          },
          "colorway": [
           "#636efa",
           "#EF553B",
           "#00cc96",
           "#ab63fa",
           "#FFA15A",
           "#19d3f3",
           "#FF6692",
           "#B6E880",
           "#FF97FF",
           "#FECB52"
          ],
          "font": {
           "color": "#2a3f5f"
          },
          "geo": {
           "bgcolor": "white",
           "lakecolor": "white",
           "landcolor": "#E5ECF6",
           "showlakes": true,
           "showland": true,
           "subunitcolor": "white"
          },
          "hoverlabel": {
           "align": "left"
          },
          "hovermode": "closest",
          "mapbox": {
           "style": "light"
          },
          "paper_bgcolor": "white",
          "plot_bgcolor": "#E5ECF6",
          "polar": {
           "angularaxis": {
            "gridcolor": "white",
            "linecolor": "white",
            "ticks": ""
           },
           "bgcolor": "#E5ECF6",
           "radialaxis": {
            "gridcolor": "white",
            "linecolor": "white",
            "ticks": ""
           }
          },
          "scene": {
           "xaxis": {
            "backgroundcolor": "#E5ECF6",
            "gridcolor": "white",
            "gridwidth": 2,
            "linecolor": "white",
            "showbackground": true,
            "ticks": "",
            "zerolinecolor": "white"
           },
           "yaxis": {
            "backgroundcolor": "#E5ECF6",
            "gridcolor": "white",
            "gridwidth": 2,
            "linecolor": "white",
            "showbackground": true,
            "ticks": "",
            "zerolinecolor": "white"
           },
           "zaxis": {
            "backgroundcolor": "#E5ECF6",
            "gridcolor": "white",
            "gridwidth": 2,
            "linecolor": "white",
            "showbackground": true,
            "ticks": "",
            "zerolinecolor": "white"
           }
          },
          "shapedefaults": {
           "line": {
            "color": "#2a3f5f"
           }
          },
          "ternary": {
           "aaxis": {
            "gridcolor": "white",
            "linecolor": "white",
            "ticks": ""
           },
           "baxis": {
            "gridcolor": "white",
            "linecolor": "white",
            "ticks": ""
           },
           "bgcolor": "#E5ECF6",
           "caxis": {
            "gridcolor": "white",
            "linecolor": "white",
            "ticks": ""
           }
          },
          "title": {
           "x": 0.05
          },
          "xaxis": {
           "automargin": true,
           "gridcolor": "white",
           "linecolor": "white",
           "ticks": "",
           "title": {
            "standoff": 15
           },
           "zerolinecolor": "white",
           "zerolinewidth": 2
          },
          "yaxis": {
           "automargin": true,
           "gridcolor": "white",
           "linecolor": "white",
           "ticks": "",
           "title": {
            "standoff": 15
           },
           "zerolinecolor": "white",
           "zerolinewidth": 2
          }
         }
        },
        "xaxis": {
         "anchor": "y",
         "domain": [
          0,
          1
         ],
         "title": {
          "text": "x1"
         }
        },
        "yaxis": {
         "anchor": "x",
         "domain": [
          0,
          1
         ],
         "title": {
          "text": "x2"
         }
        }
       }
      },
      "text/html": [
       "<div>                            <div id=\"4e91fffd-f717-44a8-a229-d8f03f7a8f59\" class=\"plotly-graph-div\" style=\"height:525px; width:100%;\"></div>            <script type=\"text/javascript\">                require([\"plotly\"], function(Plotly) {                    window.PLOTLYENV=window.PLOTLYENV || {};                                    if (document.getElementById(\"4e91fffd-f717-44a8-a229-d8f03f7a8f59\")) {                    Plotly.newPlot(                        \"4e91fffd-f717-44a8-a229-d8f03f7a8f59\",                        [{\"customdata\":[[\"Counterfactual Data Augmentation for Mitigating Gender Stereotypes in Languages with Rich Morphology\"],[\"Unsupervised Discovery of Gendered Language through Latent-Variable Modeling\"],[\"Margin-based Parallel Corpus Mining with Multilingual Sentence Embeddings\"],[\"Searching for Effective Neural Extractive Summarization: What Works and What's Next\"],[\"Style Transformer: Unpaired Text Style Transfer without Disentangled Latent Representation\"],[\"Distantly Supervised Named Entity Recognition using Positive-Unlabeled Learning\"],[\"Generating Responses with a Specific Emotion in Dialog\"],[\"Bridging by Word: Image-Grounded Vocabulary Construction for Visual Captioning\"],[\"Adversarial Domain Adaptation Using Artificial Titles for Abstractive Title Generation\"],[\"Twitter Homophily: Network Based Prediction of User's Occupation\"],[\"Incorporating Textual Information on User Behavior for Personality Prediction\"],[\"Large-Scale Multi-Label Text Classification on EU Legislation\"],[\"Neural Legal Judgment Prediction in English\"],[\"Discourse Analysis and Its Applications\"],[\"Self-Supervised Learning for Contextualized Extractive Summarization\"],[\"Graph-based Dependency Parsing with Graph Neural Networks\"],[\"Self-Supervised Dialogue Learning\"],[\"Joint Type Inference on Entities and Relations via Graph Convolutional Networks\"],[\"Towards Generating Long and Coherent Text with Multi-Level Latent Variable Models\"],[\"Learning to Select, Track, and Generate for Data-to-Text\"],[\"Multi-hop Reading Comprehension across Multiple Documents by Reasoning over Heterogeneous Graphs\"],[\"Visual Story Post-Editing\"],[\"HIGHRES: Highlight-based Reference-less Evaluation of Summarization\"],[\"Merge and Label: A novel neural network architecture for nested NER\"],[\"Model-Agnostic Meta-Learning for Relation Classification with Limited Supervision\"],[\"ARNOR: Attention Regularization based Noise Reduction for Distant Supervision Relation Classification\"],[\"Representing Schema Structure with Graph Neural Networks for Text-to-SQL Parsing\"],[\"MULTIQA: An Empirical Investigation of Generalization and Transfer in Reading Comprehension\"],[\"Topic Tensor Network for Implicit Discourse Relation Recognition in Chinese\"],[\"\"],[\"Gender-preserving Debiasing for Pre-trained Word Embeddings\"],[\"Aspect Sentiment Classification Towards Question-Answering with Reinforced Bidirectional Attention Network\"],[\"Adversarial Attention Modeling for Multi-dimensional Emotion Regression\"],[\"On-device Structured and Context Partitioned Projection Networks\"],[\"Multi-Source Cross-Lingual Model Transfer: Learning What to Share\"],[\"Scalable Syntax-Aware Language Models Using Knowledge Distillation\"],[\"Dense Procedure Captioning in Narrated Instructional Videos\"],[\"The Risk of Racial Bias in Hate Speech Detection\"],[\"HellaSwag: Can a Machine Really Finish Your Sentence?\"],[\"COMET : Commonsense Transformers for Automatic Knowledge Graph Construction\"],[\"Conversing by Reading: Contentful Neural Conversation with On-demand Machine Reading\"],[\"\"],[\"Learning Compressed Sentence Representations for On-Device Text Processing\"],[\"Sentence Mover's Similarity: Automatic Evaluation for Multi-Sentence Texts\"],[\"SParC: Cross-Domain Semantic Parsing in Context\"],[\"Level-Up: Learning to Improve Proficiency Level of Essays\"],[\"Word-order biases in deep-agent emergent communication\"],[\"CNNs found to jump around more skillfully than RNNs: Compositional generalization in seq2seq convolutional networks\"],[\"Miss Tools and Mr Fruit: Emergent communication in agents learning about object affordances\"],[\"On the Distribution of Deep Clausal Embeddings: A Large Cross-linguistic Study\"],[\"Learning to Link Grammar and Encyclopedic Information to Assist ESL Learners\"],[\"STACL: Simultaneous Translation with Implicit Anticipation and Controllable Latency using Prefix-to-Prefix Framework *\"],[\"Effective Adversarial Regularization for Neural Machine Translation\"],[\"Enhancing Pre-Trained Language Representations with Rich Knowledge for Machine Reading Comprehension\"],[\"Proactive Human-Machine Conversation with Explicit Conversation Goals\"],[\"Know More about Each Other: Evolving Dialogue Strategy via Compound Assessment\"],[\"Open-Domain Why-Question Answering with Adversarial Learning to Encode Answer Texts\"],[\"An Interactive Multi-Task Learning Network for End-to-End Aspect-Based Sentiment Analysis\"],[\"Attention Guided Graph Convolutional Networks for Relation Extraction\"],[\"Quantity Tagger: A Latent-Variable Sequence Labeling Approach to Solving Addition-Subtraction Word Problems\"],[\"A Neural Multi-digraph Model for Chinese NER with Gazetteers\"],[\"Inter-sentence Relation Extraction with Document-level Graph Convolutional Neural Network\"],[\"DOER: Dual Cross-Shared RNN for Aspect Term-Polarity Co-Extraction\"],[\"Learning to Discover, Ground and Use Words with Segmental Neural Language Models\"],[\"Topic Modeling with Wasserstein Autoencoders\"],[\"Simple and Effective Paraphrastic Similarity from Parallel Translations\"],[\"Beyond BLEU: Training Neural Machine Translation with Semantic Similarity\"],[\"Visually Grounded Neural Syntax Acquisition\"],[\"Controllable Paraphrase Generation with a Syntactic Exemplar\"],[\"Incremental Learning from Scratch for Task-Oriented Dialogue Systems\"],[\"Multi-step Reasoning via Recurrent Dual Attention for Visual Dialog\"],[\"Learning Deep Transformer Models for Machine Translation\"],[\"Shared-Private Bilingual Word Embeddings for Neural Machine Translation\"],[\"Energy and Policy Considerations for Deep Learning in NLP\"],[\"A2N: Attending to Neighbors for Knowledge Graph Inference\"],[\"Optimal Transport-based Alignment of Learned Character Representations for String Similarity\"],[\"Hierarchical Transfer Learning for Multi-label Text Classification\"],[\"\"],[\"Learning from Dialogue after Deployment: Feed Yourself, Chatbot!\"],[\"ConvLab: Multi-Domain End-to-End Dialog System Platform\"],[\"From brain space to distributional space: the perilous journeys of fMRI decoding\"],[\"Semantic Parsing with Dual Learning\"],[\"Context-aware Embedding for Targeted Aspect-based Sentiment Analysis\"],[\"Ensuring Readability and Data-fidelity using Head-modifier Templates in Deep Type Description Generation\"],[\"Chinese Relation Extraction with Multi-Grained Information and External Linguistic Knowledge\"],[\"DocRED: A Large-Scale Document-Level Relation Extraction Dataset\"],[\"GEAR: Graph-based Evidence Aggregating and Reasoning for Fact Verification\"],[\"ERNIE: Enhanced Language Representation with Informative Entities\"],[\"DIAG-NRE: A Neural Pattern Diagnosis Framework for Distantly Supervised Neural Relation Extraction\"],[\"Quantifying Similarity between Relations with Fact Distribution\"],[\"Multi-Style Generative Reading Comprehension\"],[\"Answering while Summarizing: Multi-task Learning for Multi-hop QA with Evidence Extraction\"],[\"Detecting Adverse Drug Reactions from Biomedical Texts With Neural Networks\"],[\"Deep Neural Models for Medical Concept Normalization in User-Generated Texts\"],[\"Cross-domain and Cross-lingual Abusive Language Detection: a Hybrid Approach with Deep Learning and a Multilingual Lexicon\"],[\"Yes, we can! Mining Arguments in 50 Years of US Presidential Campaign Debates\"],[\"A Modular Tool for Automatic Summarization\"],[\"Attention Is (not) All You Need for Commonsense Reasoning\"],[\"TARGER: Neural Argument Mining at Your Fingertips\"],[\"Multimodal Abstractive Summarization for How2 Videos\"],[\"Task Refinement Learning for Improved Accuracy and Stability of Unsupervised Domain Adaptation\"],[\"Improving Neural Conversational Models with Entropy-Based Data Filtering\"],[\"Robust Zero-Shot Cross-Domain Slot Filling with Example Values\"],[\"Learning How to Active Learn by Dreaming\"],[\"Neural Architectures for Nested NER through Linearization\"],[\"Message from the General Chair\"],[\"Inducing Document Structure for Aspect-based Summarization\"],[\"Are You Convinced? Choosing the More Convincing Evidence with a Siamese Network\"],[\"Identification of Tasks, Datasets, Evaluation Metrics, and Numeric Scores for Scientific Leaderboards Construction\"],[\"Neural Temporality Adaptation for Document Classification: Diachronic Word Embeddings and Domain Adaptation Models\"],[\"W\\u00e9tin dey with these comments? Modeling Sociolinguistic Factors Affecting Code-switching Behavior in Nigerian Online Discussions\"],[\"Question Answering in the Biomedical Domain\"],[\"Unsupervised Joint Training of Bilingual Word Embeddings\"],[\"My Turn To Read: An Interleaved E-book Reading Tool for Developing and Struggling Readers\"],[\"Unsupervised Bilingual Word Embedding Agreement for Unsupervised Neural Machine Translation\"],[\"Sentence-Level Agreement for Neural Machine Translation\"],[\"Neural Machine Translation with Reordering Embeddings\"],[\"Lattice-Based Transformer Encoder for Neural Machine Translation\"],[\"Multimodal Logical Inference System for Visual-Textual Entailment\"],[\"Sequence Tagging with Contextual and Non-Contextual Subword Representations: A Multilingual Evaluation\"],[\"Unsupervised Learning of Discourse-Aware Text Representation for Essay Scoring\"],[\"Lattice Transformer for Speech Translation\"],[\"Cross-Lingual Syntactic Transfer through Unsupervised Adaptation of Invertible Projections\"],[\"Multi-grained Attention with Object-level Grounding for Visual Question Answering\"],[\"Choosing Transfer Languages for Cross-Lingual Learning\"],[\"An Empirical Investigation of Structured Output Modeling for Graph-based Neural Dependency Parsing\"],[\"Domain Adaptive Inference for Neural Machine Translation\"],[\"Knowledge discovery and hypothesis generation from online patient forums: A research proposal\"],[\"Exploring Author Context for Detecting Intended vs Perceived Sarcasm\"],[\"OpenDialKG: Explainable Conversational Reasoning with Attention-based Walks over Knowledge Graphs\"],[\"Constrained Decoding for Neural NLG from Compositional Representations in Task-Oriented Dialogue\"],[\"Predicting Human Activities from User-Generated Content\"],[\"Embedding Strategies for Specialized Domains: Application to Clinical Entity Recognition\"],[\"Annotation and Automatic Classification of Aspectual Categories\"],[\"Evidence-based Trustworthiness\"],[\"A Hierarchical Reinforced Sequence Operation Method for Unsupervised Text Style Transfer\"],[\"Rhetorically Controlled Encoder-Decoder for Modern Chinese Poetry Generation\"],[\"Observing Dialogue in Therapy: Categorizing and Forecasting Behavioral Codes\"],[\"Global Optimization under Length Constraint for Neural Text Summarization\"],[\"Dataset Creation for Ranking Constructive News Comments\"],[\"Augmenting Neural Networks with First-order Logic\"],[\"ADVISER: A Dialog System Framework for Education & Research\"],[\"Classification and Clustering of Arguments with Contextualized Word Embeddings\"],[\"Domain Adaptation of Neural Machine Translation by Lexicon Induction\"],[\"Exploring Numeracy in Word Embeddings\"],[\"Storyboarding of Recipes: Grounded Contextual Generation\"],[\"Pay attention when you pay the bills. A multilingual corpus with dependency-based and semantic annotation of collocations\"],[\"Crowdsourcing and Aggregating Nested Markable Annotations\"],[\"\"],[\"Who Sides With Whom? Towards Computational Construction of Discourse Networks for Political Debates\"],[\"An Environment for Relational Annotation of Political Debates\"],[\"A Spreading Activation Framework for Tracking Conceptual Complexity of Texts\"],[\"CoDraw: Collaborative Drawing as a Testbed for Grounded Goal-driven Communication\"],[\"Stochastic Tokenization with a Language Model for Neural Text Classification\"],[\"Transforming Complex Sentences into a Semantic Hierarchy\"],[\"Analyzing the Limitations of Cross-lingual Word Embedding Mappings\"],[\"How to (Properly) Evaluate Cross-Lingual Word Embeddings: On Strong Baselines, Comparative Analyses, and Some Misconceptions\"],[\"Boosting Entity Linking Performance by Leveraging Unlabeled Documents\"],[\"JW300: A Wide-Coverage Parallel Corpus for Low-Resource Languages\"],[\"Distant Learning for Entity Linking with Automatic Noise Detection\"],[\"Unsupervised Pretraining for Neural Machine Translation Using Elastic Weight Consolidation\"],[\"Analyzing Multi-Head Self-Attention: Specialized Heads Do the Heavy Lifting, the Rest Can Be Pruned\"],[\"Interpretable Question Answering on Knowledge Bases and Text\"],[\"Putting Evaluation in Context: Contextual Embeddings improve Machine Translation Evaluation\"],[\"Improving Textual Network Embedding with Global Attention via Optimal Transport\"],[\"\"],[\"Aiming beyond the Obvious: Identifying Non-Obvious Cases in Semantic Similarity Datasets\"],[\"Self-Supervised Neural Machine Translation\"],[\"OpenKiwi: An Open Source Framework for Quality Estimation\"],[\"PTB Graph Parsing with Tree Approximation\"],[\"Better Exploiting Latent Variables in Text Modeling\"],[\"Improving Multi-turn Dialogue Modelling with Utterance ReWriter\"],[\"A Joint Named-Entity Recognizer for Heterogeneous Tag-sets Using a Tag Hierarchy\"],[\"Extracting Symptoms and their Status from Clinical Conversations\"],[\"Jointly Learning Semantic Parser and Natural Language Generator via Dual Information Maximization\"],[\"Semantic expressive capacity with bounded memory\"],[\"How multilingual is Multilingual BERT?\"],[\"Simple and Effective Curriculum Pointer-Generator Networks for Reading Comprehension over Long Narratives\"],[\"Lightweight and Efficient Neural Natural Language Processing with Quaternion Networks\"],[\"Time-Out: Temporal Referencing for Robust Modeling of Lexical Semantic Change\"],[\"A Wind of Change: Detecting and Evaluating Lexical Semantic Change across Times and Domains\"],[\"Reference Network for Neural Machine Translation\"],[\"Multimodal Transformer Networks for End-to-End Video-Grounded Dialogue Systems\"],[\"Reading Turn by Turn: Hierarchical Attention Architecture for Spoken Dialogue Comprehension\"],[\"EditNTS: An Neural Programmer-Interpreter Model for Sentence Simplification through Explicit Editing\"],[\"Learning to Rank for Plausible Plausibility\"],[\"Incorporating Syntactic and Semantic Information in Word Embeddings using Graph Convolutional Networks\"],[\"Historical Text Normalization with Delayed Rewards\"],[\"Multi-Task Learning for Coherence Modeling\"],[\"Learning Representation Mapping for Relation Detection in Knowledge Base Question Answering\"],[\"ReCoSa: Detecting the Relevant Contexts with Self-Attention for Multi-turn Dialogue Generation\"],[\"Decomposable Neural Paraphrase Generation\"],[\"Bridging the Gap between Training and Inference for Neural Machine Translation\"],[\"Modeling Semantic Compositionality with Sememe Knowledge\"],[\"Revisiting Low-Resource Neural Machine Translation: A Case Study\"],[\"A Lightweight Recurrent Network for Sequence Modeling\"],[\"Fine-Grained Temporal Relation Extraction\"],[\"Deep Neural Model Inspection and Comparison via Functional Neuron Pathways\"],[\"Morphological Irregularity Correlates with Frequency\"],[\"On the Summarization of Consumer Health Questions\"],[\"Complex Word Identification as a Sequence Labelling Task\"],[\"Leveraging Local and Global Patterns for Self-Attention Networks\"],[\"Revisiting Joint Modeling of Cross-document Entity and Event Coreference Resolution\"],[\"Generating Summaries with Topic Templates and Structured Convolutional Decoders\"],[\"A Unified Multi-task Adversarial Learning Framework for Pharmacovigilance Mining\"],[\"#YouToo? Detection of Personal Recollections of Sexual Harassment on Social Media\"],[\"Towards Multimodal Sarcasm Detection (An Obviously Perfect Paper)\"],[\"Learning Transferable Feature Representations Using Neural Networks\"],[\"Accelerating Sparse Matrix Operations in Neural Networks on Graphics Processing Units\"],[\"ARHNet -Leveraging Community Interaction For Detection Of Religious Hate Speech In Arabic\"],[\"Look Harder: A Neural Machine Translation Model with Hard Attention\"],[\"Matching Article Pairs with Graphical Decomposition and Convolutions\"],[\"Towards Lossless Encoding of Sentences\"],[\"Do Neural Dialog Systems Use the Conversation History Effectively? An Empirical Study\"],[\"A Large-Scale Corpus for Conversation Disentanglement\"],[\"TALKSUMM: A Dataset and Scalable Annotation Method for Scientific Paper Summarization Based on Conference Talks\"],[\"The Language of Legal and Illegal Activity on the Darknet\"],[\"Argument Invention from First Principles\"],[\"From Surrogacy to Adoption; From Bitcoin to Cryptocurrency: Debate Topic Expansion\"],[\"What Makes a Good Counselor? Learning to Distinguish between High-quality and Low-quality Counseling Conversations\"],[\"A Semi-Markov Structured Support Vector Machine Model for High-Precision Named Entity Recognition\"],[\"Relating Simple Sentence Representations in Deep Neural Networks and the Brain\"],[\"Zero-shot Word Sense Disambiguation using Sense Definition Embeddings\"],[\"The KNOWREF Coreference Corpus: Removing Gender and Number Cues for Difficult Pronominal Anaphora Resolution\"],[\"Detecting Subevents using Discourse and Narrative Features\"],[\"Word and Document Embedding with vMF-Mixture Priors on Context Word Vectors\"],[\"Exploiting Explicit Paths for Multi-hop Reading Comprehension\"],[\"Disentangled Representation Learning for Non-Parallel Text Style Transfer\"],[\"Towards Explainable NLP: A Generative Explanation Framework for Text Classification\"],[\"Exploiting Entity BIO Tag Embeddings and Multi-task Learning for Relation Extraction with Imbalanced Data\"],[\"Ordinal and Attribute Aware Response Generation in a Multimodal Dialogue System\"],[\"RankQA: Neural Question Answering with Answer Re-Ranking\"],[\"A Working Memory Model for Task-oriented Dialog Response Generation\"],[\"Improving Abstractive Document Summarization with Salient Information Modeling\"],[\"Sequence Labeling Parsing by Learning Across Representations\"],[\"Generating Question Relevant Captions to Aid Visual Question Answering\"],[\"Controlling Grammatical Error Correction Using Word Edit Rate\"],[\"Simple and Effective Text Matching with Richer Alignment Features\"],[\"A Simple Recipe towards Reducing Hallucination in Neural Surface Realisation\"],[\"Exploring Pre-trained Language Models for Event Extraction and Generation\"],[\"Expressing Visual Relationships via Language\"],[\"Scoring Sentence Singletons and Pairs for Abstractive Summarization\"],[\"Delta Embedding Learning\"],[\"Poetry to Prose Conversion in Sanskrit as a Linearisation Task: A case for Low-Resource Languages\"],[\"Latent Variable Model for Multi-modal Translation\"],[\"Interpretable Neural Predictions with Differentiable Binary Variables\"],[\"Graph based Neural Networks for Event Factuality Prediction using Syntactic and Semantic Structures\"],[\"Data-to-text Generation with Entity Modeling\"],[\"Evaluating Discourse in Structured Text Representations\"],[\"Training Neural Machine Translation To Apply Terminology Constraints\"],[\"Unsupervised Rewriter for Multi-Sentence Compression\"],[\"Fine-tuning Pre-Trained Transformer Language Models to Distantly Supervised Relation Extraction\"],[\"Unsupervised Pivot Translation for Distant Languages\"],[\"Improved Sentiment Detection via Label Transfer from Monolingual to Synthetic Code-Switched Text\"],[\"On the Word Alignment from Neural Machine Translation *\"],[\"Selection Bias Explorations and Debias Methods for Natural Language Sentence Matching Datasets\"],[\"BiSET: Bi-directional Selective Encoding with Template for Abstractive Summarization\"],[\"Semi-supervised Domain Adaptation for Dependency Parsing\"],[\"Are Girls Neko or Sh\\u014djo? Cross-Lingual Alignment of Non-Isomorphic Embeddings with Iterative Normalization\"],[\"Towards Integration of Statistical Hypothesis Tests into Deep Neural Networks\"],[\"Adversarial Multitask Learning for Joint Multi-Feature and Multi-Dialect Morphological Modeling\"],[\"Unsupervised Question Answering by Cloze Translation\"],[\"Generating Natural Language Adversarial Examples through Probability Weighted Word Saliency\"],[\"Misleading Failures of Partial-input Baselines\"],[\"Automatic and Human Evaluation of Local Topic Quality\"],[\"Why Didn't You Listen to Me? Comparing User Control of Human-in-the-Loop Topic Models\"],[\"Real-Time Open-Domain Question Answering with Dense-Sparse Phrase Index\"],[\"Sakura: Large-scale Incorrect Example Retrieval System for Learners of Japanese as a Second Language\"],[\"This year, the student research workshop has received a great attention, reflecting the growth of the field. We received 214 submissions in total: 27 research proposals and 147 research papers. Among these, 7 research proposals and 22 research papers were non-archival. We accepted 71 papers, for an acceptance rate of 33%. After withdrawals and excluding non-archival papers, 61 papers are appearing in these proceedings, including 14 research proposals and 47 research papers. All of the accepted papers will be presented as posters in late morning sessions as a part of the main conference, split across three days (July 29th-31th). Mentoring is at the heart of the SRW. In keeping with previous years, students had the opportunity for pre-submission mentoring prior to the submission deadline. Total of 64 papers participated in presubmission mentoring program. This program offered students a chance to receive comments from an experienced researcher, in order to improve the quality of the writing and presentation before making their submission. In addition, authors of accepted SRW papers are matched with mentors who will meet with the students in person during the poster presentations. Each mentor prepares in-depth comments and questions prior to the student's presentation, and provides discussion and feedback during the workshop. We are deeply grateful to our sponsors whose support will enable a number of students to attend the conference. We would also like to thank our program committee members for their careful reviews of each paper, and all of our mentors for donating their time to provide feedback to our student authors. Thank you to our faculty advisors Hannaneh Hajishirzi, Aurelie Herbelot, Scott Yih, Yue Zhang for their essential advice and guidance, and to the members of the ACL 2018 organizing committee, in particular David Traum, Anna Korhonen and Llu\\u00eds M\\u00e0rquez for their helpful support. Finally, kudos to our student participants! iii\"],[\"Negative Lexically Constrained Decoding for Paraphrase Generation\"],[\"Retrieval-Enhanced Adversarial Training for Neural Response Generation\"],[\"Towards Complex Text-to-SQL in Cross-Domain Database with Intermediate Representation\"],[\"Can You Tell Me How to Get Past Sesame Street? Sentence-Level Pretraining Beyond Language Modeling\"],[\"The PhotoBook Dataset: Building Common Ground through Visually-Grounded Dialogue\"],[\"A Resource-Free Evaluation Metric for Cross-Lingual Word Embeddings Based on Graph Modularity\"],[\"Learning to Ask Unanswerable Questions for Machine Reading Comprehension\"],[\"Compositional Questions Do Not Necessitate Multi-hop Reasoning\"],[\"Multi-hop Reading Comprehension through Question Decomposition and Rescoring\"],[\"A Unified Linear-Time Framework for Sentence-Level Discourse Parsing\"],[\"Dialogue-Act Prediction of Future Responses based on Conversation History\"],[\"What does BERT learn about the structure of language?\"],[\"Span-Level Model for Relation Extraction\"],[\"Toward Comprehensive Understanding of a Sentiment Based on Human Motives\"],[\"Language Modeling with Shared Grammar\"],[\"Controllable Text Simplification with Lexical Constraint Loss\"],[\"SUMBT: Slot-Utterance Matching for Universal and Scalable Belief Tracking\"],[\"Unsupervised Information Extraction: Regularizing Discriminative Approaches with Relation Distribution Losses\"],[\"Neural Relation Extraction for Knowledge Base Enrichment\"],[\"Normalizing Non-canonical Turkish Texts Using Machine Translation Approaches\"],[\"Bilingual Lexicon Induction with Semi-supervision in Non-Isometric Embedding Spaces\"],[\"Corpus Creation and Analysis for Named Entity Recognition in Telugu-English Code-Mixed Social Media Data\"],[\"De-Mixing Sentiment from Code-Mixed Text\"],[\"Boosting Dialog Response Generation\"],[\"Exploring Phoneme-Level Speech Representations for End-to-End Speech Translation\"],[\"Towards Scalable and Reliable Capsule Networks for Challenging NLP Applications\"],[\"Employing the Correspondence of Relations and Connectives to Identify Implicit Discourse Relations via Label Embeddings\"],[\"Neural Keyphrase Generation via Reinforcement Learning with Adaptive Rewards\"],[\"Automatically Identifying Complaints in Social Media\"],[\"Massively Multilingual Transfer for NER\"],[\"Better Character Language Modeling Through Morphology\"],[\"BAM! Born-Again Multi-Task Networks for Natural Language Understanding\"],[\"Neural Aspect and Opinion Term Extraction with Mined Rules as Weak Supervision\"],[\"Mitigating Gender Bias in Natural Language Processing: Literature Review\"],[\"Entity-Centric Contextual Affective Analysis\"],[\"Identifying Visible Actions in Lifestyle Vlogs\"],[\"A Cross-Domain Transferable Neural Coherence Model\"],[\"Relation Embedding with Dihedral Group in Knowledge Graph\"],[\"Enhancing Air Quality Prediction with Social Media and Natural Language Processing\"],[\"Know What You Don't Know: Modeling a Pragmatic Speaker that Refers to Objects of Unknown Categories\"],[\"NeuralClassifier: An Open-source Neural Hierarchical Multi-label Text Classification Toolkit\"],[\"Combining Knowledge Hunting and Neural Language Models to Solve the Winograd Schema Challenge\"],[\"Careful Selection of Knowledge to solve Open Book Question Answering\"],[\"A computational linguistic study of personal recovery in bipolar disorder\"],[\"SARAL: A Low-Resource Cross-Lingual Domain-Focused Information Retrieval System for Effective Rapid Document Triage\"],[\"Psycholinguistics meets Continual Learning: Measuring Catastrophic Forgetting in Visual Question Answering\"],[\"FIESTA: Fast IdEntification of State-of-The-Art models using adaptive bandit algorithms\"],[\"ClaimPortal: Integrated Monitoring, Searching, Checking, and Analytics of Factual Claims on Twitter\"],[\"Predicting Humorousness and Metaphor Novelty with Gaussian Process Preference Learning\"],[\"CONAN -COunter NArratives through Nichesourcing: a Multilingual Dataset of Responses to Fight Online Hate Speech\"],[\"The (Non-)Utility of Structural Features in BiLSTM-based Dependency Parsers\"],[\"Zero-Shot Cross-Lingual Abstractive Sentence Summarization through Teaching Generation and Attention\"],[\"Pretraining Methods for Dialog Context Representation Learning\"],[\"CogNet: a Large-Scale Cognate Database\"],[\"Neural News Recommendation with Long-and Short-term User Representations\"],[\"GraphRel: Modeling Text as Relational Graphs for Joint Entity and Relation Extraction\"],[\"Multi-task Pairwise Neural Ranking for Hashtag Segmentation\"],[\"Entity-Relation Extraction as Multi-turn Question Answering\"],[\"Is Word Segmentation Necessary for Deep Learning of Chinese Representations?\"],[\"Implicit Discourse Relation Identification for Open-domain Dialogues\"],[\"Analysis of Automatic Annotation Suggestions for Hard Discourse-Level Tasks in Expert Domains\"],[\"Is Attention Interpretable?\"],[\"Neural News Recommendation with Topic-Aware News Representation\"],[\"Persuasion for Good: Towards a Personalized Persuasive Dialogue System for Social Good\"],[\"Show, Describe and Conclude: On Exploiting the Structure Information of Chest X-Ray Reports\"],[\"Curate and Generate: A Corpus and Method for Joint Control of Semantics and Style in Neural NLG\"],[\"Synthetic QA Corpora Generation with Roundtrip Consistency\"],[\"Multi-Task Networks With Universe, Group, and Task Feature Learning\"],[\"Informative Image Captioning with External Sources of Information\"],[\"Cognitive Graph for Multi-Hop Reading Comprehension at Scale\"],[\"Dynamically Fused Graph Network for Multi-hop Reasoning\"],[\"Multi-Channel Graph Neural Network for Entity Alignment\"],[\"Semantically Conditioned Dialog Response Generation via Hierarchical Disentangled Self-Attention\"],[\"Jiuge: A Human-Machine Collaborative Chinese Classical Poetry Generation System\"],[\"Hierarchical Transformers for Multi-Document Summarization\"],[\"SphereRE: Distinguishing Lexical Relations with Hyperspherical Relation Embeddings\"],[\"Are Red Roses Red? Evaluating Consistency of Question-Answering Models\"],[\"Modeling Intra-Relation in Math Word Problems with Different Functional Multi-Head Attentions\"],[\"Course Concept Expansion in MOOCs with External Knowledge and Interactive Game\"],[\"Few-Shot Representation Learning for Out-Of-Vocabulary Words\"],[\"Automated Chess Commentator Powered by Neural Chess Engine\"],[\"VIFIDEL: Evaluating the Visual Fidelity of Image Descriptions\"],[\"Exploring Sequence-to-Sequence Learning in Aspect Term Extraction\"],[\"Learning to Control the Fine-grained Sentiment for Story Ending Generation\"],[\"How Large Are Lions? Inducing Distributions over Quantitative Attributes\"],[\"Right for the Wrong Reasons: Diagnosing Syntactic Heuristics in Natural Language Inference\"],[\"Translating Translationese: A Two-Step Approach to Unsupervised Machine Translation\"],[\"BERT Rediscovers the Classical NLP Pipeline\"],[\"Argument Generation with Retrieval, Planning, and Realization\"],[\"Dual Adversarial Neural Transfer for Low-Resource Named Entity Recognition\"],[\"ChID: A Large-scale Chinese IDiom Dataset for Cloze Test\"],[\"Robust Representation Learning of Biomedical Names\"],[\"KCAT: A Knowledge-Constraint Typing Annotation Tool\"],[\"Eliciting Knowledge from Experts: Automatic Transcript Parsing for Cognitive Task Analysis\"],[\"AlpacaTag: An Active Learning-based Crowd Annotation Framework for Sequence Tagging\"],[\"Tree LSTMs with Convolution Units to Predict Stance and Rumor Veracity in Social Media Conversations\"],[\"Reinforced Dynamic Reasoning for Conversational Question Generation\"],[\"Open Vocabulary Learning for Neural Chinese Pinyin IME\"],[\"Diachronic Sense Modeling with Deep Contextualized Word Embeddings: An Ecological View\"],[\"Literary Event Detection\"],[\"A Prism Module for Semantic Disentanglement in Name Entity Recognition\"],[\"Long-Distance Dependencies don't have to be Long: Simplifying through Provably (Approximately) Optimal Permutations\"],[\"Modeling financial analysts' decision making via the pragmatics and semantics of earnings calls\"],[\"Towards Fine-grained Text Sentiment Transfer\"],[\"Dual Supervised Learning for Natural Language Understanding and Generation\"],[\"Transferable Multi-Domain State Generator for Task-Oriented Dialogue Systems\"],[\"Reliability-aware Dynamic Feature Composition for Name Tagging\"],[\"PaperRobot: Incremental Draft Generation of Scientific Ideas\"],[\"Keep Meeting Summaries on Topic: Abstractive Multi-Modal Meeting Summarization\"],[\"Towards Comprehensive Description Generation from Factual Attribute-value Tables\"],[\"Multi-Grained Named Entity Recognition\"],[\"Figurative Usage Detection of Symptom Words to Improve Personal Health Mention Detection\"],[\"Recognising Agreement and Disagreement between Stances with Reason Comparing Networks\"],[\"Using Human Attention to Extract Keyphrase from Microblog Post\"],[\"HIBERT: Document Level Pre-training of Hierarchical Bidirectional Transformers for Document Summarization\"],[\"Automatic Grammatical Error Correction for Sequence-to-sequence Text Generation: An Empirical Study\"],[\"Explain Yourself! Leveraging Language Models for Commonsense Reasoning\"],[\"Open-Domain Targeted Sentiment Analysis via Span-Based Extraction and Classification\"],[\"\"],[\"Retrieve, Read, Rerank: Towards End-to-End Multi-Document Reading Comprehension\"],[\"Graph Neural Networks with Generated Parameters for Relation Extraction\"],[\"BERT-based Lexical Substitution\"],[\"Weakly-Supervised Spatio-Temporally Grounding Natural Sentence in Video\"],[\"Open Domain Event Extraction Using Neural Latent Variable Models\"],[\"Towards Near-imperceptible Steganographic Text\"],[\"Token-level Dynamic Self-Attention Network for Multi-Passage Reading Comprehension\"],[\"Incremental Transformer with Deliberation Decoder for Document Grounded Conversations\"],[\"A Multiscale Visualization of Attention in the Transformer Model\"],[\"Target-Guided Open-Domain Conversation\"],[\"Just \\\"OneSeC\\\" for Producing Multilingual Sense-Annotated Data\"],[\"Improving the Similarity Measure of Determinantal Point Processes for Extractive Multi-Document Summarization\"],[\"Cross-lingual Knowledge Graph Alignment via Graph Matching Neural Network\"],[\"Knowledge-aware Pronoun Coreference Resolution\"],[\"Progressive Self-Supervised Attention Learning for Aspect-Level Sentiment Analysis\"],[\"Gated Embeddings in End-to-End Speech Recognition for Conversational-Context Fusion\"],[\"Multi-Level Matching and Aggregation Network for Few-Shot Relation Classification\"],[\"Learning Representations from Imperfect Time Series Data via Tensor Rank Regularization\"],[\"Multimodal Transformer for Unaligned Multimodal Language Sequences\"],[\"Exploiting Invertible Decoders for Unsupervised Sentence Representation Learning\"],[\"Generating Question-Answer Hierarchies\"],[\"Syntactically Supervised Transformers for Faster Neural Machine Translation\"],[\"Encouraging Paragraph Embeddings to Remember Sentence Identity Improves Classification\"],[\"Strategies for Structuring Story Generation\"],[\"Heuristic Authorship Obfuscation\"],[\"Bias Analysis and Mitigation in the Evaluation of Authorship Verification\"],[\"This Email Could Save Your Life: Introducing the Task of Email Subject Line Generation\"],[\"SP-10K: A Large-scale Evaluation Set for Selectional Preference Acquisition\"],[\"Extracting Multiple-Relations in One-Pass with Pre-Trained Transformers\"],[\"Improving Question Answering over Incomplete KBs with Knowledge-Aware Reader\"],[\"Sentence Centrality Revisited for Unsupervised Summarization\"],[\"TWEETQA: A Social Media Focused Question Answering Dataset\"],[\"Parallax: Visualizing and Understanding the Semantics of Embedding Spaces via Algebraic Formulae\"],[\"Monotonic Infinite Lookback Attention for Simultaneous Machine Translation\"],[\"End-to-end Deep Reinforcement Learning Based Coreference Resolution\"],[\"Rewarding Smatch: Transition-Based AMR Parsing with Reinforcement Learning\"],[\"Low-resource Deep Entity Resolution with Transfer and Active Learning\"],[\"HEIDL: Learning Linguistic Expressions with Deep Learning and Human-in-the-Loop\"],[\"Emotion-Cause Pair Extraction: A New Task to Emotion Analysis in Texts\"],[\"Soft Contextual Data Augmentation for Neural Machine Translation\"],[\"Understanding Undesirable Word Embedding Associations\"],[\"Towards Understanding Linear Word Analogies\"],[\"From Bilingual to Multilingual Neural Machine Translation by Incremental Training\"],[\"Key Fact as Pivot: A Two-Stage Model for Low Resource Table-to-Text Generation\"],[\"Enhancing Topic-to-Essay Generation with External Commonsense Knowledge\"],[\"Generating Fluent Adversarial Examples for Natural Languages\"],[\"STRASS: A Light and Effective Method for Extractive Summarization Based on Sentence Embeddings\"],[\"Online Infix Probability Computation for Probabilistic Finite Automata\"],[\"Cross-Modal Commentator: Automatic Machine Commenting Based on Cross-Modal Information\"],[\"XQA: A Cross-lingual Open-domain Question Answering Dataset\"],[\"Generating Sentences from Disentangled Syntactic and Semantic Spaces\"],[\"Automatic Generation of Personalized Comment Based on User Profile\"],[\"Imitation Learning for Non-Autoregressive Neural Machine Translation\"],[\"Like a Baby: Visually Situated Neural Language Acquisition\"],[\"Improving Neural Language Models by Segmenting, Attending, and Predicting the Future\"],[\"Does It Make Sense? And Why? A Pilot Study for Sense Making and Explanation\"],[\"Cross-Lingual Training for Automatic Question Generation\"],[\"Continual and Multi-Task Architecture Search\"],[\"Explore, Propose, and Assemble: An Interpretable Model for Multi-Hop Reading Comprehension\"],[\"Avoiding Reasoning Shortcuts: Adversarial Evaluation, Training, and Model Development for Multi-Hop QA\"],[\"Semi-supervised Stochastic Multi-Domain Learning using Variational Inference\"],[\"Comparison of Diverse Decoding Methods from Conditional Language Models\"],[\"PERSPECTROSCOPE: A Window to the World of Diverse Perspectives\"],[\"An adaptable task-oriented dialog system for stand-alone embedded devices\"],[\"Deep Dominance -How to Properly Compare Deep Neural Models\"],[\"Improving Visual Question Answering by Referring to Generated Paragraph Captions\"],[\"Unraveling Antonym's Word Vectors through a Siamese-like Network\"],[\"LSTMEmbed: Learning Word and Sense Representations from a Large Semantically Annotated Corpus with Long Short-Term Memories\"],[\"Evaluating Gender Bias in Machine Translation\"],[\"When a Good Translation is Wrong in Context: Context-Aware Machine Translation Improves on Deixis, Ellipsis, and Lexical Cohesion\"],[\"Rationally Reappraising ATIS-based Dialogue Systems\"],[\"ELI5: Long Form Question Answering\"],[\"Paraphrases as Foreign Languages in Multilingual Neural Machine Translation\"],[\"lingvis.io -A Linguistic Visual Analytics Framework\"],[\"Demonstration of a Neural Machine Translation System with Online Learning for Translators\"],[\"GrapAL: Connecting the Dots in Scientific Literature\"],[\"FASTDial: Abstracting Dialogue Policies for Fast Development of Task Oriented Agents\"],[\"Rapid Customization for Event Extraction\"],[\"\"],[\"PostAc \\u00ae : A Visual Interactive Search, Exploration, and Analysis Platform for PhD Intensive Job Postings\"],[\"A Neural, Interactive-predictive System for Multimodal Sequence to Sequence Tasks\"],[\"GLTR: Statistical Detection and Visualization of Generated Text\"],[\"Annotating and Analyzing Semantic Role of Elementary Units and Relations in Online Persuasive Arguments\"],[\"Microsoft ICECAPS: An Open-Source Toolkit for Conversation Modeling\"],[\"Flamb\\u00e9: A Customizable Framework for Machine Learning Experiments\"],[\"MoNoise: A Multi-lingual and Easy-to-use Lexical Normalization Tool\"],[\"Texar: A Modularized, Versatile, and Extensible Toolkit for Text Generation\"],[\"SLATE: A Super-Lightweight Annotation Tool for Experts\"],[\"You Only Need Attention to Traverse Trees\"],[\"Constructing Interpretive Spatio-Temporal Features for Multi-Turn Responses Selection\"],[\"Stay on the Path: Instruction Fidelity in Vision-and-Language Navigation\"],[\"Robust Neural Machine Translation with Doubly Adversarial Inputs\"],[\"\"],[\"A Multi-Task Architecture on Relevance-based Neural Query Translation\"],[\"Women's Syntactic Resilience and Men's Grammatical Luck: Gender-Bias in Part-of-Speech Tagging and Dependency Parsing\"],[\"Robust Neural Machine Translation with Joint Textual and Phonetic Embedding\"],[\"Attention over Heads: A Multi-Hop Attention for Neural Machine Translation\"],[\"Using Semantic Similarity as Reward for Reinforcement Learning in Sentence Generation\"],[\"Simultaneous Translation with Flexible Policy via Restricted Imitation Learning\"],[\"Unsupervised Paraphrasing without Translation\"],[\"Celebrity Profiling\"],[\"Probing Neural Network Comprehension of Natural Language Arguments\"],[\"Generating Logical Forms from Graph Representations of Text and Entities\"],[\"Dynamically Composing Domain-Data Selection with Clean-Data Selection by \\\"Co-Curricular Learning\\\" for Neural Machine Translation\"],[\"Handling Divergent Reference Texts when Evaluating Table-to-Text Generation\"],[\"Ranking of Potential Questions\"],[\"Context-specific language modeling for human trafficking detection from online advertisements\"],[\"Putting words in context: LSTM language models and lexical ambiguity\"],[\"NNE: A Dataset for Nested Named Entity Recognition in English Newswire\"],[\"Latent Retrieval for Weakly Supervised Open Domain Question Answering\"],[\"Ranking Generated Summaries by Correctness: An Interesting but Challenging Application for Natural Language Inference\"],[\"Using Automatically Extracted Minimum Spans to Disentangle Coreference Evaluation from Boundary Detection\"],[\"Effective Cross-lingual Transfer of Neural Machine Translation Models without Shared Vocabularies\"],[\"Reversing Gradients in Adversarial Domain Adaptation for Question Deduplication and Textual Entailment Tasks\"],[\"Crowdsourcing and Validating Event-focused Emotion Corpora for German and English\"],[\"An Imitation Learning Approach to Unsupervised Parsing\"],[\"Zero-Shot Entity Linking by Reading Entity Descriptions\"],[\"How to best use Syntax in Semantic Role Labelling\"],[\"Learning Emphasis Selection for Written Text in Visual Media from Crowd-Sourced Label Distributions\"],[\"AMR Parsing as Sequence-to-Graph Transduction\"],[\"Neural Decipherment via Minimum-Cost Flow: from Ugaritic to Linear B\"],[\"Don't Take the Premise for Granted: Mitigating Artifacts in Natural Language Inference\"],[\"Not All Reviews are Equal: Towards Addressing Reviewer Biases for Opinion Summarization\"],[\"Compound Probabilistic Context-Free Grammars for Grammar Induction\"],[\"BIGPATENT: A Large-Scale Dataset for Abstractive and Coherent Summarization\"],[\"Joint Effects of Context and User History for Predicting Online Conversation Re-entries\"],[\"Making Fast Graph-based Algorithms with Graph Metric Embeddings\"],[\"Matching the Blanks: Distributional Similarity for Relation Learning\"],[\"Unsupervised Parallel Sentence Extraction with Parallel Segment Detection Helps Machine Translation\"],[\"Better OOV Translation with Bilingual Terminology Mining\"],[\"Unsupervised Multilingual Word Embedding with Limited Resources using Neural Language Models\"],[\"Investigating Political Herd Mentality: A Community Sentiment Based Approach\"],[\"Learning Attention-based Embeddings for Relation Prediction in Knowledge Graphs\"],[\"Cross-Domain Generalization of Neural Constituency Parsers\"],[\"Pre-Learning Environment Representations for Data-Efficient Neural Instruction Following\"],[\"Are You Looking? Grounding to Multiple Modalities in Vision-and-Language Navigation\"],[\"Improving Low-Resource Cross-lingual Document Retrieval by Reranking with Deep Bilingual Representations\"],[\"Multilingual Constituency Parsing with Self-Attention and Pre-Training\"],[\"Simple Unsupervised Summarization by Contextual Matching\"],[\"Personalizing Dialogue Agents via Meta-Learning\"],[\"Memory Consolidation for Contextual Spoken Language Understanding with Dialogue Logistic Inference\"],[\"Generalized Data Augmentation for Low-Resource Translation\"],[\"M\\u0101ori Loanwords: A Corpus of New Zealand English Tweets\"],[\"Improving Neural Entity Disambiguation with Graph Embeddings\"],[\"DeepSentiPeer: Harnessing Sentiment in Review Texts To Recommend Peer Review Decisions\"],[\"Multimodal and Multi-view Models for Emotion Recognition\"],[\"Zero-Shot Semantic Parsing for Instructions\"],[\"What Should I Ask? Using Conversationally Informative Rewards for Goal-Oriented Visual Dialogue\"],[\"Complex Question Decomposition for Semantic Parsing\"],[\"HEAD-QA: A Healthcare Dataset for Complex Reasoning\"],[\"Unified Semantic Parsing with Weak Supervision\"],[\"Numeracy-600K: Learning Numeracy for Detecting Exaggerated Information in Market Comments\"],[\"Multi-Task Deep Neural Networks for Natural Language Understanding\"],[\"Distilling Translations with Visual Awareness\"],[\"A Simple Theoretical Model of Importance for Summarization\"],[\"DisSent: Learning Sentence Representations from Explicit Discourse Relations\"],[\"A Corpus for Reasoning About Natural Language Grounded in Photographs\"],[\"Multi-News: a Large-Scale Multi-Document Summarization Dataset and Abstractive Hierarchical Model\"],[\"EigenSent: Spectral sentence embeddings using higher-order Dynamic Mode Decomposition\"],[\"Self-Attentional Models for Lattice Inputs\"],[\"SEMBLEU: A Robust Metric for AMR Parsing Evaluation\"],[\"Symbolic inductive bias for visually grounded learning of spoken language\"],[\"Improved Zero-shot Neural Machine Translation via Ignoring Spurious Correlations\"],[\"A Compact and Language-Sensitive Multilingual Translation Method\"],[\"On the Robustness of Self-Attentive Models\"],[\"Exact Hard Monotonic Attention for Character-Level Transduction\"],[\"Reranking for Neural Semantic Parsing\"],[\"Incorporating Priors with Feature Attribution on Text Classification\"],[\"Multi-Relational Script Learning for Discourse Relations\"],[\"Human vs. Muppet: A Conservative Estimate of Human Performance on the GLUE Benchmark\"],[\"Using LSTMs to Assess the Obligatoriness of Phonological Distinctive Features for Phonotactic Learning\"],[\"Compositional Semantic Parsing Across Graphbanks\"],[\"Second-Order Semantic Dependency Parsing with End-to-End Neural Networks\"],[\"Determining Relative Argument Specificity and Stance for Complex Argumentative Structures\"],[\"Every child should have parents: a taxonomy refinement algorithm based on hyperbolic term embeddings\"],[\"Tree Communication Models for Sentiment Analysis\"],[\"An Investigation of Transfer Learning-Based Sentiment Analysis in Japanese\"],[\"Global Textual Relation Embedding for Relational Understanding\"],[\"Latent Variable Sentiment Grammar *\"],[\"Embedding time expressions for deep temporal ordering models\"],[\"Episodic Memory Reader: Learning What to Remember for Question Answering from Streaming Data\"],[\"Are we there yet? Encoder-decoder neural networks as cognitive models of English past tense inflection\"],[\"Is word segmentation child's play in all languages?\"],[\"Uncovering Probabilistic Implications in Typological Knowledge Bases\"],[\"Attention-based Conditioning Methods for External Knowledge Integration\"],[\"StRE: Self Attentive Edit Quality Prediction in Wikipedia\"],[\"Fine-Grained Sentence Functions for Short-Text Conversation\"],[\"Are Training Samples Correlated? Learning to Generate Dialogue Responses with Multiple References\"],[\"Fine-Grained Spoiler Detection from Large-Scale Review Corpora\"],[\"Unsupervised Learning of PCFGs with Normalizing Flow\"],[\"Domain Adaptive Dialog Generation via Meta Learning\"],[\"GCDT: A Global Context Enhanced Deep Transition Architecture for Sequence Labeling\"],[\"We need to talk about standard splits\"],[\"Analyzing Linguistic Differences between Owner and Staff Attributed Tweets\"],[\"Categorizing and Inferring the Relationship between the Text and Image of Twitter Posts\"],[\"Correlating neural and symbolic representations of language\"],[\"Retrieving Sequential Information for Non-Autoregressive Neural Machine Translation\"],[\"Transformer-XL: Attentive Language Models Beyond a Fixed-Length Context\"],[\"E 3 : Entailment-driven Extracting and Editing for Conversational Machine Reading\"],[\"A Simple and Effective Approach to Automatic Post-Editing with Transfer Learning\"],[\"Head-Driven Phrase Structure Grammar Parsing on Penn Treebank\"],[\"Multilingual Unsupervised NMT using Shared Encoder and Language-Specific Decoders\"],[\"Multi-Modal Sarcasm Detection in Twitter with Hierarchical Fusion Model\"],[\"MAAM: A Morphology-Aware Alignment Model for Unsupervised Bilingual Lexicon Induction\"],[\"On the Compositionality Prediction of Noun Phrases using Poincar\\u00e9 Embeddings\"],[\"Cross-Domain NER using Cross-Domain Language Modeling\"],[\"Multi-Task Semantic Dependency Parsing with Policy Gradient for Learning Easy-First Strategies\"],[\"Variance of average surprisal: a better predictor for quality of grammar from unsupervised PCFG induction\"],[\"Wide-Coverage Neural A* Parsing for Minimalist Grammars\"],[\"Assessing the Ability of Self-Attention Networks to Learn Word Order\"],[\"Topic-Aware Neural Keyphrase Generation for Social Media Language\"],[\"Relational Word Embeddings\"],[\"You Write Like You Eat: Stylistic variation as a predictor of social stratification\"],[\"Sentence-Level Evidence Embedding for Claim Verification with Hierarchical Attention Networks\"],[\"Embedding Imputation with Grounded Language Information\"],[\"Multi-Hop Paragraph Retrieval for Open-Domain Question Answering\"],[\"Textbook Question Answering with Multi-modal Context Graph Understanding and Self-supervised Open-set Comprehension\"],[\"Large Dataset and Language Model Fun-Tuning for Humor Recognition\"],[\"A Multilingual BPE Embedding Space for Universal Sentiment Lexicon Induction\"],[\"A Just and Comprehensive Strategy for Using NLP to Address Online Abuse\"],[\"Leveraging Meta Information in Short Text Aggregation\"],[\"Self-Attentive, Multi-Context One-Class Classification for Unsupervised Anomaly Detection on Text\"],[\"Hubless Nearest Neighbor Search for Bilingual Lexicon Induction\"],[\"Dialogue Natural Language Inference\"],[\"Bayes Test of Precision, Recall, and F 1 Measure for Comparison of Two Natural Language Processing Models\"],[\"The Effectiveness of Simple Hybrid Systems for Hypernym Discovery\"],[\"TIGS: An Inference Algorithm for Text Infilling with Gradient Search\"],[\"Vocabulary Pyramid Network: Multi-Pass Encoding and Decoding with Multi-Level Vocabularies for Response Generation\"],[\"Keeping Notes: Conditional Natural Language Generation with a Scratchpad Mechanism\"],[\"Do you know that Florence is packed with visitors? Evaluating state-of-the-art models of speaker commitment\"],[\"Towards Language Agnostic Universal Representations\"],[\"Give Me More Feedback II: Annotating Thesis Strength and Related Attributes in Student Essays\"],[\"End-to-End Sequential Metaphor Identification Inspired by Linguistic Theories\"],[\"Learning a Matching Model with Co-teaching for Multi-turn Response Selection in Retrieval-based Dialogue Systems\"],[\"Budgeted Policy Learning for Task-Oriented Dialogue Systems\"],[\"AdaNSP: Uncertainty-driven Adaptive Decoding in Neural Semantic Parsing\"],[\"AutoML strategy based on grammatical evolution: A case study about knowledge discovery from text\"],[\"Distilling Discrimination and Generalization Knowledge for Event Detection via \\u2206-Representation Learning\"],[\"Learning to Abstract for Memory-augmented Conversational Response Generation\"],[\"Towards Empathetic Open-domain Conversation Models: a New Benchmark and Dataset\"],[\"Training Neural Response Selection for Task-Oriented Dialogue Systems\"],[\"Joint Slot Filling and Intent Detection via Capsule Neural Networks\"],[\"Label-Agnostic Sequence Labeling by Copying Nearest Neighbors\"],[\"Self-Attention Architectures for Answer-Agnostic Neural Question Generation\"],[\"Large-Scale Transfer Learning for Natural Language Generation\"],[\"Enhancing Unsupervised Generative Dependency Parser with Contextual Information\"],[\"Cost-sensitive Regularization for Label Confusion-aware Event Detection\"],[\"Improving Open Information Extraction via Iterative Rank-Aware Learning\"],[\"Towards Improving Neural Named Entity Recognition with Gazetteers\"],[\"Improving the Robustness of Question Answering Systems to Question Paraphrasing\"],[\"Neural Response Generation with Meta-Words\"],[\"Scaling Up Open Tagging from Tens to Thousands: Comprehension Empowered Attribute Value Extraction from Product Title\"],[\"NLProlog: Reasoning with Weak Unification for Question Answering in Natural Language\"],[\"MC 2 : Multi-perspective Convolutional Cube for Conversational Machine Reading Comprehension\"],[\"A Novel Bi-directional Interrelated Model for Joint Intent Detection and Slot Filling\"],[\"Reducing Word Omission Errors in Neural Machine Translation: A Contrastive Learning Approach\"],[\"Deep Unknown Intent Detection with Margin Loss\"],[\"Exploiting Sentential Context for Neural Machine Translation\"],[\"Learning to Relate from Captions and Bounding Boxes\"],[\"Modeling Semantic Relationship in Multi-turn Conversations with Hierarchical Latent Variables\"],[\"An automated framework for fast cognate detection and Bayesian phylogenetic inference in computational historical linguistics\"],[\"Learning Latent Trees with Stochastic Perturbations and Differentiable Dynamic Programming\"],[\"Discourse Representation Parsing for Sentences and Documents\"],[\"Sequence-to-Nuggets: Nested Entity Mention Detection via Anchor-Region Networks\"],[\"Training Hybrid Language Models by Marginalizing over Segmentations\"],[\"Language Modelling Makes Sense: Propagating Representations through WordNet for Full-Coverage Word Sense Disambiguation\"],[\"Combating Adversarial Misspellings with Robust Word Recognition\"],[\"Sentiment Tagging with Partial Labels using Modular Architectures\"],[\"Word2Sense : Sparse Interpretable Word Embeddings\"],[\"Empirical Linguistic Study of Sentence Embeddings\"],[\"Collocation Classification with Unsupervised Relation Vectors\"],[\"Probing for Semantic Classes: Diagnosing the Meaning Content of Word Embeddings\"],[\"Confusionset-guided Pointer Networks for Chinese Spelling Check\"],[\"Target Conditioned Sampling: Optimizing Data Selection for Multilingual Neural Machine Translation\"],[\"Adversarial Learning of Privacy-Preserving Text Representations for De-Identification of Medical Records\"],[\"Variational Pretraining for Semi-supervised Text Classification\"],[\"The Referential Reader: A Recurrent Entity Network for Anaphora Resolution\"],[\"Interpolated Spectral NGram Language Models\"],[\"Barack's Wife Hillary: Using Knowledge Graphs for Fact-Aware Language Modeling\"],[\"Depth Growing for Neural Machine Translation\"],[\"Manipulating the Difficulty of C-Tests\"],[\"Soft Representation Learning for Sparse Transfer\"],[\"Duality of Link Prediction and Entailment Graph Induction\"],[\"Towards Unsupervised Text Classification Leveraging Experts and Word Embeddings\"],[\"Improved Language Modeling by Decoding the Past\"],[\"Sparse Sequence-to-Sequence Models\"],[\"Neural Network Alignment for Sentential Paraphrases\"],[\"A Cross-Sentence Latent Variable Model for Semi-Supervised Text Sequence Matching\"],[\"Divide, Conquer and Combine: Hierarchical Feature Fusion Network with Local and Global Perspectives for Multimodal Affective Computing\"],[\"Decompositional Argument Mining: A General Purpose Approach for Argument Graph Construction\"],[\"What You Say and How You Say It Matters: Predicting Financial Risk Using Verbal and Vocal Cues\"],[\"A Transparent Framework for Evaluating Unintended Demographic Bias in Word Embeddings\"],[\"Generalized Tuning of Distributional Word Vectors for Monolingual and Cross-Lingual Lexical Entailment\"],[\"Cross-Sentence Grammatical Error Correction\"],[\"Learning Morphosyntactic Analyzers from the Bible via Iterative Annotation Projection across 26 Languages\"],[\"A Surprisingly Robust Trick for the Winograd Schema Challenge\"],[\"Encoding Social Information with Graph Convolutional Networks for Political Perspective Detection in News Media\"],[\"MELD: A Multimodal Multi-Party Dataset for Emotion Recognition in Conversations\"],[\"Topic Sensitive Attention on Generic Corpora Corrects Sense Bias in Pretrained Embeddings\"],[\"Coherent Comment Generation for Chinese Articles with a Graph-to-Sequence Model\"],[\"Transfer Capsule Network for Aspect Level Sentiment Classification\"],[\"Multilingual Factor Analysis\"],[\"A Deep Reinforced Sequence-to-Set Model for Multi-Label Classification\"],[\"Learning from omission\"],[\"Meaning to Form: Measuring Systematicity as Information\"],[\"Interconnected Question Generation with Coreference Alignment and Conversation Flow Modeling\"],[\"A Corpus for Modeling User and Language Effects in Argumentation on Online Debating\"],[\"Generating Diverse Translations with Sentence Codes\"],[\"Multilingual and Cross-Lingual Graded Lexical Entailment\"],[\"Neural Text Simplification of Clinical Letters with a Domain Specific Phrase Table\"],[\"Data Programming for Learning Discourse Structure\"],[\"Neural Fuzzy Repair: Integrating Fuzzy Matches into Neural Machine Translation\"],[\"What Kind of Language Is Hard to Language-Model?\"],[\"\"],[\"Text Categorization by Learning Predominant Sense of Words as Auxiliary Task\"],[\"Reinforced Training Data Selection for Domain Adaptation\"],[\"Bilingual Lexicon Induction through Unsupervised Machine Translation\"],[\"One Time of Interaction May Not Be Enough: Go Deep with an Interaction-over-Interaction Network for Response Selection in Dialogues\"],[\"Coreference Resolution with Entity Equalization\"],[\"Generating Long and Informative Reviews with Aspect-Aware Coarse-to-Fine Decoding\"],[\"Asking the Crowd: Question Analysis, Evaluation and Generation for Open Discussion on Online Forums\"],[\"Automatic Generation of High Quality CCGbanks for Parser Domain Adaptation\"],[\"MOROCO: The Moldavian and Romanian Dialectal Corpus\"],[\"Unsupervised Neural Text Simplification\"],[\"Abstractive text summarization based on deep learning and semantic content generalization\"],[\"An Effective Approach to Unsupervised Machine Translation\"],[\"Errudite: Scalable, Reproducible, and Testable Error Analysis\"],[\"Unsupervised Neural Single-Document Summarization of Reviews via Learning Latent Discourse Structure and its Ranking\"],[\"Studying Summarization Evaluation Metrics in the Appropriate Scoring Range\"],[\"Spatial Aggregation Facilitates Discovery of Spatial Topics\"],[\"SherLIiC: A Typed Event-Focused Lexical Inference Benchmark for Evaluating Natural Language Inference\"],[\"Syntax-Infused Variational Autoencoder for Text Generation\"],[\"Collaborative Dialogue in Minecraft\"],[\"Finding Your Voice: The Linguistic Development of Mental Health Counselors\"],[\"Inferential Machine Comprehension: Answering Questions by Recursively Deducing the Evidence Chain from Text\"],[\"Modeling affirmative and negated action processing in the brain with lexical and compositional semantic models\"],[\"Detecting Concealed Information in Text and Speech\"],[\"Towards Automating Healthcare Question Answering in a Noisy Multilingual Low-Resource Setting\"],[\"Explicit Utilization of General Knowledge in Machine Reading Comprehension\"],[\"Self-Regulated Interactive Sequence-to-Sequence Learning\"],[\"Joint Entity Extraction and Assertion Detection for Clinical Text\"],[\"Incorporating Linguistic Constraints into Keyphrase Generation\"],[\"Adaptive Attention Span in Transformers\"],[\"Automatic Domain Adaptation Outperforms Manual Domain Adaptation for Predicting Financial Outcomes\"],[\"Wikipedia as a Resource for Text Analysis and Retrieval\"],[\"Unsupervised Cross-Lingual Representation Learning\"],[\"Computational ad hominem detection\"],[\"Fact or Factitious? Contextualized Opinion Spam Detection\"],[\"Latent Structure Models for Natural Language Processing\"],[\"Multiple Character Embeddings for Chinese Word Segmentation\"],[\"\"],[\"BREAKING! Presenting Fake News Corpus For Automated Fact Checking\"],[\"Automated Cross-language Intelligibility Analysis of Parkinson's Disease Patients Using Speech Recognition Technologies\"],[\"Attention and Lexicon Regularized LSTM for Aspect-based Sentiment Analysis\"],[\"\"],[\"Advances in Argument Mining\"],[\"Hierarchical Multi-label Classification of Text with Capsule Networks\"],[\"Computational Analysis of Political Texts: Bridging Research Efforts Across Communities\"],[\"English-Indonesian Neural Machine Translation for Spoken Language Domains\"],[\"Active Reading Comprehension: A dataset for learning the Question-Answer Relationship strategy\"],[\"Robust-to-Noise Models in Natural Language Processing Tasks\"],[\"Measuring the Value of Linguistics: A Case Study from St. Lawrence Island Yupik\"],[\"Improving Mongolian-Chinese Neural Machine Translation with Morphological Noise\"],[\"Towards incremental learning of word embeddings using context informativeness\"],[\"Joint Learning of Named Entity Recognition and Entity Linking\"],[\"A Strong and Robust Baseline for Text-Image Matching\"],[\"Reducing Gender Bias in Word-Level Language Models with a Gender-Equalizing Loss Function\"],[\"Transfer Learning Based Free-Form Speech Command Classification for Low-Resource Languages\"],[\"Enriching Neural Models with Targeted Features for Dementia Detection\"],[\"Convolutional Neural Networks for Financial Text Regression\"],[\"Scheduled Sampling for Transformers\"],[\"Sentiment Analysis on Naija-Tweets\"],[\"Sentiment Classification using Document Embeddings trained with Cosine Similarity\"],[\"A Japanese Word Segmentation Proposal\"],[\"Deep Bayesian Natural Language Processing\"],[\"\"],[\"\"],[\"Gender Stereotypes Differ between Male and Female Writings\"],[\"Natural Language Generation: Recently Learned Lessons, Directions for Semantic Representation-based Approaches, and the case of Brazilian Portuguese Language\"],[\"Towards Turkish Abstract Meaning Representation\"],[\"Predicting the Outcome of Deliberative Democracy: A Research Proposal\"],[\"Distributed Knowledge Based Clinical Auto-Coding System\"]],\"hovertemplate\":\"lab_or_not=notlab<br>x1=%{x}<br>x2=%{y}<br>hover_data_0=%{customdata[0]}<extra></extra>\",\"legendgroup\":\"notlab\",\"marker\":{\"color\":\"#636efa\",\"symbol\":\"circle\"},\"mode\":\"markers\",\"name\":\"notlab\",\"orientation\":\"v\",\"showlegend\":true,\"x\":[0.13931959867477417,0.25976505875587463,-0.20035631954669952,-0.0539262592792511,-0.1572641134262085,0.03261921554803848,0.2884109914302826,-0.17041459679603577,-0.14568783342838287,0.311727374792099,0.396210253238678,0.01794394478201866,0.1177930012345314,0.23750096559524536,-0.1299794316291809,-0.05224807932972908,0.006941802799701691,0.037620726972818375,-0.23932486772537231,0.045232731848955154,-0.08450277149677277,0.1390577107667923,0.020292073488235474,-0.08862051367759705,0.09310565143823624,-0.10795249789953232,-0.02114190347492695,-0.18120355904102325,0.04993480443954468,0.642243504524231,0.03836024925112724,0.13704872131347656,0.058831989765167236,-0.16578727960586548,-0.2347821295261383,-0.20066200196743011,-0.026277601718902588,0.242465540766716,0.00795817468315363,-0.03861027583479881,-0.07213956862688065,-0.04701932519674301,-0.1370910257101059,-0.005648700520396233,0.03831283748149872,0.1539386510848999,-0.13083402812480927,-0.18122832477092743,0.1799035519361496,-0.06145526468753815,-0.008766849525272846,-0.29828476905822754,-0.19726772606372833,-0.18954786658287048,0.13146854937076569,0.23015373945236206,-0.05432887002825737,0.08092629909515381,-0.06676797568798065,0.1224207729101181,0.0011254327837377787,-0.07642360776662827,0.040775008499622345,-0.17740322649478912,0.01452723890542984,-0.10831344127655029,-0.27658194303512573,-0.13751128315925598,-0.10416661947965622,0.2224392145872116,0.010891685262322426,-0.35640808939933777,-0.3326330780982971,-0.0482412651181221,-0.004655629862099886,-0.06980552524328232,-0.06226195767521858,0.642243504524231,0.15894728899002075,0.04357399418950081,-0.08048626780509949,0.03097742423415184,0.006976005621254444,0.06528639793395996,-0.08544564992189407,0.00949125550687313,0.05424013361334801,-0.1384914070367813,-0.001110870623961091,0.013410829938948154,-0.11983806639909744,-0.06269221752882004,0.10361781716346741,-0.052933745086193085,0.1047881618142128,0.30613985657691956,0.22104115784168243,-0.06007475405931473,0.21698439121246338,-0.0827551782131195,0.025440875440835953,0.05347389355301857,0.02069028466939926,-0.004882956854999065,-0.1293962001800537,0.2827509343624115,-0.03083166293799877,0.29163601994514465,0.14177250862121582,0.03457099571824074,0.2669646739959717,0.12855219841003418,-0.29539212584495544,0.20230045914649963,-0.3634895980358124,-0.23883797228336334,-0.35906097292900085,-0.3331659138202667,0.05420020967721939,-0.1692039668560028,0.15419331192970276,-0.29564371705055237,-0.23074650764465332,-0.06625146418809891,-0.10575757920742035,-0.13201592862606049,-0.28073784708976746,0.40890955924987793,0.1683960258960724,0.0816558226943016,-0.06607981771230698,0.21386021375656128,-0.13415251672267914,0.19188550114631653,0.2818783223628998,-0.12600044906139374,0.07246453315019608,0.1570628434419632,-0.11231628060340881,0.3044929802417755,-0.1371910125017166,0.25058144330978394,0.11784293502569199,-0.3103111684322357,0.007067922968417406,-0.05366514250636101,0.0968647301197052,0.15011487901210785,0.23180750012397766,0.38232356309890747,0.3843149244785309,0.10576336085796356,0.10317588597536087,-0.044530440121889114,-0.050686437636613846,-0.20743818581104279,-0.2205553948879242,-0.00524506950750947,-0.1761387139558792,-0.009947359561920166,-0.3721046447753906,-0.3141547441482544,0.06727207452058792,-0.2240450233221054,-0.13114246726036072,0.3995174467563629,0.1517396867275238,-0.10294209420681,-0.1570238322019577,0.03279690816998482,-0.09084354341030121,0.03294188529253006,-0.01860416866838932,0.07505529373884201,-0.13951697945594788,-0.06706809997558594,-0.21157974004745483,-0.23878639936447144,-0.1564972847700119,-0.06602557003498077,0.04038603976368904,-0.35401666164398193,-0.13691380620002747,-0.08212819695472717,-0.2054218053817749,-0.061372123658657074,-0.10760253667831421,-0.15364666283130646,-0.02213352918624878,-0.12572509050369263,-0.16224034130573273,-0.1972741335630417,-0.3261723518371582,0.0072716232389211655,-0.3745492398738861,-0.3078047037124634,0.028992289677262306,-0.10279923677444458,0.0068704611621797085,-0.12532000243663788,0.07459134608507156,-0.24567635357379913,-0.027839329093694687,-0.16781078279018402,0.1525084227323532,0.42008861899375916,0.23400640487670898,-0.11266139894723892,-0.10323505103588104,0.3273647129535675,-0.33540868759155273,0.007557881996035576,-0.00816790759563446,-0.03151721879839897,0.21922573447227478,0.09891247004270554,0.31314152479171753,0.44542187452316284,0.3434325158596039,0.33647608757019043,-0.11046367883682251,-0.16239961981773376,-0.07440704107284546,-0.022741304710507393,0.12042482942342758,0.026373719796538353,-0.008118567988276482,-0.06869931519031525,-0.04807468503713608,-0.0858638733625412,0.06867703795433044,-0.11404034495353699,-0.0021913705859333277,-0.12565386295318604,-0.10963019728660583,-0.08646862953901291,-0.045091379433870316,-0.14872226119041443,-0.1737084984779358,0.21068085730075836,-0.21438993513584137,-0.012629210017621517,-0.14792968332767487,-0.13707825541496277,-0.2447075992822647,-0.047179482877254486,0.11016368865966797,-0.14331857860088348,-0.01708226278424263,-0.2776665687561035,-0.1310863047838211,-0.0792165994644165,-0.31198856234550476,0.0247429721057415,-0.2656134068965912,0.01143589150160551,-0.08043693006038666,-0.14920617640018463,-0.26270294189453125,-0.09981594234704971,-0.09759794175624847,-0.13092096149921417,-0.05926564335823059,-0.0183394905179739,0.17204177379608154,0.212593674659729,-0.07583001255989075,0.09623809158802032,0.642243504524231,-0.20265744626522064,-0.03381514549255371,-0.10821370035409927,-0.20811845362186432,0.1955414116382599,-0.10115831345319748,-0.13666832447052002,0.01036713644862175,-0.03063131496310234,0.15061402320861816,0.06146086007356644,-0.12250908464193344,0.004520910792052746,0.24597077071666718,-0.23529088497161865,-0.12471649050712585,0.1042579784989357,-0.06452982872724533,-0.20299147069454193,-0.005982575938105583,-0.07906319946050644,0.08709374815225601,-0.005121150519698858,0.00810769759118557,-0.22609154880046844,0.0038531192112714052,0.023660091683268547,0.02779691107571125,0.21070782840251923,-0.18675050139427185,-0.1279037892818451,-0.14935703575611115,0.1673951894044876,0.23042292892932892,0.22798776626586914,0.2749456465244293,-0.052797745913267136,0.023800497874617577,0.1866837590932846,0.020677566528320312,-0.053101882338523865,0.013689573854207993,0.07201418280601501,0.28942176699638367,-0.005970687605440617,0.03053082339465618,0.14929884672164917,0.3650096356868744,0.18552877008914948,0.30965864658355713,-0.1412973552942276,-0.30082425475120544,-0.016709202900528908,0.09526227414608002,0.03170662000775337,0.002382674254477024,0.15122072398662567,-0.07094081491231918,-0.22661054134368896,0.23518890142440796,0.1810656040906906,-0.07159794867038727,0.04333370923995972,0.4456835091114044,0.15375031530857086,-0.07056362181901932,-0.09808185696601868,-0.08885128796100616,-0.08185302466154099,0.08998972922563553,0.0910087302327156,-0.15237633883953094,-0.12428697943687439,0.1679096519947052,-0.14555643498897552,-0.07911156117916107,0.09795324504375458,-0.061200954020023346,0.18573670089244843,-0.18339195847511292,0.04416293650865555,0.0354061983525753,-0.08629829436540604,0.13012294471263885,0.12206339091062546,-0.006015369668602943,-0.27687960863113403,-0.0776839479804039,0.1729515641927719,-0.11998400837182999,0.04891645163297653,0.04631005972623825,0.10618358850479126,-0.026095472276210785,0.13326190412044525,0.1532459855079651,0.03901650011539459,-0.11733296513557434,0.06487680971622467,0.10567718744277954,-0.09842334687709808,-0.010852601379156113,0.35838961601257324,-0.014459384605288506,-0.003435238264501095,-0.04310403764247894,-0.031192857772111893,0.04236258566379547,0.040311090648174286,-0.001383329974487424,-0.04213272035121918,0.14181771874427795,0.30940020084381104,0.07132285088300705,-0.19212104380130768,-0.13950610160827637,-0.036892082542181015,0.12721367180347443,0.642243504524231,-0.14054244756698608,0.04227454587817192,-0.09267087280750275,-0.09284088015556335,0.08608488738536835,0.15747188031673431,-0.1986851692199707,0.06451146304607391,-0.18913187086582184,0.16852334141731262,0.0349055752158165,-0.10128150135278702,-0.05937334522604942,-0.09450150281190872,0.642243504524231,-0.11392700672149658,0.08085331320762634,0.047996535897254944,-0.08248960226774216,-0.21195213496685028,0.09133819490671158,-0.34880948066711426,-0.1099366694688797,0.05462970212101936,0.14907218515872955,0.2808404862880707,0.06352878361940384,0.06171777844429016,-0.04948722571134567,-0.007016067858785391,-0.05626837909221649,0.05308942496776581,0.033789560198783875,-0.2917691469192505,-0.07573287934064865,-0.14911024272441864,-0.10204393416643143,0.16052201390266418,0.28722310066223145,-0.3324689567089081,0.07963696122169495,-0.017058823257684708,-0.3890956938266754,-0.11266198754310608,0.021146371960639954,-0.047713227570056915,-0.07624100148677826,0.07217717170715332,0.13355055451393127,-0.23399962484836578,-0.15807439386844635,0.20645426213741302,-0.3290506601333618,-0.13961836695671082,-0.18472641706466675,0.08890252560377121,-0.11989153176546097,-0.2040708214044571,-0.015887480229139328,-0.09058137238025665,-0.09918781369924545,-0.13412335515022278,0.3808625042438507,0.25833767652511597,-0.13879209756851196,-0.09391244500875473,0.07823556661605835,-0.09629928320646286,-0.0012795933289453387,-0.21999484300613403,-0.034495510160923004,0.02912595309317112,-0.2837079167366028,0.2692581117153168,-0.10795976966619492,0.27300357818603516,0.20500829815864563,0.13687877357006073,0.642243504524231,0.3203447759151459,-0.02021290734410286,0.17696310579776764,0.5081362724304199,0.032691143453121185,0.1017623320221901,-0.061007920652627945,-0.021215755492448807,0.25083717703819275,-0.2049027532339096,0.01779807172715664,-0.09014253318309784,-0.2963171601295471,0.1835526078939438,-0.29522237181663513,0.20218317210674286,-0.2649747133255005,-0.2686290442943573,-0.1363244354724884,-0.25228995084762573,-0.22428488731384277,0.21687129139900208,0.015269747003912926,-0.10333516448736191,-0.146579772233963,0.04324891418218613,0.3290366530418396,0.19064843654632568,-0.10063206404447556,0.047101959586143494,-0.033576760441064835,0.0035286755301058292,0.030723463743925095,-0.39281296730041504,-0.12176571786403656,0.20393191277980804,-0.16735197603702545,-0.15207068622112274,-0.09118828922510147,0.17650537192821503,-0.10965510457754135,-0.15211772918701172,-0.08833938091993332,0.244587242603302,-0.06342510879039764,0.048380520194768906,0.2542100250720978,0.01706608384847641,-0.020342154428362846,-0.12958164513111115,-0.2786605656147003,-0.31383928656578064,0.42991530895233154,-0.04798903316259384,-0.13428373634815216,-0.09986020624637604,-0.015911556780338287,-0.20936551690101624,-0.19801245629787445,-0.05825710669159889,0.12963208556175232,0.002622180851176381,-0.30694153904914856,0.22594387829303741,-0.06358081847429276,0.1456494778394699,0.03864387422800064,-0.0791660025715828,0.10225716978311539,0.06678624451160431,0.01904916949570179,-0.11833952367305756,-0.06570407748222351,-0.2587040662765503,-0.17476476728916168,0.11756822466850281,-0.12157907336950302,0.09902071952819824,-0.03222724422812462,0.033892203122377396,-0.2594529986381531,-0.013153035193681717,-0.15067237615585327,-0.3098548948764801,-0.37538498640060425,-0.005133696366101503,-0.29284101724624634,-0.11797989159822464,0.16458642482757568,0.050661876797676086,-0.09170763939619064,-0.047036539763212204,-0.08960707485675812,-0.09727770835161209,0.37242597341537476,0.07867302745580673,0.08032995462417603,0.04102472960948944,-0.13729754090309143,0.07274012267589569,-0.07461415976285934,-0.2053430676460266,-0.13741189241409302,-0.022747250273823738,0.03163551166653633,-0.28461745381355286,0.003978414926677942,-0.009050157852470875,-0.016692882403731346,0.20889098942279816,-0.12535084784030914,0.03575082868337631,-0.27721086144447327,0.1242794543504715,0.3975183963775635,0.2532249391078949,-0.08049257099628448,-0.32423657178878784,-0.254477322101593,0.13776271045207977,-0.20928362011909485,-0.014007271267473698,-0.3306334614753723,0.1908283531665802,-0.20214933156967163,-0.039580345153808594,-0.07873021811246872,0.0015967641957104206,-0.038215383887290955,-0.06374143064022064,-0.31386232376098633,0.026004668325185776,-0.024846656247973442,0.24699823558330536,0.004731439054012299,-0.04024927690625191,-0.019443338736891747,-0.05827814340591431,0.17065934836864471,0.11903794854879379,0.5385993123054504,0.13427062332630157,-0.005952163133770227,-0.19125615060329437,0.10740575194358826,-0.03562644124031067,0.07635129988193512,-0.1901799887418747,-0.035314206033945084,-0.20214185118675232,0.05120893195271492,-0.11359640955924988,0.3025677800178528,-0.03875046968460083,0.10330125689506531,0.08001944422721863,-0.22394034266471863,0.16811594367027283,0.013897166587412357,-0.029077112674713135,0.1042393147945404,0.09729709476232529,-0.049989715218544006,-0.12791289389133453,-0.18156062066555023,-0.06617856025695801,-0.16602389514446259,0.07389280945062637,0.03792886063456535,-0.039777688682079315,-0.08894937485456467,-0.047501061111688614,0.18974947929382324,-0.03946604207158089,-0.06954704970121384,-0.011545940302312374,-0.2980622351169586,0.053346890956163406,-0.3673325479030609,-0.07597363740205765,-0.006433809641748667,0.1021878719329834,0.019304635003209114,-0.07018706947565079,-0.008643634617328644,-0.07651752233505249,-0.18493568897247314,-0.06520309299230576,0.0999496802687645,-0.10051264613866806,-0.07011997699737549,-0.043195027858018875,0.07200146466493607,-0.1079925075173378,-0.2858087122440338,0.12230750173330307,-0.12906581163406372,-0.04866214096546173,-0.08964362740516663,-0.12071484327316284,-0.38151416182518005,0.05870019271969795,-0.18412482738494873,0.12959620356559753,0.20514266192913055,-0.237985759973526,-0.2791351079940796,-0.05171709507703781,-0.10137657076120377,0.02278902381658554,0.34533193707466125,0.1687675565481186,0.1467956006526947,-0.10635130107402802,-0.2567722201347351,-0.01953723654150963,-0.05262458696961403,0.20090532302856445,0.21797853708267212,-0.11715390533208847,0.14056389033794403,0.10730376839637756,-0.1353798359632492,-0.03826817870140076,0.029704097658395767,0.013272075913846493,-0.0714523047208786,0.46579211950302124,-0.11742551624774933,-0.0528719499707222,0.028597231954336166,0.02875405177474022,-0.31693780422210693,-0.13934020698070526,0.642243504524231,-0.003195596858859062,-0.07533622533082962,-0.2604309916496277,-0.009003187529742718,-0.0002225524658570066,0.09349881112575531,0.039095982909202576,-0.02517814375460148,0.10003211349248886,-0.11835828423500061,-0.061622459441423416,-0.3394854962825775,0.1805514544248581,0.07263865321874619,0.16251270473003387,0.2588965892791748,-0.03687768056988716,-0.19120505452156067,0.20889140665531158,0.27588698267936707,-0.06487265229225159,0.09108030796051025,0.2591162621974945,-0.11357303708791733,-0.14566010236740112,-0.17976181209087372,-0.09852851182222366,-0.026082608848810196,-0.1640745848417282,0.16698142886161804,0.642243504524231,0.642243504524231,0.474896639585495,0.21375590562820435,0.642243504524231,-0.19805672764778137,0.17512446641921997,0.2927592098712921,0.09719420969486237,0.0037599916104227304,0.642243504524231,0.43865054845809937,-0.031562287360429764,0.642243504524231,-0.190597802400589,-0.03535951301455498,0.01858590729534626,-0.01182189118117094,-0.1487899273633957,-0.0394204705953598,-0.07439056783914566,-0.08012363314628601,-0.03333846852183342,-0.07367759197950363,0.015081857331097126,0.03010653890669346,-0.3124822974205017,0.2866269052028656,0.18544220924377441,0.09958275407552719,0.642243504524231,0.642243504524231,0.642243504524231,0.33066341280937195,0.10056902468204498,0.06381786614656448,0.2686217427253723,0.1092040166258812],\"xaxis\":\"x\",\"y\":[-0.3322238326072693,-0.2522547245025635,-0.2767963111400604,0.11814650893211365,0.012630005367100239,-0.24863706529140472,0.24552465975284576,0.18448008596897125,0.08430080860853195,-0.17414283752441406,-0.08275400102138519,-0.1555723398923874,-0.19316929578781128,0.09368745982646942,0.1511581540107727,0.02241920679807663,0.35992228984832764,-0.13675016164779663,0.12940707802772522,0.2249535769224167,0.14277426898479462,0.10308361053466797,0.15089531242847443,-0.136689692735672,-0.0397261343896389,0.004889908712357283,-0.059790726751089096,0.08991216868162155,0.06960887461900711,0.005308290012180805,-0.2870570719242096,0.1381775140762329,-0.010928848758339882,0.18845278024673462,-0.21838979423046112,-0.03243974596261978,0.27900657057762146,-0.20497259497642517,0.06520053744316101,0.03814157471060753,0.3723438084125519,-0.03412031754851341,-0.0824795737862587,-0.004584853071719408,0.06457619369029999,0.07300687581300735,0.031056517735123634,0.04196871444582939,0.1551731675863266,-0.18190594017505646,-0.18646596372127533,0.03264789283275604,-0.12908777594566345,0.10265640169382095,0.4080946445465088,0.4741811454296112,0.23464229702949524,0.0490819551050663,0.03468410670757294,-0.1398717761039734,-0.17961381375789642,-0.05858893692493439,-0.06624439358711243,-0.05699998512864113,-0.028960052877664566,-0.14820364117622375,-0.08347959816455841,0.06504462659358978,0.15217140316963196,0.3847312331199646,0.4737897217273712,-0.0196660365909338,-0.2521950900554657,-0.04998799413442612,-0.014289787039160728,-0.1686200648546219,-0.026954015716910362,0.005308290012180805,0.3619508743286133,0.3322063982486725,-0.12920717895030975,0.06589201092720032,-0.10228374600410461,-0.09257523715496063,-0.16808466613292694,-0.11406389623880386,0.029941080138087273,-0.044244349002838135,-0.08633982390165329,-0.16935449838638306,0.3182758390903473,0.2276311218738556,-0.05904984474182129,-0.13436980545520782,-0.3133736550807953,-0.01191949937492609,0.09773579239845276,0.05582382157444954,-0.05638779327273369,0.23660242557525635,-0.13152474164962769,0.37734249234199524,0.22923651337623596,0.026034504175186157,-0.19220450520515442,-0.028156617656350136,0.12771785259246826,0.16479374468326569,0.09475917369127274,-0.24370762705802917,-0.17529644072055817,0.16821755468845367,-0.32418879866600037,0.07844863086938858,-0.3253011405467987,-0.007472105789929628,-0.03126813471317291,0.027091166004538536,0.07493448257446289,-0.22634850442409515,-0.08200410008430481,0.06577938795089722,-0.24537532031536102,0.2581499218940735,-0.18063220381736755,0.05524054914712906,-0.047261711210012436,-0.036349255591630936,-0.09245240688323975,0.2922012209892273,0.24998661875724792,-0.020502369850873947,-0.07506626844406128,-0.18866685032844543,-0.1936827450990677,0.10127056390047073,0.0459771454334259,0.33469656109809875,0.052560463547706604,-0.017811238765716553,0.19157111644744873,0.38257884979248047,-0.06461278349161148,-0.11236898601055145,-0.17987415194511414,0.31330493092536926,-0.24376261234283447,-0.10088371485471725,-0.3732722997665405,-0.13107581436634064,-0.21912628412246704,-0.11344712972640991,0.26850342750549316,-0.23681354522705078,-0.04716162383556366,-0.4052811563014984,-0.3171767592430115,-0.11222009360790253,-0.3051214814186096,-0.1563839316368103,-0.04592527821660042,-0.028503568843007088,0.17632721364498138,-0.051877159625291824,0.09375517815351486,0.10409644991159439,-0.19253091514110565,0.0017606132896617055,-0.10872429609298706,-0.15151932835578918,0.017883120104670525,0.28071579337120056,-0.12044703215360641,0.12127872556447983,0.13377445936203003,-0.008716818876564503,-0.16176486015319824,0.21580058336257935,0.054404117166996,-0.15139590203762054,-0.2400517612695694,0.029848789796233177,0.4004679024219513,0.3631978929042816,0.015470032580196857,0.06561854481697083,-0.09812873601913452,0.018322713673114777,0.10326109826564789,0.0023785370867699385,0.20563457906246185,0.023395398631691933,0.057768646627664566,-0.1180758848786354,-0.12531115114688873,0.1591707319021225,-0.030483093112707138,0.004979897756129503,-0.29763421416282654,0.2669043242931366,-0.1676366925239563,0.08074536919593811,-0.031586650758981705,0.26561596989631653,-0.07024063169956207,-0.12905582785606384,0.017160268500447273,-0.031246546655893326,0.05718269199132919,-0.2800068259239197,0.1029384434223175,-0.04706956446170807,-0.04020657390356064,0.3059103488922119,0.21397113800048828,0.19689840078353882,-0.36408117413520813,-0.023480895906686783,-0.13322021067142487,0.00853018369525671,-0.1038280576467514,0.12782332301139832,-0.12316378206014633,0.006276262924075127,-0.07130448520183563,-0.2653330862522125,0.2016916424036026,-0.10290456563234329,0.18598008155822754,-0.18136653304100037,0.4044899046421051,0.23071956634521484,0.3598116934299469,0.18930979073047638,0.040335338562726974,0.3474065661430359,-0.1271955966949463,0.024747492745518684,0.10726223886013031,0.09111115336418152,0.22993457317352295,0.10398328304290771,-0.19926753640174866,-0.048716336488723755,0.12435200065374374,0.0713471844792366,-0.015189943835139275,0.04918549954891205,0.10782786458730698,-0.015955347567796707,-0.08100041002035141,-0.03020995482802391,-0.09197583049535751,-0.2838136553764343,0.004156085196882486,-0.13517311215400696,0.06729920953512192,-0.14314314723014832,-0.3659970462322235,-0.018872065469622612,-0.1327839344739914,0.1421167254447937,-0.14839504659175873,0.039619483053684235,-0.0701707974076271,0.06383989751338959,0.0716058686375618,-0.08531160652637482,0.005308290012180805,-0.02607124112546444,0.41283318400382996,0.06462247669696808,0.07548969238996506,0.40427786111831665,-0.374716192483902,0.27892449498176575,0.18758559226989746,0.2146177738904953,0.11167147755622864,0.44523799419403076,0.0033051499631255865,-0.11428883671760559,-0.20672056078910828,0.01299414411187172,-0.09306123852729797,0.13903170824050903,-0.11899872869253159,-0.009730578400194645,-0.19408418238162994,-0.41760796308517456,-0.3392665982246399,-0.16366474330425262,0.3140714466571808,0.01468504685908556,0.011223060078918934,0.06009794399142265,0.07316093891859055,-0.03672904148697853,-0.2788703739643097,-0.22775505483150482,0.06870884448289871,-0.07826477289199829,-0.2135760337114334,-0.1666029691696167,0.11356395483016968,-0.11644959449768066,-0.04958826303482056,-0.09261929243803024,0.2004805952310562,0.00041428414988331497,0.033203162252902985,0.13586418330669403,-0.13373076915740967,-0.14206309616565704,0.2494170218706131,-0.052725356072187424,-0.1569524109363556,-0.06553105264902115,-0.1726376861333847,-0.03504902496933937,0.04824278503656387,0.26132649183273315,-0.4077177345752716,0.014641685411334038,-0.13799649477005005,-0.14187897741794586,0.07412315160036087,-0.15108756721019745,0.17670145630836487,0.13661052286624908,-0.054819505661726,0.028539078310132027,0.09715308994054794,0.12734760344028473,0.07707281410694122,0.19698761403560638,0.104989193379879,0.1586235612630844,0.19414514303207397,0.17214922606945038,-0.14936614036560059,0.3372683823108673,0.05657244846224785,0.14663508534431458,-0.26142221689224243,0.2541196942329407,0.1034889817237854,0.014319844543933868,7.078921044012532e-05,0.20157508552074432,0.13667719066143036,0.04819735512137413,0.048848602920770645,-0.22556433081626892,-0.050350528210401535,-0.1662898063659668,-0.044363271445035934,0.07854828238487244,-0.19565449655056,-0.07626738399267197,-0.23495367169380188,-0.05235319212079048,0.2249060720205307,0.04225345700979233,-0.010900728404521942,0.4911705255508423,-0.10096524655818939,-0.13534866273403168,-0.08288466185331345,-0.11182654649019241,-0.10589499026536942,-0.004210977349430323,0.038485828787088394,0.133051335811615,0.3014659881591797,-0.24586288630962372,0.0757402628660202,0.32968640327453613,0.17040002346038818,-0.029216434806585312,-0.0003553466231096536,0.07378587871789932,-0.0012593831634148955,0.0005843109101988375,0.10874190181493759,0.23753394186496735,-0.10700057446956635,0.005308290012180805,0.2802305519580841,0.16253125667572021,-0.26059475541114807,0.17637474834918976,-0.07594053447246552,-0.19443711638450623,0.2526107430458069,0.28673216700553894,0.24591240286827087,0.35248756408691406,-0.2740609645843506,-0.021398695185780525,-0.25319981575012207,0.029580911621451378,0.005308290012180805,0.23316991329193115,-0.020391089841723442,0.05092809349298477,0.10119922459125519,0.02870183438062668,0.20411419868469238,-0.05140349268913269,-0.045748282223939896,0.06743820756673813,-0.19474393129348755,-0.21835939586162567,0.21385718882083893,-0.12085691094398499,-0.050042856484651566,0.12674155831336975,-0.022560304030776024,0.1405550241470337,-0.07318800687789917,0.16931474208831787,0.1168777123093605,-0.04240129142999649,-0.0857997015118599,0.08887220174074173,-0.05461597815155983,-0.03159208223223686,-0.2835870087146759,-0.34256261587142944,0.007603323552757502,-0.01693151146173477,0.1274949461221695,-0.01706521213054657,-0.0032471315935254097,-0.20248450338840485,0.18675433099269867,0.03201465681195259,0.030597146600484848,0.06738676130771637,-0.03375323489308357,0.11361473053693771,-0.06159041449427605,0.012702434323728085,0.091514453291893,0.21737787127494812,0.2539186477661133,0.19258110225200653,-0.08284789323806763,0.011746902950108051,0.05000194534659386,0.3000226616859436,-0.04796438664197922,0.35543766617774963,-0.27431824803352356,-0.1776202768087387,-0.17629888653755188,-0.10463453829288483,0.011701542884111404,0.20272403955459595,-0.11696267127990723,0.04890713095664978,0.1002657487988472,-0.13181525468826294,0.4783296585083008,0.11869213730096817,0.005308290012180805,-0.0505024790763855,0.2764093279838562,-0.0283611211925745,-0.044119883328676224,0.30390870571136475,0.025501325726509094,-0.28938743472099304,0.26644229888916016,0.01528791431337595,0.08052799850702286,0.37753763794898987,0.2665427029132843,-0.009283521212637424,-0.029436612501740456,0.01723468117415905,-0.21091271936893463,-0.1026754304766655,0.05671795457601547,0.0719277486205101,-0.029910322278738022,0.021360935643315315,-0.21792346239089966,0.19944535195827484,0.053444769233465195,0.015987085178494453,0.012464665807783604,0.20870643854141235,-0.1789594143629074,-0.18691907823085785,-0.13369348645210266,0.1295502632856369,0.11653532087802887,-0.13420461118221283,-0.19776801764965057,0.004754796624183655,-0.2155366986989975,0.12501497566699982,-0.019142262637615204,0.024830754846334457,0.06894290447235107,0.03430980443954468,-0.16304126381874084,-0.05089765042066574,-0.013869663700461388,0.0026502157561481,0.06194952502846718,0.1298948973417282,-0.215241938829422,-0.11255398392677307,-0.30897456407546997,-0.22995242476463318,-0.2571622133255005,-0.10387397557497025,-0.024683848023414612,-0.07388219237327576,0.16044259071350098,0.17183221876621246,-0.1895243525505066,-0.09668061137199402,-0.020290350541472435,0.31730419397354126,0.2717125415802002,-0.1732134222984314,-0.2482244074344635,-0.18319115042686462,0.005893407855182886,0.045611944049596786,0.100802481174469,0.5152219533920288,0.09995238482952118,0.15184365212917328,0.0505075566470623,0.07396586239337921,0.05215049907565117,0.0760667473077774,0.0836934819817543,0.07827304303646088,0.10096755623817444,-0.03524952381849289,-0.15175381302833557,0.11773137748241425,-0.024489128962159157,0.1699039340019226,-0.084336057305336,-0.11148487031459808,0.01615624874830246,-0.06954469531774521,-0.04541998356580734,-0.03987691551446915,0.10050690919160843,0.02588331513106823,-0.11908891052007675,-0.03119784966111183,0.012031578458845615,0.029359592124819756,-0.3549906313419342,-0.006258878391236067,-0.20674942433834076,-0.12292277067899704,-0.11747787147760391,0.012711205519735813,0.27237120270729065,0.005911772605031729,-0.13952888548374176,-0.20955011248588562,0.142435684800148,-0.06541837006807327,0.23682868480682373,0.463098406791687,-0.0322657972574234,-0.210071861743927,0.32053542137145996,0.12117884308099747,-0.0652313306927681,-0.2025718092918396,0.024023253470659256,-0.12581996619701385,0.0531894788146019,0.01213880442082882,0.21061092615127563,0.09300271421670914,-0.13594575226306915,-0.1587865799665451,0.008634455502033234,-0.33937788009643555,-0.22797891497612,-0.17996220290660858,0.0028780505526810884,-0.2536790370941162,-0.07736793905496597,0.06672467291355133,0.006499393377453089,-0.24095499515533447,-0.22239059209823608,0.08679981529712677,-0.10639316588640213,0.19535401463508606,0.22241564095020294,-0.08597313612699509,-0.2934289276599884,-0.11451519280672073,-0.1600153148174286,-0.13566087186336517,-0.3417954742908478,0.3265727460384369,-0.18701012432575226,-0.22086723148822784,0.17994853854179382,0.03625364974141121,0.30198049545288086,-0.04255932942032814,-0.11733285337686539,-0.06039254367351532,0.048451051115989685,0.34616658091545105,0.42528098821640015,0.03749970346689224,-0.14154571294784546,-0.13271397352218628,0.3059522807598114,0.3425281047821045,0.3058016002178192,0.11913066357374191,0.05889710411429405,0.20259341597557068,0.2321169227361679,0.027518702670931816,-0.2675986886024475,-0.018943173810839653,-0.08872697502374649,0.1720517873764038,0.3365362882614136,-0.11568471044301987,0.09522531181573868,0.41524091362953186,0.11625122278928757,-0.09463238716125488,0.22114667296409607,-0.007306092884391546,0.19126766920089722,0.30218324065208435,-0.21866802871227264,-0.020623307675123215,0.13022381067276,-0.04551786929368973,-0.2516632080078125,-0.03587635979056358,-0.193869948387146,0.04212556034326553,-0.16275174915790558,-0.14507471024990082,-0.35823285579681396,-0.33488214015960693,0.012550001963973045,-0.13072241842746735,-0.14501196146011353,-0.13063226640224457,-0.08296514302492142,-0.2206587791442871,-0.04916199669241905,0.018347809091210365,0.012706172652542591,-0.08542907238006592,-0.09119608998298645,-0.2513202130794525,-0.07039175927639008,0.03916459158062935,-0.13525860011577606,0.02802952751517296,0.14553667604923248,-0.07420377433300018,0.11629505455493927,-0.3284358084201813,-0.32972535490989685,0.019956612959504128,-0.28099343180656433,-0.052810121327638626,-0.026256980374455452,0.23302283883094788,-0.20156238973140717,0.07435797899961472,-0.0934954285621643,-0.2623090445995331,0.05264291539788246,0.1789151281118393,-0.290426105260849,0.3615112006664276,0.06187838315963745,-0.036435652524232864,-0.30349498987197876,-0.11045719683170319,0.0032077135983854532,-0.060421139001846313,-0.25770103931427,0.005308290012180805,-0.17412538826465607,0.09955765306949615,-0.35457590222358704,0.2739763557910919,-0.03137548267841339,0.08253877609968185,0.2988285720348358,-0.0001952036691363901,-0.23747190833091736,-0.23154956102371216,0.08897361904382706,-0.16778749227523804,-0.11062799394130707,0.12787173688411713,0.08238837867975235,-0.10022304207086563,-0.1940716803073883,0.11751565337181091,0.43151673674583435,0.14690251648426056,0.35155370831489563,-0.1364402323961258,-0.0726534053683281,-0.05536495894193649,0.15604178607463837,0.18213093280792236,-0.015357292257249355,0.01668977178633213,0.06282568722963333,-0.19214409589767456,0.005308290012180805,0.005308290012180805,-0.10144482553005219,-0.16332054138183594,0.005308290012180805,-0.23057235777378082,-0.09162315726280212,-0.27828776836395264,-0.11442311108112335,0.030924109742045403,0.005308290012180805,0.05039321631193161,0.003224297659471631,0.005308290012180805,-0.038652438670396805,0.26561349630355835,-0.21682173013687134,-0.22583447396755219,-0.12969158589839935,-0.1071438118815422,-0.08552046120166779,-0.0970437303185463,-0.11366520076990128,-0.07660292834043503,0.10121095925569534,-0.23499266803264618,0.09987524151802063,-0.26053765416145325,-0.23228026926517487,-0.26521748304367065,0.005308290012180805,0.005308290012180805,0.005308290012180805,-0.2738819122314453,0.0375232957303524,-0.12464740872383118,0.004009067080914974,-0.10314047336578369],\"yaxis\":\"y\",\"type\":\"scatter\"},{\"customdata\":[[\"An Empirical Study of Span Representations in Argumentation Structure Parsing\"]],\"hovertemplate\":\"lab_or_not=inuilab<br>x1=%{x}<br>x2=%{y}<br>hover_data_0=%{customdata[0]}<extra></extra>\",\"legendgroup\":\"inuilab\",\"marker\":{\"color\":\"#EF553B\",\"symbol\":\"circle\"},\"mode\":\"markers\",\"name\":\"inuilab\",\"orientation\":\"v\",\"showlegend\":true,\"x\":[0.0699947327375412],\"xaxis\":\"x\",\"y\":[0.010502297431230545],\"yaxis\":\"y\",\"type\":\"scatter\"}],                        {\"template\":{\"data\":{\"histogram2dcontour\":[{\"type\":\"histogram2dcontour\",\"colorbar\":{\"outlinewidth\":0,\"ticks\":\"\"},\"colorscale\":[[0.0,\"#0d0887\"],[0.1111111111111111,\"#46039f\"],[0.2222222222222222,\"#7201a8\"],[0.3333333333333333,\"#9c179e\"],[0.4444444444444444,\"#bd3786\"],[0.5555555555555556,\"#d8576b\"],[0.6666666666666666,\"#ed7953\"],[0.7777777777777778,\"#fb9f3a\"],[0.8888888888888888,\"#fdca26\"],[1.0,\"#f0f921\"]]}],\"choropleth\":[{\"type\":\"choropleth\",\"colorbar\":{\"outlinewidth\":0,\"ticks\":\"\"}}],\"histogram2d\":[{\"type\":\"histogram2d\",\"colorbar\":{\"outlinewidth\":0,\"ticks\":\"\"},\"colorscale\":[[0.0,\"#0d0887\"],[0.1111111111111111,\"#46039f\"],[0.2222222222222222,\"#7201a8\"],[0.3333333333333333,\"#9c179e\"],[0.4444444444444444,\"#bd3786\"],[0.5555555555555556,\"#d8576b\"],[0.6666666666666666,\"#ed7953\"],[0.7777777777777778,\"#fb9f3a\"],[0.8888888888888888,\"#fdca26\"],[1.0,\"#f0f921\"]]}],\"heatmap\":[{\"type\":\"heatmap\",\"colorbar\":{\"outlinewidth\":0,\"ticks\":\"\"},\"colorscale\":[[0.0,\"#0d0887\"],[0.1111111111111111,\"#46039f\"],[0.2222222222222222,\"#7201a8\"],[0.3333333333333333,\"#9c179e\"],[0.4444444444444444,\"#bd3786\"],[0.5555555555555556,\"#d8576b\"],[0.6666666666666666,\"#ed7953\"],[0.7777777777777778,\"#fb9f3a\"],[0.8888888888888888,\"#fdca26\"],[1.0,\"#f0f921\"]]}],\"heatmapgl\":[{\"type\":\"heatmapgl\",\"colorbar\":{\"outlinewidth\":0,\"ticks\":\"\"},\"colorscale\":[[0.0,\"#0d0887\"],[0.1111111111111111,\"#46039f\"],[0.2222222222222222,\"#7201a8\"],[0.3333333333333333,\"#9c179e\"],[0.4444444444444444,\"#bd3786\"],[0.5555555555555556,\"#d8576b\"],[0.6666666666666666,\"#ed7953\"],[0.7777777777777778,\"#fb9f3a\"],[0.8888888888888888,\"#fdca26\"],[1.0,\"#f0f921\"]]}],\"contourcarpet\":[{\"type\":\"contourcarpet\",\"colorbar\":{\"outlinewidth\":0,\"ticks\":\"\"}}],\"contour\":[{\"type\":\"contour\",\"colorbar\":{\"outlinewidth\":0,\"ticks\":\"\"},\"colorscale\":[[0.0,\"#0d0887\"],[0.1111111111111111,\"#46039f\"],[0.2222222222222222,\"#7201a8\"],[0.3333333333333333,\"#9c179e\"],[0.4444444444444444,\"#bd3786\"],[0.5555555555555556,\"#d8576b\"],[0.6666666666666666,\"#ed7953\"],[0.7777777777777778,\"#fb9f3a\"],[0.8888888888888888,\"#fdca26\"],[1.0,\"#f0f921\"]]}],\"surface\":[{\"type\":\"surface\",\"colorbar\":{\"outlinewidth\":0,\"ticks\":\"\"},\"colorscale\":[[0.0,\"#0d0887\"],[0.1111111111111111,\"#46039f\"],[0.2222222222222222,\"#7201a8\"],[0.3333333333333333,\"#9c179e\"],[0.4444444444444444,\"#bd3786\"],[0.5555555555555556,\"#d8576b\"],[0.6666666666666666,\"#ed7953\"],[0.7777777777777778,\"#fb9f3a\"],[0.8888888888888888,\"#fdca26\"],[1.0,\"#f0f921\"]]}],\"mesh3d\":[{\"type\":\"mesh3d\",\"colorbar\":{\"outlinewidth\":0,\"ticks\":\"\"}}],\"scatter\":[{\"fillpattern\":{\"fillmode\":\"overlay\",\"size\":10,\"solidity\":0.2},\"type\":\"scatter\"}],\"parcoords\":[{\"type\":\"parcoords\",\"line\":{\"colorbar\":{\"outlinewidth\":0,\"ticks\":\"\"}}}],\"scatterpolargl\":[{\"type\":\"scatterpolargl\",\"marker\":{\"colorbar\":{\"outlinewidth\":0,\"ticks\":\"\"}}}],\"bar\":[{\"error_x\":{\"color\":\"#2a3f5f\"},\"error_y\":{\"color\":\"#2a3f5f\"},\"marker\":{\"line\":{\"color\":\"#E5ECF6\",\"width\":0.5},\"pattern\":{\"fillmode\":\"overlay\",\"size\":10,\"solidity\":0.2}},\"type\":\"bar\"}],\"scattergeo\":[{\"type\":\"scattergeo\",\"marker\":{\"colorbar\":{\"outlinewidth\":0,\"ticks\":\"\"}}}],\"scatterpolar\":[{\"type\":\"scatterpolar\",\"marker\":{\"colorbar\":{\"outlinewidth\":0,\"ticks\":\"\"}}}],\"histogram\":[{\"marker\":{\"pattern\":{\"fillmode\":\"overlay\",\"size\":10,\"solidity\":0.2}},\"type\":\"histogram\"}],\"scattergl\":[{\"type\":\"scattergl\",\"marker\":{\"colorbar\":{\"outlinewidth\":0,\"ticks\":\"\"}}}],\"scatter3d\":[{\"type\":\"scatter3d\",\"line\":{\"colorbar\":{\"outlinewidth\":0,\"ticks\":\"\"}},\"marker\":{\"colorbar\":{\"outlinewidth\":0,\"ticks\":\"\"}}}],\"scattermapbox\":[{\"type\":\"scattermapbox\",\"marker\":{\"colorbar\":{\"outlinewidth\":0,\"ticks\":\"\"}}}],\"scatterternary\":[{\"type\":\"scatterternary\",\"marker\":{\"colorbar\":{\"outlinewidth\":0,\"ticks\":\"\"}}}],\"scattercarpet\":[{\"type\":\"scattercarpet\",\"marker\":{\"colorbar\":{\"outlinewidth\":0,\"ticks\":\"\"}}}],\"carpet\":[{\"aaxis\":{\"endlinecolor\":\"#2a3f5f\",\"gridcolor\":\"white\",\"linecolor\":\"white\",\"minorgridcolor\":\"white\",\"startlinecolor\":\"#2a3f5f\"},\"baxis\":{\"endlinecolor\":\"#2a3f5f\",\"gridcolor\":\"white\",\"linecolor\":\"white\",\"minorgridcolor\":\"white\",\"startlinecolor\":\"#2a3f5f\"},\"type\":\"carpet\"}],\"table\":[{\"cells\":{\"fill\":{\"color\":\"#EBF0F8\"},\"line\":{\"color\":\"white\"}},\"header\":{\"fill\":{\"color\":\"#C8D4E3\"},\"line\":{\"color\":\"white\"}},\"type\":\"table\"}],\"barpolar\":[{\"marker\":{\"line\":{\"color\":\"#E5ECF6\",\"width\":0.5},\"pattern\":{\"fillmode\":\"overlay\",\"size\":10,\"solidity\":0.2}},\"type\":\"barpolar\"}],\"pie\":[{\"automargin\":true,\"type\":\"pie\"}]},\"layout\":{\"autotypenumbers\":\"strict\",\"colorway\":[\"#636efa\",\"#EF553B\",\"#00cc96\",\"#ab63fa\",\"#FFA15A\",\"#19d3f3\",\"#FF6692\",\"#B6E880\",\"#FF97FF\",\"#FECB52\"],\"font\":{\"color\":\"#2a3f5f\"},\"hovermode\":\"closest\",\"hoverlabel\":{\"align\":\"left\"},\"paper_bgcolor\":\"white\",\"plot_bgcolor\":\"#E5ECF6\",\"polar\":{\"bgcolor\":\"#E5ECF6\",\"angularaxis\":{\"gridcolor\":\"white\",\"linecolor\":\"white\",\"ticks\":\"\"},\"radialaxis\":{\"gridcolor\":\"white\",\"linecolor\":\"white\",\"ticks\":\"\"}},\"ternary\":{\"bgcolor\":\"#E5ECF6\",\"aaxis\":{\"gridcolor\":\"white\",\"linecolor\":\"white\",\"ticks\":\"\"},\"baxis\":{\"gridcolor\":\"white\",\"linecolor\":\"white\",\"ticks\":\"\"},\"caxis\":{\"gridcolor\":\"white\",\"linecolor\":\"white\",\"ticks\":\"\"}},\"coloraxis\":{\"colorbar\":{\"outlinewidth\":0,\"ticks\":\"\"}},\"colorscale\":{\"sequential\":[[0.0,\"#0d0887\"],[0.1111111111111111,\"#46039f\"],[0.2222222222222222,\"#7201a8\"],[0.3333333333333333,\"#9c179e\"],[0.4444444444444444,\"#bd3786\"],[0.5555555555555556,\"#d8576b\"],[0.6666666666666666,\"#ed7953\"],[0.7777777777777778,\"#fb9f3a\"],[0.8888888888888888,\"#fdca26\"],[1.0,\"#f0f921\"]],\"sequentialminus\":[[0.0,\"#0d0887\"],[0.1111111111111111,\"#46039f\"],[0.2222222222222222,\"#7201a8\"],[0.3333333333333333,\"#9c179e\"],[0.4444444444444444,\"#bd3786\"],[0.5555555555555556,\"#d8576b\"],[0.6666666666666666,\"#ed7953\"],[0.7777777777777778,\"#fb9f3a\"],[0.8888888888888888,\"#fdca26\"],[1.0,\"#f0f921\"]],\"diverging\":[[0,\"#8e0152\"],[0.1,\"#c51b7d\"],[0.2,\"#de77ae\"],[0.3,\"#f1b6da\"],[0.4,\"#fde0ef\"],[0.5,\"#f7f7f7\"],[0.6,\"#e6f5d0\"],[0.7,\"#b8e186\"],[0.8,\"#7fbc41\"],[0.9,\"#4d9221\"],[1,\"#276419\"]]},\"xaxis\":{\"gridcolor\":\"white\",\"linecolor\":\"white\",\"ticks\":\"\",\"title\":{\"standoff\":15},\"zerolinecolor\":\"white\",\"automargin\":true,\"zerolinewidth\":2},\"yaxis\":{\"gridcolor\":\"white\",\"linecolor\":\"white\",\"ticks\":\"\",\"title\":{\"standoff\":15},\"zerolinecolor\":\"white\",\"automargin\":true,\"zerolinewidth\":2},\"scene\":{\"xaxis\":{\"backgroundcolor\":\"#E5ECF6\",\"gridcolor\":\"white\",\"linecolor\":\"white\",\"showbackground\":true,\"ticks\":\"\",\"zerolinecolor\":\"white\",\"gridwidth\":2},\"yaxis\":{\"backgroundcolor\":\"#E5ECF6\",\"gridcolor\":\"white\",\"linecolor\":\"white\",\"showbackground\":true,\"ticks\":\"\",\"zerolinecolor\":\"white\",\"gridwidth\":2},\"zaxis\":{\"backgroundcolor\":\"#E5ECF6\",\"gridcolor\":\"white\",\"linecolor\":\"white\",\"showbackground\":true,\"ticks\":\"\",\"zerolinecolor\":\"white\",\"gridwidth\":2}},\"shapedefaults\":{\"line\":{\"color\":\"#2a3f5f\"}},\"annotationdefaults\":{\"arrowcolor\":\"#2a3f5f\",\"arrowhead\":0,\"arrowwidth\":1},\"geo\":{\"bgcolor\":\"white\",\"landcolor\":\"#E5ECF6\",\"subunitcolor\":\"white\",\"showland\":true,\"showlakes\":true,\"lakecolor\":\"white\"},\"title\":{\"x\":0.05},\"mapbox\":{\"style\":\"light\"}}},\"xaxis\":{\"anchor\":\"y\",\"domain\":[0.0,1.0],\"title\":{\"text\":\"x1\"}},\"yaxis\":{\"anchor\":\"x\",\"domain\":[0.0,1.0],\"title\":{\"text\":\"x2\"}},\"legend\":{\"title\":{\"text\":\"lab_or_not\"},\"tracegroupgap\":0},\"margin\":{\"t\":60}},                        {\"responsive\": true}                    ).then(function(){\n",
       "                            \n",
       "var gd = document.getElementById('4e91fffd-f717-44a8-a229-d8f03f7a8f59');\n",
       "var x = new MutationObserver(function (mutations, observer) {{\n",
       "        var display = window.getComputedStyle(gd).display;\n",
       "        if (!display || display === 'none') {{\n",
       "            console.log([gd, 'removed!']);\n",
       "            Plotly.purge(gd);\n",
       "            observer.disconnect();\n",
       "        }}\n",
       "}});\n",
       "\n",
       "// Listen for the removal of the full notebook cells\n",
       "var notebookContainer = gd.closest('#notebook-container');\n",
       "if (notebookContainer) {{\n",
       "    x.observe(notebookContainer, {childList: true});\n",
       "}}\n",
       "\n",
       "// Listen for the clearing of the current output cell\n",
       "var outputEl = gd.closest('.output');\n",
       "if (outputEl) {{\n",
       "    x.observe(outputEl, {childList: true});\n",
       "}}\n",
       "\n",
       "                        })                };                });            </script>        </div>"
      ]
     },
     "metadata": {},
     "output_type": "display_data"
    }
   ],
   "source": [
    "import plotly.express as px\n",
    "fig = px.scatter(pcx_2019, x=\"x1\", y=\"x2\", color=\"lab_or_not\", hover_data=[pcx_2019['title'].values])\n",
    "fig.show()\n",
    "fig.update_layout(title=f\"LabPaper(2019)\")\n",
    "fig.write_html(f\"LabPaper(2019).html\")"
   ]
  }
 ],
 "metadata": {
  "kernelspec": {
   "display_name": "Python 3.9.12 ('InuiLab')",
   "language": "python",
   "name": "python3"
  },
  "language_info": {
   "codemirror_mode": {
    "name": "ipython",
    "version": 3
   },
   "file_extension": ".py",
   "mimetype": "text/x-python",
   "name": "python",
   "nbconvert_exporter": "python",
   "pygments_lexer": "ipython3",
   "version": "3.9.13"
  },
  "orig_nbformat": 4,
  "vscode": {
   "interpreter": {
    "hash": "4bc6fcdb7abebb2d364ad2a72e66d335c728f2a747a1086957e97ff77566f28c"
   }
  }
 },
 "nbformat": 4,
 "nbformat_minor": 2
}
